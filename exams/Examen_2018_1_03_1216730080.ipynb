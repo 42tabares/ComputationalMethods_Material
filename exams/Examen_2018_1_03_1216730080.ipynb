{
 "cells": [
  {
   "cell_type": "markdown",
   "metadata": {},
   "source": [
    "## Examen 3\n",
    "1. Considere una matrix $A$, $3\\times 3$ real, que se pueda diagonalizar con una transformación del  tipo\n",
    "\\begin{align}\n",
    "  A_{\\text{diag}}=P^T\\cdot A \\cdot U\\,,\n",
    "\\end{align}\n",
    "donde $P$ es una matrix de permutación ortogonal, es decir, de entradas 0 y $\\pm 1$, y $U$ es una matriz de rotación en términos de tres ángulos de mezcla: $\\theta_{12}$, $\\theta_{23}$, $\\theta_{13}$\n",
    "\\begin{align*}                                                                  \n",
    "U=\\begin{bmatrix}                                                                 \n",
    "c_{12}c_{13}                    &s_{12}c_{13}                & s_{13}  \\\\       \n",
    "-s_{12}c_{23}-c_{12}s_{23}s_{13}  & c_{12}c_{23}-s_{12}s_{23}s_{13}& s_{23}c_{13}\\\\                            s_{12}s_{23}-c_{12}c_{23}s_{13}  &-c_{12}s_{23}-s_{12}c_{23}s_{13}& c_{23}c_{13}\\\\ \n",
    "\\end{bmatrix}                                                                   \n",
    "\\end{align*}\n",
    "donde $c_{12}=\\cos\\theta_{12}$, etc. Construya una función de python, que acepte como entrada una matrix, y entrege como salida los tres autovectores ordenados de mayor a menor y los tres ángulos de mezcla en grados.  Aplique dicha función sobre la matrix:\n",
    "```\n",
    "A=np.array( [\n",
    " [7.778162746217654799e+00, -7.662363998929994757e+00,  1.337296616780795588e+00],\n",
    " [2.121317112604814703e+00,  2.088449805848296759e+00, -3.720095646918017973e-01],\n",
    " [6.981313463593235256e-03,  6.945916527427932197e-01,  3.939225012258420922e+00]] )\n",
    "```\n",
    "3. Grafique el espacio de configuración elongación-velocidad, de una masa $m=1\\ $Kg  en el extremo de un resorte de constante elástica $k=1\\ $N/m sometida a una fuerza de fricción proporcional a velocidad con coeficiente de fricción $b=1/3\\ $N$\\cdot$s/m. Considere elongaciónes iniciales en el intervalo $-1\\ $m a $1\\ $m y velocidades iniciales entre $-1\\ $m/s y $1\\ $m/s"
   ]
  },
  {
   "cell_type": "markdown",
   "metadata": {},
   "source": [
    "# 1."
   ]
  },
  {
   "cell_type": "code",
   "execution_count": 1,
   "metadata": {},
   "outputs": [
    {
     "name": "stdout",
     "output_type": "stream",
     "text": [
      "Populating the interactive namespace from numpy and matplotlib\n"
     ]
    }
   ],
   "source": [
    "%pylab inline\n",
    "from scipy import integrate\n",
    "from random import random"
   ]
  },
  {
   "cell_type": "markdown",
   "metadata": {},
   "source": [
    "Función auxiliar."
   ]
  },
  {
   "cell_type": "code",
   "execution_count": 6,
   "metadata": {
    "collapsed": true
   },
   "outputs": [],
   "source": [
    "def order_index(v,nv):\n",
    "    order_index=[]\n",
    "    for i in nv:\n",
    "        for j in range(0,len(v)):\n",
    "            if i==v[j]:\n",
    "                order_index.append(j)\n",
    "    return order_index"
   ]
  },
  {
   "cell_type": "markdown",
   "metadata": {},
   "source": [
    "Definiendo la transformación $T$, donde $V=P^{T}$ y $U=U$"
   ]
  },
  {
   "cell_type": "code",
   "execution_count": 29,
   "metadata": {
    "collapsed": true
   },
   "outputs": [],
   "source": [
    "def T(m):\n",
    "    a=np.copy(m)\n",
    "    V=np.linalg.eig(np.dot(a,a.transpose()))[1]\n",
    "    UU=np.linalg.eig(np.dot(a.transpose(),a))[1]\n",
    "    λ0=np.sqrt(np.linalg.eig(np.dot(a.transpose(),a))[0])\n",
    "    #λ0=np.sqrt(np.linalg.eig(np.dot(a,a.transpose()))[0])\n",
    "    λ=sorted(λ0,reverse=True)\n",
    "    indices=order_index(λ,λ0)\n",
    "    Ur=np.copy(UU)\n",
    "    \n",
    "    U=np.hstack(  [ np.reshape( UU[:,indices[0]],(3,1)  ),\n",
    "                 np.reshape( UU[:,indices[1]],(3,1)  ),\n",
    "                 np.reshape( UU[:,indices[2]],(3,1)  )] )\n",
    "\n",
    "    θ13=np.arcsin(U[0][2])\n",
    "    θ12=np.arcsin(U[0][1]/np.cos(θ13))\n",
    "    θ23=np.arcsin(U[1][2]/np.cos(θ13))\n",
    "    θ0=[θ13,θ12,θ23]\n",
    "    θ=degrees(θ0)\n",
    "    return λ,θ"
   ]
  },
  {
   "cell_type": "code",
   "execution_count": 30,
   "metadata": {
    "collapsed": true
   },
   "outputs": [],
   "source": [
    "A=np.array( [\n",
    "[7.778162746217654799e+00, -7.662363998929994757e+00,  1.337296616780795588e+00],\n",
    "[2.121317112604814703e+00,  2.088449805848296759e+00, -3.720095646918017973e-01],\n",
    "[6.981313463593235256e-03,  6.945916527427932197e-01,  3.939225012258420922e+00]] )"
   ]
  },
  {
   "cell_type": "code",
   "execution_count": 32,
   "metadata": {
    "collapsed": true
   },
   "outputs": [],
   "source": [
    "l,th=T(A)"
   ]
  },
  {
   "cell_type": "markdown",
   "metadata": {},
   "source": [
    "Autovalores."
   ]
  },
  {
   "cell_type": "code",
   "execution_count": 33,
   "metadata": {},
   "outputs": [
    {
     "data": {
      "text/plain": [
       "[11.0, 3.9999999999999996, 3.0000000000000004]"
      ]
     },
     "execution_count": 33,
     "metadata": {},
     "output_type": "execute_result"
    }
   ],
   "source": [
    "l"
   ]
  },
  {
   "cell_type": "markdown",
   "metadata": {},
   "source": [
    "Ángulos de mezcla, $[ \\theta_{13}$, $\\theta_{12}$, $\\theta_{23}]$"
   ]
  },
  {
   "cell_type": "code",
   "execution_count": 34,
   "metadata": {
    "scrolled": true
   },
   "outputs": [
    {
     "data": {
      "text/plain": [
       "array([-44.99991273,   0.14142121, -79.90000015])"
      ]
     },
     "execution_count": 34,
     "metadata": {},
     "output_type": "execute_result"
    }
   ],
   "source": [
    "th"
   ]
  },
  {
   "cell_type": "markdown",
   "metadata": {},
   "source": [
    "# 2."
   ]
  },
  {
   "cell_type": "markdown",
   "metadata": {},
   "source": [
    "Parámetros del problema."
   ]
  },
  {
   "cell_type": "code",
   "execution_count": 40,
   "metadata": {
    "collapsed": true
   },
   "outputs": [],
   "source": [
    "m=1 #Kg\n",
    "k=1 #N/m\n",
    "b=1/3 #N*s/m"
   ]
  },
  {
   "cell_type": "markdown",
   "metadata": {},
   "source": [
    "Condiciones iniciales."
   ]
  },
  {
   "cell_type": "code",
   "execution_count": 41,
   "metadata": {
    "collapsed": true
   },
   "outputs": [],
   "source": [
    "x0=uniform(-1,1) #m\n",
    "v0=uniform(-1,1) #m/s\n",
    "y0=[x0,v0]"
   ]
  },
  {
   "cell_type": "markdown",
   "metadata": {},
   "source": [
    "Sabemos que la fuerza sobre el resote es $F=-kx-bv$, donde \n",
    "* $k$: constante de elasticidad del resorte.\n",
    "* $x$: elongación.\n",
    "* $b$: constante de proporcionalidad.\n",
    "* $v$: velocidad de la masa."
   ]
  },
  {
   "cell_type": "code",
   "execution_count": 42,
   "metadata": {
    "collapsed": true
   },
   "outputs": [],
   "source": [
    "def dU_dt(U,t,k,b):\n",
    "    x,v=U\n",
    "    return [v,-k*x-b*v]"
   ]
  },
  {
   "cell_type": "code",
   "execution_count": 57,
   "metadata": {
    "collapsed": true
   },
   "outputs": [],
   "source": [
    "t=np.linspace(0,10,1000)"
   ]
  },
  {
   "cell_type": "code",
   "execution_count": 58,
   "metadata": {
    "collapsed": true
   },
   "outputs": [],
   "source": [
    "U=integrate.odeint(dU_dt,y0,t,args=(k,b))"
   ]
  },
  {
   "cell_type": "code",
   "execution_count": 72,
   "metadata": {
    "scrolled": false
   },
   "outputs": [
    {
     "data": {
      "image/png": "[encoded data removed]",
      "text/plain": [
       "<matplotlib.figure.Figure at 0x7f9779c28518>"
      ]
     },
     "metadata": {},
     "output_type": "display_data"
    }
   ],
   "source": [
    "plt.plot(U[:,0],U[:,1],label='Espacio de fase')\n",
    "plt.xlabel('Posición[m],x0={}'.format(round(x0,8)))\n",
    "plt.ylabel('Velocidad[m/s],v0={}'.format(round(v0,8)))\n",
    "plt.legend()\n",
    "plt.grid()"
   ]
  },
  {
   "cell_type": "code",
   "execution_count": null,
   "metadata": {
    "collapsed": true
   },
   "outputs": [],
   "source": []
  }
 ],
 "metadata": {
  "kernelspec": {
   "display_name": "Python 3",
   "language": "python",
   "name": "python3"
  },
  "language_info": {
   "codemirror_mode": {
    "name": "ipython",
    "version": 3
   },
   "file_extension": ".py",
   "mimetype": "text/x-python",
   "name": "python",
   "nbconvert_exporter": "python",
   "pygments_lexer": "ipython3",
   "version": "3.4.2"
  }
 },
 "nbformat": 4,
 "nbformat_minor": 2
}
