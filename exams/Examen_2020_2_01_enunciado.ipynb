{
 "cells": [
  {
   "cell_type": "markdown",
   "metadata": {
    "colab_type": "text",
    "id": "view-in-github"
   },
   "source": [
    "<a href=\"https://colab.research.google.com/github/restrepo/ComputationalMethods/blob/master/exams/Examen_2020_2_01_enunciado.ipynb\" target=\"_parent\"><img src=\"https://colab.research.google.com/assets/colab-badge.svg\" alt=\"Open In Colab\"/></a>"
   ]
  },
  {
   "cell_type": "markdown",
   "metadata": {
    "colab_type": "text",
    "id": "bWVchymOoRBb"
   },
   "source": [
    "# Primer Examen 15%"
   ]
  },
  {
   "cell_type": "markdown",
   "metadata": {
    "colab_type": "text",
    "id": "cuGCz-DOoRBc"
   },
   "source": [
    "## Ejercicio 1\n",
    "El siguiente url entrega 100 artículos (ver`/work?rows=100` al final del url) de la revista con el ISSN: 1029-8479 correspondiente a \"Journal of High Energy Physics\" en formato JSON usando el API de CrossRef:\n",
    "\n",
    "https://api.crossref.org/journals/1029-8479/works?rows=100\n",
    "\n",
    "La base de datos con los 100 artículos que tambíen se puede cargar en otro DataFrame de Pandas, se encuentra anidada en la celda con fila `'items'` y columna `'messages'` la cual se puede obtener con el método `.loc['items','message']` del DataFrame original.\n",
    "\n",
    "Obtenga la lista de DOIs para los artículos de Alessandro Strumia en esa base de datos anidada"
   ]
  },
  {
   "cell_type": "markdown",
   "metadata": {
    "colab_type": "text",
    "id": "E6U6cMUsoRBc"
   },
   "source": [
    "## Ejercicio 2\n",
    "2a) Genere un polinomio de numpy con 7 raices aleatorias entre 1 y 10, es decir\n",
    "$$ p(x)=(x-x_0)\\cdot(x-x_1)\\cdots(x-x_6), $$\n",
    "donde $(x_0,x_1,\\ldots x_6)$ son números aleatorios entre 1 y 10.\n",
    "\n",
    "2b) Encuentre los puntos críticos del polinomio: las raices de la derivada el polinomio.\n",
    "\n",
    "2c) Con alguno de los métodos para encontrar mínimos compruebe que el punto crítico con menor (mayor) valor para el polinomio, corresponde al mínimo (máximo) global del polinomio en el rango de 1 a 10.\n",
    "\n",
    "2d) Grafique el polinomío incluyendo los puntos criticos."
   ]
  },
  {
   "cell_type": "code",
   "execution_count": null,
   "metadata": {},
   "outputs": [],
   "source": []
  }
 ],
 "metadata": {
  "colab": {
   "include_colab_link": true,
   "name": "Examen_2020_1_01_enunciado.ipynb",
   "provenance": []
  },
  "kernelspec": {
   "display_name": "Python 3",
   "language": "python",
   "name": "python3"
  },
  "language_info": {
   "codemirror_mode": {
    "name": "ipython",
    "version": 3
   },
   "file_extension": ".py",
   "mimetype": "text/x-python",
   "name": "python",
   "nbconvert_exporter": "python",
   "pygments_lexer": "ipython3",
   "version": "3.7.3"
  },
  "toc": {
   "colors": {
    "hover_highlight": "#DAA520",
    "running_highlight": "#FF0000",
    "selected_highlight": "#FFD700"
   },
   "moveMenuLeft": true,
   "nav_menu": {
    "height": "30px",
    "width": "252px"
   },
   "navigate_menu": true,
   "number_sections": true,
   "sideBar": true,
   "threshold": 4,
   "toc_cell": false,
   "toc_section_display": "block",
   "toc_window_display": false
  }
 },
 "nbformat": 4,
 "nbformat_minor": 4
}
