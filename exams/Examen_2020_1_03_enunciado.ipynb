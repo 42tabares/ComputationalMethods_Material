{
 "cells": [
  {
   "cell_type": "markdown",
   "metadata": {},
   "source": [
    "Resolver las ecuaciones diferenciales\n",
    "$$\n",
    "\\frac{d}{d t} \\alpha_{a}^{-1}=-\\frac{b_{a}}{2 \\pi} \\quad(a=1,2,3),\n",
    "$$\n",
    "donde, para un valor inicial del parametro, $t$, $t_0=4.5$ (adimensional) \n",
    "$$\n",
    "\\left(\\alpha_{1}, \\alpha_{2}, \\alpha_{3}\\right)=(0.01694, 0.03375, 0.1176),\n",
    "$$\n",
    "en dos casos:\n",
    "$$\n",
    "\\left(b_{1}, b_{2}, b_{3}\\right)=\\left\\{\\begin{array}{ll}\n",
    "(41 / 10,-19 / 6,-7) & \\text { Standard Model } \\\\\n",
    "(33 / 5,1,-3) & \\text { MSSM }\n",
    "\\end{array}\\right.\n",
    "$$\n",
    "Demostrar que en el rango: $t_0$ a $t_{\\text{fin}}=50$ solo en el segundo caso: MSSM, las tres funciones $\\alpha_a^{-1}$ convergen a un punto, y determinar el correspondiente valor de $t$. "
   ]
  },
  {
   "cell_type": "code",
   "execution_count": null,
   "metadata": {},
   "outputs": [],
   "source": []
  }
 ],
 "metadata": {
  "kernelspec": {
   "display_name": "Python 3",
   "language": "python",
   "name": "python3"
  },
  "language_info": {
   "codemirror_mode": {
    "name": "ipython",
    "version": 3
   },
   "file_extension": ".py",
   "mimetype": "text/x-python",
   "name": "python",
   "nbconvert_exporter": "python",
   "pygments_lexer": "ipython3",
   "version": "3.5.3"
  }
 },
 "nbformat": 4,
 "nbformat_minor": 4
}
