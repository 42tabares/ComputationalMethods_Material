{
 "cells": [
  {
   "cell_type": "markdown",
   "metadata": {},
   "source": [
    "# primer taller\n",
    "## Un vehículo parte del reposo en un punto con una aceleración constante de $a_1$. 10 segundos después pasa por el mismo punto, y en la misma dirección, un segundo vehículo con una rapidez de 10 m/s y con aceleración constante $a_2$. Calcule el punto de encuentro: \n",
    "1. Gráficamente \n",
    "1. Encontrando las raíces del polinomio generado a partir de igualar las dos ecuaciones de movimiento.\n",
    "1. Grafique el polinomio generado\n",
    "\n",
    "_Ayuda:_\n",
    "La ecuación de movimiento para el movimiento uniformemente acelerado es:\n",
    "\\begin{align}\n",
    "x=x_0+v_0 (t-t_0)+\\tfrac{1}{2} a (t-t_0)^2\\,,\n",
    "\\end{align}\n",
    "donde\n",
    "* $x_0$ es la posición inicial\n",
    "* $v_0$ es la rapidez inicial\n",
    "* $t_0$ es el tiempo inicial\n",
    "\n",
    "Ejecute la siguiente celda para fijar los valores de las aceleraciones en su caso"
   ]
  },
  {
   "cell_type": "code",
   "execution_count": 29,
   "metadata": {},
   "outputs": [
    {
     "name": "stdout",
     "output_type": "stream",
     "text": [
      "Populating the interactive namespace from numpy and matplotlib\n"
     ]
    },
    {
     "name": "stderr",
     "output_type": "stream",
     "text": [
      "/usr/local/lib/python3.4/dist-packages/IPython/core/magics/pylab.py:160: UserWarning: pylab import has clobbered these variables: ['f']\n",
      "`%matplotlib` prevents importing * from pylab and numpy\n",
      "  \"\\n`%matplotlib` prevents importing * from pylab and numpy\"\n"
     ]
    }
   ],
   "source": [
    "import numpy as np\n",
    "import matplotlib.pyplot as plt\n",
    "from scipy import integrate\n",
    "from scipy import optimize\n",
    "%pylab inline\n"
   ]
  },
  {
   "cell_type": "code",
   "execution_count": 68,
   "metadata": {
    "scrolled": true
   },
   "outputs": [
    {
     "name": "stderr",
     "output_type": "stream",
     "text": [
      "/usr/local/lib/python3.4/dist-packages/matplotlib/axes/_axes.py:545: UserWarning: No labelled objects found. Use label='...' kwarg on individual plots.\n",
      "  warnings.warn(\"No labelled objects found. \"\n"
     ]
    },
    {
     "name": "stdout",
     "output_type": "stream",
     "text": [
      "tiempo de encuentro a los 30.0 segundos y a una distancia de 1800.0 metros\n"
     ]
    },
    {
     "data": {
      "image/png": "[encoded data removed]",
      "text/plain": [
       "<matplotlib.figure.Figure at 0x7f44ee9efcf8>"
      ]
     },
     "metadata": {},
     "output_type": "display_data"
    }
   ],
   "source": [
    "#vehiculo 1 ,vo=0,to=0,xo=0 a1=4  vehiculo 2 xo=0, v1=10, to=10, a2=8\n",
    "a1=4\n",
    "a2=8\n",
    "v2=10\n",
    "t2=10\n",
    "def x1(t):\n",
    "    return (0.5*a1*t**2)\n",
    "def x2(t):\n",
    "    return v2*(t-t2)+(0.5*a2*(t-t2)**2)\n",
    "def f(t):\n",
    "    return (x1(t))-(x2(t))\n",
    "\n",
    "t=np.linspace(1,35,80)\n",
    "#metodo para hallar tf\n",
    "tf=optimize.newton(f,40)   # valor optimizado\n",
    "\n",
    "#grafica \n",
    "\n",
    "plt.plot(t,x1(t),'b-')\n",
    "plt.plot(t,x2(t),'r_')\n",
    "plt.grid()\n",
    "plt.legend()\n",
    "plt.plot(tf,x1(tf),'k*',markersize=16)\n",
    "\n",
    "print('tiempo de encuentro a los {} segundos y a una distancia de {} metros'.format(tf,x1(tf)))"
   ]
  },
  {
   "cell_type": "code",
   "execution_count": 30,
   "metadata": {
    "collapsed": true
   },
   "outputs": [],
   "source": [
    "# actvity 29/08/2018 us np.poly1d([]) to make \n",
    "def x(x0,t0,v0,a):\n",
    "    return np.poly1d([0.5*a,v0-a*t0,x0-v0*t0+0.5*a*to**2])\n",
    "\n",
    "x1=x(0,0,0,4)\n",
    "x2=x()"
   ]
  }
 ],
 "metadata": {
  "kernelspec": {
   "display_name": "Python 3",
   "language": "python",
   "name": "python3"
  },
  "language_info": {
   "codemirror_mode": {
    "name": "ipython",
    "version": 3
   },
   "file_extension": ".py",
   "mimetype": "text/x-python",
   "name": "python",
   "nbconvert_exporter": "python",
   "pygments_lexer": "ipython3",
   "version": "3.4.2"
  }
 },
 "nbformat": 4,
 "nbformat_minor": 2
}
