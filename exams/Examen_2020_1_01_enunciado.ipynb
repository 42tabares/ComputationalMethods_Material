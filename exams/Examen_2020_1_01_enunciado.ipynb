{
 "cells": [
  {
   "cell_type": "markdown",
   "metadata": {},
   "source": [
    "# Primer Examen 15%"
   ]
  },
  {
   "cell_type": "markdown",
   "metadata": {},
   "source": [
    "## Ejercicio 1\n",
    "Encuentre las raices positivas de:\n",
    "$$x^{2}-4 x \\sin x+(2 \\sin x)^{2}=0$$"
   ]
  },
  {
   "cell_type": "markdown",
   "metadata": {},
   "source": [
    "## Ejercicio 2\n",
    "La rapidez $v$ de un cohete en un vuelo vertical cerca a la superficie de la tierra puede ser aproximada por \n",
    "$$\n",
    "v=u \\ln \\frac{M_{0}}{M_{0}-\\dot{m} t}-g t\n",
    "$$\n",
    "donde\n",
    "* $u$ en $\\mathrm{m} / \\mathrm{s}=$, es la velocidad de expulsión del combustible relativa al cohete.\n",
    "* $M_{0}$ en $\\mathrm{kg}=$ es la masa del cohete al tiempo de despegue. \n",
    "* $\\dot{m}$ en $\\mathrm{kg} / \\mathrm{s}=$ es la tasa consumo de combustible \n",
    "* $g=9.8 \\mathrm{m} / \\mathrm{s}^{2}$ es la aceleración gravitacional\n",
    "* $t=$ en $s$, tiempo medido desde el despegue\n",
    "\n",
    "Para los datos en: https://raw.githubusercontent.com/restrepo/ComputationalMethods/master/data/rocket.json\n",
    "\n",
    "1. Lea los datos en un `DataFrame` de `pandas` y verifique que $\\dot{m}$ (`mdot`) es la única columna que está cambiando.\n",
    "1. Agregue una columna al `DataFrame` con el tiempo que tarda el cohete para alcanzar la velocidad del sonido $(335 \\mathrm{m} / \\mathrm{s})$ para cada valor de $\\dot{m}$\n",
    "2. Gráfique dicho tiempo en función de $\\dot{m}$ rotulando apropiadamente los ejes"
   ]
  }
 ],
 "metadata": {
  "kernelspec": {
   "display_name": "Python 3",
   "language": "python",
   "name": "python3"
  },
  "language_info": {
   "codemirror_mode": {
    "name": "ipython",
    "version": 3
   },
   "file_extension": ".py",
   "mimetype": "text/x-python",
   "name": "python",
   "nbconvert_exporter": "python",
   "pygments_lexer": "ipython3",
   "version": "3.5.3"
  },
  "toc": {
   "colors": {
    "hover_highlight": "#DAA520",
    "running_highlight": "#FF0000",
    "selected_highlight": "#FFD700"
   },
   "moveMenuLeft": true,
   "nav_menu": {
    "height": "30px",
    "width": "252px"
   },
   "navigate_menu": true,
   "number_sections": true,
   "sideBar": true,
   "threshold": 4,
   "toc_cell": false,
   "toc_section_display": "block",
   "toc_window_display": false
  }
 },
 "nbformat": 4,
 "nbformat_minor": 4
}
