{
 "cells": [
  {
   "cell_type": "markdown",
   "metadata": {
    "colab_type": "text",
    "id": "view-in-github"
   },
   "source": [
    "<a href=\"https://colab.research.google.com/github/restrepo/ComputationalMethods/blob/master/exams/Examen_2020_1_01_enunciado.ipynb\" target=\"_parent\"><img src=\"https://colab.research.google.com/assets/colab-badge.svg\" alt=\"Open In Colab\"/></a>"
   ]
  },
  {
   "cell_type": "markdown",
   "metadata": {
    "colab_type": "text",
    "id": "bWVchymOoRBb"
   },
   "source": [
    "# Primer Examen 15%"
   ]
  },
  {
   "cell_type": "markdown",
   "metadata": {
    "colab_type": "text",
    "id": "cuGCz-DOoRBc"
   },
   "source": [
    "## Ejercicio 1\n",
    "Encuentre las raices positivas de:\n",
    "$$x^{2}-4 x \\sin x+(2 \\sin x)^{2}=0$$"
   ]
  },
  {
   "cell_type": "markdown",
   "metadata": {
    "colab_type": "text",
    "id": "E6U6cMUsoRBc"
   },
   "source": [
    "## Ejercicio 2\n",
    "La rapidez $v$ de un cohete en un vuelo vertical cerca a la superficie de la tierra puede ser aproximada por \n",
    "$$\n",
    "v=u \\ln \\frac{M_{0}}{M_{0}-\\dot{m} t}-g t\n",
    "$$\n",
    "donde\n",
    "* $u$ en $\\mathrm{m} / \\mathrm{s}$, es la velocidad de expulsión del combustible relativa al cohete.\n",
    "* $M_{0}$ en $\\mathrm{kg}$ es la masa del cohete al tiempo de despegue. \n",
    "* $\\dot{m}$ en $\\mathrm{kg} / \\mathrm{s}$ es la tasa consumo de combustible \n",
    "* $g=9.8 \\mathrm{m} / \\mathrm{s}^{2}$ es la aceleración gravitacional\n",
    "* $t$ en $s$, tiempo medido desde el despegue\n",
    "\n",
    "Para los datos en: https://raw.githubusercontent.com/restrepo/ComputationalMethods/master/data/rocket.json\n",
    "\n",
    "1. Lea los datos en un `DataFrame` de `pandas` y verifique que $\\dot{m}$ (`mdot`) es la única columna que está cambiando.\n",
    "1. Agregue una columna al `DataFrame` con el tiempo que tarda el cohete para alcanzar la velocidad del sonido $(335 \\mathrm{m} / \\mathrm{s})$ para cada valor de $\\dot{m}$\n",
    "2. Gráfique dicho tiempo en función de $\\dot{m}$ rotulando apropiadamente los ejes"
   ]
  },
  {
   "cell_type": "code",
   "execution_count": null,
   "metadata": {
    "colab": {},
    "colab_type": "code",
    "id": "NrhxLkBhqhLh"
   },
   "outputs": [],
   "source": []
  }
 ],
 "metadata": {
  "colab": {
   "include_colab_link": true,
   "name": "Examen_2020_1_01_enunciado.ipynb",
   "provenance": []
  },
  "kernelspec": {
   "display_name": "Python 3 (ipykernel)",
   "language": "python",
   "name": "python3"
  },
  "language_info": {
   "codemirror_mode": {
    "name": "ipython",
    "version": 3
   },
   "file_extension": ".py",
   "mimetype": "text/x-python",
   "name": "python",
   "nbconvert_exporter": "python",
   "pygments_lexer": "ipython3",
   "version": "3.7.3"
  },
  "toc": {
   "colors": {
    "hover_highlight": "#DAA520",
    "running_highlight": "#FF0000",
    "selected_highlight": "#FFD700"
   },
   "moveMenuLeft": true,
   "nav_menu": {
    "height": "30px",
    "width": "252px"
   },
   "navigate_menu": true,
   "number_sections": true,
   "sideBar": true,
   "threshold": 4,
   "toc_cell": false,
   "toc_section_display": "block",
   "toc_window_display": false
  }
 },
 "nbformat": 4,
 "nbformat_minor": 4
}
