{
 "cells": [
  {
   "cell_type": "markdown",
   "metadata": {},
   "source": [
    "# Segundo examen\n",
    "\n",
    "<div style=\"float: right;\" markdown=\"1\">\n",
    "    <img src=\"https://github.com/restrepo/ComputationalMethods/raw/master/material/figures/leastaction_pendulum.svg?sanitize=true\">\n",
    "</div>\n",
    "Un observador mirando el movimiento de un péndulo simple con una masa en el extremo de $0.2\\ \\text{Kg}$ y una longitud  $l=1\\ \\text{m}$, activa un cronómetro cuando el péndulo, oscilando de izquierda a derecha, se encuentra en su posición vertical. El observador detiene el cronómetro después de un tiempo de $t_f=0.5026\\ \\text{s}$, justo cuando el péndulo alcanza su máxima altura formando un ángulo de $\\theta_0=10^\\circ$ con respecto a la vertical. Por lo tanto $t_f=T/4$, donde , donde $T$ es el período de la oscilación del péndulo simple.\n",
    "\n",
    "1. Minimizando la Acción del péndulo simple, la cual será explicada a continuación,  encuentre la trayectoria angular que describe el extremo del péndulo durante el tiempo de observación: en el plano del ángulo barrido en radianes en función del tiempo esquematizado en la figura. \n",
    "2. Grafique dicha trayectoria en plano $\\theta(t)$ vs $t$ y compare con la superposición del gráfico de la ecuación de movimiento $\\theta(t)=\\theta_0 \\sin(\\omega t)$, donde $\\omega$ es la frecuencia angular de la oscilación del péndulo simple, dada por $\\omega=2\\pi/T$.\n",
    "3. Compruebe que la trayectoría que minimiza la Acción también conserva la energía total: $E=K+V$, donde $K$ es la energía cinética del péndulo y $V$ es su energía potencial.\n",
    "\n",
    "## Acción para un péndulo simple\n",
    "\n",
    "<div style=\"float: right;\" markdown=\"1\">\n",
    "    <img src=\"https://github.com/restrepo/ComputationalMethods/raw/master/material/figures/pendulum.png\">\n",
    "</div>\n",
    "Vamos a tomar como origen del sistema de referencia el extremo inferior del péndulo en su posición vertical. Por lo tanto, la altura del extremo inferior del péndulo a un ángulo $\\theta$ com se muestra en la figura, es\n",
    "$$\n",
    "y=l-l\\cos\\theta=l(1-\\cos\\theta)\\,.\n",
    "$$\n",
    "Entonces\n",
    "\n",
    "* Energía potencial\n",
    "$$\n",
    "V=mgy=mgl(1-\\cos\\theta).\n",
    "$$\n",
    "* Como la velocidad de la masa es $v=l\\dot\\theta$, tenemos que la energía cinética es\n",
    "$$\n",
    "K=\\frac{1}{2}m v^2=\\frac{1}{2}ml^2\\dot\\theta^2\\,,\n",
    "$$\n",
    "donde $\\dot\\theta=d\\theta/dt\\,.$. \n",
    "\n",
    "La Lagrangiana, en función de las coordenadas generalizadas $\\theta$ y $\\dot\\theta$ es\n",
    "$$\n",
    "L=K-V=\\frac{1}{2}ml^2\\dot\\theta^2-mgl(1-\\cos\\theta)\\,,\n",
    "$$\n",
    "y, finalmente, la Acción a minimizar para encontrar la trayectoria física $\\theta(t)$, es\n",
    "$$\n",
    "S=\\int_0^{t_f} L\\,\\operatorname{d}t\\,.\n",
    "$$\n",
    "\n",
    "Para los detalles ver: http://www.aoengr.com/Dynamics/LagrangianMechanicsPendulum.pdf"
   ]
  },
  {
   "cell_type": "markdown",
   "metadata": {},
   "source": [
    "## Solución\n",
    "* https://en.wikipedia.org/wiki/Pendulum_(mathematics)\n",
    "* https://es.wikipedia.org/wiki/P%C3%A9ndulo_simple\n",
    "* http://www.aoengr.com/Dynamics/LagrangianMechanicsPendulum.pdf"
   ]
  },
  {
   "cell_type": "markdown",
   "metadata": {},
   "source": [
    "0) Preámbulo"
   ]
  },
  {
   "cell_type": "code",
   "execution_count": 306,
   "metadata": {},
   "outputs": [
    {
     "name": "stdout",
     "output_type": "stream",
     "text": [
      "Populating the interactive namespace from numpy and matplotlib\n"
     ]
    },
    {
     "name": "stderr",
     "output_type": "stream",
     "text": [
      "/usr/local/lib/python3.5/dist-packages/IPython/core/magics/pylab.py:160: UserWarning: pylab import has clobbered these variables: ['f']\n",
      "`%matplotlib` prevents importing * from pylab and numpy\n",
      "  \"\\n`%matplotlib` prevents importing * from pylab and numpy\"\n"
     ]
    }
   ],
   "source": [
    "%pylab inline"
   ]
  },
  {
   "cell_type": "code",
   "execution_count": 307,
   "metadata": {},
   "outputs": [],
   "source": [
    "from scipy import interpolate\n",
    "from scipy.misc import derivative\n",
    "from scipy import integrate\n",
    "import numpy as np"
   ]
  },
  {
   "cell_type": "markdown",
   "metadata": {},
   "source": [
    "Como en el caso de caida libre definimos la Acción"
   ]
  },
  {
   "cell_type": "code",
   "execution_count": 308,
   "metadata": {},
   "outputs": [],
   "source": [
    "def S(θ,t1=0,t2=0.502,m=0.2,l=1,θini=0,θend=0.175,g=9.80665):\n",
    "    θ=np.asarray(θ)\n",
    "    t=np.linspace(t1,t2,θ.shape[0])\n",
    "    Δt=t[1:]-t[:-1]\n",
    "    #Fix initial and final point\n",
    "    θ[0]=θini\n",
    "    θ[-1]=θend\n",
    "    T=0.5*m*l**2*(θ[1:]-θ[:-1])**2/Δt**2\n",
    "    V=m*g*l*( 1- np.cos( θ[1:] ) )\n",
    "    return np.dot( ( T - V ), Δt) "
   ]
  },
  {
   "cell_type": "markdown",
   "metadata": {},
   "source": [
    "y la función para minimizar la acción con `fmin_powell`"
   ]
  },
  {
   "cell_type": "code",
   "execution_count": 309,
   "metadata": {},
   "outputs": [],
   "source": [
    "import scipy.optimize as optimize\n",
    "def θfit(n,t1=0,t2=0.502,θ0=[],m=0.2,l=1,θini=0,θend=0.175,ftol=1E-8,full_output=1):\n",
    "    '''Find the array of n components that minimizes the action S(x)\n",
    "\n",
    "    :Parameters:\n",
    "\n",
    "    n: int\n",
    "        dimension of the ndarray θ  that minimizes the action  \n",
    "            S(θ,t1,t2,θ0,m,l)\n",
    "    θ,t1,t2,θ0,m,l: numbers\n",
    "       optional parameters for the action\n",
    "    θ0: list of len n: \n",
    "        Initial guess to start the minimization\n",
    "    θini:\n",
    "        Initial boundary condition\n",
    "    θend:\n",
    "        Final boundary condition\n",
    "        \n",
    "    ftol: number\n",
    "        acceptable relative error in S(x) for convergence.\n",
    "    full_output: int\n",
    "        Parameter to be passed to `fmin_powell`\n",
    "\n",
    "    :Returns: a\n",
    "    \n",
    "    a: tuple \n",
    "        with the `fmin_powell` according to `full_output` option        \n",
    "    '''  \n",
    "    if len(θ0)==0:\n",
    "        θ0=np.zeros(n)\n",
    "    a=optimize.fmin_powell(S,θ0,args=(t1,t2,m,l,θini,θend),ftol=ftol,full_output=full_output)\n",
    "    θ=a[0]\n",
    "    θ[0]=θini;θ[-1]=θend\n",
    "    Smin=a\n",
    "    return Smin"
   ]
  },
  {
   "cell_type": "code",
   "execution_count": 310,
   "metadata": {},
   "outputs": [
    {
     "data": {
      "text/plain": [
       "0.17453292519943295"
      ]
     },
     "execution_count": 310,
     "metadata": {},
     "output_type": "execute_result"
    }
   ],
   "source": [
    "θ_0=10*np.pi/180\n",
    "θ_0"
   ]
  },
  {
   "cell_type": "markdown",
   "metadata": {},
   "source": [
    "Para generalizar a cualquier ángulo usaremos la expresión analítica para calcular el período de un péndulo simple para cualquier amplitud. Para pequeñas oscilaciones el período es independiente del ángulo máximo, $\\theta_0$, pero en general depende de ese ángulo de acuerdo a la siguiente integral tomada de la [Wikipedia](https://en.wikipedia.org/wiki/Pendulum_(mathematics)#Arbitrary-amplitude_period)\n",
    "$$\n",
    "T(\\theta_0)=\\frac{2T_0}{\\pi}\\int_0^{\\pi/2} \\frac{1}{1-\\sin^2(\\theta_0/2)\\sin^2u}\\operatorname{d}u\\,, \n",
    "$$\n",
    "donde \n",
    "$$\n",
    "T_0=2\\pi\\sqrt{\\frac{l}{g}}\\qquad\\to\\qquad \\omega^2=(\\frac{2\\pi}{T_0})^2=\\frac{g}{l}\\,,\n",
    "$$\n",
    "es el período de oscilación para pequeñas oscilaciones.\n",
    "\n",
    "Por consiguiente, $T(\\theta_0)/4$ es el tiempo que mide el observado a un determinado ángulo máximo $\\theta_0$,"
   ]
  },
  {
   "cell_type": "markdown",
   "metadata": {},
   "source": [
    "A continuación implementamos dicha integral"
   ]
  },
  {
   "cell_type": "code",
   "execution_count": 313,
   "metadata": {},
   "outputs": [],
   "source": [
    "def T0(l,g=9.80665):\n",
    "    return 2*np.pi*np.sqrt(l/g)\n",
    "def T(θ,l=1,g=9.80665):\n",
    "    k=np.sin(θ/2)\n",
    "    return (2*T0(l,g)/np.pi)*integrate.quad(lambda u:(1)/(np.sqrt(1-k**2*np.sin(u)**2)),0,np.pi/2)[0]    "
   ]
  },
  {
   "cell_type": "markdown",
   "metadata": {},
   "source": [
    "y ahora podemos comprobar el periódo obtenido por el observador"
   ]
  },
  {
   "cell_type": "code",
   "execution_count": 316,
   "metadata": {},
   "outputs": [
    {
     "data": {
      "text/plain": [
       "(0.17453292519943295,\n",
       " 9.769350486461288,\n",
       " 9.806649999999996,\n",
       " 2.010235892602306,\n",
       " 2.0064092925890407)"
      ]
     },
     "execution_count": 316,
     "metadata": {},
     "output_type": "execute_result"
    }
   ],
   "source": [
    "g=9.80665\n",
    "l=1\n",
    "ω=2*np.pi/T(θ_0)\n",
    "ω0=2*np.pi/T0(l,g)\n",
    "θ_0,ω**2,ω0**2,T(θ_0),T0(l,g)"
   ]
  },
  {
   "cell_type": "code",
   "execution_count": null,
   "metadata": {},
   "outputs": [],
   "source": []
  },
  {
   "cell_type": "markdown",
   "metadata": {},
   "source": [
    "correspondiente a un $t_f$"
   ]
  },
  {
   "cell_type": "code",
   "execution_count": 237,
   "metadata": {},
   "outputs": [
    {
     "data": {
      "text/plain": [
       "0.5026"
      ]
     },
     "execution_count": 237,
     "metadata": {},
     "output_type": "execute_result"
    }
   ],
   "source": [
    "round(T(θ_0)/4,4)"
   ]
  },
  {
   "cell_type": "markdown",
   "metadata": {},
   "source": [
    "que difiere del esperado para oscilaciones pequeñas en una milésima de segundo"
   ]
  },
  {
   "cell_type": "code",
   "execution_count": 238,
   "metadata": {},
   "outputs": [
    {
     "data": {
      "text/plain": [
       "0.5016"
      ]
     },
     "execution_count": 238,
     "metadata": {},
     "output_type": "execute_result"
    }
   ],
   "source": [
    "round( T0(l,g)/4,4)"
   ]
  },
  {
   "cell_type": "markdown",
   "metadata": {},
   "source": [
    "Procedemos a comprobar la definición de la Acción"
   ]
  },
  {
   "cell_type": "code",
   "execution_count": 239,
   "metadata": {},
   "outputs": [
    {
     "data": {
      "text/plain": [
       "-0.0024939600478661858"
      ]
     },
     "execution_count": 239,
     "metadata": {},
     "output_type": "execute_result"
    }
   ],
   "source": [
    "S([0.,0.1,0.15,0.175])"
   ]
  },
  {
   "cell_type": "markdown",
   "metadata": {},
   "source": [
    "1) Ahora haremos la minimización de la Acción con 20 puntos"
   ]
  },
  {
   "cell_type": "code",
   "execution_count": 240,
   "metadata": {},
   "outputs": [
    {
     "name": "stdout",
     "output_type": "stream",
     "text": [
      "Optimization terminated successfully.\n",
      "         Current function value: -0.000413\n",
      "         Iterations: 35\n",
      "         Function evaluations: 9628\n"
     ]
    },
    {
     "data": {
      "text/plain": [
       "array([0.        , 0.01442607, 0.02875316, 0.04288301, 0.05671872,\n",
       "       0.0701655 , 0.08313127, 0.09552733, 0.10726897, 0.11827605,\n",
       "       0.12847353, 0.13779198, 0.14616802, 0.15354477, 0.15987218,\n",
       "       0.16510738, 0.16921492, 0.172167  , 0.17394367, 0.17453293])"
      ]
     },
     "execution_count": 240,
     "metadata": {},
     "output_type": "execute_result"
    }
   ],
   "source": [
    "a=θfit(20,t1=0,t2=T(θ_0)/4,m=0.2,l=1,θini=0,θend=θ_0,ftol=1E-16)\n",
    "θ=a[0]\n",
    "θ"
   ]
  },
  {
   "cell_type": "markdown",
   "metadata": {},
   "source": [
    "2) Gráfico de la trayectoria física y comparación con la ecuación de movimiento"
   ]
  },
  {
   "cell_type": "code",
   "execution_count": 241,
   "metadata": {},
   "outputs": [
    {
     "data": {
      "text/plain": [
       "Text(0,0.5,'$\\\\theta(t)$ [rad]')"
      ]
     },
     "execution_count": 241,
     "metadata": {},
     "output_type": "execute_result"
    },
    {
     "data": {
      "image/png": "[encoded data removed]",
      "text/plain": [
       "<Figure size 432x288 with 1 Axes>"
      ]
     },
     "metadata": {
      "needs_background": "light"
     },
     "output_type": "display_data"
    }
   ],
   "source": [
    "t=np.linspace(0,T(θ_0)/4,θ.shape[0])\n",
    "plt.plot( t,θ,'c-',lw=3,label=r'$S_{\\rm min}$'  )\n",
    "\n",
    "plt.plot( t, θ_0*np.sin(ω*t),'k:',label=r'$\\theta_0\\,\\sin(\\omega t)$' )\n",
    "plt.legend()\n",
    "plt.xlabel('$t$ [s]' ,size=15)\n",
    "plt.ylabel(r'$\\theta(t)$ [rad]' ,size=15)"
   ]
  },
  {
   "cell_type": "markdown",
   "metadata": {},
   "source": [
    "Action of equation of movement"
   ]
  },
  {
   "cell_type": "code",
   "execution_count": 242,
   "metadata": {},
   "outputs": [
    {
     "data": {
      "text/plain": [
       "0.11527081776209697"
      ]
     },
     "execution_count": 242,
     "metadata": {},
     "output_type": "execute_result"
    }
   ],
   "source": [
    "S(θ_0*np.sin(ω*tt),t1=0,t2=T(θ_0/4),m=0.2, l=1, θini=0, θend=θ_0, g=g)"
   ]
  },
  {
   "cell_type": "markdown",
   "metadata": {},
   "source": [
    "Check Action minimization"
   ]
  },
  {
   "cell_type": "code",
   "execution_count": 243,
   "metadata": {},
   "outputs": [
    {
     "data": {
      "text/plain": [
       "-0.000412605731145421"
      ]
     },
     "execution_count": 243,
     "metadata": {},
     "output_type": "execute_result"
    }
   ],
   "source": [
    "S(θ,t1=0,t2=T(θ_0)/4,m=0.2, l=1, θini=0, θend=θ_0, g=g)"
   ]
  },
  {
   "cell_type": "markdown",
   "metadata": {},
   "source": [
    "3) Energy"
   ]
  },
  {
   "cell_type": "code",
   "execution_count": 285,
   "metadata": {},
   "outputs": [],
   "source": [
    "from scipy.misc import derivative\n",
    "def fullderivate(func,x0,**kwargs):\n",
    "    '''\n",
    "    Vectorized replacement of scipy.misc derivative:\n",
    "        from scipy.misc import derivative\n",
    "    For usage check the derivative help, e.g, in jupyter: \n",
    "        from scipy.misc import derivative\n",
    "        derivative?\n",
    "    '''\n",
    "    try:\n",
    "        nn=np.array(x0).shape[0] # force error if float is used \n",
    "        fp=np.vectorize(derivative)\n",
    "    except IndexError:\n",
    "        fp=derivative\n",
    "        \n",
    "    return fp(func,x0,**kwargs)"
   ]
  },
  {
   "cell_type": "code",
   "execution_count": 286,
   "metadata": {},
   "outputs": [],
   "source": [
    "theta=interpolate.interp1d(t,θ)"
   ]
  },
  {
   "cell_type": "code",
   "execution_count": 287,
   "metadata": {},
   "outputs": [],
   "source": [
    "tavg=0.5*(t[1:]+t[:-1])\n",
    "θavg=0.5*(θ[1:]+θ[:-1])"
   ]
  },
  {
   "cell_type": "code",
   "execution_count": 291,
   "metadata": {},
   "outputs": [],
   "source": [
    "dotθ=fullderivate(theta,tavg,dx=1E-3)"
   ]
  },
  {
   "cell_type": "markdown",
   "metadata": {},
   "source": [
    "* Energía cinética\n",
    "$$\n",
    "K=\\frac{1}{2}ml^2\\dot\\theta^2\\,,\n",
    "$$\n",
    "* Energía potencial\n",
    "$$\n",
    "V=mgl(1-\\cos\\theta).\n",
    "$$"
   ]
  },
  {
   "cell_type": "code",
   "execution_count": 292,
   "metadata": {},
   "outputs": [
    {
     "data": {
      "text/plain": [
       "array([0.02979706, 0.02979636, 0.02979498, 0.02979295, 0.02979034,\n",
       "       0.02978722, 0.02978368, 0.02977981, 0.02977572, 0.02977153,\n",
       "       0.02976735, 0.02976329, 0.02975947, 0.02975598, 0.02975293,\n",
       "       0.02975037, 0.0297484 , 0.02974706, 0.02974638])"
      ]
     },
     "execution_count": 292,
     "metadata": {},
     "output_type": "execute_result"
    }
   ],
   "source": [
    "g=9.80665\n",
    "l=1\n",
    "m=0.2\n",
    "E=0.5*m*l**2*dotθ**2+m*g*l*(1-np.cos(θavg))\n",
    "E"
   ]
  },
  {
   "cell_type": "code",
   "execution_count": 294,
   "metadata": {},
   "outputs": [],
   "source": [
    "tpavg=0.5*(tavg[1:]+tavg[:-1])\n",
    "θpavg=0.5*(θavg[1:]+θavg[:-1])"
   ]
  },
  {
   "cell_type": "code",
   "execution_count": 299,
   "metadata": {},
   "outputs": [],
   "source": [
    "dotθavg=interpolate.interp1d(tavg,dotθ)"
   ]
  },
  {
   "cell_type": "code",
   "execution_count": 300,
   "metadata": {},
   "outputs": [],
   "source": [
    "α=fullderivate(dotθavg,tpavg,dx=1E-6)"
   ]
  },
  {
   "cell_type": "markdown",
   "metadata": {},
   "source": [
    "$\\omega^2=-\\alpha/\\theta$"
   ]
  },
  {
   "cell_type": "code",
   "execution_count": 305,
   "metadata": {},
   "outputs": [
    {
     "data": {
      "text/plain": [
       "9.769350486461288"
      ]
     },
     "execution_count": 305,
     "metadata": {},
     "output_type": "execute_result"
    }
   ],
   "source": [
    "ω**2"
   ]
  },
  {
   "cell_type": "code",
   "execution_count": 302,
   "metadata": {},
   "outputs": [
    {
     "data": {
      "text/plain": [
       "array([9.82327816, 9.82212351, 9.82052527, 9.81822447, 9.81539467,\n",
       "       9.81218144, 9.80853091, 9.80463689, 9.80058716, 9.79644219,\n",
       "       9.79240907, 9.78849792, 9.7848629 , 9.78161244, 9.77887956,\n",
       "       9.77661082, 9.77495753, 9.77395561])"
      ]
     },
     "execution_count": 302,
     "metadata": {},
     "output_type": "execute_result"
    }
   ],
   "source": [
    "-α/θpavg"
   ]
  },
  {
   "cell_type": "code",
   "execution_count": 317,
   "metadata": {},
   "outputs": [
    {
     "data": {
      "text/plain": [
       "Text(0.5,0,'$t$ [s]')"
      ]
     },
     "execution_count": 317,
     "metadata": {},
     "output_type": "execute_result"
    },
    {
     "data": {
      "image/png": "[encoded data removed]",
      "text/plain": [
       "<Figure size 432x288 with 1 Axes>"
      ]
     },
     "metadata": {
      "needs_background": "light"
     },
     "output_type": "display_data"
    }
   ],
   "source": [
    "plt.plot(tavg,θavg,'y-',label=r'$x$ [m]')\n",
    "plt.plot(tavg,dotθ/ω,'r-',label=r'$\\dot{x}/\\omega$ [m]')\n",
    "#plt.plot(tavg,E,'b--',label=r'E')\n",
    "plt.plot(tpavg,-α/ω**2,'k--',label=r'$\\ddot{x}/\\omega^2$ [m]')\n",
    "plt.legend(loc='best',fontsize=15) \n",
    "plt.xlabel(r'$t$ [s]',size=15 )"
   ]
  },
  {
   "cell_type": "code",
   "execution_count": 318,
   "metadata": {},
   "outputs": [
    {
     "data": {
      "text/plain": [
       "(0, 1)"
      ]
     },
     "execution_count": 318,
     "metadata": {},
     "output_type": "execute_result"
    },
    {
     "data": {
      "image/png": "[encoded data removed]",
      "text/plain": [
       "<Figure size 432x288 with 1 Axes>"
      ]
     },
     "metadata": {
      "needs_background": "light"
     },
     "output_type": "display_data"
    }
   ],
   "source": [
    "plt.plot(tavg,E,'b--')\n",
    "plt.xlabel(r'$t$ [s]',size=15 )\n",
    "plt.xlabel(r'$E$ [J]',size=15 )\n",
    "plt.ylim(0,1)"
   ]
  },
  {
   "cell_type": "markdown",
   "metadata": {},
   "source": [
    "## Extra\n",
    "Check the other intervals"
   ]
  },
  {
   "cell_type": "code",
   "execution_count": 79,
   "metadata": {},
   "outputs": [
    {
     "name": "stdout",
     "output_type": "stream",
     "text": [
      "Optimization terminated successfully.\n",
      "         Current function value: 0.000376\n",
      "         Iterations: 34\n",
      "         Function evaluations: 9176\n"
     ]
    },
    {
     "data": {
      "text/plain": [
       "array([0.17453293, 0.17394367, 0.172167  , 0.16921491, 0.16510738,\n",
       "       0.15987218, 0.15354476, 0.14616801, 0.13779197, 0.12847353,\n",
       "       0.11827605, 0.10726897, 0.09552733, 0.08313127, 0.0701655 ,\n",
       "       0.05671873, 0.04288301, 0.02875316, 0.01442607, 0.        ])"
      ]
     },
     "execution_count": 79,
     "metadata": {},
     "output_type": "execute_result"
    }
   ],
   "source": [
    "a=θfit(30,t1=T(θ_0)/4,t2=2*T(θ_0)/4,θ0=θ,m=0.2,l=1,θini=θ_0,θend=0,ftol=1E-16)\n",
    "θ=a[0]\n",
    "θ"
   ]
  },
  {
   "cell_type": "code",
   "execution_count": 81,
   "metadata": {},
   "outputs": [
    {
     "data": {
      "text/plain": [
       "[<matplotlib.lines.Line2D at 0x7fd5b27a8c18>]"
      ]
     },
     "execution_count": 81,
     "metadata": {},
     "output_type": "execute_result"
    },
    {
     "data": {
      "image/png": "[encoded data removed]",
      "text/plain": [
       "<Figure size 432x288 with 1 Axes>"
      ]
     },
     "metadata": {
      "needs_background": "light"
     },
     "output_type": "display_data"
    }
   ],
   "source": [
    "t=np.linspace(T(θ_0)/4,2*T(θ_0)/4,θ.shape[0])\n",
    "plt.plot( t,θ,'c-',lw=3  )\n",
    "θsol=θ_0*np.sin(ω*t)\n",
    "plt.plot( t, θsol,'k:' )"
   ]
  },
  {
   "cell_type": "code",
   "execution_count": 82,
   "metadata": {},
   "outputs": [
    {
     "name": "stdout",
     "output_type": "stream",
     "text": [
      "Optimization terminated successfully.\n",
      "         Current function value: -0.000413\n",
      "         Iterations: 35\n",
      "         Function evaluations: 9112\n"
     ]
    },
    {
     "data": {
      "text/plain": [
       "array([ 0.        , -0.01442607, -0.02875316, -0.04288301, -0.05671873,\n",
       "       -0.07016551, -0.08313127, -0.09552733, -0.10726897, -0.11827605,\n",
       "       -0.12847353, -0.13779197, -0.14616802, -0.15354477, -0.15987218,\n",
       "       -0.16510738, -0.16921492, -0.172167  , -0.17394367, -0.17453293])"
      ]
     },
     "execution_count": 82,
     "metadata": {},
     "output_type": "execute_result"
    }
   ],
   "source": [
    "a=θfit(30,t1=2*T(θ_0)/4,t2=3*T(θ_0)/4,θ0=θ,m=0.2,l=1,θini=0,θend=-θ_0,ftol=1E-16)\n",
    "θ=a[0]\n",
    "θ"
   ]
  },
  {
   "cell_type": "code",
   "execution_count": 83,
   "metadata": {},
   "outputs": [
    {
     "data": {
      "text/plain": [
       "[<matplotlib.lines.Line2D at 0x7fd5b0e5fe10>]"
      ]
     },
     "execution_count": 83,
     "metadata": {},
     "output_type": "execute_result"
    },
    {
     "data": {
      "image/png": "[encoded data removed]",
      "text/plain": [
       "<Figure size 432x288 with 1 Axes>"
      ]
     },
     "metadata": {
      "needs_background": "light"
     },
     "output_type": "display_data"
    }
   ],
   "source": [
    "t=np.linspace(2*T(θ_0)/4,3*T(θ_0)/4,θ.shape[0])\n",
    "plt.plot( t,θ,'c-',lw=3  )\n",
    "θsol=θ_0*np.sin(ω*t)\n",
    "plt.plot( t, θsol,'k:' )"
   ]
  },
  {
   "cell_type": "code",
   "execution_count": 84,
   "metadata": {},
   "outputs": [
    {
     "name": "stdout",
     "output_type": "stream",
     "text": [
      "Optimization terminated successfully.\n",
      "         Current function value: 0.000376\n",
      "         Iterations: 35\n",
      "         Function evaluations: 9862\n"
     ]
    },
    {
     "data": {
      "text/plain": [
       "array([-0.17453293, -0.17394367, -0.172167  , -0.16921491, -0.16510738,\n",
       "       -0.15987218, -0.15354477, -0.14616802, -0.13779198, -0.12847353,\n",
       "       -0.11827605, -0.10726897, -0.09552733, -0.08313127, -0.0701655 ,\n",
       "       -0.05671873, -0.04288301, -0.02875316, -0.01442607,  0.        ])"
      ]
     },
     "execution_count": 84,
     "metadata": {},
     "output_type": "execute_result"
    }
   ],
   "source": [
    "a=θfit(30,t1=3*T(θ_0)/4,t2=4*T(θ_0)/4,θ0=θ,m=0.2,l=1,θini=-θ_0,θend=0,ftol=1E-16)\n",
    "θ=a[0]\n",
    "θ"
   ]
  },
  {
   "cell_type": "code",
   "execution_count": 85,
   "metadata": {},
   "outputs": [
    {
     "data": {
      "text/plain": [
       "[<matplotlib.lines.Line2D at 0x7fd5b0e8b438>]"
      ]
     },
     "execution_count": 85,
     "metadata": {},
     "output_type": "execute_result"
    },
    {
     "data": {
      "image/png": "[encoded data removed]",
      "text/plain": [
       "<Figure size 432x288 with 1 Axes>"
      ]
     },
     "metadata": {
      "needs_background": "light"
     },
     "output_type": "display_data"
    }
   ],
   "source": [
    "t=np.linspace(3*T(θ_0)/4,4*T(θ_0)/4,θ.shape[0])\n",
    "plt.plot( t,θ,'c-',lw=3  )\n",
    "θsol=θ_0*np.sin(ω*t)\n",
    "plt.plot( t, θsol,'k:' )"
   ]
  },
  {
   "cell_type": "markdown",
   "metadata": {},
   "source": [
    "Increase $\\theta_0$"
   ]
  },
  {
   "cell_type": "code",
   "execution_count": 86,
   "metadata": {},
   "outputs": [
    {
     "data": {
      "text/plain": [
       "(0.6981317007977318, 3.0363949273597055, 2.069291201406111, 2.0064092925890407)"
      ]
     },
     "execution_count": 86,
     "metadata": {},
     "output_type": "execute_result"
    }
   ],
   "source": [
    "θ_0=40*np.pi/180\n",
    "g=9.80665\n",
    "l=1\n",
    "ω=2*np.pi/T(θ_0)\n",
    "θ_0,ω,T(θ_0),T0(l,g)"
   ]
  },
  {
   "cell_type": "code",
   "execution_count": 87,
   "metadata": {},
   "outputs": [
    {
     "name": "stdout",
     "output_type": "stream",
     "text": [
      "Optimization terminated successfully.\n",
      "         Current function value: -0.010004\n",
      "         Iterations: 36\n",
      "         Function evaluations: 9647\n"
     ]
    },
    {
     "data": {
      "text/plain": [
       "array([0.        , 0.05827341, 0.11612342, 0.1731311 , 0.22888638,\n",
       "       0.28299215, 0.3350679 , 0.38475302, 0.43170948, 0.47562398,\n",
       "       0.51620957, 0.55320677, 0.58638416, 0.61553865, 0.64049543,\n",
       "       0.66110769, 0.67725621, 0.6888489 , 0.6958204 , 0.6981317 ])"
      ]
     },
     "execution_count": 87,
     "metadata": {},
     "output_type": "execute_result"
    }
   ],
   "source": [
    "a=θfit(20,t1=0,t2=T(θ_0)/4,m=0.2,l=1,θini=0,θend=θ_0,ftol=1E-16)\n",
    "θ=a[0]\n",
    "θ"
   ]
  },
  {
   "cell_type": "code",
   "execution_count": 88,
   "metadata": {},
   "outputs": [
    {
     "data": {
      "text/plain": [
       "[<matplotlib.lines.Line2D at 0x7fd5b0e2a710>]"
      ]
     },
     "execution_count": 88,
     "metadata": {},
     "output_type": "execute_result"
    },
    {
     "data": {
      "image/png": "[encoded data removed]",
      "text/plain": [
       "<Figure size 432x288 with 1 Axes>"
      ]
     },
     "metadata": {
      "needs_background": "light"
     },
     "output_type": "display_data"
    }
   ],
   "source": [
    "t=np.linspace(0,T(θ_0)/4,θ.shape[0])\n",
    "plt.plot( t,θ,'c-',lw=3  )\n",
    "plt.plot( t, θ_0*np.sin(ω*t),'k:' )"
   ]
  },
  {
   "cell_type": "markdown",
   "metadata": {},
   "source": [
    "La solución analítica corresponde a la ecuación de movimiento:\n",
    "$$x=\\sin(\\omega t)/2$$\n",
    "y será usada para comparar con el resultado numérico obtenido"
   ]
  },
  {
   "cell_type": "code",
   "execution_count": 4,
   "metadata": {},
   "outputs": [
    {
     "data": {
      "text/plain": [
       "<matplotlib.legend.Legend at 0x7fc423f119b0>"
      ]
     },
     "execution_count": 4,
     "metadata": {},
     "output_type": "execute_result"
    },
    {
     "data": {
      "image/png": "[encoded data removed]",
      "text/plain": [
       "<matplotlib.figure.Figure at 0x7fc3d10fc9b0>"
      ]
     },
     "metadata": {},
     "output_type": "display_data"
    }
   ],
   "source": [
    "xmin=0.70710678118654757\n",
    "xmax=xmin\n",
    "tmin=np.pi/8;tmax=3*np.pi/8\n",
    "m=0.2\n",
    "k=0.8\n",
    "ω=np.sqrt(k/m)\n",
    "t=np.linspace(tmin,tmax)\n",
    "\n",
    "plt.plot(t,sin(ω*t),'k-', label='S={} J.s'.format(round( S( sin(ω*t) ),5 ) )  )\n",
    "\n",
    "tt=np.array( [tmin,2*tmin,3*tmin])\n",
    "X=np.array( [xmin,1,xmax])\n",
    "plt.plot(tt,X,'r-',label='S={} J.s'.format(round( S(X),3 ) ) )\n",
    "\n",
    "X=np.array( [xmin,1.2,xmax])\n",
    "plt.plot(tt,X,'g--',label='S={} J.s'.format(round( S(X),3 ) ) )\n",
    "\n",
    "X=np.array( [xmin,0.8,xmax])\n",
    "plt.plot(tt,X,'c--',label='S={} J.s'.format(round( S(X),3 ) ) )\n",
    "\n",
    "\n",
    "\n",
    "plt.legend(loc='best')"
   ]
  },
  {
   "cell_type": "code",
   "execution_count": 6,
   "metadata": {},
   "outputs": [
    {
     "name": "stdout",
     "output_type": "stream",
     "text": [
      "Optimization terminated successfully.\n",
      "         Current function value: -0.199974\n",
      "         Iterations: 64\n",
      "         Function evaluations: 32066\n"
     ]
    }
   ],
   "source": [
    "Smin=xfit(51,t1=np.pi/8,t2=3*np.pi/8,m=0.2,k=0.8,xini=0.70710678118654757,xend=0.70710678118654757,ftol=1E-6)"
   ]
  },
  {
   "cell_type": "code",
   "execution_count": 7,
   "metadata": {},
   "outputs": [
    {
     "data": {
      "text/plain": [
       "<matplotlib.legend.Legend at 0x7fc3cedbfba8>"
      ]
     },
     "execution_count": 7,
     "metadata": {},
     "output_type": "execute_result"
    },
    {
     "data": {
      "image/png": "[encoded data removed]",
      "text/plain": [
       "<matplotlib.figure.Figure at 0x7fc3cee0b358>"
      ]
     },
     "metadata": {},
     "output_type": "display_data"
    }
   ],
   "source": [
    "xmin=0.70710678118654757\n",
    "xmax=xmin\n",
    "tmin=np.pi/8;tmax=3*np.pi/8\n",
    "\n",
    "m=0.2\n",
    "k=0.8\n",
    "ω=np.sqrt(k/m)\n",
    "t=np.linspace(tmin,tmax)\n",
    "\n",
    "plt.plot(t,sin(ω*t),'y-', label='S={} J.s'.format(round( S( sin(ω*t) ),5 ) )  )\n",
    "X=np.array( [xmin,1,xmax])\n",
    "tt=np.array( [np.pi/8,np.pi/4,np.pi/8+np.pi/4])\n",
    "plt.plot(tt,X,'r-',label='S={} J.s'.format(round( S(X),3 ) ) )\n",
    "\n",
    "t=np.linspace(tmin,tmax,Smin[0].shape[0])\n",
    "plt.plot(t,Smin[0],'k--', label='S={} J.s'.format(round( Smin[2] ,5 ) )  )\n",
    "\n",
    "plt.legend(loc='best')"
   ]
  },
  {
   "cell_type": "markdown",
   "metadata": {},
   "source": [
    "Equation of motion"
   ]
  },
  {
   "cell_type": "code",
   "execution_count": 8,
   "metadata": {},
   "outputs": [],
   "source": [
    "x=Smin[0]"
   ]
  },
  {
   "cell_type": "markdown",
   "metadata": {},
   "source": [
    "for"
   ]
  },
  {
   "cell_type": "code",
   "execution_count": 9,
   "metadata": {
    "collapsed": true,
    "jupyter": {
     "outputs_hidden": true
    }
   },
   "outputs": [],
   "source": [
    "t=np.linspace(tmin,tmax,Smin[0].shape[0])"
   ]
  },
  {
   "cell_type": "code",
   "execution_count": 10,
   "metadata": {
    "collapsed": true,
    "jupyter": {
     "outputs_hidden": true
    }
   },
   "outputs": [],
   "source": [
    "def derivate(func,x0,**kwargs):\n",
    "    '''\n",
    "    Vectorized replacement of scipy.misc derivative:\n",
    "        from scipy.misc import derivative\n",
    "    For usage check the derivative help, e.g, in jupyter: \n",
    "        from scipy.misc import derivative\n",
    "        derivative?\n",
    "    '''\n",
    "    from scipy.misc import derivative\n",
    "    try:\n",
    "        nn=np.array(x0).shape[0] # force error if float is used \n",
    "        fp=np.vectorize(derivative)\n",
    "    except IndexError:\n",
    "        fp=derivative\n",
    "        \n",
    "    return fp(func,x0,**kwargs)\n",
    "\n",
    "\n",
    "\n",
    "def interpol1d_to_function(x0,x=[0,1,2],y=[0,1,2],full_range=False):\n",
    "    '''\n",
    "    Converts interpolation to function\n",
    "    '''\n",
    "    return interpolate.interp1d(x,y)(x0)"
   ]
  },
  {
   "cell_type": "code",
   "execution_count": 11,
   "metadata": {},
   "outputs": [
    {
     "data": {
      "text/plain": [
       "((51,), (51,))"
      ]
     },
     "execution_count": 11,
     "metadata": {},
     "output_type": "execute_result"
    }
   ],
   "source": [
    "x.shape,t.shape"
   ]
  },
  {
   "cell_type": "code",
   "execution_count": 12,
   "metadata": {},
   "outputs": [],
   "source": [
    "tavg=0.5*(t[1:]+t[:-1])\n",
    "xavg=0.5*(x[1:]+x[:-1])"
   ]
  },
  {
   "cell_type": "markdown",
   "metadata": {},
   "source": [
    "##  Appendix:"
   ]
  },
  {
   "cell_type": "markdown",
   "metadata": {},
   "source": [
    "### Starting at time 0s"
   ]
  },
  {
   "cell_type": "code",
   "execution_count": 28,
   "metadata": {
    "collapsed": true,
    "jupyter": {
     "outputs_hidden": true
    }
   },
   "outputs": [],
   "source": [
    "S?"
   ]
  },
  {
   "cell_type": "code",
   "execution_count": 29,
   "metadata": {},
   "outputs": [
    {
     "data": {
      "text/plain": [
       "<matplotlib.legend.Legend at 0x7fc3ced57c18>"
      ]
     },
     "execution_count": 29,
     "metadata": {},
     "output_type": "execute_result"
    },
    {
     "data": {
      "image/png": "[encoded data removed]",
      "text/plain": [
       "<matplotlib.figure.Figure at 0x7fc3cec006d8>"
      ]
     },
     "metadata": {},
     "output_type": "display_data"
    }
   ],
   "source": [
    "xmin=0.70710678118654757\n",
    "xmax=xmin\n",
    "tmin=0;tmax=np.pi/4\n",
    "m=0.2\n",
    "k=0.8\n",
    "ω=np.sqrt(k/m)\n",
    "t=np.linspace(tmin,tmax)\n",
    "\n",
    "plt.plot(t,sin(ω*(t+ np.pi/8)) ,'k-', label='S={} J.s'.format(round( S( sin(ω*(t+ np.pi/8)),t1=0,t2=np.pi/4 ),5 ) )  )\n",
    "\n",
    "tt=np.array( [tmin,np.pi/8,np.pi/4])\n",
    "X=np.array( [xmin,1,xmax])\n",
    "plt.plot(tt,X,'r-',label='S={} J.s'.format(round( S(X,t1=0,t2=np.pi/4),3 ) ) )\n",
    "\n",
    "X=np.array( [xmin,1.2,xmax])\n",
    "plt.plot(tt,X,'g--',label='S={} J.s'.format(round( S(X,t1=0,t2=np.pi/4),3 ) ) )\n",
    "\n",
    "X=np.array( [xmin,0.8,xmax])\n",
    "plt.plot(tt,X,'c--',label='S={} J.s'.format(round( S(X, t1=0,t2=np.pi/4),3 ) ) )\n",
    "\n",
    "\n",
    "\n",
    "plt.legend(loc='best')"
   ]
  },
  {
   "cell_type": "code",
   "execution_count": 203,
   "metadata": {
    "collapsed": true,
    "jupyter": {
     "outputs_hidden": true
    }
   },
   "outputs": [],
   "source": [
    "def interpol1d_to_function(x0,x=[0,1,2],y=[0,1,2],full_range=False):\n",
    "    '''\n",
    "    Converts interpolation to function\n",
    "    #Returns the evaluation of the interpolated function(*args,**kwargs)\n",
    "    #in an array x0 even when some value inside \n",
    "    '''\n",
    "    #try:\n",
    "    #if True:\n",
    "    return interpolate.interp1d(x,y)(x0)\n",
    "    #except ValueError:\n",
    "    #    return 0\n",
    "\n",
    "    \n",
    "m=0.2\n",
    "k=0.8\n",
    "ω=np.sqrt(k/m)\n",
    "    \n",
    "#x=[xini,1,xend]\n",
    "#if True:    \n",
    "#    t1=np.pi/8;t2=3*np.pi/8;m=0.2;k=0.8;xini=0.70710678118654757;xend=0.70710678118654757    \n",
    "def S(x,t1=np.pi/8,t2=3*np.pi/8,m=0.2,k=0.8,xini=0.70710678118654757,xend=0.70710678118654757):    \n",
    "    x=np.asarray(x)\n",
    "    t=np.linspace(t1,t2,x.shape[0])\n",
    "    def X(t0):\n",
    "        return interpol1d_to_function(t0,t,x)\n",
    "    \n",
    "    t0=0.5*(t[1:]+t[:-1])\n",
    "    SS=integrate.trapz( 0.5*m*derivate(X,t0,dx=1E-6 )**2-0.5*k*X(t0)**2,t0 )\n",
    "    return SS"
   ]
  }
 ],
 "metadata": {
  "kernelspec": {
   "display_name": "Python 3",
   "language": "python",
   "name": "python3"
  },
  "language_info": {
   "codemirror_mode": {
    "name": "ipython",
    "version": 3
   },
   "file_extension": ".py",
   "mimetype": "text/x-python",
   "name": "python",
   "nbconvert_exporter": "python",
   "pygments_lexer": "ipython3",
   "version": "3.5.3"
  },
  "toc": {
   "colors": {
    "hover_highlight": "#DAA520",
    "running_highlight": "#FF0000",
    "selected_highlight": "#FFD700"
   },
   "moveMenuLeft": true,
   "nav_menu": {
    "height": "12px",
    "width": "252px"
   },
   "navigate_menu": true,
   "number_sections": true,
   "sideBar": true,
   "threshold": 4,
   "toc_cell": false,
   "toc_section_display": "block",
   "toc_window_display": false
  }
 },
 "nbformat": 4,
 "nbformat_minor": 4
}
