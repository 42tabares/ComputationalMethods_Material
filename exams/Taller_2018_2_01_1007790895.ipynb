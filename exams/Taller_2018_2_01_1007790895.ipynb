{
 "cells": [
  {
   "cell_type": "code",
   "execution_count": null,
   "metadata": {},
   "outputs": [],
   "source": []
  },
  {
   "cell_type": "markdown",
   "metadata": {
    "colab_type": "text",
    "id": "cuGCz-DOoRBc"
   },
   "source": [
    "## Ejercicio 1\n",
    "El siguiente url entrega 1000 artículos (ver`/work?rows=100` al final del url) de la revista con el ISSN: 1029-8479 correspondiente a \"Journal of High Energy Physics\" en formato JSON usando el API de CrossRef:\n",
    "\n",
    "https://api.crossref.org/journals/1029-8479/works?rows=100\n",
    "\n",
    "La base de datos con los 100 artículos que tambíen se puede cargar en otro DataFrame de Pandas, se encuentra anidada en la celda con fila `'items'` y columna `'messages'` la cual se puede obtener con el método `.loc['items','message']` del DataFrame original.\n",
    "\n",
    "Obtenga la lista de DOIs para los artículos de Alessandro Strumia en esa base de datos"
   ]
  },
  {
   "cell_type": "markdown",
   "metadata": {
    "colab_type": "text",
    "id": "E6U6cMUsoRBc"
   },
   "source": [
    "## Ejercicio 2\n",
    "### 2a):\n",
    "Genere un polinomio de numpy con 7 raices aleatorias entre 1 y 10, es decir\n",
    "$$ p(x)=(x-x_0)\\cdot(x-x_1)\\cdots(x-x_6), $$\n",
    "donde $(x_0,x_1,\\ldots x_6)$ son números aleatorios entre 1 y 10.\n",
    "\n",
    "### 2b) \n",
    "Encuentre los puntos críticos del polinomio: las raices de la derivada el polinomio.\n",
    "\n",
    "### 2c) \n",
    "Con alguno de los métodos para encontrar mínimos compruebe que el punto crítico con menor (mayor) valor para el polinomio, corresponde al mínimo (máximo) global del polinomio en el rango de 1 a 10.\n",
    "\n",
    "### 2d) \n",
    "Grafique el polinomío incluyendo los puntos criticos."
   ]
  },
  {
   "cell_type": "markdown",
   "metadata": {},
   "source": [
    "# Solución\n",
    "## Ejercicio 1"
   ]
  },
  {
   "cell_type": "code",
   "execution_count": 236,
   "metadata": {},
   "outputs": [],
   "source": [
    "import pandas as pd"
   ]
  },
  {
   "cell_type": "code",
   "execution_count": 339,
   "metadata": {},
   "outputs": [],
   "source": [
    "issn='1029-8479'\n",
    "items=100\n",
    "crf='https://api.crossref.org'"
   ]
  },
  {
   "cell_type": "code",
   "execution_count": 340,
   "metadata": {},
   "outputs": [
    {
     "data": {
      "text/plain": [
       "'https://api.crossref.org/journals/1029-8479/works?rows=100'"
      ]
     },
     "execution_count": 340,
     "metadata": {},
     "output_type": "execute_result"
    }
   ],
   "source": [
    "url='{}/journals/{}/works?rows={}'.format(\n",
    "              crf,issn,items)\n",
    "url"
   ]
  },
  {
   "cell_type": "code",
   "execution_count": 341,
   "metadata": {},
   "outputs": [
    {
     "data": {
      "text/html": [
       "<div>\n",
       "<style scoped>\n",
       "    .dataframe tbody tr th:only-of-type {\n",
       "        vertical-align: middle;\n",
       "    }\n",
       "\n",
       "    .dataframe tbody tr th {\n",
       "        vertical-align: top;\n",
       "    }\n",
       "\n",
       "    .dataframe thead th {\n",
       "        text-align: right;\n",
       "    }\n",
       "</style>\n",
       "<table border=\"1\" class=\"dataframe\">\n",
       "  <thead>\n",
       "    <tr style=\"text-align: right;\">\n",
       "      <th></th>\n",
       "      <th>status</th>\n",
       "      <th>message-type</th>\n",
       "      <th>message-version</th>\n",
       "      <th>message</th>\n",
       "    </tr>\n",
       "  </thead>\n",
       "  <tbody>\n",
       "    <tr>\n",
       "      <th>facets</th>\n",
       "      <td>ok</td>\n",
       "      <td>work-list</td>\n",
       "      <td>1.0.0</td>\n",
       "      <td>{}</td>\n",
       "    </tr>\n",
       "    <tr>\n",
       "      <th>items</th>\n",
       "      <td>ok</td>\n",
       "      <td>work-list</td>\n",
       "      <td>1.0.0</td>\n",
       "      <td>[{'indexed': {'date-parts': [[2020, 3, 30]], '...</td>\n",
       "    </tr>\n",
       "    <tr>\n",
       "      <th>items-per-page</th>\n",
       "      <td>ok</td>\n",
       "      <td>work-list</td>\n",
       "      <td>1.0.0</td>\n",
       "      <td>100</td>\n",
       "    </tr>\n",
       "    <tr>\n",
       "      <th>query</th>\n",
       "      <td>ok</td>\n",
       "      <td>work-list</td>\n",
       "      <td>1.0.0</td>\n",
       "      <td>{'start-index': 0, 'search-terms': None}</td>\n",
       "    </tr>\n",
       "    <tr>\n",
       "      <th>total-results</th>\n",
       "      <td>ok</td>\n",
       "      <td>work-list</td>\n",
       "      <td>1.0.0</td>\n",
       "      <td>31567</td>\n",
       "    </tr>\n",
       "  </tbody>\n",
       "</table>\n",
       "</div>"
      ],
      "text/plain": [
       "               status message-type message-version  \\\n",
       "facets             ok    work-list           1.0.0   \n",
       "items              ok    work-list           1.0.0   \n",
       "items-per-page     ok    work-list           1.0.0   \n",
       "query              ok    work-list           1.0.0   \n",
       "total-results      ok    work-list           1.0.0   \n",
       "\n",
       "                                                          message  \n",
       "facets                                                         {}  \n",
       "items           [{'indexed': {'date-parts': [[2020, 3, 30]], '...  \n",
       "items-per-page                                                100  \n",
       "query                    {'start-index': 0, 'search-terms': None}  \n",
       "total-results                                               31567  "
      ]
     },
     "execution_count": 341,
     "metadata": {},
     "output_type": "execute_result"
    }
   ],
   "source": [
    "df=pd.read_json(url)\n",
    "df"
   ]
  },
  {
   "cell_type": "markdown",
   "metadata": {},
   "source": [
    "La base de datos anindad en fila `'items` y columna `'message'` es una lista de diccionarios, de modo que se puede cargar como otro DataFrame para facilitar su visualización y análisis"
   ]
  },
  {
   "cell_type": "code",
   "execution_count": 346,
   "metadata": {},
   "outputs": [],
   "source": [
    "dff=pd.DataFrame( df.loc['items','message'] )"
   ]
  },
  {
   "cell_type": "code",
   "execution_count": 347,
   "metadata": {},
   "outputs": [
    {
     "data": {
      "text/html": [
       "<div>\n",
       "<style scoped>\n",
       "    .dataframe tbody tr th:only-of-type {\n",
       "        vertical-align: middle;\n",
       "    }\n",
       "\n",
       "    .dataframe tbody tr th {\n",
       "        vertical-align: top;\n",
       "    }\n",
       "\n",
       "    .dataframe thead th {\n",
       "        text-align: right;\n",
       "    }\n",
       "</style>\n",
       "<table border=\"1\" class=\"dataframe\">\n",
       "  <thead>\n",
       "    <tr style=\"text-align: right;\">\n",
       "      <th></th>\n",
       "      <th>DOI</th>\n",
       "      <th>ISSN</th>\n",
       "      <th>URL</th>\n",
       "      <th>alternative-id</th>\n",
       "      <th>article-number</th>\n",
       "      <th>assertion</th>\n",
       "      <th>author</th>\n",
       "      <th>container-title</th>\n",
       "      <th>content-domain</th>\n",
       "      <th>created</th>\n",
       "      <th>...</th>\n",
       "      <th>relation</th>\n",
       "      <th>score</th>\n",
       "      <th>short-container-title</th>\n",
       "      <th>source</th>\n",
       "      <th>subject</th>\n",
       "      <th>title</th>\n",
       "      <th>type</th>\n",
       "      <th>update-policy</th>\n",
       "      <th>update-to</th>\n",
       "      <th>volume</th>\n",
       "    </tr>\n",
       "  </thead>\n",
       "  <tbody>\n",
       "    <tr>\n",
       "      <th>0</th>\n",
       "      <td>10.1088/1126-6708/2001/03/051</td>\n",
       "      <td>[1029-8479]</td>\n",
       "      <td>http://dx.doi.org/10.1088/1126-6708/2001/03/051</td>\n",
       "      <td>NaN</td>\n",
       "      <td>NaN</td>\n",
       "      <td>NaN</td>\n",
       "      <td>[{'given': 'Juan José', 'family': 'Manjarín', ...</td>\n",
       "      <td>[Journal of High Energy Physics]</td>\n",
       "      <td>{'domain': [], 'crossmark-restriction': False}</td>\n",
       "      <td>{'date-parts': [[2002, 8, 25]], 'date-time': '...</td>\n",
       "      <td>...</td>\n",
       "      <td>NaN</td>\n",
       "      <td>1.0</td>\n",
       "      <td>[J. High Energy Phys.]</td>\n",
       "      <td>Crossref</td>\n",
       "      <td>NaN</td>\n",
       "      <td>[Dilatonic Wilson loops]</td>\n",
       "      <td>journal-article</td>\n",
       "      <td>NaN</td>\n",
       "      <td>NaN</td>\n",
       "      <td>2001</td>\n",
       "    </tr>\n",
       "  </tbody>\n",
       "</table>\n",
       "<p>1 rows × 39 columns</p>\n",
       "</div>"
      ],
      "text/plain": [
       "                             DOI         ISSN  \\\n",
       "0  10.1088/1126-6708/2001/03/051  [1029-8479]   \n",
       "\n",
       "                                               URL alternative-id  \\\n",
       "0  http://dx.doi.org/10.1088/1126-6708/2001/03/051            NaN   \n",
       "\n",
       "  article-number assertion                                             author  \\\n",
       "0            NaN       NaN  [{'given': 'Juan José', 'family': 'Manjarín', ...   \n",
       "\n",
       "                    container-title  \\\n",
       "0  [Journal of High Energy Physics]   \n",
       "\n",
       "                                   content-domain  \\\n",
       "0  {'domain': [], 'crossmark-restriction': False}   \n",
       "\n",
       "                                             created  ... relation score  \\\n",
       "0  {'date-parts': [[2002, 8, 25]], 'date-time': '...  ...      NaN   1.0   \n",
       "\n",
       "    short-container-title    source subject                     title  \\\n",
       "0  [J. High Energy Phys.]  Crossref     NaN  [Dilatonic Wilson loops]   \n",
       "\n",
       "              type update-policy update-to volume  \n",
       "0  journal-article           NaN       NaN   2001  \n",
       "\n",
       "[1 rows x 39 columns]"
      ]
     },
     "execution_count": 347,
     "metadata": {},
     "output_type": "execute_result"
    }
   ],
   "source": [
    "dff[:1]"
   ]
  },
  {
   "cell_type": "markdown",
   "metadata": {},
   "source": [
    "La columna `author` contiene los datos requeridos"
   ]
  },
  {
   "cell_type": "code",
   "execution_count": 348,
   "metadata": {},
   "outputs": [
    {
     "data": {
      "text/html": [
       "<div>\n",
       "<style scoped>\n",
       "    .dataframe tbody tr th:only-of-type {\n",
       "        vertical-align: middle;\n",
       "    }\n",
       "\n",
       "    .dataframe tbody tr th {\n",
       "        vertical-align: top;\n",
       "    }\n",
       "\n",
       "    .dataframe thead th {\n",
       "        text-align: right;\n",
       "    }\n",
       "</style>\n",
       "<table border=\"1\" class=\"dataframe\">\n",
       "  <thead>\n",
       "    <tr style=\"text-align: right;\">\n",
       "      <th></th>\n",
       "      <th>DOI</th>\n",
       "      <th>ISSN</th>\n",
       "      <th>URL</th>\n",
       "      <th>alternative-id</th>\n",
       "      <th>article-number</th>\n",
       "      <th>assertion</th>\n",
       "      <th>author</th>\n",
       "      <th>container-title</th>\n",
       "      <th>content-domain</th>\n",
       "      <th>created</th>\n",
       "      <th>...</th>\n",
       "      <th>relation</th>\n",
       "      <th>score</th>\n",
       "      <th>short-container-title</th>\n",
       "      <th>source</th>\n",
       "      <th>subject</th>\n",
       "      <th>title</th>\n",
       "      <th>type</th>\n",
       "      <th>update-policy</th>\n",
       "      <th>update-to</th>\n",
       "      <th>volume</th>\n",
       "    </tr>\n",
       "  </thead>\n",
       "  <tbody>\n",
       "    <tr>\n",
       "      <th>2</th>\n",
       "      <td>10.1088/1126-6708/2000/12/016</td>\n",
       "      <td>[1029-8479]</td>\n",
       "      <td>http://dx.doi.org/10.1088/1126-6708/2000/12/016</td>\n",
       "      <td>NaN</td>\n",
       "      <td>NaN</td>\n",
       "      <td>NaN</td>\n",
       "      <td>[{'given': 'Riccardo', 'family': 'Barbieri', '...</td>\n",
       "      <td>[Journal of High Energy Physics]</td>\n",
       "      <td>{'domain': [], 'crossmark-restriction': False}</td>\n",
       "      <td>{'date-parts': [[2002, 7, 26]], 'date-time': '...</td>\n",
       "      <td>...</td>\n",
       "      <td>NaN</td>\n",
       "      <td>1.0</td>\n",
       "      <td>[J. High Energy Phys.]</td>\n",
       "      <td>Crossref</td>\n",
       "      <td>NaN</td>\n",
       "      <td>[Non standard analysis of the solar neutrino a...</td>\n",
       "      <td>journal-article</td>\n",
       "      <td>NaN</td>\n",
       "      <td>NaN</td>\n",
       "      <td>2000</td>\n",
       "    </tr>\n",
       "    <tr>\n",
       "      <th>92</th>\n",
       "      <td>10.1088/1126-6708/2001/11/048</td>\n",
       "      <td>[1029-8479]</td>\n",
       "      <td>http://dx.doi.org/10.1088/1126-6708/2001/11/048</td>\n",
       "      <td>NaN</td>\n",
       "      <td>NaN</td>\n",
       "      <td>NaN</td>\n",
       "      <td>[{'given': 'Alessandro', 'family': 'Strumia', ...</td>\n",
       "      <td>[Journal of High Energy Physics]</td>\n",
       "      <td>{'domain': [], 'crossmark-restriction': False}</td>\n",
       "      <td>{'date-parts': [[2002, 8, 24]], 'date-time': '...</td>\n",
       "      <td>...</td>\n",
       "      <td>NaN</td>\n",
       "      <td>1.0</td>\n",
       "      <td>[J. High Energy Phys.]</td>\n",
       "      <td>Crossref</td>\n",
       "      <td>NaN</td>\n",
       "      <td>[Which solar neutrino experiment after KamLAND...</td>\n",
       "      <td>journal-article</td>\n",
       "      <td>NaN</td>\n",
       "      <td>NaN</td>\n",
       "      <td>2001</td>\n",
       "    </tr>\n",
       "  </tbody>\n",
       "</table>\n",
       "<p>2 rows × 39 columns</p>\n",
       "</div>"
      ],
      "text/plain": [
       "                              DOI         ISSN  \\\n",
       "2   10.1088/1126-6708/2000/12/016  [1029-8479]   \n",
       "92  10.1088/1126-6708/2001/11/048  [1029-8479]   \n",
       "\n",
       "                                                URL alternative-id  \\\n",
       "2   http://dx.doi.org/10.1088/1126-6708/2000/12/016            NaN   \n",
       "92  http://dx.doi.org/10.1088/1126-6708/2001/11/048            NaN   \n",
       "\n",
       "   article-number assertion  \\\n",
       "2             NaN       NaN   \n",
       "92            NaN       NaN   \n",
       "\n",
       "                                               author  \\\n",
       "2   [{'given': 'Riccardo', 'family': 'Barbieri', '...   \n",
       "92  [{'given': 'Alessandro', 'family': 'Strumia', ...   \n",
       "\n",
       "                     container-title  \\\n",
       "2   [Journal of High Energy Physics]   \n",
       "92  [Journal of High Energy Physics]   \n",
       "\n",
       "                                    content-domain  \\\n",
       "2   {'domain': [], 'crossmark-restriction': False}   \n",
       "92  {'domain': [], 'crossmark-restriction': False}   \n",
       "\n",
       "                                              created  ... relation score  \\\n",
       "2   {'date-parts': [[2002, 7, 26]], 'date-time': '...  ...      NaN   1.0   \n",
       "92  {'date-parts': [[2002, 8, 24]], 'date-time': '...  ...      NaN   1.0   \n",
       "\n",
       "     short-container-title    source subject  \\\n",
       "2   [J. High Energy Phys.]  Crossref     NaN   \n",
       "92  [J. High Energy Phys.]  Crossref     NaN   \n",
       "\n",
       "                                                title             type  \\\n",
       "2   [Non standard analysis of the solar neutrino a...  journal-article   \n",
       "92  [Which solar neutrino experiment after KamLAND...  journal-article   \n",
       "\n",
       "   update-policy update-to volume  \n",
       "2            NaN       NaN   2000  \n",
       "92           NaN       NaN   2001  \n",
       "\n",
       "[2 rows x 39 columns]"
      ]
     },
     "execution_count": 348,
     "metadata": {},
     "output_type": "execute_result"
    }
   ],
   "source": [
    "f='Alessandro' \n",
    "l='Strumia'\n",
    "dfa=dff[( dff['author'].astype(str).str.contains(l) &\n",
    "     dff['author'].astype(str).str.contains(f)\n",
    "     )]\n",
    "dfa"
   ]
  },
  {
   "cell_type": "markdown",
   "metadata": {},
   "source": [
    "La lista de DOIS del autor Alessadro Strumia es:"
   ]
  },
  {
   "cell_type": "code",
   "execution_count": 349,
   "metadata": {},
   "outputs": [
    {
     "data": {
      "text/plain": [
       "['10.1088/1126-6708/2000/12/016', '10.1088/1126-6708/2001/11/048']"
      ]
     },
     "execution_count": 349,
     "metadata": {},
     "output_type": "execute_result"
    }
   ],
   "source": [
    "dfa.DOI.to_list()"
   ]
  },
  {
   "cell_type": "markdown",
   "metadata": {},
   "source": [
    "## Ejercicio 2"
   ]
  },
  {
   "cell_type": "code",
   "execution_count": null,
   "metadata": {},
   "outputs": [],
   "source": [
    "%pylab inline"
   ]
  },
  {
   "cell_type": "code",
   "execution_count": 33,
   "metadata": {},
   "outputs": [],
   "source": [
    "import numpy as np\n",
    "from scipy import optimize"
   ]
  },
  {
   "cell_type": "markdown",
   "metadata": {},
   "source": [
    "## 2a)"
   ]
  },
  {
   "cell_type": "code",
   "execution_count": 331,
   "metadata": {},
   "outputs": [],
   "source": [
    "p=np.poly1d( np.random.uniform(1,10,7),r=True )"
   ]
  },
  {
   "cell_type": "markdown",
   "metadata": {},
   "source": [
    "## 2b)\n",
    "Puntos críticos del polinomio"
   ]
  },
  {
   "cell_type": "code",
   "execution_count": 332,
   "metadata": {},
   "outputs": [
    {
     "data": {
      "text/plain": [
       "array([6.91790009, 6.80594061, 5.37413449, 3.78324784, 2.57176337,\n",
       "       1.77628349])"
      ]
     },
     "execution_count": 332,
     "metadata": {},
     "output_type": "execute_result"
    }
   ],
   "source": [
    "c=p.deriv().roots\n",
    "c"
   ]
  },
  {
   "cell_type": "markdown",
   "metadata": {},
   "source": [
    "con valores para el polinomio dados por"
   ]
  },
  {
   "cell_type": "code",
   "execution_count": 333,
   "metadata": {},
   "outputs": [
    {
     "data": {
      "text/plain": [
       "array([-1.17187979e-01,  4.65088766e-02, -9.04079489e+01,  4.07851836e+01,\n",
       "       -4.33575441e+01,  2.44378403e+01])"
      ]
     },
     "execution_count": 333,
     "metadata": {},
     "output_type": "execute_result"
    }
   ],
   "source": [
    "p(c)"
   ]
  },
  {
   "cell_type": "markdown",
   "metadata": {},
   "source": [
    "### 2c)"
   ]
  },
  {
   "cell_type": "code",
   "execution_count": 334,
   "metadata": {},
   "outputs": [
    {
     "data": {
      "text/plain": [
       "5.374134490214993"
      ]
     },
     "execution_count": 334,
     "metadata": {},
     "output_type": "execute_result"
    }
   ],
   "source": [
    "xmin=c[p(c).argsort()[0]]\n",
    "xmin"
   ]
  },
  {
   "cell_type": "markdown",
   "metadata": {},
   "source": [
    "Compruebe el mínimo global"
   ]
  },
  {
   "cell_type": "code",
   "execution_count": 335,
   "metadata": {},
   "outputs": [
    {
     "data": {
      "text/plain": [
       "array([5.37413447])"
      ]
     },
     "execution_count": 335,
     "metadata": {},
     "output_type": "execute_result"
    }
   ],
   "source": [
    "optimize.minimize(p,xmin,bounds=((1,10),))['x']"
   ]
  },
  {
   "cell_type": "markdown",
   "metadata": {},
   "source": [
    "Compruebe el máximo global"
   ]
  },
  {
   "cell_type": "code",
   "execution_count": 336,
   "metadata": {},
   "outputs": [
    {
     "data": {
      "text/plain": [
       "3.783247842609016"
      ]
     },
     "execution_count": 336,
     "metadata": {},
     "output_type": "execute_result"
    }
   ],
   "source": [
    "xmax=c[p(c).argsort()[-1]]\n",
    "xmax"
   ]
  },
  {
   "cell_type": "code",
   "execution_count": 337,
   "metadata": {},
   "outputs": [
    {
     "data": {
      "text/plain": [
       "array([3.78324786])"
      ]
     },
     "execution_count": 337,
     "metadata": {},
     "output_type": "execute_result"
    }
   ],
   "source": [
    "optimize.minimize(-p,xmax,bounds=((1,10),))['x']"
   ]
  },
  {
   "cell_type": "markdown",
   "metadata": {},
   "source": [
    "## 2d)"
   ]
  },
  {
   "cell_type": "code",
   "execution_count": 338,
   "metadata": {},
   "outputs": [
    {
     "data": {
      "image/png": "[encoded data removed]",
      "text/plain": [
       "<Figure size 432x288 with 1 Axes>"
      ]
     },
     "metadata": {
      "needs_background": "light"
     },
     "output_type": "display_data"
    }
   ],
   "source": [
    "x=np.linspace(1,10,100)\n",
    "plt.plot(x,p(x),'k-')\n",
    "plt.plot(c,p(c),'ro')\n",
    "plt.plot(xmin,p(xmin),'y*',markersize=15)\n",
    "plt.plot(xmax,p(xmax),'y*',markersize=15)\n",
    "plt.ylim(p(c).min()-100,p(c).max()+100)\n",
    "plt.xlim(c.min()-1,c.max()+1)\n",
    "plt.xlabel('$x$')\n",
    "plt.ylabel('$p(x)$')\n",
    "plt.grid()"
   ]
  },
  {
   "cell_type": "markdown",
   "metadata": {},
   "source": [
    "## Ejercicio\n",
    "Un vehículo parte del reposo en un punto con una aceleración constante de $a_1$. 10 segundos después pasa por el mismo punto, y en la misma dirección, un segundo vehículo con una rapidez de 10 m/s y con aceleración constante $a_2$. Calcule el punto de encuentro: \n",
    "1. Gráficamente \n",
    "1. Encontrando las raíces del polinomio generado a partir de igualar las dos ecuaciones de movimiento.\n",
    "1. Grafique el polinomio generado\n",
    "\n",
    "_Ayuda:_\n",
    "La ecuación de movimiento para el movimiento uniformemente acelerado es:\n",
    "\\begin{align}\n",
    "x=x_0+v_0 (t-t_0)+\\tfrac{1}{2} a (t-t_0)^2\\,,\n",
    "\\end{align}\n",
    "donde\n",
    "* $x_0$ es la posición inicial\n",
    "* $v_0$ es la rapidez inicial\n",
    "* $t_0$ es el tiempo inicial\n",
    "\n",
    "Ejecute la siguiente celda para fijar los valores de las aceleraciones en su caso"
   ]
  },
  {
   "cell_type": "code",
   "execution_count": 7,
   "metadata": {},
   "outputs": [
    {
     "name": "stdout",
     "output_type": "stream",
     "text": [
      "Populating the interactive namespace from numpy and matplotlib\n",
      "a1=5 m/s² and a2=9 m/s²\n"
     ]
    }
   ],
   "source": [
    "%pylab inline\n",
    "import numpy as np\n",
    "a1=np.random.choice([2,3,4,5,6])\n",
    "a2=a1+4\n",
    "print('a1={} m/s² and a2={} m/s²'.format(a1,a2))"
   ]
  },
  {
   "cell_type": "code",
   "execution_count": 8,
   "metadata": {
    "collapsed": true,
    "jupyter": {
     "outputs_hidden": true
    }
   },
   "outputs": [],
   "source": [
    "from scipy import optimize"
   ]
  },
  {
   "cell_type": "markdown",
   "metadata": {},
   "source": [
    "Se establecen las condiciones iniciales y se definen las ecuaciones de movimiento"
   ]
  },
  {
   "cell_type": "code",
   "execution_count": 9,
   "metadata": {
    "collapsed": true,
    "jupyter": {
     "outputs_hidden": true
    }
   },
   "outputs": [],
   "source": [
    "x0=0 #Posición inicial para 1 y 2\n",
    "v0=10 #Velocidad inicial de 2\n",
    "t0=10 #Tiempo inicial de 2\n",
    "\n",
    "x1 = lambda t: x0+0.5*a1*t**2\n",
    "x2 = lambda t: x0+v0*(t-t0)+0.5*a2*(t-t0)**2"
   ]
  },
  {
   "cell_type": "markdown",
   "metadata": {},
   "source": [
    "## 1. Gráficamente"
   ]
  },
  {
   "cell_type": "code",
   "execution_count": null,
   "metadata": {
    "collapsed": true,
    "jupyter": {
     "outputs_hidden": true
    }
   },
   "outputs": [],
   "source": [
    "plt.xlabel('Tiempo [s]', size=13)\n",
    "plt.ylabel('Posición [m]', size=13)"
   ]
  },
  {
   "cell_type": "code",
   "execution_count": 42,
   "metadata": {
    "scrolled": true
   },
   "outputs": [
    {
     "data": {
      "image/png": "[encoded data removed]",
      "text/plain": [
       "<matplotlib.figure.Figure at 0x7f505d6f3ba8>"
      ]
     },
     "metadata": {},
     "output_type": "display_data"
    }
   ],
   "source": [
    "t = np.linspace(0,50,100)\n",
    "plt.plot(t,x1(t), 'k', label=\"Vehiculo 1\", linewidth=2)\n",
    "plt.plot(t,x2(t), 'c', label=\"Vehiculo 2\", linewidth=2)\n",
    "plt.legend()\n",
    "plt.vlines(35,0,x1(t).max(), 'mediumslateblue', linestyles='--')\n",
    "plt.hlines(x1(35),0,t.max(), 'mediumslateblue', linestyles='--')\n",
    "plt.xlabel('Tiempo [s]', size=13)\n",
    "plt.ylabel('Posición [m]', size=13)\n",
    "plt.xlim(0,50)\n",
    "plt.ylim(0,x1(50))\n",
    "plt.grid()"
   ]
  },
  {
   "cell_type": "markdown",
   "metadata": {},
   "source": [
    "Gráficamente el punto de encuentro se da aproximadamente cuando t = 35 s a más de 3000 m "
   ]
  },
  {
   "cell_type": "markdown",
   "metadata": {},
   "source": [
    "## 2. Hallando las raíces del polinomio"
   ]
  },
  {
   "cell_type": "markdown",
   "metadata": {},
   "source": [
    "Se define le polinomio y se hallan sus raíces con el método de Newton"
   ]
  },
  {
   "cell_type": "code",
   "execution_count": 28,
   "metadata": {},
   "outputs": [
    {
     "data": {
      "text/plain": [
       "35.0"
      ]
     },
     "execution_count": 28,
     "metadata": {},
     "output_type": "execute_result"
    }
   ],
   "source": [
    "x = lambda t: x1(t)-x2(t)\n",
    "tf=optimize.newton(x,30) #Encuentra la raiz utilizando el metodo de Newton \n",
    "tf"
   ]
  },
  {
   "cell_type": "code",
   "execution_count": 29,
   "metadata": {},
   "outputs": [
    {
     "name": "stdout",
     "output_type": "stream",
     "text": [
      "El punto de encuentro es en x = 3062.5 m cuando t = 35.0 s\n"
     ]
    }
   ],
   "source": [
    "print('El punto de encuentro es en x = {} m cuando t = {} s'.format(x1(tf),tf))"
   ]
  },
  {
   "cell_type": "markdown",
   "metadata": {},
   "source": [
    "## 3. Graficando el polinomio"
   ]
  },
  {
   "cell_type": "code",
   "execution_count": 49,
   "metadata": {},
   "outputs": [
    {
     "data": {
      "image/png": "[encoded data removed]",
      "text/plain": [
       "<matplotlib.figure.Figure at 0x7f505d6e9898>"
      ]
     },
     "metadata": {},
     "output_type": "display_data"
    }
   ],
   "source": [
    "plt.plot(t,x(t), 'lightcoral', linewidth=2)\n",
    "plt.xlabel('Tiempo [s]', size = 13)\n",
    "plt.ylabel('$x_1(t)-x_2(t)$ [m]', size = 13)\n",
    "plt.xlim(0,50)\n",
    "plt.grid()"
   ]
  },
  {
   "cell_type": "markdown",
   "metadata": {},
   "source": [
    "Así, se ve que después de t =10s el polinomio $x_1(t)-x_2(t)$ es 0 cuando t = 35s"
   ]
  },
  {
   "cell_type": "code",
   "execution_count": 1,
   "metadata": {},
   "outputs": [],
   "source": [
    "import numpy as np"
   ]
  },
  {
   "cell_type": "code",
   "execution_count": 2,
   "metadata": {},
   "outputs": [
    {
     "data": {
      "text/plain": [
       "\u001b[0;31mSignature:\u001b[0m \u001b[0mnp\u001b[0m\u001b[0;34m.\u001b[0m\u001b[0msort\u001b[0m\u001b[0;34m(\u001b[0m\u001b[0ma\u001b[0m\u001b[0;34m,\u001b[0m \u001b[0maxis\u001b[0m\u001b[0;34m=\u001b[0m\u001b[0;34m-\u001b[0m\u001b[0;36m1\u001b[0m\u001b[0;34m,\u001b[0m \u001b[0mkind\u001b[0m\u001b[0;34m=\u001b[0m\u001b[0;32mNone\u001b[0m\u001b[0;34m,\u001b[0m \u001b[0morder\u001b[0m\u001b[0;34m=\u001b[0m\u001b[0;32mNone\u001b[0m\u001b[0;34m)\u001b[0m\u001b[0;34m\u001b[0m\u001b[0;34m\u001b[0m\u001b[0m\n",
       "\u001b[0;31mDocstring:\u001b[0m\n",
       "Return a sorted copy of an array.\n",
       "\n",
       "Parameters\n",
       "----------\n",
       "a : array_like\n",
       "    Array to be sorted.\n",
       "axis : int or None, optional\n",
       "    Axis along which to sort. If None, the array is flattened before\n",
       "    sorting. The default is -1, which sorts along the last axis.\n",
       "kind : {'quicksort', 'mergesort', 'heapsort', 'stable'}, optional\n",
       "    Sorting algorithm. The default is 'quicksort'. Note that both 'stable'\n",
       "    and 'mergesort' use timsort or radix sort under the covers and, in general,\n",
       "    the actual implementation will vary with data type. The 'mergesort' option\n",
       "    is retained for backwards compatibility.\n",
       "\n",
       "    .. versionchanged:: 1.15.0.\n",
       "       The 'stable' option was added.\n",
       "\n",
       "order : str or list of str, optional\n",
       "    When `a` is an array with fields defined, this argument specifies\n",
       "    which fields to compare first, second, etc.  A single field can\n",
       "    be specified as a string, and not all fields need be specified,\n",
       "    but unspecified fields will still be used, in the order in which\n",
       "    they come up in the dtype, to break ties.\n",
       "\n",
       "Returns\n",
       "-------\n",
       "sorted_array : ndarray\n",
       "    Array of the same type and shape as `a`.\n",
       "\n",
       "See Also\n",
       "--------\n",
       "ndarray.sort : Method to sort an array in-place.\n",
       "argsort : Indirect sort.\n",
       "lexsort : Indirect stable sort on multiple keys.\n",
       "searchsorted : Find elements in a sorted array.\n",
       "partition : Partial sort.\n",
       "\n",
       "Notes\n",
       "-----\n",
       "The various sorting algorithms are characterized by their average speed,\n",
       "worst case performance, work space size, and whether they are stable. A\n",
       "stable sort keeps items with the same key in the same relative\n",
       "order. The four algorithms implemented in NumPy have the following\n",
       "properties:\n",
       "\n",
       "=========== ======= ============= ============ ========\n",
       "   kind      speed   worst case    work space   stable\n",
       "=========== ======= ============= ============ ========\n",
       "'quicksort'    1     O(n^2)            0          no\n",
       "'heapsort'     3     O(n*log(n))       0          no\n",
       "'mergesort'    2     O(n*log(n))      ~n/2        yes\n",
       "'timsort'      2     O(n*log(n))      ~n/2        yes\n",
       "=========== ======= ============= ============ ========\n",
       "\n",
       ".. note:: The datatype determines which of 'mergesort' or 'timsort'\n",
       "   is actually used, even if 'mergesort' is specified. User selection\n",
       "   at a finer scale is not currently available.\n",
       "\n",
       "All the sort algorithms make temporary copies of the data when\n",
       "sorting along any but the last axis.  Consequently, sorting along\n",
       "the last axis is faster and uses less space than sorting along\n",
       "any other axis.\n",
       "\n",
       "The sort order for complex numbers is lexicographic. If both the real\n",
       "and imaginary parts are non-nan then the order is determined by the\n",
       "real parts except when they are equal, in which case the order is\n",
       "determined by the imaginary parts.\n",
       "\n",
       "Previous to numpy 1.4.0 sorting real and complex arrays containing nan\n",
       "values led to undefined behaviour. In numpy versions >= 1.4.0 nan\n",
       "values are sorted to the end. The extended sort order is:\n",
       "\n",
       "  * Real: [R, nan]\n",
       "  * Complex: [R + Rj, R + nanj, nan + Rj, nan + nanj]\n",
       "\n",
       "where R is a non-nan real value. Complex values with the same nan\n",
       "placements are sorted according to the non-nan part if it exists.\n",
       "Non-nan values are sorted as before.\n",
       "\n",
       ".. versionadded:: 1.12.0\n",
       "\n",
       "quicksort has been changed to `introsort <https://en.wikipedia.org/wiki/Introsort>`_.\n",
       "When sorting does not make enough progress it switches to\n",
       "`heapsort <https://en.wikipedia.org/wiki/Heapsort>`_.\n",
       "This implementation makes quicksort O(n*log(n)) in the worst case.\n",
       "\n",
       "'stable' automatically chooses the best stable sorting algorithm\n",
       "for the data type being sorted.\n",
       "It, along with 'mergesort' is currently mapped to\n",
       "`timsort <https://en.wikipedia.org/wiki/Timsort>`_\n",
       "or `radix sort <https://en.wikipedia.org/wiki/Radix_sort>`_\n",
       "depending on the data type.\n",
       "API forward compatibility currently limits the\n",
       "ability to select the implementation and it is hardwired for the different\n",
       "data types.\n",
       "\n",
       ".. versionadded:: 1.17.0\n",
       "\n",
       "Timsort is added for better performance on already or nearly\n",
       "sorted data. On random data timsort is almost identical to\n",
       "mergesort. It is now used for stable sort while quicksort is still the\n",
       "default sort if none is chosen. For timsort details, refer to\n",
       "`CPython listsort.txt <https://github.com/python/cpython/blob/3.7/Objects/listsort.txt>`_.\n",
       "'mergesort' and 'stable' are mapped to radix sort for integer data types. Radix sort is an\n",
       "O(n) sort instead of O(n log n).\n",
       "\n",
       ".. versionchanged:: 1.18.0\n",
       "\n",
       "NaT now sorts to the end of arrays for consistency with NaN.\n",
       "\n",
       "Examples\n",
       "--------\n",
       ">>> a = np.array([[1,4],[3,1]])\n",
       ">>> np.sort(a)                # sort along the last axis\n",
       "array([[1, 4],\n",
       "       [1, 3]])\n",
       ">>> np.sort(a, axis=None)     # sort the flattened array\n",
       "array([1, 1, 3, 4])\n",
       ">>> np.sort(a, axis=0)        # sort along the first axis\n",
       "array([[1, 1],\n",
       "       [3, 4]])\n",
       "\n",
       "Use the `order` keyword to specify a field to use when sorting a\n",
       "structured array:\n",
       "\n",
       ">>> dtype = [('name', 'S10'), ('height', float), ('age', int)]\n",
       ">>> values = [('Arthur', 1.8, 41), ('Lancelot', 1.9, 38),\n",
       "...           ('Galahad', 1.7, 38)]\n",
       ">>> a = np.array(values, dtype=dtype)       # create a structured array\n",
       ">>> np.sort(a, order='height')                        # doctest: +SKIP\n",
       "array([('Galahad', 1.7, 38), ('Arthur', 1.8, 41),\n",
       "       ('Lancelot', 1.8999999999999999, 38)],\n",
       "      dtype=[('name', '|S10'), ('height', '<f8'), ('age', '<i4')])\n",
       "\n",
       "Sort by age, then height if ages are equal:\n",
       "\n",
       ">>> np.sort(a, order=['age', 'height'])               # doctest: +SKIP\n",
       "array([('Galahad', 1.7, 38), ('Lancelot', 1.8999999999999999, 38),\n",
       "       ('Arthur', 1.8, 41)],\n",
       "      dtype=[('name', '|S10'), ('height', '<f8'), ('age', '<i4')])\n",
       "\u001b[0;31mFile:\u001b[0m      /usr/local/lib/python3.7/dist-packages/numpy/core/fromnumeric.py\n",
       "\u001b[0;31mType:\u001b[0m      function\n"
      ]
     },
     "metadata": {},
     "output_type": "display_data"
    }
   ],
   "source": [
    "np.sort?"
   ]
  },
  {
   "cell_type": "code",
   "execution_count": 3,
   "metadata": {},
   "outputs": [],
   "source": [
    "import numpy as np"
   ]
  },
  {
   "cell_type": "code",
   "execution_count": 12,
   "metadata": {},
   "outputs": [],
   "source": [
    "np.random.seed(98554576)"
   ]
  },
  {
   "cell_type": "code",
   "execution_count": 13,
   "metadata": {},
   "outputs": [
    {
     "data": {
      "text/plain": [
       "0.8089943552589222"
      ]
     },
     "execution_count": 13,
     "metadata": {},
     "output_type": "execute_result"
    }
   ],
   "source": [
    "np.random.random()"
   ]
  },
  {
   "cell_type": "code",
   "execution_count": null,
   "metadata": {},
   "outputs": [],
   "source": []
  }
 ],
 "metadata": {
  "kernelspec": {
   "display_name": "Python 3 (ipykernel)",
   "language": "python",
   "name": "python3"
  },
  "language_info": {
   "codemirror_mode": {
    "name": "ipython",
    "version": 3
   },
   "file_extension": ".py",
   "mimetype": "text/x-python",
   "name": "python",
   "nbconvert_exporter": "python",
   "pygments_lexer": "ipython3",
   "version": "3.7.3"
  },
  "toc": {
   "colors": {
    "hover_highlight": "#DAA520",
    "running_highlight": "#FF0000",
    "selected_highlight": "#FFD700"
   },
   "moveMenuLeft": true,
   "nav_menu": {
    "height": "30px",
    "width": "252px"
   },
   "navigate_menu": true,
   "number_sections": true,
   "sideBar": true,
   "threshold": 4,
   "toc_cell": false,
   "toc_section_display": "block",
   "toc_window_display": false
  }
 },
 "nbformat": 4,
 "nbformat_minor": 4
}
