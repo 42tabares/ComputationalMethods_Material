{
 "cells": [
  {
   "cell_type": "markdown",
   "metadata": {},
   "source": [
    "# Segundo examen\n",
    "\n",
    "<div style=\"float: right;\" markdown=\"1\">\n",
    "    <img src=\"https://github.com/restrepo/ComputationalMethods/raw/master/material/figures/leastaction_pendulum.svg?sanitize=true\">\n",
    "</div>\n",
    "Un observador mirando el movimiento de un péndulo simple con una masa en el extremo de $0.2\\ \\text{Kg}$ y una longitud  $l=1\\ \\text{m}$, activa un cronómetro cuando el péndulo, oscilando de izquierda a derecha, se encuentra en su posición vertical. El observador detiene el cronómetro después de un tiempo de $t_f=0.5026\\ \\text{s}$, justo cuando el péndulo alcanza su máxima altura formando un ángulo de $\\theta_0=10^\\circ$ con respecto a la vertical. Por lo tanto $t_f=T/4$, donde , donde $T$ es el período de la oscilación del péndulo simple.\n",
    "\n",
    "1. Minimizando la Acción del péndulo simple, la cual será explicada a continuación,  encuentre la trayectoria angular que describe el extremo del péndulo durante el tiempo de observación: en el plano del ángulo barrido en radianes en función del tiempo esquematizado en la figura. \n",
    "2. Grafique dicha trayectoria en plano $\\theta(t)$ vs $t$ y compare con la superposición del gráfico de la ecuación de movimiento $\\theta(t)=\\theta_0 \\sin(\\omega t)$, donde $\\omega$ es la frecuencia angular de la oscilación del péndulo simple, dada por $\\omega=2\\pi/T$.\n",
    "3. Compruebe que la trayectoría que minimiza la Acción también conserva la energía total: $E=K+V$, donde $K$ es la energía cinética del péndulo y $V$ es su energía potencial.\n",
    "\n",
    "## Acción para un péndulo simple\n",
    "\n",
    "<div style=\"float: right;\" markdown=\"1\">\n",
    "    <img src=\"https://github.com/restrepo/ComputationalMethods/raw/master/material/figures/pendulum.png\">\n",
    "</div>\n",
    "Vamos a tomar como origen del sistema de referencia el extremo inferior del péndulo en su posición vertical. Por lo tanto, la altura del extremo inferior del péndulo a un ángulo $\\theta$ com se muestra en la figura, es\n",
    "$$\n",
    "y=l-l\\cos\\theta=l(1-\\cos\\theta)\\,.\n",
    "$$\n",
    "Entonces\n",
    "\n",
    "* Energía potencial\n",
    "$$\n",
    "V=mgy=mgl(1-\\cos\\theta).\n",
    "$$\n",
    "* Como la velocidad de la masa es $v=l\\dot\\theta$, tenemos que la energía cinética es\n",
    "$$\n",
    "K=\\frac{1}{2}m v^2=\\frac{1}{2}ml^2\\dot\\theta^2\\,,\n",
    "$$\n",
    "donde $\\dot\\theta=d\\theta/dt\\,.$. \n",
    "\n",
    "La Lagrangiana, en función de las coordenadas generalizadas $\\theta$ y $\\dot\\theta$ es\n",
    "$$\n",
    "L=K-V=\\frac{1}{2}ml^2\\dot\\theta^2-mgl(1-\\cos\\theta)\\,,\n",
    "$$\n",
    "y, finalmente, la Acción a minimizar para encontrar la trayectoria física $\\theta(t)$, es\n",
    "$$\n",
    "S=\\int_0^{t_f} L\\,\\operatorname{d}t\\,.\n",
    "$$\n",
    "\n",
    "Para los detalles ver: http://www.aoengr.com/Dynamics/LagrangianMechanicsPendulum.pdf"
   ]
  }
 ],
 "metadata": {
  "kernelspec": {
   "display_name": "Python 3",
   "language": "python",
   "name": "python3"
  },
  "language_info": {
   "codemirror_mode": {
    "name": "ipython",
    "version": 3
   },
   "file_extension": ".py",
   "mimetype": "text/x-python",
   "name": "python",
   "nbconvert_exporter": "python",
   "pygments_lexer": "ipython3",
   "version": "3.5.3"
  },
  "toc": {
   "colors": {
    "hover_highlight": "#DAA520",
    "running_highlight": "#FF0000",
    "selected_highlight": "#FFD700"
   },
   "moveMenuLeft": true,
   "nav_menu": {
    "height": "12px",
    "width": "252px"
   },
   "navigate_menu": true,
   "number_sections": true,
   "sideBar": true,
   "threshold": 4,
   "toc_cell": false,
   "toc_section_display": "block",
   "toc_window_display": false
  }
 },
 "nbformat": 4,
 "nbformat_minor": 4
}
