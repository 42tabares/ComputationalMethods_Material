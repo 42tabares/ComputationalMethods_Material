{
 "cells": [
  {
   "cell_type": "markdown",
   "metadata": {
    "colab_type": "text",
    "id": "view-in-github"
   },
   "source": [
    "<a href=\"https://colab.research.google.com/github/restrepo/ComputationalMethods/blob/master/exams/Examen_2020_1_01_enunciado.ipynb\" target=\"_parent\"><img src=\"https://colab.research.google.com/assets/colab-badge.svg\" alt=\"Open In Colab\"/></a>"
   ]
  },
  {
   "cell_type": "markdown",
   "metadata": {
    "colab_type": "text",
    "id": "bWVchymOoRBb"
   },
   "source": [
    "# Primer Examen 15%"
   ]
  },
  {
   "cell_type": "markdown",
   "metadata": {
    "colab_type": "text",
    "id": "cuGCz-DOoRBc"
   },
   "source": [
    "## Ejercicio 1\n",
    "Encuentre las raices positivas de:\n",
    "$$x^{2}-4 x \\sin x+(2 \\sin x)^{2}=0$$"
   ]
  },
  {
   "cell_type": "markdown",
   "metadata": {
    "colab_type": "text",
    "id": "E6U6cMUsoRBc"
   },
   "source": [
    "## Ejercicio 2\n",
    "La rapidez $v$ de un cohete en un vuelo vertical cerca a la superficie de la tierra puede ser aproximada por \n",
    "$$\n",
    "v=u \\ln \\frac{M_{0}}{M_{0}-\\dot{m} t}-g t\n",
    "$$\n",
    "donde\n",
    "* $u$ en $\\mathrm{m} / \\mathrm{s}$, es la velocidad de expulsión del combustible relativa al cohete.\n",
    "* $M_{0}$ en $\\mathrm{kg}$ es la masa del cohete al tiempo de despegue. \n",
    "* $\\dot{m}$ en $\\mathrm{kg} / \\mathrm{s}$ es la tasa consumo de combustible \n",
    "* $g=9.8 \\mathrm{m} / \\mathrm{s}^{2}$ es la aceleración gravitacional\n",
    "* $t$ en $s$, tiempo medido desde el despegue\n",
    "\n",
    "Para los datos en: https://raw.githubusercontent.com/restrepo/ComputationalMethods/master/data/rocket.json\n",
    "\n",
    "1. Lea los datos en un `DataFrame` de `pandas` y verifique que $\\dot{m}$ (`mdot`) es la única columna que está cambiando.\n",
    "1. Agregue una columna al `DataFrame` con el tiempo que tarda el cohete para alcanzar la velocidad del sonido $(335 \\mathrm{m} / \\mathrm{s})$ para cada valor de $\\dot{m}$\n",
    "2. Gráfique dicho tiempo en función de $\\dot{m}$ rotulando apropiadamente los ejes"
   ]
  },
  {
   "cell_type": "code",
   "execution_count": 1,
   "metadata": {},
   "outputs": [
    {
     "name": "stdout",
     "output_type": "stream",
     "text": [
      "Populating the interactive namespace from numpy and matplotlib\n"
     ]
    }
   ],
   "source": [
    "%pylab inline"
   ]
  },
  {
   "cell_type": "code",
   "execution_count": 2,
   "metadata": {
    "colab": {},
    "colab_type": "code",
    "id": "NrhxLkBhqhLh"
   },
   "outputs": [],
   "source": [
    "import pandas as pd"
   ]
  },
  {
   "cell_type": "code",
   "execution_count": 3,
   "metadata": {},
   "outputs": [],
   "source": [
    "df=pd.read_json('https://raw.githubusercontent.com/restrepo/ComputationalMethods/master/data/rocket.json')"
   ]
  },
  {
   "cell_type": "code",
   "execution_count": 4,
   "metadata": {},
   "outputs": [
    {
     "data": {
      "text/html": [
       "<div>\n",
       "<style scoped>\n",
       "    .dataframe tbody tr th:only-of-type {\n",
       "        vertical-align: middle;\n",
       "    }\n",
       "\n",
       "    .dataframe tbody tr th {\n",
       "        vertical-align: top;\n",
       "    }\n",
       "\n",
       "    .dataframe thead th {\n",
       "        text-align: right;\n",
       "    }\n",
       "</style>\n",
       "<table border=\"1\" class=\"dataframe\">\n",
       "  <thead>\n",
       "    <tr style=\"text-align: right;\">\n",
       "      <th></th>\n",
       "      <th>M0</th>\n",
       "      <th>g</th>\n",
       "      <th>mdot</th>\n",
       "      <th>u</th>\n",
       "    </tr>\n",
       "  </thead>\n",
       "  <tbody>\n",
       "    <tr>\n",
       "      <th>0</th>\n",
       "      <td>2800000</td>\n",
       "      <td>9.8</td>\n",
       "      <td>10000</td>\n",
       "      <td>2510</td>\n",
       "    </tr>\n",
       "    <tr>\n",
       "      <th>1</th>\n",
       "      <td>2800000</td>\n",
       "      <td>9.8</td>\n",
       "      <td>11000</td>\n",
       "      <td>2510</td>\n",
       "    </tr>\n",
       "    <tr>\n",
       "      <th>2</th>\n",
       "      <td>2800000</td>\n",
       "      <td>9.8</td>\n",
       "      <td>12000</td>\n",
       "      <td>2510</td>\n",
       "    </tr>\n",
       "    <tr>\n",
       "      <th>3</th>\n",
       "      <td>2800000</td>\n",
       "      <td>9.8</td>\n",
       "      <td>13000</td>\n",
       "      <td>2510</td>\n",
       "    </tr>\n",
       "    <tr>\n",
       "      <th>4</th>\n",
       "      <td>2800000</td>\n",
       "      <td>9.8</td>\n",
       "      <td>14000</td>\n",
       "      <td>2510</td>\n",
       "    </tr>\n",
       "    <tr>\n",
       "      <th>5</th>\n",
       "      <td>2800000</td>\n",
       "      <td>9.8</td>\n",
       "      <td>15000</td>\n",
       "      <td>2510</td>\n",
       "    </tr>\n",
       "  </tbody>\n",
       "</table>\n",
       "</div>"
      ],
      "text/plain": [
       "        M0    g   mdot     u\n",
       "0  2800000  9.8  10000  2510\n",
       "1  2800000  9.8  11000  2510\n",
       "2  2800000  9.8  12000  2510\n",
       "3  2800000  9.8  13000  2510\n",
       "4  2800000  9.8  14000  2510\n",
       "5  2800000  9.8  15000  2510"
      ]
     },
     "execution_count": 4,
     "metadata": {},
     "output_type": "execute_result"
    }
   ],
   "source": [
    "df"
   ]
  },
  {
   "cell_type": "markdown",
   "metadata": {},
   "source": [
    "Evitar el uso de ciclos de Python "
   ]
  },
  {
   "cell_type": "code",
   "execution_count": 5,
   "metadata": {},
   "outputs": [],
   "source": [
    "import numpy as np\n",
    "from scipy import optimize"
   ]
  },
  {
   "cell_type": "code",
   "execution_count": 6,
   "metadata": {},
   "outputs": [],
   "source": [
    "vs=335.\n",
    "df['t']=df.apply(lambda row: #dictionary with the DataFrame row → requires axis='columns' at the end\n",
    "                 optimize.newton(\n",
    "                    lambda t: row.u * np.log(row.M0 / (row.M0 - row.mdot * t)) - row.g * t - vs, #Function\n",
    "                    x0=150 ), #initial guess\n",
    "                 axis='columns'\n",
    "                )"
   ]
  },
  {
   "cell_type": "code",
   "execution_count": 7,
   "metadata": {},
   "outputs": [
    {
     "data": {
      "text/html": [
       "<div>\n",
       "<style scoped>\n",
       "    .dataframe tbody tr th:only-of-type {\n",
       "        vertical-align: middle;\n",
       "    }\n",
       "\n",
       "    .dataframe tbody tr th {\n",
       "        vertical-align: top;\n",
       "    }\n",
       "\n",
       "    .dataframe thead th {\n",
       "        text-align: right;\n",
       "    }\n",
       "</style>\n",
       "<table border=\"1\" class=\"dataframe\">\n",
       "  <thead>\n",
       "    <tr style=\"text-align: right;\">\n",
       "      <th></th>\n",
       "      <th>M0</th>\n",
       "      <th>g</th>\n",
       "      <th>mdot</th>\n",
       "      <th>u</th>\n",
       "      <th>t</th>\n",
       "    </tr>\n",
       "  </thead>\n",
       "  <tbody>\n",
       "    <tr>\n",
       "      <th>0</th>\n",
       "      <td>2800000</td>\n",
       "      <td>9.8</td>\n",
       "      <td>10000</td>\n",
       "      <td>2510</td>\n",
       "      <td>135.830647</td>\n",
       "    </tr>\n",
       "    <tr>\n",
       "      <th>1</th>\n",
       "      <td>2800000</td>\n",
       "      <td>9.8</td>\n",
       "      <td>11000</td>\n",
       "      <td>2510</td>\n",
       "      <td>109.017811</td>\n",
       "    </tr>\n",
       "    <tr>\n",
       "      <th>2</th>\n",
       "      <td>2800000</td>\n",
       "      <td>9.8</td>\n",
       "      <td>12000</td>\n",
       "      <td>2510</td>\n",
       "      <td>89.202572</td>\n",
       "    </tr>\n",
       "    <tr>\n",
       "      <th>3</th>\n",
       "      <td>2800000</td>\n",
       "      <td>9.8</td>\n",
       "      <td>13000</td>\n",
       "      <td>2510</td>\n",
       "      <td>74.455682</td>\n",
       "    </tr>\n",
       "    <tr>\n",
       "      <th>4</th>\n",
       "      <td>2800000</td>\n",
       "      <td>9.8</td>\n",
       "      <td>14000</td>\n",
       "      <td>2510</td>\n",
       "      <td>63.324893</td>\n",
       "    </tr>\n",
       "    <tr>\n",
       "      <th>5</th>\n",
       "      <td>2800000</td>\n",
       "      <td>9.8</td>\n",
       "      <td>15000</td>\n",
       "      <td>2510</td>\n",
       "      <td>54.770940</td>\n",
       "    </tr>\n",
       "  </tbody>\n",
       "</table>\n",
       "</div>"
      ],
      "text/plain": [
       "        M0    g   mdot     u           t\n",
       "0  2800000  9.8  10000  2510  135.830647\n",
       "1  2800000  9.8  11000  2510  109.017811\n",
       "2  2800000  9.8  12000  2510   89.202572\n",
       "3  2800000  9.8  13000  2510   74.455682\n",
       "4  2800000  9.8  14000  2510   63.324893\n",
       "5  2800000  9.8  15000  2510   54.770940"
      ]
     },
     "execution_count": 7,
     "metadata": {},
     "output_type": "execute_result"
    }
   ],
   "source": [
    "df"
   ]
  },
  {
   "cell_type": "code",
   "execution_count": 8,
   "metadata": {},
   "outputs": [
    {
     "data": {
      "image/png": "[encoded data removed]",
      "text/plain": [
       "<Figure size 432x288 with 1 Axes>"
      ]
     },
     "metadata": {
      "needs_background": "light"
     },
     "output_type": "display_data"
    }
   ],
   "source": [
    "plt.plot(df.t,df.mdot)\n",
    "plt.xlabel('$t$ [s]',size=15)\n",
    "plt.ylabel(r'$\\dot{m}$ [Kg/s]',size=15)\n",
    "plt.grid()"
   ]
  },
  {
   "cell_type": "code",
   "execution_count": null,
   "metadata": {},
   "outputs": [],
   "source": []
  }
 ],
 "metadata": {
  "colab": {
   "include_colab_link": true,
   "name": "Examen_2020_1_01_enunciado.ipynb",
   "provenance": []
  },
  "kernelspec": {
   "display_name": "Python 3 (ipykernel)",
   "language": "python",
   "name": "python3"
  },
  "language_info": {
   "codemirror_mode": {
    "name": "ipython",
    "version": 3
   },
   "file_extension": ".py",
   "mimetype": "text/x-python",
   "name": "python",
   "nbconvert_exporter": "python",
   "pygments_lexer": "ipython3",
   "version": "3.7.3"
  },
  "toc": {
   "colors": {
    "hover_highlight": "#DAA520",
    "running_highlight": "#FF0000",
    "selected_highlight": "#FFD700"
   },
   "moveMenuLeft": true,
   "nav_menu": {
    "height": "30px",
    "width": "252px"
   },
   "navigate_menu": true,
   "number_sections": true,
   "sideBar": true,
   "threshold": 4,
   "toc_cell": false,
   "toc_section_display": "block",
   "toc_window_display": false
  }
 },
 "nbformat": 4,
 "nbformat_minor": 4
}
