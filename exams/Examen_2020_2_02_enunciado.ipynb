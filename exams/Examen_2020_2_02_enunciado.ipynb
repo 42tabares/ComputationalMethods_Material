{
 "cells": [
  {
   "cell_type": "markdown",
   "metadata": {
    "colab_type": "text",
    "id": "view-in-github"
   },
   "source": [
    "<a href=\"https://colab.research.google.com/github/restrepo/ComputationalMethods/blob/master/exams/Examen_2020_2_02_enunciado.ipynb\" target=\"_parent\"><img src=\"https://colab.research.google.com/assets/colab-badge.svg\" alt=\"Open In Colab\"/></a>"
   ]
  },
  {
   "cell_type": "markdown",
   "metadata": {
    "id": "CN-nz6iCZVao"
   },
   "source": [
    "I) The period of a pendulum of length l oscillating at a large angle $\\alpha$ is given by\n",
    "$$\n",
    "T=T_{0} \\frac{\\sqrt{2}}{\\pi} \\int_{0}^{\\alpha} \\frac{d \\theta}{(\\cos \\theta-\\cos \\alpha) \\frac{1}{2}}\n",
    "$$\n",
    "where\n",
    "$$\n",
    "T_{0}=2 \\pi \\sqrt{\\frac{l}{g}}\n",
    "$$\n",
    "is the period of the same pendulum at small amplitudes. Any numerical evaluation of the integral as is would fail (explain why). If we change the variable by writing:\n",
    "$$\n",
    "\\sin \\frac{\\theta}{2}=\\sin \\frac{\\alpha}{2} \\sin \\phi\n",
    "$$\n",
    "we can get:\n",
    "$$\n",
    "T=\\frac{2 T_{0}}{\\pi} \\int_{0}^{\\frac{\\pi}{2}} \\frac{d \\phi}{\\left(1-\\sin ^{2} \\frac{\\alpha}{2} \\sin ^{2} \\phi\\right)^{\\frac{1}{2}}}\n",
    "$$\n",
    "which is a well-behaved integral. Write a program to use the above integral to calculate the ratio $T/T_0$ for integral amplitudes $0^\\circ \\le\\alpha \\le 90^\\circ$. Output these values as a pandas dataframe showing the amplitude in degrees and radians as well as $T/T_0$, and make a plot with the two columns. Explain the result when $\\alpha = 0.$ "
   ]
  },
  {
   "cell_type": "markdown",
   "metadata": {
    "id": "Bc1wXQwxZVap"
   },
   "source": [
    "II)\n",
    "### Casas-Ibarra parameterization\n",
    "Consider a $n\\times n$ symmetric matrix $A$. We can assumme without lost of generality that this can be generated from a matrix $Y$ such that\n",
    "$$\n",
    "A=Y^{\\operatorname{T}}Y\n",
    "$$\n",
    "Theorem 1 gurantees that exists an ortogonal matrix $U$ such that\n",
    "$$\n",
    "U^{\\operatorname{T}} A U=U^{\\operatorname{T}} Y^{\\operatorname{T}}Y U=D_\\lambda\n",
    "$$\n",
    "where\n",
    "$$\n",
    "D_{\\lambda}=A_{\\text{diag}}=\\operatorname{diag}\\left(\\lambda_1,\\lambda_2,\\ldots,\\lambda_n\\right)\n",
    "$$\n",
    "where $\\lambda_i$ are the eigenvalues of $A$. Therefore\n",
    "\\begin{align}\n",
    " Y^{\\operatorname{T}}Y =&U D_\\lambda U^{\\operatorname{T}}\\\\\n",
    " =&U D_{\\sqrt{\\lambda}} D_{\\sqrt{\\lambda}} U^{\\operatorname{T}}\\\\\n",
    "\\end{align}\n",
    "where\n",
    "$$\n",
    "D_{\\sqrt{\\lambda}}=\\operatorname{diag}\\left(\\sqrt{\\lambda_1},\\sqrt{\\lambda_2},\\ldots \\sqrt{\\lambda_n}\\right)\n",
    "$$\n",
    "Therefore, exists an ortogonal arbitrary matrix $R$, such that\n",
    "$$\n",
    " Y^{\\operatorname{T}}Y =U D_{\\sqrt{\\lambda}}R^{\\operatorname{T}}R D_{\\sqrt{\\lambda}} U^{\\operatorname{T}}\\\\\n",
    "$$\n",
    "\n",
    "In this way, the matrix $Y$ can be parameterized in terms of $R$ as\n",
    "$$\n",
    "Y=R D_{\\sqrt{\\lambda}} U^{\\operatorname{T}}\n",
    "$$\n",
    "\n",
    "\n",
    "1) By using the previous equations, build a matrix $Y$ $2\\times 2$ with the following conditions\n",
    "* $R$ is an orthogonal matrix with a mixing angle as a random number between $(0,2\\pi)$. Use your identification number as the seed of the random number generator.\n",
    "* The eigenvalues are $\\lambda_1=2$ and $\\lambda_2=4$. \n",
    "* $U$ is a diagonalization matrix with mixing angle $\\pi/4$\n",
    "2) Build the matrix $A$ and check that has the proper eigenvalues and eigenvectors"
   ]
  },
  {
   "cell_type": "code",
   "execution_count": null,
   "metadata": {
    "id": "ueT_Gl6HZVaq"
   },
   "outputs": [],
   "source": []
  }
 ],
 "metadata": {
  "colab": {
   "include_colab_link": true,
   "name": "Examen_2020_2_02_enunciado.ipynb",
   "provenance": []
  },
  "kernelspec": {
   "display_name": "Python 3",
   "language": "python",
   "name": "python3"
  },
  "language_info": {
   "codemirror_mode": {
    "name": "ipython",
    "version": 3
   },
   "file_extension": ".py",
   "mimetype": "text/x-python",
   "name": "python",
   "nbconvert_exporter": "python",
   "pygments_lexer": "ipython3",
   "version": "3.7.3"
  }
 },
 "nbformat": 4,
 "nbformat_minor": 4
}
