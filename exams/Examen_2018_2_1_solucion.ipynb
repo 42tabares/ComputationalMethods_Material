{
  "nbformat": 4,
  "nbformat_minor": 0,
  "metadata": {
    "colab": {
      "name": "Examen_2018_02_1_solucion.ipynb",
      "version": "0.3.2",
      "provenance": [],
      "collapsed_sections": [],
      "include_colab_link": true
    },
    "kernelspec": {
      "name": "python3",
      "display_name": "Python 3"
    }
  },
  "cells": [
    {
      "cell_type": "markdown",
      "metadata": {
        "id": "view-in-github",
        "colab_type": "text"
      },
      "source": [
        "<a href=\"https://colab.research.google.com/github/restrepo/ComputationalMethods/blob/master/exams/Examen_2018_02_1_solucion.ipynb\" target=\"_parent\"><img src=\"https://colab.research.google.com/assets/colab-badge.svg\" alt=\"Open In Colab\"/></a>"
      ]
    },
    {
      "metadata": {
        "id": "WQRTv0HpW-H_",
        "colab_type": "text"
      },
      "cell_type": "markdown",
      "source": [
        "# Examen 2018-02 I\n",
        "Una partícula de masa m=0.2 Kg se mueve durante 0.4s de acuerdo a la trayectoría física descrita por los datos en:\n",
        "\n",
        "https://github.com/restrepo/ComputationalMethods/blob/master/data/mvto.csv\n",
        "\n",
        "con un error en x en la octava cifra decimal\n",
        "1. Determinar si la partícula esta en un movimiento de caída libre (obtener velocidad inicial) o en movimiento armónico simple  (obtener frecuencia angular)\n",
        "1.  Determinar la función de velocidad y aceleración  y comprobar la conservación de energía\n"
      ]
    },
    {
      "metadata": {
        "id": "VcvfqnDpaYCv",
        "colab_type": "text"
      },
      "cell_type": "markdown",
      "source": [
        "## Decomposition"
      ]
    },
    {
      "metadata": {
        "id": "VyIKdzUU963h",
        "colab_type": "code",
        "outputId": "0d573481-2bb7-4c2a-c24f-5996dba2acf8",
        "colab": {
          "base_uri": "https://localhost:8080/",
          "height": 34
        }
      },
      "cell_type": "code",
      "source": [
        "%pylab inline"
      ],
      "execution_count": 0,
      "outputs": [
        {
          "output_type": "stream",
          "text": [
            "Populating the interactive namespace from numpy and matplotlib\n"
          ],
          "name": "stdout"
        }
      ]
    },
    {
      "metadata": {
        "id": "VofeuO4_4rpy",
        "colab_type": "code",
        "colab": {}
      },
      "cell_type": "code",
      "source": [
        "import numpy as np\n",
        "import pandas as pd"
      ],
      "execution_count": 0,
      "outputs": []
    },
    {
      "metadata": {
        "id": "VUxbI-6v5axw",
        "colab_type": "code",
        "colab": {}
      },
      "cell_type": "code",
      "source": [
        "def xs(t,tend=0.4): \n",
        "    g=9.8\n",
        "    xmax=g*tend**2/8 # Free fall formula\n",
        "    w=(np.pi/2)/( 0.5*tend ) # v=0 condition for x=sin(w*t)\n",
        "    return xmax*np.sin(w*t)"
      ],
      "execution_count": 0,
      "outputs": []
    },
    {
      "metadata": {
        "id": "QfV66MHw94nU",
        "colab_type": "code",
        "colab": {}
      },
      "cell_type": "code",
      "source": [
        "def x(t,m=0.2,tend=0.4):\n",
        "    g=9.8\n",
        "    v0=g*tend/2\n",
        "    return v0*t-0.5*g*t**2"
      ],
      "execution_count": 0,
      "outputs": []
    },
    {
      "metadata": {
        "id": "oI0ioKkCpvCy",
        "colab_type": "code",
        "colab": {}
      },
      "cell_type": "code",
      "source": [
        "d=pd.DataFrame( {'t':tt,'x':xs(tt) })"
      ],
      "execution_count": 0,
      "outputs": []
    },
    {
      "metadata": {
        "id": "p2Yx71gar3JY",
        "colab_type": "text"
      },
      "cell_type": "markdown",
      "source": [
        "randomize x"
      ]
    },
    {
      "metadata": {
        "id": "7wJttiEarpuN",
        "colab_type": "code",
        "colab": {}
      },
      "cell_type": "code",
      "source": [
        "d['x']=d.x.values+np.random.uniform(-1,1,d.x.size)*1E-8"
      ],
      "execution_count": 0,
      "outputs": []
    },
    {
      "metadata": {
        "id": "zGJNoQoHqDmH",
        "colab_type": "code",
        "colab": {}
      },
      "cell_type": "code",
      "source": [
        "d.round(8).to_csv('mvto.csv',index=False)"
      ],
      "execution_count": 0,
      "outputs": []
    },
    {
      "metadata": {
        "id": "cZXkS4DZylgb",
        "colab_type": "text"
      },
      "cell_type": "markdown",
      "source": [
        "Copy and paste into [GitHub](https://github.com/restrepo/ComputationalMethods/blob/master/data/mvto.csv)"
      ]
    },
    {
      "metadata": {
        "id": "zY9OW7Wsp1dL",
        "colab_type": "code",
        "outputId": "e2683fdd-b13f-46f2-f9e8-ba624eeba5ad",
        "colab": {
          "base_uri": "https://localhost:8080/",
          "height": 204
        }
      },
      "cell_type": "code",
      "source": [
        "cat mvto.csv"
      ],
      "execution_count": 0,
      "outputs": [
        {
          "output_type": "stream",
          "text": [
            "t,x\n",
            "0.0,-0.0\n",
            "0.04444444,0.06703595\n",
            "0.08888889,0.12598637\n",
            "0.13333333,0.16974099\n",
            "0.17777778,0.19302233\n",
            "0.22222222,0.19302231\n",
            "0.26666667,0.16974098\n",
            "0.31111111,0.12598637\n",
            "0.35555556,0.06703594\n",
            "0.4,-1e-08\n"
          ],
          "name": "stdout"
        }
      ]
    },
    {
      "metadata": {
        "id": "icRmFr4DIiG8",
        "colab_type": "code",
        "outputId": "fb38a845-27ab-4e1d-f062-5633dd558152",
        "colab": {
          "base_uri": "https://localhost:8080/",
          "height": 282
        }
      },
      "cell_type": "code",
      "source": [
        "t=np.linspace(0,0.4,1000)\n",
        "n=10\n",
        "tt=np.linspace(0,0.4,n)\n",
        "plt.plot(t,xs(t))\n",
        "plt.plot(t,x(t))\n",
        "plt.plot(d.t,d.x,'ro')\n",
        "#plt.plot(tt,x(tt),'ko')\n",
        "#plt.xlim(0.15,0.25)\n",
        "#plt.ylim(0.175,0.2)"
      ],
      "execution_count": 0,
      "outputs": [
        {
          "output_type": "execute_result",
          "data": {
            "text/plain": [
              "[<matplotlib.lines.Line2D at 0x7f3c6a718668>]"
            ]
          },
          "metadata": {
            "tags": []
          },
          "execution_count": 325
        },
        {
          "output_type": "display_data",
          "data": {
            "image/png": "[encoded data removed]",
            "text/plain": [
              "<matplotlib.figure.Figure at 0x7f3c6a7826d8>"
            ]
          },
          "metadata": {
            "tags": []
          }
        }
      ]
    },
    {
      "metadata": {
        "id": "EXXF6H3CnmSX",
        "colab_type": "text"
      },
      "cell_type": "markdown",
      "source": [
        "## Solución Lagrange"
      ]
    },
    {
      "metadata": {
        "id": "tj6zM7Crw_LJ",
        "colab_type": "code",
        "colab": {}
      },
      "cell_type": "code",
      "source": [
        "d=pd.read_csv('https://raw.githubusercontent.com/restrepo/ComputationalMethods/master/data/mvto.csv')"
      ],
      "execution_count": 0,
      "outputs": []
    },
    {
      "metadata": {
        "id": "CvXlBLvLnrME",
        "colab_type": "text"
      },
      "cell_type": "markdown",
      "source": [
        "Primero encontramos un modelo fenomenológico que fitee los datos lo mejor posible: Por ejemplo, un polinomio de ordern 9 de Lagrange para los 10 puntos"
      ]
    },
    {
      "metadata": {
        "id": "kVoCl90Fn-eS",
        "colab_type": "code",
        "colab": {}
      },
      "cell_type": "code",
      "source": [
        "from scipy import interpolate\n",
        "from scipy import optimize"
      ],
      "execution_count": 0,
      "outputs": []
    },
    {
      "metadata": {
        "id": "WGkDLwV2n_ri",
        "colab_type": "code",
        "outputId": "a36a2e99-afa6-43aa-da97-a3c47731a3c7",
        "colab": {
          "base_uri": "https://localhost:8080/",
          "height": 85
        }
      },
      "cell_type": "code",
      "source": [
        "p=interpolate.lagrange(d.t,d.x)\n",
        "\n",
        "print(p)"
      ],
      "execution_count": 0,
      "outputs": [
        {
          "output_type": "stream",
          "text": [
            "        9         8         7         6         5          4         3\n",
            "-6.435 x + 77.62 x - 114.4 x + 13.77 x + 46.07 x + 0.3373 x - 15.85 x\n",
            "              2\n",
            " + 0.0009316 x + 1.539 x\n"
          ],
          "name": "stdout"
        }
      ]
    },
    {
      "metadata": {
        "id": "_GLJyIIBrEQj",
        "colab_type": "code",
        "outputId": "b06b947d-7043-46e0-ec64-f09f6875e80d",
        "colab": {
          "base_uri": "https://localhost:8080/",
          "height": 34
        }
      },
      "cell_type": "code",
      "source": [
        "t=np.linspace(0,0.4,10000)\n",
        "p(t).max()"
      ],
      "execution_count": 0,
      "outputs": [
        {
          "output_type": "execute_result",
          "data": {
            "text/plain": [
              "0.19599999365261267"
            ]
          },
          "metadata": {
            "tags": []
          },
          "execution_count": 98
        }
      ]
    },
    {
      "metadata": {
        "id": "1prhIgM2tw6d",
        "colab_type": "code",
        "colab": {}
      },
      "cell_type": "code",
      "source": [
        "t=np.linspace(0,0.4,10000)\n",
        "xmax=p(t).max()"
      ],
      "execution_count": 0,
      "outputs": []
    },
    {
      "metadata": {
        "id": "FEgmx1vDoXvW",
        "colab_type": "code",
        "outputId": "15c1f5d0-d91a-49a1-95d6-3dbbb6ca3e84",
        "colab": {
          "base_uri": "https://localhost:8080/",
          "height": 282
        }
      },
      "cell_type": "code",
      "source": [
        "t=np.linspace(0,0.4)\n",
        "plt.plot(d.t,d.x,'ro')\n",
        "plt.plot(t,p(t),'c--')b"
      ],
      "execution_count": 0,
      "outputs": [
        {
          "output_type": "execute_result",
          "data": {
            "text/plain": [
              "[<matplotlib.lines.Line2D at 0x7f1514310da0>]"
            ]
          },
          "metadata": {
            "tags": []
          },
          "execution_count": 100
        },
        {
          "output_type": "display_data",
          "data": {
            "image/png": "[encoded data removed]",
            "text/plain": [
              "<matplotlib.figure.Figure at 0x7f1514376f28>"
            ]
          },
          "metadata": {
            "tags": []
          }
        }
      ]
    },
    {
      "metadata": {
        "id": "0j9nJkpI7T9c",
        "colab_type": "text"
      },
      "cell_type": "markdown",
      "source": [
        "Luego comparamos el modelo propuesto con el modelo fenomenológico"
      ]
    },
    {
      "metadata": {
        "id": "D2PJIxVmpBdW",
        "colab_type": "text"
      },
      "cell_type": "markdown",
      "source": [
        "###  Movimiento armónico simple"
      ]
    },
    {
      "metadata": {
        "id": "Qfj3KQ7oorHU",
        "colab_type": "code",
        "colab": {}
      },
      "cell_type": "code",
      "source": [
        "def xs(t,w=7,A=xmax): \n",
        "    return A*np.sin(w*t)"
      ],
      "execution_count": 0,
      "outputs": []
    },
    {
      "metadata": {
        "id": "5sFW8HjKpAhZ",
        "colab_type": "code",
        "colab": {}
      },
      "cell_type": "code",
      "source": [
        "def fmin(w,tmin=0.,tmax=0.4,n=50):\n",
        "    t=np.linspace(tmin,tmax,n)\n",
        "    chi2=( ( ( p(t)-xs(t,w) )/( p(t)+1E-16 )  )**2).sum() # 1E-16 suaviza divergencia\n",
        "    return chi2"
      ],
      "execution_count": 0,
      "outputs": []
    },
    {
      "metadata": {
        "id": "BCh4tv4JvVvj",
        "colab_type": "code",
        "outputId": "99a6f5f8-1e13-4abe-fd42-8d47013256d6",
        "colab": {
          "base_uri": "https://localhost:8080/",
          "height": 85
        }
      },
      "cell_type": "code",
      "source": [
        "wmin=optimize.fmin_powell(fmin,7,xtol=1E-16)"
      ],
      "execution_count": 0,
      "outputs": [
        {
          "output_type": "stream",
          "text": [
            "Optimization terminated successfully.\n",
            "         Current function value: 0.000000\n",
            "         Iterations: 2\n",
            "         Function evaluations: 24\n"
          ],
          "name": "stdout"
        }
      ]
    },
    {
      "metadata": {
        "id": "zzZS6IuSv_tM",
        "colab_type": "code",
        "outputId": "efa2e7a4-f4f2-46c6-87d7-8bf771d5c0c1",
        "colab": {
          "base_uri": "https://localhost:8080/",
          "height": 34
        }
      },
      "cell_type": "code",
      "source": [
        "wmin=wmin.flatten()[0]\n",
        "wmin"
      ],
      "execution_count": 0,
      "outputs": [
        {
          "output_type": "execute_result",
          "data": {
            "text/plain": [
              "7.853981506558196"
            ]
          },
          "metadata": {
            "tags": []
          },
          "execution_count": 153
        }
      ]
    },
    {
      "metadata": {
        "id": "kIlPZEFHp7Az",
        "colab_type": "code",
        "outputId": "fd320595-ad7f-4fda-aaa3-81e84d375204",
        "colab": {
          "base_uri": "https://localhost:8080/",
          "height": 282
        }
      },
      "cell_type": "code",
      "source": [
        "t=np.linspace(0,0.4)\n",
        "plt.plot(d.t,d.x,'ro')\n",
        "plt.plot(t,p(t),'c--',lw=4)\n",
        "plt.plot(t,xs(t,wmin),'k-')"
      ],
      "execution_count": 0,
      "outputs": [
        {
          "output_type": "execute_result",
          "data": {
            "text/plain": [
              "[<matplotlib.lines.Line2D at 0x7f15145a5f28>]"
            ]
          },
          "metadata": {
            "tags": []
          },
          "execution_count": 154
        },
        {
          "output_type": "display_data",
          "data": {
            "image/png": "[encoded data removed]",
            "text/plain": [
              "<matplotlib.figure.Figure at 0x7f15147bb550>"
            ]
          },
          "metadata": {
            "tags": []
          }
        }
      ]
    },
    {
      "metadata": {
        "colab_type": "text",
        "id": "2CduDAo20xkx"
      },
      "cell_type": "markdown",
      "source": [
        "True value"
      ]
    },
    {
      "metadata": {
        "colab_type": "code",
        "outputId": "cf2b13ee-dd8d-468d-ac2d-d018cb113369",
        "id": "mh_tO89W0xky",
        "colab": {
          "base_uri": "https://localhost:8080/",
          "height": 34
        }
      },
      "cell_type": "code",
      "source": [
        "print('wfit={} rad/s'.format( (np.pi/2)/( 0.5*tend ) ) )"
      ],
      "execution_count": 0,
      "outputs": [
        {
          "output_type": "stream",
          "text": [
            "wfit=7.853981633974483 rad/s\n"
          ],
          "name": "stdout"
        }
      ]
    },
    {
      "metadata": {
        "colab_type": "text",
        "id": "TvXKpyFpxvOf"
      },
      "cell_type": "markdown",
      "source": [
        "### Caída libre"
      ]
    },
    {
      "metadata": {
        "colab_type": "code",
        "id": "Ohx7XRYUxvOh",
        "colab": {}
      },
      "cell_type": "code",
      "source": [
        "def x(t,v0=1.96):\n",
        "    return v0*t-0.5*g*t**2"
      ],
      "execution_count": 0,
      "outputs": []
    },
    {
      "metadata": {
        "colab_type": "code",
        "id": "ucaEaP9ex07I",
        "colab": {}
      },
      "cell_type": "code",
      "source": [
        "def fffmin(v0,tmin=0.,tmax=0.4,n=50):\n",
        "    t=np.linspace(tmin,tmax,n)\n",
        "    chi2=( ( ( p(t)-x(t,v0) )/( p(t)+1E-16  )  )**2).sum()\n",
        "    return chi2"
      ],
      "execution_count": 0,
      "outputs": []
    },
    {
      "metadata": {
        "colab_type": "code",
        "outputId": "4b3ce4f9-c69a-41a1-b570-e4a31dc7235b",
        "id": "tof9RDsOx07M",
        "colab": {
          "base_uri": "https://localhost:8080/",
          "height": 85
        }
      },
      "cell_type": "code",
      "source": [
        "v0min=optimize.fmin_powell(fffmin,1,xtol=1E-16)"
      ],
      "execution_count": 0,
      "outputs": [
        {
          "output_type": "stream",
          "text": [
            "Optimization terminated successfully.\n",
            "         Current function value: 0.596573\n",
            "         Iterations: 2\n",
            "         Function evaluations: 76\n"
          ],
          "name": "stdout"
        }
      ]
    },
    {
      "metadata": {
        "colab_type": "code",
        "outputId": "892af68e-672e-4008-aef0-bd41f48d8475",
        "id": "U9gig9Oox07P",
        "colab": {
          "base_uri": "https://localhost:8080/",
          "height": 34
        }
      },
      "cell_type": "code",
      "source": [
        "v0min=v0min.flatten()[0]\n",
        "v0min"
      ],
      "execution_count": 0,
      "outputs": [
        {
          "output_type": "execute_result",
          "data": {
            "text/plain": [
              "1.9600000249741352"
            ]
          },
          "metadata": {
            "tags": []
          },
          "execution_count": 158
        }
      ]
    },
    {
      "metadata": {
        "colab_type": "code",
        "outputId": "6a36a2e6-d6ab-44f9-e9b7-493018143db6",
        "id": "AgGcGnMwx07R",
        "colab": {
          "base_uri": "https://localhost:8080/",
          "height": 282
        }
      },
      "cell_type": "code",
      "source": [
        "t=np.linspace(0,0.4)\n",
        "plt.plot(d.t,d.x,'ro')\n",
        "plt.plot(t,p(t),'c--',lw=4)\n",
        "plt.plot(t,x(t,v0min),'k-')"
      ],
      "execution_count": 0,
      "outputs": [
        {
          "output_type": "execute_result",
          "data": {
            "text/plain": [
              "[<matplotlib.lines.Line2D at 0x7f151476dfd0>]"
            ]
          },
          "metadata": {
            "tags": []
          },
          "execution_count": 159
        },
        {
          "output_type": "display_data",
          "data": {
            "image/png": "[encoded data removed]",
            "text/plain": [
              "<matplotlib.figure.Figure at 0x7f15145a1630>"
            ]
          },
          "metadata": {
            "tags": []
          }
        }
      ]
    },
    {
      "metadata": {
        "id": "RmIr7nkgyafx",
        "colab_type": "code",
        "outputId": "7ef693f5-7f99-469f-c05c-a6eed1955824",
        "colab": {
          "base_uri": "https://localhost:8080/",
          "height": 34
        }
      },
      "cell_type": "code",
      "source": [
        "x(0.4,v0min)"
      ],
      "execution_count": 0,
      "outputs": [
        {
          "output_type": "execute_result",
          "data": {
            "text/plain": [
              "9.989653881881111e-09"
            ]
          },
          "metadata": {
            "tags": []
          },
          "execution_count": 160
        }
      ]
    },
    {
      "metadata": {
        "id": "NweqVlTOK-rB",
        "colab_type": "text"
      },
      "cell_type": "markdown",
      "source": [
        "##  Solución II"
      ]
    },
    {
      "metadata": {
        "id": "sGCFnQVxlD7Q",
        "colab_type": "code",
        "colab": {}
      },
      "cell_type": "code",
      "source": [
        "from scipy import optimize"
      ],
      "execution_count": 0,
      "outputs": []
    },
    {
      "metadata": {
        "id": "xIaeCsAueAOn",
        "colab_type": "code",
        "colab": {}
      },
      "cell_type": "code",
      "source": [
        "g=9.8\n",
        "tend=0.4"
      ],
      "execution_count": 0,
      "outputs": []
    },
    {
      "metadata": {
        "id": "cgOcV8v3y_n2",
        "colab_type": "code",
        "colab": {}
      },
      "cell_type": "code",
      "source": [
        "p=interpolate.lagrange(d.t,d.x)\n",
        "t=np.linspace(0,0.4,10000)\n",
        "xmax=p(t).max()"
      ],
      "execution_count": 0,
      "outputs": []
    },
    {
      "metadata": {
        "id": "-bmTNqklmZcq",
        "colab_type": "code",
        "outputId": "f4a929ea-3308-48e3-e938-c3bac9c113d3",
        "colab": {
          "base_uri": "https://localhost:8080/",
          "height": 34
        }
      },
      "cell_type": "code",
      "source": [
        "print( 'True value xmax={} m'.format( g*tend**2/8 ) )"
      ],
      "execution_count": 0,
      "outputs": [
        {
          "output_type": "stream",
          "text": [
            "True value xmax=0.19600000000000006 m\n"
          ],
          "name": "stdout"
        }
      ]
    },
    {
      "metadata": {
        "id": "um12lN9yviDc",
        "colab_type": "text"
      },
      "cell_type": "markdown",
      "source": [
        "###  Movimiento armónico simple"
      ]
    },
    {
      "metadata": {
        "id": "smqRdHPjf_zz",
        "colab_type": "code",
        "colab": {}
      },
      "cell_type": "code",
      "source": [
        "def xs(t,w=7): \n",
        "    return xmax*np.sin(w*t)"
      ],
      "execution_count": 0,
      "outputs": []
    },
    {
      "metadata": {
        "id": "erAKH9frhS65",
        "colab_type": "text"
      },
      "cell_type": "markdown",
      "source": [
        "minimizar en w:"
      ]
    },
    {
      "metadata": {
        "id": "UpsCpCxWkF0G",
        "colab_type": "code",
        "colab": {}
      },
      "cell_type": "code",
      "source": [
        "def fmin(w):\n",
        "    return (  ( ( d.x-xs(d.t,w) )/d.x )**2 ).sum()"
      ],
      "execution_count": 0,
      "outputs": []
    },
    {
      "metadata": {
        "id": "LweWbBIflHOD",
        "colab_type": "code",
        "outputId": "4f788159-92f1-4988-8ec8-9ea38a496dec",
        "colab": {
          "base_uri": "https://localhost:8080/",
          "height": 85
        }
      },
      "cell_type": "code",
      "source": [
        "wmin=optimize.fmin_powell(fmin,5,xtol=1E-16)"
      ],
      "execution_count": 0,
      "outputs": [
        {
          "output_type": "stream",
          "text": [
            "Optimization terminated successfully.\n",
            "         Current function value: 0.000000\n",
            "         Iterations: 2\n",
            "         Function evaluations: 26\n"
          ],
          "name": "stdout"
        }
      ]
    },
    {
      "metadata": {
        "id": "djsoV-1BxMka",
        "colab_type": "code",
        "outputId": "b31424b1-5fc4-4aa8-e948-dc6f780ee925",
        "colab": {
          "base_uri": "https://localhost:8080/",
          "height": 34
        }
      },
      "cell_type": "code",
      "source": [
        "wmin=wmin.flatten()[0]\n",
        "wmin"
      ],
      "execution_count": 0,
      "outputs": [
        {
          "output_type": "execute_result",
          "data": {
            "text/plain": [
              "7.8539815064240335"
            ]
          },
          "metadata": {
            "tags": []
          },
          "execution_count": 181
        }
      ]
    },
    {
      "metadata": {
        "id": "vWz8lMHSm7k7",
        "colab_type": "text"
      },
      "cell_type": "markdown",
      "source": [
        "check"
      ]
    },
    {
      "metadata": {
        "id": "1wLxeV3YhWWK",
        "colab_type": "code",
        "outputId": "55d44967-ca96-4444-fb18-7b593a001b27",
        "colab": {
          "base_uri": "https://localhost:8080/",
          "height": 204
        }
      },
      "cell_type": "code",
      "source": [
        "( d.x-xs(d.t,w=wmin) ).abs()<1E-7"
      ],
      "execution_count": 0,
      "outputs": [
        {
          "output_type": "execute_result",
          "data": {
            "text/plain": [
              "0    True\n",
              "1    True\n",
              "2    True\n",
              "3    True\n",
              "4    True\n",
              "5    True\n",
              "6    True\n",
              "7    True\n",
              "8    True\n",
              "9    True\n",
              "dtype: bool"
            ]
          },
          "metadata": {
            "tags": []
          },
          "execution_count": 169
        }
      ]
    },
    {
      "metadata": {
        "id": "YPpuqxuG0qbt",
        "colab_type": "text"
      },
      "cell_type": "markdown",
      "source": [
        "True value"
      ]
    },
    {
      "metadata": {
        "id": "uWx1xjgwgWx6",
        "colab_type": "code",
        "outputId": "117e2c96-a3b6-4bd9-f246-78c2d2cc3e7d",
        "colab": {
          "base_uri": "https://localhost:8080/",
          "height": 34
        }
      },
      "cell_type": "code",
      "source": [
        "print('wfit={} rad/s'.format( (np.pi/2)/( 0.5*tend ) ) )"
      ],
      "execution_count": 0,
      "outputs": [
        {
          "output_type": "stream",
          "text": [
            "wfit=7.853981633974483 rad/s\n"
          ],
          "name": "stdout"
        }
      ]
    },
    {
      "metadata": {
        "id": "WLkvQJyqis4z",
        "colab_type": "text"
      },
      "cell_type": "markdown",
      "source": [
        "### Caída libre"
      ]
    },
    {
      "metadata": {
        "id": "W2UIBpSzhx-Y",
        "colab_type": "code",
        "colab": {}
      },
      "cell_type": "code",
      "source": [
        "def x(t,v0=1.96):\n",
        "    return v0*t-0.5*g*t**2"
      ],
      "execution_count": 0,
      "outputs": []
    },
    {
      "metadata": {
        "id": "Z16MywDhig_w",
        "colab_type": "code",
        "colab": {}
      },
      "cell_type": "code",
      "source": [
        "def fffmin(v0):\n",
        "    return ( ( ( d.x- x(d.t,v0 ) )/d.x )**2 ).sum()"
      ],
      "execution_count": 0,
      "outputs": []
    },
    {
      "metadata": {
        "id": "2zEno2UDniTt",
        "colab_type": "code",
        "outputId": "6fe88a04-cc61-4135-ed19-099533a8901c",
        "colab": {
          "base_uri": "https://localhost:8080/",
          "height": 85
        }
      },
      "cell_type": "code",
      "source": [
        "v0min=optimize.fmin_powell(  fffmin,1 ,ftol=1E-16)"
      ],
      "execution_count": 0,
      "outputs": [
        {
          "output_type": "stream",
          "text": [
            "Optimization terminated successfully.\n",
            "         Current function value: 0.060932\n",
            "         Iterations: 2\n",
            "         Function evaluations: 31\n"
          ],
          "name": "stdout"
        }
      ]
    },
    {
      "metadata": {
        "id": "cIdV71_jyDbU",
        "colab_type": "code",
        "outputId": "3b324e27-24e5-4c97-f54f-5ab353bd3974",
        "colab": {
          "base_uri": "https://localhost:8080/",
          "height": 34
        }
      },
      "cell_type": "code",
      "source": [
        "v0min=v0min.flatten()[0]\n",
        "v0min"
      ],
      "execution_count": 0,
      "outputs": [
        {
          "output_type": "execute_result",
          "data": {
            "text/plain": [
              "1.9600000249999996"
            ]
          },
          "metadata": {
            "tags": []
          },
          "execution_count": 186
        }
      ]
    },
    {
      "metadata": {
        "id": "tB0Kn4dzoCeX",
        "colab_type": "code",
        "outputId": "6264f88c-4a54-4a52-d951-007c3c3ae0a3",
        "colab": {
          "base_uri": "https://localhost:8080/",
          "height": 204
        }
      },
      "cell_type": "code",
      "source": [
        " ( d.x- x(d.t,v0=v0min ) ).abs()<1E-7"
      ],
      "execution_count": 0,
      "outputs": [
        {
          "output_type": "execute_result",
          "data": {
            "text/plain": [
              "0     True\n",
              "1    False\n",
              "2    False\n",
              "3    False\n",
              "4    False\n",
              "5    False\n",
              "6    False\n",
              "7    False\n",
              "8    False\n",
              "9     True\n",
              "dtype: bool"
            ]
          },
          "metadata": {
            "tags": []
          },
          "execution_count": 187
        }
      ]
    },
    {
      "metadata": {
        "id": "aq4Hn_xoiENI",
        "colab_type": "code",
        "outputId": "40de8f52-adad-4a0e-daeb-fc741b623a6b",
        "colab": {
          "base_uri": "https://localhost:8080/",
          "height": 34
        }
      },
      "cell_type": "code",
      "source": [
        "print( 'True value: v0={} m/s'.format( g*tend/2 ) )"
      ],
      "execution_count": 0,
      "outputs": [
        {
          "output_type": "stream",
          "text": [
            "True value: v0=1.9600000000000002 m/s\n"
          ],
          "name": "stdout"
        }
      ]
    },
    {
      "metadata": {
        "id": "bV2ypSdaF70f",
        "colab_type": "text"
      },
      "cell_type": "markdown",
      "source": [
        "## Conclusión: mvto armónico simple es mejor"
      ]
    }
  ]
}
