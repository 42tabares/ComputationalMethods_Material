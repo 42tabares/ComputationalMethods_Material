{
 "cells": [
  {
   "cell_type": "markdown",
   "metadata": {},
   "source": [
    "## Examen 3\n",
    "1. Considere una matrix $A$, $3\\times 3$ real, que se pueda diagonalizar con una transformación del  tipo\n",
    "\\begin{align}\n",
    "  A_{\\text{diag}}=P^T\\cdot A \\cdot U\\,,\n",
    "\\end{align}\n",
    "donde $P$ es una matrix de permutación ortogonal, es decir, de entradas 0 y $\\pm 1$, y $U$ es una matriz de rotación en términos de tres ángulos de mezcla: $\\theta_{12}$, $\\theta_{23}$, $\\theta_{13}$\n",
    "\\begin{align*}                                                                  \n",
    "U=\\begin{bmatrix}                                                                 \n",
    "c_{12}c_{13}                    &s_{12}c_{13}                & s_{13}  \\\\       \n",
    "-s_{12}c_{23}-c_{12}s_{23}s_{13}  & c_{12}c_{23}-s_{12}s_{23}s_{13}& s_{23}c_{13}\\\\                            s_{12}s_{23}-c_{12}c_{23}s_{13}  &-c_{12}s_{23}-s_{12}c_{23}s_{13}& c_{23}c_{13}\\\\ \n",
    "\\end{bmatrix}                                                                   \n",
    "\\end{align*}\n",
    "donde $c_{12}=\\cos\\theta_{12}$, etc. Construya una función de python, que acepte como entrada una matrix, y entrege como salida los tres autovectores ordenados de mayor a menor y los tres ángulos de mezcla en grados.  Aplique dicha función sobre la matrix:\n",
    "```\n",
    "A=np.array( [\n",
    " [7.778162746217654799e+00, -7.662363998929994757e+00,  1.337296616780795588e+00],\n",
    " [2.121317112604814703e+00,  2.088449805848296759e+00, -3.720095646918017973e-01],\n",
    " [6.981313463593235256e-03,  6.945916527427932197e-01,  3.939225012258420922e+00]] )\n",
    "```\n",
    "3. Grafique el espacio de configuración elongación-velocidad, de una masa $m=1\\ $Kg  en el extremo de un resorte de constante elástica $k=1\\ $N/m sometida a una fuerza de fricción proporcional a velocidad con coeficiente de fricción $b=1/3\\ $N$\\cdot$s/m. Considere elongaciónes iniciales en el intervalo $-1\\ $m a $1\\ $m y velocidades iniciales entre $-1\\ $m/s y $1\\ $m/s"
   ]
  }
 ],
 "metadata": {
  "kernelspec": {
   "display_name": "Python 3",
   "language": "python",
   "name": "python3"
  },
  "language_info": {
   "codemirror_mode": {
    "name": "ipython",
    "version": 3
   },
   "file_extension": ".py",
   "mimetype": "text/x-python",
   "name": "python",
   "nbconvert_exporter": "python",
   "pygments_lexer": "ipython3",
   "version": "3.5.3"
  }
 },
 "nbformat": 4,
 "nbformat_minor": 2
}
