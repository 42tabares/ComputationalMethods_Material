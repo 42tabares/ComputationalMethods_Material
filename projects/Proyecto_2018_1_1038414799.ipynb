{
 "cells": [
  {
   "cell_type": "code",
   "execution_count": 10,
   "metadata": {},
   "outputs": [
    {
     "name": "stdout",
     "output_type": "stream",
     "text": [
      "Populating the interactive namespace from numpy and matplotlib\n"
     ]
    }
   ],
   "source": [
    "%pylab inline"
   ]
  },
  {
   "cell_type": "code",
   "execution_count": null,
   "metadata": {
    "collapsed": true
   },
   "outputs": [],
   "source": [
    "'''\n",
    "Nota: Antés de correr el programa asegurarse de tener instalado ipywidgets y usar el comando:\n",
    "\n",
    "jupyter nbextension enable --py widgetsnbextension \n",
    "\n",
    "para el adecuado funcionamiento de este programa\n",
    "\n",
    "'''a"
   ]
  },
  {
   "cell_type": "markdown",
   "metadata": {},
   "source": [
    "# Introducción \n",
    "\n",
    "En el presente proyecto se realiza una aplicación interactiva \n",
    "que permita visualizar el espectro de radiación de un cuerpo conforme se varía\n",
    "la temperatura de este, graficando la intensidad en función de la longitud de onda.\n",
    "Además, se genera una pequeña aplicación interactiva en la cual el usario\n",
    "puede variar la temperatura del cuerpo negro y un rango de longitudes de onda para \n",
    "saber la intensidad\n",
    "en ese intervalo.\n",
    "\n"
   ]
  },
  {
   "cell_type": "code",
   "execution_count": 1,
   "metadata": {},
   "outputs": [],
   "source": [
    "#Librerías útiles para los cálculos\n",
    "\n",
    "import numpy as np\n",
    "import scipy.integrate as integrate\n",
    "import scipy.optimize as optimize"
   ]
  },
  {
   "cell_type": "code",
   "execution_count": 2,
   "metadata": {},
   "outputs": [],
   "source": [
    "#parámetros \n",
    "\n",
    "c=3e8 #Velocidad de la luz [m/s]\n",
    "h=6.63e-34 #Constante de Plank [J*s]\n",
    "k=1.38e-23 #Constante Boltzman [J/K]\n",
    "params=[c,h,k]"
   ]
  },
  {
   "cell_type": "markdown",
   "metadata": {},
   "source": [
    "# Marco teórico "
   ]
  },
  {
   "cell_type": "markdown",
   "metadata": {},
   "source": [
    "### Variables que se usarán:\n",
    "<!-- cambiando a estándar SI -->\n",
    "<!-- Sacando el texto de las ecuaciones SI -->\n",
    "\n",
    "$\\lambda$:  Longitud de onda  (nm)\n",
    "\n",
    "$T$: Temperatura  absoluta  (K) \n",
    "\n",
    "$c= 3x10^8 \\  \\frac{\\text{m}}{\\text{s}} $:  Velocidad de  la -luz \n",
    "\n",
    "$h = 6.63x10^{-34} \\ \\text{J}\\cdot\\text{s} $: Constante  de  Planck\n",
    "\n",
    "$k= 1.38x23 \\ \\frac{\\text{J}}{\\text{K}} $: Constante de  Boltzman \n",
    "\n",
    "\n",
    "\n",
    "## Ley de desplazamiento de Wein (Posición máximo de radiación)\n",
    "\n",
    "La longitud de onda con el máximo de radiación asociado de un cuerpo negro la podemos hallar calculando la primera derivada de la distribución de Plank en terminos de la longitud de onda:\n",
    "\n",
    "$$ \\frac {d} {d\\lambda} \\left(\n",
    "\\frac{1}{\\lambda^5 (e^{\\frac{hc}{\\lambda_m k T}}-1)}\\right) = 0 \\ (1)$$\n",
    "\n",
    "Obteniendo la ecuación trascendental:\n",
    "\n",
    "$$5(e^x - 1) - xe^x =0  \\ (2)$$ \n",
    "\n",
    "con: $$x=\\frac{hc}{\\lambda_m k T} \\ (3)$$\n",
    "\n",
    "Hallamos la raíz de la ecuación $(1)$ usando `scipy.optimize.newton`:\n"
   ]
  },
  {
   "cell_type": "code",
   "execution_count": 3,
   "metadata": {},
   "outputs": [],
   "source": [
    "def Eq(z):\n",
    "    return 5*(np.exp(z)-1) - z*np.exp(z)\n",
    "\n",
    "z=np.round(optimize.newton(Eq,5),3)"
   ]
  },
  {
   "cell_type": "markdown",
   "metadata": {},
   "source": [
    "Ahora con el valor de $x$ podemos resolver para $\\lambda_m$ la euación $(3)$:\n",
    "\n",
    "$$\\lambda_m =\\frac{hc}{kTx} \\ (4)$$"
   ]
  },
  {
   "cell_type": "code",
   "execution_count": 4,
   "metadata": {},
   "outputs": [],
   "source": [
    "def λm(T,args=(params,)):\n",
    "    return h*c/(k*z*T)"
   ]
  },
  {
   "cell_type": "markdown",
   "metadata": {},
   "source": [
    "## Ley de Stefan-Boltzman (Intensidad)\n",
    "\n",
    "La intensidad de onda por unidad de onde de un cuerpo negro está dada por:\n",
    "\n",
    "$$ \\frac {dW_\\lambda} {d\\lambda}= \\frac{2 \\pi h c^2}{\\lambda^5 (e^{\\frac{hc}{\\lambda_m k T}}-1)}  \\ (5)$$"
   ]
  },
  {
   "cell_type": "code",
   "execution_count": 5,
   "metadata": {},
   "outputs": [],
   "source": [
    "def dW_dλ(λ,T,args=(params,)):\n",
    "    return 2*np.pi*h*(c**2)/((λ**5)*(np.exp(h*c/(λ*k*T))-1))"
   ]
  },
  {
   "cell_type": "markdown",
   "metadata": {},
   "source": [
    "Para calcular la intensidad total de la radiación que emite un cuerpo negro integramos la ecuación $(5)$ para todas las longitudes de ondas:\n",
    "\n",
    "$$W = \\int\\limits_0^\\infty dW_\\lambda = \\int\\limits_0^\\infty \\frac{2 \\pi h c^2}{\\lambda^5 (e^{\\frac{hc}{\\lambda_m k T}}-1)}  \\ (6)$$ \n",
    "\n",
    "haciendo el cambio de variable en ecuación $(6)$: $x=\\frac{hc}{\\lambda k T}$\n",
    "\n",
    "obtenemos la ecuación:\n",
    "$$W= \\frac{2 \\pi k^4 T^4}{c^2 h^3} \\int\\limits_0^\\infty \\frac{x^3}{e^x -1}dx \\ (7)  $$\n",
    "\n",
    "La cual resolvemos usando `integrate.quad`: "
   ]
  },
  {
   "cell_type": "code",
   "execution_count": 7,
   "metadata": {},
   "outputs": [],
   "source": [
    "def F(x):\n",
    "    return x**3/(np.exp(x)-1)\n",
    "    \n",
    "def W(λ1,λ2,T,args=(params,)):\n",
    "    x1=h*c/(k*T*λ2)\n",
    "    x2=h*c/(k*T*λ1)\n",
    "    C=2*np.pi*(k**4)*(T**4)/((c**2)*(h**3))\n",
    "    return C*integrate.quad(F,x1,x2)[0]\n",
    "\n",
    "def W_total(T):\n",
    "    return np.round(W(1e-8,np.inf,T),0)    "
   ]
  },
  {
   "cell_type": "markdown",
   "metadata": {},
   "source": [
    "Cambiando límites de integración de ecuación $(7)$ podemos hallar también la intensidad total entre dos longitudes de onda deseadas:\n",
    "\n",
    "$$W= \\frac{2 \\pi k^4 T^4}{c^2 h^3} \\int\\limits_ {x_1}^{x_2} \\frac{x^3}{e^x -1}dx \\ (8)  $$"
   ]
  },
  {
   "cell_type": "markdown",
   "metadata": {},
   "source": [
    "# Gráficas y resultados"
   ]
  },
  {
   "cell_type": "code",
   "execution_count": 8,
   "metadata": {},
   "outputs": [],
   "source": [
    "#Librerías útiles para las aplicaciones interactivas\n",
    "\n",
    "import ipywidgets as widgets\n",
    "from IPython.display import display\n",
    "import matplotlib.pyplot as plt\n",
    "%matplotlib nbagg"
   ]
  },
  {
   "cell_type": "code",
   "execution_count": 14,
   "metadata": {},
   "outputs": [
    {
     "ename": "TypeError",
     "evalue": "unsupported operand type(s) for *: 'float' and 'IntSlider'",
     "output_type": "error",
     "traceback": [
      "\u001b[0;31m---------------------------------------------------------------------------\u001b[0m",
      "\u001b[0;31mTypeError\u001b[0m                                 Traceback (most recent call last)",
      "\u001b[0;32m<ipython-input-14-eb961ad94f7c>\u001b[0m in \u001b[0;36m<module>\u001b[0;34m()\u001b[0m\n\u001b[1;32m      3\u001b[0m \u001b[0mplt\u001b[0m\u001b[0;34m.\u001b[0m\u001b[0msuptitle\u001b[0m\u001b[0;34m(\u001b[0m\u001b[0;34m'Black body radiation spectrum'\u001b[0m\u001b[0;34m,\u001b[0m \u001b[0msize\u001b[0m\u001b[0;34m=\u001b[0m\u001b[0;36m13\u001b[0m\u001b[0;34m,\u001b[0m \u001b[0mstyle\u001b[0m\u001b[0;34m=\u001b[0m\u001b[0;34m'italic'\u001b[0m \u001b[0;34m)\u001b[0m\u001b[0;34m\u001b[0m\u001b[0m\n\u001b[1;32m      4\u001b[0m \u001b[0;32mif\u001b[0m \u001b[0;32mTrue\u001b[0m\u001b[0;34m:\u001b[0m\u001b[0;34m\u001b[0m\u001b[0m\n\u001b[0;32m----> 5\u001b[0;31m     ax.plot(λ*1e9, dW_dλ(λ,S), \n\u001b[0m\u001b[1;32m      6\u001b[0m     label='Temperatura Abs: {}K'.format(S)) #Gráfico intensidad vs longitud de onda\n\u001b[1;32m      7\u001b[0m \u001b[0;34m\u001b[0m\u001b[0m\n",
      "\u001b[0;32m<ipython-input-5-c83945537a75>\u001b[0m in \u001b[0;36mdW_dλ\u001b[0;34m(λ, T, args)\u001b[0m\n\u001b[1;32m      1\u001b[0m \u001b[0;32mdef\u001b[0m \u001b[0mdW_dλ\u001b[0m\u001b[0;34m(\u001b[0m\u001b[0mλ\u001b[0m\u001b[0;34m,\u001b[0m\u001b[0mT\u001b[0m\u001b[0;34m,\u001b[0m\u001b[0margs\u001b[0m\u001b[0;34m=\u001b[0m\u001b[0;34m(\u001b[0m\u001b[0mparams\u001b[0m\u001b[0;34m,\u001b[0m\u001b[0;34m)\u001b[0m\u001b[0;34m)\u001b[0m\u001b[0;34m:\u001b[0m\u001b[0;34m\u001b[0m\u001b[0m\n\u001b[0;32m----> 2\u001b[0;31m     \u001b[0;32mreturn\u001b[0m \u001b[0;36m2\u001b[0m\u001b[0;34m*\u001b[0m\u001b[0mnp\u001b[0m\u001b[0;34m.\u001b[0m\u001b[0mpi\u001b[0m\u001b[0;34m*\u001b[0m\u001b[0mh\u001b[0m\u001b[0;34m*\u001b[0m\u001b[0;34m(\u001b[0m\u001b[0mc\u001b[0m\u001b[0;34m**\u001b[0m\u001b[0;36m2\u001b[0m\u001b[0;34m)\u001b[0m\u001b[0;34m/\u001b[0m\u001b[0;34m(\u001b[0m\u001b[0;34m(\u001b[0m\u001b[0mλ\u001b[0m\u001b[0;34m**\u001b[0m\u001b[0;36m5\u001b[0m\u001b[0;34m)\u001b[0m\u001b[0;34m*\u001b[0m\u001b[0;34m(\u001b[0m\u001b[0mnp\u001b[0m\u001b[0;34m.\u001b[0m\u001b[0mexp\u001b[0m\u001b[0;34m(\u001b[0m\u001b[0mh\u001b[0m\u001b[0;34m*\u001b[0m\u001b[0mc\u001b[0m\u001b[0;34m/\u001b[0m\u001b[0;34m(\u001b[0m\u001b[0mλ\u001b[0m\u001b[0;34m*\u001b[0m\u001b[0mk\u001b[0m\u001b[0;34m*\u001b[0m\u001b[0mT\u001b[0m\u001b[0;34m)\u001b[0m\u001b[0;34m)\u001b[0m\u001b[0;34m-\u001b[0m\u001b[0;36m1\u001b[0m\u001b[0;34m)\u001b[0m\u001b[0;34m)\u001b[0m\u001b[0;34m\u001b[0m\u001b[0m\n\u001b[0m",
      "\u001b[0;31mTypeError\u001b[0m: unsupported operand type(s) for *: 'float' and 'IntSlider'"
     ]
    },
    {
     "data": {
      "image/png": "[encoded data removed]",
      "text/plain": [
       "<Figure size 648x288 with 1 Axes>"
      ]
     },
     "metadata": {},
     "output_type": "display_data"
    }
   ],
   "source": [
    "λ=np.linspace(100e-9,2000e-9,1000) #Genera un arreglo con longitudes de onda\n",
    "fig, ax = plt.subplots(1, figsize=(9, 4))#Crea lienzo para graficar\n",
    "plt.suptitle('Black body radiation spectrum', size=13, style='italic' )\n",
    "if True:\n",
    "    ax.plot(λ*1e9, dW_dλ(λ,S), \n",
    "    label='Temperatura Abs: {}K'.format(S)) #Gráfico intensidad vs longitud de onda\n",
    "    \n",
    "    ax.plot((λmax*1e9,λmax*1e9),\n",
    "    (0,dW_dλ(λmax,S)),'--',color=color, lw=7,\n",
    "    label='Intensidad máxima en {}nm'.format(np.round(λmax*1e9),2))#Longitud de onda donde la intensidad es máxima \n",
    "    \n",
    "\n",
    "    ax.plot(0,0,'ro',label='Intensidad total: {}'.format(W_total(S)))#Muestra la intensidad total radiada\n",
    "    \n",
    "    \n",
    "\n",
    "    ax.set_xlim(λ[0]*1e9, λ[-1]*1e9) #Límites en x\n",
    "    ax.set_ylim(0, 3e14) #Límites en y\n",
    "    ax.legend(loc=1) #Ubicación cuadro leyenda\n",
    "    plt.xlabel('Longitud de onda [$nm$]', size=10)\n",
    "    plt.ylabel(r'Intensidad  [$\\frac{W}{m^2}$]', size=10)\n",
    "    plt.show()\n"
   ]
  },
  {
   "cell_type": "code",
   "execution_count": 11,
   "metadata": {},
   "outputs": [
    {
     "name": "stdout",
     "output_type": "stream",
     "text": [
      "**Deslize el cursor de la parte superior para cambiar la temperatura del cuerpo negro \n",
      "y observar el cambio en la grafica intensidad vs longitud de onda\n"
     ]
    },
    {
     "data": {
      "application/vnd.jupyter.widget-view+json": {
       "model_id": "65c22d03c553499fb50269c1e868bbdd",
       "version_major": 2,
       "version_minor": 0
      },
      "text/plain": [
       "interactive(children=(IntSlider(value=5500, description='Temperatura Abs.(K):', layout=Layout(height='50%', le…"
      ]
     },
     "metadata": {},
     "output_type": "display_data"
    },
    {
     "data": {
      "image/png": "[encoded data removed]",
      "text/plain": [
       "<Figure size 648x288 with 1 Axes>"
      ]
     },
     "metadata": {},
     "output_type": "display_data"
    }
   ],
   "source": [
    "print('''**Deslize el cursor de la parte superior para cambiar la temperatura del cuerpo negro \n",
    "y observar el cambio en la grafica intensidad vs longitud de onda''')\n",
    "\n",
    "λ=np.linspace(100e-9,2000e-9,1000) #Genera un arreglo con longitudes de onda\n",
    "fig, ax = plt.subplots(1, figsize=(9, 4))#Crea lienzo para graficar\n",
    "plt.suptitle('Black body radiation spectrum', size=13, style='italic' )\n",
    "\n",
    "\n",
    "\n",
    "def update_plot(S): #Se define grafica con la que se pueda interactuar posteriormente \n",
    "    \n",
    "    ax.clear() #limpia el lienzo cuando se cambia la temperatura con slider \n",
    "    λmax=λm(S) #Calcula la posición del máximo con ecuación (4)\n",
    "    \n",
    "    #Este bloque genera un rango de colores de acuerdo a la longitud de onda\n",
    "    \n",
    "    if 390 <= λmax*1e9 <= 430:\n",
    "        color='purple'\n",
    "    \n",
    "    if 430 <= λmax*1e9 <= 450:\n",
    "        color='violet'\n",
    "        \n",
    "    if 450 <= λmax*1e9 <= 480:\n",
    "        color='blue'\n",
    "    \n",
    "    if 480 <= λmax*1e9 <= 530:\n",
    "        color='green'\n",
    "    \n",
    "    if 530 <= λmax*1e9 <= 580:\n",
    "        color='yellow'\n",
    "    \n",
    "    if 580 <= λmax*1e9 <= 640:\n",
    "        color='orange'\n",
    "        \n",
    "    if 640 <= λmax*1e9 <= 800:\n",
    "        color='red'\n",
    "\n",
    "    \n",
    "    \n",
    "    ax.plot(λ*1e9, dW_dλ(λ,S), \n",
    "    label='Temperatura Abs: {}K'.format(S)) #Gráfico intensidad vs longitud de onda\n",
    "    \n",
    "    ax.plot((λmax*1e9,λmax*1e9),\n",
    "    (0,dW_dλ(λmax,S)),'--',color=color, lw=7,\n",
    "    label='Intensidad máxima en {}nm'.format(np.round(λmax*1e9),2))#Longitud de onda donde la intensidad es máxima \n",
    "    \n",
    "\n",
    "    ax.plot(0,0,'ro',label='Intensidad total: {}'.format(W_total(S)))#Muestra la intensidad total radiada\n",
    "    \n",
    "    \n",
    "\n",
    "    ax.set_xlim(λ[0]*1e9, λ[-1]*1e9) #Límites en x\n",
    "    ax.set_ylim(0, 3e14) #Límites en y\n",
    "    ax.legend(loc=1) #Ubicación cuadro leyenda\n",
    "    plt.xlabel('Longitud de onda [$nm$]', size=10)\n",
    "    plt.ylabel(r'Intensidad  [$\\frac{W}{m^2}$]', size=10)\n",
    "    plt.show()\n",
    "\n",
    "\n",
    "S = widgets.IntSlider(min=3674, max=7400, value=5500, description='Temperatura Abs.(K):'\n",
    "    ,layout=widgets.Layout(width='50%', height='50%',left='True'))#Genera un slider para intereactuar con gráfico\n",
    "    \n",
    "widgets.interactive(update_plot, S=S) #Genera la interacción con el gráfico\n"
   ]
  },
  {
   "cell_type": "code",
   "execution_count": 12,
   "metadata": {},
   "outputs": [
    {
     "name": "stdout",
     "output_type": "stream",
     "text": [
      "**Deslize sliders para modificar intervalo \n",
      "de longitud de onda y temperatura del cuerpo negro\n"
     ]
    },
    {
     "data": {
      "application/vnd.jupyter.widget-view+json": {
       "model_id": "44329cf108b543d4b7bd254ca967adc3",
       "version_major": 2,
       "version_minor": 0
      },
      "text/plain": [
       "interactive(children=(FloatRangeSlider(value=(500.0, 600.0), description='Longitud onda(nm):', layout=Layout(h…"
      ]
     },
     "metadata": {},
     "output_type": "display_data"
    }
   ],
   "source": [
    "#Codigo para calcular intensidad entre dos longitudes de onda deseadas, variando temperatura\n",
    "\n",
    "print('''**Deslize sliders para modificar intervalo \n",
    "de longitud de onda y temperatura del cuerpo negro''')\n",
    "\n",
    "def update_function(M,R): #Se define función con la que se pueda interactuar posteriormente \n",
    "    \n",
    "    a=np.round(W(M[0]*1e-9,M[-1]*1e-9,R),2)\n",
    "    print(r'La intensidad entre {}nm y {}nm es: {} W/m^2'.format(M[0],M[-1],a))\n",
    "    \n",
    "\n",
    "M = widgets.FloatRangeSlider(min=392, max=790, value=[500,600], description='Longitud onda(nm):',layout=widgets.Layout(width='50%', height='50%',left='True'))\n",
    "R = widgets.IntSlider(min=3674, max=7400, value=5500, description='Temperatura Abs(K):',layout=widgets.Layout(width='50%', height='50%'))\n",
    "\n",
    "\n",
    "widgets.interactive(update_function, R=R, M=M)"
   ]
  },
  {
   "cell_type": "markdown",
   "metadata": {
    "collapsed": true
   },
   "source": [
    "# Bibliografía y cibergrafía \n",
    "\n",
    "[1] La radiación del cuerpo negro: http://www.sc.ehu.es/sbweb/fisica/cuantica/negro/radiacion/radiacion.htm\n",
    "\n",
    "[2] Learn Jupyter Notebooks (pt.4) Using Interactive Widgets: https://www.youtube.com/watch?v=SN0Bflf14C4\n",
    "\n",
    "[3] Widgets_example.ipynb:https://github.com/markjay4k/fourier-transform/blob/master/widgets_example.ipynb \n",
    "\n",
    "[4] Sears Zemansky, Física universitaria 12 ed, Vol 2 . Pag 1336-1337\n",
    "\n",
    "[5] Black body radiation simulation: http://physics.bu.edu/~duffy/classroom.html \n",
    "\n",
    "\n"
   ]
  }
 ],
 "metadata": {
  "kernelspec": {
   "display_name": "Python 3",
   "language": "python",
   "name": "python3"
  },
  "language_info": {
   "codemirror_mode": {
    "name": "ipython",
    "version": 3
   },
   "file_extension": ".py",
   "mimetype": "text/x-python",
   "name": "python",
   "nbconvert_exporter": "python",
   "pygments_lexer": "ipython3",
   "version": "3.5.3"
  }
 },
 "nbformat": 4,
 "nbformat_minor": 2
}
