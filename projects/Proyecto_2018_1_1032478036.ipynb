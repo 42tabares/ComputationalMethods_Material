{
 "cells": [
  {
   "cell_type": "markdown",
   "metadata": {
    "collapsed": true
   },
   "source": [
    "# BOOM!"
   ]
  },
  {
   "cell_type": "markdown",
   "metadata": {},
   "source": [
    "Este juego consiste en dejar el tablero completamente en ceros seleccionando una fila y una columna para eliminar el número de esa ubicación y sus alrededores, solo sí estos tienen el mismo valor. Recuerde que las filas son horizontales y las columnas verticales.\n",
    "\n",
    "Se enfrentrán el Jugador y la Máquina por turnos y al final ganará quien más números haya eliminado."
   ]
  },
  {
   "cell_type": "code",
   "execution_count": null,
   "metadata": {
    "collapsed": true
   },
   "outputs": [],
   "source": [
    "import numpy as np\n",
    "import pandas as pd\n",
    "import time"
   ]
  },
  {
   "cell_type": "markdown",
   "metadata": {},
   "source": [
    "Se pide al usuario que ingrese la dimensión del tablero, para luego completarlo con números aleatorios que van desde 1 hasta el valor que se haya ingresado como dimensión"
   ]
  },
  {
   "cell_type": "code",
   "execution_count": null,
   "metadata": {
    "collapsed": true
   },
   "outputs": [],
   "source": [
    "dimension= input('Dígite la dimensión del tablero: ')\n",
    "if (dimension <4):\n",
    "    print('La dimensión debe ser mayor o igual a 4')\n",
    "if (dimension >= 4):\n",
    "    \n",
    "    tablero=np.random.randint(1,dimension,size=dimension*dimension).reshape(dimension,dimension)\n",
    "    nombres=np.arange(1,dimension+1)\n",
    "    tablero=pd.DataFrame(tablero, index=nombres, columns=nombres)   \n"
   ]
  },
  {
   "cell_type": "markdown",
   "metadata": {},
   "source": [
    "Se define una función por tipo de jugador(Jugador-Máquina) que evalúa, de acuerdo a la posición ingresada, el valor de la casilla y de sus alrededores para ponerlo o no en ceros"
   ]
  },
  {
   "cell_type": "code",
   "execution_count": null,
   "metadata": {
    "collapsed": true
   },
   "outputs": [],
   "source": [
    "def Casillas(Fila,Columna):\n",
    "    ceros=0.\n",
    "    casilla_y = Fila\n",
    "    casilla_x = Columna \n",
    "    numero = tablero.loc[ casilla_y , casilla_x ]\n",
    "    if (tablero.loc[ casilla_y , casilla_x ] != 0):\n",
    "        \n",
    "        #consideraciones para una entrada en el borde del tablero\n",
    "        if (Fila==dimension):\n",
    "            if (tablero.loc[casilla_y-1, casilla_x]== numero):\n",
    "                tablero.loc[casilla_y-1,casilla_x]=0\n",
    "                ceros+=1  \n",
    "            if (tablero.loc[casilla_y, casilla_x]== numero):\n",
    "                tablero.loc[casilla_y,casilla_x]=0\n",
    "                ceros+=1\n",
    "        elif(Fila==1):\n",
    "            if (tablero.loc[casilla_y+1, casilla_x]== numero):\n",
    "                tablero.loc[casilla_y+1,casilla_x]=0\n",
    "                ceros+=1  \n",
    "            if (tablero.loc[casilla_y, casilla_x]== numero):\n",
    "                tablero.loc[casilla_y,casilla_x]=0\n",
    "                ceros+=1\n",
    "        elif(Columna==1):\n",
    "            if (tablero.loc[casilla_y, casilla_x+1]== numero):\n",
    "                tablero.loc[casilla_y, casilla_x+1]=0\n",
    "                ceros+=1  \n",
    "            if (tablero.loc[casilla_y, casilla_x]== numero):\n",
    "                tablero.loc[casilla_y,casilla_x]=0\n",
    "                ceros+=1\n",
    "        elif(Columna==dimension):\n",
    "            if (tablero.loc[casilla_y, casilla_x-1]== numero):\n",
    "                tablero.loc[casilla_y, casilla_x-1]=0\n",
    "                ceros+=1  \n",
    "            if (tablero.loc[casilla_y, casilla_x]== numero):\n",
    "                tablero.loc[casilla_y,casilla_x]=0\n",
    "                ceros+=1\n",
    "        \n",
    "        #consideraciones para otras entradas         \n",
    "        else:\n",
    "            for l in range(casilla_y-1,casilla_y+2):\n",
    "                for m in range(casilla_x-1,casilla_x+2):\n",
    "                    if(tablero.loc[l,m]==numero):\n",
    "                        tablero.loc[l,m]=0\n",
    "                        ceros+=1\n",
    "                    if (tablero.loc[casilla_y,m]== numero):\n",
    "                        tablero.loc[casilla_y,m]=0    \n",
    "                        ceros+=1\n",
    "                    if (tablero.loc[l, casilla_x]== numero):\n",
    "                        tablero.loc[l,casilla_x]=0\n",
    "                        ceros+=1    \n",
    "                    \n",
    "    print tablero           \n",
    "    return ceros\n",
    "\n",
    "def Casillas2(Fila,Columna):\n",
    "    ceros=0.\n",
    "    casilla_y = Fila\n",
    "    casilla_x = Columna \n",
    "    numero = tablero.loc[ casilla_y , casilla_x ]\n",
    "    if (tablero.loc[ casilla_y , casilla_x ] != 0):\n",
    "        \n",
    "        #consideraciones para una entrada en el borde del tablero\n",
    "        if (Fila==dimension):\n",
    "            if (tablero.loc[casilla_y-1, casilla_x]== numero):\n",
    "                tablero.loc[casilla_y-1,casilla_x]=0\n",
    "                ceros+=1  \n",
    "            if (tablero.loc[casilla_y, casilla_x]== numero):\n",
    "                tablero.loc[casilla_y,casilla_x]=0\n",
    "                ceros+=1\n",
    "\n",
    "        elif(Fila==1):\n",
    "            if (tablero.loc[casilla_y+1, casilla_x]== numero):\n",
    "                tablero.loc[casilla_y+1,casilla_x]=0\n",
    "                ceros+=1  \n",
    "            if (tablero.loc[casilla_y, casilla_x]== numero):\n",
    "                tablero.loc[casilla_y,casilla_x]=0\n",
    "                ceros+=1\n",
    "\n",
    "        elif(Columna==1):\n",
    "            if (tablero.loc[casilla_y, casilla_x+1]== numero):\n",
    "                tablero.loc[casilla_y, casilla_x+1]=0\n",
    "                ceros+=1  \n",
    "            if (tablero.loc[casilla_y, casilla_x]== numero):\n",
    "                tablero.loc[casilla_y,casilla_x]=0\n",
    "                ceros+=1\n",
    "\n",
    "        elif(Columna==dimension):\n",
    "            if (tablero.loc[casilla_y, casilla_x-1]== numero):\n",
    "                tablero.loc[casilla_y, casilla_x-1]=0\n",
    "                ceros+=1  \n",
    "            if (tablero.loc[casilla_y, casilla_x]== numero):\n",
    "                tablero.loc[casilla_y,casilla_x]=0\n",
    "                ceros+=1\n",
    "                \n",
    "        #consideraciones para otras entradas \n",
    "        else:\n",
    "            for l in range(casilla_y-1,casilla_y+2):\n",
    "                for m in range(casilla_x-1,casilla_x+2):\n",
    "                    if(tablero.loc[l,m]==numero):\n",
    "                        tablero.loc[l,m]=0\n",
    "                        ceros+=1\n",
    "                    if (tablero.loc[casilla_y,m]== numero):\n",
    "                        tablero.loc[casilla_y,m]=0    \n",
    "                        ceros+=1\n",
    "                    if (tablero.loc[l, casilla_x]== numero):\n",
    "                        tablero.loc[l,casilla_x]=0\n",
    "                        ceros+=1\n",
    "    print tablero           \n",
    "    return ceros\n"
   ]
  },
  {
   "cell_type": "markdown",
   "metadata": {},
   "source": [
    "Se muestra el tablero generado aleatoriamente, con el número de fila y columna específicado, se inicializan los puntajes y empieza el juego. Por turnos se ingresa la posición de la casilla deseada y con esto se llama a la función antes definida y se evalúa el resultado. Vale aclarar que la máquina hace un proceso completamente aleatorio para escoger una posición.\n",
    "\n",
    "El juego termina cuando el tablero queda completamente en ceros y se muestran los puntajes finales junto con el jugador victorioso"
   ]
  },
  {
   "cell_type": "code",
   "execution_count": null,
   "metadata": {
    "collapsed": true,
    "scrolled": false
   },
   "outputs": [],
   "source": [
    "print tablero\n",
    "partidas=dimension*dimension\n",
    "Partidas=1\n",
    "Puntaje1=0\n",
    "Puntaje2=0\n",
    "while Puntaje1+Puntaje2<partidas:\n",
    "    print(\"partida: {}\".format(Partidas))\n",
    "    jugadores=[1,2]\n",
    "    \n",
    "    for turnos in range (len(jugadores)):                   #se definen los turnos\n",
    "        if turnos%2==0.:\n",
    "            Fila=input('Ingrese la fila: ')\n",
    "            Columna=input('Ingrese la columna: ')   \n",
    "            Puntaje1+=Casillas(Fila,Columna)                #se llama a la función y se va acumulando el puntaje\n",
    "            print ('Puntaje Jugador: {}'.format(Puntaje1))\n",
    "               \n",
    "        else:\n",
    "            time.sleep(3)                               #se da un tiempo de espera para mostrar en pantalla el resultado\n",
    "            Fila=np.random.randint(1,dimension+1)\n",
    "            Columna=np.random.randint(1,dimension+1)\n",
    "            print('Fila: {} \\nColumna: {}'.format(Fila,Columna))\n",
    "            Puntaje2+=Casillas2(Fila,Columna)                #se llama a la función y se va acumulando el puntaje\n",
    "            print ('Puntaje Máquina: {}'.format(Puntaje2))\n",
    "\n",
    "        \n",
    "        turnos+=1\n",
    "    Partidas+=1\n",
    "#se imprimen los resultados finales     \n",
    "print('Fin del juego')\n",
    "print('\\nPuntajes finales: \\n\\tJugador: {} \\n\\tMáquina: {}'.format(Puntaje1,Puntaje2))\n",
    "if (Puntaje1>Puntaje2):\n",
    "    print('\\nGanaste!')\n",
    "elif (Puntaje1==Puntaje2):\n",
    "    print('Empate')\n",
    "else:\n",
    "    print('Ganó la máquina ')"
   ]
  },
  {
   "cell_type": "code",
   "execution_count": null,
   "metadata": {
    "collapsed": true
   },
   "outputs": [],
   "source": []
  }
 ],
 "metadata": {
  "kernelspec": {
   "display_name": "Python 2",
   "language": "python",
   "name": "python2"
  },
  "language_info": {
   "codemirror_mode": {
    "name": "ipython",
    "version": 2
   },
   "file_extension": ".py",
   "mimetype": "text/x-python",
   "name": "python",
   "nbconvert_exporter": "python",
   "pygments_lexer": "ipython2",
   "version": "2.7.9"
  }
 },
 "nbformat": 4,
 "nbformat_minor": 2
}
