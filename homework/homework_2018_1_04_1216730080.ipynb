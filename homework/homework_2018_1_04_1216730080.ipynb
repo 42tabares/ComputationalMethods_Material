{
 "cells": [
  {
   "cell_type": "code",
   "execution_count": 1,
   "metadata": {},
   "outputs": [
    {
     "name": "stdout",
     "output_type": "stream",
     "text": [
      "Populating the interactive namespace from numpy and matplotlib\n"
     ]
    }
   ],
   "source": [
    "%pylab inline"
   ]
  },
  {
   "cell_type": "code",
   "execution_count": 2,
   "metadata": {
    "collapsed": true
   },
   "outputs": [],
   "source": [
    "from scipy.misc import derivative"
   ]
  },
  {
   "cell_type": "code",
   "execution_count": 3,
   "metadata": {
    "collapsed": true
   },
   "outputs": [],
   "source": [
    "def derivate(func,x0,dx=1,n=1,args=(),order=3):\n",
    "    '''\n",
    "    Same as scipy derivative but returbs the function if\n",
    "    x0 is an array instead of a lota\n",
    "    '''\n",
    "    from scipy.misc import derivative\n",
    "    try:\n",
    "        nn=np.array(x).shape[0]\n",
    "    except IndexError:\n",
    "        nn=-1\n",
    "    if nn>-1:\n",
    "        y=[]\n",
    "        for xx in x0:\n",
    "             y.append(derivative(func,xx,dx=dx,n=n,args=args,order=order))\n",
    "                \n",
    "        y=np.array(y)   \n",
    "    else:\n",
    "        y=derivative(func,xx,dx=dx,n=n,args=args,order=order)\n",
    "        \n",
    "    return y"
   ]
  },
  {
   "cell_type": "code",
   "execution_count": 4,
   "metadata": {
    "collapsed": true
   },
   "outputs": [],
   "source": [
    "pol=lambda t:(-9.8/2)*t**2+14.7*t\n",
    "x=linspace(0,3)\n",
    "dx=1e-3"
   ]
  },
  {
   "cell_type": "code",
   "execution_count": 9,
   "metadata": {},
   "outputs": [],
   "source": [
    "pol_prima=derivate(pol,x,dx=dx)\n",
    "pol2_prima=derivate(pol,x,dx=dx,n=2)"
   ]
  },
  {
   "cell_type": "code",
   "execution_count": 6,
   "metadata": {},
   "outputs": [
    {
     "data": {
      "text/plain": [
       "<matplotlib.legend.Legend at 0x7fa01fde0fd0>"
      ]
     },
     "execution_count": 6,
     "metadata": {},
     "output_type": "execute_result"
    },
    {
     "data": {
      "image/png": "[encoded data removed]",
      "text/plain": [
       "<matplotlib.figure.Figure at 0x7fa073159cc0>"
      ]
     },
     "metadata": {},
     "output_type": "display_data"
    }
   ],
   "source": [
    "plt.plot(x,pol(x),label='$P(t)=-4.5t^{2}+14.7t$')\n",
    "plt.plot(x,pol_prima,label='$P^{(1)}(t)=-9.8t+14.7$')\n",
    "plt.plot(x,pol2_prima,label='$P^{(2)}(t)=-9.8$')\n",
    "plt.xlabel('tiempo[s]')\n",
    "plt.grid()\n",
    "plt.legend()"
   ]
  },
  {
   "cell_type": "markdown",
   "metadata": {},
   "source": [
    "Es claro que $P(t)=-4.5t^{2}+14.7t$ es la función que describe la posición del objeto durante el intervalo $[0.0 s,3.0 s]$, de aquí se tiene que $P^{(1)}(t)=-9.8t+14.7$ (la derivada de la posición) es la función de la rapidez $v(t)$ respecto al tiempo en dicho intervalo; se puede ver que en $[0.0 s,1.5 s)$ la rapidez es positiva (está dirigida hacia arriba) y decrece hasta ser $0$ en $t=1.5 s$ (el punto de máxima altura) para luego aumentar pero estar dirigida hacia abajo (se vuelve cada vez más negativa).\n",
    "Si nuevamente se deriva la función de velocidad se obtiene la función de aceleración $a(t)=-9.8$,el valor aproximado de la aceleración de la gravedad $g$, que describe la aceleración del cuerpo en el intervalo y que al ser una constante negativa está dirigida hacia abajo, provocando que en $[0.0 s,1.5 s)$ la velocidad disminuya de manera lineal y luego en $(1.5 s, 3.0 s]$ aumente de igual forma pero en sentido negativo."
   ]
  },
  {
   "cell_type": "code",
   "execution_count": null,
   "metadata": {
    "collapsed": true
   },
   "outputs": [],
   "source": []
  }
 ],
 "metadata": {
  "kernelspec": {
   "display_name": "Python 3",
   "language": "python",
   "name": "python3"
  },
  "language_info": {
   "codemirror_mode": {
    "name": "ipython",
    "version": 3
   },
   "file_extension": ".py",
   "mimetype": "text/x-python",
   "name": "python",
   "nbconvert_exporter": "python",
   "pygments_lexer": "ipython3",
   "version": "3.4.2"
  }
 },
 "nbformat": 4,
 "nbformat_minor": 2
}
