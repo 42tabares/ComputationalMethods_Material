{
 "cells": [
  {
   "cell_type": "code",
   "execution_count": 2,
   "metadata": {},
   "outputs": [
    {
     "name": "stdout",
     "output_type": "stream",
     "text": [
      "Using matplotlib backend: agg\n",
      "Populating the interactive namespace from numpy and matplotlib\n"
     ]
    }
   ],
   "source": [
    "%pylab"
   ]
  },
  {
   "cell_type": "code",
   "execution_count": 73,
   "metadata": {},
   "outputs": [],
   "source": [
    "from scipy.interpolate import lagrange\n",
    "import sympy"
   ]
  },
  {
   "cell_type": "code",
   "execution_count": 74,
   "metadata": {
    "collapsed": true
   },
   "outputs": [],
   "source": [
    "xp=[3,10,21.3]\n",
    "yp=[8,6.5,3]"
   ]
  },
  {
   "cell_type": "code",
   "execution_count": 75,
   "metadata": {},
   "outputs": [],
   "source": [
    "x = sympy.symbols('x')"
   ]
  },
  {
   "cell_type": "code",
   "execution_count": 76,
   "metadata": {
    "collapsed": true
   },
   "outputs": [],
   "source": [
    "def lagrange_basis(xpoints,i):\n",
    "    '''\n",
    "    This function calculate the i-th Lagrange's cardinal base (L_i) to interpolate a array of xpoints\n",
    "    '''\n",
    "    numerador=1\n",
    "    denominador=1\n",
    "    for j in range(len(xpoints)):\n",
    "        if j!=i :\n",
    "            numerador=numerador*(x-xpoints[j])\n",
    "            denominador=denominador*(xpoints[i]-xpoints[j])\n",
    "    base_i=numerador/denominador\n",
    "    return base_i"
   ]
  },
  {
   "cell_type": "code",
   "execution_count": 77,
   "metadata": {},
   "outputs": [],
   "source": [
    "basis=[]\n",
    "for i in range(len(xp)):\n",
    "    l_i=lagrange_basis(xp,i)\n",
    "    basis.append(l_i)"
   ]
  },
  {
   "cell_type": "code",
   "execution_count": 78,
   "metadata": {
    "collapsed": true
   },
   "outputs": [],
   "source": [
    "#Para construir el polinomio se hace el producto punto del arreglo de bases de Lagrange \n",
    "#y las componentes en 'y' de los puntos.\n",
    "poly=np.dot(basis,yp)"
   ]
  },
  {
   "cell_type": "code",
   "execution_count": 79,
   "metadata": {
    "collapsed": true
   },
   "outputs": [],
   "source": [
    "#Se desarrollan los productos y se suman tèrminos semejantes.\n",
    "Lagrange_poly=sympy.expand(poly)"
   ]
  },
  {
   "cell_type": "code",
   "execution_count": 80,
   "metadata": {},
   "outputs": [
    {
     "name": "stdout",
     "output_type": "stream",
     "text": [
      "-0.00521578136549847*x**2 - 0.146480556534234*x + 8.48638370189219\n"
     ]
    }
   ],
   "source": [
    "print(Lagrange_poly)"
   ]
  },
  {
   "cell_type": "code",
   "execution_count": 81,
   "metadata": {},
   "outputs": [
    {
     "name": "stdout",
     "output_type": "stream",
     "text": [
      "           2\n",
      "-0.005216 x - 0.1465 x + 8.486\n"
     ]
    }
   ],
   "source": [
    "#Usando la interpolaciòn de Scipy\n",
    "pol=lagrange(xp,yp)\n",
    "print(pol)"
   ]
  },
  {
   "cell_type": "code",
   "execution_count": 82,
   "metadata": {},
   "outputs": [],
   "source": [
    "#Evaluando la i-èsima base de Lagrange en la i-èsima coordenada x.\n",
    "evaluation=[]\n",
    "for i in range(len(xp)):\n",
    "    l=basis[i].evalf(subs={x:xp[i]})\n",
    "    evaluation.append(l)"
   ]
  },
  {
   "cell_type": "code",
   "execution_count": 83,
   "metadata": {},
   "outputs": [
    {
     "name": "stdout",
     "output_type": "stream",
     "text": [
      "[1.00000000000000, 1.00000000000000, 1.00000000000000]\n"
     ]
    }
   ],
   "source": [
    "print(evaluation)"
   ]
  },
  {
   "cell_type": "code",
   "execution_count": 84,
   "metadata": {},
   "outputs": [
    {
     "data": {
      "text/plain": [
       "-0.e-141"
      ]
     },
     "execution_count": 84,
     "metadata": {},
     "output_type": "execute_result"
    }
   ],
   "source": [
    "#Evaluando la primera base de Lagrange en la segunda coordenada x.\n",
    "basis[1].evalf(subs={x:xp[2]})"
   ]
  }
 ],
 "metadata": {
  "kernelspec": {
   "display_name": "Python 3",
   "language": "python",
   "name": "python3"
  },
  "language_info": {
   "codemirror_mode": {
    "name": "ipython",
    "version": 3
   },
   "file_extension": ".py",
   "mimetype": "text/x-python",
   "name": "python",
   "nbconvert_exporter": "python",
   "pygments_lexer": "ipython3",
   "version": "3.4.2"
  }
 },
 "nbformat": 4,
 "nbformat_minor": 2
}
