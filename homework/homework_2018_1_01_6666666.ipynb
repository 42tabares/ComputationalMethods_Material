{
 "cells": [
  {
   "cell_type": "code",
   "execution_count": 1,
   "metadata": {},
   "outputs": [
    {
     "name": "stdout",
     "output_type": "stream",
     "text": [
      "Populating the interactive namespace from numpy and matplotlib\n"
     ]
    }
   ],
   "source": [
    "%pylab inline"
   ]
  },
  {
   "cell_type": "code",
   "execution_count": 34,
   "metadata": {
    "collapsed": true
   },
   "outputs": [],
   "source": [
    "import pandas as pd\n",
    "from matplotlib.colors import LogNorm"
   ]
  },
  {
   "cell_type": "code",
   "execution_count": 3,
   "metadata": {
    "collapsed": true
   },
   "outputs": [],
   "source": [
    " "
   ]
  },
  {
   "cell_type": "code",
   "execution_count": 5,
   "metadata": {},
   "outputs": [
    {
     "data": {
      "text/html": [
       "<div>\n",
       "<table border=\"1\" class=\"dataframe\">\n",
       "  <thead>\n",
       "    <tr style=\"text-align: right;\">\n",
       "      <th></th>\n",
       "      <th>Unnamed: 0</th>\n",
       "      <th>index</th>\n",
       "      <th>mhp_200</th>\n",
       "      <th>mhp_250</th>\n",
       "      <th>mhp_300</th>\n",
       "      <th>mhp_350</th>\n",
       "      <th>mhp_400</th>\n",
       "      <th>mhp_450</th>\n",
       "      <th>mhp_500</th>\n",
       "      <th>mhp_550</th>\n",
       "      <th>mhp_600</th>\n",
       "      <th>mhp_650</th>\n",
       "      <th>mhp_700</th>\n",
       "      <th>LaL</th>\n",
       "    </tr>\n",
       "  </thead>\n",
       "  <tbody>\n",
       "    <tr>\n",
       "      <th>0</th>\n",
       "      <td>0</td>\n",
       "      <td>0</td>\n",
       "      <td>0.004692</td>\n",
       "      <td>0.014591</td>\n",
       "      <td>0.010642</td>\n",
       "      <td>0.007876</td>\n",
       "      <td>0.006023</td>\n",
       "      <td>0.004898</td>\n",
       "      <td>0.004207</td>\n",
       "      <td>0.003844</td>\n",
       "      <td>0.003689</td>\n",
       "      <td>0.003620</td>\n",
       "      <td>0.003658</td>\n",
       "      <td>0.01</td>\n",
       "    </tr>\n",
       "    <tr>\n",
       "      <th>1</th>\n",
       "      <td>1</td>\n",
       "      <td>1</td>\n",
       "      <td>0.004693</td>\n",
       "      <td>0.014652</td>\n",
       "      <td>0.010732</td>\n",
       "      <td>0.007941</td>\n",
       "      <td>0.006043</td>\n",
       "      <td>0.004869</td>\n",
       "      <td>0.004208</td>\n",
       "      <td>0.003824</td>\n",
       "      <td>0.003688</td>\n",
       "      <td>0.003678</td>\n",
       "      <td>0.003729</td>\n",
       "      <td>0.02</td>\n",
       "    </tr>\n",
       "  </tbody>\n",
       "</table>\n",
       "</div>"
      ],
      "text/plain": [
       "   Unnamed: 0  index   mhp_200   mhp_250   mhp_300   mhp_350   mhp_400  \\\n",
       "0           0      0  0.004692  0.014591  0.010642  0.007876  0.006023   \n",
       "1           1      1  0.004693  0.014652  0.010732  0.007941  0.006043   \n",
       "\n",
       "    mhp_450   mhp_500   mhp_550   mhp_600   mhp_650   mhp_700   LaL  \n",
       "0  0.004898  0.004207  0.003844  0.003689  0.003620  0.003658  0.01  \n",
       "1  0.004869  0.004208  0.003824  0.003688  0.003678  0.003729  0.02  "
      ]
     },
     "execution_count": 5,
     "metadata": {},
     "output_type": "execute_result"
    }
   ],
   "source": [
    "df[:2]"
   ]
  },
  {
   "cell_type": "code",
   "execution_count": 42,
   "metadata": {},
   "outputs": [
    {
     "data": {
      "text/html": [
       "<div>\n",
       "<table border=\"1\" class=\"dataframe\">\n",
       "  <thead>\n",
       "    <tr style=\"text-align: right;\">\n",
       "      <th></th>\n",
       "      <th>Unnamed: 0</th>\n",
       "      <th>index</th>\n",
       "      <th>mhp_200</th>\n",
       "      <th>mhp_250</th>\n",
       "      <th>mhp_300</th>\n",
       "      <th>mhp_350</th>\n",
       "      <th>mhp_400</th>\n",
       "      <th>mhp_450</th>\n",
       "      <th>mhp_500</th>\n",
       "      <th>mhp_550</th>\n",
       "      <th>mhp_600</th>\n",
       "      <th>mhp_650</th>\n",
       "      <th>mhp_700</th>\n",
       "      <th>LaL</th>\n",
       "    </tr>\n",
       "  </thead>\n",
       "  <tbody>\n",
       "    <tr>\n",
       "      <th>4</th>\n",
       "      <td>4</td>\n",
       "      <td>4</td>\n",
       "      <td>0.004801</td>\n",
       "      <td>0.014763</td>\n",
       "      <td>0.010858</td>\n",
       "      <td>0.008117</td>\n",
       "      <td>0.006289</td>\n",
       "      <td>0.005167</td>\n",
       "      <td>0.004547</td>\n",
       "      <td>0.004149</td>\n",
       "      <td>0.004066</td>\n",
       "      <td>0.004023</td>\n",
       "      <td>0.004104</td>\n",
       "      <td>0.1</td>\n",
       "    </tr>\n",
       "  </tbody>\n",
       "</table>\n",
       "</div>"
      ],
      "text/plain": [
       "   Unnamed: 0  index   mhp_200   mhp_250   mhp_300   mhp_350   mhp_400  \\\n",
       "4           4      4  0.004801  0.014763  0.010858  0.008117  0.006289   \n",
       "\n",
       "    mhp_450   mhp_500   mhp_550   mhp_600   mhp_650   mhp_700  LaL  \n",
       "4  0.005167  0.004547  0.004149  0.004066  0.004023  0.004104  0.1  "
      ]
     },
     "execution_count": 42,
     "metadata": {},
     "output_type": "execute_result"
    }
   ],
   "source": [
    "df[df.LaL==0.1]"
   ]
  },
  {
   "cell_type": "code",
   "execution_count": 44,
   "metadata": {},
   "outputs": [
    {
     "data": {
      "text/html": [
       "<div>\n",
       "<table border=\"1\" class=\"dataframe\">\n",
       "  <thead>\n",
       "    <tr style=\"text-align: right;\">\n",
       "      <th></th>\n",
       "      <th>mhp_700</th>\n",
       "    </tr>\n",
       "  </thead>\n",
       "  <tbody>\n",
       "    <tr>\n",
       "      <th>0</th>\n",
       "      <td>0.003658</td>\n",
       "    </tr>\n",
       "    <tr>\n",
       "      <th>1</th>\n",
       "      <td>0.003729</td>\n",
       "    </tr>\n",
       "    <tr>\n",
       "      <th>2</th>\n",
       "      <td>0.003922</td>\n",
       "    </tr>\n",
       "    <tr>\n",
       "      <th>3</th>\n",
       "      <td>0.003969</td>\n",
       "    </tr>\n",
       "    <tr>\n",
       "      <th>4</th>\n",
       "      <td>0.004104</td>\n",
       "    </tr>\n",
       "    <tr>\n",
       "      <th>5</th>\n",
       "      <td>0.004278</td>\n",
       "    </tr>\n",
       "    <tr>\n",
       "      <th>6</th>\n",
       "      <td>0.004607</td>\n",
       "    </tr>\n",
       "    <tr>\n",
       "      <th>7</th>\n",
       "      <td>0.004887</td>\n",
       "    </tr>\n",
       "    <tr>\n",
       "      <th>8</th>\n",
       "      <td>0.005285</td>\n",
       "    </tr>\n",
       "    <tr>\n",
       "      <th>9</th>\n",
       "      <td>0.005618</td>\n",
       "    </tr>\n",
       "    <tr>\n",
       "      <th>10</th>\n",
       "      <td>0.006005</td>\n",
       "    </tr>\n",
       "    <tr>\n",
       "      <th>11</th>\n",
       "      <td>0.006429</td>\n",
       "    </tr>\n",
       "    <tr>\n",
       "      <th>12</th>\n",
       "      <td>0.006817</td>\n",
       "    </tr>\n",
       "    <tr>\n",
       "      <th>13</th>\n",
       "      <td>0.007381</td>\n",
       "    </tr>\n",
       "    <tr>\n",
       "      <th>14</th>\n",
       "      <td>0.007788</td>\n",
       "    </tr>\n",
       "    <tr>\n",
       "      <th>15</th>\n",
       "      <td>0.012793</td>\n",
       "    </tr>\n",
       "    <tr>\n",
       "      <th>16</th>\n",
       "      <td>0.064228</td>\n",
       "    </tr>\n",
       "    <tr>\n",
       "      <th>17</th>\n",
       "      <td>0.169060</td>\n",
       "    </tr>\n",
       "    <tr>\n",
       "      <th>18</th>\n",
       "      <td>0.338250</td>\n",
       "    </tr>\n",
       "    <tr>\n",
       "      <th>19</th>\n",
       "      <td>0.774498</td>\n",
       "    </tr>\n",
       "  </tbody>\n",
       "</table>\n",
       "</div>"
      ],
      "text/plain": [
       "     mhp_700\n",
       "0   0.003658\n",
       "1   0.003729\n",
       "2   0.003922\n",
       "3   0.003969\n",
       "4   0.004104\n",
       "5   0.004278\n",
       "6   0.004607\n",
       "7   0.004887\n",
       "8   0.005285\n",
       "9   0.005618\n",
       "10  0.006005\n",
       "11  0.006429\n",
       "12  0.006817\n",
       "13  0.007381\n",
       "14  0.007788\n",
       "15  0.012793\n",
       "16  0.064228\n",
       "17  0.169060\n",
       "18  0.338250\n",
       "19  0.774498"
      ]
     },
     "execution_count": 44,
     "metadata": {},
     "output_type": "execute_result"
    }
   ],
   "source": [
    "df[['mhp_700']]"
   ]
  },
  {
   "cell_type": "code",
   "execution_count": 12,
   "metadata": {},
   "outputs": [
    {
     "data": {
      "text/plain": [
       "[200, 250, 300, 350, 400, 450, 500, 550, 600, 650, 700]"
      ]
     },
     "execution_count": 12,
     "metadata": {},
     "output_type": "execute_result"
    }
   ],
   "source": [
    "list(range(200,750,50) )"
   ]
  },
  {
   "cell_type": "code",
   "execution_count": 14,
   "metadata": {},
   "outputs": [
    {
     "data": {
      "text/plain": [
       "0.02"
      ]
     },
     "execution_count": 14,
     "metadata": {},
     "output_type": "execute_result"
    }
   ],
   "source": [
    "df.loc[1,'LaL']"
   ]
  },
  {
   "cell_type": "code",
   "execution_count": 15,
   "metadata": {},
   "outputs": [
    {
     "data": {
      "text/plain": [
       "'m_100'"
      ]
     },
     "execution_count": 15,
     "metadata": {},
     "output_type": "execute_result"
    }
   ],
   "source": [
    "'m_{}'.format(100)"
   ]
  },
  {
   "cell_type": "code",
   "execution_count": 25,
   "metadata": {},
   "outputs": [
    {
     "name": "stdout",
     "output_type": "stream",
     "text": [
      "0\n",
      "1\n",
      "2\n",
      "3\n",
      "4\n",
      "5\n",
      "6\n",
      "7\n",
      "8\n",
      "9\n",
      "10\n",
      "11\n",
      "12\n",
      "13\n",
      "14\n",
      "15\n",
      "16\n",
      "17\n",
      "18\n",
      "19\n"
     ]
    }
   ],
   "source": [
    "dfc=pd.DataFrame()\n",
    "for i in df.index:\n",
    "    print(i)\n",
    "    for m in range(200,750,50):\n",
    "        ps=pd.Series({'mhp':m,'LaL':df.loc[i,'LaL'],'cs':df.loc[i,'mhp_{}'.format(m)]})\n",
    "        dfc=dfc.append(ps,ignore_index=True)"
   ]
  },
  {
   "cell_type": "code",
   "execution_count": 38,
   "metadata": {},
   "outputs": [
    {
     "data": {
      "text/plain": [
       "<matplotlib.colorbar.Colorbar at 0x7fcfc0fab978>"
      ]
     },
     "execution_count": 38,
     "metadata": {},
     "output_type": "execute_result"
    },
    {
     "data": {
      "image/png": "[encoded data removed]",
      "text/plain": [
       "<matplotlib.figure.Figure at 0x7fcfc102fdd8>"
      ]
     },
     "metadata": {},
     "output_type": "display_data"
    }
   ],
   "source": [
    "maxLaL=3.1\n",
    "plt.hexbin(dfc[dfc.LaL<maxLaL].mhp,dfc[dfc.LaL<maxLaL].LaL,dfc[dfc.LaL<maxLaL].cs,yscale='log',norm=LogNorm())\n",
    "plt.colorbar()"
   ]
  },
  {
   "cell_type": "code",
   "execution_count": 113,
   "metadata": {
    "collapsed": true
   },
   "outputs": [],
   "source": [
    "mpl.style.use('classic')"
   ]
  },
  {
   "cell_type": "code",
   "execution_count": 124,
   "metadata": {},
   "outputs": [
    {
     "data": {
      "image/png": "[encoded data removed]",
      "text/plain": [
       "<matplotlib.figure.Figure at 0x7fcfc040a9e8>"
      ]
     },
     "metadata": {},
     "output_type": "display_data"
    }
   ],
   "source": [
    "m=200\n",
    "plt.loglog(dfc[dfc.mhp==m].LaL,dfc[dfc.mhp==m].cs,'k:',label='$M_{H^+}=%d$ GeV' %m,lw=2)\n",
    "m=300\n",
    "plt.loglog(dfc[dfc.mhp==m].LaL,dfc[dfc.mhp==m].cs,'r--',label='$M_{H^+}=%d$ GeV' %m,lw=2)\n",
    "m=400\n",
    "plt.loglog(dfc[dfc.mhp==m].LaL,dfc[dfc.mhp==m].cs,'b-.',label='$M_{H^+}=%d$ GeV' %m,lw=2)\n",
    "m=500\n",
    "plt.loglog(dfc[dfc.mhp==m].LaL,dfc[dfc.mhp==m].cs,'g-',label='$M_{H^+}=%d$ GeV' %m,lw=2)\n",
    "#m=600\n",
    "#plt.loglog(dfc[dfc.mhp==m].LaL,dfc[dfc.mhp==m].cs,'r:')\n",
    "#m=700\n",
    "#plt.loglog(dfc[dfc.mhp==m].LaL,dfc[dfc.mhp==m].cs,'r-.')\n",
    "\n",
    "plt.legend(loc='best',fontsize=20)\n",
    "#plt.rcParams.update({'font.size': 15})\n",
    "plt.tick_params(labelsize=15)\n",
    "plt.title('$M_{H^0}=150$ GeV',fontsize=20)\n",
    "plt.xlabel('$\\lambda_L$',size=20)\n",
    "plt.ylabel(r'$\\sigma(pp\\,\\to \\,H^0 H^0\\, j j)$ [pb]',size=20)\n",
    "plt.xlim(1E-2,3)\n",
    "plt.ylim(3E-3,1E-1)\n",
    "plt.savefig('csls.pdf')"
   ]
  },
  {
   "cell_type": "code",
   "execution_count": null,
   "metadata": {
    "collapsed": true
   },
   "outputs": [],
   "source": [
    "plt.tick_params(labelsize)"
   ]
  },
  {
   "cell_type": "code",
   "execution_count": 99,
   "metadata": {
    "collapsed": true
   },
   "outputs": [],
   "source": [
    "plt.legend?"
   ]
  },
  {
   "cell_type": "code",
   "execution_count": 92,
   "metadata": {},
   "outputs": [
    {
     "data": {
      "text/plain": [
       "(0.003, 0.1)"
      ]
     },
     "execution_count": 92,
     "metadata": {},
     "output_type": "execute_result"
    },
    {
     "data": {
      "image/png": "[encoded data removed]",
      "text/plain": [
       "<matplotlib.figure.Figure at 0x7fcfc03bf160>"
      ]
     },
     "metadata": {},
     "output_type": "display_data"
    }
   ],
   "source": [
    "LaL=0.01\n",
    "plt.semilogy(dfc[dfc.LaL==LaL].mhp,dfc[dfc.LaL==LaL].cs,'k:',label='M')\n",
    "LaL=0.1\n",
    "plt.semilogy(dfc[dfc.LaL==LaL].mhp,dfc[dfc.LaL==LaL].cs,'r--',label='M')\n",
    "LaL=0.5\n",
    "plt.semilogy(dfc[dfc.LaL==LaL].mhp,dfc[dfc.LaL==LaL].cs,'b-.',label='M')\n",
    "\n",
    "LaL=1\n",
    "plt.semilogy(dfc[dfc.LaL==LaL].mhp,dfc[dfc.LaL==LaL].cs,'g:',label='M')\n",
    "LaL=3\n",
    "plt.semilogy(dfc[dfc.LaL==LaL].mhp,dfc[dfc.LaL==LaL].cs,'k-',label='M')\n",
    "plt.ylim(3E-3,1E-1)"
   ]
  },
  {
   "cell_type": "code",
   "execution_count": 84,
   "metadata": {},
   "outputs": [
    {
     "data": {
      "text/plain": [
       "6       0.01\n",
       "17      0.02\n",
       "28      0.05\n",
       "39      0.07\n",
       "50      0.10\n",
       "61      0.15\n",
       "72      0.20\n",
       "83      0.25\n",
       "94      0.30\n",
       "105     0.35\n",
       "116     0.40\n",
       "127     0.45\n",
       "138     0.50\n",
       "149     0.55\n",
       "160     0.60\n",
       "171     1.00\n",
       "182     3.00\n",
       "193     5.00\n",
       "204     7.00\n",
       "215    10.00\n",
       "Name: LaL, dtype: float64"
      ]
     },
     "execution_count": 84,
     "metadata": {},
     "output_type": "execute_result"
    }
   ],
   "source": [
    "dfc[dfc.mhp==m].LaL"
   ]
  },
  {
   "cell_type": "code",
   "execution_count": null,
   "metadata": {
    "collapsed": true
   },
   "outputs": [],
   "source": []
  }
 ],
 "metadata": {
  "kernelspec": {
   "display_name": "Python 3",
   "language": "python",
   "name": "python3"
  },
  "language_info": {
   "codemirror_mode": {
    "name": "ipython",
    "version": 3
   },
   "file_extension": ".py",
   "mimetype": "text/x-python",
   "name": "python",
   "nbconvert_exporter": "python",
   "pygments_lexer": "ipython3",
   "version": "3.4.2"
  },
  "toc": {
   "colors": {
    "hover_highlight": "#DAA520",
    "running_highlight": "#FF0000",
    "selected_highlight": "#FFD700"
   },
   "moveMenuLeft": true,
   "nav_menu": {
    "height": "12px",
    "width": "252px"
   },
   "navigate_menu": true,
   "number_sections": true,
   "sideBar": true,
   "threshold": 4,
   "toc_cell": false,
   "toc_section_display": "block",
   "toc_window_display": false
  }
 },
 "nbformat": 4,
 "nbformat_minor": 2
}
