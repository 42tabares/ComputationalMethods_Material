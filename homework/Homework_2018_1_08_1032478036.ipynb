{
 "cells": [
  {
   "cell_type": "markdown",
   "metadata": {},
   "source": [
    "Utilizar una función de Numpy para obtener la matriz aumentada del sistema lineal $ax=b$"
   ]
  },
  {
   "cell_type": "code",
   "execution_count": 1,
   "metadata": {
    "collapsed": true
   },
   "outputs": [],
   "source": [
    "import numpy as np\n",
    "import sympy\n",
    "sympy.init_printing()"
   ]
  },
  {
   "cell_type": "markdown",
   "metadata": {},
   "source": [
    "Se define la matriz $M$ con las componentes dadas en clase, al igual que el vector $b$ que completa el sistema lineal"
   ]
  },
  {
   "cell_type": "code",
   "execution_count": 2,
   "metadata": {},
   "outputs": [
    {
     "data": {
      "text/latex": [
       "$$\\left[\\begin{matrix}5 & -4 & 0\\\\-4 & 7 & -3\\\\0 & -3 & 5\\end{matrix}\\right]$$"
      ],
      "text/plain": [
       "⎡5   -4  0 ⎤\n",
       "⎢          ⎥\n",
       "⎢-4  7   -3⎥\n",
       "⎢          ⎥\n",
       "⎣0   -3  5 ⎦"
      ]
     },
     "execution_count": 2,
     "metadata": {},
     "output_type": "execute_result"
    }
   ],
   "source": [
    "M=np.matrix([[5,-4,0],[-4,7,-3],[0,-3,5]])\n",
    "b=[1,0,-2]\n",
    "sympy.Matrix(M)"
   ]
  },
  {
   "cell_type": "markdown",
   "metadata": {},
   "source": [
    "Utilizando la función $columnstack$ se obtiene la matriz aumentada $Ma$"
   ]
  },
  {
   "cell_type": "code",
   "execution_count": 3,
   "metadata": {},
   "outputs": [
    {
     "data": {
      "text/latex": [
       "$$\\left[\\begin{matrix}5 & -4 & 0 & 1\\\\-4 & 7 & -3 & 0\\\\0 & -3 & 5 & -2\\end{matrix}\\right]$$"
      ],
      "text/plain": [
       "⎡5   -4  0   1 ⎤\n",
       "⎢              ⎥\n",
       "⎢-4  7   -3  0 ⎥\n",
       "⎢              ⎥\n",
       "⎣0   -3  5   -2⎦"
      ]
     },
     "execution_count": 3,
     "metadata": {},
     "output_type": "execute_result"
    }
   ],
   "source": [
    "Ma=np.column_stack((M,b))\n",
    "sympy.Matrix(Ma)"
   ]
  },
  {
   "cell_type": "code",
   "execution_count": null,
   "metadata": {
    "collapsed": true
   },
   "outputs": [],
   "source": []
  }
 ],
 "metadata": {
  "kernelspec": {
   "display_name": "Python 3",
   "language": "python",
   "name": "python3"
  },
  "language_info": {
   "codemirror_mode": {
    "name": "ipython",
    "version": 3
   },
   "file_extension": ".py",
   "mimetype": "text/x-python",
   "name": "python",
   "nbconvert_exporter": "python",
   "pygments_lexer": "ipython3",
   "version": "3.4.2"
  }
 },
 "nbformat": 4,
 "nbformat_minor": 2
}
