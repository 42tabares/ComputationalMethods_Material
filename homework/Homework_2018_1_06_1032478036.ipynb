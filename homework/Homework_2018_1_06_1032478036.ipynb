{
 "cells": [
  {
   "cell_type": "markdown",
   "metadata": {},
   "source": [
    "## Tarea\n",
    "Modificar los puntos tratados en clase para que la gráfica del polinomio de ajuste tenga dos mínimos, uno relativo y otro absoluto"
   ]
  },
  {
   "cell_type": "code",
   "execution_count": 1,
   "metadata": {},
   "outputs": [
    {
     "name": "stdout",
     "output_type": "stream",
     "text": [
      "Populating the interactive namespace from numpy and matplotlib\n"
     ]
    }
   ],
   "source": [
    "import numpy as np\n",
    "%pylab inline\n",
    "import pandas as pd\n",
    "from scipy import optimize"
   ]
  },
  {
   "cell_type": "markdown",
   "metadata": {},
   "source": [
    "Se crea el dataFrame con las coordenadas de los puntos modificados.\n",
    "Se calcula el polinomio de ajuste P y se imprime en pantalla"
   ]
  },
  {
   "cell_type": "code",
   "execution_count": 2,
   "metadata": {},
   "outputs": [
    {
     "name": "stdout",
     "output_type": "stream",
     "text": [
      "         8          7         6         5       4         3         2\n",
      "0.02026 x - 0.6494 x + 8.377 x - 55.56 x + 201 x - 388.8 x + 371.2 x - 155.2 x + 22.26\n"
     ]
    }
   ],
   "source": [
    "df=pd.DataFrame({'x':[0.3,0.5,1.3,3.,4.,5.2,6.,7,8.3],\n",
    "                 'y':[0.11406,-0.1775,-1.87334,3.10704,30.8025,17.56,47.7822,150.564,287.847]})\n",
    "coeffs=np.polyfit(df.x,df.y,deg=8)\n",
    "P=np.poly1d(coeffs)\n",
    "print(P)"
   ]
  },
  {
   "cell_type": "markdown",
   "metadata": {},
   "source": [
    "Se grafica dicho polinomio y los puntos"
   ]
  },
  {
   "cell_type": "code",
   "execution_count": 3,
   "metadata": {},
   "outputs": [
    {
     "data": {
      "text/plain": [
       "[<matplotlib.lines.Line2D at 0x7f28b75d96d8>]"
      ]
     },
     "execution_count": 3,
     "metadata": {},
     "output_type": "execute_result"
    },
    {
     "data": {
      "image/png": "[encoded data removed]",
      "text/plain": [
       "<matplotlib.figure.Figure at 0x7f28b75d96a0>"
      ]
     },
     "metadata": {},
     "output_type": "display_data"
    }
   ],
   "source": [
    "x=np.linspace(df.x[0],df.x[8])\n",
    "plt.plot(x,P( x))\n",
    "plt.plot(df.x,df.y,'ro')"
   ]
  },
  {
   "cell_type": "markdown",
   "metadata": {},
   "source": [
    "Con la función de Scipy optimize.fmin_powell se calculan ambos mínimos y se muestran en pantalla"
   ]
  },
  {
   "cell_type": "code",
   "execution_count": 4,
   "metadata": {},
   "outputs": [
    {
     "name": "stdout",
     "output_type": "stream",
     "text": [
      "Optimization terminated successfully.\n",
      "         Current function value: -17.276721\n",
      "         Iterations: 2\n",
      "         Function evaluations: 22\n",
      "Optimization terminated successfully.\n",
      "         Current function value: 17.559418\n",
      "         Iterations: 2\n",
      "         Function evaluations: 27\n",
      "1.El mínimo absoluto es: 2.1465208066666275 \n",
      "2.El mínimo relativo es: 5.195937399239239\n"
     ]
    }
   ],
   "source": [
    "print ('1.El mínimo absoluto es: {} \\n2.El mínimo relativo es: {}'.format(optimize.fmin_powell(P,1),optimize.fmin_powell(P,5)))"
   ]
  },
  {
   "cell_type": "markdown",
   "metadata": {},
   "source": [
    "Utilizando la función de Scipy optimize.newton se calculan las raíces del polinomio"
   ]
  },
  {
   "cell_type": "code",
   "execution_count": 5,
   "metadata": {},
   "outputs": [
    {
     "name": "stdout",
     "output_type": "stream",
     "text": [
      "Las raíces son: 1.2084432050057703 y 2.920284949273795\n"
     ]
    }
   ],
   "source": [
    "print ('Las raíces son: {} y {}'.format(optimize.newton(P,1),optimize.newton(P,3)))"
   ]
  },
  {
   "cell_type": "code",
   "execution_count": 17,
   "metadata": {
    "collapsed": true
   },
   "outputs": [],
   "source": []
  }
 ],
 "metadata": {
  "kernelspec": {
   "display_name": "Python 3",
   "language": "python",
   "name": "python3"
  },
  "language_info": {
   "codemirror_mode": {
    "name": "ipython",
    "version": 3
   },
   "file_extension": ".py",
   "mimetype": "text/x-python",
   "name": "python",
   "nbconvert_exporter": "python",
   "pygments_lexer": "ipython3",
   "version": "3.4.2"
  }
 },
 "nbformat": 4,
 "nbformat_minor": 2
}
