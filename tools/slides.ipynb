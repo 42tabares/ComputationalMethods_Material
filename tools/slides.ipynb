{
 "cells": [
  {
   "cell_type": "markdown",
   "metadata": {
    "slideshow": {
     "slide_type": "slide"
    }
   },
   "source": [
    "# Slides\n",
    "Hola mundo\n",
    "Export to slides:\n",
    "\n",
    "Abrir la consola y ejecutar (En este caso el nombre del notebook es slides.ipynb\n",
    "```\n",
    "ipython3 nbconvert  slides.ipynb --to slides --reveal-prefix https://cdnjs.cloudflare.com/ajax/libs/reveal.js/3.3.0\n",
    "```\n",
    "\n",
    "Descargar el html generado y abrir en un navegador\n",
    "\n",
    "Para ver en github use el conversor [http://htmlpreview.github.io/?] y añada el link que aparece entrando a la [página html en github](https://github.com/restrepo/ComputationalMethods/blob/master/tools/slides.slides.html) y pulsando el botón [\"raw\"](https://raw.githubusercontent.com/restrepo/ComputationalMethods/master/tools/slides.slides.html), es decir:\n",
    "\n",
    "http://htmlpreview.github.io/?https://raw.githubusercontent.com/restrepo/ComputationalMethods/master/tools/slides.slides.html"
   ]
  },
  {
   "cell_type": "code",
   "execution_count": 1,
   "metadata": {
    "collapsed": true,
    "slideshow": {
     "slide_type": "slide"
    }
   },
   "outputs": [],
   "source": [
    "a=1+1"
   ]
  },
  {
   "cell_type": "code",
   "execution_count": 2,
   "metadata": {
    "slideshow": {
     "slide_type": "subslide"
    }
   },
   "outputs": [
    {
     "name": "stdout",
     "output_type": "stream",
     "text": [
      "2\n"
     ]
    }
   ],
   "source": [
    "print(a)"
   ]
  }
 ],
 "metadata": {
  "celltoolbar": "Slideshow",
  "kernelspec": {
   "display_name": "Python 3",
   "language": "python",
   "name": "python3"
  },
  "language_info": {
   "codemirror_mode": {
    "name": "ipython",
    "version": 3
   },
   "file_extension": ".py",
   "mimetype": "text/x-python",
   "name": "python",
   "nbconvert_exporter": "python",
   "pygments_lexer": "ipython3",
   "version": "3.4.2"
  },
  "toc": {
   "colors": {
    "hover_highlight": "#DAA520",
    "running_highlight": "#FF0000",
    "selected_highlight": "#FFD700"
   },
   "moveMenuLeft": true,
   "nav_menu": {
    "height": "31px",
    "width": "252px"
   },
   "navigate_menu": true,
   "number_sections": true,
   "sideBar": true,
   "threshold": 4,
   "toc_cell": false,
   "toc_section_display": "block",
   "toc_window_display": false
  }
 },
 "nbformat": 4,
 "nbformat_minor": 2
}
