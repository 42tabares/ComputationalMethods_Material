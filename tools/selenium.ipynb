{
  "nbformat": 4,
  "nbformat_minor": 0,
  "metadata": {
    "colab": {
      "name": "selenium.ipynb",
      "version": "0.3.2",
      "provenance": [],
      "include_colab_link": true
    },
    "kernelspec": {
      "name": "python3",
      "display_name": "Python 3"
    }
  },
  "cells": [
    {
      "cell_type": "markdown",
      "metadata": {
        "id": "view-in-github",
        "colab_type": "text"
      },
      "source": [
        "[View in Colaboratory](https://colab.research.google.com/github/restrepo/ComputationalMethods/blob/master/tools/selenium.ipynb)"
      ]
    },
    {
      "metadata": {
        "id": "7BjPnvG8RMrf",
        "colab_type": "code",
        "colab": {}
      },
      "cell_type": "code",
      "source": [
        "! apt install firefox  xvfb > /dev/null"
      ],
      "execution_count": 0,
      "outputs": []
    },
    {
      "metadata": {
        "id": "zd7i562JRI91",
        "colab_type": "code",
        "colab": {}
      },
      "cell_type": "code",
      "source": [
        "! pip3 install  pyvirtualdisplay selenium webdriver_manager  > /dev/null"
      ],
      "execution_count": 0,
      "outputs": []
    },
    {
      "metadata": {
        "id": "NWXcwDulTY4g",
        "colab_type": "code",
        "colab": {}
      },
      "cell_type": "code",
      "source": [
        "from pathlib import Path\n",
        "home = str(Path.home())"
      ],
      "execution_count": 0,
      "outputs": []
    },
    {
      "metadata": {
        "id": "--i6YklVRlIK",
        "colab_type": "code",
        "colab": {}
      },
      "cell_type": "code",
      "source": [
        "from webdriver_manager.firefox import GeckoDriverManager\n",
        "from selenium import webdriver\n",
        "from pyvirtualdisplay import Display\n",
        "\n",
        "REMOTE=False\n",
        "if REMOTE:\n",
        "    display = Display(visible=0, size=(800, 600))\n",
        "    display.start()\n",
        "    \n",
        "try:\n",
        "    browser = webdriver.Firefox(executable_path=\n",
        "                '{}/.wdm/geckodriver/v0.23.0/linux64/geckodriver'.format(home))\n",
        "except WebDriverException:\n",
        "    browser = webdriver.Firefox(executable_path=\n",
        "                GeckoDriverManager().install())\n",
        "\n",
        "if REMOTE:\n",
        "    #https://stackoverflow.com/a/17536547/2268280\n",
        "    browser.set_page_load_timeout(30)\n",
        "    \n",
        "browser.get('http://fisica.udea.edu.co')\n",
        "\n",
        "browser.find_element_by_link_text('Instituto').click()\n",
        " "
      ],
      "execution_count": 0,
      "outputs": []
    }
  ]
}