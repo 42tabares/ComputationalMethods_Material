{
  "nbformat": 4,
  "nbformat_minor": 0,
  "metadata": {
    "colab": {
      "name": "selenium.ipynb",
      "version": "0.3.2",
      "provenance": [],
      "include_colab_link": true
    },
    "kernelspec": {
      "name": "python3",
      "display_name": "Python 3"
    }
  },
  "cells": [
    {
      "cell_type": "markdown",
      "metadata": {
        "id": "view-in-github",
        "colab_type": "text"
      },
      "source": [
        "[View in Colaboratory](https://colab.research.google.com/github/restrepo/ComputationalMethods/blob/master/tools/selenium.ipynb)"
      ]
    },
    {
      "metadata": {
        "id": "H-nwgIx1QMFb",
        "colab_type": "code",
        "colab": {}
      },
      "cell_type": "code",
      "source": [
        "\n",
        "#pip3 install webdriver_manager\n",
        "from webdriver_manager.firefox import GeckoDriverManager\n",
        "from selenium import webdriver\n",
        "browser = webdriver.Firefox(executable_path=\n",
        "                '/home/restrepo/.wdm/geckodriver/v0.23.0/linux64/geckodriver')\n",
        "#reinstall path: GeckoDriverManager().install())\n",
        "\n",
        "browser.get('http://fisica.udea.edu.co')\n",
        "\n",
        "browser.find_element_by_link_text('Instituto').click()\n",
        " "
      ],
      "execution_count": 0,
      "outputs": []
    }
  ]
}