{
  "nbformat": 4,
  "nbformat_minor": 0,
  "metadata": {
    "colab": {
      "name": "selenium.ipynb",
      "version": "0.3.2",
      "provenance": [],
      "include_colab_link": true
    },
    "kernelspec": {
      "name": "python3",
      "display_name": "Python 3"
    }
  },
  "cells": [
    {
      "cell_type": "markdown",
      "metadata": {
        "id": "view-in-github",
        "colab_type": "text"
      },
      "source": [
        "<a href=\"https://colab.research.google.com/github/restrepo/ComputationalMethods/blob/master/tools/selenium.ipynb\" target=\"_parent\"><img src=\"https://colab.research.google.com/assets/colab-badge.svg\" alt=\"Open In Colab\"/></a>"
      ]
    },
    {
      "metadata": {
        "id": "Uw14LlZLsGQM",
        "colab_type": "text"
      },
      "cell_type": "markdown",
      "source": [
        "# Selenium\n",
        "Allow the remote contro of a browser, in this case firefox\n",
        "\n",
        "See the [Manual](https://www.seleniumhq.org/docs/03_webdriver.jsp) "
      ]
    },
    {
      "metadata": {
        "id": "7BjPnvG8RMrf",
        "colab_type": "code",
        "colab": {}
      },
      "cell_type": "code",
      "source": [
        "! apt install firefox  xvfb > /dev/null"
      ],
      "execution_count": 0,
      "outputs": []
    },
    {
      "metadata": {
        "id": "zd7i562JRI91",
        "colab_type": "code",
        "colab": {}
      },
      "cell_type": "code",
      "source": [
        "! pip3 install  pyvirtualdisplay selenium webdriver_manager  > /dev/null"
      ],
      "execution_count": 0,
      "outputs": []
    },
    {
      "metadata": {
        "id": "mFHVJPcVthkI",
        "colab_type": "text"
      },
      "cell_type": "markdown",
      "source": [
        "## Side by side mode\n",
        "The default mode is that a new browser window is open from your, in this case, Python execution enviroment. The code window is the remote control of that specific  browser window. "
      ]
    },
    {
      "metadata": {
        "id": "cgiurceTuqAz",
        "colab_type": "code",
        "colab": {}
      },
      "cell_type": "code",
      "source": [
        "from webdriver_manager.firefox import GeckoDriverManager\n",
        "from selenium import webdriver\n",
        "    \n",
        "\n",
        "browser = webdriver.Firefox(executable_path=\n",
        "                GeckoDriverManager().install())"
      ],
      "execution_count": 0,
      "outputs": []
    },
    {
      "metadata": {
        "id": "zNxrc6iW1LJa",
        "colab_type": "text"
      },
      "cell_type": "markdown",
      "source": [
        "### Simple example"
      ]
    },
    {
      "metadata": {
        "id": "djXqQQqP1YvQ",
        "colab_type": "code",
        "colab": {}
      },
      "cell_type": "code",
      "source": [
        "browser.get('http://fisica.udea.edu.co')\n",
        "\n",
        "browser.find_element_by_link_text('Instituto').click() "
      ],
      "execution_count": 0,
      "outputs": []
    },
    {
      "metadata": {
        "id": "1sqWFwnR4Joi",
        "colab_type": "text"
      },
      "cell_type": "markdown",
      "source": [
        "Capture the last visited page"
      ]
    },
    {
      "metadata": {
        "id": "KcZmB1Ck2ze4",
        "colab_type": "code",
        "colab": {}
      },
      "cell_type": "code",
      "source": [
        "html=browser.page_source"
      ],
      "execution_count": 0,
      "outputs": []
    },
    {
      "metadata": {
        "id": "0W28602hutzS",
        "colab_type": "code",
        "colab": {}
      },
      "cell_type": "code",
      "source": [
        "browser.close()"
      ],
      "execution_count": 0,
      "outputs": []
    },
    {
      "metadata": {
        "id": "3pcSg5I51b_y",
        "colab_type": "text"
      },
      "cell_type": "markdown",
      "source": [
        "### Google search example"
      ]
    },
    {
      "metadata": {
        "id": "gmRMC4Dr1nGN",
        "colab_type": "code",
        "colab": {}
      },
      "cell_type": "code",
      "source": [
        "browser.get('http://google.com')"
      ],
      "execution_count": 0,
      "outputs": []
    },
    {
      "metadata": {
        "id": "f0vVcIM81uvZ",
        "colab_type": "text"
      },
      "cell_type": "markdown",
      "source": [
        "Find the `id` element by putting the mouse pointer on the search box. "
      ]
    },
    {
      "metadata": {
        "id": "ZyDg5ivw1wTR",
        "colab_type": "code",
        "colab": {}
      },
      "cell_type": "code",
      "source": [
        "browser.find_element_by_id('lst-ib').clear()\n",
        "browser.find_element_by_id('lst-ib').send_keys('hello world')"
      ],
      "execution_count": 0,
      "outputs": []
    },
    {
      "metadata": {
        "id": "KdT_1WeQ2DQZ",
        "colab_type": "text"
      },
      "cell_type": "markdown",
      "source": [
        "With the mouse pointer on the search button, right click and choose `Inspect` and check the button name"
      ]
    },
    {
      "metadata": {
        "id": "9Qg5sKQi2LAu",
        "colab_type": "code",
        "colab": {}
      },
      "cell_type": "code",
      "source": [
        "browser.find_element_by_name(\"btnK\").click()"
      ],
      "execution_count": 0,
      "outputs": []
    },
    {
      "metadata": {
        "id": "2Zth-sfA6z6z",
        "colab_type": "code",
        "colab": {}
      },
      "cell_type": "code",
      "source": [
        "html=browser.page_source"
      ],
      "execution_count": 0,
      "outputs": []
    },
    {
      "metadata": {
        "id": "dQajB58Fuvm-",
        "colab_type": "text"
      },
      "cell_type": "markdown",
      "source": [
        "## Hidden mode\n",
        "A virtual display is generated where the broeser window is hidden"
      ]
    },
    {
      "metadata": {
        "id": "--i6YklVRlIK",
        "colab_type": "code",
        "colab": {}
      },
      "cell_type": "code",
      "source": [
        "from webdriver_manager.firefox import GeckoDriverManager\n",
        "from selenium import webdriver\n",
        "from pyvirtualdisplay import Display\n",
        "\n",
        "REMOTE=True\n",
        "if REMOTE:\n",
        "    display = Display(visible=0, size=(800, 600))\n",
        "    display.start()\n",
        "    \n",
        "try:\n",
        "    browser = webdriver.Firefox(executable_path=\n",
        "                '{}/.wdm/geckodriver/v0.23.0/linux64/geckodriver'.format(home))\n",
        "except WebDriverException:\n",
        "    browser = webdriver.Firefox(executable_path=\n",
        "                GeckoDriverManager().install())\n",
        "\n",
        "if REMOTE:\n",
        "    #https://stackoverflow.com/a/17536547/2268280\n",
        "    browser.set_page_load_timeout(30)\n",
        "    \n",
        "browser.get('http://fisica.udea.edu.co')\n",
        "\n",
        "browser.find_element_by_link_text('Instituto').click() "
      ],
      "execution_count": 0,
      "outputs": []
    },
    {
      "metadata": {
        "id": "6DhdXw9tr5sm",
        "colab_type": "code",
        "colab": {}
      },
      "cell_type": "code",
      "source": [
        "browser.close()"
      ],
      "execution_count": 0,
      "outputs": []
    }
  ]
}