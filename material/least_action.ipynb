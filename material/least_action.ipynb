{
 "cells": [
  {
   "cell_type": "markdown",
   "metadata": {},
   "source": [
    "# Least Action"
   ]
  },
  {
   "cell_type": "markdown",
   "metadata": {},
   "source": [
    "Load modules"
   ]
  },
  {
   "cell_type": "code",
   "execution_count": 1,
   "metadata": {},
   "outputs": [
    {
     "name": "stdout",
     "output_type": "stream",
     "text": [
      "Populating the interactive namespace from numpy and matplotlib\n"
     ]
    }
   ],
   "source": [
    "%pylab inline"
   ]
  },
  {
   "cell_type": "code",
   "execution_count": 3,
   "metadata": {},
   "outputs": [],
   "source": [
    "import numpy as np\n",
    "import scipy.optimize \n",
    "import pandas as pd\n",
    "global g  \n",
    "g=9.8"
   ]
  },
  {
   "cell_type": "markdown",
   "metadata": {},
   "source": [
    "<div style=\"float: right;\" markdown=\"1\">\n",
    "    <img src=\"figures/leastaction.png\">\n",
    "</div>\n",
    "\n",
    "## Geometry interpretation\n",
    "Following the geometry theory developed [here](http://www.eftaylor.com/software/ActionApplets/LeastAction.html), we will try to define something called the _Action_ for one small segment of the free fall movement in one-dimension. \n",
    "\n",
    "For that we need the experimental data consisting on the height of an object of mass $m$ in free fall, and the height $x_i$, for each time $t_i$. This data would be fitted by a polynomial of degree two, as displayed in the figure for one of the fitted segments of the plot of $x$ as a function of $t$. We take the origin of the coordinates at ground level. For each segment we can calculate an average kinetic energy, $T$, and an averge potential energy, $V$, in the limit of $\\Delta t=t_2-t_1$ small. From the figure\n",
    "\n",
    "\\begin{align}\n",
    "T=\\frac12 m v^2\\approx &\\frac12 m\\left(\\frac{x_2-x_1}{t_2-t_1}\\right)^2\\,,&\n",
    "V=mgh\\approx& m g \\frac{x_2+x_1}{2}\\,.\n",
    "\\end{align}\n",
    "\n",
    "We can then reformulate the problem of the free fall in the following terms. From all the possible curves that can interpolate the points $(t_1,x_1)$ and $(t_2,x_2)$, which is the correct one?. \n",
    "\n",
    "The answer obtained by Leonhard Euler [1] can be obtained from the definition of the function \"Lagrangian\"\n",
    "$$L(t)=T(t)-V(t)\\,.$$\n",
    "\n",
    "With this, we can build the \"Action\", by integrating the Lagrangian function between the points $(t_1,x_1)$ and $(t_2,x_2)$ as\n",
    "$$S=\\int_{t_1}^{t_2} L\\, \\operatorname{d}t\\,. $$\n",
    "\n",
    "The result if that correct interpolation is the one that has a minumum value for the Action!\n",
    "\n",
    "For one segment of the action between $(t_1,x_1)$, and $(t_2,x_2)$, with $\\Delta t$ sufficiently small such that $L$ can be considered constant, we have\n",
    "\\begin{eqnarray}\n",
    "S_1&=&\\int_{t_1}^{t_2} L dt \\\\\n",
    "&\\approx& \\left[\\frac12 m v^2-m g h \\right]\\Delta t\\\\\n",
    "&\\approx& \\left[\\frac12 m\\left(\\frac{x_2-x_1}{t_2-t_1}\\right)^2-m g \\frac{x_2+x_1}{2} \\right](t_2-t_1)\n",
    "\\end{eqnarray}\n",
    "that corresponds to Eq. (11) of Am. J. Phys, Vol. 72(2004)478: http://www.eftaylor.com/pub/Symmetries&ConsLaws.pdf"
   ]
  },
  {
   "cell_type": "markdown",
   "metadata": {},
   "source": [
    "## Code implementation"
   ]
  },
  {
   "cell_type": "markdown",
   "metadata": {},
   "source": [
    "### The Action\n",
    "We define the Action $S$ such of an object of mass $m$ throw vertically upward from $x_{\\hbox{ini}}$, such that $t_{\\hbox{end}}$ seconds later the object return to a height $x_{\\hbox{end}}$, as\n",
    "\\begin{eqnarray}\n",
    "S&=&\\int_{t_{\\hbox{ini}}}^{t_{\\hbox{end}}} L\\, {\\rm d}t \\\\\n",
    "&=&\\sum_i L_i \\Delta t\n",
    "\\end{eqnarray}"
   ]
  },
  {
   "cell_type": "code",
   "execution_count": 2,
   "metadata": {},
   "outputs": [],
   "source": [
    "def S(x,tend=3.,m=0.2,xini=0.,xend=0.):\n",
    "    \"\"\"\n",
    "    Calculate the Action of an object of of mass 'm' throw vertically upward from \n",
    "       'xini', such that 'tend' seconds later the object return to a height 'xend'.\n",
    "       Delta t must be constant.\n",
    "       \n",
    "    The defaults units for S are J.s   \n",
    "    \"\"\"\n",
    "    t=float(tend)\n",
    "    Dt=t/x[:-1].size\n",
    "    x=np.asarray(x)\n",
    "    #Fix initial and final point\n",
    "    x[0]=xini\n",
    "    x[-1]=xend\n",
    "    return ((0.5*m*(x[1:]-x[:-1])**2/Dt**2-0.5*m*g*(x[1:]+x[:-1]))*Dt).sum()"
   ]
  },
  {
   "cell_type": "markdown",
   "metadata": {
    "heading_collapsed": true
   },
   "source": [
    "#### Example"
   ]
  },
  {
   "cell_type": "markdown",
   "metadata": {
    "hidden": true
   },
   "source": [
    "For the default values build an intermediate set of points with $\\Delta t=0.5$ s."
   ]
  },
  {
   "cell_type": "code",
   "execution_count": 3,
   "metadata": {
    "hidden": true
   },
   "outputs": [],
   "source": [
    "df=pd.DataFrame({'t':[0.,0.5,1.,1.5,2.,2.5,3.],'x':[0.,10,15.,22.,18.,5.,0.]})"
   ]
  },
  {
   "cell_type": "code",
   "execution_count": 59,
   "metadata": {
    "hidden": true
   },
   "outputs": [
    {
     "data": {
      "text/html": [
       "<div>\n",
       "<table border=\"1\" class=\"dataframe\">\n",
       "  <thead>\n",
       "    <tr style=\"text-align: right;\">\n",
       "      <th></th>\n",
       "      <th>t</th>\n",
       "      <th>x</th>\n",
       "    </tr>\n",
       "  </thead>\n",
       "  <tbody>\n",
       "    <tr>\n",
       "      <th>0</th>\n",
       "      <td>0.0</td>\n",
       "      <td>0.0</td>\n",
       "    </tr>\n",
       "    <tr>\n",
       "      <th>1</th>\n",
       "      <td>0.5</td>\n",
       "      <td>10.0</td>\n",
       "    </tr>\n",
       "    <tr>\n",
       "      <th>2</th>\n",
       "      <td>1.0</td>\n",
       "      <td>15.0</td>\n",
       "    </tr>\n",
       "    <tr>\n",
       "      <th>3</th>\n",
       "      <td>1.5</td>\n",
       "      <td>22.0</td>\n",
       "    </tr>\n",
       "    <tr>\n",
       "      <th>4</th>\n",
       "      <td>2.0</td>\n",
       "      <td>18.0</td>\n",
       "    </tr>\n",
       "    <tr>\n",
       "      <th>5</th>\n",
       "      <td>2.5</td>\n",
       "      <td>5.0</td>\n",
       "    </tr>\n",
       "    <tr>\n",
       "      <th>6</th>\n",
       "      <td>3.0</td>\n",
       "      <td>0.0</td>\n",
       "    </tr>\n",
       "  </tbody>\n",
       "</table>\n",
       "</div>"
      ],
      "text/plain": [
       "     t     x\n",
       "0  0.0   0.0\n",
       "1  0.5  10.0\n",
       "2  1.0  15.0\n",
       "3  1.5  22.0\n",
       "4  2.0  18.0\n",
       "5  2.5   5.0\n",
       "6  3.0   0.0"
      ]
     },
     "execution_count": 59,
     "metadata": {},
     "output_type": "execute_result"
    }
   ],
   "source": [
    "df"
   ]
  },
  {
   "cell_type": "markdown",
   "metadata": {
    "heading_collapsed": true
   },
   "source": [
    "#### Linear fit "
   ]
  },
  {
   "cell_type": "code",
   "execution_count": 6,
   "metadata": {
    "hidden": true
   },
   "outputs": [
    {
     "data": {
      "text/plain": [
       "[<matplotlib.lines.Line2D at 0x77d09289b0>]"
      ]
     },
     "execution_count": 6,
     "metadata": {},
     "output_type": "execute_result"
    },
    {
     "data": {
      "image/png": "[encoded data removed]",
      "text/plain": [
       "<Figure size 432x288 with 1 Axes>"
      ]
     },
     "metadata": {},
     "output_type": "display_data"
    }
   ],
   "source": [
    "plt.plot(df.t,df.x,'ro')\n",
    "plt.plot(df.t,df.x)"
   ]
  },
  {
   "cell_type": "code",
   "execution_count": 7,
   "metadata": {
    "hidden": true
   },
   "outputs": [
    {
     "data": {
      "text/plain": [
       "145.39999999999998"
      ]
     },
     "execution_count": 7,
     "metadata": {},
     "output_type": "execute_result"
    }
   ],
   "source": [
    "S(df.x)"
   ]
  },
  {
   "cell_type": "markdown",
   "metadata": {
    "heading_collapsed": true
   },
   "source": [
    "####  Polynomial fit "
   ]
  },
  {
   "cell_type": "code",
   "execution_count": 8,
   "metadata": {
    "hidden": true
   },
   "outputs": [
    {
     "name": "stdout",
     "output_type": "stream",
     "text": [
      "        2\n",
      "-8.905 x + 26.21 x - 0.381\n"
     ]
    }
   ],
   "source": [
    "coeffs=np.polyfit(df.t,df.x,2)\n",
    "P=np.poly1d(coeffs)\n",
    "print(P)"
   ]
  },
  {
   "cell_type": "code",
   "execution_count": 9,
   "metadata": {
    "hidden": true
   },
   "outputs": [
    {
     "data": {
      "text/plain": [
       "array([-3.80952381e-01, -6.28714286e+02, -1.61073810e+03, -3.73357143e+03,\n",
       "       -2.41366667e+03, -9.19285714e+01, -3.80952381e-01])"
      ]
     },
     "execution_count": 9,
     "metadata": {},
     "output_type": "execute_result"
    }
   ],
   "source": [
    "P(df.x)"
   ]
  },
  {
   "cell_type": "code",
   "execution_count": 10,
   "metadata": {
    "hidden": true
   },
   "outputs": [
    {
     "data": {
      "text/plain": [
       "[<matplotlib.lines.Line2D at 0x77d08435c0>]"
      ]
     },
     "execution_count": 10,
     "metadata": {},
     "output_type": "execute_result"
    },
    {
     "data": {
      "image/png": "[encoded data removed]",
      "text/plain": [
       "<Figure size 432x288 with 1 Axes>"
      ]
     },
     "metadata": {},
     "output_type": "display_data"
    }
   ],
   "source": [
    "plt.plot(df.t,df.x,'ko')\n",
    "plt.plot(df.t,P(df.t) )"
   ]
  },
  {
   "cell_type": "code",
   "execution_count": 11,
   "metadata": {
    "hidden": true
   },
   "outputs": [
    {
     "data": {
      "text/plain": [
       "130.7903628117914"
      ]
     },
     "execution_count": 11,
     "metadata": {},
     "output_type": "execute_result"
    }
   ],
   "source": [
    "S(P(df.t))"
   ]
  },
  {
   "cell_type": "markdown",
   "metadata": {
    "hidden": true
   },
   "source": [
    "We can now have an smoth fit"
   ]
  },
  {
   "cell_type": "code",
   "execution_count": 12,
   "metadata": {
    "hidden": true
   },
   "outputs": [
    {
     "data": {
      "text/plain": [
       "[<matplotlib.lines.Line2D at 0x77d05c7518>]"
      ]
     },
     "execution_count": 12,
     "metadata": {},
     "output_type": "execute_result"
    },
    {
     "data": {
      "image/png": "[encoded data removed]",
      "text/plain": [
       "<Figure size 432x288 with 1 Axes>"
      ]
     },
     "metadata": {},
     "output_type": "display_data"
    }
   ],
   "source": [
    "t=linspace(0,3,50)\n",
    "plt.plot(df.t,df.x,'ko')\n",
    "plt.plot(t,P(t) )\n"
   ]
  },
  {
   "cell_type": "code",
   "execution_count": 13,
   "metadata": {
    "hidden": true
   },
   "outputs": [
    {
     "data": {
      "text/plain": [
       "137.43092595268467"
      ]
     },
     "execution_count": 13,
     "metadata": {},
     "output_type": "execute_result"
    }
   ],
   "source": [
    "S(P(t))"
   ]
  },
  {
   "cell_type": "markdown",
   "metadata": {},
   "source": [
    "#### Exercise\n",
    "Try to find a large action (larger than 10 J$\\cdot$s) and the minimal possible action"
   ]
  },
  {
   "cell_type": "markdown",
   "metadata": {
    "colab_type": "text",
    "id": "aL6DEhPxNbzy"
   },
   "source": [
    "### Solution to a free fall problem\n",
    "\\begin{align}\n",
    " x=&-\\frac{1}{2} g t^2+v_0 t \\,, & v=&-g t +v_0\n",
    "\\end{align}\n",
    "At maximum height $t=t_{\\text{end}}/2$ and\n",
    "\\begin{align}\n",
    " x_{\\text{max}}=&-\\frac{1}{2} g (t_{\\text{end}}/2)^2+v_0 \\frac{t_{\\text{end}}}{2} \\,, & 0=&-g \\frac{t_{\\text{end}}}{2} +v_0\n",
    "\\end{align}\n",
    "From the second equation $v_0=g t_{\\text{end}}/2=14.7$ m/s, and\n",
    "\\begin{align}\n",
    " x_{\\text{max}}=&-\\frac{1}{2} g (t_{\\text{end}}/2)^2+ g \\frac{t_{\\text{end}}}{2} \\frac{t_{\\text{end}}}{2} \\nonumber\\\\\n",
    " =&g\\frac{ t_{\\text{end}}^2  }{8}=11.025\\ \\text{m}\\,.\n",
    "\\end{align}"
   ]
  },
  {
   "cell_type": "markdown",
   "metadata": {
    "colab_type": "text",
    "id": "aOq2sXh8Nbzz"
   },
   "source": [
    "__Activity__: Find the same solution by fitting the polynomial of degree 2 that go trough the points: \n",
    "* $(t_0,x_0)=(0,0)$,  \n",
    "* $(t_{\\rm end}/2,x_{\\rm max})=(11.025,1.5)$, \n",
    "* $(t_{\\rm end},x_{\\rm end})=(0,3)$, in s and m respectively."
   ]
  },
  {
   "cell_type": "code",
   "execution_count": 3,
   "metadata": {
    "colab": {
     "base_uri": "https://localhost:8080/",
     "height": 142
    },
    "colab_type": "code",
    "id": "Hu_fMjGLNbz0",
    "outputId": "ac312ce7-c37d-46c1-bca7-0fe4298f4163"
   },
   "outputs": [
    {
     "data": {
      "text/html": [
       "<div>\n",
       "<style scoped>\n",
       "    .dataframe tbody tr th:only-of-type {\n",
       "        vertical-align: middle;\n",
       "    }\n",
       "\n",
       "    .dataframe tbody tr th {\n",
       "        vertical-align: top;\n",
       "    }\n",
       "\n",
       "    .dataframe thead th {\n",
       "        text-align: right;\n",
       "    }\n",
       "</style>\n",
       "<table border=\"1\" class=\"dataframe\">\n",
       "  <thead>\n",
       "    <tr style=\"text-align: right;\">\n",
       "      <th></th>\n",
       "      <th>t</th>\n",
       "      <th>x</th>\n",
       "    </tr>\n",
       "  </thead>\n",
       "  <tbody>\n",
       "    <tr>\n",
       "      <th>0</th>\n",
       "      <td>0.0</td>\n",
       "      <td>0.000</td>\n",
       "    </tr>\n",
       "    <tr>\n",
       "      <th>1</th>\n",
       "      <td>1.5</td>\n",
       "      <td>11.025</td>\n",
       "    </tr>\n",
       "    <tr>\n",
       "      <th>2</th>\n",
       "      <td>3.0</td>\n",
       "      <td>0.000</td>\n",
       "    </tr>\n",
       "  </tbody>\n",
       "</table>\n",
       "</div>"
      ],
      "text/plain": [
       "     t       x\n",
       "0  0.0   0.000\n",
       "1  1.5  11.025\n",
       "2  3.0   0.000"
      ]
     },
     "execution_count": 3,
     "metadata": {
      "tags": []
     },
     "output_type": "execute_result"
    }
   ],
   "source": [
    "df=pd.DataFrame( {'t':[0,1.5,3],\n",
    "                  'x':[0,11.025,0]\n",
    "     })\n",
    "df"
   ]
  },
  {
   "cell_type": "code",
   "execution_count": 4,
   "metadata": {
    "colab": {
     "base_uri": "https://localhost:8080/",
     "height": 53
    },
    "colab_type": "code",
    "id": "rRT33pzWNbz4",
    "outputId": "f7eab0db-9e38-4d05-d38b-27dce157eb3b"
   },
   "outputs": [
    {
     "name": "stdout",
     "output_type": "stream",
     "text": [
      "      2\n",
      "-4.9 t + 14.7 t + 8.205e-15\n"
     ]
    }
   ],
   "source": [
    "df.loc[1,'x']=11.025 \n",
    "coeff=np.polyfit(df.t,df.x,deg=2)\n",
    "x=np.poly1d(coeff,variable='t')\n",
    "print(x)"
   ]
  },
  {
   "cell_type": "code",
   "execution_count": 5,
   "metadata": {
    "colab": {
     "base_uri": "https://localhost:8080/",
     "height": 283
    },
    "colab_type": "code",
    "id": "fLB_MlY2Nbz7",
    "outputId": "df7cfdf1-fc9d-42eb-edf5-5f20fb3dd8e2"
   },
   "outputs": [
    {
     "data": {
      "text/plain": [
       "[<matplotlib.lines.Line2D at 0x7f14458f52e8>]"
      ]
     },
     "execution_count": 5,
     "metadata": {
      "tags": []
     },
     "output_type": "execute_result"
    },
    {
     "data": {
      "image/png": "[encoded data removed]",
      "text/plain": [
       "<matplotlib.figure.Figure at 0x7f144693e7f0>"
      ]
     },
     "metadata": {
      "tags": []
     },
     "output_type": "display_data"
    }
   ],
   "source": [
    "t=np.linspace(df.t.min(),df.t.max())\n",
    "plt.plot(df.t,df.x,'ro')\n",
    "plt.plot(t,x(t))\n",
    "#plt.grid()"
   ]
  },
  {
   "cell_type": "markdown",
   "metadata": {
    "colab_type": "text",
    "id": "hvs_PKgsNbz_"
   },
   "source": [
    "## Least Action for the free fall problem"
   ]
  },
  {
   "cell_type": "markdown",
   "metadata": {
    "colab_type": "text",
    "id": "R3HyGGCUNb0A"
   },
   "source": [
    "<div style=\"float: right;\" markdown=\"1\">\n",
    "    <img src=\"https://github.com/restrepo/ComputationalMethods/blob/master/material/figures/leastaction.png?raw=1\">\n",
    "</div>\n",
    "\n",
    "### Geometry interpretation\n",
    "Following the geometry theory developed [here](http://www.eftaylor.com/software/ActionApplets/LeastAction.html), we will try to define something called the _Action_ for one small segment of the free fall movement in one-dimension. \n",
    "\n",
    "For that we need the experimental data consisting on the height of an object of mass $m$ in free fall, and the height $x_i$, for each time $t_i$. This data would be fitted by a polynomial of degree two, as displayed in the figure for one of the fitted segments of the plot of $x$ as a function of $t$. We take the origin of the coordinates at ground level. For each segment we can calculate an average kinetic energy, $T$, and an averge potential energy, $V$, in the limit of $\\Delta t=t_2-t_1$ small. From the figure\n",
    "\n",
    "\\begin{align}\n",
    "T_{12}=\\frac12 m v^2\\approx &\\frac12 m\\left(\\frac{x_2-x_1}{t_2-t_1}\\right)^2\\,,&\n",
    "V_{12}=mgh\\approx& m g \\frac{x_2+x_1}{2}\\,.\n",
    "\\end{align}\n",
    "\n",
    "We can then reformulate the problem of the free fall in the following terms. From all the possible curves that can interpolate the points $(t_1,x_1)$ and $(t_2,x_2)$, which is the correct one?. \n",
    "\n",
    "The answer, found by Euler can be obtained from the definition of the function \"Lagrangian\"\n",
    "$$L(t)=T(t)-V(t)$$\n",
    "\n",
    "We define the \"Action\" of one interpolating function between the points $(t_1,x_1)$ and $(t_2,x_2)$ as\n",
    "$$S=\\int_{t_1}^{t_2} L\\, {\\rm d}t $$\n",
    "\n",
    "The result is that the correct interpolation, called the _physical trajectory_, is the one which has a _minumum_ value for the Action!\n",
    "\n",
    "For one segment of the action between $(t_1,x_1)$, and $(t_2,x_2)$, with $\\Delta t$ sufficiently small such that $L$ can be considered constant, we have\n",
    "\\begin{eqnarray}\n",
    "S_1&=&\\int_{t_1}^{t_2} L dt \\\\\n",
    "&\\approx& \\left[\\frac12 m v^2-m g h \\right]\\Delta t\\\\\n",
    "&\\approx& \\left[\\frac12 m\\left(\\frac{x_2-x_1}{t_2-t_1}\\right)^2-m g \\frac{x_2+x_1}{2} \\right](t_2-t_1)\n",
    "\\end{eqnarray}\n",
    "that corresponds to Eq. (11) of Am. J. Phys, Vol. 72(2004)478: http://www.eftaylor.com/pub/Symmetries&ConsLaws.pdf"
   ]
  },
  {
   "cell_type": "markdown",
   "metadata": {
    "colab_type": "text",
    "id": "GKoRz7hwNb0A"
   },
   "source": [
    "__Activity__: \n",
    "1. Calculates \n",
    "$$S=\\int_{t_{\\rm min}}^{t_{\\rm max}} L(t)\\operatorname{d}t $$\n",
    "for the physical trajectory of a particle in free fall of $m=0.2\\ $kg, where\n",
    "$$L(t)=\\frac{1}{2}m v^2(t)-mgx(t)$$\n",
    "_Hint_:\n",
    "$$F(t)=\\int L(t)\\operatorname{d}t$$\n",
    "$$S=F(t_{\\rm max})-F(t_{\\rm min})$$\n",
    "1. Calculates also the instataneous energy\n",
    "$$E(t)=\\frac{1}{2}m v^2(t)+mgx(t)$$\n",
    "for  several times."
   ]
  },
  {
   "cell_type": "code",
   "execution_count": 6,
   "metadata": {
    "colab": {
     "base_uri": "https://localhost:8080/",
     "height": 179
    },
    "colab_type": "code",
    "id": "HY4HEx_jNb0B",
    "outputId": "01b25c73-ff6e-4568-882a-d32c8e41e90d"
   },
   "outputs": [
    {
     "name": "stdout",
     "output_type": "stream",
     "text": [
      "x(t) [m]:\n",
      "       2\n",
      "-4.9 t + 14.7 t + 8.205e-15\n",
      "=============================================\n",
      "for xmax=11.025 m: S=-21.6 J.s  min: -21.6 J.s\n",
      "=============================================\n",
      "instantaneous energy [J]:\n",
      " [21.609 21.609 21.609 21.609 21.609 21.609 21.609 21.609 21.609 21.609\n",
      " 21.609 21.609 21.609 21.609 21.609 21.609]\n"
     ]
    }
   ],
   "source": [
    "xmax=11.025 \n",
    "df.loc[1,'x']=xmax\n",
    "coeff=np.polyfit(df.t,df.x,deg=2)\n",
    "x=np.poly1d(coeff,variable='t')\n",
    "print('x(t) [m]:\\n',x)\n",
    "print(\"=\"*45)\n",
    "m=0.2\n",
    "g=9.8\n",
    "v=x.deriv()\n",
    "L=0.5*m*v**2-m*g*x\n",
    "E=0.5*m*v**2+m*g*x\n",
    "F=L.integ() # Analytical integration\n",
    "S=F( df.t.max() ) - F( df.t.min() ) \n",
    "print('for xmax={} m: S={:.1f} J.s  min: -21.6 J.s'.format(xmax,S))\n",
    "print(\"=\"*45)\n",
    "Deltat=0.2\n",
    "#t=np.linspace(df.t.min() , df.t.max(),10)\n",
    "t=np.arange(df.t.min() , df.t.max()+Deltat,Deltat)\n",
    "print('instantaneous energy [J]:\\n {}'.format(E(t)))"
   ]
  },
  {
   "cell_type": "markdown",
   "metadata": {
    "colab_type": "text",
    "id": "PqFVeeRCNb0E"
   },
   "source": [
    "__Activity__: Changes the maximum height for the previous activity and check what happens with the instantaneous energy."
   ]
  },
  {
   "cell_type": "markdown",
   "metadata": {
    "colab_type": "text",
    "id": "9ipNWDgSbEyJ"
   },
   "source": [
    "## Comparision with non-physical trajectories\n",
    "\n",
    "---\n",
    "\n"
   ]
  },
  {
   "cell_type": "markdown",
   "metadata": {
    "colab_type": "text",
    "id": "PEtUtXetNb0G"
   },
   "source": [
    "I good approximation to the integral is:\n",
    "$$S=\\int_{t_{\\rm min}}^{t_{\\rm max}} L(t)\\operatorname{d}t\\approx \\sum_i \\left[\\frac{L(t_{i+1})+L(t_i)}{2}\\right]\\Delta t$$"
   ]
  },
  {
   "cell_type": "code",
   "execution_count": 7,
   "metadata": {
    "colab": {
     "base_uri": "https://localhost:8080/",
     "height": 35
    },
    "colab_type": "code",
    "id": "1pZ_b3DzNb0G",
    "outputId": "22377b49-f56b-475d-c826-31a03f14f993"
   },
   "outputs": [
    {
     "name": "stdout",
     "output_type": "stream",
     "text": [
      "Δt=[0.2 0.2 0.2 0.2 0.2 0.2 0.2 0.2 0.2 0.2 0.2 0.2 0.2 0.2 0.2]\n"
     ]
    }
   ],
   "source": [
    "print('Δt={}'.format( t[1:]-t[:-1] )  )"
   ]
  },
  {
   "cell_type": "code",
   "execution_count": 8,
   "metadata": {
    "colab": {
     "base_uri": "https://localhost:8080/",
     "height": 35
    },
    "colab_type": "code",
    "id": "YN7j9K2MNb0K",
    "outputId": "13fd29ce-97eb-4af2-dcc9-7612198503e4"
   },
   "outputs": [
    {
     "name": "stdout",
     "output_type": "stream",
     "text": [
      "S=-21.2 J.s\n"
     ]
    }
   ],
   "source": [
    "print( 'S={:.1f} J.s'.format( 0.5*( L(t)[1:]+L(t)[:-1] ).sum()*Deltat ) )"
   ]
  },
  {
   "cell_type": "markdown",
   "metadata": {
    "colab_type": "text",
    "id": "IiYjIbeZNb0N"
   },
   "source": [
    "Or even more general"
   ]
  },
  {
   "cell_type": "code",
   "execution_count": 9,
   "metadata": {
    "colab": {
     "base_uri": "https://localhost:8080/",
     "height": 35
    },
    "colab_type": "code",
    "id": "jAsX0bIKNb0O",
    "outputId": "8762f783-f45f-4d93-9a5f-0a9fe520c752"
   },
   "outputs": [
    {
     "name": "stdout",
     "output_type": "stream",
     "text": [
      "S=-21.2 J.s\n"
     ]
    }
   ],
   "source": [
    "def Saprx(L,t):\n",
    "    return   0.5*( L(t)[1:]+L(t)[:-1] )*(  t[1:]-t[:-1]  )  \n",
    "\n",
    "print( 'S={:.1f} J.s'.format(  Saprx(L,t).sum() ) )"
   ]
  },
  {
   "cell_type": "code",
   "execution_count": 10,
   "metadata": {
    "colab": {
     "base_uri": "https://localhost:8080/",
     "height": 346
    },
    "colab_type": "code",
    "id": "0bdwvMQONb0R",
    "outputId": "ee21148c-d628-427e-e580-5036c3efed0b"
   },
   "outputs": [
    {
     "name": "stdout",
     "output_type": "stream",
     "text": [
      "S=-17.1  J.s\n",
      "S=-21.6  J.s\n",
      "S=-18.8  J.s\n"
     ]
    },
    {
     "data": {
      "image/png": "[encoded data removed]",
      "text/plain": [
       "<matplotlib.figure.Figure at 0x7f14458d2470>"
      ]
     },
     "metadata": {
      "tags": []
     },
     "output_type": "display_data"
    }
   ],
   "source": [
    "Ss=[]\n",
    "Es=[]\n",
    "m=0.2\n",
    "g=9.8\n",
    "Deltat=0.2\n",
    "#t=np.linspace(df.t.min() , df.t.max(),10)\n",
    "t=np.arange(df.t.min() , df.t.max()+Deltat,Deltat)\n",
    "xmax=[6,11.025,15]; x0=0;xend=0\n",
    "ls=['r--','k-','b-.']\n",
    "for i in range(len(xmax) ):\n",
    "    df=pd.DataFrame({'t':[t.min(),t.mean(),t.max()],'x':[x0,xmax[i],xend]})\n",
    "    coeffs=np.polyfit(df.t,df.x,2)\n",
    "    x=np.poly1d(coeffs,variable='t')\n",
    "    v=x.deriv()\n",
    "    L=0.5*m*v**2-m*g*x\n",
    "    F=L.integ() # Analytical integration \n",
    "    E=0.5*m*v**2+m*g*x\n",
    "    S=F( df.t.max() ) - F( df.t.min() )\n",
    "    print('S={:.1f}  J.s'.format( S ) )\n",
    "    Ss.append( Saprx(L,t)  )\n",
    "    Es.append( E(t) )\n",
    "    #Plot\n",
    "    if ls:\n",
    "        plt.plot(t,x(t),ls[i],label='S={:.1f} J$\\cdot$s'.format( S  )   )\n",
    "\n",
    "if ls:\n",
    "    plt.legend(loc='best',fontsize=12)    \n",
    "    plt.xlabel('$t$ [s]',size=20)\n",
    "    plt.ylabel('$x$ [m]',size=20)"
   ]
  },
  {
   "cell_type": "markdown",
   "metadata": {
    "colab_type": "text",
    "id": "YzSnwspWcU7P"
   },
   "source": [
    "Only the physical trajectory conserves energy"
   ]
  },
  {
   "cell_type": "code",
   "execution_count": 11,
   "metadata": {
    "colab": {
     "base_uri": "https://localhost:8080/",
     "height": 197
    },
    "colab_type": "code",
    "id": "ctLVmvX8Nb0U",
    "outputId": "7a713200-3e42-47e6-f39f-d9ec949c9652"
   },
   "outputs": [
    {
     "data": {
      "text/plain": [
       "[array([ 6.4       ,  7.73404444,  8.87751111,  9.8304    , 10.59271111,\n",
       "        11.16444444, 11.5456    , 11.73617778, 11.73617778, 11.5456    ,\n",
       "        11.16444444, 10.59271111,  9.8304    ,  8.87751111,  7.73404444,\n",
       "         6.4       ]),\n",
       " array([21.609, 21.609, 21.609, 21.609, 21.609, 21.609, 21.609, 21.609,\n",
       "        21.609, 21.609, 21.609, 21.609, 21.609, 21.609, 21.609, 21.609]),\n",
       " array([40.        , 37.36177778, 35.10044444, 33.216     , 31.70844444,\n",
       "        30.57777778, 29.824     , 29.44711111, 29.44711111, 29.824     ,\n",
       "        30.57777778, 31.70844444, 33.216     , 35.10044444, 37.36177778,\n",
       "        40.        ])]"
      ]
     },
     "execution_count": 11,
     "metadata": {
      "tags": []
     },
     "output_type": "execute_result"
    }
   ],
   "source": [
    "Es"
   ]
  },
  {
   "cell_type": "markdown",
   "metadata": {
    "colab_type": "text",
    "id": "uenEmzJYNb0e"
   },
   "source": [
    "Approximated result"
   ]
  },
  {
   "cell_type": "code",
   "execution_count": null,
   "metadata": {
    "colab": {
     "base_uri": "https://localhost:8080/",
     "height": 34
    },
    "colab_type": "code",
    "id": "PUSiUqwfNb0f",
    "outputId": "c0d7681d-a752-4a34-eed7-129392cdd064"
   },
   "outputs": [
    {
     "data": {
      "text/plain": [
       "(-16.958577777777823, -21.224840000000114, -18.1831111111111)"
      ]
     },
     "execution_count": 15,
     "metadata": {
      "tags": []
     },
     "output_type": "execute_result"
    }
   ],
   "source": [
    "Ss[0].sum(),Ss[1].sum(),Ss[2].sum()"
   ]
  },
  {
   "cell_type": "markdown",
   "metadata": {
    "colab_type": "text",
    "id": "ro9iNdZZNb0m"
   },
   "source": [
    "__Activity__: Check that the Action of a trajectory with a polynomial of order $n$ which fits $n+1$ points with the same extreme values, gives an Action that is larger than the previous minimun"
   ]
  },
  {
   "cell_type": "code",
   "execution_count": 14,
   "metadata": {
    "colab": {
     "base_uri": "https://localhost:8080/",
     "height": 142
    },
    "colab_type": "code",
    "id": "6a1cZgvUU61i",
    "outputId": "b66432f4-53e4-4bbb-cd6e-ceca3e26c016"
   },
   "outputs": [
    {
     "data": {
      "text/html": [
       "<div>\n",
       "<style scoped>\n",
       "    .dataframe tbody tr th:only-of-type {\n",
       "        vertical-align: middle;\n",
       "    }\n",
       "\n",
       "    .dataframe tbody tr th {\n",
       "        vertical-align: top;\n",
       "    }\n",
       "\n",
       "    .dataframe thead th {\n",
       "        text-align: right;\n",
       "    }\n",
       "</style>\n",
       "<table border=\"1\" class=\"dataframe\">\n",
       "  <thead>\n",
       "    <tr style=\"text-align: right;\">\n",
       "      <th></th>\n",
       "      <th>t</th>\n",
       "      <th>x</th>\n",
       "    </tr>\n",
       "  </thead>\n",
       "  <tbody>\n",
       "    <tr>\n",
       "      <th>0</th>\n",
       "      <td>0.0</td>\n",
       "      <td>0</td>\n",
       "    </tr>\n",
       "    <tr>\n",
       "      <th>1</th>\n",
       "      <td>1.5</td>\n",
       "      <td>15</td>\n",
       "    </tr>\n",
       "    <tr>\n",
       "      <th>2</th>\n",
       "      <td>3.0</td>\n",
       "      <td>0</td>\n",
       "    </tr>\n",
       "  </tbody>\n",
       "</table>\n",
       "</div>"
      ],
      "text/plain": [
       "     t   x\n",
       "0  0.0   0\n",
       "1  1.5  15\n",
       "2  3.0   0"
      ]
     },
     "execution_count": 14,
     "metadata": {
      "tags": []
     },
     "output_type": "execute_result"
    }
   ],
   "source": [
    "df"
   ]
  },
  {
   "cell_type": "code",
   "execution_count": 21,
   "metadata": {
    "colab": {
     "base_uri": "https://localhost:8080/",
     "height": 204
    },
    "colab_type": "code",
    "id": "tnG4uxULVDnJ",
    "outputId": "5dac3923-7980-401c-9b9e-317ac039a1e0"
   },
   "outputs": [
    {
     "data": {
      "text/html": [
       "<div>\n",
       "<style scoped>\n",
       "    .dataframe tbody tr th:only-of-type {\n",
       "        vertical-align: middle;\n",
       "    }\n",
       "\n",
       "    .dataframe tbody tr th {\n",
       "        vertical-align: top;\n",
       "    }\n",
       "\n",
       "    .dataframe thead th {\n",
       "        text-align: right;\n",
       "    }\n",
       "</style>\n",
       "<table border=\"1\" class=\"dataframe\">\n",
       "  <thead>\n",
       "    <tr style=\"text-align: right;\">\n",
       "      <th></th>\n",
       "      <th>t</th>\n",
       "      <th>x</th>\n",
       "    </tr>\n",
       "  </thead>\n",
       "  <tbody>\n",
       "    <tr>\n",
       "      <th>0</th>\n",
       "      <td>0.00</td>\n",
       "      <td>0.0</td>\n",
       "    </tr>\n",
       "    <tr>\n",
       "      <th>3</th>\n",
       "      <td>0.75</td>\n",
       "      <td>5.0</td>\n",
       "    </tr>\n",
       "    <tr>\n",
       "      <th>1</th>\n",
       "      <td>1.50</td>\n",
       "      <td>15.0</td>\n",
       "    </tr>\n",
       "    <tr>\n",
       "      <th>4</th>\n",
       "      <td>2.25</td>\n",
       "      <td>2.7</td>\n",
       "    </tr>\n",
       "    <tr>\n",
       "      <th>2</th>\n",
       "      <td>3.00</td>\n",
       "      <td>0.0</td>\n",
       "    </tr>\n",
       "  </tbody>\n",
       "</table>\n",
       "</div>"
      ],
      "text/plain": [
       "      t     x\n",
       "0  0.00   0.0\n",
       "3  0.75   5.0\n",
       "1  1.50  15.0\n",
       "4  2.25   2.7\n",
       "2  3.00   0.0"
      ]
     },
     "execution_count": 21,
     "metadata": {
      "tags": []
     },
     "output_type": "execute_result"
    }
   ],
   "source": [
    "ndf=df.append({'t':0.75,'x':5},ignore_index=True)\n",
    "ndf=ndf.append({'t':2.25,'x':2.7},ignore_index=True)\n",
    "ndf=ndf.sort_values('t')\n",
    "ndf"
   ]
  },
  {
   "cell_type": "code",
   "execution_count": 22,
   "metadata": {
    "colab": {
     "base_uri": "https://localhost:8080/",
     "height": 310
    },
    "colab_type": "code",
    "id": "M4tL2dFfU2GD",
    "outputId": "5a97ca12-05e9-4cd2-dbf8-8b72caf7468b"
   },
   "outputs": [
    {
     "name": "stdout",
     "output_type": "stream",
     "text": [
      "S=-21.6  J.s\n"
     ]
    },
    {
     "data": {
      "image/png": "[encoded data removed]",
      "text/plain": [
       "<matplotlib.figure.Figure at 0x7f1445939a20>"
      ]
     },
     "metadata": {
      "tags": []
     },
     "output_type": "display_data"
    }
   ],
   "source": [
    "Ss=[]\n",
    "Es=[]\n",
    "m=0.2\n",
    "g=9.8\n",
    "Deltat=0.2\n",
    "#t=np.linspace(df.t.min() , df.t.max(),10)\n",
    "t=np.arange(df.t.min() , df.t.max()+Deltat,Deltat)\n",
    "xmax=[11.025]; x0=0;xend=0\n",
    "ls=['r--','k-','b-.']\n",
    "for i in range(len(xmax) ):\n",
    "    df=pd.DataFrame({'t':[t.min(),t.mean(),t.max()],'x':[x0,xmax[i],xend]})\n",
    "    coeffs=np.polyfit(df.t,df.x,2)\n",
    "    x=np.poly1d(coeffs,variable='t')\n",
    "    v=x.deriv()\n",
    "    L=0.5*m*v**2-m*g*x\n",
    "    F=L.integ() # Analytical integration \n",
    "    E=0.5*m*v**2+m*g*x\n",
    "    S=F( df.t.max() ) - F( df.t.min() )\n",
    "    print('S={:.1f}  J.s'.format( S ) )\n",
    "    Ss.append( Saprx(L,t)  )\n",
    "    Es.append( E(t) )\n",
    "    #Plot\n",
    "    if ls:\n",
    "        plt.plot(t,x(t),ls[i],label='S={:.1f} J$\\cdot$s'.format( S  )   )\n",
    "\n",
    "if ls:\n",
    "    plt.legend(loc='best',fontsize=12)    \n",
    "    plt.xlabel('$t$ [s]',size=20)\n",
    "    plt.ylabel('$x$ [m]',size=20)\n",
    "    \n"
   ]
  },
  {
   "cell_type": "markdown",
   "metadata": {},
   "source": [
    "#### Solution\n",
    "See `solution_least_action.ipynb`"
   ]
  },
  {
   "cell_type": "markdown",
   "metadata": {},
   "source": [
    "### Solution with minimization\n",
    "To be seen in Minimization"
   ]
  },
  {
   "cell_type": "markdown",
   "metadata": {},
   "source": [
    "## References"
   ]
  },
  {
   "cell_type": "markdown",
   "metadata": {},
   "source": [
    "[1] L. Euler, M´emoires de l'Acad´emie des Sciences de Berlin 4, 1898 (1748), republished in Ref.2, p. 38-63; L. Euler, M´emoires de l'Acad´emie des Sciences de Berlin 7, 169 (1751), republished in Ref. 2, p. 152. For a recent historical review see: Dias, Penha Maria Cardozo. (2017). Leonhard Euler's “principle of mechanics” (an essay on the foundations of the equations of motion). Revista Brasileira de Ensino de Física, 39(4), e4601. Epub May 22, 2017.https://doi.org/10.1590/1806-9126-rbef-2017-0057\n",
    "\n",
    "[2] Leonhardi Euleri Opera Omnia, serie secunda, v. V, edited by J.O. Fleckenstein (Societatis Scientiarum Naturalium Helveticæ, Geneva,1957)\n"
   ]
  },
  {
   "cell_type": "code",
   "execution_count": null,
   "metadata": {},
   "outputs": [],
   "source": []
  }
 ],
 "metadata": {
  "kernelspec": {
   "display_name": "Python 3",
   "language": "python",
   "name": "python3"
  },
  "language_info": {
   "codemirror_mode": {
    "name": "ipython",
    "version": 3
   },
   "file_extension": ".py",
   "mimetype": "text/x-python",
   "name": "python",
   "nbconvert_exporter": "python",
   "pygments_lexer": "ipython3",
   "version": "3.5.3"
  },
  "toc": {
   "colors": {
    "hover_highlight": "#DAA520",
    "running_highlight": "#FF0000",
    "selected_highlight": "#FFD700"
   },
   "moveMenuLeft": true,
   "nav_menu": {
    "height": "322px",
    "width": "252px"
   },
   "navigate_menu": true,
   "number_sections": true,
   "sideBar": true,
   "threshold": 4,
   "toc_cell": false,
   "toc_section_display": "block",
   "toc_window_display": false
  }
 },
 "nbformat": 4,
 "nbformat_minor": 4
}
