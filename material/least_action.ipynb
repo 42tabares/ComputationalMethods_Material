{
  "nbformat": 4,
  "nbformat_minor": 0,
  "metadata": {
    "kernelspec": {
      "display_name": "Python 3",
      "language": "python",
      "name": "python3"
    },
    "language_info": {
      "codemirror_mode": {
        "name": "ipython",
        "version": 3
      },
      "file_extension": ".py",
      "mimetype": "text/x-python",
      "name": "python",
      "nbconvert_exporter": "python",
      "pygments_lexer": "ipython3",
      "version": "3.5.3"
    },
    "toc": {
      "colors": {
        "hover_highlight": "#DAA520",
        "running_highlight": "#FF0000",
        "selected_highlight": "#FFD700"
      },
      "moveMenuLeft": true,
      "nav_menu": {
        "height": "322px",
        "width": "252px"
      },
      "navigate_menu": true,
      "number_sections": true,
      "sideBar": true,
      "threshold": 4,
      "toc_cell": false,
      "toc_section_display": "block",
      "toc_window_display": false
    },
    "colab": {
      "name": "least_action.ipynb",
      "provenance": [],
      "include_colab_link": true
    }
  },
  "cells": [
    {
      "cell_type": "markdown",
      "metadata": {
        "id": "view-in-github",
        "colab_type": "text"
      },
      "source": [
        "<a href=\"https://colab.research.google.com/github/restrepo/ComputationalMethods/blob/master/material/least_action.ipynb\" target=\"_parent\"><img src=\"https://colab.research.google.com/assets/colab-badge.svg\" alt=\"Open In Colab\"/></a>"
      ]
    },
    {
      "cell_type": "markdown",
      "metadata": {
        "id": "muoCLftUoyCU",
        "colab_type": "text"
      },
      "source": [
        "# Least Action"
      ]
    },
    {
      "cell_type": "markdown",
      "metadata": {
        "id": "WZssYj5ZoyCV",
        "colab_type": "text"
      },
      "source": [
        "Load modules"
      ]
    },
    {
      "cell_type": "code",
      "metadata": {
        "id": "225NtztSoyCW",
        "colab_type": "code",
        "colab": {
          "base_uri": "https://localhost:8080/",
          "height": 34
        },
        "outputId": "57575f01-6e9f-4395-8912-2ca6d7f0fd04"
      },
      "source": [
        "%pylab inline"
      ],
      "execution_count": 1,
      "outputs": [
        {
          "output_type": "stream",
          "text": [
            "Populating the interactive namespace from numpy and matplotlib\n"
          ],
          "name": "stdout"
        }
      ]
    },
    {
      "cell_type": "code",
      "metadata": {
        "id": "7-vTWMqloyCa",
        "colab_type": "code",
        "colab": {}
      },
      "source": [
        "import numpy as np\n",
        "import scipy.optimize\n",
        "import pandas as pd\n",
        "global g  \n",
        "g=9.8"
      ],
      "execution_count": 0,
      "outputs": []
    },
    {
      "cell_type": "markdown",
      "metadata": {
        "id": "ibpoCKTuoyCe",
        "colab_type": "text"
      },
      "source": [
        "<div style=\"float: right;\" markdown=\"1\">\n",
        "    <img src=\"https://raw.githubusercontent.com/restrepo/ComputationalMethods/master/material/figures/leastaction1.svg?sanitize=true\">\n",
        "</div>\n",
        "\n",
        "## Geometry interpretation\n",
        "Following the geometry theory developed [here](http://www.eftaylor.com/software/ActionApplets/LeastAction.html), we will try to define something called the _Action_ for one small segment of the free fall movement in one-dimension. \n",
        "\n",
        "For that we need the experimental data consisting on the height of an object of mass $m$ in free fall, and the height $x_i$, for each time $t_i$. This data would be fitted by a polynomial of degree two, as displayed in the figure for one of the fitted segments of the plot of $x$ as a function of $t$. We take the origin of the coordinates at ground level. For each segment we can calculate an average kinetic energy, $T$, and an averge potential energy, $V$, in the limit of $\\Delta t=t_2-t_1$ small. From the figure\n",
        "\n",
        "\\begin{align}\n",
        "T=\\frac12 m v^2\\approx &\\frac12 m\\left(\\frac{x_2-x_1}{t_2-t_1}\\right)^2\\,,&\n",
        "V=mgh\\approx& m g \\frac{x_2+x_1}{2}\\,.\n",
        "\\end{align}\n",
        "\n",
        "We can then reformulate the problem of the free fall in the following terms. From all the possible curves that can interpolate the points $(t_1,x_1)$ and $(t_2,x_2)$, which is the correct one?. \n",
        "\n",
        "The answer obtained by Leonhard Euler [1] can be obtained from the definition of the function \"Lagrangian\"\n",
        "$$L(t)=T(t)-V(t)\\,.$$"
      ]
    },
    {
      "cell_type": "markdown",
      "metadata": {
        "id": "9Z-Lc-jjoyCe",
        "colab_type": "text"
      },
      "source": [
        "<div style=\"float: right;\" markdown=\"1\">\n",
        "    <img src=\"https://raw.githubusercontent.com/restrepo/ComputationalMethods/master/material/figures/leastaction2.svg?sanitize=true\">\n",
        "</div>\n",
        "\n",
        "With this, we can build the \"Action\", by integrating the Lagrangian function between the points $(t_1,x_1)$ and $(t_2,x_2)$ as\n",
        "$$S=\\int_{t_1}^{t_2} L\\, \\operatorname{d}t\\,. $$\n",
        "\n",
        "which give us a numerical result with units of energy multiplied by time (J$\\cdot$s). What is worth noticing is that if we relax the definition of $V$ and allows for any $h$, but keeping the initial and final points fixed, we can calculate many Action values. This is illustrated in the figure for blue dotted ($S_1$), solid ($S_{\\text{min}}$) and dashed ($S_2$)lines. But only the height, $(x_1+x_2)/2$ , associated with the real physical path, has a minimum value for the Action, $S_{\\text{min}}$!\n",
        "\n",
        "In fact, for one segment of the action between $(t_1,x_1)$, and $(t_2,x_2)$, with $\\Delta t$ sufficiently small such that $L$ can be considered constant, we have\n",
        "\\begin{eqnarray}\n",
        "S_{\\text{min}}&=&\\int_{t_1}^{t_2} L dt \\\\\n",
        "&\\approx& \\left[\\frac12 m v^2-m g h \\right]\\Delta t\\\\\n",
        "&\\approx& \\left[\\frac12 m\\left(\\frac{x_2-x_1}{t_2-t_1}\\right)^2-m g \\frac{x_2+x_1}{2} \\right](t_2-t_1)\n",
        "\\end{eqnarray}\n",
        "that corresponds to Eq. (11) of Am. J. Phys, Vol. 72(2004)478: http://www.eftaylor.com/pub/Symmetries&ConsLaws.pdf"
      ]
    },
    {
      "cell_type": "markdown",
      "metadata": {
        "id": "g6zcN-P7oyCf",
        "colab_type": "text"
      },
      "source": [
        "<div style=\"float: right;\" markdown=\"1\">\n",
        "    <img src=\"https://raw.githubusercontent.com/restrepo/ComputationalMethods/master/material/figures/leastaction3.svg?sanitize=true\">\n",
        "</div>\n",
        "\n",
        "__Least Action method__: The least action method consist in the following steps illustrated in the figure\n",
        "1. Fix the initial and final point of the movement. Example the initial time and the height from which a body is launched upwards, $(t_{\\text{ini}},x_{\\text{ini}})$, and the final time and height $(t_{\\text{end}},x_{\\text{end}})$.\n",
        "1. Divide the problem in small segments of $\\Delta t=t_{i+1}-t_i$.\n",
        "1. Build many paths with the initial and final point fixed and calculates the Action in each segment, $S_i$, for all the paths\n",
        "1. Choose the minimal Action for each segment, $S_{\\text{min}}^i$, and rebuild the full path which minimizes the Action in each segment. This is the physical trajectory!\n",
        "\n"
      ]
    },
    {
      "cell_type": "markdown",
      "metadata": {
        "id": "7AVW926voyCf",
        "colab_type": "text"
      },
      "source": [
        "## Code implementation"
      ]
    },
    {
      "cell_type": "markdown",
      "metadata": {
        "id": "6h_A3a8GoyCg",
        "colab_type": "text"
      },
      "source": [
        "### The Action\n",
        "We define the Action $S$ such of an object of mass $m$ throw vertically upwards from $x_{\\hbox{ini}}$, such that $t_{\\hbox{end}}$ seconds later the object return to a height $x_{\\hbox{end}}$, as\n",
        "\\begin{align}\n",
        "S=&\\int_{t_{\\hbox{ini}}}^{t_{\\hbox{end}}} L\\, {\\rm d}t \\\\\n",
        "=& \\sum_i S_i\\\\\n",
        "=&\\sum_i L_i \\Delta t\\,.\n",
        "\\end{align}"
      ]
    },
    {
      "cell_type": "code",
      "metadata": {
        "id": "opN5ASb5oyCh",
        "colab_type": "code",
        "colab": {}
      },
      "source": [
        "def S(x,tend=3.,m=0.2,xini=0.,xend=0.):\n",
        "    \"\"\"\n",
        "    Calculate the Action of an object of of mass 'm' throw vertically upward from \n",
        "       'xini', such that 'tend' seconds later the object return to a height 'xend'.\n",
        "       Delta t must be constant.\n",
        "       \n",
        "    The defaults units for S are J.s   \n",
        "    \"\"\"\n",
        "    x=np.asarray(x)\n",
        "    Dt=tend/x[:-1].size\n",
        "    #Fix initial and final point\n",
        "    x[0]=xini\n",
        "    x[-1]=xend\n",
        "    return ( (0.5*m*(x[1:]-x[:-1])**2/Dt**2-0.5*m*g*(x[1:]+x[:-1]) )*Dt).sum()"
      ],
      "execution_count": 0,
      "outputs": []
    },
    {
      "cell_type": "markdown",
      "metadata": {
        "id": "CyD1kFUdvNcv",
        "colab_type": "text"
      },
      "source": [
        "\\begin{eqnarray}\n",
        "&\\approx& \\left[\\frac12 m\\left(\\frac{x_2-x_1}{t_2-t_1}\\right)^2-m g \\frac{x_2+x_1}{2} \\right](t_2-t_1)\n",
        "\\end{eqnarray}"
      ]
    },
    {
      "cell_type": "markdown",
      "metadata": {
        "heading_collapsed": true,
        "id": "QOiK7jDWoyCj",
        "colab_type": "text"
      },
      "source": [
        "#### Example\n",
        "Consider an object of mass $m=0.2~$Kg throw vertically upwards from an intial height of zero, and a flight time of $3~$s"
      ]
    },
    {
      "cell_type": "markdown",
      "metadata": {
        "hidden": true,
        "id": "w8cUSD5RoyCk",
        "colab_type": "text"
      },
      "source": [
        "1) Calculates the action for an intermediate set of points with $\\Delta t=0.5$ s and _an arbitrary path_.\n",
        "\n",
        "__Activity__: Change the path to any other value and report with the same initial and final values of zero and report the Action calculations by the chat"
      ]
    },
    {
      "cell_type": "code",
      "metadata": {
        "id": "VaJ-4_1ZoyCk",
        "colab_type": "code",
        "colab": {}
      },
      "source": [
        "tini=0\n",
        "tend=3\n",
        "xini=0\n",
        "xend=0"
      ],
      "execution_count": 0,
      "outputs": []
    },
    {
      "cell_type": "code",
      "metadata": {
        "id": "oShZC_qPoyCn",
        "colab_type": "code",
        "colab": {}
      },
      "source": [
        "x=np.array([xini,10,15.,22.,18.,5.,xend])#.size"
      ],
      "execution_count": 0,
      "outputs": []
    },
    {
      "cell_type": "code",
      "metadata": {
        "id": "fr67OyhMoyCq",
        "colab_type": "code",
        "colab": {
          "base_uri": "https://localhost:8080/",
          "height": 34
        },
        "outputId": "5a1fff6c-1059-4342-f1cd-5a2a2f9b026d"
      },
      "source": [
        "#Initial points: x_i\n",
        "x[:-1]"
      ],
      "execution_count": 8,
      "outputs": [
        {
          "output_type": "execute_result",
          "data": {
            "text/plain": [
              "array([ 0., 10., 15., 22., 18.,  5.])"
            ]
          },
          "metadata": {
            "tags": []
          },
          "execution_count": 8
        }
      ]
    },
    {
      "cell_type": "code",
      "metadata": {
        "id": "5jGF5Tv4oyCt",
        "colab_type": "code",
        "colab": {},
        "outputId": "166f7396-be35-4b08-d061-8ac9a42ab883"
      },
      "source": [
        "#final points: x_{i+1}\n",
        "x[1:]"
      ],
      "execution_count": 0,
      "outputs": [
        {
          "output_type": "execute_result",
          "data": {
            "text/plain": [
              "array([10., 15., 22., 18.,  5.,  0.])"
            ]
          },
          "metadata": {
            "tags": []
          },
          "execution_count": 57
        }
      ]
    },
    {
      "cell_type": "code",
      "metadata": {
        "id": "5TBCdLuYuv9D",
        "colab_type": "code",
        "colab": {
          "base_uri": "https://localhost:8080/",
          "height": 34
        },
        "outputId": "2a6d021b-5873-4aaa-fde1-29787467a85e"
      },
      "source": [
        "x[:-1].size"
      ],
      "execution_count": 20,
      "outputs": [
        {
          "output_type": "execute_result",
          "data": {
            "text/plain": [
              "6"
            ]
          },
          "metadata": {
            "tags": []
          },
          "execution_count": 20
        }
      ]
    },
    {
      "cell_type": "code",
      "metadata": {
        "id": "SfdF1VUnoyCw",
        "colab_type": "code",
        "colab": {
          "base_uri": "https://localhost:8080/",
          "height": 34
        },
        "outputId": "26f83335-da69-45ca-bf6d-a3037aba04f9"
      },
      "source": [
        "Δt=tend/x[:-1].size\n",
        "Δt"
      ],
      "execution_count": 21,
      "outputs": [
        {
          "output_type": "execute_result",
          "data": {
            "text/plain": [
              "0.5"
            ]
          },
          "metadata": {
            "tags": []
          },
          "execution_count": 21
        }
      ]
    },
    {
      "cell_type": "code",
      "metadata": {
        "id": "VcsMqFwfoyCz",
        "colab_type": "code",
        "colab": {}
      },
      "source": [
        "t=[i*Δt for i in range(x.size) ]"
      ],
      "execution_count": 0,
      "outputs": []
    },
    {
      "cell_type": "code",
      "metadata": {
        "id": "niyMnCAVoyC3",
        "colab_type": "code",
        "colab": {
          "base_uri": "https://localhost:8080/",
          "height": 34
        },
        "outputId": "e6b64f51-ed8b-431a-f4ee-d5f16ca0576e"
      },
      "source": [
        "t"
      ],
      "execution_count": 23,
      "outputs": [
        {
          "output_type": "execute_result",
          "data": {
            "text/plain": [
              "[0.0, 0.5, 1.0, 1.5, 2.0, 2.5, 3.0]"
            ]
          },
          "metadata": {
            "tags": []
          },
          "execution_count": 23
        }
      ]
    },
    {
      "cell_type": "code",
      "metadata": {
        "hidden": true,
        "id": "WkzW-t9WoyC6",
        "colab_type": "code",
        "colab": {}
      },
      "source": [
        "df=pd.DataFrame({'t':t,'x':x})"
      ],
      "execution_count": 0,
      "outputs": []
    },
    {
      "cell_type": "code",
      "metadata": {
        "hidden": true,
        "id": "pu1rwHSjoyC8",
        "colab_type": "code",
        "colab": {
          "base_uri": "https://localhost:8080/",
          "height": 264
        },
        "outputId": "75ccff2a-d425-447d-d36d-2a2ead34054c"
      },
      "source": [
        "df"
      ],
      "execution_count": 25,
      "outputs": [
        {
          "output_type": "execute_result",
          "data": {
            "text/html": [
              "<div>\n",
              "<style scoped>\n",
              "    .dataframe tbody tr th:only-of-type {\n",
              "        vertical-align: middle;\n",
              "    }\n",
              "\n",
              "    .dataframe tbody tr th {\n",
              "        vertical-align: top;\n",
              "    }\n",
              "\n",
              "    .dataframe thead th {\n",
              "        text-align: right;\n",
              "    }\n",
              "</style>\n",
              "<table border=\"1\" class=\"dataframe\">\n",
              "  <thead>\n",
              "    <tr style=\"text-align: right;\">\n",
              "      <th></th>\n",
              "      <th>t</th>\n",
              "      <th>x</th>\n",
              "    </tr>\n",
              "  </thead>\n",
              "  <tbody>\n",
              "    <tr>\n",
              "      <th>0</th>\n",
              "      <td>0.0</td>\n",
              "      <td>0.0</td>\n",
              "    </tr>\n",
              "    <tr>\n",
              "      <th>1</th>\n",
              "      <td>0.5</td>\n",
              "      <td>10.0</td>\n",
              "    </tr>\n",
              "    <tr>\n",
              "      <th>2</th>\n",
              "      <td>1.0</td>\n",
              "      <td>15.0</td>\n",
              "    </tr>\n",
              "    <tr>\n",
              "      <th>3</th>\n",
              "      <td>1.5</td>\n",
              "      <td>22.0</td>\n",
              "    </tr>\n",
              "    <tr>\n",
              "      <th>4</th>\n",
              "      <td>2.0</td>\n",
              "      <td>18.0</td>\n",
              "    </tr>\n",
              "    <tr>\n",
              "      <th>5</th>\n",
              "      <td>2.5</td>\n",
              "      <td>5.0</td>\n",
              "    </tr>\n",
              "    <tr>\n",
              "      <th>6</th>\n",
              "      <td>3.0</td>\n",
              "      <td>0.0</td>\n",
              "    </tr>\n",
              "  </tbody>\n",
              "</table>\n",
              "</div>"
            ],
            "text/plain": [
              "     t     x\n",
              "0  0.0   0.0\n",
              "1  0.5  10.0\n",
              "2  1.0  15.0\n",
              "3  1.5  22.0\n",
              "4  2.0  18.0\n",
              "5  2.5   5.0\n",
              "6  3.0   0.0"
            ]
          },
          "metadata": {
            "tags": []
          },
          "execution_count": 25
        }
      ]
    },
    {
      "cell_type": "code",
      "metadata": {
        "hidden": true,
        "id": "x8-lKZpNoyC_",
        "colab_type": "code",
        "colab": {
          "base_uri": "https://localhost:8080/",
          "height": 282
        },
        "outputId": "9a4a4c67-5675-4908-90b4-df6b99529d01"
      },
      "source": [
        "plt.plot(df.t,df.x,'ro')\n",
        "plt.plot(df.t,df.x)"
      ],
      "execution_count": 28,
      "outputs": [
        {
          "output_type": "execute_result",
          "data": {
            "text/plain": [
              "[<matplotlib.lines.Line2D at 0x7f3716d2c5f8>]"
            ]
          },
          "metadata": {
            "tags": []
          },
          "execution_count": 28
        },
        {
          "output_type": "display_data",
          "data": {
            "image/png": "[encoded data removed]",
            "text/plain": [
              "<Figure size 432x288 with 1 Axes>"
            ]
          },
          "metadata": {
            "tags": []
          }
        }
      ]
    },
    {
      "cell_type": "code",
      "metadata": {
        "hidden": true,
        "id": "eUPbM1P6oyDB",
        "colab_type": "code",
        "colab": {
          "base_uri": "https://localhost:8080/",
          "height": 34
        },
        "outputId": "e93b27ff-b071-4521-de0e-26b4b0c101e9"
      },
      "source": [
        "S(df.x) # J.s"
      ],
      "execution_count": 29,
      "outputs": [
        {
          "output_type": "execute_result",
          "data": {
            "text/plain": [
              "8.199999999999996"
            ]
          },
          "metadata": {
            "tags": []
          },
          "execution_count": 29
        }
      ]
    },
    {
      "cell_type": "markdown",
      "metadata": {
        "heading_collapsed": true,
        "id": "IOmOGo2voyDD",
        "colab_type": "text"
      },
      "source": [
        "2) Fit the points with a polynomial of degree 2 and calculates the Action for 20 points along the fitted curve but keeping the same initial and final points!"
      ]
    },
    {
      "cell_type": "code",
      "metadata": {
        "hidden": true,
        "id": "IHc1jTOToyDE",
        "colab_type": "code",
        "colab": {
          "base_uri": "https://localhost:8080/",
          "height": 51
        },
        "outputId": "8a173510-accc-4537-88e9-afeaabf916af"
      },
      "source": [
        "coeffs=np.polyfit(df.t,df.x,2)\n",
        "P=np.poly1d(coeffs)\n",
        "print(P)"
      ],
      "execution_count": 31,
      "outputs": [
        {
          "output_type": "stream",
          "text": [
            "        2\n",
            "-8.905 x + 26.21 x - 0.381\n"
          ],
          "name": "stdout"
        }
      ]
    },
    {
      "cell_type": "code",
      "metadata": {
        "id": "JrC5vhd0oyDH",
        "colab_type": "code",
        "colab": {}
      },
      "source": [
        "t=np.linspace(0,3,20)"
      ],
      "execution_count": 0,
      "outputs": []
    },
    {
      "cell_type": "code",
      "metadata": {
        "hidden": true,
        "id": "iKonoEp5oyDK",
        "colab_type": "code",
        "colab": {
          "base_uri": "https://localhost:8080/",
          "height": 85
        },
        "outputId": "23c5a7d0-6a75-48d8-cabb-052b35633b7e"
      },
      "source": [
        "x=P(t)\n",
        "x[0]=xini\n",
        "x[-1]=xend\n",
        "x"
      ],
      "execution_count": 34,
      "outputs": [
        {
          "output_type": "execute_result",
          "data": {
            "text/plain": [
              "array([ 0.        ,  3.53614299,  7.00923361, 10.03831948, 12.62340061,\n",
              "       14.76447698, 16.46154861, 17.71461549, 18.52367762, 18.888735  ,\n",
              "       18.80978763, 18.28683551, 17.31987864, 15.90891703, 14.05395067,\n",
              "       11.75497955,  9.01200369,  5.82502308,  2.19403773,  0.        ])"
            ]
          },
          "metadata": {
            "tags": []
          },
          "execution_count": 34
        }
      ]
    },
    {
      "cell_type": "code",
      "metadata": {
        "hidden": true,
        "id": "of2pMDoxoyDN",
        "colab_type": "code",
        "colab": {
          "base_uri": "https://localhost:8080/",
          "height": 282
        },
        "outputId": "49043801-7c3d-4be7-d5c9-16b6ec64aabd"
      },
      "source": [
        "plt.plot(t,x,'ko')\n",
        "plt.plot(t,x)"
      ],
      "execution_count": 35,
      "outputs": [
        {
          "output_type": "execute_result",
          "data": {
            "text/plain": [
              "[<matplotlib.lines.Line2D at 0x7f3716d1abe0>]"
            ]
          },
          "metadata": {
            "tags": []
          },
          "execution_count": 35
        },
        {
          "output_type": "display_data",
          "data": {
            "image/png": "[encoded data removed]",
            "text/plain": [
              "<Figure size 432x288 with 1 Axes>"
            ]
          },
          "metadata": {
            "tags": []
          }
        }
      ]
    },
    {
      "cell_type": "code",
      "metadata": {
        "hidden": true,
        "id": "L_nY2eKsoyDQ",
        "colab_type": "code",
        "colab": {
          "base_uri": "https://localhost:8080/",
          "height": 34
        },
        "outputId": "b3614e5c-84e3-49c0-aa47-7f2995c5b74e"
      },
      "source": [
        "S(P(df.t))"
      ],
      "execution_count": 36,
      "outputs": [
        {
          "output_type": "execute_result",
          "data": {
            "text/plain": [
              "-10.84297052154199"
            ]
          },
          "metadata": {
            "tags": []
          },
          "execution_count": 36
        }
      ]
    },
    {
      "cell_type": "markdown",
      "metadata": {
        "id": "5CvKm-tQoyDS",
        "colab_type": "text"
      },
      "source": [
        "#### Exercise\n",
        "Try to find a large action (larger than 10 J$\\cdot$s) and the minimal possible action"
      ]
    },
    {
      "cell_type": "markdown",
      "metadata": {
        "colab_type": "text",
        "id": "aL6DEhPxNbzy"
      },
      "source": [
        "### Solution to a free fall problem\n",
        "\\begin{align}\n",
        " x(t)=&-\\frac{1}{2} g t^2+v_0 t \\,, & v=&-g t +v_0\n",
        "\\end{align}\n",
        "At maximum height $t=t_{\\text{end}}/2$ and\n",
        "\\begin{align}\n",
        " x_{\\text{max}}=&-\\frac{1}{2} g (t_{\\text{end}}/2)^2+v_0 \\frac{t_{\\text{end}}}{2} \\,, & 0=&-g \\frac{t_{\\text{end}}}{2} +v_0\n",
        "\\end{align}\n",
        "From the second equation $v_0=g t_{\\text{end}}/2=14.7$ m/s, and\n",
        "\\begin{align}\n",
        " x_{\\text{max}}=&-\\frac{1}{2} g (t_{\\text{end}}/2)^2+ g \\frac{t_{\\text{end}}}{2} \\frac{t_{\\text{end}}}{2} \\nonumber\\\\\n",
        " =&g\\frac{ t_{\\text{end}}^2  }{8}=11.025\\ \\text{m}\\,.\n",
        "\\end{align}"
      ]
    },
    {
      "cell_type": "markdown",
      "metadata": {
        "colab_type": "text",
        "id": "aOq2sXh8Nbzz"
      },
      "source": [
        "__Activity__: Find the same solution by fitting the polynomial of degree 2 that go trough the points: \n",
        "* $(t_0,x_0)=(0,0)$,  \n",
        "* $(t_{\\rm end}/2,x_{\\rm max})=(1.5,11.025)$, \n",
        "* $(t_{\\rm end},x_{\\rm end})=(0,3)$, in s and m respectively."
      ]
    },
    {
      "cell_type": "code",
      "metadata": {
        "colab_type": "code",
        "id": "Hu_fMjGLNbz0",
        "outputId": "2818e3b9-1369-4d30-d0ce-8645991442dc",
        "colab": {
          "base_uri": "https://localhost:8080/",
          "height": 141
        }
      },
      "source": [
        "df=pd.DataFrame( {'t':[0,1.5,3],\n",
        "                  'x':[0,11.025,0]\n",
        "     })\n",
        "df"
      ],
      "execution_count": 37,
      "outputs": [
        {
          "output_type": "execute_result",
          "data": {
            "text/html": [
              "<div>\n",
              "<style scoped>\n",
              "    .dataframe tbody tr th:only-of-type {\n",
              "        vertical-align: middle;\n",
              "    }\n",
              "\n",
              "    .dataframe tbody tr th {\n",
              "        vertical-align: top;\n",
              "    }\n",
              "\n",
              "    .dataframe thead th {\n",
              "        text-align: right;\n",
              "    }\n",
              "</style>\n",
              "<table border=\"1\" class=\"dataframe\">\n",
              "  <thead>\n",
              "    <tr style=\"text-align: right;\">\n",
              "      <th></th>\n",
              "      <th>t</th>\n",
              "      <th>x</th>\n",
              "    </tr>\n",
              "  </thead>\n",
              "  <tbody>\n",
              "    <tr>\n",
              "      <th>0</th>\n",
              "      <td>0.0</td>\n",
              "      <td>0.000</td>\n",
              "    </tr>\n",
              "    <tr>\n",
              "      <th>1</th>\n",
              "      <td>1.5</td>\n",
              "      <td>11.025</td>\n",
              "    </tr>\n",
              "    <tr>\n",
              "      <th>2</th>\n",
              "      <td>3.0</td>\n",
              "      <td>0.000</td>\n",
              "    </tr>\n",
              "  </tbody>\n",
              "</table>\n",
              "</div>"
            ],
            "text/plain": [
              "     t       x\n",
              "0  0.0   0.000\n",
              "1  1.5  11.025\n",
              "2  3.0   0.000"
            ]
          },
          "metadata": {
            "tags": []
          },
          "execution_count": 37
        }
      ]
    },
    {
      "cell_type": "code",
      "metadata": {
        "colab_type": "code",
        "id": "rRT33pzWNbz4",
        "outputId": "b2a8191e-0e0a-499d-8ccb-405323933054",
        "colab": {
          "base_uri": "https://localhost:8080/",
          "height": 51
        }
      },
      "source": [
        "#df.loc[1,'x']=11.025 \n",
        "coeff=np.polyfit(df.t,df.x,deg=2)\n",
        "x=np.poly1d(coeff,variable='t')\n",
        "print(x)"
      ],
      "execution_count": 43,
      "outputs": [
        {
          "output_type": "stream",
          "text": [
            "      2\n",
            "-4.9 t + 14.7 t + 8.205e-15\n"
          ],
          "name": "stdout"
        }
      ]
    },
    {
      "cell_type": "code",
      "metadata": {
        "colab_type": "code",
        "id": "fLB_MlY2Nbz7",
        "outputId": "c2799bcf-5b10-4093-b0b7-1f1921c6753d",
        "colab": {
          "base_uri": "https://localhost:8080/",
          "height": 265
        }
      },
      "source": [
        "t=np.linspace(df.t.min(),df.t.max())\n",
        "plt.plot(df.t,df.x,'ro')\n",
        "plt.plot(t,x(t))\n",
        "plt.grid()"
      ],
      "execution_count": 44,
      "outputs": [
        {
          "output_type": "display_data",
          "data": {
            "image/png": "[encoded data removed]",
            "text/plain": [
              "<Figure size 432x288 with 1 Axes>"
            ]
          },
          "metadata": {
            "tags": []
          }
        }
      ]
    },
    {
      "cell_type": "code",
      "metadata": {
        "id": "cIsuDM0tyhca",
        "colab_type": "code",
        "colab": {
          "base_uri": "https://localhost:8080/",
          "height": 188
        },
        "outputId": "881b7920-294c-4029-cb21-ae34eb88de90"
      },
      "source": [
        "t"
      ],
      "execution_count": 45,
      "outputs": [
        {
          "output_type": "execute_result",
          "data": {
            "text/plain": [
              "array([0.        , 0.06122449, 0.12244898, 0.18367347, 0.24489796,\n",
              "       0.30612245, 0.36734694, 0.42857143, 0.48979592, 0.55102041,\n",
              "       0.6122449 , 0.67346939, 0.73469388, 0.79591837, 0.85714286,\n",
              "       0.91836735, 0.97959184, 1.04081633, 1.10204082, 1.16326531,\n",
              "       1.2244898 , 1.28571429, 1.34693878, 1.40816327, 1.46938776,\n",
              "       1.53061224, 1.59183673, 1.65306122, 1.71428571, 1.7755102 ,\n",
              "       1.83673469, 1.89795918, 1.95918367, 2.02040816, 2.08163265,\n",
              "       2.14285714, 2.20408163, 2.26530612, 2.32653061, 2.3877551 ,\n",
              "       2.44897959, 2.51020408, 2.57142857, 2.63265306, 2.69387755,\n",
              "       2.75510204, 2.81632653, 2.87755102, 2.93877551, 3.        ])"
            ]
          },
          "metadata": {
            "tags": []
          },
          "execution_count": 45
        }
      ]
    },
    {
      "cell_type": "code",
      "metadata": {
        "id": "oBpb909ly0aY",
        "colab_type": "code",
        "colab": {
          "base_uri": "https://localhost:8080/",
          "height": 239
        },
        "outputId": "b5d40fdc-5dfb-4f55-c37e-cc73fb28da9a"
      },
      "source": [
        "x(t)"
      ],
      "execution_count": 46,
      "outputs": [
        {
          "output_type": "execute_result",
          "data": {
            "text/plain": [
              "array([8.20464080e-15, 8.81632653e-01, 1.72653061e+00, 2.53469388e+00,\n",
              "       3.30612245e+00, 4.04081633e+00, 4.73877551e+00, 5.40000000e+00,\n",
              "       6.02448980e+00, 6.61224490e+00, 7.16326531e+00, 7.67755102e+00,\n",
              "       8.15510204e+00, 8.59591837e+00, 9.00000000e+00, 9.36734694e+00,\n",
              "       9.69795918e+00, 9.99183673e+00, 1.02489796e+01, 1.04693878e+01,\n",
              "       1.06530612e+01, 1.08000000e+01, 1.09102041e+01, 1.09836735e+01,\n",
              "       1.10204082e+01, 1.10204082e+01, 1.09836735e+01, 1.09102041e+01,\n",
              "       1.08000000e+01, 1.06530612e+01, 1.04693878e+01, 1.02489796e+01,\n",
              "       9.99183673e+00, 9.69795918e+00, 9.36734694e+00, 9.00000000e+00,\n",
              "       8.59591837e+00, 8.15510204e+00, 7.67755102e+00, 7.16326531e+00,\n",
              "       6.61224490e+00, 6.02448980e+00, 5.40000000e+00, 4.73877551e+00,\n",
              "       4.04081633e+00, 3.30612245e+00, 2.53469388e+00, 1.72653061e+00,\n",
              "       8.81632653e-01, 1.88627818e-14])"
            ]
          },
          "metadata": {
            "tags": []
          },
          "execution_count": 46
        }
      ]
    },
    {
      "cell_type": "code",
      "metadata": {
        "id": "x-n3mR5Sy3lL",
        "colab_type": "code",
        "colab": {
          "base_uri": "https://localhost:8080/",
          "height": 34
        },
        "outputId": "220e25b9-a910-417a-f068-684003222e9b"
      },
      "source": [
        "S(x)"
      ],
      "execution_count": 47,
      "outputs": [
        {
          "output_type": "execute_result",
          "data": {
            "text/plain": [
              "-14.405999999999988"
            ]
          },
          "metadata": {
            "tags": []
          },
          "execution_count": 47
        }
      ]
    },
    {
      "cell_type": "markdown",
      "metadata": {
        "colab_type": "text",
        "id": "R3HyGGCUNb0A"
      },
      "source": [
        "<div style=\"float: right;\" markdown=\"1\">\n",
        "    <img src=\"https://github.com/restrepo/ComputationalMethods/blob/master/material/figures/leastaction.png?raw=1\">\n",
        "</div>\n",
        "\n",
        "### Geometry interpretation\n",
        "Following the geometry theory developed [here](http://www.eftaylor.com/software/ActionApplets/LeastAction.html), we will try to define something called the _Action_ for one small segment of the free fall movement in one-dimension. \n",
        "\n",
        "For that we need the experimental data consisting on the height of an object of mass $m$ in free fall, and the height $x_i$, for each time $t_i$. This data would be fitted by a polynomial of degree two, as displayed in the figure for one of the fitted segments of the plot of $x$ as a function of $t$. We take the origin of the coordinates at ground level. For each segment we can calculate an average kinetic energy, $T$, and an averge potential energy, $V$, in the limit of $\\Delta t=t_2-t_1$ small. From the figure\n",
        "\n",
        "\\begin{align}\n",
        "T_{12}=\\frac12 m v^2\\approx &\\frac12 m\\left(\\frac{x_2-x_1}{t_2-t_1}\\right)^2\\,,&\n",
        "V_{12}=mgh\\approx& m g \\frac{x_2+x_1}{2}\\,.\n",
        "\\end{align}\n",
        "\n",
        "We can then reformulate the problem of the free fall in the following terms. From all the possible curves that can interpolate the points $(t_1,x_1)$ and $(t_2,x_2)$, which is the correct one?. \n",
        "\n",
        "The answer, found by Euler can be obtained from the definition of the function \"Lagrangian\"\n",
        "$$L(t)=T(t)-V(t)$$\n",
        "\n",
        "We define the \"Action\" of one interpolating function between the points $(t_1,x_1)$ and $(t_2,x_2)$ as\n",
        "$$S=\\int_{t_1}^{t_2} L\\, {\\rm d}t $$\n",
        "\n",
        "The result is that the correct interpolation, called the _physical trajectory_, is the one which has a _minumum_ value for the Action!\n",
        "\n",
        "For one segment of the action between $(t_1,x_1)$, and $(t_2,x_2)$, with $\\Delta t$ sufficiently small such that $L$ can be considered constant, we have\n",
        "\\begin{eqnarray}\n",
        "S_1&=&\\int_{t_1}^{t_2} L dt \\\\\n",
        "&\\approx& \\left[\\frac12 m v^2-m g h \\right]\\Delta t\\\\\n",
        "&\\approx& \\left[\\frac12 m\\left(\\frac{x_2-x_1}{t_2-t_1}\\right)^2-m g \\frac{x_2+x_1}{2} \\right](t_2-t_1)\n",
        "\\end{eqnarray}\n",
        "that corresponds to Eq. (11) of Am. J. Phys, Vol. 72(2004)478: http://www.eftaylor.com/pub/Symmetries&ConsLaws.pdf"
      ]
    },
    {
      "cell_type": "markdown",
      "metadata": {
        "colab_type": "text",
        "id": "GKoRz7hwNb0A"
      },
      "source": [
        "__Activity__: \n",
        "1. Calculates \n",
        "$$S=\\int_{t_{\\rm min}}^{t_{\\rm max}} L(t)\\operatorname{d}t $$\n",
        "for the physical trajectory of a particle in free fall of $m=0.2\\ $kg, where\n",
        "$$L(t)=\\frac{1}{2}m v^2(t)-mgx(t)$$\n",
        "_Hint_:\n",
        "$$F(t)=\\int L(t)\\operatorname{d}t$$\n",
        "$$S=F(t_{\\rm max})-F(t_{\\rm min})$$\n",
        "1. Calculates also the instataneous energy\n",
        "$$E(t)=\\frac{1}{2}m v^2(t)+mgx(t)$$\n",
        "for  several times."
      ]
    },
    {
      "cell_type": "code",
      "metadata": {
        "colab_type": "code",
        "id": "HY4HEx_jNb0B",
        "outputId": "11d45ef1-b4a0-4183-8bb4-1cd3edffecc9",
        "colab": {
          "base_uri": "https://localhost:8080/",
          "height": 171
        }
      },
      "source": [
        "xmax=11.025 \n",
        "df.loc[1,'x']=xmax\n",
        "coeff=np.polyfit(df.t,df.x,deg=2)\n",
        "x=np.poly1d(coeff,variable='t')\n",
        "print('x(t) [m]:\\n',x)\n",
        "print(\"=\"*45)\n",
        "m=0.2\n",
        "g=9.8\n",
        "v=x.deriv()\n",
        "L=0.5*m*v**2-m*g*x\n",
        "E=0.5*m*v**2+m*g*x\n",
        "F=L.integ() # Analytical integration\n",
        "S=F( df.t.max() ) - F( df.t.min() ) \n",
        "print('for xmax={} m: S={:.1f} J.s  min: -21.6 J.s'.format(xmax,S))\n",
        "print(\"=\"*45)\n",
        "Deltat=0.2\n",
        "#t=np.linspace(df.t.min() , df.t.max(),10)\n",
        "t=np.arange(df.t.min() , df.t.max()+Deltat,Deltat)\n",
        "print('instantaneous energy [J]:\\n {}'.format(E(t)))"
      ],
      "execution_count": 48,
      "outputs": [
        {
          "output_type": "stream",
          "text": [
            "x(t) [m]:\n",
            "       2\n",
            "-4.9 t + 14.7 t + 8.205e-15\n",
            "=============================================\n",
            "for xmax=11.025 m: S=-21.6 J.s  min: -21.6 J.s\n",
            "=============================================\n",
            "instantaneous energy [J]:\n",
            " [21.609 21.609 21.609 21.609 21.609 21.609 21.609 21.609 21.609 21.609\n",
            " 21.609 21.609 21.609 21.609 21.609 21.609]\n"
          ],
          "name": "stdout"
        }
      ]
    },
    {
      "cell_type": "markdown",
      "metadata": {
        "colab_type": "text",
        "id": "PqFVeeRCNb0E"
      },
      "source": [
        "__Activity__: Changes the maximum height for the previous activity and check what happens with the instantaneous energy."
      ]
    },
    {
      "cell_type": "markdown",
      "metadata": {
        "colab_type": "text",
        "id": "9ipNWDgSbEyJ"
      },
      "source": [
        "## Comparision with non-physical trajectories\n",
        "\n",
        "---\n",
        "\n"
      ]
    },
    {
      "cell_type": "markdown",
      "metadata": {
        "colab_type": "text",
        "id": "PEtUtXetNb0G"
      },
      "source": [
        "I good approximation to the integral is:\n",
        "$$S=\\int_{t_{\\rm min}}^{t_{\\rm max}} L(t)\\operatorname{d}t\\approx \\sum_i \\left[\\frac{L(t_{i+1})+L(t_i)}{2}\\right]\\Delta t$$"
      ]
    },
    {
      "cell_type": "code",
      "metadata": {
        "colab_type": "code",
        "id": "1pZ_b3DzNb0G",
        "outputId": "22377b49-f56b-475d-c826-31a03f14f993",
        "colab": {
          "base_uri": "https://localhost:8080/",
          "height": 35
        }
      },
      "source": [
        "print('Δt={}'.format( t[1:]-t[:-1] )  )"
      ],
      "execution_count": 0,
      "outputs": [
        {
          "output_type": "stream",
          "text": [
            "Δt=[0.2 0.2 0.2 0.2 0.2 0.2 0.2 0.2 0.2 0.2 0.2 0.2 0.2 0.2 0.2]\n"
          ],
          "name": "stdout"
        }
      ]
    },
    {
      "cell_type": "code",
      "metadata": {
        "colab_type": "code",
        "id": "YN7j9K2MNb0K",
        "outputId": "13fd29ce-97eb-4af2-dcc9-7612198503e4",
        "colab": {
          "base_uri": "https://localhost:8080/",
          "height": 35
        }
      },
      "source": [
        "print( 'S={:.1f} J.s'.format( 0.5*( L(t)[1:]+L(t)[:-1] ).sum()*Deltat ) )"
      ],
      "execution_count": 0,
      "outputs": [
        {
          "output_type": "stream",
          "text": [
            "S=-21.2 J.s\n"
          ],
          "name": "stdout"
        }
      ]
    },
    {
      "cell_type": "markdown",
      "metadata": {
        "colab_type": "text",
        "id": "IiYjIbeZNb0N"
      },
      "source": [
        "Or even more general"
      ]
    },
    {
      "cell_type": "code",
      "metadata": {
        "colab_type": "code",
        "id": "jAsX0bIKNb0O",
        "outputId": "8762f783-f45f-4d93-9a5f-0a9fe520c752",
        "colab": {
          "base_uri": "https://localhost:8080/",
          "height": 35
        }
      },
      "source": [
        "def Saprx(L,t):\n",
        "    return   0.5*( L(t)[1:]+L(t)[:-1] )*(  t[1:]-t[:-1]  )  \n",
        "\n",
        "print( 'S={:.1f} J.s'.format(  Saprx(L,t).sum() ) )"
      ],
      "execution_count": 0,
      "outputs": [
        {
          "output_type": "stream",
          "text": [
            "S=-21.2 J.s\n"
          ],
          "name": "stdout"
        }
      ]
    },
    {
      "cell_type": "code",
      "metadata": {
        "colab_type": "code",
        "id": "0bdwvMQONb0R",
        "outputId": "ee21148c-d628-427e-e580-5036c3efed0b",
        "colab": {
          "base_uri": "https://localhost:8080/",
          "height": 346
        }
      },
      "source": [
        "Ss=[]\n",
        "Es=[]\n",
        "m=0.2\n",
        "g=9.8\n",
        "Deltat=0.2\n",
        "#t=np.linspace(df.t.min() , df.t.max(),10)\n",
        "t=np.arange(df.t.min() , df.t.max()+Deltat,Deltat)\n",
        "xmax=[6,11.025,15]; x0=0;xend=0\n",
        "ls=['r--','k-','b-.']\n",
        "for i in range(len(xmax) ):\n",
        "    df=pd.DataFrame({'t':[t.min(),t.mean(),t.max()],'x':[x0,xmax[i],xend]})\n",
        "    coeffs=np.polyfit(df.t,df.x,2)\n",
        "    x=np.poly1d(coeffs,variable='t')\n",
        "    v=x.deriv()\n",
        "    L=0.5*m*v**2-m*g*x\n",
        "    F=L.integ() # Analytical integration \n",
        "    E=0.5*m*v**2+m*g*x\n",
        "    S=F( df.t.max() ) - F( df.t.min() )\n",
        "    print('S={:.1f}  J.s'.format( S ) )\n",
        "    Ss.append( Saprx(L,t)  )\n",
        "    Es.append( E(t) )\n",
        "    #Plot\n",
        "    if ls:\n",
        "        plt.plot(t,x(t),ls[i],label='S={:.1f} J$\\cdot$s'.format( S  )   )\n",
        "\n",
        "if ls:\n",
        "    plt.legend(loc='best',fontsize=12)    \n",
        "    plt.xlabel('$t$ [s]',size=20)\n",
        "    plt.ylabel('$x$ [m]',size=20)"
      ],
      "execution_count": 0,
      "outputs": [
        {
          "output_type": "stream",
          "text": [
            "S=-17.1  J.s\n",
            "S=-21.6  J.s\n",
            "S=-18.8  J.s\n"
          ],
          "name": "stdout"
        },
        {
          "output_type": "display_data",
          "data": {
            "image/png": "[encoded data removed]",
            "text/plain": [
              "<matplotlib.figure.Figure at 0x7f14458d2470>"
            ]
          },
          "metadata": {
            "tags": []
          }
        }
      ]
    },
    {
      "cell_type": "markdown",
      "metadata": {
        "colab_type": "text",
        "id": "YzSnwspWcU7P"
      },
      "source": [
        "Only the physical trajectory conserves energy"
      ]
    },
    {
      "cell_type": "code",
      "metadata": {
        "colab_type": "code",
        "id": "ctLVmvX8Nb0U",
        "outputId": "7a713200-3e42-47e6-f39f-d9ec949c9652",
        "colab": {
          "base_uri": "https://localhost:8080/",
          "height": 197
        }
      },
      "source": [
        "Es"
      ],
      "execution_count": 0,
      "outputs": [
        {
          "output_type": "execute_result",
          "data": {
            "text/plain": [
              "[array([ 6.4       ,  7.73404444,  8.87751111,  9.8304    , 10.59271111,\n",
              "        11.16444444, 11.5456    , 11.73617778, 11.73617778, 11.5456    ,\n",
              "        11.16444444, 10.59271111,  9.8304    ,  8.87751111,  7.73404444,\n",
              "         6.4       ]),\n",
              " array([21.609, 21.609, 21.609, 21.609, 21.609, 21.609, 21.609, 21.609,\n",
              "        21.609, 21.609, 21.609, 21.609, 21.609, 21.609, 21.609, 21.609]),\n",
              " array([40.        , 37.36177778, 35.10044444, 33.216     , 31.70844444,\n",
              "        30.57777778, 29.824     , 29.44711111, 29.44711111, 29.824     ,\n",
              "        30.57777778, 31.70844444, 33.216     , 35.10044444, 37.36177778,\n",
              "        40.        ])]"
            ]
          },
          "metadata": {
            "tags": []
          },
          "execution_count": 11
        }
      ]
    },
    {
      "cell_type": "markdown",
      "metadata": {
        "colab_type": "text",
        "id": "uenEmzJYNb0e"
      },
      "source": [
        "Approximated result"
      ]
    },
    {
      "cell_type": "code",
      "metadata": {
        "colab_type": "code",
        "id": "PUSiUqwfNb0f",
        "outputId": "c0d7681d-a752-4a34-eed7-129392cdd064",
        "colab": {
          "base_uri": "https://localhost:8080/",
          "height": 34
        }
      },
      "source": [
        "Ss[0].sum(),Ss[1].sum(),Ss[2].sum()"
      ],
      "execution_count": 0,
      "outputs": [
        {
          "output_type": "execute_result",
          "data": {
            "text/plain": [
              "(-16.958577777777823, -21.224840000000114, -18.1831111111111)"
            ]
          },
          "metadata": {
            "tags": []
          },
          "execution_count": 15
        }
      ]
    },
    {
      "cell_type": "markdown",
      "metadata": {
        "colab_type": "text",
        "id": "ro9iNdZZNb0m"
      },
      "source": [
        "__Activity__: Check that the Action of a trajectory with a polynomial of order $n$ which fits $n+1$ points with the same extreme values, gives an Action that is larger than the previous minimun"
      ]
    },
    {
      "cell_type": "code",
      "metadata": {
        "colab_type": "code",
        "id": "6a1cZgvUU61i",
        "outputId": "b66432f4-53e4-4bbb-cd6e-ceca3e26c016",
        "colab": {
          "base_uri": "https://localhost:8080/",
          "height": 142
        }
      },
      "source": [
        "df"
      ],
      "execution_count": 0,
      "outputs": [
        {
          "output_type": "execute_result",
          "data": {
            "text/html": [
              "<div>\n",
              "<style scoped>\n",
              "    .dataframe tbody tr th:only-of-type {\n",
              "        vertical-align: middle;\n",
              "    }\n",
              "\n",
              "    .dataframe tbody tr th {\n",
              "        vertical-align: top;\n",
              "    }\n",
              "\n",
              "    .dataframe thead th {\n",
              "        text-align: right;\n",
              "    }\n",
              "</style>\n",
              "<table border=\"1\" class=\"dataframe\">\n",
              "  <thead>\n",
              "    <tr style=\"text-align: right;\">\n",
              "      <th></th>\n",
              "      <th>t</th>\n",
              "      <th>x</th>\n",
              "    </tr>\n",
              "  </thead>\n",
              "  <tbody>\n",
              "    <tr>\n",
              "      <th>0</th>\n",
              "      <td>0.0</td>\n",
              "      <td>0</td>\n",
              "    </tr>\n",
              "    <tr>\n",
              "      <th>1</th>\n",
              "      <td>1.5</td>\n",
              "      <td>15</td>\n",
              "    </tr>\n",
              "    <tr>\n",
              "      <th>2</th>\n",
              "      <td>3.0</td>\n",
              "      <td>0</td>\n",
              "    </tr>\n",
              "  </tbody>\n",
              "</table>\n",
              "</div>"
            ],
            "text/plain": [
              "     t   x\n",
              "0  0.0   0\n",
              "1  1.5  15\n",
              "2  3.0   0"
            ]
          },
          "metadata": {
            "tags": []
          },
          "execution_count": 14
        }
      ]
    },
    {
      "cell_type": "code",
      "metadata": {
        "colab_type": "code",
        "id": "tnG4uxULVDnJ",
        "outputId": "5dac3923-7980-401c-9b9e-317ac039a1e0",
        "colab": {
          "base_uri": "https://localhost:8080/",
          "height": 204
        }
      },
      "source": [
        "ndf=df.append({'t':0.75,'x':5},ignore_index=True)\n",
        "ndf=ndf.append({'t':2.25,'x':2.7},ignore_index=True)\n",
        "ndf=ndf.sort_values('t')\n",
        "ndf"
      ],
      "execution_count": 0,
      "outputs": [
        {
          "output_type": "execute_result",
          "data": {
            "text/html": [
              "<div>\n",
              "<style scoped>\n",
              "    .dataframe tbody tr th:only-of-type {\n",
              "        vertical-align: middle;\n",
              "    }\n",
              "\n",
              "    .dataframe tbody tr th {\n",
              "        vertical-align: top;\n",
              "    }\n",
              "\n",
              "    .dataframe thead th {\n",
              "        text-align: right;\n",
              "    }\n",
              "</style>\n",
              "<table border=\"1\" class=\"dataframe\">\n",
              "  <thead>\n",
              "    <tr style=\"text-align: right;\">\n",
              "      <th></th>\n",
              "      <th>t</th>\n",
              "      <th>x</th>\n",
              "    </tr>\n",
              "  </thead>\n",
              "  <tbody>\n",
              "    <tr>\n",
              "      <th>0</th>\n",
              "      <td>0.00</td>\n",
              "      <td>0.0</td>\n",
              "    </tr>\n",
              "    <tr>\n",
              "      <th>3</th>\n",
              "      <td>0.75</td>\n",
              "      <td>5.0</td>\n",
              "    </tr>\n",
              "    <tr>\n",
              "      <th>1</th>\n",
              "      <td>1.50</td>\n",
              "      <td>15.0</td>\n",
              "    </tr>\n",
              "    <tr>\n",
              "      <th>4</th>\n",
              "      <td>2.25</td>\n",
              "      <td>2.7</td>\n",
              "    </tr>\n",
              "    <tr>\n",
              "      <th>2</th>\n",
              "      <td>3.00</td>\n",
              "      <td>0.0</td>\n",
              "    </tr>\n",
              "  </tbody>\n",
              "</table>\n",
              "</div>"
            ],
            "text/plain": [
              "      t     x\n",
              "0  0.00   0.0\n",
              "3  0.75   5.0\n",
              "1  1.50  15.0\n",
              "4  2.25   2.7\n",
              "2  3.00   0.0"
            ]
          },
          "metadata": {
            "tags": []
          },
          "execution_count": 21
        }
      ]
    },
    {
      "cell_type": "code",
      "metadata": {
        "colab_type": "code",
        "id": "M4tL2dFfU2GD",
        "outputId": "5a97ca12-05e9-4cd2-dbf8-8b72caf7468b",
        "colab": {
          "base_uri": "https://localhost:8080/",
          "height": 310
        }
      },
      "source": [
        "Ss=[]\n",
        "Es=[]\n",
        "m=0.2\n",
        "g=9.8\n",
        "Deltat=0.2\n",
        "#t=np.linspace(df.t.min() , df.t.max(),10)\n",
        "t=np.arange(df.t.min() , df.t.max()+Deltat,Deltat)\n",
        "xmax=[11.025]; x0=0;xend=0\n",
        "ls=['r--','k-','b-.']\n",
        "for i in range(len(xmax) ):\n",
        "    df=pd.DataFrame({'t':[t.min(),t.mean(),t.max()],'x':[x0,xmax[i],xend]})\n",
        "    coeffs=np.polyfit(df.t,df.x,2)\n",
        "    x=np.poly1d(coeffs,variable='t')\n",
        "    v=x.deriv()\n",
        "    L=0.5*m*v**2-m*g*x\n",
        "    F=L.integ() # Analytical integration \n",
        "    E=0.5*m*v**2+m*g*x\n",
        "    S=F( df.t.max() ) - F( df.t.min() )\n",
        "    print('S={:.1f}  J.s'.format( S ) )\n",
        "    Ss.append( Saprx(L,t)  )\n",
        "    Es.append( E(t) )\n",
        "    #Plot\n",
        "    if ls:\n",
        "        plt.plot(t,x(t),ls[i],label='S={:.1f} J$\\cdot$s'.format( S  )   )\n",
        "\n",
        "if ls:\n",
        "    plt.legend(loc='best',fontsize=12)    \n",
        "    plt.xlabel('$t$ [s]',size=20)\n",
        "    plt.ylabel('$x$ [m]',size=20)\n",
        "    \n"
      ],
      "execution_count": 0,
      "outputs": [
        {
          "output_type": "stream",
          "text": [
            "S=-21.6  J.s\n"
          ],
          "name": "stdout"
        },
        {
          "output_type": "display_data",
          "data": {
            "image/png": "[encoded data removed]",
            "text/plain": [
              "<matplotlib.figure.Figure at 0x7f1445939a20>"
            ]
          },
          "metadata": {
            "tags": []
          }
        }
      ]
    },
    {
      "cell_type": "markdown",
      "metadata": {
        "id": "1uHOjJUSoyD4",
        "colab_type": "text"
      },
      "source": [
        "#### Solution\n",
        "See `solution_least_action.ipynb`"
      ]
    },
    {
      "cell_type": "markdown",
      "metadata": {
        "id": "9p-z9uxXoyD5",
        "colab_type": "text"
      },
      "source": [
        "### Solution with minimization\n",
        "To be seen in Minimization"
      ]
    },
    {
      "cell_type": "markdown",
      "metadata": {
        "id": "6Z-BxUkLoyD5",
        "colab_type": "text"
      },
      "source": [
        "## References"
      ]
    },
    {
      "cell_type": "markdown",
      "metadata": {
        "id": "HPyaNXCzoyD6",
        "colab_type": "text"
      },
      "source": [
        "[1] L. Euler, M´emoires de l'Acad´emie des Sciences de Berlin 4, 1898 (1748), republished in Ref.2, p. 38-63; L. Euler, M´emoires de l'Acad´emie des Sciences de Berlin 7, 169 (1751), republished in Ref. 2, p. 152. For a recent historical review see: Dias, Penha Maria Cardozo. (2017). Leonhard Euler's “principle of mechanics” (an essay on the foundations of the equations of motion). Revista Brasileira de Ensino de Física, 39(4), e4601. Epub May 22, 2017.https://doi.org/10.1590/1806-9126-rbef-2017-0057\n",
        "\n",
        "[2] Leonhardi Euleri Opera Omnia, serie secunda, v. V, edited by J.O. Fleckenstein (Societatis Scientiarum Naturalium Helveticæ, Geneva,1957)\n"
      ]
    },
    {
      "cell_type": "code",
      "metadata": {
        "id": "RP6XEOUOoyD6",
        "colab_type": "code",
        "colab": {}
      },
      "source": [
        ""
      ],
      "execution_count": 0,
      "outputs": []
    }
  ]
}