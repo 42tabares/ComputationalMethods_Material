{
 "cells": [
  {
   "cell_type": "markdown",
   "source": "<a href=\"https://colab.research.google.com/github/restrepo/ComputationalMethods/blob/master/material/overview-python.ipynb\" target=\"_parent\"><img src=\"https://colab.research.google.com/assets/colab-badge.svg\" alt=\"Open In Colab\"/></a>",
   "metadata": {
    "colab_type": "text",
    "id": "view-in-github",
    "cell_id": "00000-4f397e5f-b3e8-4968-9527-05cfb274bb53",
    "deepnote_cell_type": "markdown"
   }
  },
  {
   "cell_type": "markdown",
   "source": "<div style=\"float: right;\" markdown=\"1\">\n    <img src=\"https://www.python.org/static/community_logos/python-logo-master-v3-TM.png\">\n</div>\n\nPYTHON\n==\n<a href=\"https://colab.research.google.com/github/restrepo/ComputationalMethods/blob/master/material/overview-python.ipynb\" target=\"_parent\"><img src=\"https://colab.research.google.com/assets/colab-badge.svg\" alt=\"Open In Colab\"/></a>\n\nPython is an interpreted programming language oriented to easy-readable coding, unlike compiled languages like C/C++ and Fortran, where the syntax usually does not favor the readability. This feature makes Python very interesting when we want to focus on something different than the program structure itself, e.g. on Computational Methods, thereby allowing to optimize our time, to debug syntax errors easily, etc.\n\n\n[Official page](https://www.python.org/)\n\n[Wikipedia](http://en.wikipedia.org/wiki/Python)\n\nPython Philosophy\n--\n1. Beautiful is better than ugly.\n2. Explicit is better than implicit.\n3. Simple is better than complex.\n4. Complex is better than complicated.\n5. Flat is better than nested.\n6. Sparse is better than dense.\n7. Readability counts.\n8. Special cases aren't special enough to break the rules. (Although practicality beats purity)\n9. Errors should never pass silently. (Unless explicitly silenced)\n10. In the face of ambiguity, refuse the temptation to guess.\n11. There should be one-- and preferably only one --obvious way to do it. (Although that way may not be obvious at first unless you're Dutch)\n12. Now is better than never. (Although never is often better than right now)\n13. If the implementation is hard to explain, it's a bad idea.\n14. If the implementation is easy to explain, it may be a good idea.\n15. NameSpaces are one honking great idea -- let's do more of those!",
   "metadata": {
    "colab_type": "text",
    "id": "QC4VVNb6F_yr",
    "slideshow": {
     "slide_type": "slide"
    },
    "cell_id": "00001-34c40f61-06ce-4418-bbce-e2ce90ce485d",
    "deepnote_cell_type": "markdown"
   }
  },
  {
   "cell_type": "markdown",
   "source": "- - - ",
   "metadata": {
    "colab_type": "text",
    "id": "PsvrRJSXF_yt",
    "cell_id": "00002-31d14584-489a-45c7-91b3-23805b9a7676",
    "deepnote_cell_type": "markdown"
   }
  },
  {
   "cell_type": "markdown",
   "source": "- [String, Integer, Float](#String,-Integer,-Float)\n- [Functions I](#Functions-I) \n- [Hello World!](#Hello-World!) \n- [Arithmetics](#Arithmetics)\n- [Lists, Tuples and Dictionaries](#Lists,-Tuples-and-Dictionaries)\n- [Bucles and Conditionals](#Bucles-and-Conditionals)\n- [Functions II](#Functions-II)\n\n## Biblography\n[1f] Ani Adhikari and John DeNero, [Computational and Inferential Thinking](https://www.inferentialthinking.com/chapters/intro.html)<br/>",
   "metadata": {
    "colab_type": "text",
    "id": "rnVM9axRF_yu",
    "cell_id": "00003-0e2a09eb-5786-4a95-8200-d83226d3ffb8",
    "deepnote_cell_type": "markdown"
   }
  },
  {
   "cell_type": "markdown",
   "source": "- - - ",
   "metadata": {
    "colab_type": "text",
    "id": "ru2dYuqiF_yu",
    "cell_id": "00004-81e7146e-c6ee-4365-bf24-e91f88b7ecf8",
    "deepnote_cell_type": "markdown"
   }
  },
  {
   "cell_type": "markdown",
   "source": "# String, Integer, Float\nThe basic types of variables in Python are:\n",
   "metadata": {
    "colab_type": "text",
    "id": "hbVuNve0Lp_-",
    "slideshow": {
     "slide_type": "slide"
    },
    "cell_id": "00005-13c84412-9812-4fbe-91e9-226f0e561b93",
    "deepnote_cell_type": "markdown"
   }
  },
  {
   "cell_type": "markdown",
   "source": "`str`:",
   "metadata": {
    "colab_type": "text",
    "id": "oO8rcC_aMYXO",
    "slideshow": {
     "slide_type": "subslide"
    },
    "cell_id": "00006-65a6724f-f322-49ed-9e09-6bcbf9457264",
    "deepnote_cell_type": "markdown"
   }
  },
  {
   "cell_type": "markdown",
   "source": "Illustrated with the `hello world` standard",
   "metadata": {
    "colab_type": "text",
    "id": "POJ9rA7A40WK",
    "slideshow": {
     "slide_type": "subslide"
    },
    "tags": [
     "popout"
    ],
    "cell_id": "00007-e253803b-ed4b-4907-9356-4a83b0039b30",
    "deepnote_cell_type": "markdown"
   }
  },
  {
   "cell_type": "code",
   "metadata": {
    "colab": {},
    "colab_type": "code",
    "id": "5_KEVfViMOZC",
    "slideshow": {
     "slide_type": "subslide"
    },
    "cell_id": "00008-91be0a32-abda-4520-a914-714ff10afa93",
    "deepnote_cell_type": "code"
   },
   "source": "#Strings\nhello='hola'",
   "execution_count": 2,
   "outputs": []
  },
  {
   "cell_type": "markdown",
   "source": "`int`",
   "metadata": {
    "colab_type": "text",
    "id": "n6ff3fKrMdHF",
    "slideshow": {
     "slide_type": "subslide"
    },
    "cell_id": "00009-969a988b-eb14-46a7-816d-4e848b57ed69",
    "deepnote_cell_type": "markdown"
   }
  },
  {
   "cell_type": "code",
   "metadata": {
    "colab": {},
    "colab_type": "code",
    "id": "Bm-RxdlxMVGU",
    "slideshow": {
     "slide_type": "subslide"
    },
    "cell_id": "00010-c92b506d-2fe8-417d-bb15-d35301b5e4b3",
    "deepnote_cell_type": "code"
   },
   "source": "#Integer\nn=3",
   "execution_count": 3,
   "outputs": []
  },
  {
   "cell_type": "markdown",
   "source": "`float`",
   "metadata": {
    "colab_type": "text",
    "id": "P6JSYRm_Mh41",
    "slideshow": {
     "slide_type": "subslide"
    },
    "cell_id": "00011-2853f608-5fe9-4ee1-81b5-22c17a614390",
    "deepnote_cell_type": "markdown"
   }
  },
  {
   "cell_type": "code",
   "metadata": {
    "colab": {},
    "colab_type": "code",
    "id": "XJF1vwxJMlyl",
    "cell_id": "00012-bb0745de-12de-47dc-9a3b-3019d0034d3f",
    "deepnote_cell_type": "code"
   },
   "source": "x=3.5",
   "execution_count": 4,
   "outputs": []
  },
  {
   "cell_type": "markdown",
   "source": "# Functions I\nPython includes a battery of predefined functions which takes an input and generates an output. For example, to check the type of variable we can used the\npredefined function\n## `isinistance`:",
   "metadata": {
    "colab_type": "text",
    "id": "wTzMkndjJFZp",
    "cell_id": "00013-41c6f7d2-9e69-4116-9779-197608446a46",
    "deepnote_cell_type": "markdown"
   }
  },
  {
   "cell_type": "code",
   "metadata": {
    "colab": {
     "base_uri": "https://localhost:8080/",
     "height": 35
    },
    "colab_type": "code",
    "id": "4K96FCuENYCd",
    "outputId": "2da1940e-179b-4722-c6a2-cdd8e210686c",
    "cell_id": "00014-d3d484c8-fe92-4249-823b-33b8cfb50f67",
    "deepnote_cell_type": "code"
   },
   "source": "isinstance(hello,str)",
   "execution_count": 5,
   "outputs": [
    {
     "data": {
      "text/plain": "True"
     },
     "execution_count": 5,
     "metadata": {},
     "output_type": "execute_result"
    }
   ]
  },
  {
   "cell_type": "markdown",
   "source": "**Activity**: In the next cell check if `n`  is a `float` type of variable",
   "metadata": {
    "colab_type": "text",
    "id": "YeFccBUZNggD",
    "cell_id": "00015-51d87b6c-cae5-4fe5-adac-13c50bea1679",
    "deepnote_cell_type": "markdown"
   }
  },
  {
   "cell_type": "code",
   "metadata": {
    "colab": {},
    "colab_type": "code",
    "id": "x3mFZU1aNu-U",
    "cell_id": "00016-72e793a7-fa96-46d6-b80d-6cb00842b564",
    "deepnote_cell_type": "code"
   },
   "source": "",
   "execution_count": null,
   "outputs": []
  },
  {
   "cell_type": "markdown",
   "source": "## `print`",
   "metadata": {
    "colab_type": "text",
    "id": "RQJLzZTxNxGb",
    "cell_id": "00017-787585d6-0d9d-4993-9a1e-77f716393cc8",
    "deepnote_cell_type": "markdown"
   }
  },
  {
   "cell_type": "markdown",
   "source": "See: https://pyformat.info/\n\nTo write the _Hello world_ program in python we must first introduce the concept of function. It is the same in mathematics, were something called function receives a number and return back another number. For example, the function to square a number is\n\\begin{equation}\nf(x)=x^2\\,,\n\\end{equation}\n$x$ is called the argument of the function $f$, and the _returned_ value is the evaluation of $f(x)$.\n\nIn `Python` there are a lot of such a functions.\nIn particular there is a function called `print` which takes strings (see below) as input and return the same string as output. In this way, the __hello world__ program in Python is one of the most simple between all the programming languages:",
   "metadata": {
    "colab_type": "text",
    "id": "N7GTR9AiM5Xm",
    "cell_id": "00018-12f271e5-3695-44c1-8ddb-3dcf95f8c75d",
    "deepnote_cell_type": "markdown"
   }
  },
  {
   "cell_type": "markdown",
   "source": "# Hello World!",
   "metadata": {
    "colab_type": "text",
    "id": "PJOXAlbAF_yv",
    "cell_id": "00019-517c05f6-21d9-426a-a296-d9dde08cab22",
    "deepnote_cell_type": "markdown"
   }
  },
  {
   "cell_type": "code",
   "metadata": {
    "colab": {
     "base_uri": "https://localhost:8080/",
     "height": 34
    },
    "colab_type": "code",
    "id": "Cmd-Wx7oF_yw",
    "outputId": "923773c2-46e1-4f85-9728-30d47dbeff41",
    "cell_id": "00020-16a2021c-4785-4ccb-863f-7df6efc8aeae",
    "deepnote_cell_type": "code"
   },
   "source": "print('Hello World!')",
   "execution_count": 8,
   "outputs": [
    {
     "name": "stdout",
     "output_type": "stream",
     "text": "Hello World!\n"
    }
   ]
  },
  {
   "cell_type": "markdown",
   "source": "And also allows scripting: *(This code should be copied on a file 'hello.py')*",
   "metadata": {
    "colab_type": "text",
    "id": "_WerUXfIF_y0",
    "cell_id": "00021-28b16aec-3e64-4af4-84d5-78267d544c8c",
    "deepnote_cell_type": "markdown"
   }
  },
  {
   "cell_type": "code",
   "metadata": {
    "colab": {
     "base_uri": "https://localhost:8080/",
     "height": 34
    },
    "colab_type": "code",
    "id": "WTvsRsI_F_y1",
    "outputId": "37adc2e2-26a0-4e88-fea4-f7289cc8f9b3",
    "cell_id": "00022-a1283afa-00ff-4c65-9fad-59500a590fd6",
    "deepnote_cell_type": "code"
   },
   "source": "#! /usr/bin/python\n\n#This is a comment\nprint('Hello World!')",
   "execution_count": null,
   "outputs": [
    {
     "name": "stdout",
     "output_type": "stream",
     "text": "Hello World!\n"
    }
   ]
  },
  {
   "cell_type": "markdown",
   "source": "The recommended way to print a variable in Python is to use the `.format` _method_ of the function `print` by preceding the sring with the letter `f`. Inside the string any variable between curly brackets, `{variable}`, can be used",
   "metadata": {
    "colab_type": "text",
    "id": "cvkfIERrN6GT",
    "cell_id": "00023-13a8d280-1ab3-4b2d-b467-abcbaafbc948",
    "deepnote_cell_type": "markdown"
   }
  },
  {
   "cell_type": "code",
   "metadata": {
    "colab": {
     "base_uri": "https://localhost:8080/",
     "height": 35
    },
    "colab_type": "code",
    "id": "4iiFnX3GOSix",
    "outputId": "189ad787-6654-4205-b084-9b3286a1793f",
    "cell_id": "00024-811d5082-ffdd-42f4-92fd-53ae42eb27da",
    "deepnote_to_be_reexecuted": false,
    "source_hash": "3e036be2",
    "execution_start": 1626453090430,
    "execution_millis": 10,
    "deepnote_cell_type": "code"
   },
   "source": "hello='Hello World!'\nprint(f'{hello}')",
   "execution_count": 1,
   "outputs": [
    {
     "name": "stdout",
     "text": "Hello World!\n",
     "output_type": "stream"
    }
   ]
  },
  {
   "cell_type": "markdown",
   "source": "__Activity__: Change the values of the previous string variables to print `Hello World!` in Spanish ",
   "metadata": {
    "colab_type": "text",
    "id": "mAOFOHQtOlYD",
    "cell_id": "00025-1bac035d-fc1f-4347-a35b-7ed20fd9e7da",
    "deepnote_cell_type": "markdown"
   }
  },
  {
   "cell_type": "markdown",
   "source": "# Functions",
   "metadata": {
    "colab": {},
    "colab_type": "code",
    "id": "lckGJ4UsPBSR",
    "cell_id": "00026-4805810c-5c15-4710-8026-bae638fb8f8c",
    "deepnote_cell_type": "markdown"
   }
  },
  {
   "cell_type": "markdown",
   "source": "In `Python` it is possible also to create new [functions](https://en.wikibooks.org/wiki/Python_Programming/Functions). We illustrate the format to define a function in `Python` with the implementation of the function $f(x)=x^2$, where to write an exponent: ${}^2$, in Python we must use the format: `**2`.",
   "metadata": {
    "colab_type": "text",
    "id": "KJTsJ2exKcSQ",
    "cell_id": "00027-592d06b0-4e0f-433a-bdeb-a29ddc6ac39d",
    "deepnote_cell_type": "markdown"
   }
  },
  {
   "cell_type": "markdown",
   "source": "## Implicit functions",
   "metadata": {
    "cell_id": "00028-7b74f015-b720-4b86-b279-41314b94db49",
    "deepnote_cell_type": "markdown"
   }
  },
  {
   "cell_type": "code",
   "metadata": {
    "colab": {},
    "colab_type": "code",
    "id": "SLI_RmTIKr_2",
    "cell_id": "00029-d7d95097-f42c-415b-a1bd-9c7704717b9d",
    "deepnote_cell_type": "code"
   },
   "source": "f=lambda x:x**2",
   "execution_count": 15,
   "outputs": []
  },
  {
   "cell_type": "code",
   "metadata": {
    "cell_id": "00030-26b39a17-b613-4fc8-94f0-5e6c89e2f50d",
    "deepnote_cell_type": "code"
   },
   "source": "isinstance(f,str)",
   "execution_count": 16,
   "outputs": [
    {
     "data": {
      "text/plain": "False"
     },
     "execution_count": 16,
     "metadata": {},
     "output_type": "execute_result"
    }
   ]
  },
  {
   "cell_type": "code",
   "metadata": {
    "cell_id": "00031-79297844-077e-4635-8e17-58b38e1e0ce2",
    "deepnote_cell_type": "code"
   },
   "source": "type(f)",
   "execution_count": 17,
   "outputs": [
    {
     "data": {
      "text/plain": "function"
     },
     "execution_count": 17,
     "metadata": {},
     "output_type": "execute_result"
    }
   ]
  },
  {
   "cell_type": "code",
   "metadata": {
    "colab": {
     "base_uri": "https://localhost:8080/",
     "height": 34
    },
    "colab_type": "code",
    "id": "kSBRdi67dfD1",
    "outputId": "25c8f546-806d-4462-d87a-f8cc63c5d536",
    "cell_id": "00032-98229684-c9cb-4db0-8998-ca3a47b7de9d",
    "deepnote_cell_type": "code"
   },
   "source": "f(3)",
   "execution_count": 19,
   "outputs": [
    {
     "data": {
      "text/plain": "9"
     },
     "execution_count": 19,
     "metadata": {},
     "output_type": "execute_result"
    }
   ]
  },
  {
   "cell_type": "markdown",
   "source": "## Explicit functions",
   "metadata": {
    "colab_type": "text",
    "id": "R3j70bwqF_1Y",
    "cell_id": "00033-61dd30ec-2a6d-4012-b387-d080d1fd8989",
    "deepnote_cell_type": "markdown"
   }
  },
  {
   "cell_type": "markdown",
   "source": "The standard function build may include the help for the function",
   "metadata": {
    "cell_id": "00034-fb1ab9ee-21c4-4421-8b9b-5c48a4c8b7e2",
    "deepnote_cell_type": "markdown"
   }
  },
  {
   "cell_type": "code",
   "metadata": {
    "cell_id": "00035-e180aab0-ab38-489f-ba08-34be6332faa2",
    "deepnote_cell_type": "code"
   },
   "source": "def f(x):\n    '''\n    Calculates the square of `x`\n    '''\n    return x**2",
   "execution_count": 59,
   "outputs": []
  },
  {
   "cell_type": "markdown",
   "source": "f(5)",
   "metadata": {
    "cell_id": "00036-c65adff0-6b70-4d2c-a011-8fca30c55934",
    "deepnote_cell_type": "markdown"
   }
  },
  {
   "cell_type": "code",
   "metadata": {
    "cell_id": "00037-38b7a17c-cd1d-48fe-b1ea-5a5072610698",
    "deepnote_cell_type": "code"
   },
   "source": "help(f)",
   "execution_count": 60,
   "outputs": [
    {
     "name": "stdout",
     "output_type": "stream",
     "text": "Help on function f in module __main__:\n\nf(x)\n    Calculates the square of `x`\n\n"
    }
   ]
  },
  {
   "cell_type": "markdown",
   "source": "The full list of built-in functions is in https://docs.python.org/3/library/functions.html and the specific help for a function, for example `print` can be checked with https://docs.python.org/3/library/functions.html#print",
   "metadata": {
    "colab_type": "text",
    "id": "DJwBYqi440XD",
    "cell_id": "00038-462d3558-b374-4618-bd59-a80b2d0b111c",
    "deepnote_cell_type": "markdown"
   }
  },
  {
   "cell_type": "code",
   "metadata": {
    "colab": {
     "base_uri": "https://localhost:8080/",
     "height": 34
    },
    "colab_type": "code",
    "id": "z3IAaPwJF_1Z",
    "outputId": "f550c7a2-861b-4c92-e5ac-f816531e2b54",
    "cell_id": "00039-22606d64-26bf-44cb-8348-1d4b575937b5",
    "deepnote_cell_type": "code"
   },
   "source": "def f(x,y):\n    '''\n    Multiply two numbers\n    '''\n    return x*y\nf(3,2)",
   "execution_count": 129,
   "outputs": [
    {
     "data": {
      "text/plain": "6"
     },
     "execution_count": 129,
     "metadata": {},
     "output_type": "execute_result"
    }
   ]
  },
  {
   "cell_type": "code",
   "metadata": {
    "colab": {
     "base_uri": "https://localhost:8080/",
     "height": 34
    },
    "colab_type": "code",
    "id": "hMkLVbRRF_1a",
    "outputId": "1fe169d5-b147-448d-89ba-63063ef02d92",
    "cell_id": "00040-961f1860-4b88-4d6f-9e2c-dfadf8d90088",
    "deepnote_cell_type": "code"
   },
   "source": "#It is possible to assign default arguments\ndef f(x,y=2):\n    '''\n    Multiply two numbers. By default the second is 2\n    '''    \n    return x*y\n#When evaluating, we can omit the default argument\nf(3)",
   "execution_count": 130,
   "outputs": [
    {
     "data": {
      "text/plain": "6"
     },
     "execution_count": 130,
     "metadata": {},
     "output_type": "execute_result"
    }
   ]
  },
  {
   "cell_type": "code",
   "metadata": {
    "colab": {
     "base_uri": "https://localhost:8080/",
     "height": 34
    },
    "colab_type": "code",
    "id": "Ee_8WkNdnnaj",
    "outputId": "4a6511b0-42aa-467c-92a4-b02765b3f741",
    "cell_id": "00041-1fd18671-3f9e-4952-9858-17084a1d1a7e",
    "deepnote_cell_type": "code"
   },
   "source": "f(2,3)",
   "execution_count": 131,
   "outputs": [
    {
     "data": {
      "text/plain": "6"
     },
     "execution_count": 131,
     "metadata": {},
     "output_type": "execute_result"
    }
   ]
  },
  {
   "cell_type": "code",
   "metadata": {
    "colab": {
     "base_uri": "https://localhost:8080/",
     "height": 34
    },
    "colab_type": "code",
    "id": "uCLluCGVnqWj",
    "outputId": "a43bcd34-b8ee-4279-889d-d92ee71618ac",
    "cell_id": "00042-61782059-8e73-432a-8637-7ac4f91820d2",
    "deepnote_cell_type": "code"
   },
   "source": "f(2,y=5)",
   "execution_count": 132,
   "outputs": [
    {
     "data": {
      "text/plain": "10"
     },
     "execution_count": 132,
     "metadata": {},
     "output_type": "execute_result"
    }
   ]
  },
  {
   "cell_type": "code",
   "metadata": {
    "colab": {
     "base_uri": "https://localhost:8080/",
     "height": 52
    },
    "colab_type": "code",
    "id": "Eh6jou-TF_1c",
    "outputId": "d82b0602-72f2-4e18-9260-78a71ebca88c",
    "cell_id": "00043-0d8d6730-9581-4ed8-b5b9-ee99fe9e7713",
    "deepnote_cell_type": "code"
   },
   "source": "#It is possible to specify explicitly the order of the arguments\ndef f(x,y):\n    '''\n    evaluates x to the power y\n    '''    \n    return x**y\nprint( 'f(1,2)=',f(1,2) )\nprint( 'f(2,1)=',f(y=1,x=2) )",
   "execution_count": 137,
   "outputs": [
    {
     "name": "stdout",
     "output_type": "stream",
     "text": "f(1,2)= 1\nf(2,1)= 2\n"
    }
   ]
  },
  {
   "cell_type": "markdown",
   "source": "## Implicit functions of several arguments",
   "metadata": {
    "colab_type": "text",
    "id": "PYyDcKZ5F_1e",
    "cell_id": "00044-b18eb58e-48c1-4974-834a-5360ab115abc",
    "deepnote_cell_type": "markdown"
   }
  },
  {
   "cell_type": "markdown",
   "source": "Implicit functions are usdeful when we want to use a function once.",
   "metadata": {
    "colab_type": "text",
    "id": "-suvy_mEF_1e",
    "cell_id": "00045-b10fb053-57c3-4fba-be8d-f163bf0cf2a9",
    "deepnote_cell_type": "markdown"
   }
  },
  {
   "cell_type": "code",
   "metadata": {
    "colab": {
     "base_uri": "https://localhost:8080/",
     "height": 34
    },
    "colab_type": "code",
    "id": "FMTOmWFYF_1f",
    "outputId": "8e7c1b41-a48e-4a9b-bd3c-4f4a9fd9cf78",
    "cell_id": "00046-76cd6d35-3e2b-47a0-9edb-5f9a8dc2cb2e",
    "deepnote_cell_type": "code"
   },
   "source": "f = lambda x,y: x**y\nf(3,2)",
   "execution_count": 138,
   "outputs": [
    {
     "data": {
      "text/plain": "9"
     },
     "execution_count": 138,
     "metadata": {},
     "output_type": "execute_result"
    }
   ]
  },
  {
   "cell_type": "code",
   "metadata": {
    "colab": {
     "base_uri": "https://localhost:8080/",
     "height": 70
    },
    "colab_type": "code",
    "id": "mWGO2OHrF_1g",
    "outputId": "4532bcfe-9ffc-49cc-bdd2-d3077580246f",
    "cell_id": "00047-126140fa-fc08-4d74-874a-d90d37dd86da",
    "deepnote_cell_type": "code"
   },
   "source": "#It is possible to pass functions as arguments of other function\ndef f2( f, x ):\n    return f(x)**2\n\n#We can define a new function explicitly\ndef f(x):\n    return x+2\n\nprint(f(2))\nprint(f2(f,2))\n\n\n#Or define the function implicitly\nprint (\"Implicit: f(2)^2 =\", f2(lambda x:x+2,2) )",
   "execution_count": 140,
   "outputs": [
    {
     "name": "stdout",
     "output_type": "stream",
     "text": "4\n16\nImplicit: f(2)^2 = 16\n"
    }
   ]
  },
  {
   "cell_type": "code",
   "metadata": {
    "cell_id": "00048-66af3fe0-dd06-4063-aece-2a26de1531db",
    "deepnote_cell_type": "code"
   },
   "source": "",
   "execution_count": null,
   "outputs": []
  },
  {
   "cell_type": "markdown",
   "source": "# Arithmetics",
   "metadata": {
    "colab_type": "text",
    "id": "tmc45kxUF_y4",
    "cell_id": "00049-e128fdf5-6d40-4e6d-a8a2-25bd944de81c",
    "deepnote_cell_type": "markdown"
   }
  },
  {
   "cell_type": "markdown",
   "source": "## Sum",
   "metadata": {
    "colab_type": "text",
    "id": "ozwFot0rF_y4",
    "cell_id": "00050-56a76643-a756-4bd2-946f-8dbd126ebf74",
    "deepnote_cell_type": "markdown"
   }
  },
  {
   "cell_type": "code",
   "metadata": {
    "colab": {
     "base_uri": "https://localhost:8080/",
     "height": 34
    },
    "colab_type": "code",
    "id": "URMyrhmqF_y5",
    "outputId": "6b38d80c-b3a3-481d-f835-94d65ac766b5",
    "cell_id": "00051-74b45186-581d-46f3-be38-38b781b27e99",
    "deepnote_cell_type": "code"
   },
   "source": "5.89+4.89",
   "execution_count": 26,
   "outputs": [
    {
     "data": {
      "text/plain": "10.78"
     },
     "execution_count": 26,
     "metadata": {},
     "output_type": "execute_result"
    }
   ]
  },
  {
   "cell_type": "markdown",
   "source": "**Activity**: Sum strings:\nHint: use `+' '+`",
   "metadata": {
    "colab_type": "text",
    "id": "0DNu3gWKdwIy",
    "cell_id": "00052-7b94f9d9-d4e1-4a12-a5b9-14142d764d39",
    "deepnote_cell_type": "markdown"
   }
  },
  {
   "cell_type": "code",
   "metadata": {
    "colab": {},
    "colab_type": "code",
    "id": "68e7G-PRd86Q",
    "cell_id": "00053-04becf08-bc65-42cb-b09f-5d7896e58c9a",
    "deepnote_cell_type": "code"
   },
   "source": "",
   "execution_count": null,
   "outputs": []
  },
  {
   "cell_type": "markdown",
   "source": "**Activity**: Sum integers",
   "metadata": {
    "colab_type": "text",
    "id": "1dE0l0jyd9wJ",
    "cell_id": "00054-6e9b2fb1-ad02-44da-a1fc-78acf7f739ee",
    "deepnote_cell_type": "markdown"
   }
  },
  {
   "cell_type": "code",
   "metadata": {
    "colab": {},
    "colab_type": "code",
    "id": "TAYYWZwveGfR",
    "cell_id": "00055-358e4396-8a80-47d3-ac09-2f7596fd02ed",
    "deepnote_cell_type": "code"
   },
   "source": "2+3",
   "execution_count": 33,
   "outputs": [
    {
     "data": {
      "text/plain": "5"
     },
     "execution_count": 33,
     "metadata": {},
     "output_type": "execute_result"
    }
   ]
  },
  {
   "cell_type": "markdown",
   "source": "**Example**",
   "metadata": {
    "colab_type": "text",
    "id": "AK5CSon3PDnW",
    "cell_id": "00056-229969a9-1a88-4bfa-94eb-0315f479314a",
    "deepnote_cell_type": "markdown"
   }
  },
  {
   "cell_type": "code",
   "metadata": {
    "colab": {
     "base_uri": "https://localhost:8080/",
     "height": 35
    },
    "colab_type": "code",
    "id": "WI8fn1qdeWvG",
    "outputId": "76fbecd4-37b0-4960-e6d8-7bf33fe03bf6",
    "cell_id": "00057-9868f3b3-c5f8-41b4-a512-2cb6379346f5",
    "deepnote_cell_type": "code"
   },
   "source": "print(hello+' '+world+'!')",
   "execution_count": 34,
   "outputs": [
    {
     "name": "stdout",
     "output_type": "stream",
     "text": "Hola Mundo!\n"
    }
   ]
  },
  {
   "cell_type": "markdown",
   "source": "## Multiplication",
   "metadata": {
    "colab_type": "text",
    "id": "-fCXEiSsF_y8",
    "cell_id": "00058-51897368-a994-44cc-bbac-d59edcaf405d",
    "deepnote_cell_type": "markdown"
   }
  },
  {
   "cell_type": "code",
   "metadata": {
    "colab": {},
    "colab_type": "code",
    "id": "vu7SzdLjF_y9",
    "outputId": "563be8e8-08b2-4f5f-92a3-4bc0842e3bb7",
    "cell_id": "00059-9fb7b1b4-9f96-40f2-b98b-70e101a3eb5c",
    "deepnote_cell_type": "code"
   },
   "source": "120*4.5",
   "execution_count": 35,
   "outputs": [
    {
     "data": {
      "text/plain": "540.0"
     },
     "execution_count": 35,
     "metadata": {},
     "output_type": "execute_result"
    }
   ]
  },
  {
   "cell_type": "markdown",
   "source": "**Example** String multiplied by integer:",
   "metadata": {
    "colab_type": "text",
    "id": "wC3Jfp4tPR2a",
    "cell_id": "00060-da533ec0-10e7-4d04-ba30-cf5e014fe793",
    "deepnote_cell_type": "markdown"
   }
  },
  {
   "cell_type": "code",
   "metadata": {
    "colab": {
     "base_uri": "https://localhost:8080/",
     "height": 34
    },
    "colab_type": "code",
    "id": "U6X_16Bpelup",
    "outputId": "f8017363-25b2-49c9-e222-1821da24ef29",
    "cell_id": "00061-c262fd98-8a47-4c8a-85bd-583b5c2ffba5",
    "deepnote_cell_type": "code"
   },
   "source": "print('='*80)",
   "execution_count": 36,
   "outputs": [
    {
     "name": "stdout",
     "output_type": "stream",
     "text": "================================================================================\n"
    }
   ]
  },
  {
   "cell_type": "markdown",
   "source": "## **Division**",
   "metadata": {
    "colab_type": "text",
    "id": "jtskAuqQF_zA",
    "cell_id": "00062-85e7cd59-82e0-4a8f-927e-8c4de20890bf",
    "deepnote_cell_type": "markdown"
   }
  },
  {
   "cell_type": "code",
   "metadata": {
    "colab": {
     "base_uri": "https://localhost:8080/",
     "height": 35
    },
    "colab_type": "code",
    "id": "QsCpsAd8F_zA",
    "outputId": "7dded816-e2c9-4862-ba72-bec93846fc8c",
    "cell_id": "00063-eaf6081c-d23e-41a3-b7b0-9b9fc661fa2c",
    "deepnote_cell_type": "code"
   },
   "source": "#Python 3 does support complete division\n100/3",
   "execution_count": 37,
   "outputs": [
    {
     "data": {
      "text/plain": "33.333333333333336"
     },
     "execution_count": 37,
     "metadata": {},
     "output_type": "execute_result"
    }
   ]
  },
  {
   "cell_type": "code",
   "metadata": {
    "colab": {},
    "colab_type": "code",
    "id": "_4K2vuGqF_zD",
    "outputId": "e2a3e187-4bea-4580-dd2d-1a8819bd4614",
    "cell_id": "00064-04572ec2-eccf-49da-b738-3d5dfb1a641f",
    "deepnote_cell_type": "code"
   },
   "source": "100/3.",
   "execution_count": 38,
   "outputs": [
    {
     "data": {
      "text/plain": "33.333333333333336"
     },
     "execution_count": 38,
     "metadata": {},
     "output_type": "execute_result"
    }
   ]
  },
  {
   "cell_type": "markdown",
   "source": "Force integer division",
   "metadata": {
    "cell_id": "00065-b9748840-0fa4-4767-ae5f-9ae17ffd2ceb",
    "deepnote_cell_type": "markdown"
   }
  },
  {
   "cell_type": "code",
   "metadata": {
    "cell_id": "00066-418e827f-e17d-475a-ad48-8c1f159c63cf",
    "deepnote_cell_type": "code"
   },
   "source": "100//3",
   "execution_count": 39,
   "outputs": [
    {
     "data": {
      "text/plain": "33"
     },
     "execution_count": 39,
     "metadata": {},
     "output_type": "execute_result"
    }
   ]
  },
  {
   "cell_type": "markdown",
   "source": "## **Module**",
   "metadata": {
    "colab_type": "text",
    "id": "x7xHh9tjF_zJ",
    "cell_id": "00067-a2553e7c-3180-49bd-ae9d-b91598376b9b",
    "deepnote_cell_type": "markdown"
   }
  },
  {
   "cell_type": "code",
   "metadata": {
    "colab": {},
    "colab_type": "code",
    "id": "R4a7H6dmF_zJ",
    "outputId": "4fa12d47-806a-4b49-b521-32ec36986b4a",
    "cell_id": "00068-739595f2-6f11-4c01-8325-7937294b615f",
    "deepnote_cell_type": "code"
   },
   "source": "10%2",
   "execution_count": null,
   "outputs": [
    {
     "data": {
      "text/plain": "0"
     },
     "execution_count": 8,
     "metadata": {
      "tags": []
     },
     "output_type": "execute_result"
    }
   ]
  },
  {
   "cell_type": "code",
   "metadata": {
    "colab": {},
    "colab_type": "code",
    "id": "Z9ST9W04F_zM",
    "outputId": "6fe779e1-46b9-4621-d99f-e570706c237b",
    "cell_id": "00069-8542809a-a3a8-4011-976f-cba20d0c8d2c",
    "deepnote_cell_type": "code"
   },
   "source": "20%3",
   "execution_count": null,
   "outputs": [
    {
     "data": {
      "text/plain": "2"
     },
     "execution_count": 9,
     "metadata": {
      "tags": []
     },
     "output_type": "execute_result"
    }
   ]
  },
  {
   "cell_type": "markdown",
   "source": "## **Power**",
   "metadata": {
    "colab_type": "text",
    "id": "2iWjCW7tF_zF",
    "cell_id": "00070-8ad8abec-b278-45e3-b3a4-aafc43b797cf",
    "deepnote_cell_type": "markdown"
   }
  },
  {
   "cell_type": "code",
   "metadata": {
    "colab": {},
    "colab_type": "code",
    "id": "ShgiDMOaF_zG",
    "outputId": "8b2f08a8-c273-4e61-b81b-53dbbe0402fb",
    "cell_id": "00071-67f91ae1-5f80-47a8-9283-001b5c4ea750",
    "deepnote_cell_type": "code"
   },
   "source": "2**6",
   "execution_count": 42,
   "outputs": [
    {
     "data": {
      "text/plain": "64"
     },
     "execution_count": 42,
     "metadata": {},
     "output_type": "execute_result"
    }
   ]
  },
  {
   "cell_type": "markdown",
   "source": "## **Scientific notation**",
   "metadata": {
    "colab_type": "text",
    "id": "8_EWbqIzF_zQ",
    "cell_id": "00072-40ada915-f658-4795-8cdb-481dc6f2b7d7",
    "deepnote_cell_type": "markdown"
   }
  },
  {
   "cell_type": "markdown",
   "source": "$1\\times 10^3=10^3=1000$",
   "metadata": {
    "cell_id": "00073-6fb987c1-e3be-48c1-aa88-8642ff00bf3c",
    "deepnote_cell_type": "markdown"
   }
  },
  {
   "cell_type": "code",
   "metadata": {
    "cell_id": "00074-3150bb4a-fa4a-44b5-8950-948a88aed8a5",
    "deepnote_cell_type": "code"
   },
   "source": "1E3",
   "execution_count": 44,
   "outputs": [
    {
     "data": {
      "text/plain": "1000.0"
     },
     "execution_count": 44,
     "metadata": {},
     "output_type": "execute_result"
    }
   ]
  },
  {
   "cell_type": "markdown",
   "source": "$2\\times 10^3=2000$",
   "metadata": {
    "cell_id": "00075-004b6451-067c-4c99-8a72-c0dcd2f58abe",
    "deepnote_cell_type": "markdown"
   }
  },
  {
   "cell_type": "code",
   "metadata": {
    "cell_id": "00076-fcd6409c-7f6f-401c-8956-e8c1d42b9344",
    "deepnote_cell_type": "code"
   },
   "source": "2E3",
   "execution_count": 46,
   "outputs": [
    {
     "data": {
      "text/plain": "2000.0"
     },
     "execution_count": 46,
     "metadata": {},
     "output_type": "execute_result"
    }
   ]
  },
  {
   "cell_type": "markdown",
   "source": "$$\\frac{ \\dfrac{10^{24}}{3}+2.9\\times 10^{23}}{10^2}$$",
   "metadata": {
    "cell_id": "00077-75a926f3-b216-4e39-9895-8b62d2e07a49",
    "deepnote_cell_type": "markdown"
   }
  },
  {
   "cell_type": "code",
   "metadata": {
    "colab": {},
    "colab_type": "code",
    "id": "1rf2SYTRF_zR",
    "outputId": "3054b29a-fa77-4e7e-c0ca-584f52f55ea5",
    "cell_id": "00078-3b709032-f2e1-4d3d-b08e-2458850c2ab2",
    "deepnote_cell_type": "code"
   },
   "source": "(1.0e24/3. + 2.9e23)/1e-2",
   "execution_count": 47,
   "outputs": [
    {
     "data": {
      "text/plain": "6.233333333333333e+25"
     },
     "execution_count": 47,
     "metadata": {},
     "output_type": "execute_result"
    }
   ]
  },
  {
   "cell_type": "code",
   "metadata": {
    "colab": {},
    "colab_type": "code",
    "id": "K0H39NBm40Xz",
    "cell_id": "00079-829fc58e-d927-4e10-9ffe-acca3f536cbc",
    "deepnote_cell_type": "code"
   },
   "source": "sin=0.3",
   "execution_count": 48,
   "outputs": []
  },
  {
   "cell_type": "code",
   "metadata": {
    "colab": {},
    "colab_type": "code",
    "id": "vWOkR85240X2",
    "cell_id": "00080-cc0e2648-3bac-448d-befc-5f0a4e900a88",
    "deepnote_cell_type": "code"
   },
   "source": "from math import *",
   "execution_count": 49,
   "outputs": []
  },
  {
   "cell_type": "code",
   "metadata": {
    "colab": {},
    "colab_type": "code",
    "id": "UWU8d1Mf40X5",
    "outputId": "4c097253-19c0-45b9-8e74-fc3cfeb057b5",
    "cell_id": "00081-c502b2d0-b784-4c00-b2c6-1c7c5c38f208",
    "deepnote_cell_type": "code"
   },
   "source": "isinstance(sin,float)",
   "execution_count": 51,
   "outputs": [
    {
     "data": {
      "text/plain": "False"
     },
     "execution_count": 51,
     "metadata": {},
     "output_type": "execute_result"
    }
   ]
  },
  {
   "cell_type": "markdown",
   "source": "Keep the name space",
   "metadata": {
    "cell_id": "00082-99e102f2-5b26-479a-8cfc-0c7346f024b5",
    "deepnote_cell_type": "markdown"
   }
  },
  {
   "cell_type": "markdown",
   "source": "Use `name.last_name`",
   "metadata": {
    "cell_id": "00083-70b46540-3ac9-4cf3-8270-e51d30c34423",
    "deepnote_cell_type": "markdown"
   }
  },
  {
   "cell_type": "code",
   "metadata": {
    "cell_id": "00084-39000ce2-90d5-4536-969e-cb0a66d97e85",
    "deepnote_cell_type": "code"
   },
   "source": "sin=0.3",
   "execution_count": 53,
   "outputs": []
  },
  {
   "cell_type": "code",
   "metadata": {
    "colab": {},
    "colab_type": "code",
    "id": "yfYz0zLKNqA4",
    "cell_id": "00085-4dd1c9e8-27bb-46c8-a193-9febc40c815b",
    "deepnote_cell_type": "code"
   },
   "source": "import math as m\nimport cmath as cm\nimport numpy as np\nimport scipy as sp\n#Recommended option:\nimport numpy.lib.scimath as sc",
   "execution_count": 161,
   "outputs": []
  },
  {
   "cell_type": "code",
   "metadata": {
    "cell_id": "00086-66781195-0577-4bcd-9717-cbbd5ef49e12",
    "deepnote_cell_type": "code"
   },
   "source": "isinstance(sin,float)",
   "execution_count": 54,
   "outputs": [
    {
     "data": {
      "text/plain": "True"
     },
     "execution_count": 54,
     "metadata": {},
     "output_type": "execute_result"
    }
   ]
  },
  {
   "cell_type": "code",
   "metadata": {
    "cell_id": "00087-1507b2ca-4e3a-40b9-851f-370969c6ebcd",
    "deepnote_cell_type": "code"
   },
   "source": "m.sin(0.5)",
   "execution_count": 55,
   "outputs": [
    {
     "data": {
      "text/plain": "0.479425538604203"
     },
     "execution_count": 55,
     "metadata": {},
     "output_type": "execute_result"
    }
   ]
  },
  {
   "cell_type": "code",
   "metadata": {
    "cell_id": "00088-01566e4d-82a9-4db8-8efa-40b4829006bb",
    "deepnote_cell_type": "code"
   },
   "source": "cm.sin(0.5)",
   "execution_count": 56,
   "outputs": [
    {
     "data": {
      "text/plain": "(0.479425538604203+0j)"
     },
     "execution_count": 56,
     "metadata": {},
     "output_type": "execute_result"
    }
   ]
  },
  {
   "cell_type": "code",
   "metadata": {
    "cell_id": "00089-859202c9-64eb-46c0-983f-a87880c0fb3c",
    "deepnote_cell_type": "code"
   },
   "source": "np.sin(0.5)",
   "execution_count": 57,
   "outputs": [
    {
     "data": {
      "text/plain": "0.479425538604203"
     },
     "execution_count": 57,
     "metadata": {},
     "output_type": "execute_result"
    }
   ]
  },
  {
   "cell_type": "code",
   "metadata": {
    "cell_id": "00090-c84c0fbe-64ce-4eab-8c36-e31213a5207b",
    "deepnote_cell_type": "code"
   },
   "source": "sp.sin(0.5)",
   "execution_count": 58,
   "outputs": [
    {
     "name": "stderr",
     "output_type": "stream",
     "text": "/home/restrepo/anaconda3/lib/python3.7/site-packages/ipykernel_launcher.py:1: DeprecationWarning: scipy.sin is deprecated and will be removed in SciPy 2.0.0, use numpy.sin instead\n  \"\"\"Entry point for launching an IPython kernel.\n"
    },
    {
     "data": {
      "text/plain": "0.479425538604203"
     },
     "execution_count": 58,
     "metadata": {},
     "output_type": "execute_result"
    }
   ]
  },
  {
   "cell_type": "markdown",
   "source": "## Complex numbers",
   "metadata": {
    "colab_type": "text",
    "id": "rf3I0p_lnix5",
    "cell_id": "00091-d49ebd94-56ff-4f1f-a968-52e4efe9dad3",
    "deepnote_cell_type": "markdown"
   }
  },
  {
   "cell_type": "code",
   "metadata": {
    "cell_id": "00092-b3263a70-7d32-4852-a5d6-7877f102554d",
    "deepnote_cell_type": "code"
   },
   "source": "1j**2",
   "execution_count": 1,
   "outputs": [
    {
     "data": {
      "text/plain": "(-1+0j)"
     },
     "execution_count": 1,
     "metadata": {},
     "output_type": "execute_result"
    }
   ]
  },
  {
   "cell_type": "code",
   "metadata": {
    "colab": {},
    "colab_type": "code",
    "id": "FV8LAGKJNqA7",
    "cell_id": "00093-1a722771-b290-4e56-9e93-97420e2432e6",
    "deepnote_cell_type": "code"
   },
   "source": "z=2+3.2j",
   "execution_count": 2,
   "outputs": []
  },
  {
   "cell_type": "code",
   "metadata": {
    "colab": {},
    "colab_type": "code",
    "id": "pNOydNUO40YE",
    "outputId": "ea96f74f-c1db-46ff-cb2d-85cf35b533ba",
    "cell_id": "00094-3d02d79e-c217-43fd-a8f4-c03e9b6d89b7",
    "deepnote_cell_type": "code"
   },
   "source": "isinstance(z,complex)",
   "execution_count": 4,
   "outputs": [
    {
     "data": {
      "text/plain": "True"
     },
     "execution_count": 4,
     "metadata": {},
     "output_type": "execute_result"
    }
   ]
  },
  {
   "cell_type": "markdown",
   "source": "Attributes and methods:",
   "metadata": {
    "colab_type": "text",
    "id": "y9HbGaRenix8",
    "cell_id": "00095-f5a5c7b6-4ad5-49c8-b8d4-730479bec16e",
    "deepnote_cell_type": "markdown"
   }
  },
  {
   "cell_type": "code",
   "metadata": {
    "colab": {
     "base_uri": "https://localhost:8080/",
     "height": 34
    },
    "colab_type": "code",
    "id": "5nHDx7wLNqA9",
    "outputId": "b0dded95-9e31-4a4c-e72e-d307a5aa8302",
    "cell_id": "00096-07b4ca2c-9701-4486-8424-bd8ec52a8c20",
    "deepnote_cell_type": "code"
   },
   "source": "z.real,z.imag,z.conjugate()",
   "execution_count": null,
   "outputs": [
    {
     "data": {
      "text/plain": "(2.0, 3.2, (2-3.2j))"
     },
     "execution_count": 4,
     "metadata": {
      "tags": []
     },
     "output_type": "execute_result"
    }
   ]
  },
  {
   "cell_type": "code",
   "metadata": {
    "colab": {
     "base_uri": "https://localhost:8080/",
     "height": 34
    },
    "colab_type": "code",
    "id": "WVfLo4mINqBA",
    "outputId": "a45257c5-f1f6-4ca8-b32d-0e2f3c30bcf6",
    "cell_id": "00097-d50da332-4aec-4410-a0db-cf58ae5caf27",
    "deepnote_cell_type": "code"
   },
   "source": "z+3*z",
   "execution_count": 6,
   "outputs": [
    {
     "data": {
      "text/plain": "(8+12.8j)"
     },
     "execution_count": 6,
     "metadata": {},
     "output_type": "execute_result"
    }
   ]
  },
  {
   "cell_type": "code",
   "metadata": {
    "colab": {
     "base_uri": "https://localhost:8080/",
     "height": 34
    },
    "colab_type": "code",
    "id": "cDLf56VpNqBE",
    "outputId": "5b55beba-bf25-4a21-c30e-52079fece0c1",
    "cell_id": "00098-58b18cb4-21e6-48f4-9086-6fb8795770fa",
    "deepnote_cell_type": "code"
   },
   "source": "z*z",
   "execution_count": 7,
   "outputs": [
    {
     "data": {
      "text/plain": "(-6.240000000000002+12.8j)"
     },
     "execution_count": 7,
     "metadata": {},
     "output_type": "execute_result"
    }
   ]
  },
  {
   "cell_type": "code",
   "metadata": {
    "colab": {
     "base_uri": "https://localhost:8080/",
     "height": 34
    },
    "colab_type": "code",
    "id": "TAZa5L1RNqBG",
    "outputId": "263ad031-f5f7-418c-8e54-2f2f2f85c45e",
    "cell_id": "00099-07cadcdf-0781-4f96-9efa-3c753e2fd6d5",
    "deepnote_cell_type": "code"
   },
   "source": "z*z.conjugate()",
   "execution_count": null,
   "outputs": [
    {
     "data": {
      "text/plain": "(14.240000000000002+0j)"
     },
     "execution_count": 9,
     "metadata": {
      "tags": []
     },
     "output_type": "execute_result"
    }
   ]
  },
  {
   "cell_type": "markdown",
   "source": "`math` does not work with complex numbers",
   "metadata": {
    "colab": {},
    "colab_type": "code",
    "id": "nK4EI5bH40YX",
    "cell_id": "00100-faa6110d-55de-40a1-86c8-56ce8aa5aa9d",
    "deepnote_cell_type": "markdown"
   }
  },
  {
   "cell_type": "code",
   "metadata": {
    "colab": {
     "base_uri": "https://localhost:8080/",
     "height": 165
    },
    "colab_type": "code",
    "id": "sPxDr2BSNqBK",
    "outputId": "cebcf098-0d46-465a-df9f-a963e77f1d49",
    "cell_id": "00101-c9775239-ca6d-42ab-b7fa-7f9189334d40",
    "deepnote_cell_type": "code"
   },
   "source": "m.asin(2+0j)",
   "execution_count": 162,
   "outputs": [
    {
     "ename": "TypeError",
     "evalue": "can't convert complex to float",
     "output_type": "error",
     "traceback": [
      "\u001b[0;31m---------------------------------------------------------------------------\u001b[0m",
      "\u001b[0;31mTypeError\u001b[0m                                 Traceback (most recent call last)",
      "\u001b[0;32m<ipython-input-162-1385535d58fd>\u001b[0m in \u001b[0;36m<module>\u001b[0;34m\u001b[0m\n\u001b[0;32m----> 1\u001b[0;31m \u001b[0mm\u001b[0m\u001b[0;34m.\u001b[0m\u001b[0masin\u001b[0m\u001b[0;34m(\u001b[0m\u001b[0;36m2\u001b[0m\u001b[0;34m+\u001b[0m\u001b[0;36m0j\u001b[0m\u001b[0;34m)\u001b[0m\u001b[0;34m\u001b[0m\u001b[0;34m\u001b[0m\u001b[0m\n\u001b[0m",
      "\u001b[0;31mTypeError\u001b[0m: can't convert complex to float"
     ]
    }
   ]
  },
  {
   "cell_type": "code",
   "metadata": {
    "colab": {
     "base_uri": "https://localhost:8080/",
     "height": 34
    },
    "colab_type": "code",
    "id": "tb5p6SxcNqBO",
    "outputId": "e403c20a-6804-4742-f39a-aa4b69e8a6bf",
    "cell_id": "00102-cbbdaece-e706-4de6-98bd-8f43d8d35739",
    "deepnote_cell_type": "code"
   },
   "source": "cm.asin(2)",
   "execution_count": 163,
   "outputs": [
    {
     "data": {
      "text/plain": "(1.5707963267948966+1.3169578969248166j)"
     },
     "execution_count": 163,
     "metadata": {},
     "output_type": "execute_result"
    }
   ]
  },
  {
   "cell_type": "markdown",
   "source": "`numpy` requires proper input",
   "metadata": {
    "cell_id": "00103-746e65d9-8d08-4878-b80f-087e11660d00",
    "deepnote_cell_type": "markdown"
   }
  },
  {
   "cell_type": "code",
   "metadata": {
    "colab": {
     "base_uri": "https://localhost:8080/",
     "height": 88
    },
    "colab_type": "code",
    "id": "CrFG7Wkko2ry",
    "outputId": "996a070c-952c-40e4-c269-aee42e33d081",
    "cell_id": "00104-7d842a7e-551f-4b86-8cda-aaf9002436d9",
    "deepnote_cell_type": "code"
   },
   "source": "np.arcsin(2)",
   "execution_count": 164,
   "outputs": [
    {
     "name": "stderr",
     "output_type": "stream",
     "text": "/usr/local/lib/python3.7/dist-packages/ipykernel_launcher.py:1: RuntimeWarning: invalid value encountered in arcsin\n  \"\"\"Entry point for launching an IPython kernel.\n"
    },
    {
     "data": {
      "text/plain": "nan"
     },
     "execution_count": 164,
     "metadata": {},
     "output_type": "execute_result"
    }
   ]
  },
  {
   "cell_type": "code",
   "metadata": {
    "colab": {
     "base_uri": "https://localhost:8080/",
     "height": 34
    },
    "colab_type": "code",
    "id": "kzkODWkAsUGH",
    "outputId": "27e7fc7c-0357-4d7d-d563-8d91a58bb635",
    "cell_id": "00105-068cb2e2-67f6-4789-8aa9-8df6cb73f631",
    "deepnote_cell_type": "code"
   },
   "source": "np.arcsin(2+0j)",
   "execution_count": 165,
   "outputs": [
    {
     "data": {
      "text/plain": "(1.5707963267948966+1.3169578969248166j)"
     },
     "execution_count": 165,
     "metadata": {},
     "output_type": "execute_result"
    }
   ]
  },
  {
   "cell_type": "markdown",
   "source": "`numpy.lib.scimath` imported as `sc` here, is from `sc?`:\n> Wrapper functions to more user-friendly calling of certain math functions\nwhose output data-type is different than the input data-type in certain\ndomains of the input.\nFunction with some parts of its domain in the complex plane like, `sqrt`, `log`, `log2`, `logn`, `log10`, `power`, `arccos`, `arcsin`, and `arctanh`.",
   "metadata": {
    "colab_type": "text",
    "id": "1CCDk_m0sSH5",
    "cell_id": "00106-6259c1ee-9808-4b0a-ac5d-28c2a35c0c03",
    "deepnote_cell_type": "markdown"
   }
  },
  {
   "cell_type": "code",
   "metadata": {
    "colab": {},
    "colab_type": "code",
    "id": "ujaLOBc440Yt",
    "outputId": "80539b82-7078-4546-c0c7-a01912040bf5",
    "cell_id": "00107-d4582586-7946-48c2-b2a1-4e57643deb70",
    "deepnote_cell_type": "code"
   },
   "source": "np.lib.scimath.arcsin(2)",
   "execution_count": 166,
   "outputs": [
    {
     "data": {
      "text/plain": "(1.5707963267948966+1.3169578969248166j)"
     },
     "execution_count": 166,
     "metadata": {},
     "output_type": "execute_result"
    }
   ]
  },
  {
   "cell_type": "code",
   "metadata": {
    "cell_id": "00108-21fe7bc7-b62e-419e-8f4a-77c5fcb3eeef",
    "deepnote_cell_type": "code"
   },
   "source": "sc.arcsin(2)",
   "execution_count": 167,
   "outputs": [
    {
     "data": {
      "text/plain": "(1.5707963267948966+1.3169578969248166j)"
     },
     "execution_count": 167,
     "metadata": {},
     "output_type": "execute_result"
    }
   ]
  },
  {
   "cell_type": "code",
   "metadata": {
    "colab": {},
    "colab_type": "code",
    "id": "148M2gp0ul3b",
    "cell_id": "00109-fa35b372-96f9-4949-acbd-3e1dd8b97d6e",
    "deepnote_cell_type": "code"
   },
   "source": "import ipywidgets as widgets",
   "execution_count": 168,
   "outputs": []
  },
  {
   "cell_type": "code",
   "metadata": {
    "colab": {},
    "colab_type": "code",
    "id": "OgpSHexV40Y0",
    "outputId": "1c74eef5-72ef-43ba-8ba4-7e1a800f6f11",
    "tags": [
     "interactive"
    ],
    "cell_id": "00110-28966f91-cbf3-4e57-9037-3909018ee925",
    "deepnote_cell_type": "code"
   },
   "source": "@widgets.interact\ndef f(x=(0,2)):\n    print(np.abs(sc.arcsin(x)))",
   "execution_count": 169,
   "outputs": [
    {
     "data": {
      "application/vnd.jupyter.widget-view+json": {
       "model_id": "c7649e6b09e544169692a5bd523dd0d2",
       "version_major": 2,
       "version_minor": 0
      },
      "text/plain": "interactive(children=(IntSlider(value=1, description='x', max=2), Output()), _dom_classes=('widget-interact',)…"
     },
     "metadata": {},
     "output_type": "display_data"
    }
   ]
  },
  {
   "cell_type": "code",
   "metadata": {
    "colab": {
     "base_uri": "https://localhost:8080/",
     "height": 88
    },
    "colab_type": "code",
    "id": "3tptBZcLNqBT",
    "outputId": "4e266e8e-f43c-4c0a-cb2a-bbcce4cb402b",
    "cell_id": "00111-65b42516-574d-47e8-98f2-bb422c3e958a",
    "deepnote_cell_type": "code"
   },
   "source": "sc.arcsin([2,3])",
   "execution_count": 170,
   "outputs": [
    {
     "data": {
      "text/plain": "array([1.57079633+1.3169579j , 1.57079633+1.76274717j])"
     },
     "execution_count": 170,
     "metadata": {},
     "output_type": "execute_result"
    }
   ]
  },
  {
   "cell_type": "markdown",
   "source": "# Lists, Tuples and Dictionaries",
   "metadata": {
    "colab_type": "text",
    "id": "WNGKkoW4F_zT",
    "cell_id": "00112-16b90e2f-1770-4f84-b1fd-e1197c7da6ac",
    "deepnote_cell_type": "markdown"
   }
  },
  {
   "cell_type": "markdown",
   "source": "## Lists",
   "metadata": {
    "colab_type": "text",
    "id": "ACaVyEIMF_zU",
    "cell_id": "00113-6ca5b993-d2b8-48df-95e5-92e102a819fc",
    "deepnote_cell_type": "markdown"
   }
  },
  {
   "cell_type": "markdown",
   "source": "Lists are useful when you want to store and manipulate a set of elements (even of different types).",
   "metadata": {
    "colab_type": "text",
    "id": "8bU3iP8xF_zV",
    "cell_id": "00114-8627121b-1169-43dc-8a80-c2b50bc7bc23",
    "deepnote_cell_type": "markdown"
   }
  },
  {
   "cell_type": "code",
   "metadata": {
    "colab": {
     "base_uri": "https://localhost:8080/",
     "height": 35
    },
    "colab_type": "code",
    "id": "xWUtR9EUF_zW",
    "outputId": "6526a6f3-1b28-4e2b-e5e4-2b3e346bc37e",
    "cell_id": "00115-43993951-a96b-45f5-9aa6-218250de2875",
    "deepnote_cell_type": "code"
   },
   "source": "#A list is declared using [] and may content different type of objects\nlista = [\"abc\", 42, 3.1415]\nlista",
   "execution_count": 23,
   "outputs": [
    {
     "data": {
      "text/plain": "['abc', 42, 3.1415]"
     },
     "execution_count": 23,
     "metadata": {},
     "output_type": "execute_result"
    }
   ]
  },
  {
   "cell_type": "code",
   "metadata": {
    "colab": {
     "base_uri": "https://localhost:8080/",
     "height": 35
    },
    "colab_type": "code",
    "id": "HF_XL0MWF_zY",
    "outputId": "3117d2de-db39-4d86-ef4a-e7613bb78ac0",
    "cell_id": "00116-f1ac2a71-cd80-4bdf-b55a-36c96d210522",
    "deepnote_cell_type": "code"
   },
   "source": "#First element of the list\nlista[0]",
   "execution_count": 24,
   "outputs": [
    {
     "data": {
      "text/plain": "'abc'"
     },
     "execution_count": 24,
     "metadata": {},
     "output_type": "execute_result"
    }
   ]
  },
  {
   "cell_type": "code",
   "metadata": {
    "colab": {
     "base_uri": "https://localhost:8080/",
     "height": 35
    },
    "colab_type": "code",
    "id": "wAPJeJnIF_za",
    "outputId": "f173775f-6eec-41b0-e8ad-9b14d218ad61",
    "cell_id": "00117-9bee40ba-69b5-45ad-ac99-ded3cebca55a",
    "deepnote_cell_type": "code"
   },
   "source": "#Last element of the list\nlista[-1]",
   "execution_count": 25,
   "outputs": [
    {
     "data": {
      "text/plain": "3.1415"
     },
     "execution_count": 25,
     "metadata": {},
     "output_type": "execute_result"
    }
   ]
  },
  {
   "cell_type": "code",
   "metadata": {
    "cell_id": "00118-e99620ac-83a5-4944-b7c0-5e444f6bd1be",
    "deepnote_cell_type": "code"
   },
   "source": "isinstance(True,bool)",
   "execution_count": 28,
   "outputs": [
    {
     "data": {
      "text/plain": "True"
     },
     "execution_count": 28,
     "metadata": {},
     "output_type": "execute_result"
    }
   ]
  },
  {
   "cell_type": "code",
   "metadata": {
    "colab": {
     "base_uri": "https://localhost:8080/",
     "height": 35
    },
    "colab_type": "code",
    "id": "Nl-dVEMRF_zc",
    "outputId": "8a371e78-9b6b-41b5-9060-74808cf7cac5",
    "cell_id": "00119-4ee37b8f-4184-4968-9344-ce71d1e7bc47",
    "deepnote_cell_type": "code"
   },
   "source": "#Adding a new element (boolean element)\nlista.append(True)\nlista",
   "execution_count": 30,
   "outputs": [
    {
     "data": {
      "text/plain": "['abc', 42, 3.1415, True]"
     },
     "execution_count": 30,
     "metadata": {},
     "output_type": "execute_result"
    }
   ]
  },
  {
   "cell_type": "code",
   "metadata": {
    "colab": {
     "base_uri": "https://localhost:8080/",
     "height": 35
    },
    "colab_type": "code",
    "id": "SevBLsrgF_ze",
    "outputId": "70424d0e-4239-4a2a-f653-ee168140e1c2",
    "cell_id": "00120-b066d01c-cfd2-4b88-b396-acaa67bae085",
    "deepnote_cell_type": "code"
   },
   "source": "#Inserting a new second element \nlista.insert(1, \"I am second\")\nlista",
   "execution_count": 31,
   "outputs": [
    {
     "data": {
      "text/plain": "['abc', 'I am second', 42, 3.1415, True]"
     },
     "execution_count": 31,
     "metadata": {},
     "output_type": "execute_result"
    }
   ]
  },
  {
   "cell_type": "code",
   "metadata": {
    "colab": {
     "base_uri": "https://localhost:8080/",
     "height": 35
    },
    "colab_type": "code",
    "id": "nSHDnC2AF_zg",
    "outputId": "0116348f-b350-4c54-a5e5-ff02641c31e6",
    "cell_id": "00121-8b9c757b-9fb4-4610-b94e-ac2f7ae4e869",
    "deepnote_cell_type": "code"
   },
   "source": "#Deleting the third element of the list\ndel lista[3]\nlista",
   "execution_count": 32,
   "outputs": [
    {
     "data": {
      "text/plain": "['abc', 'I am second', 42, True]"
     },
     "execution_count": 32,
     "metadata": {},
     "output_type": "execute_result"
    }
   ]
  },
  {
   "cell_type": "code",
   "metadata": {
    "colab": {
     "base_uri": "https://localhost:8080/",
     "height": 35
    },
    "colab_type": "code",
    "id": "vlX6FjRkF_zj",
    "outputId": "79a878cc-ee51-43b0-f668-712c487dd005",
    "cell_id": "00122-ffe7df5c-b2da-45ce-bb94-f432ea290b6d",
    "deepnote_cell_type": "code"
   },
   "source": "#Reassign the first element of the list\nlista[0] = \"xyz\"\nlista",
   "execution_count": 33,
   "outputs": [
    {
     "data": {
      "text/plain": "['xyz', 'I am second', 42, True]"
     },
     "execution_count": 33,
     "metadata": {},
     "output_type": "execute_result"
    }
   ]
  },
  {
   "cell_type": "markdown",
   "source": "### Slicing: \nExtract elements from a list, `l` from one given index to another given index. We pass slice instead of index like this: \n```python3\nl[start:end]\n```\nWe can also define the step, like this: \n```python3\nl[start:end:step]\n```\nIf `start` is not passed it is considered 0. If `end` is not passed it is considered length of array in that dimension. The `end` can given in reverse order by assigning a minus signus to the index. For example `-1` means the last element, whicle `-2` means the penultimate, and so on and so forth.",
   "metadata": {
    "colab_type": "text",
    "id": "pfNBq-Bj40ZQ",
    "cell_id": "00123-57f91b00-6a13-4568-a840-c95e04b50c68",
    "deepnote_cell_type": "markdown"
   }
  },
  {
   "cell_type": "code",
   "metadata": {
    "colab": {
     "base_uri": "https://localhost:8080/",
     "height": 35
    },
    "colab_type": "code",
    "id": "rCgwPFIgF_zl",
    "outputId": "81c27ad4-596f-41de-af83-73d69871889d",
    "cell_id": "00124-4673fb4b-69a6-44c5-b553-b29ecda18ed3",
    "deepnote_cell_type": "code"
   },
   "source": "#Showing the elements from 0 to 2\nlista[0:3]",
   "execution_count": 34,
   "outputs": [
    {
     "data": {
      "text/plain": "['xyz', 'I am second', 42]"
     },
     "execution_count": 34,
     "metadata": {},
     "output_type": "execute_result"
    }
   ]
  },
  {
   "cell_type": "code",
   "metadata": {
    "colab": {
     "base_uri": "https://localhost:8080/",
     "height": 35
    },
    "colab_type": "code",
    "id": "7EnY5Z_A40ZT",
    "outputId": "58fe6bbe-5014-4c96-8d55-0ccb52aad24b",
    "cell_id": "00125-f058494c-bb47-4974-93c6-7cb70b3650c3",
    "deepnote_cell_type": "code"
   },
   "source": "#Showing the last two elements\nlista[-2:]",
   "execution_count": 35,
   "outputs": [
    {
     "data": {
      "text/plain": "[42, True]"
     },
     "execution_count": 35,
     "metadata": {},
     "output_type": "execute_result"
    }
   ]
  },
  {
   "cell_type": "code",
   "metadata": {
    "colab": {
     "base_uri": "https://localhost:8080/",
     "height": 35
    },
    "colab_type": "code",
    "id": "hFTEHeueF_zn",
    "outputId": "8abb0632-4243-4422-8a86-2df841e0a81e",
    "cell_id": "00126-2c6edb8f-e21a-4c78-bbf8-911ef5d1be11",
    "deepnote_cell_type": "code"
   },
   "source": "#Showing elements two by two\nlista[::2]",
   "execution_count": 36,
   "outputs": [
    {
     "data": {
      "text/plain": "['xyz', 42]"
     },
     "execution_count": 36,
     "metadata": {},
     "output_type": "execute_result"
    }
   ]
  },
  {
   "cell_type": "code",
   "metadata": {
    "colab": {
     "base_uri": "https://localhost:8080/",
     "height": 35
    },
    "colab_type": "code",
    "id": "AmtfO6SE40Zb",
    "outputId": "ab306330-6683-401a-d637-ab84747d0b96",
    "cell_id": "00127-088529a1-cdd2-4f2c-a55f-97c24a554d43",
    "deepnote_cell_type": "code"
   },
   "source": "#Reverse order\nlista[::-1]",
   "execution_count": 37,
   "outputs": [
    {
     "data": {
      "text/plain": "[True, 42, 'I am second', 'xyz']"
     },
     "execution_count": 37,
     "metadata": {},
     "output_type": "execute_result"
    }
   ]
  },
  {
   "cell_type": "code",
   "metadata": {
    "cell_id": "00128-f3e96f1b-30fb-4dc6-8cf5-10f8c0a3bdac",
    "deepnote_cell_type": "code"
   },
   "source": "lista",
   "execution_count": 38,
   "outputs": [
    {
     "data": {
      "text/plain": "['xyz', 'I am second', 42, True]"
     },
     "execution_count": 38,
     "metadata": {},
     "output_type": "execute_result"
    }
   ]
  },
  {
   "cell_type": "code",
   "metadata": {
    "colab": {
     "base_uri": "https://localhost:8080/",
     "height": 35
    },
    "colab_type": "code",
    "id": "JtdcF2L540Ze",
    "outputId": "63ec49e9-57e7-47e7-96fe-81373736226e",
    "cell_id": "00129-d0c2f7e2-f0b2-492e-9204-dc38f3b0c8d7",
    "deepnote_cell_type": "code"
   },
   "source": "#also as\nlista.reverse()\nlista",
   "execution_count": 39,
   "outputs": [
    {
     "data": {
      "text/plain": "[True, 42, 'I am second', 'xyz']"
     },
     "execution_count": 39,
     "metadata": {},
     "output_type": "execute_result"
    }
   ]
  },
  {
   "cell_type": "markdown",
   "source": "### Embedded lists",
   "metadata": {
    "colab_type": "text",
    "id": "-nwqd5OH40Zh",
    "cell_id": "00130-1315bac9-04c4-4e12-bd71-e54c9c188e09",
    "deepnote_cell_type": "markdown"
   }
  },
  {
   "cell_type": "code",
   "metadata": {
    "colab": {
     "base_uri": "https://localhost:8080/",
     "height": 35
    },
    "colab_type": "code",
    "id": "FZOAGZujF_zp",
    "outputId": "fd8d4e2d-ca8d-4779-8a48-a8a9b7acf435",
    "cell_id": "00131-aaab6b1e-dcd6-448d-9c9c-c58f8a2df353",
    "deepnote_cell_type": "code"
   },
   "source": "#It is possible to embed a list\nembedded_list = [lista, [True, 42]]\nembedded_list",
   "execution_count": 40,
   "outputs": [
    {
     "data": {
      "text/plain": "[[True, 42, 'I am second', 'xyz'], [True, 42]]"
     },
     "execution_count": 40,
     "metadata": {},
     "output_type": "execute_result"
    }
   ]
  },
  {
   "cell_type": "code",
   "metadata": {
    "colab": {
     "base_uri": "https://localhost:8080/",
     "height": 35
    },
    "colab_type": "code",
    "id": "jYQgFdOYF_zr",
    "outputId": "8bb6ca52-7c21-4b9e-b2de-30005c8420ca",
    "cell_id": "00132-57f0bd10-d081-42bd-992b-712686faa210",
    "deepnote_cell_type": "code"
   },
   "source": "#Second element of the first list\nembedded_list[0][1]",
   "execution_count": 41,
   "outputs": [
    {
     "data": {
      "text/plain": "42"
     },
     "execution_count": 41,
     "metadata": {},
     "output_type": "execute_result"
    }
   ]
  },
  {
   "cell_type": "code",
   "metadata": {
    "colab": {
     "base_uri": "https://localhost:8080/",
     "height": 35
    },
    "colab_type": "code",
    "id": "uyw-E8VoF_zt",
    "outputId": "12473d6c-92e8-491f-a61a-31edcf459253",
    "cell_id": "00133-9df3b1ce-f6c3-4be5-b737-949607db44c0",
    "deepnote_cell_type": "code"
   },
   "source": "#A matrix as a list of embedded lists\nA = [ [1,2], [3,4] ]\nA",
   "execution_count": 42,
   "outputs": [
    {
     "data": {
      "text/plain": "[[1, 2], [3, 4]]"
     },
     "execution_count": 42,
     "metadata": {},
     "output_type": "execute_result"
    }
   ]
  },
  {
   "cell_type": "markdown",
   "source": "**Activity**: Obtain entry $A_{01}$ of the previous matrix, where\n\\begin{align}\nA=\\begin{pmatrix}\nA_{00} & A_{01}\\\\\nA_{10} & A_{11}\\\\\n\\end{pmatrix}\n\\end{align}",
   "metadata": {
    "colab_type": "text",
    "id": "BYpSrRqlgX6j",
    "cell_id": "00134-e1d5ee2c-0fe9-46c2-85ce-0762e05611bc",
    "deepnote_cell_type": "markdown"
   }
  },
  {
   "cell_type": "code",
   "metadata": {
    "colab": {},
    "colab_type": "code",
    "id": "jisAwrcf40Zq",
    "cell_id": "00135-f5b3c211-9abc-4c21-8806-2f1c4a1e2b14",
    "deepnote_cell_type": "code"
   },
   "source": "",
   "execution_count": null,
   "outputs": []
  },
  {
   "cell_type": "markdown",
   "source": "### Sum of lists",
   "metadata": {
    "colab_type": "text",
    "id": "xou55DH140Zs",
    "cell_id": "00136-243850cf-39b5-4c5d-842f-72e235c72269",
    "deepnote_cell_type": "markdown"
   }
  },
  {
   "cell_type": "code",
   "metadata": {
    "colab": {},
    "colab_type": "code",
    "id": "DDYA-n0pF_zv",
    "outputId": "6c19cc81-1d0c-46df-ffdc-666d29e1cd30",
    "cell_id": "00137-d0e5120c-94d6-40e3-8979-a9bdb0bf0794",
    "deepnote_cell_type": "code"
   },
   "source": "#When two list are added, the result is a new concatenated list\n[1,2,\"ab\",True,[1,2]] + [3.1415,\"Pi\",\"circle\"]",
   "execution_count": 45,
   "outputs": [
    {
     "data": {
      "text/plain": "[1, 2, 'ab', True, [1, 2], 3.1415, 'Pi', 'circle']"
     },
     "execution_count": 45,
     "metadata": {},
     "output_type": "execute_result"
    }
   ]
  },
  {
   "cell_type": "markdown",
   "source": "**Activity** Add a third row with integer values to the previous $A$ matrix\n<!-- Answer: A=A+[[5,6]] -->",
   "metadata": {
    "colab_type": "text",
    "id": "mnXJphqAhSpu",
    "cell_id": "00138-dc6980e6-fb8f-4a83-b98f-9bc41e9fa01d",
    "deepnote_cell_type": "markdown"
   }
  },
  {
   "cell_type": "code",
   "metadata": {
    "colab": {
     "base_uri": "https://localhost:8080/",
     "height": 35
    },
    "colab_type": "code",
    "id": "cDjXm_LthoWk",
    "outputId": "f1bc862b-bf33-4699-b349-a52c94424248",
    "cell_id": "00139-5b796ccf-fa09-400b-91e8-ef347d747586",
    "deepnote_cell_type": "code"
   },
   "source": "",
   "execution_count": null,
   "outputs": []
  },
  {
   "cell_type": "markdown",
   "source": "An additional ingredient is the `append` method of a Python list. It update the elements of the list without update explicitly the variable with some equal reasignment.",
   "metadata": {
    "colab_type": "text",
    "id": "7QgsQSv2F_zy",
    "cell_id": "00140-ede7d349-571e-42fe-b4f5-0963810a6e95",
    "deepnote_cell_type": "markdown"
   }
  },
  {
   "cell_type": "code",
   "metadata": {
    "colab": {
     "base_uri": "https://localhost:8080/",
     "height": 52
    },
    "colab_type": "code",
    "id": "ZxLgIuS7F_zy",
    "outputId": "2d347140-f163-46ea-d925-1989cbb6f033",
    "cell_id": "00141-cd443c5b-58be-4308-8fd1-7c9c87b2ba35",
    "deepnote_cell_type": "code"
   },
   "source": "y=[]\ny.append(2)\nprint('after append 2 to [] : {}'.format(y))\ny.append(5)\nprint('after append 5 to [2]: {}'.format(y))",
   "execution_count": 47,
   "outputs": [
    {
     "name": "stdout",
     "output_type": "stream",
     "text": "after append 2 to [] : [2]\nafter append 5 to [2]: [2, 5]\n"
    }
   ]
  },
  {
   "cell_type": "markdown",
   "source": "### List Comprehensions",
   "metadata": {
    "colab_type": "text",
    "id": "n5PCnFO3F_z1",
    "cell_id": "00142-f1e3f95e-52a8-4546-9dfb-e628aee03dad",
    "deepnote_cell_type": "markdown"
   }
  },
  {
   "cell_type": "markdown",
   "source": "Taken from [here](https://docs.python.org/3/tutorial/datastructures.html#list-comprehensions): List comprehensions provide a concise way to create lists. Common applications are to make new lists where each element is the result of some operations applied to each member of another sequence or iterable, or to create a subsequence of those elements that satisfy a certain condition.",
   "metadata": {
    "colab_type": "text",
    "id": "mels66d2F_z2",
    "cell_id": "00143-cd725699-69ce-4b14-9331-fc3e1b984d0e",
    "deepnote_cell_type": "markdown"
   }
  },
  {
   "cell_type": "code",
   "metadata": {
    "colab": {},
    "colab_type": "code",
    "id": "o0BpeNa0F_z3",
    "outputId": "0e0430f6-1453-4001-c042-0d0af3ebece2",
    "cell_id": "00144-d03421d8-09dd-4c54-95fc-ff2e296eb5d3",
    "deepnote_cell_type": "code"
   },
   "source": "[x**2 for x in range(10)]",
   "execution_count": 48,
   "outputs": [
    {
     "data": {
      "text/plain": "[0, 1, 4, 9, 16, 25, 36, 49, 64, 81]"
     },
     "execution_count": 48,
     "metadata": {},
     "output_type": "execute_result"
    }
   ]
  },
  {
   "cell_type": "code",
   "metadata": {
    "colab": {},
    "colab_type": "code",
    "id": "AQW_kdviF_z5",
    "outputId": "893ef954-32f9-4822-ccce-55fafdb21f8d",
    "cell_id": "00145-27cc9103-afe6-4897-ab89-e7e1d0f34741",
    "deepnote_cell_type": "code"
   },
   "source": "[(x, y) for x in [1,2,3] for y in [3,1,4] if x != y]",
   "execution_count": 49,
   "outputs": [
    {
     "data": {
      "text/plain": "[(1, 3), (1, 4), (2, 3), (2, 1), (2, 4), (3, 1), (3, 4)]"
     },
     "execution_count": 49,
     "metadata": {},
     "output_type": "execute_result"
    }
   ]
  },
  {
   "cell_type": "code",
   "metadata": {
    "colab": {},
    "colab_type": "code",
    "id": "2Zl1DwNy40Z7",
    "cell_id": "00146-be9ef7b8-23ce-4681-94cb-53e349445bb7",
    "deepnote_cell_type": "code"
   },
   "source": "l=[ ['A','B','C'],['D','E','F'],['G','H','I']  ]",
   "execution_count": 51,
   "outputs": []
  },
  {
   "cell_type": "markdown",
   "source": "we can extract the list that contains `'H'`",
   "metadata": {
    "colab_type": "text",
    "id": "MMPgcuo_40Z-",
    "cell_id": "00147-e91196c0-77fc-4b30-a17c-9617e71f5937",
    "deepnote_cell_type": "markdown"
   }
  },
  {
   "cell_type": "code",
   "metadata": {
    "colab": {},
    "colab_type": "code",
    "id": "20smnSnS40Z_",
    "outputId": "a90e932f-5723-4595-925e-be04d80e427e",
    "cell_id": "00148-fb761a32-6988-4f6c-81a1-900faf981712",
    "deepnote_cell_type": "code"
   },
   "source": "[  [s for s in ll if 'H' in ll ] for ll in l if len( [s for s in ll if 'H' in ll ]) >0]",
   "execution_count": 52,
   "outputs": [
    {
     "data": {
      "text/plain": "[['G', 'H', 'I']]"
     },
     "execution_count": 52,
     "metadata": {},
     "output_type": "execute_result"
    }
   ]
  },
  {
   "cell_type": "markdown",
   "source": "### Reversed comprehension\nWe can use the method `reversed(...)` to generate an iterator with the revesersed list so that the original list is kept.",
   "metadata": {
    "colab_type": "text",
    "id": "J0-SP0qP40aB",
    "cell_id": "00149-ba2b3d50-e292-42a0-b183-849aad668e48",
    "deepnote_cell_type": "markdown"
   }
  },
  {
   "cell_type": "code",
   "metadata": {
    "cell_id": "00150-a8e26da0-94cf-4991-8a4a-f7ed1dd218d2",
    "deepnote_cell_type": "code"
   },
   "source": "lista",
   "execution_count": 53,
   "outputs": [
    {
     "data": {
      "text/plain": "[True, 42, 'I am second', 'xyz']"
     },
     "execution_count": 53,
     "metadata": {},
     "output_type": "execute_result"
    }
   ]
  },
  {
   "cell_type": "code",
   "metadata": {
    "colab": {
     "base_uri": "https://localhost:8080/",
     "height": 52
    },
    "colab_type": "code",
    "id": "1XNRSTG040aF",
    "outputId": "9b66acdf-9bb9-48e7-9fbc-4ed653e4afbd",
    "cell_id": "00151-c5f30d41-9775-4dbb-a741-bd2947f8f444",
    "deepnote_cell_type": "code"
   },
   "source": "print('reversed: {}'.format( list(reversed(lista)) ))\nprint('original: {}'.format(lista))",
   "execution_count": 34,
   "outputs": [
    {
     "name": "stdout",
     "output_type": "stream",
     "text": "reversed: ['xyz', 'I am second', 42, True]\noriginal: [True, 42, 'I am second', 'xyz']\n"
    }
   ]
  },
  {
   "cell_type": "code",
   "metadata": {
    "colab": {
     "base_uri": "https://localhost:8080/",
     "height": 35
    },
    "colab_type": "code",
    "id": "6HxZreij_5tu",
    "outputId": "0816d6ef-5ecb-4818-ec50-081a7239a22a",
    "cell_id": "00152-794b53b9-d350-4b65-857c-d49bb9da22f0",
    "deepnote_cell_type": "code"
   },
   "source": "",
   "execution_count": 33,
   "outputs": [
    {
     "data": {
      "text/plain": "['xyz', 'I am second', 42, True]"
     },
     "execution_count": 33,
     "metadata": {
      "tags": []
     },
     "output_type": "execute_result"
    }
   ]
  },
  {
   "cell_type": "markdown",
   "source": "## Tuples",
   "metadata": {
    "colab_type": "text",
    "id": "txgjCoaIF_z7",
    "cell_id": "00153-98fee61f-e155-45ea-ae9a-59845ba49a0a",
    "deepnote_cell_type": "markdown"
   }
  },
  {
   "cell_type": "markdown",
   "source": "A tuple is almost equal to a list, except that once declared its elements, it is not possible to modify them. Therefore, tuples are useful only when you want to store some elements but not modify them.",
   "metadata": {
    "colab_type": "text",
    "id": "OtJzxOFtF_z8",
    "cell_id": "00154-5a0084bd-f33e-47e1-a5a1-3e513e36368a",
    "deepnote_cell_type": "markdown"
   }
  },
  {
   "cell_type": "code",
   "metadata": {
    "colab": {},
    "colab_type": "code",
    "id": "f3skilG2F_z8",
    "outputId": "1b1ba135-88ba-4bbd-a489-29b6458a45f7",
    "cell_id": "00155-256f5c89-6a1b-474d-91c2-982e7bb4f433",
    "deepnote_cell_type": "code"
   },
   "source": "#A tuple is declared using ()\ntupla = (\"abc\", 42, 3.1415)\ntupla",
   "execution_count": 65,
   "outputs": [
    {
     "data": {
      "text/plain": "('abc', 42, 3.1415)"
     },
     "execution_count": 65,
     "metadata": {},
     "output_type": "execute_result"
    }
   ]
  },
  {
   "cell_type": "markdown",
   "source": "Note: single element tuple",
   "metadata": {
    "colab_type": "text",
    "id": "uhv7dS2Q-2uh",
    "cell_id": "00156-44f08913-fa8d-45ad-b1b7-29bfec4bcdd6",
    "deepnote_cell_type": "markdown"
   }
  },
  {
   "cell_type": "code",
   "metadata": {
    "cell_id": "00157-0bf093c5-fcd7-4037-bebf-e6da8d4a84c6",
    "deepnote_cell_type": "code"
   },
   "source": "(2) #equivalent to 2",
   "execution_count": 66,
   "outputs": [
    {
     "data": {
      "text/plain": "2"
     },
     "execution_count": 66,
     "metadata": {},
     "output_type": "execute_result"
    }
   ]
  },
  {
   "cell_type": "code",
   "metadata": {
    "colab": {},
    "colab_type": "code",
    "id": "gZlzseaI-8Xm",
    "cell_id": "00158-e728a1f9-7751-45e2-8143-436b36f676b8",
    "deepnote_cell_type": "code"
   },
   "source": "t=(2,)",
   "execution_count": 67,
   "outputs": []
  },
  {
   "cell_type": "code",
   "metadata": {
    "colab": {
     "base_uri": "https://localhost:8080/",
     "height": 35
    },
    "colab_type": "code",
    "id": "Fu11CK1L_TYA",
    "outputId": "d691f670-c11c-4882-9a1b-143b48853075",
    "cell_id": "00159-ad542ff7-19c9-4aff-99a3-baac96e5ecb1",
    "deepnote_cell_type": "code"
   },
   "source": "len(t)",
   "execution_count": 68,
   "outputs": [
    {
     "data": {
      "text/plain": "1"
     },
     "execution_count": 68,
     "metadata": {},
     "output_type": "execute_result"
    }
   ]
  },
  {
   "cell_type": "code",
   "metadata": {
    "colab": {
     "base_uri": "https://localhost:8080/",
     "height": 166
    },
    "colab_type": "code",
    "id": "slJ7Lrfh_XAb",
    "outputId": "17090d2e-f4c0-43ac-e1fd-ddf02e26df1c",
    "cell_id": "00160-b811c8ab-f84a-46b9-bc19-fb607985fbfc",
    "deepnote_cell_type": "code"
   },
   "source": "t[0]",
   "execution_count": 70,
   "outputs": [
    {
     "data": {
      "text/plain": "2"
     },
     "execution_count": 70,
     "metadata": {},
     "output_type": "execute_result"
    }
   ]
  },
  {
   "cell_type": "markdown",
   "source": "The comprenhension tuple also works",
   "metadata": {
    "colab_type": "text",
    "id": "x3M6C67140aW",
    "cell_id": "00161-3f420b93-2467-4cd1-a97b-15b274dcc657",
    "deepnote_cell_type": "markdown"
   }
  },
  {
   "cell_type": "code",
   "metadata": {
    "colab": {},
    "colab_type": "code",
    "id": "PYlzClDB40aX",
    "outputId": "c10f27e1-fb96-4760-9ab9-0eafcdb55a03",
    "cell_id": "00162-a415fe35-389c-414c-a715-b680e65d3f41",
    "deepnote_cell_type": "code"
   },
   "source": "tuple( (t for t in tupla)  )",
   "execution_count": 71,
   "outputs": [
    {
     "data": {
      "text/plain": "('abc', 42, 3.1415)"
     },
     "execution_count": 71,
     "metadata": {},
     "output_type": "execute_result"
    }
   ]
  },
  {
   "cell_type": "markdown",
   "source": "`any` can extract a true value from a comprension tuple (see also `all`: https://docs.python.org/3/library/functions.html#all). \nIn fact, for the following nested list:",
   "metadata": {
    "colab_type": "text",
    "id": "gh7KXCGH40aa",
    "cell_id": "00163-6ec69b7f-7fc2-451e-9672-7a13487adb97",
    "deepnote_cell_type": "markdown"
   }
  },
  {
   "cell_type": "code",
   "metadata": {
    "colab": {},
    "colab_type": "code",
    "id": "gM2YlwEF40aa",
    "cell_id": "00164-358dc760-b8e8-4585-bfcd-93d6241b7144",
    "deepnote_cell_type": "code"
   },
   "source": "l=[ ['A','B','C'],['D','E','F'],['G','H','I']   ]",
   "execution_count": 72,
   "outputs": []
  },
  {
   "cell_type": "markdown",
   "source": "we can extract the list that contains `'H'` more easily",
   "metadata": {
    "colab_type": "text",
    "id": "-3ZrGX6K40ac",
    "cell_id": "00165-7820b06a-4910-4efd-90d2-37e9738bbef6",
    "deepnote_cell_type": "markdown"
   }
  },
  {
   "cell_type": "code",
   "metadata": {
    "cell_id": "00166-1f463c7a-074e-42be-ae04-2d4f44be198d",
    "deepnote_cell_type": "code"
   },
   "source": "[ll for ll in l]",
   "execution_count": 78,
   "outputs": [
    {
     "data": {
      "text/plain": "[['A', 'B', 'C'], ['D', 'E', 'F'], ['G', 'H', 'I']]"
     },
     "execution_count": 78,
     "metadata": {},
     "output_type": "execute_result"
    }
   ]
  },
  {
   "cell_type": "code",
   "metadata": {
    "cell_id": "00167-0a3f82b7-bcab-4f03-ae92-8a3f1a450853",
    "deepnote_cell_type": "code"
   },
   "source": "any((s=='L' for s in ['G', 'H', 'I']))",
   "execution_count": 82,
   "outputs": [
    {
     "data": {
      "text/plain": "False"
     },
     "execution_count": 82,
     "metadata": {},
     "output_type": "execute_result"
    }
   ]
  },
  {
   "cell_type": "code",
   "metadata": {
    "colab": {},
    "colab_type": "code",
    "id": "_ltlDGMz40ad",
    "outputId": "44950aec-0c22-4bf9-c442-9f22dfc3ec6a",
    "cell_id": "00168-14ee9a7d-a062-410d-b932-0eab109beac8",
    "deepnote_cell_type": "code"
   },
   "source": "[ll for ll in l if any( s=='H' for s in ll  ) ]",
   "execution_count": 83,
   "outputs": [
    {
     "data": {
      "text/plain": "[['G', 'H', 'I']]"
     },
     "execution_count": 83,
     "metadata": {},
     "output_type": "execute_result"
    }
   ]
  },
  {
   "cell_type": "markdown",
   "source": "With the function `zip` we can generate dictionary-like tuple from two lists:",
   "metadata": {
    "colab_type": "text",
    "id": "J9rPXb0a40ag",
    "cell_id": "00169-803fda79-7313-4eaa-b867-b4748e3bb3b1",
    "deepnote_cell_type": "markdown"
   }
  },
  {
   "cell_type": "code",
   "metadata": {
    "colab": {
     "base_uri": "https://localhost:8080/",
     "height": 35
    },
    "colab_type": "code",
    "id": "13619Vve_qNE",
    "outputId": "ce6b81b4-c6e0-4a88-ef7b-f383e55d730a",
    "cell_id": "00170-3a093a73-05f4-40ee-82b8-8bc36637618b",
    "deepnote_cell_type": "code"
   },
   "source": "list(zip( ['A','B','C'],[1,2,3]  ))",
   "execution_count": 86,
   "outputs": [
    {
     "data": {
      "text/plain": "[('A', 1), ('B', 2), ('C', 3)]"
     },
     "execution_count": 86,
     "metadata": {},
     "output_type": "execute_result"
    }
   ]
  },
  {
   "cell_type": "code",
   "metadata": {
    "colab": {},
    "colab_type": "code",
    "id": "qVT1k-en40ag",
    "outputId": "96f56944-57cc-471c-c16f-857aa41e2377",
    "cell_id": "00171-0474af69-315e-402d-8775-19f56274b0ef",
    "deepnote_cell_type": "code"
   },
   "source": "list(zip( ['A','B','C'],[1,2,3]  ))",
   "execution_count": 85,
   "outputs": [
    {
     "data": {
      "text/plain": "[('A', 1), ('B', 2), ('C', 3)]"
     },
     "execution_count": 85,
     "metadata": {},
     "output_type": "execute_result"
    }
   ]
  },
  {
   "cell_type": "code",
   "metadata": {
    "colab": {},
    "colab_type": "code",
    "id": "uAiixodKF_z-",
    "outputId": "4e199236-94c9-486f-a792-956923d3f6d5",
    "cell_id": "00172-928ae2c5-c92b-4ec5-b7ff-d3c8195dc2f9",
    "deepnote_cell_type": "code"
   },
   "source": "#It is not possible to add more elements\ntupla.append(\"xy\")",
   "execution_count": 87,
   "outputs": [
    {
     "ename": "AttributeError",
     "evalue": "'tuple' object has no attribute 'append'",
     "output_type": "error",
     "traceback": [
      "\u001b[0;31m---------------------------------------------------------------------------\u001b[0m",
      "\u001b[0;31mAttributeError\u001b[0m                            Traceback (most recent call last)",
      "\u001b[0;32m<ipython-input-87-4cc56b436273>\u001b[0m in \u001b[0;36m<module>\u001b[0;34m\u001b[0m\n\u001b[1;32m      1\u001b[0m \u001b[0;31m#It is not possible to add more elements\u001b[0m\u001b[0;34m\u001b[0m\u001b[0;34m\u001b[0m\u001b[0;34m\u001b[0m\u001b[0m\n\u001b[0;32m----> 2\u001b[0;31m \u001b[0mtupla\u001b[0m\u001b[0;34m.\u001b[0m\u001b[0mappend\u001b[0m\u001b[0;34m(\u001b[0m\u001b[0;34m\"xy\"\u001b[0m\u001b[0;34m)\u001b[0m\u001b[0;34m\u001b[0m\u001b[0;34m\u001b[0m\u001b[0m\n\u001b[0m",
      "\u001b[0;31mAttributeError\u001b[0m: 'tuple' object has no attribute 'append'"
     ]
    }
   ]
  },
  {
   "cell_type": "code",
   "metadata": {
    "colab": {},
    "colab_type": "code",
    "id": "GiY-kyfHF_0A",
    "outputId": "76c602ca-e8f6-4608-fd5a-dff8cfdaf7a4",
    "cell_id": "00173-b004a635-74e6-4739-88a8-ffab9d845090",
    "deepnote_cell_type": "code"
   },
   "source": "#It is not possible to delete an element\ndel tupla[0]",
   "execution_count": 88,
   "outputs": [
    {
     "ename": "TypeError",
     "evalue": "'tuple' object doesn't support item deletion",
     "output_type": "error",
     "traceback": [
      "\u001b[0;31m---------------------------------------------------------------------------\u001b[0m",
      "\u001b[0;31mTypeError\u001b[0m                                 Traceback (most recent call last)",
      "\u001b[0;32m<ipython-input-88-c05ec550c1d0>\u001b[0m in \u001b[0;36m<module>\u001b[0;34m\u001b[0m\n\u001b[1;32m      1\u001b[0m \u001b[0;31m#It is not possible to delete an element\u001b[0m\u001b[0;34m\u001b[0m\u001b[0;34m\u001b[0m\u001b[0;34m\u001b[0m\u001b[0m\n\u001b[0;32m----> 2\u001b[0;31m \u001b[0;32mdel\u001b[0m \u001b[0mtupla\u001b[0m\u001b[0;34m[\u001b[0m\u001b[0;36m0\u001b[0m\u001b[0;34m]\u001b[0m\u001b[0;34m\u001b[0m\u001b[0;34m\u001b[0m\u001b[0m\n\u001b[0m",
      "\u001b[0;31mTypeError\u001b[0m: 'tuple' object doesn't support item deletion"
     ]
    }
   ]
  },
  {
   "cell_type": "code",
   "metadata": {
    "colab": {},
    "colab_type": "code",
    "id": "jwJPysSkF_0D",
    "outputId": "f99022e1-245d-4534-fa4f-b4584786e768",
    "cell_id": "00174-30f10522-e562-422a-af00-376cce233822",
    "deepnote_cell_type": "code"
   },
   "source": "#It is not possible to modify an existing element\ntupla[0] = \"xy\"",
   "execution_count": 89,
   "outputs": [
    {
     "ename": "TypeError",
     "evalue": "'tuple' object does not support item assignment",
     "output_type": "error",
     "traceback": [
      "\u001b[0;31m---------------------------------------------------------------------------\u001b[0m",
      "\u001b[0;31mTypeError\u001b[0m                                 Traceback (most recent call last)",
      "\u001b[0;32m<ipython-input-89-4e97d1641827>\u001b[0m in \u001b[0;36m<module>\u001b[0;34m\u001b[0m\n\u001b[1;32m      1\u001b[0m \u001b[0;31m#It is not possible to modify an existing element\u001b[0m\u001b[0;34m\u001b[0m\u001b[0;34m\u001b[0m\u001b[0;34m\u001b[0m\u001b[0m\n\u001b[0;32m----> 2\u001b[0;31m \u001b[0mtupla\u001b[0m\u001b[0;34m[\u001b[0m\u001b[0;36m0\u001b[0m\u001b[0;34m]\u001b[0m \u001b[0;34m=\u001b[0m \u001b[0;34m\"xy\"\u001b[0m\u001b[0;34m\u001b[0m\u001b[0;34m\u001b[0m\u001b[0m\n\u001b[0m",
      "\u001b[0;31mTypeError\u001b[0m: 'tuple' object does not support item assignment"
     ]
    }
   ]
  },
  {
   "cell_type": "markdown",
   "source": "## Dictionaries",
   "metadata": {
    "colab_type": "text",
    "id": "rafwug2SF_0F",
    "cell_id": "00175-acb86315-216f-43fd-b3f1-6b1d62f8e1ee",
    "deepnote_cell_type": "markdown"
   }
  },
  {
   "cell_type": "markdown",
   "source": "Dictionaries are labeled lists: with keys and values. They are extremely useful when manipulating complex data.",
   "metadata": {
    "colab_type": "text",
    "id": "7vlLjdVRF_0G",
    "cell_id": "00176-0dee92e2-0919-4509-ab7b-8c4ae026afe2",
    "deepnote_cell_type": "markdown"
   }
  },
  {
   "cell_type": "code",
   "metadata": {
    "colab": {
     "base_uri": "https://localhost:8080/",
     "height": 55
    },
    "colab_type": "code",
    "id": "vUXMEigkF_0G",
    "outputId": "c806d219-32bd-40f9-bbc6-16102e4514ef",
    "cell_id": "00177-2aad3f22-aeba-4264-9e09-82f40f9a9052",
    "deepnote_cell_type": "code"
   },
   "source": "#A dictionary is declared using {}, and specifying the name of the component, then the character : followed by the element to store.\ndictionary={ 'Kenia'         :'Nairobi',\n             'Noruega'       :'Oslo',\n             'Finlandia'     :'Helsinski',\n             'Rusia'         :'Moscú',\n             'Rio de Janeiro':'Rio',\n             'Japón'         :'Tokio',\n             'Colorado'      :'Denver',\n             'Alemania'      :'Berlin',\n             'Colombia'      :'Bogotá'}\nprint(dictionary)\n#Note the order in a dictionary does not matter as one identifies a single element through a string, not a number",
   "execution_count": 91,
   "outputs": [
    {
     "name": "stdout",
     "output_type": "stream",
     "text": "{'Kenia': 'Nairobi', 'Noruega': 'Oslo', 'Finlandia': 'Helsinski', 'Rusia': 'Moscú', 'Rio de Janeiro': 'Rio', 'Japón': 'Tokio', 'Colorado': 'Denver', 'Alemania': 'Berlin', 'Colombia': 'Bogotá'}\n"
    }
   ]
  },
  {
   "cell_type": "markdown",
   "source": "Instead of a number, an element of a dictionary is accessed with the key of the component",
   "metadata": {
    "colab_type": "text",
    "id": "IWoHFWTx40av",
    "cell_id": "00178-f0530215-2bee-40ff-b000-f658b73c3fa9",
    "deepnote_cell_type": "markdown"
   }
  },
  {
   "cell_type": "code",
   "metadata": {
    "cell_id": "00179-cf329bd3-ad70-480b-bbad-53f885000c47",
    "deepnote_cell_type": "code"
   },
   "source": "dictionary",
   "execution_count": 92,
   "outputs": [
    {
     "data": {
      "text/plain": "{'Kenia': 'Nairobi',\n 'Noruega': 'Oslo',\n 'Finlandia': 'Helsinski',\n 'Rusia': 'Moscú',\n 'Rio de Janeiro': 'Rio',\n 'Japón': 'Tokio',\n 'Colorado': 'Denver',\n 'Alemania': 'Berlin',\n 'Colombia': 'Bogotá'}"
     },
     "execution_count": 92,
     "metadata": {},
     "output_type": "execute_result"
    }
   ]
  },
  {
   "cell_type": "code",
   "metadata": {
    "colab": {
     "base_uri": "https://localhost:8080/",
     "height": 35
    },
    "colab_type": "code",
    "id": "bVHKdCigF_0K",
    "outputId": "0cd39b16-fb1d-4a41-d079-ea099257efb8",
    "cell_id": "00180-03d84b01-c18b-4ff8-ba65-fab7292576b3",
    "deepnote_cell_type": "code"
   },
   "source": "print('{} ♥ {}'.format( dictionary['Japón'], dictionary['Rio de Janeiro']) )",
   "execution_count": 93,
   "outputs": [
    {
     "name": "stdout",
     "output_type": "stream",
     "text": "Tokio ♥ Rio\n"
    }
   ]
  },
  {
   "cell_type": "code",
   "metadata": {
    "colab": {
     "base_uri": "https://localhost:8080/",
     "height": 35
    },
    "colab_type": "code",
    "id": "QK-1FnAnF_0M",
    "outputId": "da43655e-b6f8-4740-e3cc-c0cb430fd4e6",
    "cell_id": "00181-721e1c8d-559d-4dec-9f51-16f1b699838c",
    "deepnote_cell_type": "code"
   },
   "source": "#The elements of the dictionary may be of any type\ndictionary2 = { \"Enteros\":[1,2,3,4,5], \n                \"Ciudad\" :\"Medellin\", \n                \"Cédula\" :1128400433, \n                \"Colores\":[\"Amarillo\", \"Azul\", \"Rojo\"] }\nprint(dictionary2[\"Colores\"][1])",
   "execution_count": 94,
   "outputs": [
    {
     "name": "stdout",
     "output_type": "stream",
     "text": "Azul\n"
    }
   ]
  },
  {
   "cell_type": "code",
   "metadata": {
    "colab": {
     "base_uri": "https://localhost:8080/",
     "height": 35
    },
    "colab_type": "code",
    "id": "j5epa2zcF_05",
    "outputId": "49dc833e-cff1-4990-c933-250c75072679",
    "cell_id": "00182-b05c88f3-8661-4d19-8786-4b6480f96ffb",
    "deepnote_cell_type": "code"
   },
   "source": "#The elements of the dictionary can be modified only by changing directly such an element\ndictionary2[\"Ciudad\"] = \"Bogota\"\nprint(dictionary2)",
   "execution_count": 95,
   "outputs": [
    {
     "name": "stdout",
     "output_type": "stream",
     "text": "{'Enteros': [1, 2, 3, 4, 5], 'Ciudad': 'Bogota', 'Cédula': 1128400433, 'Colores': ['Amarillo', 'Azul', 'Rojo']}\n"
    }
   ]
  },
  {
   "cell_type": "code",
   "metadata": {
    "colab": {
     "base_uri": "https://localhost:8080/",
     "height": 55
    },
    "colab_type": "code",
    "id": "fTtrGPXsF_08",
    "outputId": "b4eb22a4-2f18-4761-aafa-2b90be7e8041",
    "cell_id": "00183-98bdbade-02ef-4c96-9274-7cdf846e87a9",
    "deepnote_cell_type": "code"
   },
   "source": "#Adding a new element is possible by only defining the new component\ndictionary2[\"Pais\"] = \"Colombia\"\ndictionary2[\"País\"] = \"Colombia\"\nprint( dictionary2 )",
   "execution_count": 96,
   "outputs": [
    {
     "name": "stdout",
     "output_type": "stream",
     "text": "{'Enteros': [1, 2, 3, 4, 5], 'Ciudad': 'Bogota', 'Cédula': 1128400433, 'Colores': ['Amarillo', 'Azul', 'Rojo'], 'Pais': 'Colombia', 'País': 'Colombia'}\n"
    }
   ]
  },
  {
   "cell_type": "code",
   "metadata": {
    "colab": {},
    "colab_type": "code",
    "id": "qhMqpewqkxaF",
    "cell_id": "00184-4935b754-28ed-45b9-bfbf-4d87d820ddd9",
    "deepnote_cell_type": "code"
   },
   "source": "#dictionary2.update({'Pais':'Colombia'})",
   "execution_count": null,
   "outputs": []
  },
  {
   "cell_type": "code",
   "metadata": {
    "colab": {
     "base_uri": "https://localhost:8080/",
     "height": 35
    },
    "colab_type": "code",
    "id": "X3Knds5oF_0_",
    "outputId": "41cd14f7-f549-49e6-ff3c-97cece9c2481",
    "cell_id": "00185-dd7f8b7a-a84c-43cc-94bf-920eff10ceed",
    "deepnote_cell_type": "code"
   },
   "source": "#The command del can be also used for deleting an element, as a list\ndel dictionary2[\"Pais\"]\nprint(dictionary2)",
   "execution_count": 97,
   "outputs": [
    {
     "name": "stdout",
     "output_type": "stream",
     "text": "{'Enteros': [1, 2, 3, 4, 5], 'Ciudad': 'Bogota', 'Cédula': 1128400433, 'Colores': ['Amarillo', 'Azul', 'Rojo'], 'País': 'Colombia'}\n"
    }
   ]
  },
  {
   "cell_type": "markdown",
   "source": "With the previous `zip` function to create tuples from lists, we can create a dictionary from the two lists:",
   "metadata": {
    "colab_type": "text",
    "id": "U51G2o8M40a7",
    "cell_id": "00186-8e520c46-2726-484a-84d8-e27f8d5b912f",
    "deepnote_cell_type": "markdown"
   }
  },
  {
   "cell_type": "code",
   "metadata": {
    "colab": {
     "base_uri": "https://localhost:8080/",
     "height": 35
    },
    "colab_type": "code",
    "id": "h_mODhqZ40a7",
    "outputId": "b42b9750-6b54-4eae-d225-c175fcdcf28a",
    "cell_id": "00187-ac485a4d-8749-4147-9498-5b3df3fdeb78",
    "deepnote_cell_type": "code"
   },
   "source": "dict(zip( ['A','B','C'],[1,2,3]  ))",
   "execution_count": 47,
   "outputs": [
    {
     "data": {
      "text/plain": "{'A': 1, 'B': 2, 'C': 3}"
     },
     "execution_count": 47,
     "metadata": {
      "tags": []
     },
     "output_type": "execute_result"
    }
   ]
  },
  {
   "cell_type": "markdown",
   "source": "**Activity**: Creates a diccionary for the values: `['xyz',3,4.5]` with integer keys starting with zero. In this way, the dictionary could behave as list",
   "metadata": {
    "colab_type": "text",
    "id": "LxMk7Iq3kAJm",
    "cell_id": "00188-7ad8d760-6220-48a9-bcff-9e5a1b3535bd",
    "deepnote_cell_type": "markdown"
   }
  },
  {
   "cell_type": "code",
   "metadata": {
    "colab": {},
    "colab_type": "code",
    "id": "UKRSPIQe40a9",
    "cell_id": "00189-3ef32f75-5897-4dc1-872a-d7815babd6bb",
    "deepnote_cell_type": "code"
   },
   "source": "l={}\nl[0]='xyz'\nl[1]=3\nl[2]=4.5",
   "execution_count": 98,
   "outputs": []
  },
  {
   "cell_type": "code",
   "metadata": {
    "cell_id": "00190-08da3f14-2724-4e9a-b9a9-ef38ce793782",
    "deepnote_cell_type": "code"
   },
   "source": "l",
   "execution_count": 99,
   "outputs": [
    {
     "data": {
      "text/plain": "{0: 'xyz', 1: 3, 2: 4.5}"
     },
     "execution_count": 99,
     "metadata": {},
     "output_type": "execute_result"
    }
   ]
  },
  {
   "cell_type": "code",
   "metadata": {
    "cell_id": "00191-01697720-d3a4-40af-9ad9-db96ad98c5cf",
    "deepnote_cell_type": "code"
   },
   "source": "l[0]",
   "execution_count": 100,
   "outputs": [
    {
     "data": {
      "text/plain": "'xyz'"
     },
     "execution_count": 100,
     "metadata": {},
     "output_type": "execute_result"
    }
   ]
  },
  {
   "cell_type": "code",
   "metadata": {
    "colab": {},
    "colab_type": "code",
    "id": "Y-WFXboKC-iG",
    "cell_id": "00192-ee6cb581-3db0-457c-9d6e-c0e019f4a09e",
    "deepnote_cell_type": "code"
   },
   "source": "d[3]=5.5",
   "execution_count": null,
   "outputs": []
  },
  {
   "cell_type": "markdown",
   "source": "# Bucles and Conditionals",
   "metadata": {
    "colab_type": "text",
    "id": "oMhSjbqYF_1C",
    "cell_id": "00193-7e91df8a-eda1-4c27-81f3-31632f1f9d02",
    "deepnote_cell_type": "markdown"
   }
  },
  {
   "cell_type": "markdown",
   "source": "## if",
   "metadata": {
    "colab_type": "text",
    "id": "JRx2uDsXF_1C",
    "cell_id": "00194-ccd82614-c309-4aae-888a-0699cfc1f46f",
    "deepnote_cell_type": "markdown"
   }
  },
  {
   "cell_type": "markdown",
   "source": "Conditionals are useful when we want to check some condition.\nThe statements `elif` and `else` can be used when more than one condition need to be used, or when there is something to do when some condition is not fulfilled.",
   "metadata": {
    "colab_type": "text",
    "id": "lOnnZSRpF_1D",
    "cell_id": "00195-1c81bf06-b638-401d-812d-b79c9171eaa1",
    "deepnote_cell_type": "markdown"
   }
  },
  {
   "cell_type": "code",
   "metadata": {
    "colab": {
     "base_uri": "https://localhost:8080/",
     "height": 35
    },
    "colab_type": "code",
    "id": "RLzAJUYrF_1D",
    "outputId": "3454e51b-5dbf-4470-8192-1005c1d3cbdf",
    "cell_id": "00196-034330d1-5b3b-4539-86db-8350e8778936",
    "deepnote_cell_type": "code"
   },
   "source": "x = 10\ny = 2\nif x > 5 and y==2:\n    print( \"True\" )",
   "execution_count": 101,
   "outputs": [
    {
     "name": "stdout",
     "output_type": "stream",
     "text": "True\n"
    }
   ]
  },
  {
   "cell_type": "code",
   "metadata": {
    "colab": {
     "base_uri": "https://localhost:8080/",
     "height": 35
    },
    "colab_type": "code",
    "id": "Ec7sFHSmF_1H",
    "outputId": "5e5a77ce-f453-45a1-a3d5-58194cd371ee",
    "cell_id": "00197-bd759858-0df5-4352-ab75-f1c10c129b36",
    "deepnote_cell_type": "code"
   },
   "source": "x = 4\ny = 3\nif x>5 or y<2:\n    print( \"True 1\" )\nelif x==4:\n    print( \"True 2\" )\nelse:\n    print( \"False\" )",
   "execution_count": 102,
   "outputs": [
    {
     "name": "stdout",
     "output_type": "stream",
     "text": "True 2\n"
    }
   ]
  },
  {
   "cell_type": "markdown",
   "source": "## for",
   "metadata": {
    "colab_type": "text",
    "id": "RKDoomeWF_1J",
    "cell_id": "00198-ed773f4e-f08e-43d6-970f-7c4e7019a757",
    "deepnote_cell_type": "markdown"
   }
  },
  {
   "cell_type": "markdown",
   "source": "`For` cycles are specially useful when we want to sweep a set of elements with a known size.",
   "metadata": {
    "colab_type": "text",
    "id": "8MS64bApF_1J",
    "cell_id": "00199-b44658ce-9e0d-4402-adee-82a657d3411f",
    "deepnote_cell_type": "markdown"
   }
  },
  {
   "cell_type": "code",
   "metadata": {
    "colab": {
     "base_uri": "https://localhost:8080/",
     "height": 104
    },
    "colab_type": "code",
    "id": "BGnKwruIF_1K",
    "outputId": "2f93c5e8-66a6-4e74-f268-523891a23892",
    "cell_id": "00200-6566e5ac-b506-4fb4-a8ed-503ef2f5591b",
    "deepnote_cell_type": "code"
   },
   "source": "for i in range(0,5,1):\n    print( i, i**2)",
   "execution_count": 103,
   "outputs": [
    {
     "name": "stdout",
     "output_type": "stream",
     "text": "0 0\n1 1\n2 4\n3 9\n4 16\n"
    }
   ]
  },
  {
   "cell_type": "markdown",
   "source": "__Activity__: change print with format",
   "metadata": {
    "colab_type": "text",
    "id": "77PbzyH9EW_J",
    "cell_id": "00201-848f61f8-1f0f-4b60-ba67-52f8c6c0f914",
    "deepnote_cell_type": "markdown"
   }
  },
  {
   "cell_type": "code",
   "metadata": {
    "colab": {},
    "colab_type": "code",
    "id": "CEj1vWu_ElkK",
    "cell_id": "00202-2c2be090-0f25-4d95-b790-b0f637d79d6f",
    "deepnote_cell_type": "code"
   },
   "source": "",
   "execution_count": null,
   "outputs": []
  },
  {
   "cell_type": "code",
   "metadata": {
    "colab": {
     "base_uri": "https://localhost:8080/",
     "height": 35
    },
    "colab_type": "code",
    "id": "haLnqdCZF_1N",
    "outputId": "ba064e9c-e8e6-407b-8a9d-b63820f5397e",
    "cell_id": "00203-fe979c0c-86a7-4d7e-856c-e04e71e11d84",
    "deepnote_cell_type": "code"
   },
   "source": "suma = 0\nfor i in range(0,10,1):\n    suma += i**2 # suma = suma + i**2\nprint ( \"The result is %d\"%(suma) )",
   "execution_count": 105,
   "outputs": [
    {
     "name": "stdout",
     "output_type": "stream",
     "text": "The result is 285\n"
    }
   ]
  },
  {
   "cell_type": "code",
   "metadata": {
    "colab": {
     "base_uri": "https://localhost:8080/",
     "height": 104
    },
    "colab_type": "code",
    "id": "QmjcgnNbF_1P",
    "outputId": "08564dc9-b4da-4f21-ea97-0de3904aa9b8",
    "cell_id": "00204-04d50356-3b05-44ab-b8da-c2038d6a5b0d",
    "deepnote_cell_type": "code"
   },
   "source": "for language in ['Python', 'C', 'C++', 'Ruby', 'Java']:\n    print ( language )",
   "execution_count": 107,
   "outputs": [
    {
     "name": "stdout",
     "output_type": "stream",
     "text": "Python\nC\nC++\nRuby\nJava\n"
    }
   ]
  },
  {
   "cell_type": "markdown",
   "source": "As we see before, `for` can be used to build comprenhension lists",
   "metadata": {
    "colab_type": "text",
    "id": "C48dKFMC40bN",
    "cell_id": "00205-5ad00505-214e-479e-a2f8-1466c27b9fad",
    "deepnote_cell_type": "markdown"
   }
  },
  {
   "cell_type": "code",
   "metadata": {
    "colab": {
     "base_uri": "https://localhost:8080/",
     "height": 35
    },
    "colab_type": "code",
    "id": "lrkdxlQdF_1R",
    "outputId": "bad56fc0-48f2-4219-8b27-e8f6a2f05be9",
    "cell_id": "00206-06d3ac31-79de-4718-9d7f-524115f21017",
    "deepnote_cell_type": "code"
   },
   "source": "serie = [ i**2 for i in range(1,10) ]\nprint( serie )",
   "execution_count": 108,
   "outputs": [
    {
     "name": "stdout",
     "output_type": "stream",
     "text": "[1, 4, 9, 16, 25, 36, 49, 64, 81]\n"
    }
   ]
  },
  {
   "cell_type": "markdown",
   "source": "## while",
   "metadata": {
    "colab_type": "text",
    "id": "Vk6CUxqjF_1S",
    "cell_id": "00207-40757f14-9255-462c-b874-9aaab23a721d",
    "deepnote_cell_type": "markdown"
   }
  },
  {
   "cell_type": "markdown",
   "source": "`While` cycles are specially useful when we want to sweep a set of elements with an  unknown size.",
   "metadata": {
    "colab_type": "text",
    "id": "kys-BDH-F_1T",
    "cell_id": "00208-4de1938d-8c8b-424d-93cc-760a1599630f",
    "deepnote_cell_type": "markdown"
   }
  },
  {
   "cell_type": "markdown",
   "source": "Before we check the functions `input` and `int` of Python",
   "metadata": {
    "cell_id": "00209-46a116c6-c95f-4c88-b54b-12323ddf1b8f",
    "deepnote_cell_type": "markdown"
   }
  },
  {
   "cell_type": "code",
   "metadata": {
    "cell_id": "00210-7d5f306b-eadb-41c8-a7a5-8620a9911e9c",
    "deepnote_cell_type": "code"
   },
   "source": "edad=input('¿What is your age, Jesus?:\\n')",
   "execution_count": null,
   "outputs": []
  },
  {
   "cell_type": "code",
   "metadata": {
    "cell_id": "00211-445d9a7e-1813-495e-ac39-78c7ffdb3a06",
    "deepnote_cell_type": "code"
   },
   "source": "int(edad)",
   "execution_count": 120,
   "outputs": [
    {
     "data": {
      "text/plain": "33"
     },
     "execution_count": 120,
     "metadata": {},
     "output_type": "execute_result"
    }
   ]
  },
  {
   "cell_type": "markdown",
   "source": "Bonus: some time the input must be hidden",
   "metadata": {
    "cell_id": "00212-a1f22d10-3b95-4b8b-9346-b872991e56c2",
    "deepnote_cell_type": "markdown"
   }
  },
  {
   "cell_type": "code",
   "metadata": {
    "cell_id": "00213-b115e9d4-16aa-4611-833a-bdbc56c614ea",
    "deepnote_cell_type": "code"
   },
   "source": "import getpass",
   "execution_count": 172,
   "outputs": []
  },
  {
   "cell_type": "code",
   "metadata": {
    "cell_id": "00214-e953a155-b8d1-4805-8c7d-f12307d109cc",
    "deepnote_cell_type": "code"
   },
   "source": "c=getpass.getpass('Contraseña')",
   "execution_count": 173,
   "outputs": [
    {
     "name": "stdin",
     "output_type": "stream",
     "text": "Contraseña ····\n"
    }
   ]
  },
  {
   "cell_type": "code",
   "metadata": {
    "cell_id": "00215-667d4637-b341-4aeb-bfa6-5490014d13ca",
    "deepnote_cell_type": "code"
   },
   "source": "c",
   "execution_count": 174,
   "outputs": [
    {
     "data": {
      "text/plain": "'1234'"
     },
     "execution_count": 174,
     "metadata": {},
     "output_type": "execute_result"
    }
   ]
  },
  {
   "cell_type": "markdown",
   "source": "Now the `while` examples",
   "metadata": {
    "cell_id": "00216-d72e43af-8ec6-4ded-b701-72f337954cea",
    "deepnote_cell_type": "markdown"
   }
  },
  {
   "cell_type": "code",
   "metadata": {
    "colab": {
     "base_uri": "https://localhost:8080/",
     "height": 156
    },
    "colab_type": "code",
    "id": "7n0eZTTGF_1T",
    "outputId": "284cf3c9-294c-4282-f6ee-fb587b5439c4",
    "cell_id": "00217-eee4cc13-f730-43a2-8649-dc08b7c92874",
    "deepnote_cell_type": "code"
   },
   "source": "#! /usr/bin/python\nnumber = int(input(\"Write a negative number: \"))\nwhile number > 0:\n    print(\"You wrote a positive number. Do it again\")\n    number = int(input(\"Write a negative number: \"))\nprint(\"Thank you!\")",
   "execution_count": null,
   "outputs": []
  },
  {
   "cell_type": "code",
   "metadata": {
    "colab": {
     "base_uri": "https://localhost:8080/",
     "height": 173
    },
    "colab_type": "code",
    "id": "qB2KXTVwF_1W",
    "outputId": "b81f4c44-2cca-4e23-8cf1-7c7a9fbd7b33",
    "cell_id": "00218-3d0f8da9-272b-4f29-8dc4-a879189eabd9",
    "deepnote_cell_type": "code"
   },
   "source": "import random\nx = 0\nwhile x<0.9:\n    x = random.random()\n    print( x )\nprint (\"The selected number was\", x )",
   "execution_count": 127,
   "outputs": [
    {
     "name": "stdout",
     "output_type": "stream",
     "text": "0.8014478544604644\n0.16730340110095598\n0.22609305175080763\n0.3910061658713566\n0.16471583849093963\n0.03893794385343341\n0.9631958511875766\nThe selected number was 0.9631958511875766\n"
    }
   ]
  },
  {
   "cell_type": "markdown",
   "source": "# Methods and attributes of objects in Python\nAll the objects in `Python`, including the function and variable types discussed here, are enhanced with special functions called _methods_, which are implemented after a point of the name of the variable, in the format:\n```python\nvariable.method()\n```\nSome times, the method can even accept some arguments. \n\nThe objects have also attributes which describe some property of the object. They do not end up with parenthesis:\n```python\nvariable.attribute\n```",
   "metadata": {
    "colab_type": "text",
    "id": "MpuXWP76PRkT",
    "cell_id": "00219-7c989cbb-908a-46ad-948f-2e7ad27c80c1",
    "deepnote_cell_type": "markdown"
   }
  },
  {
   "cell_type": "markdown",
   "source": "### Methods\nFor example. The method `.keys()` of a variable dictionary allows to obtain the list of keys of the dictionary. For example",
   "metadata": {
    "colab_type": "text",
    "id": "999oCdgfPZOM",
    "cell_id": "00220-5bbd289e-7ad7-4874-b6bc-3be16881cfcd",
    "deepnote_cell_type": "markdown"
   }
  },
  {
   "cell_type": "code",
   "metadata": {
    "colab": {
     "base_uri": "https://localhost:8080/",
     "height": 35
    },
    "colab_type": "code",
    "id": "nJZOnhPfPb8b",
    "outputId": "e12624c2-f546-4501-a318-1c2a45a18026",
    "cell_id": "00221-45c8146f-c770-45d5-8eb3-8b192124fe7a",
    "deepnote_cell_type": "code"
   },
   "source": "dictionary.keys()",
   "execution_count": 141,
   "outputs": [
    {
     "data": {
      "text/plain": "dict_keys(['Kenia', 'Noruega', 'Finlandia', 'Rusia', 'Rio de Janeiro', 'Japón', 'Colorado', 'Alemania', 'Colombia'])"
     },
     "execution_count": 141,
     "metadata": {},
     "output_type": "execute_result"
    }
   ]
  },
  {
   "cell_type": "markdown",
   "source": "And the list of values:",
   "metadata": {
    "colab_type": "text",
    "id": "4gvGokFJPejs",
    "cell_id": "00222-bff0bb8f-70c0-4128-9671-42b03bb292e4",
    "deepnote_cell_type": "markdown"
   }
  },
  {
   "cell_type": "code",
   "metadata": {
    "colab": {
     "base_uri": "https://localhost:8080/",
     "height": 35
    },
    "colab_type": "code",
    "id": "KcWbTzfjPiKL",
    "outputId": "66d78276-552e-4efb-bb7e-3433a091de62",
    "cell_id": "00223-76ea55a3-546d-40a4-83dc-d6d59b51fecd",
    "deepnote_cell_type": "code"
   },
   "source": "dictionary.values()",
   "execution_count": 142,
   "outputs": [
    {
     "data": {
      "text/plain": "dict_values(['Nairobi', 'Oslo', 'Helsinski', 'Moscú', 'Rio', 'Tokio', 'Denver', 'Berlin', 'Bogotá'])"
     },
     "execution_count": 142,
     "metadata": {},
     "output_type": "execute_result"
    }
   ]
  },
  {
   "cell_type": "markdown",
   "source": "For strings we have for example the conversion to lower case",
   "metadata": {
    "colab_type": "text",
    "id": "op4UiMHFPkek",
    "cell_id": "00224-9ebc6649-40f0-4730-877f-77db92a215cd",
    "deepnote_cell_type": "markdown"
   }
  },
  {
   "cell_type": "code",
   "metadata": {
    "colab": {
     "base_uri": "https://localhost:8080/",
     "height": 34
    },
    "colab_type": "code",
    "id": "yMXxDJymPsi7",
    "outputId": "8d517979-7568-442d-ceea-296ad29f10f7",
    "cell_id": "00225-5dde53e2-d039-4597-9d7d-974a3e815cb7",
    "deepnote_cell_type": "code"
   },
   "source": "\"Juan Valdez\".lower()",
   "execution_count": 176,
   "outputs": [
    {
     "data": {
      "text/plain": "'juan valdez'"
     },
     "execution_count": 176,
     "metadata": {},
     "output_type": "execute_result"
    }
   ]
  },
  {
   "cell_type": "code",
   "metadata": {
    "cell_id": "00226-04aecf5a-3a55-4557-aee7-620233fab762",
    "deepnote_cell_type": "code"
   },
   "source": "\"juan valdez\".title()",
   "execution_count": 177,
   "outputs": [
    {
     "data": {
      "text/plain": "'Juan Valdez'"
     },
     "execution_count": 177,
     "metadata": {},
     "output_type": "execute_result"
    }
   ]
  },
  {
   "cell_type": "code",
   "metadata": {
    "cell_id": "00227-71f0c11e-b4d8-4ade-ac9b-12db09299a3f",
    "deepnote_cell_type": "code"
   },
   "source": "\"juan valdez\".upper()",
   "execution_count": 178,
   "outputs": [
    {
     "data": {
      "text/plain": "'JUAN VALDEZ'"
     },
     "execution_count": 178,
     "metadata": {},
     "output_type": "execute_result"
    }
   ]
  },
  {
   "cell_type": "markdown",
   "source": "### Attributes",
   "metadata": {
    "colab_type": "text",
    "id": "NaWNpAh8PtAD",
    "cell_id": "00228-1201df6f-5487-4fb1-a596-4b1a123eae7f",
    "deepnote_cell_type": "markdown"
   }
  },
  {
   "cell_type": "code",
   "metadata": {
    "colab": {},
    "colab_type": "code",
    "id": "yWVg_HMVP4li",
    "cell_id": "00229-2bc92544-1312-423e-ab22-712683d1e348",
    "deepnote_cell_type": "code"
   },
   "source": "a=1j",
   "execution_count": 146,
   "outputs": []
  },
  {
   "cell_type": "code",
   "metadata": {
    "colab": {
     "base_uri": "https://localhost:8080/",
     "height": 35
    },
    "colab_type": "code",
    "id": "TZLoLjFKP6gT",
    "outputId": "bfb38dc9-dce8-4816-ff63-f4215ac9d36f",
    "cell_id": "00230-c21184cd-2172-45ed-9b28-244db6ef4d53",
    "deepnote_cell_type": "code"
   },
   "source": "a.imag",
   "execution_count": 147,
   "outputs": [
    {
     "data": {
      "text/plain": "1.0"
     },
     "execution_count": 147,
     "metadata": {},
     "output_type": "execute_result"
    }
   ]
  },
  {
   "cell_type": "code",
   "metadata": {
    "cell_id": "00231-95095040-ece2-48db-a372-8a310f6fc62a",
    "deepnote_cell_type": "code"
   },
   "source": "a.real",
   "execution_count": 148,
   "outputs": [
    {
     "data": {
      "text/plain": "0.0"
     },
     "execution_count": 148,
     "metadata": {},
     "output_type": "execute_result"
    }
   ]
  },
  {
   "cell_type": "code",
   "metadata": {
    "colab": {},
    "colab_type": "code",
    "id": "4YDuZvgbqQTh",
    "cell_id": "00232-d9027365-efdb-4ce2-993b-b10a4030bffe",
    "deepnote_cell_type": "code"
   },
   "source": "z=3+5j",
   "execution_count": 149,
   "outputs": []
  },
  {
   "cell_type": "markdown",
   "source": "with attributes",
   "metadata": {
    "colab_type": "text",
    "id": "bwin2MdGRGI5",
    "cell_id": "00233-e9601ee1-45fd-4eb1-b2d8-fd3cb23fa5f6",
    "deepnote_cell_type": "markdown"
   }
  },
  {
   "cell_type": "code",
   "metadata": {
    "colab": {
     "base_uri": "https://localhost:8080/",
     "height": 35
    },
    "colab_type": "code",
    "id": "vXiWuELxqS-u",
    "outputId": "d53786d9-1421-4e22-b7d3-00629bdb711a",
    "cell_id": "00234-39ca7c2d-fd8a-4105-95ad-ec463a38dbb5",
    "deepnote_cell_type": "code"
   },
   "source": "z.real",
   "execution_count": 154,
   "outputs": [
    {
     "data": {
      "text/plain": "3.0"
     },
     "execution_count": 154,
     "metadata": {},
     "output_type": "execute_result"
    }
   ]
  },
  {
   "cell_type": "code",
   "metadata": {
    "colab": {
     "base_uri": "https://localhost:8080/",
     "height": 35
    },
    "colab_type": "code",
    "id": "twft_75iqUXd",
    "outputId": "e6cc0c3d-d882-432d-93c9-cc11edfb59aa",
    "cell_id": "00235-0407aed1-af85-4a4c-9910-a8c1e0a5462b",
    "deepnote_cell_type": "code"
   },
   "source": "z.imag",
   "execution_count": 151,
   "outputs": [
    {
     "data": {
      "text/plain": "5.0"
     },
     "execution_count": 151,
     "metadata": {},
     "output_type": "execute_result"
    }
   ]
  },
  {
   "cell_type": "markdown",
   "source": "and the method:",
   "metadata": {
    "colab_type": "text",
    "id": "3S4SCByKRInH",
    "cell_id": "00236-10a55c4e-8019-48c7-836c-d27ad9f2962c",
    "deepnote_cell_type": "markdown"
   }
  },
  {
   "cell_type": "code",
   "metadata": {
    "colab": {
     "base_uri": "https://localhost:8080/",
     "height": 35
    },
    "colab_type": "code",
    "id": "FtsN8LmERK8_",
    "outputId": "894b51eb-34fd-4fce-c3d6-3ff382a1c25c",
    "cell_id": "00237-de90673c-4803-426b-8c12-185c54ad9294",
    "deepnote_cell_type": "code"
   },
   "source": "z.conjugate()",
   "execution_count": 152,
   "outputs": [
    {
     "data": {
      "text/plain": "(3-5j)"
     },
     "execution_count": 152,
     "metadata": {},
     "output_type": "execute_result"
    }
   ]
  },
  {
   "cell_type": "markdown",
   "source": "In the notebook, All the methods and attributes of an object can be accessed by using the `<TAB>` key after write down the point:\n```python\nvariable.<TAB>\n```",
   "metadata": {
    "colab_type": "text",
    "id": "mqPXQ2THP-Kz",
    "cell_id": "00238-c110becb-a3b2-4f5a-8adf-cf0b68e9e9c4",
    "deepnote_cell_type": "markdown"
   }
  },
  {
   "cell_type": "code",
   "metadata": {
    "colab": {},
    "colab_type": "code",
    "id": "IKvhvPBEIhb7",
    "cell_id": "00239-980daca3-f063-4cb8-b9e1-b5a9918208fe",
    "deepnote_cell_type": "code"
   },
   "source": "z.",
   "execution_count": null,
   "outputs": []
  },
  {
   "cell_type": "markdown",
   "source": "__Activity__: Check the methods and attributes of the dictionary `dictonary`. HINT: Check the help for some of them by using a question mark, \"?\", at the end:\n```\nvariable.method?\n```",
   "metadata": {
    "colab_type": "text",
    "id": "iBQGxzuFQCID",
    "cell_id": "00240-095cdf89-d7a1-4e9d-ae28-7f7499718117",
    "deepnote_cell_type": "markdown"
   }
  },
  {
   "cell_type": "markdown",
   "source": "## Unicode\nIs an standard to encode characters. In Python 3, around  [120.000 characters](https://stackoverflow.com/a/17043983) can be used to define variables. For example, one right to left arabic variable can be defined as",
   "metadata": {
    "colab_type": "text",
    "id": "xJBhkIFf40bz",
    "cell_id": "00241-8546677a-b493-4719-a269-af0277736ecb",
    "deepnote_cell_type": "markdown"
   }
  },
  {
   "cell_type": "code",
   "metadata": {
    "colab": {
     "base_uri": "https://localhost:8080/",
     "height": 35
    },
    "colab_type": "code",
    "id": "E2GeG8HZ40bz",
    "outputId": "579f4e15-ea31-41aa-d8ca-ae1a3baca18e",
    "cell_id": "00242-a2d5676f-9e67-445a-838c-128e2dc6249e",
    "deepnote_cell_type": "code"
   },
   "source": "ࢶ=2\nprint('Arabic character values is: {}'.format(ࢶ))",
   "execution_count": 155,
   "outputs": [
    {
     "name": "stdout",
     "output_type": "stream",
     "text": "Arabic character values is: 2\n"
    }
   ]
  },
  {
   "cell_type": "markdown",
   "source": "Spanish example",
   "metadata": {
    "colab_type": "text",
    "id": "sdVB50fe40b0",
    "cell_id": "00243-997768d1-b304-4300-b5cc-d0cb595f6dc2",
    "deepnote_cell_type": "markdown"
   }
  },
  {
   "cell_type": "code",
   "metadata": {
    "colab": {},
    "colab_type": "code",
    "id": "DznrKWaDjv8W",
    "cell_id": "00244-b53637d7-91bd-4f03-bc28-8ac9ec50515f",
    "deepnote_cell_type": "code"
   },
   "source": "mamá='Lola'",
   "execution_count": 156,
   "outputs": []
  },
  {
   "cell_type": "markdown",
   "source": "In Jupyter lab greek symbols can be accessed by using its LaTeX command follow by the `<TAB>` key. \n\n`\\alpha+<TAB>=0.5` could convert on the fly to ",
   "metadata": {
    "colab_type": "text",
    "id": "PftXYj-K40b2",
    "cell_id": "00245-b9eb3447-2fb3-47bb-9c5f-8abe85ef4f62",
    "deepnote_cell_type": "markdown"
   }
  },
  {
   "cell_type": "code",
   "metadata": {
    "colab": {},
    "colab_type": "code",
    "id": "s-HaoMaN40b2",
    "cell_id": "00246-7e355b2b-397d-4174-aa93-2ad6e1981a74",
    "deepnote_cell_type": "code"
   },
   "source": "α=0.5",
   "execution_count": 157,
   "outputs": []
  },
  {
   "cell_type": "code",
   "metadata": {
    "colab": {},
    "colab_type": "code",
    "id": "-FDXnyJD40b3",
    "outputId": "9cb517f1-cc0b-4ad4-f18b-d52b110329a3",
    "cell_id": "00247-82438024-40c5-455b-b423-9f19cdfef009",
    "deepnote_cell_type": "code"
   },
   "source": "print(α)",
   "execution_count": 158,
   "outputs": [
    {
     "name": "stdout",
     "output_type": "stream",
     "text": "0.5\n"
    }
   ]
  },
  {
   "cell_type": "markdown",
   "source": "Alternatively yuo can copy the character from some list of unicode symbols, like [this one](https://en.wikipedia.org/wiki/List_of_Unicode_characters#Greek_and_Coptic).\n\n__Activity__: Define a Greek variable by using a symbol from the previous list",
   "metadata": {
    "colab_type": "text",
    "id": "7NgyW2Sv40b4",
    "cell_id": "00248-7cd60ec8-729d-4af2-8a95-600cc07c3785",
    "deepnote_cell_type": "markdown"
   }
  },
  {
   "cell_type": "code",
   "metadata": {
    "colab": {},
    "colab_type": "code",
    "id": "Ym0NpCWxKJQB",
    "cell_id": "00249-85eb53c1-6765-4d62-b074-52bf7af37cab",
    "deepnote_cell_type": "code"
   },
   "source": "",
   "execution_count": null,
   "outputs": []
  },
  {
   "cell_type": "markdown",
   "source": "## Final remarks\nMake your google Python questions in English and check specially the https://stackoverflow.com/ results.\n\n__Activity__: Make some Python query in Google and paste the example code below",
   "metadata": {
    "colab_type": "text",
    "id": "9MgMakz7jhml",
    "cell_id": "00250-278fdad9-ce65-4221-89fb-ade632e04fc3",
    "deepnote_cell_type": "markdown"
   }
  },
  {
   "cell_type": "code",
   "metadata": {
    "colab": {},
    "colab_type": "code",
    "id": "iEtlCAbZ40b6",
    "cell_id": "00251-7f042922-3e62-4e71-809f-26bc971c1edf",
    "deepnote_cell_type": "code"
   },
   "source": "input('What was the Google query that you ask?:\\n')",
   "execution_count": null,
   "outputs": []
  },
  {
   "cell_type": "code",
   "metadata": {
    "colab": {},
    "colab_type": "code",
    "id": "DZG2Mb8cbHur",
    "cell_id": "00252-f20faff6-23e0-4933-9348-b6b7a9fbe414",
    "deepnote_cell_type": "code"
   },
   "source": "",
   "execution_count": null,
   "outputs": []
  },
  {
   "cell_type": "markdown",
   "source": "Sample code:",
   "metadata": {
    "colab_type": "text",
    "id": "_fIw7E_a40b7",
    "cell_id": "00253-27ad1dc9-d0c4-4c8c-9d2b-2c6a404419d3",
    "deepnote_cell_type": "markdown"
   }
  },
  {
   "cell_type": "markdown",
   "source": "## Parallel\n```python\nfoo(x) → delayed(foo)(x)\n```",
   "metadata": {
    "cell_id": "00254-2ad05951-d3e8-4ca1-a8f1-ab7cd8194550",
    "deepnote_cell_type": "markdown"
   }
  },
  {
   "cell_type": "code",
   "metadata": {
    "cell_id": "00255-3b6d8bea-7285-4f2c-b484-4fe59b794fc3",
    "deepnote_cell_type": "code"
   },
   "source": ">>> from joblib import Parallel, delayed\n>>> from math import sqrt\n>>> Parallel(n_jobs=8)(delayed(sqrt)(i**2) for i in range(10))",
   "execution_count": 160,
   "outputs": [
    {
     "data": {
      "text/plain": "[0.0, 1.0, 2.0, 3.0, 4.0, 5.0, 6.0, 7.0, 8.0, 9.0]"
     },
     "execution_count": 160,
     "metadata": {},
     "output_type": "execute_result"
    }
   ]
  },
  {
   "cell_type": "markdown",
   "source": "See also: https://docs.python.org/3/library/multiprocessing.html",
   "metadata": {
    "cell_id": "00256-175d7309-fc80-45cb-9898-fa05efbdeb88",
    "deepnote_cell_type": "markdown"
   }
  },
  {
   "cell_type": "markdown",
   "source": "<a style='text-decoration:none;line-height:16px;display:flex;color:#5B5B62;padding:10px;justify-content:end;' href='https://deepnote.com?utm_source=created-in-deepnote-cell&projectId=f91b818d-f536-4b8f-81de-61752e0979b7' target=\"_blank\">\n<img alt='Created in deepnote.com' style='display:inline;max-height:16px;margin:0px;margin-right:7.5px;' src='data:image/svg+xml;base64,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' > </img>\nCreated in <span style='font-weight:600;margin-left:4px;'>Deepnote</span></a>",
   "metadata": {
    "tags": [],
    "created_in_deepnote_cell": true,
    "deepnote_cell_type": "markdown"
   }
  }
 ],
 "nbformat": 4,
 "nbformat_minor": 4,
 "metadata": {
  "celltoolbar": "Slideshow",
  "colab": {
   "include_colab_link": true,
   "name": "overview-python.ipynb",
   "provenance": []
  },
  "kernelspec": {
   "display_name": "Python 3",
   "language": "python",
   "name": "python3"
  },
  "language_info": {
   "codemirror_mode": {
    "name": "ipython",
    "version": 3
   },
   "file_extension": ".py",
   "mimetype": "text/x-python",
   "name": "python",
   "nbconvert_exporter": "python",
   "pygments_lexer": "ipython3",
   "version": "3.7.6"
  },
  "toc": {
   "colors": {
    "hover_highlight": "#DAA520",
    "running_highlight": "#FF0000",
    "selected_highlight": "#FFD700"
   },
   "moveMenuLeft": true,
   "nav_menu": {
    "height": "390px",
    "width": "252px"
   },
   "navigate_menu": true,
   "number_sections": true,
   "sideBar": true,
   "threshold": 4,
   "toc_cell": false,
   "toc_section_display": "block",
   "toc_window_display": false
  },
  "deepnote_notebook_id": "c3dc6802-2cbf-4afc-85fa-c70d967f9c3a",
  "deepnote": {},
  "deepnote_execution_queue": []
 }
}