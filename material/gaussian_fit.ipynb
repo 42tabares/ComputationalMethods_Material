{
  "nbformat": 4,
  "nbformat_minor": 0,
  "metadata": {
    "kernelspec": {
      "display_name": "Python 3",
      "language": "python",
      "name": "python3"
    },
    "language_info": {
      "codemirror_mode": {
        "name": "ipython",
        "version": 3
      },
      "file_extension": ".py",
      "mimetype": "text/x-python",
      "name": "python",
      "nbconvert_exporter": "python",
      "pygments_lexer": "ipython3",
      "version": "3.5.3"
    },
    "colab": {
      "name": "gaussian_fit.ipynb",
      "provenance": [],
      "include_colab_link": true
    }
  },
  "cells": [
    {
      "cell_type": "markdown",
      "metadata": {
        "id": "view-in-github",
        "colab_type": "text"
      },
      "source": [
        "<a href=\"https://colab.research.google.com/github/restrepo/ComputationalMethods/blob/master/material/gaussian_fit.ipynb\" target=\"_parent\"><img src=\"https://colab.research.google.com/assets/colab-badge.svg\" alt=\"Open In Colab\"/></a>"
      ]
    },
    {
      "cell_type": "markdown",
      "metadata": {
        "id": "MneTjBgoJ02V",
        "colab_type": "text"
      },
      "source": [
        "## Gaussian fit"
      ]
    },
    {
      "cell_type": "markdown",
      "metadata": {
        "id": "OBGLWZicJ02W",
        "colab_type": "text"
      },
      "source": [
        "Based on the data colected with [this google form](https://docs.google.com/forms/d/e/1FAIpQLSeZJ0QII5JcST-M9_JgGYNzX3GahULVVFc31DQnWjJ4SdUQwg/viewform?fbclid=IwAR0wEadM0ZH-HXmp3lkAM3emCDPxs_6F509BS3EkOvldp-NFzbCOkZVSjR4) for the guesses in the number of pages for a book"
      ]
    },
    {
      "cell_type": "markdown",
      "metadata": {
        "id": "4R8d4fgtJ02Z",
        "colab_type": "text"
      },
      "source": [
        "$$\n",
        "f(x)=a\\exp\\left[ -\\frac{(x-\\mu)^2}{2\\sigma^2} \\right]\n",
        "$$\n",
        "where $a$ is the height of the gaussian, $\\mu$ is the mean (expected value), and $\\sigma$ es la varianze"
      ]
    },
    {
      "cell_type": "code",
      "metadata": {
        "id": "0uB6r9MgJ02a",
        "colab_type": "code",
        "colab": {
          "base_uri": "https://localhost:8080/",
          "height": 35
        },
        "outputId": "cdb88b3e-f8c0-4620-c320-bb2d1b21dab5"
      },
      "source": [
        "%pylab inline\n",
        "import matplotlib.pyplot as plt\n",
        "import pandas as pd\n",
        "from scipy.optimize import curve_fit\n",
        "\n",
        "def gaussian(x,a,μ,σ):\n",
        "    return a*exp(-(x-μ)**2/(2*σ**2))"
      ],
      "execution_count": 1,
      "outputs": [
        {
          "output_type": "stream",
          "text": [
            "Populating the interactive namespace from numpy and matplotlib\n"
          ],
          "name": "stdout"
        }
      ]
    },
    {
      "cell_type": "code",
      "metadata": {
        "id": "PfkmXajIJ02r",
        "colab_type": "code",
        "colab": {}
      },
      "source": [
        "df=pd.read_csv('https://docs.google.com/spreadsheets/d/e/2PACX-1vTu_XE2dAiTcjHTfbaVKt7xEl_GnNeF_VYFsIBi5uM-gqBlBRfNHso-X1z3lxV7IW2f9UYKmZkSOYv-/pub?output=csv')\n",
        "#Convert to integer\n",
        "df['Guess']=df['Guess'].str.replace(',','').astype(int)\n",
        "# Configure binned data\n",
        "bins=range(0,1500,100)"
      ],
      "execution_count": 2,
      "outputs": []
    },
    {
      "cell_type": "code",
      "metadata": {
        "id": "w-7pwKERJ02w",
        "colab_type": "code",
        "colab": {
          "base_uri": "https://localhost:8080/",
          "height": 322
        },
        "outputId": "ab3a772a-d006-4deb-a3bd-2f91910a164f"
      },
      "source": [
        "#Plot histogram and extract binned data\n",
        "y,x,p=plt.hist(df['Guess'],bins=bins)\n",
        "#Chose the right-side of the bar\n",
        "x=x[1:]\n",
        "#show the choosen points\n",
        "plt.plot(x,y,'k.')\n",
        "\n",
        "#Gaussiang fit\n",
        "#initial point `p0` to start the fit\n",
        "a=1\n",
        "μ=500\n",
        "σ=100\n",
        "\n",
        "fit=curve_fit(gaussian,x,y,p0=[a,μ,σ])[0]\n",
        "print('Fitted values are: a={:.1f}, μ={:.1f}, σ={:.1f}'.format(fit[0],fit[1],fit[2]))\n",
        "x=np.linspace(0,1400)\n",
        "plt.plot(x,gaussian(x,*fit),lw=3)\n",
        "\n",
        "plt.grid()\n",
        "plt.xlabel('x [pages]',size=15)\n",
        "plt.ylabel('$f(x)$',size=15)\n",
        "plt.title( r'$f(x)=%.0f\\cdot \\exp\\left[ -{(x-%.0f)^2}/{(2\\cdot %.0f^2)} \\right]$' %(fit[0],fit[1],fit[2]))\n",
        "plt.savefig('gaussian.png')"
      ],
      "execution_count": 3,
      "outputs": [
        {
          "output_type": "stream",
          "text": [
            "Fitted values are: a=10.2, μ=726.2, σ=237.7\n"
          ],
          "name": "stdout"
        },
        {
          "output_type": "display_data",
          "data": {
            "image/png": "[encoded data removed]",
            "text/plain": [
              "<Figure size 432x288 with 1 Axes>"
            ]
          },
          "metadata": {
            "tags": [],
            "needs_background": "light"
          }
        }
      ]
    },
    {
      "cell_type": "markdown",
      "metadata": {
        "id": "93R1GpUfMBn1",
        "colab_type": "text"
      },
      "source": [
        "### Conclusion\n",
        "The number of pages is $726\\pm 238$."
      ]
    },
    {
      "cell_type": "markdown",
      "metadata": {
        "id": "jpVM3XOUJ023",
        "colab_type": "text"
      },
      "source": [
        "Another way to obtain the bins:"
      ]
    },
    {
      "cell_type": "code",
      "metadata": {
        "id": "Nm-LpGFDJ023",
        "colab_type": "code",
        "colab": {}
      },
      "source": [
        "xx=df.Guess.value_counts(bins=bins)"
      ],
      "execution_count": null,
      "outputs": []
    },
    {
      "cell_type": "code",
      "metadata": {
        "id": "zdy1PfOhJ03C",
        "colab_type": "code",
        "colab": {}
      },
      "source": [
        "df=pd.DataFrame( {'X':xx.index.right,'Y':xx.values} )\n",
        "df=df.sort_values('X').reset_index(drop=True)"
      ],
      "execution_count": null,
      "outputs": []
    },
    {
      "cell_type": "code",
      "metadata": {
        "id": "dez7cMcDJ03G",
        "colab_type": "code",
        "colab": {},
        "outputId": "ce3b68db-a5f0-46e4-a023-8f463f3f26aa"
      },
      "source": [
        "df"
      ],
      "execution_count": null,
      "outputs": [
        {
          "output_type": "execute_result",
          "data": {
            "text/html": [
              "<div>\n",
              "<style scoped>\n",
              "    .dataframe tbody tr th:only-of-type {\n",
              "        vertical-align: middle;\n",
              "    }\n",
              "\n",
              "    .dataframe tbody tr th {\n",
              "        vertical-align: top;\n",
              "    }\n",
              "\n",
              "    .dataframe thead th {\n",
              "        text-align: right;\n",
              "    }\n",
              "</style>\n",
              "<table border=\"1\" class=\"dataframe\">\n",
              "  <thead>\n",
              "    <tr style=\"text-align: right;\">\n",
              "      <th></th>\n",
              "      <th>X</th>\n",
              "      <th>Y</th>\n",
              "    </tr>\n",
              "  </thead>\n",
              "  <tbody>\n",
              "    <tr>\n",
              "      <th>0</th>\n",
              "      <td>100.0</td>\n",
              "      <td>0</td>\n",
              "    </tr>\n",
              "    <tr>\n",
              "      <th>1</th>\n",
              "      <td>200.0</td>\n",
              "      <td>1</td>\n",
              "    </tr>\n",
              "    <tr>\n",
              "      <th>2</th>\n",
              "      <td>300.0</td>\n",
              "      <td>0</td>\n",
              "    </tr>\n",
              "    <tr>\n",
              "      <th>3</th>\n",
              "      <td>400.0</td>\n",
              "      <td>5</td>\n",
              "    </tr>\n",
              "    <tr>\n",
              "      <th>4</th>\n",
              "      <td>500.0</td>\n",
              "      <td>9</td>\n",
              "    </tr>\n",
              "    <tr>\n",
              "      <th>5</th>\n",
              "      <td>600.0</td>\n",
              "      <td>11</td>\n",
              "    </tr>\n",
              "    <tr>\n",
              "      <th>6</th>\n",
              "      <td>700.0</td>\n",
              "      <td>7</td>\n",
              "    </tr>\n",
              "    <tr>\n",
              "      <th>7</th>\n",
              "      <td>800.0</td>\n",
              "      <td>8</td>\n",
              "    </tr>\n",
              "    <tr>\n",
              "      <th>8</th>\n",
              "      <td>900.0</td>\n",
              "      <td>13</td>\n",
              "    </tr>\n",
              "    <tr>\n",
              "      <th>9</th>\n",
              "      <td>1000.0</td>\n",
              "      <td>3</td>\n",
              "    </tr>\n",
              "    <tr>\n",
              "      <th>10</th>\n",
              "      <td>1100.0</td>\n",
              "      <td>0</td>\n",
              "    </tr>\n",
              "    <tr>\n",
              "      <th>11</th>\n",
              "      <td>1200.0</td>\n",
              "      <td>1</td>\n",
              "    </tr>\n",
              "    <tr>\n",
              "      <th>12</th>\n",
              "      <td>1300.0</td>\n",
              "      <td>1</td>\n",
              "    </tr>\n",
              "    <tr>\n",
              "      <th>13</th>\n",
              "      <td>1400.0</td>\n",
              "      <td>2</td>\n",
              "    </tr>\n",
              "  </tbody>\n",
              "</table>\n",
              "</div>"
            ],
            "text/plain": [
              "         X   Y\n",
              "0    100.0   0\n",
              "1    200.0   1\n",
              "2    300.0   0\n",
              "3    400.0   5\n",
              "4    500.0   9\n",
              "5    600.0  11\n",
              "6    700.0   7\n",
              "7    800.0   8\n",
              "8    900.0  13\n",
              "9   1000.0   3\n",
              "10  1100.0   0\n",
              "11  1200.0   1\n",
              "12  1300.0   1\n",
              "13  1400.0   2"
            ]
          },
          "metadata": {
            "tags": []
          },
          "execution_count": 10
        }
      ]
    }
  ]
}