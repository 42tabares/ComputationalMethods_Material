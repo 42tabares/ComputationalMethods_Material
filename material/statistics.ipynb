{
 "cells": [
  {
   "cell_type": "markdown",
   "metadata": {
    "colab_type": "text",
    "id": "view-in-github"
   },
   "source": [
    "<a href=\"https://colab.research.google.com/github/restrepo/ComputationalMethods/blob/master/material/statistics.ipynb\" target=\"_parent\"><img src=\"https://colab.research.google.com/assets/colab-badge.svg\" alt=\"Open In Colab\"/></a>"
   ]
  },
  {
   "cell_type": "markdown",
   "metadata": {
    "colab_type": "text",
    "id": "vO7m8G_uBsEz"
   },
   "source": [
    "# Statistics "
   ]
  },
  {
   "cell_type": "markdown",
   "metadata": {
    "colab_type": "text",
    "id": "hbK6vM09BsE7"
   },
   "source": [
    "Considering the amount of data produced nowadays in many fields, the computer manipulation of this information is not only important but also has become a very active field of study. Despite of the fact of increasing computational facilities, the effort necessary to make statistical analysis has become more complicated, at least in the computational aspect. This is why \n",
    "becomes fundamental to some aspects, leastwise in a raw way.  "
   ]
  },
  {
   "cell_type": "markdown",
   "metadata": {
    "colab_type": "text",
    "id": "xzHB-SSKBsE_"
   },
   "source": [
    "- - -\n",
    "- [Data Adjust](#Data-Adjust) \n",
    "    - [Linear least square](##Linear-least-squares)\n",
    "    - [Example 1](#Example-1)\n",
    "    - [Non-linear least square](##Non-linear-least-square)\n",
    "- [Random Numbers](#Random-Numbers)  \n",
    "    - [Example 2](#Example-2)\n",
    "- - -"
   ]
  },
  {
   "cell_type": "code",
   "execution_count": 69,
   "metadata": {
    "colab": {
     "base_uri": "https://localhost:8080/",
     "height": 34
    },
    "colab_type": "code",
    "id": "l6ZbjjUlBsFG",
    "outputId": "8107ac68-9f7a-435a-e429-42627cc01ce0"
   },
   "outputs": [
    {
     "name": "stdout",
     "output_type": "stream",
     "text": [
      "Populating the interactive namespace from numpy and matplotlib\n"
     ]
    },
    {
     "name": "stderr",
     "output_type": "stream",
     "text": [
      "/usr/local/lib/python3.9/dist-packages/IPython/core/magics/pylab.py:159: UserWarning: pylab import has clobbered these variables: ['random']\n",
      "`%matplotlib` prevents importing * from pylab and numpy\n",
      "  warn(\"pylab import has clobbered these variables: %s\"  % clobbered +\n"
     ]
    }
   ],
   "source": [
    "%pylab inline"
   ]
  },
  {
   "cell_type": "code",
   "execution_count": null,
   "metadata": {},
   "outputs": [],
   "source": [
    "plt.savefig("
   ]
  },
  {
   "cell_type": "code",
   "execution_count": 2,
   "metadata": {
    "colab": {},
    "colab_type": "code",
    "id": "Dy4OMR4xBsFY"
   },
   "outputs": [],
   "source": [
    "import numpy as np\n",
    "from matplotlib import animation"
   ]
  },
  {
   "cell_type": "markdown",
   "metadata": {
    "colab_type": "text",
    "id": "WnxpZdlpBsFh"
   },
   "source": [
    "## Data Adjust\n",
    "See also: \n",
    "* https://www.mathsisfun.com/data/least-squares-regression.html\n",
    "* http://blog.mmast.net/least-squares-fitting-numpy-scipy\n",
    "* https://stackoverflow.com/a/43623588/2268280"
   ]
  },
  {
   "cell_type": "markdown",
   "metadata": {
    "colab_type": "text",
    "id": "5S6xRqjVBsFj"
   },
   "source": [
    "Given a data set, the first approach to find a function that passes through the points would be using a\n",
    "interpolation polynomial. But we should take special attention to the way data set is gathered, i.e., usually\n",
    "is a sample obtained experimentally or in a way that has associated an intrinsic error. \n",
    "Then, forcing that the approximate function passes through all the points would actually incur in incrementing the error. This is why it is necessary to build a different procedure to build the function that fits the data.\n",
    "\n",
    "The fitting functions, though, are build using a Lagrange polynomial and the order of this polynomial constitutes\n",
    "the approximation that is going to be used. But the fitting function is not going to take the exact value in\n",
    "the known points, they are going to desagree in certain tolerance value. \n",
    "\n",
    "\n",
    "<!-- This type of procedure is also used to approximate functions to a simper type of function. Although the procedure\n",
    "is very similar is not going to be discussed here because of the lack of use of this kind of procedures.  -->\n"
   ]
  },
  {
   "cell_type": "markdown",
   "metadata": {
    "colab_type": "text",
    "id": "CIOTmaQ0BsFm"
   },
   "source": [
    "## Linear least squares"
   ]
  },
  {
   "cell_type": "markdown",
   "metadata": {
    "colab_type": "text",
    "id": "xwBHVZ4NBsFp"
   },
   "source": [
    "Approximating a data set to a linear Langrange polynomial would be just to use\n",
    "$$\n",
    "y_i= f(x_i) = a_1x_i + a_0\\,.\n",
    "$$\n",
    "However, with experimental data, the problem is that the values $y_i$ are not precise, then it is proposed to find the best approximation.\n",
    "For the best _linear approximation_, we need to find  for _all_ points the value of $a_0$ and $a_1$ that _minimize_ the error\n",
    "$$\n",
    "E = E(a_0,a_1) = \\sum_{i=1}^{m}[y_i - (a_1 x_i + a_0)]^2 \n",
    "$$\n",
    "where the square is more well suited for the minimization procedure since avoids the fluctions for changes of sign.\n",
    "\n",
    "To minimize the function of 2 variables, $E(a_0,a_1)$ with respect to $a_0$ and $a_1$,  it is necessary to set its partial derivatives to zero and simultaneously \n",
    "solve to the resulting equations. \n",
    "\n",
    "\n",
    "To establish the minimzation equations, it is necesary to take the partial derivatives with respect to $a_0$  and $a_1$ and and equal them to zero\n",
    "$$\n",
    "\\frac{\\partial E}{\\partial a_0} = 0\\,, \\hspace{1cm} \n",
    "\\frac{\\partial E}{\\partial a_1} = 0\\,.\n",
    "$$\n",
    "\n",
    "Afterwards, \n",
    "\n",
    "\\begin{align}\n",
    "&0= 2\\sum_{i=1}^{m}(y_i -a_1x_i-a_0)(-1)\\,, && \n",
    "&0 =& 2\\sum_{i=1}^{m}(y_i -a_1x_i-a_0)(-x_i) \\\\\n",
    "&a_0 m + a_1\\sum_{i=1}^{m}x_i = \\sum_{i=1}^{m} y_i\\,,&& &a_0\\sum_{i=1}^{m}x_i  + a_1\\sum_{i=1}^{m}x_i^2 = \\sum_{i=1}^{m} x_iy_i \n",
    "\\end{align}\n",
    "\n",
    "\\begin{align}\n",
    "a_0= &\\frac{ \\sum_{i=1}^{m} y_i-a_1\\sum_{i=1}^{m}x_i }{m} \n",
    "\\end{align}\n",
    "\n",
    "\n",
    "\n"
   ]
  },
  {
   "cell_type": "markdown",
   "metadata": {
    "colab_type": "text",
    "id": "FrnkrXDUEHjG"
   },
   "source": [
    "Replacing back in the second equation\n",
    "\\begin{align}\n",
    " \\left( \\frac{ \\sum_{i=1}^{m} y_i-a_1\\sum_{i=1}^{m}x_i }{m} \\right)\\sum_{i=1}^{m}x_i  + a_1\\sum_{i=1}^{m}x_i^2 = \\sum_{i=1}^{m} x_iy_i \n",
    "\\end{align}\n",
    "\\begin{align}\n",
    "   \\frac{1}{m}\\sum_{i=1}^{m} y_i \\sum_{i=1}^{m}x_i -a_1\\frac{1}{m} \\sum_{i=1}^{m}x_i \\sum_{i=1}^{m}x_i   + a_1\\sum_{i=1}^{m}x_i^2 = \\sum_{i=1}^{m} x_iy_i \n",
    "\\end{align}\n",
    "\\begin{align}\n",
    "   a_1\\left[ \\sum_{i=1}^{m}x_i^2 -\\frac{1}{m}\\left(   \\sum_{i=1}^{m}x_i \\right)^2  \\right]   = \\sum_{i=1}^{m} x_iy_i - \\frac{1}{m}\\sum_{i=1}^{m} y_i \\sum_{i=1}^{m}x_i\n",
    "\\end{align}\n",
    "\\begin{align}\n",
    "   a_1\\left[ m\\sum_{i=1}^{m}x_i^2 -\\left(   \\sum_{i=1}^{m}x_i \\right)^2  \\right]   = m\\sum_{i=1}^{m} x_iy_i -\\sum_{i=1}^{m} y_i \\sum_{i=1}^{m}x_i\n",
    "\\end{align}\n",
    "\n"
   ]
  },
  {
   "cell_type": "markdown",
   "metadata": {
    "colab_type": "text",
    "id": "JYA6CoCYIxvX"
   },
   "source": [
    "Therefore\n",
    "\\begin{align}\n",
    "a_1 = \\frac{m\\sum_{i=1}^{m} x_iy_i - \\sum_{i=1}^{m} x_i \\sum_{i=1}^{m} y_i }\n",
    "{m\\sum_{i=1}^{m} x_i^2 - \\left(\\sum_{i=1}^{m} x_i\\right)^2} \n",
    "\\end{align}\n"
   ]
  },
  {
   "cell_type": "markdown",
   "metadata": {
    "colab_type": "text",
    "id": "Rd7JYsebJlOa"
   },
   "source": [
    "Replacing back in $a_0$\n",
    "\\begin{align}\n",
    "ma_0= &\\sum_{i=1}^{m} y_i-a_1\\sum_{i=1}^{m}x_i \\\\\n",
    " = &\\sum_{i=1}^{m} y_i-\\left[\\frac{m\\sum_{i=1}^{m} x_iy_i - \\sum_{i=1}^{m} x_i \\sum_{i=1}^{m} y_i }\n",
    "{m\\sum_{i=1}^{m} x_i^2 - \\left(\\sum_{i=1}^{m} x_i\\right)^2}  \\right]\\sum_{i=1}^{m}x_i \\\\\n",
    "= &\\sum_{i=1}^{m} y_i-\\frac{m\\sum_{i=1}^{m}x_i\\sum_{i=1}^{m} x_iy_i - \\left( \\sum_{i=1}^{m} x_i\\right)^2 \\sum_{i=1}^{m} y_i }\n",
    "{m\\sum_{i=1}^{m} x_i^2 - \\left(\\sum_{i=1}^{m} x_i\\right)^2}   \\\\\n",
    "= &\\frac{m\\sum_{i=1}^{m} x_i^2\\sum_{i=1}^{m} y_i-m\\sum_{i=1}^{m}x_i\\sum_{i=1}^{m} x_iy_i  }\n",
    "{m\\sum_{i=1}^{m} x_i^2 - \\left(\\sum_{i=1}^{m} x_i\\right)^2}   \\\\\n",
    "\\end{align}"
   ]
  },
  {
   "cell_type": "markdown",
   "metadata": {
    "colab_type": "text",
    "id": "P6BS40QyLqe-"
   },
   "source": [
    "\\begin{align}\n",
    "a_0= &\\frac{\\sum_{i=1}^{m} x_i^2\\sum_{i=1}^{m} y_i-\\sum_{i=1}^{m}x_i\\sum_{i=1}^{m} x_iy_i  }\n",
    "{m\\sum_{i=1}^{m} x_i^2 - \\left(\\sum_{i=1}^{m} x_i\\right)^2}   \\\\\n",
    "\\end{align}"
   ]
  },
  {
   "cell_type": "markdown",
   "metadata": {
    "colab_type": "text",
    "id": "c73y29bGL_2v"
   },
   "source": [
    "where the coefficients $a_0$ and $a_1$ can be easily obtained\n",
    "\n",
    "$$\n",
    "a_0 = \\frac{\\sum_{i=1}^{m} x_i^2\\sum_{i=1}^{m}y_i - \\sum_{i=1}^{m} x_iy_i \\sum_{i=1}^{m} x_i }\n",
    "{m\\sum_{i=1}^{m} x_i^2 - \\left(\\sum_{i=1}^{m} x_i\\right)^2}\\,, \\hspace{1.5cm}\n",
    "a_1 = \\frac{m\\sum_{i=1}^{m} x_iy_i - \\sum_{i=1}^{m} x_i \\sum_{i=1}^{m} y_i }\n",
    "{m\\sum_{i=1}^{m} x_i^2 - \\left(\\sum_{i=1}^{m} x_i\\right)^2} \n",
    "$$\n",
    "\n",
    "Now, using the error definition one can find the error associated to the approximation made,\n",
    "\n",
    "since the coefficients $a_0$ and $a_1$ are already known. "
   ]
  },
  {
   "cell_type": "markdown",
   "metadata": {
    "colab_type": "text",
    "id": "T7TZF-WeBsFt"
   },
   "source": [
    "From [Least sqaure method in python](https://stackoverflow.com/a/43623588/2268280):\n",
    "\n",
    "> There are many [curve fitting](https://python4mpia.github.io/fitting_data/fitting_data.html) functions in scipy and numpy and each is used differently, e.g. [scipy.optimize.leastsq](https://docs.scipy.org/doc/scipy/reference/generated/scipy.optimize.leastsq.html) and [scipy.optimize.least_squares](https://docs.scipy.org/doc/scipy/reference/generated/scipy.optimize.least_squares.html). For simplicity, we will use [scipy.optimize.curve_fit](https://docs.scipy.org/doc/scipy/reference/generated/scipy.optimize.curve_fit.html), but it is difficult to find an optimized regression curve without selecting reasonable starting parameters. A simple technique will later be demonstrated on selecting starting parameters.\n",
    "\n",
    "In our first example the starting parameters will be just zeros"
   ]
  },
  {
   "cell_type": "markdown",
   "metadata": {
    "colab_type": "text",
    "id": "fBRt-ri7BsFw"
   },
   "source": [
    "## Example 1"
   ]
  },
  {
   "cell_type": "markdown",
   "metadata": {
    "colab_type": "text",
    "id": "ofp7NY8fBsF0"
   },
   "source": [
    "A body is moving under the influence of an external force, the variation of the position measured for different \n",
    "times are compiled in table 1 \n",
    "\n",
    "| t(s) | x(m) | v(m/s)         \n",
    "| :------: |:-------------: | :-------:|\n",
    "|0| 2.76 | 33.10\n",
    "| 1.11| 29.66 | 21.33\n",
    "| 2.22|46.83 | 16.57\n",
    "|3.33 | 44.08 |-5.04\n",
    "| 4.44| 37.26| -11.74\n",
    "| 5.55| 12.03| -27.32| \n"
   ]
  },
  {
   "cell_type": "code",
   "execution_count": 7,
   "metadata": {},
   "outputs": [
    {
     "name": "stdout",
     "output_type": "stream",
     "text": [
      "Populating the interactive namespace from numpy and matplotlib\n"
     ]
    }
   ],
   "source": [
    "%pylab inline"
   ]
  },
  {
   "cell_type": "code",
   "execution_count": 3,
   "metadata": {
    "colab": {},
    "colab_type": "code",
    "id": "Vf0fRX69BsF2"
   },
   "outputs": [],
   "source": [
    "import pandas as pd"
   ]
  },
  {
   "cell_type": "code",
   "execution_count": 4,
   "metadata": {
    "colab": {
     "base_uri": "https://localhost:8080/",
     "height": 225
    },
    "colab_type": "code",
    "id": "YGJ5sVVuBsGA",
    "outputId": "60508d74-e84a-47a2-89f1-5c9e24a12fb2"
   },
   "outputs": [
    {
     "data": {
      "text/html": [
       "<div>\n",
       "<style scoped>\n",
       "    .dataframe tbody tr th:only-of-type {\n",
       "        vertical-align: middle;\n",
       "    }\n",
       "\n",
       "    .dataframe tbody tr th {\n",
       "        vertical-align: top;\n",
       "    }\n",
       "\n",
       "    .dataframe thead th {\n",
       "        text-align: right;\n",
       "    }\n",
       "</style>\n",
       "<table border=\"1\" class=\"dataframe\">\n",
       "  <thead>\n",
       "    <tr style=\"text-align: right;\">\n",
       "      <th></th>\n",
       "      <th>t</th>\n",
       "      <th>v</th>\n",
       "    </tr>\n",
       "  </thead>\n",
       "  <tbody>\n",
       "    <tr>\n",
       "      <th>0</th>\n",
       "      <td>0.00</td>\n",
       "      <td>33.10</td>\n",
       "    </tr>\n",
       "    <tr>\n",
       "      <th>1</th>\n",
       "      <td>1.11</td>\n",
       "      <td>21.33</td>\n",
       "    </tr>\n",
       "    <tr>\n",
       "      <th>2</th>\n",
       "      <td>2.22</td>\n",
       "      <td>16.57</td>\n",
       "    </tr>\n",
       "    <tr>\n",
       "      <th>3</th>\n",
       "      <td>3.33</td>\n",
       "      <td>-5.04</td>\n",
       "    </tr>\n",
       "    <tr>\n",
       "      <th>4</th>\n",
       "      <td>4.44</td>\n",
       "      <td>-11.74</td>\n",
       "    </tr>\n",
       "    <tr>\n",
       "      <th>5</th>\n",
       "      <td>5.55</td>\n",
       "      <td>-27.32</td>\n",
       "    </tr>\n",
       "  </tbody>\n",
       "</table>\n",
       "</div>"
      ],
      "text/plain": [
       "      t      v\n",
       "0  0.00  33.10\n",
       "1  1.11  21.33\n",
       "2  2.22  16.57\n",
       "3  3.33  -5.04\n",
       "4  4.44 -11.74\n",
       "5  5.55 -27.32"
      ]
     },
     "execution_count": 4,
     "metadata": {},
     "output_type": "execute_result"
    }
   ],
   "source": [
    "#'x': [2.76,  29.66,46.83,44.08,37.26,12.03],\n",
    "df=pd.DataFrame( {'t': [ 0.,  1.11,  2.22,  3.33,  4.44, 5.55],#'x': [2.76,  29.66,46.83,44.08,37.26,12.03],\n",
    "                  'v': [33.10, 21.33, 16.57, -5.04, -11.74, -27.32]} )\n",
    "df[['t','v']]"
   ]
  },
  {
   "cell_type": "code",
   "execution_count": 5,
   "metadata": {
    "colab": {
     "base_uri": "https://localhost:8080/",
     "height": 282
    },
    "colab_type": "code",
    "id": "QkN3TR5NBsGJ",
    "outputId": "153342da-67a7-4c2e-889d-8c9003fc3791"
   },
   "outputs": [
    {
     "data": {
      "image/png": "[encoded data removed]",
      "text/plain": [
       "<Figure size 432x288 with 1 Axes>"
      ]
     },
     "metadata": {
      "needs_background": "light"
     },
     "output_type": "display_data"
    }
   ],
   "source": [
    "plt.plot(df.t,df.v,'ro')\n",
    "plt.xlabel('$t$ [s]',size=15 )\n",
    "plt.ylabel('$v$ [m/s]',size=15 )\n",
    "plt.grid()"
   ]
  },
  {
   "cell_type": "code",
   "execution_count": 7,
   "metadata": {
    "colab": {},
    "colab_type": "code",
    "id": "IcEnlISIBsGU"
   },
   "outputs": [],
   "source": [
    "import scipy.optimize as optimize"
   ]
  },
  {
   "cell_type": "code",
   "execution_count": 10,
   "metadata": {
    "colab": {},
    "colab_type": "code",
    "id": "YnwJIU_vBsGb"
   },
   "outputs": [],
   "source": [
    "def func(t,a1,a0):\n",
    "    return a1*t+a0"
   ]
  },
  {
   "cell_type": "markdown",
   "metadata": {},
   "source": [
    "The starting point is optional"
   ]
  },
  {
   "cell_type": "code",
   "execution_count": 11,
   "metadata": {
    "colab": {},
    "colab_type": "code",
    "id": "UFQC5b6AVWx0"
   },
   "outputs": [],
   "source": [
    "starting_parameters=[0,0]"
   ]
  },
  {
   "cell_type": "code",
   "execution_count": 12,
   "metadata": {
    "colab": {},
    "colab_type": "code",
    "id": "IE1rQ4_kBsGh"
   },
   "outputs": [],
   "source": [
    "a,Δa=optimize.curve_fit(func,df.t,df.v,p0=starting_parameters)"
   ]
  },
  {
   "cell_type": "code",
   "execution_count": 13,
   "metadata": {},
   "outputs": [
    {
     "data": {
      "text/plain": [
       "array([-10.88597169,  34.69190478])"
      ]
     },
     "execution_count": 13,
     "metadata": {},
     "output_type": "execute_result"
    }
   ],
   "source": [
    "a"
   ]
  },
  {
   "cell_type": "markdown",
   "metadata": {},
   "source": [
    "The correlation matrix,$\\Delta a$ , give as the error in the determination of the parameters"
   ]
  },
  {
   "cell_type": "code",
   "execution_count": 14,
   "metadata": {},
   "outputs": [
    {
     "data": {
      "text/plain": [
       "array([[ 0.68398817, -1.89806718],\n",
       "       [-1.89806718,  7.72513347]])"
      ]
     },
     "execution_count": 14,
     "metadata": {},
     "output_type": "execute_result"
    }
   ],
   "source": [
    "Δa"
   ]
  },
  {
   "cell_type": "code",
   "execution_count": 15,
   "metadata": {},
   "outputs": [
    {
     "data": {
      "text/plain": [
       "array([0.68398817, 7.72513347])"
      ]
     },
     "execution_count": 15,
     "metadata": {},
     "output_type": "execute_result"
    }
   ],
   "source": [
    "np.diag(Δa)"
   ]
  },
  {
   "cell_type": "code",
   "execution_count": 16,
   "metadata": {
    "colab": {
     "base_uri": "https://localhost:8080/",
     "height": 52
    },
    "colab_type": "code",
    "id": "2I36ufAgBsGm",
    "outputId": "731c2082-8382-4b93-8eb7-92248b1881b4"
   },
   "outputs": [
    {
     "name": "stdout",
     "output_type": "stream",
     "text": [
      "[-10.88597169  34.69190478]\n",
      "--------------------\n",
      "[[ 0.68398817 -1.89806718]\n",
      " [-1.89806718  7.72513347]]\n",
      "--------------------\n",
      "a1=-10.89±0.83, a0=34.7±2.8\n"
     ]
    }
   ],
   "source": [
    "print(a)\n",
    "print('-'*20)\n",
    "print(Δa)\n",
    "σ = np.sqrt(np.diag(Δa))\n",
    "print('-'*20)\n",
    "print('a1={:.2f}±{:.2f}, a0={:.1f}±{:.1f}'.format(a[0],σ[0],a[1],σ[1]) )"
   ]
  },
  {
   "cell_type": "code",
   "execution_count": 17,
   "metadata": {
    "colab": {},
    "colab_type": "code",
    "id": "HO_aUb_CBsGu"
   },
   "outputs": [],
   "source": [
    "t_lin=np.linspace(0,5.55)\n",
    "v_model=func(t_lin,*a) #func(t_lin,a[0],a[1])\n",
    "df['v_fitted']=func(df.t,*a)"
   ]
  },
  {
   "cell_type": "code",
   "execution_count": 18,
   "metadata": {
    "colab": {
     "base_uri": "https://localhost:8080/",
     "height": 225
    },
    "colab_type": "code",
    "id": "Rawx3qY4BsG0",
    "outputId": "e01a1121-4684-49c4-fa3e-3d8dfc7b086b"
   },
   "outputs": [
    {
     "data": {
      "text/html": [
       "<div>\n",
       "<style scoped>\n",
       "    .dataframe tbody tr th:only-of-type {\n",
       "        vertical-align: middle;\n",
       "    }\n",
       "\n",
       "    .dataframe tbody tr th {\n",
       "        vertical-align: top;\n",
       "    }\n",
       "\n",
       "    .dataframe thead th {\n",
       "        text-align: right;\n",
       "    }\n",
       "</style>\n",
       "<table border=\"1\" class=\"dataframe\">\n",
       "  <thead>\n",
       "    <tr style=\"text-align: right;\">\n",
       "      <th></th>\n",
       "      <th>t</th>\n",
       "      <th>v</th>\n",
       "      <th>v2_fitted</th>\n",
       "      <th>v_fitted</th>\n",
       "    </tr>\n",
       "  </thead>\n",
       "  <tbody>\n",
       "    <tr>\n",
       "      <th>0</th>\n",
       "      <td>0.00</td>\n",
       "      <td>33.10</td>\n",
       "      <td>33.096072</td>\n",
       "      <td>34.691905</td>\n",
       "    </tr>\n",
       "    <tr>\n",
       "      <th>1</th>\n",
       "      <td>1.11</td>\n",
       "      <td>21.33</td>\n",
       "      <td>22.927643</td>\n",
       "      <td>22.608476</td>\n",
       "    </tr>\n",
       "    <tr>\n",
       "      <th>2</th>\n",
       "      <td>2.22</td>\n",
       "      <td>16.57</td>\n",
       "      <td>11.801714</td>\n",
       "      <td>10.525048</td>\n",
       "    </tr>\n",
       "    <tr>\n",
       "      <th>3</th>\n",
       "      <td>3.33</td>\n",
       "      <td>-5.04</td>\n",
       "      <td>-0.281715</td>\n",
       "      <td>-1.558381</td>\n",
       "    </tr>\n",
       "    <tr>\n",
       "      <th>4</th>\n",
       "      <td>4.44</td>\n",
       "      <td>-11.74</td>\n",
       "      <td>-13.322643</td>\n",
       "      <td>-13.641810</td>\n",
       "    </tr>\n",
       "    <tr>\n",
       "      <th>5</th>\n",
       "      <td>5.55</td>\n",
       "      <td>-27.32</td>\n",
       "      <td>-27.321071</td>\n",
       "      <td>-25.725238</td>\n",
       "    </tr>\n",
       "  </tbody>\n",
       "</table>\n",
       "</div>"
      ],
      "text/plain": [
       "      t      v  v2_fitted   v_fitted\n",
       "0  0.00  33.10  33.096072  34.691905\n",
       "1  1.11  21.33  22.927643  22.608476\n",
       "2  2.22  16.57  11.801714  10.525048\n",
       "3  3.33  -5.04  -0.281715  -1.558381\n",
       "4  4.44 -11.74 -13.322643 -13.641810\n",
       "5  5.55 -27.32 -27.321071 -25.725238"
      ]
     },
     "execution_count": 18,
     "metadata": {},
     "output_type": "execute_result"
    }
   ],
   "source": [
    "df"
   ]
  },
  {
   "cell_type": "code",
   "execution_count": 19,
   "metadata": {
    "colab": {
     "base_uri": "https://localhost:8080/",
     "height": 305
    },
    "colab_type": "code",
    "id": "gLiwTDi4BsG6",
    "outputId": "f677f02c-89d2-4895-cacd-17b915a5a65a"
   },
   "outputs": [
    {
     "data": {
      "image/png": "[encoded data removed]",
      "text/plain": [
       "<Figure size 432x288 with 1 Axes>"
      ]
     },
     "metadata": {
      "needs_background": "light"
     },
     "output_type": "display_data"
    }
   ],
   "source": [
    "plt.plot(df.t,df.v,'b.',label='exp. data')\n",
    "plt.plot(df.t,a[0]*df.t+a[1],'g-',lw=2,label=\"Linear adjust\")\n",
    "for i in range(df.t.size):\n",
    "    plt.plot(np.array([df.t[i],df.t[i]]), np.array([df.v[i],df.v_fitted[i] ]),\"c-\")\n",
    "    \n",
    "plt.xlabel( \"$t$ [s]\", fontsize = 18 )\n",
    "plt.ylabel( \"$v$  [m/s]\", fontsize = 18 )\n",
    "plt.title(\"Linear data adjust\")\n",
    "plt.legend()\n",
    "plt.grid()    "
   ]
  },
  {
   "cell_type": "markdown",
   "metadata": {},
   "source": [
    "__Activity__: plot the error bands. Use https://beta.deepnote.com/project/4b6ea05f-f155-4eae-959c-cd064deaa7b6"
   ]
  },
  {
   "cell_type": "markdown",
   "metadata": {},
   "source": [
    "__Activity__: Solve the problem with `fmin_powell` for the fit only (not the error correlation matrix)\n",
    "$$\n",
    "E = E(a_0,a_1) = \\sum_{i=1}^{m}[y_i - (a_1 x_i + a_0)]^2 \n",
    "$$\n",
    "\n",
    "__Solution__:\n",
    "Let a=[a_0,a_1]"
   ]
  },
  {
   "cell_type": "code",
   "execution_count": 20,
   "metadata": {},
   "outputs": [],
   "source": [
    "def E(a,x=df.t.values,y=df.v.values):\n",
    "    return ((y-(a[1]*x+a[0]))**2).sum()"
   ]
  },
  {
   "cell_type": "code",
   "execution_count": 21,
   "metadata": {},
   "outputs": [
    {
     "data": {
      "text/plain": [
       "2686.9554000000003"
      ]
     },
     "execution_count": 21,
     "metadata": {},
     "output_type": "execute_result"
    }
   ],
   "source": [
    "E([1,0])"
   ]
  },
  {
   "cell_type": "code",
   "execution_count": 22,
   "metadata": {},
   "outputs": [
    {
     "data": {
      "text/plain": [
       "3105.6670999999997"
      ]
     },
     "execution_count": 22,
     "metadata": {},
     "output_type": "execute_result"
    }
   ],
   "source": [
    "E([2,1])"
   ]
  },
  {
   "cell_type": "code",
   "execution_count": 23,
   "metadata": {},
   "outputs": [
    {
     "data": {
      "text/plain": [
       "79.44340000000005"
      ]
     },
     "execution_count": 23,
     "metadata": {},
     "output_type": "execute_result"
    }
   ],
   "source": [
    "E([33,-10])"
   ]
  },
  {
   "cell_type": "code",
   "execution_count": 24,
   "metadata": {},
   "outputs": [],
   "source": [
    "def Ea0(x,a1=-10):\n",
    "    EE=[]\n",
    "    for a0 in x:\n",
    "        EE.append( E([a0,a1]))\n",
    "    return np.array(EE)"
   ]
  },
  {
   "cell_type": "code",
   "execution_count": 25,
   "metadata": {},
   "outputs": [
    {
     "data": {
      "text/plain": [
       "array([5560.2434, 5203.4434])"
      ]
     },
     "execution_count": 25,
     "metadata": {},
     "output_type": "execute_result"
    }
   ],
   "source": [
    "Ea0([2,3])"
   ]
  },
  {
   "cell_type": "code",
   "execution_count": 26,
   "metadata": {},
   "outputs": [
    {
     "data": {
      "text/plain": [
       "[<matplotlib.lines.Line2D at 0x7fee2bd61190>]"
      ]
     },
     "execution_count": 26,
     "metadata": {},
     "output_type": "execute_result"
    },
    {
     "data": {
      "image/png": "[encoded data removed]",
      "text/plain": [
       "<Figure size 432x288 with 1 Axes>"
      ]
     },
     "metadata": {
      "needs_background": "light"
     },
     "output_type": "display_data"
    }
   ],
   "source": [
    "a0=np.linspace(10,50)\n",
    "plt.plot(a0,Ea0(a0,-10))"
   ]
  },
  {
   "cell_type": "code",
   "execution_count": 27,
   "metadata": {},
   "outputs": [
    {
     "name": "stdout",
     "output_type": "stream",
     "text": [
      "Optimization terminated successfully.\n",
      "         Current function value: 58.991928\n",
      "         Iterations: 5\n",
      "         Function evaluations: 169\n"
     ]
    },
    {
     "data": {
      "text/plain": [
       "(array([ 34.69190471, -10.88597167]),\n",
       " 58.99192761904762,\n",
       " array([[ 9.58580558, -2.62474386],\n",
       "        [ 0.03589244,  0.0271459 ]]),\n",
       " 5,\n",
       " 169,\n",
       " 0)"
      ]
     },
     "execution_count": 27,
     "metadata": {},
     "output_type": "execute_result"
    }
   ],
   "source": [
    "optimize.fmin_powell(E,[0,0],full_output=True)"
   ]
  },
  {
   "cell_type": "markdown",
   "metadata": {
    "colab_type": "text",
    "id": "cOlJ375RBsHF"
   },
   "source": [
    "## How does this work:\n",
    "From [Least sqaure method in python](https://stackoverflow.com/a/43623588/2268280):\n",
    "\n",
    "> [curve_fit]() is one of many optimization functions offered by scipy. Given an initial value, the resulting estimated parameters are iteratively refined so that the resulting curve minimizes the residual error, or difference between the fitted line and sampling data. A better guess reduces the number of iterations and speeds up the result. With these estimated parameters for the fitted curve, one can now calculate the specific coefficients for a particular equation (a final exercise left to the OP)."
   ]
  },
  {
   "cell_type": "markdown",
   "metadata": {},
   "source": [
    "## Example: Least Action\n",
    "[Least_action_minimization.ipynb](./Least_action_minimization.ipynb)"
   ]
  },
  {
   "cell_type": "markdown",
   "metadata": {
    "colab_type": "text",
    "id": "ov-qmQoQBsHa"
   },
   "source": [
    "## Non-linear least square"
   ]
  },
  {
   "cell_type": "markdown",
   "metadata": {
    "colab_type": "text",
    "id": "2VCre7UHBsHc"
   },
   "source": [
    "In general, it can be used any polynomial order to adjust a data set, since it is satisfied that $n<m-1$,\n",
    "with n the order of the polynomial and m the number of points known. Then, we have\n",
    "$$\n",
    "P_n(x) = a_nx^n + a_{n-1}x^{n-1}+...+a_1x+a_0\n",
    "$$\n",
    "\n",
    "Using a similar procedure followed in linear least square approximation, it is chose the constants $a_0,...a_n$ to minimize\n",
    "the least square error \n",
    "\n",
    "$$\n",
    "E = \\sum_{i=1}^{m} ( y_i - P_n(x_i) )^2\n",
    "= \\sum_{i=1}^{m} ( y_i - \\sum_{j=0}^{n}a_jx_i^j )^2\n",
    "$$\n",
    "\n",
    "Expanding the square difference and taking into account that E to be minimized requires that $\\partial E/ \n",
    "\\partial a_j = 0 $ for each $j=0,1,...n$. Following these arguments, it is found that the n+1 equations needed\n",
    "to solve to find the coefficients $a_j$ are\n",
    "\n",
    "$$\n",
    "\\sum_{k=0}^{n} a_k \\sum_{i=1}^{m}x_i^{j+k} = \\sum_{i=1}^{m}y_ix_i^j\n",
    "$$\n",
    "\n",
    "for each $j=0,1,...n$. A better way to show the equations, where m is the data length and n is the polynomial\n",
    "order, is \n",
    "\n",
    "\\begin{align}\n",
    "a_0\\sum_{i=1}^{m}x_i^0 + a_1\\sum_{i=1}^{m}x_i^1 + a_2\\sum_{i=1}^{m}x_i^2 + ... +  a_n\\sum_{i=1}^{m}x_i^n =  \\sum_{i=1}^{m}y_i x_i^0 \\\\\n",
    "a_0\\sum_{i=1}^{m}x_i^1 + a_1\\sum_{i=1}^{m}x_i^2 + a_2\\sum_{i=1}^{m}x_i^3 + ... +  a_n\\sum_{i=1}^{m}x_i^{n+1} =  \\sum_{i=1}^{m}y_i x_i^1\\\\ \n",
    "\\dotsc \\\\\n",
    "a_0\\sum_{i=1}^{m}x_i^n + a_1\\sum_{i=1}^{m}x_i^{n+1} + a_2\\sum_{i=1}^{m}x_i^{n+2} + ... +  a_n\\sum_{i=1}^{m}x_i^{2n} =  \\sum_{i=1}^{m}y_i x_i^n\n",
    "\\end{align}\n",
    "\n",
    "Again, the error associated to the approximation can be obtained by initial definition of E. The error can also be defined \n",
    "using a weight function $W_i$ as\n",
    "\n",
    "$$\n",
    "E = \\sum_{i=1}^{m} W_i( y_i - P_n(x_i) )^2\n",
    "$$\n",
    "\n",
    "this function $W_i$ can be defined in several ways. If $W_i = \\sigma_i$, i.e., the standard deviation per point, $y_i\\pm \\sigma_i$, it is necessary to know the probability distribution followed by the experiments. In these cases where it is not known,\n",
    "it is usually taken as one. "
   ]
  },
  {
   "cell_type": "markdown",
   "metadata": {
    "colab_type": "text",
    "id": "0o0QRuj1BsHd"
   },
   "source": [
    "## <font color='red'>     **Activity** </font>"
   ]
  },
  {
   "cell_type": "markdown",
   "metadata": {
    "colab_type": "text",
    "id": "RWu5luLmBsHf"
   },
   "source": [
    "<font color='red'> \n",
    "Adjust the position column data in the table 1 to a second order polynomial. What is the acceleration suffered\n",
    "by the body?\n",
    "</font>\n"
   ]
  },
  {
   "cell_type": "code",
   "execution_count": 28,
   "metadata": {
    "colab": {},
    "colab_type": "code",
    "id": "No7rs6J7Xtkv"
   },
   "outputs": [],
   "source": [
    "def func(t,a2,a1,a0):\n",
    "    return a2*t**2+a1*t+a0\n",
    "a,kk=optimize.curve_fit(func,df.t,df.v)\n",
    "t_lin=np.linspace(0,5.55)\n",
    "v2_model=func(t_lin,*a)\n",
    "df['v2_fitted']=func(df.t,*a)"
   ]
  },
  {
   "cell_type": "code",
   "execution_count": 29,
   "metadata": {
    "colab": {
     "base_uri": "https://localhost:8080/",
     "height": 225
    },
    "colab_type": "code",
    "id": "LF1w9PnMYT-u",
    "outputId": "93803f85-586a-4b26-aea9-91e94e46a9c4"
   },
   "outputs": [
    {
     "data": {
      "text/html": [
       "<div>\n",
       "<style scoped>\n",
       "    .dataframe tbody tr th:only-of-type {\n",
       "        vertical-align: middle;\n",
       "    }\n",
       "\n",
       "    .dataframe tbody tr th {\n",
       "        vertical-align: top;\n",
       "    }\n",
       "\n",
       "    .dataframe thead th {\n",
       "        text-align: right;\n",
       "    }\n",
       "</style>\n",
       "<table border=\"1\" class=\"dataframe\">\n",
       "  <thead>\n",
       "    <tr style=\"text-align: right;\">\n",
       "      <th></th>\n",
       "      <th>t</th>\n",
       "      <th>v</th>\n",
       "      <th>v2_fitted</th>\n",
       "      <th>v_fitted</th>\n",
       "    </tr>\n",
       "  </thead>\n",
       "  <tbody>\n",
       "    <tr>\n",
       "      <th>0</th>\n",
       "      <td>0.00</td>\n",
       "      <td>33.10</td>\n",
       "      <td>33.096072</td>\n",
       "      <td>34.691905</td>\n",
       "    </tr>\n",
       "    <tr>\n",
       "      <th>1</th>\n",
       "      <td>1.11</td>\n",
       "      <td>21.33</td>\n",
       "      <td>22.927643</td>\n",
       "      <td>22.608476</td>\n",
       "    </tr>\n",
       "    <tr>\n",
       "      <th>2</th>\n",
       "      <td>2.22</td>\n",
       "      <td>16.57</td>\n",
       "      <td>11.801714</td>\n",
       "      <td>10.525048</td>\n",
       "    </tr>\n",
       "    <tr>\n",
       "      <th>3</th>\n",
       "      <td>3.33</td>\n",
       "      <td>-5.04</td>\n",
       "      <td>-0.281715</td>\n",
       "      <td>-1.558381</td>\n",
       "    </tr>\n",
       "    <tr>\n",
       "      <th>4</th>\n",
       "      <td>4.44</td>\n",
       "      <td>-11.74</td>\n",
       "      <td>-13.322643</td>\n",
       "      <td>-13.641810</td>\n",
       "    </tr>\n",
       "    <tr>\n",
       "      <th>5</th>\n",
       "      <td>5.55</td>\n",
       "      <td>-27.32</td>\n",
       "      <td>-27.321071</td>\n",
       "      <td>-25.725238</td>\n",
       "    </tr>\n",
       "  </tbody>\n",
       "</table>\n",
       "</div>"
      ],
      "text/plain": [
       "      t      v  v2_fitted   v_fitted\n",
       "0  0.00  33.10  33.096072  34.691905\n",
       "1  1.11  21.33  22.927643  22.608476\n",
       "2  2.22  16.57  11.801714  10.525048\n",
       "3  3.33  -5.04  -0.281715  -1.558381\n",
       "4  4.44 -11.74 -13.322643 -13.641810\n",
       "5  5.55 -27.32 -27.321071 -25.725238"
      ]
     },
     "execution_count": 29,
     "metadata": {},
     "output_type": "execute_result"
    }
   ],
   "source": [
    "df"
   ]
  },
  {
   "cell_type": "code",
   "execution_count": 30,
   "metadata": {
    "colab": {
     "base_uri": "https://localhost:8080/",
     "height": 305
    },
    "colab_type": "code",
    "id": "EOey_XZoYomW",
    "outputId": "be6116ee-790b-4e53-a821-cc55a621bd63"
   },
   "outputs": [
    {
     "data": {
      "image/png": "[encoded data removed]",
      "text/plain": [
       "<Figure size 432x288 with 1 Axes>"
      ]
     },
     "metadata": {
      "needs_background": "light"
     },
     "output_type": "display_data"
    }
   ],
   "source": [
    "plt.plot(df.t,df.v,'b.',label='exp. data')\n",
    "plt.plot(t_lin,v_model,'g-',lw=2,label=\"Linear adjust\")\n",
    "plt.plot(t_lin,v2_model,'r--',lw=2,label=\"quadratic adjust\")\n",
    "for i in range(df.t.size):\n",
    "    plt.plot(np.array([df.t[i],df.t[i]]), np.array([df.v[i],df.v_fitted[i] ]),\"c-\")\n",
    "    \n",
    "plt.xlabel( \"$t$ [s]\", fontsize = 18 )\n",
    "plt.ylabel( \"$v$  [m/s]\", fontsize = 18 )\n",
    "plt.title(\"Linear data adjust\")\n",
    "plt.legend()\n",
    "plt.grid(1)    "
   ]
  },
  {
   "cell_type": "markdown",
   "metadata": {
    "colab_type": "text",
    "id": "Unu1o3YMBsHh"
   },
   "source": [
    "## <font color='red'>     **Activity** </font>\n"
   ]
  },
  {
   "cell_type": "markdown",
   "metadata": {
    "colab_type": "text",
    "id": "d5xD53YiBsHj"
   },
   "source": [
    "<font color='red'> \n",
    "The air drag for a sphere that is moving at high speeds can be expresed in the following form \n",
    "$$\n",
    "f_{drag} = -\\frac{1}{2} C \\rho A v^2\n",
    "$$\n",
    "\n",
    "where C is the drag coefficient(0.5 for a sphere), $\\rho$ is the air density (1.29kg/$m^3$) \n",
    "and A is the cross-sectional area. \n",
    "Generate points that have a bias of the value obtanied with\n",
    "$f_{drag}$ using np.random.random. \n",
    "\n",
    "\n",
    "Afterwards, use a second order polynomial to fit the data \n",
    "generated and find the error associated to the approximation. \n",
    "</font>"
   ]
  },
  {
   "cell_type": "code",
   "execution_count": 44,
   "metadata": {},
   "outputs": [],
   "source": [
    "import scipy.optimize as optimize"
   ]
  },
  {
   "cell_type": "markdown",
   "metadata": {},
   "source": [
    "## Fit to a non-linear function\n",
    "$$\n",
    "f(x)=A \\operatorname{e}^{cx} + d\\,.\n",
    "$$\n",
    "Determinar: $A,c,d$"
   ]
  },
  {
   "cell_type": "code",
   "execution_count": 57,
   "metadata": {
    "colab": {},
    "colab_type": "code",
    "id": "1f8iqq0cBsHl"
   },
   "outputs": [],
   "source": [
    "import pandas as pd\n",
    "T_values = np.array([222, 284, 308.5, 333, 358, 411, 477, 518, 880, 1080, 1259])\n",
    "C_values = np.array([0.1282, 0.2308, 0.2650, 0.3120 , 0.3547, 0.4530, 0.5556, 0.6154, 0.8932, 0.9103, 0.9316])\n",
    "\n",
    "x_samp = T_values\n",
    "y_samp = C_values"
   ]
  },
  {
   "cell_type": "code",
   "execution_count": 58,
   "metadata": {
    "colab": {},
    "colab_type": "code",
    "id": "W0UI1CatBsHq"
   },
   "outputs": [],
   "source": [
    "def func(x, A, c, d):\n",
    "    return A*np.exp(c*x) + d"
   ]
  },
  {
   "cell_type": "code",
   "execution_count": 59,
   "metadata": {},
   "outputs": [
    {
     "name": "stdout",
     "output_type": "stream",
     "text": [
      "E]stimated Parameters [-1.66301087 -0.0026884   1.00995394]\n"
     ]
    }
   ],
   "source": [
    "# REGRESSION ------------------------------------------------------------------\n",
    "p0 = [-1, -3e-3, 1]                                        # guessed params\n",
    "w, _ = optimize.curve_fit(func, x_samp, y_samp, p0=p0)     \n",
    "print(\"E]stimated Parameters\", w)  \n",
    "\n",
    "# Model\n",
    "x_lin=np.linspace(200,1350)\n",
    "y_model = func(x_lin, *w)"
   ]
  },
  {
   "cell_type": "code",
   "execution_count": 60,
   "metadata": {
    "colab": {},
    "colab_type": "code",
    "id": "KiKVC2i2BsH5",
    "outputId": "cad54ee3-6f4f-4ac0-e7e0-9adbdec5064d"
   },
   "outputs": [
    {
     "data": {
      "text/plain": [
       "Text(0, 0.5, 'f(x)')"
      ]
     },
     "execution_count": 60,
     "metadata": {},
     "output_type": "execute_result"
    },
    {
     "data": {
      "image/png": "[encoded data removed]",
      "text/plain": [
       "<Figure size 432x288 with 1 Axes>"
      ]
     },
     "metadata": {
      "needs_background": "light"
     },
     "output_type": "display_data"
    }
   ],
   "source": [
    "x_lin = np.linspace(0, x_samp.max(), 50)                   # 50 evenly spaced digits between 0 and max\n",
    "# PLOT ------------------------------------------------------------------------\n",
    "# Visualize data and fitted curves\n",
    "plt.plot(x_samp, y_samp, \"ko\", label=\"Data\")\n",
    "plt.plot(x_lin, y_model, \"k--\", label=\"Fit\")\n",
    "plt.title(\"Least squares regression\")\n",
    "plt.legend(loc=\"upper left\")\n",
    "plt.xlabel('x')\n",
    "plt.ylabel('f(x)')"
   ]
  },
  {
   "cell_type": "code",
   "execution_count": 61,
   "metadata": {
    "colab": {},
    "colab_type": "code",
    "id": "3pk7TUB5BsH-",
    "outputId": "ae7234c5-9fae-4efd-d08a-bfebb65d4310"
   },
   "outputs": [
    {
     "name": "stdout",
     "output_type": "stream",
     "text": [
      "90\r"
     ]
    }
   ],
   "source": [
    "import time\n",
    "for i in range(100):\n",
    "    time.sleep(0.1)\n",
    "    if i%10==0:\n",
    "        print(i,end='\\r')"
   ]
  },
  {
   "cell_type": "markdown",
   "metadata": {},
   "source": [
    "### Example: exponential fit"
   ]
  },
  {
   "cell_type": "markdown",
   "metadata": {},
   "source": [
    "#### Guess the number of pages of a book\n",
    "https://docs.google.com/forms/d/e/1FAIpQLSeZJ0QII5JcST-M9_JgGYNzX3GahULVVFc31DQnWjJ4SdUQwg/viewform?fbclid=IwAR0wEadM0ZH-HXmp3lkAM3emCDPxs_6F509BS3EkOvldp-NFzbCOkZVSjR4"
   ]
  },
  {
   "cell_type": "markdown",
   "metadata": {},
   "source": [
    "$$\n",
    "f(x)=a\\exp\\left[ -\\frac{(x-\\mu)^2}{2\\sigma^2} \\right]\n",
    "$$\n",
    "where $a$ is the height of the gaussian, $\\mu$ is the mean (expected value), and $\\sigma$ es la varianze"
   ]
  },
  {
   "cell_type": "code",
   "execution_count": 31,
   "metadata": {},
   "outputs": [],
   "source": [
    "import pandas as pd"
   ]
  },
  {
   "cell_type": "code",
   "execution_count": 32,
   "metadata": {},
   "outputs": [],
   "source": [
    "df=pd.read_csv('https://docs.google.com/spreadsheets/d/e/2PACX-1vTu_XE2dAiTcjHTfbaVKt7xEl_GnNeF_VYFsIBi5uM-gqBlBRfNHso-X1z3lxV7IW2f9UYKmZkSOYv-/pub?output=csv')"
   ]
  },
  {
   "cell_type": "code",
   "execution_count": 33,
   "metadata": {},
   "outputs": [],
   "source": [
    "df['Guess']=df.Guess.str.replace(',','').astype(int)"
   ]
  },
  {
   "cell_type": "code",
   "execution_count": 34,
   "metadata": {},
   "outputs": [],
   "source": [
    "bins=range(0,1500,100)"
   ]
  },
  {
   "cell_type": "markdown",
   "metadata": {},
   "source": [
    "See solution: [gaussian_fit.ipynb](./gaussian_fit.ipynb)"
   ]
  },
  {
   "cell_type": "markdown",
   "metadata": {},
   "source": [
    "See fit exponential: https://github.com/restrepo/COVID-19"
   ]
  },
  {
   "cell_type": "code",
   "execution_count": 31,
   "metadata": {},
   "outputs": [],
   "source": [
    "import pandas as pd"
   ]
  },
  {
   "cell_type": "code",
   "execution_count": 32,
   "metadata": {},
   "outputs": [],
   "source": [
    "DataSource='https://raw.githubusercontent.com/CSSEGISandData/COVID-19/'\n",
    "DataFile='master/csse_covid_19_data/csse_covid_19_time_series/time_series_covid19_confirmed_global.csv'\n",
    "cva=pd.read_csv('{}{}'.format(DataSource,DataFile))\n",
    "cva=cva.reset_index(drop=True)\n",
    "#Special cases\n",
    "c='Hong Kong'\n",
    "try:\n",
    "    cva.loc[cva[cva['Province/State']==c].index[0],'Country/Region']=c\n",
    "except IndexError:\n",
    "    pass  "
   ]
  },
  {
   "cell_type": "code",
   "execution_count": 35,
   "metadata": {},
   "outputs": [],
   "source": [
    "def index_field(df,column,filter=None):\n",
    "    '''\n",
    "    WARNING: Nonumerical columns are dropped\n",
    "    \n",
    "    Parameters:\n",
    "    ----------\n",
    "    filter: list, default None\n",
    "        Select only the columns in this list\n",
    "    '''\n",
    "    dff=df.copy()\n",
    "    if filter:\n",
    "        dff=df[[column]+list(filter)]\n",
    "    return dff.groupby(column).sum()\n",
    "\n",
    "d=[ c for c in cva.columns if re.search(r'^[0-9]{1,2}\\/[0-9]{1,2}\\/[1920]{2}',c)]\n",
    "cv=index_field(cva,\"Country/Region\",filter=d)"
   ]
  },
  {
   "cell_type": "code",
   "execution_count": null,
   "metadata": {},
   "outputs": [],
   "source": []
  },
  {
   "cell_type": "markdown",
   "metadata": {
    "colab_type": "text",
    "id": "PadKA9WIBsIC"
   },
   "source": [
    "# Random Numbers "
   ]
  },
  {
   "cell_type": "code",
   "execution_count": 35,
   "metadata": {},
   "outputs": [
    {
     "name": "stdout",
     "output_type": "stream",
     "text": [
      "Populating the interactive namespace from numpy and matplotlib\n"
     ]
    }
   ],
   "source": [
    "%pylab inline"
   ]
  },
  {
   "cell_type": "markdown",
   "metadata": {
    "colab_type": "text",
    "id": "KGMlj58KBsIE"
   },
   "source": [
    "In nature it is not uncommon finding phenomena that are random intrinsic, this is why it becomes a necessity to produce random numbers in order to model such events. But, let us think about the operations that a computer can do, they are done following certain stablished rules, how then can be generated random numbers?  \n",
    "\n",
    "This is achieved until certain point, it is only possible produce pseudo numbers, i.e, numbers obtained following some basic rules. At sequence of numbers apparently random but that are going to repeat after some period. \n",
    "\n",
    "Now, the most basic way to understand the generation of a pseudo-random number consists in following the next recurrence rule that produces integer random numbers\n",
    "\n",
    "$$\n",
    "r_{i+1} = (ar_i+b)\\%N \n",
    "$$\n",
    "\n",
    "$r_i$ is the seed, $a$ and $b$ and $N$ are coefficients chose. Notice that $\\%$ represents the module, then the numbers obtained are going to be smaller than N. \n",
    "\n",
    "Now, consider the case when $ a= 3 $, $b = 2$ and $N = 10$ and the initial seed $r_0 = 3$. The new seed is the number obtaine\n",
    "in the last step. "
   ]
  },
  {
   "cell_type": "code",
   "execution_count": 39,
   "metadata": {
    "colab": {
     "base_uri": "https://localhost:8080/",
     "height": 34
    },
    "colab_type": "code",
    "id": "a6qr3z1FbG2p",
    "outputId": "c11035d2-0b9d-4caf-e420-75cb1f38f7d5"
   },
   "outputs": [
    {
     "name": "stdout",
     "output_type": "stream",
     "text": [
      "Populating the interactive namespace from numpy and matplotlib\n"
     ]
    }
   ],
   "source": [
    "%pylab inline"
   ]
  },
  {
   "cell_type": "code",
   "execution_count": 40,
   "metadata": {
    "colab": {
     "base_uri": "https://localhost:8080/",
     "height": 70
    },
    "colab_type": "code",
    "id": "v3q8vZjWBsIF",
    "outputId": "f5a45bde-b239-466c-e55d-582d21fad69d"
   },
   "outputs": [
    {
     "name": "stdout",
     "output_type": "stream",
     "text": [
      "0\n",
      "1\n",
      "2\n",
      "3\n",
      "4\n",
      "5\n",
      "6\n",
      "7\n",
      "8\n",
      "9\n",
      "10\n",
      "11\n",
      "12\n",
      "13\n",
      "14\n",
      "Random numbers produced using a = 4, b = 1 and N = 9\n",
      "\n",
      "[4. 4. 4. 4. 4. 4. 4. 4. 4. 4. 4. 4. 4. 4. 4.]\n"
     ]
    }
   ],
   "source": [
    "import numpy as np\n",
    "# Randon number function \n",
    "def random_number(seed,a=4,b=1,N=9):\n",
    "    return (a*seed + b)%N\n",
    "\n",
    "#Constant values \n",
    "a = 4\n",
    "b = 1\n",
    "N = 9\n",
    "#Amount of random numbers  \n",
    "N_iter = 15\n",
    "rnumber = np.zeros(N_iter+1)\n",
    "#Initial seed\n",
    "rnumber[0] = 4\n",
    "#rnumber[0] = 10\n",
    "\n",
    "for i in range(N_iter): \n",
    "    print(i)\n",
    "    rnumber[i+1] = random_number(seed=rnumber[i],a=3,b=2,N=10)\n",
    "\n",
    "print (\"Random numbers produced using a = %d, b = %d and N = %d\\n\" % ( a,b,N ))  \n",
    "print (rnumber[1:])   "
   ]
  },
  {
   "cell_type": "code",
   "execution_count": 99,
   "metadata": {},
   "outputs": [],
   "source": [
    "x=[]\n",
    "x.append( random_number(seed=2,a=3,b=2,N=10) )"
   ]
  },
  {
   "cell_type": "code",
   "execution_count": 100,
   "metadata": {},
   "outputs": [
    {
     "data": {
      "text/plain": [
       "[8]"
      ]
     },
     "execution_count": 100,
     "metadata": {},
     "output_type": "execute_result"
    }
   ],
   "source": [
    "x"
   ]
  },
  {
   "cell_type": "code",
   "execution_count": 101,
   "metadata": {},
   "outputs": [],
   "source": [
    "x.append( random_number(seed=x[0],a=3,b=2,N=10) )"
   ]
  },
  {
   "cell_type": "code",
   "execution_count": 102,
   "metadata": {},
   "outputs": [
    {
     "data": {
      "text/plain": [
       "[8, 6]"
      ]
     },
     "execution_count": 102,
     "metadata": {},
     "output_type": "execute_result"
    }
   ],
   "source": [
    "x"
   ]
  },
  {
   "cell_type": "code",
   "execution_count": 103,
   "metadata": {},
   "outputs": [
    {
     "data": {
      "text/plain": [
       "[8, 6, 0]"
      ]
     },
     "execution_count": 103,
     "metadata": {},
     "output_type": "execute_result"
    }
   ],
   "source": [
    "x.append( random_number(seed=x[1],a=3,b=2,N=10) )\n",
    "x"
   ]
  },
  {
   "cell_type": "code",
   "execution_count": 104,
   "metadata": {},
   "outputs": [
    {
     "data": {
      "text/plain": [
       "[8, 6, 0, 2]"
      ]
     },
     "execution_count": 104,
     "metadata": {},
     "output_type": "execute_result"
    }
   ],
   "source": [
    "x.append( random_number(seed=x[2],a=3,b=2,N=10) )\n",
    "x"
   ]
  },
  {
   "cell_type": "code",
   "execution_count": 41,
   "metadata": {
    "colab": {},
    "colab_type": "code",
    "id": "i2s6dGgYBsIO"
   },
   "outputs": [],
   "source": [
    "import random\n",
    "import numpy as np\n",
    "import time"
   ]
  },
  {
   "cell_type": "code",
   "execution_count": 42,
   "metadata": {
    "colab": {
     "base_uri": "https://localhost:8080/",
     "height": 52
    },
    "colab_type": "code",
    "id": "wWjZspQ6ciEw",
    "outputId": "be3ef638-8b07-4308-a1ce-c8e3999437f2"
   },
   "outputs": [
    {
     "name": "stdout",
     "output_type": "stream",
     "text": [
      "1648576381.9515793\n",
      "1648576383.9519815\n"
     ]
    }
   ],
   "source": [
    "print( time.time() )\n",
    "time.sleep(2)\n",
    "print( time.time() )"
   ]
  },
  {
   "cell_type": "code",
   "execution_count": 46,
   "metadata": {
    "colab": {
     "base_uri": "https://localhost:8080/",
     "height": 34
    },
    "colab_type": "code",
    "id": "Vbi8kO6jBsIR",
    "outputId": "3338b846-2bb8-4aa9-c0f1-0d1b57a0c677"
   },
   "outputs": [
    {
     "data": {
      "text/plain": [
       "0.1817806243693597"
      ]
     },
     "execution_count": 46,
     "metadata": {},
     "output_type": "execute_result"
    }
   ],
   "source": [
    "random.random() #seed is unix time"
   ]
  },
  {
   "cell_type": "code",
   "execution_count": 49,
   "metadata": {
    "colab": {
     "base_uri": "https://localhost:8080/",
     "height": 34
    },
    "colab_type": "code",
    "id": "_uiVBakGBsIa",
    "outputId": "feaee75d-b5b7-4d81-d249-ce68554d3869"
   },
   "outputs": [
    {
     "data": {
      "text/plain": [
       "(0.6771981606438447, 0.7282646242796362, 0.12733022922307846)"
      ]
     },
     "execution_count": 49,
     "metadata": {},
     "output_type": "execute_result"
    }
   ],
   "source": [
    "x=random.seed(4890098)\n",
    "(random.random(),\n",
    "random.random(),\n",
    "random.random())"
   ]
  },
  {
   "cell_type": "code",
   "execution_count": 117,
   "metadata": {
    "colab": {
     "base_uri": "https://localhost:8080/",
     "height": 34
    },
    "colab_type": "code",
    "id": "SZ_ZYW57BsIf",
    "outputId": "3bc40de6-b79b-4cb4-a4a6-af225ba9a772"
   },
   "outputs": [
    {
     "data": {
      "text/plain": [
       "array([0.92736515, 0.70748058, 0.24424376, 0.39499408, 0.92357371])"
      ]
     },
     "execution_count": 117,
     "metadata": {},
     "output_type": "execute_result"
    }
   ],
   "source": [
    "np.random.random(5)"
   ]
  },
  {
   "cell_type": "code",
   "execution_count": 50,
   "metadata": {
    "colab": {},
    "colab_type": "code",
    "id": "Iv-MXauLBsIh",
    "outputId": "61dbcf2a-f348-467b-c1ee-385fe147a856"
   },
   "outputs": [
    {
     "data": {
      "text/plain": [
       "array([0.4359949 , 0.02592623, 0.54966248, 0.43532239, 0.4203678 ])"
      ]
     },
     "execution_count": 50,
     "metadata": {},
     "output_type": "execute_result"
    }
   ],
   "source": [
    "np.random.seed(2)\n",
    "np.random.random(5)"
   ]
  },
  {
   "cell_type": "markdown",
   "metadata": {
    "colab_type": "text",
    "id": "n3n2naF6BsIm"
   },
   "source": [
    "Notice that after N random numbers produced the apparently random sequence starts repeating again, i.e., N is the period of the sequence. Then, it is necessary to take N as big as possible but without incuring in an overflow.  What happens when the initial seed is changed?  \n",
    "\n",
    "<img src=\"https://github.com/restrepo/ComputationalMethods/blob/master/material/figures/random1.png?raw=1\">\n",
    "\n",
    "To generate random numbers can be used numpy library, specifically the set functions random. There is also another library\n",
    "used random, but it contains few functions comparing with numpy. \n",
    "To generate a random number between 0 and 1 initiallizing the seed with the actual time.\n",
    "\n"
   ]
  },
  {
   "cell_type": "code",
   "execution_count": 51,
   "metadata": {
    "colab": {},
    "colab_type": "code",
    "id": "flQIkBvaBsIn",
    "outputId": "7edc6414-c7e7-4391-fd9c-6a017a1a5a49"
   },
   "outputs": [
    {
     "data": {
      "text/plain": [
       "0.40752641916996357"
      ]
     },
     "execution_count": 51,
     "metadata": {},
     "output_type": "execute_result"
    }
   ],
   "source": [
    "np.random.seed()\n",
    "np.random.random()"
   ]
  },
  {
   "cell_type": "markdown",
   "metadata": {
    "colab_type": "text",
    "id": "PN1FfXYJBsIu"
   },
   "source": [
    "To generate a number between  and a number A"
   ]
  },
  {
   "cell_type": "code",
   "execution_count": 52,
   "metadata": {
    "colab": {
     "base_uri": "https://localhost:8080/",
     "height": 105
    },
    "colab_type": "code",
    "id": "YL8gnAbaBsIw",
    "outputId": "d9b70d59-4e35-4439-8525-fb74203c90d7"
   },
   "outputs": [
    {
     "data": {
      "text/plain": [
       "array([[22.21632213, 60.29284244,  8.56442931, 91.42783875, 86.0081858 ],\n",
       "       [99.46216998, 46.08264511,  2.58167625, 34.74427916, 94.00739576],\n",
       "       [47.91327942, 97.43492355, 48.14226496, 31.91536199, 55.29913019],\n",
       "       [94.82629125, 93.72257406, 20.54625794, 50.40730485, 65.07886211],\n",
       "       [76.044682  , 39.18229805, 82.37652389, 73.11330254, 68.32634285]])"
      ]
     },
     "execution_count": 52,
     "metadata": {},
     "output_type": "execute_result"
    }
   ],
   "source": [
    "A = 100.\n",
    "A*np.random.random((5,5))"
   ]
  },
  {
   "cell_type": "markdown",
   "metadata": {
    "colab_type": "text",
    "id": "AU0sykGKBsI0"
   },
   "source": [
    "To generate a random number between a range -B to B "
   ]
  },
  {
   "cell_type": "code",
   "execution_count": 55,
   "metadata": {
    "colab": {},
    "colab_type": "code",
    "id": "SDx8K9S3BsI1",
    "outputId": "7a46512e-70c8-4b0e-ac84-e038748797cc"
   },
   "outputs": [
    {
     "data": {
      "text/plain": [
       "2.385238175287217"
      ]
     },
     "execution_count": 55,
     "metadata": {},
     "output_type": "execute_result"
    }
   ],
   "source": [
    "B = 15\n",
    "B - 2*B*np.random.random()"
   ]
  },
  {
   "cell_type": "markdown",
   "metadata": {},
   "source": [
    "The implementation in numpy is with:"
   ]
  },
  {
   "cell_type": "code",
   "execution_count": 56,
   "metadata": {
    "colab": {
     "base_uri": "https://localhost:8080/",
     "height": 52
    },
    "colab_type": "code",
    "id": "AUL_MB2ABsI4",
    "outputId": "5d80f9be-df2a-4ebd-ff12-db5ac565669f"
   },
   "outputs": [
    {
     "data": {
      "text/plain": [
       "array([[ -8.86268251,   9.75343193],\n",
       "       [ -7.66765748, -13.58326528]])"
      ]
     },
     "execution_count": 56,
     "metadata": {},
     "output_type": "execute_result"
    }
   ],
   "source": [
    "np.random.uniform(-15,15,(2,2))"
   ]
  },
  {
   "cell_type": "markdown",
   "metadata": {
    "colab_type": "text",
    "id": "HQQ3Srq-BsI7"
   },
   "source": [
    "## Example 2"
   ]
  },
  {
   "cell_type": "markdown",
   "metadata": {
    "colab_type": "text",
    "id": "Jnee7IWbBsI8"
   },
   "source": [
    "### Random walk\n",
    "\n",
    "Start at the origin and take a 2D random walk. It is chosen values for $\\Delta x'$ and $\\Delta y'$ in the range [-1,1].\n",
    "They are normalized so each step is of unit length. "
   ]
  },
  {
   "cell_type": "code",
   "execution_count": 57,
   "metadata": {},
   "outputs": [
    {
     "data": {
      "text/plain": [
       "0.1873752982498531"
      ]
     },
     "execution_count": 57,
     "metadata": {},
     "output_type": "execute_result"
    }
   ],
   "source": [
    "np.random.uniform(1,-1)"
   ]
  },
  {
   "cell_type": "code",
   "execution_count": 58,
   "metadata": {},
   "outputs": [],
   "source": [
    "#Initial positions\n",
    "x0 = 0.\n",
    "y0 = 0.\n",
    "pos = [x0,y0]\n",
    "#Number of random steps\n",
    "N_steps = 1000\n",
    "#Number of random walks\n",
    "N_walks = 3\n",
    "\n",
    "\n",
    "def Random_walk(N, x0=0,y0=0):\n",
    "    pos=[x0,y0]\n",
    "    \n",
    "    x = [x0]   \n",
    "    y = [y0]   \n",
    "\n",
    "    #Generating random positions\n",
    "    for i in range(1,N):\n",
    "        x.append( np.random.uniform(1,-1) + x[i-1] )\n",
    "        y.append( np.random.uniform(1,-1) + y[i-1] )\n",
    "    \n",
    "    return x, y\n",
    "    "
   ]
  },
  {
   "cell_type": "code",
   "execution_count": 59,
   "metadata": {},
   "outputs": [],
   "source": [
    "x,y=Random_walk(500)"
   ]
  },
  {
   "cell_type": "code",
   "execution_count": 60,
   "metadata": {},
   "outputs": [
    {
     "data": {
      "text/plain": [
       "[<matplotlib.lines.Line2D at 0x7fee2bb09460>]"
      ]
     },
     "execution_count": 60,
     "metadata": {},
     "output_type": "execute_result"
    },
    {
     "data": {
      "image/png": "[encoded data removed]",
      "text/plain": [
       "<Figure size 432x288 with 1 Axes>"
      ]
     },
     "metadata": {
      "needs_background": "light"
     },
     "output_type": "display_data"
    }
   ],
   "source": [
    "plt.plot(x,y)"
   ]
  },
  {
   "cell_type": "code",
   "execution_count": 61,
   "metadata": {},
   "outputs": [
    {
     "data": {
      "text/plain": [
       "<matplotlib.legend.Legend at 0x7fee2bc4ba00>"
      ]
     },
     "execution_count": 61,
     "metadata": {},
     "output_type": "execute_result"
    },
    {
     "data": {
      "image/png": "[encoded data removed]",
      "text/plain": [
       "<Figure size 576x432 with 1 Axes>"
      ]
     },
     "metadata": {
      "needs_background": "light"
     },
     "output_type": "display_data"
    }
   ],
   "source": [
    "colors = ('b', 'g', 'c', 'r', 'm', 'y', 'k')\n",
    "axisNum = 0\n",
    "plt.figure( figsize = (8,6) )\n",
    "\n",
    "N_walks=3\n",
    "#Plotting random walks\n",
    "for j,c in zip( range(N_walks),colors):\n",
    "    \n",
    "    axisNum += 1\n",
    "    x,y= Random_walk( N_steps )\n",
    "    #If N_walks > repeat the colors\n",
    "    color = colors[axisNum % len(colors)]  \n",
    "    plt.plot(x,y,\"v-\", color = color, lw= 0.5, label = \"walk %d\"%(j+1))\n",
    "    \n",
    "\n",
    "plt.title(\"Random walks\")\n",
    "plt.legend()"
   ]
  },
  {
   "cell_type": "markdown",
   "metadata": {
    "colab_type": "text",
    "id": "pq9z8GhHBsI_"
   },
   "source": [
    "## <font color='red'>     </font>\n",
    "**Activity** \n"
   ]
  },
  {
   "cell_type": "markdown",
   "metadata": {
    "colab_type": "text",
    "id": "dbKRljv9BsI_"
   },
   "source": [
    "<font color='red'> \n",
    "Radioactive decay: Spontaneous decay is a natural process in which a particle, with no external stimulation, decays into other\n",
    "particles. Then, the total amount of particles in a sample decreases with time, so will the number of decays. \n",
    "The probability decay is constant per particle and is given by  \n",
    "\n",
    "$$\n",
    "P = -\\lambda  \n",
    "$$\n",
    "\n",
    "Determin when radioactive decay looks like exponential decay and when it looks stochastic depending on the initial number of particles $N(t)$ .For this, suposse that the decay rate is 0.3$\\times 10^6 s^{-1}$ . Make a logarithmic plot to show the results. \n",
    "</font>"
   ]
  },
  {
   "cell_type": "code",
   "execution_count": 62,
   "metadata": {
    "colab": {
     "base_uri": "https://localhost:8080/",
     "height": 52
    },
    "colab_type": "code",
    "id": "rOWjJAmxehpS",
    "outputId": "34dc65ee-2f35-4bbf-a019-eb1ced1f9f4b"
   },
   "outputs": [
    {
     "data": {
      "text/plain": [
       "array([[-5.57010373,  5.88567237],\n",
       "       [ 6.24907855, -1.67687866]])"
      ]
     },
     "execution_count": 62,
     "metadata": {},
     "output_type": "execute_result"
    }
   ],
   "source": [
    "np.random.uniform(-15,15,(2,2))"
   ]
  },
  {
   "cell_type": "markdown",
   "metadata": {
    "colab_type": "text",
    "id": "G-JVOfJoesR0"
   },
   "source": [
    "Espacio de parámetros aleatorios\n",
    "\n"
   ]
  },
  {
   "cell_type": "code",
   "execution_count": 64,
   "metadata": {
    "colab": {
     "base_uri": "https://localhost:8080/",
     "height": 282
    },
    "colab_type": "code",
    "id": "ORIfK11NeiLs",
    "outputId": "d7ab9eaa-a6c5-4f91-aea6-9d3d98bede18"
   },
   "outputs": [
    {
     "data": {
      "text/plain": [
       "[<matplotlib.lines.Line2D at 0x7fee2ba46ca0>]"
      ]
     },
     "execution_count": 64,
     "metadata": {},
     "output_type": "execute_result"
    },
    {
     "data": {
      "image/png": "[encoded data removed]",
      "text/plain": [
       "<Figure size 432x288 with 1 Axes>"
      ]
     },
     "metadata": {
      "needs_background": "light"
     },
     "output_type": "display_data"
    }
   ],
   "source": [
    "N=10000\n",
    "plt.plot(np.random.random(N),np.random.random(N),'r.')"
   ]
  },
  {
   "cell_type": "markdown",
   "metadata": {
    "colab_type": "text",
    "id": "ER30yxPffEgT"
   },
   "source": [
    "Hasta dos ordenes de magnitud"
   ]
  },
  {
   "cell_type": "code",
   "execution_count": 65,
   "metadata": {
    "colab": {
     "base_uri": "https://localhost:8080/",
     "height": 282
    },
    "colab_type": "code",
    "id": "8E2TZBbsfdaa",
    "outputId": "635f6983-41ec-46bf-c918-e033e7d467df"
   },
   "outputs": [
    {
     "data": {
      "text/plain": [
       "[<matplotlib.lines.Line2D at 0x7fee2b9aac70>]"
      ]
     },
     "execution_count": 65,
     "metadata": {},
     "output_type": "execute_result"
    },
    {
     "data": {
      "image/png": "[encoded data removed]",
      "text/plain": [
       "<Figure size 432x288 with 1 Axes>"
      ]
     },
     "metadata": {
      "needs_background": "light"
     },
     "output_type": "display_data"
    }
   ],
   "source": [
    "N=10000\n",
    "plt.plot(np.random.uniform(1,100,N),np.random.uniform(1,100,N),'r.')"
   ]
  },
  {
   "cell_type": "markdown",
   "metadata": {
    "colab_type": "text",
    "id": "NmXuewclfqua"
   },
   "source": [
    "Varios ordenes de magnitud: $10^{-4}$ a $10^2$"
   ]
  },
  {
   "cell_type": "code",
   "execution_count": 66,
   "metadata": {
    "colab": {
     "base_uri": "https://localhost:8080/",
     "height": 286
    },
    "colab_type": "code",
    "id": "H_UorYO2gBaB",
    "outputId": "c5d87a9c-66c7-42d1-df0e-f087242d7e3e"
   },
   "outputs": [
    {
     "data": {
      "text/plain": [
       "[<matplotlib.lines.Line2D at 0x7fee2b90bdf0>]"
      ]
     },
     "execution_count": 66,
     "metadata": {},
     "output_type": "execute_result"
    },
    {
     "data": {
      "image/png": "[encoded data removed]",
      "text/plain": [
       "<Figure size 432x288 with 1 Axes>"
      ]
     },
     "metadata": {
      "needs_background": "light"
     },
     "output_type": "display_data"
    }
   ],
   "source": [
    "N=10000\n",
    "plt.loglog(np.random.uniform(1E-4,1E2,N),np.random.uniform(1E-4,1E2,N),'r.')"
   ]
  },
  {
   "cell_type": "markdown",
   "metadata": {
    "colab_type": "text",
    "id": "N6a3V-o4ga_Y"
   },
   "source": [
    "$x=10^{\\log_{10}(x)}$"
   ]
  },
  {
   "cell_type": "code",
   "execution_count": 67,
   "metadata": {
    "colab": {
     "base_uri": "https://localhost:8080/",
     "height": 34
    },
    "colab_type": "code",
    "id": "5iPEDPrigq3w",
    "outputId": "24fa32a9-8a52-4b2d-b754-31ab89821fef"
   },
   "outputs": [
    {
     "data": {
      "text/plain": [
       "24.455999999999996"
      ]
     },
     "execution_count": 67,
     "metadata": {},
     "output_type": "execute_result"
    }
   ],
   "source": [
    "10**np.log10(24.456)"
   ]
  },
  {
   "cell_type": "code",
   "execution_count": 68,
   "metadata": {
    "colab": {
     "base_uri": "https://localhost:8080/",
     "height": 293
    },
    "colab_type": "code",
    "id": "fr5yrb0Hh_0e",
    "outputId": "852ee5cd-d002-44f1-fba8-cdd849592c3e"
   },
   "outputs": [
    {
     "data": {
      "text/plain": [
       "[<matplotlib.lines.Line2D at 0x7fee2b85d220>]"
      ]
     },
     "execution_count": 68,
     "metadata": {},
     "output_type": "execute_result"
    },
    {
     "data": {
      "image/png": "[encoded data removed]",
      "text/plain": [
       "<Figure size 432x288 with 1 Axes>"
      ]
     },
     "metadata": {
      "needs_background": "light"
     },
     "output_type": "display_data"
    }
   ],
   "source": [
    "N=10000\n",
    "xmin=3E-4;xmax=5E2\n",
    "ymin=xmin;ymax=xmax\n",
    "plt.loglog(  10**np.random.uniform(np.log10(xmin),np.log10(xmax),N),\n",
    "             10**np.random.uniform(np.log10(ymin),np.log10(ymax),N),'r.')"
   ]
  },
  {
   "cell_type": "code",
   "execution_count": 158,
   "metadata": {
    "colab": {},
    "colab_type": "code",
    "id": "2Ac2bisUg6oB"
   },
   "outputs": [
    {
     "data": {
      "text/plain": [
       "27"
      ]
     },
     "execution_count": 158,
     "metadata": {},
     "output_type": "execute_result"
    }
   ],
   "source": [
    "np.random.randint(1,100)"
   ]
  },
  {
   "cell_type": "markdown",
   "metadata": {
    "colab": {},
    "colab_type": "code",
    "id": "ZuBJozy-h4GW"
   },
   "source": [
    "## Appendix"
   ]
  },
  {
   "cell_type": "code",
   "execution_count": 40,
   "metadata": {
    "colab": {},
    "colab_type": "code",
    "id": "EO96JCsnBsHG"
   },
   "outputs": [],
   "source": [
    "# Finding adjusting parameters \n",
    "def Linear_least_square( x,y ):\n",
    "    \n",
    "    #Finding coefficients \n",
    "    length = len(x)\n",
    "    square_x = np.sum([x[i]**2 for i in xrange(length)])\n",
    "    sum_xy = np.sum([x[i]*y[i] for i in xrange(length)])\n",
    "    sum_x = np.sum(x)\n",
    "    sum_y = np.sum(y)\n",
    "    a0 = ( square_x*sum_y - sum_xy*sum_x ) / ( length*square_x  - sum_x**2 )\n",
    "    a1 = ( length*sum_xy - sum_x*sum_y ) / ( length*square_x  - sum_x**2 )\n",
    "    \n",
    "    #Returning a_0 and a_1 coefficients\n",
    "    return np.array([a0,a1])\n",
    "\n",
    "#Line function adjusting the data set\n",
    "def Line(a0,a1,x):\n",
    "    return a0+a1*x\n"
   ]
  },
  {
   "cell_type": "code",
   "execution_count": 42,
   "metadata": {
    "colab": {
     "base_uri": "https://localhost:8080/",
     "height": 359
    },
    "colab_type": "code",
    "id": "UcmtrbajBsHP",
    "outputId": "8fcab155-0de2-4a4e-dd29-8817a9eb935d"
   },
   "outputs": [
    {
     "data": {
      "image/png": "[encoded data removed]",
      "text/plain": [
       "<Figure size 576x360 with 1 Axes>"
      ]
     },
     "metadata": {
      "needs_background": "light"
     },
     "output_type": "display_data"
    }
   ],
   "source": [
    "xrange=range\n",
    "#========================================================\n",
    "# Adjusting to a first order polynomy the data set v \n",
    "#========================================================\n",
    "#Setting figure\n",
    "plt.figure( figsize = (8,5) )\n",
    "\n",
    "#Time\n",
    "t = np.array([ 0.,  1.11,  2.22,  3.33,  4.44, 5.55])\n",
    "\n",
    "#Velocities measured for every time t[i]\n",
    "v = np.array([33.10, 21.33, 16.57, -5.04, -11.74, -27.32])\n",
    "\n",
    "#Making data adjust\n",
    "a0, a1 = Linear_least_square( t,v )\n",
    "\n",
    "#Finding error associated to linear approximation\n",
    "E = np.sum([ ( v[i] - Line(a0,a1,t[i]) )**2  for i in xrange(len(t))])\n",
    "\n",
    "#Plotting solution\n",
    "plt.plot( t, Line(a0,a1,t), \".-\", lw = 3.,color = \"green\",label=\"Lineal adjust\" )\n",
    "plt.plot( t, v, \".\",color = \"blue\", label = \"Data set\" )\n",
    "for i in xrange(len(t)):\n",
    "    plt.plot(np.array([t[i],t[i]]), np.array([v[i],Line(a0,a1,t[i])]),\"c-\")\n",
    "    \n",
    "#Format of figure\n",
    "plt.xlabel( \"$t(s)$\", fontsize = 18 )\n",
    "plt.ylabel( \"$v(m/s)$\", fontsize = 18 )\n",
    "plt.xlim( (t[0], t[-1]) )\n",
    "plt.ylim( (v[-1], v[0]) )\n",
    "plt.title(\"Linear data adjust with error %f\"%E)\n",
    "plt.legend()\n",
    "plt.grid(1)"
   ]
  },
  {
   "cell_type": "markdown",
   "metadata": {
    "colab_type": "text",
    "id": "6xROQHWYBsHV"
   },
   "source": [
    "## <font color='red'>     **Activity** </font>\n",
    "http://scipy-cookbook.readthedocs.io/items/robust_regression.html"
   ]
  },
  {
   "cell_type": "markdown",
   "metadata": {
    "colab_type": "text",
    "id": "A8KY6k_lBsHa"
   },
   "source": [
    "<font color='red'>    \n",
    "Using the next data set of a spring mass system, find the lineal adjust. \n",
    "</font>\n",
    "\n",
    "<img src=\"https://github.com/restrepo/ComputationalMethods/blob/master/material/figures/datos.png?raw=1\">"
   ]
  }
 ],
 "metadata": {
  "colab": {
   "include_colab_link": true,
   "name": "statistics.ipynb",
   "provenance": [],
   "version": "0.3.2"
  },
  "kernelspec": {
   "display_name": "Python 3 (ipykernel)",
   "language": "python",
   "name": "python3"
  },
  "language_info": {
   "codemirror_mode": {
    "name": "ipython",
    "version": 3
   },
   "file_extension": ".py",
   "mimetype": "text/x-python",
   "name": "python",
   "nbconvert_exporter": "python",
   "pygments_lexer": "ipython3",
   "version": "3.9.2"
  }
 },
 "nbformat": 4,
 "nbformat_minor": 4
}
