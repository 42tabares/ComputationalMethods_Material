{
 "cells": [
  {
   "cell_type": "markdown",
   "metadata": {},
   "source": [
    "## Least action"
   ]
  },
  {
   "cell_type": "code",
   "execution_count": 1,
   "metadata": {},
   "outputs": [
    {
     "name": "stdout",
     "output_type": "stream",
     "text": [
      "Populating the interactive namespace from numpy and matplotlib\n"
     ]
    }
   ],
   "source": [
    "%pylab inline"
   ]
  },
  {
   "cell_type": "code",
   "execution_count": 2,
   "metadata": {},
   "outputs": [],
   "source": [
    "import numpy as np\n",
    "import pandas as pd"
   ]
  },
  {
   "cell_type": "markdown",
   "metadata": {},
   "source": [
    "### Solution to a free fall problem\n",
    "\\begin{align}\n",
    " x=&-\\frac{1}{2} g t^2+v_0 t \\,, & v=&-g t +v_0\n",
    "\\end{align}\n",
    "At maximum height $t=t_{\\text{end}}/2$ and\n",
    "\\begin{align}\n",
    " x_{\\text{max}}=&-\\frac{1}{2} g (t_{\\text{end}}/2)^2+v_0 \\frac{t_{\\text{end}}}{2} \\,, & 0=&-g \\frac{t_{\\text{end}}}{2} +v_0\n",
    "\\end{align}\n",
    "From the second equation $v_0=g t_{\\text{end}}/2=14.7$ m/s, and\n",
    "\\begin{align}\n",
    " x_{\\text{max}}=&-\\frac{1}{2} g (t_{\\text{end}}/2)^2+ g \\frac{t_{\\text{end}}}{2} \\frac{t_{\\text{end}}}{2} \\nonumber\\\\\n",
    " =&g\\frac{ t_{\\text{end}}^2  }{8}=11.025\\ \\text{m}\\,.\n",
    "\\end{align}"
   ]
  },
  {
   "cell_type": "markdown",
   "metadata": {},
   "source": [
    "__Activity__: Find the same solution by fitting the polynomial of degree 2 that go trough the points: \n",
    "* $(t_0,x_0)=(0,0)$,  \n",
    "* $(t_{\\rm end}/2,x_{\\rm max})=(11.025,1.5)$, \n",
    "* $(t_{\\rm end},x_{\\rm end})=(0,3)$, in s and m respectively."
   ]
  },
  {
   "cell_type": "code",
   "execution_count": 3,
   "metadata": {},
   "outputs": [
    {
     "data": {
      "text/html": [
       "<div>\n",
       "<style scoped>\n",
       "    .dataframe tbody tr th:only-of-type {\n",
       "        vertical-align: middle;\n",
       "    }\n",
       "\n",
       "    .dataframe tbody tr th {\n",
       "        vertical-align: top;\n",
       "    }\n",
       "\n",
       "    .dataframe thead th {\n",
       "        text-align: right;\n",
       "    }\n",
       "</style>\n",
       "<table border=\"1\" class=\"dataframe\">\n",
       "  <thead>\n",
       "    <tr style=\"text-align: right;\">\n",
       "      <th></th>\n",
       "      <th>t</th>\n",
       "      <th>x</th>\n",
       "    </tr>\n",
       "  </thead>\n",
       "  <tbody>\n",
       "    <tr>\n",
       "      <th>0</th>\n",
       "      <td>0.0</td>\n",
       "      <td>0.000</td>\n",
       "    </tr>\n",
       "    <tr>\n",
       "      <th>1</th>\n",
       "      <td>1.5</td>\n",
       "      <td>11.025</td>\n",
       "    </tr>\n",
       "    <tr>\n",
       "      <th>2</th>\n",
       "      <td>3.0</td>\n",
       "      <td>0.000</td>\n",
       "    </tr>\n",
       "  </tbody>\n",
       "</table>\n",
       "</div>"
      ],
      "text/plain": [
       "     t       x\n",
       "0  0.0   0.000\n",
       "1  1.5  11.025\n",
       "2  3.0   0.000"
      ]
     },
     "execution_count": 3,
     "metadata": {},
     "output_type": "execute_result"
    }
   ],
   "source": [
    "df=pd.DataFrame( {'t':[0,1.5,3],\n",
    "                  'x':[0,11.025,0]\n",
    "     })\n",
    "df"
   ]
  },
  {
   "cell_type": "code",
   "execution_count": 4,
   "metadata": {},
   "outputs": [
    {
     "name": "stdout",
     "output_type": "stream",
     "text": [
      "      2\n",
      "-4.9 t + 14.7 t + 8.205e-15\n"
     ]
    }
   ],
   "source": [
    "df.loc[1,'x']=11.025 \n",
    "coeff=np.polyfit(df.t,df.x,deg=2)\n",
    "x=np.poly1d(coeff,variable='t')\n",
    "print(x)"
   ]
  },
  {
   "cell_type": "code",
   "execution_count": 5,
   "metadata": {},
   "outputs": [
    {
     "data": {
      "image/png": "[encoded data removed]",
      "text/plain": [
       "<Figure size 432x288 with 1 Axes>"
      ]
     },
     "metadata": {},
     "output_type": "display_data"
    }
   ],
   "source": [
    "t=np.linspace(df.t.min(),df.t.max())\n",
    "plt.plot(df.t,df.x,'ro')\n",
    "plt.plot(t,x(t))\n",
    "plt.grid()"
   ]
  },
  {
   "cell_type": "markdown",
   "metadata": {},
   "source": [
    "## Least Action for the free fall problem"
   ]
  },
  {
   "cell_type": "markdown",
   "metadata": {},
   "source": [
    "<div style=\"float: right;\" markdown=\"1\">\n",
    "    <img src=\"figures/leastaction.png\">\n",
    "</div>\n",
    "\n",
    "### Geometry interpretation\n",
    "Following the geometry theory developed [here](http://www.eftaylor.com/software/ActionApplets/LeastAction.html), we will try to define something called the _Action_ for one small segment of the free fall movement in one-dimension. \n",
    "\n",
    "For that we need the experimental data consisting on the height of an object of mass $m$ in free fall, and the height $x_i$, for each time $t_i$. This data would be fitted by a polynomial of degree two, as displayed in the figure for one of the fitted segments of the plot of $x$ as a function of $t$. We take the origin of the coordinates at ground level. For each segment we can calculate an average kinetic energy, $T$, and an averge potential energy, $V$, in the limit of $\\Delta t=t_2-t_1$ small. From the figure\n",
    "\n",
    "\\begin{align}\n",
    "T_{12}=\\frac12 m v^2\\approx &\\frac12 m\\left(\\frac{x_2-x_1}{t_2-t_1}\\right)^2\\,,&\n",
    "V_{12}=mgh\\approx& m g \\frac{x_2+x_1}{2}\\,.\n",
    "\\end{align}\n",
    "\n",
    "We can then reformulate the problem of the free fall in the following terms. From all the possible curves that can interpolate the points $(t_1,x_1)$ and $(t_2,x_2)$, which is the correct one?. \n",
    "\n",
    "The answer, found by Euler can be obtained from the definition of the function \"Lagrangian\"\n",
    "$$L(t)=T(t)-V(t)$$\n",
    "\n",
    "We define the \"Action\" of one interpolating function between the points $(t_1,x_1)$ and $(t_2,x_2)$ as\n",
    "$$S=\\int_{t_1}^{t_2} L\\, {\\rm d}t $$\n",
    "\n",
    "The result is that the correct interpolation, called the _physical trajectory_, is the one which has a _minumum_ value for the Action!\n",
    "\n",
    "For one segment of the action between $(t_1,x_1)$, and $(t_2,x_2)$, with $\\Delta t$ sufficiently small such that $L$ can be considered constant, we have\n",
    "\\begin{eqnarray}\n",
    "S_1&=&\\int_{t_1}^{t_2} L dt \\\\\n",
    "&\\approx& \\left[\\frac12 m v^2-m g h \\right]\\Delta t\\\\\n",
    "&\\approx& \\left[\\frac12 m\\left(\\frac{x_2-x_1}{t_2-t_1}\\right)^2-m g \\frac{x_2+x_1}{2} \\right](t_2-t_1)\n",
    "\\end{eqnarray}\n",
    "that corresponds to Eq. (11) of Am. J. Phys, Vol. 72(2004)478: http://www.eftaylor.com/pub/Symmetries&ConsLaws.pdf"
   ]
  },
  {
   "cell_type": "markdown",
   "metadata": {},
   "source": [
    "__Activity__: Calculates \n",
    "$$S=\\int_{t_{\\rm min}}^{t_{\\rm max}} L(t)\\operatorname{d}t $$\n",
    "for the physical trajectory of a particle in free fall of $m=0.2\\ $kg, where\n",
    "$$L(t)=\\frac{1}{2}m v^2(t)-mgx(t)$$\n",
    "_Hint_:\n",
    "$$F(t)=\\int L(t)\\operatorname{d}t$$\n",
    "$$S=F(t_{\\rm max})-F(t_{\\rm min})$$\n",
    "\n",
    "Calculatea also the instataneous energy\n",
    "$$E(t)=\\frac{1}{2}m v^2(t)+mgx(t)$$\n",
    "for  several times."
   ]
  },
  {
   "cell_type": "code",
   "execution_count": 10,
   "metadata": {},
   "outputs": [
    {
     "name": "stdout",
     "output_type": "stream",
     "text": [
      "x(t) [m]:\n",
      "       2\n",
      "-4.9 t + 14.7 t + 8.205e-15\n",
      "=============================================\n",
      "for xmax=11.025 m: S=-21.6 J.s  min: -21.6 J.s\n",
      "=============================================\n",
      "instantaneous energy [J]:\n",
      " [21.609 21.609 21.609 21.609 21.609 21.609 21.609 21.609 21.609 21.609\n",
      " 21.609 21.609 21.609 21.609 21.609 21.609]\n"
     ]
    }
   ],
   "source": [
    "xmax=11.025 \n",
    "df.loc[1,'x']=xmax\n",
    "coeff=np.polyfit(df.t,df.x,deg=2)\n",
    "x=np.poly1d(coeff,variable='t')\n",
    "print('x(t) [m]:\\n',x)\n",
    "print(\"=\"*45)\n",
    "m=0.2\n",
    "g=9.8\n",
    "v=x.deriv()\n",
    "L=0.5*m*v**2-m*g*x\n",
    "E=0.5*m*v**2+m*g*x\n",
    "F=L.integ() # Analytical integration\n",
    "S=F( df.t.max() ) - F( df.t.min() ) \n",
    "print('for xmax={} m: S={:.1f} J.s  min: -21.6 J.s'.format(xmax,S))\n",
    "print(\"=\"*45)\n",
    "Deltat=0.2\n",
    "#t=np.linspace(df.t.min() , df.t.max(),10)\n",
    "t=np.arange(df.t.min() , df.t.max()+Deltat,Deltat)\n",
    "print('instantaneous energy [J]:\\n {}'.format(E(t)))"
   ]
  },
  {
   "cell_type": "markdown",
   "metadata": {},
   "source": [
    "__Activity__: Changes the maximum height for the previous activity and check what happens with the instantaneous energy."
   ]
  },
  {
   "cell_type": "markdown",
   "metadata": {},
   "source": [
    "I good approximation to the integral is:\n",
    "$$S=\\int_{t_{\\rm min}}^{t_{\\rm max}} L(t)\\operatorname{d}t\\approx \\sum_i \\left[\\frac{L(t_{i+1})+L(t_i)}{2}\\right]\\Delta t$$"
   ]
  },
  {
   "cell_type": "code",
   "execution_count": 81,
   "metadata": {},
   "outputs": [
    {
     "name": "stdout",
     "output_type": "stream",
     "text": [
      "Δt=[0.2 0.2 0.2 0.2 0.2 0.2 0.2 0.2 0.2 0.2 0.2 0.2 0.2 0.2 0.2]\n"
     ]
    }
   ],
   "source": [
    "print('Δt={}'.format( t[1:]-t[:-1] )  )"
   ]
  },
  {
   "cell_type": "code",
   "execution_count": 85,
   "metadata": {},
   "outputs": [
    {
     "name": "stdout",
     "output_type": "stream",
     "text": [
      "S=-21.2 J.s\n"
     ]
    }
   ],
   "source": [
    "print( 'S={:.1f} J.s'.format( 0.5*( L(t)[1:]+L(t)[:-1] ).sum()*Deltat ) )"
   ]
  },
  {
   "cell_type": "markdown",
   "metadata": {},
   "source": [
    "Or even more general"
   ]
  },
  {
   "cell_type": "code",
   "execution_count": 94,
   "metadata": {},
   "outputs": [
    {
     "name": "stdout",
     "output_type": "stream",
     "text": [
      "S=-18.2 J.s\n"
     ]
    }
   ],
   "source": [
    "def Saprx(L,t):\n",
    "    return   0.5*( L(t)[1:]+L(t)[:-1] )*(  t[1:]-t[:-1]  )  \n",
    "\n",
    "print( 'S={:.1f} J.s'.format(  Saprx(L,t).sum() ) )"
   ]
  },
  {
   "cell_type": "code",
   "execution_count": 95,
   "metadata": {},
   "outputs": [
    {
     "name": "stdout",
     "output_type": "stream",
     "text": [
      "S=-17.1  J.s\n",
      "S=-21.6  J.s\n",
      "S=-18.8  J.s\n"
     ]
    },
    {
     "data": {
      "image/png": "[encoded data removed]",
      "text/plain": [
       "<matplotlib.figure.Figure at 0x7fc9a5dac400>"
      ]
     },
     "metadata": {},
     "output_type": "display_data"
    }
   ],
   "source": [
    "Ss=[]\n",
    "Es=[]\n",
    "m=0.2\n",
    "g=9.8\n",
    "Deltat=0.2\n",
    "#t=np.linspace(df.t.min() , df.t.max(),10)\n",
    "t=np.arange(df.t.min() , df.t.max()+Deltat,Deltat)\n",
    "xmax=[6,11.025,15]; x0=0;xend=0\n",
    "ls=['r--','k-','b-.']\n",
    "for i in range(len(xmax) ):\n",
    "    df=pd.DataFrame({'t':[t.min(),t.mean(),t.max()],'x':[x0,xmax[i],xend]})\n",
    "    coeffs=np.polyfit(df.t,df.x,2)\n",
    "    x=np.poly1d(coeffs,variable='t')\n",
    "    v=x.deriv()\n",
    "    L=0.5*m*v**2-m*g*x\n",
    "    F=L.integ() # Analytical integration \n",
    "    E=0.5*m*v**2+m*g*x\n",
    "    S=F( df.t.max() ) - F( df.t.min() )\n",
    "    print('S={:.1f}  J.s'.format( S ) )\n",
    "    Ss.append( Saprx(L,t)  )\n",
    "    Es.append( E(t) )\n",
    "    #Plot\n",
    "    if ls:\n",
    "        plt.plot(t,x(t),ls[i],label='S={:.1f} J$\\cdot$s'.format( S  )   )\n",
    "\n",
    "if ls:\n",
    "    plt.legend(loc='best',fontsize=12)    \n",
    "    plt.xlabel('$t$ [s]',size=20)\n",
    "    plt.ylabel('$x$ [m]',size=20)"
   ]
  },
  {
   "cell_type": "code",
   "execution_count": 92,
   "metadata": {},
   "outputs": [
    {
     "data": {
      "text/plain": [
       "[array([ 6.4       ,  7.73404444,  8.87751111,  9.8304    , 10.59271111,\n",
       "        11.16444444, 11.5456    , 11.73617778, 11.73617778, 11.5456    ,\n",
       "        11.16444444, 10.59271111,  9.8304    ,  8.87751111,  7.73404444,\n",
       "         6.4       ]),\n",
       " array([21.609, 21.609, 21.609, 21.609, 21.609, 21.609, 21.609, 21.609,\n",
       "        21.609, 21.609, 21.609, 21.609, 21.609, 21.609, 21.609, 21.609]),\n",
       " array([40.        , 37.36177778, 35.10044444, 33.216     , 31.70844444,\n",
       "        30.57777778, 29.824     , 29.44711111, 29.44711111, 29.824     ,\n",
       "        30.57777778, 31.70844444, 33.216     , 35.10044444, 37.36177778,\n",
       "        40.        ])]"
      ]
     },
     "execution_count": 92,
     "metadata": {},
     "output_type": "execute_result"
    }
   ],
   "source": [
    "Es"
   ]
  },
  {
   "cell_type": "markdown",
   "metadata": {},
   "source": [
    "Each interval is minumum:"
   ]
  },
  {
   "cell_type": "code",
   "execution_count": 99,
   "metadata": {},
   "outputs": [
    {
     "data": {
      "text/plain": [
       "(-16.958577777777823, -21.224840000000114, -18.1831111111111)"
      ]
     },
     "execution_count": 99,
     "metadata": {},
     "output_type": "execute_result"
    }
   ],
   "source": [
    "Ss[0].sum(),Ss[1].sum(),Ss[2].sum()"
   ]
  },
  {
   "cell_type": "code",
   "execution_count": 100,
   "metadata": {},
   "outputs": [
    {
     "data": {
      "text/plain": [
       "[array([ 0.82801778, -0.01137778, -0.72163556, -1.30275556, -1.75473778,\n",
       "        -2.07758222, -2.27128889, -2.33585778, -2.27128889, -2.07758222,\n",
       "        -1.75473778, -1.30275556, -0.72163556, -0.01137778,  0.82801778]),\n",
       " array([ 3.246152,  1.24852 , -0.441784, -1.82476 , -2.900408, -3.668728,\n",
       "        -4.12972 , -4.283384, -4.12972 , -3.668728, -2.900408, -1.82476 ,\n",
       "        -0.441784,  1.24852 ,  3.246152]),\n",
       " array([ 6.27271111,  3.06488889,  0.35057778, -1.87022222, -3.59751111,\n",
       "        -4.83128889, -5.57155556, -5.81831111, -5.57155556, -4.83128889,\n",
       "        -3.59751111, -1.87022222,  0.35057778,  3.06488889,  6.27271111])]"
      ]
     },
     "execution_count": 100,
     "metadata": {},
     "output_type": "execute_result"
    }
   ],
   "source": [
    "Ss"
   ]
  },
  {
   "cell_type": "markdown",
   "metadata": {},
   "source": [
    "__Activity__: Check that the Action of a trajectory with a polynomial of order $n$ which fits $n+1$ points with the same extreme values, gives an Action that is larger than the previous minimun"
   ]
  },
  {
   "cell_type": "code",
   "execution_count": null,
   "metadata": {},
   "outputs": [],
   "source": []
  }
 ],
 "metadata": {
  "kernelspec": {
   "display_name": "Python 3",
   "language": "python",
   "name": "python3"
  },
  "language_info": {
   "codemirror_mode": {
    "name": "ipython",
    "version": 3
   },
   "file_extension": ".py",
   "mimetype": "text/x-python",
   "name": "python",
   "nbconvert_exporter": "python",
   "pygments_lexer": "ipython3",
   "version": "3.6.6"
  },
  "toc": {
   "colors": {
    "hover_highlight": "#DAA520",
    "running_highlight": "#FF0000",
    "selected_highlight": "#FFD700"
   },
   "moveMenuLeft": true,
   "nav_menu": {
    "height": "31px",
    "width": "252px"
   },
   "navigate_menu": true,
   "number_sections": true,
   "sideBar": true,
   "threshold": 4,
   "toc_cell": false,
   "toc_section_display": "block",
   "toc_window_display": false
  }
 },
 "nbformat": 4,
 "nbformat_minor": 2
}
