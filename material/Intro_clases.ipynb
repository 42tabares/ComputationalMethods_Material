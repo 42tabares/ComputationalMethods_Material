{
  "nbformat": 4,
  "nbformat_minor": 0,
  "metadata": {
    "colab": {
      "name": "Intro_clases.ipynb",
      "version": "0.3.2",
      "provenance": [],
      "include_colab_link": true
    },
    "kernelspec": {
      "display_name": "Python 3",
      "language": "python",
      "name": "python3"
    }
  },
  "cells": [
    {
      "cell_type": "markdown",
      "metadata": {
        "id": "view-in-github",
        "colab_type": "text"
      },
      "source": [
        "<a href=\"https://colab.research.google.com/github/restrepo/ComputationalMethods/blob/master/material/Intro_clases.ipynb\" target=\"_parent\"><img src=\"https://colab.research.google.com/assets/colab-badge.svg\" alt=\"Open In Colab\"/></a>"
      ]
    },
    {
      "metadata": {
        "id": "Y6JhrcAwKDy2",
        "colab_type": "text"
      },
      "cell_type": "markdown",
      "source": [
        "# Clases\n",
        "En Python, todo es un objeto, es decir, una instancia o realización de un clase. Cada objeto tiene unos métodos:\n",
        "```python\n",
        "objeto.metodo(...)\n",
        "que corresponde  a función `__call__` de una clase, y los atributos\n",
        "```\n",
        "```python\n",
        "objeto.atributo\n",
        "```\n",
        "que son simple definiciones dentro de la case: `self.atributo=....`.\n",
        "\n",
        "Algunos objetos en Python también "
      ]
    },
    {
      "metadata": {
        "id": "YiIs6z25LOiN",
        "colab_type": "text"
      },
      "cell_type": "markdown",
      "source": [
        "## Programación funcional\n",
        "En cálculo científico el paradigma funcional, en el cual el programa se escribe en términos de funciones, suele ser suficiente.\n",
        "\n",
        "El esqueleto de un programa funcional  es típicamente del sigiento tipo\n",
        "```python\n",
        "#!/usr/bin/user/env python3\n",
        "import somemodule as sm\n",
        "def func1(...):\n",
        "    '''\n",
        "    Ayuda func1\n",
        "   '''\n",
        "    .....\n",
        "\n",
        "def func2(...):\n",
        "    '''\n",
        "    Ayuda func2\n",
        "    '''\n",
        "    .....\n",
        "    \n",
        " \n",
        "def main(...):\n",
        "    '''\n",
        "    Ayuda función principal\n",
        "    '''\n",
        "    x=func1(...)\n",
        "    y=func2(x)\n",
        "    \n",
        "if __name__='__main__':\n",
        "    z=main()\n",
        "    print('El resultado final es: {}'.format(z))\n",
        "\n",
        "```\n",
        "\n",
        "Para su diseño, el programa se debe separar  sus partes independientes y para cada una de ellas se debe definir una función. \n",
        "\n",
        "La función ideal es una  que se pueda reutilizar facilamente en otro contexto.\n",
        "\n",
        "La última funciona combina todas las anteriores para entregar el resultado final del programa. La instrucción `if __name__='__main__'`,  permite que el programa sea pueda ser usado también como un módulo de Python, es decir que se pueda cargar desde otro programa con el `import`. En tal caso, la variable \n",
        "interna de Python `__name__`  es diferente a la cadena de caracteres `'__main__'`. Dentro de Jupyter:\n"
      ]
    },
    {
      "metadata": {
        "id": "4hPNCRcoPLim",
        "colab_type": "code",
        "colab": {
          "base_uri": "https://localhost:8080/",
          "height": 34
        },
        "outputId": "7a42d216-471e-44b3-a0ac-ab1471a04fc4"
      },
      "cell_type": "code",
      "source": [
        "__name__"
      ],
      "execution_count": 2,
      "outputs": [
        {
          "output_type": "execute_result",
          "data": {
            "text/plain": [
              "'__main__'"
            ]
          },
          "metadata": {
            "tags": []
          },
          "execution_count": 2
        }
      ]
    },
    {
      "metadata": {
        "id": "yMv7DnahY-Iz",
        "colab_type": "text"
      },
      "cell_type": "markdown",
      "source": [
        "## Programación por clases"
      ]
    },
    {
      "metadata": {
        "id": "Rw3fn_2DZBbT",
        "colab_type": "text"
      },
      "cell_type": "markdown",
      "source": [
        "Algunas veces, cuando la complejidad de las estructuras  tiene una estructura de capas, donde la capa interna es la mas simple y las capas más externas van aumentando la complejidad, pude ser conveniente pensar en una estructura de clases. \n",
        "\n",
        "De hecho, la clase básica pasa todas sus propiedades  a las clases basadas en ella. \n",
        "\n"
      ]
    },
    {
      "metadata": {
        "id": "oD3cLkTHKDy4",
        "colab_type": "code",
        "colab": {}
      },
      "cell_type": "code",
      "source": [
        "class mascotas:\n",
        "    def __init__(self,x):\n",
        "        self.tipo={'perro':'guau','gato':'miau'}\n",
        "        self.sonido=self.tipo.get(x)\n",
        "    def __call__(self,nombre):\n",
        "        if nombre=='greco':\n",
        "            print(self.sonido)\n",
        "        else:\n",
        "            print(\"grrr!!\")"
      ],
      "execution_count": 0,
      "outputs": []
    },
    {
      "metadata": {
        "id": "hn9gQUX1biqt",
        "colab_type": "code",
        "colab": {}
      },
      "cell_type": "code",
      "source": [
        "mascotas.__call__?"
      ],
      "execution_count": 0,
      "outputs": []
    },
    {
      "metadata": {
        "id": "IMabkap3KDy6",
        "colab_type": "code",
        "colab": {}
      },
      "cell_type": "code",
      "source": [
        "perro=mascotas('perro')"
      ],
      "execution_count": 0,
      "outputs": []
    },
    {
      "metadata": {
        "id": "fI050nt2KDy8",
        "colab_type": "code",
        "colab": {},
        "outputId": "403f53b7-ad83-430d-84b9-664aba4e99e7"
      },
      "cell_type": "code",
      "source": [
        "perro('greco')"
      ],
      "execution_count": 0,
      "outputs": [
        {
          "output_type": "stream",
          "text": [
            "guau\n"
          ],
          "name": "stdout"
        }
      ]
    },
    {
      "metadata": {
        "id": "bv6hxO6ZKDy_",
        "colab_type": "code",
        "colab": {}
      },
      "cell_type": "code",
      "source": [
        "perro.tipo.get('vaca')"
      ],
      "execution_count": 0,
      "outputs": []
    },
    {
      "metadata": {
        "id": "SKRtANy3KDzB",
        "colab_type": "code",
        "colab": {}
      },
      "cell_type": "code",
      "source": [
        "import pandas as pd"
      ],
      "execution_count": 0,
      "outputs": []
    },
    {
      "metadata": {
        "id": "G-ZiUnyhKDzD",
        "colab_type": "code",
        "colab": {}
      },
      "cell_type": "code",
      "source": [
        "class finanzas(pd.DataFrame):\n",
        "    pass"
      ],
      "execution_count": 0,
      "outputs": []
    },
    {
      "metadata": {
        "id": "mKLdQljeKDzF",
        "colab_type": "code",
        "colab": {}
      },
      "cell_type": "code",
      "source": [
        "f=finanzas()"
      ],
      "execution_count": 0,
      "outputs": []
    },
    {
      "metadata": {
        "id": "NLCKASi_KDzH",
        "colab_type": "code",
        "colab": {},
        "outputId": "f60e25c1-1d36-4f3c-dbf5-4e4c9a6db2d3"
      },
      "cell_type": "code",
      "source": [
        "f({'a':[1]})"
      ],
      "execution_count": 0,
      "outputs": [
        {
          "output_type": "error",
          "ename": "TypeError",
          "evalue": "'finanzas' object is not callable",
          "traceback": [
            "\u001b[0;31m---------------------------------------------------------------------------\u001b[0m",
            "\u001b[0;31mTypeError\u001b[0m                                 Traceback (most recent call last)",
            "\u001b[0;32m<ipython-input-28-303975a32cf8>\u001b[0m in \u001b[0;36m<module>\u001b[0;34m()\u001b[0m\n\u001b[0;32m----> 1\u001b[0;31m \u001b[0mf\u001b[0m\u001b[0;34m(\u001b[0m\u001b[0;34m{\u001b[0m\u001b[0;34m'a'\u001b[0m\u001b[0;34m:\u001b[0m\u001b[0;34m[\u001b[0m\u001b[0;36m1\u001b[0m\u001b[0;34m]\u001b[0m\u001b[0;34m}\u001b[0m\u001b[0;34m)\u001b[0m\u001b[0;34m\u001b[0m\u001b[0m\n\u001b[0m",
            "\u001b[0;31mTypeError\u001b[0m: 'finanzas' object is not callable"
          ]
        }
      ]
    },
    {
      "metadata": {
        "id": "skIsHdKTKDzK",
        "colab_type": "code",
        "colab": {}
      },
      "cell_type": "code",
      "source": [
        "class hkdict(dict):\n",
        "    def __init__(self,*args, **kwargs):\n",
        "        super(hkdict, self).__init__(*args, **kwargs)\n",
        "    def has_key(self,k):\n",
        "        return k in self"
      ],
      "execution_count": 0,
      "outputs": []
    },
    {
      "metadata": {
        "id": "ABE_zcU8KDzM",
        "colab_type": "code",
        "colab": {}
      },
      "cell_type": "code",
      "source": [
        "d={'perro':'guau','gato':'miau'}"
      ],
      "execution_count": 0,
      "outputs": []
    },
    {
      "metadata": {
        "id": "cGARhEXQKDzO",
        "colab_type": "code",
        "colab": {}
      },
      "cell_type": "code",
      "source": [
        "dd=hkdict(d)"
      ],
      "execution_count": 0,
      "outputs": []
    },
    {
      "metadata": {
        "id": "CsQkLGMBKDzP",
        "colab_type": "code",
        "colab": {},
        "outputId": "cf4c2c25-591f-4007-a172-dfe6a0a61852"
      },
      "cell_type": "code",
      "source": [
        "dd.has_key('gato')"
      ],
      "execution_count": 0,
      "outputs": [
        {
          "output_type": "execute_result",
          "data": {
            "text/plain": [
              "True"
            ]
          },
          "metadata": {
            "tags": []
          },
          "execution_count": 40
        }
      ]
    },
    {
      "metadata": {
        "id": "Epe7oNh-KDzS",
        "colab_type": "code",
        "colab": {},
        "outputId": "b05cf25d-b6b9-453a-946d-6abfcac96898"
      },
      "cell_type": "code",
      "source": [
        "d.has_key('gato')"
      ],
      "execution_count": 0,
      "outputs": [
        {
          "output_type": "error",
          "ename": "AttributeError",
          "evalue": "'dict' object has no attribute 'has_key'",
          "traceback": [
            "\u001b[0;31m---------------------------------------------------------------------------\u001b[0m",
            "\u001b[0;31mAttributeError\u001b[0m                            Traceback (most recent call last)",
            "\u001b[0;32m<ipython-input-35-4598d173b43c>\u001b[0m in \u001b[0;36m<module>\u001b[0;34m()\u001b[0m\n\u001b[0;32m----> 1\u001b[0;31m \u001b[0md\u001b[0m\u001b[0;34m.\u001b[0m\u001b[0mhas_key\u001b[0m\u001b[0;34m(\u001b[0m\u001b[0;34m'gato'\u001b[0m\u001b[0;34m)\u001b[0m\u001b[0;34m\u001b[0m\u001b[0m\n\u001b[0m",
            "\u001b[0;31mAttributeError\u001b[0m: 'dict' object has no attribute 'has_key'"
          ]
        }
      ]
    },
    {
      "metadata": {
        "id": "hJ_I545pKDzV",
        "colab_type": "code",
        "colab": {},
        "outputId": "bbeabc89-42c7-4df7-e925-69310346243c"
      },
      "cell_type": "code",
      "source": [
        "f({'a':[1]})"
      ],
      "execution_count": 0,
      "outputs": [
        {
          "output_type": "error",
          "ename": "TypeError",
          "evalue": "'finanzas' object is not callable",
          "traceback": [
            "\u001b[0;31m---------------------------------------------------------------------------\u001b[0m",
            "\u001b[0;31mTypeError\u001b[0m                                 Traceback (most recent call last)",
            "\u001b[0;32m<ipython-input-31-303975a32cf8>\u001b[0m in \u001b[0;36m<module>\u001b[0;34m()\u001b[0m\n\u001b[0;32m----> 1\u001b[0;31m \u001b[0mf\u001b[0m\u001b[0;34m(\u001b[0m\u001b[0;34m{\u001b[0m\u001b[0;34m'a'\u001b[0m\u001b[0;34m:\u001b[0m\u001b[0;34m[\u001b[0m\u001b[0;36m1\u001b[0m\u001b[0;34m]\u001b[0m\u001b[0;34m}\u001b[0m\u001b[0;34m)\u001b[0m\u001b[0;34m\u001b[0m\u001b[0m\n\u001b[0m",
            "\u001b[0;31mTypeError\u001b[0m: 'finanzas' object is not callable"
          ]
        }
      ]
    },
    {
      "metadata": {
        "id": "EvlqHm8iKDzX",
        "colab_type": "code",
        "colab": {},
        "outputId": "9d78324c-769a-4d27-cef0-56b8dc912925"
      },
      "cell_type": "code",
      "source": [
        "import pygame"
      ],
      "execution_count": 0,
      "outputs": [
        {
          "output_type": "error",
          "ename": "ImportError",
          "evalue": "No module named 'pygame'",
          "traceback": [
            "\u001b[0;31m---------------------------------------------------------------------------\u001b[0m",
            "\u001b[0;31mImportError\u001b[0m                               Traceback (most recent call last)",
            "\u001b[0;32m<ipython-input-41-671b35b41eba>\u001b[0m in \u001b[0;36m<module>\u001b[0;34m()\u001b[0m\n\u001b[0;32m----> 1\u001b[0;31m \u001b[0;32mimport\u001b[0m \u001b[0mpygame\u001b[0m\u001b[0;34m\u001b[0m\u001b[0m\n\u001b[0m",
            "\u001b[0;31mImportError\u001b[0m: No module named 'pygame'"
          ]
        }
      ]
    },
    {
      "metadata": {
        "id": "RqyqrVmhKDza",
        "colab_type": "text"
      },
      "cell_type": "markdown",
      "source": [
        "Refs:\n",
        "https://realpython.com/python3-object-oriented-programming/"
      ]
    }
  ]
}