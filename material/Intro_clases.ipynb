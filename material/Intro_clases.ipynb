{
 "cells": [
  {
   "cell_type": "markdown",
   "metadata": {
    "colab_type": "text",
    "id": "view-in-github"
   },
   "source": [
    "<a href=\"https://colab.research.google.com/github/restrepo/ComputationalMethods/blob/master/material/Intro_clases.ipynb\" target=\"_parent\"><img src=\"https://colab.research.google.com/assets/colab-badge.svg\" alt=\"Open In Colab\"/></a>"
   ]
  },
  {
   "cell_type": "markdown",
   "metadata": {
    "colab_type": "text",
    "id": "Y6JhrcAwKDy2"
   },
   "source": [
    "# Clases\n",
    "En Python, todo es un objeto, es decir, una instancia o realización de un clase. Cada objeto tiene unos _métodos_:\n",
    "```python\n",
    "objeto.metodo(...)\n",
    "que corresponde  a funciónes internas del objeto, y también puede tener _atributos_:\n",
    "```\n",
    "```python\n",
    "objeto.atributo\n",
    "```\n",
    "que son variables internas dentro del objeto: `self.atributo=....`.\n",
    "\n",
    "Algunos objetos en Python también pueden recibir parámetros de entrada a modo de claves de un diccionario interno del objeto\n",
    "```python\n",
    "objeto['key']='value'\n",
    "```\n",
    "entro otras muchas propiedades\n",
    "\n",
    "Ejemplos de objetos son:\n",
    "* `int`: Enteros\n",
    "* `float`: Números punto flotante (floating point numbers)\n",
    "* `str`: Cadenas de caracteres\n",
    "* `list`: Listas \n",
    "* `dict`: Diccionarios.\n",
    "\n",
    "Si el tipo de objeto es conocido, uno pude comprobar si un objeto determinado corresponde a ese tipo con `isinstance`:"
   ]
  },
  {
   "cell_type": "code",
   "execution_count": 8,
   "metadata": {},
   "outputs": [
    {
     "name": "stdout",
     "output_type": "stream",
     "text": [
      "Is `s` an string?: True\n",
      "Is `s` a float?: False\n"
     ]
    }
   ],
   "source": [
    "s='hola mundo'\n",
    "print('Is `s` an string?: {}'.format( isinstance(s,str)) )\n",
    "print('Is `s` a float?: {}'.format( isinstance(s,float)) )"
   ]
  },
  {
   "cell_type": "markdown",
   "metadata": {},
   "source": [
    "Dentro del paradigma de objetos es posible agrupar diferentes conjuntos de variables de modo que el nombre de un atributo a método adquiere dos partes, una parte principal, que en el análogo con el _nombre completo_ de una persona podríamos asimilar a su _apellido_, y el método o atributo, que sería como el primer _nombre_, separados por un punto:\n",
    "* Método:  `last_name.first_name()`\n",
    "* Atributo: `last_name.first_name`.\n",
    "\n",
    "Esto nos permite tener objetos dentro de un programa con igual _nombre_, pero diferente _appellido_. Como por ejemplo, los diferentes $\\cos(x)$ que vienen en los diferentes módulos matématicos implementados en Python. Por eso es recomendado cargar los módulos manteniendo el espacio de nombres (que en nuestra analogía sería el espacio de _apellidos_). Cuando el modulo tenga un nombre muy largo (más de cuatro caracteres), se puede usar una abreviatura lo suficientemente original para evitar que pueda ser sobreescrita por un nuevo objeto:"
   ]
  },
  {
   "cell_type": "code",
   "execution_count": 13,
   "metadata": {},
   "outputs": [
    {
     "name": "stdout",
     "output_type": "stream",
     "text": [
      "x(t)=-2.31 m\n",
      "x(t)=-2.31 m\n"
     ]
    }
   ],
   "source": [
    "import math\n",
    "import numpy as np\n",
    "k=3 #N/m\n",
    "m=2 #Kg\n",
    "A=3 #m\n",
    "t=2 #s\n",
    "ω=np.sqrt(k/m) #rad/s\n",
    "#ver https://pyformat.info/\n",
    "print('x(t)={:.2f} m'.format( \n",
    "    A*np.cos( ω*t )\n",
    "     ))\n",
    "print('x(t)={:.2f} m'.format( \n",
    "    A*math.cos( ω*t )\n",
    "     ))"
   ]
  },
  {
   "cell_type": "markdown",
   "metadata": {},
   "source": [
    "Note que `import math as m` entraría en conflicto con la definición de `m` en `m=2`"
   ]
  },
  {
   "cell_type": "markdown",
   "metadata": {},
   "source": [
    "La forma recomendada de importar los diferentes módulos y el uso de sus métodos y atributos suele resumirse en _Cheat Sheets_. Para Python científico recomendamos las elaboradas por [Data Camp](https://learn.datacamp.com/), que pueden consultarse [aquí](https://drive.google.com/drive/folders/11ReN5mXiYGsBjNfdj3zEj2Z1E3bZ7TRk?usp=sharing) "
   ]
  },
  {
   "cell_type": "markdown",
   "metadata": {},
   "source": [
    "Para programación de Python en general se recomienda el estándar [PEP 8](https://www.python.org/dev/peps/pep-0008/) de Python"
   ]
  },
  {
   "cell_type": "markdown",
   "metadata": {
    "colab_type": "text",
    "id": "YiIs6z25LOiN"
   },
   "source": [
    "## Programación funcional\n",
    "En cálculo científico el paradigma funcional, en el cual el programa se escribe en términos de funciones, suele ser suficiente.\n",
    "\n",
    "El esqueleto de un programa funcional  es típicamente del sigiento tipo\n",
    "```python\n",
    "#!/usr/bin/user/env python3\n",
    "import somemodule as sm\n",
    "def func1(...):\n",
    "    '''\n",
    "    Ayuda func1\n",
    "   '''\n",
    "    .....\n",
    "\n",
    "def func2(...):\n",
    "    '''\n",
    "    Ayuda func2\n",
    "    '''\n",
    "    .....\n",
    "    \n",
    " \n",
    "def main(...):\n",
    "    '''\n",
    "    Ayuda función principal\n",
    "    '''\n",
    "    x=func1(...)\n",
    "    y=func2(x)\n",
    "    \n",
    "if __name__='__main__':\n",
    "    z=main()\n",
    "    print('El resultado final es: {}'.format(z))\n",
    "\n",
    "```\n",
    "\n",
    "Para su diseño, el programa se debe separar  sus partes independientes y para cada una de ellas se debe definir una función. \n",
    "\n",
    "_La función ideal es una  que se pueda reutilizar facilamente en otro contexto._\n",
    "\n",
    "La última funciona combina todas las anteriores para entregar el resultado final del programa. La instrucción `if __name__='__main__'`,  permite que el programa sea pueda ser usado también como un módulo de Python, es decir que se pueda cargar desde otro programa con el `import`. En tal caso, la variable \n",
    "interna de Python `__name__`  es diferente a la cadena de caracteres `'__main__'`. Dentro de Jupyter:\n"
   ]
  },
  {
   "cell_type": "code",
   "execution_count": 27,
   "metadata": {
    "colab": {
     "base_uri": "https://localhost:8080/",
     "height": 34
    },
    "colab_type": "code",
    "id": "4hPNCRcoPLim",
    "outputId": "dd9f0b2c-1d87-4ff3-fc7a-d3d09552c0ac"
   },
   "outputs": [
    {
     "data": {
      "text/plain": [
       "'__main__'"
      ]
     },
     "execution_count": 27,
     "metadata": {
      "tags": []
     },
     "output_type": "execute_result"
    }
   ],
   "source": [
    "__name__"
   ]
  },
  {
   "cell_type": "markdown",
   "metadata": {
    "colab_type": "text",
    "id": "WC3Mm-fYjnT_"
   },
   "source": [
    "Ejemplo módulo"
   ]
  },
  {
   "cell_type": "code",
   "execution_count": 22,
   "metadata": {
    "colab": {
     "base_uri": "https://localhost:8080/",
     "height": 34
    },
    "colab_type": "code",
    "id": "GuE_ERSyjqXc",
    "outputId": "8178b893-0303-4361-d930-74b4435123e8"
   },
   "outputs": [
    {
     "name": "stdout",
     "output_type": "stream",
     "text": [
      "Overwriting example.py\n"
     ]
    }
   ],
   "source": [
    "%%writefile example.py\n",
    "#!/usr/bin/env python3\n",
    "print( 'check __name__: {}'.format(__name__))\n",
    "\n",
    "def hola():\n",
    "    print('mundo')\n",
    "    \n",
    "if __name__=='__main__':\n",
    "    hola()"
   ]
  },
  {
   "cell_type": "markdown",
   "metadata": {
    "colab_type": "text",
    "id": "M_jJDcm-lfAY"
   },
   "source": [
    "`ls` funciona"
   ]
  },
  {
   "cell_type": "code",
   "execution_count": 7,
   "metadata": {
    "colab": {
     "base_uri": "https://localhost:8080/",
     "height": 70
    },
    "colab_type": "code",
    "id": "U3DfHFmWkUNa",
    "outputId": "bd6c9847-5d59-43a3-bbf6-57d8db102a49"
   },
   "outputs": [
    {
     "name": "stdout",
     "output_type": "stream",
     "text": [
      "total 8\n",
      "-rw-r--r-- 1 root root   53 Nov 16 17:28 example.py\n",
      "drwxr-xr-x 2 root root 4096 Nov 15 01:02 \u001b[0m\u001b[01;34msample_data\u001b[0m/\n"
     ]
    }
   ],
   "source": [
    "ls -l"
   ]
  },
  {
   "cell_type": "markdown",
   "metadata": {
    "colab_type": "text",
    "id": "B7jkUAFKlho4"
   },
   "source": [
    "`cat` funciona"
   ]
  },
  {
   "cell_type": "code",
   "execution_count": 23,
   "metadata": {
    "colab": {
     "base_uri": "https://localhost:8080/",
     "height": 158
    },
    "colab_type": "code",
    "id": "F1cmyMlFj3RC",
    "outputId": "c8ff021f-59b4-46e6-8004-5c456de602c0"
   },
   "outputs": [
    {
     "name": "stdout",
     "output_type": "stream",
     "text": [
      "#!/usr/bin/env python3\n",
      "print( 'check __name__: {}'.format(__name__))\n",
      "\n",
      "def hola():\n",
      "    print('mundo')\n",
      "    \n",
      "if __name__=='__main__':\n",
      "    hola()"
     ]
    }
   ],
   "source": [
    "cat example.py "
   ]
  },
  {
   "cell_type": "markdown",
   "metadata": {
    "colab_type": "text",
    "id": "HBmG35Rhlpk3"
   },
   "source": [
    "Cambia los permisos a ejecución"
   ]
  },
  {
   "cell_type": "code",
   "execution_count": null,
   "metadata": {
    "colab": {},
    "colab_type": "code",
    "id": "a_R1GXDlkZZ6"
   },
   "outputs": [],
   "source": [
    "! chmod a+x example.py"
   ]
  },
  {
   "cell_type": "code",
   "execution_count": 10,
   "metadata": {
    "colab": {
     "base_uri": "https://localhost:8080/",
     "height": 70
    },
    "colab_type": "code",
    "id": "KB3f-x2NkwIZ",
    "outputId": "e43d1921-cc69-4b83-800a-0107c83ab03e"
   },
   "outputs": [
    {
     "name": "stdout",
     "output_type": "stream",
     "text": [
      "total 8\n",
      "-rwxr-xr-x 1 root root   53 Nov 16 17:28 \u001b[0m\u001b[01;32mexample.py\u001b[0m*\n",
      "drwxr-xr-x 2 root root 4096 Nov 15 01:02 \u001b[01;34msample_data\u001b[0m/\n"
     ]
    }
   ],
   "source": [
    "ls -l"
   ]
  },
  {
   "cell_type": "markdown",
   "metadata": {
    "colab_type": "text",
    "id": "DLHOmcEJlt5_"
   },
   "source": [
    "Corre el programa desde la consola"
   ]
  },
  {
   "cell_type": "code",
   "execution_count": 24,
   "metadata": {
    "colab": {
     "base_uri": "https://localhost:8080/",
     "height": 52
    },
    "colab_type": "code",
    "id": "6-KSDo18k3HQ",
    "outputId": "510e7649-d958-454c-c877-e541f182403c"
   },
   "outputs": [
    {
     "name": "stdout",
     "output_type": "stream",
     "text": [
      "check __name__: __main__\n",
      "mundo\n"
     ]
    }
   ],
   "source": [
    "!./example.py"
   ]
  },
  {
   "cell_type": "markdown",
   "metadata": {
    "colab_type": "text",
    "id": "XBz-Kvq1mMo2"
   },
   "source": [
    "Uso como módulo"
   ]
  },
  {
   "cell_type": "code",
   "execution_count": 25,
   "metadata": {
    "colab": {
     "base_uri": "https://localhost:8080/",
     "height": 34
    },
    "colab_type": "code",
    "id": "mgBWS5egmPFe",
    "outputId": "bc00463f-24d9-4232-96e0-befe6547a5b3"
   },
   "outputs": [
    {
     "name": "stdout",
     "output_type": "stream",
     "text": [
      "check __name__: example\n"
     ]
    }
   ],
   "source": [
    "import example"
   ]
  },
  {
   "cell_type": "code",
   "execution_count": 26,
   "metadata": {
    "colab": {
     "base_uri": "https://localhost:8080/",
     "height": 34
    },
    "colab_type": "code",
    "id": "6nFatG0wmg8e",
    "outputId": "f4a13459-8364-4ad0-fb90-6817003be442"
   },
   "outputs": [
    {
     "name": "stdout",
     "output_type": "stream",
     "text": [
      "mundo\n"
     ]
    }
   ],
   "source": [
    "example.hola()"
   ]
  },
  {
   "cell_type": "markdown",
   "metadata": {
    "colab_type": "text",
    "id": "1pMrHnnsmxPO"
   },
   "source": [
    "Coorrelo desde una celda de Jupyter es equivalente a ejecutarlo desde la consola"
   ]
  },
  {
   "cell_type": "code",
   "execution_count": 28,
   "metadata": {
    "colab": {
     "base_uri": "https://localhost:8080/",
     "height": 52
    },
    "colab_type": "code",
    "id": "WPU62rAJm39l",
    "outputId": "8b5ce17b-f2cc-4757-9189-42d54bc5ffa8"
   },
   "outputs": [
    {
     "name": "stdout",
     "output_type": "stream",
     "text": [
      "check __name__: __main__\n",
      "mundo\n"
     ]
    }
   ],
   "source": [
    "#!/usr/bin/env python3\n",
    "print( 'check __name__: {}'.format(__name__))\n",
    "\n",
    "def hola():\n",
    "    print('mundo')\n",
    "    \n",
    "if __name__=='__main__':\n",
    "    hola()"
   ]
  },
  {
   "cell_type": "markdown",
   "metadata": {
    "colab_type": "text",
    "id": "yMv7DnahY-Iz"
   },
   "source": [
    "## Programación por clases"
   ]
  },
  {
   "cell_type": "markdown",
   "metadata": {
    "colab_type": "text",
    "id": "Rw3fn_2DZBbT"
   },
   "source": [
    "Una clase se puede pensar como un conjuto de funciones que comparten algo común. \n",
    "\n",
    "Algunas veces, cuando la complejidad de las estructuras  tiene una estructura de capas, donde la capa interna es la mas simple y las capas más externas van aumentando la complejidad, pude ser conveniente pensar en una estructura de clases. \n",
    "\n",
    "De hecho, la clase básica pasa todas sus propiedades  a las clases basadas en ella. \n",
    "\n",
    "Esqueleto:\n",
    "```python\n",
    "class clasenueva:\n",
    "    var='valor'\n",
    "    def func1(self,...):\n",
    "        ''\n",
    "        self es lo que está antes del punto\n",
    "        ''\n",
    "        ....\n",
    "    def func2(self,....):\n",
    "        ....\n",
    "    \n",
    "    def main(self,....):\n",
    "        ....\n",
    "if __name__=='__main__':\n",
    "         objetonuevo=clasenueva()\n",
    "         # self → objetonuevo\n",
    "        objetonuevo.main()\n",
    "```\n",
    "\n"
   ]
  },
  {
   "cell_type": "code",
   "execution_count": null,
   "metadata": {
    "colab": {},
    "colab_type": "code",
    "id": "oD3cLkTHKDy4"
   },
   "outputs": [],
   "source": [
    "class veterinaria:\n",
    "    def __init__(self,x):\n",
    "        self.tipo={'perro':'guau','gato':'miau'}\n",
    "        self.sonido=self.tipo.get(x)\n",
    "    def __call__(self,nombre):\n",
    "        if nombre=='greco':\n",
    "            print(self.sonido)\n",
    "        else:\n",
    "            print(\"grrr!!\")\n",
    "    def color(self,nombre):\n",
    "        if nombre=='greco':\n",
    "            print('blanco')\n"
   ]
  },
  {
   "cell_type": "code",
   "execution_count": null,
   "metadata": {
    "colab": {},
    "colab_type": "code",
    "id": "UqLCY9R3s7ye"
   },
   "outputs": [],
   "source": []
  },
  {
   "cell_type": "markdown",
   "metadata": {
    "colab_type": "text",
    "id": "HRrOPyBwqkHc"
   },
   "source": [
    "* Cundo se inicializa la clase la función llamada `__init__`, se ejecuta automáticamente.\n",
    "* La función `__call__` permite usar el objeto directamente como función, sin hacer referencia al método, que por supuesto es   `__call__`\n",
    "\n",
    "Hay muchos otros métodos especiales, que comienzan con un `__`.... Usar `<TAB>` a continuación para ver algunos"
   ]
  },
  {
   "cell_type": "code",
   "execution_count": null,
   "metadata": {
    "colab": {},
    "colab_type": "code",
    "id": "hn9gQUX1biqt"
   },
   "outputs": [],
   "source": [
    "veterinaria.__"
   ]
  },
  {
   "cell_type": "markdown",
   "metadata": {
    "colab_type": "text",
    "id": "u2c3srDbsH5B"
   },
   "source": [
    "Para utilizar la clase, primero se debe incializar como un objeto. Crear la instancia de la clase. \n",
    "\n",
    "__Ejemplo__: Crea la instancia `mascotafeliz`"
   ]
  },
  {
   "cell_type": "code",
   "execution_count": null,
   "metadata": {
    "colab": {},
    "colab_type": "code",
    "id": "mTv7uV_JsdfA"
   },
   "outputs": [],
   "source": [
    "mascotafeliz=veterinaria('perro')"
   ]
  },
  {
   "cell_type": "code",
   "execution_count": 40,
   "metadata": {
    "colab": {
     "base_uri": "https://localhost:8080/",
     "height": 34
    },
    "colab_type": "code",
    "id": "IMabkap3KDy6",
    "outputId": "765c6eb9-ad11-4426-b06a-4d4c17b12f9d"
   },
   "outputs": [
    {
     "name": "stdout",
     "output_type": "stream",
     "text": [
      "guau\n"
     ]
    }
   ],
   "source": [
    "mascotafeliz('greco')"
   ]
  },
  {
   "cell_type": "code",
   "execution_count": 41,
   "metadata": {
    "colab": {
     "base_uri": "https://localhost:8080/",
     "height": 34
    },
    "colab_type": "code",
    "id": "fI050nt2KDy8",
    "outputId": "7ae2a431-2c8e-46e9-e893-10b666807400"
   },
   "outputs": [
    {
     "name": "stdout",
     "output_type": "stream",
     "text": [
      "blanco\n"
     ]
    }
   ],
   "source": [
    "mascotafeliz.color('greco')"
   ]
  },
  {
   "cell_type": "code",
   "execution_count": null,
   "metadata": {
    "colab": {},
    "colab_type": "code",
    "id": "bv6hxO6ZKDy_"
   },
   "outputs": [],
   "source": [
    "perro.tipo.get('vaca')"
   ]
  },
  {
   "cell_type": "markdown",
   "metadata": {
    "colab_type": "text",
    "id": "jdDzkn7xtym3"
   },
   "source": [
    "## Herencia"
   ]
  },
  {
   "cell_type": "code",
   "execution_count": null,
   "metadata": {
    "colab": {},
    "colab_type": "code",
    "id": "SKRtANy3KDzB"
   },
   "outputs": [],
   "source": [
    "import pandas as pd"
   ]
  },
  {
   "cell_type": "code",
   "execution_count": null,
   "metadata": {
    "colab": {},
    "colab_type": "code",
    "id": "G-ZiUnyhKDzD"
   },
   "outputs": [],
   "source": [
    "class finanzas(pd.DataFrame):\n",
    "    pass"
   ]
  },
  {
   "cell_type": "code",
   "execution_count": null,
   "metadata": {
    "colab": {},
    "colab_type": "code",
    "id": "mKLdQljeKDzF"
   },
   "outputs": [],
   "source": [
    "f=finanzas()"
   ]
  },
  {
   "cell_type": "code",
   "execution_count": 46,
   "metadata": {
    "colab": {
     "base_uri": "https://localhost:8080/",
     "height": 34
    },
    "colab_type": "code",
    "id": "NLCKASi_KDzH",
    "outputId": "325a1f23-b84e-4f5c-dc12-4f632321b022"
   },
   "outputs": [
    {
     "data": {
      "text/plain": [
       "__main__.finanzas"
      ]
     },
     "execution_count": 46,
     "metadata": {
      "tags": []
     },
     "output_type": "execute_result"
    }
   ],
   "source": [
    "type(f)"
   ]
  },
  {
   "cell_type": "code",
   "execution_count": 47,
   "metadata": {
    "colab": {
     "base_uri": "https://localhost:8080/",
     "height": 169
    },
    "colab_type": "code",
    "id": "jh5uAuzsuF7E",
    "outputId": "106dd6fa-b6ba-4252-abae-1b06e894e932"
   },
   "outputs": [
    {
     "ename": "TypeError",
     "evalue": "ignored",
     "output_type": "error",
     "traceback": [
      "\u001b[0;31m---------------------------------------------------------------------------\u001b[0m",
      "\u001b[0;31mTypeError\u001b[0m                                 Traceback (most recent call last)",
      "\u001b[0;32m<ipython-input-47-d585aedd1152>\u001b[0m in \u001b[0;36m<module>\u001b[0;34m()\u001b[0m\n\u001b[0;32m----> 1\u001b[0;31m \u001b[0mf\u001b[0m\u001b[0;34m(\u001b[0m\u001b[0;34m[\u001b[0m\u001b[0;34m{\u001b[0m\u001b[0;34m'A'\u001b[0m\u001b[0;34m:\u001b[0m\u001b[0;36m1\u001b[0m\u001b[0;34m}\u001b[0m\u001b[0;34m]\u001b[0m\u001b[0;34m)\u001b[0m\u001b[0;34m\u001b[0m\u001b[0m\n\u001b[0m",
      "\u001b[0;31mTypeError\u001b[0m: 'finanzas' object is not callable"
     ]
    }
   ],
   "source": [
    "f([{'A':1}])"
   ]
  },
  {
   "cell_type": "markdown",
   "metadata": {
    "colab_type": "text",
    "id": "5tQgeF-JuM90"
   },
   "source": [
    "Para realmente heradar hay que inicializarlo de forma especial con la función `super`"
   ]
  },
  {
   "cell_type": "code",
   "execution_count": null,
   "metadata": {
    "colab": {},
    "colab_type": "code",
    "id": "skIsHdKTKDzK"
   },
   "outputs": [],
   "source": [
    "class hkdict(dict):\n",
    "    def __init__(self,*args, **kwargs):\n",
    "        super(hkdict, self).__init__(*args, **kwargs)\n",
    "    def has_key(self,k):\n",
    "        return k in self"
   ]
  },
  {
   "cell_type": "code",
   "execution_count": null,
   "metadata": {
    "colab": {},
    "colab_type": "code",
    "id": "ABE_zcU8KDzM"
   },
   "outputs": [],
   "source": [
    "d={'perro':'guau','gato':'miau'}"
   ]
  },
  {
   "cell_type": "code",
   "execution_count": 52,
   "metadata": {
    "colab": {
     "base_uri": "https://localhost:8080/",
     "height": 169
    },
    "colab_type": "code",
    "id": "eZiyNKC5ugl0",
    "outputId": "e5b2a0a8-e1ea-4f53-8321-8638534e9e3b"
   },
   "outputs": [
    {
     "ename": "AttributeError",
     "evalue": "ignored",
     "output_type": "error",
     "traceback": [
      "\u001b[0;31m---------------------------------------------------------------------------\u001b[0m",
      "\u001b[0;31mAttributeError\u001b[0m                            Traceback (most recent call last)",
      "\u001b[0;32m<ipython-input-52-4598d173b43c>\u001b[0m in \u001b[0;36m<module>\u001b[0;34m()\u001b[0m\n\u001b[0;32m----> 1\u001b[0;31m \u001b[0md\u001b[0m\u001b[0;34m.\u001b[0m\u001b[0mhas_key\u001b[0m\u001b[0;34m(\u001b[0m\u001b[0;34m'gato'\u001b[0m\u001b[0;34m)\u001b[0m\u001b[0;34m\u001b[0m\u001b[0m\n\u001b[0m",
      "\u001b[0;31mAttributeError\u001b[0m: 'dict' object has no attribute 'has_key'"
     ]
    }
   ],
   "source": [
    "d.has_key('gato')"
   ]
  },
  {
   "cell_type": "code",
   "execution_count": null,
   "metadata": {
    "colab": {},
    "colab_type": "code",
    "id": "cGARhEXQKDzO"
   },
   "outputs": [],
   "source": [
    "dd=hkdict(d)"
   ]
  },
  {
   "cell_type": "code",
   "execution_count": 55,
   "metadata": {
    "colab": {
     "base_uri": "https://localhost:8080/",
     "height": 34
    },
    "colab_type": "code",
    "id": "CsQkLGMBKDzP",
    "outputId": "c31fec66-096e-4ee8-8338-d0db8235234a"
   },
   "outputs": [
    {
     "data": {
      "text/plain": [
       "False"
      ]
     },
     "execution_count": 55,
     "metadata": {
      "tags": []
     },
     "output_type": "execute_result"
    }
   ],
   "source": [
    "dd.has_key('vaca')"
   ]
  },
  {
   "cell_type": "markdown",
   "metadata": {
    "colab_type": "text",
    "id": "RqyqrVmhKDza"
   },
   "source": [
    "Refs:\n",
    "* https://realpython.com/python3-object-oriented-programming/\n",
    "* [Building Skills in Object-Oriented Design](https://drive.google.com/file/d/0BxoOXsn2EUNIWkt5Ni1vV2E4QlU/view?usp=sharing)"
   ]
  },
  {
   "cell_type": "code",
   "execution_count": null,
   "metadata": {},
   "outputs": [],
   "source": []
  }
 ],
 "metadata": {
  "colab": {
   "include_colab_link": true,
   "name": "Intro_clases.ipynb",
   "provenance": [],
   "version": "0.3.2"
  },
  "kernelspec": {
   "display_name": "Python 3",
   "language": "python",
   "name": "python3"
  },
  "language_info": {
   "codemirror_mode": {
    "name": "ipython",
    "version": 3
   },
   "file_extension": ".py",
   "mimetype": "text/x-python",
   "name": "python",
   "nbconvert_exporter": "python",
   "pygments_lexer": "ipython3",
   "version": "3.5.3"
  }
 },
 "nbformat": 4,
 "nbformat_minor": 4
}
