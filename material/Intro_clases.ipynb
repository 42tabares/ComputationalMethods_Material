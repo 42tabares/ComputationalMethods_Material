{
  "nbformat": 4,
  "nbformat_minor": 0,
  "metadata": {
    "colab": {
      "name": "Intro_clases.ipynb",
      "version": "0.3.2",
      "provenance": [],
      "include_colab_link": true
    },
    "kernelspec": {
      "display_name": "Python 3",
      "language": "python",
      "name": "python3"
    }
  },
  "cells": [
    {
      "cell_type": "markdown",
      "metadata": {
        "id": "view-in-github",
        "colab_type": "text"
      },
      "source": [
        "<a href=\"https://colab.research.google.com/github/restrepo/ComputationalMethods/blob/master/material/Intro_clases.ipynb\" target=\"_parent\"><img src=\"https://colab.research.google.com/assets/colab-badge.svg\" alt=\"Open In Colab\"/></a>"
      ]
    },
    {
      "metadata": {
        "id": "Y6JhrcAwKDy2",
        "colab_type": "text"
      },
      "cell_type": "markdown",
      "source": [
        "# Clases\n",
        "En Python, todo es un objeto, es decir, una instancia o realización de un clase. Cada objeto tiene unos métodos:\n",
        "```python\n",
        "objeto.metodo(...)\n",
        "que corresponde  a función `__call__` de una clase, y los atributos\n",
        "```\n",
        "```python\n",
        "objeto.atributo\n",
        "```\n",
        "que son simple definiciones dentro de la case: `self.atributo=....`.\n",
        "\n",
        "Algunos objetos en Python también "
      ]
    },
    {
      "metadata": {
        "id": "YiIs6z25LOiN",
        "colab_type": "text"
      },
      "cell_type": "markdown",
      "source": [
        "## Programación funcional\n",
        "En cálculo científico el paradigma funcional, en el cual el programa se escribe en términos de funciones, suele ser suficiente.\n",
        "\n",
        "El esqueleto de un programa funcional  es típicamente del sigiento tipo\n",
        "```python\n",
        "#!/usr/bin/user/env python3\n",
        "import somemodule as sm\n",
        "def func1(...):\n",
        "    '''\n",
        "    Ayuda func1\n",
        "   '''\n",
        "    .....\n",
        "\n",
        "def func2(...):\n",
        "    '''\n",
        "    Ayuda func2\n",
        "    '''\n",
        "    .....\n",
        "    \n",
        " \n",
        "def main(...):\n",
        "    '''\n",
        "    Ayuda función principal\n",
        "    '''\n",
        "    x=func1(...)\n",
        "    y=func2(x)\n",
        "    \n",
        "if __name__='__main__':\n",
        "    z=main()\n",
        "    print('El resultado final es: {}'.format(z))\n",
        "\n",
        "```\n",
        "\n",
        "Para su diseño, el programa se debe separar  sus partes independientes y para cada una de ellas se debe definir una función. \n",
        "\n",
        "_La función ideal es una  que se pueda reutilizar facilamente en otro contexto._\n",
        "\n",
        "La última funciona combina todas las anteriores para entregar el resultado final del programa. La instrucción `if __name__='__main__'`,  permite que el programa sea pueda ser usado también como un módulo de Python, es decir que se pueda cargar desde otro programa con el `import`. En tal caso, la variable \n",
        "interna de Python `__name__`  es diferente a la cadena de caracteres `'__main__'`. Dentro de Jupyter:\n"
      ]
    },
    {
      "metadata": {
        "id": "4hPNCRcoPLim",
        "colab_type": "code",
        "outputId": "dd9f0b2c-1d87-4ff3-fc7a-d3d09552c0ac",
        "colab": {
          "base_uri": "https://localhost:8080/",
          "height": 34
        }
      },
      "cell_type": "code",
      "source": [
        "__name__"
      ],
      "execution_count": 27,
      "outputs": [
        {
          "output_type": "execute_result",
          "data": {
            "text/plain": [
              "'__main__'"
            ]
          },
          "metadata": {
            "tags": []
          },
          "execution_count": 27
        }
      ]
    },
    {
      "metadata": {
        "id": "WC3Mm-fYjnT_",
        "colab_type": "text"
      },
      "cell_type": "markdown",
      "source": [
        "Ejemplo módulo"
      ]
    },
    {
      "metadata": {
        "id": "GuE_ERSyjqXc",
        "colab_type": "code",
        "colab": {
          "base_uri": "https://localhost:8080/",
          "height": 34
        },
        "outputId": "8178b893-0303-4361-d930-74b4435123e8"
      },
      "cell_type": "code",
      "source": [
        "%%writefile example.py\n",
        "#!/usr/bin/env python3\n",
        "print( 'check __name__: {}'.format(__name__))\n",
        "\n",
        "def hola():\n",
        "    print('mundo')\n",
        "    \n",
        "if __name__=='__main__':\n",
        "    hola()"
      ],
      "execution_count": 22,
      "outputs": [
        {
          "output_type": "stream",
          "text": [
            "Overwriting example.py\n"
          ],
          "name": "stdout"
        }
      ]
    },
    {
      "metadata": {
        "id": "M_jJDcm-lfAY",
        "colab_type": "text"
      },
      "cell_type": "markdown",
      "source": [
        "`ls` funciona"
      ]
    },
    {
      "metadata": {
        "id": "U3DfHFmWkUNa",
        "colab_type": "code",
        "colab": {
          "base_uri": "https://localhost:8080/",
          "height": 70
        },
        "outputId": "bd6c9847-5d59-43a3-bbf6-57d8db102a49"
      },
      "cell_type": "code",
      "source": [
        "ls -l"
      ],
      "execution_count": 7,
      "outputs": [
        {
          "output_type": "stream",
          "text": [
            "total 8\n",
            "-rw-r--r-- 1 root root   53 Nov 16 17:28 example.py\n",
            "drwxr-xr-x 2 root root 4096 Nov 15 01:02 \u001b[0m\u001b[01;34msample_data\u001b[0m/\n"
          ],
          "name": "stdout"
        }
      ]
    },
    {
      "metadata": {
        "id": "B7jkUAFKlho4",
        "colab_type": "text"
      },
      "cell_type": "markdown",
      "source": [
        "`cat` funciona"
      ]
    },
    {
      "metadata": {
        "id": "F1cmyMlFj3RC",
        "colab_type": "code",
        "colab": {
          "base_uri": "https://localhost:8080/",
          "height": 158
        },
        "outputId": "c8ff021f-59b4-46e6-8004-5c456de602c0"
      },
      "cell_type": "code",
      "source": [
        "cat example.py "
      ],
      "execution_count": 23,
      "outputs": [
        {
          "output_type": "stream",
          "text": [
            "#!/usr/bin/env python3\n",
            "print( 'check __name__: {}'.format(__name__))\n",
            "\n",
            "def hola():\n",
            "    print('mundo')\n",
            "    \n",
            "if __name__=='__main__':\n",
            "    hola()"
          ],
          "name": "stdout"
        }
      ]
    },
    {
      "metadata": {
        "id": "HBmG35Rhlpk3",
        "colab_type": "text"
      },
      "cell_type": "markdown",
      "source": [
        "Cambia los permisos a ejecución"
      ]
    },
    {
      "metadata": {
        "id": "a_R1GXDlkZZ6",
        "colab_type": "code",
        "colab": {}
      },
      "cell_type": "code",
      "source": [
        "! chmod a+x example.py"
      ],
      "execution_count": 0,
      "outputs": []
    },
    {
      "metadata": {
        "id": "KB3f-x2NkwIZ",
        "colab_type": "code",
        "colab": {
          "base_uri": "https://localhost:8080/",
          "height": 70
        },
        "outputId": "e43d1921-cc69-4b83-800a-0107c83ab03e"
      },
      "cell_type": "code",
      "source": [
        "ls -l"
      ],
      "execution_count": 10,
      "outputs": [
        {
          "output_type": "stream",
          "text": [
            "total 8\n",
            "-rwxr-xr-x 1 root root   53 Nov 16 17:28 \u001b[0m\u001b[01;32mexample.py\u001b[0m*\n",
            "drwxr-xr-x 2 root root 4096 Nov 15 01:02 \u001b[01;34msample_data\u001b[0m/\n"
          ],
          "name": "stdout"
        }
      ]
    },
    {
      "metadata": {
        "id": "DLHOmcEJlt5_",
        "colab_type": "text"
      },
      "cell_type": "markdown",
      "source": [
        "Corre el programa desde la consola"
      ]
    },
    {
      "metadata": {
        "id": "6-KSDo18k3HQ",
        "colab_type": "code",
        "colab": {
          "base_uri": "https://localhost:8080/",
          "height": 52
        },
        "outputId": "510e7649-d958-454c-c877-e541f182403c"
      },
      "cell_type": "code",
      "source": [
        "!./example.py"
      ],
      "execution_count": 24,
      "outputs": [
        {
          "output_type": "stream",
          "text": [
            "check __name__: __main__\n",
            "mundo\n"
          ],
          "name": "stdout"
        }
      ]
    },
    {
      "metadata": {
        "id": "XBz-Kvq1mMo2",
        "colab_type": "text"
      },
      "cell_type": "markdown",
      "source": [
        "Uso como módulo"
      ]
    },
    {
      "metadata": {
        "id": "mgBWS5egmPFe",
        "colab_type": "code",
        "colab": {
          "base_uri": "https://localhost:8080/",
          "height": 34
        },
        "outputId": "bc00463f-24d9-4232-96e0-befe6547a5b3"
      },
      "cell_type": "code",
      "source": [
        "import example"
      ],
      "execution_count": 25,
      "outputs": [
        {
          "output_type": "stream",
          "text": [
            "check __name__: example\n"
          ],
          "name": "stdout"
        }
      ]
    },
    {
      "metadata": {
        "id": "6nFatG0wmg8e",
        "colab_type": "code",
        "colab": {
          "base_uri": "https://localhost:8080/",
          "height": 34
        },
        "outputId": "f4a13459-8364-4ad0-fb90-6817003be442"
      },
      "cell_type": "code",
      "source": [
        "example.hola()"
      ],
      "execution_count": 26,
      "outputs": [
        {
          "output_type": "stream",
          "text": [
            "mundo\n"
          ],
          "name": "stdout"
        }
      ]
    },
    {
      "metadata": {
        "id": "1pMrHnnsmxPO",
        "colab_type": "text"
      },
      "cell_type": "markdown",
      "source": [
        "Coorrelo desde una celda de Jupyter es equivalente a ejecutarlo desde la consola"
      ]
    },
    {
      "metadata": {
        "id": "WPU62rAJm39l",
        "colab_type": "code",
        "colab": {
          "base_uri": "https://localhost:8080/",
          "height": 52
        },
        "outputId": "8b5ce17b-f2cc-4757-9189-42d54bc5ffa8"
      },
      "cell_type": "code",
      "source": [
        "#!/usr/bin/env python3\n",
        "print( 'check __name__: {}'.format(__name__))\n",
        "\n",
        "def hola():\n",
        "    print('mundo')\n",
        "    \n",
        "if __name__=='__main__':\n",
        "    hola()"
      ],
      "execution_count": 28,
      "outputs": [
        {
          "output_type": "stream",
          "text": [
            "check __name__: __main__\n",
            "mundo\n"
          ],
          "name": "stdout"
        }
      ]
    },
    {
      "metadata": {
        "id": "yMv7DnahY-Iz",
        "colab_type": "text"
      },
      "cell_type": "markdown",
      "source": [
        "## Programación por clases"
      ]
    },
    {
      "metadata": {
        "id": "Rw3fn_2DZBbT",
        "colab_type": "text"
      },
      "cell_type": "markdown",
      "source": [
        "Una clase se puede pensar como un conjuto de funciones que comparten algo común. \n",
        "\n",
        "Algunas veces, cuando la complejidad de las estructuras  tiene una estructura de capas, donde la capa interna es la mas simple y las capas más externas van aumentando la complejidad, pude ser conveniente pensar en una estructura de clases. \n",
        "\n",
        "De hecho, la clase básica pasa todas sus propiedades  a las clases basadas en ella. \n",
        "\n",
        "Esqueleto:\n",
        "```python\n",
        "class clasenueva:\n",
        "    var='valor'\n",
        "    def func1(self,...):\n",
        "        ''\n",
        "        self es lo que está antes del punto\n",
        "        ''\n",
        "        ....\n",
        "    def func2(self,....):\n",
        "        ....\n",
        "    \n",
        "    def main(self,....):\n",
        "        ....\n",
        "if __name__=='__main__':\n",
        "         objetonuevo=clasenueva()\n",
        "         # self → objetonuevo\n",
        "        objetonuevo.main()\n",
        "```\n",
        "\n"
      ]
    },
    {
      "metadata": {
        "id": "oD3cLkTHKDy4",
        "colab_type": "code",
        "colab": {}
      },
      "cell_type": "code",
      "source": [
        "class veterinaria:\n",
        "    def __init__(self,x):\n",
        "        self.tipo={'perro':'guau','gato':'miau'}\n",
        "        self.sonido=self.tipo.get(x)\n",
        "    def __call__(self,nombre):\n",
        "        if nombre=='greco':\n",
        "            print(self.sonido)\n",
        "        else:\n",
        "            print(\"grrr!!\")\n",
        "    def color(self,nombre):\n",
        "        if nombre=='greco':\n",
        "            print('blanco')\n"
      ],
      "execution_count": 0,
      "outputs": []
    },
    {
      "metadata": {
        "id": "UqLCY9R3s7ye",
        "colab_type": "code",
        "colab": {}
      },
      "cell_type": "code",
      "source": [
        ""
      ],
      "execution_count": 0,
      "outputs": []
    },
    {
      "metadata": {
        "id": "HRrOPyBwqkHc",
        "colab_type": "text"
      },
      "cell_type": "markdown",
      "source": [
        "* Cundo se inicializa la clase la función llamada `__init__`, se ejecuta automáticamente.\n",
        "* La función `__call__` permite usar el objeto directamente como función, sin hacer referencia al método, que por supuesto es   `__call__`\n",
        "\n",
        "Hay muchos otros métodos especiales, que comienzan con un `__`.... Usar `<TAB>` a continuación para ver algunos"
      ]
    },
    {
      "metadata": {
        "id": "hn9gQUX1biqt",
        "colab_type": "code",
        "colab": {}
      },
      "cell_type": "code",
      "source": [
        "veterinaria.__"
      ],
      "execution_count": 0,
      "outputs": []
    },
    {
      "metadata": {
        "id": "u2c3srDbsH5B",
        "colab_type": "text"
      },
      "cell_type": "markdown",
      "source": [
        "Para utilizar la clase, primero se debe incializar como un objeto. Crear la instancia de la clase. \n",
        "\n",
        "__Ejemplo__: Crea la instancia `mascotafeliz`"
      ]
    },
    {
      "metadata": {
        "id": "mTv7uV_JsdfA",
        "colab_type": "code",
        "colab": {}
      },
      "cell_type": "code",
      "source": [
        "mascotafeliz=veterinaria('perro')"
      ],
      "execution_count": 0,
      "outputs": []
    },
    {
      "metadata": {
        "id": "IMabkap3KDy6",
        "colab_type": "code",
        "colab": {
          "base_uri": "https://localhost:8080/",
          "height": 34
        },
        "outputId": "765c6eb9-ad11-4426-b06a-4d4c17b12f9d"
      },
      "cell_type": "code",
      "source": [
        "mascotafeliz('greco')"
      ],
      "execution_count": 40,
      "outputs": [
        {
          "output_type": "stream",
          "text": [
            "guau\n"
          ],
          "name": "stdout"
        }
      ]
    },
    {
      "metadata": {
        "id": "fI050nt2KDy8",
        "colab_type": "code",
        "outputId": "7ae2a431-2c8e-46e9-e893-10b666807400",
        "colab": {
          "base_uri": "https://localhost:8080/",
          "height": 34
        }
      },
      "cell_type": "code",
      "source": [
        "mascotafeliz.color('greco')"
      ],
      "execution_count": 41,
      "outputs": [
        {
          "output_type": "stream",
          "text": [
            "blanco\n"
          ],
          "name": "stdout"
        }
      ]
    },
    {
      "metadata": {
        "id": "bv6hxO6ZKDy_",
        "colab_type": "code",
        "colab": {}
      },
      "cell_type": "code",
      "source": [
        "perro.tipo.get('vaca')"
      ],
      "execution_count": 0,
      "outputs": []
    },
    {
      "metadata": {
        "id": "jdDzkn7xtym3",
        "colab_type": "text"
      },
      "cell_type": "markdown",
      "source": [
        "## Herencia"
      ]
    },
    {
      "metadata": {
        "id": "SKRtANy3KDzB",
        "colab_type": "code",
        "colab": {}
      },
      "cell_type": "code",
      "source": [
        "import pandas as pd"
      ],
      "execution_count": 0,
      "outputs": []
    },
    {
      "metadata": {
        "id": "G-ZiUnyhKDzD",
        "colab_type": "code",
        "colab": {}
      },
      "cell_type": "code",
      "source": [
        "class finanzas(pd.DataFrame):\n",
        "    pass"
      ],
      "execution_count": 0,
      "outputs": []
    },
    {
      "metadata": {
        "id": "mKLdQljeKDzF",
        "colab_type": "code",
        "colab": {}
      },
      "cell_type": "code",
      "source": [
        "f=finanzas()"
      ],
      "execution_count": 0,
      "outputs": []
    },
    {
      "metadata": {
        "id": "NLCKASi_KDzH",
        "colab_type": "code",
        "outputId": "325a1f23-b84e-4f5c-dc12-4f632321b022",
        "colab": {
          "base_uri": "https://localhost:8080/",
          "height": 34
        }
      },
      "cell_type": "code",
      "source": [
        "type(f)"
      ],
      "execution_count": 46,
      "outputs": [
        {
          "output_type": "execute_result",
          "data": {
            "text/plain": [
              "__main__.finanzas"
            ]
          },
          "metadata": {
            "tags": []
          },
          "execution_count": 46
        }
      ]
    },
    {
      "metadata": {
        "id": "jh5uAuzsuF7E",
        "colab_type": "code",
        "colab": {
          "base_uri": "https://localhost:8080/",
          "height": 169
        },
        "outputId": "106dd6fa-b6ba-4252-abae-1b06e894e932"
      },
      "cell_type": "code",
      "source": [
        "f([{'A':1}])"
      ],
      "execution_count": 47,
      "outputs": [
        {
          "output_type": "error",
          "ename": "TypeError",
          "evalue": "ignored",
          "traceback": [
            "\u001b[0;31m---------------------------------------------------------------------------\u001b[0m",
            "\u001b[0;31mTypeError\u001b[0m                                 Traceback (most recent call last)",
            "\u001b[0;32m<ipython-input-47-d585aedd1152>\u001b[0m in \u001b[0;36m<module>\u001b[0;34m()\u001b[0m\n\u001b[0;32m----> 1\u001b[0;31m \u001b[0mf\u001b[0m\u001b[0;34m(\u001b[0m\u001b[0;34m[\u001b[0m\u001b[0;34m{\u001b[0m\u001b[0;34m'A'\u001b[0m\u001b[0;34m:\u001b[0m\u001b[0;36m1\u001b[0m\u001b[0;34m}\u001b[0m\u001b[0;34m]\u001b[0m\u001b[0;34m)\u001b[0m\u001b[0;34m\u001b[0m\u001b[0m\n\u001b[0m",
            "\u001b[0;31mTypeError\u001b[0m: 'finanzas' object is not callable"
          ]
        }
      ]
    },
    {
      "metadata": {
        "id": "5tQgeF-JuM90",
        "colab_type": "text"
      },
      "cell_type": "markdown",
      "source": [
        "Para realmente heradar hay que inicializarlo de forma especial con la función `super`"
      ]
    },
    {
      "metadata": {
        "id": "skIsHdKTKDzK",
        "colab_type": "code",
        "colab": {}
      },
      "cell_type": "code",
      "source": [
        "class hkdict(dict):\n",
        "    def __init__(self,*args, **kwargs):\n",
        "        super(hkdict, self).__init__(*args, **kwargs)\n",
        "    def has_key(self,k):\n",
        "        return k in self"
      ],
      "execution_count": 0,
      "outputs": []
    },
    {
      "metadata": {
        "id": "ABE_zcU8KDzM",
        "colab_type": "code",
        "colab": {}
      },
      "cell_type": "code",
      "source": [
        "d={'perro':'guau','gato':'miau'}"
      ],
      "execution_count": 0,
      "outputs": []
    },
    {
      "metadata": {
        "id": "eZiyNKC5ugl0",
        "colab_type": "code",
        "colab": {
          "base_uri": "https://localhost:8080/",
          "height": 169
        },
        "outputId": "e5b2a0a8-e1ea-4f53-8321-8638534e9e3b"
      },
      "cell_type": "code",
      "source": [
        "d.has_key('gato')"
      ],
      "execution_count": 52,
      "outputs": [
        {
          "output_type": "error",
          "ename": "AttributeError",
          "evalue": "ignored",
          "traceback": [
            "\u001b[0;31m---------------------------------------------------------------------------\u001b[0m",
            "\u001b[0;31mAttributeError\u001b[0m                            Traceback (most recent call last)",
            "\u001b[0;32m<ipython-input-52-4598d173b43c>\u001b[0m in \u001b[0;36m<module>\u001b[0;34m()\u001b[0m\n\u001b[0;32m----> 1\u001b[0;31m \u001b[0md\u001b[0m\u001b[0;34m.\u001b[0m\u001b[0mhas_key\u001b[0m\u001b[0;34m(\u001b[0m\u001b[0;34m'gato'\u001b[0m\u001b[0;34m)\u001b[0m\u001b[0;34m\u001b[0m\u001b[0m\n\u001b[0m",
            "\u001b[0;31mAttributeError\u001b[0m: 'dict' object has no attribute 'has_key'"
          ]
        }
      ]
    },
    {
      "metadata": {
        "id": "cGARhEXQKDzO",
        "colab_type": "code",
        "colab": {}
      },
      "cell_type": "code",
      "source": [
        "dd=hkdict(d)"
      ],
      "execution_count": 0,
      "outputs": []
    },
    {
      "metadata": {
        "id": "CsQkLGMBKDzP",
        "colab_type": "code",
        "outputId": "c31fec66-096e-4ee8-8338-d0db8235234a",
        "colab": {
          "base_uri": "https://localhost:8080/",
          "height": 34
        }
      },
      "cell_type": "code",
      "source": [
        "dd.has_key('vaca')"
      ],
      "execution_count": 55,
      "outputs": [
        {
          "output_type": "execute_result",
          "data": {
            "text/plain": [
              "False"
            ]
          },
          "metadata": {
            "tags": []
          },
          "execution_count": 55
        }
      ]
    },
    {
      "metadata": {
        "id": "RqyqrVmhKDza",
        "colab_type": "text"
      },
      "cell_type": "markdown",
      "source": [
        "Refs:\n",
        "https://realpython.com/python3-object-oriented-programming/"
      ]
    }
  ]
}