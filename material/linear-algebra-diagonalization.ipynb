{
 "cells": [
  {
   "cell_type": "markdown",
   "metadata": {
    "colab_type": "text",
    "id": "I-46MAJZImXY"
   },
   "source": [
    "# Matrix diagonalization"
   ]
  },
  {
   "cell_type": "markdown",
   "metadata": {
    "colab_type": "text",
    "id": "40WhQJy2EWqx"
   },
   "source": [
    "## Theorem 1\n",
    "\n",
    "If $\\boldsymbol{A}$ is Hermitic, e.g:\n",
    "\\begin{align}\n",
    "\\boldsymbol{A}^\\dagger =\\boldsymbol{A}\\,,\n",
    "\\end{align}\n",
    "Then exists an _unitary  matrix_ $\\boldsymbol{V}$ e.g:\n",
    "\\begin{align}\n",
    "\\boldsymbol{V}^{\\ -1}=\\boldsymbol{V}^\\dagger \\,,\n",
    "\\end{align}\n",
    "such that\n",
    "\\begin{equation}\n",
    "  \\boldsymbol{V}^\\dagger\\boldsymbol{A}\\,\\boldsymbol{V}=\\boldsymbol{A}_{\\text{diag}}\\,,\n",
    "\\end{equation}\n",
    "where \n",
    "$\\boldsymbol{A}_{\\text{diag}}=\\operatorname{diag}(\\lambda_1,\\lambda_2,\\ldots \\lambda_n)$ is the diagonalized mass matrix."
   ]
  },
  {
   "cell_type": "markdown",
   "metadata": {
    "colab_type": "text",
    "id": "QousO-tmLx5e"
   },
   "source": [
    "### Corollary 1\n",
    "\n",
    "If $\\boldsymbol{A}$ is symmetric, e.g:\n",
    "\\begin{align}\n",
    "\\boldsymbol{A}^{\\operatorname{T}} =\\boldsymbol{A}\\,,\n",
    "\\end{align}\n",
    "Then exists an _ortogonal matrix_ $\\boldsymbol{V}$, e.g:\n",
    "\\begin{align}\n",
    "\\boldsymbol{V}^{-1}=\\boldsymbol{V}^{\\operatorname{T}} \\,,\n",
    "\\end{align}\n",
    "such that\n",
    "\\begin{equation}\n",
    "  \\boldsymbol{V}^{\\operatorname{T}}\\boldsymbol{A}\\,\\boldsymbol{V}=\\boldsymbol{A}_{\\text{diag}}\\,,\n",
    "\\end{equation}\n",
    "where \n",
    "$\\boldsymbol{A}_{\\text{diag}}=\\operatorname{diag}(\\lambda_1,\\lambda_2,\\ldots \\lambda_n)$ is the diagonalized mass matrix."
   ]
  },
  {
   "cell_type": "markdown",
   "metadata": {
    "colab_type": "text",
    "id": "Czn5t78GZepT"
   },
   "source": [
    "## Eigenvector problem\n",
    "The __Corollary__ only guarantees existence. Tor really calculate de diagonalization matrix we must establish the eigenvector problem:\n",
    "\n",
    "In the case a symetric matrix, the eigenvalue equation is just:\n",
    "\\begin{align}\n",
    "%$$\n",
    "  \\boldsymbol{A}\\,\\boldsymbol{V}_i=&\\lambda_i\\boldsymbol{V}_i \\nonumber\\\\\n",
    "  \\boldsymbol{A}\\,\\boldsymbol{V}_i-\\lambda_i\\boldsymbol{V}_i=&\\boldsymbol{0} \\nonumber\\\\\n",
    "  (\\boldsymbol{A}-\\lambda_i \\,\\boldsymbol{I})\\boldsymbol{V}_i=&\\boldsymbol{0}\\,,\n",
    "%$$\n",
    "\\end{align}\n",
    "where $\\boldsymbol{V}_i$ is the $i$-th column of the matrix  $\\boldsymbol{V}$, and $\\boldsymbol{I}$ is the identity matrix. \n",
    "\n",
    "To avoid the trivial solution $\\boldsymbol{V}_i=\\boldsymbol{0}$, we require that $\\boldsymbol{A}-\\lambda_i\\, \\boldsymbol{I}$\n",
    "does not have an inverse, or equivalently\n",
    "$$\\det( \\boldsymbol{A}-\\lambda_i\\, \\boldsymbol{I})=0\\,.$$"
   ]
  },
  {
   "cell_type": "markdown",
   "metadata": {
    "colab_type": "text",
    "id": "pCSR2TVCHRwa"
   },
   "source": [
    "## Theorem 2: Singular value decomposition (SVD)\n",
    "See [SVD](https://en.wikipedia.org/wiki/Singular_value_decomposition) (where the  Hermetique-conjugate is denoted with \"*\" instead that with \"\")\n",
    "\n",
    "A general complex matrix $\\boldsymbol{A}$  can be diagonalized by a bi-diagonal transformation such that\n",
    "\\begin{equation}\n",
    "  \\boldsymbol{V}^\\dagger\\boldsymbol{A}\\,\\boldsymbol{U}=\\boldsymbol{A}_{\\text{diag}}\\,,\n",
    "\\end{equation}\n",
    "where \n",
    "$\\boldsymbol{A}_{\\text{diag}}=\\operatorname{diag}(\\lambda_1,\\lambda_2,\\ldots \\lambda_n)$ is the diagonalized mass matrix.\n",
    "\n",
    "### Demostration\n",
    "\\begin{align}\n",
    "  \\boldsymbol{A}_{\\text{diag}}=&\\boldsymbol{V}^\\dagger\\boldsymbol{A}\\,\\boldsymbol{U}\\\\\n",
    "  \\boldsymbol{A}_{\\text{diag}}\\boldsymbol{A}_{\\text{diag}}^\\dagger=&\\boldsymbol{V}^\\dagger\\boldsymbol{A}\\,\\boldsymbol{U}\n",
    "  \\left(\\boldsymbol{V}^\\dagger\\boldsymbol{A}\\,\\boldsymbol{U}\\right)^\\dagger\\\\\n",
    "  =&\\boldsymbol{V}^\\dagger\\boldsymbol{A}\\,\\boldsymbol{U}\n",
    "  \\left(   \\boldsymbol{U}^\\dagger \\boldsymbol{A}^\\dagger\\,\\boldsymbol{V}\\right)\\\\\n",
    "  =&\\boldsymbol{V}^\\dagger\n",
    "  \\left( \\boldsymbol{A}  \\boldsymbol{A}^\\dagger\\,\\right) \\boldsymbol{V}\\,.\\\\\n",
    "\\end{align}\n",
    "Since $\\boldsymbol{A}  \\boldsymbol{A}^\\dagger$ is hermitic and $\\boldsymbol{A}  \\boldsymbol{A}^\\dagger$ is diagonal, then in fact there exists an unitary matrix $\\boldsymbol{V}$.  Similarly there exists an unitary matrix $\\boldsymbol{U}$ which diagonalizes  $\\boldsymbol{A}^\\dagger  \\boldsymbol{A}$"
   ]
  },
  {
   "cell_type": "markdown",
   "metadata": {},
   "source": [
    "### Scipy implementation\n",
    "The implementation in scipy is based in the inverted relation \n",
    "\\begin{align}\n",
    "  \\boldsymbol{V}^\\dagger\\boldsymbol{A}\\,\\boldsymbol{U}=&\\boldsymbol{A}_{\\text{diag}}\\\\\n",
    "  \\boldsymbol{V}\\boldsymbol{V}^\\dagger\\boldsymbol{A}\\,\\boldsymbol{U}\\boldsymbol{U}^\\dagger=&\\boldsymbol{V}\\boldsymbol{A}_{\\text{diag}}\\boldsymbol{U}^\\dagger\\\\\n",
    "  \\boldsymbol{A}=&\\boldsymbol{V}\\boldsymbol{A}_{\\text{diag}}\\boldsymbol{U}^\\dagger\\,.\n",
    "\\end{align}\n",
    "\n",
    "The implementation is trough the module `scipy.linalg.svd`:\n",
    "```bash\n",
    "V,Adiag,Udagger=linalg.svd(A)\n",
    "```\n"
   ]
  },
  {
   "cell_type": "markdown",
   "metadata": {
    "colab_type": "text",
    "id": "osxweeQvZeoY"
   },
   "source": [
    "### Eigenvectors and eigenvalues\n",
    "If we make\n",
    "$$ \\boldsymbol{U}=[\\boldsymbol{U}_1,\\boldsymbol{U}_2,\\boldsymbol{U}_3], \\qquad \\boldsymbol{V}=[\\boldsymbol{V}_1,\\boldsymbol{V}_2,\\boldsymbol{V}_3] $$\n",
    "\n",
    "We know that there exists a bi-diagonal transformación such that\n",
    "\\begin{equation}\n",
    "%$$\n",
    "  \\boldsymbol{A}\\,\\boldsymbol{U}=\\boldsymbol{V}\\boldsymbol{A}_{\\text{diag}}\n",
    "\\end{equation}\n",
    "\\begin{equation}\n",
    "  \\boldsymbol{A}\\,\\boldsymbol{U}_i=\\lambda_i\\boldsymbol{V}_i\n",
    "%$$\n",
    "\\end{equation}\n",
    "not sum upon $i$. Here \n",
    "* $\\lambda_i$ are called eigenvalues\n",
    "* $V_i$ and $U_i$ are the eigenvectors"
   ]
  },
  {
   "cell_type": "markdown",
   "metadata": {
    "colab_type": "text",
    "id": "KzphXQAeZeoY"
   },
   "source": [
    "We can use this to check the proper order of the eigenvalues"
   ]
  },
  {
   "cell_type": "markdown",
   "metadata": {
    "colab_type": "text",
    "id": "A1iOYehvZeoK"
   },
   "source": [
    "## Transformation of a linear system\n",
    "We start again with the matrix equation, capitol bold letters denotes matrices\n",
    "\\begin{equation}\n",
    "  \\boldsymbol{A}\\boldsymbol{X}=\\boldsymbol{B}\\,,\n",
    "\\end{equation}\n",
    "where $\\boldsymbol{A}$ is an $n \\times n$ matrix.\n",
    "\n",
    "We know that there exists a bi-diagonal transformación such that\n",
    "\\begin{equation}\n",
    "  \\boldsymbol{V}^\\dagger\\boldsymbol{A}\\,\\boldsymbol{U}=\\boldsymbol{A}_{\\text{diag}}\n",
    "\\end{equation}\n",
    "So, by doing standard operations we have\n",
    "\\begin{align}\n",
    "  \\boldsymbol{V}^\\dagger \\boldsymbol{A} \\boldsymbol{U} \\boldsymbol{U}^\\dagger \\boldsymbol{X}=& \\boldsymbol{V}^\\dagger \\boldsymbol{B}\\\\\n",
    "   \\left( \\boldsymbol{V}^\\dagger \\boldsymbol{A} \\boldsymbol{U} \\right) \n",
    "   \\left( \\boldsymbol{U}^\\dagger \\boldsymbol{X}\\right)=& \\boldsymbol{V}^\\dagger \\boldsymbol{B}\\\\\n",
    "  \\boldsymbol{A}_{\\text{diag}} \\boldsymbol{X}'=&\\boldsymbol{B}'\\,,      \n",
    "\\end{align}\n",
    "where\n",
    "\\begin{align}\n",
    "  \\boldsymbol{X}'=& \\boldsymbol{U}^\\dagger \\boldsymbol{X}\\,, &    \\boldsymbol{B}'=& \\boldsymbol{V}^\\dagger \\boldsymbol{B}\\,,\n",
    "\\end{align}\n",
    "or\n",
    "\\begin{align}\n",
    "  \\boldsymbol{X}=& \\boldsymbol{U}\\boldsymbol{X}'\\,, &    \\boldsymbol{B}=& \\boldsymbol{V}\\boldsymbol{B}'\\,.\n",
    "\\end{align}\n",
    "\n",
    "If $\\boldsymbol{A}_{\\text{diag}}=\\operatorname{diag}(\\lambda_1,\\lambda_2,\\ldots \\lambda_n)$, $\\boldsymbol{X}^{\\operatorname{T}}=\\begin{pmatrix}x_1 & x_2 &\\cdots & x_n\\end{pmatrix}^{\\operatorname{T}}$ and $\\boldsymbol{B}^{\\operatorname{T}}=\\begin{pmatrix}b_1& b_2 &\\cdots & b_n\\end{pmatrix}^{\\operatorname{T}}$,\n",
    "the solution of the system is given by\n",
    "\\begin{equation}\n",
    "\\lambda_i x'_i=b_i'\\,.\n",
    "\\end{equation}\n",
    "\n",
    "Note that\n",
    "\\begin{align}\n",
    "   \\boldsymbol{X}'=&\\boldsymbol{A}_{\\text{diag}}^{-1}\\boldsymbol{B}'\\,,      \n",
    "\\end{align}\n",
    "and the final solution is\n",
    "\\begin{align}\n",
    "   \\boldsymbol{X}=&U \\boldsymbol{X}'\\\\ \n",
    "               =&U\\boldsymbol{A}_{\\text{diag}}^{-1}V^\\dagger \\boldsymbol{B}\\,,      \n",
    "\\end{align}\n",
    "Therefore\n",
    "$$A^{-1}=U\\boldsymbol{A}_{\\text{diag}}^{-1}V^\\dagger$$"
   ]
  },
  {
   "cell_type": "markdown",
   "metadata": {
    "colab_type": "text",
    "id": "4Cvjb8GR7YAl"
   },
   "source": [
    "## Example"
   ]
  },
  {
   "cell_type": "markdown",
   "metadata": {
    "colab_type": "text",
    "id": "1gnmh6-0ZeoK"
   },
   "source": [
    " A suitable way to introduce this method is applying it to some basic problem. To do so, let's take the result of the [Example 1](#Example-1):\n",
    "\n",
    "$$ \\begin{bmatrix}\n",
    "5 & -4 & 0 \\\\\n",
    "-4 & 7 & -3 \\\\ \n",
    "0 & -3 & 5\n",
    "\\end{bmatrix}\n",
    "\\begin{bmatrix}\n",
    "x_{1} \\\\\n",
    "x_{2} \\\\\n",
    "x_{3} \n",
    "\\end{bmatrix}  =\n",
    "\\begin{bmatrix}\n",
    "1 \\\\\n",
    "0 \\\\\n",
    "-2\n",
    "\\end{bmatrix}\n",
    "$$\n",
    "As the matrix is symmetric $\\boldsymbol{V}=\\boldsymbol{U}$ and $\\boldsymbol{U}^\\dagger=\\boldsymbol{U}^{\\operatorname{T}}$ "
   ]
  },
  {
   "cell_type": "code",
   "execution_count": 52,
   "metadata": {},
   "outputs": [],
   "source": [
    "import numpy as np"
   ]
  },
  {
   "cell_type": "code",
   "execution_count": 53,
   "metadata": {
    "colab": {},
    "colab_type": "code",
    "id": "mIm4WqinUMlv"
   },
   "outputs": [],
   "source": [
    "M1=np.array([[5,-4,0],\n",
    "             [-4,7,-3],\n",
    "             [0,-3,5]])"
   ]
  },
  {
   "cell_type": "code",
   "execution_count": 54,
   "metadata": {
    "colab": {
     "base_uri": "https://localhost:8080/",
     "height": 71
    },
    "colab_type": "code",
    "id": "YUHs_HgxZeoL",
    "outputId": "1e4481c1-6117-4b2f-807f-00c82b5c212a"
   },
   "outputs": [
    {
     "data": {
      "text/plain": [
       "array([[ 5, -4,  0],\n",
       "       [-4,  7, -3],\n",
       "       [ 0, -3,  5]])"
      ]
     },
     "execution_count": 54,
     "metadata": {},
     "output_type": "execute_result"
    }
   ],
   "source": [
    "A=M1\n",
    "A"
   ]
  },
  {
   "cell_type": "markdown",
   "metadata": {
    "colab_type": "text",
    "id": "wPaMSVoVUZWm"
   },
   "source": [
    "Check if all eigenvalues are different from zero:"
   ]
  },
  {
   "cell_type": "code",
   "execution_count": 55,
   "metadata": {
    "colab": {
     "base_uri": "https://localhost:8080/",
     "height": 35
    },
    "colab_type": "code",
    "id": "TSE7tFaFUjhF",
    "outputId": "08a9734c-93b2-4689-f3c9-0fec86608f5a"
   },
   "outputs": [
    {
     "data": {
      "text/plain": [
       "49.99999999999999"
      ]
     },
     "execution_count": 55,
     "metadata": {},
     "output_type": "execute_result"
    }
   ],
   "source": [
    "np.linalg.det(A)"
   ]
  },
  {
   "cell_type": "code",
   "execution_count": 57,
   "metadata": {
    "colab": {
     "base_uri": "https://localhost:8080/",
     "height": 71
    },
    "colab_type": "code",
    "id": "JDFWE3CDUp7c",
    "outputId": "adcadc55-e2bc-4275-aab8-6aeabf816359"
   },
   "outputs": [
    {
     "data": {
      "text/plain": [
       "array([[ 1],\n",
       "       [ 0],\n",
       "       [-2]])"
      ]
     },
     "execution_count": 57,
     "metadata": {},
     "output_type": "execute_result"
    }
   ],
   "source": [
    "B=np.c_[ [1,0,-2]  ]\n",
    "B"
   ]
  },
  {
   "cell_type": "markdown",
   "metadata": {
    "colab_type": "text",
    "id": "VzE6Z0THVAXa"
   },
   "source": [
    "Also as \n",
    "```python\n",
    "B=np.array([[1],[0],[-2]])\n",
    "#or\n",
    "B=np.reshape(  [1,0,-2],(3,1) )\n",
    "```"
   ]
  },
  {
   "cell_type": "code",
   "execution_count": 58,
   "metadata": {
    "colab": {},
    "colab_type": "code",
    "id": "7iQkosR8ZeoQ"
   },
   "outputs": [],
   "source": [
    "λ,V=np.linalg.eig( A )"
   ]
  },
  {
   "cell_type": "code",
   "execution_count": 59,
   "metadata": {
    "colab": {
     "base_uri": "https://localhost:8080/",
     "height": 71
    },
    "colab_type": "code",
    "id": "oRoNMFvLZeoS",
    "outputId": "3c4b2983-8977-47fb-b737-ff0dfa84e851"
   },
   "outputs": [
    {
     "data": {
      "text/plain": [
       "array([[11.09901951,  0.        ,  0.        ],\n",
       "       [ 0.        ,  0.90098049,  0.        ],\n",
       "       [ 0.        ,  0.        ,  5.        ]])"
      ]
     },
     "execution_count": 59,
     "metadata": {},
     "output_type": "execute_result"
    }
   ],
   "source": [
    "A_diag=np.diag(λ)\n",
    "A_diag"
   ]
  },
  {
   "cell_type": "code",
   "execution_count": 60,
   "metadata": {
    "colab": {
     "base_uri": "https://localhost:8080/",
     "height": 71
    },
    "colab_type": "code",
    "id": "81EhmwnPZeoU",
    "outputId": "ceeea4a7-4857-4926-98ed-0840e3b635f2"
   },
   "outputs": [
    {
     "data": {
      "text/plain": [
       "array([[-5.07191124e-01, -6.18673713e-01, -6.00000000e-01],\n",
       "       [ 7.73342141e-01, -6.33988906e-01,  1.91548674e-16],\n",
       "       [-3.80393343e-01, -4.64005285e-01,  8.00000000e-01]])"
      ]
     },
     "execution_count": 60,
     "metadata": {},
     "output_type": "execute_result"
    }
   ],
   "source": [
    "V"
   ]
  },
  {
   "cell_type": "markdown",
   "metadata": {
    "colab_type": "text",
    "id": "oQMyx6oAZeoW"
   },
   "source": [
    "We first check the proper order of the diagonalization"
   ]
  },
  {
   "cell_type": "code",
   "execution_count": 61,
   "metadata": {
    "colab": {
     "base_uri": "https://localhost:8080/",
     "height": 71
    },
    "colab_type": "code",
    "id": "vYFqc13bZeoW",
    "outputId": "79ada534-d98c-42b1-becb-ca85aaf778cc"
   },
   "outputs": [
    {
     "data": {
      "text/plain": [
       "array([[11.09901951,  0.        ,  0.        ],\n",
       "       [ 0.        ,  0.90098049,  0.        ],\n",
       "       [ 0.        ,  0.        ,  5.        ]])"
      ]
     },
     "execution_count": 61,
     "metadata": {},
     "output_type": "execute_result"
    }
   ],
   "source": [
    "np.dot(  np.dot( V.transpose(),A  ), V).round(14)"
   ]
  },
  {
   "cell_type": "markdown",
   "metadata": {
    "colab_type": "text",
    "id": "njiAE4b4ZeoZ"
   },
   "source": [
    "Since"
   ]
  },
  {
   "cell_type": "code",
   "execution_count": null,
   "metadata": {
    "colab": {},
    "colab_type": "code",
    "id": "RQ2mx4eIZeoa",
    "outputId": "300d5b59-f1fa-40ee-891a-e4299085c242"
   },
   "outputs": [
    {
     "data": {
      "text/plain": [
       "array([[ -5.07191124e-01,  -6.18673713e-01,  -6.00000000e-01],\n",
       "       [  7.73342141e-01,  -6.33988906e-01,   1.91548674e-16],\n",
       "       [ -3.80393343e-01,  -4.64005285e-01,   8.00000000e-01]])"
      ]
     },
     "execution_count": 10,
     "metadata": {
      "tags": []
     },
     "output_type": "execute_result"
    }
   ],
   "source": [
    "V"
   ]
  },
  {
   "cell_type": "markdown",
   "metadata": {
    "colab_type": "text",
    "id": "JkZI2pTNZeoc"
   },
   "source": [
    "The final solution is:"
   ]
  },
  {
   "cell_type": "code",
   "execution_count": 62,
   "metadata": {
    "colab": {
     "base_uri": "https://localhost:8080/",
     "height": 71
    },
    "colab_type": "code",
    "id": "dfsG88C5VqvK",
    "outputId": "f0c29663-8175-4e0f-bf54-25666a2cb1aa"
   },
   "outputs": [
    {
     "data": {
      "text/plain": [
       "array([[0.09009805, 0.        , 0.        ],\n",
       "       [0.        , 1.10990195, 0.        ],\n",
       "       [0.        , 0.        , 0.2       ]])"
      ]
     },
     "execution_count": 62,
     "metadata": {},
     "output_type": "execute_result"
    }
   ],
   "source": [
    "A_diag_inv=np.diag(1/λ)\n",
    "A_diag_inv"
   ]
  },
  {
   "cell_type": "markdown",
   "metadata": {
    "colab_type": "text",
    "id": "ai04_rhhV7g4"
   },
   "source": [
    "check with `np.linalg.inv(A_diag)`"
   ]
  },
  {
   "cell_type": "code",
   "execution_count": 63,
   "metadata": {
    "colab": {
     "base_uri": "https://localhost:8080/",
     "height": 71
    },
    "colab_type": "code",
    "id": "bldXFh02Zeoc",
    "outputId": "efb61ac2-68de-47d7-f836-0ebb6d868ede"
   },
   "outputs": [
    {
     "data": {
      "text/plain": [
       "array([[ 0.04],\n",
       "       [-0.2 ],\n",
       "       [-0.52]])"
      ]
     },
     "execution_count": 63,
     "metadata": {},
     "output_type": "execute_result"
    }
   ],
   "source": [
    "X=np.dot( np.dot( np.dot( V, np.diag(1/λ) ),V.transpose() ),B)\n",
    "X"
   ]
  },
  {
   "cell_type": "markdown",
   "metadata": {
    "colab_type": "text",
    "id": "xEtpogskWT5H"
   },
   "source": [
    "__<font color=\"red\">Activity</font>__: Usar np.lingalg.solve"
   ]
  },
  {
   "cell_type": "code",
   "execution_count": null,
   "metadata": {
    "colab": {
     "base_uri": "https://localhost:8080/",
     "height": 35
    },
    "colab_type": "code",
    "id": "crPW_WltW9Bt",
    "outputId": "58090a9c-48bd-4e6e-f9f8-6696ece4d2ec"
   },
   "outputs": [
    {
     "data": {
      "text/plain": [
       "array([ 1,  0, -2])"
      ]
     },
     "execution_count": 24,
     "metadata": {
      "tags": []
     },
     "output_type": "execute_result"
    }
   ],
   "source": [
    "B.transpose()[0]"
   ]
  },
  {
   "cell_type": "code",
   "execution_count": null,
   "metadata": {
    "colab": {
     "base_uri": "https://localhost:8080/",
     "height": 35
    },
    "colab_type": "code",
    "id": "FbDQyS3_Wi-f",
    "outputId": "e44b25b2-55ad-455e-c4a5-68176d5bb6e2"
   },
   "outputs": [
    {
     "data": {
      "text/plain": [
       "array([ 0.04, -0.2 , -0.52])"
      ]
     },
     "execution_count": 25,
     "metadata": {
      "tags": []
     },
     "output_type": "execute_result"
    }
   ],
   "source": [
    "np.linalg.solve(A,B.transpose()[0])"
   ]
  },
  {
   "cell_type": "markdown",
   "metadata": {
    "colab_type": "text",
    "id": "agZ-WPWgZeoe"
   },
   "source": [
    "We can now check some properties"
   ]
  },
  {
   "cell_type": "code",
   "execution_count": null,
   "metadata": {
    "colab": {
     "base_uri": "https://localhost:8080/",
     "height": 71
    },
    "colab_type": "code",
    "id": "KAruEyXoZeoe",
    "outputId": "506837cc-f6f5-4daa-885f-74de9d7e0a9e"
   },
   "outputs": [
    {
     "data": {
      "text/plain": [
       "array([[-5.07191124e-01, -6.18673713e-01, -6.00000000e-01],\n",
       "       [ 7.73342141e-01, -6.33988906e-01,  1.91548674e-16],\n",
       "       [-3.80393343e-01, -4.64005285e-01,  8.00000000e-01]])"
      ]
     },
     "execution_count": 26,
     "metadata": {
      "tags": []
     },
     "output_type": "execute_result"
    }
   ],
   "source": [
    "V"
   ]
  },
  {
   "cell_type": "code",
   "execution_count": null,
   "metadata": {
    "colab": {
     "base_uri": "https://localhost:8080/",
     "height": 71
    },
    "colab_type": "code",
    "id": "Lg_7lshmZeoh",
    "outputId": "171eeba4-27f8-443a-8b44-72e7807b3c86"
   },
   "outputs": [
    {
     "data": {
      "text/plain": [
       "array([[-0.50719112],\n",
       "       [ 0.77334214],\n",
       "       [-0.38039334]])"
      ]
     },
     "execution_count": 31,
     "metadata": {
      "tags": []
     },
     "output_type": "execute_result"
    }
   ],
   "source": [
    "np.c_[ V[: ,0] ]"
   ]
  },
  {
   "cell_type": "code",
   "execution_count": null,
   "metadata": {
    "colab": {
     "base_uri": "https://localhost:8080/",
     "height": 35
    },
    "colab_type": "code",
    "id": "VAFBe0g_Zeok",
    "outputId": "b096d3be-9235-46ac-cb8a-1762fed22867"
   },
   "outputs": [
    {
     "data": {
      "text/plain": [
       "(11.099019513592784, 11.099019513592784)"
      ]
     },
     "execution_count": 32,
     "metadata": {
      "tags": []
     },
     "output_type": "execute_result"
    }
   ],
   "source": [
    "A_diag[0,0],λ[0]"
   ]
  },
  {
   "cell_type": "markdown",
   "metadata": {
    "colab_type": "text",
    "id": "utMR7eiOZeom"
   },
   "source": [
    "We define the eigenvector $V_i$ as"
   ]
  },
  {
   "cell_type": "code",
   "execution_count": null,
   "metadata": {
    "colab": {
     "base_uri": "https://localhost:8080/",
     "height": 179
    },
    "colab_type": "code",
    "id": "ButZ6c29Zeom",
    "outputId": "bb46e578-01a6-42d1-b495-aa9853a12df4"
   },
   "outputs": [
    {
     "data": {
      "text/plain": [
       "array([[-0.50719112],\n",
       "       [ 0.77334214],\n",
       "       [-0.38039334]])"
      ]
     },
     "metadata": {
      "tags": []
     },
     "output_type": "display_data"
    },
    {
     "data": {
      "text/plain": [
       "array([[-0.61867371],\n",
       "       [-0.63398891],\n",
       "       [-0.46400528]])"
      ]
     },
     "metadata": {
      "tags": []
     },
     "output_type": "display_data"
    },
    {
     "data": {
      "text/plain": [
       "array([[-6.00000000e-01],\n",
       "       [ 1.91548674e-16],\n",
       "       [ 8.00000000e-01]])"
      ]
     },
     "execution_count": 33,
     "metadata": {
      "tags": []
     },
     "output_type": "execute_result"
    }
   ],
   "source": [
    "V0=np.c_[ V[:,0] ]\n",
    "V1=np.c_[ V[:,1] ]\n",
    "V2=np.c_[ V[:,2] ]\n",
    "display(V0)\n",
    "display(V1)\n",
    "V2"
   ]
  },
  {
   "cell_type": "code",
   "execution_count": null,
   "metadata": {
    "colab": {
     "base_uri": "https://localhost:8080/",
     "height": 125
    },
    "colab_type": "code",
    "id": "MkfNpMwbZeow",
    "outputId": "7759c6fb-c985-435d-9a3c-5e0a22487e26"
   },
   "outputs": [
    {
     "name": "stdout",
     "output_type": "stream",
     "text": [
      "[[-5.62932419]\n",
      " [ 8.58333952]\n",
      " [-4.22199314]] =\n",
      "[[-5.62932419]\n",
      " [ 8.58333952]\n",
      " [-4.22199314]]\n"
     ]
    }
   ],
   "source": [
    "print('{} =\\n{}'.format( np.dot(A,V0),λ[0]*V0 ) )"
   ]
  },
  {
   "cell_type": "markdown",
   "metadata": {
    "colab_type": "text",
    "id": "2gSZQGhwZMbU"
   },
   "source": [
    "Check: $ A V_i=\\lambda_i V_i$\n",
    "\n",
    "Which means the eigenvalue associated to the \"operator\" $A$ acting on the eigenvector $V_1$"
   ]
  },
  {
   "cell_type": "code",
   "execution_count": null,
   "metadata": {
    "colab": {
     "base_uri": "https://localhost:8080/",
     "height": 125
    },
    "colab_type": "code",
    "id": "N7rTShl9Zeoz",
    "outputId": "e2cc0abe-6639-4789-f7ba-4957ea65c6e3"
   },
   "outputs": [
    {
     "name": "stdout",
     "output_type": "stream",
     "text": [
      "[[-0.55741294]\n",
      " [-0.57121163]\n",
      " [-0.41805971]] =\n",
      "[[-0.55741294]\n",
      " [-0.57121163]\n",
      " [-0.41805971]]\n"
     ]
    }
   ],
   "source": [
    "print('{} =\\n{}'.format( np.dot(A,V1),λ[1]*V1 ) )"
   ]
  },
  {
   "cell_type": "code",
   "execution_count": null,
   "metadata": {
    "colab": {
     "base_uri": "https://localhost:8080/",
     "height": 125
    },
    "colab_type": "code",
    "id": "zRu4zQHKZeo2",
    "outputId": "b123d387-d8da-43db-808e-0600748ceb2d"
   },
   "outputs": [
    {
     "name": "stdout",
     "output_type": "stream",
     "text": [
      "[[-3.]\n",
      " [ 0.]\n",
      " [ 4.]] =\n",
      "[[-3.]\n",
      " [ 0.]\n",
      " [ 4.]]\n"
     ]
    }
   ],
   "source": [
    "print('{} =\\n{}'.format( np.dot(A,V2).round(14),\n",
    "                         (λ[2]*V2).round(14) ) )"
   ]
  },
  {
   "cell_type": "markdown",
   "metadata": {
    "colab_type": "text",
    "id": "wmszgFZdZeo5"
   },
   "source": [
    "The diagonalization matrix can be rebuild from the eigenvectors"
   ]
  },
  {
   "cell_type": "code",
   "execution_count": null,
   "metadata": {
    "colab": {
     "base_uri": "https://localhost:8080/",
     "height": 71
    },
    "colab_type": "code",
    "id": "2uAsu7Bgarxo",
    "outputId": "3ea7390e-f31b-494e-c759-27544186198a"
   },
   "outputs": [
    {
     "data": {
      "text/plain": [
       "array([[-5.07191124e-01, -6.18673713e-01, -6.00000000e-01],\n",
       "       [ 7.73342141e-01, -6.33988906e-01,  1.91548674e-16],\n",
       "       [-3.80393343e-01, -4.64005285e-01,  8.00000000e-01]])"
      ]
     },
     "execution_count": 44,
     "metadata": {
      "tags": []
     },
     "output_type": "execute_result"
    }
   ],
   "source": [
    "V"
   ]
  },
  {
   "cell_type": "markdown",
   "metadata": {
    "colab_type": "text",
    "id": "_AjDSlz3bIPW"
   },
   "source": [
    "is rebuild with"
   ]
  },
  {
   "cell_type": "code",
   "execution_count": null,
   "metadata": {
    "colab": {
     "base_uri": "https://localhost:8080/",
     "height": 71
    },
    "colab_type": "code",
    "id": "5Q0PN44GavcA",
    "outputId": "7aadd247-dfaa-4096-9aae-972755b4259a"
   },
   "outputs": [
    {
     "data": {
      "text/plain": [
       "array([[-5.07191124e-01, -6.18673713e-01, -6.00000000e-01],\n",
       "       [ 7.73342141e-01, -6.33988906e-01,  1.91548674e-16],\n",
       "       [-3.80393343e-01, -4.64005285e-01,  8.00000000e-01]])"
      ]
     },
     "execution_count": 51,
     "metadata": {
      "tags": []
     },
     "output_type": "execute_result"
    }
   ],
   "source": [
    "U=np.c_[ V0,V1,V2]\n",
    "U"
   ]
  },
  {
   "cell_type": "markdown",
   "metadata": {
    "colab_type": "text",
    "id": "E_TOP-rdZeo5"
   },
   "source": [
    "or with: `np.hstack((V0,V1,V2))`"
   ]
  },
  {
   "cell_type": "code",
   "execution_count": null,
   "metadata": {
    "colab": {
     "base_uri": "https://localhost:8080/",
     "height": 71
    },
    "colab_type": "code",
    "id": "-Vc63b8TZeo7",
    "outputId": "b7851c5c-8e95-42b5-b6df-27bf584494b4"
   },
   "outputs": [
    {
     "data": {
      "text/plain": [
       "array([[11.09901951,  0.        ,  0.        ],\n",
       "       [ 0.        ,  0.90098049,  0.        ],\n",
       "       [ 0.        ,  0.        ,  5.        ]])"
      ]
     },
     "execution_count": 52,
     "metadata": {
      "tags": []
     },
     "output_type": "execute_result"
    }
   ],
   "source": [
    "np.dot(  np.dot( U.transpose(),A  ), U).round(14)"
   ]
  },
  {
   "cell_type": "markdown",
   "metadata": {
    "colab_type": "text",
    "id": "9bls0mm5Zeo9"
   },
   "source": [
    "### Eigenvector reordering"
   ]
  },
  {
   "cell_type": "markdown",
   "metadata": {},
   "source": [
    "__Activity__: https://beta.deepnote.com/project/17b487c8-b092-4032-94f5-438ba4eeb1e9"
   ]
  },
  {
   "cell_type": "markdown",
   "metadata": {
    "colab_type": "text",
    "id": "DOBPvoJ1Zeo-"
   },
   "source": [
    "We can use this to check the proper order of the eigenvalues"
   ]
  },
  {
   "cell_type": "code",
   "execution_count": null,
   "metadata": {
    "colab": {
     "base_uri": "https://localhost:8080/",
     "height": 71
    },
    "colab_type": "code",
    "id": "QE3H4w64bopE",
    "outputId": "532bdd2e-d2d2-4b9f-f1ff-8e3a74b6b42f"
   },
   "outputs": [
    {
     "data": {
      "text/plain": [
       "array([[ 0.90098049,  0.        ,  0.        ],\n",
       "       [ 0.        ,  5.        ,  0.        ],\n",
       "       [ 0.        ,  0.        , 11.09901951]])"
      ]
     },
     "execution_count": 58,
     "metadata": {
      "tags": []
     },
     "output_type": "execute_result"
    }
   ],
   "source": [
    "U=np.c_[ V1,V2,V0]\n",
    "np.dot(  np.dot( U.transpose(),A  ), U).round(14)"
   ]
  },
  {
   "cell_type": "markdown",
   "metadata": {
    "colab_type": "text",
    "id": "m6PMCrJlZeo-"
   },
   "source": [
    "The order of eigenvalues can now be changed by changing the order of the eigenvectors and redifining the diagonalization matrix. For example, from small to large. We define first the eigenvalues"
   ]
  },
  {
   "cell_type": "code",
   "execution_count": null,
   "metadata": {
    "colab": {},
    "colab_type": "code",
    "id": "HTWgBePpZeo_"
   },
   "outputs": [],
   "source": [
    "np.sort?"
   ]
  },
  {
   "cell_type": "code",
   "execution_count": null,
   "metadata": {
    "colab": {
     "base_uri": "https://localhost:8080/",
     "height": 35
    },
    "colab_type": "code",
    "id": "pixl0cvzZepB",
    "outputId": "b913c528-c7f8-413f-ab91-f36c0bdd36f1"
   },
   "outputs": [
    {
     "data": {
      "text/plain": [
       "array([ 0.90098049,  5.        , 11.09901951])"
      ]
     },
     "execution_count": 59,
     "metadata": {
      "tags": []
     },
     "output_type": "execute_result"
    }
   ],
   "source": [
    "np.sort( λ)"
   ]
  },
  {
   "cell_type": "markdown",
   "metadata": {
    "colab_type": "text",
    "id": "pZbAW-34cs7I"
   },
   "source": [
    "To reverse the order"
   ]
  },
  {
   "cell_type": "code",
   "execution_count": null,
   "metadata": {
    "colab": {
     "base_uri": "https://localhost:8080/",
     "height": 35
    },
    "colab_type": "code",
    "id": "L3Qi31TkZepG",
    "outputId": "9058d74b-f071-48b2-aee1-14cbed77ba5e"
   },
   "outputs": [
    {
     "data": {
      "text/plain": [
       "array([11.09901951,  5.        ,  0.90098049])"
      ]
     },
     "execution_count": 60,
     "metadata": {
      "tags": []
     },
     "output_type": "execute_result"
    }
   ],
   "source": [
    "np.sort( λ)[::-1]"
   ]
  },
  {
   "cell_type": "code",
   "execution_count": null,
   "metadata": {
    "colab": {},
    "colab_type": "code",
    "id": "aYaYHJ2wZepJ",
    "outputId": "d2041162-e2cc-47f6-ad98-e201e6924677"
   },
   "outputs": [
    {
     "data": {
      "text/plain": [
       "array([ 11.09901951,   0.90098049,   5.        ])"
      ]
     },
     "execution_count": 102,
     "metadata": {
      "tags": []
     },
     "output_type": "execute_result"
    }
   ],
   "source": [
    "λ"
   ]
  },
  {
   "cell_type": "code",
   "execution_count": 64,
   "metadata": {
    "colab": {
     "base_uri": "https://localhost:8080/",
     "height": 35
    },
    "colab_type": "code",
    "id": "DeIj8z5kZepL",
    "outputId": "90606a4c-6f6a-4709-ebd9-4a5141f75ee4"
   },
   "outputs": [
    {
     "data": {
      "text/plain": [
       "array([1, 2, 0])"
      ]
     },
     "execution_count": 64,
     "metadata": {},
     "output_type": "execute_result"
    }
   ],
   "source": [
    "index=np.abs(λ).argsort()\n",
    "index"
   ]
  },
  {
   "cell_type": "markdown",
   "metadata": {
    "colab_type": "text",
    "id": "v5Mhuh-QZepP"
   },
   "source": [
    "can be implemented in general with a _comprehensive_ list"
   ]
  },
  {
   "cell_type": "code",
   "execution_count": 65,
   "metadata": {
    "colab": {
     "base_uri": "https://localhost:8080/",
     "height": 71
    },
    "colab_type": "code",
    "id": "iWvRFdz9etKa",
    "outputId": "ac48d6bf-e16f-4056-9ead-ccb31362f3c8"
   },
   "outputs": [
    {
     "data": {
      "text/plain": [
       "array([[-5.07191124e-01, -6.18673713e-01, -6.00000000e-01],\n",
       "       [ 7.73342141e-01, -6.33988906e-01,  1.91548674e-16],\n",
       "       [-3.80393343e-01, -4.64005285e-01,  8.00000000e-01]])"
      ]
     },
     "execution_count": 65,
     "metadata": {},
     "output_type": "execute_result"
    }
   ],
   "source": [
    "V"
   ]
  },
  {
   "cell_type": "code",
   "execution_count": 66,
   "metadata": {
    "colab": {
     "base_uri": "https://localhost:8080/",
     "height": 71
    },
    "colab_type": "code",
    "id": "UeBueRxbfeUc",
    "outputId": "0b497826-0400-4b28-9291-149f038b47c1"
   },
   "outputs": [
    {
     "data": {
      "text/plain": [
       "array([[-5.07191124e-01, -6.18673713e-01, -6.00000000e-01],\n",
       "       [ 7.73342141e-01, -6.33988906e-01,  1.91548674e-16],\n",
       "       [-3.80393343e-01, -4.64005285e-01,  8.00000000e-01]])"
      ]
     },
     "execution_count": 66,
     "metadata": {},
     "output_type": "execute_result"
    }
   ],
   "source": [
    "np.c_[ tuple( [ np.c_[V[:,i]]    for i in range(3) ] ) ]"
   ]
  },
  {
   "cell_type": "markdown",
   "metadata": {
    "colab_type": "text",
    "id": "WwokXTJ-elVp"
   },
   "source": [
    "Changing the order to `index`"
   ]
  },
  {
   "cell_type": "code",
   "execution_count": 68,
   "metadata": {
    "colab": {
     "base_uri": "https://localhost:8080/",
     "height": 71
    },
    "colab_type": "code",
    "id": "wObPrmb4dgrs",
    "outputId": "8b850a8f-89b5-4e48-b587-7c298651f085"
   },
   "outputs": [
    {
     "data": {
      "text/plain": [
       "array([[-6.18673713e-01, -6.00000000e-01, -5.07191124e-01],\n",
       "       [-6.33988906e-01,  1.91548674e-16,  7.73342141e-01],\n",
       "       [-4.64005285e-01,  8.00000000e-01, -3.80393343e-01]])"
      ]
     },
     "execution_count": 68,
     "metadata": {},
     "output_type": "execute_result"
    }
   ],
   "source": [
    "U=np.c_[ tuple( [ np.c_[V[:,i]]    for i in np.abs(λ).argsort() ] ) ]\n",
    "U"
   ]
  },
  {
   "cell_type": "markdown",
   "metadata": {
    "colab_type": "text",
    "id": "u0PoVQJshW8A"
   },
   "source": [
    "or: \n",
    "```python\n",
    "n=3\n",
    "U=np.hstack( [ np.reshape( V[:,i], (n,1) ) for i in index   ] )\n",
    "```"
   ]
  },
  {
   "cell_type": "code",
   "execution_count": 69,
   "metadata": {
    "colab": {
     "base_uri": "https://localhost:8080/",
     "height": 71
    },
    "colab_type": "code",
    "id": "2_A609DeZepR",
    "outputId": "d10f93b9-2dc0-4e95-ee4f-86cc1c7cc751"
   },
   "outputs": [
    {
     "data": {
      "text/plain": [
       "array([[ 0.90098049,  0.        ,  0.        ],\n",
       "       [ 0.        ,  5.        ,  0.        ],\n",
       "       [ 0.        ,  0.        , 11.09901951]])"
      ]
     },
     "execution_count": 69,
     "metadata": {},
     "output_type": "execute_result"
    }
   ],
   "source": [
    "np.dot(  np.dot( U.transpose(),A  ), U).round(14)"
   ]
  },
  {
   "cell_type": "markdown",
   "metadata": {
    "colab_type": "text",
    "id": "ryPEhIWgiE-O"
   },
   "source": [
    "<font color=\"red\">Activity</font>:  Build a function that diagonalize with increasing order in the eigenvalues as a replacement of `np.linalg.eig`\n",
    "```python\n",
    "def argeig(A):\n",
    "    l,V=np.linalg.eig(A)\n",
    "    ....\n",
    "    return argl, argV\n",
    "```\n",
    "\n"
   ]
  },
  {
   "cell_type": "code",
   "execution_count": null,
   "metadata": {
    "colab": {},
    "colab_type": "code",
    "id": "PL43mZH7leLE"
   },
   "outputs": [],
   "source": [
    "np.linalg.eig??"
   ]
  },
  {
   "cell_type": "code",
   "execution_count": null,
   "metadata": {
    "colab": {},
    "colab_type": "code",
    "id": "1VNLtnpSlEU9"
   },
   "outputs": [],
   "source": [
    "def argeig(a):\n",
    "    \"\"\"\n",
    "    Diagonalize with increasing order in the eigenvalues.\n",
    "  \n",
    "    See help(np.linalg.eig)\n",
    "    \"\"\"\n",
    "    l,V=np.linalg.eig(a)\n",
    "    index=np.abs(l).argsort()\n",
    "    argl= np.sort( l)\n",
    "    argV=np.c_[ tuple([ np.c_[ V[:,i]] for i in index   ]) ]\n",
    "    return argl, argV"
   ]
  },
  {
   "cell_type": "code",
   "execution_count": null,
   "metadata": {
    "colab": {
     "base_uri": "https://localhost:8080/",
     "height": 89
    },
    "colab_type": "code",
    "id": "94ZHLjM0l-vS",
    "outputId": "7484c181-7184-4514-f8c5-494b36427feb"
   },
   "outputs": [
    {
     "data": {
      "text/plain": [
       "(array([ 0.90098049,  5.        , 11.09901951]),\n",
       " array([[-6.18673713e-01, -6.00000000e-01, -5.07191124e-01],\n",
       "        [-6.33988906e-01,  1.91548674e-16,  7.73342141e-01],\n",
       "        [-4.64005285e-01,  8.00000000e-01, -3.80393343e-01]]))"
      ]
     },
     "execution_count": 105,
     "metadata": {
      "tags": []
     },
     "output_type": "execute_result"
    }
   ],
   "source": [
    "λ,V=argeig(A)\n",
    "λ,V"
   ]
  },
  {
   "cell_type": "code",
   "execution_count": null,
   "metadata": {
    "colab": {
     "base_uri": "https://localhost:8080/",
     "height": 71
    },
    "colab_type": "code",
    "id": "SqxnBdaDmBXq",
    "outputId": "33bb5733-facd-4397-f312-6456b038cd65"
   },
   "outputs": [
    {
     "data": {
      "text/plain": [
       "array([[ 0.90098049,  0.        ,  0.        ],\n",
       "       [ 0.        ,  5.        ,  0.        ],\n",
       "       [ 0.        ,  0.        , 11.09901951]])"
      ]
     },
     "execution_count": 106,
     "metadata": {
      "tags": []
     },
     "output_type": "execute_result"
    }
   ],
   "source": [
    "np.dot(  np.dot( V.transpose(),A  ), V).round(14)"
   ]
  },
  {
   "cell_type": "markdown",
   "metadata": {
    "colab_type": "text",
    "id": "htJkoJ66h5XY"
   },
   "source": []
  },
  {
   "cell_type": "code",
   "execution_count": 70,
   "metadata": {
    "colab": {},
    "colab_type": "code",
    "id": "CFemQeVVZepT",
    "outputId": "2374fd3a-8f31-49a3-85c4-8e314158be78"
   },
   "outputs": [
    {
     "name": "stdout",
     "output_type": "stream",
     "text": [
      "2.4376578809863825e-14\n",
      "1.6382973032562733e-14\n"
     ]
    },
    {
     "data": {
      "text/plain": [
       "0.0"
      ]
     },
     "execution_count": 70,
     "metadata": {},
     "output_type": "execute_result"
    }
   ],
   "source": [
    "print( np.linalg.det(A- λ[0]*np.identity(3) ) )\n",
    "print( np.linalg.det(A- λ[1]*np.identity(3) ) )\n",
    "np.linalg.det(A- λ[2]*np.identity(3) )"
   ]
  },
  {
   "cell_type": "markdown",
   "metadata": {
    "colab_type": "text",
    "id": "QLp5N41JZepX"
   },
   "source": [
    "## General complex matrix"
   ]
  },
  {
   "cell_type": "markdown",
   "metadata": {
    "colab_type": "text",
    "id": "mt7dzksmZepX"
   },
   "source": [
    "Since\n",
    "\\begin{equation}\n",
    "  \\boldsymbol{A}_{\\text{diag}}=\\boldsymbol{V}^\\dagger\\boldsymbol{A}\\,\\boldsymbol{U}\n",
    "\\end{equation}"
   ]
  },
  {
   "cell_type": "markdown",
   "metadata": {
    "colab_type": "text",
    "id": "1yeCVDwUZepX"
   },
   "source": [
    "\\begin{align}\n",
    "\\boldsymbol{A}_{\\text{diag}}\\boldsymbol{A}^\\dagger_{\\text{diag}}=&  (\\boldsymbol{V}^\\dagger\\boldsymbol{A}\\,\\boldsymbol{U})(\\boldsymbol{V}^\\dagger\\boldsymbol{A}\\,\\boldsymbol{U})^\\dagger\\nonumber \\\\\n",
    " =& \\boldsymbol{V}^\\dagger( \\boldsymbol{A}\\boldsymbol{A}^\\dagger)\\boldsymbol{V}\n",
    "\\end{align}\n",
    "\n",
    "\\begin{align}\n",
    "\\boldsymbol{A}_{\\text{diag}}^\\dagger \\boldsymbol{A}_{\\text{diag}} \n",
    " =& \\boldsymbol{U}^\\dagger (\\boldsymbol{A}^\\dagger\\boldsymbol{A})\\boldsymbol{U}\n",
    "\\end{align}\n",
    "\n",
    "See"
   ]
  },
  {
   "cell_type": "code",
   "execution_count": 71,
   "metadata": {},
   "outputs": [],
   "source": [
    "import numpy as np\n",
    "from scipy import linalg"
   ]
  },
  {
   "cell_type": "markdown",
   "metadata": {},
   "source": [
    "__Example__:"
   ]
  },
  {
   "cell_type": "code",
   "execution_count": 72,
   "metadata": {},
   "outputs": [],
   "source": [
    "A=np.array([[ 2.5       ,  6.92820323],\n",
    "       [-4.33012702,  4.        ]])"
   ]
  },
  {
   "cell_type": "code",
   "execution_count": 73,
   "metadata": {},
   "outputs": [],
   "source": [
    "A=np.array([[ 6.66674644,  3.13121253],\n",
    "            [-0.23343505,  5.8902893 ]])"
   ]
  },
  {
   "cell_type": "code",
   "execution_count": 76,
   "metadata": {},
   "outputs": [],
   "source": [
    "V,diag,Udagger=linalg.svd(A)"
   ]
  },
  {
   "cell_type": "code",
   "execution_count": 77,
   "metadata": {},
   "outputs": [],
   "source": [
    "U=Udagger.transpose().conjugate()"
   ]
  },
  {
   "cell_type": "code",
   "execution_count": 78,
   "metadata": {},
   "outputs": [
    {
     "data": {
      "text/plain": [
       "array([[8., 0.],\n",
       "       [0., 5.]])"
      ]
     },
     "execution_count": 78,
     "metadata": {},
     "output_type": "execute_result"
    }
   ],
   "source": [
    "np.dot( np.dot( V.transpose().conjugate(),A    ), U).round(14)"
   ]
  },
  {
   "cell_type": "markdown",
   "metadata": {},
   "source": [
    "This is important to stablish that the eigenvectors are determined until ordering and permutations"
   ]
  },
  {
   "cell_type": "code",
   "execution_count": 79,
   "metadata": {},
   "outputs": [
    {
     "data": {
      "text/plain": [
       "array([[-0.8660254, -0.5      ],\n",
       "       [-0.5      ,  0.8660254]])"
      ]
     },
     "execution_count": 79,
     "metadata": {},
     "output_type": "execute_result"
    }
   ],
   "source": [
    "V"
   ]
  },
  {
   "cell_type": "code",
   "execution_count": 80,
   "metadata": {},
   "outputs": [
    {
     "data": {
      "text/plain": [
       "array([[-0.70710678, -0.70710678],\n",
       "       [-0.70710678,  0.70710678]])"
      ]
     },
     "execution_count": 80,
     "metadata": {},
     "output_type": "execute_result"
    }
   ],
   "source": [
    "U"
   ]
  },
  {
   "cell_type": "code",
   "execution_count": 84,
   "metadata": {},
   "outputs": [
    {
     "data": {
      "text/plain": [
       "array([[1., 0.],\n",
       "       [0., 1.]])"
      ]
     },
     "execution_count": 84,
     "metadata": {},
     "output_type": "execute_result"
    }
   ],
   "source": [
    "np.dot( np.transpose(U),U ).round(14)"
   ]
  },
  {
   "cell_type": "code",
   "execution_count": 85,
   "metadata": {},
   "outputs": [],
   "source": [
    "def orthogonal(θ):\n",
    "    return np.array( [[np.cos(θ) ,np.sin(θ)],\n",
    "                      [-np.sin(θ),np.cos(θ)]]   )"
   ]
  },
  {
   "cell_type": "code",
   "execution_count": 86,
   "metadata": {},
   "outputs": [
    {
     "data": {
      "text/plain": [
       "array([[ 0.5      ,  0.8660254],\n",
       "       [-0.8660254,  0.5      ]])"
      ]
     },
     "execution_count": 86,
     "metadata": {},
     "output_type": "execute_result"
    }
   ],
   "source": [
    "Vp=orthogonal(np.pi/3)\n",
    "Vp"
   ]
  },
  {
   "cell_type": "code",
   "execution_count": 87,
   "metadata": {},
   "outputs": [
    {
     "data": {
      "text/plain": [
       "array([[ 0.5      ,  0.8660254],\n",
       "       [-0.8660254,  0.5      ]])"
      ]
     },
     "execution_count": 87,
     "metadata": {},
     "output_type": "execute_result"
    }
   ],
   "source": [
    "VV=np.c_[ -V[:,1],-V[:,0]  ]\n",
    "VV"
   ]
  },
  {
   "cell_type": "code",
   "execution_count": 88,
   "metadata": {},
   "outputs": [
    {
     "data": {
      "text/plain": [
       "array([[ 0.70710678,  0.70710678],\n",
       "       [-0.70710678,  0.70710678]])"
      ]
     },
     "execution_count": 88,
     "metadata": {},
     "output_type": "execute_result"
    }
   ],
   "source": [
    "Up=orthogonal(np.pi/4)\n",
    "Up"
   ]
  },
  {
   "cell_type": "code",
   "execution_count": 89,
   "metadata": {},
   "outputs": [
    {
     "data": {
      "text/plain": [
       "array([[ 0.70710678,  0.70710678],\n",
       "       [-0.70710678,  0.70710678]])"
      ]
     },
     "execution_count": 89,
     "metadata": {},
     "output_type": "execute_result"
    }
   ],
   "source": [
    "UU=np.c_[ -U[:,1],-U[:,0]  ]\n",
    "UU"
   ]
  },
  {
   "cell_type": "code",
   "execution_count": 90,
   "metadata": {},
   "outputs": [
    {
     "data": {
      "text/plain": [
       "array([[5., 0.],\n",
       "       [0., 8.]])"
      ]
     },
     "execution_count": 90,
     "metadata": {},
     "output_type": "execute_result"
    }
   ],
   "source": [
    "np.dot( np.dot( VV.transpose().conjugate(),A    ), UU).round(14)"
   ]
  },
  {
   "cell_type": "markdown",
   "metadata": {},
   "source": [
    "__Activity__: https://beta.deepnote.com/project/17b487c8-b092-4032-94f5-438ba4eeb1e9"
   ]
  },
  {
   "cell_type": "markdown",
   "metadata": {},
   "source": [
    "<font color=\"red\">__Activity__</font>: Solve the system\n",
    "$$ \\boldsymbol{A} \\boldsymbol{x}=\\boldsymbol{B}$$\n",
    "for the previous $ \\boldsymbol{A}$ matrix and\n",
    "$$\\boldsymbol{B}=\\begin{bmatrix}\n",
    "   1\\\\\n",
    "   -4\\\\\n",
    "   \\end{bmatrix}$$"
   ]
  },
  {
   "cell_type": "markdown",
   "metadata": {},
   "source": [
    "## Mixed terms"
   ]
  },
  {
   "cell_type": "markdown",
   "metadata": {},
   "source": [
    "Let:\n",
    "\\begin{align}\n",
    "X' = \n",
    "\\begin{bmatrix}\n",
    "B \\\\ \n",
    "W \\\\\n",
    "\\end{bmatrix}\n",
    "\\end{align}\n",
    "\n",
    "Consider  the quadratic equation \n",
    "\\begin{align}\n",
    "X^{\\prime\\operatorname{T}} M X^\\prime=& \\begin{bmatrix}\n",
    "B & W \n",
    "\\end{bmatrix}\n",
    "\\begin{bmatrix}\n",
    "M_{11} & M_{12} \\\\\n",
    "M_{12} & M_{22} \\\\\n",
    "\\end{bmatrix}\n",
    "\\begin{bmatrix}\n",
    "B \\\\ \n",
    "W \\\\\n",
    "\\end{bmatrix}\\\\\n",
    "=& \n",
    "\\begin{bmatrix}\n",
    "B & W \n",
    "\\end{bmatrix}\n",
    "\\begin{bmatrix}\n",
    "M_{11}B + M_{12}W \\\\\n",
    "M_{12}B + M_{22}W \\\\\n",
    "\\end{bmatrix}\\\\\n",
    "=& \n",
    "B( M_{11}B + M_{12}W)+  W ( M_{12}B + M_{22}W )\\\\\n",
    "=&M_{11} B^2 + 2M_{12} BW+ M_{22} W^2\\,. \n",
    "\\end{align}\n",
    "The queadratic equation is in terms of: $M_{11}$, $M_{12}$ y $M_{22}$\n",
    "\n",
    "We can simplify this expression if we change to a new basis in which $M$ is diagonal, in such a case the crossed terms disappear\n",
    "\n",
    "\\begin{align}\n",
    "X^{\\prime\\operatorname{T}} M X^\\prime=&X^{\\prime\\operatorname{T}}V V^{\\operatorname{T}} M V V^{\\operatorname{T}} X^\\prime=...\n",
    "\\end{align}\n",
    "\n"
   ]
  },
  {
   "cell_type": "markdown",
   "metadata": {},
   "source": [
    "If we define\n",
    "\\begin{align}\n",
    "X\\equiv\n",
    "\\begin{bmatrix}\n",
    "A\\\\\n",
    "Z\n",
    "\\end{bmatrix}=V^{\\operatorname{T}} X \\to X^{\\operatorname{T}}= X^{\\prime\\operatorname{T}} V\\,,\n",
    "\\end{align}\n",
    "\\begin{align}\n",
    "M_{\\text{diag}}\\equiv V^{\\operatorname{T}} M V=\\begin{bmatrix}\n",
    "\\lambda_1 & 0 \\\\ \n",
    "0 & \\lambda_2 \\\\\n",
    "\\end{bmatrix}\\,,\n",
    "\\end{align}\n",
    "\n",
    "\n",
    "then,\n",
    "\\begin{align}\n",
    "X^{\\prime\\operatorname{T}} M X^\\prime=&(X^{\\prime\\operatorname{T}}V) (V^{\\operatorname{T}} M V) (V^{\\operatorname{T}} X^\\prime)\\\\\n",
    "=& X^{\\operatorname{T}} M_{\\text{diag}} X \\\\\n",
    "=&  \\lambda_1 A^2+\\lambda_2 Z^2\\,.\n",
    "\\end{align}\n",
    "\n",
    "In this basis, the quadratic equation is in terms of eigenvalues and mixing angles, like $\\theta$ in this case\n",
    "\\begin{align}\n",
    "V=\n",
    "\\begin{bmatrix}\n",
    "\\cos\\theta & \\sin\\theta\\\\\n",
    "-\\sin\\theta & \\cos\\theta\n",
    "\\end{bmatrix},\n",
    "\\end{align}\n",
    "and there are not mixed terms.\n",
    "\n",
    "The diagonalization of quadratic equations can be straightforwardly  generalized to $n\\times n$ matrices\n"
   ]
  },
  {
   "cell_type": "markdown",
   "metadata": {},
   "source": [
    "## Activity: Photon and $Z$ mixing"
   ]
  },
  {
   "cell_type": "code",
   "execution_count": null,
   "metadata": {},
   "outputs": [],
   "source": [
    "Consider the following symmetric matrix"
   ]
  },
  {
   "cell_type": "markdown",
   "metadata": {},
   "source": [
    "<!-- \n",
    "sin2θ=0.23\n",
    "θ=np.arcsin( np.sqrt(sin2θ)  )\n",
    "print(θ)\n",
    "MZ=91.1876\n",
    "GF=1.166371E-5\n",
    "v=1/np.sqrt(np.sqrt(2)*GF)\n",
    "g=2*MZ*np.cos(θ)/v\n",
    "gp=g*np.tan(θ)\n",
    "gp\n",
    "-->"
   ]
  },
  {
   "cell_type": "code",
   "execution_count": 107,
   "metadata": {
    "hide_input": true
   },
   "outputs": [],
   "source": [
    "import numpy as np\n",
    "\n",
    "g =0.64996\n",
    "gp=0.35523\n",
    "v=246.22046"
   ]
  },
  {
   "cell_type": "code",
   "execution_count": 105,
   "metadata": {},
   "outputs": [],
   "source": [
    "M=(v**2/4)*np.array([[g**2 ,-g*gp],\n",
    "                     [-g*gp, gp**2]])"
   ]
  },
  {
   "cell_type": "code",
   "execution_count": 106,
   "metadata": {},
   "outputs": [
    {
     "data": {
      "text/plain": [
       "array([[ 6402.67629426, -3499.32718938],\n",
       "       [-3499.32718938,  1912.52692086]])"
      ]
     },
     "execution_count": 106,
     "metadata": {},
     "output_type": "execute_result"
    }
   ],
   "source": [
    "M"
   ]
  },
  {
   "cell_type": "markdown",
   "metadata": {},
   "source": [
    "Chek that the determinant is zero"
   ]
  },
  {
   "cell_type": "code",
   "execution_count": 92,
   "metadata": {},
   "outputs": [
    {
     "data": {
      "text/plain": [
       "-0.0"
      ]
     },
     "execution_count": 92,
     "metadata": {},
     "output_type": "execute_result"
    }
   ],
   "source": [
    "np.linalg.det(M).round(8)"
   ]
  },
  {
   "cell_type": "markdown",
   "metadata": {},
   "source": [
    "This imply that one egivanlue is zero"
   ]
  },
  {
   "cell_type": "code",
   "execution_count": 93,
   "metadata": {},
   "outputs": [
    {
     "data": {
      "text/plain": [
       "array([8315.20321512,   -0.        ])"
      ]
     },
     "execution_count": 93,
     "metadata": {},
     "output_type": "execute_result"
    }
   ],
   "source": [
    "np.linalg.eigvals(M).round(12)"
   ]
  },
  {
   "cell_type": "markdown",
   "metadata": {},
   "source": [
    "which means that the matrix rank, the number of non-zero are eigenvalues is 1"
   ]
  },
  {
   "cell_type": "code",
   "execution_count": 94,
   "metadata": {},
   "outputs": [
    {
     "data": {
      "text/plain": [
       "1"
      ]
     },
     "execution_count": 94,
     "metadata": {},
     "output_type": "execute_result"
    }
   ],
   "source": [
    "np.linalg.matrix_rank(M)"
   ]
  },
  {
   "cell_type": "code",
   "execution_count": 95,
   "metadata": {},
   "outputs": [],
   "source": [
    "λ,V=np.linalg.eig(M)"
   ]
  },
  {
   "cell_type": "code",
   "execution_count": 96,
   "metadata": {},
   "outputs": [
    {
     "data": {
      "text/plain": [
       "array([[8315.20321512,    0.        ],\n",
       "       [   0.        ,   -0.        ]])"
      ]
     },
     "execution_count": 96,
     "metadata": {},
     "output_type": "execute_result"
    }
   ],
   "source": [
    "np.dot( np.dot(V.transpose(),M) , V).round(11)"
   ]
  },
  {
   "cell_type": "code",
   "execution_count": 97,
   "metadata": {},
   "outputs": [],
   "source": [
    "λ1=λ[0]\n",
    "λ2=λ[1]"
   ]
  },
  {
   "cell_type": "code",
   "execution_count": 98,
   "metadata": {},
   "outputs": [
    {
     "data": {
      "text/plain": [
       "array([[-0.87749437, -0.47958694],\n",
       "       [ 0.47958694, -0.87749437]])"
      ]
     },
     "execution_count": 98,
     "metadata": {},
     "output_type": "execute_result"
    }
   ],
   "source": [
    "-V"
   ]
  },
  {
   "cell_type": "code",
   "execution_count": 99,
   "metadata": {},
   "outputs": [],
   "source": [
    "θ=-np.arcsin( V[0,1] )"
   ]
  },
  {
   "cell_type": "code",
   "execution_count": 100,
   "metadata": {},
   "outputs": [
    {
     "data": {
      "text/plain": [
       "-0.5001839211647364"
      ]
     },
     "execution_count": 100,
     "metadata": {},
     "output_type": "execute_result"
    }
   ],
   "source": [
    "θ"
   ]
  },
  {
   "cell_type": "code",
   "execution_count": 101,
   "metadata": {},
   "outputs": [
    {
     "data": {
      "text/plain": [
       "array([[ 0.87749437, -0.47958694],\n",
       "       [ 0.47958694,  0.87749437]])"
      ]
     },
     "execution_count": 101,
     "metadata": {},
     "output_type": "execute_result"
    }
   ],
   "source": [
    "np.array( [[np.cos(θ), np.sin(θ)],\n",
    "            [-np.sin(θ),np.cos(θ)]] )"
   ]
  },
  {
   "cell_type": "code",
   "execution_count": 102,
   "metadata": {},
   "outputs": [
    {
     "data": {
      "text/plain": [
       "91.18773610041056"
      ]
     },
     "execution_count": 102,
     "metadata": {},
     "output_type": "execute_result"
    }
   ],
   "source": [
    "MZ=np.sqrt(λ1)\n",
    "MZ"
   ]
  },
  {
   "cell_type": "code",
   "execution_count": 103,
   "metadata": {},
   "outputs": [
    {
     "data": {
      "text/plain": [
       "0.23000362966286086"
      ]
     },
     "execution_count": 103,
     "metadata": {},
     "output_type": "execute_result"
    }
   ],
   "source": [
    "np.sin(θ)**2"
   ]
  },
  {
   "cell_type": "markdown",
   "metadata": {},
   "source": [
    "θ angulo de mezcla débil"
   ]
  },
  {
   "cell_type": "markdown",
   "metadata": {},
   "source": [
    "## Appendix"
   ]
  },
  {
   "cell_type": "markdown",
   "metadata": {},
   "source": [
    "\\begin{equation}\n",
    "  V\\boldsymbol{A}_{\\text{diag}}=\\boldsymbol{A}\n",
    "\\end{equation}"
   ]
  },
  {
   "cell_type": "code",
   "execution_count": 92,
   "metadata": {},
   "outputs": [],
   "source": [
    "Adiag=np.array( [[5,0],\n",
    "                 [0,8]] )"
   ]
  },
  {
   "cell_type": "code",
   "execution_count": 93,
   "metadata": {},
   "outputs": [
    {
     "data": {
      "text/plain": [
       "array([[ 2.5       ,  6.92820323],\n",
       "       [-4.33012702,  4.        ]])"
      ]
     },
     "execution_count": 93,
     "metadata": {},
     "output_type": "execute_result"
    }
   ],
   "source": [
    "A=np.dot( Vp,np.array( Adiag ) )\n",
    "A"
   ]
  },
  {
   "cell_type": "code",
   "execution_count": 94,
   "metadata": {},
   "outputs": [
    {
     "data": {
      "text/plain": [
       "array([[5., 0.],\n",
       "       [0., 8.]])"
      ]
     },
     "execution_count": 94,
     "metadata": {},
     "output_type": "execute_result"
    }
   ],
   "source": [
    "np.dot( Vp.transpose(),A)"
   ]
  },
  {
   "cell_type": "code",
   "execution_count": 95,
   "metadata": {},
   "outputs": [
    {
     "name": "stdout",
     "output_type": "stream",
     "text": [
      "sqrt(λ2)=[8. 5.]\n"
     ]
    },
    {
     "data": {
      "text/plain": [
       "array([[ 0.5      ,  0.8660254],\n",
       "       [-0.8660254,  0.5      ]])"
      ]
     },
     "execution_count": 95,
     "metadata": {},
     "output_type": "execute_result"
    }
   ],
   "source": [
    "λ2,V=np.linalg.eig( np.dot( A,A.transpose() ) )\n",
    "print('sqrt(λ2)={}'.format(np.sqrt(λ2)))\n",
    "V=np.c_[ -V[:,1],V[:,0]  ]\n",
    "V"
   ]
  },
  {
   "cell_type": "code",
   "execution_count": 96,
   "metadata": {},
   "outputs": [
    {
     "name": "stdout",
     "output_type": "stream",
     "text": [
      "[8. 5.]\n"
     ]
    },
    {
     "data": {
      "text/plain": [
       "array([[1., 0.],\n",
       "       [0., 1.]])"
      ]
     },
     "execution_count": 96,
     "metadata": {},
     "output_type": "execute_result"
    }
   ],
   "source": [
    "λ2p,U=np.linalg.eig( np.dot( A.transpose(),A ) )\n",
    "print(np.sqrt(λ2))\n",
    "U"
   ]
  },
  {
   "cell_type": "code",
   "execution_count": 97,
   "metadata": {},
   "outputs": [
    {
     "data": {
      "text/plain": [
       "array([[ 5.,  0.],\n",
       "       [-0.,  8.]])"
      ]
     },
     "execution_count": 97,
     "metadata": {},
     "output_type": "execute_result"
    }
   ],
   "source": [
    "np.dot( np.dot( V.transpose(),A ), U ).round(15)"
   ]
  },
  {
   "cell_type": "code",
   "execution_count": 98,
   "metadata": {},
   "outputs": [
    {
     "data": {
      "text/plain": [
       "array([[ 5.,  0.],\n",
       "       [-0.,  8.]])"
      ]
     },
     "execution_count": 98,
     "metadata": {},
     "output_type": "execute_result"
    }
   ],
   "source": [
    "np.dot( V.transpose(),A ).round(15)"
   ]
  },
  {
   "cell_type": "markdown",
   "metadata": {},
   "source": [
    "Bidiagonal"
   ]
  },
  {
   "cell_type": "code",
   "execution_count": 99,
   "metadata": {},
   "outputs": [],
   "source": [
    "Adiag=np.array( [[5,0],\n",
    "                 [0,8]] )"
   ]
  },
  {
   "cell_type": "code",
   "execution_count": 100,
   "metadata": {},
   "outputs": [
    {
     "data": {
      "text/plain": [
       "array([[ 0.5      ,  0.8660254],\n",
       "       [-0.8660254,  0.5      ]])"
      ]
     },
     "execution_count": 100,
     "metadata": {},
     "output_type": "execute_result"
    }
   ],
   "source": [
    "Vp=orthogonal(np.pi/3)\n",
    "Vp"
   ]
  },
  {
   "cell_type": "code",
   "execution_count": 101,
   "metadata": {},
   "outputs": [
    {
     "data": {
      "text/plain": [
       "array([[ 0.70710678,  0.70710678],\n",
       "       [-0.70710678,  0.70710678]])"
      ]
     },
     "execution_count": 101,
     "metadata": {},
     "output_type": "execute_result"
    }
   ],
   "source": [
    "Up=orthogonal(np.pi/4)\n",
    "Up"
   ]
  },
  {
   "cell_type": "markdown",
   "metadata": {},
   "source": [
    "\\begin{equation}\n",
    "  \\boldsymbol{V}\\boldsymbol{A}_{\\text{diag}}\\boldsymbol{U}^\\dagger=\\boldsymbol{A}\n",
    "\\end{equation}"
   ]
  },
  {
   "cell_type": "code",
   "execution_count": 102,
   "metadata": {},
   "outputs": [],
   "source": [
    "A=np.dot( np.dot( Vp,Adiag ),Up.transpose() )"
   ]
  },
  {
   "cell_type": "code",
   "execution_count": 103,
   "metadata": {},
   "outputs": [
    {
     "data": {
      "text/plain": [
       "array([[ 6.66674644,  3.13121253],\n",
       "       [-0.23343505,  5.8902893 ]])"
      ]
     },
     "execution_count": 103,
     "metadata": {},
     "output_type": "execute_result"
    }
   ],
   "source": [
    "A"
   ]
  },
  {
   "cell_type": "code",
   "execution_count": 104,
   "metadata": {},
   "outputs": [
    {
     "name": "stdout",
     "output_type": "stream",
     "text": [
      "[64. 25.] [8. 5.]\n"
     ]
    },
    {
     "data": {
      "text/plain": [
       "array([[ 0.5      ,  0.8660254],\n",
       "       [-0.8660254,  0.5      ]])"
      ]
     },
     "execution_count": 104,
     "metadata": {},
     "output_type": "execute_result"
    }
   ],
   "source": [
    "λ2,V=np.linalg.eig( np.dot( A,A.transpose() ) )\n",
    "print(λ2,np.sqrt(λ2))\n",
    "V=np.c_[ -V[:,1],V[:,0]  ]\n",
    "V"
   ]
  },
  {
   "cell_type": "code",
   "execution_count": 105,
   "metadata": {},
   "outputs": [
    {
     "name": "stdout",
     "output_type": "stream",
     "text": [
      "[8. 5.]\n"
     ]
    }
   ],
   "source": [
    "λ2p,U=np.linalg.eig( np.dot( A.transpose(),A ) )\n",
    "print(np.sqrt(λ2))\n",
    "U=-U"
   ]
  },
  {
   "cell_type": "code",
   "execution_count": 106,
   "metadata": {},
   "outputs": [
    {
     "data": {
      "text/plain": [
       "array([[5., 0.],\n",
       "       [0., 8.]])"
      ]
     },
     "execution_count": 106,
     "metadata": {},
     "output_type": "execute_result"
    }
   ],
   "source": [
    "np.dot( np.dot( V.transpose(),A ), U ).round(14)"
   ]
  },
  {
   "cell_type": "code",
   "execution_count": 107,
   "metadata": {},
   "outputs": [
    {
     "data": {
      "text/plain": [
       "(array([[ 0.5      ,  0.8660254],\n",
       "        [-0.8660254,  0.5      ]]), array([[ 0.70710678,  0.70710678],\n",
       "        [-0.70710678,  0.70710678]]))"
      ]
     },
     "execution_count": 107,
     "metadata": {},
     "output_type": "execute_result"
    }
   ],
   "source": [
    "V,U"
   ]
  },
  {
   "cell_type": "markdown",
   "metadata": {},
   "source": [
    "Scipy implementation"
   ]
  },
  {
   "cell_type": "code",
   "execution_count": 108,
   "metadata": {},
   "outputs": [
    {
     "data": {
      "text/plain": [
       "array([6.27851787+0.76171737j, 6.27851787-0.76171737j])"
      ]
     },
     "execution_count": 108,
     "metadata": {},
     "output_type": "execute_result"
    }
   ],
   "source": [
    "λ,Vs=linalg.eig(A,left=False,right=True)\n",
    "λ"
   ]
  },
  {
   "cell_type": "code",
   "execution_count": 109,
   "metadata": {},
   "outputs": [
    {
     "data": {
      "text/plain": [
       "array([6.27851787+0.76171737j, 6.27851787-0.76171737j])"
      ]
     },
     "execution_count": 109,
     "metadata": {},
     "output_type": "execute_result"
    }
   ],
   "source": [
    "λ,Vs=linalg.eig(A,left=True,right=False)\n",
    "λ"
   ]
  },
  {
   "cell_type": "markdown",
   "metadata": {
    "colab_type": "text",
    "id": "OpZ6xTlxZepn"
   },
   "source": []
  },
  {
   "cell_type": "code",
   "execution_count": 110,
   "metadata": {
    "colab": {
     "base_uri": "https://localhost:8080/",
     "height": 35
    },
    "colab_type": "code",
    "id": "NieNaWoPn9AN",
    "outputId": "c229c621-0ae8-47f1-caf3-c5dda643f2bc"
   },
   "outputs": [
    {
     "data": {
      "text/plain": [
       "array([ 0.46037849, -0.66083877])"
      ]
     },
     "execution_count": 110,
     "metadata": {},
     "output_type": "execute_result"
    }
   ],
   "source": [
    "np.linalg.solve(A,[1,-4])"
   ]
  },
  {
   "cell_type": "code",
   "execution_count": 111,
   "metadata": {},
   "outputs": [
    {
     "data": {
      "text/plain": [
       "array([[ 6.66674644,  3.13121253],\n",
       "       [-0.23343505,  5.8902893 ]])"
      ]
     },
     "execution_count": 111,
     "metadata": {},
     "output_type": "execute_result"
    }
   ],
   "source": [
    "A"
   ]
  },
  {
   "cell_type": "code",
   "execution_count": 112,
   "metadata": {},
   "outputs": [],
   "source": [
    "V,diag,Udagger=linalg.svd(A)"
   ]
  },
  {
   "cell_type": "code",
   "execution_count": 42,
   "metadata": {},
   "outputs": [],
   "source": [
    "np.dotnp.dot( V.transpose().conjugate(),A)"
   ]
  },
  {
   "cell_type": "code",
   "execution_count": 43,
   "metadata": {},
   "outputs": [
    {
     "data": {
      "text/plain": [
       "array([[ 4.4408921e-16,  8.0000000e+00],\n",
       "       [-5.0000000e+00,  8.8817842e-16]])"
      ]
     },
     "execution_count": 43,
     "metadata": {},
     "output_type": "execute_result"
    }
   ],
   "source": [
    "AA"
   ]
  },
  {
   "cell_type": "code",
   "execution_count": 44,
   "metadata": {},
   "outputs": [
    {
     "data": {
      "text/plain": [
       "array([[ 8.0000000e+00, -4.4408921e-16],\n",
       "       [ 8.8817842e-16,  5.0000000e+00]])"
      ]
     },
     "execution_count": 44,
     "metadata": {},
     "output_type": "execute_result"
    }
   ],
   "source": [
    "np.dot(AA  ,Udagger.transpose())"
   ]
  },
  {
   "cell_type": "code",
   "execution_count": 40,
   "metadata": {},
   "outputs": [
    {
     "data": {
      "text/plain": [
       "array([[ 4.4408921e-16, -5.0000000e+00],\n",
       "       [ 8.0000000e+00,  8.8817842e-16]])"
      ]
     },
     "execution_count": 40,
     "metadata": {},
     "output_type": "execute_result"
    }
   ],
   "source": [
    "Udagger"
   ]
  },
  {
   "cell_type": "code",
   "execution_count": 29,
   "metadata": {},
   "outputs": [
    {
     "ename": "ValueError",
     "evalue": "output array is not acceptable (must have the right datatype, number of dimensions, and be a C-Array)",
     "output_type": "error",
     "traceback": [
      "\u001b[0;31m---------------------------------------------------------------------------\u001b[0m",
      "\u001b[0;31mValueError\u001b[0m                                Traceback (most recent call last)",
      "\u001b[0;32m<ipython-input-29-4f003879e747>\u001b[0m in \u001b[0;36m<module>\u001b[0;34m\u001b[0m\n\u001b[0;32m----> 1\u001b[0;31m \u001b[0mnp\u001b[0m\u001b[0;34m.\u001b[0m\u001b[0mdot\u001b[0m\u001b[0;34m(\u001b[0m \u001b[0mV\u001b[0m\u001b[0;34m,\u001b[0m\u001b[0mA\u001b[0m\u001b[0;34m,\u001b[0m\u001b[0mUdagger\u001b[0m\u001b[0;34m)\u001b[0m\u001b[0;34m\u001b[0m\u001b[0m\n\u001b[0m",
      "\u001b[0;31mValueError\u001b[0m: output array is not acceptable (must have the right datatype, number of dimensions, and be a C-Array)"
     ]
    }
   ],
   "source": [
    "np.dot( V,A,Udagger)"
   ]
  },
  {
   "cell_type": "code",
   "execution_count": 59,
   "metadata": {},
   "outputs": [],
   "source": [
    "V,diag,Udagger=linalg.svd(A)"
   ]
  },
  {
   "cell_type": "code",
   "execution_count": 67,
   "metadata": {},
   "outputs": [
    {
     "data": {
      "text/plain": [
       "array([[8., 0.],\n",
       "       [0., 5.]])"
      ]
     },
     "execution_count": 67,
     "metadata": {},
     "output_type": "execute_result"
    }
   ],
   "source": []
  },
  {
   "cell_type": "code",
   "execution_count": null,
   "metadata": {},
   "outputs": [],
   "source": []
  }
 ],
 "metadata": {
  "kernelspec": {
   "display_name": "Python 3",
   "language": "python",
   "name": "python3"
  },
  "language_info": {
   "codemirror_mode": {
    "name": "ipython",
    "version": 3
   },
   "file_extension": ".py",
   "mimetype": "text/x-python",
   "name": "python",
   "nbconvert_exporter": "python",
   "pygments_lexer": "ipython3",
   "version": "3.5.3"
  }
 },
 "nbformat": 4,
 "nbformat_minor": 4
}
