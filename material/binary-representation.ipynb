{
 "cells": [
  {
   "cell_type": "markdown",
   "source": "#Task 3",
   "metadata": {
    "cell_id": "00000-899bac96-0c7a-49e7-9cf1-68b6cb1263dd",
    "deepnote_cell_type": "markdown"
   }
  },
  {
   "cell_type": "markdown",
   "source": "This homework is an activity intended to practice IPython notebooks and binary representation of real numbers.\n\n*Due to:* **Nov 15**",
   "metadata": {
    "cell_id": "00001-8c550478-7605-4397-9449-0e0cba03f19b",
    "deepnote_cell_type": "markdown"
   }
  },
  {
   "cell_type": "markdown",
   "source": "- - - ",
   "metadata": {
    "cell_id": "00002-8f242966-baba-4b25-a69f-1cefda345017",
    "deepnote_cell_type": "markdown"
   }
  },
  {
   "cell_type": "markdown",
   "source": "##Binary Representation",
   "metadata": {
    "cell_id": "00003-4927a321-7a8e-4df8-a19d-027219465c9b",
    "deepnote_cell_type": "markdown"
   }
  },
  {
   "cell_type": "markdown",
   "source": "According to the [IEEE 754-2008](http://en.wikipedia.org/wiki/IEEE_floating_point) standard, binary representation of real numbers may be done by using single-precision **float32** or double-precision **float64**. **float32** follows the next rules:\n\n![32-bits](http://upload.wikimedia.org/wikipedia/commons/thumb/d/d2/Float_example.svg/590px-Float_example.svg.png)\n\n1. The fist digit (called *s*) indicates the sign of the number (s=0 means a positive number, s=1 a negative one).\n2. The next 8 bits represent the exponent of the number.\n3. The last 23 bits represent the fractional part of the number.\n\nThe formula for recovering the real number is then given by:\n\n$r = (-1)^s\\times \\left( 1 + \\sum_{i=1}^{23}b_{23-i}2^{-i} \\right)\\times 2^{e-127}$\n\nwhere $s$ is the sign, $b_{23-i}$ the fraction bits and $e$ is given by:\n\n$e = \\sum_{i=0}^7 b_{23+i}2^i$",
   "metadata": {
    "cell_id": "00004-bd315472-1655-479c-8303-591350ecf8c5",
    "deepnote_cell_type": "markdown"
   }
  },
  {
   "cell_type": "markdown",
   "source": "**1.** Write an IPython notebook and present (consult) the steps necessary for finding the binary **float32** representation of a real number.",
   "metadata": {
    "cell_id": "00005-bdbd0c82-b337-4684-976c-2601d2b231a9",
    "deepnote_cell_type": "markdown"
   }
  },
  {
   "cell_type": "markdown",
   "source": "**2.** Write a routine (same notebook) that calculates the binary representation of a number following the steps of the previous item. Test your results with the next function `number32`, i.e., if your routine is called `binary32`, running `number32( binary32( number ) )` should return the original number.",
   "metadata": {
    "cell_id": "00006-ed8750df-0609-4101-8cc0-b6cbf1f57d3c",
    "deepnote_cell_type": "markdown"
   }
  },
  {
   "cell_type": "code",
   "metadata": {
    "cell_id": "00007-c93f2764-a4e5-4917-8aa5-849e0a8faf66",
    "deepnote_cell_type": "code"
   },
   "source": "def number32( binary ):\n    #Inverting binary string\n    binary = binary[::-1]\n    #Decimal part\n    dec = 1\n    for i in xrange(1,24):\n        dec += int(binary[23-i])*2**-i\n    #Exponent part\n    exp = 0\n    for i in xrange(0,8):\n        exp += int(binary[23+i])*2**i\n    #Total number\n    number = (-1)**int(binary[31])*2**(exp-127)*dec\n    return number",
   "outputs": [],
   "execution_count": null
  },
  {
   "cell_type": "markdown",
   "source": "**Advice:** take advantage of all the taught functionalities of IPython notebooks, i.e., Markdown formatting, embedded code, LaTeX formatting, etc.",
   "metadata": {
    "cell_id": "00008-3e7079fe-4c6f-4693-8009-024a273f2130",
    "deepnote_cell_type": "markdown"
   }
  },
  {
   "cell_type": "markdown",
   "source": "<a style='text-decoration:none;line-height:16px;display:flex;color:#5B5B62;padding:10px;justify-content:end;' href='https://deepnote.com?utm_source=created-in-deepnote-cell&projectId=f91b818d-f536-4b8f-81de-61752e0979b7' target=\"_blank\">\n<img alt='Created in deepnote.com' style='display:inline;max-height:16px;margin:0px;margin-right:7.5px;' src='data:image/svg+xml;base64,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' > </img>\nCreated in <span style='font-weight:600;margin-left:4px;'>Deepnote</span></a>",
   "metadata": {
    "tags": [],
    "created_in_deepnote_cell": true,
    "deepnote_cell_type": "markdown"
   }
  }
 ],
 "nbformat": 4,
 "nbformat_minor": 0,
 "metadata": {
  "deepnote_notebook_id": "7093e422-c9ab-49a5-85bc-3623bdac23e5",
  "deepnote": {},
  "deepnote_execution_queue": []
 }
}