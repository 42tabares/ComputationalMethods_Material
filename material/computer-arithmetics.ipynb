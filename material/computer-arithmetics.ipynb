{
 "cells": [
  {
   "cell_type": "markdown",
   "metadata": {},
   "source": [
    "# Computer Arithmetics and Round-off Methods"
   ]
  },
  {
   "cell_type": "markdown",
   "metadata": {},
   "source": [
    "Actividades: https://classroom.github.com/a/2v-HnNqn"
   ]
  },
  {
   "cell_type": "markdown",
   "metadata": {},
   "source": [
    "In a symbolic computation programs, implemented in SymPy or Mathematica for example, operatios like $1/3+4/3=5/3$, $2\\times 3/4 = 3/2$, $(\\sqrt{2})^2 = 2$ are unambiguously defined, However, when one numerical programming languages are used to represent numbers in a computer, this is no longer true. The main reason of this is the so-called *finite arithmetic*, what is the way in which a numerical computer programs performs basic operations. Some features of *finite arithmetic* are stated below:\n",
    "\n",
    "- Only integer and rational numbers can be exactly represented.\n",
    "- The elements of the set in which arithmetic is performed is necessarily finite.\n",
    "- Any arithmetic operation between two or more numbers of this set should be another element of the set.\n",
    "- Non-representable numbers like irrational numbers are approximated to the closest rational number within the defined set.\n",
    "- Extremely large numbers produce overflows and extremely small numbers produce underflows, which are taken as null.\n",
    "- Operations over non-representable numbers are not exact.\n",
    "\n",
    "In spite of this, defining adequately the set of elements in which our computer will operate, round-off methods can be systematically neglected, yielding correct results within reasonable error margins. In some pathological cases, when massive iterations are required, these errors must be taken into account more seriously.\n",
    "\n",
    "- - - \n",
    "\n",
    "- [Binary machine numbers](#Binary-machine-numbers)\n",
    "    - [Single-precision numbers](#Single-precision-numbers)\n",
    "    - [Double-precision numbers](#Double-precision-numbers)\n",
    "- [Finite Arithmetic](#Finite-Arithmetic)\n",
    "    - [Addition](#Addition)\n",
    "    - [Multiplication](#Multiplication)\n",
    "\n",
    "- - - "
   ]
  },
  {
   "cell_type": "code",
   "execution_count": 36,
   "metadata": {},
   "outputs": [],
   "source": [
    "def binary(num):\n",
    "#num=3\n",
    "#if True:\n",
    "    import struct\n",
    "    # Struct can provide us with the float packed into bytes. The '!' ensures that\n",
    "    # it's in network byte order (big-endian) and the 'f' says that it should be\n",
    "    # packed as a float: 32 bites. Alternatively, for double-precision, you could use 'd'.\n",
    "    packed = struct.pack('!f', num)\n",
    "    print( 'Packed: %s' % repr(packed))\n",
    "\n",
    "    # For each character in the returned string, we'll turn it into its corresponding\n",
    "    # integer code point\n",
    "    # \n",
    "    # [62, 163, 215, 10] = [c for c in '>\\xa3\\xd7\\n']\n",
    "    integers = [c for c in packed]\n",
    "    print( 'Integers: %s' % integers)\n",
    "\n",
    "    # For each integer, we'll convert it to its binary representation.\n",
    "    binaries = [bin(i) for i in integers]\n",
    "    print( 'Binaries: %s' % binaries)\n",
    "\n",
    "    # Now strip off the '0b' from each of these\n",
    "    stripped_binaries = [s.replace('0b', '') for s in binaries]\n",
    "    print( 'Stripped: %s' % stripped_binaries)\n",
    "\n",
    "    # Pad each byte's binary representation's with 0's to make sure it has all 8 bits:\n",
    "    #\n",
    "    # ['00111110', '10100011', '11010111', '00001010']\n",
    "    padded = [s.rjust(8, '0') for s in stripped_binaries]\n",
    "    print( 'Padded: %s' % padded)\n",
    "\n",
    "    # At this point, we have each of the bytes for the network byte ordered float\n",
    "    # in an array as binary strings. Now we just concatenate them to get the total\n",
    "    # representation of the float:\n",
    "    return ''.join(padded)"
   ]
  },
  {
   "cell_type": "code",
   "execution_count": 41,
   "metadata": {},
   "outputs": [
    {
     "name": "stdout",
     "output_type": "stream",
     "text": [
      "Packed: b'> \\x00\\x00'\n",
      "Integers: [62, 32, 0, 0]\n",
      "Binaries: ['0b111110', '0b100000', '0b0', '0b0']\n",
      "Stripped: ['111110', '100000', '0', '0']\n",
      "Padded: ['00111110', '00100000', '00000000', '00000000']\n"
     ]
    },
    {
     "data": {
      "text/plain": [
       "'00111110001000000000000000000000'"
      ]
     },
     "execution_count": 41,
     "metadata": {},
     "output_type": "execute_result"
    }
   ],
   "source": [
    "BIN=binary(0.15625)\n",
    "BIN"
   ]
  },
  {
   "cell_type": "markdown",
   "metadata": {},
   "source": [
    "![32-bits](http://upload.wikimedia.org/wikipedia/commons/thumb/d/d2/Float_example.svg/590px-Float_example.svg.png)"
   ]
  },
  {
   "cell_type": "code",
   "execution_count": 45,
   "metadata": {},
   "outputs": [
    {
     "data": {
      "text/plain": [
       "'00000000000000000000010001111100'"
      ]
     },
     "execution_count": 45,
     "metadata": {},
     "output_type": "execute_result"
    }
   ],
   "source": [
    "''.join( list(BIN)[::-1] )"
   ]
  },
  {
   "cell_type": "markdown",
   "metadata": {},
   "source": [
    "## Binary machine numbers    "
   ]
  },
  {
   "cell_type": "markdown",
   "metadata": {},
   "source": [
    "As everyone knows, the base of the modern computation is the binary numbers. The binary base or base-2 numeral system is the simplest one among the existing numeral bases. As every electronic devices are based on logic circuits (circuits operating with [logic gates](#LogicGates)), the implementation of a binary base is straightforward, besides, any other numeral system can be reduced to a binary representation.\n",
    "\n",
    "![LogicGates](http://www.ee.surrey.ac.uk/Projects/CAL/digital-logic/gatesfunc/graphics/symtab.gif)\n",
    "\n",
    "According to the standard [IEEE 754-2008](http://en.wikipedia.org/wiki/IEEE_floating_point), representation of real numbers can be done in several ways, [single-precision](http://en.wikipedia.org/wiki/Single-precision_floating-point_format) and [double precision](http://en.wikipedia.org/wiki/Double-precision_floating-point_format) are the most used ones."
   ]
  },
  {
   "cell_type": "markdown",
   "metadata": {},
   "source": [
    "### Single-precision numbers"
   ]
  },
  {
   "cell_type": "markdown",
   "metadata": {},
   "source": [
    "Single-precision numbers are used when one does not need very accurate results and/or need to save memory. These numbers are represented by a **32-bits** (Binary digIT) lenght binary number, where the real number is stored following the next rules:\n",
    "\n",
    "![32-bits](http://upload.wikimedia.org/wikipedia/commons/thumb/d/d2/Float_example.svg/590px-Float_example.svg.png)\n",
    "\n",
    "1. The fist digit (called *s*) indicates the sign of the number (s=0 means a positive number, s=1 a negative one).\n",
    "2. The next 8 bits represent the exponent of the number.\n",
    "3. The last 23 bits represent the fractional part of the number.\n",
    "\n",
    "The formula for recovering the real number is then given by:\n",
    "\n",
    "$$r = (-1)^s\\times \\left( 1 + \\sum_{i=1}^{23}b_{23-i}2^{-i} \\right)\\times 2^{e-127}$$ \n",
    "\n",
    "where $s$ is the sign, $b_{23-i}$ the fraction bits and $e$ is given by:\n",
    "\n",
    "$$e = \\sum_{i=0}^7 b_{23+i}2^i$$\n",
    "\n",
    "Next, it is shown a little routine for calculating the value of the represented 32-bits number"
   ]
  },
  {
   "cell_type": "markdown",
   "metadata": {},
   "source": [
    "The inverse processes of obtain the binary representation can be complicated because the design used to really  store the number  in one specific programming language like Python. In fact, from https://stackoverflow.com/a/16444778/2268280"
   ]
  },
  {
   "cell_type": "markdown",
   "metadata": {},
   "source": [
    "### ACTIVITY\n",
    "With the binary representation please try to implement the formula to recover the number. Hint: Use as input the binary representation as a string and invert its order"
   ]
  },
  {
   "cell_type": "markdown",
   "metadata": {},
   "source": [
    "$$r = (-1)^s\\times \\left( 1 + \\sum_{i=0}^{22}b_{i}2^{-(23-i)} \\right)\\times 2^{e-127}$$\n",
    "\n",
    "$b[22]*2^{-1}+b[21]*2^{-2}+\\cdots+b[1]*2^{-22}+b[0]*2^{-23}$"
   ]
  },
  {
   "cell_type": "markdown",
   "metadata": {},
   "source": [
    "Try to implement the formula as function in the next cell:"
   ]
  },
  {
   "cell_type": "markdown",
   "metadata": {},
   "source": [
    "__SOLUTION__:"
   ]
  },
  {
   "cell_type": "code",
   "execution_count": 4,
   "metadata": {},
   "outputs": [],
   "source": [
    "import numpy as np\n",
    "def num32(BIN):\n",
    "    #BIN='00111110001000000000000000000000'\n",
    "    finbinlist=np.array(list(BIN)[::-1]).astype(int)\n",
    "    \n",
    "    s=finbinlist[31]\n",
    "    \n",
    "    bi=finbinlist[0:23]\n",
    "    mi=np.arange(bi.size)[::-1]\n",
    "    l_2=np.ones(b23_i.size)*2\n",
    "\n",
    "    b23i=finbinlist[23:31]\n",
    "    pi=np.arange(b23i.size)\n",
    "    l2=np.ones(b23i.size)*2\n",
    "    e=(b23i*(l2**pi)).sum()\n",
    "    numero=(-1)**s*( 1+(bi*(l_2**-mi)).sum() )*2**( e-127  )\n",
    "    return numero"
   ]
  },
  {
   "cell_type": "code",
   "execution_count": 5,
   "metadata": {
    "scrolled": true
   },
   "outputs": [
    {
     "ename": "NameError",
     "evalue": "name 'b23_i' is not defined",
     "output_type": "error",
     "traceback": [
      "\u001b[0;31m-------------------------------------------\u001b[0m",
      "\u001b[0;31mNameError\u001b[0m Traceback (most recent call last)",
      "\u001b[0;32m<ipython-input-5-daada5a9ed21>\u001b[0m in \u001b[0;36m<module>\u001b[0;34m()\u001b[0m\n\u001b[0;32m----> 1\u001b[0;31m \u001b[0mprint\u001b[0m\u001b[0;34m(\u001b[0m\u001b[0mnum32\u001b[0m\u001b[0;34m(\u001b[0m\u001b[0;34m'00111110001000000000000000000000'\u001b[0m\u001b[0;34m)\u001b[0m\u001b[0;34m)\u001b[0m\u001b[0;34m\u001b[0m\u001b[0m\n\u001b[0m",
      "\u001b[0;32m<ipython-input-4-859d0815d87b>\u001b[0m in \u001b[0;36mnum32\u001b[0;34m(BIN)\u001b[0m\n\u001b[1;32m      8\u001b[0m     \u001b[0mbi\u001b[0m\u001b[0;34m=\u001b[0m\u001b[0mfinbinlist\u001b[0m\u001b[0;34m[\u001b[0m\u001b[0;36m0\u001b[0m\u001b[0;34m:\u001b[0m\u001b[0;36m23\u001b[0m\u001b[0;34m]\u001b[0m\u001b[0;34m\u001b[0m\u001b[0m\n\u001b[1;32m      9\u001b[0m     \u001b[0mmi\u001b[0m\u001b[0;34m=\u001b[0m\u001b[0mnp\u001b[0m\u001b[0;34m.\u001b[0m\u001b[0marange\u001b[0m\u001b[0;34m(\u001b[0m\u001b[0mbi\u001b[0m\u001b[0;34m.\u001b[0m\u001b[0msize\u001b[0m\u001b[0;34m)\u001b[0m\u001b[0;34m[\u001b[0m\u001b[0;34m:\u001b[0m\u001b[0;34m:\u001b[0m\u001b[0;34m-\u001b[0m\u001b[0;36m1\u001b[0m\u001b[0;34m]\u001b[0m\u001b[0;34m\u001b[0m\u001b[0m\n\u001b[0;32m---> 10\u001b[0;31m     \u001b[0ml_2\u001b[0m\u001b[0;34m=\u001b[0m\u001b[0mnp\u001b[0m\u001b[0;34m.\u001b[0m\u001b[0mones\u001b[0m\u001b[0;34m(\u001b[0m\u001b[0mb23_i\u001b[0m\u001b[0;34m.\u001b[0m\u001b[0msize\u001b[0m\u001b[0;34m)\u001b[0m\u001b[0;34m*\u001b[0m\u001b[0;36m2\u001b[0m\u001b[0;34m\u001b[0m\u001b[0m\n\u001b[0m\u001b[1;32m     11\u001b[0m \u001b[0;34m\u001b[0m\u001b[0m\n\u001b[1;32m     12\u001b[0m     \u001b[0mb23i\u001b[0m\u001b[0;34m=\u001b[0m\u001b[0mfinbinlist\u001b[0m\u001b[0;34m[\u001b[0m\u001b[0;36m23\u001b[0m\u001b[0;34m:\u001b[0m\u001b[0;36m31\u001b[0m\u001b[0;34m]\u001b[0m\u001b[0;34m\u001b[0m\u001b[0m\n",
      "\u001b[0;31mNameError\u001b[0m: name 'b23_i' is not defined"
     ]
    }
   ],
   "source": [
    "print(num32('00111110001000000000000000000000'))"
   ]
  },
  {
   "cell_type": "markdown",
   "metadata": {},
   "source": [
    "Check aginst the implementation with `for`'s"
   ]
  },
  {
   "cell_type": "code",
   "execution_count": 7,
   "metadata": {},
   "outputs": [],
   "source": [
    "# %load numtobin.py\n",
    "def number32( binary ):\n",
    "    #Inverting binary string\n",
    "    binary = binary[::-1]\n",
    "    #Decimal part\n",
    "    dec = 1\n",
    "    for i in range(1,24):\n",
    "        dec += int(binary[23-i])*2**-i\n",
    "    #Exponent part\n",
    "    exp = 0\n",
    "    for i in range(0,8):\n",
    "        exp += int(binary[23+i])*2**i\n",
    "    #Total number\n",
    "    number = (-1)**int(binary[31])*2**(exp-127)*dec\n",
    "    return number"
   ]
  },
  {
   "cell_type": "code",
   "execution_count": 8,
   "metadata": {},
   "outputs": [
    {
     "name": "stdout",
     "output_type": "stream",
     "text": [
      "0.15625\n"
     ]
    }
   ],
   "source": [
    "print(number32('00111110001000000000000000000000'))"
   ]
  },
  {
   "cell_type": "markdown",
   "metadata": {},
   "source": [
    "%load sln.py"
   ]
  },
  {
   "cell_type": "markdown",
   "metadata": {},
   "source": [
    "Single-precision system can represent real numbers within the interval $\\pm 10^{-38} \\cdots 10^{38}$, with $7-8$ decimal digits."
   ]
  },
  {
   "cell_type": "code",
   "execution_count": 65,
   "metadata": {},
   "outputs": [
    {
     "name": "stdout",
     "output_type": "stream",
     "text": [
      "\n",
      "\n",
      "Decimal digits contributions for single precision number\n",
      "1.19209289551e-07 3.0517578125e-05 0.03125 \n",
      "\n",
      "Largest and smallest exponent for single precision number\n",
      "3.40282366921e+38 5.87747175411e-39 \n",
      "\n"
     ]
    }
   ],
   "source": [
    "#Decimal digits \n",
    "print \"\\n\"\n",
    "print \"Decimal digits contributions for single precision number\"\n",
    "print 2**-23., 2**-15., 2**-5. , \"\\n\"\n",
    "\n",
    "#Largest and smallest exponent  \n",
    "suma = 0 \n",
    "for i in xrange(0,8):\n",
    "    suma += 2**i\n",
    "print \"Largest and smallest exponent for single precision number\"    \n",
    "print 2**(suma-127.), 2**(-127.),\"\\n\""
   ]
  },
  {
   "cell_type": "markdown",
   "metadata": {},
   "source": [
    "### Double-precision numbers"
   ]
  },
  {
   "cell_type": "markdown",
   "metadata": {},
   "source": [
    "Double-precision numbers are used when high accuracy is required. These numbers are represented by a **64-bits** (Binary digIT) lenght binary number, where the real number is stored following the next rules:\n",
    "\n",
    "![64-bits](http://upload.wikimedia.org/wikipedia/commons/thumb/a/a9/IEEE_754_Double_Floating_Point_Format.svg/618px-IEEE_754_Double_Floating_Point_Format.svg.png)\n",
    "\n",
    "1. The fist digit (called *s*) indicates the sign of the number (s=0 means a positive number, s=1 a negative one).\n",
    "2. The next 11 bits represent the exponent of the number.\n",
    "3. The last  bits represent the fractional part of the number.\n",
    "\n",
    "The formula for recovering the real number is then given by:\n",
    "\n",
    "$$r = (-1)^s\\times \\left( 1 + \\sum_{i=1}^{52}b_{52-i}2^{-i} \\right)\\times 2^{e-1023}$$\n",
    "\n",
    "where $s$ is the sign, $b_{23-i}$ the fraction bits and $e$ is given by:\n",
    "\n",
    "$$e = \\sum_{i=0}^{10} b_{52+i}2^i$$\n",
    "\n",
    "Double-precision system can represent real numbers within the interval $\\pm 10^{-308} \\cdots 10^{308}$, with $16-17$ decimal digits."
   ]
  },
  {
   "cell_type": "markdown",
   "metadata": {},
   "source": [
    "### **ACTIVITY**\n",
    "\n",
    "**1.** Write a python script that calculates the double precision number represented by a 64-bits binary.\n",
    "\n",
    "    \n",
    "**2.** What is the number represented by:\n",
    "\n",
    "0 10000000011 1011100100001111111111111111111111111111111111111111\n",
    "\n",
    "<font color='white'>\n",
    "    **ANSWER:**  27.56640625"
   ]
  },
  {
   "cell_type": "markdown",
   "metadata": {},
   "source": [
    "## Finite Arithmetic"
   ]
  },
  {
   "cell_type": "markdown",
   "metadata": {},
   "source": [
    "The most basic arithmetic operations are addition and multiplication. Further operations such as subtraction, division and power are secondary as they can be reached by iteratively use the latter ones."
   ]
  },
  {
   "cell_type": "markdown",
   "metadata": {},
   "source": [
    "### Addition"
   ]
  },
  {
   "cell_type": "markdown",
   "metadata": {},
   "source": [
    "As mentioned before, arithmetic operations are not exact in a computer due to the inherent limitations in number representing. Even when adding two already approximate numbers, say a single-precision couple of numbers, the result may not be a representable number, being necessary to apply approximation rules."
   ]
  },
  {
   "cell_type": "code",
   "execution_count": 138,
   "metadata": {
    "collapsed": true
   },
   "outputs": [],
   "source": [
    "xrange?"
   ]
  },
  {
   "cell_type": "code",
   "execution_count": 139,
   "metadata": {
    "scrolled": false
   },
   "outputs": [
    {
     "name": "stdout",
     "output_type": "stream",
     "text": [
      "expected: 1.0; obtained: 0.999755859375\n"
     ]
    },
    {
     "data": {
      "text/plain": [
       "1.0000000000000002"
      ]
     },
     "execution_count": 139,
     "metadata": {},
     "output_type": "execute_result"
    }
   ],
   "source": [
    "N = 9\n",
    "xe=0; x = 0; \n",
    "for i in xrange(N):\n",
    "    xe += np.float(1.0/N)\n",
    "    x += np.float16(1.0/N)\n",
    "print('expected: {}; obtained: {}'.format(xe,x))\n",
    "xe"
   ]
  },
  {
   "cell_type": "markdown",
   "metadata": {},
   "source": [
    "Note that the sucessive application of rounded-off numbers produces a final result less precise."
   ]
  },
  {
   "cell_type": "code",
   "execution_count": 4,
   "metadata": {},
   "outputs": [
    {
     "name": "stdout",
     "output_type": "stream",
     "text": [
      "5/7 0.714286\n",
      "1/3 0.333333\n",
      "1.04762 1.04761904762\n",
      "Error: 5.67663283046e-08\n"
     ]
    }
   ],
   "source": [
    "print( \"5/7\".format( np.float32(5/7.) )\n",
    "print( \"1/3\", np.float32(1/3.)\n",
    "print( np.float32(5/7.+1/3.), 22/21.\n",
    "print(\"Error:\", np.float32(5/7.+1/3.)-22/21."
   ]
  },
  {
   "cell_type": "markdown",
   "metadata": {},
   "source": [
    "Although the **float16** or half-float precision is standard according to the IEEE 754-2008, many devices do not support it well. Moreower, the same problems will reapear at higher precision. "
   ]
  },
  {
   "cell_type": "markdown",
   "metadata": {},
   "source": [
    "### Multiplication"
   ]
  },
  {
   "cell_type": "markdown",
   "metadata": {},
   "source": [
    "For multiplication it is applied the same round-off rules as the addition, however, be aware that multiplicative errors propagate more quickly than additive errors."
   ]
  },
  {
   "cell_type": "code",
   "execution_count": 81,
   "metadata": {
    "scrolled": true
   },
   "outputs": [
    {
     "name": "stdout",
     "output_type": "stream",
     "text": [
      "expected: 2.0; obtained: 1.99580530418\n"
     ]
    }
   ],
   "source": [
    "N = 20\n",
    "xe=1; x = 1\n",
    "for i in xrange(N):\n",
    "    xe *= np.float(2.0**(1.0/N))\n",
    "    x *= np.float16(2.0**(1.0/N))\n",
    "print('expected: {}; obtained: {}'.format(xe,x))"
   ]
  },
  {
   "cell_type": "markdown",
   "metadata": {},
   "source": [
    "The final result has an error at the third decimal digit, one more than the case of addition."
   ]
  },
  {
   "cell_type": "markdown",
   "metadata": {},
   "source": [
    "**ACTIVITY**\n",
    "\n",
    "Find the error associated to the finite representation in the next operations \n",
    "\n",
    "\n",
    "\n",
    "$$\n",
    "x-u, \\frac{x-u}{w}, (x-u)*v, u+v \n",
    "$$\n",
    "\n",
    "considering the values \n",
    "\n",
    "$$\n",
    "x = \\frac{5}{7}, y = \\frac{1}{3}, u = 0.71425\n",
    "$$\n",
    "\n",
    "\n",
    "\n",
    "$$\n",
    "v = 0.98765\\times 10^5, w = 0.111111\\times 10^{-4}\n",
    "$$\n"
   ]
  },
  {
   "cell_type": "code",
   "execution_count": null,
   "metadata": {
    "collapsed": true
   },
   "outputs": [],
   "source": []
  }
 ],
 "metadata": {
  "kernelspec": {
   "display_name": "Python 3",
   "language": "python",
   "name": "python3"
  },
  "language_info": {
   "codemirror_mode": {
    "name": "ipython",
    "version": 3
   },
   "file_extension": ".py",
   "mimetype": "text/x-python",
   "name": "python",
   "nbconvert_exporter": "python",
   "pygments_lexer": "ipython3",
   "version": "3.6.6"
  },
  "toc": {
   "colors": {
    "hover_highlight": "#DAA520",
    "running_highlight": "#FF0000",
    "selected_highlight": "#FFD700"
   },
   "moveMenuLeft": true,
   "nav_menu": {
    "height": "189px",
    "width": "252px"
   },
   "navigate_menu": true,
   "number_sections": true,
   "sideBar": true,
   "threshold": 4,
   "toc_cell": false,
   "toc_section_display": "block",
   "toc_window_display": false
  }
 },
 "nbformat": 4,
 "nbformat_minor": 1
}
