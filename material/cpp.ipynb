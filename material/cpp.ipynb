{
 "cells": [
  {
   "cell_type": "markdown",
   "metadata": {},
   "source": [
    "## Introduction to C++\n",
    "Based on the [Solo Learn course for C++](https://www.sololearn.com/Course/CPlusPlus/)\n",
    "\n",
    "See:\n",
    "* http://www.hecr.tifr.res.in/~samuel/html/files/INO_Cplusplus.pdf"
   ]
  },
  {
   "cell_type": "markdown",
   "metadata": {},
   "source": [
    "## A Hello world example\n",
    "The usual way to make programs in C++ is open an editor, write some program, like the one belows: \n",
    "\n",
    "```c++ \n",
    "#include <iostream>\n",
    "\n",
    "using namespace std;\n",
    "\n",
    "int main()\n",
    "{\n",
    "    cout << \"Hello world\";\n",
    "    return 0;\n",
    "}\n",
    "```\n",
    "which includes the required `main()` function, compile the program and run it.\n",
    "\n",
    "## Literal programming with C++\n",
    "In our parading of literal programming, we just mush open the notebook with the proper kernel, in this case the C++ implementation of the ROOT kernel. \n",
    "In the implementation of this kernel the declaration of the main function is no longer required. Therefore, we can focus in learn the concepts of the language without compilation issues. In this way, the equivalent \"Hello world program is just\"\n",
    "\n",
    "We can assume which we are inside main function"
   ]
  },
  {
   "cell_type": "code",
   "execution_count": 3,
   "metadata": {},
   "outputs": [
    {
     "name": "stdout",
     "output_type": "stream",
     "text": [
      "Hello world"
     ]
    }
   ],
   "source": [
    "#include <iostream>\n",
    "using namespace std;\n",
    "std::cout << \"Hello world\";"
   ]
  },
  {
   "cell_type": "code",
   "execution_count": 1,
   "metadata": {},
   "outputs": [
    {
     "name": "stdout",
     "output_type": "stream",
     "text": [
      "This is awesome!"
     ]
    }
   ],
   "source": [
    "cout << \"This \" << \"is \" << \"awesome!\";"
   ]
  },
  {
   "cell_type": "markdown",
   "metadata": {},
   "source": [
    "New Line\n",
    "\n",
    "The cout operator does not insert a line break at the end of the output.\n",
    "One way to print two lines is to use the endl manipulator, which will put in a line break. "
   ]
  },
  {
   "cell_type": "code",
   "execution_count": 2,
   "metadata": {},
   "outputs": [
    {
     "name": "stdout",
     "output_type": "stream",
     "text": [
      "Hello world!\n",
      "I love programming!"
     ]
    }
   ],
   "source": [
    "cout << \"Hello world!\" << endl;\n",
    "cout << \"I love programming!\";"
   ]
  },
  {
   "cell_type": "markdown",
   "metadata": {},
   "source": [
    "New Lines\n",
    "\n",
    "The new line character \\n can be used as an alternative to endl.\n",
    "The backslash (\\) is called an escape character, and indicates a \"special\" character."
   ]
  },
  {
   "cell_type": "code",
   "execution_count": 3,
   "metadata": {},
   "outputs": [
    {
     "name": "stdout",
     "output_type": "stream",
     "text": [
      "Hello world! \n",
      "I love programming!"
     ]
    }
   ],
   "source": [
    "cout << \"Hello world! \\n\";\n",
    "cout << \"I love programming!\";"
   ]
  },
  {
   "cell_type": "markdown",
   "metadata": {},
   "source": [
    "New Lines\n",
    "\n",
    "Two newline characters placed together result in a blank line."
   ]
  },
  {
   "cell_type": "code",
   "execution_count": 4,
   "metadata": {},
   "outputs": [
    {
     "name": "stdout",
     "output_type": "stream",
     "text": [
      "Hello world! \n",
      "\n",
      "I love programming!"
     ]
    }
   ],
   "source": [
    "cout << \"Hello world! \\n\\n\";\n",
    "cout << \"I love programming!\";"
   ]
  },
  {
   "cell_type": "markdown",
   "metadata": {},
   "source": [
    "Multiple New Lines\n",
    "\n",
    "Using a single cout statement with as many instances of \\n as your program requires will print out multiple lines of text."
   ]
  },
  {
   "cell_type": "code",
   "execution_count": 5,
   "metadata": {},
   "outputs": [
    {
     "name": "stdout",
     "output_type": "stream",
     "text": [
      " Hello \n",
      " world! \n",
      " I \n",
      " love \n",
      " programming!"
     ]
    }
   ],
   "source": [
    "cout << \" Hello \\n world! \\n I \\n love \\n programming!\";"
   ]
  },
  {
   "cell_type": "code",
   "execution_count": null,
   "metadata": {
    "collapsed": true
   },
   "outputs": [],
   "source": []
  },
  {
   "cell_type": "markdown",
   "metadata": {},
   "source": [
    "In python could see something like\n",
    "```python\n",
    "std.cout ....\n",
    "```"
   ]
  },
  {
   "cell_type": "code",
   "execution_count": 1,
   "metadata": {},
   "outputs": [
    {
     "name": "stdout",
     "output_type": "stream",
     "text": [
      "Hello world"
     ]
    }
   ],
   "source": [
    "cout << \"Hello world\";"
   ]
  },
  {
   "cell_type": "markdown",
   "metadata": {},
   "source": [
    "As in any other kernel, all the defined in the evaluation cells can be used later. Also ROOT is a full data analysis system so that the visualization tools are avalaible and ready to be used. We don not cover ROOT usage here."
   ]
  },
  {
   "cell_type": "markdown",
   "metadata": {},
   "source": [
    "## Printing Text"
   ]
  },
  {
   "cell_type": "markdown",
   "metadata": {},
   "source": [
    "## Comments"
   ]
  },
  {
   "cell_type": "markdown",
   "metadata": {
    "collapsed": true
   },
   "source": [
    "You can add comments to explain what is doing the code. The compilator will ignore all in a comment.\n",
    "\n",
    "To do a comment in C++ begin the line writing $\\textbf{//}$, then write the comment; for example, if we want write that a function prints \"Hello world\", we do:\n",
    "\n",
    "```c++\n",
    "    #include <iostream>\n",
    "    using namespace std;\n",
    "    \n",
    "    int main(){\n",
    "        //prints \"Hello world\"\n",
    "        cout<< \"Hello world!\";\n",
    "        return 0;\n",
    "    }\n",
    "```\n",
    "\n",
    "When above code is compiled the output is like:"
   ]
  },
  {
   "cell_type": "code",
   "execution_count": 1,
   "metadata": {},
   "outputs": [
    {
     "name": "stdout",
     "output_type": "stream",
     "text": [
      "Hello world!"
     ]
    }
   ],
   "source": [
    "//prints \"Hello world\"\n",
    "cout<< \"Hello world!\";\n",
    "return 0;"
   ]
  },
  {
   "cell_type": "markdown",
   "metadata": {},
   "source": [
    "### Take care! ### \n",
    "This is only for one-line comments, if we want a multi-line comment begin writing $\\textbf{/*}$, write the comment and then we close with $\\textbf{*/}$. The comment can be span multiples lines not only one."
   ]
  },
  {
   "cell_type": "code",
   "execution_count": 11,
   "metadata": {},
   "outputs": [],
   "source": [
    "/*this is a one-line comment wrote as multi-line comment*/\n",
    "\n",
    "/* and this is a comment \n",
    "in two lines*/"
   ]
  },
  {
   "cell_type": "markdown",
   "metadata": {},
   "source": [
    "Its very important close the multi-line comment, compare these two codes:"
   ]
  },
  {
   "cell_type": "code",
   "execution_count": 6,
   "metadata": {
    "collapsed": true
   },
   "outputs": [],
   "source": [
    "/* this function\n",
    "prints \"Hello world\"\n",
    "\n",
    "cout<< \"Hello world\";\n",
    "return 0;"
   ]
  },
  {
   "cell_type": "code",
   "execution_count": 10,
   "metadata": {},
   "outputs": [
    {
     "name": "stdout",
     "output_type": "stream",
     "text": [
      "Hello world"
     ]
    }
   ],
   "source": [
    "/* this function\n",
    "prints \"Hello world\"*/\n",
    "\n",
    "cout<< \"Hello world\";\n",
    "return 0;"
   ]
  },
  {
   "cell_type": "markdown",
   "metadata": {},
   "source": [
    "If we write a comment with // in a comment with /* */ or a comment whit /* */ in a comment whit //, so we can \"nest\" comments."
   ]
  },
  {
   "cell_type": "code",
   "execution_count": 12,
   "metadata": {
    "collapsed": true
   },
   "outputs": [],
   "source": [
    "/* comment out printing of \n",
    "Hello world!\n",
    "\n",
    "    cout<< \"Hello world!\"; //\n",
    "prints Hello world!\n",
    "*/"
   ]
  },
  {
   "cell_type": "markdown",
   "metadata": {},
   "source": [
    "## Variables"
   ]
  },
  {
   "cell_type": "markdown",
   "metadata": {},
   "source": [
    "## Working with variables"
   ]
  },
  {
   "cell_type": "markdown",
   "metadata": {},
   "source": [
    "You have the option to assign a value to the variable at the the time you declare it and assign a value later. You can also change the value of a variable "
   ]
  },
  {
   "cell_type": "code",
   "execution_count": 1,
   "metadata": {},
   "outputs": [],
   "source": [
    "int a;\n",
    "int b = 54;\n",
    "\n",
    "a = 10;\n",
    "b = 3;"
   ]
  },
  {
   "cell_type": "code",
   "execution_count": 4,
   "metadata": {},
   "outputs": [
    {
     "name": "stdout",
     "output_type": "stream",
     "text": [
      "10"
     ]
    }
   ],
   "source": [
    "std::cout << a;"
   ]
  },
  {
   "cell_type": "markdown",
   "metadata": {},
   "source": [
    "Copy and paste the code in an execution cell replacing the blanks to declare variable `c` of type `int` and then assign 7 as its value\n",
    "```c++\n",
    "_ c;\n",
    "a _ 7;\n",
    "```"
   ]
  },
  {
   "cell_type": "code",
   "execution_count": 5,
   "metadata": {},
   "outputs": [],
   "source": [
    "int c;\n",
    "a = 7;"
   ]
  },
  {
   "cell_type": "markdown",
   "metadata": {},
   "source": [
    "WARNING: not yet implemented here"
   ]
  },
  {
   "cell_type": "code",
   "execution_count": 8,
   "metadata": {},
   "outputs": [],
   "source": [
    "int num;\n"
   ]
  },
  {
   "cell_type": "code",
   "execution_count": 14,
   "metadata": {},
   "outputs": [],
   "source": [
    "std::cin >> num;"
   ]
  },
  {
   "cell_type": "code",
   "execution_count": 10,
   "metadata": {},
   "outputs": [],
   "source": [
    "std::cout?"
   ]
  },
  {
   "cell_type": "markdown",
   "metadata": {},
   "source": [
    "Copy and paste the code in an execution cell replacing the blanks to to declare sum as a variable, assign it the value 21+7, and print out its value. \n",
    "```c++\n",
    "int sum;\n",
    "___=21+1;\n",
    "___<<\"sum is equal to \"<<__<<endl;\n",
    "```"
   ]
  },
  {
   "cell_type": "code",
   "execution_count": 1,
   "metadata": {},
   "outputs": [],
   "source": [
    "int sum;\n",
    "sum=21+1;\n",
    "cout << \"sum is equal to \" << sum << endl;"
   ]
  },
  {
   "cell_type": "markdown",
   "metadata": {},
   "source": [
    "## More on variables"
   ]
  },
  {
   "cell_type": "markdown",
   "metadata": {},
   "source": [
    "## Basic Arithmetic"
   ]
  },
  {
   "cell_type": "markdown",
   "metadata": {},
   "source": [
    "## Assignment and incremental Operators"
   ]
  },
  {
   "cell_type": "code",
   "execution_count": null,
   "metadata": {
    "collapsed": true
   },
   "outputs": [],
   "source": []
  }
 ],
 "metadata": {
  "kernelspec": {
   "display_name": "ROOT C++",
   "language": "c++",
   "name": "root"
  },
  "language_info": {
   "codemirror_mode": "text/x-c++src",
   "file_extension": ".C",
   "mimetype": " text/x-c++src",
   "name": "c++"
  },
  "toc": {
   "colors": {
    "hover_highlight": "#DAA520",
    "running_highlight": "#FF0000",
    "selected_highlight": "#FFD700"
   },
   "moveMenuLeft": true,
   "nav_menu": {
    "height": "208px",
    "width": "252px"
   },
   "navigate_menu": true,
   "number_sections": true,
   "sideBar": true,
   "threshold": 4,
   "toc_cell": false,
   "toc_section_display": "block",
   "toc_window_display": false
  }
 },
 "nbformat": 4,
 "nbformat_minor": 2
}
