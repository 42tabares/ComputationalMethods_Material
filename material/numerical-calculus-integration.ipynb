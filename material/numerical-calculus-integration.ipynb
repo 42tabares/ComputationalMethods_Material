{
  "nbformat": 4,
  "nbformat_minor": 0,
  "metadata": {
    "colab": {
      "name": "numerical-calculus-integration.ipynb",
      "version": "0.3.2",
      "provenance": [],
      "include_colab_link": true
    },
    "kernelspec": {
      "display_name": "Python 3",
      "language": "python",
      "name": "python3"
    }
  },
  "cells": [
    {
      "cell_type": "markdown",
      "metadata": {
        "id": "view-in-github",
        "colab_type": "text"
      },
      "source": [
        "[View in Colaboratory](https://colab.research.google.com/github/restrepo/ComputationalMethods/blob/master/material/numerical-calculus-integration.ipynb)"
      ]
    },
    {
      "metadata": {
        "id": "2siQzX3iNqAt",
        "colab_type": "text"
      },
      "cell_type": "markdown",
      "source": [
        "# Numerical Calculus. Integration"
      ]
    },
    {
      "metadata": {
        "id": "AH5M6q5FNqAv",
        "colab_type": "text"
      },
      "cell_type": "markdown",
      "source": [
        "Throughout this section and the next ones, we shall cover the topic of numerical calculus. Calculus has been identified since ancient times as a powerful toolkit for analysing and handling geometrical problems. Since differential calculus was developed by Newton and Leibniz (in its actual notation), many different applications have been found, at the point that most of the current science is founded on it (e.g. differential and integral equations). Due to the ever increasing complexity of analytical expressions used in physics and astronomy, their usage becomes more and more impractical, and numerical approaches are more than necessary when one wants to go deeper. This issue has been identified since long ago and many numerical techniques have been developed. We shall cover only the most basic schemes, but also providing a basis for more formal approaches.\n",
        "\n",
        "From [7 (Chapter 18)](http://pages.cs.wisc.edu/~amos/412/lecture-notes/lecture18.pdf)\n",
        "> We can only find anti-derivatives for a very small number of functions, such as those functions that are popular as problems in mathematics textbooks. Outside of math classes, these functions are rare \n"
      ]
    },
    {
      "metadata": {
        "id": "gLSVc5pcNqAw",
        "colab_type": "text"
      },
      "cell_type": "markdown",
      "source": [
        "- - -\n",
        "- [Numerical Differentiation](./numerical-calculus.ipynb) \n",
        "- [Numerical Integration](#Numerical-Integration)\n",
        "    - [Numerical quadrature](#Numerical-quadrature)\n",
        "    - [Trapezoidal rule](#Trapezoidal-rule)\n",
        "    - [Simpson's rule](#Simpson's-rule)\n",
        "- [Composite Numerical Integration](#Composite-Numerical-Integration)\n",
        "    - [Composite trapezoidal rule](#Composite-trapezoidal-rule)\n",
        "    - [Composite Simpson's rule](#Composite-Simpson's-rule)\n",
        "- [Adaptive Quadrature Methods](#Adaptive-Quadrature-Methods)\n",
        "    - [Simpson's adaptive quadrature](#Simpson's-adaptive-quadrature)\n",
        "    - [Steps Simpson's adaptive quadrature](#Steps-Simpson's-adaptive-quadrature)\n",
        "- [Improper Integrals](#Improper-Integrals)\n",
        "    - [Left endpoint singularity](#Left-endpoint-singularity)\n",
        "    - [Right endpoint singularity](#Right-endpoint-singularity)\n",
        "    - [Infinite singularity](#Infinite-singularity)\n",
        "    \n",
        "- - -"
      ]
    },
    {
      "metadata": {
        "id": "KiBHZz-CNqAx",
        "colab_type": "code",
        "colab": {
          "base_uri": "https://localhost:8080/",
          "height": 34
        },
        "outputId": "f6ba1ef7-474b-4c54-9886-43a0d4ae719a"
      },
      "cell_type": "code",
      "source": [
        "%pylab inline\n",
        "import numpy as np\n",
        "import matplotlib.pyplot as plt\n",
        "# JSAnimation import available at https://github.com/jakevdp/JSAnimationfrom JSAnimation import IPython_display\n",
        "#from matplotlib import animation\n",
        "#Interpolation add-on\n",
        "import scipy.interpolate as interpolate\n",
        "import scipy.integrate as integrate"
      ],
      "execution_count": 1,
      "outputs": [
        {
          "output_type": "stream",
          "text": [
            "Populating the interactive namespace from numpy and matplotlib\n"
          ],
          "name": "stdout"
        }
      ]
    },
    {
      "metadata": {
        "id": "or6mF8mUNqA3",
        "colab_type": "text"
      },
      "cell_type": "markdown",
      "source": [
        "# Numerical Integration"
      ]
    },
    {
      "metadata": {
        "id": "RS9lAg8bNqA4",
        "colab_type": "text"
      },
      "cell_type": "markdown",
      "source": [
        "Integration is the second fundamental concept of calculus (along with differentiation). Numerical approaches are generally more useful here than in differentiation as the antiderivative procedure (analytically) is often much more complex, or even not possible. In this section we will cover some basic schemes, including numerical quadratures.\n",
        "\n",
        "Geometrically, integration can be understood as the area below a funtion within a given interval. Formally, given a function $f(x)$ such that $f\\in C^{1}[a,b]$, the antiderivative is defined as\n",
        "\n",
        "$$F(x) = \\int f(x) dx$$\n",
        "\n",
        "valid for all $x$ in $[a,b]$. However, a more useful expression is a definite integral, where the antiderivative is evaluated within some interval, i.e.\n",
        "\n",
        "$$F(b) - F(a) = \\int_{a}^{b} f(x) dx$$\n",
        "\n",
        "This procedure can be formally thought as a generalization of discrete weighted summation. This idea will be exploited below and will lead us to some first approximations to integration.\n",
        "\n",
        "See pag. 66 of [PDF](https://docs.google.com/viewer?a=v&pid=sites&srcid=ZmlzaWNhLnVkZWEuZWR1LmNvfGNvbXB1dGFkb3Jlcy1lbi1maXNpY2EtMjAxMC0yfGd4OjFmMDJjN2NlOTc3YWE0YTQ)\n",
        "\n",
        "From now on we will use the mathemarical functions as defined by SciPy."
      ]
    },
    {
      "metadata": {
        "id": "yfYz0zLKNqA4",
        "colab_type": "code",
        "colab": {}
      },
      "cell_type": "code",
      "source": [
        "import math as m\n",
        "import cmath as cm\n",
        "import numpy as np\n",
        "import scipy as sp"
      ],
      "execution_count": 0,
      "outputs": []
    },
    {
      "metadata": {
        "id": "FV8LAGKJNqA7",
        "colab_type": "code",
        "colab": {}
      },
      "cell_type": "code",
      "source": [
        "z=2+3.2j"
      ],
      "execution_count": 0,
      "outputs": []
    },
    {
      "metadata": {
        "id": "5nHDx7wLNqA9",
        "colab_type": "code",
        "colab": {},
        "outputId": "865a2f70-d71d-46cd-a606-999885914853"
      },
      "cell_type": "code",
      "source": [
        "z.real,z.imag,z.conjugate()"
      ],
      "execution_count": 0,
      "outputs": [
        {
          "output_type": "execute_result",
          "data": {
            "text/plain": [
              "(2.0, 3.2, (2-3.2j))"
            ]
          },
          "metadata": {
            "tags": []
          },
          "execution_count": 4
        }
      ]
    },
    {
      "metadata": {
        "id": "WVfLo4mINqBA",
        "colab_type": "code",
        "colab": {},
        "outputId": "648dc6df-b238-4fb2-cda2-e1ef1a3c6709"
      },
      "cell_type": "code",
      "source": [
        "z+3*z"
      ],
      "execution_count": 0,
      "outputs": [
        {
          "output_type": "execute_result",
          "data": {
            "text/plain": [
              "(8+12.8j)"
            ]
          },
          "metadata": {
            "tags": []
          },
          "execution_count": 5
        }
      ]
    },
    {
      "metadata": {
        "id": "cDLf56VpNqBE",
        "colab_type": "code",
        "colab": {},
        "outputId": "c54b2e60-db74-43ff-b19d-3d75b0328f0a"
      },
      "cell_type": "code",
      "source": [
        "z*z"
      ],
      "execution_count": 0,
      "outputs": [
        {
          "output_type": "execute_result",
          "data": {
            "text/plain": [
              "(-6.240000000000002+12.8j)"
            ]
          },
          "metadata": {
            "tags": []
          },
          "execution_count": 6
        }
      ]
    },
    {
      "metadata": {
        "id": "TAZa5L1RNqBG",
        "colab_type": "code",
        "colab": {},
        "outputId": "b83a6207-5a7a-4432-bd69-c97d7175f1af"
      },
      "cell_type": "code",
      "source": [
        "z*z.conjugate()"
      ],
      "execution_count": 0,
      "outputs": [
        {
          "output_type": "execute_result",
          "data": {
            "text/plain": [
              "(14.240000000000002+0j)"
            ]
          },
          "metadata": {
            "tags": []
          },
          "execution_count": 8
        }
      ]
    },
    {
      "metadata": {
        "id": "sPxDr2BSNqBK",
        "colab_type": "code",
        "colab": {},
        "outputId": "c214bb38-acda-41f3-a5c9-c279d9788262"
      },
      "cell_type": "code",
      "source": [
        "m.asin(2+0j)"
      ],
      "execution_count": 0,
      "outputs": [
        {
          "output_type": "error",
          "ename": "TypeError",
          "evalue": "can't convert complex to float",
          "traceback": [
            "\u001b[0;31m----------------------------------\u001b[0m",
            "\u001b[0;31mTypeError\u001b[0mTraceback (most recent call last)",
            "\u001b[0;32m<ipython-input-9-1385535d58fd>\u001b[0m in \u001b[0;36m<module>\u001b[0;34m()\u001b[0m\n\u001b[0;32m----> 1\u001b[0;31m \u001b[0mm\u001b[0m\u001b[0;34m.\u001b[0m\u001b[0masin\u001b[0m\u001b[0;34m(\u001b[0m\u001b[0;36m2\u001b[0m\u001b[0;34m+\u001b[0m\u001b[0;36m0j\u001b[0m\u001b[0;34m)\u001b[0m\u001b[0;34m\u001b[0m\u001b[0m\n\u001b[0m",
            "\u001b[0;31mTypeError\u001b[0m: can't convert complex to float"
          ]
        }
      ]
    },
    {
      "metadata": {
        "id": "tb5p6SxcNqBO",
        "colab_type": "code",
        "colab": {},
        "outputId": "3bc85d2c-69e6-43d7-9244-01ea83c4ae3b"
      },
      "cell_type": "code",
      "source": [
        "cm.asin(2)"
      ],
      "execution_count": 0,
      "outputs": [
        {
          "output_type": "execute_result",
          "data": {
            "text/plain": [
              "(1.5707963267948966+1.3169578969248166j)"
            ]
          },
          "metadata": {
            "tags": []
          },
          "execution_count": 10
        }
      ]
    },
    {
      "metadata": {
        "id": "8B8j9yxiNqBR",
        "colab_type": "code",
        "colab": {},
        "outputId": "46e8d962-ecb3-4b12-9c74-af944434d2df"
      },
      "cell_type": "code",
      "source": [
        "np.arcsin(2+0j)"
      ],
      "execution_count": 0,
      "outputs": [
        {
          "output_type": "execute_result",
          "data": {
            "text/plain": [
              "(1.5707963267948966+1.3169578969248166j)"
            ]
          },
          "metadata": {
            "tags": []
          },
          "execution_count": 12
        }
      ]
    },
    {
      "metadata": {
        "id": "3tptBZcLNqBT",
        "colab_type": "code",
        "colab": {},
        "outputId": "25bfc30c-7048-4ae2-ee0f-b89fbf48dbbd"
      },
      "cell_type": "code",
      "source": [
        "sp.arcsin([2,0.4])"
      ],
      "execution_count": 0,
      "outputs": [
        {
          "output_type": "execute_result",
          "data": {
            "text/plain": [
              "array([1.57079633+1.3169579j, 0.41151685+0.j       ])"
            ]
          },
          "metadata": {
            "tags": []
          },
          "execution_count": 13
        }
      ]
    },
    {
      "metadata": {
        "id": "DLrCBoUENqBW",
        "colab_type": "text"
      },
      "cell_type": "markdown",
      "source": [
        "## Numpy abstractions\n",
        "The programming paradigm with Numpy are the abstractions, where the algorithms are written in terms of operations with arrays, avoiding the use of  programming loops. Low level operations between arrays are implemented in C/Fortran within Numpy. Therefore, a code with abstractions is automatically optimized.\n",
        "\n",
        "Consider for example the numerical integration with the trapezoidal method\n",
        "\n",
        "![Credit Wikipedia](https://upload.wikimedia.org/wikipedia/commons/thumb/2/26/Integration_rectangle.svg/300px-Integration_rectangle.svg.png) <small>[See Wikipedia](https://en.wikipedia.org/wiki/Numerical_integration#Methods_for_one-dimensional_integrals)</small>\n",
        "\n",
        "Wehere for each internval between $x_i$ and $x_{i+1}$, the average height of the function \n",
        "$$\\frac{f(x_i)+f(x_{i-1})}{2}\\,,$$\n",
        "is used. Therefore\n",
        "\\begin{align*}\n",
        "  \\int_a^b f(x)d x\\approx \\frac{1}{2}\\sum_{i=1}^n (x_i-x_{i-1})(f(x_i)+f(x_{i-1}))\\,.\n",
        "\\end{align*}\n",
        "\n",
        "To implement the correspponding abstractions in Numpy it is convenient to define the following vectors\n",
        "\\begin{align*}\n",
        "  \\Delta \\mathbf{X}&=(x_1-x_0,x_2-x_1,\\cdots,x_n-x_{n-1})\\\\ \n",
        "   \\langle\\mathbf{F}\\rangle&=\\frac{1}{2}(f(x_1)+f(x_0),f(x_2)+f(x_1),\\cdots,f(x_n)+f(x_{n-1}))\\,.\n",
        "\\end{align*}\n",
        "The numerical approximation of the integral with the trapezoidal method is then just the dot product between the two previous vectors\n",
        "\\begin{align*}\n",
        "   \\int_a^b f(x)d x\\approx \\Delta \\mathbf{X}\\cdot \\langle\\mathbf{F}\\rangle\n",
        "\\end{align*}\n",
        "\n",
        "We next present the code with different levels of abstractions. The faster is the first one with the direct implementation of the dot product."
      ]
    },
    {
      "metadata": {
        "id": "PUPLnsE-NqBX",
        "colab_type": "code",
        "colab": {}
      },
      "cell_type": "code",
      "source": [
        "def integracion (f,a,b,n=4,test=0):\n",
        "  '''Trapezoidal method for the numerical integration  de f entre a y b\n",
        "     con n intervalos\n",
        "  '''\n",
        "  import numpy as np\n",
        "  x=np.linspace(a,b,n+1)\n",
        "  y=f(x)\n",
        "  if test == 0:\n",
        "    return 0.5*np.dot((x[1:]-x[:-1]),(y[1:]+y[:-1]))\n",
        "  elif test ==1:\n",
        "    return 0.5*((x[1:]-x[:-1])*(y[1:]+y[:-1])).sum()\n",
        "  elif test ==2:\n",
        "    return 0.5*sum((x[1:]-x[:-1])*(y[1:]+y[:-1]))"
      ],
      "execution_count": 0,
      "outputs": []
    },
    {
      "metadata": {
        "id": "54Fd3OnbNqBZ",
        "colab_type": "text"
      },
      "cell_type": "markdown",
      "source": [
        "## Implementation in scipy"
      ]
    },
    {
      "metadata": {
        "id": "4X8PF2zyNqBZ",
        "colab_type": "code",
        "colab": {}
      },
      "cell_type": "code",
      "source": [
        "integrate.quad?"
      ],
      "execution_count": 0,
      "outputs": []
    },
    {
      "metadata": {
        "id": "b0D250enNqBe",
        "colab_type": "text"
      },
      "cell_type": "markdown",
      "source": [
        "###  Usage example"
      ]
    },
    {
      "metadata": {
        "id": "kkvnkCLKNqBe",
        "colab_type": "code",
        "colab": {}
      },
      "cell_type": "code",
      "source": [
        "f= lambda x: sp.sin ( x )/ x"
      ],
      "execution_count": 0,
      "outputs": []
    },
    {
      "metadata": {
        "id": "J0bXGFxPNqBi",
        "colab_type": "text"
      },
      "cell_type": "markdown",
      "source": [
        "Note that:"
      ]
    },
    {
      "metadata": {
        "id": "y8yQT3gxWHpV",
        "colab_type": "code",
        "colab": {
          "base_uri": "https://localhost:8080/",
          "height": 72
        },
        "outputId": "f88eca91-bb99-488d-d19a-e0853117248e"
      },
      "cell_type": "code",
      "source": [
        "f(0)"
      ],
      "execution_count": 0,
      "outputs": [
        {
          "output_type": "stream",
          "text": [
            "/usr/local/lib/python3.6/dist-packages/ipykernel_launcher.py:1: RuntimeWarning: invalid value encountered in double_scalars\n",
            "  \"\"\"Entry point for launching an IPython kernel.\n"
          ],
          "name": "stderr"
        },
        {
          "output_type": "execute_result",
          "data": {
            "text/plain": [
              "nan"
            ]
          },
          "metadata": {
            "tags": []
          },
          "execution_count": 8
        }
      ]
    },
    {
      "metadata": {
        "id": "qOE8wbWxWNVm",
        "colab_type": "text"
      },
      "cell_type": "markdown",
      "source": [
        "Even so, the full tuple output with result and numerical error is obtained from"
      ]
    },
    {
      "metadata": {
        "id": "ASTrcsWCNqBs",
        "colab_type": "code",
        "colab": {}
      },
      "cell_type": "code",
      "source": [
        "import time"
      ],
      "execution_count": 0,
      "outputs": []
    },
    {
      "metadata": {
        "id": "7t_fQAg9NqBk",
        "colab_type": "code",
        "colab": {
          "base_uri": "https://localhost:8080/",
          "height": 54
        },
        "outputId": "d84e1b96-8827-4903-d775-0a98ef15afd2"
      },
      "cell_type": "code",
      "source": [
        "s=time.time()\n",
        "print(integrate.quad(f,0,1))\n",
        "print(time.time()-s)"
      ],
      "execution_count": 0,
      "outputs": [
        {
          "output_type": "stream",
          "text": [
            "(0.9460830703671831, 1.0503632079297089e-14)\n",
            "0.0006222724914550781\n"
          ],
          "name": "stdout"
        }
      ]
    },
    {
      "metadata": {
        "id": "nRbYf7SzNqBo",
        "colab_type": "text"
      },
      "cell_type": "markdown",
      "source": [
        "Force output to have only the result by asking for the entry 0 of the output tuple, note the `[0]` at the end:"
      ]
    },
    {
      "metadata": {
        "id": "6k-yShCdNqBp",
        "colab_type": "code",
        "colab": {
          "base_uri": "https://localhost:8080/",
          "height": 35
        },
        "outputId": "3b94660e-ae92-43a0-936e-8d745e121b7d"
      },
      "cell_type": "code",
      "source": [
        "integrate.quad(f,0,1)[0]"
      ],
      "execution_count": 0,
      "outputs": [
        {
          "output_type": "execute_result",
          "data": {
            "text/plain": [
              "0.9460830703671831"
            ]
          },
          "metadata": {
            "tags": []
          },
          "execution_count": 10
        }
      ]
    },
    {
      "metadata": {
        "id": "LwsseKFbXJzi",
        "colab_type": "code",
        "colab": {
          "base_uri": "https://localhost:8080/",
          "height": 298
        },
        "outputId": "b4696eb4-6aea-4032-e4de-bdd7f5bdeef4"
      },
      "cell_type": "code",
      "source": [
        "integracion(lambda x: sp.sin ( x )/x,1E-14,1,n=5,test=0)"
      ],
      "execution_count": 0,
      "outputs": [
        {
          "output_type": "execute_result",
          "data": {
            "text/plain": [
              "0.945078780953392"
            ]
          },
          "metadata": {
            "tags": []
          },
          "execution_count": 24
        }
      ]
    },
    {
      "metadata": {
        "id": "zDKZLjWvNqBx",
        "colab_type": "code",
        "colab": {},
        "outputId": "ac55a560-9ac7-44e5-b688-4d2e6c9f2cf0"
      },
      "cell_type": "code",
      "source": [
        "s=time.time()\n",
        "print(integracion(lambda x: sp.sin ( x )/x,1E-14,1,500,test=2))\n",
        "print(time.time()-s)"
      ],
      "execution_count": 0,
      "outputs": [
        {
          "output_type": "stream",
          "text": [
            "0.9460829699776094\n",
            "0.002169370651245117\n"
          ],
          "name": "stdout"
        }
      ]
    },
    {
      "metadata": {
        "id": "hNWuIvzMNqB1",
        "colab_type": "text"
      },
      "cell_type": "markdown",
      "source": [
        "Sinintegrate: \n",
        "$$\\operatorname{Si}(t)=\\int_0^t \\frac{\\sin x}{x}\\, \\operatorname{d}x$$"
      ]
    },
    {
      "metadata": {
        "id": "7H0QJTL1NqB1",
        "colab_type": "code",
        "colab": {}
      },
      "cell_type": "code",
      "source": [
        "import numpy as np\n",
        "import scipy as sp\n",
        "import scipy.integrate as integrate\n",
        "\n",
        "Sifloat=lambda t: integrate.quad(lambda x:sp.sin(x)/x,0,t)[0]\n",
        "def Si(x):\n",
        "    try:\n",
        "        nn=np.array(x).shape[0]\n",
        "        f=np.vectorize(Sifloat)\n",
        "    except IndexError:\n",
        "        f=Sifloat        \n",
        "    return f(x)"
      ],
      "execution_count": 0,
      "outputs": []
    },
    {
      "metadata": {
        "id": "9RWFuzqbNqB2",
        "colab_type": "code",
        "colab": {},
        "outputId": "e885726b-5636-4e41-8369-753f608e1578"
      },
      "cell_type": "code",
      "source": [
        "Si(1)"
      ],
      "execution_count": 0,
      "outputs": [
        {
          "output_type": "execute_result",
          "data": {
            "text/plain": [
              "0.946083070367183"
            ]
          },
          "metadata": {
            "tags": []
          },
          "execution_count": 27
        }
      ]
    },
    {
      "metadata": {
        "id": "gBOmq3IsNqB5",
        "colab_type": "code",
        "colab": {},
        "outputId": "a2b9b222-6b40-471a-abd3-5eaab813244e"
      },
      "cell_type": "code",
      "source": [
        "Si([1,2])"
      ],
      "execution_count": 0,
      "outputs": [
        {
          "output_type": "execute_result",
          "data": {
            "text/plain": [
              "array([0.94608307, 1.60541298])"
            ]
          },
          "metadata": {
            "tags": []
          },
          "execution_count": 28
        }
      ]
    },
    {
      "metadata": {
        "id": "zFXNaKTGNqB9",
        "colab_type": "text"
      },
      "cell_type": "markdown",
      "source": [
        "When you write `LaTeX`  in  `matplotlib`, you must be sure that the backslash, '\\', is properly interpreted  as the key for `LaTeX` commands. This is accomplished  by writting an `r` before the string declaration. Note the different behaviour of the backslash in the next two cells of code. In the first one `\\t` is intepreted as the keyboard key `<TAB>` and `\\b` as an empty space, while in the second, with the prefix `r`, it is just a pair of `LaTeX` commands"
      ]
    },
    {
      "metadata": {
        "id": "Sq4rTDLpNqB-",
        "colab_type": "code",
        "colab": {},
        "outputId": "1d9f6c59-de93-403a-fba6-877e74b6fb33"
      },
      "cell_type": "code",
      "source": [
        "print('$\\tan\\beta$')"
      ],
      "execution_count": 0,
      "outputs": [
        {
          "output_type": "stream",
          "text": [
            "$\tan\beta$\n"
          ],
          "name": "stdout"
        }
      ]
    },
    {
      "metadata": {
        "id": "rExFLFPrNqCC",
        "colab_type": "code",
        "colab": {},
        "outputId": "26f78dc1-95a7-46a2-9fb8-4ba1eafc9918"
      },
      "cell_type": "code",
      "source": [
        "print(r'$\\tan\\beta$')"
      ],
      "execution_count": 0,
      "outputs": [
        {
          "output_type": "stream",
          "text": [
            "$\\tan\\beta$\n"
          ],
          "name": "stdout"
        }
      ]
    },
    {
      "metadata": {
        "id": "99enYli8NqCF",
        "colab_type": "code",
        "colab": {},
        "outputId": "c69502f0-dd6a-4d56-90a7-19832c6c61bf"
      },
      "cell_type": "code",
      "source": [
        ""
      ],
      "execution_count": 0,
      "outputs": [
        {
          "output_type": "stream",
          "text": [
            "Populating the interactive namespace from numpy and matplotlib\n"
          ],
          "name": "stdout"
        }
      ]
    },
    {
      "metadata": {
        "id": "kSHEZHaQNqCJ",
        "colab_type": "code",
        "colab": {},
        "outputId": "d5ffd398-a38a-4947-825e-218334809746"
      },
      "cell_type": "code",
      "source": [
        "t=np.logspace(np.log10(1E-3),np.log10(2),200)\n",
        "tt=np.linspace(2,20,200)\n",
        "plt.semilogy(t,Si(t),'b-')\n",
        "plt.semilogy(tt,Si(tt),'b-')\n",
        "plt.xlabel('$x$',size=15)\n",
        "plt.ylabel(r'${\\rm Si}(t)=\\int_0^t {\\sin\\, x}/{x}\\,{\\rm d}\\,x$',size=15)\n",
        "plt.grid()"
      ],
      "execution_count": 0,
      "outputs": [
        {
          "output_type": "display_data",
          "data": {
            "image/png": "[encoded data removed]",
            "text/plain": [
              "<matplotlib.figure.Figure at 0x7fbb3c90f510>"
            ]
          },
          "metadata": {
            "tags": []
          }
        }
      ]
    },
    {
      "metadata": {
        "id": "dvZRcSsnNqCK",
        "colab_type": "text"
      },
      "cell_type": "markdown",
      "source": [
        "## Numerical approximation of integrals"
      ]
    },
    {
      "metadata": {
        "id": "YIixIlcWNqCM",
        "colab_type": "text"
      },
      "cell_type": "markdown",
      "source": [
        "The methods for numerical approximation that we will study here rely in the idea of approximate \n",
        "$$\\int_a^b f(x)\\operatorname{d}x\\,,$$\n",
        "by using some polinomial $p$, such that\n",
        "$$\\int_a^b f(x)\\operatorname{d}x\\approx \\int_a^b P_n(x)\\operatorname{d}x\\,,$$\n",
        "The integral of a polynomial can be calculated analytically because we know its antiderivative.\n",
        "\n",
        "Since, as we seen in [Lagrange-Polynomial](interpolation.ipynb#Lagrange-Polynomial), the next polynomial of $n$th-degree \n",
        "$$P_n(x) = \\sum_{i=0}^n f(x_i)L_{n,i}(x) = \\sum_{i=0}^n y_iL_{n,i}(x)\\,,$$\n",
        "where \n",
        "$$L_{n,i}(x) = \\prod_{\\begin{smallmatrix}m=0\\\\ m\\neq i\\end{smallmatrix}}^n \\frac{x-x_m}{x_i-x_m} =\\frac{(x-x_0)}{(x_i-x_0)}\\frac{(x-x_1)}{(x_i-x_1)}\\cdots \\frac{(x-x_{i-1})}{(x_i-x_{i-1})}\\underbrace{\\frac{}{}}_{m\\ne i}\n",
        "\\frac{(x-x_{i+1})}{(x_i-x_{i+1})} \\cdots \\frac{(x-x_{n-1})}{(x_i-x_{n-1})}\\frac{(x-x_n)}{(x_i-x_n)}  $$\n",
        "Given a well-behaved function $f(x)$, we have then\n",
        "\n",
        "$$f(x) \\approx \\sum_{k=0}^n f(x_k)L_{n,k}(x)$$\n",
        "\n",
        "\\begin{align}\n",
        "%$$ trick notebook cell\n",
        "\\int_a^b f(x)dx =& \\int_a^b\\sum_{k=0}^n f(x_k)L_{n,k}(x)dx \\\\\n",
        "=&\\sum_{k=0}^n f(x_k) \\int_a^b L_{n,k}(x)dx \\\\\n",
        "=&\\sum_{k=0}^n f(x_k) \\omega_k \\,\n",
        "%$$\n",
        "\\end{align}\n",
        "<!-- http://pages.cs.wisc.edu/~amos/412/lecture-notes/lecture18.pdf -->\n",
        "where $\\omega_i$ is a _weight_ applied to each function value:\n",
        "$$\\omega_i = \\int_a^b L_{n,k}(x) dx= \\int_a^b\\prod_{j=0,\\ j\\neq k}^{n}\\frac{(x-x_j)}{(x_k-x_j)}dx$$\n",
        "Note that, since Lagrange polynomials do not depend on the function, we can calculate the weights $\\omega_i$ using only the nodes $[x_0,x_1,\\ldots x_n]$"
      ]
    },
    {
      "metadata": {
        "id": "AUS7lq2oNqCM",
        "colab_type": "text"
      },
      "cell_type": "markdown",
      "source": [
        "### Error calculation\n",
        "Including the error, the previous function $f(x)$ can be written as\n",
        "\n",
        "$$f(x) = \\sum_{k=0}^n f(x_k)L_{n,k}(x) + \\frac{(x-x_0)(x-x_1)\\cdots(x-x_n)}{(n+1)!}f^{(n+1)}(\\xi(x))$$\n",
        "\n",
        "with $L_{n,k}(x)$ the lagrange basis functions. Integrating $f(x)$ over $[a,b]$, we obtain the next expression:\n",
        "\n",
        "$$\\int_a^b f(x)dx = \\int_a^b\\sum_{k=0}^n f(x_k)L_{n,k}(x)dx + \\int_a^b\\frac{(x-x_0)(x-x_1)\\cdots(x-x_n)}{(n+1)!}f^{(n+1)}(\\xi(x))dx$$\n",
        "\n",
        "It is worth mentioning this expression is a number, unlike differentiation where we obtained a function.\n",
        "\n",
        "We can readily convert this expression in a weighted summation as\n",
        "\n",
        "$$\\int_a^b f(x)dx = \\sum_{k=0}^n \\omega_i\\,f(x_k) + \\frac{1}{(n+1)!}\\int_a^bf^{(n+1)}(\\xi(x)) \\prod_{k=0}^{n}(x-x_k)dx$$\n",
        "\n",
        "\n",
        "Finally, the quadrature formula or **Newton-Cotes formula** is given by the next expression:\n",
        "\n",
        "$$\\int_a^b f(x) dx = \\sum \\omega_i\\, f(x_i) + E[f]$$\n",
        "\n",
        "where the estimated error is \n",
        "\n",
        "$$E[f] = \\frac{1}{(n+1)!}\\int_a^bf^{(n+1)}(\\xi(x)) \\prod_{k=0}^{n}(x-x_k)dx $$\n",
        "\n",
        "Asumming besides intervals equally spaced such that $x_i = x_0 + i\\times h$, the error formula becomes:\n",
        "\n",
        "$$E[f] = \\frac{h^{n+3}f^{n+2}(\\xi)}{(n+1)!}\\int_0^nt^2(t-1)\\cdots(t-n) $$\n",
        "\n",
        "if $n$ is even and\n",
        "\n",
        "$$E[f] = \\frac{h^{n+2}f^{n+1}(\\xi)}{(n+1)!}\\int_0^nt(t-1)\\cdots(t-n) $$\n",
        "\n",
        "if $n$ is odd.\n",
        "\n",
        "Below is a simple implementation of the quadrature formula or **Newton-Cotes formula** by using the implementation in `scipy` of the Interpolation polynomial in the Lagrangian form of order $n$ discussed in [Interpolation](./interpolation.ipynb#Implementation-in-Scipy) from  `scipy interpolation`"
      ]
    },
    {
      "metadata": {
        "id": "uXlrPfheNqCM",
        "colab_type": "code",
        "colab": {}
      },
      "cell_type": "code",
      "source": [
        "from scipy import interpolate\n",
        "interpolate.lagrange?"
      ],
      "execution_count": 0,
      "outputs": []
    },
    {
      "metadata": {
        "id": "N-TjG8rwEeIs",
        "colab_type": "code",
        "colab": {}
      },
      "cell_type": "code",
      "source": [
        "def F(f,X):\n",
        "    '''\n",
        "    Antiderivate approximantion with Lagrange Polynomial \n",
        "    '''\n",
        "    from scipy import interpolate    \n",
        "    Y = f( X )\n",
        "    return interpolate.lagrange( X, Y ).integ()"
      ],
      "execution_count": 0,
      "outputs": []
    },
    {
      "metadata": {
        "id": "25AlyuHZNqCO",
        "colab_type": "code",
        "colab": {}
      },
      "cell_type": "code",
      "source": [
        "def Quadrature( f, X, xmin, xmax, ymin, ymax, fig=None, leg=True ):\n",
        "    '''\n",
        "    Implementation of Newton-Cotes formula for A SINGLE INTERVAL\n",
        "    f: Function to integrate in A SINGLE INTERVAL\n",
        "    X: nodes of the Lagrangian interpolation polynomial\n",
        "    xmin,xmax,ymin, ymax: size of the figure\n",
        "    '''\n",
        "    from scipy import interpolate    \n",
        "    Y = f( X )\n",
        "    \n",
        "    #X array\n",
        "    Xarray = np.linspace( xmin, xmax, 1000 )\n",
        "    #X area\n",
        "    Xarea = np.linspace( X[0], X[-1], 1000 )\n",
        "    #F array\n",
        "    Yarray = f( Xarray )\n",
        "    \n",
        "    #Lagrange polynomial\n",
        "    Ln = interpolate.lagrange( X, Y )\n",
        "    #Interpolated array\n",
        "    Parray = Ln( Xarray )\n",
        "    #Interpolated array for area\n",
        "    Parea = Ln( Xarea )\n",
        "    \n",
        "    #Plotting\n",
        "    if fig==None:\n",
        "        fig = plt.figure( figsize = (8,8) )\n",
        "    ax = fig.add_subplot(111)\n",
        "    #Function\n",
        "    ax.plot( Xarray, Yarray, linewidth = 3, color = \"blue\", label=\"$f(x)$\" )\n",
        "    #Points\n",
        "    ax.plot( X, Y, \"o\", color=\"red\", label=\"points\", zorder = 10 )\n",
        "    #Interpolator\n",
        "    ax.plot( Xarray, Parray, linewidth = 2, color = \"black\", label=\"$P_{%d}(x)$\"%(len(X)-1) )\n",
        "    #Area\n",
        "    ax.fill_between( Xarea, Parea, color=\"green\", alpha=0.5 )\n",
        "    \n",
        "    #Format\n",
        "    ax.set_title( \"%d-point Quadrature\"%(len(X)), fontsize=16 )\n",
        "    ax.set_xlim( (xmin, xmax) )\n",
        "    ax.set_ylim( (0, 4) )\n",
        "    ax.set_xlabel( \"$x$\" )\n",
        "    ax.set_ylabel( \"$y$\" )\n",
        "    if leg:\n",
        "        ax.legend( loc=\"upper left\", fontsize=16 )\n",
        "    ax.grid(1)\n",
        "    \n",
        "    return Ln"
      ],
      "execution_count": 0,
      "outputs": []
    },
    {
      "metadata": {
        "id": "P6HKhLRaNqCQ",
        "colab_type": "text"
      },
      "cell_type": "markdown",
      "source": [
        "## Trapezoidal rule\n",
        "Using the previous formula, it is easily to derivate a set of low-order approximations for integration. Asumming a function $f(x)$ and an interval $[x_0,x_1]$, the associated quadrature formula is that obtained from a first-order Lagrange polynomial $P_1(x)$ given by:\n",
        "\n",
        "$$P_1(x) = \\frac{(x-x_1)}{x_0-x_1}f(x_0) + \\frac{(x-x_0)}{(x_1-x_0)}f(x_1)$$\n",
        "\n",
        "Using this, it is readible to obtain the integrate:\n",
        "\n",
        "$$\\int_{x_0}^{x_1}f(x)dx = \\frac{h}{2}[ f(x_0) + f(x_1) ]-\\frac{h^3}{12}f^{''}(\\xi)$$\n",
        "\n",
        "with $\\xi \\in [x_0, x_1]$ and $h = x_1-x_0$."
      ]
    },
    {
      "metadata": {
        "id": "xlXXFKFiNqCQ",
        "colab_type": "text"
      },
      "cell_type": "markdown",
      "source": [
        "### Simple implementation"
      ]
    },
    {
      "metadata": {
        "id": "uUTY7ET6NqCR",
        "colab_type": "code",
        "colab": {
          "base_uri": "https://localhost:8080/",
          "height": 515
        },
        "outputId": "8d5485cf-a4a6-4f37-e099-c0568318ab5c"
      },
      "cell_type": "code",
      "source": [
        "#Function\n",
        "def f(x):\n",
        "    return 1+np.cos(x)**2+x\n",
        "\n",
        "#Quadrature with 2 points (Trapezoidal rule)\n",
        "X = np.array([-0.5,1.5])\n",
        "Ln=Quadrature( f, X, xmin=-1, xmax=2, ymin=0, ymax=4 )"
      ],
      "execution_count": 19,
      "outputs": [
        {
          "output_type": "display_data",
          "data": {
            "image/png": "[encoded data removed]",
            "text/plain": [
              "<matplotlib.figure.Figure at 0x7fdf9cde4eb8>"
            ]
          },
          "metadata": {
            "tags": []
          }
        }
      ]
    },
    {
      "metadata": {
        "id": "Sn-oC_m2NqCU",
        "colab_type": "code",
        "colab": {
          "base_uri": "https://localhost:8080/",
          "height": 34
        },
        "outputId": "ed5a39c9-5e78-4ccb-a590-c814a69409a9"
      },
      "cell_type": "code",
      "source": [
        "integrate.quad(f,X[0],X[-1])"
      ],
      "execution_count": 20,
      "outputs": [
        {
          "output_type": "execute_result",
          "data": {
            "text/plain": [
              "(4.245647748216942, 4.713615884518398e-14)"
            ]
          },
          "metadata": {
            "tags": []
          },
          "execution_count": 20
        }
      ]
    },
    {
      "metadata": {
        "id": "18BSK6gmIR2z",
        "colab_type": "code",
        "colab": {
          "base_uri": "https://localhost:8080/",
          "height": 34
        },
        "outputId": "f7692705-0106-41b6-81b3-0ec75c0cd942"
      },
      "cell_type": "code",
      "source": [
        "F(f,X)(1.5)-F(f,X)(-0.5)"
      ],
      "execution_count": 21,
      "outputs": [
        {
          "output_type": "execute_result",
          "data": {
            "text/plain": [
              "3.775154904633847"
            ]
          },
          "metadata": {
            "tags": []
          },
          "execution_count": 21
        }
      ]
    },
    {
      "metadata": {
        "id": "vj_0mYNkNqCW",
        "colab_type": "code",
        "colab": {
          "base_uri": "https://localhost:8080/",
          "height": 34
        },
        "outputId": "4a2c24d3-40bc-4310-bcde-da47200a000b"
      },
      "cell_type": "code",
      "source": [
        "integrate.quad(Ln,X[0],X[-1])[0]"
      ],
      "execution_count": 22,
      "outputs": [
        {
          "output_type": "execute_result",
          "data": {
            "text/plain": [
              "3.775154904633847"
            ]
          },
          "metadata": {
            "tags": []
          },
          "execution_count": 22
        }
      ]
    },
    {
      "metadata": {
        "id": "POKbvzxDNqCc",
        "colab_type": "text"
      },
      "cell_type": "markdown",
      "source": [
        "### [Scipy implementation](https://docs.scipy.org/doc/scipy/reference/generated/scipy.integrate.trapz.html#r78)"
      ]
    },
    {
      "metadata": {
        "id": "E_CIWH-uNqCc",
        "colab_type": "code",
        "colab": {},
        "collapsed": true
      },
      "cell_type": "code",
      "source": [
        "integrate.trapz?"
      ],
      "execution_count": 0,
      "outputs": []
    },
    {
      "metadata": {
        "id": "m1ajuYEsNqCe",
        "colab_type": "text"
      },
      "cell_type": "markdown",
      "source": [
        "In fact, as expected"
      ]
    },
    {
      "metadata": {
        "id": "Ne1_PodqNqCf",
        "colab_type": "code",
        "colab": {},
        "outputId": "ab00c010-3993-4395-879b-0926a3198e0e"
      },
      "cell_type": "code",
      "source": [
        "Y=f(X)\n",
        "integrate.trapz(Y,X)"
      ],
      "execution_count": 0,
      "outputs": [
        {
          "output_type": "execute_result",
          "data": {
            "text/plain": [
              "3.7751549046338475"
            ]
          },
          "metadata": {
            "tags": []
          },
          "execution_count": 59
        }
      ]
    },
    {
      "metadata": {
        "id": "PPxavHSzNqCk",
        "colab_type": "text"
      },
      "cell_type": "markdown",
      "source": [
        "<img src=\"https://upload.wikimedia.org/wikipedia/commons/thumb/4/42/Composite_trapezoidal_rule_illustration.png/1200px-Composite_trapezoidal_rule_illustration.png\" height=\"400\" width=\"400\">"
      ]
    },
    {
      "metadata": {
        "id": "hEZwaUB3NqCm",
        "colab_type": "text"
      },
      "cell_type": "markdown",
      "source": [
        "For a better approximation we can use more intervals"
      ]
    },
    {
      "metadata": {
        "id": "ccc604ZINqCm",
        "colab_type": "code",
        "colab": {},
        "outputId": "ec373dce-03c5-499e-a727-bdcdd477b3bb"
      },
      "cell_type": "code",
      "source": [
        "x=np.linspace( X[0], X[-1], 1000 )\n",
        "integrate.trapz(f(x),x)"
      ],
      "execution_count": 0,
      "outputs": [
        {
          "output_type": "execute_result",
          "data": {
            "text/plain": [
              "4.2456474200304779"
            ]
          },
          "metadata": {
            "tags": []
          },
          "execution_count": 75
        }
      ]
    },
    {
      "metadata": {
        "id": "vmoRotdBNqCp",
        "colab_type": "text"
      },
      "cell_type": "markdown",
      "source": [
        "## Simpson's rule"
      ]
    },
    {
      "metadata": {
        "id": "M2atvwDHNqCp",
        "colab_type": "text"
      },
      "cell_type": "markdown",
      "source": [
        "A slightly better approximation to integration is the Simpson's rule. For this, assume a function $f(x)$ and an interval $[x_0,x_2]$, with a intermediate point $x_1$. The associate second-order Lagrange polynomial is given by: See previous [exercise](./interpolation.ipynb#Exercise-interpolation)\n",
        "\n",
        "$$P_2(x) = \\frac{(x-x_1)(x-x_2)}{(x_0-x_1)(x_0-x_2)}f(x_0) + \\frac{(x-x_0)(x-x_2)}{(x_1-x_0)(x_1-x_2)}f(x_1) + \\frac{(x-x_0)(x-x_1)}{(x_2-x_0)(x_2-x_1)}f(x_2)$$\n",
        "\n",
        "The final expression is then:\n",
        "\n",
        "$$\\int_{x_0}^{x_2} f(x)dx = \\frac{h}{3}[ f(x_0)+4f(x_1)+f(x_2) ]-\\frac{h^5}{90}f^{(4)}(\\xi)$$\n"
      ]
    },
    {
      "metadata": {
        "id": "kJpW2ZRDNqCq",
        "colab_type": "code",
        "colab": {},
        "outputId": "1f6c188b-647b-457e-d1db-7b08a8b116ef"
      },
      "cell_type": "code",
      "source": [
        "#Function\n",
        "def f(x):\n",
        "    return 1+np.cos(x)**2+x\n",
        "\n",
        "#Quadrature with 3 points (Simpson's rule)\n",
        "X = np.array([-0.5,0.5,1.5])\n",
        "Ln=Quadrature( f, X, xmin=-1, xmax=2, ymin=0, ymax=4 )"
      ],
      "execution_count": 0,
      "outputs": [
        {
          "output_type": "execute_result",
          "data": {
            "text/plain": [
              "poly1d([-0.3825737 ,  1.        ,  1.86579458])"
            ]
          },
          "metadata": {
            "tags": []
          },
          "execution_count": 106
        },
        {
          "output_type": "display_data",
          "data": {
            "image/png": "[encoded data removed]",
            "text/plain": [
              "<matplotlib.figure.Figure at 0x7f4ad18e4f50>"
            ]
          },
          "metadata": {
            "tags": []
          }
        }
      ]
    },
    {
      "metadata": {
        "id": "ShGzNrk3NqCt",
        "colab_type": "code",
        "colab": {},
        "outputId": "6d30fa7c-7c2b-4434-9f30-f6c6f25e6f17"
      },
      "cell_type": "code",
      "source": [
        "integrate.quad(f,X[0],X[-1])[0]"
      ],
      "execution_count": 0,
      "outputs": [
        {
          "output_type": "execute_result",
          "data": {
            "text/plain": [
              "4.245647748216942"
            ]
          },
          "metadata": {
            "tags": []
          },
          "execution_count": 71
        }
      ]
    },
    {
      "metadata": {
        "id": "xL68n4y0NqCw",
        "colab_type": "code",
        "colab": {},
        "outputId": "2bcc2982-0dc5-40a7-e701-0e25b054adf3"
      },
      "cell_type": "code",
      "source": [
        "integrate.quad(Ln,X[0],X[-1])[0]"
      ],
      "execution_count": 0,
      "outputs": [
        {
          "output_type": "execute_result",
          "data": {
            "text/plain": [
              "4.285253172123376"
            ]
          },
          "metadata": {
            "tags": []
          },
          "execution_count": 77
        }
      ]
    },
    {
      "metadata": {
        "id": "D0RkZ1VQNqCz",
        "colab_type": "text"
      },
      "cell_type": "markdown",
      "source": [
        "### Scipy implementation\n",
        "Improves with number of points:\n",
        "![Simpons](https://upload.wikimedia.org/wikipedia/en/thumb/6/67/Simpsonsrule2.gif/220px-Simpsonsrule2.gif)"
      ]
    },
    {
      "metadata": {
        "id": "QRHBz0LrNqCz",
        "colab_type": "code",
        "colab": {},
        "collapsed": true
      },
      "cell_type": "code",
      "source": [
        "integrate.simps?"
      ],
      "execution_count": 0,
      "outputs": []
    },
    {
      "metadata": {
        "id": "WcNu2wTRNqC1",
        "colab_type": "code",
        "colab": {},
        "outputId": "3692576f-d49f-47b1-8346-f5c43f76711f"
      },
      "cell_type": "code",
      "source": [
        "integrate.simps(Ln(X),X)"
      ],
      "execution_count": 0,
      "outputs": [
        {
          "output_type": "execute_result",
          "data": {
            "text/plain": [
              "4.285253172123376"
            ]
          },
          "metadata": {
            "tags": []
          },
          "execution_count": 78
        }
      ]
    },
    {
      "metadata": {
        "id": "61hB8dlxNqC5",
        "colab_type": "code",
        "colab": {},
        "outputId": "70c45ed3-48e3-4c9a-f5c0-82b7b608dce5"
      },
      "cell_type": "code",
      "source": [
        "x=np.linspace( X[0], X[-1], 100000 )\n",
        "integrate.trapz(f(x),x),integrate.simps(f(x),x)"
      ],
      "execution_count": 0,
      "outputs": [
        {
          "output_type": "execute_result",
          "data": {
            "text/plain": [
              "(4.2456477481841874, 4.2456477482169408)"
            ]
          },
          "metadata": {
            "tags": []
          },
          "execution_count": 91
        }
      ]
    },
    {
      "metadata": {
        "id": "3U4m6PAPNqC7",
        "colab_type": "code",
        "colab": {},
        "outputId": "00a2cc04-523c-4c8c-8b90-c26b950b0f80"
      },
      "cell_type": "code",
      "source": [
        "4.245647748216942"
      ],
      "execution_count": 0,
      "outputs": [
        {
          "output_type": "execute_result",
          "data": {
            "text/plain": [
              "4.245647748216942"
            ]
          },
          "metadata": {
            "tags": []
          },
          "execution_count": 89
        }
      ]
    },
    {
      "metadata": {
        "id": "Nq79_s77NqC9",
        "colab_type": "text"
      },
      "cell_type": "markdown",
      "source": [
        "## <font color='red'>     **Activity** </font>"
      ]
    },
    {
      "metadata": {
        "id": "qYLPD5pDNqC9",
        "colab_type": "text"
      },
      "cell_type": "markdown",
      "source": [
        "<font color='red'>   \n",
        "- Using the trapezoidal and the Simpson's rules, determine the value of the integral (4.24565)\n",
        "\n",
        "$$ \\int_{-0.5}^{1.5}(1+\\cos^2x + x)dx $$\n",
        "\n",
        "- Take the previous routine Quadrature and the above function and explore high-order quadratures. What happends when you increase  the number of points?"
      ]
    },
    {
      "metadata": {
        "id": "nVo-22H2NqC-",
        "colab_type": "text"
      },
      "cell_type": "markdown",
      "source": [
        "N=20\n",
        "def f(x):\n",
        "    return 1+np.cos(x)**2+x\n",
        "\n",
        "#Quadrature with N points (Simpson's rule)\n",
        "X = np.array(np.linspace(-0.5,1.5,N))\n",
        "Ln=Quadrature( f, X, xmin=-1, xmax=2, ymin=0, ymax=4 )\n",
        "integrate.simps(Ln(X),X)\n",
        "print(poly1d(Ln))"
      ]
    },
    {
      "metadata": {
        "id": "C-gd__P7NqC-",
        "colab_type": "text"
      },
      "cell_type": "markdown",
      "source": [
        "## <font color='red'>     **Activity** </font>"
      ]
    },
    {
      "metadata": {
        "id": "SdYG-de9NqC-",
        "colab_type": "text"
      },
      "cell_type": "markdown",
      "source": [
        "<font color='red'>  \n",
        "\n",
        "Approximate the following integrals using formulas Trapezoidal and Simpson rules. Are the accuracies of\n",
        "the approximations consistent with the error formulas? \n",
        "\n",
        "\\begin{eqnarray*}\n",
        "&\\int_{0}^{0.1}&\\sqrt{1+ x}dx \\\\\n",
        "&\\int_{0}^{\\pi/2}&(\\sin x)^2dx\\\\ \n",
        "&\\int_{1.1}^{1.5}&e^xdx \n",
        "\\end{eqnarray*}"
      ]
    },
    {
      "metadata": {
        "id": "2x8B12tNNqC_",
        "colab_type": "text"
      },
      "cell_type": "markdown",
      "source": [
        "# Composite Numerical Integration"
      ]
    },
    {
      "metadata": {
        "id": "6lGCZID2NqDA",
        "colab_type": "text"
      },
      "cell_type": "markdown",
      "source": [
        "Although above-described methods are good enough when we want to integrate along small intervals, larger intervals would require more sampling points, where the resulting Lagrange interpolant will be a high-order polynomial. These interpolant polynomials exihibit usually an oscillatory behaviour (best known as [Runge's phenomenon](http://en.wikipedia.org/wiki/Runge%27s_phenomenon)), being more inaccurate as we increase $n$.\n",
        "\n",
        "An elegant and computationally inexpensive solution to this problem is a *piecewise* approach, where low-order Newton-Cotes formula (like trapezoidal and Simpson's rules) are applied over subdivided intervals. This methods are already implemented in the previous `scipy` trapezoidal and Simpsons implementations. An internal implementation is given in the [Appendix of integration](./Appendix.ipynb#composite-numerical integration), the _Composite Trapezoidal rule_ given by:\n",
        "\n",
        "$$ \\int_a^b f(x) dx = \\frac{h}{2}\\left[ f(a) + 2\\sum_{j=1}^{N-1}f(x_j) + f(b) \\right] - \\frac{b-a}{12}h^2 f^{''}(\\mu)$$\n",
        "\n",
        "and the _Composite Simpson's rule_ given by\n",
        "\n",
        "$$ \\int_a^bf(x)dx = \\frac{h}{3}\\left[ f(a) +2 \\sum_{j=1}^{(n/2)-1}f(x_{2j})+4\\sum_{j=1}^{n/2}f(x_{2j-1})+f(b) \\right] - \\frac{b-a}{180}h^4f^{(4)}(\\mu)$$"
      ]
    },
    {
      "metadata": {
        "id": "rdJ_FdTLNqDA",
        "colab_type": "text"
      },
      "cell_type": "markdown",
      "source": [
        "## Composite trapezoidal rule"
      ]
    },
    {
      "metadata": {
        "id": "7ASs3TVKNqDA",
        "colab_type": "text"
      },
      "cell_type": "markdown",
      "source": [
        "This formula is obtained when we subdivide the integration interval $[a,b]$ within sets of two points, such that we can apply the previous Trapezoidal rule to each one.\n",
        "\n",
        "Let $f(x)$ be a well behaved function ($f\\in C^2[a,b]$), defining the interval space as $h = (b-a)/N$, where N is the number of intervals we take, the **Composite Trapezoidal rule** is given by:\n",
        "\n",
        "$$ \\int_a^b f(x) dx = \\frac{h}{2}\\left[ f(a) + 2\\sum_{j=1}^{N-1}f(x_j) + f(b) \\right] - \\frac{b-a}{12}h^2 f^{''}(\\mu)$$\n",
        "\n",
        "for some value $\\mu$ in $(a,b)$."
      ]
    },
    {
      "metadata": {
        "id": "16ng2p3SNqDA",
        "colab_type": "text"
      },
      "cell_type": "markdown",
      "source": [
        "## <font color='red'>     **Activity** </font>"
      ]
    },
    {
      "metadata": {
        "id": "tx-M5mBtNqDB",
        "colab_type": "text"
      },
      "cell_type": "markdown",
      "source": [
        "<font color='red'>   \n",
        "Determine the value of the integral (4.24565)\n",
        "\n",
        "$$ \\int_{-0.5}^{1.5}(1+\\cos^2x + x)dx $$\n",
        "\n",
        "</font>"
      ]
    },
    {
      "metadata": {
        "id": "TsJmGT2jNqDD",
        "colab_type": "text"
      },
      "cell_type": "markdown",
      "source": [
        "## <font color='red'>     **Activity** </font>"
      ]
    },
    {
      "metadata": {
        "id": "YmMbbRZ8NqDE",
        "colab_type": "text"
      },
      "cell_type": "markdown",
      "source": [
        "<font color='red'>    \n",
        "\n",
        "An experiment has measured $dN(t)/dt$, the number of particles entering a counter, per unit time, as a function of time. Your problem is to integrate this spectrum to obtain the number of particles $N(1)$ that entered the counter\n",
        "in the first second\n",
        "\n",
        "$$ N(1) = \\int_0^1 \\frac{dN}{dt} dt$$\n",
        "\n",
        "For the problem it is assumed exponential decay so that there actually is an analytic answer. \n",
        "\n",
        "$$ \\frac{dN}{dt} = e^{-t} $$\n",
        "\n",
        "Compare the relative error for the composite trapezoid and Simpson rules. Try different values of N. Make a logarithmic plot of N vs Error."
      ]
    },
    {
      "metadata": {
        "id": "_iug5YDlNqDF",
        "colab_type": "text"
      },
      "cell_type": "markdown",
      "source": [
        "- - -"
      ]
    },
    {
      "metadata": {
        "id": "cQ6TA0ngNqDF",
        "colab_type": "text"
      },
      "cell_type": "markdown",
      "source": [
        "# Adaptive Quadrature Methods"
      ]
    },
    {
      "metadata": {
        "id": "MQKZXztuNqDG",
        "colab_type": "text"
      },
      "cell_type": "markdown",
      "source": [
        "Calculating the integrate of the function $f(x) = e^{-3x}\\sin(4x)$ within the interval $[0,4]$, we obtain:"
      ]
    },
    {
      "metadata": {
        "id": "nIRAACLRNqDG",
        "colab_type": "code",
        "colab": {},
        "outputId": "ad23ed9b-64ee-41a6-c440-bb77fef1faca"
      },
      "cell_type": "code",
      "source": [
        "#Function\n",
        "def f(x):\n",
        "    return np.exp(-3*x)*np.sin(4*x)\n",
        "\n",
        "#Plotting\n",
        "X = np.linspace( 0, 4, 200 )\n",
        "Y = f(X)\n",
        "plt.figure( figsize=(14,7) )\n",
        "plt.plot( X, Y, color=\"blue\", lw=3 )\n",
        "plt.fill_between( X, Y, color=\"blue\", alpha=0.5 )\n",
        "plt.xlim( 0,4 )\n",
        "plt.grid()"
      ],
      "execution_count": 0,
      "outputs": [
        {
          "output_type": "display_data",
          "data": {
            "image/png": "[encoded data removed]",
            "text/plain": [
              "<matplotlib.figure.Figure at 0x7f7dfe96f3d0>"
            ]
          },
          "metadata": {
            "tags": []
          }
        }
      ]
    },
    {
      "metadata": {
        "id": "O3RYTGfINqDK",
        "colab_type": "text"
      },
      "cell_type": "markdown",
      "source": [
        "Using composite numerical integration is not completely adequate for this problem as the function exhibits different behaviours for differente intervals. For the interval $[0,2]$ the function varies noticeably, requiring a rather small integration interval $h$. However, for the interval $[2,4]$ variations are not considerable and low-order composite integration is enough. This lays a pathological situation where simple composite methods are not efficient. In order to remedy this, we introduce an adaptive quadrature methods, where the integration step $h$ can vary according to the interval. The main advantage of this is a controlable precision of the result."
      ]
    },
    {
      "metadata": {
        "id": "CfQrHtfMNqDL",
        "colab_type": "text"
      },
      "cell_type": "markdown",
      "source": [
        "## Simpson's adaptive quadrature"
      ]
    },
    {
      "metadata": {
        "id": "U8iR3lSRNqDL",
        "colab_type": "text"
      },
      "cell_type": "markdown",
      "source": [
        "Although adaptive quadrature can be readily applied to any quadrature method, we illustrate the method with  the Simpson's adaptive quadrature.\n",
        "\n",
        "Let's assume a function $f(x)$. We want to compute the integral within the interval $[a,b]$. Using a simple Simpson's quadrature, we obtain:\n",
        "\n",
        "$$\\int_a^bf(x)dx = S(a,b) - \\frac{h^5}{90}f^{(4)}(\\xi)$$\n",
        "\n",
        "where we introduce the notation:\n",
        "\n",
        "$$S(a,b) = \\frac{h}{3}\\left[ f(a) + 4f(a+h) + f(b) \\right]$$\n",
        "\n",
        "and $h$ is simply $h = (b-a)/2$.\n",
        "\n",
        "![](https://raw.githubusercontent.com/sbustamante/ComputationalMethods/bb0f137366b3d2bbfdd33425ad78be4003716703/material/figures/adaptive_quadrature.png)\n",
        "\n",
        "Now, instead of using an unique Simpson's quadrature, we implement two, by adding a new point in the midle of the interval $[a,b]$, $(a+b)/2$, yielding:\n",
        "\n",
        "$$\\int_a^bf(x)dx = S\\left(a,\\frac{a+b}{2}\\right) + S\\left(\\frac{a+b}{2},b\\right) - \\frac{1}{16}\\left(\\frac{h^5}{90}\\right)f^{(4)}(\\xi)$$\n",
        "\n",
        "For this expression, we reasonably assume an equal fourth-order derivative $f^{(4)}(\\xi) = f^{(4)}(\\xi_1) = f^{(4)}(\\xi_2) $, where $\\xi_1$ is the estimative for the first subtinterval (i.e. $\\xi_1\\in[a,(a+b)/2]$), and $\\xi_2$ for the second one (i.e. $\\xi_1\\in[(a+b)/2, b]$).\n",
        "\n",
        "As both expressions can approximate the real value of the integrate, we can equal them, obtaining:\n",
        "\n",
        "$$\n",
        "\\int_a^bf(x)dx \\begin{cases} \\sim S(a,b) - \\frac{h^5}{90}f^{(4)}(\\xi)\\\\ \n",
        "\\approx S\\left(a,\\frac{a+b}{2}\\right) + S\\left(\\frac{a+b}{2},b\\right) - \\frac{1}{16}\\left(\\frac{h^5}{90}\\right)f^{(4)}(\\xi)\\\\\n",
        "\\end{cases}\n",
        "$$\n",
        "\n",
        "which leads us to a simple way to estimate the error without knowing the fourth-order derivative, i.e.\n",
        "\n",
        "$$\\frac{h^5}{90}f^{(4)}(\\xi) = \\frac{16}{15}\\left| S(a,b) - S\\left(a,\\frac{a+b}{2}\\right) - S\\left(\\frac{a+b}{2},b\\right) \\right|$$\n",
        "\n",
        "If we fix a precision $\\epsilon$, such that the obtained error for the second iteration is smaller\n",
        "\n",
        "$$\\frac{1}{16}\\frac{h^5}{90}f^{(4)}(\\xi) < \\epsilon $$\n",
        "\n",
        "it implies:\n",
        "\n",
        "$$\\left| S(a,b) - S\\left(a,\\frac{a+b}{2}\\right) - S\\left(\\frac{a+b}{2},b\\right) \\right|< 15 \\epsilon$$\n",
        "\n",
        "and \n",
        "\n",
        "$$\\left| \\int_a^bf(x) dx- S\\left(a,\\frac{a+b}{2}\\right) - S\\left(\\frac{a+b}{2},b\\right) \\right|< \\epsilon$$\n",
        "\n",
        "The second iteration is then $15$ times more precise than the first one."
      ]
    },
    {
      "metadata": {
        "id": "Co2yzdQtNqDM",
        "colab_type": "text"
      },
      "cell_type": "markdown",
      "source": [
        "## Steps Simpson's adaptive quadrature"
      ]
    },
    {
      "metadata": {
        "id": "toa3EnQkNqDM",
        "colab_type": "text"
      },
      "cell_type": "markdown",
      "source": [
        "**1.** Give the function $f(x)$ to be integrated, the inverval $[a,b]$ and set a desired precision $\\epsilon$.\n",
        "\n",
        "**2.** Compute the next Simpsons's quadratures:\n",
        "\n",
        "$$ S(a,b),\\ S\\left(a,\\frac{a+b}{2}\\right),\\ S\\left(\\frac{a+b}{2},b\\right) $$\n",
        "\n",
        "**3.** If \n",
        "\n",
        "$$\\frac{1}{15}\\left| S(a,b) - S\\left(a,\\frac{a+b}{2}\\right) - S\\left(\\frac{a+b}{2},b\\right) \\right|<\\epsilon$$\n",
        "\n",
        "then the integration is ready and is given by:\n",
        "\n",
        "$$\\int_a^bf(x) dx \\approx S\\left(a,\\frac{a+b}{2}\\right) + S\\left(\\frac{a+b}{2},b\\right) $$\n",
        "\n",
        "within the given precision.\n",
        "\n",
        "**4.** If the previous step is not fulfilled, repeat from step **2** using as new intervals $[a,(a+b)/2]$ and $[(a+b)/2,b]$ and a new precision $\\epsilon_1 = \\epsilon/2$. Repeating until step 3 is fulfilled for all the subintervals."
      ]
    },
    {
      "metadata": {
        "id": "dfuROJT4NqDN",
        "colab_type": "text"
      },
      "cell_type": "markdown",
      "source": [
        "## <font color='red'>     **Activity** </font>"
      ]
    },
    {
      "metadata": {
        "id": "BGIY__rjNqDO",
        "colab_type": "text"
      },
      "cell_type": "markdown",
      "source": [
        "###Models of Universe\n",
        "\n",
        "From the Friedmann equations can be found the dynamics of the Universe, i.e., the evolution of the expansion with time that depends on the content of matter and energy of the Universe. Before introducing the general expression, there are several quatities that need to be defined. \n",
        "\n",
        "It is convenient to express the density in terms of a critical density $\\rho_c$ given by\n",
        "\n",
        "\\begin{equation}\n",
        "\\rho_c = 3H_0^2/8\\pi G\n",
        "\\end{equation}\n",
        "\n",
        "where $H_o$ is the Hubble constant. The critical density is the density needed in order the Universe to be flat. To obtained it, it is neccesary to make the curvature of the universe $\\kappa = 0$. The critical density is one value per\n",
        "time and the geometry of the universe depends on this value, or equally on $\\kappa$. For a universe with $\\kappa<0$ it would ocurre a big crunch(closed universe) and for a $\\kappa>0$ there would be an open universe.    \n",
        "\n",
        "Now, it can also be defined a density parameter, $\\Omega$, a normalized density\n",
        "\n",
        "\\begin{equation}\n",
        "\\Omega_{i,0} = \\rho_{i,0}/\\rho_{crit}\n",
        "\\end{equation}\n",
        "\n",
        "where $\\rho_{i,0}$ is the actual density($z=0$) for the component $i$. Then, it can be found the next expression \n",
        "\n",
        "\\begin{equation}\n",
        "\\frac{H^2(t)}{H_{0}^{2}} = (1-\\Omega_0)(1+z)^2 + \\Omega_{m,0}(1+z^3)+ \\Omega_{r,0}(1+z)^4 + \\Omega_{\\Lambda,0}\n",
        "\\end{equation}\n",
        "\n",
        "where $\\Omega_{m,0}$, $\\Omega_{r,0}$ and  $\\Omega_{\\Lambda,0}$ are the matter, radiation and vacuum density parameters. And $\\Omega_0$ is the total density including the vacuum energy. \n",
        "\n",
        "This expression can also be written in terms of the expansion or scale factor, $a$, by using: \n",
        "\n",
        "$$1+z = 1/a$$\n",
        "\n",
        "For the next universe models, plot time($H_{0}^{-1}$ units) vs the scale factor:\n",
        "\n",
        "-Einstein-de Sitter Universe: Flat space, null vacuum energy and dominated by matter\n",
        "\n",
        "\\begin{equation}\n",
        "t = H_0^{-1} \\int_0^{a'} a^{1/2}da\n",
        "\\end{equation}\n",
        " \n",
        "-Radiation dominated universe: All other components are not contributing \n",
        "\n",
        "$$\n",
        "t = H_0^{-1} \\int_0^{a'} \\frac{a}{[\\Omega_{r,0}+a^2(1-\\Omega_{r,0})]^{1/2}}da\n",
        "$$\n",
        "\n",
        "-WMAP9 Universe \n",
        "\n",
        "\\begin{equation}\n",
        "t = H_0^{-1} \\int_0^{a'} \\left[(1-\\Omega_{0})+ \\Omega_{M,0}a^{-1} + \\Omega_{R,0}a^{-2} +\\Omega_{\\Lambda,0}a^2\\right]^{-1/2} da\n",
        "\\end{equation}\n",
        "\n",
        "\n",
        "You can take the cosmological parameters  from the link \n",
        "\n",
        "http://lambda.gsfc.nasa.gov/product/map/dr5/params/lcdm_wmap9.cfm or use these ones: $\\Omega_M = 0.266$,\n",
        "$\\Omega_R = 8.24\\times 10^{-5}$ and $\\Omega_\\Lambda = 0.734$. \n",
        "\n",
        "Use composite Simpson's rule to integrate and compare it with the analytical expression in case you can get it. \n",
        "The superior limit in the integral corresponds to the actual redshift $z=0$. What is happening to our universe? \n"
      ]
    },
    {
      "metadata": {
        "id": "8Tfb7sjlNqDO",
        "colab_type": "text"
      },
      "cell_type": "markdown",
      "source": [
        "## <font color='red'>     **Activity** </font>"
      ]
    },
    {
      "metadata": {
        "id": "58xE-fjlNqDP",
        "colab_type": "text"
      },
      "cell_type": "markdown",
      "source": [
        "<font color='red'>   \n",
        "- Using the Simpson's adaptive quadrature determine the value of the next integral with a precision of float32.\n",
        "\n",
        "$$\\int_0^4 e^{-3x}\\sin(4x)dx$$\n"
      ]
    },
    {
      "metadata": {
        "id": "WnB5oHgANqDQ",
        "colab_type": "text"
      },
      "cell_type": "markdown",
      "source": [
        "## <font color='red'>     **Activity** </font>"
      ]
    },
    {
      "metadata": {
        "id": "yfcVODGrNqDR",
        "colab_type": "text"
      },
      "cell_type": "markdown",
      "source": [
        "<font color='red'>   \n",
        "Fresnel integrals are commonly used in the study of light difraction at a rectangular aperture, they are given by:\n",
        "\n",
        "$$c(t) = \\int_0^t\\cos\\left(\\frac{\\pi}{2}\\omega^2\\right)d\\omega$$\n",
        "\n",
        "$$s(t) = \\int_0^t\\sin\\left(\\frac{\\pi}{2}\\omega^2\\right)d\\omega$$\n",
        "\n",
        "These integrals cannot be solved using analitical methods. Using the previous routine for adaptive quadrature, compute the integrals with a precision of $\\epsilon=10^{-4}$ for values of $t=0.1,0.2,0.3,\\cdots 1.0$. Create two arrays with those values and then make a plot of $c(t)$ vs $s(t)$. The resulting figure is called Euler spiral, that is a member of a family of curves called [Clothoid loops](http://en.wikipedia.org/wiki/Vertical_loop).\n"
      ]
    },
    {
      "metadata": {
        "id": "LirhRnJ7NqDR",
        "colab_type": "text"
      },
      "cell_type": "markdown",
      "source": [
        "- - -"
      ]
    },
    {
      "metadata": {
        "id": "pN0iZoKcNqDR",
        "colab_type": "text"
      },
      "cell_type": "markdown",
      "source": [
        "# Improper Integrals"
      ]
    },
    {
      "metadata": {
        "id": "kyp4_csdNqDR",
        "colab_type": "text"
      },
      "cell_type": "markdown",
      "source": [
        "Improper integral can be processed with the `quad` function of `scipy.integrate`, or other integration functions, by using the infinity implementation of `numpy`, (which is the same of the `math` module, see below)\n",
        "* Positive infinity: `np.inf` and several aliases\n",
        "* Negagite infinity: `np.NINF`\n",
        "For details of the implementation and the aliases [see here](https://stackoverflow.com/a/42315752/2268280)"
      ]
    },
    {
      "metadata": {
        "id": "ND0HYGBANqDU",
        "colab_type": "code",
        "colab": {}
      },
      "cell_type": "code",
      "source": [
        "import numpy as np"
      ],
      "execution_count": 0,
      "outputs": []
    },
    {
      "metadata": {
        "id": "zYuf6J3aNqDV",
        "colab_type": "code",
        "colab": {},
        "outputId": "af81ee57-2d6c-43bd-ce72-b37039e86cd2"
      },
      "cell_type": "code",
      "source": [
        "float('inf')"
      ],
      "execution_count": 0,
      "outputs": [
        {
          "output_type": "execute_result",
          "data": {
            "text/plain": [
              "inf"
            ]
          },
          "metadata": {
            "tags": []
          },
          "execution_count": 134
        }
      ]
    },
    {
      "metadata": {
        "id": "M7OVF1U-NqDW",
        "colab_type": "code",
        "colab": {},
        "outputId": "cc503b5f-19e5-4dc3-8d05-4101d368ae3c"
      },
      "cell_type": "code",
      "source": [
        "np.inf == float('inf')"
      ],
      "execution_count": 0,
      "outputs": [
        {
          "output_type": "execute_result",
          "data": {
            "text/plain": [
              "True"
            ]
          },
          "metadata": {
            "tags": []
          },
          "execution_count": 135
        }
      ]
    },
    {
      "metadata": {
        "id": "4T0-cBwtNqDZ",
        "colab_type": "text"
      },
      "cell_type": "markdown",
      "source": [
        "There are also function to check for infinity numbers:"
      ]
    },
    {
      "metadata": {
        "id": "ggjH-deeNqDZ",
        "colab_type": "code",
        "colab": {},
        "outputId": "d920b02e-3dde-4841-908e-5123a947d3da"
      },
      "cell_type": "code",
      "source": [
        "np.isfinite(2)"
      ],
      "execution_count": 0,
      "outputs": [
        {
          "output_type": "execute_result",
          "data": {
            "text/plain": [
              "True"
            ]
          },
          "metadata": {
            "tags": []
          },
          "execution_count": 97
        }
      ]
    },
    {
      "metadata": {
        "id": "2nKaNccdNqDb",
        "colab_type": "code",
        "colab": {},
        "outputId": "ad9fe87f-9bdf-44bb-eb4c-dc509d396648"
      },
      "cell_type": "code",
      "source": [
        "np.isfinite(np.inf)"
      ],
      "execution_count": 0,
      "outputs": [
        {
          "output_type": "execute_result",
          "data": {
            "text/plain": [
              "False"
            ]
          },
          "metadata": {
            "tags": []
          },
          "execution_count": 96
        }
      ]
    },
    {
      "metadata": {
        "id": "4ZYOQ1RaNqDc",
        "colab_type": "code",
        "colab": {},
        "outputId": "f8064a27-4d60-48ad-d692-9ec31d6d63db"
      },
      "cell_type": "code",
      "source": [
        "np.isfinite(2),np.isinf(np.inf)"
      ],
      "execution_count": 0,
      "outputs": [
        {
          "output_type": "execute_result",
          "data": {
            "text/plain": [
              "(True, True)"
            ]
          },
          "metadata": {
            "tags": []
          },
          "execution_count": 142
        }
      ]
    },
    {
      "metadata": {
        "id": "KLV3kW6bNqDe",
        "colab_type": "text"
      },
      "cell_type": "markdown",
      "source": [
        "So it is possible to evaluate improper integrals like\n",
        "\n",
        "$$\n",
        "\\int_1^\\infty x^{-2}\\,\\operatorname{d}x=1\\,.\n",
        "$$"
      ]
    },
    {
      "metadata": {
        "id": "-t0_gw-xNqDf",
        "colab_type": "code",
        "colab": {},
        "outputId": "0f52c1f4-e869-455a-c55e-82a83c7986b1"
      },
      "cell_type": "code",
      "source": [
        "integrate.quad(lambda x: 1/x**2,1,np.inf)"
      ],
      "execution_count": 0,
      "outputs": [
        {
          "output_type": "execute_result",
          "data": {
            "text/plain": [
              "(1.0, 1.1102230246251565e-14)"
            ]
          },
          "metadata": {
            "tags": []
          },
          "execution_count": 102
        }
      ]
    },
    {
      "metadata": {
        "id": "iTeYMq0sNqDf",
        "colab_type": "text"
      },
      "cell_type": "markdown",
      "source": [
        "or\n",
        "$$\n",
        "\\int_{-\\infty}^\\infty \\operatorname{e}^{x^{-2}}\\,\\operatorname{d}x=\\sqrt{\\pi},.\n",
        "$$"
      ]
    },
    {
      "metadata": {
        "id": "JxumWQPFNqDg",
        "colab_type": "code",
        "colab": {},
        "outputId": "2fefd3b7-f62c-4a10-b435-22180a15399e"
      },
      "cell_type": "code",
      "source": [
        "integrate.quad(lambda x: np.exp(-x**2),np.NINF,np.inf)"
      ],
      "execution_count": 0,
      "outputs": [
        {
          "output_type": "execute_result",
          "data": {
            "text/plain": [
              "(1.7724538509055159, 1.4202636780944923e-08)"
            ]
          },
          "metadata": {
            "tags": []
          },
          "execution_count": 104
        }
      ]
    },
    {
      "metadata": {
        "id": "O5MUevPeNqDi",
        "colab_type": "code",
        "colab": {},
        "outputId": "457b48c5-5113-4613-a34e-f3d251430671"
      },
      "cell_type": "code",
      "source": [
        "np.sqrt(np.pi)"
      ],
      "execution_count": 0,
      "outputs": [
        {
          "output_type": "execute_result",
          "data": {
            "text/plain": [
              "1.7724538509055159"
            ]
          },
          "metadata": {
            "tags": []
          },
          "execution_count": 105
        }
      ]
    },
    {
      "metadata": {
        "id": "gGML_LZfNqDi",
        "colab_type": "code",
        "colab": {},
        "outputId": "4976a724-3823-4328-9979-0e881db7bf15"
      },
      "cell_type": "code",
      "source": [
        "np.sqrt(np.pi)/2."
      ],
      "execution_count": 0,
      "outputs": [
        {
          "output_type": "execute_result",
          "data": {
            "text/plain": [
              "0.88622692545275794"
            ]
          },
          "metadata": {
            "tags": []
          },
          "execution_count": 143
        }
      ]
    },
    {
      "metadata": {
        "id": "7hU5Zi5ANqDm",
        "colab_type": "code",
        "colab": {},
        "outputId": "9f8dcbec-8814-4f93-d60c-0f4975ef1b1a"
      },
      "cell_type": "code",
      "source": [
        "integrate.quad(lambda x: np.exp(-x**2),0,np.inf)"
      ],
      "execution_count": 0,
      "outputs": [
        {
          "output_type": "execute_result",
          "data": {
            "text/plain": [
              "(0.8862269254527579, 7.101318390472462e-09)"
            ]
          },
          "metadata": {
            "tags": []
          },
          "execution_count": 144
        }
      ]
    },
    {
      "metadata": {
        "id": "IjpV9LIcNqDo",
        "colab_type": "text"
      },
      "cell_type": "markdown",
      "source": [
        "Although the previous integration methods can be applied in almost every situation, improper integrals pose a challenger to numerical methods as they involve indeterminations and infinite intervals. Next, we shall cover some tricks to rewrite improper integrals in terms of simple ones. See for example [here](https://stackoverflow.com/q/30769913/2268280)"
      ]
    },
    {
      "metadata": {
        "id": "T6-r8HdQNqDo",
        "colab_type": "text"
      },
      "cell_type": "markdown",
      "source": [
        "## Left endpoint singularity"
      ]
    },
    {
      "metadata": {
        "id": "PtejOkxmNqDo",
        "colab_type": "text"
      },
      "cell_type": "markdown",
      "source": [
        "Assuming a function $f(x)$ such that it can be rewritten as\n",
        "\n",
        "$$ f(x) = \\frac{g(x)}{(x-a)^p} $$\n",
        "\n",
        "the integral over an interval $[a,b]$ converges only and only if $0<p<1$.\n",
        "\n",
        "Using Simpson's composite rule, it is possible to compute the fourth-order Taylor polynomial of the function $g(x)$ at the point $a$, obtaining\n",
        "\n",
        "$$ P_4(x) = g(a) + g^{'}(a)(x-a)+\\frac{g^{''}(a)}{2!}(x-a)^2 +\\frac{g^{''}(a)}{3!}(x-a)^3+ \\frac{g^{(4)}(a)}{4!}(x-a)^4$$\n",
        "\n",
        "The integral can be then calculated as\n",
        "\n",
        "$$\\int_a^b f(x)dx = \\int_a^b\\frac{g(x)-P_4(x)}{(x-a)^p}dx + \\int_a^b\\frac{P_4(x)}{(x-a)^p}dx$$\n",
        "\n",
        "The second term is an integral of a polynimal, which can be easily integrated using analytical methods.\n",
        "\n",
        "The first term is no longer pathologic as there is not any indetermination, and it can be determined using composite Simpson's rule"
      ]
    },
    {
      "metadata": {
        "id": "HXbwiVHvNqDo",
        "colab_type": "text"
      },
      "cell_type": "markdown",
      "source": [
        "## Right endpoint singularity"
      ]
    },
    {
      "metadata": {
        "id": "ib0CRK_qNqDp",
        "colab_type": "text"
      },
      "cell_type": "markdown",
      "source": [
        "This is the contrary case, where the indetermination is present in the extreme $b$ of the integration interval $[a,b]$. For this problem is enough to make a variable substitution\n",
        "\n",
        "$$ z=-x \\  \\ \\ \\ \\ \\  dz=-dx$$\n",
        "\n",
        "With this, the right endpoint singularity becomes a left endpoint singularity and the previous method can be directly applied."
      ]
    },
    {
      "metadata": {
        "id": "xyEGnxT5NqDp",
        "colab_type": "text"
      },
      "cell_type": "markdown",
      "source": [
        "## Infinite singularity"
      ]
    },
    {
      "metadata": {
        "id": "Pt0RNwyGNqDq",
        "colab_type": "text"
      },
      "cell_type": "markdown",
      "source": [
        "Finally, infinite singularities are those where the integration domain is infinite, i.e.\n",
        "\n",
        "$$\\int_a^\\infty f(x)dx$$\n",
        "\n",
        "this type of integrals can be easily turned into a left endpoint singularity jus making the next variable substitution\n",
        "\n",
        "$$t = x^{-1}\\ \\ \\ \\ \\ dt = -x^{-2}dx$$\n",
        "\n",
        "yielding\n",
        "\n",
        "$$ \\int_a^\\infty f(x)dx = \\int_0^{1/a}t^{-2}f\\left(\\frac{1}{t}\\right)dt $$"
      ]
    },
    {
      "metadata": {
        "id": "MJ8NS55eNqDq",
        "colab_type": "text"
      },
      "cell_type": "markdown",
      "source": [
        "## <font color='red'>     **Activity** </font>"
      ]
    },
    {
      "metadata": {
        "id": "ymuTHNf8NqDr",
        "colab_type": "text"
      },
      "cell_type": "markdown",
      "source": [
        "<font color='red'>   \n",
        "Error function is a special and non-elementary function that is widely used in probability, statistics and diffussion processes.\n",
        "It is defined through the integral:\n",
        "\n",
        "$$\\mbox{erf}(x) = \\frac{2}{\\sqrt{\\pi}}\\int_0^x e^{-t^2}dt$$\n",
        "\n",
        "Using the substitution $u=t^2$ it is possible to use the previous methods for impropers integrals in order to evaluate the error function. Create a routine called `ErrorFunction` that, given a value of $x$, return the respective value of the integral.\n"
      ]
    },
    {
      "metadata": {
        "id": "dasZz3tdNqDr",
        "colab_type": "text"
      },
      "cell_type": "markdown",
      "source": [
        "\\begin{equation}\n",
        "a=1 \\label{a}\n",
        "\\end{equation}\n",
        "\\ref{a}"
      ]
    },
    {
      "metadata": {
        "id": "6GEXe6nXNqDr",
        "colab_type": "text"
      },
      "cell_type": "markdown",
      "source": [
        "- - -"
      ]
    }
  ]
}