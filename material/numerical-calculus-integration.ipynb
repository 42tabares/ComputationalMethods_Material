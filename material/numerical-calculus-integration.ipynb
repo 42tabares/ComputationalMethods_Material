{
 "cells": [
  {
   "cell_type": "markdown",
   "metadata": {
    "colab_type": "text",
    "id": "view-in-github"
   },
   "source": [
    "<a href=\"https://colab.research.google.com/github/restrepo/ComputationalMethods/blob/master/material/numerical-calculus-integration.ipynb\" target=\"_parent\"><img src=\"https://colab.research.google.com/assets/colab-badge.svg\" alt=\"Open In Colab\"/></a>"
   ]
  },
  {
   "cell_type": "markdown",
   "metadata": {
    "colab_type": "text",
    "id": "2siQzX3iNqAt"
   },
   "source": [
    "# Numerical Calculus. Integration\n",
    "<a href=\"https://colab.research.google.com/github/restrepo/ComputationalMethods/blob/master/material/numerical-calculus-integration.ipynb\" target=\"_parent\"><img src=\"https://colab.research.google.com/assets/colab-badge.svg\" alt=\"Open In Colab\"/></a>"
   ]
  },
  {
   "cell_type": "markdown",
   "metadata": {
    "colab_type": "text",
    "id": "AH5M6q5FNqAv"
   },
   "source": [
    "Throughout this section and the next ones, we shall cover the topic of numerical calculus. Calculus has been identified since ancient times as a powerful toolkit for analysing and handling geometrical problems. Since differential calculus was developed by Newton and Leibniz (in its actual notation), many different applications have been found, at the point that most of the current science is founded on it (e.g. differential and integral equations). Due to the ever increasing complexity of analytical expressions used in physics and astronomy, their usage becomes more and more impractical, and numerical approaches are more than necessary when one wants to go deeper. This issue has been identified since long ago and many numerical techniques have been developed. We shall cover only the most basic schemes, but also providing a basis for more formal approaches.\n",
    "\n",
    "From [7 (Chapter 18)](http://pages.cs.wisc.edu/~amos/412/lecture-notes/lecture18.pdf)\n",
    "> We can only find anti-derivatives for a very small number of functions, such as those functions that are popular as problems in mathematics textbooks. Outside of math classes, these functions are rare \n"
   ]
  },
  {
   "cell_type": "markdown",
   "metadata": {
    "colab_type": "text",
    "id": "gLSVc5pcNqAw"
   },
   "source": [
    "- - -\n",
    "- [Numerical Differentiation](./numerical-calculus.ipynb) \n",
    "- [Numerical Integration](#Numerical-Integration)\n",
    "    - [Numerical quadrature](#Numerical-quadrature)\n",
    "    - [Trapezoidal rule](#Trapezoidal-rule)\n",
    "    - [Simpson's rule](#Simpson's-rule)\n",
    "- [Composite Numerical Integration](#Composite-Numerical-Integration)\n",
    "    - [Composite trapezoidal rule](#Composite-trapezoidal-rule)\n",
    "    - [Composite Simpson's rule](#Composite-Simpson's-rule)\n",
    "- [Adaptive Quadrature Methods](#Adaptive-Quadrature-Methods)\n",
    "    - [Simpson's adaptive quadrature](#Simpson's-adaptive-quadrature)\n",
    "    - [Steps Simpson's adaptive quadrature](#Steps-Simpson's-adaptive-quadrature)\n",
    "- [Improper Integrals](#Improper-Integrals)\n",
    "    - [Left endpoint singularity](#Left-endpoint-singularity)\n",
    "    - [Right endpoint singularity](#Right-endpoint-singularity)\n",
    "    - [Infinite singularity](#Infinite-singularity)\n",
    "    \n",
    "- - -"
   ]
  },
  {
   "cell_type": "markdown",
   "metadata": {
    "colab_type": "text",
    "id": "rtWrzt6oDg7-"
   },
   "source": [
    "## Bibliograpy\n",
    "* https://github.com/restrepo/Calculus\n",
    "* Thomas J. Sargent John Stachurski, [Python Programming for Quantitative Economics GitHub](https://python-programming.quantecon.org/scipy.html)"
   ]
  },
  {
   "cell_type": "code",
   "execution_count": 2,
   "metadata": {
    "colab": {
     "base_uri": "https://localhost:8080/",
     "height": 91
    },
    "colab_type": "code",
    "id": "KiBHZz-CNqAx",
    "outputId": "26e88e10-ff8b-40a9-dac3-cdae13b13e98"
   },
   "outputs": [
    {
     "name": "stdout",
     "output_type": "stream",
     "text": [
      "Populating the interactive namespace from numpy and matplotlib\n"
     ]
    }
   ],
   "source": [
    "%pylab inline\n",
    "import numpy as np\n",
    "import scipy.interpolate as interpolate\n",
    "import scipy.integrate as integrate"
   ]
  },
  {
   "cell_type": "markdown",
   "metadata": {
    "colab_type": "text",
    "id": "or6mF8mUNqA3"
   },
   "source": [
    "# Numerical Integration"
   ]
  },
  {
   "cell_type": "markdown",
   "metadata": {
    "colab_type": "text",
    "id": "RS9lAg8bNqA4"
   },
   "source": [
    "Integration is the second fundamental concept of calculus (along with differentiation). Numerical approaches are generally more useful here than in differentiation as the antiderivative procedure (analytically) is often much more complex, or even not possible. In this section we will cover some basic schemes, including numerical quadratures.\n",
    "\n",
    "Geometrically, integration can be understood as the area below a funtion within a given interval. Formally, given a function $f(x)$ such that $f\\in C^{1}[a,b]$, the antiderivative is defined as\n",
    "\n",
    "$$F(x) = \\int f(x) dx$$\n",
    "\n",
    "valid for all $x$ in $[a,b]$. However, a more useful expression is a definite integral, where the antiderivative is evaluated within some interval, i.e.\n",
    "\n",
    "$$F(b) - F(a) = \\int_{a}^{b} f(x) dx$$\n",
    "\n",
    "This procedure can be formally thought as a generalization of discrete weighted summation. This idea will be exploited below and will lead us to some first approximations to integration.\n",
    "\n",
    "See pag. 66 of [PDF](https://docs.google.com/viewer?a=v&pid=sites&srcid=ZmlzaWNhLnVkZWEuZWR1LmNvfGNvbXB1dGFkb3Jlcy1lbi1maXNpY2EtMjAxMC0yfGd4OjFmMDJjN2NlOTc3YWE0YTQ)\n"
   ]
  },
  {
   "cell_type": "markdown",
   "metadata": {
    "colab_type": "text",
    "id": "DLrCBoUENqBW"
   },
   "source": [
    "## Numpy abstractions\n",
    "The programming paradigm with Numpy are the abstractions, where the algorithms are written in terms of operations with arrays, avoiding the use of  programming loops. Low level operations between arrays are implemented in C/Fortran within Numpy. Therefore, a code with abstractions is automatically optimized.\n",
    "\n",
    "Consider for example the numerical integration with the trapezoidal method\n",
    "\n",
    "![Credit Wikipedia](https://upload.wikimedia.org/wikipedia/commons/thumb/2/26/Integration_rectangle.svg/300px-Integration_rectangle.svg.png) <small>[See Wikipedia](https://en.wikipedia.org/wiki/Numerical_integration#Methods_for_one-dimensional_integrals)</small>\n",
    "\n",
    "Wehere for each internval between $x_i$ and $x_{i+1}$, the average height of the function \n",
    "$$\\frac{f(x_i)+f(x_{i-1})}{2}\\,,$$\n",
    "is used. Therefore\n",
    "\\begin{align*}\n",
    "  \\int_a^b f(x)d x\\approx \\frac{1}{2}\\sum_{i=1}^n (x_i-x_{i-1})(f(x_i)+f(x_{i-1}))\\,.\n",
    "\\end{align*}\n",
    "\n",
    "To implement the correspponding abstractions in Numpy it is convenient to define the following vectors\n",
    "\\begin{align*}\n",
    "  \\Delta \\mathbf{X}&=(x_1-x_0,x_2-x_1,\\cdots,x_n-x_{n-1})\\\\ \n",
    "   \\langle\\mathbf{F}\\rangle&=\\frac{1}{2}(f(x_1)+f(x_0),f(x_2)+f(x_1),\\cdots,f(x_n)+f(x_{n-1}))\\,.\n",
    "\\end{align*}\n",
    "The numerical approximation of the integral with the trapezoidal method is then just the dot product between the two previous vectors\n",
    "\\begin{align*}\n",
    "   \\int_a^b f(x)d x\\approx \\Delta \\mathbf{X}\\cdot \\langle\\mathbf{F}\\rangle\n",
    "\\end{align*}\n",
    "\n",
    "We next present the code with different levels of abstractions. The faster is the first one with the direct implementation of the dot product."
   ]
  },
  {
   "cell_type": "code",
   "execution_count": 6,
   "metadata": {
    "colab": {},
    "colab_type": "code",
    "id": "PUPLnsE-NqBX"
   },
   "outputs": [],
   "source": [
    "def integracion (f,a,b,n=4,test=0):\n",
    "    '''Trapezoidal method for the numerical integration  de f entre a y b\n",
    "         con n intervalos\n",
    "    '''\n",
    "    import numpy as np\n",
    "    x=np.linspace(a,b,n+1)\n",
    "    y=f(x)\n",
    "    if test == 0:\n",
    "        return 0.5*np.dot((x[1:]-x[:-1]),(y[1:]+y[:-1]))\n",
    "    elif test ==1:\n",
    "        return 0.5*((x[1:]-x[:-1])*(y[1:]+y[:-1])).sum()"
   ]
  },
  {
   "cell_type": "markdown",
   "metadata": {
    "colab_type": "text",
    "id": "54Fd3OnbNqBZ"
   },
   "source": [
    "## Implementation in scipy"
   ]
  },
  {
   "cell_type": "markdown",
   "metadata": {
    "colab_type": "text",
    "id": "4X8PF2zyNqBZ"
   },
   "source": [
    "```python\n",
    "integrate.quad(func,a,b,args=(),full_output=0,...)\n",
    "```\n",
    "__Parameters__:\n",
    "```python\n",
    "```\n",
    "\n",
    "    \n",
    "\n",
    "See `integrate.quad?` for further details"
   ]
  },
  {
   "cell_type": "markdown",
   "metadata": {
    "colab_type": "text",
    "id": "b0D250enNqBe"
   },
   "source": [
    "###  Usage example"
   ]
  },
  {
   "cell_type": "code",
   "execution_count": 7,
   "metadata": {
    "colab": {},
    "colab_type": "code",
    "id": "kkvnkCLKNqBe"
   },
   "outputs": [],
   "source": [
    "f= lambda x: np.sin ( x )/ x"
   ]
  },
  {
   "cell_type": "markdown",
   "metadata": {
    "colab_type": "text",
    "id": "J0bXGFxPNqBi"
   },
   "source": [
    "Note that:"
   ]
  },
  {
   "cell_type": "code",
   "execution_count": 8,
   "metadata": {
    "colab": {
     "base_uri": "https://localhost:8080/",
     "height": 72
    },
    "colab_type": "code",
    "id": "y8yQT3gxWHpV",
    "outputId": "e2cc4739-149a-468f-999a-9328a1f00bcf"
   },
   "outputs": [
    {
     "name": "stderr",
     "output_type": "stream",
     "text": [
      "/usr/local/lib/python3.5/dist-packages/ipykernel_launcher.py:1: RuntimeWarning: invalid value encountered in double_scalars\n",
      "  \"\"\"Entry point for launching an IPython kernel.\n"
     ]
    },
    {
     "data": {
      "text/plain": [
       "nan"
      ]
     },
     "execution_count": 8,
     "metadata": {},
     "output_type": "execute_result"
    }
   ],
   "source": [
    "f(0)"
   ]
  },
  {
   "cell_type": "markdown",
   "metadata": {
    "colab_type": "text",
    "id": "qOE8wbWxWNVm"
   },
   "source": [
    "Even so, the full tuple output with result and numerical error is obtained from"
   ]
  },
  {
   "cell_type": "code",
   "execution_count": 9,
   "metadata": {
    "colab": {},
    "colab_type": "code",
    "id": "ASTrcsWCNqBs"
   },
   "outputs": [],
   "source": [
    "import time"
   ]
  },
  {
   "cell_type": "code",
   "execution_count": 10,
   "metadata": {
    "colab": {
     "base_uri": "https://localhost:8080/",
     "height": 54
    },
    "colab_type": "code",
    "id": "7t_fQAg9NqBk",
    "outputId": "8d2b0533-50d2-419c-a980-0a51faf4ee00"
   },
   "outputs": [
    {
     "name": "stdout",
     "output_type": "stream",
     "text": [
      "(0.9460830703671831, 1.0503632079297089e-14)\n",
      "0.0009553432464599609\n"
     ]
    }
   ],
   "source": [
    "s=time.time()\n",
    "print(integrate.quad(f,0,1))\n",
    "print(time.time()-s)"
   ]
  },
  {
   "cell_type": "markdown",
   "metadata": {
    "colab_type": "text",
    "id": "nRbYf7SzNqBo"
   },
   "source": [
    "Force output to have only the result by asking for the entry 0 of the output tuple, note the `[0]` at the end:"
   ]
  },
  {
   "cell_type": "code",
   "execution_count": 11,
   "metadata": {
    "colab": {
     "base_uri": "https://localhost:8080/",
     "height": 35
    },
    "colab_type": "code",
    "id": "6k-yShCdNqBp",
    "outputId": "4cd14f57-0447-438b-c378-dd2a05addbfa"
   },
   "outputs": [
    {
     "data": {
      "text/plain": [
       "0.9460830703671831"
      ]
     },
     "execution_count": 11,
     "metadata": {},
     "output_type": "execute_result"
    }
   ],
   "source": [
    "integrate.quad(f,0,1)[0]"
   ]
  },
  {
   "cell_type": "code",
   "execution_count": 12,
   "metadata": {
    "colab": {
     "base_uri": "https://localhost:8080/",
     "height": 35
    },
    "colab_type": "code",
    "id": "jf8syLYsIseO",
    "outputId": "6af48d71-32e0-44dc-deed-927ae7f30704"
   },
   "outputs": [
    {
     "data": {
      "text/plain": [
       "(0.9460830703671831, 1.0503632079297089e-14)"
      ]
     },
     "execution_count": 12,
     "metadata": {},
     "output_type": "execute_result"
    }
   ],
   "source": [
    "integrate.quad(lambda x: np.sin ( x )/x,0,1)"
   ]
  },
  {
   "cell_type": "markdown",
   "metadata": {},
   "source": [
    "Avoid singularities in custom solutions "
   ]
  },
  {
   "cell_type": "code",
   "execution_count": 14,
   "metadata": {
    "colab": {
     "base_uri": "https://localhost:8080/",
     "height": 35
    },
    "colab_type": "code",
    "id": "LwsseKFbXJzi",
    "outputId": "38fec6da-3b8e-4e30-fae4-cbeb41b82fda"
   },
   "outputs": [
    {
     "data": {
      "text/plain": [
       "0.9450787809533919"
      ]
     },
     "execution_count": 14,
     "metadata": {},
     "output_type": "execute_result"
    }
   ],
   "source": [
    "integracion(lambda x: np.sin ( x )/x,1E-14,1,n=5)"
   ]
  },
  {
   "cell_type": "markdown",
   "metadata": {
    "colab_type": "text",
    "id": "hNWuIvzMNqB1"
   },
   "source": [
    "Sinintegrate: \n",
    "$$\\operatorname{Si}(t)=\\int_0^t \\frac{\\sin x}{x}\\, \\operatorname{d}x$$"
   ]
  },
  {
   "cell_type": "code",
   "execution_count": 23,
   "metadata": {
    "colab": {},
    "colab_type": "code",
    "id": "7H0QJTL1NqB1"
   },
   "outputs": [],
   "source": [
    "import numpy as np\n",
    "import scipy as sp\n",
    "import scipy.integrate as integrate\n",
    "\n",
    "Sifloat=lambda t: integrate.quad(lambda x:np.sin(x)/x,0,t)[0]\n",
    "def Si(x):\n",
    "    try:\n",
    "        nn=np.array(x).shape[0]\n",
    "        f=np.vectorize(Sifloat)\n",
    "    except IndexError:\n",
    "        f=Sifloat\n",
    "    return f(x)"
   ]
  },
  {
   "cell_type": "code",
   "execution_count": 16,
   "metadata": {
    "colab": {
     "base_uri": "https://localhost:8080/",
     "height": 35
    },
    "colab_type": "code",
    "id": "9RWFuzqbNqB2",
    "outputId": "3cf52ec4-ea6c-4b30-e22e-fddb0cf610e6"
   },
   "outputs": [
    {
     "data": {
      "text/plain": [
       "0.9460830703671831"
      ]
     },
     "execution_count": 16,
     "metadata": {},
     "output_type": "execute_result"
    }
   ],
   "source": [
    "Si(1)"
   ]
  },
  {
   "cell_type": "code",
   "execution_count": 17,
   "metadata": {
    "colab": {
     "base_uri": "https://localhost:8080/",
     "height": 35
    },
    "colab_type": "code",
    "id": "gBOmq3IsNqB5",
    "outputId": "117b7071-682c-434b-c06e-317a50512525"
   },
   "outputs": [
    {
     "data": {
      "text/plain": [
       "array([0.94608307, 1.60541298])"
      ]
     },
     "execution_count": 17,
     "metadata": {},
     "output_type": "execute_result"
    }
   ],
   "source": [
    "Si([1,2])"
   ]
  },
  {
   "cell_type": "markdown",
   "metadata": {
    "colab_type": "text",
    "id": "zFXNaKTGNqB9"
   },
   "source": [
    "When you write `LaTeX`  in  `matplotlib`, you must be sure that the backslash, '\\', is properly interpreted  as the key for `LaTeX` commands. This is accomplished  by writting an `r` before the string declaration. Note the different behaviour of the backslash in the next two cells of code. In the first one `\\t` is intepreted as the keyboard key `<TAB>` and `\\b` as an empty space, while in the second, with the prefix `r`, it is just a pair of `LaTeX` commands"
   ]
  },
  {
   "cell_type": "code",
   "execution_count": 18,
   "metadata": {
    "colab": {
     "base_uri": "https://localhost:8080/",
     "height": 35
    },
    "colab_type": "code",
    "id": "Sq4rTDLpNqB-",
    "outputId": "0d337834-a126-4747-c2fe-12baee94e13a"
   },
   "outputs": [
    {
     "name": "stdout",
     "output_type": "stream",
     "text": [
      "$\taeta$\n"
     ]
    }
   ],
   "source": [
    "print('$\\tan\\beta$')"
   ]
  },
  {
   "cell_type": "code",
   "execution_count": 19,
   "metadata": {
    "colab": {
     "base_uri": "https://localhost:8080/",
     "height": 35
    },
    "colab_type": "code",
    "id": "rExFLFPrNqCC",
    "outputId": "ae518e64-7ce3-4023-dfd7-8d52484856f7"
   },
   "outputs": [
    {
     "name": "stdout",
     "output_type": "stream",
     "text": [
      "$\\tan\\beta$\n"
     ]
    }
   ],
   "source": [
    "print(r'$\\tan\\beta$')"
   ]
  },
  {
   "cell_type": "code",
   "execution_count": 26,
   "metadata": {
    "colab": {
     "base_uri": "https://localhost:8080/",
     "height": 284
    },
    "colab_type": "code",
    "id": "kSHEZHaQNqCJ",
    "outputId": "6abd5869-225d-4059-8c9c-a7ef7446fac8"
   },
   "outputs": [
    {
     "data": {
      "image/png": "[encoded data removed]",
      "text/plain": [
       "<Figure size 432x288 with 1 Axes>"
      ]
     },
     "metadata": {
      "needs_background": "light"
     },
     "output_type": "display_data"
    }
   ],
   "source": [
    "t=np.logspace(np.log10(1E-3),np.log10(2),200)\n",
    "tt=np.linspace(2,20,200)\n",
    "plt.semilogy(t,Si(t),'b-')\n",
    "plt.semilogy(tt,Si(tt),'b-')\n",
    "plt.xlabel('$x$',size=15)\n",
    "plt.ylabel(r'${\\rm Si}(t)=\\int_0^t {\\sin\\, x}/{x}\\,{\\rm d}\\,x$',size=15)\n",
    "plt.grid()"
   ]
  },
  {
   "cell_type": "markdown",
   "metadata": {
    "colab_type": "text",
    "id": "dfuROJT4NqDN"
   },
   "source": [
    "## <span style=\"color:red\">   Activity </span>"
   ]
  },
  {
   "cell_type": "markdown",
   "metadata": {
    "colab_type": "text",
    "id": "BGIY__rjNqDO"
   },
   "source": [
    "### Models of Universe\n",
    "\n",
    "From the Friedmann equations can be found the dynamics of the Universe, i.e., the evolution of the expansion with time that depends on the content of matter and energy of the Universe. Before introducing the general expression, there are several quatities that need to be defined. \n",
    "\n",
    "It is convenient to express the density in terms of a critical density $\\rho_c$ given by\n",
    "\n",
    "\\begin{equation}\n",
    "\\rho_c = 3H_0^2/8\\pi G\n",
    "\\end{equation}\n",
    "\n",
    "where $H_o$ is the Hubble constant. The critical density is the density needed in order the Universe to be flat. To obtained it, it is neccesary to make the curvature of the universe $\\kappa = 0$. The critical density is one value per\n",
    "time and the geometry of the universe depends on this value, or equally on $\\kappa$. For a universe with $\\kappa<0$ it would ocurre a big crunch(closed universe) and for a $\\kappa>0$ there would be an open universe.    \n",
    "\n",
    "Now, it can also be defined a density parameter, $\\Omega$, a normalized density\n",
    "\n",
    "\\begin{equation}\n",
    "\\Omega_{i,0} = \\rho_{i,0}/\\rho_{crit}\n",
    "\\end{equation}\n",
    "\n",
    "where $\\rho_{i,0}$ is the actual density($z=0$) for the component $i$. Then, it can be found the next expression \n",
    "\n",
    "\\begin{equation}\n",
    "\\frac{H^2(t)}{H_{0}^{2}} = (1-\\Omega_0)(1+z)^2 + \\Omega_{m,0}(1+z^3)+ \\Omega_{r,0}(1+z)^4 + \\Omega_{\\Lambda,0}\n",
    "\\end{equation}\n",
    "\n",
    "where $\\Omega_{m,0}$, $\\Omega_{r,0}$ and  $\\Omega_{\\Lambda,0}$ are the matter, radiation and vacuum density parameters. And $\\Omega_0$ is the total density including the vacuum energy. \n",
    "\n",
    "This expression can also be written in terms of the expansion or scale factor, $a$, by using: \n",
    "\n",
    "$$1+z = 1/a$$\n",
    "\n",
    "For the next universe models, plot time($H_{0}^{-1}$ units) vs the scale factor:\n",
    "\n",
    "-Einstein-de Sitter Universe: Flat space, null vacuum energy and dominated by matter\n",
    "\n",
    "\\begin{equation}\n",
    "t = H_0^{-1} \\int_0^{a'} a^{1/2}da\n",
    "\\end{equation}\n",
    " \n",
    "-Radiation dominated universe: All other components are not contributing \n",
    "\n",
    "$$\n",
    "t = H_0^{-1} \\int_0^{a'} \\frac{a}{[\\Omega_{r,0}+a^2(1-\\Omega_{r,0})]^{1/2}}da\n",
    "$$\n",
    "\n",
    "-WMAP9 Universe \n",
    "\n",
    "\\begin{equation}\n",
    "t = H_0^{-1} \\int_0^{a'} \\left[(1-\\Omega_{0})+ \\Omega_{M,0}a^{-1} + \\Omega_{R,0}a^{-2} +\\Omega_{\\Lambda,0}a^2\\right]^{-1/2} da\n",
    "\\end{equation}\n",
    "\n",
    "\n",
    "You can take the cosmological parameters  from the link \n",
    "\n",
    "http://lambda.gsfc.nasa.gov/product/map/dr5/params/lcdm_wmap9.cfm or use these ones: $\\Omega_M = 0.266$,\n",
    "$\\Omega_R = 8.24\\times 10^{-5}$ and $\\Omega_\\Lambda = 0.734$. \n",
    "\n",
    "Use composite Simpson's rule to integrate and compare it with the analytical expression in case you can get it. \n",
    "The superior limit in the integral corresponds to the actual redshift $z=0$. What is happening to our universe? \n"
   ]
  },
  {
   "cell_type": "markdown",
   "metadata": {
    "colab_type": "text",
    "id": "yfcVODGrNqDR"
   },
   "source": [
    "## <span style='color:red'>  Activity </span>\n",
    "\n",
    "- Using the Simpson's adaptive quadrature determine the value of the next integral with a precision of float32.\n",
    "\n",
    "$$\\int_0^4 e^{-3x}\\sin(4x)dx$$\n",
    "\n",
    "\n",
    "## <span style='color:red'>  Activity </span>\n",
    "Fresnel integrals are commonly used in the study of light difraction at a rectangular aperture, they are given by:\n",
    "\n",
    "$$c(t) = \\int_0^t\\cos\\left(\\frac{\\pi}{2}\\omega^2\\right)d\\omega$$\n",
    "\n",
    "$$s(t) = \\int_0^t\\sin\\left(\\frac{\\pi}{2}\\omega^2\\right)d\\omega$$\n",
    "\n",
    "These integrals cannot be solved using analitical methods. Using the previous routine for adaptive quadrature, compute the integrals with a precision of $\\epsilon=10^{-4}$ for values of $t=0.1,0.2,0.3,\\cdots 1.0$. Create two arrays with those values and then make a plot of $c(t)$ vs $s(t)$. The resulting figure is called Euler spiral, that is a member of a family of curves called [Clothoid loops](http://en.wikipedia.org/wiki/Vertical_loop).\n"
   ]
  },
  {
   "cell_type": "markdown",
   "metadata": {
    "colab_type": "text",
    "id": "LirhRnJ7NqDR"
   },
   "source": [
    "- - -"
   ]
  },
  {
   "cell_type": "markdown",
   "metadata": {
    "colab_type": "text",
    "id": "pN0iZoKcNqDR"
   },
   "source": [
    "# Improper Integrals"
   ]
  },
  {
   "cell_type": "markdown",
   "metadata": {
    "colab_type": "text",
    "id": "kyp4_csdNqDR"
   },
   "source": [
    "Improper integral can be processed with the `quad` function of `scipy.integrate`, or other integration functions, by using the infinity implementation of `numpy`, (which is the same of the `math` module, see below)\n",
    "* Positive infinity ($+\\infty$): `np.inf` and several aliases\n",
    "* Negagite infinity ($-\\infty$): `np.NINF`\n",
    "For details of the implementation and the aliases [see here](https://stackoverflow.com/a/42315752/2268280)"
   ]
  },
  {
   "cell_type": "code",
   "execution_count": null,
   "metadata": {
    "colab": {},
    "colab_type": "code",
    "id": "ND0HYGBANqDU"
   },
   "outputs": [],
   "source": [
    "import numpy as np"
   ]
  },
  {
   "cell_type": "markdown",
   "metadata": {},
   "source": [
    "In Python the $\\infty$ can be defined as"
   ]
  },
  {
   "cell_type": "code",
   "execution_count": 31,
   "metadata": {
    "colab": {
     "base_uri": "https://localhost:8080/",
     "height": 35
    },
    "colab_type": "code",
    "id": "zYuf6J3aNqDV",
    "outputId": "49f543a6-d777-4661-d629-833f04b40c21"
   },
   "outputs": [
    {
     "data": {
      "text/plain": [
       "inf"
      ]
     },
     "execution_count": 31,
     "metadata": {},
     "output_type": "execute_result"
    }
   ],
   "source": [
    "float('inf')"
   ]
  },
  {
   "cell_type": "markdown",
   "metadata": {},
   "source": [
    "It is already implemented in numpy"
   ]
  },
  {
   "cell_type": "code",
   "execution_count": 37,
   "metadata": {
    "colab": {
     "base_uri": "https://localhost:8080/",
     "height": 35
    },
    "colab_type": "code",
    "id": "M7OVF1U-NqDW",
    "outputId": "86375e4c-ddf8-4e02-e269-73dfee0385f8"
   },
   "outputs": [
    {
     "data": {
      "text/plain": [
       "True"
      ]
     },
     "execution_count": 37,
     "metadata": {},
     "output_type": "execute_result"
    }
   ],
   "source": [
    "np.inf == float('inf')"
   ]
  },
  {
   "cell_type": "markdown",
   "metadata": {
    "colab_type": "text",
    "id": "4T0-cBwtNqDZ"
   },
   "source": [
    "There are also function to check for infinity numbers:"
   ]
  },
  {
   "cell_type": "code",
   "execution_count": 38,
   "metadata": {
    "colab": {
     "base_uri": "https://localhost:8080/",
     "height": 35
    },
    "colab_type": "code",
    "id": "ggjH-deeNqDZ",
    "outputId": "71073c8c-b437-451f-a973-f76345396b09"
   },
   "outputs": [
    {
     "data": {
      "text/plain": [
       "True"
      ]
     },
     "execution_count": 38,
     "metadata": {},
     "output_type": "execute_result"
    }
   ],
   "source": [
    "np.isfinite(2)"
   ]
  },
  {
   "cell_type": "code",
   "execution_count": 39,
   "metadata": {
    "colab": {
     "base_uri": "https://localhost:8080/",
     "height": 35
    },
    "colab_type": "code",
    "id": "2nKaNccdNqDb",
    "outputId": "03f58cdb-d53a-4bff-b2e2-c18bd8439e4f"
   },
   "outputs": [
    {
     "data": {
      "text/plain": [
       "False"
      ]
     },
     "execution_count": 39,
     "metadata": {},
     "output_type": "execute_result"
    }
   ],
   "source": [
    "np.isfinite(np.inf)"
   ]
  },
  {
   "cell_type": "code",
   "execution_count": 40,
   "metadata": {
    "colab": {
     "base_uri": "https://localhost:8080/",
     "height": 35
    },
    "colab_type": "code",
    "id": "4ZYOQ1RaNqDc",
    "outputId": "56b8c657-5d5a-4f26-e3e9-8a856e30dc7f"
   },
   "outputs": [
    {
     "data": {
      "text/plain": [
       "(True, True)"
      ]
     },
     "execution_count": 40,
     "metadata": {},
     "output_type": "execute_result"
    }
   ],
   "source": [
    "np.isfinite(2),np.isinf(np.inf)"
   ]
  },
  {
   "cell_type": "markdown",
   "metadata": {
    "colab_type": "text",
    "id": "KLV3kW6bNqDe"
   },
   "source": [
    "So it is possible to evaluate improper integrals like\n",
    "\n",
    "$$\n",
    "\\int_1^\\infty x^{-2}\\,\\operatorname{d}x=1\\,.\n",
    "$$"
   ]
  },
  {
   "cell_type": "code",
   "execution_count": 41,
   "metadata": {
    "colab": {
     "base_uri": "https://localhost:8080/",
     "height": 35
    },
    "colab_type": "code",
    "id": "-t0_gw-xNqDf",
    "outputId": "fda7a2d9-961b-4c6e-f051-773948f53c00"
   },
   "outputs": [
    {
     "data": {
      "text/plain": [
       "(1.0, 1.1102230246251565e-14)"
      ]
     },
     "execution_count": 41,
     "metadata": {},
     "output_type": "execute_result"
    }
   ],
   "source": [
    "integrate.quad(lambda x: 1/x**2,1,np.inf)"
   ]
  },
  {
   "cell_type": "markdown",
   "metadata": {
    "colab_type": "text",
    "id": "iTeYMq0sNqDf"
   },
   "source": [
    "or\n",
    "$$\n",
    "\\int_{-\\infty}^\\infty \\operatorname{e}^{x^{-2}}\\,\\operatorname{d}x=\\sqrt{\\pi},.\n",
    "$$"
   ]
  },
  {
   "cell_type": "code",
   "execution_count": 53,
   "metadata": {
    "colab": {
     "base_uri": "https://localhost:8080/",
     "height": 35
    },
    "colab_type": "code",
    "id": "JxumWQPFNqDg",
    "outputId": "cc88250a-3230-47a8-a42f-60c63d459e9f"
   },
   "outputs": [
    {
     "data": {
      "text/plain": [
       "True"
      ]
     },
     "execution_count": 53,
     "metadata": {},
     "output_type": "execute_result"
    }
   ],
   "source": [
    "integrate.quad(lambda x: np.exp(-x**2),np.NINF,np.inf)[0]==np.sqrt(np.pi)"
   ]
  },
  {
   "cell_type": "code",
   "execution_count": 52,
   "metadata": {
    "colab": {
     "base_uri": "https://localhost:8080/",
     "height": 35
    },
    "colab_type": "code",
    "id": "gGML_LZfNqDi",
    "outputId": "59edee77-5f1d-4d1f-9cbb-d0b73a2fc15b"
   },
   "outputs": [
    {
     "data": {
      "text/plain": [
       "1.7724538509055159"
      ]
     },
     "execution_count": 52,
     "metadata": {},
     "output_type": "execute_result"
    }
   ],
   "source": [
    "np.sqrt(np.pi)"
   ]
  },
  {
   "cell_type": "code",
   "execution_count": 55,
   "metadata": {
    "colab": {},
    "colab_type": "code",
    "id": "7hU5Zi5ANqDm",
    "outputId": "9f8dcbec-8814-4f93-d60c-0f4975ef1b1a"
   },
   "outputs": [
    {
     "data": {
      "text/plain": [
       "True"
      ]
     },
     "execution_count": 55,
     "metadata": {},
     "output_type": "execute_result"
    }
   ],
   "source": [
    "integrate.quad(lambda x: np.exp(-x**2),0,np.inf)[0]==np.sqrt(np.pi)/2"
   ]
  },
  {
   "cell_type": "markdown",
   "metadata": {
    "colab_type": "text",
    "id": "IjpV9LIcNqDo"
   },
   "source": [
    "Although the previous integration methods can be applied in almost every situation, improper integrals pose a challenger to numerical methods as they involve indeterminations and infinite intervals. Next, we shall cover some tricks to rewrite improper integrals in terms of simple ones. See for example [here](https://stackoverflow.com/q/30769913/2268280)"
   ]
  },
  {
   "cell_type": "markdown",
   "metadata": {
    "colab_type": "text",
    "id": "T6-r8HdQNqDo"
   },
   "source": [
    "## Left endpoint singularity"
   ]
  },
  {
   "cell_type": "markdown",
   "metadata": {
    "colab_type": "text",
    "id": "PtejOkxmNqDo"
   },
   "source": [
    "Assuming a function $f(x)$ such that it can be rewritten as\n",
    "\n",
    "$$ f(x) = \\frac{g(x)}{(x-a)^p} $$\n",
    "\n",
    "the integral over an interval $[a,b]$ converges only and only if $0<p<1$.\n",
    "\n",
    "Using Simpson's composite rule, it is possible to compute the fourth-order Taylor polynomial of the function $g(x)$ at the point $a$, obtaining\n",
    "\n",
    "$$ P_4(x) = g(a) + g^{'}(a)(x-a)+\\frac{g^{''}(a)}{2!}(x-a)^2 +\\frac{g^{''}(a)}{3!}(x-a)^3+ \\frac{g^{(4)}(a)}{4!}(x-a)^4$$\n",
    "\n",
    "The integral can be then calculated as\n",
    "\n",
    "$$\\int_a^b f(x)dx = \\int_a^b\\frac{g(x)-P_4(x)}{(x-a)^p}dx + \\int_a^b\\frac{P_4(x)}{(x-a)^p}dx$$\n",
    "\n",
    "The second term is an integral of a polynimal, which can be easily integrated using analytical methods.\n",
    "\n",
    "The first term is no longer pathologic as there is not any indetermination, and it can be determined using composite Simpson's rule"
   ]
  },
  {
   "cell_type": "markdown",
   "metadata": {
    "colab_type": "text",
    "id": "HXbwiVHvNqDo"
   },
   "source": [
    "## Right endpoint singularity"
   ]
  },
  {
   "cell_type": "markdown",
   "metadata": {
    "colab_type": "text",
    "id": "ib0CRK_qNqDp"
   },
   "source": [
    "This is the contrary case, where the indetermination is present in the extreme $b$ of the integration interval $[a,b]$. For this problem is enough to make a variable substitution\n",
    "\n",
    "$$ z=-x \\  \\ \\ \\ \\ \\  dz=-dx$$\n",
    "\n",
    "With this, the right endpoint singularity becomes a left endpoint singularity and the previous method can be directly applied."
   ]
  },
  {
   "cell_type": "markdown",
   "metadata": {
    "colab_type": "text",
    "id": "xyEGnxT5NqDp"
   },
   "source": [
    "## Infinite singularity"
   ]
  },
  {
   "cell_type": "markdown",
   "metadata": {
    "colab_type": "text",
    "id": "Pt0RNwyGNqDq"
   },
   "source": [
    "Finally, infinite singularities are those where the integration domain is infinite, i.e.\n",
    "\n",
    "$$\\int_a^\\infty f(x)dx$$\n",
    "\n",
    "this type of integrals can be easily turned into a left endpoint singularity jus making the next variable substitution\n",
    "\n",
    "$$t = x^{-1}\\ \\ \\ \\ \\ dt = -x^{-2}dx$$\n",
    "\n",
    "yielding\n",
    "\n",
    "$$ \\int_a^\\infty f(x)dx = \\int_0^{1/a}t^{-2}f\\left(\\frac{1}{t}\\right)dt $$"
   ]
  },
  {
   "cell_type": "markdown",
   "metadata": {
    "colab_type": "text",
    "id": "ymuTHNf8NqDr"
   },
   "source": [
    "## <span style='color:red'> Activity</span>\n",
    "\n",
    "Error function is a special and non-elementary function that is widely used in probability, statistics and diffussion processes.\n",
    "It is defined through the integral:\n",
    "\n",
    "$$\\mbox{erf}(x) = \\frac{2}{\\sqrt{\\pi}}\\int_0^x e^{-t^2}dt$$\n",
    "\n",
    "Using the substitution $u=t^2$ it is possible to use the previous methods for impropers integrals in order to evaluate the error function. Create a routine called `ErrorFunction` that, given a value of $x$, return the respective value of the integral.\n"
   ]
  },
  {
   "cell_type": "markdown",
   "metadata": {
    "colab_type": "text",
    "id": "6GEXe6nXNqDr"
   },
   "source": [
    "- - -"
   ]
  }
 ],
 "metadata": {
  "colab": {
   "include_colab_link": true,
   "name": "numerical-calculus-integration.ipynb",
   "provenance": []
  },
  "kernelspec": {
   "display_name": "Python 3",
   "language": "python",
   "name": "python3"
  },
  "language_info": {
   "codemirror_mode": {
    "name": "ipython",
    "version": 3
   },
   "file_extension": ".py",
   "mimetype": "text/x-python",
   "name": "python",
   "nbconvert_exporter": "python",
   "pygments_lexer": "ipython3",
   "version": "3.5.3"
  },
  "widgets": {
   "application/vnd.jupyter.widget-state+json": {
    "74fca1d2b88b49e9939a0fa9ee5d6f5f": {
     "model_module": "@jupyter-widgets/controls",
     "model_name": "IntSliderModel",
     "state": {
      "_dom_classes": [],
      "_model_module": "@jupyter-widgets/controls",
      "_model_module_version": "1.5.0",
      "_model_name": "IntSliderModel",
      "_view_count": null,
      "_view_module": "@jupyter-widgets/controls",
      "_view_module_version": "1.5.0",
      "_view_name": "IntSliderView",
      "continuous_update": true,
      "description": "x",
      "description_tooltip": null,
      "disabled": false,
      "layout": "IPY_MODEL_b3ef138e5cc549568f2b7776b3b67c54",
      "max": 5,
      "min": 0,
      "orientation": "horizontal",
      "readout": true,
      "readout_format": "d",
      "step": 1,
      "style": "IPY_MODEL_d671cec8b20941caa3bad4d8e32bf86e",
      "value": 5
     }
    },
    "8f346188866849329a7b97f2801ac0c7": {
     "model_module": "@jupyter-widgets/controls",
     "model_name": "VBoxModel",
     "state": {
      "_dom_classes": [
       "widget-interact"
      ],
      "_model_module": "@jupyter-widgets/controls",
      "_model_module_version": "1.5.0",
      "_model_name": "VBoxModel",
      "_view_count": null,
      "_view_module": "@jupyter-widgets/controls",
      "_view_module_version": "1.5.0",
      "_view_name": "VBoxView",
      "box_style": "",
      "children": [
       "IPY_MODEL_74fca1d2b88b49e9939a0fa9ee5d6f5f",
       "IPY_MODEL_ea027c04a83e478a86868f527b72c1ab"
      ],
      "layout": "IPY_MODEL_e2a6fb7ed2604a76b9171d8425a661fe"
     }
    },
    "ac19dab0133e4c1d88e0614b3ecfa40a": {
     "model_module": "@jupyter-widgets/base",
     "model_name": "LayoutModel",
     "state": {
      "_model_module": "@jupyter-widgets/base",
      "_model_module_version": "1.2.0",
      "_model_name": "LayoutModel",
      "_view_count": null,
      "_view_module": "@jupyter-widgets/base",
      "_view_module_version": "1.2.0",
      "_view_name": "LayoutView",
      "align_content": null,
      "align_items": null,
      "align_self": null,
      "border": null,
      "bottom": null,
      "display": null,
      "flex": null,
      "flex_flow": null,
      "grid_area": null,
      "grid_auto_columns": null,
      "grid_auto_flow": null,
      "grid_auto_rows": null,
      "grid_column": null,
      "grid_gap": null,
      "grid_row": null,
      "grid_template_areas": null,
      "grid_template_columns": null,
      "grid_template_rows": null,
      "height": null,
      "justify_content": null,
      "justify_items": null,
      "left": null,
      "margin": null,
      "max_height": null,
      "max_width": null,
      "min_height": null,
      "min_width": null,
      "object_fit": null,
      "object_position": null,
      "order": null,
      "overflow": null,
      "overflow_x": null,
      "overflow_y": null,
      "padding": null,
      "right": null,
      "top": null,
      "visibility": null,
      "width": null
     }
    },
    "b3ef138e5cc549568f2b7776b3b67c54": {
     "model_module": "@jupyter-widgets/base",
     "model_name": "LayoutModel",
     "state": {
      "_model_module": "@jupyter-widgets/base",
      "_model_module_version": "1.2.0",
      "_model_name": "LayoutModel",
      "_view_count": null,
      "_view_module": "@jupyter-widgets/base",
      "_view_module_version": "1.2.0",
      "_view_name": "LayoutView",
      "align_content": null,
      "align_items": null,
      "align_self": null,
      "border": null,
      "bottom": null,
      "display": null,
      "flex": null,
      "flex_flow": null,
      "grid_area": null,
      "grid_auto_columns": null,
      "grid_auto_flow": null,
      "grid_auto_rows": null,
      "grid_column": null,
      "grid_gap": null,
      "grid_row": null,
      "grid_template_areas": null,
      "grid_template_columns": null,
      "grid_template_rows": null,
      "height": null,
      "justify_content": null,
      "justify_items": null,
      "left": null,
      "margin": null,
      "max_height": null,
      "max_width": null,
      "min_height": null,
      "min_width": null,
      "object_fit": null,
      "object_position": null,
      "order": null,
      "overflow": null,
      "overflow_x": null,
      "overflow_y": null,
      "padding": null,
      "right": null,
      "top": null,
      "visibility": null,
      "width": null
     }
    },
    "d671cec8b20941caa3bad4d8e32bf86e": {
     "model_module": "@jupyter-widgets/controls",
     "model_name": "SliderStyleModel",
     "state": {
      "_model_module": "@jupyter-widgets/controls",
      "_model_module_version": "1.5.0",
      "_model_name": "SliderStyleModel",
      "_view_count": null,
      "_view_module": "@jupyter-widgets/base",
      "_view_module_version": "1.2.0",
      "_view_name": "StyleView",
      "description_width": "",
      "handle_color": null
     }
    },
    "e2a6fb7ed2604a76b9171d8425a661fe": {
     "model_module": "@jupyter-widgets/base",
     "model_name": "LayoutModel",
     "state": {
      "_model_module": "@jupyter-widgets/base",
      "_model_module_version": "1.2.0",
      "_model_name": "LayoutModel",
      "_view_count": null,
      "_view_module": "@jupyter-widgets/base",
      "_view_module_version": "1.2.0",
      "_view_name": "LayoutView",
      "align_content": null,
      "align_items": null,
      "align_self": null,
      "border": null,
      "bottom": null,
      "display": null,
      "flex": null,
      "flex_flow": null,
      "grid_area": null,
      "grid_auto_columns": null,
      "grid_auto_flow": null,
      "grid_auto_rows": null,
      "grid_column": null,
      "grid_gap": null,
      "grid_row": null,
      "grid_template_areas": null,
      "grid_template_columns": null,
      "grid_template_rows": null,
      "height": null,
      "justify_content": null,
      "justify_items": null,
      "left": null,
      "margin": null,
      "max_height": null,
      "max_width": null,
      "min_height": null,
      "min_width": null,
      "object_fit": null,
      "object_position": null,
      "order": null,
      "overflow": null,
      "overflow_x": null,
      "overflow_y": null,
      "padding": null,
      "right": null,
      "top": null,
      "visibility": null,
      "width": null
     }
    },
    "ea027c04a83e478a86868f527b72c1ab": {
     "model_module": "@jupyter-widgets/output",
     "model_name": "OutputModel",
     "state": {
      "_dom_classes": [],
      "_model_module": "@jupyter-widgets/output",
      "_model_module_version": "1.0.0",
      "_model_name": "OutputModel",
      "_view_count": null,
      "_view_module": "@jupyter-widgets/output",
      "_view_module_version": "1.0.0",
      "_view_name": "OutputView",
      "layout": "IPY_MODEL_ac19dab0133e4c1d88e0614b3ecfa40a",
      "msg_id": "",
      "outputs": [
       {
        "metadata": {
         "tags": []
        },
        "output_type": "stream",
        "stream": "stdout",
        "text": "2.7789645661431863\n"
       }
      ]
     }
    }
   }
  }
 },
 "nbformat": 4,
 "nbformat_minor": 4
}
