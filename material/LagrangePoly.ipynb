{
  "nbformat": 4,
  "nbformat_minor": 0,
  "metadata": {
    "colab": {
      "name": "Copia de LagrangePoly.ipynb",
      "provenance": [],
      "collapsed_sections": [],
      "include_colab_link": true
    },
    "kernelspec": {
      "display_name": "Python 3",
      "language": "python",
      "name": "python3"
    }
  },
  "cells": [
    {
      "cell_type": "markdown",
      "metadata": {
        "id": "view-in-github",
        "colab_type": "text"
      },
      "source": [
        "<a href=\"https://colab.research.google.com/github/restrepo/ComputationalMethods/blob/master/material/LagrangePoly.ipynb\" target=\"_parent\"><img src=\"https://colab.research.google.com/assets/colab-badge.svg\" alt=\"Open In Colab\"/></a>"
      ]
    },
    {
      "cell_type": "markdown",
      "metadata": {
        "id": "g7Iz90k56MsP",
        "colab_type": "text"
      },
      "source": [
        "# Interpolation polynomial in the Lagrange form\n",
        "Based on [this code](https://gist.github.com/folkertdev/084c53887c49a6248839)\n",
        "\n",
        "$$f(x)\\approx P_n(x)\\,,$$\n",
        "\n",
        "$$P_n(x) = \\sum_{i=0}^n f(x_i)L_{n,i}(x) = \\sum_{i=0}^n y_iL_{n,i}(x)$$\n",
        "\n",
        "**References:**\n",
        "[Wikipedia](https://en.wikipedia.org/wiki/Lagrange_polynomial)"
      ]
    },
    {
      "cell_type": "markdown",
      "metadata": {
        "id": "xYmS1wzh-hZL",
        "colab_type": "text"
      },
      "source": [
        "### We will use SymPy"
      ]
    },
    {
      "cell_type": "code",
      "metadata": {
        "id": "kF5mBh2q-mMs",
        "colab_type": "code",
        "colab": {}
      },
      "source": [
        "from sympy import simplify, symbols, expand, factor, sin, cos #..., lambdify, solve_poly_system"
      ],
      "execution_count": 0,
      "outputs": []
    },
    {
      "cell_type": "code",
      "metadata": {
        "id": "ht5AYUK2L4-r",
        "colab_type": "code",
        "outputId": "f902fbea-bac1-4bb8-ecf3-89bfa719aef2",
        "colab": {
          "base_uri": "https://localhost:8080/",
          "height": 34
        }
      },
      "source": [
        "simplify('2/3+5/6')"
      ],
      "execution_count": 2,
      "outputs": [
        {
          "output_type": "execute_result",
          "data": {
            "text/plain": [
              "3/2"
            ]
          },
          "metadata": {
            "tags": []
          },
          "execution_count": 2
        }
      ]
    },
    {
      "cell_type": "code",
      "metadata": {
        "id": "grYmSnH2L3O8",
        "colab_type": "code",
        "outputId": "616f0161-71c8-4207-d592-ab35c6ad18a5",
        "colab": {
          "base_uri": "https://localhost:8080/",
          "height": 34
        }
      },
      "source": [
        "x = symbols('x')\n",
        "expand('(x-1)*(x+1)')"
      ],
      "execution_count": 3,
      "outputs": [
        {
          "output_type": "execute_result",
          "data": {
            "text/plain": [
              "x**2 - 1"
            ]
          },
          "metadata": {
            "tags": []
          },
          "execution_count": 3
        }
      ]
    },
    {
      "cell_type": "code",
      "metadata": {
        "id": "2N6pf_oOMRv5",
        "colab_type": "code",
        "outputId": "eb598d67-392d-4a4d-8d04-e49bfdd4d131",
        "colab": {
          "base_uri": "https://localhost:8080/",
          "height": 34
        }
      },
      "source": [
        "factor('x**2-1')"
      ],
      "execution_count": 4,
      "outputs": [
        {
          "output_type": "execute_result",
          "data": {
            "text/plain": [
              "(x - 1)*(x + 1)"
            ]
          },
          "metadata": {
            "tags": []
          },
          "execution_count": 4
        }
      ]
    },
    {
      "cell_type": "code",
      "metadata": {
        "id": "M2SWdB5RMwdA",
        "colab_type": "code",
        "colab": {}
      },
      "source": [
        "x=symbols('x')"
      ],
      "execution_count": 0,
      "outputs": []
    },
    {
      "cell_type": "markdown",
      "metadata": {
        "id": "IXPmsm0IcFl6",
        "colab_type": "text"
      },
      "source": [
        "##  Implementation of the Lagrange interpolating polynomials and  Lagrange polynomials in SymPy"
      ]
    },
    {
      "cell_type": "code",
      "metadata": {
        "id": "edG_qX0U6MsR",
        "colab_type": "code",
        "outputId": "cd795357-cca6-4e48-c79d-94044034390a",
        "colab": {
          "base_uri": "https://localhost:8080/",
          "height": 34
        }
      },
      "source": [
        "%%writefile LagrangePolynomial.py\n",
        "\"\"\"\n",
        "From: https://gist.github.com/folkertdev/084c53887c49a6248839\n",
        "A sympy-based Lagrange polynomial constructor. \n",
        "\n",
        "Implementation of Lagrangian interpolating polynomial.\n",
        "See:\n",
        "\n",
        "   def lagrangePolynomial(xs, ys):\n",
        "\n",
        "Given two 1-D arrays `xs` and `ys,` returns the Lagrange interpolating\n",
        "polynomial through the points ``(xs, ys)``\n",
        "\n",
        "\n",
        "Given a set 1-D arrays of inputs and outputs, the lagrangePolynomial function \n",
        "will construct an expression that for every input gives the corresponding output. \n",
        "For intermediate values, the polynomial interpolates (giving varying results \n",
        "based  on the shape of your input). \n",
        "\n",
        "The Lagrangian polynomials can be obtained explicitly with (see below):\n",
        "   \n",
        "   def polyL(xs,j):\n",
        "   \n",
        "as sympy polynomial, and \n",
        "\n",
        "    def L(xs,j):\n",
        "\n",
        "as Python functions.\n",
        "\n",
        "\n",
        "This is useful when the result needs to be used outside of Python, because the \n",
        "expression can easily be copied. To convert the expression to a python function \n",
        "object, use sympy.lambdify.\n",
        "\"\"\"\n",
        "from sympy import symbols, expand, lambdify, solve_poly_system\n",
        "#Python library for arithmetic with arbitrary precision\n",
        "from mpmath import tan, e\n",
        "\n",
        "import math\n",
        "\n",
        "from operator import mul\n",
        "from functools import reduce, lru_cache\n",
        "from itertools import chain\n",
        "\n",
        "# sympy symbols\n",
        "x = symbols('x')\n",
        "\n",
        "# convenience functions\n",
        "product = lambda *args: reduce(mul, *(list(args) + [1]))\n",
        "\n",
        "# test data\n",
        "labels = [(-3/2), (-3/4), 0, 3/4, 3/2]\n",
        "points = [math.tan(v) for v in labels]\n",
        "\n",
        "# this product may be reusable (when creating many functions on the same domain)\n",
        "# therefore, cache the result\n",
        "@lru_cache(16)\n",
        "def l(labels, j):\n",
        "    def gen(labels, j):\n",
        "        k = len(labels)\n",
        "        current = labels[j]\n",
        "        for m in labels:\n",
        "            if m == current:\n",
        "                continue\n",
        "            yield (x - m) / (current - m)\n",
        "    return expand(product(gen(labels, j)))\n",
        "\n",
        "def polyL(xs,j):\n",
        "    '''\n",
        "    Lagrange polynomials as sympy polynomial\n",
        "    xs: the n+1 nodes of the intepolation polynomial in the Lagrange Form\n",
        "    j: Is the j-th Lagrange polinomial for the specific xs.\n",
        "    '''\n",
        "    xs=tuple(xs)\n",
        "    return l(xs,j)\n",
        "\n",
        "def L(xs,j):\n",
        "    '''\n",
        "    Lagrange polynomials as python function\n",
        "    xs: the n+1 nodes of the intepolation polynomial in the Lagrange Form\n",
        "    j: Is the j-th Lagrange polinomial for the specific xs.\n",
        "    '''\n",
        "    return lambdify(x, polyL(xs,j) )\n",
        "\n",
        "def lagrangePolynomial(xs, ys):\n",
        "    '''\n",
        "    Given two 1-D arrays `x` and `w,` returns the Lagrange interpolating\n",
        "    polynomial through the points ``(x, w)``.\n",
        "\n",
        "    '''\n",
        "    # based on https://en.wikipedia.org/wiki/Lagrange_polynomial#Example_1\n",
        "    k = len(xs)\n",
        "    total = 0\n",
        "\n",
        "    # use tuple, needs to be hashable to cache\n",
        "    xs = tuple(xs)\n",
        "\n",
        "    for j, current in enumerate(ys):\n",
        "        t = current * l(xs, j)\n",
        "        total += t\n",
        "\n",
        "    return total\n",
        "\n",
        "\n",
        "\n",
        "\n",
        "def x_intersections(function, *args):\n",
        "    \"Finds all x for which function(x) = 0\"\n",
        "    # solve_poly_system seems more efficient than solve for larger expressions\n",
        "    return [var for var in chain.from_iterable(solve_poly_system([function], *args)) if (var.is_real)]\n",
        "\n",
        "def x_scale(function, factor):\n",
        "    \"Scale function on the x-axis\"\n",
        "    return functions.subs(x, x / factor)\n",
        "\n",
        "if __name__ == '__main__':\n",
        "    func = lagrangePolynomial(labels, points)\n",
        "\n",
        "    pyfunc = lambdify(x, func)\n",
        "\n",
        "    for a, b in zip(labels, points):\n",
        "        assert(pyfunc(a) - b < 1e-6)"
      ],
      "execution_count": 6,
      "outputs": [
        {
          "output_type": "stream",
          "text": [
            "Writing LagrangePolynomial.py\n"
          ],
          "name": "stdout"
        }
      ]
    },
    {
      "cell_type": "code",
      "metadata": {
        "id": "a8hIn20o6MsW",
        "colab_type": "code",
        "outputId": "69c08780-f21b-43e8-95b3-e371577cf231",
        "colab": {
          "base_uri": "https://localhost:8080/",
          "height": 105
        }
      },
      "source": [
        "%pylab inline\n",
        "import pandas as pd\n",
        "import numpy as np\n",
        "import LagrangePolynomial as LP\n",
        "from scipy import interpolate"
      ],
      "execution_count": 7,
      "outputs": [
        {
          "output_type": "stream",
          "text": [
            "Populating the interactive namespace from numpy and matplotlib\n"
          ],
          "name": "stdout"
        },
        {
          "output_type": "stream",
          "text": [
            "/usr/local/lib/python3.6/dist-packages/IPython/core/magics/pylab.py:161: UserWarning: pylab import has clobbered these variables: ['cos', 'sin']\n",
            "`%matplotlib` prevents importing * from pylab and numpy\n",
            "  \"\\n`%matplotlib` prevents importing * from pylab and numpy\"\n"
          ],
          "name": "stderr"
        }
      ]
    },
    {
      "cell_type": "markdown",
      "metadata": {
        "id": "9hay33SU6MsZ",
        "colab_type": "text"
      },
      "source": [
        "## Example of interpolation of tree points with a polynomial of degree 2"
      ]
    },
    {
      "cell_type": "code",
      "metadata": {
        "id": "XIUK3AHE6Msb",
        "colab_type": "code",
        "outputId": "0befbe4e-addd-49e8-af1e-e1f096e1c769",
        "colab": {
          "base_uri": "https://localhost:8080/",
          "height": 141
        }
      },
      "source": [
        "df=pd.DataFrame({ 'X':[3,10,21.3],'Y':[8.,6.5,3.]}  )\n",
        "df"
      ],
      "execution_count": 8,
      "outputs": [
        {
          "output_type": "execute_result",
          "data": {
            "text/html": [
              "<div>\n",
              "<style scoped>\n",
              "    .dataframe tbody tr th:only-of-type {\n",
              "        vertical-align: middle;\n",
              "    }\n",
              "\n",
              "    .dataframe tbody tr th {\n",
              "        vertical-align: top;\n",
              "    }\n",
              "\n",
              "    .dataframe thead th {\n",
              "        text-align: right;\n",
              "    }\n",
              "</style>\n",
              "<table border=\"1\" class=\"dataframe\">\n",
              "  <thead>\n",
              "    <tr style=\"text-align: right;\">\n",
              "      <th></th>\n",
              "      <th>X</th>\n",
              "      <th>Y</th>\n",
              "    </tr>\n",
              "  </thead>\n",
              "  <tbody>\n",
              "    <tr>\n",
              "      <th>0</th>\n",
              "      <td>3.0</td>\n",
              "      <td>8.0</td>\n",
              "    </tr>\n",
              "    <tr>\n",
              "      <th>1</th>\n",
              "      <td>10.0</td>\n",
              "      <td>6.5</td>\n",
              "    </tr>\n",
              "    <tr>\n",
              "      <th>2</th>\n",
              "      <td>21.3</td>\n",
              "      <td>3.0</td>\n",
              "    </tr>\n",
              "  </tbody>\n",
              "</table>\n",
              "</div>"
            ],
            "text/plain": [
              "      X    Y\n",
              "0   3.0  8.0\n",
              "1  10.0  6.5\n",
              "2  21.3  3.0"
            ]
          },
          "metadata": {
            "tags": []
          },
          "execution_count": 8
        }
      ]
    },
    {
      "cell_type": "markdown",
      "metadata": {
        "id": "BdwRAGHJ6Msd",
        "colab_type": "text"
      },
      "source": [
        "### `Numpy` implementation:"
      ]
    },
    {
      "cell_type": "code",
      "metadata": {
        "id": "WmBQnOFN6Mse",
        "colab_type": "code",
        "outputId": "afdc3fe6-afe4-4c8e-ec03-5555b7738ed4",
        "colab": {
          "base_uri": "https://localhost:8080/",
          "height": 303
        }
      },
      "source": [
        "coeffs=np.polyfit(df.X,df.Y,deg=2)\n",
        "\n",
        "P=np.poly1d(coeffs)\n",
        "plt.plot(df.X,df.Y,'ro')\n",
        "x=np.linspace(-8,30)\n",
        "plt.plot(x,P( x),'b-')\n",
        "#plt.grid()\n",
        "plt.ylim(0,12)\n",
        "\n",
        "print(np.poly1d(coeffs))"
      ],
      "execution_count": 9,
      "outputs": [
        {
          "output_type": "stream",
          "text": [
            "           2\n",
            "-0.005216 x - 0.1465 x + 8.486\n"
          ],
          "name": "stdout"
        },
        {
          "output_type": "display_data",
          "data": {
            "image/png": "[encoded data removed]",
            "text/plain": [
              "<Figure size 432x288 with 1 Axes>"
            ]
          },
          "metadata": {
            "tags": []
          }
        }
      ]
    },
    {
      "cell_type": "markdown",
      "metadata": {
        "id": "Vzok9x4q6Msi",
        "colab_type": "text"
      },
      "source": [
        "### `Scipy` implementation of the Interpolation polynomial in the Lagrange form"
      ]
    },
    {
      "cell_type": "code",
      "metadata": {
        "id": "YyFwK_zYPA7S",
        "colab_type": "code",
        "colab": {}
      },
      "source": [
        "interpolate.lagrange?"
      ],
      "execution_count": 0,
      "outputs": []
    },
    {
      "cell_type": "code",
      "metadata": {
        "id": "RNkOXO3U6Msi",
        "colab_type": "code",
        "outputId": "951d840b-0a70-4afb-f752-5c0ea8f72684",
        "colab": {
          "base_uri": "https://localhost:8080/",
          "height": 51
        }
      },
      "source": [
        "P=interpolate.lagrange(df.X,df.Y)\n",
        "print(P)"
      ],
      "execution_count": 11,
      "outputs": [
        {
          "output_type": "stream",
          "text": [
            "           2\n",
            "-0.005216 x - 0.1465 x + 8.486\n"
          ],
          "name": "stdout"
        }
      ]
    },
    {
      "cell_type": "markdown",
      "metadata": {
        "id": "HPev6_vt6Mso",
        "colab_type": "text"
      },
      "source": [
        "### `Sympy` implementation of the Interpolation polynomial in the Lagrange form"
      ]
    },
    {
      "cell_type": "code",
      "metadata": {
        "id": "A9HnVoq66Msp",
        "colab_type": "code",
        "outputId": "c9ed4285-3b4b-4552-eddd-d9746adf9d5c",
        "colab": {
          "base_uri": "https://localhost:8080/",
          "height": 34
        }
      },
      "source": [
        "LP.lagrangePolynomial(df.X,df.Y)"
      ],
      "execution_count": 12,
      "outputs": [
        {
          "output_type": "execute_result",
          "data": {
            "text/plain": [
              "-0.00521578136549848*x**2 - 0.146480556534234*x + 8.48638370189219"
            ]
          },
          "metadata": {
            "tags": []
          },
          "execution_count": 12
        }
      ]
    },
    {
      "cell_type": "markdown",
      "metadata": {
        "id": "I6NkvQE_6Mst",
        "colab_type": "text"
      },
      "source": [
        "With this simpy implementation we can check expliclty that:\n",
        "$$P_2(x) =  L_{2,0}(x)f(x_0)+L_{2,1}(x)f(x_1)+L_{2,2}(x)f(x_2)$$"
      ]
    },
    {
      "cell_type": "markdown",
      "metadata": {
        "id": "qoMgEkhQ6Mst",
        "colab_type": "text"
      },
      "source": [
        "a) By using `sympy` polynomials:  `LP.polyL`:"
      ]
    },
    {
      "cell_type": "code",
      "metadata": {
        "id": "LpV8NsAK6Msx",
        "colab_type": "code",
        "outputId": "305e8446-966d-4971-94d3-8e6f2b90af45",
        "colab": {
          "base_uri": "https://localhost:8080/",
          "height": 34
        }
      },
      "source": [
        "LP.polyL( df.X,0)*df.Y[0]+LP.polyL( df.X,1)*df.Y[1]+LP.polyL( df.X,2)*df.Y[2]"
      ],
      "execution_count": 13,
      "outputs": [
        {
          "output_type": "execute_result",
          "data": {
            "text/plain": [
              "-0.00521578136549848*x**2 - 0.146480556534234*x + 8.48638370189219"
            ]
          },
          "metadata": {
            "tags": []
          },
          "execution_count": 13
        }
      ]
    },
    {
      "cell_type": "code",
      "metadata": {
        "id": "nYd7rBzxCI9r",
        "colab_type": "code",
        "colab": {
          "base_uri": "https://localhost:8080/",
          "height": 34
        },
        "outputId": "680987cb-c13f-4b14-8a5e-6dcf6c33e870"
      },
      "source": [
        "LP.polyL( df.X,0)"
      ],
      "execution_count": 14,
      "outputs": [
        {
          "output_type": "execute_result",
          "data": {
            "text/plain": [
              "0.0078064012490242*x**2 - 0.244340359094457*x + 1.66276346604215"
            ]
          },
          "metadata": {
            "tags": []
          },
          "execution_count": 14
        }
      ]
    },
    {
      "cell_type": "markdown",
      "metadata": {
        "id": "sUh2LNo76Ms0",
        "colab_type": "text"
      },
      "source": [
        "As a function"
      ]
    },
    {
      "cell_type": "code",
      "metadata": {
        "id": "upfcBNKG6Ms1",
        "colab_type": "code",
        "colab": {}
      },
      "source": [
        "def P_2(x,xs,ys):\n",
        "    return LP.L(xs,0)(x)*ys[0]+LP.L(xs,1)(x)*ys[1]+LP.L( xs,2)(x)*ys[2]"
      ],
      "execution_count": 0,
      "outputs": []
    },
    {
      "cell_type": "code",
      "metadata": {
        "id": "3qEo2_Z36Ms5",
        "colab_type": "code",
        "outputId": "98165806-35b9-43c4-9fb5-f43ab88ebb44",
        "colab": {
          "base_uri": "https://localhost:8080/",
          "height": 286
        }
      },
      "source": [
        "plt.plot(df.X,df.Y,'ro')\n",
        "x=np.linspace(-8,30)\n",
        "plt.plot(x,P_2( x,df.X,df.Y),'b-')\n",
        "#plt.grid()\n",
        "plt.ylim(0,12)"
      ],
      "execution_count": 16,
      "outputs": [
        {
          "output_type": "execute_result",
          "data": {
            "text/plain": [
              "(0.0, 12.0)"
            ]
          },
          "metadata": {
            "tags": []
          },
          "execution_count": 16
        },
        {
          "output_type": "display_data",
          "data": {
            "image/png": "[encoded data removed]",
            "text/plain": [
              "<Figure size 432x288 with 1 Axes>"
            ]
          },
          "metadata": {
            "tags": []
          }
        }
      ]
    },
    {
      "cell_type": "markdown",
      "metadata": {
        "id": "kuQ67AD36Ms7",
        "colab_type": "text"
      },
      "source": [
        "## Lagrange polynomial properties\n",
        "$$L_{n,i}(x_i) = 1\\,,\\qquad\\text{and}\\,,\\qquad L_{n,i}(x_j) = 0\\quad\\text{for $i\\neq j$}$$ "
      ]
    },
    {
      "cell_type": "markdown",
      "metadata": {
        "id": "sm3yMzd16Ms8",
        "colab_type": "text"
      },
      "source": [
        "As `sympy` objects"
      ]
    },
    {
      "cell_type": "code",
      "metadata": {
        "id": "d75g4LLQ6Ms_",
        "colab_type": "code",
        "colab": {
          "base_uri": "https://localhost:8080/",
          "height": 34
        },
        "outputId": "e4fd8229-8187-4d17-c647-f1306d063f99"
      },
      "source": [
        "L2_0=LP.polyL(df.X,0)\n",
        "L2_0"
      ],
      "execution_count": 17,
      "outputs": [
        {
          "output_type": "execute_result",
          "data": {
            "text/plain": [
              "0.0078064012490242*x**2 - 0.244340359094457*x + 1.66276346604215"
            ]
          },
          "metadata": {
            "tags": []
          },
          "execution_count": 17
        }
      ]
    },
    {
      "cell_type": "code",
      "metadata": {
        "id": "-o_bqkZb6MtB",
        "colab_type": "code",
        "outputId": "7f2fb62c-307c-4bfa-d136-b848f7ccf481",
        "colab": {
          "base_uri": "https://localhost:8080/",
          "height": 34
        }
      },
      "source": [
        "L2_0.as_poly()(df.X[0])"
      ],
      "execution_count": 19,
      "outputs": [
        {
          "output_type": "execute_result",
          "data": {
            "text/plain": [
              "1.00000000000000"
            ]
          },
          "metadata": {
            "tags": []
          },
          "execution_count": 19
        }
      ]
    },
    {
      "cell_type": "code",
      "metadata": {
        "id": "DXf_QFl-6MtD",
        "colab_type": "code",
        "outputId": "ecf944d4-6d39-417b-af61-f566467ac680",
        "colab": {
          "base_uri": "https://localhost:8080/",
          "height": 34
        }
      },
      "source": [
        "L2_0.as_poly()(df.X[1])"
      ],
      "execution_count": 20,
      "outputs": [
        {
          "output_type": "execute_result",
          "data": {
            "text/plain": [
              "-4.44089209850063e-16"
            ]
          },
          "metadata": {
            "tags": []
          },
          "execution_count": 20
        }
      ]
    },
    {
      "cell_type": "markdown",
      "metadata": {
        "id": "pGt8p9Pi6MtH",
        "colab_type": "text"
      },
      "source": [
        "As `python` function"
      ]
    },
    {
      "cell_type": "code",
      "metadata": {
        "id": "QdZDFKwg6MtH",
        "colab_type": "code",
        "outputId": "3fbac818-8b67-4fc5-bf19-760990d7d958",
        "colab": {
          "base_uri": "https://localhost:8080/",
          "height": 34
        }
      },
      "source": [
        "print( LP.L(df.X,0)(df.X[0]),LP.L(df.X,1)(df.X[1]),LP.L(df.X,2)(df.X[2]) )"
      ],
      "execution_count": 21,
      "outputs": [
        {
          "output_type": "stream",
          "text": [
            "0.9999999999999969 0.9999999999999951 0.9999999999999996\n"
          ],
          "name": "stdout"
        }
      ]
    },
    {
      "cell_type": "code",
      "metadata": {
        "id": "ASNerdbw6MtL",
        "colab_type": "code",
        "outputId": "e6d0a641-d5b6-4f0e-88ec-8d6c963cb0cd",
        "colab": {
          "base_uri": "https://localhost:8080/",
          "height": 85
        }
      },
      "source": [
        "LP.L(df.X,0)(df.X)"
      ],
      "execution_count": 22,
      "outputs": [
        {
          "output_type": "execute_result",
          "data": {
            "text/plain": [
              "0    1.000000e+00\n",
              "1   -4.440892e-16\n",
              "2    5.329071e-15\n",
              "Name: X, dtype: float64"
            ]
          },
          "metadata": {
            "tags": []
          },
          "execution_count": 22
        }
      ]
    },
    {
      "cell_type": "code",
      "metadata": {
        "id": "_khcYeBZ6MtP",
        "colab_type": "code",
        "outputId": "5ad67dfb-20f7-4084-f549-201ba0d0445b",
        "colab": {
          "base_uri": "https://localhost:8080/",
          "height": 85
        }
      },
      "source": [
        "LP.L(df.X,1)(df.X)"
      ],
      "execution_count": 23,
      "outputs": [
        {
          "output_type": "execute_result",
          "data": {
            "text/plain": [
              "0   -4.302114e-16\n",
              "1    1.000000e+00\n",
              "2   -2.042810e-14\n",
              "Name: X, dtype: float64"
            ]
          },
          "metadata": {
            "tags": []
          },
          "execution_count": 23
        }
      ]
    },
    {
      "cell_type": "code",
      "metadata": {
        "id": "WTerwYpC6MtS",
        "colab_type": "code",
        "outputId": "ebfe3e3f-2bb4-492f-b96e-aa886d80c73a",
        "colab": {
          "base_uri": "https://localhost:8080/",
          "height": 85
        }
      },
      "source": [
        "LP.L(df.X,2)(df.X)"
      ],
      "execution_count": 24,
      "outputs": [
        {
          "output_type": "execute_result",
          "data": {
            "text/plain": [
              "0    1.665335e-16\n",
              "1    0.000000e+00\n",
              "2    1.000000e+00\n",
              "Name: X, dtype: float64"
            ]
          },
          "metadata": {
            "tags": []
          },
          "execution_count": 24
        }
      ]
    },
    {
      "cell_type": "markdown",
      "metadata": {
        "id": "l0tYzMZp6MtX",
        "colab_type": "text"
      },
      "source": [
        "__Actividad__ Fit a cuatro puntos, comprobando las propiedades del ploinomio de Lagrange"
      ]
    },
    {
      "cell_type": "code",
      "metadata": {
        "id": "9gFhCI7pC_Qd",
        "colab_type": "code",
        "colab": {}
      },
      "source": [
        ""
      ],
      "execution_count": 0,
      "outputs": []
    }
  ]
}