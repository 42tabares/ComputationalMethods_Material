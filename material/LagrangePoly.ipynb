{
  "nbformat": 4,
  "nbformat_minor": 0,
  "metadata": {
    "colab": {
      "name": "LagrangePoly.ipynb",
      "version": "0.3.2",
      "provenance": [],
      "collapsed_sections": [],
      "toc_visible": true,
      "include_colab_link": true
    },
    "kernelspec": {
      "display_name": "Python 3",
      "language": "python",
      "name": "python3"
    }
  },
  "cells": [
    {
      "cell_type": "markdown",
      "metadata": {
        "id": "view-in-github",
        "colab_type": "text"
      },
      "source": [
        "[View in Colaboratory](https://colab.research.google.com/github/restrepo/ComputationalMethods/blob/master/material/LagrangePoly.ipynb)"
      ]
    },
    {
      "metadata": {
        "id": "g7Iz90k56MsP",
        "colab_type": "text"
      },
      "cell_type": "markdown",
      "source": [
        "# Interpolation polynomial in the Lagrange form\n",
        "Based on [this code](https://gist.github.com/folkertdev/084c53887c49a6248839)\n",
        "\n",
        "$$f(x)\\approx P_n(x)\\,,$$\n",
        "\n",
        "$$P_n(x) = \\sum_{i=0}^n f(x_i)L_{n,i}(x) = \\sum_{i=0}^n y_iL_{n,i}(x)$$\n",
        "\n",
        "**References:**\n",
        "[Wikipedia](https://en.wikipedia.org/wiki/Lagrange_polynomial)"
      ]
    },
    {
      "metadata": {
        "id": "xYmS1wzh-hZL",
        "colab_type": "text"
      },
      "cell_type": "markdown",
      "source": [
        "### We will  `sympy`"
      ]
    },
    {
      "metadata": {
        "id": "kF5mBh2q-mMs",
        "colab_type": "code",
        "colab": {
          "base_uri": "https://localhost:8080/",
          "height": 34
        },
        "outputId": "41eb47e3-180b-461d-df8d-41a86fc2e7f6"
      },
      "cell_type": "code",
      "source": [
        "from sympy import symbols, expand #..., lambdify, solve_poly_system\n",
        "x = symbols('x')\n",
        "expand('(x-1)*(x+1)')"
      ],
      "execution_count": 12,
      "outputs": [
        {
          "output_type": "execute_result",
          "data": {
            "text/plain": [
              "x**2 - 1"
            ]
          },
          "metadata": {
            "tags": []
          },
          "execution_count": 12
        }
      ]
    },
    {
      "metadata": {
        "id": "b2K__1bj7xi7",
        "colab_type": "code",
        "colab": {}
      },
      "cell_type": "code",
      "source": [
        "interpolate.lagrange?"
      ],
      "execution_count": 0,
      "outputs": []
    },
    {
      "metadata": {
        "id": "edG_qX0U6MsR",
        "colab_type": "code",
        "colab": {
          "base_uri": "https://localhost:8080/",
          "height": 34
        },
        "outputId": "5a05eddc-de59-4679-c3ff-028b339874d9"
      },
      "cell_type": "code",
      "source": [
        "%%writefile LagrangePolynomial.py\n",
        "\"\"\"\n",
        "From: https://gist.github.com/folkertdev/084c53887c49a6248839\n",
        "A sympy-based Lagrange polynomial constructor. \n",
        "\n",
        "Implementation of Lagrangian interpolation polynomial.\n",
        "See:\n",
        "\n",
        "   def lagrangePolynomial(xs, ys):\n",
        "\n",
        "Given two 1-D arrays `xs` and `ys,` returns the Lagrange interpolating\n",
        "polynomial through the points ``(xs, ys)``\n",
        "\n",
        "\n",
        "Given a set 1-D arrays of inputs and outputs, the lagrangePolynomial function \n",
        "will construct an expression that for every input gives the corresponding output. \n",
        "For intermediate values, the polynomial interpolates (giving varying results \n",
        "based  on the shape of your input). \n",
        "\n",
        "The Lagrangian polynomials can be obtained explicitly with (see below):\n",
        "   \n",
        "   def polyL(xs,j):\n",
        "   \n",
        "as sympy polynomial, and \n",
        "\n",
        "    def L(xs,j):\n",
        "\n",
        "as Python functions.\n",
        "\n",
        "\n",
        "This is useful when the result needs to be used outside of Python, because the \n",
        "expression can easily be copied. To convert the expression to a python function \n",
        "object, use sympy.lambdify.\n",
        "\"\"\"\n",
        "from sympy import symbols, expand, lambdify, solve_poly_system\n",
        "#Python library for arithmetic with arbitrary precision\n",
        "from mpmath import tan, e\n",
        "\n",
        "import math\n",
        "\n",
        "from operator import mul\n",
        "from functools import reduce, lru_cache\n",
        "from itertools import chain\n",
        "\n",
        "# sympy symbols\n",
        "x = symbols('x')\n",
        "\n",
        "# convenience functions\n",
        "product = lambda *args: reduce(mul, *(list(args) + [1]))\n",
        "\n",
        "# test data\n",
        "labels = [(-3/2), (-3/4), 0, 3/4, 3/2]\n",
        "points = [math.tan(v) for v in labels]\n",
        "\n",
        "# this product may be reusable (when creating many functions on the same domain)\n",
        "# therefore, cache the result\n",
        "@lru_cache(16)\n",
        "def l(labels, j):\n",
        "    def gen(labels, j):\n",
        "        k = len(labels)\n",
        "        current = labels[j]\n",
        "        for m in labels:\n",
        "            if m == current:\n",
        "                continue\n",
        "            yield (x - m) / (current - m)\n",
        "    return expand(product(gen(labels, j)))\n",
        "\n",
        "def polyL(xs,j):\n",
        "    '''\n",
        "    Lagrange polynomials as sympy polynomial\n",
        "    xs: the n+1 nodes of the intepolation polynomial in the Lagrange Form\n",
        "    j: Is the j-th Lagrange polinomial for the specific xs.\n",
        "    '''\n",
        "    xs=tuple(xs)\n",
        "    return l(xs,j)\n",
        "\n",
        "def L(xs,j):\n",
        "    '''\n",
        "    Lagrange polynomials as python function\n",
        "    xs: the n+1 nodes of the intepolation polynomial in the Lagrange Form\n",
        "    j: Is the j-th Lagrange polinomial for the specific xs.\n",
        "    '''\n",
        "    return lambdify(x, polyL(xs,j) )\n",
        "\n",
        "def lagrangePolynomial(xs, ys):\n",
        "    '''\n",
        "    Given two 1-D arrays `x` and `w,` returns the Lagrange interpolating\n",
        "    polynomial through the points ``(x, w)``.\n",
        "\n",
        "    '''\n",
        "    # based on https://en.wikipedia.org/wiki/Lagrange_polynomial#Example_1\n",
        "    k = len(xs)\n",
        "    total = 0\n",
        "\n",
        "    # use tuple, needs to be hashable to cache\n",
        "    xs = tuple(xs)\n",
        "\n",
        "    for j, current in enumerate(ys):\n",
        "        t = current * l(xs, j)\n",
        "        total += t\n",
        "\n",
        "    return total\n",
        "\n",
        "\n",
        "\n",
        "\n",
        "def x_intersections(function, *args):\n",
        "    \"Finds all x for which function(x) = 0\"\n",
        "    # solve_poly_system seems more efficient than solve for larger expressions\n",
        "    return [var for var in chain.from_iterable(solve_poly_system([function], *args)) if (var.is_real)]\n",
        "\n",
        "def x_scale(function, factor):\n",
        "    \"Scale function on the x-axis\"\n",
        "    return functions.subs(x, x / factor)\n",
        "\n",
        "if __name__ == '__main__':\n",
        "    func = lagrangePolynomial(labels, points)\n",
        "\n",
        "    pyfunc = lambdify(x, func)\n",
        "\n",
        "    for a, b in zip(labels, points):\n",
        "        assert(pyfunc(a) - b < 1e-6)"
      ],
      "execution_count": 1,
      "outputs": [
        {
          "output_type": "stream",
          "text": [
            "Writing LagrangePolynomial.py\n"
          ],
          "name": "stdout"
        }
      ]
    },
    {
      "metadata": {
        "id": "a8hIn20o6MsW",
        "colab_type": "code",
        "colab": {
          "base_uri": "https://localhost:8080/",
          "height": 34
        },
        "outputId": "c37960a2-e19d-4bb9-d476-8fbabbdbebd3"
      },
      "cell_type": "code",
      "source": [
        "%pylab inline\n",
        "import pandas as pd\n",
        "import numpy as np\n",
        "import LagrangePolynomial as LP\n",
        "from scipy import interpolate"
      ],
      "execution_count": 2,
      "outputs": [
        {
          "output_type": "stream",
          "text": [
            "Populating the interactive namespace from numpy and matplotlib\n"
          ],
          "name": "stdout"
        }
      ]
    },
    {
      "metadata": {
        "id": "9hay33SU6MsZ",
        "colab_type": "text"
      },
      "cell_type": "markdown",
      "source": [
        "## Example of interpolation of tree points with a polynomial of degree 2"
      ]
    },
    {
      "metadata": {
        "id": "XIUK3AHE6Msb",
        "colab_type": "code",
        "colab": {
          "base_uri": "https://localhost:8080/",
          "height": 142
        },
        "outputId": "0340e4ee-f33a-4386-9717-fef410ad17fa"
      },
      "cell_type": "code",
      "source": [
        "df=pd.DataFrame({ 'X':[3,10,21.3],'Y':[8.,6.5,3.]}  )\n",
        "df"
      ],
      "execution_count": 3,
      "outputs": [
        {
          "output_type": "execute_result",
          "data": {
            "text/html": [
              "<div>\n",
              "<style scoped>\n",
              "    .dataframe tbody tr th:only-of-type {\n",
              "        vertical-align: middle;\n",
              "    }\n",
              "\n",
              "    .dataframe tbody tr th {\n",
              "        vertical-align: top;\n",
              "    }\n",
              "\n",
              "    .dataframe thead th {\n",
              "        text-align: right;\n",
              "    }\n",
              "</style>\n",
              "<table border=\"1\" class=\"dataframe\">\n",
              "  <thead>\n",
              "    <tr style=\"text-align: right;\">\n",
              "      <th></th>\n",
              "      <th>X</th>\n",
              "      <th>Y</th>\n",
              "    </tr>\n",
              "  </thead>\n",
              "  <tbody>\n",
              "    <tr>\n",
              "      <th>0</th>\n",
              "      <td>3.0</td>\n",
              "      <td>8.0</td>\n",
              "    </tr>\n",
              "    <tr>\n",
              "      <th>1</th>\n",
              "      <td>10.0</td>\n",
              "      <td>6.5</td>\n",
              "    </tr>\n",
              "    <tr>\n",
              "      <th>2</th>\n",
              "      <td>21.3</td>\n",
              "      <td>3.0</td>\n",
              "    </tr>\n",
              "  </tbody>\n",
              "</table>\n",
              "</div>"
            ],
            "text/plain": [
              "      X    Y\n",
              "0   3.0  8.0\n",
              "1  10.0  6.5\n",
              "2  21.3  3.0"
            ]
          },
          "metadata": {
            "tags": []
          },
          "execution_count": 3
        }
      ]
    },
    {
      "metadata": {
        "id": "BdwRAGHJ6Msd",
        "colab_type": "text"
      },
      "cell_type": "markdown",
      "source": [
        "### `Numpy` implementation:"
      ]
    },
    {
      "metadata": {
        "id": "WmBQnOFN6Mse",
        "colab_type": "code",
        "colab": {
          "base_uri": "https://localhost:8080/",
          "height": 303
        },
        "outputId": "94ff97e3-a0c1-482f-f3d9-51107b3314b0"
      },
      "cell_type": "code",
      "source": [
        "coeffs=np.polyfit(df.X,df.Y,deg=2)\n",
        "\n",
        "P=np.poly1d(coeffs)\n",
        "plt.plot(df.X,df.Y,'ro')\n",
        "x=np.linspace(-8,30)\n",
        "plt.plot(x,P( x),'b-')\n",
        "#plt.grid()\n",
        "plt.ylim(0,12)\n",
        "\n",
        "print(np.poly1d(coeffs))"
      ],
      "execution_count": 5,
      "outputs": [
        {
          "output_type": "stream",
          "text": [
            "           2\n",
            "-0.005216 x - 0.1465 x + 8.486\n"
          ],
          "name": "stdout"
        },
        {
          "output_type": "display_data",
          "data": {
            "image/png": "[encoded data removed]",
            "text/plain": [
              "<matplotlib.figure.Figure at 0x7f01be637f60>"
            ]
          },
          "metadata": {
            "tags": []
          }
        }
      ]
    },
    {
      "metadata": {
        "id": "Vzok9x4q6Msi",
        "colab_type": "text"
      },
      "cell_type": "markdown",
      "source": [
        "### `Scipy` implementation of the Interpolation polynomial in the Lagrange form"
      ]
    },
    {
      "metadata": {
        "id": "RNkOXO3U6Msi",
        "colab_type": "code",
        "colab": {
          "base_uri": "https://localhost:8080/",
          "height": 51
        },
        "outputId": "7f3d542e-3752-473f-b7c8-d28605c655d8"
      },
      "cell_type": "code",
      "source": [
        "P=interpolate.lagrange(df.X,df.Y)\n",
        "print(P)"
      ],
      "execution_count": 6,
      "outputs": [
        {
          "output_type": "stream",
          "text": [
            "           2\n",
            "-0.005216 x - 0.1465 x + 8.486\n"
          ],
          "name": "stdout"
        }
      ]
    },
    {
      "metadata": {
        "id": "HPev6_vt6Mso",
        "colab_type": "text"
      },
      "cell_type": "markdown",
      "source": [
        "### `Sympy` implementation of the Interpolation polynomial in the Lagrange form"
      ]
    },
    {
      "metadata": {
        "id": "A9HnVoq66Msp",
        "colab_type": "code",
        "colab": {
          "base_uri": "https://localhost:8080/",
          "height": 34
        },
        "outputId": "f2d2d0db-18d1-444c-9b29-8b08e61d21e7"
      },
      "cell_type": "code",
      "source": [
        "LP.lagrangePolynomial(df.X,df.Y)"
      ],
      "execution_count": 8,
      "outputs": [
        {
          "output_type": "execute_result",
          "data": {
            "text/plain": [
              "-0.00521578136549848*x**2 - 0.146480556534234*x + 8.48638370189219"
            ]
          },
          "metadata": {
            "tags": []
          },
          "execution_count": 8
        }
      ]
    },
    {
      "metadata": {
        "id": "I6NkvQE_6Mst",
        "colab_type": "text"
      },
      "cell_type": "markdown",
      "source": [
        "With this simpy implementation we can check expliclty that:\n",
        "$$P_2(x) =  L_{2,0}(x)f(x_0)+L_{2,1}(x)f(x_1)+L_{2,2}(x)f(x_2)$$"
      ]
    },
    {
      "metadata": {
        "id": "qoMgEkhQ6Mst",
        "colab_type": "text"
      },
      "cell_type": "markdown",
      "source": [
        "a) By using `sympy` polynomials:  `LP.polyL`:"
      ]
    },
    {
      "metadata": {
        "id": "LpV8NsAK6Msx",
        "colab_type": "code",
        "colab": {
          "base_uri": "https://localhost:8080/",
          "height": 34
        },
        "outputId": "ef464dda-9329-4d97-d576-16c5979954e8"
      },
      "cell_type": "code",
      "source": [
        "LP.polyL( df.X,0)*df.Y[0]+LP.polyL( df.X,1)*df.Y[1]+LP.polyL( df.X,2)*df.Y[2]"
      ],
      "execution_count": 13,
      "outputs": [
        {
          "output_type": "execute_result",
          "data": {
            "text/plain": [
              "-0.00521578136549848*x**2 - 0.146480556534234*x + 8.48638370189219"
            ]
          },
          "metadata": {
            "tags": []
          },
          "execution_count": 13
        }
      ]
    },
    {
      "metadata": {
        "id": "sUh2LNo76Ms0",
        "colab_type": "text"
      },
      "cell_type": "markdown",
      "source": [
        "As a function"
      ]
    },
    {
      "metadata": {
        "id": "upfcBNKG6Ms1",
        "colab_type": "code",
        "colab": {}
      },
      "cell_type": "code",
      "source": [
        "def P_2(x,xs,ys):\n",
        "    return LP.L(xs,0)(x)*ys[0]+LP.L(xs,1)(x)*ys[1]+LP.L( xs,2)(x)*ys[2]"
      ],
      "execution_count": 0,
      "outputs": []
    },
    {
      "metadata": {
        "id": "3qEo2_Z36Ms5",
        "colab_type": "code",
        "colab": {
          "base_uri": "https://localhost:8080/",
          "height": 286
        },
        "outputId": "f65d0250-9f36-4987-ffb1-f014a8146c28"
      },
      "cell_type": "code",
      "source": [
        "plt.plot(df.X,df.Y,'ro')\n",
        "x=np.linspace(-8,30)\n",
        "plt.plot(x,P_2( x,df.X,df.Y),'b-')\n",
        "#plt.grid()\n",
        "plt.ylim(0,12)"
      ],
      "execution_count": 16,
      "outputs": [
        {
          "output_type": "execute_result",
          "data": {
            "text/plain": [
              "(0, 12)"
            ]
          },
          "metadata": {
            "tags": []
          },
          "execution_count": 16
        },
        {
          "output_type": "display_data",
          "data": {
            "image/png": "[encoded data removed]",
            "text/plain": [
              "<matplotlib.figure.Figure at 0x7f01bbc0da90>"
            ]
          },
          "metadata": {
            "tags": []
          }
        }
      ]
    },
    {
      "metadata": {
        "id": "kuQ67AD36Ms7",
        "colab_type": "text"
      },
      "cell_type": "markdown",
      "source": [
        "## Lagrange polynomial properties\n",
        "$$L_{n,i}(x_i) = 1\\,,\\qquad\\text{and}\\,,\\qquad L_{n,i}(x_j) = 0\\quad\\text{for $i\\neq j$}$$ "
      ]
    },
    {
      "metadata": {
        "id": "sm3yMzd16Ms8",
        "colab_type": "text"
      },
      "cell_type": "markdown",
      "source": [
        "As `sympy` objects"
      ]
    },
    {
      "metadata": {
        "id": "d75g4LLQ6Ms_",
        "colab_type": "code",
        "colab": {}
      },
      "cell_type": "code",
      "source": [
        "L2_0=LP.polyL(df.X,0)"
      ],
      "execution_count": 0,
      "outputs": []
    },
    {
      "metadata": {
        "id": "-o_bqkZb6MtB",
        "colab_type": "code",
        "colab": {
          "base_uri": "https://localhost:8080/",
          "height": 34
        },
        "outputId": "361f4bf5-d1bf-4cd8-85f8-5c7f46498b0c"
      },
      "cell_type": "code",
      "source": [
        "L2_0.as_poly()(df.X[0])"
      ],
      "execution_count": 18,
      "outputs": [
        {
          "output_type": "execute_result",
          "data": {
            "text/plain": [
              "1.00000000000000"
            ]
          },
          "metadata": {
            "tags": []
          },
          "execution_count": 18
        }
      ]
    },
    {
      "metadata": {
        "id": "DXf_QFl-6MtD",
        "colab_type": "code",
        "colab": {
          "base_uri": "https://localhost:8080/",
          "height": 34
        },
        "outputId": "7c62d3f2-0956-4816-e666-134c8ebdc4aa"
      },
      "cell_type": "code",
      "source": [
        "L2_0.as_poly()(df.X[2])"
      ],
      "execution_count": 19,
      "outputs": [
        {
          "output_type": "execute_result",
          "data": {
            "text/plain": [
              "-4.44089209850063e-16"
            ]
          },
          "metadata": {
            "tags": []
          },
          "execution_count": 19
        }
      ]
    },
    {
      "metadata": {
        "id": "pGt8p9Pi6MtH",
        "colab_type": "text"
      },
      "cell_type": "markdown",
      "source": [
        "As `python` function"
      ]
    },
    {
      "metadata": {
        "id": "QdZDFKwg6MtH",
        "colab_type": "code",
        "colab": {
          "base_uri": "https://localhost:8080/",
          "height": 34
        },
        "outputId": "a8d79241-a701-41d4-b785-8529bd27319a"
      },
      "cell_type": "code",
      "source": [
        "print( LP.L(df.X,0)(df.X[0]),LP.L(df.X,1)(df.X[1]),LP.L(df.X,2)(df.X[2]) )"
      ],
      "execution_count": 20,
      "outputs": [
        {
          "output_type": "stream",
          "text": [
            "0.9999999999999969 0.9999999999999951 0.9999999999999996\n"
          ],
          "name": "stdout"
        }
      ]
    },
    {
      "metadata": {
        "id": "ASNerdbw6MtL",
        "colab_type": "code",
        "colab": {
          "base_uri": "https://localhost:8080/",
          "height": 85
        },
        "outputId": "0457f33b-9c8c-4cb3-b307-11d642579f4c"
      },
      "cell_type": "code",
      "source": [
        "LP.L(df.X,0)(df.X)"
      ],
      "execution_count": 21,
      "outputs": [
        {
          "output_type": "execute_result",
          "data": {
            "text/plain": [
              "0    1.000000e+00\n",
              "1   -4.440892e-16\n",
              "2    5.329071e-15\n",
              "Name: X, dtype: float64"
            ]
          },
          "metadata": {
            "tags": []
          },
          "execution_count": 21
        }
      ]
    },
    {
      "metadata": {
        "id": "_khcYeBZ6MtP",
        "colab_type": "code",
        "colab": {
          "base_uri": "https://localhost:8080/",
          "height": 85
        },
        "outputId": "f20b2c13-6620-428d-abc2-cfc7c61bb996"
      },
      "cell_type": "code",
      "source": [
        "LP.L(df.X,1)(df.X)"
      ],
      "execution_count": 22,
      "outputs": [
        {
          "output_type": "execute_result",
          "data": {
            "text/plain": [
              "0   -4.302114e-16\n",
              "1    1.000000e+00\n",
              "2   -2.042810e-14\n",
              "Name: X, dtype: float64"
            ]
          },
          "metadata": {
            "tags": []
          },
          "execution_count": 22
        }
      ]
    },
    {
      "metadata": {
        "id": "WTerwYpC6MtS",
        "colab_type": "code",
        "colab": {
          "base_uri": "https://localhost:8080/",
          "height": 85
        },
        "outputId": "5914d920-43a8-4298-c292-c83603efc017"
      },
      "cell_type": "code",
      "source": [
        "LP.L(df.X,2)(df.X)"
      ],
      "execution_count": 23,
      "outputs": [
        {
          "output_type": "execute_result",
          "data": {
            "text/plain": [
              "0    1.665335e-16\n",
              "1    0.000000e+00\n",
              "2    1.000000e+00\n",
              "Name: X, dtype: float64"
            ]
          },
          "metadata": {
            "tags": []
          },
          "execution_count": 23
        }
      ]
    },
    {
      "metadata": {
        "id": "l0tYzMZp6MtX",
        "colab_type": "code",
        "colab": {}
      },
      "cell_type": "code",
      "source": [
        ""
      ],
      "execution_count": 0,
      "outputs": []
    }
  ]
}