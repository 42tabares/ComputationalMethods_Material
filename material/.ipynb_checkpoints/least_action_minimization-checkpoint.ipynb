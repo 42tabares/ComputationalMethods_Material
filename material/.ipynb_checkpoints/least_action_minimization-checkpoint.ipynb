{
 "cells": [
  {
   "cell_type": "markdown",
   "metadata": {},
   "source": [
    "# Least Action with least squares minimization "
   ]
  },
  {
   "cell_type": "markdown",
   "metadata": {},
   "source": [
    "Load modules"
   ]
  },
  {
   "cell_type": "code",
   "execution_count": 1,
   "metadata": {},
   "outputs": [
    {
     "name": "stdout",
     "output_type": "stream",
     "text": [
      "Populating the interactive namespace from numpy and matplotlib\n"
     ]
    }
   ],
   "source": [
    "%pylab inline"
   ]
  },
  {
   "cell_type": "code",
   "execution_count": 2,
   "metadata": {},
   "outputs": [],
   "source": [
    "import numpy as np\n",
    "import scipy.optimize \n",
    "import pandas as pd\n",
    "global g  \n",
    "g=9.8"
   ]
  },
  {
   "cell_type": "markdown",
   "metadata": {},
   "source": [
    "<div style=\"float: right;\" markdown=\"1\">\n",
    "    <img src=\"https://raw.githubusercontent.com/restrepo/ComputationalMethods/master/material/figures/leastaction1.svg?sanitize=true\">\n",
    "</div>\n",
    "\n",
    "## Geometry interpretation\n",
    "Following the geometry theory developed [here](http://www.eftaylor.com/software/ActionApplets/LeastAction.html), we will try to define something called the _Action_ for one small segment of the free fall movement in one-dimension. \n",
    "\n",
    "For that we need the experimental data consisting on the height of an object of mass $m$ in free fall, and the height $x_i$, for each time $t_i$. This data would be fitted by a polynomial of degree two, as displayed in the figure for one of the fitted segments of the plot of $x$ as a function of $t$. We take the origin of the coordinates at ground level. For each segment we can calculate an average kinetic energy, $T$, and an averge potential energy, $V$, in the limit of $\\Delta t=t_2-t_1$ small. From the figure\n",
    "\n",
    "\\begin{align}\n",
    "T=\\frac12 m v^2\\approx &\\frac12 m\\left(\\frac{x_2-x_1}{t_2-t_1}\\right)^2\\,,&\n",
    "V=mgh\\approx& m g \\frac{x_2+x_1}{2}\\,.\n",
    "\\end{align}\n",
    "\n",
    "We can then reformulate the problem of the free fall in the following terms. From all the possible curves that can interpolate the points $(t_1,x_1)$ and $(t_2,x_2)$, which is the correct one?. \n",
    "\n",
    "The answer obtained by Leonhard Euler [1] can be obtained from the definition of the function \"Lagrangian\"\n",
    "$$L(t)=T(t)-V(t)\\,.$$"
   ]
  },
  {
   "cell_type": "markdown",
   "metadata": {},
   "source": [
    "<!--<div style=\"float: right;\" markdown=\"1\">\n",
    "    <img src=\"https://raw.githubusercontent.com/restrepo/ComputationalMethods/master/material/figures/leastaction2.svg?sanitize=true\">\n",
    "</div>-->\n",
    "\n",
    "With this, we can build the \"Action\", by integrating the Lagrangian function between the points $(t_1,x_1)$ and $(t_2,x_2)$ as\n",
    "$$S=\\int_{t_1}^{t_2} L\\, \\operatorname{d}t\\,. $$\n",
    "\n",
    "which give us a numerical result with units of energy multiplied by time (J$\\cdot$s). What is worth noticing is that if we relax the definition of $V$ and allows for any $h$, but keeping the initial and final points fixed, we can calculate many Action values. This is illustrated in the figure for blue dotted ($S_1$), solid ($S_{\\text{min}}$) and dashed ($S_2$)lines. But only the height, $(x_1+x_2)/2$ , associated with the real physical path, has a minimum value for the Action, $S_{\\text{min}}$!\n",
    "\n",
    "In fact, for one segment of the action between $(t_1,x_1)$, and $(t_2,x_2)$, with $\\Delta t$ sufficiently small such that $L$ can be considered constant, we have\n",
    "\\begin{eqnarray}\n",
    "S=\\int_{t_1}^{t_2} L dt &\\approx& L\\Delta t \\\\\n",
    "&\\approx& \\left[\\frac12 m v^2-m g h \\right]\\Delta t\\\\\n",
    "&\\approx& \\left[\\frac12 m\\left(\\frac{x_2-x_1}{t_2-t_1}\\right)^2-m g \\frac{x_2+x_1}{2} \\right](t_2-t_1)\n",
    "\\end{eqnarray}\n",
    "that corresponds to Eq. (11) of Am. J. Phys, Vol. 72(2004)478: http://www.eftaylor.com/pub/Symmetries&ConsLaws.pdf"
   ]
  },
  {
   "cell_type": "markdown",
   "metadata": {},
   "source": [
    "<div style=\"float: right;\" markdown=\"1\">\n",
    "    <img src=\"https://raw.githubusercontent.com/restrepo/ComputationalMethods/master/material/figures/leastaction3.svg?sanitize=true\">\n",
    "</div>\n",
    "\n",
    "__Least Action method__: The least action method consist in the following steps illustrated in the figure\n",
    "1. Fix the initial and final point of the movement. Example the initial time and the height from which a body is launched upwards, $(t_{\\text{ini}},x_{\\text{ini}})$, and the final time and height $(t_{\\text{end}},x_{\\text{end}})$.\n",
    "1. Divide the problem in small segments of $\\Delta t=t_{i+1}-t_i$.\n",
    "1. Build many paths with the initial and final point fixed and calculates the Action in each segment, $S_i$, for all the paths\n",
    "1. Choose the minimal Action for each segment, $S_{\\text{min}}^i$, and rebuild the full path which minimizes the Action in each segment. This is the physical trajectory!\n",
    "\n"
   ]
  },
  {
   "cell_type": "markdown",
   "metadata": {},
   "source": [
    "## Code implementation"
   ]
  },
  {
   "cell_type": "markdown",
   "metadata": {},
   "source": [
    "### The Action\n",
    "We define the Action $S$ such of an object of mass $m$ throw vertically upward from $x_{\\hbox{ini}}$, such that $t_{\\hbox{end}}$ seconds later the object return to a height $x_{\\hbox{end}}$, as\n",
    "\\begin{eqnarray}\n",
    "S&=&\\int_{t_{\\hbox{ini}}}^{t_{\\hbox{end}}} L\\, {\\rm d}t \\\\\n",
    "&=&\\sum_i L_i \\Delta t\\\\\n",
    "&=& \\sum_i S_i\\,,\n",
    "\\end{eqnarray}\n",
    "where\n",
    "\\begin{eqnarray}\n",
    "S_{i}=L_i \\Delta t\n",
    "&\\approx& \\left[\\frac12 m\\left(\\frac{x_{i+1}-x_i}{t_{i+1}-t_i}\\right)^2-m g \\frac{x_{i+1}+x_i}{2} \\right](t_{i+1}-t_i)\\\\\n",
    "&=& \\left[\\frac12 m\\left(\\frac{\\Delta x_i}{\\Delta t}\\right)^2-m g \\frac{x_{i+1}+x_i}{2} \\right]\\Delta t\n",
    "\\end{eqnarray}"
   ]
  },
  {
   "cell_type": "markdown",
   "metadata": {},
   "source": [
    "We implement the code by using _linear algebra abstractions_. Consider the vector of positions in meters\n",
    "$$\\boldsymbol{x}=(x_{1},x_2,...,x_{n-1},x_{n}).$$\n",
    "We can define the vector of initial (final) positions of $n-1$ components as\n",
    "\\begin{align}\n",
    "\\boldsymbol{x}_{\\text{intial}}=&(x_{1},x_2,\\ldots,x_{n-1}),\\\\\n",
    "\\boldsymbol{x}_{\\text{final}}=&(x_2,x_3,\\ldots,x_{n}),\\\\ \n",
    "\\boldsymbol{x}_{\\text{final}}+\\boldsymbol{x}_{\\text{initial}}=&\n",
    "(x_2+x_1,x_3+x_2,\\ldots,x_{i+1}+x_i,\\ldots,x_{n}+x_{n-1}),\n",
    "\\end{align}\n",
    "such that, for example\n",
    "$$\\sum_i x_{i+1}+x_i=\\sum_i (\\boldsymbol{x}_{\\text{final}}+\\boldsymbol{x}_{\\text{intial}})_i $$"
   ]
  },
  {
   "cell_type": "markdown",
   "metadata": {},
   "source": [
    "__Example__: For the vector $\\boldsymbol{x}=(1,3,6,8)$, implement the \n",
    "$\\sum_i x_{i+1}+x_i$, as a linear algebra abstraction in Python"
   ]
  },
  {
   "cell_type": "code",
   "execution_count": 3,
   "metadata": {},
   "outputs": [
    {
     "data": {
      "text/plain": [
       "array([1, 3, 6])"
      ]
     },
     "execution_count": 3,
     "metadata": {},
     "output_type": "execute_result"
    }
   ],
   "source": [
    "x=np.array([1,3,6,8])\n",
    "#Initial points: x_i:\n",
    "x[:-1]"
   ]
  },
  {
   "cell_type": "code",
   "execution_count": 4,
   "metadata": {},
   "outputs": [
    {
     "data": {
      "text/plain": [
       "array([3, 6, 8])"
      ]
     },
     "execution_count": 4,
     "metadata": {},
     "output_type": "execute_result"
    }
   ],
   "source": [
    "#final points: x_{i+1}\n",
    "x[1:]"
   ]
  },
  {
   "cell_type": "markdown",
   "metadata": {},
   "source": [
    "$\\sum_i x_{i+1}+x_i=\\sum_i (\\boldsymbol{x}_{\\text{final}}+\\boldsymbol{x}_{\\text{intial}})_i=\n",
    "\\sum_i(4,9,14)=27$:"
   ]
  },
  {
   "cell_type": "code",
   "execution_count": 5,
   "metadata": {},
   "outputs": [
    {
     "data": {
      "text/plain": [
       "array([ 4,  9, 14])"
      ]
     },
     "execution_count": 5,
     "metadata": {},
     "output_type": "execute_result"
    }
   ],
   "source": [
    "x[1:]+x[:-1]"
   ]
  },
  {
   "cell_type": "code",
   "execution_count": 6,
   "metadata": {},
   "outputs": [
    {
     "data": {
      "text/plain": [
       "27"
      ]
     },
     "execution_count": 6,
     "metadata": {},
     "output_type": "execute_result"
    }
   ],
   "source": [
    "(x[1:]+x[:-1]).sum()"
   ]
  },
  {
   "cell_type": "markdown",
   "metadata": {},
   "source": [
    "The clear advantage of the linear algebra abstractions is that we avoid the use of the very slow `for` loops of Python. We can now define the Action by using this kind of abstractions in  a very compact way"
   ]
  },
  {
   "cell_type": "markdown",
   "metadata": {},
   "source": [
    "* Function"
   ]
  },
  {
   "cell_type": "code",
   "execution_count": 7,
   "metadata": {},
   "outputs": [],
   "source": [
    "def S(x,tend=3.,m=0.2,xini=0.,xend=0.,g=9.8):\n",
    "    \"\"\"\n",
    "    Calculate the Action of an object of of mass 'm' throw vertically upward from \n",
    "       'xini', such that 'tend' seconds later the object return to a height 'xend'.\n",
    "       Delta t must be constant.\n",
    "       \n",
    "    The defaults units for S are J.s   \n",
    "    \"\"\"\n",
    "    x=np.asarray(x)    \n",
    "    Δt=t/x[:-1].size\n",
    "    #Fix initial and final point\n",
    "    x[0]=xini\n",
    "    x[-1]=xend\n",
    "    return ((0.5*m*(x[1:]-x[:-1])**2/Δt**2-0.5*m*g*(x[1:]+x[:-1]))*Δt).sum()"
   ]
  },
  {
   "cell_type": "markdown",
   "metadata": {},
   "source": [
    "* Program"
   ]
  },
  {
   "cell_type": "code",
   "execution_count": 9,
   "metadata": {},
   "outputs": [
    {
     "name": "stdout",
     "output_type": "stream",
     "text": [
      "-13.149333333333335\n"
     ]
    }
   ],
   "source": [
    "def S(x,tend=3.,m=0.2,xini=0.,xend=0.,g=9.8):\n",
    "    \"\"\"\n",
    "    Calculate the Action of an object of of mass 'm' throw vertically upward from \n",
    "       'xini', such that 'tend' seconds later the object return to a height 'xend'.\n",
    "       Delta t must be constant.\n",
    "       \n",
    "    The defaults units for S are J.s   \n",
    "    \"\"\"\n",
    "    x=np.asarray(x)    \n",
    "    Δt=tend/x[:-1].size\n",
    "    #Fix initial and final point\n",
    "    x[0]=xini\n",
    "    x[-1]=xend\n",
    "    return ((0.5*m*(x[1:]-x[:-1])**2/Δt**2-0.5*m*g*(x[1:]+x[:-1]))*Δt).sum()\n",
    "#Other functions...\n",
    "#Main program:\n",
    "if __name__=='__main__':\n",
    "    print(S([0,3,5,6,2,0]))"
   ]
  },
  {
   "cell_type": "code",
   "execution_count": 10,
   "metadata": {},
   "outputs": [
    {
     "data": {
      "text/plain": [
       "'__main__'"
      ]
     },
     "execution_count": 10,
     "metadata": {},
     "output_type": "execute_result"
    }
   ],
   "source": [
    "__name__"
   ]
  },
  {
   "cell_type": "markdown",
   "metadata": {},
   "source": [
    "* As code"
   ]
  },
  {
   "cell_type": "code",
   "execution_count": 20,
   "metadata": {},
   "outputs": [
    {
     "name": "stdout",
     "output_type": "stream",
     "text": [
      "Overwriting action.py\n"
     ]
    }
   ],
   "source": [
    "%%writefile action.py\n",
    "#!/usr/bin/env python3\n",
    "import numpy as np\n",
    "def S(x,tend=3.,m=0.2,xini=0.,xend=0.,g=9.8):\n",
    "    \"\"\"\n",
    "    Calculate the Action of an object of of mass 'm' throw vertically upward from \n",
    "       'xini', such that 'tend' seconds later the object return to a height 'xend'.\n",
    "       Delta t must be constant.\n",
    "       \n",
    "    The defaults units for S are J.s   \n",
    "    \"\"\"\n",
    "    x=np.asarray(x)    \n",
    "    Δt=tend/x[:-1].size\n",
    "    #Fix initial and final point\n",
    "    x[0]=xini\n",
    "    x[-1]=xend\n",
    "    return ((0.5*m*(x[1:]-x[:-1])**2/Δt**2-0.5*m*g*(x[1:]+x[:-1]))*Δt).sum()\n",
    "#Other functions...\n",
    "#Main program:\n",
    "\n",
    "#Check Python behaviour\n",
    "print(__name__)\n",
    "\n",
    "if __name__=='__main__':\n",
    "    print(S([0,3,5,6,2,0]))"
   ]
  },
  {
   "cell_type": "code",
   "execution_count": 21,
   "metadata": {},
   "outputs": [
    {
     "name": "stdout",
     "output_type": "stream",
     "text": [
      "__main__\r\n",
      "-13.149333333333335\r\n"
     ]
    }
   ],
   "source": [
    "!python3 action.py"
   ]
  },
  {
   "cell_type": "code",
   "execution_count": 22,
   "metadata": {},
   "outputs": [],
   "source": [
    "!chmod a+x action.py"
   ]
  },
  {
   "cell_type": "code",
   "execution_count": 23,
   "metadata": {},
   "outputs": [
    {
     "name": "stdout",
     "output_type": "stream",
     "text": [
      "-rwxr-xr-x 1 restrepo restrepo 672 Aug 27 11:13 action.py\r\n"
     ]
    }
   ],
   "source": [
    "!ls -l action.py"
   ]
  },
  {
   "cell_type": "code",
   "execution_count": 24,
   "metadata": {},
   "outputs": [
    {
     "name": "stdout",
     "output_type": "stream",
     "text": [
      "__main__\r\n",
      "-13.149333333333335\r\n"
     ]
    }
   ],
   "source": [
    "!./action.py"
   ]
  },
  {
   "cell_type": "code",
   "execution_count": 30,
   "metadata": {},
   "outputs": [],
   "source": [
    "import action"
   ]
  },
  {
   "cell_type": "code",
   "execution_count": 31,
   "metadata": {},
   "outputs": [
    {
     "data": {
      "text/plain": [
       "-8.400000000000002"
      ]
     },
     "execution_count": 31,
     "metadata": {},
     "output_type": "execute_result"
    }
   ],
   "source": [
    "action.S([0,2,3,0])"
   ]
  },
  {
   "cell_type": "markdown",
   "metadata": {},
   "source": [
    "In this way, for a non-physical trajectory,  we have for example"
   ]
  },
  {
   "cell_type": "code",
   "execution_count": 33,
   "metadata": {},
   "outputs": [
    {
     "data": {
      "text/plain": [
       "345.1466666666667"
      ]
     },
     "execution_count": 33,
     "metadata": {},
     "output_type": "execute_result"
    }
   ],
   "source": [
    "S([0,8,45,3,0]) #J.s"
   ]
  },
  {
   "cell_type": "markdown",
   "metadata": {},
   "source": [
    "## Least Action calculation"
   ]
  },
  {
   "cell_type": "markdown",
   "metadata": {},
   "source": [
    "_Problem_: Let an object of mass $m=0.2$ Kg throw vertically updward and returning back to the same hand after 3 s. Find the function of distance versus time of least Action. "
   ]
  },
  {
   "cell_type": "markdown",
   "metadata": {},
   "source": [
    "If we denote the height at time $t_i$ as $x_i=x(t_i)$, we can calculate the action for any set of $x_i$ points with the inititial and final points fixed at $0\\ $m.\n",
    "\n",
    "__Example__: By using the previous definition, calculates the Action for 21 steps in time from $0$ at $3\\ $s for an object that does not move at all\n",
    "\n",
    "__Solution__:"
   ]
  },
  {
   "cell_type": "code",
   "execution_count": 34,
   "metadata": {},
   "outputs": [
    {
     "data": {
      "text/plain": [
       "0.0"
      ]
     },
     "execution_count": 34,
     "metadata": {},
     "output_type": "execute_result"
    }
   ],
   "source": [
    "x=np.zeros(21)\n",
    "S(x)"
   ]
  },
  {
   "cell_type": "markdown",
   "metadata": {},
   "source": [
    "__Activity__:  _Brute force approach_\n",
    "\n",
    "Open the Activity notebook in [CoCalc!](https://cocalc.com/projects/a8330cfb-9dfb-442e-9b2b-ba664e31a685/files/Activity_Least_Action.ipynb?session=default)\n",
    "\n",
    "1) calculates the Action for 21 steps in time from $0$ at $3\\ $s, for an object that at a random position in each time between zero and $15\\ $m, but with the initial and final positions set to zero. Make the plot for the random curve. "
   ]
  },
  {
   "cell_type": "markdown",
   "metadata": {},
   "source": [
    "Let us divide the intervals in 21 parts:"
   ]
  },
  {
   "cell_type": "code",
   "execution_count": 35,
   "metadata": {},
   "outputs": [
    {
     "data": {
      "text/plain": [
       "array([11.24494887, 14.88187837,  1.76700251,  4.26278513,  8.72016546,\n",
       "        9.47889308,  0.30235247, 14.74133749,  9.3567645 ,  5.85831928,\n",
       "        6.69033562,  1.37572062,  3.6953054 ,  2.1384925 ,  7.98630283,\n",
       "        9.85098434,  0.93818323, 13.59176252, 13.76671634, 14.85241454,\n",
       "       14.19105719])"
      ]
     },
     "execution_count": 35,
     "metadata": {},
     "output_type": "execute_result"
    }
   ],
   "source": [
    "np.random.uniform(0,15,21)"
   ]
  },
  {
   "cell_type": "code",
   "execution_count": 43,
   "metadata": {},
   "outputs": [
    {
     "name": "stdout",
     "output_type": "stream",
     "text": [
      "558.3744070870152\n",
      "467.71765863111347\n",
      "426.878992675025\n",
      "415.8710827113199\n",
      "379.9462243249963\n",
      "289.7369591296479\n",
      "252.55921723261068\n",
      "249.97971561715048\n",
      "117.69417768114089\n",
      "72.12205630545816\n",
      "61.254609381633315\n",
      "41.498046254269724\n",
      "40.57722637401209\n"
     ]
    }
   ],
   "source": [
    "#Initialize with the maximum possible value\n",
    "Smin=np.inf\n",
    "#np.random.seed(1)\n",
    "for i in range(100000):\n",
    "    #21 one random number between 0 and 15\n",
    "    x=np.random.uniform(0,15,21)\n",
    "    # Force the boundary conditions\n",
    "    x[0]=0\n",
    "    x[-1]=0\n",
    "    Sx=S(x)\n",
    "    if Sx<Smin:\n",
    "        #Get new minimum\n",
    "        Smin=Sx\n",
    "        xmin=x\n",
    "        print(Smin)"
   ]
  },
  {
   "cell_type": "code",
   "execution_count": null,
   "metadata": {},
   "outputs": [],
   "source": [
    "\n",
    "plt.plot()"
   ]
  },
  {
   "cell_type": "markdown",
   "metadata": {},
   "source": [
    "<!-- xmin=pd.read_csv('https://github.com/restrepo/ComputationalMethods/raw/master/data/random.csv').xrandom.values -->"
   ]
  },
  {
   "cell_type": "markdown",
   "metadata": {},
   "source": [
    "Check again the Acion, $S$, value for `xmin`"
   ]
  },
  {
   "cell_type": "markdown",
   "metadata": {},
   "source": [
    "2) Find the set of interpolation Lagrange polinomial that a set a points as smooth as possible"
   ]
  },
  {
   "cell_type": "code",
   "execution_count": 63,
   "metadata": {},
   "outputs": [],
   "source": [
    "from scipy import interpolate"
   ]
  },
  {
   "cell_type": "markdown",
   "metadata": {},
   "source": [
    "Assign a time, $t_i$ to each $x_i$ point in `xmin`"
   ]
  },
  {
   "cell_type": "code",
   "execution_count": 64,
   "metadata": {},
   "outputs": [],
   "source": [
    "tx=np.linspace(0,3,len(xmin))"
   ]
  },
  {
   "cell_type": "markdown",
   "metadata": {},
   "source": [
    "Complete the set of interpolation Lagrange polynomials: Change `pe` to the high value that allows for on smooth curve, and uncomment the next code and repeat as many times as required"
   ]
  },
  {
   "cell_type": "code",
   "execution_count": 65,
   "metadata": {},
   "outputs": [
    {
     "data": {
      "text/plain": [
       "(-0.1, 3.3)"
      ]
     },
     "execution_count": 65,
     "metadata": {},
     "output_type": "execute_result"
    },
    {
     "data": {
      "image/png": "[encoded data removed]",
      "text/plain": [
       "<Figure size 432x288 with 1 Axes>"
      ]
     },
     "metadata": {
      "needs_background": "light"
     },
     "output_type": "display_data"
    }
   ],
   "source": [
    "p=[]\n",
    "plt.plot(tx,xmin,'r.')\n",
    "pi=0\n",
    "pe=3\n",
    "L=interpolate.lagrange(tx[pi:pe],xmin[pi:pe])\n",
    "txx=np.linspace(tx[pi],tx[pe-1])\n",
    "plt.plot(txx,L(txx))\n",
    "#Repeat to get a fit as smoot as possible\n",
    "#pi=pe-1\n",
    "#pe=8\n",
    "#L=interpolate.lagrange(tx[pi:pe],xmin[pi:pe])\n",
    "#txx=np.linspace(tx[pi],tx[pe-1])\n",
    "#plt.plot(txx,L(txx))\n",
    "\n",
    "plt.ylim(-1,20)\n",
    "plt.xlim(-0.1,3.3)"
   ]
  },
  {
   "cell_type": "markdown",
   "metadata": {},
   "source": [
    "3) Built a step function for the full range each of the interpolation Lagrangian polynomial in each range"
   ]
  },
  {
   "cell_type": "markdown",
   "metadata": {},
   "source": [
    "<!--\n",
    "'''python\n",
    "p=[1,3,8,18,21]\n",
    "L=[]\n",
    "ts=[]\n",
    "plt.plot(tx,xmin,'r.')\n",
    "for i in range(len(p)):\n",
    "    if i<len(p)-1:\n",
    "        L.append(interpolate.lagrange(tx[p[i]-1:p[i+1]],xmin[p[i]-1:p[i+1]]))\n",
    "        txx=np.linspace(tx[p[i]-1],tx[p[i+1]-1])\n",
    "        plt.plot(txx,L[-1](txx))\n",
    "        ts.append(tx[p[i]-1])\n",
    "        plt.vlines(ts,-1,20,linestyles=':')\n",
    "\n",
    "def ff(t):\n",
    "    if t<0:\n",
    "        return 0\n",
    "    if t>=3:\n",
    "        return 0\n",
    "    for i in range(len(ts)-1):\n",
    "        if t >= ts[i] and t<ts[i+1]:\n",
    "            return L[i](t)\n",
    "f=np.vectorize(ff)\n",
    "x=f(tt)\n",
    "P=np.poly1d( np.polyfit(tx,xmin,deg=2) )\n",
    "xP=P(tt)\n",
    "xP[0]=0\n",
    "xP[-1]=0\n",
    "plt.plot(tt,xP,'--')\n",
    "plt.ylim(-1,20)\n",
    "plt.xlim(-0.1,3.3)\n",
    "plt.grid()\n",
    "'''\n",
    "-->"
   ]
  },
  {
   "cell_type": "markdown",
   "metadata": {},
   "source": [
    "4) Build a step function with `interpolate.interp1d`"
   ]
  },
  {
   "cell_type": "markdown",
   "metadata": {},
   "source": [
    "5) Fit the points with a polynomial of degree 2"
   ]
  },
  {
   "cell_type": "code",
   "execution_count": 66,
   "metadata": {},
   "outputs": [
    {
     "data": {
      "image/png": "[encoded data removed]",
      "text/plain": [
       "<Figure size 864x288 with 2 Axes>"
      ]
     },
     "metadata": {
      "needs_background": "light"
     },
     "output_type": "display_data"
    }
   ],
   "source": [
    "fig, (ax1, ax2) = plt.subplots(1, 2,figsize=(12,4))\n",
    "p=[]\n",
    "pi=0\n",
    "pe=21\n",
    "x1d=interpolate.interp1d(tx[pi:pe],xmin[pi:pe],kind=2)\n",
    "txx=np.linspace(tx[pi],tx[pe-1],1000)\n",
    "ax1.plot(tx,xmin,'r.')\n",
    "ax1.plot(txx,x1d(txx))\n",
    "ax1.set(xlim=(-0.1,3.3),ylim=(-1,20),\n",
    "        xlabel='$t$ [s]',ylabel='$x(t)$ (m)')\n",
    "\n",
    "ax2.plot(tx,xmin,'r.')\n",
    "ax2.plot(txx,x1d(txx))\n",
    "ax2.set(xlim=(0.5,1.3),ylim=(5.7,12),\n",
    "        xlabel='zoom in')\n",
    "\n",
    "fig.tight_layout(pad=4.0)\n"
   ]
  },
  {
   "cell_type": "code",
   "execution_count": 357,
   "metadata": {},
   "outputs": [],
   "source": [
    "# Plot results 3) and 4) here"
   ]
  },
  {
   "cell_type": "markdown",
   "metadata": {},
   "source": [
    "5) Compare the Action for `xmin`, some `x` obtained from the full range function obtained from the interpolation Lagrange polynomials, and some `xP` obtained from the degree 2 polynomial"
   ]
  },
  {
   "cell_type": "code",
   "execution_count": 67,
   "metadata": {},
   "outputs": [
    {
     "data": {
      "text/plain": [
       "43.20057111692605"
      ]
     },
     "execution_count": 67,
     "metadata": {},
     "output_type": "execute_result"
    }
   ],
   "source": [
    "S(xmin)"
   ]
  },
  {
   "cell_type": "code",
   "execution_count": 358,
   "metadata": {},
   "outputs": [],
   "source": [
    "#S for step function here"
   ]
  },
  {
   "cell_type": "code",
   "execution_count": 68,
   "metadata": {},
   "outputs": [
    {
     "data": {
      "text/plain": [
       "56.65688265854261"
      ]
     },
     "execution_count": 68,
     "metadata": {},
     "output_type": "execute_result"
    }
   ],
   "source": [
    "S(x1d(txx))"
   ]
  },
  {
   "cell_type": "code",
   "execution_count": 359,
   "metadata": {},
   "outputs": [],
   "source": [
    "#S for degree 2 function here"
   ]
  },
  {
   "cell_type": "markdown",
   "metadata": {},
   "source": [
    "Which one is the one with the least action and why?"
   ]
  },
  {
   "cell_type": "markdown",
   "metadata": {},
   "source": [
    "### Minimization"
   ]
  },
  {
   "cell_type": "markdown",
   "metadata": {},
   "source": [
    "Function to find the least Action by using `scipy.optimize.fmin_powell`. It start from $\\mathbf{x}=(x_{\\hbox{ini}},0,0,\\ldots,x_{\\hbox{end}})$ and find the least action"
   ]
  },
  {
   "cell_type": "code",
   "execution_count": 9,
   "metadata": {},
   "outputs": [],
   "source": [
    "import scipy.optimize as optimize\n",
    "def xfit(n,t=3.,m=0.2,xini=0.,xend=0.,ftol=1E-8):\n",
    "    '''Find the array of n (odd) components that minimizes the action S(x)\n",
    "\n",
    "    :Parameters:\n",
    "\n",
    "    n: odd integer \n",
    "        dimension of the ndarray x that minimizes the action  S(x,t,m)\n",
    "    t,m: numbers\n",
    "       optional parameters for the action\n",
    "    ftol: number\n",
    "        acceptable relative error in S(x) for convergence.\n",
    "\n",
    "    :Returns: (x,xmax,Smin)\n",
    "    \n",
    "    x: ndarray\n",
    "        minimizer of the action S(x)\n",
    "        \n",
    "    xini:\n",
    "    \n",
    "    xend:\n",
    "\n",
    "    xmax: number\n",
    "        Maximum height for the object\n",
    "\n",
    "    Smin: number\n",
    "        value of function at minimum: Smin = S(x)\n",
    "    '''\n",
    "    t=float(t)\n",
    "    if n%2==0:\n",
    "        print ( 'x array must be odd')\n",
    "        sys.exit()\n",
    "  \n",
    "    x0=np.zeros(n)\n",
    "    a=optimize.fmin_powell(S,x0,args=(t,m,xini,xend),ftol=ftol,full_output=1)\n",
    "    x=a[0]\n",
    "    x[0]=xini;x[-1]=xend\n",
    "    xmax=np.sort(x)[-1]\n",
    "    Smin=a[1]\n",
    "    Dt=t/x[:-1].size #  t/(n-1)\n",
    "    return x,xmax,Smin,Dt"
   ]
  },
  {
   "cell_type": "code",
   "execution_count": 10,
   "metadata": {},
   "outputs": [
    {
     "name": "stdout",
     "output_type": "stream",
     "text": [
      "Optimization terminated successfully.\n",
      "         Current function value: -21.554977\n",
      "         Iterations: 28\n",
      "         Function evaluations: 5837\n"
     ]
    }
   ],
   "source": [
    "t=3.\n",
    "m=0.2\n",
    "y=xfit(21,t,m)\n",
    "x=y[0]\n",
    "xmax=y[1]\n",
    "Smin=y[2]\n",
    "Dt=y[3]\n",
    "tx=np.arange(0,t+Dt,Dt)"
   ]
  },
  {
   "cell_type": "markdown",
   "metadata": {},
   "source": [
    "### Plot"
   ]
  },
  {
   "cell_type": "code",
   "execution_count": 11,
   "metadata": {},
   "outputs": [
    {
     "data": {
      "image/png": "[encoded data removed]",
      "text/plain": [
       "<Figure size 432x288 with 1 Axes>"
      ]
     },
     "metadata": {
      "needs_background": "light"
     },
     "output_type": "display_data"
    }
   ],
   "source": [
    "plt.plot(tx,x,label='$S_{\\mathrm{min}}=$%.2f J.s' %Smin)\n",
    "plt.plot(tx,x,'ro')\n",
    "plt.ylabel('HEIGHT meters')\n",
    "plt.xlabel('TIME seconds')\n",
    "plt.title('Worldline of least action')\n",
    "plt.legend(loc='best')\n",
    "plt.grid()"
   ]
  },
  {
   "cell_type": "markdown",
   "metadata": {},
   "source": [
    "Check the equation of motion: \n",
    "$$x(t)=-\\frac{{1}}{{2}}gt^2+v_0t$$"
   ]
  },
  {
   "cell_type": "code",
   "execution_count": 12,
   "metadata": {},
   "outputs": [
    {
     "name": "stdout",
     "output_type": "stream",
     "text": [
      "      2\n",
      "-4.9 t + 14.7 t + 0.0001604\n"
     ]
    }
   ],
   "source": [
    "P=poly1d ( np.polyfit(tx,x,2),variable='t' )\n",
    "print(P)"
   ]
  },
  {
   "cell_type": "code",
   "execution_count": 82,
   "metadata": {},
   "outputs": [
    {
     "data": {
      "text/plain": [
       "11.025294114794459"
      ]
     },
     "execution_count": 82,
     "metadata": {},
     "output_type": "execute_result"
    }
   ],
   "source": [
    "P(1.5)"
   ]
  },
  {
   "cell_type": "markdown",
   "metadata": {},
   "source": [
    "### Dynamics of the least action solution"
   ]
  },
  {
   "cell_type": "markdown",
   "metadata": {},
   "source": [
    "#### Velocity"
   ]
  },
  {
   "cell_type": "code",
   "execution_count": 83,
   "metadata": {},
   "outputs": [
    {
     "data": {
      "image/png": "[encoded data removed]",
      "text/plain": [
       "<Figure size 432x288 with 1 Axes>"
      ]
     },
     "metadata": {
      "needs_background": "light"
     },
     "output_type": "display_data"
    }
   ],
   "source": [
    "v=(x[1:]-x[:-1])/Dt\n",
    "Dt=t/v[:-1].size\n",
    "tx=np.arange(0,t+Dt,Dt)\n",
    "plt.plot(tx,v)\n",
    "plt.plot(tx,v,'ro')\n",
    "plt.xlabel('TIME seconds')\n",
    "plt.ylabel('VELOCITY meter/seconds')\n",
    "plt.grid()"
   ]
  },
  {
   "cell_type": "markdown",
   "metadata": {},
   "source": [
    "#### Aceleration"
   ]
  },
  {
   "cell_type": "code",
   "execution_count": 84,
   "metadata": {},
   "outputs": [
    {
     "data": {
      "text/plain": [
       "Text(0.5,1,'ACELERATION meter/second$^2$')"
      ]
     },
     "execution_count": 84,
     "metadata": {},
     "output_type": "execute_result"
    },
    {
     "data": {
      "image/png": "[encoded data removed]",
      "text/plain": [
       "<Figure size 432x288 with 1 Axes>"
      ]
     },
     "metadata": {
      "needs_background": "light"
     },
     "output_type": "display_data"
    }
   ],
   "source": [
    "Dt=t/x[:-1].size\n",
    "a=(v[1:]-v[:-1])/Dt\n",
    "pa=plt.hist(a)\n",
    "plt.title('ACELERATION meter/second$^2$')"
   ]
  },
  {
   "cell_type": "markdown",
   "metadata": {},
   "source": [
    "#### Energy"
   ]
  },
  {
   "cell_type": "code",
   "execution_count": 85,
   "metadata": {},
   "outputs": [
    {
     "name": "stdout",
     "output_type": "stream",
     "text": [
      "[21.56 21.56 21.56 21.56 21.56 21.56 21.55 21.55 21.56 21.56 21.56 21.56\n",
      " 21.56 21.56 21.56 21.55 21.55 21.56 21.56 21.55]\n"
     ]
    }
   ],
   "source": [
    "T=0.5*m*v**2\n",
    "V=0.5*m*g*(x[1:]+x[:-1])\n",
    "E=T+V\n",
    "print(np.round(E,2))"
   ]
  },
  {
   "cell_type": "markdown",
   "metadata": {},
   "source": [
    "#### Action"
   ]
  },
  {
   "cell_type": "markdown",
   "metadata": {},
   "source": [
    "The Action is minimal in each interval!"
   ]
  },
  {
   "cell_type": "code",
   "execution_count": 86,
   "metadata": {},
   "outputs": [
    {
     "data": {
      "text/plain": [
       "array([ 2.6176807 ,  1.45086655,  0.41339493, -0.49445999, -1.27239049,\n",
       "       -1.92031545, -2.4394347 , -2.82826668, -3.08743238, -3.21713111,\n",
       "       -3.21711685, -3.08747346, -2.82816485, -2.43888968, -1.9203943 ,\n",
       "       -1.27224487, -0.49433121,  0.41338257,  1.45064061,  2.61710336])"
      ]
     },
     "execution_count": 86,
     "metadata": {},
     "output_type": "execute_result"
    }
   ],
   "source": [
    "SS=(T-V)*Dt\n",
    "SS"
   ]
  },
  {
   "cell_type": "code",
   "execution_count": 87,
   "metadata": {},
   "outputs": [],
   "source": [
    "import scipy.constants as sc"
   ]
  },
  {
   "cell_type": "code",
   "execution_count": 88,
   "metadata": {},
   "outputs": [
    {
     "data": {
      "text/plain": [
       "1.0545718001391127e-34"
      ]
     },
     "execution_count": 88,
     "metadata": {},
     "output_type": "execute_result"
    }
   ],
   "source": [
    "sc.hbar"
   ]
  },
  {
   "cell_type": "code",
   "execution_count": 59,
   "metadata": {},
   "outputs": [
    {
     "name": "stdout",
     "output_type": "stream",
     "text": [
      "S_MINIMUM=-21.55497732876534  Joules*second = -2.e+35 ħ\n"
     ]
    }
   ],
   "source": [
    "print( 'S_MINIMUM={}  Joules*second = {} ħ'.format(\n",
    "      SS.sum(),\n",
    "      np.format_float_scientific(SS.sum()/sc.hbar,precision=0)\n",
    "      ) )"
   ]
  },
  {
   "cell_type": "markdown",
   "metadata": {},
   "source": [
    "## References\n",
    "\n",
    "[1] L. Euler, M´emoires de l'Acad´emie des Sciences de Berlin 4, 1898 (1748), republished in Ref.2, p. 38-63; L. Euler, M´emoires de l'Acad´emie des Sciences de Berlin 7, 169 (1751), republished in Ref. 2, p. 152. For a recent historical review see: Dias, Penha Maria Cardozo. (2017). Leonhard Euler's “principle of mechanics” (an essay on the foundations of the equations of motion). Revista Brasileira de Ensino de Física, 39(4), e4601. Epub May 22, 2017.https://doi.org/10.1590/1806-9126-rbef-2017-0057\n",
    "\n",
    "[2] Leonhardi Euleri Opera Omnia, serie secunda, v. V, edited by J.O. Fleckenstein (Societatis Scientiarum Naturalium Helveticæ, Geneva,1957)\n"
   ]
  }
 ],
 "metadata": {
  "kernelspec": {
   "display_name": "Python 3 (ipykernel)",
   "language": "python",
   "name": "python3"
  },
  "language_info": {
   "codemirror_mode": {
    "name": "ipython",
    "version": 3
   },
   "file_extension": ".py",
   "mimetype": "text/x-python",
   "name": "python",
   "nbconvert_exporter": "python",
   "pygments_lexer": "ipython3",
   "version": "3.7.3"
  },
  "toc": {
   "colors": {
    "hover_highlight": "#DAA520",
    "running_highlight": "#FF0000",
    "selected_highlight": "#FFD700"
   },
   "moveMenuLeft": true,
   "nav_menu": {
    "height": "322px",
    "width": "252px"
   },
   "navigate_menu": true,
   "number_sections": true,
   "sideBar": true,
   "threshold": 4,
   "toc_cell": false,
   "toc_section_display": "block",
   "toc_window_display": false
  }
 },
 "nbformat": 4,
 "nbformat_minor": 4
}
