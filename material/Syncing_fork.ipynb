{
 "cells": [
  {
   "cell_type": "markdown",
   "source": "<a href=\"https://colab.research.google.com/github/restrepo/ComputationalMethods/blob/master/material/Syncing_fork.ipynb\" target=\"_parent\"><img src=\"https://colab.research.google.com/assets/colab-badge.svg\" alt=\"Open In Colab\"/></a>",
   "metadata": {
    "colab_type": "text",
    "id": "view-in-github",
    "cell_id": "00000-36fe8eda-e84f-47de-bdd8-09ea3933ca6f",
    "deepnote_cell_type": "markdown"
   }
  },
  {
   "cell_type": "markdown",
   "source": "# GIT Usage\nSee [\"Guia sencilla\"](http://rogerdudler.github.io/git-guide/index.es.html)\n\nIn summary\n* Clone the repository with\n```bash\ngit clone https://github.com/restrepo/ComputationalMethods.git\n```\n\n[1] After some time working with it, you may save the modified notebooks elsewhere.\nThen, discard your changes with\n```bash\ngit stash\n```\n[2] Donwload the updated repository files with\n```bash\ngit pull origin master\n```\nGo to [1] and [2] for further changes",
   "metadata": {
    "colab_type": "text",
    "id": "VF8GaDb9SdS3",
    "cell_id": "00001-af6a5a56-04bb-442f-8331-05f35c32d318",
    "deepnote_cell_type": "markdown"
   }
  },
  {
   "cell_type": "markdown",
   "source": "## Homework assignments management\nThere is an special repository to the evaluation of the course:\n\nhttps://github.com/ComputationalMethods/Evaluacion_2021-1\n\nFisrt make a fork of the official repository in GitHub\n\n1. Inside the repository, you must create a folder with your identification number and go there. _Example_:\n```bash\nmkdir 98567894\n```\n2. Copy your Tarea or Examen there, and rename the file, e.g `old_name.ipynb` by adding to the beggining either `Tarea_NN_` or `Examen_NN_`, where `NN` is the number of the Tarea or Examen. _Example_:\n```bash\nmv old_name.ipynb Tarea_01_old_name.ipynb \n```\n3. Add the file to cloned repository. _Example_:\n```\ngit add Tarea_01_old_name.ipynb\n```\n2. Commit the changes\n```bash\ngit commit -am 'Tarea 1 sobre repaso de Python'\n```\n2. Upload the changes to your forked repository\n```bash\ngit push origin master\n```\n3. Make a pull request from the GitHub web page of your forked repository. See [here](https://help.github.com/articles/about-pull-requests/) and [here](http://gfif.udea.edu.co/web/tiki-index.php?page=GitHub)",
   "metadata": {
    "colab_type": "text",
    "id": "UZ4585zySdS9",
    "cell_id": "00002-bfb90c00-ea73-49eb-a24b-48593003ad07",
    "deepnote_cell_type": "markdown"
   }
  },
  {
   "cell_type": "markdown",
   "source": "# Install JupyterLab and GIT in your android cellphone\nSee [this help](https://github.com/restrepo/pydroid_with_termux/blob/main/README.md)",
   "metadata": {
    "cell_id": "00003-06aec7ad-6e19-4691-a75d-839d5c3d3eff",
    "deepnote_cell_type": "markdown"
   }
  },
  {
   "cell_type": "markdown",
   "source": "# Fork official repository\nThis notebook explains the recommended way to use this repository. If you only want to visualize the notebooks trough the viewer in [GitHub](./https://github.com/sbustamante/ComputationalMethods/blob/master/index.ipynb), you can safely ignore this section.\n\n* First make a fork of the official repository in GitHub\n\n* Clone your own copy of the repository with\n```bash\ngit clone https://github.com/usuario/ComputationalMethods.git\n```\n\n[1] After work some time working with the repository you would like to register your changes with\n```bash\ngit commit -am 'My changes'\n```\nOr discard your changes with\n```bash\ngit stash\n```\n[2] Check for possible changes before send your commit\n```bash\ngit pull --rebase origin master\n```\n[3] Send changes to repository\n```bash\ngit push origin master\n```\n[4] Go to [1] for further changes",
   "metadata": {
    "colab_type": "text",
    "id": "R6h5CkAFSdS5",
    "cell_id": "00004-5add079c-732c-4418-a5b6-6cab2df3c37e",
    "deepnote_cell_type": "markdown"
   }
  },
  {
   "cell_type": "markdown",
   "source": "# Sync with official repository\n1. ONLY for the first time: Follow the instructions for LINUX in [Configuring a remote for a fork](https://help.github.com/articles/configuring-a-remote-for-a-fork/)\n2. After that, follow the instructions in [Syncing a fork](https://help.github.com/articles/syncing-a-fork/)\n<img src=\"https://github.com/restrepo/ComputationalMethods/blob/master/material/figures/gitusage.svg?raw=1\"> ",
   "metadata": {
    "colab_type": "text",
    "id": "aYFRHQruSdS6",
    "cell_id": "00005-b39dc3ee-a7a7-4844-96db-9eb2e2179898",
    "deepnote_cell_type": "markdown"
   }
  },
  {
   "cell_type": "markdown",
   "source": "Summary of commands\nOnly the first time:\n```\ngit remote add upstream https://github.com/restrepo/ComputationalMethods.git\n```\nAnd before each pull request:\n```bash\nssh -XC user@hub.oproject.org #or use jupyter terminal\ncd  ComputationalMethods\ngit fetch upstream\ngit checkout master\ngit merge upstream/master\n```\nor just execute\n```bash\nsyncurso\n```\nTo update the forked repository in GitHub, just use\nor just execute\n```bash\ngit push origin master\n```",
   "metadata": {
    "colab_type": "text",
    "id": "1JEht40eSdS7",
    "cell_id": "00006-bc5fc458-5155-43ab-8f76-332751b16b9d",
    "deepnote_cell_type": "markdown"
   }
  },
  {
   "cell_type": "markdown",
   "source": "3. After finish your work, save your changes as new notebook and to clean to the initial state use:\n```bash\ngit stash\n```",
   "metadata": {
    "colab_type": "text",
    "id": "jf_WvvdVSdS8",
    "cell_id": "00007-86a4f572-ad02-4b16-89be-d37177eadffc",
    "deepnote_cell_type": "markdown"
   }
  },
  {
   "cell_type": "markdown",
   "source": "## FAQ\n1. How to remove last commit from a remote git repository?\nIf necessary make a clone of the _broken_ repository\n```bash\n    git reset HEAD^ # remove commit locally\n    git push origin +HEAD # force-push the new HEAD commit\n```    ",
   "metadata": {
    "colab_type": "text",
    "id": "RYA1EAahSdS-",
    "cell_id": "00008-9c39fabd-cd22-428c-ad55-177e8c05b922",
    "deepnote_cell_type": "markdown"
   }
  },
  {
   "cell_type": "code",
   "metadata": {
    "colab": {},
    "colab_type": "code",
    "id": "krrNfIh3SdS_",
    "cell_id": "00009-bf4398a6-f416-4803-967f-49ba2b644fe5",
    "deepnote_cell_type": "code"
   },
   "source": "",
   "execution_count": null,
   "outputs": []
  },
  {
   "cell_type": "markdown",
   "source": "<a style='text-decoration:none;line-height:16px;display:flex;color:#5B5B62;padding:10px;justify-content:end;' href='https://deepnote.com?utm_source=created-in-deepnote-cell&projectId=f91b818d-f536-4b8f-81de-61752e0979b7' target=\"_blank\">\n<img alt='Created in deepnote.com' style='display:inline;max-height:16px;margin:0px;margin-right:7.5px;' src='data:image/svg+xml;base64,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' > </img>\nCreated in <span style='font-weight:600;margin-left:4px;'>Deepnote</span></a>",
   "metadata": {
    "tags": [],
    "created_in_deepnote_cell": true,
    "deepnote_cell_type": "markdown"
   }
  }
 ],
 "nbformat": 4,
 "nbformat_minor": 4,
 "metadata": {
  "colab": {
   "include_colab_link": true,
   "name": "Syncing_fork.ipynb",
   "provenance": []
  },
  "kernelspec": {
   "display_name": "Python 3",
   "language": "python",
   "name": "python3"
  },
  "language_info": {
   "codemirror_mode": {
    "name": "ipython",
    "version": 3
   },
   "file_extension": ".py",
   "mimetype": "text/x-python",
   "name": "python",
   "nbconvert_exporter": "python",
   "pygments_lexer": "ipython3",
   "version": "3.7.3"
  },
  "toc": {
   "colors": {
    "hover_highlight": "#DAA520",
    "running_highlight": "#FF0000",
    "selected_highlight": "#FFD700"
   },
   "moveMenuLeft": true,
   "nav_menu": {
    "height": "48px",
    "width": "252px"
   },
   "navigate_menu": true,
   "number_sections": true,
   "sideBar": true,
   "threshold": 4,
   "toc_cell": false,
   "toc_section_display": "block",
   "toc_window_display": false
  },
  "deepnote_notebook_id": "ef94d1e9-0405-4a1a-b582-ad6abf27d4e5",
  "deepnote": {},
  "deepnote_execution_queue": []
 }
}