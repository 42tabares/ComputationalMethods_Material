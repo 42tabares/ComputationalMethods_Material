{
  "nbformat": 4,
  "nbformat_minor": 0,
  "metadata": {
    "kernelspec": {
      "display_name": "Python 3",
      "language": "python",
      "name": "python3"
    },
    "language_info": {
      "codemirror_mode": {
        "name": "ipython",
        "version": 3
      },
      "file_extension": ".py",
      "mimetype": "text/x-python",
      "name": "python",
      "nbconvert_exporter": "python",
      "pygments_lexer": "ipython3",
      "version": "3.4.2"
    },
    "toc": {
      "colors": {
        "hover_highlight": "#DAA520",
        "running_highlight": "#FF0000",
        "selected_highlight": "#FFD700"
      },
      "moveMenuLeft": true,
      "nav_menu": {
        "height": "48px",
        "width": "252px"
      },
      "navigate_menu": true,
      "number_sections": true,
      "sideBar": true,
      "threshold": 4,
      "toc_cell": false,
      "toc_section_display": "block",
      "toc_window_display": false
    },
    "colab": {
      "name": "Syncing_fork.ipynb",
      "provenance": [],
      "include_colab_link": true
    }
  },
  "cells": [
    {
      "cell_type": "markdown",
      "metadata": {
        "id": "view-in-github",
        "colab_type": "text"
      },
      "source": [
        "<a href=\"https://colab.research.google.com/github/restrepo/ComputationalMethods/blob/master/material/Syncing_fork.ipynb\" target=\"_parent\"><img src=\"https://colab.research.google.com/assets/colab-badge.svg\" alt=\"Open In Colab\"/></a>"
      ]
    },
    {
      "cell_type": "markdown",
      "metadata": {
        "id": "VF8GaDb9SdS3",
        "colab_type": "text"
      },
      "source": [
        "# GIT\n",
        "See [\"Guia sencilla\"](http://rogerdudler.github.io/git-guide/index.es.html)"
      ]
    },
    {
      "cell_type": "markdown",
      "metadata": {
        "id": "R6h5CkAFSdS5",
        "colab_type": "text"
      },
      "source": [
        "# Fork official repository\n",
        "This notebook explains the recommended way to use this repository. If you only want to visualize the notebooks trough the viewer in [GitHub](./https://github.com/sbustamante/ComputationalMethods/blob/master/index.ipynb), you can safely ignore this section.\n",
        "\n",
        "* Firt make a fork of the official repository in GitHub\n",
        "\n",
        "* Clone your own copy of the repository with\n",
        "```bash\n",
        "git clone https://github.com/restrepo/ComputationalMethods.git\n",
        "```\n",
        "\n",
        "[1] After work some time working with the repository you would like to register your changes with\n",
        "```bash\n",
        "git commit -am 'My changes'\n",
        "```\n",
        "Or discard your changes with\n",
        "```bash\n",
        "git stash\n",
        "```\n",
        "[2] Check for possible changes before send your commit\n",
        "```bash\n",
        "git pull --rebase origin master\n",
        "```\n",
        "[3] Send changes to repository\n",
        "```bash\n",
        "git push origin master\n",
        "```\n",
        "[4] Go to [1] for further changes"
      ]
    },
    {
      "cell_type": "markdown",
      "metadata": {
        "id": "aYFRHQruSdS6",
        "colab_type": "text"
      },
      "source": [
        "# Sync with official repository\n",
        "1. ONLY for the first time: Follow the instructions for LINUX in [Configuring a remote for a fork](https://help.github.com/articles/configuring-a-remote-for-a-fork/)\n",
        "2. After that, follow the instructions in [Syncing a fork](https://help.github.com/articles/syncing-a-fork/)\n",
        "<img src=\"https://github.com/restrepo/ComputationalMethods/blob/master/material/figures/gitusage.png?raw=1\"> "
      ]
    },
    {
      "cell_type": "markdown",
      "metadata": {
        "collapsed": true,
        "id": "1JEht40eSdS7",
        "colab_type": "text"
      },
      "source": [
        "Summary of commands\n",
        "Only the first time:\n",
        "```\n",
        "git remote add upstream https://github.com/restrepo/ComputationalMethods.git\n",
        "```\n",
        "And before each pull request:\n",
        "```bash\n",
        "ssh -XC user@hub.oproject.org #or use jupyter terminal\n",
        "cd  ComputationalMethods\n",
        "git fetch upstream\n",
        "git checkout master\n",
        "git merge upstream/master\n",
        "```\n",
        "or just execute\n",
        "```bash\n",
        "syncurso\n",
        "```\n",
        "To update the forked repository in GitHub, just use\n",
        "or just execute\n",
        "```bash\n",
        "git push origin master\n",
        "```"
      ]
    },
    {
      "cell_type": "markdown",
      "metadata": {
        "id": "jf_WvvdVSdS8",
        "colab_type": "text"
      },
      "source": [
        "3. After finish your work, save your changes as new notebook and to clean to the initial state use:\n",
        "```bash\n",
        "git stash\n",
        "```"
      ]
    },
    {
      "cell_type": "markdown",
      "metadata": {
        "id": "UZ4585zySdS9",
        "colab_type": "text"
      },
      "source": [
        "## Homework assignments management\n",
        "There is an special repository to the evaluation of the course:\n",
        "\n",
        "https://github.com/ComputationalMethods/Evaluacion2020-1\n",
        "\n",
        "Make a fork of the repository as explained in the previous section and clone the forked repository.\n",
        "\n",
        "1. Inside the repository created a folde with your identification number and go there. _Example_:\n",
        "```bash\n",
        "mkdir 98567894\n",
        "```\n",
        "2. Copy your Tarea or Exament there, and rename the file, e.g `old_name.ipynb` by adding to the beggining either `Tarea_NN_` or `Examen_NN_`, where `NN` is the number of the Tarea or Examen. _Example_:\n",
        "```bash\n",
        "mv old_name.ipynb Tarea_01_old_name.ipynb \n",
        "```\n",
        "3. Add the file to cloned repository. _Example_:\n",
        "```\n",
        "git add Tarea_01_old_name.ipynb\n",
        "```\n",
        "2. Commit the changes\n",
        "```bash\n",
        "git commit -am 'Tarea 1 sobre repaso de Python'\n",
        "```\n",
        "2. Upload the changes to your forked repository\n",
        "```bash\n",
        "git push origin master\n",
        "```\n",
        "3. Make a pull request from the GitHub web page of your forked repository. See [here](https://help.github.com/articles/about-pull-requests/) and [here](http://gfif.udea.edu.co/web/tiki-index.php?page=GitHub)"
      ]
    },
    {
      "cell_type": "markdown",
      "metadata": {
        "collapsed": true,
        "id": "RYA1EAahSdS-",
        "colab_type": "text"
      },
      "source": [
        "## FAQ\n",
        "1. How to remove last commit from a remote git repository?\n",
        "If necessary make a clone of the _broken_ repository\n",
        "```bash\n",
        "    git reset HEAD^ # remove commit locally\n",
        "    git push origin +HEAD # force-push the new HEAD commit\n",
        "```    "
      ]
    },
    {
      "cell_type": "code",
      "metadata": {
        "id": "krrNfIh3SdS_",
        "colab_type": "code",
        "colab": {}
      },
      "source": [
        ""
      ],
      "execution_count": null,
      "outputs": []
    }
  ]
}