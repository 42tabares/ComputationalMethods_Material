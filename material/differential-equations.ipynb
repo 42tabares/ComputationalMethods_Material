{
 "cells": [
  {
   "cell_type": "markdown",
   "metadata": {},
   "source": [
    "# Differential Equations"
   ]
  },
  {
   "cell_type": "markdown",
   "metadata": {},
   "source": [
    "Differential equations is without doubt one of the more useful branch of mathematics in science. They are used to model problems involving the change of some variable with respect to another. Differential equations cover a wide range of different applications, ranging from ordinary differential equations (ODE) until boundary-value problems involving many variables. For the sake of simplicity, throughout this section we shall cover only ODE systems as they are more elemental and equally useful. First, we shall cover first order methods, then second order methods and finally, system of differential equations.\n",
    "\n",
    "See: \n",
    "* http://pages.cs.wisc.edu/~amos/412/lecture-notes/lecture21.pdf\n",
    "* http://pages.cs.wisc.edu/~amos/412/lecture-notes/lecture22.pdf"
   ]
  },
  {
   "cell_type": "markdown",
   "metadata": {},
   "source": [
    "- - -\n",
    "- [First Order Methods](#First-Order-Methods) \n",
    "    - [Euler's method](#Euler's-method)\n",
    "    - [Example 1](#Example-1)\n",
    "- [High Order Methods](#High-Order-Methods)\n",
    "    - [Second-order Runge-Kutta methods](#Second-order-Runge-Kutta-methods)\n",
    "    - [Example 2](#Example-2)\n",
    "    - [Fourth-order Runge-Kutta method](#Fourth-order-Runge-Kutta-method)\n",
    "- [Two-Point Boundary Value Problems](#Two-Point-Boundary-Value-Problems)\n",
    "    - [Example 3](#Example-3)\n",
    "\n",
    "- - -"
   ]
  },
  {
   "cell_type": "code",
   "execution_count": 1,
   "metadata": {},
   "outputs": [
    {
     "name": "stdout",
     "output_type": "stream",
     "text": [
      "Populating the interactive namespace from numpy and matplotlib\n"
     ]
    }
   ],
   "source": [
    "%pylab inline"
   ]
  },
  {
   "cell_type": "code",
   "execution_count": 59,
   "metadata": {},
   "outputs": [],
   "source": [
    "import numpy as np\n",
    "# JSAnimation import available at https://github.com/jakevdp/JSAnimation\n",
    "from JSAnimation import IPython_display\n",
    "from matplotlib import animation"
   ]
  },
  {
   "cell_type": "markdown",
   "metadata": {},
   "source": [
    "- - - "
   ]
  },
  {
   "cell_type": "markdown",
   "metadata": {},
   "source": [
    "# First Order Methods"
   ]
  },
  {
   "cell_type": "markdown",
   "metadata": {},
   "source": [
    "## Physical motivation\n",
    "\n",
    "### Momentum\n",
    "In absence a forces a body moves freely to a constant velocity (See figure)\n",
    "\n",
    "The quantity which can be associated with the change of speed of a body is the instantaneous _momentum_ of a particle of mass $m$ moving with instantaneous velocity $\\boldsymbol{v}$, given by\n",
    "\\begin{align}\n",
    "   \\boldsymbol{p}=&\\gamma m \\mathbf{v}\\,, &\\text{donde: } \\gamma=&\\frac{1}{\\sqrt{1-{|\\boldsymbol{v}|^2}/{c^2}}}\\,,\n",
    "\\end{align}\n",
    "and $c\\approx 3\\times 10^8\\ $m/s is the speed of light.\n",
    "\n",
    "If $\\gamma\\approx1$, or equivalent, sif $|\\boldsymbol{v}|\\ll c$:\n",
    "\\begin{align}\n",
    "  \\boldsymbol{p}\\approx &m \\boldsymbol{v}\n",
    "\\end{align}\n",
    "### Equation of motion\n",
    "Any change of the momentum can be atribuited to some force, $\\boldsymbol{F}$. In fact, the Newton's second law can be defined in a general way as\n",
    "> The change of the momentum of particle is equal to the net force acting upon the system times the duration of the interaction\n",
    "\n",
    "For one instaneous duration $\\Delta t$, this law can be written as\n",
    "$$\n",
    "\\Delta \\boldsymbol{p} = \\boldsymbol{F}\\Delta t,\\qquad \\Delta t \\to 0 \n",
    "$$\n",
    "or as the _equation of motion_, which is the _differential equation_\n",
    "\\begin{align}\n",
    "\\boldsymbol{F}=&\\lim_{t\\to 0} \\frac{\\Delta \\boldsymbol{p}}{\\Delta t} \\\\\n",
    "\\boldsymbol{F}=&\\frac{\\operatorname{d}\\boldsymbol{p}}{\\operatorname{d} t} \\\\\n",
    "\\end{align}\n",
    "This equation of motion if of general validity and can be applied numerically to solve any problem.\n",
    "\n",
    "In the special case of constant mass"
   ]
  },
  {
   "cell_type": "markdown",
   "metadata": {},
   "source": []
  },
  {
   "cell_type": "markdown",
   "metadata": {},
   "source": [
    "Ordinary differential equations normally implies the solution of an initial-value problem, i.e., the solution has to satisfy the differential equation together with some initial condition. Real-life problems usually imply very complicated problems and even non-soluble ones, making any analytical approximation unfeasible. Fortunately, there are two ways to handle this. First, for almost every situation, it is generally posible to simplify the original problem and obtain a simpler one that can be easily solved. Then, using perturbation theory, we can perturbate this solution in order to approximate the real one. This approach is useful, however, it depends very much on the specific problem and a systematic study is rather complicated.\n",
    "\n",
    "The second approximation, and the one used here, consists of a complete numerical reduction of the problem, solving it exactly within the accuracy allowed by implicit errors of the methods. For this part, we are going to assume well-defined problems, where solutions are expected to be well-behaved."
   ]
  },
  {
   "cell_type": "markdown",
   "metadata": {},
   "source": [
    "## Euler's method"
   ]
  },
  {
   "cell_type": "markdown",
   "metadata": {},
   "source": [
    "This method is the most basic of all methods, however, it is useful to understand basic concepts and definitions of differential equations problems. \n",
    "\n",
    "Suppose we have a well-posed initial-value problem given by:\n",
    "\n",
    "$$ \\frac{dy}{dt}=f(t,y),\\ \\ \\ a\\leq t\\leq b, \\ \\ \\ \\ y(a) = \\alpha $$\n",
    "\n",
    "Now, let's define a **mesh points** as a set of values $\\{t_i\\}t_i$ where we are going to approximate the solution $y(t)$. These points can be equal-spaced such that\n",
    "\n",
    "$$ t_i = a+ i \\Delta t,\\ \\ \\ \\ \\mbox{with}\\ \\ i=1,2,3,\\cdots,N \\ \\ \\mbox{and}\\ \\Delta t = \\frac{b-a}{N}. $$\n",
    "\n",
    "Here, $h$ is called the **step size** of the **mesh points**.\n",
    "\n",
    "Now, using the first-order approximation of the derivative that we saw in [Numerical Differentiation](http://nbviewer.ipython.org/github/sbustamante/ComputationalMethods/blob/master/material/numerical-calculus.ipynb#Numerical-Differentiation), we obtain\n",
    "\n",
    "$$ \\frac{dy}{dt}\\approx \\frac{y(t+\\Delta t)-y(t)}{\\Delta t} $$\n",
    "\n",
    "or\n",
    "\n",
    "$$ \\left.\\frac{dy}{dt}\\right|_{t=t_i}\\approx \\frac{y(t_{i+1})-y(t_i)}{\\Delta t} $$\n",
    "\n",
    "The original problem can be rewritten as\n",
    "\n",
    "$$ y_{i+1} = y_i + f(t_i, y_i)\\Delta t + \\frac{\\Delta t^2}{2}y^{''}(\\xi_i) $$\n",
    "\n",
    "where the notation $y(t_i)\\equiv y_i$ has been introduced and the last term (error term) can be obtained taking a second-order approximation of the derivative.\n",
    "\n",
    "This equation can be solved recursively as we know the initial value $y_0 = y(a) = \\alpha$."
   ]
  },
  {
   "cell_type": "markdown",
   "metadata": {},
   "source": [
    "## Example 1"
   ]
  },
  {
   "cell_type": "markdown",
   "metadata": {},
   "source": [
    "The formalism of the Euler's method can be applied for any system of the form:\n",
    "\n",
    "$$ \\frac{dy}{dt}=f(t,y),\\ \\ \\ a\\leq t\\leq b, \\ \\ \\ \\ y(a) = \\alpha $$\n",
    "\n",
    "However, it is possible to extend this to second-order systems, i.e., systems involving second derivatives. Let's suppose a general system of the form:\n",
    "\n",
    "$$ \\frac{d^2y}{dt^2}+ g(t,y)\\frac{dy}{dt}=f(t,y),\\ \\ \\ a\\leq t\\leq b, \\ \\ \\ \\ y(a) = \\alpha\\ \\ \\mbox{and}\\ y'(a) = \\beta$$\n",
    "\n",
    "For this system we have to provide both, the initial value $y(a)$ and the initial derivative $y'(a)$.\n",
    "\n",
    "Now, let's define a new variable $w(t) = y'(t)$, the previous problem can be then written as \n",
    "\n",
    "\\begin{align}\n",
    "\\frac{dw}{dt}=&f(t,y)-g(t,y)w \\\\  \n",
    "\\frac{dy}{dt}=&w(t)\\, ,\\ \\ \\ a\\leq t\\leq b\\,, \\ \\ \\ \\ y(a) = \\alpha\\ \\ \\mbox{and}\\ w(a) = \\beta\n",
    "\\end{align}\n",
    "\n",
    "Each of this problem has now the form required by the Euler's algorithm, and the solution can be computed as:\n",
    "\n",
    "\\begin{align}\n",
    "w_{i+1}=& w_{i} + [f(t_i,y_i)-g(t_i,y_i)w_i]\\Delta t \\\\  \n",
    "y_{i+1}=&y_i + w_i \\Delta t\\, ,\\ \\ \\ a\\leq t\\leq b\\,, \\ \\ \\ \\ y(a) = \\alpha\\ \\ \\mbox{and}\\ w(a) = \\beta\n",
    "\\end{align}"
   ]
  },
  {
   "cell_type": "markdown",
   "metadata": {},
   "source": [
    "In fact, the equation of motiion can be seen as the system of equations\n",
    "\\begin{align}\n",
    "\\frac{\\boldsymbol{p}}{m}=&\\frac{\\operatorname{d}\\boldsymbol{x}}{\\operatorname{d}t}\\\\\n",
    "\\boldsymbol{p}=& \\gamma m \\boldsymbol{v}\\\\\n",
    "\\boldsymbol{F}=&\\frac{\\operatorname{d}\\boldsymbol{p}}{\\operatorname{d} t} \n",
    "\\end{align}"
   ]
  },
  {
   "cell_type": "markdown",
   "metadata": {},
   "source": [
    "### Example:\n",
    "<!-- Para ilustrar la integración numérica considere el siguiente programa en `vpython` de la solución al problema de una partícula de masa $m=0.5\\ $Kg, con velocidad inicial $\\mathbf{v}_i=(5,0,0)\\ $m/s, moviendose bajo la influencia de una fuerza neta gravitacional dada por\n",
    "\\begin{align}\n",
    "\\textbf{F}_{\\text{neta}}=&(0,-mg,0)\\nonumber\\\\\n",
    "=&(0,-4.9,0)\\ \\text{N}\\,,\n",
    "\\end{align}\n",
    "La implementación con un paso de integración dado por un $\\Delta t=0.01\\ \\text{s}$ se ilustra en el siguiente programa:\n",
    "-->\n",
    "\n",
    "An object of 0.5 Kg is launched from the top of a building of 50 m with an horizontal speed of 5 m/s. Study the evolution of the movement\n",
    "* Neglecting the air friction"
   ]
  },
  {
   "cell_type": "code",
   "execution_count": 82,
   "metadata": {},
   "outputs": [],
   "source": [
    "import numpy as np\n",
    "import pandas as pd\n",
    "df=pd.DataFrame()\n",
    "m=.5\n",
    "g=9.8\n",
    "# intial conditions\n",
    "x=np.array([0,50,0])\n",
    "v=np.array([5,0,0])\n",
    "p=m*v\n",
    "deltat=0.01\n",
    "# Analysis for the first 3 s\n",
    "df=df.append({'x':x,'p':p},ignore_index=True)\n",
    "\n",
    "for t in np.arange( 0,3,deltat):\n",
    "    Fg=np.array([0,-m*g,0])\n",
    "    p=p+Fg*deltat\n",
    "    x=x+(p/m)*deltat\n",
    "    df=df.append({'x':x,'p':p},ignore_index=True)"
   ]
  },
  {
   "cell_type": "code",
   "execution_count": 84,
   "metadata": {},
   "outputs": [
    {
     "data": {
      "text/html": [
       "<div>\n",
       "<style>\n",
       "    .dataframe thead tr:only-child th {\n",
       "        text-align: right;\n",
       "    }\n",
       "\n",
       "    .dataframe thead th {\n",
       "        text-align: left;\n",
       "    }\n",
       "\n",
       "    .dataframe tbody tr th {\n",
       "        vertical-align: top;\n",
       "    }\n",
       "</style>\n",
       "<table border=\"1\" class=\"dataframe\">\n",
       "  <thead>\n",
       "    <tr style=\"text-align: right;\">\n",
       "      <th></th>\n",
       "      <th>p</th>\n",
       "      <th>x</th>\n",
       "    </tr>\n",
       "  </thead>\n",
       "  <tbody>\n",
       "    <tr>\n",
       "      <th>0</th>\n",
       "      <td>[2.5, 0.0, 0.0]</td>\n",
       "      <td>[0, 50, 0]</td>\n",
       "    </tr>\n",
       "    <tr>\n",
       "      <th>1</th>\n",
       "      <td>[2.5, -0.049, 0.0]</td>\n",
       "      <td>[0.05, 49.99902, 0.0]</td>\n",
       "    </tr>\n",
       "    <tr>\n",
       "      <th>2</th>\n",
       "      <td>[2.5, -0.098, 0.0]</td>\n",
       "      <td>[0.1, 49.99706, 0.0]</td>\n",
       "    </tr>\n",
       "  </tbody>\n",
       "</table>\n",
       "</div>"
      ],
      "text/plain": [
       "                    p                      x\n",
       "0     [2.5, 0.0, 0.0]             [0, 50, 0]\n",
       "1  [2.5, -0.049, 0.0]  [0.05, 49.99902, 0.0]\n",
       "2  [2.5, -0.098, 0.0]   [0.1, 49.99706, 0.0]"
      ]
     },
     "execution_count": 84,
     "metadata": {},
     "output_type": "execute_result"
    }
   ],
   "source": [
    "df[:3]"
   ]
  },
  {
   "cell_type": "code",
   "execution_count": 91,
   "metadata": {},
   "outputs": [],
   "source": [
    "df.to_json('mvto.json')"
   ]
  },
  {
   "cell_type": "code",
   "execution_count": 94,
   "metadata": {},
   "outputs": [],
   "source": [
    "#pd.read_json('mvto.json').x.str[1]"
   ]
  },
  {
   "cell_type": "code",
   "execution_count": 98,
   "metadata": {},
   "outputs": [
    {
     "data": {
      "image/png": "[encoded data removed]",
      "text/plain": [
       "<matplotlib.figure.Figure at 0x7f5af16e1be0>"
      ]
     },
     "metadata": {},
     "output_type": "display_data"
    }
   ],
   "source": [
    "plt.plot(df.x.str[0],df.x.str[1])\n",
    "plt.xlabel('$x$ [m]',size=15)\n",
    "plt.ylabel('$y$ [m]',size=15)\n",
    "plt.grid()"
   ]
  },
  {
   "cell_type": "code",
   "execution_count": 110,
   "metadata": {},
   "outputs": [],
   "source": [
    "import numpy as np\n",
    "import pandas as pd\n",
    "df=pd.DataFrame()\n",
    "m=.5\n",
    "g=9.8\n",
    "for c in [0,0.1,0.5]:\n",
    "    x=np.array([0,50,0])\n",
    "    v=np.array([5,0,0])\n",
    "    p=m*v\n",
    "    deltat=0.01\n",
    "    t=0\n",
    "    df=df.append({'x':x,'p':p,'t':t,'c':c},ignore_index=True)\n",
    "    \n",
    "    for t in np.arange( 0,3,deltat):\n",
    "        Fg=np.array([0,-m*g,0])-c*(p/m)\n",
    "        p=p+Fg*deltat\n",
    "        x=x+(p/m)*deltat\n",
    "        t=t+deltat\n",
    "        df=df.append({'x':x,'p':p,'t':t,'c':c},ignore_index=True)"
   ]
  },
  {
   "cell_type": "code",
   "execution_count": 111,
   "metadata": {},
   "outputs": [
    {
     "data": {
      "text/plain": [
       "array([ 0. ,  0.1,  0.5])"
      ]
     },
     "execution_count": 111,
     "metadata": {},
     "output_type": "execute_result"
    }
   ],
   "source": [
    "df.c.unique()"
   ]
  },
  {
   "cell_type": "markdown",
   "metadata": {},
   "source": [
    "Apply a mask  upon the DataFrame:\n",
    "* Example"
   ]
  },
  {
   "cell_type": "code",
   "execution_count": 112,
   "metadata": {},
   "outputs": [
    {
     "data": {
      "text/plain": [
       "array([ 0. ,  0.5])"
      ]
     },
     "execution_count": 112,
     "metadata": {},
     "output_type": "execute_result"
    }
   ],
   "source": [
    "df[np.logical_or( df.c==0,df.c==0.5  )].c.unique()"
   ]
  },
  {
   "cell_type": "markdown",
   "metadata": {},
   "source": [
    "* Filter `c==0`"
   ]
  },
  {
   "cell_type": "code",
   "execution_count": 113,
   "metadata": {},
   "outputs": [
    {
     "data": {
      "text/html": [
       "<div>\n",
       "<style>\n",
       "    .dataframe thead tr:only-child th {\n",
       "        text-align: right;\n",
       "    }\n",
       "\n",
       "    .dataframe thead th {\n",
       "        text-align: left;\n",
       "    }\n",
       "\n",
       "    .dataframe tbody tr th {\n",
       "        vertical-align: top;\n",
       "    }\n",
       "</style>\n",
       "<table border=\"1\" class=\"dataframe\">\n",
       "  <thead>\n",
       "    <tr style=\"text-align: right;\">\n",
       "      <th></th>\n",
       "      <th>c</th>\n",
       "      <th>p</th>\n",
       "      <th>t</th>\n",
       "      <th>x</th>\n",
       "    </tr>\n",
       "  </thead>\n",
       "  <tbody>\n",
       "    <tr>\n",
       "      <th>0</th>\n",
       "      <td>0.0</td>\n",
       "      <td>[2.5, 0.0, 0.0]</td>\n",
       "      <td>0.0</td>\n",
       "      <td>[0, 50, 0]</td>\n",
       "    </tr>\n",
       "    <tr>\n",
       "      <th>300</th>\n",
       "      <td>0.0</td>\n",
       "      <td>[2.5, -14.7, 0.0]</td>\n",
       "      <td>3.0</td>\n",
       "      <td>[15.0, 5.753, 0.0]</td>\n",
       "    </tr>\n",
       "  </tbody>\n",
       "</table>\n",
       "</div>"
      ],
      "text/plain": [
       "       c                  p    t                   x\n",
       "0    0.0    [2.5, 0.0, 0.0]  0.0          [0, 50, 0]\n",
       "300  0.0  [2.5, -14.7, 0.0]  3.0  [15.0, 5.753, 0.0]"
      ]
     },
     "execution_count": 113,
     "metadata": {},
     "output_type": "execute_result"
    }
   ],
   "source": [
    "df[df.c==0].loc[[0,300]]"
   ]
  },
  {
   "cell_type": "code",
   "execution_count": 114,
   "metadata": {},
   "outputs": [],
   "source": [
    "from mpl_toolkits.mplot3d import Axes3D"
   ]
  },
  {
   "cell_type": "code",
   "execution_count": 137,
   "metadata": {},
   "outputs": [
    {
     "data": {
      "text/plain": [
       "<matplotlib.text.Text at 0x7f5af19ffd68>"
      ]
     },
     "execution_count": 137,
     "metadata": {},
     "output_type": "execute_result"
    },
    {
     "data": {
      "image/png": "[encoded data removed]",
      "text/plain": [
       "<matplotlib.figure.Figure at 0x7f5af1d1f048>"
      ]
     },
     "metadata": {},
     "output_type": "display_data"
    }
   ],
   "source": [
    "fig = plt.figure()\n",
    "ax = fig.gca(projection='3d')\n",
    "c=0\n",
    "ax.plot(df[df.c==c].x.str[0].values, df[df.c==c].x.str[1].values, df[df.c==c].x.str[2].values)\n",
    "c=0.1\n",
    "ax.plot(df[df.c==c].x.str[0].values, df[df.c==c].x.str[1].values, df[df.c==c].x.str[2].values)\n",
    "c=0.5\n",
    "ax.plot(df[df.c==c].x.str[0].values, df[df.c==c].x.str[1].values, df[df.c==c].x.str[2].values)\n",
    "\n",
    "ax.view_init(80, 250)\n",
    "plt.xlabel('$x$ [m]',size=10)\n",
    "plt.ylabel('$y$ [m]',size=10)"
   ]
  },
  {
   "cell_type": "code",
   "execution_count": 138,
   "metadata": {},
   "outputs": [
    {
     "data": {
      "image/png": "[encoded data removed]",
      "text/plain": [
       "<matplotlib.figure.Figure at 0x7f5af1d73d30>"
      ]
     },
     "metadata": {},
     "output_type": "display_data"
    }
   ],
   "source": [
    "c=0\n",
    "plt.plot(df[df.c==c].x.str[0], df[df.c==c].x.str[1])\n",
    "c=0.1\n",
    "plt.plot(df[df.c==c].x.str[0], df[df.c==c].x.str[1])\n",
    "c=0.5\n",
    "plt.plot(df[df.c==c].x.str[0], df[df.c==c].x.str[1])\n",
    "plt.xlabel('$x$ [m]',size=15)\n",
    "plt.ylabel('$y$ [m]',size=15)\n",
    "plt.grid()"
   ]
  },
  {
   "cell_type": "markdown",
   "metadata": {},
   "source": [
    "__Activity__: Find the time to reach the position `y=0` in each case. By using an algorithm to find roots"
   ]
  },
  {
   "cell_type": "markdown",
   "metadata": {},
   "source": [
    "In order to apply this, let's assume a simple mass-spring.\n",
    "\n",
    "![](https://raw.githubusercontent.com/sbustamante/ComputationalMethods/master/material/figures/mass_spring.png)\n",
    "\n",
    "The equation of motion according to Newton's second law is\n",
    "\n",
    "$$ F = -kx $$\n",
    "\n",
    "Using the previous results, we can rewrite this as:\n",
    "\n",
    "$$ \\frac{d p}{dt} = -k x $$\n",
    "$$ \\frac{dx}{dt} = \\frac{p}{m}$$\n",
    "\n",
    "And the equivalent Euler system is\n",
    "\\begin{align}\n",
    "v_{i+1}=& v_{i} - \\Delta t\\frac{k}{m}x_i \\\\  \n",
    "x_{i+1}=&x_i +  v_i \\Delta t\\, ,\\ \\ \\ x(0) = x_0\\ \\ \\mbox{and}\\ v(0) = v_0\n",
    "\\end{align}"
   ]
  },
  {
   "cell_type": "markdown",
   "metadata": {},
   "source": [
    "## <font color='red'>     **Activity** </font>"
   ]
  },
  {
   "cell_type": "markdown",
   "metadata": {},
   "source": [
    "<font color='red'>    \n",
    "**1.** Using the initial conditions $x(0) = 0$ and $v(0) = 3$, solve the previous system. Plot the solutions $x(t)$ and $y(t)$ and compare with real solutions. Furthermore, calculate the total energy of the system. What can you conclude about the behaviour of the energy? Does it make any sense?\n",
    "</font>"
   ]
  },
  {
   "cell_type": "markdown",
   "metadata": {},
   "source": [
    "<font color='red'>    \n",
    "**2.** Using the same reasoning, derive the equations for a simple pendulum. Compare the solution for small oscillations with the analytic one. What happens when increasing the initial amplitude of the movement?\n",
    "</font>"
   ]
  },
  {
   "cell_type": "markdown",
   "metadata": {},
   "source": [
    "- - -"
   ]
  },
  {
   "cell_type": "markdown",
   "metadata": {},
   "source": [
    "# High Order Methods"
   ]
  },
  {
   "cell_type": "markdown",
   "metadata": {},
   "source": [
    "Although first-order schemes like Euler's method are illustrative and allow a good understanding of the numerical problem, real applications cannot be dealt with them, instead more precise and accurate high-order methods must be invoked. In this section we shall cover a well-known family of numerical integrators, the Runge-Kutta methods."
   ]
  },
  {
   "cell_type": "code",
   "execution_count": 5,
   "metadata": {},
   "outputs": [],
   "source": [
    "import scipy.integrate as integrate"
   ]
  },
  {
   "cell_type": "markdown",
   "metadata": {},
   "source": [
    "### Some examples\n",
    "1. http://www.southampton.ac.uk/~fangohr/teaching/python/book/Python-for-Computational-Science-and-Engineering.pdf\n",
    "   * http://www.southampton.ac.uk/~fangohr/teaching/python/book/ipynb/\n",
    "1. http://sam-dolan.staff.shef.ac.uk/mas212/\n",
    "   * http://sam-dolan.staff.shef.ac.uk/mas212/notebooks/ODE_Example.ipynb\n",
    "1. https://apmonitor.com/pdc/index.php/Main/SolveDifferentialEquations\n",
    "1. http://csc.ucdavis.edu/~cmg/Group/readings/pythonissue_3of4.pdf\n",
    "1. http://www.tau.ac.il/~kineret/amit/scipy_tutorial/#x1-210004.4\n",
    "1. https://www.udacity.com/course/differential-equations-in-action--cs222\n",
    "1. https://github.com/robclewley/pydstool\n",
    "   * http://www2.gsu.edu/~matrhc/PyDSTool.htm\n",
    "1. https://github.com/JuliaDiffEq   "
   ]
  },
  {
   "cell_type": "markdown",
   "metadata": {},
   "source": [
    "__Example__: From [http://sam-dolan.staff.shef.ac.uk/mas212/](http://sam-dolan.staff.shef.ac.uk/mas212/notebooks/ODE_Example.ipynb)"
   ]
  },
  {
   "cell_type": "markdown",
   "metadata": {},
   "source": [
    "Suppose we have a second-order ODE such as a damped simple harmonic motion equation,\n",
    "$$\n",
    "\\quad y'' + 2 y' + 2 y = \\cos(2x), \\quad \\quad y(0) = 0, \\; y'(0) = 0\n",
    "$$\n",
    "We can turn this into two first-order equations by defining a new depedent variable. For example,\n",
    "$$\n",
    "\\quad z \\equiv y' \\quad \\Rightarrow \\quad z' + 2 z + 2y = \\cos(2x), \\quad z(0)=y(0) = 0.\n",
    "$$\n",
    "We can solve this system of ODEs using \"odeint\" with lists, as follows:"
   ]
  },
  {
   "cell_type": "markdown",
   "metadata": {},
   "source": [
    "Let \n",
    "$$\n",
    "U=\\begin{bmatrix}\n",
    "U_0\\\\\n",
    "U_1\n",
    "\\end{bmatrix}=\\begin{bmatrix}\n",
    "y\\\\\n",
    "z\n",
    "\\end{bmatrix}.\n",
    "$$\n",
    "Therefore\n",
    "\\begin{align}\n",
    "\\frac{\\operatorname{d}}{\\operatorname{d} t} \n",
    "\\begin{bmatrix} \n",
    "y\\\\\n",
    "z\\\\\n",
    "\\end{bmatrix}=&\n",
    "\\begin{bmatrix}\n",
    "z\\\\\n",
    "-2z-2y+\\cos(2x)\\\\\n",
    "\\end{bmatrix}\\\\\n",
    "\\frac{\\operatorname{d}}{\\operatorname{d} t} \n",
    "U=&\n",
    "\\begin{bmatrix}\n",
    "U_1\\\\\n",
    "-2U_1-2U_0+\\cos(2x)\\\\\n",
    "\\end{bmatrix}\n",
    "\\end{align}"
   ]
  },
  {
   "cell_type": "code",
   "execution_count": 6,
   "metadata": {},
   "outputs": [
    {
     "data": {
      "image/png": "[encoded data removed]",
      "text/plain": [
       "<matplotlib.figure.Figure at 0x7f9a799d18d0>"
      ]
     },
     "metadata": {},
     "output_type": "display_data"
    }
   ],
   "source": [
    "def dU_dx(U, x):\n",
    "    '''\n",
    "    Here U is a vector such that y=U[0] and z=U[1]. \n",
    "    This function should return [y', z']\n",
    "    '''    \n",
    "    return [U[1], -2*U[1] - 2*U[0] + np.cos(2*x)]\n",
    "\n",
    "U0 = [0, 0]\n",
    "xs = np.linspace(0, 10, 200)\n",
    "Us = integrate.odeint(dU_dx, U0, xs)\n",
    "ys = Us[:,0]\n",
    "\n",
    "plt.xlabel(\"x\")\n",
    "plt.ylabel(\"y\")\n",
    "plt.title(\"Damped harmonic oscillator\")\n",
    "plt.plot(xs,ys);"
   ]
  },
  {
   "cell_type": "markdown",
   "metadata": {},
   "source": [
    "__Activity__: Apply the previous example to the problem of parabolic motion with air friction:"
   ]
  },
  {
   "cell_type": "markdown",
   "metadata": {},
   "source": [
    "\\begin{align}\n",
    "\\frac{\\boldsymbol{p}}{m}=&\\frac{\\operatorname{d}\\boldsymbol{x}}{\\operatorname{d}t}\\\\\n",
    "\\boldsymbol{F}=&\\frac{\\operatorname{d}\\boldsymbol{p}}{\\operatorname{d} t} \n",
    "\\end{align}\n",
    "\n",
    "\\begin{align}\n",
    "\\frac{\\operatorname{d}}{\\operatorname{d} t} \n",
    "\\begin{bmatrix} \n",
    " \\boldsymbol{x}\\\\\n",
    " \\boldsymbol{p}\\\\\n",
    "\\end{bmatrix}=&\n",
    "\\begin{bmatrix}\n",
    "\\boldsymbol{p}/m\\\\\n",
    "-m\\boldsymbol{g}-c \\boldsymbol{p}/m \\\\\n",
    "\\end{bmatrix}\\,,\n",
    "\\end{align}\n",
    "such that in two dimensions"
   ]
  },
  {
   "cell_type": "markdown",
   "metadata": {},
   "source": [
    "$$\n",
    "\\boldsymbol{U}=\\begin{bmatrix}\n",
    "{U}_0\\\\\n",
    "{U}_1\\\\\n",
    "{U}_2\\\\\n",
    "{U}_3\\\\\n",
    "\\end{bmatrix}=\\begin{bmatrix}\n",
    "{x}\\\\\n",
    "y\\\\\n",
    "p_x\\\\\n",
    "p_y\\\\\n",
    "\\end{bmatrix}\n",
    "$$\n",
    "\\begin{align}\n",
    "\\frac{\\operatorname{d}}{\\operatorname{d} t} \\boldsymbol{U}=&\n",
    "\\begin{bmatrix}\n",
    "{U}_2/m\\\\\n",
    "{U}_3/m\\\\\n",
    "-c{U}_2/m\\\\\n",
    "-m{g}-c{U}_3/m\\\\\n",
    "\\end{bmatrix}\n",
    "\\end{align}"
   ]
  },
  {
   "cell_type": "code",
   "execution_count": 61,
   "metadata": {},
   "outputs": [],
   "source": [
    "def dU_dt(U, t,m=.5,c=0.):\n",
    "    '''\n",
    "    Here U is a vector such that y=U[0] and z=U[1]. \n",
    "    This function should return [y', z']\n",
    "    '''\n",
    "    g=9.8\n",
    "    return [U[2]/m,\n",
    "            U[3]/m,\n",
    "            -c*U[2]/m, \n",
    "            -m*g-c*U[3]/m]\n",
    "\n",
    "U0 = [0, 50,5*m,0]\n",
    "t = np.linspace(0, 3, 200)"
   ]
  },
  {
   "cell_type": "code",
   "execution_count": 62,
   "metadata": {},
   "outputs": [
    {
     "data": {
      "text/plain": [
       "[<matplotlib.lines.Line2D at 0x7f99ad2c8cf8>]"
      ]
     },
     "execution_count": 62,
     "metadata": {},
     "output_type": "execute_result"
    },
    {
     "data": {
      "image/png": "[encoded data removed]",
      "text/plain": [
       "<matplotlib.figure.Figure at 0x7f99ad35ac18>"
      ]
     },
     "metadata": {},
     "output_type": "display_data"
    }
   ],
   "source": [
    "Us = integrate.odeint(dU_dt, U0, t,args=(0.5,0) )  \n",
    "xs = Us[:,0]\n",
    "ys = Us[:,1]\n",
    "plt.plot(Us[:,0],Us[:,1])\n",
    "Us = integrate.odeint(dU_dt, U0, t,args=(0.5,0.1) )  \n",
    "xs = Us[:,0]\n",
    "ys = Us[:,1]\n",
    "plt.plot(Us[:,0],Us[:,1])\n",
    "Us = integrate.odeint(dU_dt, U0, t,args=(0.5,0.5) )  \n",
    "xs = Us[:,0]\n",
    "ys = Us[:,1]\n",
    "plt.plot(Us[:,0],Us[:,1])"
   ]
  },
  {
   "cell_type": "code",
   "execution_count": 63,
   "metadata": {},
   "outputs": [],
   "source": [
    "Us = integrate.odeint(dU_dt, U0, t,args=(0.5,0) )  "
   ]
  },
  {
   "cell_type": "code",
   "execution_count": 64,
   "metadata": {},
   "outputs": [
    {
     "data": {
      "text/plain": [
       "(200, 4)"
      ]
     },
     "execution_count": 64,
     "metadata": {},
     "output_type": "execute_result"
    }
   ],
   "source": [
    "Us.shape"
   ]
  },
  {
   "cell_type": "code",
   "execution_count": 68,
   "metadata": {},
   "outputs": [
    {
     "data": {
      "text/plain": [
       "array([  0.        ,  -0.07386935,  -0.14773869,  -0.22160804,\n",
       "        -0.29547739,  -0.36934673,  -0.44321608,  -0.51708543,\n",
       "        -0.59095477,  -0.66482412,  -0.73869347,  -0.81256281,\n",
       "        -0.88643216,  -0.96030151,  -1.03417085,  -1.1080402 ,\n",
       "        -1.18190955,  -1.25577889,  -1.32964824,  -1.40351759,\n",
       "        -1.47738693,  -1.55125628,  -1.62512563,  -1.69899497,\n",
       "        -1.77286432,  -1.84673367,  -1.92060302,  -1.99447236,\n",
       "        -2.06834171,  -2.14221106,  -2.2160804 ,  -2.28994975,\n",
       "        -2.3638191 ,  -2.43768844,  -2.51155779,  -2.58542714,\n",
       "        -2.65929648,  -2.73316583,  -2.80703518,  -2.88090452,\n",
       "        -2.95477387,  -3.02864322,  -3.10251256,  -3.17638191,\n",
       "        -3.25025126,  -3.3241206 ,  -3.39798995,  -3.4718593 ,\n",
       "        -3.54572864,  -3.61959799,  -3.69346734,  -3.76733668,\n",
       "        -3.84120603,  -3.91507538,  -3.98894472,  -4.06281407,\n",
       "        -4.13668342,  -4.21055276,  -4.28442211,  -4.35829146,\n",
       "        -4.4321608 ,  -4.50603015,  -4.5798995 ,  -4.65376884,\n",
       "        -4.72763819,  -4.80150754,  -4.87537688,  -4.94924623,\n",
       "        -5.02311558,  -5.09698492,  -5.17085427,  -5.24472362,\n",
       "        -5.31859296,  -5.39246231,  -5.46633166,  -5.54020101,\n",
       "        -5.61407035,  -5.6879397 ,  -5.76180905,  -5.83567839,\n",
       "        -5.90954774,  -5.98341709,  -6.05728643,  -6.13115578,\n",
       "        -6.20502513,  -6.27889447,  -6.35276382,  -6.42663317,\n",
       "        -6.50050251,  -6.57437186,  -6.64824121,  -6.72211055,\n",
       "        -6.7959799 ,  -6.86984925,  -6.94371859,  -7.01758794,\n",
       "        -7.09145729,  -7.16532663,  -7.23919598,  -7.31306533,\n",
       "        -7.38693467,  -7.46080402,  -7.53467337,  -7.60854271,\n",
       "        -7.68241206,  -7.75628141,  -7.83015075,  -7.9040201 ,\n",
       "        -7.97788945,  -8.05175879,  -8.12562814,  -8.19949749,\n",
       "        -8.27336683,  -8.34723618,  -8.42110553,  -8.49497487,\n",
       "        -8.56884422,  -8.64271357,  -8.71658291,  -8.79045226,\n",
       "        -8.86432161,  -8.93819095,  -9.0120603 ,  -9.08592965,\n",
       "        -9.15979899,  -9.23366834,  -9.30753769,  -9.38140704,\n",
       "        -9.45527638,  -9.52914573,  -9.60301508,  -9.67688442,\n",
       "        -9.75075377,  -9.82462312,  -9.89849246,  -9.97236181,\n",
       "       -10.04623116, -10.1201005 , -10.19396985, -10.2678392 ,\n",
       "       -10.34170854, -10.41557789, -10.48944724, -10.56331658,\n",
       "       -10.63718593, -10.71105528, -10.78492462, -10.85879397,\n",
       "       -10.93266332, -11.00653266, -11.08040201, -11.15427136,\n",
       "       -11.2281407 , -11.30201005, -11.3758794 , -11.44974874,\n",
       "       -11.52361809, -11.59748744, -11.67135678, -11.74522613,\n",
       "       -11.81909548, -11.89296482, -11.96683417, -12.04070352,\n",
       "       -12.11457286, -12.18844221, -12.26231156, -12.3361809 ,\n",
       "       -12.41005025, -12.4839196 , -12.55778894, -12.63165829,\n",
       "       -12.70552764, -12.77939698, -12.85326633, -12.92713568,\n",
       "       -13.00100503, -13.07487437, -13.14874372, -13.22261307,\n",
       "       -13.29648241, -13.37035176, -13.44422111, -13.51809045,\n",
       "       -13.5919598 , -13.66582915, -13.73969849, -13.81356784,\n",
       "       -13.88743719, -13.96130653, -14.03517588, -14.10904523,\n",
       "       -14.18291457, -14.25678392, -14.33065327, -14.40452261,\n",
       "       -14.47839196, -14.55226131, -14.62613065, -14.7       ])"
      ]
     },
     "execution_count": 68,
     "metadata": {},
     "output_type": "execute_result"
    }
   ],
   "source": [
    "Us[:,3]"
   ]
  },
  {
   "cell_type": "markdown",
   "metadata": {},
   "source": [
    "## Second-order Runge-Kutta methods"
   ]
  },
  {
   "cell_type": "markdown",
   "metadata": {},
   "source": [
    "For this method, let's assume a problem of the form:\n",
    "\n",
    "$$ \\frac{dy}{dt}=y'=f(t,y),\\ \\ \\ a\\leq t\\leq b, \\ \\ \\ \\ y(a) = \\alpha $$\n",
    "\n",
    "Now, we want to know the solution in the next timestep, i.e. $y(t+h)$. For this, we propose the next solution:\n",
    "\n",
    "$$ y(t+h) = y(t) + c_0 f(t,y)h + c_1f[  t+ph, y+qhf(t,y) ]h $$\n",
    "\n",
    "determining the coefficients $c_0, c_1, q$ and $p$, we will have the complete approximated solution of the problem.\n",
    "\n",
    "One way to determine them is by comparing with the taylor expansion around $t$\n",
    "\n",
    "$$ y(t+h) = y(t) + f(t,y)h + \\frac{1}{2}\\left( \\frac{\\partial f}{\\partial t} + \\frac{\\partial f}{\\partial y}  \\right)h^2 + \\mathcal{O}(h^3) $$\n",
    "\n",
    "Now, we can also expand the function $f[  t+ph, y+qhf(t,y) ]$ around the point $(t,y)$, yielding:\n",
    "\n",
    "$$ f[  t+ph, y+qhf(t,y) ] = f(t,y) + \\frac{\\partial f}{\\partial t}ph + \\frac{\\partial f}{\\partial y}qh + \\mathcal{O}(h^2)  $$\n",
    "\n",
    "Replacing this into the original expression:\n",
    "\n",
    "$$ y(t+h) = y(t) + c_0 f(t,y)h + c_1\\left[ f(t,y) + \\frac{\\partial f}{\\partial t}ph + \\frac{\\partial f}{\\partial y}qh \\right]h + \\mathcal{O}(h^3)$$\n",
    "\n",
    "ordering the terms we obtain:\n",
    "\n",
    "$$ y(t+h) = y(t) + (c_0+c_1) f(t,y)h + c_1\\left[ \\frac{\\partial f}{\\partial t}p + \\frac{\\partial f}{\\partial y}q \\right]h^2 + \\mathcal{O}(h^3)$$\n",
    "\n",
    "Equalling the next conditions are obtained:\n",
    "\n",
    "$$ c_0 + c_1 =1 \\ \\ \\ c_1p=\\frac{1}{2}\\ \\ \\ c_1q = \\frac{1}{2} $$\n",
    "\n",
    "This set of equations are undetermined so there are several solutions, each one yielding a different method:\n",
    "\n",
    "$$ \\matrix{ \n",
    "c_0 = 0 & c_1=1 & p = 1/2 & q = 1/2 & \\mbox{Modified Euler's Method} \\\\\n",
    "c_0 = 1/2 & c_1=1/2 & p = 1 & q = 1 & \\mbox{Heun's Method} \\\\\n",
    "c_0 = 1/3 & c_1=2/3 & p = 3/4 & q = 3/4 & \\mbox{Ralston's Method}\n",
    "} $$\n",
    "\n",
    "The algorithm is then:\n",
    "\n",
    "$$ y(t+h) = y(t) + (c_1+c_2)\\mathbf{K}_1 $$\n",
    "\n",
    "with\n",
    "\n",
    "$$ \\mathbf{K}_1 = hf( t+pt, y+q\\mathbf{K}_0 ) $$\n",
    "$$ \\mathbf{K}_0 = hf(t,y) $$\n",
    "\n",
    "All these methods constitute the second-order Runge-Kutta methods."
   ]
  },
  {
   "cell_type": "markdown",
   "metadata": {},
   "source": [
    "## Example 2"
   ]
  },
  {
   "cell_type": "markdown",
   "metadata": {},
   "source": [
    "In this example we are going to use the Runge-Kutta 2 method (Modified Euler's) for mapping the phase space of a pendulum.\n",
    "\n",
    "The equations of the pendulum are given by:\n",
    "\n",
    "$$ \\frac{d\\theta}{dt} = \\omega $$\n",
    "$$ \\frac{d\\omega}{dt} = -\\frac{g}{l}\\sin(\\theta) $$"
   ]
  },
  {
   "cell_type": "code",
   "execution_count": 131,
   "metadata": {},
   "outputs": [],
   "source": [
    "def dU_dθ(U, t,l=1):\n",
    "    '''\n",
    "    Here U is a vector such that y=U[0] and z=U[1]. \n",
    "    This function should return [y', z']\n",
    "    '''    \n",
    "    g=9.8\n",
    "    return [U[1], -g/l*np.sin( U[0] ) ]"
   ]
  },
  {
   "cell_type": "code",
   "execution_count": 36,
   "metadata": {},
   "outputs": [],
   "source": [
    "tmax = 6*np.pi"
   ]
  },
  {
   "cell_type": "code",
   "execution_count": 39,
   "metadata": {},
   "outputs": [],
   "source": [
    "Nic = 1000\n",
    "#Maxim angular velocity\n",
    "omega_max = 8\n",
    "\n",
    "theta0s = -4*np.pi + np.random.random(Nic)*8*np.pi\n",
    "omega0s = -omega_max + np.random.random(Nic)*2*omega_max"
   ]
  },
  {
   "cell_type": "code",
   "execution_count": 57,
   "metadata": {},
   "outputs": [
    {
     "data": {
      "text/plain": [
       "[-1.3473493714349836, -2.0746359490049571]"
      ]
     },
     "execution_count": 57,
     "metadata": {},
     "output_type": "execute_result"
    }
   ],
   "source": [
    "U0=[theta0s[0],omega0s[0]]\n",
    "U0"
   ]
  },
  {
   "cell_type": "code",
   "execution_count": 141,
   "metadata": {},
   "outputs": [],
   "source": [
    "#U0=[theta0,omega0]"
   ]
  },
  {
   "cell_type": "code",
   "execution_count": 133,
   "metadata": {},
   "outputs": [],
   "source": [
    "t=np.linspace(0,tmax,400)\n",
    "Us=integrate.odeint(dU_dθ,U0,t)"
   ]
  },
  {
   "cell_type": "code",
   "execution_count": 138,
   "metadata": {},
   "outputs": [
    {
     "data": {
      "text/plain": [
       "(-10, 10)"
      ]
     },
     "execution_count": 138,
     "metadata": {},
     "output_type": "execute_result"
    },
    {
     "data": {
      "image/png": "[encoded data removed]",
      "text/plain": [
       "<matplotlib.figure.Figure at 0x7f99ae0ba7b8>"
      ]
     },
     "metadata": {},
     "output_type": "display_data"
    }
   ],
   "source": [
    "plt.plot(Us[:,0],Us[:,1],lw = 1, color = \"black\" )\n",
    "plt.xlim(-8,8)\n",
    "plt.ylim(-10,10)"
   ]
  },
  {
   "cell_type": "code",
   "execution_count": 97,
   "metadata": {},
   "outputs": [],
   "source": [
    "#RK2 integrator\n",
    "def RK2_step( f, y, t, h ):\n",
    "    #Creating solutions\n",
    "    K0 = h*f(t, y)\n",
    "    K1 = h*f(t + 0.5*h, y + 0.5*K0)\n",
    "    y1 = y + K1\n",
    "    #Returning solution\n",
    "    return y1"
   ]
  },
  {
   "cell_type": "markdown",
   "metadata": {},
   "source": [
    "The phase space of a dynamical system is a space in which all the possible states of that system are univocally represented. For the case of the pendulum, a complete state of the system is given by the set $(\\theta, \\omega)$, so its phase space is two-dimensional. In order to explore all the possible states, we are going to generate a set of initial conditions and integrate them."
   ]
  },
  {
   "cell_type": "code",
   "execution_count": 100,
   "metadata": {},
   "outputs": [],
   "source": [
    "#========================================================\n",
    "#Defining parameters\n",
    "#========================================================\n",
    "#Gravity\n",
    "g = 9.8\n",
    "#Pendulum's lenght\n",
    "l = 1.0\n",
    "\n",
    "#Number of initial conditions\n",
    "Nic = 1000\n",
    "#Maxim angular velocity\n",
    "omega_max = 8\n",
    "\n",
    "#Maxim time of integration\n",
    "tmax = 6*np.pi\n",
    "#Timestep\n",
    "h = 0.01\n",
    "\n",
    "#========================================================\n",
    "#Dynamical function of the system\n",
    "#========================================================\n",
    "def function( t, y ):\n",
    "    #Using the convention y = [theta, omega]\n",
    "    theta = y[0]\n",
    "    omega = y[1]\n",
    "    #Derivatives\n",
    "    dtheta = omega\n",
    "    domega = -g/l*np.sin(theta)\n",
    "    return np.array([dtheta, domega])"
   ]
  },
  {
   "cell_type": "code",
   "execution_count": 110,
   "metadata": {},
   "outputs": [],
   "source": [
    "#========================================================\n",
    "#Generating set of initial conditions\n",
    "#========================================================\n",
    "theta0s = -4*np.pi + np.random.random(Nic)*8*np.pi\n",
    "omega0s = -omega_max + np.random.random(Nic)*2*omega_max\n"
   ]
  },
  {
   "cell_type": "code",
   "execution_count": 140,
   "metadata": {},
   "outputs": [
    {
     "data": {
      "image/png": "[encoded data removed]",
      "text/plain": [
       "<matplotlib.figure.Figure at 0x7f99adf3d588>"
      ]
     },
     "metadata": {},
     "output_type": "display_data"
    }
   ],
   "source": [
    "#========================================================\n",
    "#Integrating and plotting the solution for each IC\n",
    "#========================================================\n",
    "#Setting figure\n",
    "plt.figure( figsize = (8,5) )\n",
    "jj=0\n",
    "for theta0, omega0 in zip(theta0s, omega0s):\n",
    "    #Arrays for solutions\n",
    "    time = [0,]\n",
    "    theta = [theta0,]\n",
    "    omega = [omega0,]\n",
    "    for i, t in zip(range(int(tmax/h)), np.arange( 0, tmax, h )):\n",
    "        #Building current condition\n",
    "        y = [theta[i], omega[i]]\n",
    "        #Integrating the system\n",
    "        thetai, omegai = RK2_step( function, y, t, h )\n",
    "        #Appending new components\n",
    "        theta.append( thetai )\n",
    "        omega.append( omegai )\n",
    "        time.append( t )\n",
    "        #if i==10:\n",
    "        #    break\n",
    "    #Plotting solution\n",
    "    plt.plot( theta, omega, lw=0.1, color = \"blue\" )\n",
    "    if jj==50:\n",
    "        break\n",
    "    jj=jj+1\n",
    "\n",
    "#Format of figure\n",
    "plt.xlabel( \"$\\\\theta$\", fontsize = 18 )\n",
    "plt.ylabel( \"$\\omega$\", fontsize = 18 )\n",
    "plt.xlim( (-2*np.pi-2, 2*np.pi+2) )\n",
    "plt.ylim( (-omega_max-3, omega_max+3) )\n",
    "plt.title( \"Phase space of a pendulum\" )\n",
    "plt.grid(1)"
   ]
  },
  {
   "cell_type": "code",
   "execution_count": 128,
   "metadata": {},
   "outputs": [
    {
     "data": {
      "text/plain": [
       "(0.30819625110737547, -7.8436389173408241)"
      ]
     },
     "execution_count": 128,
     "metadata": {},
     "output_type": "execute_result"
    }
   ],
   "source": [
    "theta0,omega0"
   ]
  },
  {
   "cell_type": "code",
   "execution_count": 112,
   "metadata": {},
   "outputs": [
    {
     "data": {
      "text/plain": [
       "([0.30819625110737547, 0.22961122515242355],\n",
       " [-7.8436389173408241, -7.8696820624038573])"
      ]
     },
     "execution_count": 112,
     "metadata": {},
     "output_type": "execute_result"
    }
   ],
   "source": [
    "theta,omega"
   ]
  },
  {
   "cell_type": "markdown",
   "metadata": {},
   "source": [
    "## <font color='red'>     **Activity** </font>"
   ]
  },
  {
   "cell_type": "markdown",
   "metadata": {},
   "source": [
    "<font color='red'>    \n",
    "Using the previous example, explore the phase space of a simple oscillator and a damped pendulum.\n",
    "</font>"
   ]
  },
  {
   "cell_type": "markdown",
   "metadata": {},
   "source": [
    "## Fourth-order Runge-Kutta method"
   ]
  },
  {
   "cell_type": "markdown",
   "metadata": {},
   "source": [
    "Finally, the most used general purpose method is the fourth-order Runge-Kutta scheme. Its derivation follows the same previous reasoning, however the procedure is rather long and it makes no sense to reprouce it here. Instead, we will give the direct algorithm:\n",
    "\n",
    "Let's assume again a problem of the form:\n",
    "\n",
    "$$ \\frac{dy}{dt}=y'=f(t,y),\\ \\ \\ a\\leq t\\leq b, \\ \\ \\ \\ y(a) = \\alpha $$\n",
    "\n",
    "The Runge-Kutta-4 (RK4) method allows us to predict the solution at the time $t+h$ as:\n",
    "\n",
    "$$ y(t+h) = y(t) + \\frac{1}{6}( \\mathbf{K}_0 + 2\\mathbf{K}_1 + 2\\mathbf{K}_2 + \\mathbf{K}_3  ) $$\n",
    "\n",
    "where:\n",
    "\n",
    "$$ \\mathbf{K}_0 = hf(t,y)$$\n",
    "$$ \\mathbf{K}_1 = hf\\left( t + \\frac{h}{2},y + \\frac{\\mathbf{K}_0}{2}\\right)$$\n",
    "$$ \\mathbf{K}_2 = hf\\left( t + \\frac{h}{2},y + \\frac{\\mathbf{K}_1}{2}\\right)$$\n",
    "$$ \\mathbf{K}_3 = hf\\left( t + h,y + \\mathbf{K}_2\\right)$$"
   ]
  },
  {
   "cell_type": "markdown",
   "metadata": {},
   "source": [
    "## <font color='red'>     **Activity** </font>"
   ]
  },
  {
   "cell_type": "markdown",
   "metadata": {},
   "source": [
    "<font color='red'>    \n",
    "The Lorenz attractor is a common set of differential equations of some models of terrestrial atmosphere studies. It is historically known as one of the first system to exhibit deterministic caos. The equations are:\n",
    "\n",
    "$$ \\frac{dx}{dt} = a(y-x) $$\n",
    "$$ \\frac{dy}{dt} = x(b-z)-y $$\n",
    "$$ \\frac{dz}{dt} = xy-cz $$\n",
    "\n",
    "with $a = 10$, $b=28$ and $c = 8/3$ the solution shows periodic orbits.\n",
    "</font>"
   ]
  },
  {
   "cell_type": "markdown",
   "metadata": {},
   "source": [
    "<font color='red'>    \n",
    "Write a routine that gives a step of RK4 and integrate the previous system. Plot the resulting 3D solution $(x,y,z)$.\n",
    "</font>"
   ]
  },
  {
   "cell_type": "markdown",
   "metadata": {},
   "source": [
    "- - -"
   ]
  },
  {
   "cell_type": "markdown",
   "metadata": {},
   "source": [
    "# Two-Point Boundary Value Problems"
   ]
  },
  {
   "cell_type": "markdown",
   "metadata": {},
   "source": [
    "Up to now we have solved initial value problems of the form:\n",
    "\n",
    "$$ \\frac{dy}{dt}=y'=f(t,y),\\ \\ \\ a\\leq t\\leq b, \\ \\ \\ \\ y(a) = \\alpha $$\n",
    "\n",
    "Second order equations can be similarly planted as \n",
    "\n",
    "$$ \\frac{d^2y}{dt^2}=y''=f(t,y,y'),\\ \\ \\ a\\leq t\\leq b, \\ \\ \\ \\ y(a) = \\alpha \\ \\ \\ y'(a) = u $$\n",
    "\n",
    "This type of systems can be readily solved by defining the auxiliar variable $w = y'$, turning it into a first order system of equations.\n",
    "\n",
    "Now, we shall solve two-point boundary problem, where we have two conditions on the solution $y(t)$ instead of having the function and its derivative at some initial point, i.e.\n",
    "\n",
    "$$ \\frac{d^2y}{dt^2}=y''=f(t,y,y'),\\ \\ \\ a\\leq t\\leq b, \\ \\ \\ \\ y(a) = \\alpha \\ \\ \\ y(b) = \\beta $$\n",
    "\n",
    "In spite of its similar form to the initial value problem, two-point boundary problems pose a increased difficulty for numerical methods. The main reason of this is the iterative procedure performed by numerical approaches, where from an initial point, further points are found. Trying to fit two different values at different points implies then a continuous readjusting of the solution.\n",
    "\n",
    "\n",
    "\n",
    "A common way to solve these problems is by turning them into a initial-value problem\n",
    "\n",
    "$$ \\frac{d^2y}{dt^2}=y''=f(t,y,y'),\\ \\ \\ a\\leq t\\leq b, \\ \\ \\ \\ y(a) = \\alpha \\ \\ \\ y'(a) = u $$\n",
    "\n",
    "Let's suppose some choice of $u$, integrating by using some of the previous methods, we obtain the final boundary condition $y(b)=\\theta$. If the produced value is not the one we wanted from our initial problem, we try another value $u$. This can be repeated until we get a reasonable approach to $y(b)=\\beta$. This method works fine, but it is so expensive and terribly inefficient.\n",
    "\n",
    "Note when we change $u$, the final boundary value also change, so we can assume $y(b) = \\theta$. The solution to the problem can be thought then as a root-finding problem:\n",
    "\n",
    "$$ y(b) = \\theta(u) = \\beta $$\n",
    "\n",
    "or\n",
    "\n",
    "$ r(u) \\equiv \\theta(u) - \\beta = 0 $\n",
    "\n",
    "where $r(u)$ is the residual function. This problem can be thus solved using some of the methods previously seen for the root-finding problem."
   ]
  },
  {
   "cell_type": "markdown",
   "metadata": {},
   "source": [
    "## Example 3"
   ]
  },
  {
   "cell_type": "markdown",
   "metadata": {},
   "source": [
    "A very simplified model of interior solid planets consists of a set of spherically symmetric radial layers, where the next properties are computed: density $\\rho(r)$, enclosed mass $m(r)$, gravity $g(r)$ and pressure $P(r)$. Each of these properties are assumed to be only radially dependent. The set of equations that rules the planetary interior is:\n",
    "\n",
    "**Hydrostatic equilibrium equation**\n",
    "\n",
    "$$\\frac{dP}{dr} = -\\rho(r)g(r)$$\n",
    "\n",
    "**Adams-Williamson equation**\n",
    "\n",
    "$$\\frac{dg}{dr} = 4\\pi G\\rho(r) - \\frac{2Gm(r)}{r^3}$$\n",
    "\n",
    "**Continuity equation**\n",
    "\n",
    "$$\\frac{dm}{dr} = 4\\pi r^2 \\rho(r)$$\n",
    "\n",
    "**Equation of state**\n",
    "\n",
    "$$\\frac{d\\rho}{dr} = -\\frac{\\rho(r)^2g(r)}{K_s}$$\n",
    "\n",
    "For accurate results the term $K_s$, called the adiabatic bulk modulus, is temperature and radii dependent. However, for the sake of simplicity we shall assume a constant value.\n",
    "\n",
    "Solving simultaneously the previous set of equations, we can find the complete internal structure of a planet.\n",
    "\n",
    "\n",
    "\n",
    "We have four functions to be determined and four equations, so the problem is solvable. It is only necessary to provide a set of boundary conditions of the form:\n",
    "\n",
    "$$ \\rho(R) = \\rho_{surf},\\ \\ \\ m(R) = M_p, \\ \\ \\ g(R) = g_{surf},\\ \\ \\ P(R) = P_{atm} $$\n",
    "\n",
    "where $R$ is the planetary radius, $\\rho_{surf}$ the surface density, $M_p$ the mass of the planet, $g_{surf}$ the surface gravity and $P_{atm}$ the atmospheric pressure. However, there is a problem, we do not know the planetary radius $R$, so an extra condition is required to determine this value. This is reached through the physical condition $m(0) = 0$, this is, the enclosed mass at a radius $r = 0$ (center of the planet) must be 0.\n",
    "\n",
    "\n",
    "The two-value boundary nature of this problem lies then in fitting the mass function at $m(R) = M_p$ and at $m(0) = 0$. To do so, let's call the residual mass $m(0) = M_r$. This value should depend on the chosen radius $R$, so a large value would imply a mass defect $M_r(R)<0$, and a small value a mass excess $M_r(0)>0$. The problem is then solving the radius $R$ for which $m(0) = M_r(R) = 0$. This can be done by using the bisection method.\n"
   ]
  },
  {
   "cell_type": "markdown",
   "metadata": {},
   "source": [
    "For this problem, we are going to assume an one-layer planet made of perovskite, so $K_s \\approx 200\\ GPa$. A planet mass equal to earth, so $M_p = 5.97219 \\times 10^{24}\\ kg$, a surface density $\\rho_{surf} = 3500\\ kg/m^3$ and a atmospheric pressure of $P_{atm} = 1\\ atm = 1\\times 10^5\\ Pa$."
   ]
  },
  {
   "cell_type": "markdown",
   "metadata": {},
   "source": [
    "- - -"
   ]
  }
 ],
 "metadata": {
  "kernelspec": {
   "display_name": "Python 3",
   "language": "python",
   "name": "python3"
  },
  "language_info": {
   "codemirror_mode": {
    "name": "ipython",
    "version": 3
   },
   "file_extension": ".py",
   "mimetype": "text/x-python",
   "name": "python",
   "nbconvert_exporter": "python",
   "pygments_lexer": "ipython3",
   "version": "3.5.3"
  }
 },
 "nbformat": 4,
 "nbformat_minor": 1
}
