{
 "cells": [
  {
   "cell_type": "markdown",
   "metadata": {
    "colab_type": "text",
    "id": "view-in-github"
   },
   "source": [
    "<a href=\"https://colab.research.google.com/github/restrepo/ComputationalMethods/blob/master/material/interpolation_details.ipynb\" target=\"_parent\"><img src=\"https://colab.research.google.com/assets/colab-badge.svg\" alt=\"Open In Colab\"/></a>"
   ]
  },
  {
   "cell_type": "markdown",
   "metadata": {
    "colab_type": "text",
    "id": "DvZeftzu7RZN"
   },
   "source": [
    "# Appendix\n",
    "Thecnical details of interpolation functions: [interpolation_details.ipynb](./interpolation_details.ipynb)\n",
    "<a href=\"https://colab.research.google.com/github/restrepo/ComputationalMethods/blob/master/material/interpolation_details.ipynb\" target=\"_parent\"><img src=\"https://colab.research.google.com/assets/colab-badge.svg\" alt=\"Open In Colab\"/></a>"
   ]
  },
  {
   "cell_type": "markdown",
   "metadata": {},
   "source": [
    "## Bibligraphy\n",
    "* https://www.math.ust.hk/~mamu/courses/231/Slides/CH03_3A.pdf\n",
    "* Narváez, Diana Marcela Devia. \"Comparison between some techniques of interpolators: An application in engineering.\" Scientia et technica 24.1 (2019): 173-178. \n",
    "DOI: https://doi.org/10.22517/23447214.21341 (Open Access)\n",
    "* Atkinson, Kendall E. An introduction to numerical analysis. John wiley & sons, 2008. [PDF](https://drive.google.com/file/d/1OgHD9OSwtAbxYziokV5CincuJs16rM2V/view?usp=sharing)"
   ]
  },
  {
   "cell_type": "markdown",
   "metadata": {
    "colab_type": "text",
    "id": "ha2aOzk_7RZO"
   },
   "source": [
    "# Divided Differences"
   ]
  },
  {
   "cell_type": "markdown",
   "metadata": {},
   "source": [
    "In spite of the good precision achieved by the Lagrange interpolating polynomials, analytical manipulation of such an expressions is rather complicated. Furthermore, when applying other polynomials-based techniques like Hermite polynomials, the algorithms present very different ways to achieve the final interpolation, making a comparison unclear.\n",
    "\n",
    "Divided differences is a way to standardize the notation for interpolating polynomials. Suppose a polynomial $P_n(x)$ and write it in the next form:\n",
    "\n",
    "$$P_n(x) = a_0 + a_1(x-x_0)+ a_2 (x-x_0)(x-x_1)+\\cdots + a_n(x-x_0)\\cdots (x-x_{n-1})$$"
   ]
  },
  {
   "cell_type": "markdown",
   "metadata": {},
   "source": [
    "where $a_i$ are a set of constants to be determined from the given data $(x_i, y_i)$.\n",
    "\n",
    "* Obtain $a_0$ <br/>Note that due to the definition of an interpolant function, previous expression should satisfy:\n",
    "\n",
    "$$P_{n}\\left(x_{0}\\right)=a_{0}=f\\left(x_{0}\\right)=y_{0}$$\n",
    "\n",
    "* Obtain $a_1$\n",
    "$$\\frac{P_{n}(x)-a_{0}}{x-x_{0}}=\\frac{P_{n}(x)-y_{0}}{x-x_{0}}=a_{1}+a_{2}\\left(x-x_{1}\\right)+\\cdots+a_{n}\\left(x-x_{1}\\right) \\cdots\\left(x-x_{n}\\right)$$\n",
    "\n",
    "$$\\frac{P_{n}\\left(x_{1}\\right)-y_{0}}{x_1-x_{0}}=a_{1}=\\frac{y_{1}-y_{0}}{x_1-x_{0}}$$\n",
    "* Obtain $a_2$ $$\n",
    "\\frac{1}{x-x_{1}}\\left(\\frac{P_{n}(x)-y_{0}}{x-x_{0}}-\\frac{y_{1}-y_{0}}{x_{1}-x_{0}}\\right)=a_{2}+a_{3}\\left(x-x_{2}\\right)+\\cdots+a_{n}\\left(x-x_{2}\\right) \\cdots\\left(x-x_{n}\\right)$$ \n",
    "evaluating in $x=x_2$ $$\n",
    "a_{2}=\\frac{1}{x_{2}-x_{1}}\\left(\\frac{y_{2}-y_{0}}{x_{2}-x_{0}}-\\frac{y_{1}-y_{0}}{x_{1}-x_{0}}\\right),$$ \n",
    "that [we can rewrite like](https://bit.ly/3j018kH)\n",
    "$$a_{2}=\\frac{\\frac{y_{2}-y_{1}}{x_{2}-x_{1}}-\\frac{y_{1}-y_{0}}{x_{1}-x_{0}}}{x_{2}-x_{0}}.$$"
   ]
  },
  {
   "cell_type": "markdown",
   "metadata": {},
   "source": [
    "In summary\n",
    "\\begin{align}\n",
    "a_{0}=& f\\left[x_{0}\\right] \\equiv y_{0} \\\\\n",
    "a_{1}=& f\\left[x_{0}, x_{1}\\right] \\equiv \\frac{y_{1}-y_{0}}{x_{1}-x_{0}}\\\\\n",
    "a_{2}=&f\\left[x_{0}, x_{1}, x_{2}\\right] \\equiv \\frac{\\frac{y_{2}-y_{1}}{x_{2}-x_{1}}-\\frac{y_{1}-y_{0}}{x_{1}-x_{0}}}{x_{2}-x_{0}}\n",
    "\\end{align}\n",
    "\n",
    "The key observation, by using the symmetry $f\\left[x_{0}, x_{1}\\right]=f\\left[x_{1}, x_{0}\\right]$, is\n",
    "$$f\\left[x_{0}, x_{1}, x_{2}\\right]=\\frac{f\\left[x_{1}, x_{2}\\right]-f\\left[x_{0}, x_{1}\\right]}{x_{2}-x_{0}}$$"
   ]
  },
  {
   "cell_type": "markdown",
   "metadata": {
    "colab_type": "text",
    "id": "y4bon0dj7RZO"
   },
   "source": [
    "Allow us to definine the **zeroth divided difference**, $k=0$, of $x_i$ like\n",
    "\n",
    "$$D_0[x_i] \\equiv f[x_i] \\equiv f(x_i) = y_i$$\n",
    "\n",
    "the **first divided difference**, $k=1$ of $x_i$ like\n",
    "\n",
    "$$D_1[x_i] \\equiv f[x_i, x_{i+1}] \\equiv \\frac{f[x_{i+1}]-f[x_i]}{x_{i+1}-x_i}$$\n",
    "\n",
    "$$D_1[x_i] = \\frac{D_{0}[x_{i+1}]-D_{0}[x_{i}]}{x_{i+1}-x_i} $$\n",
    "\n",
    "the **second divided difference**, $k=2$ of $x_i$ like\n",
    "\n",
    "$$D_2[x_i]\\equiv f[x_i,x_{i+1},x_{i+2}] \\equiv \\frac{f[x_{i+1},x_{i+2}]-f[x_i,x_{i+1}]}{x_{i+2}-x_{i}}$$\n",
    "\n",
    "$$D_2[x_i]=\\frac{D_1[x_{i+1}]-D_1[x_i]}{x_{i+2}-x_{i}}$$\n",
    "\n",
    "successively until the **kth divided difference**\n",
    "\n",
    "$$D_k[x_i] \\equiv f[x_i, x_{i+1},\\cdots, x_{i+k-1},x_{i+k}] \\equiv \\frac{f[x_{i+1},x_{i+2}\\cdots, x_{i+k}]-f[x_i, x_{i+1},\\cdots, x_{i+k-1}]}{x_{i+k}-x_i}$$\n",
    "\n",
    "$$D_k[x_i] = \\frac{D_{k-1}[x_{i+1}]-D_{k-1}[x_{i}]}{x_{i+k}-x_i}$$\n",
    "\n",
    "These expressions are the fundamental bricks for any interpolating method."
   ]
  },
  {
   "cell_type": "code",
   "execution_count": 1,
   "metadata": {
    "colab": {},
    "colab_type": "code",
    "id": "0KeBPW9X7RZP"
   },
   "outputs": [],
   "source": [
    "#Construction of a kth divided difference (recursive code)\n",
    "def D( i, k, Xn, Yn ):\n",
    "    #If k+i>N\n",
    "    if i+k>=len(Xn):\n",
    "        return 0\n",
    "    #Zeroth divided difference\n",
    "    elif k == 0:\n",
    "        return Yn[i]\n",
    "    #If higher divided difference\n",
    "    else:\n",
    "        return (D(i+1, k-1, Xn, Yn)-D(i, k-1, Xn, Yn))/(Xn[i+k]-Xn[i])"
   ]
  },
  {
   "cell_type": "markdown",
   "metadata": {
    "colab_type": "text",
    "id": "Gop6cDHi7RZS"
   },
   "source": [
    "## Example 2"
   ]
  },
  {
   "cell_type": "markdown",
   "metadata": {
    "colab_type": "text",
    "id": "ZVFlECgl7RZT"
   },
   "source": [
    "As an example, Lagrange interpolation can be also derived by using divided differences, which is reached through the next equation:\n",
    "\n",
    "$$P_n(x) = D_0[x_0] + \\sum_{k=1}^n D_k[x_0] (x-x_0) \\cdots (x-x_{k-1})$$\n",
    "\n",
    "Note this expression is by far easier to be manipulated analytically as we can know the coefficients of each order."
   ]
  },
  {
   "cell_type": "markdown",
   "metadata": {
    "colab_type": "text",
    "id": "awNSCSiI7RZT"
   },
   "source": [
    "## <span style=\"color:red\">Activity</span>     "
   ]
  },
  {
   "cell_type": "markdown",
   "metadata": {
    "colab_type": "text",
    "id": "tRaDUpIL7RZU"
   },
   "source": [
    "<span style=\"color:red\">    \n",
    "Using the previous expression and the defined function for divided differences, show both methods to calculate Lagrange interpolators are equivalents.\n",
    "</span>     "
   ]
  },
  {
   "cell_type": "markdown",
   "metadata": {
    "colab_type": "text",
    "id": "Oe3mZNvM7RZV"
   },
   "source": [
    "- - -"
   ]
  },
  {
   "cell_type": "markdown",
   "metadata": {
    "colab_type": "text",
    "id": "n7_u1oPK7RZV"
   },
   "source": [
    "# Hermite Interpolation"
   ]
  },
  {
   "cell_type": "markdown",
   "metadata": {
    "colab_type": "text",
    "id": "clDX2gV17RZW"
   },
   "source": [
    "From calculus we know that Taylor polynomials expand a function at a specific point $x_i$, being both functions (the original one and the Taylor function) exactly equal at any derivative-order at that point. Also, as mentioned before, a Lagrange polynomial, given a set of data points, passes through all those points at the same time. However if those points come from an unknown underlying function $f(x)$, the interpolant polynomial might (surely) differ from the real function at any superior derivative-order. So we have:\n",
    "\n",
    "- **Taylor polynomials** are exact at any order, but that only remains true at a specific point.\n",
    "\n",
    "- **Lagrange polynomials** pass through all points of a give dataset, but only at zeroth-order. Derivatives are not longer equal.\n",
    "\n",
    "Once established these differences, we can introduce Hermite polynomials just as a generalization of both, Taylor and Lagrange polynomials.\n",
    "\n",
    "At first, Hermite polynomials can be approximated at any desired order at all the points, as long as one has all these information. However, for the sake of simplicity and without loss of generality, we shall assume Hermite polynomials equal to the real function at zeroth and first-derivative order. For that, we also _need to know_ the points associated to the first-derivate. \n",
    "\n",
    "Let's suppose a dataset $\\{x_i\\}_i$ for $i = 0,1,\\cdots,n$ with the respective values $\\{f(x_i)\\}_i$ and $\\{f'(x_i)\\}_i$. If we assume two different polynomials to fit each set of data, i.e. a polynomial for $\\{f(x_i)\\}_i$ and another for $\\{f'(x_i)\\}_i$, we obtain $2n+2$ coefficients, however zeroth-order coefficients can be put together so finally there are $2n+1$ independet coefficients to be determined. In this case, we assign the respective Hermite polynimial as $H_{2n+1}(x)$."
   ]
  },
  {
   "cell_type": "markdown",
   "metadata": {
    "colab_type": "text",
    "id": "IwMAVO9g7RZW"
   },
   "source": [
    "## Derivation in terms of divided differences"
   ]
  },
  {
   "cell_type": "markdown",
   "metadata": {
    "colab_type": "text",
    "id": "GGYB7YyI7RZX"
   },
   "source": [
    "Remembering the divided differences expression for a Lagrange polynomial\n",
    "\n",
    "$$P_n(x) = D_0[x_0] + \\sum_{k=1}^n D_k[x_0] (x-x_0) \\cdots (x-x_{k-1})$$\n",
    "\n",
    "and by defining a new sequence $\\{z_0, z_1, \\cdots, z_{2n+1}\\}$ such that\n",
    "\n",
    "For even $i$\n",
    "$$z_{2i} = x_i \\mbox{ for } i = 0,2,\\cdots$$\n",
    "while for odd $i$\n",
    "$$z_{2i+1} = x_i \\mbox{ for } i = 1,3,\\cdots$$\n",
    "\n",
    "However, divided differences has to be modified in order to include first-order derivatives:\n",
    "\n",
    "![](https://raw.githubusercontent.com/sbustamante/ComputationalMethods/master/material/figures/table_coefficients.png)\n",
    "\n",
    "Note that $f[z_0,z_1]$ sould be originally\n",
    "\n",
    "$$f[z_0,z_1] = \\frac{f[z_1]-f[z_0]}{z_1-z_0}$$\n",
    "\n",
    "but replacing $z_0 = z_1 = x_0$ this would lead an indetermination. In order to solve this issue, this indertemination can be readily approximated to the derivative at $x_0=z_0$, so\n",
    "\n",
    "$$f[z_0,z_1] = f'(x_0)$$\n",
    "\n",
    "or using the previously defined notation\n",
    "\n",
    "$$D_1[z_0] = f'(x_0)$$\n",
    "\n",
    "Generally, for first-order divided differences we will have\n",
    "\n",
    "even $i$\n",
    "$$D_1[z_{2i}] = f'(x_i)$$\n",
    "odd $i$\n",
    "$$D_1[z_{2i+1}] = f'(x_i)$$\n",
    "\n",
    "Higher order divided differences are calculated as usual:\n",
    "$$D_k[z_i] = \\frac{D_{k-1}[z_{i+1}]-D_{k-1}[z_{i}]}{z_{i+k}-z_i}$$\n",
    "\n",
    "Finally, the Hermite polynomial is built using the next expression\n",
    "\n",
    "* Order zero coefficient:\n",
    "$$D_0[z_0]$$\n",
    "\n",
    "* Hermite polynomials\n",
    "$$H_{2n+1}(x) = D_0[z_0] + \\sum_{k=1}^{2n+1} D_k[z_0] (x-z_0) \\cdots (x-z_{k-1})$$\n"
   ]
  },
  {
   "cell_type": "markdown",
   "metadata": {
    "colab_type": "text",
    "id": "VFR4bCLU7RZX"
   },
   "source": [
    "## Example"
   ]
  },
  {
   "cell_type": "code",
   "execution_count": 9,
   "metadata": {
    "colab": {},
    "colab_type": "code",
    "id": "HK67T_MQ7RZY",
    "outputId": "9659510e-272d-476b-ed60-91db09e47638"
   },
   "outputs": [
    {
     "name": "stdout",
     "output_type": "stream",
     "text": [
      "Populating the interactive namespace from numpy and matplotlib\n"
     ]
    },
    {
     "name": "stderr",
     "output_type": "stream",
     "text": [
      "/usr/local/lib/python3.9/dist-packages/IPython/core/magics/pylab.py:159: UserWarning: pylab import has clobbered these variables: ['f']\n",
      "`%matplotlib` prevents importing * from pylab and numpy\n",
      "  warn(\"pylab import has clobbered these variables: %s\"  % clobbered +\n"
     ]
    }
   ],
   "source": [
    "%pylab inline"
   ]
  },
  {
   "cell_type": "code",
   "execution_count": 10,
   "metadata": {},
   "outputs": [],
   "source": [
    "def f(x):\n",
    "    '''\n",
    "    WARNING: all the parts of the function must be \n",
    "    numpy arrays in order to get the element by element sum.\n",
    "    '''\n",
    "    x=np.asarray(x) # Force x → array\n",
    "    return np.exp(2*x)-x"
   ]
  },
  {
   "cell_type": "code",
   "execution_count": 11,
   "metadata": {},
   "outputs": [],
   "source": [
    "def fp(x):\n",
    "    '''\n",
    "    Derivative of f(x)\n",
    "    '''\n",
    "    x=np.asarray(x) # Force x → array\n",
    "    return 2*np.exp(2*x)-1"
   ]
  },
  {
   "cell_type": "code",
   "execution_count": 12,
   "metadata": {},
   "outputs": [],
   "source": [
    "from scipy import interpolate"
   ]
  },
  {
   "cell_type": "code",
   "execution_count": 13,
   "metadata": {},
   "outputs": [],
   "source": [
    "x=[1,1.25,1.6]"
   ]
  },
  {
   "cell_type": "code",
   "execution_count": 14,
   "metadata": {},
   "outputs": [],
   "source": [
    "H=interpolate.CubicHermiteSpline(x,f(x),fp(x))"
   ]
  },
  {
   "cell_type": "code",
   "execution_count": 15,
   "metadata": {},
   "outputs": [
    {
     "data": {
      "text/plain": [
       "<matplotlib.legend.Legend at 0x7f4af01582b0>"
      ]
     },
     "execution_count": 15,
     "metadata": {},
     "output_type": "execute_result"
    },
    {
     "data": {
      "image/png": "[encoded data removed]",
      "text/plain": [
       "<Figure size 432x288 with 1 Axes>"
      ]
     },
     "metadata": {
      "needs_background": "light"
     },
     "output_type": "display_data"
    }
   ],
   "source": [
    "X=np.linspace( x[0],x[-1]  )\n",
    "plt.plot(X,f(X),'k-',lw=1,label=\"$f(x)$\")\n",
    "plt.plot(x,f(x),'r*')\n",
    "plt.plot(X,H(X),'c:',lw=3,label='$H(x)$')\n",
    "\n",
    "plt.plot(X,fp(X),'r-',lw=1,label=\"$f'(x)$\")\n",
    "plt.plot(x,fp(x),'r*')\n",
    "plt.plot(X,H.derivative()(X),'g:',lw=3,label=\"$H'(x)$\")\n",
    "\n",
    "\n",
    "plt.grid()\n",
    "plt.xlabel('$x$',size=12)\n",
    "plt.legend()"
   ]
  },
  {
   "cell_type": "markdown",
   "metadata": {
    "colab_type": "text",
    "id": "lprhbdIv7RZm"
   },
   "source": [
    "## Example 3"
   ]
  },
  {
   "cell_type": "markdown",
   "metadata": {
    "colab_type": "text",
    "id": "WavZjzx07RZm"
   },
   "source": [
    "Define a routine to calculate divided differences for Hermite polynomials."
   ]
  },
  {
   "cell_type": "code",
   "execution_count": 7,
   "metadata": {
    "colab": {},
    "colab_type": "code",
    "id": "A2BTNAl27RZn"
   },
   "outputs": [],
   "source": [
    "#Construction of a kth divided difference for Hermite polynomials (recursive code)\n",
    "def Dh( j, k, Zn, Yn, Ypn ):\n",
    "    #If k+j>N\n",
    "    if j+k>=len(Zn):\n",
    "        return 0\n",
    "    #Zeroth divided difference\n",
    "    elif k == 0:\n",
    "        return Yn[j/2]\n",
    "    #First order divided difference (even indexes)\n",
    "    elif k == 1 and j%2 == 0:\n",
    "        return Ypn[j/2]\n",
    "    #If higher divided difference\n",
    "    else:\n",
    "        return (Dh(j+1, k-1, Zn, Yn, Ypn)-Dh(j, k-1, Zn, Yn, Ypn))/(Zn[j+k]-Zn[j])"
   ]
  },
  {
   "cell_type": "markdown",
   "metadata": {
    "colab_type": "text",
    "id": "jsxCHrlg7RZp"
   },
   "source": [
    "## <font color='red'> **Activity** </font>"
   ]
  },
  {
   "cell_type": "markdown",
   "metadata": {
    "colab_type": "text",
    "id": "E9-802hy7RZp"
   },
   "source": [
    "<font color='red'>    \n",
    "\n",
    "Calculate a routine, using the previous program for divided differences, that computes the Hermite polynomial given a dataset.\n",
    "\n",
    "Generate a set of $N$ points of the function $\\sin^2(x)$ between $0$ and $2\\pi$, including an array of $x$ positions, $y = f(x)$ and first derivative $y' = f'(x)$.\n",
    "\n",
    "Show which polynomial gives the best approximation to the real function, Hermite or Lagrange polynomial.\n",
    "\n",
    "</font>\n",
    "\n",
    "<font color='white'>\n",
    "Solution:\n",
    "\n",
    "nbviewer.ipython.org/github/sbustamante/ComputationalMethods/blob/master/activities/hermite-and-lagrange.ipynb\n",
    "</font>"
   ]
  },
  {
   "cell_type": "markdown",
   "metadata": {
    "colab_type": "text",
    "id": "iC6eUA-Z7RZq"
   },
   "source": [
    "- - -"
   ]
  }
 ],
 "metadata": {
  "colab": {
   "include_colab_link": true,
   "name": "interpolation_details.ipynb",
   "provenance": []
  },
  "kernelspec": {
   "display_name": "Python 3 (ipykernel)",
   "language": "python",
   "name": "python3"
  },
  "language_info": {
   "codemirror_mode": {
    "name": "ipython",
    "version": 3
   },
   "file_extension": ".py",
   "mimetype": "text/x-python",
   "name": "python",
   "nbconvert_exporter": "python",
   "pygments_lexer": "ipython3",
   "version": "3.9.2"
  },
  "toc": {
   "colors": {
    "hover_highlight": "#DAA520",
    "running_highlight": "#FF0000",
    "selected_highlight": "#FFD700"
   },
   "moveMenuLeft": true,
   "nav_menu": {
    "height": "341px",
    "width": "252px"
   },
   "navigate_menu": true,
   "number_sections": true,
   "sideBar": true,
   "threshold": 4,
   "toc_cell": false,
   "toc_section_display": "block",
   "toc_window_display": false
  }
 },
 "nbformat": 4,
 "nbformat_minor": 4
}
