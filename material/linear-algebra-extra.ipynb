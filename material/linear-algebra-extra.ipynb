{
 "cells": [
  {
   "cell_type": "markdown",
   "metadata": {},
   "source": [
    "# Extra material about Linear Algebra"
   ]
  },
  {
   "cell_type": "code",
   "execution_count": 6,
   "metadata": {},
   "outputs": [],
   "source": [
    "import numpy as np\n",
    "xrange=range"
   ]
  },
  {
   "cell_type": "markdown",
   "metadata": {},
   "source": [
    "## Custom implementation of general gaussian method"
   ]
  },
  {
   "cell_type": "code",
   "execution_count": 7,
   "metadata": {},
   "outputs": [],
   "source": [
    "#Gaussian Elimination\n",
    "def row_lamb( i, lamb, A ):\n",
    "    B = np.copy(A)\n",
    "    B[i] = lamb*B[i]\n",
    "    return B\n",
    "\n",
    "#Combination function\n",
    "def row_comb( i, j, lamb, A ):\n",
    "    B = np.copy(A)\n",
    "    B[i] = lamb*B[j] + B[i]\n",
    "    return B\n",
    "\n",
    "#Swap function\n",
    "def row_swap( i, j, A ):\n",
    "    B = np.copy(A)\n",
    "    B[[i,j]] = B[[j,i]]\n",
    "    return B\n",
    "\n",
    "def Gaussian_Elimination( A0 ):\n",
    "    #Making local copy of matrix\n",
    "    A = np.copy(A0)\n",
    "    #Detecting size of matrix\n",
    "    n = len(A)\n",
    "    \n",
    "    #Sweeping all the columns in order to eliminate coefficients of the i-th variable\n",
    "    for i in xrange( 0, n ):\n",
    "        \n",
    "        #Sweeping all the rows for the i-th column in order to find the first non-zero coefficient\n",
    "        for j in xrange( i, n ):\n",
    "            if A[i,j] != 0:\n",
    "                #Normalization coefficient\n",
    "                Norm = 1.0*A[i,j]\n",
    "                break\n",
    "                \n",
    "        #Applying swap operation to put the non-zero coefficient in the i-th row\n",
    "        A = row_swap( i, j, A )\n",
    "        \n",
    "        #Eliminating the coefficient associated to the i-th variable\n",
    "        for j in xrange( i+1, n ):\n",
    "            A = row_comb( j, i, -A[j,i]/Norm, A )\n",
    "            \n",
    "    #Normalizing n-th variable\n",
    "    A = row_lamb( n-1, 1.0/A[n-1,n-1], A )\n",
    "    \n",
    "    #Finding solution\n",
    "    x = np.zeros( n )\n",
    "    x[n-1] = A[n-1,n]\n",
    "    for i in xrange( n-1, -1, -1 ):\n",
    "        x[i] = ( A[i,n] - sum(A[i,i+1:n]*x[i+1:n]) )/A[i,i]\n",
    "    \n",
    "    #Upper diagonal matrix and solutions x\n",
    "    return A, x"
   ]
  },
  {
   "cell_type": "code",
   "execution_count": 8,
   "metadata": {},
   "outputs": [
    {
     "name": "stdout",
     "output_type": "stream",
     "text": [
      "Augmented Matrix M:\n",
      " [[0.5507979  0.70814782 0.29090474 0.51082761 0.89294695]\n",
      " [0.89629309 0.12558531 0.20724288 0.0514672  0.44080984]\n",
      " [0.02987621 0.45683322 0.64914405 0.27848728 0.6762549 ]\n",
      " [0.59086282 0.02398188 0.55885409 0.25925245 0.4151012 ]] \n",
      "\n",
      "Augmented Diagonal Matrix D:\n",
      " [[ 5.50797903e-01  7.08147823e-01  2.90904739e-01  5.10827605e-01\n",
      "   8.92946954e-01]\n",
      " [ 0.00000000e+00 -1.02675749e+00 -2.66135662e-01 -7.79783697e-01\n",
      "  -1.01224976e+00]\n",
      " [ 0.00000000e+00  0.00000000e+00  5.24909828e-01 -6.69967089e-02\n",
      "   2.15310020e-01]\n",
      " [ 0.00000000e+00  0.00000000e+00 -1.70372042e-16  1.00000000e+00\n",
      "   9.32073626e-03]] \n",
      "\n",
      "Obtained solution:\n",
      " [0.27395594 0.8721633  0.41137442 0.00932074] \n",
      "\n",
      "Exact solution:\n",
      " [[ 1.62118801  0.9962667  29.88822639  1.51125934]\n",
      " [ 0.62248281  3.51004303  0.9649251  18.38095262]\n",
      " [ 2.324661    3.26310322  1.041764    1.21007418]\n",
      " [ 0.81260526  8.06535367  1.4905571   1.60114669]] \n",
      "\n"
     ]
    }
   ],
   "source": [
    "np.random.seed(3)\n",
    "M =  np.random.random( (4,5) )\n",
    "print (\"Augmented Matrix M:\\n\", M, \"\\n\")\n",
    "#Solving using Gaussian Elimination\n",
    "D, x = Gaussian_Elimination(M)\n",
    "print (\"Augmented Diagonal Matrix D:\\n\", D, \"\\n\")\n",
    "print (\"Obtained solution:\\n\", x, \"\\n\")\n",
    "print (\"Exact solution:\\n\", (M[:,:4]**-1*M[:,4]).T, \"\\n\")"
   ]
  },
  {
   "cell_type": "code",
   "execution_count": null,
   "metadata": {},
   "outputs": [],
   "source": []
  }
 ],
 "metadata": {
  "kernelspec": {
   "display_name": "Python 3 (ipykernel)",
   "language": "python",
   "name": "python3"
  },
  "language_info": {
   "codemirror_mode": {
    "name": "ipython",
    "version": 3
   },
   "file_extension": ".py",
   "mimetype": "text/x-python",
   "name": "python",
   "nbconvert_exporter": "python",
   "pygments_lexer": "ipython3",
   "version": "3.7.3"
  }
 },
 "nbformat": 4,
 "nbformat_minor": 4
}
