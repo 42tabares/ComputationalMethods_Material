{
  "nbformat": 4,
  "nbformat_minor": 0,
  "metadata": {
    "colab": {
      "name": "numerical-calculus.ipynb",
      "version": "0.3.2",
      "provenance": [],
      "include_colab_link": true
    },
    "kernelspec": {
      "display_name": "Python 2",
      "language": "python",
      "name": "python2"
    }
  },
  "cells": [
    {
      "cell_type": "markdown",
      "metadata": {
        "id": "view-in-github",
        "colab_type": "text"
      },
      "source": [
        "[View in Colaboratory](https://colab.research.google.com/github/restrepo/ComputationalMethods/blob/master/material/numerical-calculus.ipynb)"
      ]
    },
    {
      "metadata": {
        "id": "UKJxA2XF1BYh",
        "colab_type": "text"
      },
      "cell_type": "markdown",
      "source": [
        "# Numerical Calculus"
      ]
    },
    {
      "metadata": {
        "id": "eO3RE1_E1BYj",
        "colab_type": "text"
      },
      "cell_type": "markdown",
      "source": [
        "Throughout this section and the next ones, we shall cover the topic of numerical calculus. Calculus has been identified since ancient times as a powerful toolkit for analysing and handling geometrical problems. Since differential calculus was developed by Newton and Leibniz (in its actual notation), many different applications have been found, at the point that most of the current science is founded on it (e.g. differential and integral equations). Due to the ever increasing complexity of analytical expressions used in physics and astronomy, their usage becomes more and more impractical, and numerical approaches are more than necessary when one wants to go deeper. This issue has been identified since long ago and many numerical techniques have been developed. We shall cover only the most basic schemes, but also providing a basis for more formal approaches."
      ]
    },
    {
      "metadata": {
        "id": "zHstPwHZ1BYl",
        "colab_type": "text"
      },
      "cell_type": "markdown",
      "source": [
        "- - -\n",
        "- [Numerical Differentiation](#Numerical-Differentiation) \n",
        "    - [Example 1](#Example-1)\n",
        "    - [(n+1)-point formula](#n+1-point-formula)\n",
        "    - [Endpoint formulas](#Endpoint-formulas)\n",
        "    - [Midpoint formulas](#Midpoint-formulas)\n",
        "- [Numerical Integration](./numerical-calculus-integration.ipynb)    \n",
        "- - -"
      ]
    },
    {
      "metadata": {
        "id": "hcjVuVTO1BYm",
        "colab_type": "code",
        "colab": {
          "base_uri": "https://localhost:8080/",
          "height": 107
        },
        "outputId": "c40b3faa-983c-4f43-86ac-1cb36961789f"
      },
      "cell_type": "code",
      "source": [
        "%pylab inline\n",
        "import numpy as np\n",
        "import matplotlib.pyplot as plt\n",
        "# JSAnimation import available at https://github.com/jakevdp/JSAnimation\n",
        "#from JSAnimation import IPython_display\n",
        "from matplotlib import animation\n",
        "#Interpolation add-on\n",
        "import scipy.interpolate as interp"
      ],
      "execution_count": 50,
      "outputs": [
        {
          "output_type": "stream",
          "text": [
            "Populating the interactive namespace from numpy and matplotlib\n"
          ],
          "name": "stdout"
        },
        {
          "output_type": "stream",
          "text": [
            "/usr/local/lib/python2.7/dist-packages/IPython/core/magics/pylab.py:161: UserWarning: pylab import has clobbered these variables: ['f', 'interp']\n",
            "`%matplotlib` prevents importing * from pylab and numpy\n",
            "  \"\\n`%matplotlib` prevents importing * from pylab and numpy\"\n"
          ],
          "name": "stderr"
        }
      ]
    },
    {
      "metadata": {
        "id": "Yab8XIB91BYu",
        "colab_type": "text"
      },
      "cell_type": "markdown",
      "source": [
        "- - - "
      ]
    },
    {
      "metadata": {
        "id": "t4sf-c691BYu",
        "colab_type": "text"
      },
      "cell_type": "markdown",
      "source": [
        "# Numerical Differentiation"
      ]
    },
    {
      "metadata": {
        "id": "xoc_KCCQ1BYv",
        "colab_type": "text"
      },
      "cell_type": "markdown",
      "source": [
        "According to the formal definition of differentiation, given a function $f(x)$ such that $f(x)\\in C^1[a,b]$, the first order derivative is given by\n",
        "\n",
        "$$\\frac{d}{dx}f(x) = f'(x) = \\lim_{h\\rightarrow 0} \\frac{f(x+h)-f(x)}{h}$$\n",
        "\n",
        "However, when $f(x)$ exhibits a complex form or is a numerical function (only a discrete set of points are known), this expression becomes unfeasible. In spite of this, this formula gives us a very first rough way to calculate numerical derivatives by taking a finite interval $h$, i.e.\n",
        "\n",
        "$$f'(x) \\approx \\frac{f(x+h)-f(x)}{h}$$\n",
        "\n",
        "where the function must be known at least in $x_0$ and $x_1 = x_0+h$, and $h$ should be small enough."
      ]
    },
    {
      "metadata": {
        "id": "wRMWf0971BYw",
        "colab_type": "text"
      },
      "cell_type": "markdown",
      "source": [
        "## Example 1"
      ]
    },
    {
      "metadata": {
        "id": "n9Znyue31BYx",
        "colab_type": "text"
      },
      "cell_type": "markdown",
      "source": [
        "Evaluate the first derivative of the next function using the previous numerical scheme at the point $x_0=2.0$ and using $h=0.5,\\ 0.1,\\  0.05$\n",
        "\n",
        "$f(x) = \\sqrt{1+\\cos^2(x)}$\n",
        "\n",
        "Compare with the real function and plot the tangent line using the found values of the slope."
      ]
    },
    {
      "metadata": {
        "id": "kTtRKqJf1BYy",
        "colab_type": "code",
        "colab": {}
      },
      "cell_type": "code",
      "source": [
        "from scipy.misc import derivative"
      ],
      "execution_count": 0,
      "outputs": []
    },
    {
      "metadata": {
        "id": "iuCi6mT21BY1",
        "colab_type": "code",
        "colab": {}
      },
      "cell_type": "code",
      "source": [
        "derivative?"
      ],
      "execution_count": 0,
      "outputs": []
    },
    {
      "metadata": {
        "id": "j-N2UYMH1BY3",
        "colab_type": "text"
      },
      "cell_type": "markdown",
      "source": [
        "It is used as:\n",
        "```python\n",
        " derivative(func, x0, dx=1.0, n=1, args=(), order=3)\n",
        "```\n",
        "__Parameters__<br/>\n",
        "`func` : function ->\n",
        "    Input function.<br/>\n",
        "`x0` : float -> \n",
        "    The point at which `n`-th derivative is found.<br/>\n",
        "`dx` : float, optional -> \n",
        "    Spacing.<br/>\n",
        "`n` : int, optional -> \n",
        "    Order of the derivative. Default is 1.<br/>\n",
        "`args` : tuple, optional -> \n",
        "    Arguments<br/>\n",
        "`order` : int, optional -> \n",
        "    Number of points to use, must be odd.<br/>\n"
      ]
    },
    {
      "metadata": {
        "id": "yCfkx5_y1BY4",
        "colab_type": "code",
        "colab": {
          "base_uri": "https://localhost:8080/",
          "height": 282
        },
        "outputId": "cccddcf0-5c46-4847-a983-01538e24650f"
      },
      "cell_type": "code",
      "source": [
        "def function(x):\n",
        "    return np.sqrt( 1+np.cos(x)**2 )\n",
        "\n",
        "#X value\n",
        "x0 = 2\n",
        "xmin = 1.8\n",
        "xmax = 2.2\n",
        "\n",
        "x = np.linspace( xmin, xmax, 100 )\n",
        "\n",
        "plt.plot( x, np.sqrt( 1+np.cos(x)**2 ), color=\"black\", label=\"function\", linewidth=3, zorder=10 )"
      ],
      "execution_count": 53,
      "outputs": [
        {
          "output_type": "execute_result",
          "data": {
            "text/plain": [
              "[<matplotlib.lines.Line2D at 0x7f12d3637bd0>]"
            ]
          },
          "metadata": {
            "tags": []
          },
          "execution_count": 53
        },
        {
          "output_type": "display_data",
          "data": {
            "image/png": "[encoded data removed]",
            "text/plain": [
              "<matplotlib.figure.Figure at 0x7f12d5f48490>"
            ]
          },
          "metadata": {
            "tags": []
          }
        }
      ]
    },
    {
      "metadata": {
        "id": "kPSLAADO1BY8",
        "colab_type": "text"
      },
      "cell_type": "markdown",
      "source": [
        "__Activity__: We now check for the impact of the change of the spacing `dx`.  Try from `dx=0.5` and then small values"
      ]
    },
    {
      "metadata": {
        "id": "jSd5QoUu1BY9",
        "colab_type": "code",
        "colab": {
          "base_uri": "https://localhost:8080/",
          "height": 193
        },
        "outputId": "bf03d036-5c20-4de8-fb01-f23dae0327e4"
      },
      "cell_type": "code",
      "source": [
        "for i in range(5):\n",
        "    dx=input('dx=')\n",
        "    print( derivative(function,2,dx=dx) )"
      ],
      "execution_count": 54,
      "outputs": [
        {
          "output_type": "stream",
          "text": [
            "dx=1\n",
            "0.13526274947015327\n",
            "dx=0.5\n",
            "0.27884081567829266\n",
            "dx=0.1\n",
            "0.3462499420237386\n",
            "dx=0.01\n",
            "0.3493266965195363\n",
            "dx=1E-3\n",
            "0.34935758881293744\n"
          ],
          "name": "stdout"
        }
      ]
    },
    {
      "metadata": {
        "id": "CChKCiNR3bEA",
        "colab_type": "text"
      },
      "cell_type": "markdown",
      "source": [
        "Compare with:"
      ]
    },
    {
      "metadata": {
        "id": "4uAHftGy1BZR",
        "colab_type": "code",
        "colab": {
          "base_uri": "https://localhost:8080/",
          "height": 34
        },
        "outputId": "781b95bc-d31f-483b-d51e-3080bf478fbe"
      },
      "cell_type": "code",
      "source": [
        "derivative(function,2,dx=1E-12)"
      ],
      "execution_count": 57,
      "outputs": [
        {
          "output_type": "execute_result",
          "data": {
            "text/plain": [
              "0.34927616354707425"
            ]
          },
          "metadata": {
            "tags": []
          },
          "execution_count": 57
        }
      ]
    },
    {
      "metadata": {
        "id": "tjUi1m_gJYQf",
        "colab_type": "text"
      },
      "cell_type": "markdown",
      "source": [
        "\n",
        "\n",
        "---\n",
        "\n"
      ]
    },
    {
      "metadata": {
        "id": "7N5o9BA31BZW",
        "colab_type": "text"
      },
      "cell_type": "markdown",
      "source": [
        "##  Implementation of the derivate of the function inside a full range\n",
        "We now generalize the `derivative` function to allow the evaluation of the derivate in a full range of values. It will be designed such that the evaluation in just one point can be still possible. In this way, the new function  can be used as a full replacement of `derivative` function.\n",
        "\n",
        "To implement this function we need three keys ingredients of `python`:\n",
        "1. `try` and `except` python progamming sctructure\n",
        "1. Function definition with generic mandatory and optional arguments\n",
        "1. Conversion of a float function into a vectorized fuction\n",
        "\n",
        "### `try` and `except` python progamming sctructure\n",
        "First we introduce the `try` and `except` python progamming sctructure, wich is used to bypass one python error. For example a zero dimension array has not a shape attribute, so that the following error is generated:"
      ]
    },
    {
      "metadata": {
        "id": "U8jq7YbkKz-e",
        "colab_type": "code",
        "colab": {
          "base_uri": "https://localhost:8080/",
          "height": 34
        },
        "outputId": "a5f409b3-e24f-4a4f-b77e-ca297b73c853"
      },
      "cell_type": "code",
      "source": [
        "np.array([[2,4],[3,6]]).shape"
      ],
      "execution_count": 63,
      "outputs": [
        {
          "output_type": "execute_result",
          "data": {
            "text/plain": [
              "(2, 2)"
            ]
          },
          "metadata": {
            "tags": []
          },
          "execution_count": 63
        }
      ]
    },
    {
      "metadata": {
        "id": "4EA4HauF1BZX",
        "colab_type": "code",
        "colab": {
          "base_uri": "https://localhost:8080/",
          "height": 169
        },
        "outputId": "c3774744-3f37-471f-9860-53f0419ac71a"
      },
      "cell_type": "code",
      "source": [
        "nn=np.array(3).shape[0]"
      ],
      "execution_count": 64,
      "outputs": [
        {
          "output_type": "error",
          "ename": "IndexError",
          "evalue": "ignored",
          "traceback": [
            "\u001b[0;31m\u001b[0m",
            "\u001b[0;31mIndexError\u001b[0mTraceback (most recent call last)",
            "\u001b[0;32m<ipython-input-64-e1814928a8a6>\u001b[0m in \u001b[0;36m<module>\u001b[0;34m()\u001b[0m\n\u001b[0;32m----> 1\u001b[0;31m \u001b[0mnn\u001b[0m\u001b[0;34m=\u001b[0m\u001b[0mnp\u001b[0m\u001b[0;34m.\u001b[0m\u001b[0marray\u001b[0m\u001b[0;34m(\u001b[0m\u001b[0;36m3\u001b[0m\u001b[0;34m)\u001b[0m\u001b[0;34m.\u001b[0m\u001b[0mshape\u001b[0m\u001b[0;34m[\u001b[0m\u001b[0;36m0\u001b[0m\u001b[0;34m]\u001b[0m\u001b[0;34m\u001b[0m\u001b[0m\n\u001b[0m",
            "\u001b[0;31mIndexError\u001b[0m: tuple index out of range"
          ]
        }
      ]
    },
    {
      "metadata": {
        "id": "4EwENlK51BZa",
        "colab_type": "text"
      },
      "cell_type": "markdown",
      "source": [
        "To bypass that error we use the following code:"
      ]
    },
    {
      "metadata": {
        "id": "j0d-XAbO1BZb",
        "colab_type": "code",
        "colab": {}
      },
      "cell_type": "code",
      "source": [
        "try: \n",
        "    nn=np.array(3).shape[0]\n",
        "except IndexError:\n",
        "    nn=-1"
      ],
      "execution_count": 0,
      "outputs": []
    },
    {
      "metadata": {
        "id": "YAJh5KNU1BZg",
        "colab_type": "text"
      },
      "cell_type": "markdown",
      "source": [
        "so that `nn` takes the values assigned in the `except` part:"
      ]
    },
    {
      "metadata": {
        "id": "Syk6hkS11BZg",
        "colab_type": "code",
        "colab": {
          "base_uri": "https://localhost:8080/",
          "height": 34
        },
        "outputId": "f5dbc48e-6105-4416-b706-f930b9b09b18"
      },
      "cell_type": "code",
      "source": [
        "nn"
      ],
      "execution_count": 66,
      "outputs": [
        {
          "output_type": "execute_result",
          "data": {
            "text/plain": [
              "-1"
            ]
          },
          "metadata": {
            "tags": []
          },
          "execution_count": 66
        }
      ]
    },
    {
      "metadata": {
        "id": "XB1PCVJ17GJc",
        "colab_type": "text"
      },
      "cell_type": "markdown",
      "source": [
        "\n",
        "\n",
        "---\n",
        "\n"
      ]
    },
    {
      "metadata": {
        "id": "bJJTeN-O-ZUA",
        "colab_type": "text"
      },
      "cell_type": "markdown",
      "source": [
        "__Activity__: A float has the method `is_integer()` to check if the decimal part is zero. Creates a function `ìs_integer(x)` which works even in the case that x is just an integer"
      ]
    },
    {
      "metadata": {
        "id": "jr_RHXSO-MMa",
        "colab_type": "code",
        "colab": {
          "base_uri": "https://localhost:8080/",
          "height": 186
        },
        "outputId": "b1708c38-99a0-4959-b022-59afdf2235ff"
      },
      "cell_type": "code",
      "source": [
        "x=2\n",
        "x.is_integer()"
      ],
      "execution_count": 67,
      "outputs": [
        {
          "output_type": "error",
          "ename": "AttributeError",
          "evalue": "ignored",
          "traceback": [
            "\u001b[0;31m\u001b[0m",
            "\u001b[0;31mAttributeError\u001b[0mTraceback (most recent call last)",
            "\u001b[0;32m<ipython-input-67-3027cbe30ddf>\u001b[0m in \u001b[0;36m<module>\u001b[0;34m()\u001b[0m\n\u001b[1;32m      1\u001b[0m \u001b[0mx\u001b[0m\u001b[0;34m=\u001b[0m\u001b[0;36m2\u001b[0m\u001b[0;34m\u001b[0m\u001b[0m\n\u001b[0;32m----> 2\u001b[0;31m \u001b[0mx\u001b[0m\u001b[0;34m.\u001b[0m\u001b[0mis_integer\u001b[0m\u001b[0;34m(\u001b[0m\u001b[0;34m)\u001b[0m\u001b[0;34m\u001b[0m\u001b[0m\n\u001b[0m",
            "\u001b[0;31mAttributeError\u001b[0m: 'int' object has no attribute 'is_integer'"
          ]
        }
      ]
    },
    {
      "metadata": {
        "id": "TCUydLpH7VQe",
        "colab_type": "code",
        "colab": {
          "base_uri": "https://localhost:8080/",
          "height": 34
        },
        "outputId": "0894df44-b441-42ad-e6e5-34287e437dea"
      },
      "cell_type": "code",
      "source": [
        "x=2.3\n",
        "x.is_integer()"
      ],
      "execution_count": 69,
      "outputs": [
        {
          "output_type": "execute_result",
          "data": {
            "text/plain": [
              "False"
            ]
          },
          "metadata": {
            "tags": []
          },
          "execution_count": 69
        }
      ]
    },
    {
      "metadata": {
        "id": "7-R7lC39-PJj",
        "colab_type": "code",
        "colab": {}
      },
      "cell_type": "code",
      "source": [
        "def is_integer(x):\n",
        "    # Returns true if x is integer\n",
        "    ...."
      ],
      "execution_count": 0,
      "outputs": []
    },
    {
      "metadata": {
        "id": "en-iZeiD_jqG",
        "colab_type": "text"
      },
      "cell_type": "markdown",
      "source": [
        "\n",
        "\n",
        "---\n",
        "\n"
      ]
    },
    {
      "metadata": {
        "id": "5ITeOGi4OkL7",
        "colab_type": "code",
        "colab": {}
      },
      "cell_type": "code",
      "source": [
        "def f(b,c,a=2,d=3):\n",
        "    return a+b"
      ],
      "execution_count": 0,
      "outputs": []
    },
    {
      "metadata": {
        "id": "myL7tv9fPMwC",
        "colab_type": "code",
        "colab": {
          "base_uri": "https://localhost:8080/",
          "height": 34
        },
        "outputId": "2cd5f8c9-1625-4617-f913-448d2e292572"
      },
      "cell_type": "code",
      "source": [
        "if [1]:\n",
        "    print(1)\n",
        "    "
      ],
      "execution_count": 81,
      "outputs": [
        {
          "output_type": "stream",
          "text": [
            "1\n"
          ],
          "name": "stdout"
        }
      ]
    },
    {
      "metadata": {
        "id": "tsdIWo4dPiSq",
        "colab_type": "code",
        "colab": {}
      },
      "cell_type": "code",
      "source": [
        "if '':\n",
        "    print(1)\n",
        "    "
      ],
      "execution_count": 0,
      "outputs": []
    },
    {
      "metadata": {
        "id": "pIebQFVxPmTp",
        "colab_type": "code",
        "colab": {}
      },
      "cell_type": "code",
      "source": [
        "if {}:\n",
        "    print(1)\n",
        "    "
      ],
      "execution_count": 0,
      "outputs": []
    },
    {
      "metadata": {
        "id": "NMDk53KY1BZl",
        "colab_type": "text"
      },
      "cell_type": "markdown",
      "source": [
        "### Function definition with generic mandatory and optional arguments\n",
        "We need to introduce another important concept about functions. There is a powerfull way to define a function with generic arguments:\n",
        "1. Instead of the mandatory arguments we can use the generic list pointer: `*args`\n",
        "1. Instead of the optional arguments we can use the generic dictionary pointer: `**kwargs`"
      ]
    },
    {
      "metadata": {
        "id": "Gqaf6NTq1BZl",
        "colab_type": "code",
        "colab": {}
      },
      "cell_type": "code",
      "source": [
        "-def f(*args,**kwargs):\n",
        "    if args:\n",
        "        print('*args is the list of mandatory arguments: {}'.format(args))\n",
        "        print('This allows to have a dynamic return according to input:')\n",
        "        return type(args[0])\n",
        "    if kwargs:\n",
        "        print('*kwargs is the dictionary of optional arguments: {}'.format(kwargs))\n",
        "        print('This allows to have a dynamic return according to input:')\n",
        "        return type(kwargs.keys()[0]),type(kwargs.values()[0])\n"
      ],
      "execution_count": 0,
      "outputs": []
    },
    {
      "metadata": {
        "id": "SjrTYl6LBfqJ",
        "colab_type": "text"
      },
      "cell_type": "markdown",
      "source": [
        "\n",
        "\n",
        "---\n",
        "\n",
        "__Activity__; Check the function with any type of mandatory or optional argument"
      ]
    },
    {
      "metadata": {
        "id": "0osOmM-x1BZo",
        "colab_type": "code",
        "colab": {}
      },
      "cell_type": "code",
      "source": [
        "f()"
      ],
      "execution_count": 0,
      "outputs": []
    },
    {
      "metadata": {
        "id": "DKmpMvlU1BZr",
        "colab_type": "code",
        "colab": {}
      },
      "cell_type": "code",
      "source": [
        "f(1)"
      ],
      "execution_count": 0,
      "outputs": []
    },
    {
      "metadata": {
        "id": "KLqJ1S7W1BZt",
        "colab_type": "code",
        "colab": {}
      },
      "cell_type": "code",
      "source": [
        "f(1,2,3)"
      ],
      "execution_count": 0,
      "outputs": []
    },
    {
      "metadata": {
        "id": "cEiNqrkE1BZy",
        "colab_type": "code",
        "colab": {}
      },
      "cell_type": "code",
      "source": [
        "f(a=1,b=2.2)"
      ],
      "execution_count": 0,
      "outputs": []
    },
    {
      "metadata": {
        "id": "eOETuwIa1BZ1",
        "colab_type": "code",
        "colab": {}
      },
      "cell_type": "code",
      "source": [
        "f(a=[1,2],b=2.2)"
      ],
      "execution_count": 0,
      "outputs": []
    },
    {
      "metadata": {
        "id": "pDiWTY4gB_gg",
        "colab_type": "code",
        "colab": {}
      },
      "cell_type": "code",
      "source": [
        "f('hola mundo',a=[1,2],b=2.2)"
      ],
      "execution_count": 0,
      "outputs": []
    },
    {
      "metadata": {
        "id": "K372aP-a1BZ5",
        "colab_type": "text"
      },
      "cell_type": "markdown",
      "source": [
        "### Conversion of a float function into a vectorized fuction\n",
        "An important `numpy` function is:"
      ]
    },
    {
      "metadata": {
        "id": "W0rlPrT21BZ6",
        "colab_type": "code",
        "colab": {}
      },
      "cell_type": "code",
      "source": [
        "np.vectorize?"
      ],
      "execution_count": 0,
      "outputs": []
    },
    {
      "metadata": {
        "id": "V6M_B9ek1BZ8",
        "colab_type": "text"
      },
      "cell_type": "markdown",
      "source": [
        "Which convert a function which takes a float as an argument into a new function which que takes `numpy arrays` as an argument. The problem is that the converted function does not longer return a float when the argument is a float:"
      ]
    },
    {
      "metadata": {
        "id": "rk_Pqwkn1BZ8",
        "colab_type": "code",
        "colab": {
          "base_uri": "https://localhost:8080/",
          "height": 312
        },
        "outputId": "893e818d-7bdc-4a79-a9a7-61c1c15e82bd"
      },
      "cell_type": "code",
      "source": [
        "derivative(np.sin,[1,1.2],dx=1E-6)"
      ],
      "execution_count": 87,
      "outputs": [
        {
          "output_type": "error",
          "ename": "TypeError",
          "evalue": "ignored",
          "traceback": [
            "\u001b[0;31m\u001b[0m",
            "\u001b[0;31mTypeError\u001b[0mTraceback (most recent call last)",
            "\u001b[0;32m<ipython-input-87-709288cbf942>\u001b[0m in \u001b[0;36m<module>\u001b[0;34m()\u001b[0m\n\u001b[0;32m----> 1\u001b[0;31m \u001b[0mderivative\u001b[0m\u001b[0;34m(\u001b[0m\u001b[0mnp\u001b[0m\u001b[0;34m.\u001b[0m\u001b[0msin\u001b[0m\u001b[0;34m,\u001b[0m\u001b[0;34m[\u001b[0m\u001b[0;36m1\u001b[0m\u001b[0;34m,\u001b[0m\u001b[0;36m1.2\u001b[0m\u001b[0;34m]\u001b[0m\u001b[0;34m,\u001b[0m\u001b[0mdx\u001b[0m\u001b[0;34m=\u001b[0m\u001b[0;36m1E-6\u001b[0m\u001b[0;34m)\u001b[0m\u001b[0;34m\u001b[0m\u001b[0m\n\u001b[0m",
            "\u001b[0;32m/usr/local/lib/python2.7/dist-packages/scipy/misc/common.pyc\u001b[0m in \u001b[0;36mderivative\u001b[0;34m(func, x0, dx, n, args, order)\u001b[0m\n\u001b[1;32m    117\u001b[0m     \u001b[0mho\u001b[0m \u001b[0;34m=\u001b[0m \u001b[0morder\u001b[0m \u001b[0;34m>>\u001b[0m \u001b[0;36m1\u001b[0m\u001b[0;34m\u001b[0m\u001b[0m\n\u001b[1;32m    118\u001b[0m     \u001b[0;32mfor\u001b[0m \u001b[0mk\u001b[0m \u001b[0;32min\u001b[0m \u001b[0mrange\u001b[0m\u001b[0;34m(\u001b[0m\u001b[0morder\u001b[0m\u001b[0;34m)\u001b[0m\u001b[0;34m:\u001b[0m\u001b[0;34m\u001b[0m\u001b[0m\n\u001b[0;32m--> 119\u001b[0;31m         \u001b[0mval\u001b[0m \u001b[0;34m+=\u001b[0m \u001b[0mweights\u001b[0m\u001b[0;34m[\u001b[0m\u001b[0mk\u001b[0m\u001b[0;34m]\u001b[0m\u001b[0;34m*\u001b[0m\u001b[0mfunc\u001b[0m\u001b[0;34m(\u001b[0m\u001b[0mx0\u001b[0m\u001b[0;34m+\u001b[0m\u001b[0;34m(\u001b[0m\u001b[0mk\u001b[0m\u001b[0;34m-\u001b[0m\u001b[0mho\u001b[0m\u001b[0;34m)\u001b[0m\u001b[0;34m*\u001b[0m\u001b[0mdx\u001b[0m\u001b[0;34m,\u001b[0m\u001b[0;34m*\u001b[0m\u001b[0margs\u001b[0m\u001b[0;34m)\u001b[0m\u001b[0;34m\u001b[0m\u001b[0m\n\u001b[0m\u001b[1;32m    120\u001b[0m     \u001b[0;32mreturn\u001b[0m \u001b[0mval\u001b[0m \u001b[0;34m/\u001b[0m \u001b[0mproduct\u001b[0m\u001b[0;34m(\u001b[0m\u001b[0;34m(\u001b[0m\u001b[0mdx\u001b[0m\u001b[0;34m,\u001b[0m\u001b[0;34m)\u001b[0m\u001b[0;34m*\u001b[0m\u001b[0mn\u001b[0m\u001b[0;34m,\u001b[0m\u001b[0maxis\u001b[0m\u001b[0;34m=\u001b[0m\u001b[0;36m0\u001b[0m\u001b[0;34m)\u001b[0m\u001b[0;34m\u001b[0m\u001b[0m\n\u001b[1;32m    121\u001b[0m \u001b[0;34m\u001b[0m\u001b[0m\n",
            "\u001b[0;31mTypeError\u001b[0m: can only concatenate list (not \"float\") to list"
          ]
        }
      ]
    },
    {
      "metadata": {
        "id": "IgFtXQ5Q1BaA",
        "colab_type": "code",
        "colab": {
          "base_uri": "https://localhost:8080/",
          "height": 34
        },
        "outputId": "0c50a2fc-1f4d-48e8-8b38-355dd3c6f3d4"
      },
      "cell_type": "code",
      "source": [
        "from scipy.misc import derivative\n",
        "array_derivate=np.vectorize(derivative)\n",
        "array_derivate(np.sin,[1,1.2],dx=1E-6)"
      ],
      "execution_count": 91,
      "outputs": [
        {
          "output_type": "execute_result",
          "data": {
            "text/plain": [
              "array([0.54030231, 0.36235775])"
            ]
          },
          "metadata": {
            "tags": []
          },
          "execution_count": 91
        }
      ]
    },
    {
      "metadata": {
        "id": "IcH_mZIU1BaC",
        "colab_type": "code",
        "colab": {
          "base_uri": "https://localhost:8080/",
          "height": 34
        },
        "outputId": "1f2ea325-9bd6-49c8-9a8b-bfdf1b73f080"
      },
      "cell_type": "code",
      "source": [
        "array_derivate(np.sin,1,dx=1E-6)"
      ],
      "execution_count": 93,
      "outputs": [
        {
          "output_type": "execute_result",
          "data": {
            "text/plain": [
              "array(0.54030231)"
            ]
          },
          "metadata": {
            "tags": []
          },
          "execution_count": 93
        }
      ]
    },
    {
      "metadata": {
        "id": "GgksedR51BaG",
        "colab_type": "text"
      },
      "cell_type": "markdown",
      "source": [
        "## Code for the derivate of the function inside a full range\n",
        "To recover the evalation of a float into a float we can force the `IndexError` to force the use of the pure `scipy` `derivative` function one a float is given, we combine the three previos ingridients into a very compact pythonic way function definition:"
      ]
    },
    {
      "metadata": {
        "id": "H_IYjZo71BaG",
        "colab_type": "code",
        "colab": {}
      },
      "cell_type": "code",
      "source": [
        "def derivate(func,x0,**kwargs):\n",
        "    '''\n",
        "    Vectorized replacement of scipy.misc derivative:\n",
        "        from scipy.misc import derivative\n",
        "    For usage check the derivative help, e.g, in jupyter: \n",
        "        from scipy.misc import derivative\n",
        "        derivative?\n",
        "    '''\n",
        "    from scipy.misc import derivative\n",
        "    try:\n",
        "        nn=np.array(x0).shape[0] # force error if float is used \n",
        "        fp=np.vectorize(derivative)\n",
        "    except IndexError:\n",
        "        fp=derivative\n",
        "        \n",
        "    return fp(func,x0,**kwargs)"
      ],
      "execution_count": 0,
      "outputs": []
    },
    {
      "metadata": {
        "id": "beuKXTnh1BaJ",
        "colab_type": "text"
      },
      "cell_type": "markdown",
      "source": [
        "which behaves exactly as the `scipy` `derivative` function when a float argument is used:"
      ]
    },
    {
      "metadata": {
        "id": "vG4Av7Pd1BaJ",
        "colab_type": "code",
        "colab": {
          "base_uri": "https://localhost:8080/",
          "height": 35
        },
        "outputId": "87f847ab-e628-4f43-f3a4-3c5e7a9a389e"
      },
      "cell_type": "code",
      "source": [
        "derivate(np.sin,1,dx=1E-6)"
      ],
      "execution_count": 95,
      "outputs": [
        {
          "output_type": "execute_result",
          "data": {
            "text/plain": [
              "0.5403023058958567"
            ]
          },
          "metadata": {
            "tags": []
          },
          "execution_count": 95
        }
      ]
    },
    {
      "metadata": {
        "id": "474mzOsq1BaN",
        "colab_type": "code",
        "colab": {
          "base_uri": "https://localhost:8080/",
          "height": 35
        },
        "outputId": "1e4dd5ab-222a-4925-aa60-ccf155edd23c"
      },
      "cell_type": "code",
      "source": [
        "derivate(np.sin,[1,2],dx=1E-6)"
      ],
      "execution_count": 96,
      "outputs": [
        {
          "output_type": "execute_result",
          "data": {
            "text/plain": [
              "array([ 0.54030231, -0.41614684])"
            ]
          },
          "metadata": {
            "tags": []
          },
          "execution_count": 96
        }
      ]
    },
    {
      "metadata": {
        "id": "6a3PfPVo1BaR",
        "colab_type": "text"
      },
      "cell_type": "markdown",
      "source": [
        "and as a vectorized function when an array argument is used:"
      ]
    },
    {
      "metadata": {
        "id": "0mJvX1561BaS",
        "colab_type": "code",
        "colab": {
          "base_uri": "https://localhost:8080/",
          "height": 35
        },
        "outputId": "a0a4d6b6-b319-4dd7-c286-16427adae0f4"
      },
      "cell_type": "code",
      "source": [
        "derivative(np.sin,1,dx=1E-6),derivative(np.sin,2,dx=1E-6)"
      ],
      "execution_count": 97,
      "outputs": [
        {
          "output_type": "execute_result",
          "data": {
            "text/plain": [
              "(0.5403023058958567, -0.41614683654600526)"
            ]
          },
          "metadata": {
            "tags": []
          },
          "execution_count": 97
        }
      ]
    },
    {
      "metadata": {
        "id": "O63KV62a1BaW",
        "colab_type": "code",
        "colab": {
          "base_uri": "https://localhost:8080/",
          "height": 35
        },
        "outputId": "84c60609-4259-4672-d03c-dd329c95a01d"
      },
      "cell_type": "code",
      "source": [
        "derivate(np.sin,[1.,1.5],dx=1E-6,n=4,order=5)"
      ],
      "execution_count": 98,
      "outputs": [
        {
          "output_type": "execute_result",
          "data": {
            "text/plain": [
              "array([-7.77156117e+08, -1.11022302e+09])"
            ]
          },
          "metadata": {
            "tags": []
          },
          "execution_count": 98
        }
      ]
    },
    {
      "metadata": {
        "id": "cv9xBqP91BaZ",
        "colab_type": "text"
      },
      "cell_type": "markdown",
      "source": [
        "Let see now the implementation of the `derivate` function as full replacement of the `derivative` function:"
      ]
    },
    {
      "metadata": {
        "id": "KsNQouL31Baa",
        "colab_type": "text"
      },
      "cell_type": "markdown",
      "source": [
        "### Test\n",
        "Let us check the implementation with the previous function"
      ]
    },
    {
      "metadata": {
        "id": "aa56hgqX1Baa",
        "colab_type": "code",
        "colab": {}
      },
      "cell_type": "code",
      "source": [
        "func=lambda x: np.sqrt( 1+np.cos(x)**2 )"
      ],
      "execution_count": 0,
      "outputs": []
    },
    {
      "metadata": {
        "id": "XlXohBsG1Bad",
        "colab_type": "text"
      },
      "cell_type": "markdown",
      "source": [
        "but now evaluated for a list of values"
      ]
    },
    {
      "metadata": {
        "id": "dt0fr0XR1Bae",
        "colab_type": "code",
        "colab": {
          "base_uri": "https://localhost:8080/",
          "height": 35
        },
        "outputId": "ae20a2aa-9d3e-4fbd-b14b-0c3f05bc2ed3"
      },
      "cell_type": "code",
      "source": [
        "x=[1.8,2,2.2]\n",
        "funcp=derivate(func,x,dx=1E-3)\n",
        "funcp"
      ],
      "execution_count": 100,
      "outputs": [
        {
          "output_type": "execute_result",
          "data": {
            "text/plain": [
              "array([0.21576117, 0.34935759, 0.41006125])"
            ]
          },
          "metadata": {
            "tags": []
          },
          "execution_count": 100
        }
      ]
    },
    {
      "metadata": {
        "id": "lVMFkWTC1Bah",
        "colab_type": "text"
      },
      "cell_type": "markdown",
      "source": [
        "For the prevous `X` array:"
      ]
    },
    {
      "metadata": {
        "id": "uLAHiUVR1Bah",
        "colab_type": "code",
        "colab": {}
      },
      "cell_type": "code",
      "source": [
        "x0 = 2\n",
        "xmin = 1.8\n",
        "xmax = 2.2\n",
        "\n",
        "x = np.linspace( xmin, xmax, 100 )"
      ],
      "execution_count": 0,
      "outputs": []
    },
    {
      "metadata": {
        "id": "RnkFkOUf1Bak",
        "colab_type": "text"
      },
      "cell_type": "markdown",
      "source": [
        "We have:"
      ]
    },
    {
      "metadata": {
        "id": "Ahr4gVsg1Bam",
        "colab_type": "code",
        "colab": {
          "base_uri": "https://localhost:8080/",
          "height": 35
        },
        "outputId": "96e378e8-ac17-4270-f8d9-ca843205ae43"
      },
      "cell_type": "code",
      "source": [
        "derivate(func,x,dx=1E-3).shape"
      ],
      "execution_count": 102,
      "outputs": [
        {
          "output_type": "execute_result",
          "data": {
            "text/plain": [
              "(100,)"
            ]
          },
          "metadata": {
            "tags": []
          },
          "execution_count": 102
        }
      ]
    },
    {
      "metadata": {
        "id": "vDqThzl01Bau",
        "colab_type": "code",
        "colab": {
          "base_uri": "https://localhost:8080/",
          "height": 304
        },
        "outputId": "b5c67208-fb78-4fa2-daa5-c79f85d03b09"
      },
      "cell_type": "code",
      "source": [
        "xmin = 1.8\n",
        "xmax = 2.2\n",
        "\n",
        "X = np.linspace( xmin, xmax, 100 )\n",
        "\n",
        "plt.plot( X, np.sqrt( 1+np.cos(X)**2 ), color=\"black\", label=\"$f(x)$\", linewidth=3)\n",
        "plt.plot( X, derivate(func,X,dx=1E-3), color=\"red\", label=\"$f'(x)$\", linewidth=3)\n",
        "plt.plot( X, derivate(func,X,dx=1E-3,n=2), color=\"blue\", label=\"$f''(x)$\", linewidth=3)\n",
        "plt.legend(loc='best',fontsize=15)\n",
        "plt.xlabel('$x$',size=15)"
      ],
      "execution_count": 104,
      "outputs": [
        {
          "output_type": "execute_result",
          "data": {
            "text/plain": [
              "Text(0.5,0,u'$x$')"
            ]
          },
          "metadata": {
            "tags": []
          },
          "execution_count": 104
        },
        {
          "output_type": "display_data",
          "data": {
            "image/png": "[encoded data removed]",
            "text/plain": [
              "<matplotlib.figure.Figure at 0x7f12d3590b90>"
            ]
          },
          "metadata": {
            "tags": []
          }
        }
      ]
    },
    {
      "metadata": {
        "id": "fJsq3pgq1Bay",
        "colab_type": "text"
      },
      "cell_type": "markdown",
      "source": [
        "### Example\n",
        "Finally we check the function $f(x)=\\cos x$ in the range $[0,2\\pi]$"
      ]
    },
    {
      "metadata": {
        "id": "v9he6Ob91Baz",
        "colab_type": "code",
        "colab": {
          "base_uri": "https://localhost:8080/",
          "height": 302
        },
        "outputId": "88af69fd-b4ca-4f4b-8d47-afb418522ab3"
      },
      "cell_type": "code",
      "source": [
        "xmin = 0\n",
        "xmax = 2*np.pi\n",
        "\n",
        "X = np.linspace( xmin, xmax, 100 )\n",
        "\n",
        "plt.plot( X, np.cos(X) , \"g-\", label=\"$f(x)=\\cos x$\", linewidth=3)\n",
        "plt.plot( X, derivate(lambda x:np.cos(x),X,dx=1E-3), color=\"red\", label=\"$f'(x)$\", linewidth=3)\n",
        "plt.plot( X, -np.sin(X) , 'b:', label=\"$-\\sin x$\", linewidth=3, zorder=10 )\n",
        "plt.plot( X, derivate(lambda x:np.cos(x),X,dx=1E-3,n=4,order=5), 'k:', label=\"$f^{iv}(x)$\", linewidth=3)\n",
        "plt.legend(loc='best',fontsize=15)\n",
        "plt.xlabel('$x$',size=15)"
      ],
      "execution_count": 105,
      "outputs": [
        {
          "output_type": "execute_result",
          "data": {
            "text/plain": [
              "Text(0.5,0,u'$x$')"
            ]
          },
          "metadata": {
            "tags": []
          },
          "execution_count": 105
        },
        {
          "output_type": "display_data",
          "data": {
            "image/png": "[encoded data removed]",
            "text/plain": [
              "<matplotlib.figure.Figure at 0x7f12d3548950>"
            ]
          },
          "metadata": {
            "tags": []
          }
        }
      ]
    },
    {
      "metadata": {
        "id": "fPmUiXf6TqK0",
        "colab_type": "code",
        "colab": {
          "base_uri": "https://localhost:8080/",
          "height": 35
        },
        "outputId": "e3978ea8-4e6c-4d60-add6-8364e39276e5"
      },
      "cell_type": "code",
      "source": [
        "derivative(np.cos,np.pi/2,n=4,dx=1E-3,order=5)"
      ],
      "execution_count": 119,
      "outputs": [
        {
          "output_type": "execute_result",
          "data": {
            "text/plain": [
              "-1.3010426069826051e-06"
            ]
          },
          "metadata": {
            "tags": []
          },
          "execution_count": 119
        }
      ]
    },
    {
      "metadata": {
        "id": "tZz5pIMR1Ba3",
        "colab_type": "text"
      },
      "cell_type": "markdown",
      "source": [
        "### One implementation of `derivative` algorithm"
      ]
    },
    {
      "metadata": {
        "id": "nV7lFSb51Ba5",
        "colab_type": "code",
        "colab": {},
        "outputId": "e091b064-928e-4400-b84c-34d62dd98215"
      },
      "cell_type": "code",
      "source": [
        "#Function to evaluate\n",
        "def function(x):\n",
        "    return np.sqrt( 1+np.cos(x)**2 )\n",
        "\n",
        "#X value\n",
        "x0 = 2\n",
        "xmin = 1.8\n",
        "xmax = 2.2\n",
        "#h step\n",
        "hs = [0.5,0.1,0.05]\n",
        "\n",
        "#Calculating derivatives\n",
        "dfs = []\n",
        "for h in hs:\n",
        "    dfs.append( (function(x0+h)-function(x0))/h )\n",
        "    \n",
        "#Plotting\n",
        "plt.figure( figsize=(10,8) )\n",
        "#X array\n",
        "X = np.linspace( xmin, xmax, 100 )\n",
        "Y = function(X)\n",
        "plt.plot( X, Y, color=\"black\", label=\"function\", linewidth=3, zorder=10 )\n",
        "#Slopes\n",
        "Xslp = [1,x0,3]\n",
        "Yslp = [0,0,0]\n",
        "for df, h in zip(dfs, hs):\n",
        "    #First point\n",
        "    Yslp[0] = function(x0)+df*(Xslp[0]-Xslp[1])\n",
        "    #Second point\n",
        "    Yslp[1] = function(x0)\n",
        "    #Third point\n",
        "    Yslp[2] = function(x0)+df*(Xslp[2]-Xslp[1])\n",
        "    #Plotting this slope\n",
        "    plt.plot( Xslp, Yslp, linewidth = 2, label=\"slope$=%1.2f$ for $h=%1.2f$\"%(df,h) )\n",
        "\n",
        "#Format\n",
        "plt.grid()\n",
        "plt.xlabel(\"x\")\n",
        "plt.ylabel(\"y\")\n",
        "plt.xlim( xmin, xmax )\n",
        "plt.ylim( 1, 1.15 )\n",
        "plt.legend( loc = \"upper left\" )"
      ],
      "execution_count": 0,
      "outputs": [
        {
          "output_type": "execute_result",
          "data": {
            "text/plain": [
              "<matplotlib.legend.Legend at 0x7f2790fe7990>"
            ]
          },
          "metadata": {
            "tags": []
          },
          "execution_count": 5
        },
        {
          "output_type": "display_data",
          "data": {
            "image/png": "[encoded data removed]",
            "text/plain": [
              "<matplotlib.figure.Figure at 0x7f2790fe7390>"
            ]
          },
          "metadata": {
            "tags": []
          }
        }
      ]
    },
    {
      "metadata": {
        "id": "lGExPWl81Ba-",
        "colab_type": "text"
      },
      "cell_type": "markdown",
      "source": [
        "## n+1-point formula"
      ]
    },
    {
      "metadata": {
        "id": "EabBBRXA1Ba-",
        "colab_type": "text"
      },
      "cell_type": "markdown",
      "source": [
        "A generalization of the previous formula is given by the (n+1)-point formula, where first-order derivatives are calculated using more than one point, what makes it a much better approximation for many problems. it is controled by the `order` option of the `derivative` function of `scipy.misc`\n",
        "\n",
        "**Theorem**\n",
        "\n",
        "For a function $f(x)$ such that $f(x)\\in C^{n+1}[a,b]$, the next expression is always satisfied\n",
        "\n",
        "$$f(x) = P(x) + \\frac{f^{(n+1)}(\\xi(x))}{(n+1)!}(x-x_0)(x-x_1)\\cdots(x-x_n)$$\n",
        "\n",
        "where $\\{x_i\\}_i$ is a set of point where the function is mapped, $\\xi(x)$ is some function of $x$ such that $\\xi\\in[a,b]$, and $P(x)$ is the associated Lagrange interpolant polynomial.\n",
        "\n",
        "As $n$ becomes higher, the approximation should be better as the error term becomes neglectable."
      ]
    },
    {
      "metadata": {
        "id": "PSgHXywE1Ba-",
        "colab_type": "text"
      },
      "cell_type": "markdown",
      "source": [
        " "
      ]
    },
    {
      "metadata": {
        "id": "lMl1p2Kt1Ba_",
        "colab_type": "text"
      },
      "cell_type": "markdown",
      "source": [
        "Taking the previous expression, and differenciating, we obtain\n",
        "\n",
        "$$f(x) = \\sum_{k=0}^n f(x_k)L_{n,k}(x) + \\frac{(x-x_0)(x-x_1)\\cdots(x-x_n)}{(n+1)!}f^{(n+1)}(\\xi(x))$$\n",
        "\n",
        "$$f'(x_j) = \\sum_{k=0}^n f(x_k)L'_{n,k}(x_j) + \\frac{f^{(n+1)}(\\xi(x_j))}{(n+1)!} \\prod_{k=0,k\\neq j}^{n}(x_j-x_k)$$\n",
        "\n",
        "where $L_{n,k}$ is the $k$-th Lagrange basis functions for $n$ points, $L'_{n,k}$ is its first derivative.\n",
        "\n",
        "Note that the last expressions is evaluated in $x_j$ rather than a general $x$ value, the cause of this is because this expression is not longer valid for another value not within the set $\\{x_i\\}_i$, however this is not an inconvenient when handling real applications.\n",
        "\n",
        "This formula constitutes the **(n+1)-point approximation** and it comprises a generalization of almost all the existing schemes to differentiate numerically. Next, we shall derive some very used formulas.\n",
        "\n",
        "For example, the form that takes this derivative polynomial for 3 points $(x_i,y_i)$ is the following\n",
        "\n",
        "$$f'(x_j) = f(x_0)\\left[ \\frac{2x_j-x_1-x_2}{(x_0-x_1)(x_0-x_2)}\\right] + \n",
        "f(x_1)\\left[ \\frac{2x_j-x_0-x_2}{(x_1-x_0)(x_1-x_2)}\\right] +\n",
        "f(x_2)\\left[ \\frac{2x_j-x_0-x_1}{(x_2-x_0)(x_2-x_1)}\\right] $$ \n",
        "$$\\hspace{2cm} + \\frac{1}{6} f^{(3)}(\\epsilon_j) \\prod_{k=0,k\\neq j}^{n}(x_j-x_k)$$"
      ]
    },
    {
      "metadata": {
        "id": "73Bfd3Bb1BbA",
        "colab_type": "text"
      },
      "cell_type": "markdown",
      "source": [
        "## Endpoint formulas"
      ]
    },
    {
      "metadata": {
        "id": "ravzokPL1BbA",
        "colab_type": "text"
      },
      "cell_type": "markdown",
      "source": [
        "Endpoint formulas are based on evaluating the derivative at the first of a set of points, i.e., if we want to evaluate $f'(x)$ at $x_i$, we then need $(x_i$, $x_{i+1}=x_i+h$, $x_{i+2}=x_i+2h$, $\\cdots)$. For the sake of simplicity, it is usually assumed that the set $\\{x_i\\}_i$ is equally spaced such that $x_k = x_0+k\\cdot h$.\n",
        "\n",
        "**Three-point Endpoint Formula**\n",
        "\n",
        "$$f'(x_i) = \\frac{1}{2h}[-3f(x_i)+4f(x_i+h)-f(x_i+2h)] + \\frac{h^2}{3}f^{(3)}(\\xi)$$\n",
        "\n",
        "with $\\xi\\in[x_i,x_i+2h]$\n",
        "\n",
        "**Five-point Endpoint Formula**\n",
        "\n",
        "$$f'(x_i) = \\frac{1}{12h}[-25f(x_i)+48f(x_i+h)-36f(x_i+2h)+16f(x_i+3h)-3f(x_i+4h)] + \\frac{h^4}{5}f^{(5)}(\\xi)$$\n",
        "\n",
        "with $\\xi\\in[x_i,x_i+4h]$\n",
        "\n",
        "\n",
        "Endpoint formulas are especially useful near to the end of a set of points, where no further points exist."
      ]
    },
    {
      "metadata": {
        "id": "xPu3StrM1BbB",
        "colab_type": "text"
      },
      "cell_type": "markdown",
      "source": [
        "## Midpoint formulas"
      ]
    },
    {
      "metadata": {
        "id": "X-aX0yP01BbB",
        "colab_type": "text"
      },
      "cell_type": "markdown",
      "source": [
        "On the other hand, Midpoint formulas are based on evaluating the derivative at the middle of a set of points, i.e., if we want to evaluate $f'(x)$ at $x_i$, we then need $(\\cdots$, $x_{i-2} = x_i - 2h$, $x_{i-1} = x_i - h$, $x_i$, $x_{i+1}=x_i+h$, $x_{i+2}=x_i+2h$, $\\cdots)$.\n",
        "\n",
        "**Three-point Midpoint Formula**\n",
        "\n",
        "$$f'(x_i) = \\frac{1}{2h}[f(x_i+h)-f(x_i-h)] + \\frac{h^2}{6}f^{(3)}(\\xi)$$\n",
        "\n",
        "with $\\xi\\in[x_i-h,x_i+h]$\n",
        "\n",
        "**Five-point Midpoint Formula**\n",
        "\n",
        "$$f'(x_i) = \\frac{1}{12h}[f(x_i-2h)-8f(x_i-h)+8f(x_i+h)-f(x_i+2h)] + \\frac{h^4}{30}f^{(5)}(\\xi)$$\n",
        "\n",
        "with $\\xi\\in[x_i-2h,x_i+2h]$\n",
        "\n",
        "\n",
        "As Midpoint formulas required one iteration less than Endpoint ones, they are more often used for numerical applications. Furthermore, the round-off error is smaller as well. However, near to the end of a set of points, they are no longer useful as no further points exists, and Endpoint formulas are preferable."
      ]
    },
    {
      "metadata": {
        "id": "ZyOV6qnu1BbC",
        "colab_type": "text"
      },
      "cell_type": "markdown",
      "source": [
        "### Example: Heat transfer in a 1D bar "
      ]
    },
    {
      "metadata": {
        "id": "mVKIAs3C1BbD",
        "colab_type": "text"
      },
      "cell_type": "markdown",
      "source": [
        "Fourier's Law of thermal conduction describes the diffusion of heat. Situations in which there are gradients of heat, a flux that tends to homogenise the temperature arises as a consequence of collisions of particles within a body. The Fourier's Law is giving by \n",
        "\n",
        "$$ q = -k\\nabla T = -k\\left( \\frac{dT}{dx}\\hat{i} + \\frac{dT}{dy}\\hat{j} + \\frac{dT}{dz}\\hat{k}\\right)$$\n",
        "\n",
        "where T is the temperature, $\\nabla T$ its gradient and k is the material's conductivity. In the next example it is shown the magnitud of the heat flux in a 1D bar(wire)."
      ]
    },
    {
      "metadata": {
        "id": "EbScQhDk1BbE",
        "colab_type": "code",
        "colab": {},
        "collapsed": true
      },
      "cell_type": "code",
      "source": [
        "def Temp(x):\n",
        "    return x**3 + 3*x-1"
      ],
      "execution_count": 0,
      "outputs": []
    },
    {
      "metadata": {
        "id": "aWcqS60O1BbI",
        "colab_type": "code",
        "colab": {},
        "collapsed": true
      },
      "cell_type": "code",
      "source": [
        "Xn = np.linspace(0,10,100)"
      ],
      "execution_count": 0,
      "outputs": []
    },
    {
      "metadata": {
        "id": "aWrKzI751BbK",
        "colab_type": "code",
        "colab": {},
        "outputId": "8db28f4a-cd32-4b31-e12e-ddb8618366b9"
      },
      "cell_type": "code",
      "source": [
        "#Temperature profile \n",
        "def Temp(x):\n",
        "    return x**3 + 3*x-1\n",
        "\n",
        "# Points where function is known\n",
        "Xn = np.linspace(0,10,100)\n",
        "\n",
        "plt.figure( figsize=(8,7) )\n",
        "plt.plot(Xn,derivate(Temp,Xn)*10)\n",
        "\n",
        "plt.grid()\n",
        "plt.xlabel( \"$x$\",fontsize =15 )\n",
        "plt.ylabel( r\"$\\frac{dT}{dx}$\",fontsize =20 )\n",
        "plt.title( \" Magnitud heat flux transfer in 1D bar\" )"
      ],
      "execution_count": 0,
      "outputs": [
        {
          "output_type": "execute_result",
          "data": {
            "text/plain": [
              "<matplotlib.text.Text at 0x7f87264417d0>"
            ]
          },
          "metadata": {
            "tags": []
          },
          "execution_count": 105
        },
        {
          "output_type": "display_data",
          "data": {
            "image/png": "[encoded data removed]",
            "text/plain": [
              "<matplotlib.figure.Figure at 0x7f872653db90>"
            ]
          },
          "metadata": {
            "tags": []
          }
        }
      ]
    },
    {
      "metadata": {
        "id": "8d2DDKhq1BbM",
        "colab_type": "text"
      },
      "cell_type": "markdown",
      "source": [
        "Custom implementation"
      ]
    },
    {
      "metadata": {
        "id": "gdXTYANs1BbN",
        "colab_type": "code",
        "colab": {},
        "outputId": "3337d176-776c-4829-b021-4f5668f2d690"
      },
      "cell_type": "code",
      "source": [
        "#Temperature profile \n",
        "def Temp(x):\n",
        "    return x**3 + 3*x-1\n",
        "\n",
        "#Derivative three end point \n",
        "\n",
        "def TEP( Yn,i, h=0.01,right=0 ):\n",
        "    suma = -3*Yn[i]+4*Yn[i+(-1)**right*1]-Yn[i+(-1)**right*2]\n",
        "    return suma/(2*h*(-1)**right)\n",
        "\n",
        "#Derivative mid point \n",
        "def TMP( Ynh,Ynmh, h = 0.01 ):    \n",
        "    return (Ynh-Ynmh)/(2*h)\n",
        "\n",
        "# Points where function is known\n",
        "Xn = np.linspace(0,10,100)\n",
        "Tn = Temp(Xn)\n",
        "#Magnitude of heat flux array\n",
        "Q = np.zeros(len(Xn))\n",
        "#Left end derivative\n",
        "Q[0] = TEP(Tn,0)\n",
        "\n",
        "#Mid point derivatives\n",
        "index = len(Xn)-1\n",
        "for i in xrange( 1,index ):    \n",
        "    Q[i] =  TMP( Tn[i+1],Tn[i-1] )\n",
        "\n",
        "#Right end derivative      \n",
        "Q[-1] = TEP( Tn,index,right=1 ) \n",
        "\n",
        "#Plotting \n",
        "plt.figure( figsize=(8,7) )\n",
        "plt.plot(Xn,Q)\n",
        "\n",
        "plt.grid()\n",
        "plt.xlabel( \"x\",fontsize =15 )\n",
        "plt.ylabel( \"$\\\\frac{dT}{dx}$\",fontsize =20 )\n",
        "plt.title( \" Magnitud heat flux transfer in 1D bar\" )"
      ],
      "execution_count": 0,
      "outputs": [
        {
          "output_type": "execute_result",
          "data": {
            "text/plain": [
              "<matplotlib.text.Text at 0x7f87263de3d0>"
            ]
          },
          "metadata": {
            "tags": []
          },
          "execution_count": 106
        },
        {
          "output_type": "display_data",
          "data": {
            "image/png": "[encoded data removed]",
            "text/plain": [
              "<matplotlib.figure.Figure at 0x7f87265b7b50>"
            ]
          },
          "metadata": {
            "tags": []
          }
        }
      ]
    },
    {
      "metadata": {
        "id": "HXUbjyh81BbP",
        "colab_type": "text"
      },
      "cell_type": "markdown",
      "source": [
        "## <font color='red'>     **Activity** </font>"
      ]
    },
    {
      "metadata": {
        "id": "0pH9meLR1BbP",
        "colab_type": "text"
      },
      "cell_type": "markdown",
      "source": [
        "Construct a density map of the magnitud of the heat flux of a 2D bar. Consider the temperature profile as \n",
        "$$ T(x,y) = x^3 + 3x-1+y^2  $$"
      ]
    },
    {
      "metadata": {
        "id": "c_zEkgJQ1BbQ",
        "colab_type": "text"
      },
      "cell_type": "markdown",
      "source": [
        "## <font color='red'>     **Activity** </font>"
      ]
    },
    {
      "metadata": {
        "id": "HJiuZo8E1BbR",
        "colab_type": "text"
      },
      "cell_type": "markdown",
      "source": [
        "<font color='red'>    \n",
        "The Poisson's equation relates the matter content of a body with the gravitational potential through the next equation\n",
        "</font>"
      ]
    },
    {
      "metadata": {
        "id": "_3nXo-Ri1BbS",
        "colab_type": "text"
      },
      "cell_type": "markdown",
      "source": [
        "<font color='red'>    \n",
        "$$\\nabla^2 \\phi = 4\\pi G \\rho$$\n",
        "</font>"
      ]
    },
    {
      "metadata": {
        "id": "046dRHN01BbS",
        "colab_type": "text"
      },
      "cell_type": "markdown",
      "source": [
        "<font color='red'>    \n",
        "$$\\frac{1}{r^2}\\frac{d}{dr}\\left(r^2\\frac{d\\phi}{dr}\\right)= 4\\pi G \\rho$$\n",
        "</font>"
      ]
    },
    {
      "metadata": {
        "id": "xFn_cAdR1BbS",
        "colab_type": "text"
      },
      "cell_type": "markdown",
      "source": [
        "<font color='red'>    \n",
        "where $\\phi$ is the potential, $\\rho$ the density and $G$ the gravitational constant.\n",
        "</font>"
      ]
    },
    {
      "metadata": {
        "id": "QtPqZYqG1BbU",
        "colab_type": "text"
      },
      "cell_type": "markdown",
      "source": [
        "<font color='red'>    \n",
        "Taking [these data](https://raw.githubusercontent.com/sbustamante/ComputationalMethods/master/data/M1.00-STRUC.dat) and using the three-point Midpoint formula, find the density field from the potential (seventh column in the file) and plot it against the radial coordinate. (**Tip:** Use $G=1$)\n",
        "\n",
        "</font>"
      ]
    },
    {
      "metadata": {
        "id": "uIC7_pDp1BbU",
        "colab_type": "text"
      },
      "cell_type": "markdown",
      "source": [
        "## <font color='red'>     **Activity** </font>"
      ]
    },
    {
      "metadata": {
        "id": "A8vjhE1G1BbU",
        "colab_type": "text"
      },
      "cell_type": "markdown",
      "source": [
        "The radar stations A and B, separated by the distance a = 500 m, track the plane\n",
        "C by recording the angles $\\alpha$ and $\\beta$ at 1-second intervals. The successive readings are \n",
        "\n",
        "<img src=\"https://github.com/restrepo/ComputationalMethods/blob/master/material/figures/table.png?raw=1\">\n"
      ]
    },
    {
      "metadata": {
        "id": "ksiCizBr1BbV",
        "colab_type": "text"
      },
      "cell_type": "markdown",
      "source": [
        "calculate the speed v using the 3 point approximantion at t = 10 ,12 and 14 s. Calculate the x component of the acceleration of the plane at = 12 s. The coordinates of the plane can be shown to be\n",
        "\n",
        "\\begin{equation}\n",
        "x = a\\frac{\\tan \\beta}{\\tan \\beta- \\tan \\alpha}\\\\\n",
        "y = a\\frac{\\tan \\alpha\\tan \\beta}{\\tan \\beta- \\tan \\alpha}\n",
        "\\end{equation}\n",
        "\n",
        "<img src=\"https://github.com/restrepo/ComputationalMethods/blob/master/material/figures/radar.png?raw=1\">\n"
      ]
    },
    {
      "metadata": {
        "id": "K57Qpz9W1BbW",
        "colab_type": "text"
      },
      "cell_type": "markdown",
      "source": [
        "- - -"
      ]
    },
    {
      "metadata": {
        "id": "MR7WLv5v1BbX",
        "colab_type": "text"
      },
      "cell_type": "markdown",
      "source": [
        "# [Numerical Integration](./numerical-calculus-integration.ipynb)  "
      ]
    }
  ]
}