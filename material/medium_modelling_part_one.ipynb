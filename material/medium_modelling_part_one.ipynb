{
 "cells": [
  {
   "cell_type": "markdown",
   "metadata": {
    "colab_type": "text",
    "id": "view-in-github"
   },
   "source": [
    "<a href=\"https://colab.research.google.com/github/restrepo/ComputationalMethods/blob/master/material/medium_modelling_part_one.ipynb\" target=\"_parent\"><img src=\"https://colab.research.google.com/assets/colab-badge.svg\" alt=\"Open In Colab\"/></a>"
   ]
  },
  {
   "cell_type": "markdown",
   "metadata": {
    "colab_type": "text",
    "id": "d-XgdFESIh0I"
   },
   "source": [
    "# SIR Model\n",
    "<a href=\"https://colab.research.google.com/github/restrepo/ComputationalMethods/blob/master/material/medium_modelling_part_one.ipynb\" target=\"_parent\"><img src=\"https://colab.research.google.com/assets/colab-badge.svg\" alt=\"Open In Colab\"/></a>\n",
    "\n",
    "From: https://github.com/hf2000510/infectious_disease_modelling/blob/master/part_one.ipynb\n",
    "\n",
    "LICENSE: https://github.com/hf2000510/infectious_disease_modelling/blob/master/LICENSE\n",
    "\n",
    "----\n",
    "##  Bibliography\n",
    "An introduction to mathematical epidemiology, M Martcheva - 2015 - Springer [[Google Scholar]](https://scholar.google.co.in/scholar_lookup?title=An+Introduction+to+Mathematical+Epidemiology&author=M+Martcheva) [[PDF]](https://drive.google.com/file/d/1gGEqrkxadA1_5-eqOZEMFl6bCS6qMKrk/view?usp=sharing)"
   ]
  },
  {
   "cell_type": "code",
   "execution_count": 1,
   "metadata": {
    "colab": {
     "base_uri": "https://localhost:8080/",
     "height": 35
    },
    "colab_type": "code",
    "id": "cUPFapW1XhAt",
    "outputId": "36caf75c-102e-4414-ebaf-88f361f98347"
   },
   "outputs": [],
   "source": [
    "from scipy.integrate import odeint\n",
    "import numpy as np\n",
    "import matplotlib.pyplot as plt\n",
    "%matplotlib inline \n",
    "#!pip install mpld3\n",
    "import mpld3\n",
    "mpld3.enable_notebook()"
   ]
  },
  {
   "cell_type": "markdown",
   "metadata": {
    "colab_type": "text",
    "id": "uLApLjoSGSey"
   },
   "source": [
    " # compartmental model. \n",
    " A compartmental model separates the population into several compartments, for example:\n",
    "* __S__usceptible (can still be infected, “healthy”)\n",
    "* __I__nfected\n",
    "* __R__ecovered (were already infected, cannot get infected again)\n",
    "\n",
    "We require the following parameters\n",
    "* $N$: total population\n",
    "* $S(t)$: number of people susceptible on day t\n",
    "* $I(t)$: number of people infected on day t\n",
    "* $R(t)$: number of people recovered on day t\n",
    "* $\\beta$: expected amount of people an infected person infects per day\n",
    "* $D$: number of days an infected person has and can spread the disease\n",
    "* $\\gamma=1/D$: <!--γ --> the proportion of infected recovering per day ( = 1/D)\n",
    "\n",
    "the basic reproduction number $R_0$, is the total number of people an infected person infects. We just used an intuitive formula: \n",
    "$$R_0 = \\beta \\cdot D\\,.$$\n",
    "\n",
    "Check $R_0$ for Colombia: https://github.com/restrepo/COVID-19/blob/master/covid.ipynb"
   ]
  },
  {
   "cell_type": "markdown",
   "metadata": {
    "colab_type": "text",
    "id": "BtihAiXAPWxx"
   },
   "source": [
    "See [Understanding the models that are used to model Coronavirus](https://towardsdatascience.com/infectious-disease-modelling-part-i-understanding-sir-28d60e29fdfc): Explaining the background and deriving the formulas of the SIR model from scratch. Coding and visualizing the model in Python.\n",
    "\n",
    "\\begin{align}\n",
    "\\frac{d S}{d t}=&-\\beta \\cdot I \\cdot \\frac{S}{N} \\\\\n",
    "\\frac{d I}{d t}=&\\beta \\cdot I \\cdot \\frac{S}{N}-\\gamma \\cdot I \\\\\n",
    "\\frac{d R}{d t}=&\\gamma \\cdot I\n",
    "\\end{align}"
   ]
  },
  {
   "cell_type": "code",
   "execution_count": 3,
   "metadata": {
    "colab": {},
    "colab_type": "code",
    "id": "vOpPgwCIVnOm"
   },
   "outputs": [],
   "source": [
    "def deriv(y, t, N=1000, β=1, γ=1/4):\n",
    "    S, I, R = y\n",
    "    dSdt = -β * S * I / N\n",
    "    dIdt = β * S * I / N - γ * I\n",
    "    dRdt = γ * I\n",
    "    return dSdt, dIdt, dRdt"
   ]
  },
  {
   "cell_type": "markdown",
   "metadata": {
    "colab_type": "text",
    "id": "6ToOhlipWfP2"
   },
   "source": [
    "\n"
   ]
  },
  {
   "cell_type": "markdown",
   "metadata": {
    "colab_type": "text",
    "id": "4--ggsOLILkc"
   },
   "source": [
    "We want start with an infected, $I_0=I(0)=1$ and a $R_0=R(0)=1.2$.\n",
    "Then, by using $D=4$ \n",
    "$$\\beta=R_0/D=0.3\\,.$$"
   ]
  },
  {
   "cell_type": "code",
   "execution_count": 4,
   "metadata": {
    "colab": {},
    "colab_type": "code",
    "id": "W2SeK18JVq8G"
   },
   "outputs": [],
   "source": [
    "N = 1000\n",
    "β = 0.32  # infected person infects 0.275 other person per day, such that R_0=1.2\n",
    "D = 4.0 # infections lasts four days\n",
    "γ = 1.0 / D\n",
    "\n",
    "S0, I0, R0 = 999, 1, 1.2  # initial conditions: one infected, rest susceptible"
   ]
  },
  {
   "cell_type": "code",
   "execution_count": 5,
   "metadata": {
    "colab": {},
    "colab_type": "code",
    "id": "7xFSx7CTXkgh"
   },
   "outputs": [],
   "source": [
    "t = np.linspace(0, 199, 200) # Grid of time points (in days)\n",
    "y0 = [S0, I0, R0] # Initial conditions vector\n",
    "\n",
    "# Integrate the SIR equations over the time grid, t.\n",
    "ret = odeint(deriv, y0, t, args=(N, β, γ))\n",
    "S, I, R = ret.T"
   ]
  },
  {
   "cell_type": "code",
   "execution_count": 6,
   "metadata": {
    "colab": {},
    "colab_type": "code",
    "id": "CYkwiAeaYGgr"
   },
   "outputs": [],
   "source": [
    "def plotsir(t, S, I, R,yscale='linear'):\n",
    "  f, ax = plt.subplots(1,1,figsize=(10,4))\n",
    "  ax.plot(t, S, 'b', alpha=0.7, linewidth=2, label='Susceptible')\n",
    "  ax.plot(t, I, 'y', alpha=0.7, linewidth=2, label='Infected')\n",
    "  ax.plot(t, R, 'g', alpha=0.7, linewidth=2, label='Recovered')\n",
    "  plt.yscale(yscale)\n",
    "  #plt.grid()\n",
    "  ax.set_xlabel('Time (days)')\n",
    "\n",
    "  ax.yaxis.set_tick_params(length=0)\n",
    "  ax.xaxis.set_tick_params(length=0)\n",
    "  #ax.grid(b=True, which='major', c='w', lw=2, ls='-')\n",
    "  legend = ax.legend()\n",
    "  legend.get_frame().set_alpha(0.5)\n",
    "  for spine in ('top', 'right', 'bottom', 'left'):\n",
    "      ax.spines[spine].set_visible(False)\n",
    "  plt.show();"
   ]
  },
  {
   "cell_type": "code",
   "execution_count": 7,
   "metadata": {
    "colab": {
     "base_uri": "https://localhost:8080/",
     "height": 308
    },
    "colab_type": "code",
    "id": "Std7-P7OYIF9",
    "outputId": "7b84dca6-a603-430c-cba9-ee87d875ce50"
   },
   "outputs": [
    {
     "data": {
      "image/png": "[encoded data removed]",
      "text/html": [
       "\n",
       "\n",
       "<style>\n",
       "\n",
       "</style>\n",
       "\n",
       "<div id=\"fig_el104651399210480272082116949758\"></div>\n",
       "<script>\n",
       "function mpld3_load_lib(url, callback){\n",
       "  var s = document.createElement('script');\n",
       "  s.src = url;\n",
       "  s.async = true;\n",
       "  s.onreadystatechange = s.onload = callback;\n",
       "  s.onerror = function(){console.warn(\"failed to load library \" + url);};\n",
       "  document.getElementsByTagName(\"head\")[0].appendChild(s);\n",
       "}\n",
       "\n",
       "if(typeof(mpld3) !== \"undefined\" && mpld3._mpld3IsLoaded){\n",
       "   // already loaded: just create the figure\n",
       "   !function(mpld3){\n",
       "       \n",
       "       mpld3.draw_figure(\"fig_el104651399210480272082116949758\", {\"width\": 720.0, \"height\": 288.0, \"axes\": [{\"bbox\": [0.125, 0.125, 0.775, 0.755], \"xlim\": [-9.950000000000001, 208.95], \"ylim\": [0.02126083529247698, 1667.4045116895302], \"xdomain\": [-9.950000000000001, 208.95], \"ydomain\": [0.02126083529247698, 1667.4045116895302], \"xscale\": \"linear\", \"yscale\": \"log\", \"axes\": [{\"position\": \"bottom\", \"nticks\": 11, \"tickvalues\": null, \"tickformat_formatter\": \"\", \"tickformat\": null, \"scale\": \"linear\", \"fontsize\": 10.0, \"grid\": {\"gridOn\": false}, \"visible\": true}, {\"position\": \"left\", \"nticks\": 9, \"tickvalues\": null, \"tickformat_formatter\": \"\", \"tickformat\": null, \"scale\": \"log\", \"fontsize\": 10.0, \"grid\": {\"gridOn\": false}, \"visible\": true}], \"axesbg\": \"#FFFFFF\", \"axesbgalpha\": null, \"zoomable\": true, \"id\": \"el10465139921048030680\", \"lines\": [{\"data\": \"data01\", \"xindex\": 0, \"yindex\": 1, \"coordinates\": \"data\", \"id\": \"el10465139921047817184\", \"color\": \"#0000FF\", \"linewidth\": 2.0, \"dasharray\": \"none\", \"alpha\": 0.7, \"zorder\": 2, \"drawstyle\": \"default\"}, {\"data\": \"data01\", \"xindex\": 0, \"yindex\": 2, \"coordinates\": \"data\", \"id\": \"el10465139921047817240\", \"color\": \"#BFBF00\", \"linewidth\": 2.0, \"dasharray\": \"none\", \"alpha\": 0.7, \"zorder\": 2, \"drawstyle\": \"default\"}, {\"data\": \"data01\", \"xindex\": 0, \"yindex\": 3, \"coordinates\": \"data\", \"id\": \"el10465139921047818024\", \"color\": \"#007F00\", \"linewidth\": 2.0, \"dasharray\": \"none\", \"alpha\": 0.7, \"zorder\": 2, \"drawstyle\": \"default\"}, {\"data\": \"data02\", \"xindex\": 0, \"yindex\": 1, \"coordinates\": \"axes\", \"id\": \"el10465139921047885920\", \"color\": \"#0000FF\", \"linewidth\": 2.0, \"dasharray\": \"none\", \"alpha\": 0.7, \"zorder\": 1000002.0, \"drawstyle\": \"default\"}, {\"data\": \"data02\", \"xindex\": 0, \"yindex\": 2, \"coordinates\": \"axes\", \"id\": \"el10465139921047887040\", \"color\": \"#BFBF00\", \"linewidth\": 2.0, \"dasharray\": \"none\", \"alpha\": 0.7, \"zorder\": 1000002.0, \"drawstyle\": \"default\"}, {\"data\": \"data02\", \"xindex\": 0, \"yindex\": 3, \"coordinates\": \"axes\", \"id\": \"el10465139921013928288\", \"color\": \"#007F00\", \"linewidth\": 2.0, \"dasharray\": \"none\", \"alpha\": 0.7, \"zorder\": 1000002.0, \"drawstyle\": \"default\"}], \"paths\": [{\"data\": \"data03\", \"xindex\": 0, \"yindex\": 1, \"coordinates\": \"axes\", \"pathcodes\": [\"M\", \"L\", \"S\", \"L\", \"S\", \"L\", \"S\", \"L\", \"S\", \"Z\"], \"id\": \"el10465139921047885080\", \"dasharray\": \"none\", \"alpha\": 0.5, \"facecolor\": \"rgba(255, 255, 255, 0.5)\", \"edgecolor\": \"rgba(204, 204, 204, 0.5)\", \"edgewidth\": 1.0, \"zorder\": 1000000.0}], \"markers\": [], \"texts\": [{\"text\": \"Time (days)\", \"position\": [0.5, -0.08048197203826342], \"coordinates\": \"axes\", \"h_anchor\": \"middle\", \"v_baseline\": \"hanging\", \"rotation\": -0.0, \"fontsize\": 10.0, \"color\": \"#000000\", \"alpha\": 1, \"zorder\": 3, \"id\": \"el10465139921048856616\"}, {\"text\": \"Susceptible\", \"position\": [0.06630824372759858, 0.18855776306107433], \"coordinates\": \"axes\", \"h_anchor\": \"start\", \"v_baseline\": \"auto\", \"rotation\": -0.0, \"fontsize\": 10.0, \"color\": \"#000000\", \"alpha\": 1, \"zorder\": 1000003.0, \"id\": \"el10465139921047885360\"}, {\"text\": \"Infected\", \"position\": [0.06630824372759858, 0.11957321559970566], \"coordinates\": \"axes\", \"h_anchor\": \"start\", \"v_baseline\": \"auto\", \"rotation\": -0.0, \"fontsize\": 10.0, \"color\": \"#000000\", \"alpha\": 1, \"zorder\": 1000003.0, \"id\": \"el10465139921047886536\"}, {\"text\": \"Recovered\", \"position\": [0.06630824372759858, 0.05058866813833701], \"coordinates\": \"axes\", \"h_anchor\": \"start\", \"v_baseline\": \"auto\", \"rotation\": -0.0, \"fontsize\": 10.0, \"color\": \"#000000\", \"alpha\": 1, \"zorder\": 1000003.0, \"id\": \"el10465139921047887656\"}], \"collections\": [], \"images\": [], \"sharex\": [], \"sharey\": []}], \"data\": {\"data01\": [[0.0, 999.0, 1.0, 1.2], [1.0, 998.6689798100174, 1.0721089005039406, 1.4589112894785747], [2.0, 998.314231384829, 1.1492914368665632, 1.736477178304483], [3.0, 997.93410640836, 1.231885652494009, 2.0340079391461363], [4.0, 997.5268500095395, 1.320249251432285, 2.352900739028214], [5.0, 997.0905948932299, 1.4147603243746891, 2.6946447823954833], [6.0, 996.6233556239022, 1.5158179890364119, 3.0608263870615287], [7.0, 996.1230226876914, 1.623842982812479, 3.4531343294961676], [8.0, 995.5873564907461, 1.739278174170192, 3.8733653350838324], [9.0, 995.0139813834026, 1.8625889569403205, 4.323429659657153], [10.0, 994.4003797075693, 1.9942635559537625, 4.805356736477131], [11.0, 993.7438859615223, 2.1348130980709747, 5.321300940406845], [12.0, 993.0416811483702, 2.2847715674679123, 5.873547284161984], [13.0, 992.2907873798256, 2.4446955155609826, 6.464517104613599], [14.0, 991.4880628530796, 2.6151635060453158, 7.096773640875249], [15.0, 990.6301973138055, 2.7967752514029818, 7.77302743479169], [16.0, 989.7137081051734, 2.9901504130460284, 8.496141481780747], [17.0, 988.7349369773362, 3.1959269932198415, 9.269136029444187], [18.0, 987.6900478444703, 3.4147592609838173, 10.095192894546075], [19.0, 986.5750256091436, 3.647315172694707, 10.977659218161838], [20.0, 985.385676159838, 3.8942732528231314, 11.92005058733912], [21.0, 984.1176282010882, 4.156318726931114, 12.926053071980878], [22.0, 982.7663364767516, 4.434139062891122, 13.999524460357557], [23.0, 981.3270871518915, 4.728418678085571, 15.14449417002304], [24.0, 979.7950055788795, 5.039832777292621, 16.365161643828003], [25.0, 978.1650663134776, 5.3690403635736805, 17.665893322948815], [26.0, 976.4321062754054, 5.716676199372998, 19.05121752522174], [27.0, 974.5908409579544, 6.083341788870827, 20.525817253174967], [28.0, 972.6358838802133, 6.4695953293527495, 22.094520790434093], [29.0, 970.5617701736858, 6.875940510672254, 23.762289315642068], [30.0, 968.3629838338531, 7.302814303247329, 25.534201862899685], [31.0, 966.0339892951919, 7.7505736286966, 27.415437076111644], [32.0, 963.5692677431599, 8.219481031164872, 29.411251225675322], [33.0, 960.9633576773778, 8.709689419315959, 31.526952903306416], [34.0, 958.2109004827553, 9.22122593964357, 33.76787357760128], [35.0, 955.3066907040002, 9.753975322867221, 36.13933397313258], [36.0, 952.2457308767628, 10.30766264415344, 38.64660647908383], [37.0, 949.0232910269963, 10.881836017240252, 41.29487295576344], [38.0, 945.6349720566085, 11.475849547169107, 44.089178396222415], [39.0, 942.0767731511138, 12.088846529652983, 47.03438031923322], [40.0, 938.3451618707186, 12.719744051495306, 50.13509407778605], [41.0, 934.4371465602197, 13.36721884805207, 53.39563459172811], [42.0, 930.3503505219262, 14.02969499466019, 56.81995448341366], [43.0, 926.0830852027095, 14.705334821613508, 60.41157997567696], [44.0, 921.6344232326505, 15.392032349680001, 64.17354441766952], [45.0, 917.0042686332832, 16.087410754943264, 68.10832061177354], [46.0, 912.1934215498306, 16.7888246219113, 72.21775382825808], [47.0, 907.2036389321071, 17.4933662979798, 76.50299476991314], [48.0, 902.0376861249381, 18.197878265148482, 80.96443560991332], [49.0, 896.6993788191896, 18.89897107361262, 85.60165010719773], [50.0, 891.1936155964427, 19.59304686480595, 90.41333753875138], [51.0, 885.5263954741154, 20.276329477294244, 95.39727504859034], [52.0, 879.7048228796351, 20.944899895934398, 100.55027722443036], [53.0, 873.7370975968385, 21.59473765551796, 105.86816474764352], [54.0, 867.6324871165028, 22.221767016992647, 111.34574586650444], [55.0, 861.4012845647336, 22.821907470285797, 116.97680796498051], [56.0, 855.0547488937675, 23.39112799681893, 122.75412310941351], [57.0, 848.6050294875947, 23.925502531972004, 128.66946798043332], [58.0, 842.0650757199456, 24.42126784693307, 134.71365643312134], [59.0, 835.4485329001946, 24.87487886332332, 140.87658823648218], [60.0, 828.7696259883178, 25.283064491491565, 147.1473095201907], [61.0, 822.0430334876439, 25.64287816631821, 153.51408834603797], [62.0, 815.283753908474, 25.951744427006922, 159.96450166451928], [63.0, 808.5069674389011, 26.20749939127529, 166.48553316982364], [64.0, 801.7278956464999, 26.408423746878277, 173.06368060662192], [65.0, 794.9616619864707, 26.553267916778594, 179.68507009675068], [66.0, 788.2231556245387, 26.641268467700478, 186.33557590776095], [67.0, 781.5269014806719, 26.67215538853332, 193.00094313079495], [68.0, 774.8869388386134, 26.646150222339372, 199.66691093904726], [69.0, 768.3167104425415, 26.563955349270525, 206.31933420818797], [70.0, 761.8289635196771, 26.426734850635686, 212.94430162968723], [71.0, 755.435664639137, 26.236087785036933, 219.52824757582604], [72.0, 749.1479277884289, 25.994014094847145, 226.05805811672394], [73.0, 742.9759593207073, 25.70287625707714, 232.52116442221558], [74.0, 736.9290155902464, 25.365354816896858, 238.90562959285668], [75.0, 731.0153763612641, 24.98440203358557, 245.2002216051503], [76.0, 725.2423314739681, 24.56319307020089, 251.39447545583104], [77.0, 719.6161807916845, 24.10507698844326, 257.47874221987223], [78.0, 714.1422458815608, 23.6135266302268, 263.4442274882124], [79.0, 708.8248926366263, 23.092092167607106, 269.28301519576667], [80.0, 703.6675628046344, 22.544355368839327, 274.98808182652624], [81.0, 698.6728135781275, 21.97388754188414, 280.5532988799884], [82.0, 693.8423636391784, 21.384211102470374, 285.9734252583512], [83.0, 689.1771440575967, 20.77876518294593, 291.2440907594574], [84.0, 684.677353029453, 20.16087555545518, 296.3617714150919], [85.0, 680.3425130327856, 19.533729035622546, 301.3237579315918], [86.0, 676.1715300611246, 18.9003522921225, 306.12811764675286], [87.0, 672.1627515646888, 18.26359522855445, 310.7736532067566], [88.0, 668.3140255634983, 17.626118242732854, 315.2598561937688], [89.0, 664.6227579315639, 16.990383630822283, 319.58685843761367], [90.0, 661.0859673627854, 16.358650368697454, 323.75538226851705], [91.0, 657.7003387050381, 15.732972227594724, 327.76668906736705], [92.0, 654.4622732652883, 15.115198816999834, 331.62252791771164], [93.0, 651.3679358776567, 14.506978825705431, 335.32508529663767], [94.0, 648.4132991508461, 13.90976559048748, 338.8769352586662], [95.0, 645.5941842069154, 13.324824386348514, 342.2809914067358], [96.0, 642.9062980128763, 12.753240843013868, 345.54046114410954], [97.0, 640.3452675283161, 12.195930670753654, 348.65880180093], [98.0, 637.9066704590637, 11.653650119332386, 351.63967942160366], [99.0, 635.5860628926014, 11.127006744753395, 354.4869303626448], [100.0, 633.379003905853, 10.616470661068929, 357.2045254330777], [101.0, 631.2810772175991, 10.12238583137647, 359.79653695102405], [102.0, 629.2879102326107, 9.644981134682835, 362.2671086327061], [103.0, 627.3951904884831, 9.18438135067902, 364.62042816083743], [104.0, 625.5986797100139, 8.740617768827578, 366.86070252115803], [105.0, 623.8942258235091, 8.313638288158963, 368.99213588833135], [106.0, 622.2777729023495, 7.903317107631828, 371.01890999001813], [107.0, 620.7453692835023, 7.509463843933606, 372.9451668725635], [108.0, 619.2931741849904, 7.131832033242292, 374.77499378176657], [109.0, 617.917462795126, 6.770127079678222, 376.5124101251952], [110.0, 616.6146298018534, 6.424013616008501, 378.1613565821375], [111.0, 615.3811924173384, 6.093122176093225, 379.72568540656783], [112.0, 614.213791616497, 5.777055385346181, 381.20915299815624], [113.0, 613.1091930189978, 5.475393524277158, 382.6154134567246], [114.0, 612.0642867489044, 5.1876995752054, 383.9480136758897], [115.0, 611.0760866082682, 4.913523711965036, 385.21038967976637], [116.0, 610.1417288841424, 4.652407369553518, 386.4058637463036], [117.0, 609.2584703137525, 4.403886761946976, 387.53764292430014], [118.0, 608.42368603518, 4.167496080019205, 388.6088178848004], [119.0, 607.6348668535694, 3.9427702023684374, 389.6223629440617], [120.0, 606.8896164348884, 3.729247096021402, 390.58113646908987], [121.0, 606.1856482507105, 3.5264698988803023, 391.4878818504088], [122.0, 605.520782153855, 3.333988585130436, 392.34522926101425], [123.0, 604.892941113044, 3.151361519848549, 393.155697367107], [124.0, 604.3001478838839, 2.978156740461629, 393.92169537565405], [125.0, 603.7405212068121, 2.8139528615826332, 394.64552593160494], [126.0, 603.2122722835338, 2.658339910135021, 395.32938780633083], [127.0, 602.7137013254128, 2.510919998695204, 395.97537867589165], [128.0, 602.2431938226151, 2.371307739939387, 396.58549843744504], [129.0, 601.799217212099, 2.239130653548893, 397.16165213435164], [130.0, 601.3803172716251, 2.114029331569378, 397.70565339680513], [131.0, 600.9851148251363, 1.9956575938354097, 398.21922758102795], [132.0, 600.6123023178812, 1.8836824708340203, 398.7040152112844], [133.0, 600.2606406353858, 1.777784176753474, 399.1615751878604], [134.0, 599.928955919064, 1.6776559639023763, 399.59338811703327], [135.0, 599.6161365357115, 1.583003963490993, 400.0008595007972], [136.0, 599.3211300774622, 1.4935469341663155, 400.38532298837123], [137.0, 599.0429405334895, 1.4090160142407866, 400.74804345226937], [138.0, 598.7806255144028, 1.3291544076274457, 401.09022007796943], [139.0, 598.5332936115407, 1.2537170692338948, 401.4129893192252], [140.0, 598.3001018412907, 1.1824703531812744, 401.71742780552773], [141.0, 598.0802532031429, 1.1151916566771867, 402.00455514017966], [142.0, 597.8729943349656, 1.0516690485439502, 402.2753366164902], [143.0, 597.67761326633, 0.9917008896683199, 402.53068584400137], [144.0, 597.4934372788134, 0.9350954562521409, 402.77146726493413], [145.0, 597.319830852254, 0.8816705524983416, 402.9984985952473], [146.0, 597.1561937171523, 0.8312531398529269, 403.2125531429945], [147.0, 597.001958981879, 0.7836789500472799, 403.4143620680734], [148.0, 596.8565913559006, 0.7387921148112043, 403.60461652928797], [149.0, 596.7195854678196, 0.6964448086986066, 403.7839697234815], [150.0, 596.5904642547561, 0.6564968900865173, 403.9530388551571], [151.0, 596.4687774261446, 0.6188155472393637, 404.11240702661587], [152.0, 596.3541000225981, 0.5832749719401019, 404.26262500546153], [153.0, 596.2460310217608, 0.5497560179195099, 404.40421296031946], [154.0, 596.1441920396659, 0.5181458937488629, 404.5376620665851], [155.0, 596.0482260831644, 0.48833785211769337, 404.66343606471776], [156.0, 595.9577963709071, 0.460230893513364, 404.7819727355794], [157.0, 595.8725852200271, 0.4337294842837719, 404.893685295689], [158.0, 595.7922929858024, 0.40874328128720877, 404.9989637329102], [159.0, 595.716637057629, 0.38518687059575896, 405.0981760717752], [160.0, 595.6453509097888, 0.362979515116711, 405.19166957509424], [161.0, 595.5781832047413, 0.34204491514982405, 405.2797718801087], [162.0, 595.5148969435196, 0.32231097862362756, 405.36279207785657], [163.0, 595.4552686599404, 0.30370960052501556, 405.44102173953434], [164.0, 595.3990876589845, 0.2861764537788237, 405.51473588723655], [165.0, 595.3461552979941, 0.26965078880288157, 405.58419391320285], [166.0, 595.2962843076753, 0.25407524421195754, 405.6496404481126], [167.0, 595.2492981479223, 0.23939566433315945, 405.7113061877443], [168.0, 595.2050303999326, 0.22556092623267324, 405.7694086738346], [169.0, 595.1633241956671, 0.2125227789562273, 405.8241530253766], [170.0, 595.1240316726339, 0.20023568437711486, 405.87573264298885], [171.0, 595.0870134627729, 0.18865667010625628, 405.92432986712066], [172.0, 595.0521382104524, 0.17774519089380336, 405.97011659865365], [173.0, 595.019282112334, 0.16746299285252794, 406.01325489481343], [174.0, 594.9883284902662, 0.15777398855701735, 406.0538975211767], [175.0, 594.9591673844288, 0.14864413742750252, 406.0921884781436], [176.0, 594.9316951651016, 0.14004133150891887, 406.1282635033894], [177.0, 594.9058141765404, 0.13193528861028606, 406.1622505348493], [178.0, 594.881432391594, 0.12429745031077324, 406.19427015809515], [179.0, 594.8584630877104, 0.1171008855413509, 406.2244360267482], [180.0, 594.8368245481115, 0.110320199903387, 406.25285525198507], [181.0, 594.8164397693821, 0.10393144891619194, 406.27962878170166], [182.0, 594.7972361921842, 0.09791205664410253, 406.3048517511718], [183.0, 594.7791454494013, 0.09224073906402269, 406.3286138115348], [184.0, 594.7621031198756, 0.08689743038375138, 406.3509994497407], [185.0, 594.7460485049407, 0.08186321472591737, 406.37208828033346], [186.0, 594.7309244143613, 0.07712026103353804, 406.39195532460525], [187.0, 594.7166769613192, 0.07265176103024104, 406.4106712776507], [188.0, 594.7032553772161, 0.0684418721228145, 406.4283027506612], [189.0, 594.6906118277882, 0.06447566166452263, 406.4449125105474], [190.0, 594.6787012410308, 0.060739054565331574, 406.460559704404], [191.0, 594.6674811542368, 0.05721878573314964, 406.4753000600302], [192.0, 594.6569115663864, 0.05390235446337131, 406.48918607915033], [193.0, 594.6469547861326, 0.05077797869530146, 406.5022672351722], [194.0, 594.6375753018802, 0.04783455464917149, 406.5145901434705], [195.0, 594.6287396632699, 0.045061619709730126, 406.52619871702035], [196.0, 594.6204163531092, 0.04244931363040878, 406.5371343332604], [197.0, 594.6125756759653, 0.03998834406184301, 406.5474359799729], [198.0, 594.6051896600358, 0.03766995572774171, 406.55714038423656], [199.0, 594.5982319533933, 0.03548589858755167, 406.56628214801907]], \"data02\": [[0.01612903225806453, 0.204654157468727, 0.13566961000735833, 0.0666850625459897], [0.051971326164874564, 0.204654157468727, 0.13566961000735833, 0.0666850625459897]], \"data03\": [[0.01254480286738352, 0.02299484915378955], [0.17338709677419353, 0.02299484915378955], [0.17697132616487457, 0.02299484915378955], [0.17697132616487457, 0.03219278881530538], [0.17697132616487457, 0.23454746136865343], [0.17697132616487457, 0.24374540103016926], [0.17338709677419353, 0.24374540103016926], [0.01254480286738352, 0.24374540103016926], [0.00896057347670251, 0.24374540103016926], [0.00896057347670251, 0.23454746136865343], [0.00896057347670251, 0.03219278881530538], [0.00896057347670251, 0.02299484915378955], [0.01254480286738352, 0.02299484915378955]]}, \"id\": \"el10465139921048027208\", \"plugins\": [{\"type\": \"reset\"}, {\"type\": \"zoom\", \"button\": true, \"enabled\": false}, {\"type\": \"boxzoom\", \"button\": true, \"enabled\": false}]});\n",
       "   }(mpld3);\n",
       "}else if(typeof define === \"function\" && define.amd){\n",
       "   // require.js is available: use it to load d3/mpld3\n",
       "   require.config({paths: {d3: \"https://d3js.org/d3.v5\"}});\n",
       "   require([\"d3\"], function(d3){\n",
       "      window.d3 = d3;\n",
       "      mpld3_load_lib(\"https://mpld3.github.io/js/mpld3.v0.5.1.js\", function(){\n",
       "         \n",
       "         mpld3.draw_figure(\"fig_el104651399210480272082116949758\", {\"width\": 720.0, \"height\": 288.0, \"axes\": [{\"bbox\": [0.125, 0.125, 0.775, 0.755], \"xlim\": [-9.950000000000001, 208.95], \"ylim\": [0.02126083529247698, 1667.4045116895302], \"xdomain\": [-9.950000000000001, 208.95], \"ydomain\": [0.02126083529247698, 1667.4045116895302], \"xscale\": \"linear\", \"yscale\": \"log\", \"axes\": [{\"position\": \"bottom\", \"nticks\": 11, \"tickvalues\": null, \"tickformat_formatter\": \"\", \"tickformat\": null, \"scale\": \"linear\", \"fontsize\": 10.0, \"grid\": {\"gridOn\": false}, \"visible\": true}, {\"position\": \"left\", \"nticks\": 9, \"tickvalues\": null, \"tickformat_formatter\": \"\", \"tickformat\": null, \"scale\": \"log\", \"fontsize\": 10.0, \"grid\": {\"gridOn\": false}, \"visible\": true}], \"axesbg\": \"#FFFFFF\", \"axesbgalpha\": null, \"zoomable\": true, \"id\": \"el10465139921048030680\", \"lines\": [{\"data\": \"data01\", \"xindex\": 0, \"yindex\": 1, \"coordinates\": \"data\", \"id\": \"el10465139921047817184\", \"color\": \"#0000FF\", \"linewidth\": 2.0, \"dasharray\": \"none\", \"alpha\": 0.7, \"zorder\": 2, \"drawstyle\": \"default\"}, {\"data\": \"data01\", \"xindex\": 0, \"yindex\": 2, \"coordinates\": \"data\", \"id\": \"el10465139921047817240\", \"color\": \"#BFBF00\", \"linewidth\": 2.0, \"dasharray\": \"none\", \"alpha\": 0.7, \"zorder\": 2, \"drawstyle\": \"default\"}, {\"data\": \"data01\", \"xindex\": 0, \"yindex\": 3, \"coordinates\": \"data\", \"id\": \"el10465139921047818024\", \"color\": \"#007F00\", \"linewidth\": 2.0, \"dasharray\": \"none\", \"alpha\": 0.7, \"zorder\": 2, \"drawstyle\": \"default\"}, {\"data\": \"data02\", \"xindex\": 0, \"yindex\": 1, \"coordinates\": \"axes\", \"id\": \"el10465139921047885920\", \"color\": \"#0000FF\", \"linewidth\": 2.0, \"dasharray\": \"none\", \"alpha\": 0.7, \"zorder\": 1000002.0, \"drawstyle\": \"default\"}, {\"data\": \"data02\", \"xindex\": 0, \"yindex\": 2, \"coordinates\": \"axes\", \"id\": \"el10465139921047887040\", \"color\": \"#BFBF00\", \"linewidth\": 2.0, \"dasharray\": \"none\", \"alpha\": 0.7, \"zorder\": 1000002.0, \"drawstyle\": \"default\"}, {\"data\": \"data02\", \"xindex\": 0, \"yindex\": 3, \"coordinates\": \"axes\", \"id\": \"el10465139921013928288\", \"color\": \"#007F00\", \"linewidth\": 2.0, \"dasharray\": \"none\", \"alpha\": 0.7, \"zorder\": 1000002.0, \"drawstyle\": \"default\"}], \"paths\": [{\"data\": \"data03\", \"xindex\": 0, \"yindex\": 1, \"coordinates\": \"axes\", \"pathcodes\": [\"M\", \"L\", \"S\", \"L\", \"S\", \"L\", \"S\", \"L\", \"S\", \"Z\"], \"id\": \"el10465139921047885080\", \"dasharray\": \"none\", \"alpha\": 0.5, \"facecolor\": \"rgba(255, 255, 255, 0.5)\", \"edgecolor\": \"rgba(204, 204, 204, 0.5)\", \"edgewidth\": 1.0, \"zorder\": 1000000.0}], \"markers\": [], \"texts\": [{\"text\": \"Time (days)\", \"position\": [0.5, -0.08048197203826342], \"coordinates\": \"axes\", \"h_anchor\": \"middle\", \"v_baseline\": \"hanging\", \"rotation\": -0.0, \"fontsize\": 10.0, \"color\": \"#000000\", \"alpha\": 1, \"zorder\": 3, \"id\": \"el10465139921048856616\"}, {\"text\": \"Susceptible\", \"position\": [0.06630824372759858, 0.18855776306107433], \"coordinates\": \"axes\", \"h_anchor\": \"start\", \"v_baseline\": \"auto\", \"rotation\": -0.0, \"fontsize\": 10.0, \"color\": \"#000000\", \"alpha\": 1, \"zorder\": 1000003.0, \"id\": \"el10465139921047885360\"}, {\"text\": \"Infected\", \"position\": [0.06630824372759858, 0.11957321559970566], \"coordinates\": \"axes\", \"h_anchor\": \"start\", \"v_baseline\": \"auto\", \"rotation\": -0.0, \"fontsize\": 10.0, \"color\": \"#000000\", \"alpha\": 1, \"zorder\": 1000003.0, \"id\": \"el10465139921047886536\"}, {\"text\": \"Recovered\", \"position\": [0.06630824372759858, 0.05058866813833701], \"coordinates\": \"axes\", \"h_anchor\": \"start\", \"v_baseline\": \"auto\", \"rotation\": -0.0, \"fontsize\": 10.0, \"color\": \"#000000\", \"alpha\": 1, \"zorder\": 1000003.0, \"id\": \"el10465139921047887656\"}], \"collections\": [], \"images\": [], \"sharex\": [], \"sharey\": []}], \"data\": {\"data01\": [[0.0, 999.0, 1.0, 1.2], [1.0, 998.6689798100174, 1.0721089005039406, 1.4589112894785747], [2.0, 998.314231384829, 1.1492914368665632, 1.736477178304483], [3.0, 997.93410640836, 1.231885652494009, 2.0340079391461363], [4.0, 997.5268500095395, 1.320249251432285, 2.352900739028214], [5.0, 997.0905948932299, 1.4147603243746891, 2.6946447823954833], [6.0, 996.6233556239022, 1.5158179890364119, 3.0608263870615287], [7.0, 996.1230226876914, 1.623842982812479, 3.4531343294961676], [8.0, 995.5873564907461, 1.739278174170192, 3.8733653350838324], [9.0, 995.0139813834026, 1.8625889569403205, 4.323429659657153], [10.0, 994.4003797075693, 1.9942635559537625, 4.805356736477131], [11.0, 993.7438859615223, 2.1348130980709747, 5.321300940406845], [12.0, 993.0416811483702, 2.2847715674679123, 5.873547284161984], [13.0, 992.2907873798256, 2.4446955155609826, 6.464517104613599], [14.0, 991.4880628530796, 2.6151635060453158, 7.096773640875249], [15.0, 990.6301973138055, 2.7967752514029818, 7.77302743479169], [16.0, 989.7137081051734, 2.9901504130460284, 8.496141481780747], [17.0, 988.7349369773362, 3.1959269932198415, 9.269136029444187], [18.0, 987.6900478444703, 3.4147592609838173, 10.095192894546075], [19.0, 986.5750256091436, 3.647315172694707, 10.977659218161838], [20.0, 985.385676159838, 3.8942732528231314, 11.92005058733912], [21.0, 984.1176282010882, 4.156318726931114, 12.926053071980878], [22.0, 982.7663364767516, 4.434139062891122, 13.999524460357557], [23.0, 981.3270871518915, 4.728418678085571, 15.14449417002304], [24.0, 979.7950055788795, 5.039832777292621, 16.365161643828003], [25.0, 978.1650663134776, 5.3690403635736805, 17.665893322948815], [26.0, 976.4321062754054, 5.716676199372998, 19.05121752522174], [27.0, 974.5908409579544, 6.083341788870827, 20.525817253174967], [28.0, 972.6358838802133, 6.4695953293527495, 22.094520790434093], [29.0, 970.5617701736858, 6.875940510672254, 23.762289315642068], [30.0, 968.3629838338531, 7.302814303247329, 25.534201862899685], [31.0, 966.0339892951919, 7.7505736286966, 27.415437076111644], [32.0, 963.5692677431599, 8.219481031164872, 29.411251225675322], [33.0, 960.9633576773778, 8.709689419315959, 31.526952903306416], [34.0, 958.2109004827553, 9.22122593964357, 33.76787357760128], [35.0, 955.3066907040002, 9.753975322867221, 36.13933397313258], [36.0, 952.2457308767628, 10.30766264415344, 38.64660647908383], [37.0, 949.0232910269963, 10.881836017240252, 41.29487295576344], [38.0, 945.6349720566085, 11.475849547169107, 44.089178396222415], [39.0, 942.0767731511138, 12.088846529652983, 47.03438031923322], [40.0, 938.3451618707186, 12.719744051495306, 50.13509407778605], [41.0, 934.4371465602197, 13.36721884805207, 53.39563459172811], [42.0, 930.3503505219262, 14.02969499466019, 56.81995448341366], [43.0, 926.0830852027095, 14.705334821613508, 60.41157997567696], [44.0, 921.6344232326505, 15.392032349680001, 64.17354441766952], [45.0, 917.0042686332832, 16.087410754943264, 68.10832061177354], [46.0, 912.1934215498306, 16.7888246219113, 72.21775382825808], [47.0, 907.2036389321071, 17.4933662979798, 76.50299476991314], [48.0, 902.0376861249381, 18.197878265148482, 80.96443560991332], [49.0, 896.6993788191896, 18.89897107361262, 85.60165010719773], [50.0, 891.1936155964427, 19.59304686480595, 90.41333753875138], [51.0, 885.5263954741154, 20.276329477294244, 95.39727504859034], [52.0, 879.7048228796351, 20.944899895934398, 100.55027722443036], [53.0, 873.7370975968385, 21.59473765551796, 105.86816474764352], [54.0, 867.6324871165028, 22.221767016992647, 111.34574586650444], [55.0, 861.4012845647336, 22.821907470285797, 116.97680796498051], [56.0, 855.0547488937675, 23.39112799681893, 122.75412310941351], [57.0, 848.6050294875947, 23.925502531972004, 128.66946798043332], [58.0, 842.0650757199456, 24.42126784693307, 134.71365643312134], [59.0, 835.4485329001946, 24.87487886332332, 140.87658823648218], [60.0, 828.7696259883178, 25.283064491491565, 147.1473095201907], [61.0, 822.0430334876439, 25.64287816631821, 153.51408834603797], [62.0, 815.283753908474, 25.951744427006922, 159.96450166451928], [63.0, 808.5069674389011, 26.20749939127529, 166.48553316982364], [64.0, 801.7278956464999, 26.408423746878277, 173.06368060662192], [65.0, 794.9616619864707, 26.553267916778594, 179.68507009675068], [66.0, 788.2231556245387, 26.641268467700478, 186.33557590776095], [67.0, 781.5269014806719, 26.67215538853332, 193.00094313079495], [68.0, 774.8869388386134, 26.646150222339372, 199.66691093904726], [69.0, 768.3167104425415, 26.563955349270525, 206.31933420818797], [70.0, 761.8289635196771, 26.426734850635686, 212.94430162968723], [71.0, 755.435664639137, 26.236087785036933, 219.52824757582604], [72.0, 749.1479277884289, 25.994014094847145, 226.05805811672394], [73.0, 742.9759593207073, 25.70287625707714, 232.52116442221558], [74.0, 736.9290155902464, 25.365354816896858, 238.90562959285668], [75.0, 731.0153763612641, 24.98440203358557, 245.2002216051503], [76.0, 725.2423314739681, 24.56319307020089, 251.39447545583104], [77.0, 719.6161807916845, 24.10507698844326, 257.47874221987223], [78.0, 714.1422458815608, 23.6135266302268, 263.4442274882124], [79.0, 708.8248926366263, 23.092092167607106, 269.28301519576667], [80.0, 703.6675628046344, 22.544355368839327, 274.98808182652624], [81.0, 698.6728135781275, 21.97388754188414, 280.5532988799884], [82.0, 693.8423636391784, 21.384211102470374, 285.9734252583512], [83.0, 689.1771440575967, 20.77876518294593, 291.2440907594574], [84.0, 684.677353029453, 20.16087555545518, 296.3617714150919], [85.0, 680.3425130327856, 19.533729035622546, 301.3237579315918], [86.0, 676.1715300611246, 18.9003522921225, 306.12811764675286], [87.0, 672.1627515646888, 18.26359522855445, 310.7736532067566], [88.0, 668.3140255634983, 17.626118242732854, 315.2598561937688], [89.0, 664.6227579315639, 16.990383630822283, 319.58685843761367], [90.0, 661.0859673627854, 16.358650368697454, 323.75538226851705], [91.0, 657.7003387050381, 15.732972227594724, 327.76668906736705], [92.0, 654.4622732652883, 15.115198816999834, 331.62252791771164], [93.0, 651.3679358776567, 14.506978825705431, 335.32508529663767], [94.0, 648.4132991508461, 13.90976559048748, 338.8769352586662], [95.0, 645.5941842069154, 13.324824386348514, 342.2809914067358], [96.0, 642.9062980128763, 12.753240843013868, 345.54046114410954], [97.0, 640.3452675283161, 12.195930670753654, 348.65880180093], [98.0, 637.9066704590637, 11.653650119332386, 351.63967942160366], [99.0, 635.5860628926014, 11.127006744753395, 354.4869303626448], [100.0, 633.379003905853, 10.616470661068929, 357.2045254330777], [101.0, 631.2810772175991, 10.12238583137647, 359.79653695102405], [102.0, 629.2879102326107, 9.644981134682835, 362.2671086327061], [103.0, 627.3951904884831, 9.18438135067902, 364.62042816083743], [104.0, 625.5986797100139, 8.740617768827578, 366.86070252115803], [105.0, 623.8942258235091, 8.313638288158963, 368.99213588833135], [106.0, 622.2777729023495, 7.903317107631828, 371.01890999001813], [107.0, 620.7453692835023, 7.509463843933606, 372.9451668725635], [108.0, 619.2931741849904, 7.131832033242292, 374.77499378176657], [109.0, 617.917462795126, 6.770127079678222, 376.5124101251952], [110.0, 616.6146298018534, 6.424013616008501, 378.1613565821375], [111.0, 615.3811924173384, 6.093122176093225, 379.72568540656783], [112.0, 614.213791616497, 5.777055385346181, 381.20915299815624], [113.0, 613.1091930189978, 5.475393524277158, 382.6154134567246], [114.0, 612.0642867489044, 5.1876995752054, 383.9480136758897], [115.0, 611.0760866082682, 4.913523711965036, 385.21038967976637], [116.0, 610.1417288841424, 4.652407369553518, 386.4058637463036], [117.0, 609.2584703137525, 4.403886761946976, 387.53764292430014], [118.0, 608.42368603518, 4.167496080019205, 388.6088178848004], [119.0, 607.6348668535694, 3.9427702023684374, 389.6223629440617], [120.0, 606.8896164348884, 3.729247096021402, 390.58113646908987], [121.0, 606.1856482507105, 3.5264698988803023, 391.4878818504088], [122.0, 605.520782153855, 3.333988585130436, 392.34522926101425], [123.0, 604.892941113044, 3.151361519848549, 393.155697367107], [124.0, 604.3001478838839, 2.978156740461629, 393.92169537565405], [125.0, 603.7405212068121, 2.8139528615826332, 394.64552593160494], [126.0, 603.2122722835338, 2.658339910135021, 395.32938780633083], [127.0, 602.7137013254128, 2.510919998695204, 395.97537867589165], [128.0, 602.2431938226151, 2.371307739939387, 396.58549843744504], [129.0, 601.799217212099, 2.239130653548893, 397.16165213435164], [130.0, 601.3803172716251, 2.114029331569378, 397.70565339680513], [131.0, 600.9851148251363, 1.9956575938354097, 398.21922758102795], [132.0, 600.6123023178812, 1.8836824708340203, 398.7040152112844], [133.0, 600.2606406353858, 1.777784176753474, 399.1615751878604], [134.0, 599.928955919064, 1.6776559639023763, 399.59338811703327], [135.0, 599.6161365357115, 1.583003963490993, 400.0008595007972], [136.0, 599.3211300774622, 1.4935469341663155, 400.38532298837123], [137.0, 599.0429405334895, 1.4090160142407866, 400.74804345226937], [138.0, 598.7806255144028, 1.3291544076274457, 401.09022007796943], [139.0, 598.5332936115407, 1.2537170692338948, 401.4129893192252], [140.0, 598.3001018412907, 1.1824703531812744, 401.71742780552773], [141.0, 598.0802532031429, 1.1151916566771867, 402.00455514017966], [142.0, 597.8729943349656, 1.0516690485439502, 402.2753366164902], [143.0, 597.67761326633, 0.9917008896683199, 402.53068584400137], [144.0, 597.4934372788134, 0.9350954562521409, 402.77146726493413], [145.0, 597.319830852254, 0.8816705524983416, 402.9984985952473], [146.0, 597.1561937171523, 0.8312531398529269, 403.2125531429945], [147.0, 597.001958981879, 0.7836789500472799, 403.4143620680734], [148.0, 596.8565913559006, 0.7387921148112043, 403.60461652928797], [149.0, 596.7195854678196, 0.6964448086986066, 403.7839697234815], [150.0, 596.5904642547561, 0.6564968900865173, 403.9530388551571], [151.0, 596.4687774261446, 0.6188155472393637, 404.11240702661587], [152.0, 596.3541000225981, 0.5832749719401019, 404.26262500546153], [153.0, 596.2460310217608, 0.5497560179195099, 404.40421296031946], [154.0, 596.1441920396659, 0.5181458937488629, 404.5376620665851], [155.0, 596.0482260831644, 0.48833785211769337, 404.66343606471776], [156.0, 595.9577963709071, 0.460230893513364, 404.7819727355794], [157.0, 595.8725852200271, 0.4337294842837719, 404.893685295689], [158.0, 595.7922929858024, 0.40874328128720877, 404.9989637329102], [159.0, 595.716637057629, 0.38518687059575896, 405.0981760717752], [160.0, 595.6453509097888, 0.362979515116711, 405.19166957509424], [161.0, 595.5781832047413, 0.34204491514982405, 405.2797718801087], [162.0, 595.5148969435196, 0.32231097862362756, 405.36279207785657], [163.0, 595.4552686599404, 0.30370960052501556, 405.44102173953434], [164.0, 595.3990876589845, 0.2861764537788237, 405.51473588723655], [165.0, 595.3461552979941, 0.26965078880288157, 405.58419391320285], [166.0, 595.2962843076753, 0.25407524421195754, 405.6496404481126], [167.0, 595.2492981479223, 0.23939566433315945, 405.7113061877443], [168.0, 595.2050303999326, 0.22556092623267324, 405.7694086738346], [169.0, 595.1633241956671, 0.2125227789562273, 405.8241530253766], [170.0, 595.1240316726339, 0.20023568437711486, 405.87573264298885], [171.0, 595.0870134627729, 0.18865667010625628, 405.92432986712066], [172.0, 595.0521382104524, 0.17774519089380336, 405.97011659865365], [173.0, 595.019282112334, 0.16746299285252794, 406.01325489481343], [174.0, 594.9883284902662, 0.15777398855701735, 406.0538975211767], [175.0, 594.9591673844288, 0.14864413742750252, 406.0921884781436], [176.0, 594.9316951651016, 0.14004133150891887, 406.1282635033894], [177.0, 594.9058141765404, 0.13193528861028606, 406.1622505348493], [178.0, 594.881432391594, 0.12429745031077324, 406.19427015809515], [179.0, 594.8584630877104, 0.1171008855413509, 406.2244360267482], [180.0, 594.8368245481115, 0.110320199903387, 406.25285525198507], [181.0, 594.8164397693821, 0.10393144891619194, 406.27962878170166], [182.0, 594.7972361921842, 0.09791205664410253, 406.3048517511718], [183.0, 594.7791454494013, 0.09224073906402269, 406.3286138115348], [184.0, 594.7621031198756, 0.08689743038375138, 406.3509994497407], [185.0, 594.7460485049407, 0.08186321472591737, 406.37208828033346], [186.0, 594.7309244143613, 0.07712026103353804, 406.39195532460525], [187.0, 594.7166769613192, 0.07265176103024104, 406.4106712776507], [188.0, 594.7032553772161, 0.0684418721228145, 406.4283027506612], [189.0, 594.6906118277882, 0.06447566166452263, 406.4449125105474], [190.0, 594.6787012410308, 0.060739054565331574, 406.460559704404], [191.0, 594.6674811542368, 0.05721878573314964, 406.4753000600302], [192.0, 594.6569115663864, 0.05390235446337131, 406.48918607915033], [193.0, 594.6469547861326, 0.05077797869530146, 406.5022672351722], [194.0, 594.6375753018802, 0.04783455464917149, 406.5145901434705], [195.0, 594.6287396632699, 0.045061619709730126, 406.52619871702035], [196.0, 594.6204163531092, 0.04244931363040878, 406.5371343332604], [197.0, 594.6125756759653, 0.03998834406184301, 406.5474359799729], [198.0, 594.6051896600358, 0.03766995572774171, 406.55714038423656], [199.0, 594.5982319533933, 0.03548589858755167, 406.56628214801907]], \"data02\": [[0.01612903225806453, 0.204654157468727, 0.13566961000735833, 0.0666850625459897], [0.051971326164874564, 0.204654157468727, 0.13566961000735833, 0.0666850625459897]], \"data03\": [[0.01254480286738352, 0.02299484915378955], [0.17338709677419353, 0.02299484915378955], [0.17697132616487457, 0.02299484915378955], [0.17697132616487457, 0.03219278881530538], [0.17697132616487457, 0.23454746136865343], [0.17697132616487457, 0.24374540103016926], [0.17338709677419353, 0.24374540103016926], [0.01254480286738352, 0.24374540103016926], [0.00896057347670251, 0.24374540103016926], [0.00896057347670251, 0.23454746136865343], [0.00896057347670251, 0.03219278881530538], [0.00896057347670251, 0.02299484915378955], [0.01254480286738352, 0.02299484915378955]]}, \"id\": \"el10465139921048027208\", \"plugins\": [{\"type\": \"reset\"}, {\"type\": \"zoom\", \"button\": true, \"enabled\": false}, {\"type\": \"boxzoom\", \"button\": true, \"enabled\": false}]});\n",
       "      });\n",
       "    });\n",
       "}else{\n",
       "    // require.js not available: dynamically load d3 & mpld3\n",
       "    mpld3_load_lib(\"https://d3js.org/d3.v5.js\", function(){\n",
       "         mpld3_load_lib(\"https://mpld3.github.io/js/mpld3.v0.5.1.js\", function(){\n",
       "                 \n",
       "                 mpld3.draw_figure(\"fig_el104651399210480272082116949758\", {\"width\": 720.0, \"height\": 288.0, \"axes\": [{\"bbox\": [0.125, 0.125, 0.775, 0.755], \"xlim\": [-9.950000000000001, 208.95], \"ylim\": [0.02126083529247698, 1667.4045116895302], \"xdomain\": [-9.950000000000001, 208.95], \"ydomain\": [0.02126083529247698, 1667.4045116895302], \"xscale\": \"linear\", \"yscale\": \"log\", \"axes\": [{\"position\": \"bottom\", \"nticks\": 11, \"tickvalues\": null, \"tickformat_formatter\": \"\", \"tickformat\": null, \"scale\": \"linear\", \"fontsize\": 10.0, \"grid\": {\"gridOn\": false}, \"visible\": true}, {\"position\": \"left\", \"nticks\": 9, \"tickvalues\": null, \"tickformat_formatter\": \"\", \"tickformat\": null, \"scale\": \"log\", \"fontsize\": 10.0, \"grid\": {\"gridOn\": false}, \"visible\": true}], \"axesbg\": \"#FFFFFF\", \"axesbgalpha\": null, \"zoomable\": true, \"id\": \"el10465139921048030680\", \"lines\": [{\"data\": \"data01\", \"xindex\": 0, \"yindex\": 1, \"coordinates\": \"data\", \"id\": \"el10465139921047817184\", \"color\": \"#0000FF\", \"linewidth\": 2.0, \"dasharray\": \"none\", \"alpha\": 0.7, \"zorder\": 2, \"drawstyle\": \"default\"}, {\"data\": \"data01\", \"xindex\": 0, \"yindex\": 2, \"coordinates\": \"data\", \"id\": \"el10465139921047817240\", \"color\": \"#BFBF00\", \"linewidth\": 2.0, \"dasharray\": \"none\", \"alpha\": 0.7, \"zorder\": 2, \"drawstyle\": \"default\"}, {\"data\": \"data01\", \"xindex\": 0, \"yindex\": 3, \"coordinates\": \"data\", \"id\": \"el10465139921047818024\", \"color\": \"#007F00\", \"linewidth\": 2.0, \"dasharray\": \"none\", \"alpha\": 0.7, \"zorder\": 2, \"drawstyle\": \"default\"}, {\"data\": \"data02\", \"xindex\": 0, \"yindex\": 1, \"coordinates\": \"axes\", \"id\": \"el10465139921047885920\", \"color\": \"#0000FF\", \"linewidth\": 2.0, \"dasharray\": \"none\", \"alpha\": 0.7, \"zorder\": 1000002.0, \"drawstyle\": \"default\"}, {\"data\": \"data02\", \"xindex\": 0, \"yindex\": 2, \"coordinates\": \"axes\", \"id\": \"el10465139921047887040\", \"color\": \"#BFBF00\", \"linewidth\": 2.0, \"dasharray\": \"none\", \"alpha\": 0.7, \"zorder\": 1000002.0, \"drawstyle\": \"default\"}, {\"data\": \"data02\", \"xindex\": 0, \"yindex\": 3, \"coordinates\": \"axes\", \"id\": \"el10465139921013928288\", \"color\": \"#007F00\", \"linewidth\": 2.0, \"dasharray\": \"none\", \"alpha\": 0.7, \"zorder\": 1000002.0, \"drawstyle\": \"default\"}], \"paths\": [{\"data\": \"data03\", \"xindex\": 0, \"yindex\": 1, \"coordinates\": \"axes\", \"pathcodes\": [\"M\", \"L\", \"S\", \"L\", \"S\", \"L\", \"S\", \"L\", \"S\", \"Z\"], \"id\": \"el10465139921047885080\", \"dasharray\": \"none\", \"alpha\": 0.5, \"facecolor\": \"rgba(255, 255, 255, 0.5)\", \"edgecolor\": \"rgba(204, 204, 204, 0.5)\", \"edgewidth\": 1.0, \"zorder\": 1000000.0}], \"markers\": [], \"texts\": [{\"text\": \"Time (days)\", \"position\": [0.5, -0.08048197203826342], \"coordinates\": \"axes\", \"h_anchor\": \"middle\", \"v_baseline\": \"hanging\", \"rotation\": -0.0, \"fontsize\": 10.0, \"color\": \"#000000\", \"alpha\": 1, \"zorder\": 3, \"id\": \"el10465139921048856616\"}, {\"text\": \"Susceptible\", \"position\": [0.06630824372759858, 0.18855776306107433], \"coordinates\": \"axes\", \"h_anchor\": \"start\", \"v_baseline\": \"auto\", \"rotation\": -0.0, \"fontsize\": 10.0, \"color\": \"#000000\", \"alpha\": 1, \"zorder\": 1000003.0, \"id\": \"el10465139921047885360\"}, {\"text\": \"Infected\", \"position\": [0.06630824372759858, 0.11957321559970566], \"coordinates\": \"axes\", \"h_anchor\": \"start\", \"v_baseline\": \"auto\", \"rotation\": -0.0, \"fontsize\": 10.0, \"color\": \"#000000\", \"alpha\": 1, \"zorder\": 1000003.0, \"id\": \"el10465139921047886536\"}, {\"text\": \"Recovered\", \"position\": [0.06630824372759858, 0.05058866813833701], \"coordinates\": \"axes\", \"h_anchor\": \"start\", \"v_baseline\": \"auto\", \"rotation\": -0.0, \"fontsize\": 10.0, \"color\": \"#000000\", \"alpha\": 1, \"zorder\": 1000003.0, \"id\": \"el10465139921047887656\"}], \"collections\": [], \"images\": [], \"sharex\": [], \"sharey\": []}], \"data\": {\"data01\": [[0.0, 999.0, 1.0, 1.2], [1.0, 998.6689798100174, 1.0721089005039406, 1.4589112894785747], [2.0, 998.314231384829, 1.1492914368665632, 1.736477178304483], [3.0, 997.93410640836, 1.231885652494009, 2.0340079391461363], [4.0, 997.5268500095395, 1.320249251432285, 2.352900739028214], [5.0, 997.0905948932299, 1.4147603243746891, 2.6946447823954833], [6.0, 996.6233556239022, 1.5158179890364119, 3.0608263870615287], [7.0, 996.1230226876914, 1.623842982812479, 3.4531343294961676], [8.0, 995.5873564907461, 1.739278174170192, 3.8733653350838324], [9.0, 995.0139813834026, 1.8625889569403205, 4.323429659657153], [10.0, 994.4003797075693, 1.9942635559537625, 4.805356736477131], [11.0, 993.7438859615223, 2.1348130980709747, 5.321300940406845], [12.0, 993.0416811483702, 2.2847715674679123, 5.873547284161984], [13.0, 992.2907873798256, 2.4446955155609826, 6.464517104613599], [14.0, 991.4880628530796, 2.6151635060453158, 7.096773640875249], [15.0, 990.6301973138055, 2.7967752514029818, 7.77302743479169], [16.0, 989.7137081051734, 2.9901504130460284, 8.496141481780747], [17.0, 988.7349369773362, 3.1959269932198415, 9.269136029444187], [18.0, 987.6900478444703, 3.4147592609838173, 10.095192894546075], [19.0, 986.5750256091436, 3.647315172694707, 10.977659218161838], [20.0, 985.385676159838, 3.8942732528231314, 11.92005058733912], [21.0, 984.1176282010882, 4.156318726931114, 12.926053071980878], [22.0, 982.7663364767516, 4.434139062891122, 13.999524460357557], [23.0, 981.3270871518915, 4.728418678085571, 15.14449417002304], [24.0, 979.7950055788795, 5.039832777292621, 16.365161643828003], [25.0, 978.1650663134776, 5.3690403635736805, 17.665893322948815], [26.0, 976.4321062754054, 5.716676199372998, 19.05121752522174], [27.0, 974.5908409579544, 6.083341788870827, 20.525817253174967], [28.0, 972.6358838802133, 6.4695953293527495, 22.094520790434093], [29.0, 970.5617701736858, 6.875940510672254, 23.762289315642068], [30.0, 968.3629838338531, 7.302814303247329, 25.534201862899685], [31.0, 966.0339892951919, 7.7505736286966, 27.415437076111644], [32.0, 963.5692677431599, 8.219481031164872, 29.411251225675322], [33.0, 960.9633576773778, 8.709689419315959, 31.526952903306416], [34.0, 958.2109004827553, 9.22122593964357, 33.76787357760128], [35.0, 955.3066907040002, 9.753975322867221, 36.13933397313258], [36.0, 952.2457308767628, 10.30766264415344, 38.64660647908383], [37.0, 949.0232910269963, 10.881836017240252, 41.29487295576344], [38.0, 945.6349720566085, 11.475849547169107, 44.089178396222415], [39.0, 942.0767731511138, 12.088846529652983, 47.03438031923322], [40.0, 938.3451618707186, 12.719744051495306, 50.13509407778605], [41.0, 934.4371465602197, 13.36721884805207, 53.39563459172811], [42.0, 930.3503505219262, 14.02969499466019, 56.81995448341366], [43.0, 926.0830852027095, 14.705334821613508, 60.41157997567696], [44.0, 921.6344232326505, 15.392032349680001, 64.17354441766952], [45.0, 917.0042686332832, 16.087410754943264, 68.10832061177354], [46.0, 912.1934215498306, 16.7888246219113, 72.21775382825808], [47.0, 907.2036389321071, 17.4933662979798, 76.50299476991314], [48.0, 902.0376861249381, 18.197878265148482, 80.96443560991332], [49.0, 896.6993788191896, 18.89897107361262, 85.60165010719773], [50.0, 891.1936155964427, 19.59304686480595, 90.41333753875138], [51.0, 885.5263954741154, 20.276329477294244, 95.39727504859034], [52.0, 879.7048228796351, 20.944899895934398, 100.55027722443036], [53.0, 873.7370975968385, 21.59473765551796, 105.86816474764352], [54.0, 867.6324871165028, 22.221767016992647, 111.34574586650444], [55.0, 861.4012845647336, 22.821907470285797, 116.97680796498051], [56.0, 855.0547488937675, 23.39112799681893, 122.75412310941351], [57.0, 848.6050294875947, 23.925502531972004, 128.66946798043332], [58.0, 842.0650757199456, 24.42126784693307, 134.71365643312134], [59.0, 835.4485329001946, 24.87487886332332, 140.87658823648218], [60.0, 828.7696259883178, 25.283064491491565, 147.1473095201907], [61.0, 822.0430334876439, 25.64287816631821, 153.51408834603797], [62.0, 815.283753908474, 25.951744427006922, 159.96450166451928], [63.0, 808.5069674389011, 26.20749939127529, 166.48553316982364], [64.0, 801.7278956464999, 26.408423746878277, 173.06368060662192], [65.0, 794.9616619864707, 26.553267916778594, 179.68507009675068], [66.0, 788.2231556245387, 26.641268467700478, 186.33557590776095], [67.0, 781.5269014806719, 26.67215538853332, 193.00094313079495], [68.0, 774.8869388386134, 26.646150222339372, 199.66691093904726], [69.0, 768.3167104425415, 26.563955349270525, 206.31933420818797], [70.0, 761.8289635196771, 26.426734850635686, 212.94430162968723], [71.0, 755.435664639137, 26.236087785036933, 219.52824757582604], [72.0, 749.1479277884289, 25.994014094847145, 226.05805811672394], [73.0, 742.9759593207073, 25.70287625707714, 232.52116442221558], [74.0, 736.9290155902464, 25.365354816896858, 238.90562959285668], [75.0, 731.0153763612641, 24.98440203358557, 245.2002216051503], [76.0, 725.2423314739681, 24.56319307020089, 251.39447545583104], [77.0, 719.6161807916845, 24.10507698844326, 257.47874221987223], [78.0, 714.1422458815608, 23.6135266302268, 263.4442274882124], [79.0, 708.8248926366263, 23.092092167607106, 269.28301519576667], [80.0, 703.6675628046344, 22.544355368839327, 274.98808182652624], [81.0, 698.6728135781275, 21.97388754188414, 280.5532988799884], [82.0, 693.8423636391784, 21.384211102470374, 285.9734252583512], [83.0, 689.1771440575967, 20.77876518294593, 291.2440907594574], [84.0, 684.677353029453, 20.16087555545518, 296.3617714150919], [85.0, 680.3425130327856, 19.533729035622546, 301.3237579315918], [86.0, 676.1715300611246, 18.9003522921225, 306.12811764675286], [87.0, 672.1627515646888, 18.26359522855445, 310.7736532067566], [88.0, 668.3140255634983, 17.626118242732854, 315.2598561937688], [89.0, 664.6227579315639, 16.990383630822283, 319.58685843761367], [90.0, 661.0859673627854, 16.358650368697454, 323.75538226851705], [91.0, 657.7003387050381, 15.732972227594724, 327.76668906736705], [92.0, 654.4622732652883, 15.115198816999834, 331.62252791771164], [93.0, 651.3679358776567, 14.506978825705431, 335.32508529663767], [94.0, 648.4132991508461, 13.90976559048748, 338.8769352586662], [95.0, 645.5941842069154, 13.324824386348514, 342.2809914067358], [96.0, 642.9062980128763, 12.753240843013868, 345.54046114410954], [97.0, 640.3452675283161, 12.195930670753654, 348.65880180093], [98.0, 637.9066704590637, 11.653650119332386, 351.63967942160366], [99.0, 635.5860628926014, 11.127006744753395, 354.4869303626448], [100.0, 633.379003905853, 10.616470661068929, 357.2045254330777], [101.0, 631.2810772175991, 10.12238583137647, 359.79653695102405], [102.0, 629.2879102326107, 9.644981134682835, 362.2671086327061], [103.0, 627.3951904884831, 9.18438135067902, 364.62042816083743], [104.0, 625.5986797100139, 8.740617768827578, 366.86070252115803], [105.0, 623.8942258235091, 8.313638288158963, 368.99213588833135], [106.0, 622.2777729023495, 7.903317107631828, 371.01890999001813], [107.0, 620.7453692835023, 7.509463843933606, 372.9451668725635], [108.0, 619.2931741849904, 7.131832033242292, 374.77499378176657], [109.0, 617.917462795126, 6.770127079678222, 376.5124101251952], [110.0, 616.6146298018534, 6.424013616008501, 378.1613565821375], [111.0, 615.3811924173384, 6.093122176093225, 379.72568540656783], [112.0, 614.213791616497, 5.777055385346181, 381.20915299815624], [113.0, 613.1091930189978, 5.475393524277158, 382.6154134567246], [114.0, 612.0642867489044, 5.1876995752054, 383.9480136758897], [115.0, 611.0760866082682, 4.913523711965036, 385.21038967976637], [116.0, 610.1417288841424, 4.652407369553518, 386.4058637463036], [117.0, 609.2584703137525, 4.403886761946976, 387.53764292430014], [118.0, 608.42368603518, 4.167496080019205, 388.6088178848004], [119.0, 607.6348668535694, 3.9427702023684374, 389.6223629440617], [120.0, 606.8896164348884, 3.729247096021402, 390.58113646908987], [121.0, 606.1856482507105, 3.5264698988803023, 391.4878818504088], [122.0, 605.520782153855, 3.333988585130436, 392.34522926101425], [123.0, 604.892941113044, 3.151361519848549, 393.155697367107], [124.0, 604.3001478838839, 2.978156740461629, 393.92169537565405], [125.0, 603.7405212068121, 2.8139528615826332, 394.64552593160494], [126.0, 603.2122722835338, 2.658339910135021, 395.32938780633083], [127.0, 602.7137013254128, 2.510919998695204, 395.97537867589165], [128.0, 602.2431938226151, 2.371307739939387, 396.58549843744504], [129.0, 601.799217212099, 2.239130653548893, 397.16165213435164], [130.0, 601.3803172716251, 2.114029331569378, 397.70565339680513], [131.0, 600.9851148251363, 1.9956575938354097, 398.21922758102795], [132.0, 600.6123023178812, 1.8836824708340203, 398.7040152112844], [133.0, 600.2606406353858, 1.777784176753474, 399.1615751878604], [134.0, 599.928955919064, 1.6776559639023763, 399.59338811703327], [135.0, 599.6161365357115, 1.583003963490993, 400.0008595007972], [136.0, 599.3211300774622, 1.4935469341663155, 400.38532298837123], [137.0, 599.0429405334895, 1.4090160142407866, 400.74804345226937], [138.0, 598.7806255144028, 1.3291544076274457, 401.09022007796943], [139.0, 598.5332936115407, 1.2537170692338948, 401.4129893192252], [140.0, 598.3001018412907, 1.1824703531812744, 401.71742780552773], [141.0, 598.0802532031429, 1.1151916566771867, 402.00455514017966], [142.0, 597.8729943349656, 1.0516690485439502, 402.2753366164902], [143.0, 597.67761326633, 0.9917008896683199, 402.53068584400137], [144.0, 597.4934372788134, 0.9350954562521409, 402.77146726493413], [145.0, 597.319830852254, 0.8816705524983416, 402.9984985952473], [146.0, 597.1561937171523, 0.8312531398529269, 403.2125531429945], [147.0, 597.001958981879, 0.7836789500472799, 403.4143620680734], [148.0, 596.8565913559006, 0.7387921148112043, 403.60461652928797], [149.0, 596.7195854678196, 0.6964448086986066, 403.7839697234815], [150.0, 596.5904642547561, 0.6564968900865173, 403.9530388551571], [151.0, 596.4687774261446, 0.6188155472393637, 404.11240702661587], [152.0, 596.3541000225981, 0.5832749719401019, 404.26262500546153], [153.0, 596.2460310217608, 0.5497560179195099, 404.40421296031946], [154.0, 596.1441920396659, 0.5181458937488629, 404.5376620665851], [155.0, 596.0482260831644, 0.48833785211769337, 404.66343606471776], [156.0, 595.9577963709071, 0.460230893513364, 404.7819727355794], [157.0, 595.8725852200271, 0.4337294842837719, 404.893685295689], [158.0, 595.7922929858024, 0.40874328128720877, 404.9989637329102], [159.0, 595.716637057629, 0.38518687059575896, 405.0981760717752], [160.0, 595.6453509097888, 0.362979515116711, 405.19166957509424], [161.0, 595.5781832047413, 0.34204491514982405, 405.2797718801087], [162.0, 595.5148969435196, 0.32231097862362756, 405.36279207785657], [163.0, 595.4552686599404, 0.30370960052501556, 405.44102173953434], [164.0, 595.3990876589845, 0.2861764537788237, 405.51473588723655], [165.0, 595.3461552979941, 0.26965078880288157, 405.58419391320285], [166.0, 595.2962843076753, 0.25407524421195754, 405.6496404481126], [167.0, 595.2492981479223, 0.23939566433315945, 405.7113061877443], [168.0, 595.2050303999326, 0.22556092623267324, 405.7694086738346], [169.0, 595.1633241956671, 0.2125227789562273, 405.8241530253766], [170.0, 595.1240316726339, 0.20023568437711486, 405.87573264298885], [171.0, 595.0870134627729, 0.18865667010625628, 405.92432986712066], [172.0, 595.0521382104524, 0.17774519089380336, 405.97011659865365], [173.0, 595.019282112334, 0.16746299285252794, 406.01325489481343], [174.0, 594.9883284902662, 0.15777398855701735, 406.0538975211767], [175.0, 594.9591673844288, 0.14864413742750252, 406.0921884781436], [176.0, 594.9316951651016, 0.14004133150891887, 406.1282635033894], [177.0, 594.9058141765404, 0.13193528861028606, 406.1622505348493], [178.0, 594.881432391594, 0.12429745031077324, 406.19427015809515], [179.0, 594.8584630877104, 0.1171008855413509, 406.2244360267482], [180.0, 594.8368245481115, 0.110320199903387, 406.25285525198507], [181.0, 594.8164397693821, 0.10393144891619194, 406.27962878170166], [182.0, 594.7972361921842, 0.09791205664410253, 406.3048517511718], [183.0, 594.7791454494013, 0.09224073906402269, 406.3286138115348], [184.0, 594.7621031198756, 0.08689743038375138, 406.3509994497407], [185.0, 594.7460485049407, 0.08186321472591737, 406.37208828033346], [186.0, 594.7309244143613, 0.07712026103353804, 406.39195532460525], [187.0, 594.7166769613192, 0.07265176103024104, 406.4106712776507], [188.0, 594.7032553772161, 0.0684418721228145, 406.4283027506612], [189.0, 594.6906118277882, 0.06447566166452263, 406.4449125105474], [190.0, 594.6787012410308, 0.060739054565331574, 406.460559704404], [191.0, 594.6674811542368, 0.05721878573314964, 406.4753000600302], [192.0, 594.6569115663864, 0.05390235446337131, 406.48918607915033], [193.0, 594.6469547861326, 0.05077797869530146, 406.5022672351722], [194.0, 594.6375753018802, 0.04783455464917149, 406.5145901434705], [195.0, 594.6287396632699, 0.045061619709730126, 406.52619871702035], [196.0, 594.6204163531092, 0.04244931363040878, 406.5371343332604], [197.0, 594.6125756759653, 0.03998834406184301, 406.5474359799729], [198.0, 594.6051896600358, 0.03766995572774171, 406.55714038423656], [199.0, 594.5982319533933, 0.03548589858755167, 406.56628214801907]], \"data02\": [[0.01612903225806453, 0.204654157468727, 0.13566961000735833, 0.0666850625459897], [0.051971326164874564, 0.204654157468727, 0.13566961000735833, 0.0666850625459897]], \"data03\": [[0.01254480286738352, 0.02299484915378955], [0.17338709677419353, 0.02299484915378955], [0.17697132616487457, 0.02299484915378955], [0.17697132616487457, 0.03219278881530538], [0.17697132616487457, 0.23454746136865343], [0.17697132616487457, 0.24374540103016926], [0.17338709677419353, 0.24374540103016926], [0.01254480286738352, 0.24374540103016926], [0.00896057347670251, 0.24374540103016926], [0.00896057347670251, 0.23454746136865343], [0.00896057347670251, 0.03219278881530538], [0.00896057347670251, 0.02299484915378955], [0.01254480286738352, 0.02299484915378955]]}, \"id\": \"el10465139921048027208\", \"plugins\": [{\"type\": \"reset\"}, {\"type\": \"zoom\", \"button\": true, \"enabled\": false}, {\"type\": \"boxzoom\", \"button\": true, \"enabled\": false}]});\n",
       "            })\n",
       "         });\n",
       "}\n",
       "</script>"
      ],
      "text/plain": [
       "<Figure size 720x288 with 1 Axes>"
      ]
     },
     "metadata": {
      "needs_background": "light"
     },
     "output_type": "display_data"
    }
   ],
   "source": [
    "plotsir(t, S, I, R,yscale='log')"
   ]
  },
  {
   "cell_type": "markdown",
   "metadata": {
    "colab_type": "text",
    "id": "8gJOP8EOTVm4"
   },
   "source": [
    "Scaling:"
   ]
  },
  {
   "cell_type": "code",
   "execution_count": 40,
   "metadata": {
    "colab": {
     "base_uri": "https://localhost:8080/",
     "height": 35
    },
    "colab_type": "code",
    "id": "pz8DAWjYbRZk",
    "outputId": "a45dd1be-58a5-4667-ed81-850f5c373d96"
   },
   "outputs": [
    {
     "data": {
      "text/plain": [
       "50000.0"
      ]
     },
     "execution_count": 40,
     "metadata": {},
     "output_type": "execute_result"
    }
   ],
   "source": [
    "Nreal=50E6\n",
    "sc=Nreal/N\n",
    "sc"
   ]
  },
  {
   "cell_type": "code",
   "execution_count": 41,
   "metadata": {
    "colab": {
     "base_uri": "https://localhost:8080/",
     "height": 35
    },
    "colab_type": "code",
    "id": "VRZ5sdhvTuxU",
    "outputId": "e66144f1-418a-4d3e-8a64-6a60a6630b7d"
   },
   "outputs": [
    {
     "data": {
      "text/plain": [
       "'Nmax=900000'"
      ]
     },
     "execution_count": 41,
     "metadata": {},
     "output_type": "execute_result"
    }
   ],
   "source": [
    "'N0={:g}'.format(I0*sc)\n",
    "'Nmax={:g}'.format(18*sc)"
   ]
  },
  {
   "cell_type": "code",
   "execution_count": 42,
   "metadata": {},
   "outputs": [
    {
     "data": {
      "text/plain": [
       "array([999.        , 998.66897981, 998.31423138, 997.93410641,\n",
       "       997.52685001, 997.09059489, 996.62335562, 996.12302269,\n",
       "       995.58735649, 995.01398138, 994.40037971, 993.74388596,\n",
       "       993.04168115, 992.29078738, 991.48806285, 990.63019731,\n",
       "       989.71370811, 988.73493698, 987.69004784, 986.57502561,\n",
       "       985.38567616, 984.1176282 , 982.76633648, 981.32708715,\n",
       "       979.79500558, 978.16506631, 976.43210628, 974.59084096,\n",
       "       972.63588388, 970.56177017, 968.36298383, 966.0339893 ,\n",
       "       963.56926774, 960.96335768, 958.21090048, 955.3066907 ,\n",
       "       952.24573088, 949.02329103, 945.63497206, 942.07677315,\n",
       "       938.34516187, 934.43714656, 930.35035052, 926.0830852 ,\n",
       "       921.63442323, 917.00426863, 912.19342155, 907.20363893,\n",
       "       902.03768612, 896.69937882, 891.1936156 , 885.52639547,\n",
       "       879.70482288, 873.7370976 , 867.63248712, 861.40128456,\n",
       "       855.05474889, 848.60502949, 842.06507572, 835.4485329 ,\n",
       "       828.76962599, 822.04303349, 815.28375391, 808.50696744,\n",
       "       801.72789565, 794.96166199, 788.22315562, 781.52690148,\n",
       "       774.88693884, 768.31671044, 761.82896352, 755.43566464,\n",
       "       749.14792779, 742.97595932, 736.92901559, 731.01537636,\n",
       "       725.24233147, 719.61618079, 714.14224588, 708.82489264,\n",
       "       703.6675628 , 698.67281358, 693.84236364, 689.17714406,\n",
       "       684.67735303, 680.34251303, 676.17153006, 672.16275156,\n",
       "       668.31402556, 664.62275793, 661.08596736, 657.70033871,\n",
       "       654.46227327, 651.36793588, 648.41329915, 645.59418421,\n",
       "       642.90629801, 640.34526753, 637.90667046, 635.58606289,\n",
       "       633.37900391, 631.28107722, 629.28791023, 627.39519049,\n",
       "       625.59867971, 623.89422582, 622.2777729 , 620.74536928,\n",
       "       619.29317418, 617.9174628 , 616.6146298 , 615.38119242,\n",
       "       614.21379162, 613.10919302, 612.06428675, 611.07608661,\n",
       "       610.14172888, 609.25847031, 608.42368604, 607.63486685,\n",
       "       606.88961643, 606.18564825, 605.52078215, 604.89294111,\n",
       "       604.30014788, 603.74052121, 603.21227228, 602.71370133,\n",
       "       602.24319382, 601.79921721, 601.38031727, 600.98511483,\n",
       "       600.61230232, 600.26064064, 599.92895592, 599.61613654,\n",
       "       599.32113008, 599.04294053, 598.78062551, 598.53329361,\n",
       "       598.30010184, 598.0802532 , 597.87299433, 597.67761327,\n",
       "       597.49343728, 597.31983085, 597.15619372, 597.00195898,\n",
       "       596.85659136, 596.71958547, 596.59046425, 596.46877743,\n",
       "       596.35410002, 596.24603102, 596.14419204, 596.04822608,\n",
       "       595.95779637, 595.87258522, 595.79229299, 595.71663706,\n",
       "       595.64535091, 595.5781832 , 595.51489694, 595.45526866,\n",
       "       595.39908766, 595.3461553 , 595.29628431, 595.24929815,\n",
       "       595.2050304 , 595.1633242 , 595.12403167, 595.08701346,\n",
       "       595.05213821, 595.01928211, 594.98832849, 594.95916738,\n",
       "       594.93169517, 594.90581418, 594.88143239, 594.85846309,\n",
       "       594.83682455, 594.81643977, 594.79723619, 594.77914545,\n",
       "       594.76210312, 594.7460485 , 594.73092441, 594.71667696,\n",
       "       594.70325538, 594.69061183, 594.67870124, 594.66748115,\n",
       "       594.65691157, 594.64695479, 594.6375753 , 594.62873966,\n",
       "       594.62041635, 594.61257568, 594.60518966, 594.59823195])"
      ]
     },
     "execution_count": 42,
     "metadata": {},
     "output_type": "execute_result"
    }
   ],
   "source": [
    "S"
   ]
  },
  {
   "cell_type": "code",
   "execution_count": 16,
   "metadata": {
    "colab": {
     "base_uri": "https://localhost:8080/",
     "height": 35
    },
    "colab_type": "code",
    "id": "UKkOH6kuSbxu",
    "outputId": "cc467fb8-a319-4196-8bd7-3d717d2eda7b"
   },
   "outputs": [
    {
     "data": {
      "text/plain": [
       "(50000.0, 250000.0)"
      ]
     },
     "execution_count": 16,
     "metadata": {},
     "output_type": "execute_result"
    }
   ],
   "source": [
    "5E4,5*5E4"
   ]
  },
  {
   "cell_type": "code",
   "execution_count": null,
   "metadata": {
    "colab": {},
    "colab_type": "code",
    "id": "l8znc0yiSD5g"
   },
   "outputs": [],
   "source": []
  }
 ],
 "metadata": {
  "colab": {
   "include_colab_link": true,
   "name": "medium_modelling_part_one.ipynb",
   "provenance": []
  },
  "kernelspec": {
   "display_name": "Python 3 (ipykernel)",
   "language": "python",
   "name": "python3"
  },
  "language_info": {
   "codemirror_mode": {
    "name": "ipython",
    "version": 3
   },
   "file_extension": ".py",
   "mimetype": "text/x-python",
   "name": "python",
   "nbconvert_exporter": "python",
   "pygments_lexer": "ipython3",
   "version": "3.7.3"
  }
 },
 "nbformat": 4,
 "nbformat_minor": 4
}
