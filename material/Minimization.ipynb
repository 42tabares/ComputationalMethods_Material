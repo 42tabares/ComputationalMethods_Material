{
  "nbformat": 4,
  "nbformat_minor": 0,
  "metadata": {
    "colab": {
      "name": "Minimization.ipynb",
      "version": "0.3.2",
      "provenance": [],
      "collapsed_sections": [],
      "include_colab_link": true
    },
    "kernelspec": {
      "display_name": "Python 3",
      "language": "python",
      "name": "python3"
    }
  },
  "cells": [
    {
      "cell_type": "markdown",
      "metadata": {
        "id": "view-in-github",
        "colab_type": "text"
      },
      "source": [
        "[View in Colaboratory](https://colab.research.google.com/github/restrepo/ComputationalMethods/blob/master/material/Minimization.ipynb)"
      ]
    },
    {
      "metadata": {
        "id": "clF8wh4wdgza",
        "colab_type": "text"
      },
      "cell_type": "markdown",
      "source": [
        "# Minimization\n",
        "Find the minumum of a function"
      ]
    },
    {
      "metadata": {
        "id": "a_OlqOD9dgzc",
        "colab_type": "code",
        "colab": {
          "base_uri": "https://localhost:8080/",
          "height": 34
        },
        "outputId": "3b347c31-8d2d-4eb6-af8b-cc334d4a3606"
      },
      "cell_type": "code",
      "source": [
        "%pylab inline"
      ],
      "execution_count": 71,
      "outputs": [
        {
          "output_type": "stream",
          "text": [
            "Populating the interactive namespace from numpy and matplotlib\n"
          ],
          "name": "stdout"
        }
      ]
    },
    {
      "metadata": {
        "id": "-_tDYtyudgzi",
        "colab_type": "code",
        "colab": {}
      },
      "cell_type": "code",
      "source": [
        "import numpy as np\n",
        "import scipy.optimize as optimize\n",
        "import scipy.interpolate as interpolate\n",
        "import pandas as pd"
      ],
      "execution_count": 0,
      "outputs": []
    },
    {
      "metadata": {
        "id": "o9ZnWCm_dgzi",
        "colab_type": "text"
      },
      "cell_type": "markdown",
      "source": [
        "## Example"
      ]
    },
    {
      "metadata": {
        "id": "cDM8-434dgzk",
        "colab_type": "text"
      },
      "cell_type": "markdown",
      "source": [
        "Consider the following dataset"
      ]
    },
    {
      "metadata": {
        "id": "te8_cqDQdgzm",
        "colab_type": "code",
        "colab": {
          "base_uri": "https://localhost:8080/",
          "height": 227
        },
        "outputId": "b062e895-1ee3-4aea-bc84-3502f7442f28"
      },
      "cell_type": "code",
      "source": [
        "df=pd.DataFrame({'X':[2.5,3.1,4.5,5,5.9,6.2],\n",
        "              'Y':[3,-1.01,1.5,0.7,2.8,1.5]})\n",
        "df"
      ],
      "execution_count": 73,
      "outputs": [
        {
          "output_type": "execute_result",
          "data": {
            "text/html": [
              "<div>\n",
              "<style scoped>\n",
              "    .dataframe tbody tr th:only-of-type {\n",
              "        vertical-align: middle;\n",
              "    }\n",
              "\n",
              "    .dataframe tbody tr th {\n",
              "        vertical-align: top;\n",
              "    }\n",
              "\n",
              "    .dataframe thead th {\n",
              "        text-align: right;\n",
              "    }\n",
              "</style>\n",
              "<table border=\"1\" class=\"dataframe\">\n",
              "  <thead>\n",
              "    <tr style=\"text-align: right;\">\n",
              "      <th></th>\n",
              "      <th>X</th>\n",
              "      <th>Y</th>\n",
              "    </tr>\n",
              "  </thead>\n",
              "  <tbody>\n",
              "    <tr>\n",
              "      <th>0</th>\n",
              "      <td>2.5</td>\n",
              "      <td>3.00</td>\n",
              "    </tr>\n",
              "    <tr>\n",
              "      <th>1</th>\n",
              "      <td>3.1</td>\n",
              "      <td>-1.01</td>\n",
              "    </tr>\n",
              "    <tr>\n",
              "      <th>2</th>\n",
              "      <td>4.5</td>\n",
              "      <td>1.50</td>\n",
              "    </tr>\n",
              "    <tr>\n",
              "      <th>3</th>\n",
              "      <td>5.0</td>\n",
              "      <td>0.70</td>\n",
              "    </tr>\n",
              "    <tr>\n",
              "      <th>4</th>\n",
              "      <td>5.9</td>\n",
              "      <td>2.80</td>\n",
              "    </tr>\n",
              "    <tr>\n",
              "      <th>5</th>\n",
              "      <td>6.2</td>\n",
              "      <td>1.50</td>\n",
              "    </tr>\n",
              "  </tbody>\n",
              "</table>\n",
              "</div>"
            ],
            "text/plain": [
              "     X     Y\n",
              "0  2.5  3.00\n",
              "1  3.1 -1.01\n",
              "2  4.5  1.50\n",
              "3  5.0  0.70\n",
              "4  5.9  2.80\n",
              "5  6.2  1.50"
            ]
          },
          "metadata": {
            "tags": []
          },
          "execution_count": 73
        }
      ]
    },
    {
      "metadata": {
        "id": "9A1cN3eZdgzo",
        "colab_type": "text"
      },
      "cell_type": "markdown",
      "source": [
        "### Laggrange interpolation"
      ]
    },
    {
      "metadata": {
        "id": "LsPt_BSkdgzq",
        "colab_type": "code",
        "colab": {}
      },
      "cell_type": "code",
      "source": [
        "pol=interpolate.lagrange(df.X,df.Y)\n",
        "x=np.linspace(df.X.iloc[0],df.X.iloc[-1])"
      ],
      "execution_count": 0,
      "outputs": []
    },
    {
      "metadata": {
        "id": "EXe1GFYGtDN_",
        "colab_type": "code",
        "colab": {
          "base_uri": "https://localhost:8080/",
          "height": 52
        },
        "outputId": "c7264cce-6092-4309-d3de-3fa3d4a3d40c"
      },
      "cell_type": "code",
      "source": [
        "print(pol)"
      ],
      "execution_count": 55,
      "outputs": [
        {
          "output_type": "stream",
          "text": [
            "         5         4         3         2\n",
            "-0.8941 x + 19.97 x - 174.7 x + 746.7 x - 1557 x + 1264\n"
          ],
          "name": "stdout"
        }
      ]
    },
    {
      "metadata": {
        "id": "V4mFHd1udgzs",
        "colab_type": "code",
        "colab": {
          "base_uri": "https://localhost:8080/",
          "height": 282
        },
        "outputId": "24d982da-04df-4a49-c5ec-35ed1b6eb0a2"
      },
      "cell_type": "code",
      "source": [
        "plt.plot(x,pol(x))\n",
        "plt.plot(df.X,df.Y,'ro')"
      ],
      "execution_count": 24,
      "outputs": [
        {
          "output_type": "execute_result",
          "data": {
            "text/plain": [
              "[<matplotlib.lines.Line2D at 0x7faf35a3f0f0>]"
            ]
          },
          "metadata": {
            "tags": []
          },
          "execution_count": 24
        },
        {
          "output_type": "display_data",
          "data": {
            "image/png": "[encoded data removed]",
            "text/plain": [
              "<matplotlib.figure.Figure at 0x7faf35a3f0b8>"
            ]
          },
          "metadata": {
            "tags": []
          }
        }
      ]
    },
    {
      "metadata": {
        "id": "kAQzDhu4y2D9",
        "colab_type": "text"
      },
      "cell_type": "markdown",
      "source": [
        "## Hermite interpolation"
      ]
    },
    {
      "metadata": {
        "id": "mz0iXe6NtyZo",
        "colab_type": "code",
        "colab": {}
      },
      "cell_type": "code",
      "source": [
        "H=np.polynomial.hermite.Hermite.fit(df.X,df.Y,5)"
      ],
      "execution_count": 0,
      "outputs": []
    },
    {
      "metadata": {
        "id": "5HMGT25vt5Sj",
        "colab_type": "code",
        "colab": {
          "base_uri": "https://localhost:8080/",
          "height": 282
        },
        "outputId": "a975a6f5-71f0-4f69-c3a4-4d96e3bad1dd"
      },
      "cell_type": "code",
      "source": [
        "plt.plot(x,H(x))\n",
        "plt.plot(df.X,df.Y,'ro')"
      ],
      "execution_count": 66,
      "outputs": [
        {
          "output_type": "execute_result",
          "data": {
            "text/plain": [
              "[<matplotlib.lines.Line2D at 0x7faf32ec4fd0>]"
            ]
          },
          "metadata": {
            "tags": []
          },
          "execution_count": 66
        },
        {
          "output_type": "display_data",
          "data": {
            "image/png": "[encoded data removed]",
            "text/plain": [
              "<matplotlib.figure.Figure at 0x7faf32f22358>"
            ]
          },
          "metadata": {
            "tags": []
          }
        }
      ]
    },
    {
      "metadata": {
        "id": "Xn1LS8S_dgzx",
        "colab_type": "text"
      },
      "cell_type": "markdown",
      "source": [
        "Encontrando en primer mínimo cerca de <font color=\"red\">3</font> (que resulta ser el mínimo global en [0,6]) y cerca de e <font color=\"red\">5</font>  (un mínimo local)"
      ]
    },
    {
      "metadata": {
        "id": "cOSweiw3dgzx",
        "colab_type": "code",
        "colab": {
          "base_uri": "https://localhost:8080/",
          "height": 158
        },
        "outputId": "92972c3c-2651-40f9-debd-869e880d46df"
      },
      "cell_type": "code",
      "source": [
        "min1=optimize.fmin_powell(pol,3,full_output=True)\n",
        "min2=optimize.fmin_powell(pol,5,full_output=True)"
      ],
      "execution_count": 27,
      "outputs": [
        {
          "output_type": "stream",
          "text": [
            "Optimization terminated successfully.\n",
            "         Current function value: -1.374113\n",
            "         Iterations: 2\n",
            "         Function evaluations: 28\n",
            "Optimization terminated successfully.\n",
            "         Current function value: 0.699898\n",
            "         Iterations: 2\n",
            "         Function evaluations: 30\n"
          ],
          "name": "stdout"
        }
      ]
    },
    {
      "metadata": {
        "id": "rgJuNHLHdgz0",
        "colab_type": "code",
        "colab": {
          "base_uri": "https://localhost:8080/",
          "height": 34
        },
        "outputId": "4d83ca9a-cc5c-4025-9142-7854d4ab3725"
      },
      "cell_type": "code",
      "source": [
        "print('El mínimo global es f(x)={} para x={}; el mínimo local es f(x)={} para x={}'.format(min1[1],min1[0],min2[1],min2[0]))"
      ],
      "execution_count": 26,
      "outputs": [
        {
          "output_type": "stream",
          "text": [
            "El mínimo global es f(x)=-1.3741131581291484 para x=2.9278495523433894; el mínimo local es f(x)=-1.3741131581293757 para x=2.9278493382876327\n"
          ],
          "name": "stdout"
        }
      ]
    },
    {
      "metadata": {
        "id": "kcxcq_UHdgz4",
        "colab_type": "text"
      },
      "cell_type": "markdown",
      "source": [
        "## The Higgs potential\n",
        "To write greek letter inside a cell use the $\\rm \\LaTeX$ macro and the tab, e.g: `\\mu<TAB>`, to produce μ"
      ]
    },
    {
      "metadata": {
        "id": "3_SlIknqdgz5",
        "colab_type": "code",
        "colab": {
          "base_uri": "https://localhost:8080/",
          "height": 34
        },
        "outputId": "47287242-01df-405c-dc2e-97aec0341762"
      },
      "cell_type": "code",
      "source": [
        "m_H=126 # GeV\n",
        "G_F=1.1663787E-5 #GeV^-2\n",
        "v=1/np.sqrt(np.sqrt(2.)*G_F) # GeV\n",
        "μ=np.sqrt(m_H**2/2)\n",
        "λ=m_H**2/(2.*v**2)\n",
        "μ,λ"
      ],
      "execution_count": 33,
      "outputs": [
        {
          "output_type": "execute_result",
          "data": {
            "text/plain": [
              "(89.09545442950498, 0.13093799079487806)"
            ]
          },
          "metadata": {
            "tags": []
          },
          "execution_count": 33
        }
      ]
    },
    {
      "metadata": {
        "id": "kjckHBGPdgz9",
        "colab_type": "code",
        "colab": {
          "base_uri": "https://localhost:8080/",
          "height": 320
        },
        "outputId": "4903604e-16b2-4c0d-d216-5aa8c5ba29ad"
      },
      "cell_type": "code",
      "source": [
        "ϕ=np.linspace(-300,300)\n",
        "Vp=lambda ϕ: 0.5*μ**2*ϕ**2+0.25*λ*ϕ**4\n",
        "plt.plot(ϕ, Vp(ϕ) )\n",
        "plt.xlabel(r'$\\phi$ [GeV]',size=20 )\n",
        "plt.ylabel(r'$V(\\phi)$ [GeV]',size=20)\n",
        "plt.xlabel(r'$\\phi$ [GeV]',size=20 )\n",
        "plt.ylabel(r'$V(\\phi)$ [GeV]',size=20)\n",
        "#plt.grid()"
      ],
      "execution_count": 34,
      "outputs": [
        {
          "output_type": "execute_result",
          "data": {
            "text/plain": [
              "Text(0,0.5,'$V(\\\\phi)$ [GeV]')"
            ]
          },
          "metadata": {
            "tags": []
          },
          "execution_count": 34
        },
        {
          "output_type": "display_data",
          "data": {
            "image/png": "[encoded data removed]",
            "text/plain": [
              "<matplotlib.figure.Figure at 0x7faf33006898>"
            ]
          },
          "metadata": {
            "tags": []
          }
        }
      ]
    },
    {
      "metadata": {
        "id": "hMQL-lgIdgz_",
        "colab_type": "code",
        "colab": {}
      },
      "cell_type": "code",
      "source": [
        "μ=μ*1j\n",
        "V=lambda ϕ: Vp(ϕ).real"
      ],
      "execution_count": 0,
      "outputs": []
    },
    {
      "metadata": {
        "id": "jML4SJqwdg0C",
        "colab_type": "code",
        "colab": {
          "base_uri": "https://localhost:8080/",
          "height": 293
        },
        "outputId": "73ae13df-bc42-461e-a4a6-a174eac5058f"
      },
      "cell_type": "code",
      "source": [
        "ϕ=np.linspace(-380,380)\n",
        "plt.plot(ϕ, V(ϕ) )\n",
        "#plt.grid()"
      ],
      "execution_count": 36,
      "outputs": [
        {
          "output_type": "execute_result",
          "data": {
            "text/plain": [
              "[<matplotlib.lines.Line2D at 0x7faf330bcf28>]"
            ]
          },
          "metadata": {
            "tags": []
          },
          "execution_count": 36
        },
        {
          "output_type": "display_data",
          "data": {
            "image/png": "[encoded data removed]",
            "text/plain": [
              "<matplotlib.figure.Figure at 0x7faf3307e208>"
            ]
          },
          "metadata": {
            "tags": []
          }
        }
      ]
    },
    {
      "metadata": {
        "id": "SiGF-Sgvdg0G",
        "colab_type": "code",
        "colab": {
          "base_uri": "https://localhost:8080/",
          "height": 87
        },
        "outputId": "868a6334-dc2c-44e4-f5f8-2055a63984a8"
      },
      "cell_type": "code",
      "source": [
        "fp=optimize.fmin_powell(V,200,ftol=1E-16,full_output=True)"
      ],
      "execution_count": 37,
      "outputs": [
        {
          "output_type": "stream",
          "text": [
            "Optimization terminated successfully.\n",
            "         Current function value: -120308559.069597\n",
            "         Iterations: 4\n",
            "         Function evaluations: 74\n"
          ],
          "name": "stdout"
        }
      ]
    },
    {
      "metadata": {
        "id": "ow-5I0Szdg0K",
        "colab_type": "code",
        "colab": {}
      },
      "cell_type": "code",
      "source": [
        "ϕ_min=fp[0]"
      ],
      "execution_count": 0,
      "outputs": []
    },
    {
      "metadata": {
        "id": "0svkw5eSdg0N",
        "colab_type": "code",
        "colab": {
          "base_uri": "https://localhost:8080/",
          "height": 34
        },
        "outputId": "71a43ddd-856b-41bd-964c-638d3fd7e977"
      },
      "cell_type": "code",
      "source": [
        "print(ϕ_min,v)"
      ],
      "execution_count": 39,
      "outputs": [
        {
          "output_type": "stream",
          "text": [
            "246.21964987858152 246.21965079413738\n"
          ],
          "name": "stdout"
        }
      ]
    },
    {
      "metadata": {
        "id": "CRgwJ5SVdg0T",
        "colab_type": "text"
      },
      "cell_type": "markdown",
      "source": [
        "##  Activity \n",
        "For a complex scalar field with potential\n",
        "\\begin{equation}\n",
        "V(\\phi)=\\mu^2\\phi^*\\phi + \\lambda (\\phi^*\\phi)^2\n",
        "\\end{equation}\n",
        "with \n",
        "\\begin{equation}\n",
        "\\phi=\\frac{\\phi_1+i\\phi_2  }{\\sqrt{2} }\n",
        "\\end{equation}\n",
        "and $\\mu^2<0$, and $\\lambda>0$, find some of the infinite number of minimum values of $\\phi$ "
      ]
    },
    {
      "metadata": {
        "id": "n2o2H-HHdg0T",
        "colab_type": "text"
      },
      "cell_type": "markdown",
      "source": [
        "## Least action\n",
        "See [Least action](./least_action.ipynb)"
      ]
    },
    {
      "metadata": {
        "id": "x1mVx9XSdg0V",
        "colab_type": "code",
        "colab": {}
      },
      "cell_type": "code",
      "source": [
        "global g  \n",
        "g=9.8"
      ],
      "execution_count": 0,
      "outputs": []
    },
    {
      "metadata": {
        "id": "vm7zYnR2dg0Y",
        "colab_type": "code",
        "colab": {}
      },
      "cell_type": "code",
      "source": [
        "def S(x,t=3.,m=0.2,xini=0.,xend=0.):\n",
        "    t=float(t)\n",
        "    Dt=t/x[:-1].size\n",
        "    x=np.asarray(x)\n",
        "    #Fix initial and final point\n",
        "    x[0]=xini\n",
        "    x[-1]=xend\n",
        "    return ((0.5*m*(x[1:]-x[:-1])**2/Dt**2-0.5*m*g*(x[1:]+x[:-1]))*Dt).sum()"
      ],
      "execution_count": 0,
      "outputs": []
    },
    {
      "metadata": {
        "id": "0KI0HHcddg0a",
        "colab_type": "text"
      },
      "cell_type": "markdown",
      "source": [
        "Function to find the least Action by using `scipy.optimize.fmin_powell`. It start from $\\mathbf{x}=(x_{\\hbox{ini}},0,0,\\ldots,x_{\\hbox{end}})$ and find the least action"
      ]
    },
    {
      "metadata": {
        "id": "kuK8f7bXdg0b",
        "colab_type": "code",
        "colab": {}
      },
      "cell_type": "code",
      "source": [
        "def xfit(n,t=3.,m=0.2,xini=0.,xend=0.,ftol=1E-8):\n",
        "    '''Find the array of n (odd) components that minimizes the action S(x)\n",
        "\n",
        "    :Parameters:\n",
        "\n",
        "    n: odd integer \n",
        "        dimension of the ndarray x that minimizes the action  S(x,t,m)\n",
        "    t,m: numbers\n",
        "       optional parameters for the action\n",
        "    ftol: number\n",
        "        acceptable relative error in S(x) for convergence.\n",
        "\n",
        "    :Returns: (x,xmax,Smin)\n",
        "    \n",
        "    x: ndarray\n",
        "        minimizer of the action S(x)\n",
        "        \n",
        "    xini:\n",
        "    \n",
        "    xend:\n",
        "\n",
        "    xmax: number\n",
        "        Maximum height for the object\n",
        "\n",
        "    Smin: number\n",
        "        value of function at minimum: Smin = S(x)\n",
        "    '''\n",
        "    import scipy.optimize as optimize\n",
        "    t=float(t)\n",
        "    if n%2==0:\n",
        "        print ( 'x array must be odd')\n",
        "        sys.exit()\n",
        "  \n",
        "    x0=np.zeros(n)\n",
        "    a=optimize.fmin_powell(S,x0,args=(t,m,xini,xend),ftol=ftol,full_output=1)\n",
        "    x=a[0]\n",
        "    x[0]=xini;x[-1]=xend\n",
        "    xmax=np.sort(x)[-1]\n",
        "    Smin=a[1]\n",
        "    Dt=t/x[:-1].size #  t/(n-1)\n",
        "    return x,xmax,Smin,Dt  "
      ],
      "execution_count": 0,
      "outputs": []
    },
    {
      "metadata": {
        "id": "U7KZICcmdg0d",
        "colab_type": "code",
        "colab": {},
        "outputId": "07fa950e-ee18-481e-9b1e-fa35136c0eec"
      },
      "cell_type": "code",
      "source": [
        "n=11\n",
        "t=3. # s\n",
        "m=0.2 # g\n",
        "y=xfit(n,t,m,ftol=1E-16)"
      ],
      "execution_count": 0,
      "outputs": [
        {
          "output_type": "stream",
          "text": [
            "Optimization terminated successfully.\n",
            "         Current function value: -21.392910\n",
            "         Iterations: 15\n",
            "         Function evaluations: 2154\n"
          ],
          "name": "stdout"
        }
      ]
    },
    {
      "metadata": {
        "id": "BarKNSPQdg0f",
        "colab_type": "code",
        "colab": {},
        "outputId": "365e7595-f0ba-4a4e-de40-1d5423460634"
      },
      "cell_type": "code",
      "source": [
        "y"
      ],
      "execution_count": 0,
      "outputs": [
        {
          "output_type": "execute_result",
          "data": {
            "text/plain": [
              "(array([  0.        ,   3.96900002,   7.05599999,   9.26099998,\n",
              "         10.58400002,  11.02500004,  10.58400005,   9.26100006,\n",
              "          7.05600004,   3.96900001,   0.        ]),\n",
              " 11.025000043847939,\n",
              " -21.392910000000008,\n",
              " 0.3)"
            ]
          },
          "metadata": {
            "tags": []
          },
          "execution_count": 142
        }
      ]
    },
    {
      "metadata": {
        "id": "IXAuIaPpdg0h",
        "colab_type": "code",
        "colab": {}
      },
      "cell_type": "code",
      "source": [
        "x=y[0]"
      ],
      "execution_count": 0,
      "outputs": []
    },
    {
      "metadata": {
        "id": "hiHuXYskdg0j",
        "colab_type": "code",
        "colab": {},
        "outputId": "316c539e-e99d-46d7-aa7e-66d968df5f84"
      },
      "cell_type": "code",
      "source": [
        "t=np.linspace(0,3,n)\n",
        "P=poly1d ( np.polyfit(t,x,2) )\n",
        "print( P )"
      ],
      "execution_count": 0,
      "outputs": [
        {
          "output_type": "stream",
          "text": [
            "      2\n",
            "-4.9 x + 14.7 x - 1.402e-08\n"
          ],
          "name": "stdout"
        }
      ]
    },
    {
      "metadata": {
        "id": "p3_Mt89Tdg0m",
        "colab_type": "code",
        "colab": {},
        "outputId": "fd7dd123-6daf-4f89-983a-5e9a9d09c8a1"
      },
      "cell_type": "code",
      "source": [
        "plt.plot(t,x,'ro')\n",
        "T=np.linspace(0,3)\n",
        "plt.plot(T,P(T))\n",
        "plt.title(r'$S_{\\rm min}=%g$' %y[2])"
      ],
      "execution_count": 0,
      "outputs": [
        {
          "output_type": "execute_result",
          "data": {
            "text/plain": [
              "<matplotlib.text.Text at 0x7f92a6db8278>"
            ]
          },
          "metadata": {
            "tags": []
          },
          "execution_count": 145
        },
        {
          "output_type": "display_data",
          "data": {
            "image/png": "[encoded data removed]",
            "text/plain": [
              "<matplotlib.figure.Figure at 0x7f92a6dffeb8>"
            ]
          },
          "metadata": {
            "tags": []
          }
        }
      ]
    },
    {
      "metadata": {
        "id": "r4j7898idg0p",
        "colab_type": "code",
        "colab": {},
        "outputId": "7a9a36fd-546c-404e-e77f-4f8c95d40794"
      },
      "cell_type": "code",
      "source": [
        "t=3.\n",
        "m=0.2\n",
        "y=xfit(21,t,m)\n",
        "x=y[0]\n",
        "Smin=y[2]\n",
        "Dt=t/x[:-1].size\n",
        "tx=np.arange(0,t+Dt,Dt)"
      ],
      "execution_count": 0,
      "outputs": [
        {
          "output_type": "execute_result",
          "data": {
            "text/plain": [
              "[0, 1]"
            ]
          },
          "metadata": {
            "tags": []
          },
          "execution_count": 69
        }
      ]
    },
    {
      "metadata": {
        "id": "AXKLZojEdg0s",
        "colab_type": "text"
      },
      "cell_type": "markdown",
      "source": [
        "### Further material\n",
        "http://www.damtp.cam.ac.uk/user/nsm10/PrincLeaAc.pdf\n",
        "https://jfuchs.hotell.kau.se/kurs/amek/prst/14_hpvp.pdf\n",
        "\n",
        "https://www.coursera.org/learn/general-relativity/lecture/8UHtE/the-least-action-or-minimal-action-principle-part-1\n",
        "\n",
        "https://jfi.uchicago.edu/~tten/from.panza/Physics185/Handouts/rubber-band%20analogy.pdf"
      ]
    }
  ]
}