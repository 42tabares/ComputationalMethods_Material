{
 "cells": [
  {
   "cell_type": "markdown",
   "metadata": {
    "colab_type": "text",
    "id": "view-in-github"
   },
   "source": [
    "<a href=\"https://colab.research.google.com/github/restrepo/ComputationalMethods/blob/master/material/Minimization.ipynb\" target=\"_parent\"><img src=\"https://colab.research.google.com/assets/colab-badge.svg\" alt=\"Open In Colab\"/></a>"
   ]
  },
  {
   "cell_type": "markdown",
   "metadata": {},
   "source": [
    "---"
   ]
  },
  {
   "cell_type": "markdown",
   "metadata": {
    "colab_type": "text",
    "id": "clF8wh4wdgza"
   },
   "source": [
    "# Minimization\n",
    "\n",
    "Find the minumum of a function\n",
    "\n",
    "---\n",
    "## Bibliography\n",
    "\n",
    "[1] [Optimization and fit scipy optimize](https://scipy-lectures.org/intro/scipy.html#optimization-and-fit-scipy-optimize) \n",
    "* [Example](https://scipy-lectures.org/intro/scipy/auto_examples/plot_optimize_example2.html)"
   ]
  },
  {
   "cell_type": "code",
   "execution_count": 157,
   "metadata": {
    "colab": {
     "base_uri": "https://localhost:8080/",
     "height": 34
    },
    "colab_type": "code",
    "id": "a_OlqOD9dgzc",
    "outputId": "6806411c-f348-455c-dea1-61c5199d2c4d"
   },
   "outputs": [
    {
     "name": "stdout",
     "output_type": "stream",
     "text": [
      "Populating the interactive namespace from numpy and matplotlib\n"
     ]
    },
    {
     "name": "stderr",
     "output_type": "stream",
     "text": [
      "/usr/local/lib/python3.5/dist-packages/IPython/core/magics/pylab.py:160: UserWarning: pylab import has clobbered these variables: ['fmin', 'f']\n",
      "`%matplotlib` prevents importing * from pylab and numpy\n",
      "  \"\\n`%matplotlib` prevents importing * from pylab and numpy\"\n"
     ]
    }
   ],
   "source": [
    "%pylab inline"
   ]
  },
  {
   "cell_type": "code",
   "execution_count": 158,
   "metadata": {
    "colab": {},
    "colab_type": "code",
    "id": "-_tDYtyudgzi"
   },
   "outputs": [],
   "source": [
    "import numpy as np\n",
    "import scipy.optimize as optimize\n",
    "import scipy.interpolate as interpolate\n",
    "import pandas as pd"
   ]
  },
  {
   "cell_type": "markdown",
   "metadata": {
    "colab_type": "text",
    "id": "o9ZnWCm_dgzi"
   },
   "source": [
    "## Example"
   ]
  },
  {
   "cell_type": "markdown",
   "metadata": {
    "colab_type": "text",
    "id": "cDM8-434dgzk"
   },
   "source": [
    "Consider the following dataset"
   ]
  },
  {
   "cell_type": "code",
   "execution_count": 159,
   "metadata": {
    "colab": {
     "base_uri": "https://localhost:8080/",
     "height": 233
    },
    "colab_type": "code",
    "id": "te8_cqDQdgzm",
    "outputId": "25ba7a95-f113-47af-81b9-48c5f62cc0a0"
   },
   "outputs": [
    {
     "data": {
      "text/html": [
       "<div>\n",
       "<style scoped>\n",
       "    .dataframe tbody tr th:only-of-type {\n",
       "        vertical-align: middle;\n",
       "    }\n",
       "\n",
       "    .dataframe tbody tr th {\n",
       "        vertical-align: top;\n",
       "    }\n",
       "\n",
       "    .dataframe thead th {\n",
       "        text-align: right;\n",
       "    }\n",
       "</style>\n",
       "<table border=\"1\" class=\"dataframe\">\n",
       "  <thead>\n",
       "    <tr style=\"text-align: right;\">\n",
       "      <th></th>\n",
       "      <th>X</th>\n",
       "      <th>Y</th>\n",
       "    </tr>\n",
       "  </thead>\n",
       "  <tbody>\n",
       "    <tr>\n",
       "      <th>0</th>\n",
       "      <td>2.5</td>\n",
       "      <td>3.00</td>\n",
       "    </tr>\n",
       "    <tr>\n",
       "      <th>1</th>\n",
       "      <td>3.1</td>\n",
       "      <td>-1.01</td>\n",
       "    </tr>\n",
       "    <tr>\n",
       "      <th>2</th>\n",
       "      <td>4.5</td>\n",
       "      <td>1.50</td>\n",
       "    </tr>\n",
       "    <tr>\n",
       "      <th>3</th>\n",
       "      <td>5.0</td>\n",
       "      <td>0.70</td>\n",
       "    </tr>\n",
       "    <tr>\n",
       "      <th>4</th>\n",
       "      <td>5.9</td>\n",
       "      <td>2.80</td>\n",
       "    </tr>\n",
       "    <tr>\n",
       "      <th>5</th>\n",
       "      <td>6.2</td>\n",
       "      <td>1.50</td>\n",
       "    </tr>\n",
       "  </tbody>\n",
       "</table>\n",
       "</div>"
      ],
      "text/plain": [
       "     X     Y\n",
       "0  2.5  3.00\n",
       "1  3.1 -1.01\n",
       "2  4.5  1.50\n",
       "3  5.0  0.70\n",
       "4  5.9  2.80\n",
       "5  6.2  1.50"
      ]
     },
     "execution_count": 159,
     "metadata": {},
     "output_type": "execute_result"
    }
   ],
   "source": [
    "df=pd.DataFrame({'X':[2.5,3.1,4.5,5,5.9,6.2],\n",
    "              'Y':[3,-1.01,1.5,0.7,2.8,1.5]})\n",
    "df"
   ]
  },
  {
   "cell_type": "markdown",
   "metadata": {
    "colab_type": "text",
    "id": "9A1cN3eZdgzo"
   },
   "source": [
    "### Laggrange interpolation"
   ]
  },
  {
   "cell_type": "code",
   "execution_count": 160,
   "metadata": {
    "colab": {},
    "colab_type": "code",
    "id": "LsPt_BSkdgzq"
   },
   "outputs": [],
   "source": [
    "pol=interpolate.lagrange(df.X,df.Y)"
   ]
  },
  {
   "cell_type": "code",
   "execution_count": 161,
   "metadata": {
    "colab": {
     "base_uri": "https://localhost:8080/",
     "height": 51
    },
    "colab_type": "code",
    "id": "EXe1GFYGtDN_",
    "outputId": "a8aad374-dcb7-43e6-e674-7628039f8e18"
   },
   "outputs": [
    {
     "name": "stdout",
     "output_type": "stream",
     "text": [
      "         5         4         3         2\n",
      "-0.8941 x + 19.97 x - 174.7 x + 746.7 x - 1557 x + 1264\n"
     ]
    }
   ],
   "source": [
    "print(pol)"
   ]
  },
  {
   "cell_type": "markdown",
   "metadata": {
    "colab_type": "text",
    "id": "eDLotgQ_0xWr"
   },
   "source": [
    "`df.X` is a Pandas Series"
   ]
  },
  {
   "cell_type": "code",
   "execution_count": 162,
   "metadata": {
    "colab": {
     "base_uri": "https://localhost:8080/",
     "height": 137
    },
    "colab_type": "code",
    "id": "R9JUnYyM056J",
    "outputId": "dd3f94e9-c43b-4a67-cf0b-954df929bd8d"
   },
   "outputs": [
    {
     "data": {
      "text/plain": [
       "0    2.5\n",
       "1    3.1\n",
       "2    4.5\n",
       "3    5.0\n",
       "4    5.9\n",
       "5    6.2\n",
       "Name: X, dtype: float64"
      ]
     },
     "execution_count": 162,
     "metadata": {},
     "output_type": "execute_result"
    }
   ],
   "source": [
    "df.X"
   ]
  },
  {
   "cell_type": "markdown",
   "metadata": {
    "colab_type": "text",
    "id": "tRWXrcKn08tB"
   },
   "source": [
    "To obtain some specific valuea by using slices, we must use `.iloc`\n",
    "\n",
    "Note that `df.X[3]=df.X.loc[3]=df.X.iloc[3]`"
   ]
  },
  {
   "cell_type": "code",
   "execution_count": 163,
   "metadata": {
    "colab": {
     "base_uri": "https://localhost:8080/",
     "height": 34
    },
    "colab_type": "code",
    "id": "slfzFtTtDTdU",
    "outputId": "f7adbc80-6248-41d0-b677-ec6fe0787999"
   },
   "outputs": [
    {
     "data": {
      "text/plain": [
       "(5.0, 5.0, 5.0)"
      ]
     },
     "execution_count": 163,
     "metadata": {},
     "output_type": "execute_result"
    }
   ],
   "source": [
    "df.X[3],df.X.loc[3],df.X.iloc[3]"
   ]
  },
  {
   "cell_type": "code",
   "execution_count": 164,
   "metadata": {
    "colab": {
     "base_uri": "https://localhost:8080/",
     "height": 34
    },
    "colab_type": "code",
    "id": "_ZPFiUHTDTdZ",
    "outputId": "931c19d6-7171-44d1-e809-074bf8aefa1e"
   },
   "outputs": [
    {
     "data": {
      "text/plain": [
       "6.2"
      ]
     },
     "execution_count": 164,
     "metadata": {},
     "output_type": "execute_result"
    }
   ],
   "source": [
    "df.X.iloc[-1]"
   ]
  },
  {
   "cell_type": "markdown",
   "metadata": {
    "colab_type": "text",
    "id": "qfo3MjYJDTdd"
   },
   "source": [
    "works!"
   ]
  },
  {
   "cell_type": "code",
   "execution_count": 165,
   "metadata": {
    "colab": {
     "base_uri": "https://localhost:8080/",
     "height": 279
    },
    "colab_type": "code",
    "id": "V4mFHd1udgzs",
    "outputId": "94e6c256-6fb8-42c2-a86f-cbe1b50a6d84"
   },
   "outputs": [
    {
     "data": {
      "image/png": "[encoded data removed]",
      "text/plain": [
       "<Figure size 432x288 with 1 Axes>"
      ]
     },
     "metadata": {
      "needs_background": "light"
     },
     "output_type": "display_data"
    }
   ],
   "source": [
    "x=np.linspace(df.X.iloc[0],df.X.iloc[-1],100)\n",
    "plt.plot(x,pol(x))\n",
    "plt.plot(df.X,df.Y,'ro')\n",
    "plt.xlabel('X')\n",
    "plt.ylabel('Y')\n",
    "plt.grid()"
   ]
  },
  {
   "cell_type": "markdown",
   "metadata": {
    "colab_type": "text",
    "id": "kAQzDhu4y2D9"
   },
   "source": [
    "## Hermite interpolation\n",
    "The recommend degree for the Hermite polynomial is $n-1$ where $n$ is the number of data of the dataset"
   ]
  },
  {
   "cell_type": "code",
   "execution_count": 166,
   "metadata": {
    "colab": {},
    "colab_type": "code",
    "id": "Vwfh2ncUEvHO"
   },
   "outputs": [],
   "source": [
    "H=np.polynomial.hermite.Hermite.fit(df.X,df.Y,5)"
   ]
  },
  {
   "cell_type": "code",
   "execution_count": 167,
   "metadata": {
    "colab": {
     "base_uri": "https://localhost:8080/",
     "height": 296
    },
    "colab_type": "code",
    "id": "5HMGT25vt5Sj",
    "outputId": "84fab897-ac0a-48ab-ec90-4b454c66ce06"
   },
   "outputs": [
    {
     "data": {
      "text/plain": [
       "Text(0,0.5,'$H(x)$')"
      ]
     },
     "execution_count": 167,
     "metadata": {},
     "output_type": "execute_result"
    },
    {
     "data": {
      "image/png": "[encoded data removed]",
      "text/plain": [
       "<Figure size 432x288 with 1 Axes>"
      ]
     },
     "metadata": {
      "needs_background": "light"
     },
     "output_type": "display_data"
    }
   ],
   "source": [
    "plt.plot(x,H(x),'k-')\n",
    "plt.plot(x,pol(x),'c--')\n",
    "plt.plot(df.X,df.Y,'ro')\n",
    "plt.grid()\n",
    "plt.xlabel('$x$')\n",
    "plt.ylabel('$H(x)$')"
   ]
  },
  {
   "cell_type": "markdown",
   "metadata": {
    "colab_type": "text",
    "id": "sELjzLJu3ANt"
   },
   "source": [
    "## Finding the local minimums of a function"
   ]
  },
  {
   "cell_type": "markdown",
   "metadata": {
    "colab_type": "text",
    "id": "Xn1LS8S_dgzx"
   },
   "source": [
    "Finding the first minimum close to  <font color=\"red\">3</font> (which corresponds to the global minimum), and the sceond close to <font color=\"red\">5</font>  (a  local minimum)"
   ]
  },
  {
   "cell_type": "code",
   "execution_count": 168,
   "metadata": {
    "colab": {
     "base_uri": "https://localhost:8080/",
     "height": 154
    },
    "colab_type": "code",
    "id": "cOSweiw3dgzx",
    "outputId": "75794fa4-c4cd-42c9-c11c-fbd2cdc3c2f6"
   },
   "outputs": [
    {
     "name": "stdout",
     "output_type": "stream",
     "text": [
      "Optimization terminated successfully.\n",
      "         Current function value: -1.374113\n",
      "         Iterations: 2\n",
      "         Function evaluations: 28\n",
      "Optimization terminated successfully.\n",
      "         Current function value: 0.699898\n",
      "         Iterations: 2\n",
      "         Function evaluations: 50\n"
     ]
    }
   ],
   "source": [
    "min1=optimize.fmin_powell(pol,3,full_output=True)\n",
    "min2=optimize.fmin_powell(pol,5.2,full_output=True)"
   ]
  },
  {
   "cell_type": "code",
   "execution_count": 169,
   "metadata": {
    "colab": {
     "base_uri": "https://localhost:8080/",
     "height": 34
    },
    "colab_type": "code",
    "id": "la9Q-ixD4IEL",
    "outputId": "6868bfb4-4913-4ccb-a3d7-c264327b1f30"
   },
   "outputs": [
    {
     "data": {
      "text/plain": [
       "(array(2.92784955), array(-1.37411316), array([[1.]]), 2, 28, 0)"
      ]
     },
     "execution_count": 169,
     "metadata": {},
     "output_type": "execute_result"
    }
   ],
   "source": [
    "min1"
   ]
  },
  {
   "cell_type": "code",
   "execution_count": 170,
   "metadata": {
    "colab": {
     "base_uri": "https://localhost:8080/",
     "height": 51
    },
    "colab_type": "code",
    "id": "rgJuNHLHdgz0",
    "outputId": "bea2a9d2-da8b-4dd4-95e7-87de2f4e9bba"
   },
   "outputs": [
    {
     "name": "stdout",
     "output_type": "stream",
     "text": [
      "The global minimum is f(x)=-1.3741131581291484 for x=2.9278495523433894;\n",
      " the local minimum is f(x)=0.6998981514389016 for x=5.004929292406532\n"
     ]
    }
   ],
   "source": [
    "print('The global minimum is f(x)={} for x={};\\n the local minimum is f(x)={} for x={}'.format(\n",
    "    min1[1],min1[0],min2[1],min2[0]))"
   ]
  },
  {
   "cell_type": "markdown",
   "metadata": {
    "colab_type": "text",
    "id": "ZczFMqAgLIDr"
   },
   "source": [
    "**Activity** Find the maximum values of the Hermite interpolation function of degree 5 to the set of points: https://github.com/restrepo/ComputationalMethods/blob/master/data/hermite.csv\n",
    "\n"
   ]
  },
  {
   "cell_type": "code",
   "execution_count": 171,
   "metadata": {
    "colab": {},
    "colab_type": "code",
    "id": "7jgYitmHM0wh"
   },
   "outputs": [
    {
     "data": {
      "text/plain": [
       "Text(0,0.5,'$H(x)$')"
      ]
     },
     "execution_count": 171,
     "metadata": {},
     "output_type": "execute_result"
    },
    {
     "data": {
      "image/png": "[encoded data removed]",
      "text/plain": [
       "<Figure size 432x288 with 1 Axes>"
      ]
     },
     "metadata": {
      "needs_background": "light"
     },
     "output_type": "display_data"
    }
   ],
   "source": [
    "df=pd.read_csv('https://raw.githubusercontent.com/restrepo/ComputationalMethods/master/data/hermite.csv')\n",
    "H=np.polynomial.hermite.Hermite.fit(df.X,df.Y,5)\n",
    "x=np.linspace(df.X.iloc[0],df.X.iloc[-1],100)\n",
    "plt.plot(x,-H(x),'k-')\n",
    "plt.grid()\n",
    "plt.xlabel('$x$')\n",
    "plt.ylabel('$H(x)$')"
   ]
  },
  {
   "cell_type": "markdown",
   "metadata": {},
   "source": [
    "`fmin_powell` try to search the global minimum"
   ]
  },
  {
   "cell_type": "code",
   "execution_count": 172,
   "metadata": {},
   "outputs": [
    {
     "name": "stdout",
     "output_type": "stream",
     "text": [
      "Optimization terminated successfully.\n",
      "         Current function value: -2.803764\n",
      "         Iterations: 2\n",
      "         Function evaluations: 27\n"
     ]
    },
    {
     "data": {
      "text/plain": [
       "array(5.918213)"
      ]
     },
     "execution_count": 172,
     "metadata": {},
     "output_type": "execute_result"
    }
   ],
   "source": [
    "optimize.fmin_powell(-H,4.5)"
   ]
  },
  {
   "cell_type": "markdown",
   "metadata": {},
   "source": [
    "### Find a local minumum"
   ]
  },
  {
   "cell_type": "markdown",
   "metadata": {},
   "source": [
    "close minimum"
   ]
  },
  {
   "cell_type": "code",
   "execution_count": 180,
   "metadata": {},
   "outputs": [
    {
     "data": {
      "text/plain": [
       "array([4.01502453])"
      ]
     },
     "execution_count": 180,
     "metadata": {},
     "output_type": "execute_result"
    }
   ],
   "source": [
    "min1=optimize.minimize(-H,x0=4.5)\n",
    "min1['x']"
   ]
  },
  {
   "cell_type": "code",
   "execution_count": 181,
   "metadata": {},
   "outputs": [
    {
     "data": {
      "text/plain": [
       "array([5.91821427])"
      ]
     },
     "execution_count": 181,
     "metadata": {},
     "output_type": "execute_result"
    }
   ],
   "source": [
    "min1=optimize.minimize(-H,5.2)\n",
    "min1['x']"
   ]
  },
  {
   "cell_type": "markdown",
   "metadata": {},
   "source": [
    "minimum in a range"
   ]
  },
  {
   "cell_type": "code",
   "execution_count": 182,
   "metadata": {},
   "outputs": [
    {
     "data": {
      "text/plain": [
       "array([4.0150238])"
      ]
     },
     "execution_count": 182,
     "metadata": {},
     "output_type": "execute_result"
    }
   ],
   "source": [
    "min1=optimize.minimize(-H,x0=4,bounds=((3.5, 4.5), ) )\n",
    "min1['x']"
   ]
  },
  {
   "cell_type": "code",
   "execution_count": 183,
   "metadata": {},
   "outputs": [
    {
     "data": {
      "text/plain": [
       "4.015025330027828"
      ]
     },
     "execution_count": 183,
     "metadata": {},
     "output_type": "execute_result"
    }
   ],
   "source": [
    "xmin_local = optimize.fminbound(-H, 3.5, 4.5)\n",
    "xmin_local"
   ]
  },
  {
   "cell_type": "code",
   "execution_count": 184,
   "metadata": {},
   "outputs": [
    {
     "data": {
      "text/plain": [
       "array([4.01503906])"
      ]
     },
     "execution_count": 184,
     "metadata": {},
     "output_type": "execute_result"
    }
   ],
   "source": [
    "optimize.brute(-H,ranges=((3.5,4.5,0.1),))"
   ]
  },
  {
   "cell_type": "markdown",
   "metadata": {},
   "source": [
    "### Find a global minumum (alternative)"
   ]
  },
  {
   "cell_type": "code",
   "execution_count": 185,
   "metadata": {},
   "outputs": [
    {
     "data": {
      "text/plain": [
       "array([5.91821428])"
      ]
     },
     "execution_count": 185,
     "metadata": {},
     "output_type": "execute_result"
    }
   ],
   "source": [
    "min1=optimize.basinhopping(-H,5.5)\n",
    "min1['x']"
   ]
  },
  {
   "cell_type": "code",
   "execution_count": 186,
   "metadata": {},
   "outputs": [
    {
     "name": "stdout",
     "output_type": "stream",
     "text": [
      "Populating the interactive namespace from numpy and matplotlib\n"
     ]
    }
   ],
   "source": [
    "%pylab inline"
   ]
  },
  {
   "cell_type": "code",
   "execution_count": 187,
   "metadata": {},
   "outputs": [],
   "source": [
    "import pandas as pd"
   ]
  },
  {
   "cell_type": "markdown",
   "metadata": {
    "colab_type": "text",
    "id": "kcxcq_UHdgz4"
   },
   "source": [
    "## The Higgs potential\n",
    "To write greek letter inside a cell use the $\\rm \\LaTeX$ macro and the tab, e.g: `\\mu<TAB>`, to produce μ"
   ]
  },
  {
   "cell_type": "code",
   "execution_count": 188,
   "metadata": {
    "colab": {},
    "colab_type": "code",
    "id": "6gwXoy3Y4uHq"
   },
   "outputs": [],
   "source": [
    "α=2"
   ]
  },
  {
   "cell_type": "code",
   "execution_count": 189,
   "metadata": {
    "colab": {
     "base_uri": "https://localhost:8080/",
     "height": 34
    },
    "colab_type": "code",
    "id": "3_SlIknqdgz5",
    "outputId": "0097820d-8419-43ec-8bf3-93da3f3a4b1f"
   },
   "outputs": [
    {
     "data": {
      "text/plain": [
       "(89.09545442950498, 0.13093799079487806)"
      ]
     },
     "execution_count": 189,
     "metadata": {},
     "output_type": "execute_result"
    }
   ],
   "source": [
    "m_H=126 # GeV\n",
    "G_F=1.1663787E-5 #GeV^-2\n",
    "v=1/np.sqrt(np.sqrt(2.)*G_F) # GeV\n",
    "μ=np.sqrt(m_H**2/2)\n",
    "λ=m_H**2/(2.*v**2)\n",
    "μ,λ"
   ]
  },
  {
   "cell_type": "code",
   "execution_count": 190,
   "metadata": {
    "colab": {
     "base_uri": "https://localhost:8080/",
     "height": 303
    },
    "colab_type": "code",
    "id": "kjckHBGPdgz9",
    "outputId": "94ebd377-8942-4e8b-c468-f7a91ffcdf1b"
   },
   "outputs": [
    {
     "data": {
      "image/png": "[encoded data removed]",
      "text/plain": [
       "<Figure size 432x288 with 1 Axes>"
      ]
     },
     "metadata": {
      "needs_background": "light"
     },
     "output_type": "display_data"
    }
   ],
   "source": [
    "ϕ=np.linspace(-300,300)\n",
    "Vp=lambda ϕ: 0.5*μ**2*ϕ**2+0.25*λ*ϕ**4\n",
    "plt.plot(ϕ, Vp(ϕ) )\n",
    "plt.xlabel(r'$\\phi$ [GeV]',size=20 )\n",
    "plt.ylabel(r'$V(\\phi)$ [GeV]',size=20)\n",
    "plt.xlabel(r'$\\phi$ [GeV]',size=20 )\n",
    "plt.ylabel(r'$V(\\phi)$ [GeV$^4$]',size=20)\n",
    "plt.grid()"
   ]
  },
  {
   "cell_type": "code",
   "execution_count": 191,
   "metadata": {
    "colab": {},
    "colab_type": "code",
    "id": "hMQL-lgIdgz_"
   },
   "outputs": [],
   "source": [
    "μ=μ*1j\n",
    "V=lambda ϕ: Vp(ϕ).real"
   ]
  },
  {
   "cell_type": "code",
   "execution_count": 194,
   "metadata": {},
   "outputs": [
    {
     "data": {
      "text/plain": [
       "-92060568.64037189"
      ]
     },
     "execution_count": 194,
     "metadata": {},
     "output_type": "execute_result"
    }
   ],
   "source": [
    "Vp(ϕ)[0].real"
   ]
  },
  {
   "cell_type": "code",
   "execution_count": 195,
   "metadata": {
    "colab": {
     "base_uri": "https://localhost:8080/",
     "height": 276
    },
    "colab_type": "code",
    "id": "jML4SJqwdg0C",
    "outputId": "021254ef-48ed-423c-d093-24df196843ed"
   },
   "outputs": [
    {
     "data": {
      "image/png": "[encoded data removed]",
      "text/plain": [
       "<Figure size 432x288 with 1 Axes>"
      ]
     },
     "metadata": {
      "needs_background": "light"
     },
     "output_type": "display_data"
    }
   ],
   "source": [
    "ϕ=np.linspace(-380,380)\n",
    "plt.plot(ϕ, V(ϕ) )\n",
    "plt.grid()"
   ]
  },
  {
   "cell_type": "code",
   "execution_count": 196,
   "metadata": {
    "colab": {
     "base_uri": "https://localhost:8080/",
     "height": 85
    },
    "colab_type": "code",
    "id": "SiGF-Sgvdg0G",
    "outputId": "76da1e33-5b32-4c92-e0f1-d277fe73ea24"
   },
   "outputs": [
    {
     "name": "stdout",
     "output_type": "stream",
     "text": [
      "Optimization terminated successfully.\n",
      "         Current function value: -120308559.069597\n",
      "         Iterations: 4\n",
      "         Function evaluations: 74\n"
     ]
    }
   ],
   "source": [
    "fp=optimize.fmin_powell(V,200,ftol=1E-16,full_output=True)"
   ]
  },
  {
   "cell_type": "code",
   "execution_count": 197,
   "metadata": {
    "colab": {},
    "colab_type": "code",
    "id": "ow-5I0Szdg0K"
   },
   "outputs": [],
   "source": [
    "ϕ_min=fp[0]"
   ]
  },
  {
   "cell_type": "code",
   "execution_count": 198,
   "metadata": {
    "colab": {
     "base_uri": "https://localhost:8080/",
     "height": 34
    },
    "colab_type": "code",
    "id": "0svkw5eSdg0N",
    "outputId": "f2526a51-bd6a-483b-ab1c-e9b5b2b10594"
   },
   "outputs": [
    {
     "name": "stdout",
     "output_type": "stream",
     "text": [
      "246.21964987858152 246.21965079413738\n"
     ]
    }
   ],
   "source": [
    "print(ϕ_min,v)"
   ]
  },
  {
   "cell_type": "markdown",
   "metadata": {
    "colab_type": "text",
    "id": "CRgwJ5SVdg0T"
   },
   "source": [
    "##  Minimization in higher dimensions\n",
    "<div style=\"float: right;\" markdown=\"1\">\n",
    "    <img src=\"https://raw.githubusercontent.com/restrepo/ComputationalMethods/master/material/figures/mexicanhat.svg?sanitize=true\" width=\"300\">\n",
    "</div>\n",
    "\n",
    "For a complex scalar field with potential\n",
    "\\begin{equation}\n",
    "V(\\phi)=\\mu^2\\phi^*\\phi + \\lambda (\\phi^*\\phi)^2\n",
    "\\end{equation}\n",
    "with \n",
    "\\begin{equation}\n",
    "\\phi=\\frac{\\phi_1+i\\phi_2  }{\\sqrt{2} }\n",
    "\\end{equation}\n",
    "and $\\mu^2<0$, and $\\lambda>0$, find some of the infinite number of minimum values of $\\phi$, as illustrated in the figure, with the plane, $\\phi_1-\\phi_2$, moved to the minimum to easy the visualization. Expanding in terms of the real and imaginary part of $\\phi$\n",
    "\\begin{equation}\n",
    "V(\\phi)=\\frac{\\mu^2}{2}\\left(\\phi_1^2+\\phi_2^2 \\right) + \\frac{\\lambda}{4}\\left( \\phi_1^2+\\phi_2^2\\right)^2\n",
    "\\end{equation}\n",
    "\n"
   ]
  },
  {
   "cell_type": "code",
   "execution_count": 1,
   "metadata": {},
   "outputs": [
    {
     "name": "stdout",
     "output_type": "stream",
     "text": [
      "Populating the interactive namespace from numpy and matplotlib\n"
     ]
    }
   ],
   "source": [
    "%pylab inline\n",
    "from scipy import optimize\n",
    "import pandas as pd"
   ]
  },
  {
   "cell_type": "code",
   "execution_count": 2,
   "metadata": {},
   "outputs": [],
   "source": [
    "def f(ϕ,m_H=126,G_F=1.1663787E-5):\n",
    "    v=1/np.sqrt(np.sqrt(2.)*G_F) # GeV\n",
    "    μ=np.sqrt(m_H**2/2)*1j #imaginary mass\n",
    "    λ=m_H**2/(2.*v**2)\n",
    "    #print(μ,λ)\n",
    "    return ( 0.5*μ**2*(ϕ[0]**2+ϕ[1]**2)+0.25*λ*(ϕ[0]**2+ϕ[1]**2)**2 ).real"
   ]
  },
  {
   "cell_type": "markdown",
   "metadata": {},
   "source": [
    "Check a point of the function"
   ]
  },
  {
   "cell_type": "code",
   "execution_count": 3,
   "metadata": {},
   "outputs": [
    {
     "data": {
      "text/plain": [
       "-396572.6550230127"
      ]
     },
     "execution_count": 3,
     "metadata": {},
     "output_type": "execute_result"
    }
   ],
   "source": [
    "f([0,10])"
   ]
  },
  {
   "cell_type": "markdown",
   "metadata": {},
   "source": [
    "Check the minimim obtained when an inizialization point at $\\phi_0=(0,0)$"
   ]
  },
  {
   "cell_type": "code",
   "execution_count": 4,
   "metadata": {
    "colab": {
     "base_uri": "https://localhost:8080/",
     "height": 103
    },
    "colab_type": "code",
    "id": "86f1ZqusDBPa",
    "outputId": "e10517d1-0a89-4197-8bef-032878c034cc"
   },
   "outputs": [
    {
     "name": "stdout",
     "output_type": "stream",
     "text": [
      "Optimization terminated successfully.\n",
      "         Current function value: -120308559.069597\n",
      "         Iterations: 3\n",
      "         Function evaluations: 111\n"
     ]
    },
    {
     "data": {
      "text/plain": [
       "array([246.21914011,  -0.50137284])"
      ]
     },
     "execution_count": 4,
     "metadata": {},
     "output_type": "execute_result"
    }
   ],
   "source": [
    "fmin=optimize.fmin_powell(f,x0=[0,10],ftol=1E-16,full_output=True)\n",
    "fmin[0]"
   ]
  },
  {
   "cell_type": "markdown",
   "metadata": {},
   "source": [
    "Check the proyection of the minimum in the plane $\\phi_1-\\phi_2$"
   ]
  },
  {
   "cell_type": "code",
   "execution_count": 215,
   "metadata": {},
   "outputs": [
    {
     "name": "stdout",
     "output_type": "stream",
     "text": [
      "V(ϕ)=-120308559.1 GeV^4\n"
     ]
    }
   ],
   "source": [
    "print('V(ϕ)={} GeV^4'.format(fmin[1].round(1)))"
   ]
  },
  {
   "cell_type": "code",
   "execution_count": 5,
   "metadata": {
    "colab": {
     "base_uri": "https://localhost:8080/",
     "height": 34
    },
    "colab_type": "code",
    "id": "k1oZmo7GFWDl",
    "outputId": "fcd2d495-c0d6-4d0c-dbd3-425932c894a0"
   },
   "outputs": [
    {
     "data": {
      "text/plain": [
       "246.21965057683713"
      ]
     },
     "execution_count": 5,
     "metadata": {},
     "output_type": "execute_result"
    }
   ],
   "source": [
    "np.sqrt( fmin[0][0]**2+fmin[0][1]**2 )"
   ]
  },
  {
   "cell_type": "markdown",
   "metadata": {},
   "source": [
    "For random initialization points, we can get several minima"
   ]
  },
  {
   "cell_type": "code",
   "execution_count": 6,
   "metadata": {},
   "outputs": [
    {
     "data": {
      "text/plain": [
       "array([  14.51694022, -185.04344682])"
      ]
     },
     "execution_count": 6,
     "metadata": {},
     "output_type": "execute_result"
    }
   ],
   "source": [
    "np.random.uniform(-300,300,2)"
   ]
  },
  {
   "cell_type": "code",
   "execution_count": 7,
   "metadata": {},
   "outputs": [],
   "source": [
    "df=pd.DataFrame()\n",
    "for i in range(1000):\n",
    "    ϕ0=np.random.uniform(-300,300,2)\n",
    "    ϕmin=optimize.fmin_powell(f,x0=ϕ0,ftol=1E-16,disp=False)\n",
    "    df=df.append({'ϕ1':ϕmin[0],'ϕ2':ϕmin[1]},ignore_index=True)"
   ]
  },
  {
   "cell_type": "markdown",
   "metadata": {},
   "source": [
    "Projection of the minima in the plane, $\\phi_1,\\phi_2$"
   ]
  },
  {
   "cell_type": "code",
   "execution_count": 8,
   "metadata": {},
   "outputs": [
    {
     "data": {
      "text/html": [
       "<div>\n",
       "<style scoped>\n",
       "    .dataframe tbody tr th:only-of-type {\n",
       "        vertical-align: middle;\n",
       "    }\n",
       "\n",
       "    .dataframe tbody tr th {\n",
       "        vertical-align: top;\n",
       "    }\n",
       "\n",
       "    .dataframe thead th {\n",
       "        text-align: right;\n",
       "    }\n",
       "</style>\n",
       "<table border=\"1\" class=\"dataframe\">\n",
       "  <thead>\n",
       "    <tr style=\"text-align: right;\">\n",
       "      <th></th>\n",
       "      <th>ϕ1</th>\n",
       "      <th>ϕ2</th>\n",
       "    </tr>\n",
       "  </thead>\n",
       "  <tbody>\n",
       "    <tr>\n",
       "      <th>0</th>\n",
       "      <td>159.718611</td>\n",
       "      <td>-187.387519</td>\n",
       "    </tr>\n",
       "    <tr>\n",
       "      <th>1</th>\n",
       "      <td>242.337264</td>\n",
       "      <td>-43.551885</td>\n",
       "    </tr>\n",
       "    <tr>\n",
       "      <th>2</th>\n",
       "      <td>239.405273</td>\n",
       "      <td>-57.525921</td>\n",
       "    </tr>\n",
       "  </tbody>\n",
       "</table>\n",
       "</div>"
      ],
      "text/plain": [
       "           ϕ1          ϕ2\n",
       "0  159.718611 -187.387519\n",
       "1  242.337264  -43.551885\n",
       "2  239.405273  -57.525921"
      ]
     },
     "execution_count": 8,
     "metadata": {},
     "output_type": "execute_result"
    }
   ],
   "source": [
    "df[:3]"
   ]
  },
  {
   "cell_type": "code",
   "execution_count": 9,
   "metadata": {},
   "outputs": [
    {
     "data": {
      "image/png": "[encoded data removed]",
      "text/plain": [
       "<Figure size 432x432 with 1 Axes>"
      ]
     },
     "metadata": {
      "needs_background": "light"
     },
     "output_type": "display_data"
    }
   ],
   "source": [
    "plt.figure( figsize=(6,6) )\n",
    "plt.plot(df['ϕ1'],df['ϕ2'],'r.',label=r'$\\phi_{{\\rm min}}={}$ GeV'.format(\n",
    "    np.sqrt(df.loc[0,'ϕ1']**2+df.loc[0,'ϕ2']**2).round(1)))\n",
    "plt.plot(df.loc[0,'ϕ1'],df.loc[0,'ϕ2'],'k*',label='Our Universe',markersize=10)\n",
    "plt.xlabel('$\\phi_1$',size=15)\n",
    "plt.ylabel('$\\phi_2$',size=15)\n",
    "plt.legend(loc='best')\n",
    "plt.grid()"
   ]
  },
  {
   "cell_type": "markdown",
   "metadata": {
    "colab_type": "text",
    "id": "n2o2H-HHdg0T"
   },
   "source": [
    "## Least action\n",
    "See [Least action minimization](./least_action_minimization.ipynb)"
   ]
  },
  {
   "cell_type": "markdown",
   "metadata": {
    "colab_type": "text",
    "id": "AXKLZojEdg0s"
   },
   "source": [
    "### Further material\n",
    "http://www.damtp.cam.ac.uk/user/nsm10/PrincLeaAc.pdf\n",
    "https://jfuchs.hotell.kau.se/kurs/amek/prst/14_hpvp.pdf\n",
    "\n",
    "https://www.coursera.org/learn/general-relativity/lecture/8UHtE/the-least-action-or-minimal-action-principle-part-1\n",
    "\n",
    "https://jfi.uchicago.edu/~tten/from.panza/Physics185/Handouts/rubber-band%20analogy.pdf"
   ]
  }
 ],
 "metadata": {
  "colab": {
   "collapsed_sections": [],
   "include_colab_link": true,
   "name": "Minimization.ipynb",
   "provenance": [],
   "toc_visible": true
  },
  "kernelspec": {
   "display_name": "Python 3",
   "language": "python",
   "name": "python3"
  },
  "language_info": {
   "codemirror_mode": {
    "name": "ipython",
    "version": 3
   },
   "file_extension": ".py",
   "mimetype": "text/x-python",
   "name": "python",
   "nbconvert_exporter": "python",
   "pygments_lexer": "ipython3",
   "version": "3.5.3"
  }
 },
 "nbformat": 4,
 "nbformat_minor": 4
}
