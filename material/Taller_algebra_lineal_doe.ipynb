{
 "cells": [
  {
   "cell_type": "markdown",
   "metadata": {},
   "source": [
    "# Taller álgebra lineal y ecuaciones diferenciales\n",
    "<!-- 1406.3546 -->"
   ]
  },
  {
   "cell_type": "markdown",
   "metadata": {},
   "source": [
    "1. Encuentre los atovalores y las matrices de diagonalización, tanto con numpy como con scipy"
   ]
  },
  {
   "cell_type": "code",
   "execution_count": 1,
   "metadata": {},
   "outputs": [
    {
     "name": "stdout",
     "output_type": "stream",
     "text": [
      "Populating the interactive namespace from numpy and matplotlib\n"
     ]
    }
   ],
   "source": [
    "%pylab inline"
   ]
  },
  {
   "cell_type": "code",
   "execution_count": 19,
   "metadata": {},
   "outputs": [],
   "source": [
    "from scipy import linalg\n",
    "import numpy as np"
   ]
  },
  {
   "cell_type": "code",
   "execution_count": 6,
   "metadata": {},
   "outputs": [],
   "source": [
    "M=np.array([[1,3,8],\n",
    "            [4,3,2],\n",
    "            [1,5,3]])"
   ]
  },
  {
   "cell_type": "code",
   "execution_count": 7,
   "metadata": {},
   "outputs": [],
   "source": [
    "λ2,V=np.linalg.eig(np.dot(M,M.transpose())) #V "
   ]
  },
  {
   "cell_type": "code",
   "execution_count": 11,
   "metadata": {},
   "outputs": [],
   "source": [
    "λ2,UU=np.linalg.eig( np.dot(M.transpose(),M) ) #U"
   ]
  },
  {
   "cell_type": "markdown",
   "metadata": {},
   "source": [
    "El reordenamiento tambien funciona con $V$"
   ]
  },
  {
   "cell_type": "code",
   "execution_count": 13,
   "metadata": {},
   "outputs": [],
   "source": [
    "U=np.hstack(  [ np.reshape( UU[:,0],(3,1)  ),\n",
    "                 np.reshape( UU[:,2],(3,1)  ),\n",
    "                 np.reshape( UU[:,1],(3,1)  )] )"
   ]
  },
  {
   "cell_type": "code",
   "execution_count": 14,
   "metadata": {},
   "outputs": [
    {
     "data": {
      "text/plain": [
       "array([[-10.75165105,  -0.        ,  -0.        ],\n",
       "       [ -0.        ,   4.08488967,   0.        ],\n",
       "       [  0.        ,   0.        ,   2.39074803]])"
      ]
     },
     "execution_count": 14,
     "metadata": {},
     "output_type": "execute_result"
    }
   ],
   "source": [
    "np.dot( np.dot( V.transpose(),M),U).round(13)"
   ]
  },
  {
   "cell_type": "code",
   "execution_count": 15,
   "metadata": {},
   "outputs": [
    {
     "data": {
      "text/plain": [
       "array([ 10.75165105,   2.39074803,   4.08488967])"
      ]
     },
     "execution_count": 15,
     "metadata": {},
     "output_type": "execute_result"
    }
   ],
   "source": [
    "np.sqrt(λ2)"
   ]
  },
  {
   "cell_type": "code",
   "execution_count": 25,
   "metadata": {},
   "outputs": [
    {
     "data": {
      "text/plain": [
       "(array([ 9.67292784+0.j        , -1.33646392+3.01146182j,\n",
       "        -1.33646392-3.01146182j]),\n",
       " array([[-0.37851909+0.j        , -0.30833931-0.37484143j,\n",
       "         -0.30833931+0.37484143j],\n",
       "        [-0.65796679+0.j        , -0.27614708+0.45108888j,\n",
       "         -0.27614708-0.45108888j],\n",
       "        [-0.65100154+0.j        ,  0.69619134+0.j        ,  0.69619134-0.j        ]]),\n",
       " array([[-0.66121269+0.j        , -0.71966834+0.j        , -0.71966834-0.j        ],\n",
       "        [-0.54944805+0.j        ,  0.32760757+0.42615544j,\n",
       "          0.32760757-0.42615544j],\n",
       "        [-0.51078823+0.j        ,  0.08733205-0.43071501j,\n",
       "          0.08733205+0.43071501j]]))"
      ]
     },
     "execution_count": 25,
     "metadata": {},
     "output_type": "execute_result"
    }
   ],
   "source": [
    "linalg.eig( M,left=True,right=True)"
   ]
  },
  {
   "cell_type": "code",
   "execution_count": 22,
   "metadata": {},
   "outputs": [
    {
     "data": {
      "text/plain": [
       "array([ 9.67292784,  3.29469848,  3.29469848])"
      ]
     },
     "execution_count": 22,
     "metadata": {},
     "output_type": "execute_result"
    }
   ],
   "source": [
    "np.abs(λ)"
   ]
  },
  {
   "cell_type": "code",
   "execution_count": 72,
   "metadata": {},
   "outputs": [
    {
     "data": {
      "text/plain": [
       "(9.6729278368191807+0j)"
      ]
     },
     "execution_count": 72,
     "metadata": {},
     "output_type": "execute_result"
    }
   ],
   "source": [
    "λ[0]"
   ]
  },
  {
   "cell_type": "markdown",
   "metadata": {},
   "source": [
    "2. Solucione y gráfique la solución de \n",
    "\\begin{align}\n",
    " \\frac{dx}{dt}=&6y\\\\\n",
    "\\frac{dy}{dt}=&(2t-3x)/4y\n",
    "\\end{align}\n",
    "with $x_0=1$ and $y_0=2$.\n",
    "<!--https://stackoverflow.com/a/34620576/2268280 -->"
   ]
  },
  {
   "cell_type": "code",
   "execution_count": 152,
   "metadata": {},
   "outputs": [],
   "source": [
    "x0,y0=[1,2]"
   ]
  },
  {
   "cell_type": "code",
   "execution_count": 153,
   "metadata": {},
   "outputs": [
    {
     "data": {
      "text/plain": [
       "1"
      ]
     },
     "execution_count": 153,
     "metadata": {},
     "output_type": "execute_result"
    }
   ],
   "source": [
    "x0"
   ]
  },
  {
   "cell_type": "code",
   "execution_count": 154,
   "metadata": {},
   "outputs": [
    {
     "data": {
      "text/plain": [
       "2"
      ]
     },
     "execution_count": 154,
     "metadata": {},
     "output_type": "execute_result"
    }
   ],
   "source": [
    "y0"
   ]
  },
  {
   "cell_type": "code",
   "execution_count": 148,
   "metadata": {},
   "outputs": [],
   "source": [
    "def dU_dt(U,t):\n",
    "    x,y=U\n",
    "    return [6*y,\n",
    "            (2*t-3*x)/(4.*y)]"
   ]
  },
  {
   "cell_type": "code",
   "execution_count": 149,
   "metadata": {},
   "outputs": [],
   "source": [
    "import scipy.integrate as integrate"
   ]
  },
  {
   "cell_type": "code",
   "execution_count": 155,
   "metadata": {},
   "outputs": [
    {
     "data": {
      "text/plain": [
       "[<matplotlib.lines.Line2D at 0x7f6c60e6d978>]"
      ]
     },
     "execution_count": 155,
     "metadata": {},
     "output_type": "execute_result"
    },
    {
     "data": {
      "image/png": "[encoded data removed]",
      "text/plain": [
       "<matplotlib.figure.Figure at 0x7f6c60ec5048>"
      ]
     },
     "metadata": {},
     "output_type": "display_data"
    }
   ],
   "source": [
    "tmax=0.642\n",
    "t=np.linspace(0.,tmax,100)\n",
    "U=integrate.odeint(dU_dt,[x0,y0],t)\n",
    "plt.plot( t,U[:,0] )\n",
    "plt.plot( t,U[:,1] )"
   ]
  },
  {
   "cell_type": "code",
   "execution_count": 109,
   "metadata": {},
   "outputs": [],
   "source": [
    "t=np.linspace(0.34,1,100)\n",
    "U=integrate.odeint(dU_dt,[1,2],t)"
   ]
  },
  {
   "cell_type": "code",
   "execution_count": 107,
   "metadata": {},
   "outputs": [
    {
     "data": {
      "text/plain": [
       "[<matplotlib.lines.Line2D at 0x7f6c61e3ff60>]"
      ]
     },
     "execution_count": 107,
     "metadata": {},
     "output_type": "execute_result"
    },
    {
     "data": {
      "image/png": "[encoded data removed]",
      "text/plain": [
       "<matplotlib.figure.Figure at 0x7f6c61e66748>"
      ]
     },
     "metadata": {},
     "output_type": "display_data"
    }
   ],
   "source": [
    "plt.plot( t,U[:,0] )"
   ]
  },
  {
   "cell_type": "markdown",
   "metadata": {},
   "source": [
    "3. Encuentre el espacio de fase de un resorte de constante elástica $k=0.1$ N/m con una masa en el extremo de $0.1$ Kg."
   ]
  },
  {
   "cell_type": "markdown",
   "metadata": {},
   "source": [
    "3. Implemente la solución de [aquú](http://www.physics.nyu.edu/pine/pymanual/html/chap9/chap9_scipy.html#solving-odes)"
   ]
  },
  {
   "cell_type": "markdown",
   "metadata": {},
   "source": [
    "1. Implemente https://ipython-books.github.io/123-simulating-an-ordinary-differential-equation-with-scipy/"
   ]
  },
  {
   "cell_type": "code",
   "execution_count": null,
   "metadata": {},
   "outputs": [],
   "source": []
  }
 ],
 "metadata": {
  "kernelspec": {
   "display_name": "Python 3",
   "language": "python",
   "name": "python3"
  },
  "language_info": {
   "codemirror_mode": {
    "name": "ipython",
    "version": 3
   },
   "file_extension": ".py",
   "mimetype": "text/x-python",
   "name": "python",
   "nbconvert_exporter": "python",
   "pygments_lexer": "ipython3",
   "version": "3.5.3"
  }
 },
 "nbformat": 4,
 "nbformat_minor": 2
}
