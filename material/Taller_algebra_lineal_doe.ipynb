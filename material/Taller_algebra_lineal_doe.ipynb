{
 "cells": [
  {
   "cell_type": "markdown",
   "metadata": {},
   "source": [
    "# Taller álgebra lineal y ecuaciones diferenciales\n",
    "<!-- 1406.3546 -->"
   ]
  },
  {
   "cell_type": "markdown",
   "metadata": {},
   "source": [
    "1. Encuentre los atovalores y las matrices de diagonalización, tanto con numpy como con scipy"
   ]
  },
  {
   "cell_type": "code",
   "execution_count": 11,
   "metadata": {},
   "outputs": [],
   "source": [
    "import numpy as np"
   ]
  },
  {
   "cell_type": "code",
   "execution_count": 10,
   "metadata": {},
   "outputs": [
    {
     "name": "stdout",
     "output_type": "stream",
     "text": [
      "Help on function eig in module scipy.linalg.decomp:\n",
      "\n",
      "eig(a, b=None, left=False, right=True, overwrite_a=False, overwrite_b=False, check_finite=True, homogeneous_eigvals=False)\n",
      "    Solve an ordinary or generalized eigenvalue problem of a square matrix.\n",
      "    \n",
      "    Find eigenvalues w and right or left eigenvectors of a general matrix::\n",
      "    \n",
      "        a   vr[:,i] = w[i]        b   vr[:,i]\n",
      "        a.H vl[:,i] = w[i].conj() b.H vl[:,i]\n",
      "    \n",
      "    where ``.H`` is the Hermitian conjugation.\n",
      "    \n",
      "    Parameters\n",
      "    ----------\n",
      "    a : (M, M) array_like\n",
      "        A complex or real matrix whose eigenvalues and eigenvectors\n",
      "        will be computed.\n",
      "    b : (M, M) array_like, optional\n",
      "        Right-hand side matrix in a generalized eigenvalue problem.\n",
      "        Default is None, identity matrix is assumed.\n",
      "    left : bool, optional\n",
      "        Whether to calculate and return left eigenvectors.  Default is False.\n",
      "    right : bool, optional\n",
      "        Whether to calculate and return right eigenvectors.  Default is True.\n",
      "    overwrite_a : bool, optional\n",
      "        Whether to overwrite `a`; may improve performance.  Default is False.\n",
      "    overwrite_b : bool, optional\n",
      "        Whether to overwrite `b`; may improve performance.  Default is False.\n",
      "    check_finite : bool, optional\n",
      "        Whether to check that the input matrices contain only finite numbers.\n",
      "        Disabling may give a performance gain, but may result in problems\n",
      "        (crashes, non-termination) if the inputs do contain infinities or NaNs.\n",
      "    homogeneous_eigvals : bool, optional\n",
      "        If True, return the eigenvalues in homogeneous coordinates.\n",
      "        In this case ``w`` is a (2, M) array so that::\n",
      "    \n",
      "            w[1,i] a vr[:,i] = w[0,i] b vr[:,i]\n",
      "    \n",
      "        Default is False.\n",
      "    \n",
      "    Returns\n",
      "    -------\n",
      "    w : (M,) or (2, M) double or complex ndarray\n",
      "        The eigenvalues, each repeated according to its\n",
      "        multiplicity. The shape is (M,) unless\n",
      "        ``homogeneous_eigvals=True``.\n",
      "    vl : (M, M) double or complex ndarray\n",
      "        The normalized left eigenvector corresponding to the eigenvalue\n",
      "        ``w[i]`` is the column vl[:,i]. Only returned if ``left=True``.\n",
      "    vr : (M, M) double or complex ndarray\n",
      "        The normalized right eigenvector corresponding to the eigenvalue\n",
      "        ``w[i]`` is the column ``vr[:,i]``.  Only returned if ``right=True``.\n",
      "    \n",
      "    Raises\n",
      "    ------\n",
      "    LinAlgError\n",
      "        If eigenvalue computation does not converge.\n",
      "    \n",
      "    See Also\n",
      "    --------\n",
      "    eigh : Eigenvalues and right eigenvectors for symmetric/Hermitian arrays.\n",
      "\n"
     ]
    }
   ],
   "source": [
    "import scipy as sp\n",
    "help(sp.linalg.eig)"
   ]
  },
  {
   "cell_type": "code",
   "execution_count": 3,
   "metadata": {},
   "outputs": [],
   "source": [
    "M=sp.array([[1,3,8],\n",
    "            [4,3,2],\n",
    "            [1,5,3]])"
   ]
  },
  {
   "cell_type": "markdown",
   "metadata": {},
   "source": [
    "2. Solucione y gráfique la solución de \n",
    "\\begin{align}\n",
    " \\frac{dx}{dt}=&6y\\\\\n",
    "\\frac{dy}{dt}=&(2t-3x)/4y\n",
    "\\end{align}\n",
    "with $x_0=1$ and $y_0=2$.\n",
    "<!--https://stackoverflow.com/a/34620576/2268280 -->"
   ]
  },
  {
   "cell_type": "markdown",
   "metadata": {},
   "source": [
    "3. Encuentre el espacio de fase de un resorte de constante elástica $k=0.1$ N/m con una masa en el extremo de $0.1$ Kg."
   ]
  },
  {
   "cell_type": "markdown",
   "metadata": {},
   "source": [
    "3. Implemente la solución de [aquú](http://www.physics.nyu.edu/pine/pymanual/html/chap9/chap9_scipy.html#solving-odes)"
   ]
  },
  {
   "cell_type": "code",
   "execution_count": null,
   "metadata": {},
   "outputs": [],
   "source": []
  }
 ],
 "metadata": {
  "kernelspec": {
   "display_name": "Python 3",
   "language": "python",
   "name": "python3"
  },
  "language_info": {
   "codemirror_mode": {
    "name": "ipython",
    "version": 3
   },
   "file_extension": ".py",
   "mimetype": "text/x-python",
   "name": "python",
   "nbconvert_exporter": "python",
   "pygments_lexer": "ipython3",
   "version": "3.5.3"
  }
 },
 "nbformat": 4,
 "nbformat_minor": 2
}
