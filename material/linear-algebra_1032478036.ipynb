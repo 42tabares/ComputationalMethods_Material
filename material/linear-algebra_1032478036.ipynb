{
 "cells": [
  {
   "cell_type": "code",
   "execution_count": 1,
   "metadata": {},
   "outputs": [
    {
     "name": "stdout",
     "output_type": "stream",
     "text": [
      "Populating the interactive namespace from numpy and matplotlib\n"
     ]
    }
   ],
   "source": [
    "import numpy as np\n",
    "import sympy\n",
    "sympy.init_printing()\n",
    "%pylab inline"
   ]
  },
  {
   "cell_type": "markdown",
   "metadata": {},
   "source": [
    "Se buscan las soluciones del siguiente sistema de ecuaciones lineales:\n",
    "\n",
    "$$ \\left[ \\matrix{\n",
    "2 & -1 & 1 \\\\\n",
    "-1 & 3 & -2 \\\\ \n",
    "1 & -2 & 4\n",
    "}\\right] \n",
    "\\left[ \\matrix{\n",
    "x_{1} \\\\\n",
    "x_{2} \\\\\n",
    "x_{3} \n",
    "}\\right]  =\n",
    "\\left[ \\matrix{\n",
    "1 \\\\\n",
    "2 \\\\\n",
    "0\n",
    "}\\right]$$\n"
   ]
  },
  {
   "cell_type": "code",
   "execution_count": 2,
   "metadata": {
    "collapsed": true
   },
   "outputs": [],
   "source": [
    "M = np.matrix([[2,-1,1],[-1,3,-2],[1,-2,4]])"
   ]
  },
  {
   "cell_type": "code",
   "execution_count": 3,
   "metadata": {
    "collapsed": true
   },
   "outputs": [],
   "source": [
    "A=M"
   ]
  },
  {
   "cell_type": "code",
   "execution_count": 4,
   "metadata": {
    "collapsed": true
   },
   "outputs": [],
   "source": [
    "A_diag,V=np.linalg.eig(A)"
   ]
  },
  {
   "cell_type": "code",
   "execution_count": 5,
   "metadata": {},
   "outputs": [
    {
     "data": {
      "text/latex": [
       "$$\\left[\\begin{matrix}6.0489173395223 & 0.0 & 0.0\\\\0.0 & 1.64310413210779 & 0.0\\\\0.0 & 0.0 & 1.3079785283699\\end{matrix}\\right]$$"
      ],
      "text/plain": [
       "⎡6.0489173395223        0.0               0.0      ⎤\n",
       "⎢                                                  ⎥\n",
       "⎢      0.0        1.64310413210779        0.0      ⎥\n",
       "⎢                                                  ⎥\n",
       "⎣      0.0              0.0         1.3079785283699⎦"
      ]
     },
     "execution_count": 5,
     "metadata": {},
     "output_type": "execute_result"
    }
   ],
   "source": [
    "A_diag=np.diag(A_diag)\n",
    "sympy.Matrix(A_diag)"
   ]
  },
  {
   "cell_type": "markdown",
   "metadata": {},
   "source": [
    "**1) Prueba de que V es ortogonal**"
   ]
  },
  {
   "cell_type": "code",
   "execution_count": 6,
   "metadata": {
    "collapsed": true
   },
   "outputs": [],
   "source": [
    "Vt=np.transpose(V)\n",
    "I=np.dot(V,Vt)"
   ]
  },
  {
   "cell_type": "markdown",
   "metadata": {},
   "source": [
    "We first check the proper order of the diagonalization"
   ]
  },
  {
   "cell_type": "code",
   "execution_count": 7,
   "metadata": {},
   "outputs": [
    {
     "data": {
      "text/latex": [
       "$$\\left[\\begin{matrix}6.04891733952231 & 0.0 & 0.0\\\\0.0 & 1.64310413210779 & 0.0\\\\0.0 & 0.0 & 1.3079785283699\\end{matrix}\\right]$$"
      ],
      "text/plain": [
       "⎡6.04891733952231        0.0               0.0      ⎤\n",
       "⎢                                                   ⎥\n",
       "⎢      0.0         1.64310413210779        0.0      ⎥\n",
       "⎢                                                   ⎥\n",
       "⎣      0.0               0.0         1.3079785283699⎦"
      ]
     },
     "execution_count": 7,
     "metadata": {},
     "output_type": "execute_result"
    }
   ],
   "source": [
    "sympy.Matrix(np.dot(np.dot( V.transpose(),A ), V).round(14))"
   ]
  },
  {
   "cell_type": "markdown",
   "metadata": {},
   "source": [
    "If we make\n",
    "$$ \\boldsymbol{U}=[\\boldsymbol{U}_1,\\boldsymbol{U}_2,\\boldsymbol{U}_3], \\qquad \\boldsymbol{V}=[\\boldsymbol{V}_1,\\boldsymbol{V}_2,\\boldsymbol{V}_3] $$\n",
    "\n",
    "We know that there exists a bi-diagonal transformación such that\n",
    "\\begin{equation}\n",
    "  \\boldsymbol{A}\\,\\boldsymbol{U}=\\boldsymbol{V}\\boldsymbol{A}_{\\text{diag}}\n",
    "\\end{equation}\n",
    "\\begin{equation}\n",
    "  \\boldsymbol{A}\\,\\boldsymbol{U}_i=\\lambda_i\\boldsymbol{V}_i\n",
    "\\end{equation}\n",
    "\n",
    "We can use this to check the proper order of the eigenvalues"
   ]
  },
  {
   "cell_type": "code",
   "execution_count": 8,
   "metadata": {},
   "outputs": [
    {
     "data": {
      "text/plain": [
       "matrix([[-0.32798528],\n",
       "        [ 0.59100905],\n",
       "        [-0.73697623]])"
      ]
     },
     "metadata": {},
     "output_type": "display_data"
    },
    {
     "data": {
      "text/plain": [
       "matrix([[ 0.73697623],\n",
       "        [-0.32798528],\n",
       "        [-0.59100905]])"
      ]
     },
     "metadata": {},
     "output_type": "display_data"
    },
    {
     "data": {
      "text/plain": [
       "matrix([[ 0.59100905],\n",
       "        [ 0.73697623],\n",
       "        [ 0.32798528]])"
      ]
     },
     "metadata": {},
     "output_type": "display_data"
    }
   ],
   "source": [
    "V0=np.reshape( V[:,0],(3,1))\n",
    "V1=np.reshape( V[:,1],(3,1))\n",
    "V2=np.reshape( V[:,2],(3,1))\n",
    "display(V0)\n",
    "display(V1)\n",
    "display(V2)"
   ]
  },
  {
   "cell_type": "code",
   "execution_count": 9,
   "metadata": {},
   "outputs": [
    {
     "data": {
      "text/plain": [
       "matrix([[-1.98395583],\n",
       "        [ 3.57496488],\n",
       "        [-4.45790829]])"
      ]
     },
     "metadata": {},
     "output_type": "display_data"
    },
    {
     "data": {
      "text/plain": [
       "matrix([[-1.98395583],\n",
       "        [ 3.57496488],\n",
       "        [-4.45790829]])"
      ]
     },
     "metadata": {},
     "output_type": "display_data"
    },
    {
     "data": {
      "text/plain": [
       "(None, None)"
      ]
     },
     "execution_count": 9,
     "metadata": {},
     "output_type": "execute_result"
    }
   ],
   "source": [
    "display(( np.dot(A,V0) )),display((A_diag[0,0]*V0))"
   ]
  },
  {
   "cell_type": "code",
   "execution_count": 10,
   "metadata": {},
   "outputs": [
    {
     "data": {
      "text/plain": [
       "matrix([[ 1.21092869],\n",
       "        [-0.53891396],\n",
       "        [-0.97108941]])"
      ]
     },
     "metadata": {},
     "output_type": "display_data"
    },
    {
     "data": {
      "text/plain": [
       "matrix([[ 1.21092869],\n",
       "        [-0.53891396],\n",
       "        [-0.97108941]])"
      ]
     },
     "metadata": {},
     "output_type": "display_data"
    },
    {
     "data": {
      "text/plain": [
       "(None, None)"
      ]
     },
     "execution_count": 10,
     "metadata": {},
     "output_type": "execute_result"
    }
   ],
   "source": [
    "display(np.dot(A,V1)), display(A_diag[1,1]*V1)"
   ]
  },
  {
   "cell_type": "markdown",
   "metadata": {},
   "source": [
    "**2) Reordenando U de menor a mayor **"
   ]
  },
  {
   "cell_type": "code",
   "execution_count": 11,
   "metadata": {},
   "outputs": [
    {
     "data": {
      "text/latex": [
       "$$\\left[\\begin{matrix}1.3079785283699 & 0.0 & 0.0\\\\0.0 & 1.64310413210779 & 0.0\\\\0.0 & 0.0 & 6.04891733952231\\end{matrix}\\right]$$"
      ],
      "text/plain": [
       "⎡1.3079785283699        0.0               0.0       ⎤\n",
       "⎢                                                   ⎥\n",
       "⎢      0.0        1.64310413210779        0.0       ⎥\n",
       "⎢                                                   ⎥\n",
       "⎣      0.0              0.0         6.04891733952231⎦"
      ]
     },
     "execution_count": 11,
     "metadata": {},
     "output_type": "execute_result"
    }
   ],
   "source": [
    "U=np.hstack((V2,V1,V0))\n",
    "sympy.Matrix(np.dot(np.dot(U.transpose(),A), U).round(14))"
   ]
  },
  {
   "cell_type": "markdown",
   "metadata": {},
   "source": [
    "**3) Reordenando U de mayor a menor**"
   ]
  },
  {
   "cell_type": "code",
   "execution_count": 12,
   "metadata": {},
   "outputs": [
    {
     "data": {
      "text/latex": [
       "$$\\left[\\begin{matrix}6.04891733952231 & 0.0 & 0.0\\\\0.0 & 1.64310413210779 & 0.0\\\\0.0 & 0.0 & 1.3079785283699\\end{matrix}\\right]$$"
      ],
      "text/plain": [
       "⎡6.04891733952231        0.0               0.0      ⎤\n",
       "⎢                                                   ⎥\n",
       "⎢      0.0         1.64310413210779        0.0      ⎥\n",
       "⎢                                                   ⎥\n",
       "⎣      0.0               0.0         1.3079785283699⎦"
      ]
     },
     "execution_count": 12,
     "metadata": {},
     "output_type": "execute_result"
    }
   ],
   "source": [
    "U=np.hstack((V0,V1,V2))\n",
    "sympy.Matrix(np.dot(np.dot( U.transpose(),A ), U).round(14))"
   ]
  },
  {
   "cell_type": "markdown",
   "metadata": {},
   "source": [
    "**4) Soluciones**"
   ]
  },
  {
   "cell_type": "code",
   "execution_count": 13,
   "metadata": {
    "collapsed": true
   },
   "outputs": [],
   "source": [
    "B=np.array([[1],[2],[0]])"
   ]
  },
  {
   "cell_type": "code",
   "execution_count": 14,
   "metadata": {},
   "outputs": [
    {
     "data": {
      "text/plain": [
       "matrix([[ 0.85403282],\n",
       "        [ 0.08100567],\n",
       "        [ 2.06496151]])"
      ]
     },
     "execution_count": 14,
     "metadata": {},
     "output_type": "execute_result"
    }
   ],
   "source": [
    "Bp=np.dot(V.transpose(),B)\n",
    "Xp=np.dot(np.linalg.inv(A_diag),Bp)\n",
    "Bp"
   ]
  },
  {
   "cell_type": "code",
   "execution_count": 15,
   "metadata": {},
   "outputs": [
    {
     "name": "stdout",
     "output_type": "stream",
     "text": [
      "Las soluciones al sistema de ecuaciones lineales son: \n",
      "x1=[[ 0.92307692]] \n",
      "x2=[[ 1.23076923]] \n",
      "x3=[[ 0.38461538]]\n"
     ]
    }
   ],
   "source": [
    "X=np.dot(V,Xp)\n",
    "print(\"Las soluciones al sistema de ecuaciones lineales son: \\nx1={} \\nx2={} \\nx3={}\".format(X[0],X[1],X[2]))"
   ]
  },
  {
   "cell_type": "code",
   "execution_count": null,
   "metadata": {
    "collapsed": true
   },
   "outputs": [],
   "source": []
  }
 ],
 "metadata": {
  "kernelspec": {
   "display_name": "Python 3",
   "language": "python",
   "name": "python3"
  },
  "language_info": {
   "codemirror_mode": {
    "name": "ipython",
    "version": 3
   },
   "file_extension": ".py",
   "mimetype": "text/x-python",
   "name": "python",
   "nbconvert_exporter": "python",
   "pygments_lexer": "ipython3",
   "version": "3.4.2"
  }
 },
 "nbformat": 4,
 "nbformat_minor": 2
}
