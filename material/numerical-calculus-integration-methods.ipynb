{
 "cells": [
  {
   "cell_type": "markdown",
   "metadata": {},
   "source": [
    "# Integration for data points\n",
    "<a href=\"https://colab.research.google.com/github/restrepo/ComputationalMethods/blob/master/material/numerical-calculus-integration-methods.ipynb\" target=\"_parent\"><img src=\"https://colab.research.google.com/assets/colab-badge.svg\" alt=\"Open In Colab\"/></a>"
   ]
  },
  {
   "cell_type": "markdown",
   "metadata": {
    "colab_type": "text",
    "id": "dvZRcSsnNqCK"
   },
   "source": [
    "## Numerical approximation of integrals"
   ]
  },
  {
   "cell_type": "markdown",
   "metadata": {
    "colab_type": "text",
    "id": "YIixIlcWNqCM"
   },
   "source": [
    "The methods for numerical approximation that we will study here rely in the idea of approximate \n",
    "$$\\int_a^b f(x)\\operatorname{d}x\\,,$$\n",
    "by using some polinomial $p$, such that\n",
    "$$\\int_a^b f(x)\\operatorname{d}x\\approx \\int_a^b P_n(x)\\operatorname{d}x\\,,$$\n",
    "The integral of a polynomial can be calculated analytically because we know its antiderivative.\n",
    "\n",
    "Since, as we seen in [Lagrange-Polynomial](interpolation.ipynb#Lagrange-Polynomial), the next polynomial of $n$th-degree \n",
    "$$P_n(x) = \\sum_{i=0}^n f(x_i)L_{n,i}(x) = \\sum_{i=0}^n y_iL_{n,i}(x)\\,,$$\n",
    "where \n",
    "$$L_{n,i}(x) = \\prod_{\\begin{smallmatrix}m=0\\\\ m\\neq i\\end{smallmatrix}}^n \\frac{x-x_m}{x_i-x_m} =\\frac{(x-x_0)}{(x_i-x_0)}\\frac{(x-x_1)}{(x_i-x_1)}\\cdots \\frac{(x-x_{i-1})}{(x_i-x_{i-1})}\\underbrace{\\frac{}{}}_{m\\ne i}\n",
    "\\frac{(x-x_{i+1})}{(x_i-x_{i+1})} \\cdots \\frac{(x-x_{n-1})}{(x_i-x_{n-1})}\\frac{(x-x_n)}{(x_i-x_n)}  $$\n",
    "Given a well-behaved function $f(x)$, we have then\n",
    "\n",
    "$$f(x) \\approx \\sum_{k=0}^n f(x_k)L_{n,k}(x)$$\n",
    "\n",
    "\\begin{align}\n",
    "%$$ trick notebook cell\n",
    "\\int_a^b f(x)dx =& \\int_a^b\\sum_{k=0}^n f(x_k)L_{n,k}(x)dx \\\\\n",
    "=&\\sum_{k=0}^n f(x_k) \\int_a^b L_{n,k}(x)dx \\\\\n",
    "=&\\sum_{k=0}^n f(x_k) \\omega_k \\,\n",
    "%$$\n",
    "\\end{align}\n",
    "<!-- http://pages.cs.wisc.edu/~amos/412/lecture-notes/lecture18.pdf -->\n",
    "where $\\omega_k$ is a _weight_ applied to each function value:\n",
    "$$\\omega_k = \\int_a^b L_{n,k}(x) dx= \\int_a^b\\prod_{j=0,\\ j\\neq k}^{n}\\frac{(x-x_j)}{(x_k-x_j)}dx$$\n",
    "Note that, since Lagrange polynomials do not depend on the function, we can calculate the weights $\\omega_i$ using only the nodes $[x_0,x_1,\\ldots x_n]$"
   ]
  },
  {
   "cell_type": "markdown",
   "metadata": {
    "colab_type": "text",
    "id": "AUS7lq2oNqCM"
   },
   "source": [
    "### Error calculation\n",
    "Including the error, the previous function $f(x)$ can be written as\n",
    "\n",
    "$$f(x) = \\sum_{k=0}^n f(x_k)L_{n,k}(x) + \\frac{(x-x_0)(x-x_1)\\cdots(x-x_n)}{(n+1)!}f^{(n+1)}(\\xi(x))$$\n",
    "\n",
    "with $L_{n,k}(x)$ the lagrange basis functions. Integrating $f(x)$ over $[a,b]$, we obtain the next expression:\n",
    "\n",
    "$$\\int_a^b f(x)dx = \\int_a^b\\sum_{k=0}^n f(x_k)L_{n,k}(x)dx + \\int_a^b\\frac{(x-x_0)(x-x_1)\\cdots(x-x_n)}{(n+1)!}f^{(n+1)}(\\xi(x))dx$$\n",
    "\n",
    "It is worth mentioning this expression is a number, unlike differentiation where we obtained a function.\n",
    "\n",
    "We can readily convert this expression in a weighted summation as\n",
    "\n",
    "$$\\int_a^b f(x)dx = \\sum_{k=0}^n \\omega_i\\,f(x_k) + \\frac{1}{(n+1)!}\\int_a^bf^{(n+1)}(\\xi(x)) \\prod_{k=0}^{n}(x-x_k)dx$$\n",
    "\n",
    "\n",
    "Finally, the quadrature formula or **Newton-Cotes formula** is given by the next expression:\n",
    "\n",
    "$$\\int_a^b f(x) dx = \\sum \\omega_i\\, f(x_i) + E[f]$$\n",
    "\n",
    "where the estimated error is \n",
    "\n",
    "$$E[f] = \\frac{1}{(n+1)!}\\int_a^bf^{(n+1)}(\\xi(x)) \\prod_{k=0}^{n}(x-x_k)dx $$\n",
    "\n",
    "Asumming besides intervals equally spaced such that $x_i = x_0 + i\\times h$, the error formula becomes:\n",
    "\n",
    "$$E[f] = \\frac{h^{n+3}f^{n+2}(\\xi)}{(n+1)!}\\int_0^nt^2(t-1)\\cdots(t-n) $$\n",
    "\n",
    "if $n$ is even and\n",
    "\n",
    "$$E[f] = \\frac{h^{n+2}f^{n+1}(\\xi)}{(n+1)!}\\int_0^nt(t-1)\\cdots(t-n) $$\n",
    "\n",
    "if $n$ is odd.\n",
    "\n",
    "Below is a simple implementation of the quadrature formula or **Newton-Cotes formula** by using the implementation in `scipy` of the Interpolation polynomial in the Lagrangian form of order $n$ discussed in [Interpolation](./interpolation.ipynb#Implementation-in-Scipy) from  `scipy interpolation`"
   ]
  },
  {
   "cell_type": "code",
   "execution_count": null,
   "metadata": {
    "colab": {},
    "colab_type": "code",
    "id": "uXlrPfheNqCM"
   },
   "outputs": [],
   "source": [
    "%pylab inline\n",
    "import numpy as np\n",
    "from scipy import interpolate\n",
    "import scipy.integrate as integrate"
   ]
  },
  {
   "cell_type": "code",
   "execution_count": 17,
   "metadata": {
    "colab": {},
    "colab_type": "code",
    "id": "N-TjG8rwEeIs"
   },
   "outputs": [],
   "source": [
    "def F(Y,X):\n",
    "    '''\n",
    "    Antiderivate approximantion with Lagrange Polynomial \n",
    "    '''\n",
    "    return interpolate.lagrange( X, Y ).integ()"
   ]
  },
  {
   "cell_type": "code",
   "execution_count": 18,
   "metadata": {},
   "outputs": [],
   "source": [
    "def Quadrature(Y,X):\n",
    "    '''\n",
    "    Antiderivate approximantion with Lagrange Polynomial \n",
    "    '''\n",
    "    antif=F(Y,X)\n",
    "    return antif(X[-1])-antif(X[0])"
   ]
  },
  {
   "cell_type": "code",
   "execution_count": 19,
   "metadata": {
    "colab": {},
    "colab_type": "code",
    "id": "25AlyuHZNqCO"
   },
   "outputs": [],
   "source": [
    "def PlotQuadrature( f, X, xmin, xmax, ymin, ymax, fig=None, leg=True ):\n",
    "    '''\n",
    "    Implementation of Newton-Cotes formula for A SINGLE INTERVAL\n",
    "    f: Function to integrate in A SINGLE INTERVAL\n",
    "    X: nodes of the Lagrangian interpolation polynomial\n",
    "    xmin,xmax,ymin, ymax: size of the figure\n",
    "    '''\n",
    "    Y = f( X )\n",
    "    \n",
    "    #X array\n",
    "    Xarray = np.linspace( xmin, xmax, 1000 )\n",
    "    #X area\n",
    "    Xarea = np.linspace( X[0], X[-1], 1000 )\n",
    "    #F array\n",
    "    Yarray = f( Xarray )\n",
    "    \n",
    "    #Lagrange polynomial\n",
    "    Ln = interpolate.lagrange( X, Y )\n",
    "    #Interpolated array\n",
    "    Parray = Ln( Xarray )\n",
    "    #Interpolated array for area\n",
    "    Parea = Ln( Xarea )\n",
    "    \n",
    "    #Plotting\n",
    "    if fig==None:\n",
    "        fig = plt.figure( figsize = (8,8) )\n",
    "    ax = fig.add_subplot(111)\n",
    "    #Function\n",
    "    ax.plot( Xarray, Yarray, linewidth = 3, color = \"blue\", label=\"$f(x)$\" )\n",
    "    #Points\n",
    "    ax.plot( X, Y, \"o\", color=\"red\", label=\"points\", zorder = 10 )\n",
    "    #Interpolator\n",
    "    ax.plot( Xarray, Parray, linewidth = 2, color = \"black\", label=\"$P_{%d}(x)$\"%(len(X)-1) )\n",
    "    #Area\n",
    "    ax.fill_between( Xarea, Parea, color=\"green\", alpha=0.5 )\n",
    "    \n",
    "    #Format\n",
    "    ax.set_title( \"%d-point Quadrature\"%(len(X)), fontsize=16 )\n",
    "    ax.set_xlim( (xmin, xmax) )\n",
    "    ax.set_ylim( (0, 4) )\n",
    "    ax.set_xlabel( \"$x$\" )\n",
    "    ax.set_ylabel( \"$y$\" )\n",
    "    if leg:\n",
    "        ax.legend( loc=\"upper left\", fontsize=16 )\n",
    "    ax.grid(1)\n",
    "    \n",
    "    return Quadrature(Y,X)"
   ]
  },
  {
   "cell_type": "markdown",
   "metadata": {
    "colab_type": "text",
    "id": "P6HKhLRaNqCQ"
   },
   "source": [
    "## Trapezoidal rule\n",
    "Using the previous formula, it is easily to derivate a set of low-order approximations for integration. Asumming a function $f(x)$ and an interval $[x_0,x_1]$, the associated quadrature formula is that obtained from a first-order Lagrange polynomial $P_1(x)$ given by:\n",
    "\n",
    "$$P_1(x) = \\frac{(x-x_1)}{x_0-x_1}f(x_0) + \\frac{(x-x_0)}{(x_1-x_0)}f(x_1)$$\n",
    "\n",
    "Using this, it is readible to obtain the integrate:\n",
    "\n",
    "$$\\int_{x_0}^{x_1}f(x)dx = \\frac{h}{2}[ f(x_0) + f(x_1) ]-\\frac{h^3}{12}f^{''}(\\xi)$$\n",
    "\n",
    "with $\\xi \\in [x_0, x_1]$ and $h = x_1-x_0$."
   ]
  },
  {
   "cell_type": "markdown",
   "metadata": {
    "colab_type": "text",
    "id": "xlXXFKFiNqCQ"
   },
   "source": [
    "### Simple implementation"
   ]
  },
  {
   "cell_type": "code",
   "execution_count": 20,
   "metadata": {
    "colab": {
     "base_uri": "https://localhost:8080/",
     "height": 515
    },
    "colab_type": "code",
    "id": "uUTY7ET6NqCR",
    "outputId": "8d5485cf-a4a6-4f37-e099-c0568318ab5c"
   },
   "outputs": [
    {
     "name": "stdout",
     "output_type": "stream",
     "text": [
      "Full=4.245647748216942, trapezoid=3.775154904633847, rectangle=3.7751549046338475\n"
     ]
    },
    {
     "data": {
      "image/png": "[encoded data removed]",
      "text/plain": [
       "<Figure size 576x576 with 1 Axes>"
      ]
     },
     "metadata": {
      "needs_background": "light"
     },
     "output_type": "display_data"
    }
   ],
   "source": [
    "#Function\n",
    "def f(x):\n",
    "    return 1+np.cos(x)**2+x\n",
    "\n",
    "#Quadrature with 2 points (Trapezoidal rule)\n",
    "a=-0.5\n",
    "b=1.5\n",
    "X = np.array([a,b])\n",
    "Q=PlotQuadrature( f, X, xmin=-1, xmax=2, ymin=0, ymax=4 )\n",
    "print('Full={}, trapezoid={}, rectangle={}'.format( integrate.quad(f,a,b)[0] ,  Quadrature(f(X),X), (b-a)*(f(b)+f(a))/2 ) )"
   ]
  },
  {
   "cell_type": "code",
   "execution_count": 6,
   "metadata": {},
   "outputs": [
    {
     "data": {
      "text/plain": [
       "(2.5403023058681398, 5.010007503399555)"
      ]
     },
     "execution_count": 6,
     "metadata": {},
     "output_type": "execute_result"
    }
   ],
   "source": [
    "(b-a)*f(a),(b-a)*f(b)"
   ]
  },
  {
   "cell_type": "markdown",
   "metadata": {
    "colab_type": "text",
    "id": "POKbvzxDNqCc"
   },
   "source": [
    "### [Scipy implementation](https://docs.scipy.org/doc/scipy/reference/generated/scipy.integrate.trapz.html#r78)"
   ]
  },
  {
   "cell_type": "code",
   "execution_count": 21,
   "metadata": {
    "colab": {},
    "colab_type": "code",
    "id": "E_CIWH-uNqCc"
   },
   "outputs": [
    {
     "data": {
      "text/plain": [
       "\u001b[0;31mSignature:\u001b[0m \u001b[0mintegrate\u001b[0m\u001b[0;34m.\u001b[0m\u001b[0mtrapz\u001b[0m\u001b[0;34m(\u001b[0m\u001b[0my\u001b[0m\u001b[0;34m,\u001b[0m \u001b[0mx\u001b[0m\u001b[0;34m=\u001b[0m\u001b[0;32mNone\u001b[0m\u001b[0;34m,\u001b[0m \u001b[0mdx\u001b[0m\u001b[0;34m=\u001b[0m\u001b[0;36m1.0\u001b[0m\u001b[0;34m,\u001b[0m \u001b[0maxis\u001b[0m\u001b[0;34m=\u001b[0m\u001b[0;34m-\u001b[0m\u001b[0;36m1\u001b[0m\u001b[0;34m)\u001b[0m\u001b[0;34m\u001b[0m\u001b[0m\n",
       "\u001b[0;31mDocstring:\u001b[0m\n",
       "Integrate along the given axis using the composite trapezoidal rule.\n",
       "\n",
       "Integrate `y` (`x`) along given axis.\n",
       "\n",
       "Parameters\n",
       "----------\n",
       "y : array_like\n",
       "    Input array to integrate.\n",
       "x : array_like, optional\n",
       "    The sample points corresponding to the `y` values. If `x` is None,\n",
       "    the sample points are assumed to be evenly spaced `dx` apart. The\n",
       "    default is None.\n",
       "dx : scalar, optional\n",
       "    The spacing between sample points when `x` is None. The default is 1.\n",
       "axis : int, optional\n",
       "    The axis along which to integrate.\n",
       "\n",
       "Returns\n",
       "-------\n",
       "trapz : float\n",
       "    Definite integral as approximated by trapezoidal rule.\n",
       "\n",
       "See Also\n",
       "--------\n",
       "sum, cumsum\n",
       "\n",
       "Notes\n",
       "-----\n",
       "Image [2]_ illustrates trapezoidal rule -- y-axis locations of points\n",
       "will be taken from `y` array, by default x-axis distances between\n",
       "points will be 1.0, alternatively they can be provided with `x` array\n",
       "or with `dx` scalar.  Return value will be equal to combined area under\n",
       "the red lines.\n",
       "\n",
       "\n",
       "References\n",
       "----------\n",
       ".. [1] Wikipedia page: http://en.wikipedia.org/wiki/Trapezoidal_rule\n",
       "\n",
       ".. [2] Illustration image:\n",
       "       http://en.wikipedia.org/wiki/File:Composite_trapezoidal_rule_illustration.png\n",
       "\n",
       "Examples\n",
       "--------\n",
       ">>> np.trapz([1,2,3])\n",
       "4.0\n",
       ">>> np.trapz([1,2,3], x=[4,6,8])\n",
       "8.0\n",
       ">>> np.trapz([1,2,3], dx=2)\n",
       "8.0\n",
       ">>> a = np.arange(6).reshape(2, 3)\n",
       ">>> a\n",
       "array([[0, 1, 2],\n",
       "       [3, 4, 5]])\n",
       ">>> np.trapz(a, axis=0)\n",
       "array([ 1.5,  2.5,  3.5])\n",
       ">>> np.trapz(a, axis=1)\n",
       "array([ 2.,  8.])\n",
       "\u001b[0;31mFile:\u001b[0m      /usr/local/lib/python3.5/dist-packages/numpy/lib/function_base.py\n",
       "\u001b[0;31mType:\u001b[0m      function\n"
      ]
     },
     "metadata": {},
     "output_type": "display_data"
    }
   ],
   "source": [
    "integrate.trapz?"
   ]
  },
  {
   "cell_type": "markdown",
   "metadata": {
    "colab_type": "text",
    "id": "m1ajuYEsNqCe"
   },
   "source": [
    "In fact, as expected"
   ]
  },
  {
   "cell_type": "code",
   "execution_count": 8,
   "metadata": {
    "colab": {},
    "colab_type": "code",
    "id": "Ne1_PodqNqCf",
    "outputId": "ab00c010-3993-4395-879b-0926a3198e0e"
   },
   "outputs": [
    {
     "data": {
      "text/plain": [
       "3.7751549046338475"
      ]
     },
     "execution_count": 8,
     "metadata": {},
     "output_type": "execute_result"
    }
   ],
   "source": [
    "Y=f(X)\n",
    "integrate.trapz(f(X),X)"
   ]
  },
  {
   "cell_type": "markdown",
   "metadata": {
    "colab_type": "text",
    "id": "PPxavHSzNqCk"
   },
   "source": [
    "<img src=\"https://upload.wikimedia.org/wikipedia/commons/thumb/4/42/Composite_trapezoidal_rule_illustration.png/1200px-Composite_trapezoidal_rule_illustration.png\" height=\"400\" width=\"400\">"
   ]
  },
  {
   "cell_type": "markdown",
   "metadata": {
    "colab_type": "text",
    "id": "hEZwaUB3NqCm"
   },
   "source": [
    "For a better approximation we can use more intervals"
   ]
  },
  {
   "cell_type": "code",
   "execution_count": 22,
   "metadata": {
    "colab": {},
    "colab_type": "code",
    "id": "ccc604ZINqCm",
    "outputId": "ec373dce-03c5-499e-a727-bdcdd477b3bb"
   },
   "outputs": [
    {
     "data": {
      "text/plain": [
       "4.245647420030478"
      ]
     },
     "execution_count": 22,
     "metadata": {},
     "output_type": "execute_result"
    }
   ],
   "source": [
    "x=np.linspace( X[0], X[-1], 1000 )\n",
    "integrate.trapz(f(x),x)"
   ]
  },
  {
   "cell_type": "code",
   "execution_count": 23,
   "metadata": {},
   "outputs": [
    {
     "data": {
      "text/plain": [
       "-0.5"
      ]
     },
     "execution_count": 23,
     "metadata": {},
     "output_type": "execute_result"
    }
   ],
   "source": [
    "X[0]"
   ]
  },
  {
   "cell_type": "code",
   "execution_count": 24,
   "metadata": {},
   "outputs": [
    {
     "data": {
      "text/plain": [
       "1.5"
      ]
     },
     "execution_count": 24,
     "metadata": {},
     "output_type": "execute_result"
    }
   ],
   "source": [
    "X[-1]"
   ]
  },
  {
   "cell_type": "markdown",
   "metadata": {
    "colab_type": "text",
    "id": "vmoRotdBNqCp"
   },
   "source": [
    "## Simpson's rule"
   ]
  },
  {
   "cell_type": "markdown",
   "metadata": {
    "colab_type": "text",
    "id": "M2atvwDHNqCp"
   },
   "source": [
    "A slightly better approximation to integration is the Simpson's rule. For this, assume a function $f(x)$ and an interval $[x_0,x_2]$, with a intermediate point $x_1$. The associate second-order Lagrange polynomial is given by: See previous [exercise](./interpolation.ipynb#Exercise-interpolation)\n",
    "\n",
    "$$P_2(x) = \\frac{(x-x_1)(x-x_2)}{(x_0-x_1)(x_0-x_2)}f(x_0) + \\frac{(x-x_0)(x-x_2)}{(x_1-x_0)(x_1-x_2)}f(x_1) + \\frac{(x-x_0)(x-x_1)}{(x_2-x_0)(x_2-x_1)}f(x_2)$$\n",
    "\n",
    "The final expression is then:\n",
    "\n",
    "$$\\int_{x_0}^{x_2} f(x)dx = \\frac{h}{3}[ f(x_0)+4f(x_1)+f(x_2) ]-\\frac{h^5}{90}f^{(4)}(\\xi)$$\n"
   ]
  },
  {
   "cell_type": "code",
   "execution_count": 25,
   "metadata": {
    "colab": {},
    "colab_type": "code",
    "id": "kJpW2ZRDNqCq",
    "outputId": "1f6c188b-647b-457e-d1db-7b08a8b116ef"
   },
   "outputs": [
    {
     "name": "stdout",
     "output_type": "stream",
     "text": [
      "Full=4.245647748216942, P2=4.285253172123376, rectangle=3.7751549046338475\n"
     ]
    },
    {
     "data": {
      "image/png": "[encoded data removed]",
      "text/plain": [
       "<Figure size 576x576 with 1 Axes>"
      ]
     },
     "metadata": {
      "needs_background": "light"
     },
     "output_type": "display_data"
    }
   ],
   "source": [
    "#Function\n",
    "def f(x):\n",
    "    return 1+np.cos(x)**2+x\n",
    "\n",
    "#Quadrature with 3 points (Simpson's rule)\n",
    "a=-0.5\n",
    "b=1.5\n",
    "x0=0.5\n",
    "X = np.array([a,x0,b])\n",
    "Q=PlotQuadrature( f, X, xmin=-1, xmax=2, ymin=0, ymax=4 )\n",
    "print('Full={}, P2={}, rectangle={}'.format( integrate.quad(f,a,b)[0] ,  Quadrature(f(X),X), (b-a)*(f(b)+f(a))/2 ) )"
   ]
  },
  {
   "cell_type": "markdown",
   "metadata": {
    "colab_type": "text",
    "id": "D0RkZ1VQNqCz"
   },
   "source": [
    "### Scipy implementation\n",
    "Improves with number of points:\n",
    "![Simpons](https://upload.wikimedia.org/wikipedia/en/thumb/6/67/Simpsonsrule2.gif/220px-Simpsonsrule2.gif)"
   ]
  },
  {
   "cell_type": "code",
   "execution_count": 11,
   "metadata": {
    "colab": {},
    "colab_type": "code",
    "id": "QRHBz0LrNqCz"
   },
   "outputs": [
    {
     "data": {
      "text/plain": [
       "\u001b[0;31mSignature:\u001b[0m \u001b[0mintegrate\u001b[0m\u001b[0;34m.\u001b[0m\u001b[0msimps\u001b[0m\u001b[0;34m(\u001b[0m\u001b[0my\u001b[0m\u001b[0;34m,\u001b[0m \u001b[0mx\u001b[0m\u001b[0;34m=\u001b[0m\u001b[0;32mNone\u001b[0m\u001b[0;34m,\u001b[0m \u001b[0mdx\u001b[0m\u001b[0;34m=\u001b[0m\u001b[0;36m1\u001b[0m\u001b[0;34m,\u001b[0m \u001b[0maxis\u001b[0m\u001b[0;34m=\u001b[0m\u001b[0;34m-\u001b[0m\u001b[0;36m1\u001b[0m\u001b[0;34m,\u001b[0m \u001b[0meven\u001b[0m\u001b[0;34m=\u001b[0m\u001b[0;34m'avg'\u001b[0m\u001b[0;34m)\u001b[0m\u001b[0;34m\u001b[0m\u001b[0m\n",
       "\u001b[0;31mDocstring:\u001b[0m\n",
       "Integrate y(x) using samples along the given axis and the composite\n",
       "Simpson's rule.  If x is None, spacing of dx is assumed.\n",
       "\n",
       "If there are an even number of samples, N, then there are an odd\n",
       "number of intervals (N-1), but Simpson's rule requires an even number\n",
       "of intervals.  The parameter 'even' controls how this is handled.\n",
       "\n",
       "Parameters\n",
       "----------\n",
       "y : array_like\n",
       "    Array to be integrated.\n",
       "x : array_like, optional\n",
       "    If given, the points at which `y` is sampled.\n",
       "dx : int, optional\n",
       "    Spacing of integration points along axis of `y`. Only used when\n",
       "    `x` is None. Default is 1.\n",
       "axis : int, optional\n",
       "    Axis along which to integrate. Default is the last axis.\n",
       "even : str {'avg', 'first', 'last'}, optional\n",
       "    'avg' : Average two results:1) use the first N-2 intervals with\n",
       "              a trapezoidal rule on the last interval and 2) use the last\n",
       "              N-2 intervals with a trapezoidal rule on the first interval.\n",
       "\n",
       "    'first' : Use Simpson's rule for the first N-2 intervals with\n",
       "            a trapezoidal rule on the last interval.\n",
       "\n",
       "    'last' : Use Simpson's rule for the last N-2 intervals with a\n",
       "           trapezoidal rule on the first interval.\n",
       "\n",
       "See Also\n",
       "--------\n",
       "quad: adaptive quadrature using QUADPACK\n",
       "romberg: adaptive Romberg quadrature\n",
       "quadrature: adaptive Gaussian quadrature\n",
       "fixed_quad: fixed-order Gaussian quadrature\n",
       "dblquad: double integrals\n",
       "tplquad: triple integrals\n",
       "romb: integrators for sampled data\n",
       "cumtrapz: cumulative integration for sampled data\n",
       "ode: ODE integrators\n",
       "odeint: ODE integrators\n",
       "\n",
       "Notes\n",
       "-----\n",
       "For an odd number of samples that are equally spaced the result is\n",
       "exact if the function is a polynomial of order 3 or less.  If\n",
       "the samples are not equally spaced, then the result is exact only\n",
       "if the function is a polynomial of order 2 or less.\n",
       "\u001b[0;31mFile:\u001b[0m      /usr/local/lib/python3.5/dist-packages/scipy/integrate/quadrature.py\n",
       "\u001b[0;31mType:\u001b[0m      function\n"
      ]
     },
     "metadata": {},
     "output_type": "display_data"
    }
   ],
   "source": [
    "integrate.simps?"
   ]
  },
  {
   "cell_type": "code",
   "execution_count": 26,
   "metadata": {
    "colab": {},
    "colab_type": "code",
    "id": "WcNu2wTRNqC1",
    "outputId": "3692576f-d49f-47b1-8346-f5c43f76711f"
   },
   "outputs": [
    {
     "data": {
      "text/plain": [
       "4.285253172123376"
      ]
     },
     "execution_count": 26,
     "metadata": {},
     "output_type": "execute_result"
    }
   ],
   "source": [
    "integrate.simps(f(X),X)"
   ]
  },
  {
   "cell_type": "code",
   "execution_count": 27,
   "metadata": {
    "colab": {},
    "colab_type": "code",
    "id": "61hB8dlxNqC5",
    "outputId": "70c45ed3-48e3-4c9a-f5c0-82b7b608dce5"
   },
   "outputs": [
    {
     "data": {
      "text/plain": [
       "(4.245647748184187, 4.245647748216941)"
      ]
     },
     "execution_count": 27,
     "metadata": {},
     "output_type": "execute_result"
    }
   ],
   "source": [
    "x=np.linspace( X[0], X[-1], 100000 )\n",
    "integrate.trapz(f(x),x),integrate.simps(f(x),x)"
   ]
  },
  {
   "cell_type": "code",
   "execution_count": 28,
   "metadata": {
    "colab": {},
    "colab_type": "code",
    "id": "3U4m6PAPNqC7",
    "outputId": "00a2cc04-523c-4c8c-8b90-c26b950b0f80"
   },
   "outputs": [
    {
     "data": {
      "text/plain": [
       "4.245647748216942"
      ]
     },
     "execution_count": 28,
     "metadata": {},
     "output_type": "execute_result"
    }
   ],
   "source": [
    "4.245647748216942"
   ]
  },
  {
   "cell_type": "markdown",
   "metadata": {},
   "source": [
    "__Activity__: Implement the Simpson method [here](https://beta.deepnote.com/project/52b463ef-f58d-4842-be84-cc155faa49b9#) or [here](https://repl.it/@restrepo/integration) by generalizing the previous `Quadrature` function to one that accepts lists of any size. Compares with the `Scipy` implementation for the next integral with a linspace of 100 points.\n",
    "\n",
    "_Hint_: Note that the intervals for each 3 points can be obtained by slicing in steps of 2:"
   ]
  },
  {
   "cell_type": "code",
   "execution_count": 29,
   "metadata": {},
   "outputs": [
    {
     "name": "stdout",
     "output_type": "stream",
     "text": [
      "[1, 2, 3]\n",
      "[3, 4, 5]\n",
      "[5, 6, 7]\n",
      "[7, 8, 9]\n"
     ]
    }
   ],
   "source": [
    "X=[1,2,3,4,5,6,7,8,9,10,11,12]\n",
    "i=0\n",
    "print(X[i:i+3])\n",
    "i=i+2\n",
    "print(X[i:i+3])\n",
    "i=i+2\n",
    "print(X[i:i+3])\n",
    "i=i+2\n",
    "print(X[i:i+3])"
   ]
  },
  {
   "cell_type": "markdown",
   "metadata": {
    "colab_type": "text",
    "id": "Nq79_s77NqC9"
   },
   "source": [
    "## <span style='color:red'>     Activity </span>"
   ]
  },
  {
   "cell_type": "markdown",
   "metadata": {
    "colab_type": "text",
    "id": "qYLPD5pDNqC9"
   },
   "source": [
    "- Using the trapezoidal and the Simpson's rules, determine the value of the integral (4.24565)\n",
    "\n",
    "$$ \\int_{-0.5}^{1.5}(1+\\cos^2x + x)dx $$\n",
    "\n",
    "- Take the previous routine Quadrature and the above function and explore high-order quadratures. What happends when you increase  the number of points?"
   ]
  },
  {
   "cell_type": "markdown",
   "metadata": {
    "colab_type": "text",
    "id": "nVo-22H2NqC-"
   },
   "source": [
    "N=20\n",
    "def f(x):\n",
    "    return 1+np.cos(x)**2+x\n",
    "\n",
    "#Quadrature with N points (Simpson's rule)\n",
    "X = np.array(np.linspace(-0.5,1.5,N))\n",
    "Ln=Quadrature( f, X, xmin=-1, xmax=2, ymin=0, ymax=4 )\n",
    "integrate.simps(Ln(X),X)\n",
    "print(poly1d(Ln))"
   ]
  },
  {
   "cell_type": "markdown",
   "metadata": {
    "colab_type": "text",
    "id": "C-gd__P7NqC-"
   },
   "source": [
    "## <span style='color:red'>     Activity </span>"
   ]
  },
  {
   "cell_type": "markdown",
   "metadata": {
    "colab_type": "text",
    "id": "SdYG-de9NqC-"
   },
   "source": [
    "Approximate the following integrals using formulas Trapezoidal and Simpson rules. Are the accuracies of\n",
    "the approximations consistent with the error formulas? \n",
    "\n",
    "\\begin{eqnarray*}\n",
    "&\\int_{0}^{0.1}&\\sqrt{1+ x}dx \\\\\n",
    "&\\int_{0}^{\\pi/2}&(\\sin x)^2dx\\\\ \n",
    "&\\int_{1.1}^{1.5}&e^xdx \n",
    "\\end{eqnarray*}"
   ]
  },
  {
   "cell_type": "markdown",
   "metadata": {
    "colab_type": "text",
    "id": "2x8B12tNNqC_"
   },
   "source": [
    "# Composite Numerical Integration"
   ]
  },
  {
   "cell_type": "markdown",
   "metadata": {
    "colab_type": "text",
    "id": "6lGCZID2NqDA"
   },
   "source": [
    "Although above-described methods are good enough when we want to integrate along small intervals, larger intervals would require more sampling points, where the resulting Lagrange interpolant will be a high-order polynomial. These interpolant polynomials exihibit usually an oscillatory behaviour (best known as [Runge's phenomenon](http://en.wikipedia.org/wiki/Runge%27s_phenomenon)), being more inaccurate as we increase $n$.\n",
    "\n",
    "An elegant and computationally inexpensive solution to this problem is a *piecewise* approach, where low-order Newton-Cotes formula (like trapezoidal and Simpson's rules) are applied over subdivided intervals. This methods are already implemented in the previous `scipy` trapezoidal and Simpsons implementations. An internal implementation is given in the [Appendix of integration](./Appendix.ipynb#composite-numerical integration), the _Composite Trapezoidal rule_ given by:\n",
    "\n",
    "$$ \\int_a^b f(x) dx = \\frac{h}{2}\\left[ f(a) + 2\\sum_{j=1}^{N-1}f(x_j) + f(b) \\right] - \\frac{b-a}{12}h^2 f^{''}(\\mu)$$\n",
    "\n",
    "and the _Composite Simpson's rule_ given by\n",
    "\n",
    "$$ \\int_a^bf(x)dx = \\frac{h}{3}\\left[ f(a) +2 \\sum_{j=1}^{(n/2)-1}f(x_{2j})+4\\sum_{j=1}^{n/2}f(x_{2j-1})+f(b) \\right] - \\frac{b-a}{180}h^4f^{(4)}(\\mu)$$"
   ]
  },
  {
   "cell_type": "markdown",
   "metadata": {
    "colab_type": "text",
    "id": "rdJ_FdTLNqDA"
   },
   "source": [
    "## Composite trapezoidal rule"
   ]
  },
  {
   "cell_type": "markdown",
   "metadata": {
    "colab_type": "text",
    "id": "7ASs3TVKNqDA"
   },
   "source": [
    "This formula is obtained when we subdivide the integration interval $[a,b]$ within sets of two points, such that we can apply the previous Trapezoidal rule to each one.\n",
    "\n",
    "Let $f(x)$ be a well behaved function ($f\\in C^2[a,b]$), defining the interval space as $h = (b-a)/N$, where N is the number of intervals we take, the **Composite Trapezoidal rule** is given by:\n",
    "\n",
    "$$ \\int_a^b f(x) dx = \\frac{h}{2}\\left[ f(a) + 2\\sum_{j=1}^{N-1}f(x_j) + f(b) \\right] - \\frac{b-a}{12}h^2 f^{''}(\\mu)$$\n",
    "\n",
    "for some value $\\mu$ in $(a,b)$."
   ]
  },
  {
   "cell_type": "markdown",
   "metadata": {
    "colab_type": "text",
    "id": "16ng2p3SNqDA"
   },
   "source": [
    "## <span style='color:red'>     Activity </span>"
   ]
  },
  {
   "cell_type": "markdown",
   "metadata": {
    "colab_type": "text",
    "id": "tx-M5mBtNqDB"
   },
   "source": [
    "Determine the value of the integral (4.24565)\n",
    "\n",
    "$$ \\int_{-0.5}^{1.5}(1+\\cos^2x + x)dx $$"
   ]
  },
  {
   "cell_type": "markdown",
   "metadata": {
    "colab_type": "text",
    "id": "TsJmGT2jNqDD"
   },
   "source": [
    "## <span style='color:red'>     Activity </span>"
   ]
  },
  {
   "cell_type": "markdown",
   "metadata": {
    "colab_type": "text",
    "id": "YmMbbRZ8NqDE"
   },
   "source": [
    "An experiment has measured $dN(t)/dt$, the number of particles entering a counter, per unit time, as a function of time. Your problem is to integrate this spectrum to obtain the number of particles $N(1)$ that entered the counter\n",
    "in the first second\n",
    "\n",
    "$$ N(1) = \\int_0^1 \\frac{dN}{dt} dt$$\n",
    "\n",
    "For the problem it is assumed exponential decay so that there actually is an analytic answer. \n",
    "\n",
    "$$ \\frac{dN}{dt} = e^{-t} $$\n",
    "\n",
    "Compare the relative error for the composite trapezoid and Simpson rules. Try different values of N. Make a logarithmic plot of N vs Error."
   ]
  },
  {
   "cell_type": "markdown",
   "metadata": {
    "colab_type": "text",
    "id": "_iug5YDlNqDF"
   },
   "source": [
    "- - -"
   ]
  },
  {
   "cell_type": "markdown",
   "metadata": {
    "colab_type": "text",
    "id": "cQ6TA0ngNqDF"
   },
   "source": [
    "# Adaptive Quadrature Methods"
   ]
  },
  {
   "cell_type": "markdown",
   "metadata": {
    "colab_type": "text",
    "id": "MQKZXztuNqDG"
   },
   "source": [
    "Calculating the integrate of the function $f(x) = e^{-3x}\\sin(4x)$ within the interval $[0,4]$, we obtain:"
   ]
  },
  {
   "cell_type": "code",
   "execution_count": 30,
   "metadata": {
    "colab": {},
    "colab_type": "code",
    "id": "nIRAACLRNqDG",
    "outputId": "ad23ed9b-64ee-41a6-c440-bb77fef1faca"
   },
   "outputs": [
    {
     "data": {
      "image/png": "[encoded data removed]",
      "text/plain": [
       "<Figure size 1008x504 with 1 Axes>"
      ]
     },
     "metadata": {
      "needs_background": "light"
     },
     "output_type": "display_data"
    }
   ],
   "source": [
    "#Function\n",
    "def f(x):\n",
    "    return np.exp(-3*x)*np.sin(4*x)\n",
    "\n",
    "#Plotting\n",
    "X = np.linspace( 0, 4, 200 )\n",
    "Y = f(X)\n",
    "plt.figure( figsize=(14,7) )\n",
    "plt.plot( X, Y, color=\"blue\", lw=3 )\n",
    "plt.fill_between( X, Y, color=\"blue\", alpha=0.5 )\n",
    "plt.xlim( 0,4 )\n",
    "plt.grid()"
   ]
  },
  {
   "cell_type": "markdown",
   "metadata": {
    "colab_type": "text",
    "id": "O3RYTGfINqDK"
   },
   "source": [
    "Using composite numerical integration is not completely adequate for this problem as the function exhibits different behaviours for differente intervals. For the interval $[0,2]$ the function varies noticeably, requiring a rather small integration interval $h$. However, for the interval $[2,4]$ variations are not considerable and low-order composite integration is enough. This lays a pathological situation where simple composite methods are not efficient. In order to remedy this, we introduce an adaptive quadrature methods, where the integration step $h$ can vary according to the interval. The main advantage of this is a controlable precision of the result."
   ]
  },
  {
   "cell_type": "markdown",
   "metadata": {
    "colab_type": "text",
    "id": "CfQrHtfMNqDL"
   },
   "source": [
    "## Simpson's adaptive quadrature"
   ]
  },
  {
   "cell_type": "markdown",
   "metadata": {
    "colab_type": "text",
    "id": "U8iR3lSRNqDL"
   },
   "source": [
    "Although adaptive quadrature can be readily applied to any quadrature method, we illustrate the method with  the Simpson's adaptive quadrature.\n",
    "\n",
    "Let's assume a function $f(x)$. We want to compute the integral within the interval $[a,b]$. Using a simple Simpson's quadrature, we obtain:\n",
    "\n",
    "$$\\int_a^bf(x)dx = S(a,b) - \\frac{h^5}{90}f^{(4)}(\\xi)$$\n",
    "\n",
    "where we introduce the notation:\n",
    "\n",
    "$$S(a,b) = \\frac{h}{3}\\left[ f(a) + 4f(a+h) + f(b) \\right]$$\n",
    "\n",
    "and $h$ is simply $h = (b-a)/2$.\n",
    "\n",
    "![](https://raw.githubusercontent.com/sbustamante/ComputationalMethods/bb0f137366b3d2bbfdd33425ad78be4003716703/material/figures/adaptive_quadrature.png)\n",
    "\n",
    "Now, instead of using an unique Simpson's quadrature, we implement two, by adding a new point in the midle of the interval $[a,b]$, $(a+b)/2$, yielding:\n",
    "\n",
    "$$\\int_a^bf(x)dx = S\\left(a,\\frac{a+b}{2}\\right) + S\\left(\\frac{a+b}{2},b\\right) - \\frac{1}{16}\\left(\\frac{h^5}{90}\\right)f^{(4)}(\\xi)$$\n",
    "\n",
    "For this expression, we reasonably assume an equal fourth-order derivative $f^{(4)}(\\xi) = f^{(4)}(\\xi_1) = f^{(4)}(\\xi_2) $, where $\\xi_1$ is the estimative for the first subtinterval (i.e. $\\xi_1\\in[a,(a+b)/2]$), and $\\xi_2$ for the second one (i.e. $\\xi_1\\in[(a+b)/2, b]$).\n",
    "\n",
    "As both expressions can approximate the real value of the integrate, we can equal them, obtaining:\n",
    "\n",
    "$$\n",
    "\\int_a^bf(x)dx \\begin{cases} \\sim S(a,b) - \\frac{h^5}{90}f^{(4)}(\\xi)\\\\ \n",
    "\\approx S\\left(a,\\frac{a+b}{2}\\right) + S\\left(\\frac{a+b}{2},b\\right) - \\frac{1}{16}\\left(\\frac{h^5}{90}\\right)f^{(4)}(\\xi)\\\\\n",
    "\\end{cases}\n",
    "$$\n",
    "\n",
    "which leads us to a simple way to estimate the error without knowing the fourth-order derivative, i.e.\n",
    "\n",
    "$$\\frac{h^5}{90}f^{(4)}(\\xi) = \\frac{16}{15}\\left| S(a,b) - S\\left(a,\\frac{a+b}{2}\\right) - S\\left(\\frac{a+b}{2},b\\right) \\right|$$\n",
    "\n",
    "If we fix a precision $\\epsilon$, such that the obtained error for the second iteration is smaller\n",
    "\n",
    "$$\\frac{1}{16}\\frac{h^5}{90}f^{(4)}(\\xi) < \\epsilon $$\n",
    "\n",
    "it implies:\n",
    "\n",
    "$$\\left| S(a,b) - S\\left(a,\\frac{a+b}{2}\\right) - S\\left(\\frac{a+b}{2},b\\right) \\right|< 15 \\epsilon$$\n",
    "\n",
    "and \n",
    "\n",
    "$$\\left| \\int_a^bf(x) dx- S\\left(a,\\frac{a+b}{2}\\right) - S\\left(\\frac{a+b}{2},b\\right) \\right|< \\epsilon$$\n",
    "\n",
    "The second iteration is then $15$ times more precise than the first one."
   ]
  },
  {
   "cell_type": "markdown",
   "metadata": {
    "colab_type": "text",
    "id": "Co2yzdQtNqDM"
   },
   "source": [
    "## Steps Simpson's adaptive quadrature"
   ]
  },
  {
   "cell_type": "markdown",
   "metadata": {
    "colab_type": "text",
    "id": "toa3EnQkNqDM"
   },
   "source": [
    "**1.** Give the function $f(x)$ to be integrated, the inverval $[a,b]$ and set a desired precision $\\epsilon$.\n",
    "\n",
    "**2.** Compute the next Simpsons's quadratures:\n",
    "\n",
    "$$ S(a,b),\\ S\\left(a,\\frac{a+b}{2}\\right),\\ S\\left(\\frac{a+b}{2},b\\right) $$\n",
    "\n",
    "**3.** If \n",
    "\n",
    "$$\\frac{1}{15}\\left| S(a,b) - S\\left(a,\\frac{a+b}{2}\\right) - S\\left(\\frac{a+b}{2},b\\right) \\right|<\\epsilon$$\n",
    "\n",
    "then the integration is ready and is given by:\n",
    "\n",
    "$$\\int_a^bf(x) dx \\approx S\\left(a,\\frac{a+b}{2}\\right) + S\\left(\\frac{a+b}{2},b\\right) $$\n",
    "\n",
    "within the given precision.\n",
    "\n",
    "**4.** If the previous step is not fulfilled, repeat from step **2** using as new intervals $[a,(a+b)/2]$ and $[(a+b)/2,b]$ and a new precision $\\epsilon_1 = \\epsilon/2$. Repeating until step 3 is fulfilled for all the subintervals."
   ]
  }
 ],
 "metadata": {
  "kernelspec": {
   "display_name": "Python 3",
   "language": "python",
   "name": "python3"
  },
  "language_info": {
   "codemirror_mode": {
    "name": "ipython",
    "version": 3
   },
   "file_extension": ".py",
   "mimetype": "text/x-python",
   "name": "python",
   "nbconvert_exporter": "python",
   "pygments_lexer": "ipython3",
   "version": "3.7.3"
  }
 },
 "nbformat": 4,
 "nbformat_minor": 4
}
