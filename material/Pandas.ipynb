{
 "cells": [
  {
   "cell_type": "markdown",
   "source": "<a href=\"https://colab.research.google.com/github/restrepo/ComputationalMethods/blob/master/material/Pandas.ipynb\" target=\"_parent\"><img src=\"https://colab.research.google.com/assets/colab-badge.svg\" alt=\"Open In Colab\"/></a>",
   "metadata": {
    "colab_type": "text",
    "id": "view-in-github",
    "cell_id": "00000-5835b262-3de7-443c-a97e-730574b6ce42",
    "deepnote_cell_type": "markdown"
   }
  },
  {
   "cell_type": "markdown",
   "source": "# Pandas\n<a href=\"https://colab.research.google.com/github/restrepo/ComputationalMethods/blob/master/material/Pandas.ipynb\" target=\"_parent\"><img src=\"https://colab.research.google.com/assets/colab-badge.svg\" alt=\"Open In Colab\"/></a>",
   "metadata": {
    "colab_type": "text",
    "id": "d8BGX58hxE06",
    "slideshow": {
     "slide_type": "slide"
    },
    "cell_id": "00001-0bfa3d46-76d2-4b2c-ac43-a47b10e8dd42",
    "deepnote_cell_type": "markdown"
   }
  },
  {
   "cell_type": "markdown",
   "source": "From http://pandas.pydata.org/pandas-docs/stable/\n\npandas is a Python package providing fast, flexible, and expressive data structures designed to make working with “relational” or “labeled” data both easy and intuitive. It aims to be the fundamental high-level building block for doing practical, real world data analysis in Python. Additionally, it has the broader goal of becoming the most powerful and flexible open source data analysis / manipulation tool available in any language. It is already well on its way toward this goal.\n\nSee also:\n\n* https://github.com/restrepo/data-analysis\n  * https://classroom.github.com/g/sSMBdBqN\n  * https://classroom.github.com/a/PcbQBE7F\n* https://github.com/restrepo/PythonTipsAndTricks\n* https://pbpython.com/excel-pandas-comp.html [[archive.org](https://web.archive.org/web/20201126143453/https://pbpython.com/excel-pandas-comp.html)]",
   "metadata": {
    "colab_type": "text",
    "id": "zm9tRsn7xE0_",
    "cell_id": "00002-a39b4545-ea8c-4c33-9821-2e035ea68068",
    "deepnote_cell_type": "markdown"
   }
  },
  {
   "cell_type": "markdown",
   "source": "A good and practice book about `Pandas` possibilities is:\n\n[__Python for Data Analysis__](https://drive.google.com/open?id=0BxoOXsn2EUNIWExXbVc4SDN0YTQ)<br/>\nData Wrangling with Pandas, NumPy, and IPython<br/>\n_By William McKinney_\n\n\nThis other is about aplications based on `Pandas`:\n![image.png](https://covers.oreillystatic.com/images/0636920030515/cat.gif) [Introduction to Machine Learning with Python](https://drive.google.com/open?id=0BxoOXsn2EUNISGhrdEZ3S29fS3M)<br/>\nA Guide for Data Scientists\nBy Sarah Guido, Andreas Müller\n\n`Pandas` can be used in a similar way to `R`, which is based on similar data structures. `Pandas` also can replace the use of graphical interfaces to access spreadsheets like Excel. In particular, can be used in joint with the module [`xlsxwriter`](https://xlsxwriter.readthedocs.io/tutorial02.html) to produce professional Excel spreadsheets at the programatical level.\n\nThe similar data structure in Wolfram Alpha and Mathematica is  the `Dataset`, in C++ is the ROOT framework, and in the old Fortran 77 was `paw`. In this way, a dictionary of equivalent commands can be stablished between the several frameworks",
   "metadata": {
    "slideshow": {
     "slide_type": "fragment"
    },
    "cell_id": "00003-eedb4370-f372-408b-9c5b-493892545a83",
    "deepnote_cell_type": "markdown"
   }
  },
  {
   "cell_type": "markdown",
   "source": "## Standard way to load the module",
   "metadata": {
    "colab_type": "text",
    "id": "zd4jo7KLxE1C",
    "slideshow": {
     "slide_type": "slide"
    },
    "cell_id": "00004-3b86c23e-e896-4ea9-a25d-b66422b19630",
    "deepnote_cell_type": "markdown"
   }
  },
  {
   "cell_type": "code",
   "metadata": {
    "colab": {},
    "colab_type": "code",
    "id": "K3BSlyLBxE1E",
    "cell_id": "00005-8f9079dd-73f3-4214-9b12-a007b2b221a9",
    "deepnote_cell_type": "code"
   },
   "source": "import pandas as pd",
   "execution_count": 1,
   "outputs": []
  },
  {
   "cell_type": "markdown",
   "source": "## Basic structure: DataFrame",
   "metadata": {
    "colab_type": "text",
    "id": "I7Hbe9JEadOC",
    "cell_id": "00006-934fccd7-fef5-46fb-aa5b-3763a9df25a2",
    "deepnote_cell_type": "markdown"
   }
  },
  {
   "cell_type": "markdown",
   "source": "An flat _spreadsheet_ can be seen in terms of the types of variables of `Python` just as dictionary of lists, where each column of the spreadsheet is a pair key-list of the dictionary \n\n|   |  A   |  B   |\n|---|:----:|:----:|\n| 1 | even | odd  |\n| 2 |   0  | 1    |\n| 3 |   2  | 3    |\n| 4 |   4  | 5    |\n| 5 |   6  | 7    |\n| 6 |   8  | 9    |",
   "metadata": {
    "colab_type": "text",
    "id": "IE_Vzycqajls",
    "cell_id": "00007-db7b469d-ba71-4e06-8bbd-d90e212a02d5",
    "deepnote_cell_type": "markdown"
   }
  },
  {
   "cell_type": "code",
   "metadata": {
    "colab": {},
    "colab_type": "code",
    "id": "lxEc0jlHauyc",
    "cell_id": "00008-28de7f9e-e38f-489f-a753-c739eba5c428",
    "deepnote_cell_type": "code"
   },
   "source": "numbers={\"even\": [0,2,4,6,8],   #  First  key-list\n         \"odd\" : [1,3,5,7,9] }  #  Second key-list",
   "execution_count": 6,
   "outputs": []
  },
  {
   "cell_type": "markdown",
   "source": "## Data structures",
   "metadata": {
    "colab_type": "text",
    "id": "HeN8rw1JxE1N",
    "slideshow": {
     "slide_type": "slide"
    },
    "cell_id": "00009-3837521f-1c26-475f-91f4-43151fde0224",
    "deepnote_cell_type": "markdown"
   }
  },
  {
   "cell_type": "markdown",
   "source": "`Pandas` has two new data structures:\n1. `DataFrame` which are similar to numpy arrays but with some assigned key. For example, for the previous case\n```python\nimport numpy as np\nnp.array([[0,1],\n          [2,3],\n          [4,5],\n          [6,7],\n          [8,9] \n         ])\n```\n1. `Series` which are enriched  to dictionaries, as the ones defined for the rows of the previous example: `{'even':0,'odd':1}`.\n\n",
   "metadata": {
    "colab_type": "text",
    "id": "UiL0O2SNcCfG",
    "cell_id": "00010-1260af90-44ba-48f6-b514-529cb21a5dd8",
    "deepnote_cell_type": "markdown"
   }
  },
  {
   "cell_type": "markdown",
   "source": "\nThe rows in a two-dimensional `DataFrame` corresponds to `Series` with similar keys, while the columns are also Series with the indices as keys. \n\nAn example of a  `DataFrame` is a spreadsheet, as the one before.",
   "metadata": {
    "colab_type": "text",
    "id": "jaWfZyimxE1O",
    "cell_id": "00011-361a470d-c350-4bba-820a-01338fffcc89",
    "deepnote_cell_type": "markdown"
   }
  },
  {
   "cell_type": "markdown",
   "source": "### `DataFrame`\n`Pandas` can convert a dictionary of lists, like the `numbers` dictionary before, into a `DataFrame`, which is just an spreadsheet but interpreted at the programming level:\n\n",
   "metadata": {
    "colab_type": "text",
    "id": "uRdBR4BXc8WY",
    "slideshow": {
     "slide_type": "slide"
    },
    "cell_id": "00012-fbda39d3-0cd0-48b0-ba40-4cfc129f8320",
    "deepnote_cell_type": "markdown"
   }
  },
  {
   "cell_type": "code",
   "metadata": {
    "cell_id": "00013-8aff6f6f-3fd7-4e99-89eb-ca977338a551",
    "deepnote_cell_type": "code"
   },
   "source": "numbers",
   "execution_count": 8,
   "outputs": [
    {
     "data": {
      "text/plain": "{'even': [0, 2, 4, 6, 8], 'odd': [1, 3, 5, 7, 9]}"
     },
     "execution_count": 8,
     "metadata": {},
     "output_type": "execute_result"
    }
   ]
  },
  {
   "cell_type": "code",
   "metadata": {
    "colab": {
     "base_uri": "https://localhost:8080/",
     "height": 198
    },
    "colab_type": "code",
    "id": "dC00VECAd_Dr",
    "outputId": "d17fed39-9a51-4e4d-8636-f4e920563fb5",
    "cell_id": "00014-3e464053-625b-4ee3-b72c-578522966832",
    "deepnote_cell_type": "code"
   },
   "source": "import pandas as pd\ndf=pd.DataFrame(numbers)\ndf",
   "execution_count": 10,
   "outputs": [
    {
     "data": {
      "text/html": "<div>\n<style scoped>\n    .dataframe tbody tr th:only-of-type {\n        vertical-align: middle;\n    }\n\n    .dataframe tbody tr th {\n        vertical-align: top;\n    }\n\n    .dataframe thead th {\n        text-align: right;\n    }\n</style>\n<table border=\"1\" class=\"dataframe\">\n  <thead>\n    <tr style=\"text-align: right;\">\n      <th></th>\n      <th>even</th>\n      <th>odd</th>\n    </tr>\n  </thead>\n  <tbody>\n    <tr>\n      <th>0</th>\n      <td>0</td>\n      <td>1</td>\n    </tr>\n    <tr>\n      <th>1</th>\n      <td>2</td>\n      <td>3</td>\n    </tr>\n    <tr>\n      <th>2</th>\n      <td>4</td>\n      <td>5</td>\n    </tr>\n    <tr>\n      <th>3</th>\n      <td>6</td>\n      <td>7</td>\n    </tr>\n    <tr>\n      <th>4</th>\n      <td>8</td>\n      <td>9</td>\n    </tr>\n  </tbody>\n</table>\n</div>",
      "text/plain": "   even  odd\n0     0    1\n1     2    3\n2     4    5\n3     6    7\n4     8    9"
     },
     "execution_count": 10,
     "metadata": {},
     "output_type": "execute_result"
    }
   ]
  },
  {
   "cell_type": "markdown",
   "source": "It is equivalent to:",
   "metadata": {
    "colab_type": "text",
    "id": "zUZ1BcuneYQf",
    "slideshow": {
     "slide_type": "slide"
    },
    "cell_id": "00015-744b2b59-2ebc-4539-9f00-75d4fa94325b",
    "deepnote_cell_type": "markdown"
   }
  },
  {
   "cell_type": "code",
   "metadata": {
    "cell_id": "00016-e9f7fa78-2c25-4132-862c-697bab37ff78",
    "deepnote_cell_type": "code"
   },
   "source": "df.to_dict()",
   "execution_count": 11,
   "outputs": [
    {
     "data": {
      "text/plain": "{'even': {0: 0, 1: 2, 2: 4, 3: 6, 4: 8}, 'odd': {0: 1, 1: 3, 2: 5, 3: 7, 4: 9}}"
     },
     "execution_count": 11,
     "metadata": {},
     "output_type": "execute_result"
    }
   ]
  },
  {
   "cell_type": "code",
   "metadata": {
    "cell_id": "00017-89105c36-dc20-4ee6-bcb9-f3394d551a6e",
    "deepnote_cell_type": "code"
   },
   "source": "pd.DataFrame(  {'even': {0: 0, 1: 2, 2: 4, 3: 6, 4: 8}, 'odd': {0: 1, 1: 3, 2: 5, 3: 7, 4: 9}} )\n",
   "execution_count": 13,
   "outputs": [
    {
     "data": {
      "text/html": "<div>\n<style scoped>\n    .dataframe tbody tr th:only-of-type {\n        vertical-align: middle;\n    }\n\n    .dataframe tbody tr th {\n        vertical-align: top;\n    }\n\n    .dataframe thead th {\n        text-align: right;\n    }\n</style>\n<table border=\"1\" class=\"dataframe\">\n  <thead>\n    <tr style=\"text-align: right;\">\n      <th></th>\n      <th>even</th>\n      <th>odd</th>\n    </tr>\n  </thead>\n  <tbody>\n    <tr>\n      <th>0</th>\n      <td>0</td>\n      <td>1</td>\n    </tr>\n    <tr>\n      <th>1</th>\n      <td>2</td>\n      <td>3</td>\n    </tr>\n    <tr>\n      <th>2</th>\n      <td>4</td>\n      <td>5</td>\n    </tr>\n    <tr>\n      <th>3</th>\n      <td>6</td>\n      <td>7</td>\n    </tr>\n    <tr>\n      <th>4</th>\n      <td>8</td>\n      <td>9</td>\n    </tr>\n  </tbody>\n</table>\n</div>",
      "text/plain": "   even  odd\n0     0    1\n1     2    3\n2     4    5\n3     6    7\n4     8    9"
     },
     "execution_count": 13,
     "metadata": {},
     "output_type": "execute_result"
    }
   ]
  },
  {
   "cell_type": "code",
   "metadata": {
    "colab": {
     "base_uri": "https://localhost:8080/",
     "height": 198
    },
    "colab_type": "code",
    "id": "nqtL07nJecD6",
    "outputId": "aa41ca23-b717-4bf6-8eac-e37914122e32",
    "cell_id": "00018-81da3a42-7a39-457b-b8db-bac5c401d035",
    "deepnote_cell_type": "code"
   },
   "source": "pd.DataFrame.from_dict(numbers)",
   "execution_count": 4,
   "outputs": [
    {
     "data": {
      "text/html": "<div>\n<style scoped>\n    .dataframe tbody tr th:only-of-type {\n        vertical-align: middle;\n    }\n\n    .dataframe tbody tr th {\n        vertical-align: top;\n    }\n\n    .dataframe thead th {\n        text-align: right;\n    }\n</style>\n<table border=\"1\" class=\"dataframe\">\n  <thead>\n    <tr style=\"text-align: right;\">\n      <th></th>\n      <th>even</th>\n      <th>odd</th>\n    </tr>\n  </thead>\n  <tbody>\n    <tr>\n      <th>0</th>\n      <td>0</td>\n      <td>1</td>\n    </tr>\n    <tr>\n      <th>1</th>\n      <td>2</td>\n      <td>3</td>\n    </tr>\n    <tr>\n      <th>2</th>\n      <td>4</td>\n      <td>5</td>\n    </tr>\n    <tr>\n      <th>3</th>\n      <td>6</td>\n      <td>7</td>\n    </tr>\n    <tr>\n      <th>4</th>\n      <td>8</td>\n      <td>9</td>\n    </tr>\n  </tbody>\n</table>\n</div>",
      "text/plain": "   even  odd\n0     0    1\n1     2    3\n2     4    5\n3     6    7\n4     8    9"
     },
     "execution_count": 4,
     "metadata": {
      "tags": []
     },
     "output_type": "execute_result"
    }
   ]
  },
  {
   "cell_type": "markdown",
   "source": "See below for other possibilities of [creating Pandas DataFrames from lists and dictionaries](https://fisica.udea.edu.co:4443/user/restrepo/notebooks/prog/cursos/data-analysis/Pandas.ipynb#Intialization-from-lists-and-dictionaries)",
   "metadata": {
    "colab_type": "text",
    "id": "1ftuPJd5eiu6",
    "cell_id": "00019-e82851df-dc6e-44e5-baf1-f53490dc4a4f",
    "deepnote_cell_type": "markdown"
   }
  },
  {
   "cell_type": "markdown",
   "source": "The main advantage of the `DataFrame`, `df`, is that it can be managed without a graphical interface.",
   "metadata": {
    "colab_type": "text",
    "id": "myuwII1Ed9PE",
    "slideshow": {
     "slide_type": "slide"
    },
    "cell_id": "00020-7464d85a-cbe8-4ec3-939b-846f627fc238",
    "deepnote_cell_type": "markdown"
   }
  },
  {
   "cell_type": "markdown",
   "source": "We can check the shape of the `DataFrame`",
   "metadata": {
    "colab_type": "text",
    "id": "5A0YScKRehta",
    "cell_id": "00021-8888b732-743b-4a62-9560-33fac5c21a4b",
    "deepnote_cell_type": "markdown"
   }
  },
  {
   "cell_type": "code",
   "metadata": {
    "colab": {
     "base_uri": "https://localhost:8080/",
     "height": 35
    },
    "colab_type": "code",
    "id": "RV-ivs5Weyzq",
    "outputId": "865e12f5-aa0c-4d40-e02d-504431226ccf",
    "cell_id": "00022-25b27bf8-fc9d-4749-a5b1-c6cb7c67fef0",
    "deepnote_cell_type": "code"
   },
   "source": "df.shape",
   "execution_count": 14,
   "outputs": [
    {
     "data": {
      "text/plain": "(5, 2)"
     },
     "execution_count": 14,
     "metadata": {},
     "output_type": "execute_result"
    }
   ]
  },
  {
   "cell_type": "markdown",
   "source": "####  Export DataFrame to other formats\n* To export to excel:",
   "metadata": {
    "colab_type": "text",
    "id": "ZMc0puXbe3nD",
    "slideshow": {
     "slide_type": "slide"
    },
    "cell_id": "00023-90fd3ae8-8621-4469-8f9c-f89eb0c2bf00",
    "deepnote_cell_type": "markdown"
   }
  },
  {
   "cell_type": "code",
   "metadata": {
    "colab": {},
    "colab_type": "code",
    "id": "ioWKY1FAe-rK",
    "cell_id": "00024-4a17d6f4-9124-4228-ae9e-983b67419459",
    "deepnote_cell_type": "code"
   },
   "source": "df.to_excel('example.xlsx',index=False)",
   "execution_count": 15,
   "outputs": []
  },
  {
   "cell_type": "code",
   "metadata": {
    "cell_id": "00025-0d0d4e5f-471c-4e95-8cc6-cd5b604408c2",
    "deepnote_cell_type": "code"
   },
   "source": "newdf=pd.read_excel('example.xlsx')\nnewdf",
   "execution_count": 17,
   "outputs": [
    {
     "data": {
      "text/html": "<div>\n<style scoped>\n    .dataframe tbody tr th:only-of-type {\n        vertical-align: middle;\n    }\n\n    .dataframe tbody tr th {\n        vertical-align: top;\n    }\n\n    .dataframe thead th {\n        text-align: right;\n    }\n</style>\n<table border=\"1\" class=\"dataframe\">\n  <thead>\n    <tr style=\"text-align: right;\">\n      <th></th>\n      <th>even</th>\n      <th>odd</th>\n    </tr>\n  </thead>\n  <tbody>\n    <tr>\n      <th>0</th>\n      <td>0</td>\n      <td>1</td>\n    </tr>\n    <tr>\n      <th>1</th>\n      <td>2</td>\n      <td>3</td>\n    </tr>\n    <tr>\n      <th>2</th>\n      <td>4</td>\n      <td>5</td>\n    </tr>\n    <tr>\n      <th>3</th>\n      <td>6</td>\n      <td>7</td>\n    </tr>\n    <tr>\n      <th>4</th>\n      <td>8</td>\n      <td>9</td>\n    </tr>\n  </tbody>\n</table>\n</div>",
      "text/plain": "   even  odd\n0     0    1\n1     2    3\n2     4    5\n3     6    7\n4     8    9"
     },
     "execution_count": 17,
     "metadata": {},
     "output_type": "execute_result"
    }
   ]
  },
  {
   "cell_type": "markdown",
   "source": "__Activity__: Open the resulting spreadsheet in Google Drive, publish it and open from the resulting link with Pandas in the next cell",
   "metadata": {
    "colab_type": "text",
    "id": "yIdeiNi_fBPJ",
    "cell_id": "00026-53b72290-ece9-47a0-bf74-45d0b5599a48",
    "deepnote_cell_type": "markdown"
   }
  },
  {
   "cell_type": "code",
   "metadata": {
    "colab": {},
    "colab_type": "code",
    "id": "ZqIbSbLvf0wm",
    "cell_id": "00027-afa925cb-92c5-4323-b67d-3fc9b7b06f3c",
    "deepnote_cell_type": "code"
   },
   "source": "df=pd.read_excel('PASTE THE PUBLISHED LINK HERE')\ndf",
   "execution_count": null,
   "outputs": []
  },
  {
   "cell_type": "markdown",
   "source": "### `Series`",
   "metadata": {
    "colab_type": "text",
    "id": "c_bj3IfLxE1Q",
    "slideshow": {
     "slide_type": "slide"
    },
    "cell_id": "00028-ba1fbbbd-e5e4-45b9-bc04-2f23383ef2c5",
    "deepnote_cell_type": "markdown"
   }
  },
  {
   "cell_type": "markdown",
   "source": "Each column of the DataFrame is now an augmented dictionary called `Series`, with the indices as the keys of the `Series`",
   "metadata": {
    "colab_type": "text",
    "id": "H2LIeZbCgoL5",
    "cell_id": "00029-9fbc4d9c-20bd-486c-9b5b-352ee4e526ac",
    "deepnote_cell_type": "markdown"
   }
  },
  {
   "cell_type": "markdown",
   "source": "A `Pandas` `Series` object can be just initialized from a `Python` dictionary:",
   "metadata": {
    "colab_type": "text",
    "id": "klrbIsoGxE1R",
    "cell_id": "00030-6e557bb0-a47f-41c8-8790-5ba070bdfb86",
    "deepnote_cell_type": "markdown"
   }
  },
  {
   "cell_type": "code",
   "metadata": {
    "colab": {
     "base_uri": "https://localhost:8080/",
     "height": 35
    },
    "colab_type": "code",
    "id": "FoTT2jkqgrpR",
    "outputId": "51a00561-282e-4b0a-dffe-f3bc63a5ab9a",
    "cell_id": "00031-15c221e5-71b6-497b-b552-d78f9fa5c5b4",
    "deepnote_cell_type": "code"
   },
   "source": "type( df['even'] )",
   "execution_count": 18,
   "outputs": [
    {
     "data": {
      "text/plain": "pandas.core.series.Series"
     },
     "execution_count": 18,
     "metadata": {},
     "output_type": "execute_result"
    }
   ]
  },
  {
   "cell_type": "markdown",
   "source": "The keys are the index of the `DataFrame`",
   "metadata": {
    "colab_type": "text",
    "id": "Iy8h3XICgz9w",
    "slideshow": {
     "slide_type": "slide"
    },
    "cell_id": "00032-5bcb5be5-166a-4dcc-a31e-92875d2f81a0",
    "deepnote_cell_type": "markdown"
   }
  },
  {
   "cell_type": "code",
   "metadata": {
    "colab": {
     "base_uri": "https://localhost:8080/",
     "height": 35
    },
    "colab_type": "code",
    "id": "BTIxbKvhg6m2",
    "outputId": "c0fb58ab-2969-4e91-c053-a1215f933dcc",
    "cell_id": "00033-000b6c1f-036e-43af-84c0-6dd4b76e7b58",
    "deepnote_cell_type": "code"
   },
   "source": "#df['even']\ndf.even[4]",
   "execution_count": 24,
   "outputs": [
    {
     "data": {
      "text/plain": "8"
     },
     "execution_count": 24,
     "metadata": {},
     "output_type": "execute_result"
    }
   ]
  },
  {
   "cell_type": "markdown",
   "source": "Each row is also a series",
   "metadata": {
    "colab_type": "text",
    "id": "7MIKjfslg7Xx",
    "cell_id": "00034-86d1564c-0818-420b-b920-2f004cfd5251",
    "deepnote_cell_type": "markdown"
   }
  },
  {
   "cell_type": "code",
   "metadata": {
    "colab": {
     "base_uri": "https://localhost:8080/",
     "height": 72
    },
    "colab_type": "code",
    "id": "rhiEFGhOg-kx",
    "outputId": "5392aae6-cac1-4225-9326-db0b22359fd4",
    "cell_id": "00035-efbe4343-8a4f-4efa-ba2d-7f88b7c8e82d",
    "deepnote_cell_type": "code"
   },
   "source": "df.loc[0]",
   "execution_count": 25,
   "outputs": [
    {
     "data": {
      "text/plain": "even    0\nodd     1\nName: 0, dtype: int64"
     },
     "execution_count": 25,
     "metadata": {},
     "output_type": "execute_result"
    }
   ]
  },
  {
   "cell_type": "markdown",
   "source": "with keys: `'even'` and `'odd'`",
   "metadata": {
    "colab_type": "text",
    "id": "ki2GW4yohKl5",
    "slideshow": {
     "slide_type": "slide"
    },
    "cell_id": "00036-c55a98ad-4590-4466-ab61-9f1a6ea49b83",
    "deepnote_cell_type": "markdown"
   }
  },
  {
   "cell_type": "code",
   "metadata": {
    "colab": {
     "base_uri": "https://localhost:8080/",
     "height": 35
    },
    "colab_type": "code",
    "id": "JPLVdBrAhFCJ",
    "outputId": "0445bd37-44f5-45ba-8618-fd3d75033e6c",
    "cell_id": "00037-34730af6-4952-4ee0-8375-410cb4392c20",
    "deepnote_cell_type": "code"
   },
   "source": "df.loc[0]['even']",
   "execution_count": 11,
   "outputs": [
    {
     "data": {
      "text/plain": "0"
     },
     "execution_count": 11,
     "metadata": {
      "tags": []
     },
     "output_type": "execute_result"
    }
   ]
  },
  {
   "cell_type": "markdown",
   "source": "or attributes `even` and `odd`",
   "metadata": {
    "colab_type": "text",
    "id": "8NuiZ2NIhGjx",
    "cell_id": "00038-3f514cb9-b08b-416d-9711-6654cb2e6caa",
    "deepnote_cell_type": "markdown"
   }
  },
  {
   "cell_type": "code",
   "metadata": {
    "colab": {
     "base_uri": "https://localhost:8080/",
     "height": 35
    },
    "colab_type": "code",
    "id": "KmY9Jrk_hZyx",
    "outputId": "bb8814ee-39e5-4d5b-8877-0466d66f7a93",
    "cell_id": "00039-cb23d640-f06f-446e-b942-8be58193f511",
    "deepnote_cell_type": "code"
   },
   "source": "df.loc[0].odd",
   "execution_count": 26,
   "outputs": [
    {
     "data": {
      "text/plain": "1"
     },
     "execution_count": 26,
     "metadata": {},
     "output_type": "execute_result"
    }
   ]
  },
  {
   "cell_type": "markdown",
   "source": "One specific cell value can be reached with the index and the key:",
   "metadata": {
    "colab_type": "text",
    "id": "vOxxMKJshhKJ",
    "cell_id": "00040-ac07d690-d4ce-4d3d-af39-c2bb5353c03d",
    "deepnote_cell_type": "markdown"
   }
  },
  {
   "cell_type": "code",
   "metadata": {
    "colab": {
     "base_uri": "https://localhost:8080/",
     "height": 35
    },
    "colab_type": "code",
    "id": "MexLUmZLhph5",
    "outputId": "6d01e4eb-9451-4e43-81e6-fa46147fb67f",
    "cell_id": "00041-5ca70a4d-1891-4d24-9d37-f7533cc8e50b",
    "deepnote_cell_type": "code"
   },
   "source": "df.loc[2,'odd']",
   "execution_count": 14,
   "outputs": [
    {
     "data": {
      "text/plain": "5"
     },
     "execution_count": 14,
     "metadata": {
      "tags": []
     },
     "output_type": "execute_result"
    }
   ]
  },
  {
   "cell_type": "code",
   "metadata": {
    "colab": {},
    "colab_type": "code",
    "id": "LrhKw9EQxE1T",
    "cell_id": "00042-e8bd9a00-9b35-45d1-a4a3-72aee9572a2a",
    "deepnote_cell_type": "code"
   },
   "source": "s=pd.Series({'Name':'Juan Valdez','Nacionality':'Colombia','Age':23})\ns",
   "execution_count": 28,
   "outputs": [
    {
     "data": {
      "text/plain": "Name           Juan Valdez\nNacionality       Colombia\nAge                     23\ndtype: object"
     },
     "execution_count": 28,
     "metadata": {},
     "output_type": "execute_result"
    }
   ]
  },
  {
   "cell_type": "markdown",
   "source": "*Note* that the key name can be used also as an attribute.\n",
   "metadata": {
    "colab_type": "text",
    "id": "TzNtVUV6h36n",
    "slideshow": {
     "slide_type": "slide"
    },
    "cell_id": "00043-63272df4-c2ec-42ce-bd0b-3af6c0ea4924",
    "deepnote_cell_type": "markdown"
   }
  },
  {
   "cell_type": "code",
   "metadata": {
    "colab": {
     "base_uri": "https://localhost:8080/",
     "height": 126
    },
    "colab_type": "code",
    "id": "ip9ADEo7h5vA",
    "outputId": "a4e367e5-a390-435b-8956-a12bd2ba92fc",
    "cell_id": "00044-32d4c04d-d660-48fd-ab2a-b2bd17ce5f27",
    "deepnote_cell_type": "code"
   },
   "source": "df.odd",
   "execution_count": 15,
   "outputs": [
    {
     "data": {
      "text/plain": "0    1\n1    3\n2    5\n3    7\n4    9\nName: odd, dtype: int64"
     },
     "execution_count": 15,
     "metadata": {
      "tags": []
     },
     "output_type": "execute_result"
    }
   ]
  },
  {
   "cell_type": "markdown",
   "source": "> The __power__ of Pandas rely in that their main data structures: `DataFrames` and `Series`, are enriched with many useful methods and attributes.\n\n### [Official definition of Pandas](http://pandas.pydata.org/pandas-docs/stable/)\n\n> Pandas is a Python package providing __fast__, __flexible__, and __expressive__ _data structures_ designed to make working with “relational” or “labeled” data both easy and intuitive. It aims to be the fundamental high-level building block for doing practical, real world data analysis in Python. Additionally, it _has the broader goal of becoming the most powerful and flexible open source data analysis / manipulation tool_ available in any language. It is already well on its way toward this goal.\n\n* \"relational\": the list of data is identified with some unique index (like a `SQL` table)\n* \"labeled\": the list is identified with a key, like the previous `odd` or `even` keys.\n",
   "metadata": {
    "colab_type": "text",
    "id": "z5JBXWlkh8Z3",
    "slideshow": {
     "slide_type": "slide"
    },
    "cell_id": "00045-4cee4939-0326-4d1a-b481-409d3a73e6e8",
    "deepnote_cell_type": "markdown"
   }
  },
  {
   "cell_type": "markdown",
   "source": "For example. A double bracket `[[...]]`, can be used to filter data.\n\nA row in a two-dimensional `DataFrame` corresponds to `Series` with the same keys of the `DataFrame`, but with single values instead of a list ",
   "metadata": {
    "colab_type": "text",
    "id": "sDC5HnPOicTg",
    "slideshow": {
     "slide_type": "subslide"
    },
    "cell_id": "00046-3daea1f4-914e-406e-a0e6-a12582c78615",
    "deepnote_cell_type": "markdown"
   }
  },
  {
   "cell_type": "code",
   "metadata": {
    "colab": {
     "base_uri": "https://localhost:8080/",
     "height": 78
    },
    "colab_type": "code",
    "id": "UfyqbhjXigZc",
    "outputId": "6c7f9bf1-a3ee-483c-e7cf-94b9a7d42af1",
    "cell_id": "00047-924b43dc-7ce3-4ff3-8be4-a21ebbbed12e",
    "deepnote_cell_type": "code"
   },
   "source": "df.loc[[0]]",
   "execution_count": 29,
   "outputs": [
    {
     "data": {
      "text/html": "<div>\n<style scoped>\n    .dataframe tbody tr th:only-of-type {\n        vertical-align: middle;\n    }\n\n    .dataframe tbody tr th {\n        vertical-align: top;\n    }\n\n    .dataframe thead th {\n        text-align: right;\n    }\n</style>\n<table border=\"1\" class=\"dataframe\">\n  <thead>\n    <tr style=\"text-align: right;\">\n      <th></th>\n      <th>even</th>\n      <th>odd</th>\n    </tr>\n  </thead>\n  <tbody>\n    <tr>\n      <th>0</th>\n      <td>0</td>\n      <td>1</td>\n    </tr>\n  </tbody>\n</table>\n</div>",
      "text/plain": "   even  odd\n0     0    1"
     },
     "execution_count": 29,
     "metadata": {},
     "output_type": "execute_result"
    }
   ]
  },
  {
   "cell_type": "code",
   "metadata": {
    "colab": {
     "base_uri": "https://localhost:8080/",
     "height": 90
    },
    "colab_type": "code",
    "id": "-dANKUEoi78M",
    "outputId": "908fe434-920b-4ece-a21c-d2c84a28b053",
    "cell_id": "00048-e1f9e5dc-6bf0-41d4-b1a3-183192fa678e",
    "deepnote_cell_type": "code"
   },
   "source": "print( 'the row has' )\nprint( '                  keys: {} and values: {}'.format( list( df.loc[[0]].keys() ),df.loc[[0]].values[0]  ) )\nprint( \"like the dictionay:\" )\nprint( \"                      { 'even' : 0, 'odd' : 1 }\")",
   "execution_count": 17,
   "outputs": [
    {
     "name": "stdout",
     "output_type": "stream",
     "text": "the row has\n                  keys: ['even', 'odd'] and values: [0 1]\nlike the dictionay:\n                      { 'even' : 0, 'odd' : 1 }\n"
    }
   ]
  },
  {
   "cell_type": "markdown",
   "source": "To filter a column:",
   "metadata": {
    "colab_type": "text",
    "id": "p7MgQWMijI0W",
    "slideshow": {
     "slide_type": "slide"
    },
    "cell_id": "00049-04942039-b889-4baa-bb10-d3ac7651fbf7",
    "deepnote_cell_type": "markdown"
   }
  },
  {
   "cell_type": "code",
   "metadata": {
    "colab": {
     "base_uri": "https://localhost:8080/",
     "height": 198
    },
    "colab_type": "code",
    "id": "nT_SkKMIjMWY",
    "outputId": "f9f45db6-cf96-4ba2-e454-904d6385bd99",
    "cell_id": "00050-98830692-b564-4fec-b41d-c800e7ebed14",
    "deepnote_cell_type": "code"
   },
   "source": "df[['odd']]",
   "execution_count": 30,
   "outputs": [
    {
     "data": {
      "text/html": "<div>\n<style scoped>\n    .dataframe tbody tr th:only-of-type {\n        vertical-align: middle;\n    }\n\n    .dataframe tbody tr th {\n        vertical-align: top;\n    }\n\n    .dataframe thead th {\n        text-align: right;\n    }\n</style>\n<table border=\"1\" class=\"dataframe\">\n  <thead>\n    <tr style=\"text-align: right;\">\n      <th></th>\n      <th>odd</th>\n    </tr>\n  </thead>\n  <tbody>\n    <tr>\n      <th>0</th>\n      <td>1</td>\n    </tr>\n    <tr>\n      <th>1</th>\n      <td>3</td>\n    </tr>\n    <tr>\n      <th>2</th>\n      <td>5</td>\n    </tr>\n    <tr>\n      <th>3</th>\n      <td>7</td>\n    </tr>\n    <tr>\n      <th>4</th>\n      <td>9</td>\n    </tr>\n  </tbody>\n</table>\n</div>",
      "text/plain": "   odd\n0    1\n1    3\n2    5\n3    7\n4    9"
     },
     "execution_count": 30,
     "metadata": {},
     "output_type": "execute_result"
    }
   ]
  },
  {
   "cell_type": "markdown",
   "source": "### More on `Series`",
   "metadata": {
    "colab_type": "text",
    "id": "ElU5h9tnxE1Y",
    "slideshow": {
     "slide_type": "slide"
    },
    "cell_id": "00051-6b0ba5a7-4d42-4397-9f24-7d59a6795943",
    "deepnote_cell_type": "markdown"
   }
  },
  {
   "cell_type": "markdown",
   "source": "A `Pandas` `Series` object can be just initialized from a `Python` dictionary:",
   "metadata": {
    "colab_type": "text",
    "id": "pg20NksOjdQW",
    "cell_id": "00052-58cd1675-c71a-4c71-b957-e25c8a6ab447",
    "deepnote_cell_type": "markdown"
   }
  },
  {
   "cell_type": "code",
   "metadata": {
    "colab": {
     "base_uri": "https://localhost:8080/",
     "height": 90
    },
    "colab_type": "code",
    "id": "qjuk_nn0jgFH",
    "outputId": "ed0eade9-31dc-4cab-bfb4-79cf10c7f5b6",
    "cell_id": "00053-5881d053-799d-4191-9112-4d49bf041fa0",
    "deepnote_cell_type": "code"
   },
   "source": "s=pd.Series({'Name':'Juan Valdez','Nacionality':'Colombia','Age':23})\ns",
   "execution_count": 39,
   "outputs": [
    {
     "data": {
      "text/plain": "Name           Juan Valdez\nNacionality       Colombia\nAge                     23\ndtype: object"
     },
     "execution_count": 39,
     "metadata": {},
     "output_type": "execute_result"
    }
   ]
  },
  {
   "cell_type": "code",
   "metadata": {
    "colab": {},
    "colab_type": "code",
    "id": "pAtixllExE1Z",
    "outputId": "df062321-1e5a-4c58-cc01-b80503680a3c",
    "cell_id": "00054-997dbe29-5415-4b33-a2c2-320979fb1dcb",
    "deepnote_cell_type": "code"
   },
   "source": "s['Name']",
   "execution_count": 40,
   "outputs": [
    {
     "data": {
      "text/plain": "'Juan Valdez'"
     },
     "execution_count": 40,
     "metadata": {},
     "output_type": "execute_result"
    }
   ]
  },
  {
   "cell_type": "markdown",
   "source": "but also as containers of name spaces!",
   "metadata": {
    "colab_type": "text",
    "id": "pYb112eqxE1e",
    "cell_id": "00055-c9c53a1e-7e5c-4360-9714-10f042c7ab91",
    "deepnote_cell_type": "markdown"
   }
  },
  {
   "cell_type": "code",
   "metadata": {
    "colab": {},
    "colab_type": "code",
    "id": "6_GfsFVwxE1f",
    "outputId": "a2cfc2c7-bc11-4939-8c0a-536aeb453f39",
    "cell_id": "00056-c35a9e02-65ee-4089-8af1-da308c7c33c7",
    "deepnote_cell_type": "code"
   },
   "source": "s.Name",
   "execution_count": 43,
   "outputs": [
    {
     "data": {
      "text/plain": "'Juan Valdez'"
     },
     "execution_count": 43,
     "metadata": {},
     "output_type": "execute_result"
    }
   ]
  },
  {
   "cell_type": "markdown",
   "source": "## `DataFrame` initialization",
   "metadata": {
    "colab_type": "text",
    "id": "Kab6pfyMxE1k",
    "slideshow": {
     "slide_type": "slide"
    },
    "cell_id": "00057-25c85b9e-a98a-446e-a2ad-d21be1a344e4",
    "deepnote_cell_type": "markdown"
   }
  },
  {
   "cell_type": "markdown",
   "source": "### Initization from an existing spreadsheet. \nThis can be locally in your computer o from some downloadable  link",
   "metadata": {
    "colab_type": "text",
    "id": "4zhJVNq1pTTe",
    "cell_id": "00058-c269e732-fb8b-4ffb-8ae1-3df99a8c229d",
    "deepnote_cell_type": "markdown"
   }
  },
  {
   "cell_type": "code",
   "metadata": {
    "colab": {
     "base_uri": "https://localhost:8080/",
     "height": 108
    },
    "colab_type": "code",
    "id": "yM4oF9r-pWsw",
    "outputId": "fb448709-fb2a-4ce1-f154-57e96439f98a",
    "cell_id": "00059-a5e5f2ee-7ef0-4a15-8cf0-1bd63e03a10b",
    "deepnote_cell_type": "code"
   },
   "source": "df=pd.read_excel('http://bit.ly/spreadsheet_xlsx')\ndf",
   "execution_count": 44,
   "outputs": [
    {
     "data": {
      "text/html": "<div>\n<style scoped>\n    .dataframe tbody tr th:only-of-type {\n        vertical-align: middle;\n    }\n\n    .dataframe tbody tr th {\n        vertical-align: top;\n    }\n\n    .dataframe thead th {\n        text-align: right;\n    }\n</style>\n<table border=\"1\" class=\"dataframe\">\n  <thead>\n    <tr style=\"text-align: right;\">\n      <th></th>\n      <th>Nombre</th>\n      <th>Edad</th>\n      <th>Compañia</th>\n    </tr>\n  </thead>\n  <tbody>\n    <tr>\n      <th>0</th>\n      <td>Juan Valdez</td>\n      <td>23</td>\n      <td>Café de Colombia</td>\n    </tr>\n    <tr>\n      <th>1</th>\n      <td>Álvaro Uribe Vélez</td>\n      <td>65</td>\n      <td>Senado de la República</td>\n    </tr>\n  </tbody>\n</table>\n</div>",
      "text/plain": "               Nombre  Edad                Compañia\n0         Juan Valdez    23        Café de Colombia\n1  Álvaro Uribe Vélez    65  Senado de la República"
     },
     "execution_count": 44,
     "metadata": {},
     "output_type": "execute_result"
    }
   ]
  },
  {
   "cell_type": "markdown",
   "source": "To make a downloadable link for any spread sheet in Google Drive, follow the sequence:\n```\nFile → Publish to the web...→ Entire Document → Web page → Microsoft excel (xlsx)\n```\nas illustrated in the figure:\n![GS](https://github.com/restrepo/data-analysis/blob/master/img/img1.png?raw=1)",
   "metadata": {
    "colab_type": "text",
    "id": "QM4z4MoXpjLj",
    "slideshow": {
     "slide_type": "subslide"
    },
    "cell_id": "00060-a55db9c7-27b6-41fe-ba0e-e41a1e68892e",
    "deepnote_cell_type": "markdown"
   }
  },
  {
   "cell_type": "code",
   "metadata": {
    "colab": {
     "base_uri": "https://localhost:8080/",
     "height": 108
    },
    "colab_type": "code",
    "id": "29uXQfWjpx66",
    "outputId": "7c58a4ca-69b9-4ee2-9187-96aee19ee940",
    "slideshow": {
     "slide_type": "subslide"
    },
    "cell_id": "00061-11ece2bc-94b9-4f70-b2cf-b55cd69a4f87",
    "deepnote_cell_type": "code"
   },
   "source": "df.loc[0,'Edad']=32\n#df.at[0,'Edad']=32\ndf",
   "execution_count": 45,
   "outputs": [
    {
     "data": {
      "text/html": "<div>\n<style scoped>\n    .dataframe tbody tr th:only-of-type {\n        vertical-align: middle;\n    }\n\n    .dataframe tbody tr th {\n        vertical-align: top;\n    }\n\n    .dataframe thead th {\n        text-align: right;\n    }\n</style>\n<table border=\"1\" class=\"dataframe\">\n  <thead>\n    <tr style=\"text-align: right;\">\n      <th></th>\n      <th>Nombre</th>\n      <th>Edad</th>\n      <th>Compañia</th>\n    </tr>\n  </thead>\n  <tbody>\n    <tr>\n      <th>0</th>\n      <td>Juan Valdez</td>\n      <td>32</td>\n      <td>Café de Colombia</td>\n    </tr>\n    <tr>\n      <th>1</th>\n      <td>Álvaro Uribe Vélez</td>\n      <td>65</td>\n      <td>Senado de la República</td>\n    </tr>\n  </tbody>\n</table>\n</div>",
      "text/plain": "               Nombre  Edad                Compañia\n0         Juan Valdez    32        Café de Colombia\n1  Álvaro Uribe Vélez    65  Senado de la República"
     },
     "execution_count": 45,
     "metadata": {},
     "output_type": "execute_result"
    }
   ]
  },
  {
   "cell_type": "markdown",
   "source": "*After* some modification",
   "metadata": {
    "colab_type": "text",
    "id": "eeZzLpDUpqbS",
    "cell_id": "00062-5be08fd6-94b8-4c55-b9f1-03c2ea1cef7b",
    "deepnote_cell_type": "markdown"
   }
  },
  {
   "cell_type": "markdown",
   "source": "it can be saved again as an `excel file` with the option to not create a column of indices: `index=False`",
   "metadata": {
    "colab_type": "text",
    "id": "TRjW0Y4Rpv-i",
    "cell_id": "00063-80bd419a-5bb8-42f6-9cf7-7a9508e7ef58",
    "deepnote_cell_type": "markdown"
   }
  },
  {
   "cell_type": "markdown",
   "source": "### Intialization from lists and dictionaries",
   "metadata": {
    "colab_type": "text",
    "id": "QZUHeScjp6cC",
    "slideshow": {
     "slide_type": "slide"
    },
    "cell_id": "00064-5998e0ac-609c-4fba-b96e-53d70aef8ec5",
    "deepnote_cell_type": "markdown"
   }
  },
  {
   "cell_type": "markdown",
   "source": "#### Inizialization from Series\nWe start with an empty `DataFrame`:",
   "metadata": {
    "colab_type": "text",
    "id": "5ulKgKBRxE1m",
    "cell_id": "00065-e142101b-9b27-4ff5-a1c9-c0cdeab5cdb5",
    "deepnote_cell_type": "markdown"
   }
  },
  {
   "cell_type": "markdown",
   "source": "Creating Pandas DataFrame from list and dictionaries [offers many alternatives](http://pbpython.com/pandas-list-dict.html)\n\n![creating dataframes](http://pbpython.com/images/pandas-dataframe-shadow.png)\n\n#### Row oriented way\n* In addition to the dictionary of lists [already illustrated at the beginning]() that in this case corresponds to:",
   "metadata": {
    "colab_type": "text",
    "id": "J-F92xHmp8v7",
    "cell_id": "00066-77afb247-50a8-4b43-aabb-eb64da7d31e8",
    "deepnote_cell_type": "markdown"
   }
  },
  {
   "cell_type": "code",
   "metadata": {
    "colab": {
     "base_uri": "https://localhost:8080/",
     "height": 108
    },
    "colab_type": "code",
    "id": "7IOuJCeMqBRj",
    "outputId": "70888102-facb-48a2-8c6a-44a1e799ddc9",
    "slideshow": {
     "slide_type": "slide"
    },
    "cell_id": "00067-617526f9-d3a8-459c-8227-c831c7d13ef6",
    "deepnote_cell_type": "code"
   },
   "source": "pd.DataFrame({'Nombre'   : ['Juan Valdez','Álvaro Uribe Vélez'],\n              'Edad'     : [32,            65                 ],\n              'Compañia' : ['Café de Colombia','Senado de la República']})",
   "execution_count": 48,
   "outputs": [
    {
     "data": {
      "text/html": "<div>\n<style scoped>\n    .dataframe tbody tr th:only-of-type {\n        vertical-align: middle;\n    }\n\n    .dataframe tbody tr th {\n        vertical-align: top;\n    }\n\n    .dataframe thead th {\n        text-align: right;\n    }\n</style>\n<table border=\"1\" class=\"dataframe\">\n  <thead>\n    <tr style=\"text-align: right;\">\n      <th></th>\n      <th>Nombre</th>\n      <th>Edad</th>\n      <th>Compañia</th>\n    </tr>\n  </thead>\n  <tbody>\n    <tr>\n      <th>0</th>\n      <td>Juan Valdez</td>\n      <td>32</td>\n      <td>Café de Colombia</td>\n    </tr>\n    <tr>\n      <th>1</th>\n      <td>Álvaro Uribe Vélez</td>\n      <td>65</td>\n      <td>Senado de la República</td>\n    </tr>\n  </tbody>\n</table>\n</div>",
      "text/plain": "               Nombre  Edad                Compañia\n0         Juan Valdez    32        Café de Colombia\n1  Álvaro Uribe Vélez    65  Senado de la República"
     },
     "execution_count": 48,
     "metadata": {},
     "output_type": "execute_result"
    }
   ]
  },
  {
   "cell_type": "markdown",
   "source": "* We can obtain the DataFrame from list of items",
   "metadata": {
    "colab_type": "text",
    "id": "nJLhj4G4qJZb",
    "slideshow": {
     "slide_type": "slide"
    },
    "cell_id": "00068-f8c10978-b48d-44bd-8207-4330ae7f2280",
    "deepnote_cell_type": "markdown"
   }
  },
  {
   "cell_type": "code",
   "metadata": {
    "colab": {},
    "colab_type": "code",
    "id": "p755U93VqKLC",
    "cell_id": "00069-48e62ebe-c8f3-48e5-9487-20975fa1cff7",
    "deepnote_cell_type": "code"
   },
   "source": "pd.DataFrame.from_items([ [ 'Nombre'  , ['Juan Valdez','Álvaro Uribe Vélez']],\n                          [ 'Edad'    , [  32,            65               ]],\n                          [ 'Compañia', ['Café de Colombia','Senado de la República']] ])",
   "execution_count": null,
   "outputs": []
  },
  {
   "cell_type": "markdown",
   "source": "* We can obtain the `DataFrame` from dictionary",
   "metadata": {
    "colab_type": "text",
    "id": "J6tp94TlqO_S",
    "slideshow": {
     "slide_type": "slide"
    },
    "cell_id": "00070-3da42af6-028d-4bd9-a93b-3b8266c62501",
    "deepnote_cell_type": "markdown"
   }
  },
  {
   "cell_type": "code",
   "metadata": {
    "colab": {
     "base_uri": "https://localhost:8080/",
     "height": 138
    },
    "colab_type": "code",
    "id": "wx-JJgqIqQAD",
    "outputId": "66e0e42b-1261-43dd-ad1e-1eddb7eb3bfb",
    "cell_id": "00071-6f90ed3f-241c-497b-ac6d-da067e409361",
    "deepnote_cell_type": "code"
   },
   "source": "pd.DataFrame( [{'Nombre':'Juan Valdez',        'Edad': 32   ,'Compañia':'Café de Colombia'      },\n              {'Nombre':'Álvaro Uribe Vélez', 'Edad': 65   ,'Compañia':'Senado de la República'}]\n            )",
   "execution_count": 2,
   "outputs": [
    {
     "data": {
      "text/html": "<div>\n<style scoped>\n    .dataframe tbody tr th:only-of-type {\n        vertical-align: middle;\n    }\n\n    .dataframe tbody tr th {\n        vertical-align: top;\n    }\n\n    .dataframe thead th {\n        text-align: right;\n    }\n</style>\n<table border=\"1\" class=\"dataframe\">\n  <thead>\n    <tr style=\"text-align: right;\">\n      <th></th>\n      <th>Compañia</th>\n      <th>Edad</th>\n      <th>Nombre</th>\n    </tr>\n  </thead>\n  <tbody>\n    <tr>\n      <th>0</th>\n      <td>Café de Colombia</td>\n      <td>32</td>\n      <td>Juan Valdez</td>\n    </tr>\n    <tr>\n      <th>1</th>\n      <td>Senado de la República</td>\n      <td>65</td>\n      <td>Álvaro Uribe Vélez</td>\n    </tr>\n  </tbody>\n</table>\n</div>",
      "text/plain": "                 Compañia  Edad              Nombre\n0        Café de Colombia    32         Juan Valdez\n1  Senado de la República    65  Álvaro Uribe Vélez"
     },
     "execution_count": 2,
     "metadata": {},
     "output_type": "execute_result"
    }
   ]
  },
  {
   "cell_type": "code",
   "metadata": {
    "colab": {},
    "colab_type": "code",
    "id": "jPsRspsXxE1n",
    "outputId": "cb0aeb13-fa1a-480d-a214-fdb27b8f0228",
    "cell_id": "00072-5dca2e57-28d1-4dee-8a8a-d451188f3084",
    "deepnote_cell_type": "code"
   },
   "source": "df=pd.DataFrame()\ndf",
   "execution_count": 49,
   "outputs": [
    {
     "data": {
      "text/html": "<div>\n<style scoped>\n    .dataframe tbody tr th:only-of-type {\n        vertical-align: middle;\n    }\n\n    .dataframe tbody tr th {\n        vertical-align: top;\n    }\n\n    .dataframe thead th {\n        text-align: right;\n    }\n</style>\n<table border=\"1\" class=\"dataframe\">\n  <thead>\n    <tr style=\"text-align: right;\">\n      <th></th>\n    </tr>\n  </thead>\n  <tbody>\n  </tbody>\n</table>\n</div>",
      "text/plain": "Empty DataFrame\nColumns: []\nIndex: []"
     },
     "execution_count": 49,
     "metadata": {},
     "output_type": "execute_result"
    }
   ]
  },
  {
   "cell_type": "markdown",
   "source": "### Initialization from sequential rows as  Series\nWe start with an empty `DataFrame`:",
   "metadata": {
    "colab_type": "text",
    "id": "_ylhD2zjqdby",
    "slideshow": {
     "slide_type": "slide"
    },
    "cell_id": "00073-0702057c-6782-455f-8481-441f2132c1b1",
    "deepnote_cell_type": "markdown"
   }
  },
  {
   "cell_type": "code",
   "metadata": {
    "colab": {
     "base_uri": "https://localhost:8080/",
     "height": 35
    },
    "colab_type": "code",
    "id": "r6V0qilXqxBB",
    "outputId": "e1f60191-9d17-44e0-ce10-4619c767ee9d",
    "cell_id": "00074-7ee7b66f-0813-4412-bf3d-2a26f5804cf6",
    "deepnote_cell_type": "code"
   },
   "source": "df=pd.DataFrame()\ndf.empty",
   "execution_count": 50,
   "outputs": [
    {
     "data": {
      "text/plain": "True"
     },
     "execution_count": 50,
     "metadata": {},
     "output_type": "execute_result"
    }
   ]
  },
  {
   "cell_type": "markdown",
   "source": "We can append a dictionary (or Series) as a row of the `DataFrame`, provided that we always use the option: `ignore_index=True`",
   "metadata": {
    "colab_type": "text",
    "id": "f0OJapjvxE1q",
    "cell_id": "00075-51105264-c39a-4fbe-8543-f3b15fca495d",
    "deepnote_cell_type": "markdown"
   }
  },
  {
   "cell_type": "code",
   "metadata": {
    "colab": {
     "base_uri": "https://localhost:8080/",
     "height": 78
    },
    "colab_type": "code",
    "id": "AgR5uPbxrA6q",
    "outputId": "daa37a89-0b8d-40ce-c292-f67268cb5eaa",
    "cell_id": "00076-422876c7-62e9-4f28-8ee0-a0b182cd2b02",
    "deepnote_cell_type": "code"
   },
   "source": "d={'Name':'Juan Valdez','Nacionality':'Colombia','Age':23}\ndf=df.append(d,ignore_index=True)\ndf",
   "execution_count": 52,
   "outputs": [
    {
     "data": {
      "text/html": "<div>\n<style scoped>\n    .dataframe tbody tr th:only-of-type {\n        vertical-align: middle;\n    }\n\n    .dataframe tbody tr th {\n        vertical-align: top;\n    }\n\n    .dataframe thead th {\n        text-align: right;\n    }\n</style>\n<table border=\"1\" class=\"dataframe\">\n  <thead>\n    <tr style=\"text-align: right;\">\n      <th></th>\n      <th>Age</th>\n      <th>Nacionality</th>\n      <th>Name</th>\n    </tr>\n  </thead>\n  <tbody>\n    <tr>\n      <th>0</th>\n      <td>23.0</td>\n      <td>Colombia</td>\n      <td>Juan Valdez</td>\n    </tr>\n  </tbody>\n</table>\n</div>",
      "text/plain": "    Age Nacionality         Name\n0  23.0    Colombia  Juan Valdez"
     },
     "execution_count": 52,
     "metadata": {},
     "output_type": "execute_result"
    }
   ]
  },
  {
   "cell_type": "markdown",
   "source": "We can fix the type of data of the `'Age'` column",
   "metadata": {
    "colab_type": "text",
    "id": "32Oh_stDxE1w",
    "slideshow": {
     "slide_type": "slide"
    },
    "cell_id": "00077-f422375c-a5ad-46f7-b886-82ee1d38274a",
    "deepnote_cell_type": "markdown"
   }
  },
  {
   "cell_type": "code",
   "metadata": {
    "colab": {
     "base_uri": "https://localhost:8080/",
     "height": 35
    },
    "colab_type": "code",
    "id": "-Jk5bSRGxE1y",
    "outputId": "761bbccf-7a5f-4e95-a2dd-c398fe63ba1a",
    "cell_id": "00078-d702437e-64eb-4fbd-aafb-649ed8015050",
    "deepnote_cell_type": "code"
   },
   "source": "type(df.Age[0])",
   "execution_count": 53,
   "outputs": [
    {
     "data": {
      "text/plain": "numpy.float64"
     },
     "execution_count": 53,
     "metadata": {},
     "output_type": "execute_result"
    }
   ]
  },
  {
   "cell_type": "code",
   "metadata": {
    "colab": {
     "base_uri": "https://localhost:8080/",
     "height": 78
    },
    "colab_type": "code",
    "id": "vl9RKEBXxE12",
    "outputId": "db160f69-5b96-4582-d002-4f0b027e6dda",
    "cell_id": "00079-d433979a-54d3-44f9-9a56-068126712852",
    "deepnote_cell_type": "code"
   },
   "source": "df['Age']=df.Age.astype(int)\ndf",
   "execution_count": 54,
   "outputs": [
    {
     "data": {
      "text/html": "<div>\n<style scoped>\n    .dataframe tbody tr th:only-of-type {\n        vertical-align: middle;\n    }\n\n    .dataframe tbody tr th {\n        vertical-align: top;\n    }\n\n    .dataframe thead th {\n        text-align: right;\n    }\n</style>\n<table border=\"1\" class=\"dataframe\">\n  <thead>\n    <tr style=\"text-align: right;\">\n      <th></th>\n      <th>Age</th>\n      <th>Nacionality</th>\n      <th>Name</th>\n    </tr>\n  </thead>\n  <tbody>\n    <tr>\n      <th>0</th>\n      <td>23</td>\n      <td>Colombia</td>\n      <td>Juan Valdez</td>\n    </tr>\n  </tbody>\n</table>\n</div>",
      "text/plain": "   Age Nacionality         Name\n0   23    Colombia  Juan Valdez"
     },
     "execution_count": 54,
     "metadata": {},
     "output_type": "execute_result"
    }
   ]
  },
  {
   "cell_type": "markdown",
   "source": "To add a second file we build another `dict`",
   "metadata": {
    "colab_type": "text",
    "id": "npH4wLrNxE17",
    "cell_id": "00080-d1b64085-e8ea-45d1-ac27-443875bd044b",
    "deepnote_cell_type": "markdown"
   }
  },
  {
   "cell_type": "code",
   "metadata": {
    "colab": {
     "base_uri": "https://localhost:8080/",
     "height": 163
    },
    "colab_type": "code",
    "id": "nTwRmub3xE18",
    "outputId": "7b4bcbbc-d5d6-400b-d650-256791060360",
    "cell_id": "00081-3c0893fe-aed8-4d42-8f05-5ce9bee9418f",
    "deepnote_cell_type": "code"
   },
   "source": "d={}\nfor k in ['Name','Nacionality','Age','Company']:\n    var=input('{}:\\n'.format(k))\n    d[k]=var",
   "execution_count": 55,
   "outputs": [
    {
     "name": "stdout",
     "output_type": "stream",
     "text": "Name:\nDiego Restrepo\nNacionality:\nColombia\nAge:\n33\nCompany:\nUniversidad de Antioquia\n"
    }
   ]
  },
  {
   "cell_type": "markdown",
   "source": "#### Exercises\n* Display the resulting `Series` in the screen:",
   "metadata": {
    "colab_type": "text",
    "id": "t8Xzsb0qxE1-",
    "slideshow": {
     "slide_type": "slide"
    },
    "cell_id": "00082-21c2691e-ed50-43c3-a0a4-3cf199aa0775",
    "deepnote_cell_type": "markdown"
   }
  },
  {
   "cell_type": "code",
   "metadata": {
    "cell_id": "00083-c166b04e-79e9-40ea-ae48-49965f6a1ca1",
    "deepnote_cell_type": "code"
   },
   "source": "",
   "execution_count": null,
   "outputs": []
  },
  {
   "cell_type": "markdown",
   "source": "* Append to the previous `DataFrame` and visualize it:",
   "metadata": {
    "colab_type": "text",
    "id": "sSPUdkvtxE2C",
    "cell_id": "00084-b681d4fc-73d5-46ee-bd43-bc82de198660",
    "deepnote_cell_type": "markdown"
   }
  },
  {
   "cell_type": "code",
   "metadata": {
    "colab": {},
    "colab_type": "code",
    "id": "vRRypFa_xE2D",
    "cell_id": "00085-2a4e0b9c-c719-41d5-95bc-f277953e179c",
    "deepnote_cell_type": "code"
   },
   "source": "df=df.append(d,ignore_index=True)\ndf",
   "execution_count": 62,
   "outputs": [
    {
     "data": {
      "text/html": "<div>\n<style scoped>\n    .dataframe tbody tr th:only-of-type {\n        vertical-align: middle;\n    }\n\n    .dataframe tbody tr th {\n        vertical-align: top;\n    }\n\n    .dataframe thead th {\n        text-align: right;\n    }\n</style>\n<table border=\"1\" class=\"dataframe\">\n  <thead>\n    <tr style=\"text-align: right;\">\n      <th></th>\n      <th>Age</th>\n      <th>Nacionality</th>\n      <th>Name</th>\n      <th>Company</th>\n    </tr>\n  </thead>\n  <tbody>\n    <tr>\n      <th>0</th>\n      <td>23</td>\n      <td>Colombia</td>\n      <td>Juan Valdez</td>\n      <td>NaN</td>\n    </tr>\n    <tr>\n      <th>1</th>\n      <td>33</td>\n      <td>Colombia</td>\n      <td>Diego Restrepo</td>\n      <td>Universidad de Antioquia</td>\n    </tr>\n  </tbody>\n</table>\n</div>",
      "text/plain": "  Age Nacionality            Name                   Company\n0  23    Colombia     Juan Valdez                       NaN\n1  33    Colombia  Diego Restrepo  Universidad de Antioquia"
     },
     "execution_count": 62,
     "metadata": {},
     "output_type": "execute_result"
    }
   ]
  },
  {
   "cell_type": "markdown",
   "source": "* Fill NaN with empty strings",
   "metadata": {
    "colab_type": "text",
    "id": "wLUED3NWxE2G",
    "cell_id": "00086-e7522978-7107-452d-b697-fcdf7b8f948b",
    "deepnote_cell_type": "markdown"
   }
  },
  {
   "cell_type": "code",
   "metadata": {
    "colab": {},
    "colab_type": "code",
    "id": "28rp4v3BxE2I",
    "cell_id": "00087-97603f43-2420-46bf-8d24-182840f9b478",
    "deepnote_cell_type": "code"
   },
   "source": "df=df.fillna('')",
   "execution_count": 64,
   "outputs": []
  },
  {
   "cell_type": "markdown",
   "source": "* Save `Pandas` `DataFrame` as an Excel file",
   "metadata": {
    "colab_type": "text",
    "id": "K3feFAfYxE2K",
    "cell_id": "00088-e2c6349b-dfe0-4da6-b6fd-37d2abcfd9a8",
    "deepnote_cell_type": "markdown"
   }
  },
  {
   "cell_type": "code",
   "metadata": {
    "colab": {},
    "colab_type": "code",
    "id": "fdxuA_FAxE2L",
    "cell_id": "00089-b9551acb-cdbd-4f31-a95b-24a0070287ea",
    "deepnote_cell_type": "code"
   },
   "source": "df.to_excel('prof.xlsx',index=False)",
   "execution_count": 65,
   "outputs": []
  },
  {
   "cell_type": "markdown",
   "source": "* Load pandas DataFrame from the saved file in Excel",
   "metadata": {
    "colab_type": "text",
    "id": "evWZKwEPxE2O",
    "cell_id": "00090-b34d21ca-a22d-42e0-9f5f-0a770830fedd",
    "deepnote_cell_type": "markdown"
   }
  },
  {
   "cell_type": "code",
   "metadata": {
    "colab": {},
    "colab_type": "code",
    "id": "xl7KUNVCxE2P",
    "cell_id": "00091-23d2a6aa-c3bf-4b2c-9b78-7ebed3ae8ec6",
    "deepnote_cell_type": "code"
   },
   "source": "pd.read_excel('prof.xlsx')",
   "execution_count": 66,
   "outputs": [
    {
     "data": {
      "text/html": "<div>\n<style scoped>\n    .dataframe tbody tr th:only-of-type {\n        vertical-align: middle;\n    }\n\n    .dataframe tbody tr th {\n        vertical-align: top;\n    }\n\n    .dataframe thead th {\n        text-align: right;\n    }\n</style>\n<table border=\"1\" class=\"dataframe\">\n  <thead>\n    <tr style=\"text-align: right;\">\n      <th></th>\n      <th>Age</th>\n      <th>Nacionality</th>\n      <th>Name</th>\n      <th>Company</th>\n    </tr>\n  </thead>\n  <tbody>\n    <tr>\n      <th>0</th>\n      <td>23</td>\n      <td>Colombia</td>\n      <td>Juan Valdez</td>\n      <td>NaN</td>\n    </tr>\n    <tr>\n      <th>1</th>\n      <td>33</td>\n      <td>Colombia</td>\n      <td>Diego Restrepo</td>\n      <td>Universidad de Antioquia</td>\n    </tr>\n  </tbody>\n</table>\n</div>",
      "text/plain": "   Age Nacionality            Name                   Company\n0   23    Colombia     Juan Valdez                       NaN\n1   33    Colombia  Diego Restrepo  Universidad de Antioquia"
     },
     "execution_count": 66,
     "metadata": {},
     "output_type": "execute_result"
    }
   ]
  },
  {
   "cell_type": "markdown",
   "source": "### Common operations upon `DataFrames`\nSee https://github.com/restrepo/PythonTipsAndTricks",
   "metadata": {
    "colab_type": "text",
    "id": "pAZISlqKxE2T",
    "slideshow": {
     "slide_type": "slide"
    },
    "cell_id": "00092-bbceab54-8e2f-492b-aee9-374786bc9b58",
    "deepnote_cell_type": "markdown"
   }
  },
  {
   "cell_type": "markdown",
   "source": "* __To fill a specific cell__",
   "metadata": {
    "colab_type": "text",
    "id": "IBgQ8cojxE2U",
    "slideshow": {
     "slide_type": "-"
    },
    "cell_id": "00093-9da49b6e-ecfd-44e1-a27d-e131f56af8b1",
    "deepnote_cell_type": "markdown"
   }
  },
  {
   "cell_type": "code",
   "metadata": {
    "colab": {},
    "colab_type": "code",
    "id": "a00HZIQhxE2V",
    "cell_id": "00094-77f3f284-c87f-4cb4-b305-bfa683fe9c52",
    "deepnote_cell_type": "code"
   },
   "source": "df.at[0,'Company']='Federación de Caferos'",
   "execution_count": 67,
   "outputs": []
  },
  {
   "cell_type": "code",
   "metadata": {
    "colab": {},
    "colab_type": "code",
    "id": "g6f2psm3xE2X",
    "outputId": "888e8cee-6bfd-4313-86ed-2d7eeead7579",
    "cell_id": "00095-b9c2aeff-851c-4719-bb97-908e96da3f07",
    "deepnote_cell_type": "code"
   },
   "source": "df",
   "execution_count": 68,
   "outputs": [
    {
     "data": {
      "text/html": "<div>\n<style scoped>\n    .dataframe tbody tr th:only-of-type {\n        vertical-align: middle;\n    }\n\n    .dataframe tbody tr th {\n        vertical-align: top;\n    }\n\n    .dataframe thead th {\n        text-align: right;\n    }\n</style>\n<table border=\"1\" class=\"dataframe\">\n  <thead>\n    <tr style=\"text-align: right;\">\n      <th></th>\n      <th>Age</th>\n      <th>Nacionality</th>\n      <th>Name</th>\n      <th>Company</th>\n    </tr>\n  </thead>\n  <tbody>\n    <tr>\n      <th>0</th>\n      <td>23</td>\n      <td>Colombia</td>\n      <td>Juan Valdez</td>\n      <td>Federación de Caferos</td>\n    </tr>\n    <tr>\n      <th>1</th>\n      <td>33</td>\n      <td>Colombia</td>\n      <td>Diego Restrepo</td>\n      <td>Universidad de Antioquia</td>\n    </tr>\n  </tbody>\n</table>\n</div>",
      "text/plain": "  Age Nacionality            Name                   Company\n0  23    Colombia     Juan Valdez     Federación de Caferos\n1  33    Colombia  Diego Restrepo  Universidad de Antioquia"
     },
     "execution_count": 68,
     "metadata": {},
     "output_type": "execute_result"
    }
   ]
  },
  {
   "cell_type": "markdown",
   "source": "## Other formats to saving and read files\nWe are interested in format which keeps the tags of the columns, like `'Nombre', 'Edad', 'Compañia'`",
   "metadata": {
    "colab_type": "text",
    "id": "rzAKwxQhxE2a",
    "slideshow": {
     "slide_type": "slide"
    },
    "cell_id": "00096-34dbb8c6-f80d-4fdd-8b56-bd0fd1fdcd9d",
    "deepnote_cell_type": "markdown"
   }
  },
  {
   "cell_type": "code",
   "metadata": {
    "colab": {
     "base_uri": "https://localhost:8080/",
     "height": 108
    },
    "colab_type": "code",
    "id": "CbgkbfTKvIkO",
    "outputId": "431510dc-5cde-4f89-841e-d8f607d6f167",
    "cell_id": "00097-01b06192-00aa-4602-97bb-b72642398c6b",
    "deepnote_cell_type": "code"
   },
   "source": "df=pd.read_excel('http://bit.ly/spreadsheet_xlsx')\ndf",
   "execution_count": 69,
   "outputs": [
    {
     "data": {
      "text/html": "<div>\n<style scoped>\n    .dataframe tbody tr th:only-of-type {\n        vertical-align: middle;\n    }\n\n    .dataframe tbody tr th {\n        vertical-align: top;\n    }\n\n    .dataframe thead th {\n        text-align: right;\n    }\n</style>\n<table border=\"1\" class=\"dataframe\">\n  <thead>\n    <tr style=\"text-align: right;\">\n      <th></th>\n      <th>Nombre</th>\n      <th>Edad</th>\n      <th>Compañia</th>\n    </tr>\n  </thead>\n  <tbody>\n    <tr>\n      <th>0</th>\n      <td>Juan Valdez</td>\n      <td>23</td>\n      <td>Café de Colombia</td>\n    </tr>\n    <tr>\n      <th>1</th>\n      <td>Álvaro Uribe Vélez</td>\n      <td>65</td>\n      <td>Senado de la República</td>\n    </tr>\n  </tbody>\n</table>\n</div>",
      "text/plain": "               Nombre  Edad                Compañia\n0         Juan Valdez    23        Café de Colombia\n1  Álvaro Uribe Vélez    65  Senado de la República"
     },
     "execution_count": 69,
     "metadata": {},
     "output_type": "execute_result"
    }
   ]
  },
  {
   "cell_type": "code",
   "metadata": {
    "cell_id": "00098-ac5ccf23-1ed0-4827-8156-2f01ab1e3810",
    "deepnote_cell_type": "code"
   },
   "source": "type(df.loc[0,'Edad'])",
   "execution_count": 72,
   "outputs": [
    {
     "data": {
      "text/plain": "numpy.int64"
     },
     "execution_count": 72,
     "metadata": {},
     "output_type": "execute_result"
    }
   ]
  },
  {
   "cell_type": "markdown",
   "source": "#### CSV",
   "metadata": {
    "colab_type": "text",
    "id": "w8hdIGOvu3Ee",
    "slideshow": {
     "slide_type": "subslide"
    },
    "cell_id": "00099-9ad55ba4-a969-4bc8-b406-22cd968a0805",
    "deepnote_cell_type": "markdown"
   }
  },
  {
   "cell_type": "code",
   "metadata": {
    "colab": {},
    "colab_type": "code",
    "id": "90PSoWzUxE2b",
    "cell_id": "00100-fe200388-2002-436a-b819-745bad6fcfe0",
    "deepnote_cell_type": "code"
   },
   "source": "df.to_csv('hoja.csv',index=False)",
   "execution_count": 73,
   "outputs": []
  },
  {
   "cell_type": "markdown",
   "source": "We can check the explicit file format with",
   "metadata": {
    "colab_type": "text",
    "id": "ViJ62k6BxfOm",
    "cell_id": "00101-cc4612dc-38b1-4330-b264-1d48c027fbb0",
    "deepnote_cell_type": "markdown"
   }
  },
  {
   "cell_type": "code",
   "metadata": {
    "cell_id": "00102-5e45759b-2a49-45f9-bf6f-8989d7b9f3a9",
    "deepnote_cell_type": "code"
   },
   "source": "df.to_csv(None,index=False)",
   "execution_count": 74,
   "outputs": [
    {
     "data": {
      "text/plain": "'Nombre,Edad,Compañia\\nJuan Valdez,23,Café de Colombia\\nÁlvaro Uribe Vélez,65,Senado de la República\\n'"
     },
     "execution_count": 74,
     "metadata": {},
     "output_type": "execute_result"
    }
   ]
  },
  {
   "cell_type": "code",
   "metadata": {
    "colab": {
     "base_uri": "https://localhost:8080/",
     "height": 90
    },
    "colab_type": "code",
    "id": "fGmx6K8SxRB1",
    "outputId": "2f22e75a-e42e-423e-f9ce-be6768bfb664",
    "cell_id": "00103-996b76be-2928-47dd-86d0-410595893d67",
    "deepnote_cell_type": "code"
   },
   "source": "print(df.to_csv(None,index=False))",
   "execution_count": 75,
   "outputs": [
    {
     "name": "stdout",
     "output_type": "stream",
     "text": "Nombre,Edad,Compañia\nJuan Valdez,23,Café de Colombia\nÁlvaro Uribe Vélez,65,Senado de la República\n\n"
    }
   ]
  },
  {
   "cell_type": "code",
   "metadata": {
    "cell_id": "00104-fbced017-69ab-46a2-9804-6fff4a406112",
    "deepnote_cell_type": "code"
   },
   "source": "pd.read_csv('hoja.csv')",
   "execution_count": 76,
   "outputs": [
    {
     "data": {
      "text/html": "<div>\n<style scoped>\n    .dataframe tbody tr th:only-of-type {\n        vertical-align: middle;\n    }\n\n    .dataframe tbody tr th {\n        vertical-align: top;\n    }\n\n    .dataframe thead th {\n        text-align: right;\n    }\n</style>\n<table border=\"1\" class=\"dataframe\">\n  <thead>\n    <tr style=\"text-align: right;\">\n      <th></th>\n      <th>Nombre</th>\n      <th>Edad</th>\n      <th>Compañia</th>\n    </tr>\n  </thead>\n  <tbody>\n    <tr>\n      <th>0</th>\n      <td>Juan Valdez</td>\n      <td>23</td>\n      <td>Café de Colombia</td>\n    </tr>\n    <tr>\n      <th>1</th>\n      <td>Álvaro Uribe Vélez</td>\n      <td>65</td>\n      <td>Senado de la República</td>\n    </tr>\n  </tbody>\n</table>\n</div>",
      "text/plain": "               Nombre  Edad                Compañia\n0         Juan Valdez    23        Café de Colombia\n1  Álvaro Uribe Vélez    65  Senado de la República"
     },
     "execution_count": 76,
     "metadata": {},
     "output_type": "execute_result"
    }
   ]
  },
  {
   "cell_type": "markdown",
   "source": "#### JSON",
   "metadata": {
    "colab_type": "text",
    "id": "s1rbHbLmuv2g",
    "slideshow": {
     "slide_type": "slide"
    },
    "cell_id": "00105-5cd6423e-2654-439c-a4e9-943248c7b894",
    "deepnote_cell_type": "markdown"
   }
  },
  {
   "cell_type": "markdown",
   "source": "This format keeps the Python lists and dictionaries at the storage level",
   "metadata": {
    "colab_type": "text",
    "id": "JwWj-SSVv6Aj",
    "cell_id": "00106-ee6abf2e-ef42-41b7-af5a-c98849c33e78",
    "deepnote_cell_type": "markdown"
   }
  },
  {
   "cell_type": "code",
   "metadata": {
    "colab": {
     "base_uri": "https://localhost:8080/",
     "height": 108
    },
    "colab_type": "code",
    "id": "OaMV4GdOwmBo",
    "outputId": "51294873-b242-4574-c6e5-63ab39699e74",
    "cell_id": "00107-d18f5f63-2e23-4154-aaeb-d832bceaa1b4",
    "deepnote_cell_type": "code"
   },
   "source": "df=pd.DataFrame([{\"Name\":\"Donald Trump\",\"Age\":74},\n                 {\"Name\":\"Barak Obama\", \"Age\":59}])\ndf",
   "execution_count": 79,
   "outputs": [
    {
     "data": {
      "text/html": "<div>\n<style scoped>\n    .dataframe tbody tr th:only-of-type {\n        vertical-align: middle;\n    }\n\n    .dataframe tbody tr th {\n        vertical-align: top;\n    }\n\n    .dataframe thead th {\n        text-align: right;\n    }\n</style>\n<table border=\"1\" class=\"dataframe\">\n  <thead>\n    <tr style=\"text-align: right;\">\n      <th></th>\n      <th>Name</th>\n      <th>Age</th>\n    </tr>\n  </thead>\n  <tbody>\n    <tr>\n      <th>0</th>\n      <td>Donald Trump</td>\n      <td>74</td>\n    </tr>\n    <tr>\n      <th>1</th>\n      <td>Barak Obama</td>\n      <td>59</td>\n    </tr>\n  </tbody>\n</table>\n</div>",
      "text/plain": "           Name  Age\n0  Donald Trump   74\n1   Barak Obama   59"
     },
     "execution_count": 79,
     "metadata": {},
     "output_type": "execute_result"
    }
   ]
  },
  {
   "cell_type": "markdown",
   "source": "This format allow us to keep exactly the very same list of dictionaries structure!",
   "metadata": {
    "colab_type": "text",
    "id": "Ajc79wC9z2b0",
    "cell_id": "00108-51aade1c-59de-4ab8-ab1b-cae65529ef6b",
    "deepnote_cell_type": "markdown"
   }
  },
  {
   "cell_type": "code",
   "metadata": {
    "colab": {
     "base_uri": "https://localhost:8080/",
     "height": 35
    },
    "colab_type": "code",
    "id": "00a9jBWAzg29",
    "outputId": "9e6c226d-6528-442a-99a5-45d1363a0ffe",
    "cell_id": "00109-a06a153d-a096-4f43-b4fb-e493ef63cdc6",
    "deepnote_cell_type": "code"
   },
   "source": "print(df.to_json(None,orient='records'))",
   "execution_count": 80,
   "outputs": [
    {
     "name": "stdout",
     "output_type": "stream",
     "text": "[{\"Name\":\"Donald Trump\",\"Age\":74},{\"Name\":\"Barak Obama\",\"Age\":59}]\n"
    }
   ]
  },
  {
   "cell_type": "markdown",
   "source": "__Activity__: \n* Save to a file instead of `None` and open the file with some editor. ",
   "metadata": {
    "colab_type": "text",
    "id": "xwPu1tn30hQ8",
    "cell_id": "00110-40dfa301-7ac0-4c9a-b94e-3a67bb4a5abb",
    "deepnote_cell_type": "markdown"
   }
  },
  {
   "cell_type": "code",
   "metadata": {
    "colab": {},
    "colab_type": "code",
    "id": "KtKmXfQg1Z4z",
    "cell_id": "00111-4cb060b6-5095-4bdc-9e15-2025f5da8f4d",
    "deepnote_cell_type": "code"
   },
   "source": "df.to_json('presidents.json',orient='records')",
   "execution_count": 81,
   "outputs": []
  },
  {
   "cell_type": "markdown",
   "source": "* Add a break-line at the end of the first dictionary and try to\nload the resulting file with `pd.read_json`",
   "metadata": {
    "colab_type": "text",
    "id": "5S7OR7X11acD",
    "cell_id": "00112-156a13f9-d5a6-46ce-b2a5-49b78dc5ae44",
    "deepnote_cell_type": "markdown"
   }
  },
  {
   "cell_type": "code",
   "metadata": {
    "colab": {},
    "colab_type": "code",
    "id": "xOaIuF_y1b5C",
    "cell_id": "00113-925db647-ab9d-46c1-ad47-35d873eeff39",
    "deepnote_cell_type": "code"
   },
   "source": "pd.read_json('presidents.json')",
   "execution_count": 82,
   "outputs": [
    {
     "data": {
      "text/html": "<div>\n<style scoped>\n    .dataframe tbody tr th:only-of-type {\n        vertical-align: middle;\n    }\n\n    .dataframe tbody tr th {\n        vertical-align: top;\n    }\n\n    .dataframe thead th {\n        text-align: right;\n    }\n</style>\n<table border=\"1\" class=\"dataframe\">\n  <thead>\n    <tr style=\"text-align: right;\">\n      <th></th>\n      <th>Name</th>\n      <th>Age</th>\n    </tr>\n  </thead>\n  <tbody>\n    <tr>\n      <th>0</th>\n      <td>Donald Trump</td>\n      <td>74</td>\n    </tr>\n    <tr>\n      <th>1</th>\n      <td>Barak Obama</td>\n      <td>59</td>\n    </tr>\n  </tbody>\n</table>\n</div>",
      "text/plain": "           Name  Age\n0  Donald Trump   74\n1   Barak Obama   59"
     },
     "execution_count": 82,
     "metadata": {},
     "output_type": "execute_result"
    }
   ]
  },
  {
   "cell_type": "markdown",
   "source": "JSON allows for some flexibility in the break-lines structure:",
   "metadata": {
    "colab_type": "text",
    "id": "5vSq9daI0F7R",
    "cell_id": "00114-cabdfd59-d1aa-44c7-9859-f7590ff0bb9e",
    "deepnote_cell_type": "markdown"
   }
  },
  {
   "cell_type": "code",
   "metadata": {
    "cell_id": "00115-935cc968-6583-4fad-9839-eabdae7a7016",
    "deepnote_cell_type": "code"
   },
   "source": "hm='''\nhola\nmundo\n'''",
   "execution_count": 83,
   "outputs": []
  },
  {
   "cell_type": "code",
   "metadata": {
    "cell_id": "00116-f120fb15-040a-44e3-b1b1-0919e3c1d7d2",
    "deepnote_cell_type": "code"
   },
   "source": "hm",
   "execution_count": 84,
   "outputs": [
    {
     "data": {
      "text/plain": "'\\nhola\\nmundo\\n'"
     },
     "execution_count": 84,
     "metadata": {},
     "output_type": "execute_result"
    }
   ]
  },
  {
   "cell_type": "code",
   "metadata": {
    "colab": {
     "base_uri": "https://localhost:8080/",
     "height": 108
    },
    "colab_type": "code",
    "id": "qT8Lnlrgy0M9",
    "outputId": "fc8c4970-d164-4e81-b705-67a51f29fe5d",
    "cell_id": "00117-b3d11b0b-ffb3-4fa2-95f1-f1f3a009d9fc",
    "deepnote_cell_type": "code"
   },
   "source": "pd.read_json('''\n             [{\"Name\":\"Donald Trump\",\"Age\":73},\n              {\"Name\":\"Barak Obama\", \"Age\":58}]\n            ''')",
   "execution_count": 85,
   "outputs": [
    {
     "data": {
      "text/html": "<div>\n<style scoped>\n    .dataframe tbody tr th:only-of-type {\n        vertical-align: middle;\n    }\n\n    .dataframe tbody tr th {\n        vertical-align: top;\n    }\n\n    .dataframe thead th {\n        text-align: right;\n    }\n</style>\n<table border=\"1\" class=\"dataframe\">\n  <thead>\n    <tr style=\"text-align: right;\">\n      <th></th>\n      <th>Name</th>\n      <th>Age</th>\n    </tr>\n  </thead>\n  <tbody>\n    <tr>\n      <th>0</th>\n      <td>Donald Trump</td>\n      <td>73</td>\n    </tr>\n    <tr>\n      <th>1</th>\n      <td>Barak Obama</td>\n      <td>58</td>\n    </tr>\n  </tbody>\n</table>\n</div>",
      "text/plain": "           Name  Age\n0  Donald Trump   73\n1   Barak Obama   58"
     },
     "execution_count": 85,
     "metadata": {},
     "output_type": "execute_result"
    }
   ]
  },
  {
   "cell_type": "markdown",
   "source": "For large databases it is convinient just to accumulate dictionaries in a sequential form:",
   "metadata": {
    "colab_type": "text",
    "id": "w6PyR85f1mfD",
    "cell_id": "00118-33431814-7e28-4599-988c-c692699cd502",
    "deepnote_cell_type": "markdown"
   }
  },
  {
   "cell_type": "code",
   "metadata": {
    "colab": {
     "base_uri": "https://localhost:8080/",
     "height": 54
    },
    "colab_type": "code",
    "id": "y2f8y66fyC5S",
    "outputId": "7eea8846-375a-4622-82a1-423f781a2ec9",
    "cell_id": "00119-84d25081-6867-41dd-8ba8-55ed6f8fc690",
    "deepnote_cell_type": "code"
   },
   "source": "print(df.to_json(None,orient='records',lines=True))",
   "execution_count": 86,
   "outputs": [
    {
     "name": "stdout",
     "output_type": "stream",
     "text": "{\"Name\":\"Donald Trump\",\"Age\":74}\n{\"Name\":\"Barak Obama\",\"Age\":59}\n"
    }
   ]
  },
  {
   "cell_type": "code",
   "metadata": {
    "colab": {
     "base_uri": "https://localhost:8080/",
     "height": 108
    },
    "colab_type": "code",
    "id": "Bvhzs_GRzNWM",
    "outputId": "9b33e582-9589-4005-8d24-6a20bc463c31",
    "cell_id": "00120-3df09295-8c42-4b2f-8190-bebc99a29fcd",
    "deepnote_cell_type": "code"
   },
   "source": "pd.read_json('''\n             {\"Name\":\"Donald Trump\",\"Age\":73}\n             {\"Name\":\"Barak Obama\", \"Age\":58}\n            ''',orient='records',lines=True)",
   "execution_count": 89,
   "outputs": [
    {
     "data": {
      "text/html": "<div>\n<style scoped>\n    .dataframe tbody tr th:only-of-type {\n        vertical-align: middle;\n    }\n\n    .dataframe tbody tr th {\n        vertical-align: top;\n    }\n\n    .dataframe thead th {\n        text-align: right;\n    }\n</style>\n<table border=\"1\" class=\"dataframe\">\n  <thead>\n    <tr style=\"text-align: right;\">\n      <th></th>\n      <th>Name</th>\n      <th>Age</th>\n    </tr>\n  </thead>\n  <tbody>\n    <tr>\n      <th>0</th>\n      <td>Donald Trump</td>\n      <td>73</td>\n    </tr>\n    <tr>\n      <th>1</th>\n      <td>Barak Obama</td>\n      <td>58</td>\n    </tr>\n  </tbody>\n</table>\n</div>",
      "text/plain": "           Name  Age\n0  Donald Trump   73\n1   Barak Obama   58"
     },
     "execution_count": 89,
     "metadata": {},
     "output_type": "execute_result"
    }
   ]
  },
  {
   "cell_type": "markdown",
   "source": "__Activity__: \n* Save to a file instead of `None`, with options: `orient='records',lines=True`, and open the file with some editor. ",
   "metadata": {
    "colab_type": "text",
    "id": "sYfWnw1e2wfi",
    "cell_id": "00121-1e35d05f-c794-4f1a-8008-f939e469ba6e",
    "deepnote_cell_type": "markdown"
   }
  },
  {
   "cell_type": "code",
   "metadata": {
    "colab": {},
    "colab_type": "code",
    "id": "S9wv93dM3KER",
    "cell_id": "00122-4d55c964-e9b3-49e0-8f04-d008caafc148",
    "deepnote_cell_type": "code"
   },
   "source": "df.to_json('presidents.json',orient='records',lines=True)",
   "execution_count": 90,
   "outputs": []
  },
  {
   "cell_type": "markdown",
   "source": "* Add a similar dictionary in the next new line, and try to\nload the resulting file with `pd.read_json` with options: `orient='records',lines=True`. \n   * WARNING: Use doble-quotes `\"` to write the keys od the new\ndictionary",
   "metadata": {
    "colab_type": "text",
    "id": "bGYW8Xl-3Kdi",
    "cell_id": "00123-5793b240-c88d-4ed8-8a7a-7039b03bb45f",
    "deepnote_cell_type": "markdown"
   }
  },
  {
   "cell_type": "markdown",
   "source": "Any Python string need to be converted first to double-quotes before to be used as JSON string.\n\n__Example__",
   "metadata": {
    "colab_type": "text",
    "id": "icGCveT34HDA",
    "cell_id": "00124-8fdef546-5acb-4662-a477-79e7e56b5ab0",
    "deepnote_cell_type": "markdown"
   }
  },
  {
   "cell_type": "code",
   "metadata": {
    "colab": {},
    "colab_type": "code",
    "id": "mPRCSHbG4dRx",
    "cell_id": "00125-8eb6882d-f964-487a-854a-5f26c07b1035",
    "deepnote_cell_type": "code"
   },
   "source": "numbers={\"even\": [0,2,4,-6,8],   #  First  key-list\n         \"odd\" : [1,3,-5,7,9] }  #  Second key-list",
   "execution_count": 91,
   "outputs": []
  },
  {
   "cell_type": "code",
   "metadata": {
    "cell_id": "00126-8b43f478-80c5-4dde-90c1-56c760b3bbbf",
    "deepnote_cell_type": "code"
   },
   "source": "numbers",
   "execution_count": 92,
   "outputs": [
    {
     "data": {
      "text/plain": "{'even': [0, 2, 4, -6, 8], 'odd': [1, 3, -5, 7, 9]}"
     },
     "execution_count": 92,
     "metadata": {},
     "output_type": "execute_result"
    }
   ]
  },
  {
   "cell_type": "code",
   "metadata": {
    "colab": {
     "base_uri": "https://localhost:8080/",
     "height": 35
    },
    "colab_type": "code",
    "id": "An-yzTut4gtw",
    "outputId": "a5ab32df-2d30-4194-a3a2-91bbed216c45",
    "cell_id": "00127-6eed42d7-e148-4fe2-a336-1020b086422d",
    "deepnote_cell_type": "code"
   },
   "source": "str(numbers)",
   "execution_count": 93,
   "outputs": [
    {
     "data": {
      "text/plain": "\"{'even': [0, 2, 4, -6, 8], 'odd': [1, 3, -5, 7, 9]}\""
     },
     "execution_count": 93,
     "metadata": {},
     "output_type": "execute_result"
    }
   ]
  },
  {
   "cell_type": "markdown",
   "source": "This string can be writing in the `JSON` format by replacing the single quotes, ' , by  duoble quotes, \":",
   "metadata": {
    "colab_type": "text",
    "id": "BFCE3Hq34ktw",
    "cell_id": "00128-88abc63b-351f-4fd8-98c0-10cb52230870",
    "deepnote_cell_type": "markdown"
   }
  },
  {
   "cell_type": "code",
   "metadata": {
    "colab": {
     "base_uri": "https://localhost:8080/",
     "height": 35
    },
    "colab_type": "code",
    "id": "PJVD2Btc4nJx",
    "outputId": "4a2768cf-c531-4ce3-afaf-1772a426cbd3",
    "cell_id": "00129-077cac5a-d328-436a-b590-181f5bc5a8d8",
    "deepnote_cell_type": "code"
   },
   "source": "str(numbers).replace(\"'\",'\"')",
   "execution_count": 96,
   "outputs": [
    {
     "data": {
      "text/plain": "'{\"even\": [0, 2, 4, -6, 8], \"odd\": [1, 3, -5, 7, 9]}'"
     },
     "execution_count": 96,
     "metadata": {},
     "output_type": "execute_result"
    }
   ]
  },
  {
   "cell_type": "markdown",
   "source": "and now can be used as an JSON input",
   "metadata": {
    "colab_type": "text",
    "id": "zDssJstU45Qi",
    "cell_id": "00130-a2a20551-1d74-470a-9923-974394855938",
    "deepnote_cell_type": "markdown"
   }
  },
  {
   "cell_type": "code",
   "metadata": {
    "colab": {},
    "colab_type": "code",
    "id": "HxbaP5T542_h",
    "cell_id": "00131-90d378ec-4eb8-4654-a447-0af782b2d942",
    "deepnote_cell_type": "code"
   },
   "source": "df=pd.read_json(  str(numbers).replace(\"'\",'\"') )\ndf",
   "execution_count": 97,
   "outputs": [
    {
     "data": {
      "text/html": "<div>\n<style scoped>\n    .dataframe tbody tr th:only-of-type {\n        vertical-align: middle;\n    }\n\n    .dataframe tbody tr th {\n        vertical-align: top;\n    }\n\n    .dataframe thead th {\n        text-align: right;\n    }\n</style>\n<table border=\"1\" class=\"dataframe\">\n  <thead>\n    <tr style=\"text-align: right;\">\n      <th></th>\n      <th>even</th>\n      <th>odd</th>\n    </tr>\n  </thead>\n  <tbody>\n    <tr>\n      <th>0</th>\n      <td>0</td>\n      <td>1</td>\n    </tr>\n    <tr>\n      <th>1</th>\n      <td>2</td>\n      <td>3</td>\n    </tr>\n    <tr>\n      <th>2</th>\n      <td>4</td>\n      <td>-5</td>\n    </tr>\n    <tr>\n      <th>3</th>\n      <td>-6</td>\n      <td>7</td>\n    </tr>\n    <tr>\n      <th>4</th>\n      <td>8</td>\n      <td>9</td>\n    </tr>\n  </tbody>\n</table>\n</div>",
      "text/plain": "   even  odd\n0     0    1\n1     2    3\n2     4   -5\n3    -6    7\n4     8    9"
     },
     "execution_count": 97,
     "metadata": {},
     "output_type": "execute_result"
    }
   ]
  },
  {
   "cell_type": "markdown",
   "source": "__Activity__: Try to read the string as JSON without make the double-quote replacement",
   "metadata": {
    "colab_type": "text",
    "id": "EtqUn4t85Hlp",
    "cell_id": "00132-b0810565-a22d-4f66-b020-f06993aaa79c",
    "deepnote_cell_type": "markdown"
   }
  },
  {
   "cell_type": "markdown",
   "source": "## Filters\nThe main application of labeled data for data analysis is the possibility to make filers, or cuts, to obtain specific reduced datasets to further analysis",
   "metadata": {
    "colab_type": "text",
    "id": "s2uApSIi8PjI",
    "cell_id": "00133-38528865-2883-419d-a318-6739da40857a",
    "deepnote_cell_type": "markdown"
   }
  },
  {
   "cell_type": "code",
   "metadata": {
    "cell_id": "00134-ef5b47b0-51cd-47bf-9b8a-19ab931a22e5",
    "deepnote_cell_type": "code"
   },
   "source": "df",
   "execution_count": 98,
   "outputs": [
    {
     "data": {
      "text/html": "<div>\n<style scoped>\n    .dataframe tbody tr th:only-of-type {\n        vertical-align: middle;\n    }\n\n    .dataframe tbody tr th {\n        vertical-align: top;\n    }\n\n    .dataframe thead th {\n        text-align: right;\n    }\n</style>\n<table border=\"1\" class=\"dataframe\">\n  <thead>\n    <tr style=\"text-align: right;\">\n      <th></th>\n      <th>even</th>\n      <th>odd</th>\n    </tr>\n  </thead>\n  <tbody>\n    <tr>\n      <th>0</th>\n      <td>0</td>\n      <td>1</td>\n    </tr>\n    <tr>\n      <th>1</th>\n      <td>2</td>\n      <td>3</td>\n    </tr>\n    <tr>\n      <th>2</th>\n      <td>4</td>\n      <td>-5</td>\n    </tr>\n    <tr>\n      <th>3</th>\n      <td>-6</td>\n      <td>7</td>\n    </tr>\n    <tr>\n      <th>4</th>\n      <td>8</td>\n      <td>9</td>\n    </tr>\n  </tbody>\n</table>\n</div>",
      "text/plain": "   even  odd\n0     0    1\n1     2    3\n2     4   -5\n3    -6    7\n4     8    9"
     },
     "execution_count": 98,
     "metadata": {},
     "output_type": "execute_result"
    }
   ]
  },
  {
   "cell_type": "code",
   "metadata": {
    "colab": {
     "base_uri": "https://localhost:8080/",
     "height": 108
    },
    "colab_type": "code",
    "id": "zt2S0aln8_4s",
    "outputId": "5472b7b3-deb6-453c-eed7-ea7518d0c0d8",
    "cell_id": "00135-26b7e2ad-8ed0-4c5c-a903-7dcc2a3d065d",
    "deepnote_cell_type": "code"
   },
   "source": "df[df.even.abs()>4]",
   "execution_count": 99,
   "outputs": [
    {
     "data": {
      "text/html": "<div>\n<style scoped>\n    .dataframe tbody tr th:only-of-type {\n        vertical-align: middle;\n    }\n\n    .dataframe tbody tr th {\n        vertical-align: top;\n    }\n\n    .dataframe thead th {\n        text-align: right;\n    }\n</style>\n<table border=\"1\" class=\"dataframe\">\n  <thead>\n    <tr style=\"text-align: right;\">\n      <th></th>\n      <th>even</th>\n      <th>odd</th>\n    </tr>\n  </thead>\n  <tbody>\n    <tr>\n      <th>3</th>\n      <td>-6</td>\n      <td>7</td>\n    </tr>\n    <tr>\n      <th>4</th>\n      <td>8</td>\n      <td>9</td>\n    </tr>\n  </tbody>\n</table>\n</div>",
      "text/plain": "   even  odd\n3    -6    7\n4     8    9"
     },
     "execution_count": 99,
     "metadata": {},
     "output_type": "execute_result"
    }
   ]
  },
  {
   "cell_type": "code",
   "metadata": {
    "colab": {
     "base_uri": "https://localhost:8080/",
     "height": 78
    },
    "colab_type": "code",
    "id": "eVSePCQB9GFe",
    "outputId": "596533f7-6b9e-4b47-b110-5e0aff429561",
    "cell_id": "00136-02a253ad-bdf0-4501-8cdd-552e09512321",
    "deepnote_cell_type": "code"
   },
   "source": "#and\ndf[(df.even>0) & (df.odd<0)]",
   "execution_count": 100,
   "outputs": [
    {
     "data": {
      "text/html": "<div>\n<style scoped>\n    .dataframe tbody tr th:only-of-type {\n        vertical-align: middle;\n    }\n\n    .dataframe tbody tr th {\n        vertical-align: top;\n    }\n\n    .dataframe thead th {\n        text-align: right;\n    }\n</style>\n<table border=\"1\" class=\"dataframe\">\n  <thead>\n    <tr style=\"text-align: right;\">\n      <th></th>\n      <th>even</th>\n      <th>odd</th>\n    </tr>\n  </thead>\n  <tbody>\n    <tr>\n      <th>2</th>\n      <td>4</td>\n      <td>-5</td>\n    </tr>\n  </tbody>\n</table>\n</div>",
      "text/plain": "   even  odd\n2     4   -5"
     },
     "execution_count": 100,
     "metadata": {},
     "output_type": "execute_result"
    }
   ]
  },
  {
   "cell_type": "code",
   "metadata": {
    "cell_id": "00137-922f9b25-8146-4da0-899c-3d49f450c068",
    "deepnote_cell_type": "code"
   },
   "source": "df[~((df.even>0) & (df.odd<0)) ]",
   "execution_count": 101,
   "outputs": [
    {
     "data": {
      "text/html": "<div>\n<style scoped>\n    .dataframe tbody tr th:only-of-type {\n        vertical-align: middle;\n    }\n\n    .dataframe tbody tr th {\n        vertical-align: top;\n    }\n\n    .dataframe thead th {\n        text-align: right;\n    }\n</style>\n<table border=\"1\" class=\"dataframe\">\n  <thead>\n    <tr style=\"text-align: right;\">\n      <th></th>\n      <th>even</th>\n      <th>odd</th>\n    </tr>\n  </thead>\n  <tbody>\n    <tr>\n      <th>0</th>\n      <td>0</td>\n      <td>1</td>\n    </tr>\n    <tr>\n      <th>1</th>\n      <td>2</td>\n      <td>3</td>\n    </tr>\n    <tr>\n      <th>3</th>\n      <td>-6</td>\n      <td>7</td>\n    </tr>\n    <tr>\n      <th>4</th>\n      <td>8</td>\n      <td>9</td>\n    </tr>\n  </tbody>\n</table>\n</div>",
      "text/plain": "   even  odd\n0     0    1\n1     2    3\n3    -6    7\n4     8    9"
     },
     "execution_count": 101,
     "metadata": {},
     "output_type": "execute_result"
    }
   ]
  },
  {
   "cell_type": "code",
   "metadata": {
    "colab": {
     "base_uri": "https://localhost:8080/",
     "height": 108
    },
    "colab_type": "code",
    "id": "dVktA6ze9wI2",
    "outputId": "62806bab-da66-4945-a717-bc6078ca9731",
    "cell_id": "00138-ca349084-fa0c-4be5-839c-1eb00d5120e8",
    "deepnote_cell_type": "code"
   },
   "source": "#or\ndf[(df.even<0) | (df.odd<0)]",
   "execution_count": 102,
   "outputs": [
    {
     "data": {
      "text/html": "<div>\n<style scoped>\n    .dataframe tbody tr th:only-of-type {\n        vertical-align: middle;\n    }\n\n    .dataframe tbody tr th {\n        vertical-align: top;\n    }\n\n    .dataframe thead th {\n        text-align: right;\n    }\n</style>\n<table border=\"1\" class=\"dataframe\">\n  <thead>\n    <tr style=\"text-align: right;\">\n      <th></th>\n      <th>even</th>\n      <th>odd</th>\n    </tr>\n  </thead>\n  <tbody>\n    <tr>\n      <th>2</th>\n      <td>4</td>\n      <td>-5</td>\n    </tr>\n    <tr>\n      <th>3</th>\n      <td>-6</td>\n      <td>7</td>\n    </tr>\n  </tbody>\n</table>\n</div>",
      "text/plain": "   even  odd\n2     4   -5\n3    -6    7"
     },
     "execution_count": 102,
     "metadata": {},
     "output_type": "execute_result"
    }
   ]
  },
  {
   "cell_type": "markdown",
   "source": "## The `apply` method\nThe advantage of the spreadsheet paradigm is that the columns can be transformed with functions. All the typical functions avalaible for a spreadsheet are already implemented like the method `.abs()` used before, or the method: `.sum()`",
   "metadata": {
    "colab_type": "text",
    "id": "xHsCPml65i54",
    "cell_id": "00139-ca62a80b-b815-4fd5-bbe8-2fccf72f6a3a",
    "deepnote_cell_type": "markdown"
   }
  },
  {
   "cell_type": "code",
   "metadata": {
    "colab": {
     "base_uri": "https://localhost:8080/",
     "height": 35
    },
    "colab_type": "code",
    "id": "pPLWFFLA6NX4",
    "outputId": "17d948bf-c63f-4a71-baac-09df5c54af00",
    "cell_id": "00140-5bd68707-f972-4a21-ad89-ffc17371d504",
    "deepnote_cell_type": "code"
   },
   "source": "df.even.sum()",
   "execution_count": 106,
   "outputs": [
    {
     "data": {
      "text/plain": "8"
     },
     "execution_count": 106,
     "metadata": {},
     "output_type": "execute_result"
    }
   ]
  },
  {
   "cell_type": "markdown",
   "source": "__Activity__: Explore the avalaible methods by using the completion system of the notebook after the last semicolon of `df.even.`",
   "metadata": {
    "colab_type": "text",
    "id": "XCUwgF0f6WFP",
    "cell_id": "00141-57b10a10-4de8-42f2-a94a-3013e9ef5af6",
    "deepnote_cell_type": "markdown"
   }
  },
  {
   "cell_type": "code",
   "metadata": {
    "cell_id": "00142-50a685d2-4b25-40b1-9c45-7c9fbcc3875e",
    "deepnote_cell_type": "code"
   },
   "source": "",
   "execution_count": null,
   "outputs": []
  },
  {
   "cell_type": "markdown",
   "source": "In addittion, for the `DataFrame` paradigm, we can easy implement any other function directly at the programming level either along the columns or along the rows",
   "metadata": {
    "colab_type": "text",
    "id": "JDqDXVoF6mOv",
    "cell_id": "00143-62cf460c-f390-49a9-afb3-79a89a598209",
    "deepnote_cell_type": "markdown"
   }
  },
  {
   "cell_type": "markdown",
   "source": "### Column-level `apply`\nWe just select the column and apply the direct or implicit function:\n* Pre-defined function",
   "metadata": {
    "colab_type": "text",
    "id": "378RNNb97OQs",
    "cell_id": "00144-aced47b4-60eb-4b3c-931e-d008d4e89f6d",
    "deepnote_cell_type": "markdown"
   }
  },
  {
   "cell_type": "code",
   "metadata": {
    "colab": {
     "base_uri": "https://localhost:8080/",
     "height": 126
    },
    "colab_type": "code",
    "id": "L210XcRK7qYn",
    "outputId": "db5a2c2b-94b2-4fe4-e022-7fa9f169b7a7",
    "cell_id": "00145-a74342d5-abd2-4958-8864-fc0db16f5c37",
    "deepnote_cell_type": "code"
   },
   "source": "df.even.apply(abs)",
   "execution_count": 107,
   "outputs": [
    {
     "data": {
      "text/plain": "0    0\n1    2\n2    4\n3    6\n4    8\nName: even, dtype: int64"
     },
     "execution_count": 107,
     "metadata": {},
     "output_type": "execute_result"
    }
   ]
  },
  {
   "cell_type": "markdown",
   "source": "* Implicit function",
   "metadata": {
    "colab_type": "text",
    "id": "JX0nA6swDphj",
    "cell_id": "00146-27fa426d-132e-4721-a8bd-ce3d2cd52bcb",
    "deepnote_cell_type": "markdown"
   }
  },
  {
   "cell_type": "code",
   "metadata": {
    "colab": {
     "base_uri": "https://localhost:8080/",
     "height": 126
    },
    "colab_type": "code",
    "id": "oGEcVFrA72LX",
    "outputId": "245ccc64-a7b0-4601-ff9a-a87c0beea422",
    "cell_id": "00147-b381a3f1-17b5-4e0c-960b-4514c07a753d",
    "deepnote_cell_type": "code"
   },
   "source": "df.even.apply(lambda n:isinstance(n,int))",
   "execution_count": 108,
   "outputs": [
    {
     "data": {
      "text/plain": "0    True\n1    True\n2    True\n3    True\n4    True\nName: even, dtype: bool"
     },
     "execution_count": 108,
     "metadata": {},
     "output_type": "execute_result"
    }
   ]
  },
  {
   "cell_type": "code",
   "metadata": {
    "cell_id": "00148-2e4c0fd3-48e3-4c86-bc26-b51aab4a4efe",
    "deepnote_cell_type": "code"
   },
   "source": "df.even.apply(lambda n: n**2)",
   "execution_count": 109,
   "outputs": [
    {
     "data": {
      "text/plain": "0     0\n1     4\n2    16\n3    36\n4    64\nName: even, dtype: int64"
     },
     "execution_count": 109,
     "metadata": {},
     "output_type": "execute_result"
    }
   ]
  },
  {
   "cell_type": "markdown",
   "source": "### Row-level apply\nThe foll row is passed as dictionary to the explicit or implicit function when `apply` is used for the full `DataFrame` and the option `axis=1` is used at the end",
   "metadata": {
    "colab_type": "text",
    "id": "8wFVd7Sk7irH",
    "cell_id": "00149-9f1c7206-da55-4ad4-b589-dc7022a7daba",
    "deepnote_cell_type": "markdown"
   }
  },
  {
   "cell_type": "code",
   "metadata": {
    "cell_id": "00150-082c7a02-aa1e-49cb-a4f3-1349b1550535",
    "deepnote_cell_type": "code"
   },
   "source": "df['even']+df['odd']",
   "execution_count": 122,
   "outputs": [
    {
     "data": {
      "text/plain": "0     1\n1     5\n2    -1\n3     1\n4    17\ndtype: int64"
     },
     "execution_count": 122,
     "metadata": {},
     "output_type": "execute_result"
    }
   ]
  },
  {
   "cell_type": "code",
   "metadata": {
    "colab": {
     "base_uri": "https://localhost:8080/",
     "height": 126
    },
    "colab_type": "code",
    "id": "z6GLMMuEEUwB",
    "outputId": "47763d9f-1fbf-414c-e55d-74fc7fe0bf5d",
    "cell_id": "00151-abb73dae-6242-4c9c-84e4-303bdf29589d",
    "deepnote_cell_type": "code"
   },
   "source": "df.apply(lambda row: row['even']+row['odd']**2,axis='columns')",
   "execution_count": 118,
   "outputs": [
    {
     "data": {
      "text/plain": "0     1\n1    11\n2    29\n3    43\n4    89\ndtype: int64"
     },
     "execution_count": 118,
     "metadata": {},
     "output_type": "execute_result"
    }
   ]
  },
  {
   "cell_type": "markdown",
   "source": "## Chain tools for data analysis\nThere are several chain tools for data analyis like the\n* Spreadsheet based one, like Excel \n* Relational databases with the use of more advanced SQL tabular data with some data base software like MySQL\n* Non-relational databases with Pandas, R, or MongoDB\n\nHere we illustrate an example of use fo a non-relational database with Pandas",
   "metadata": {
    "slideshow": {
     "slide_type": "slide"
    },
    "cell_id": "00152-09addc01-50ec-4b33-bb8b-0b7e3a0b8af5",
    "deepnote_cell_type": "markdown"
   }
  },
  {
   "cell_type": "markdown",
   "source": "## Relational databases",
   "metadata": {
    "slideshow": {
     "slide_type": "slide"
    },
    "cell_id": "00153-31b6cb4c-2040-41f4-9b7d-e226df82dc37",
    "deepnote_cell_type": "markdown"
   }
  },
  {
   "cell_type": "code",
   "metadata": {
    "cell_id": "00154-21e06109-13d0-40f9-a9a6-1dec1358ab30",
    "deepnote_cell_type": "code"
   },
   "source": "df=pd.read_excel('http://bit.ly/spreadsheet_xlsx')\npersona=df[['Nombre','Edad']]",
   "execution_count": 163,
   "outputs": []
  },
  {
   "cell_type": "code",
   "metadata": {
    "cell_id": "00155-066e1fc3-52dd-4e5b-85d9-d408794042cf",
    "deepnote_cell_type": "code"
   },
   "source": "persona['id']=[888,666]\npersona",
   "execution_count": 164,
   "outputs": [
    {
     "data": {
      "text/html": "<div>\n<style scoped>\n    .dataframe tbody tr th:only-of-type {\n        vertical-align: middle;\n    }\n\n    .dataframe tbody tr th {\n        vertical-align: top;\n    }\n\n    .dataframe thead th {\n        text-align: right;\n    }\n</style>\n<table border=\"1\" class=\"dataframe\">\n  <thead>\n    <tr style=\"text-align: right;\">\n      <th></th>\n      <th>Nombre</th>\n      <th>Edad</th>\n      <th>id</th>\n    </tr>\n  </thead>\n  <tbody>\n    <tr>\n      <th>0</th>\n      <td>Juan Valdez</td>\n      <td>23</td>\n      <td>888</td>\n    </tr>\n    <tr>\n      <th>1</th>\n      <td>Álvaro Uribe Vélez</td>\n      <td>65</td>\n      <td>666</td>\n    </tr>\n  </tbody>\n</table>\n</div>",
      "text/plain": "               Nombre  Edad   id\n0         Juan Valdez    23  888\n1  Álvaro Uribe Vélez    65  666"
     },
     "execution_count": 164,
     "metadata": {},
     "output_type": "execute_result"
    }
   ]
  },
  {
   "cell_type": "code",
   "metadata": {
    "cell_id": "00156-95466953-49eb-4a2b-bcce-483b72149659",
    "deepnote_cell_type": "code"
   },
   "source": "d1={'id':888, 'Inicio':2010,'Fin:':None,'Cargo':'Arriero','Compañía':'Café de Colombia'}\nd2={'id':666, 'Inicio':2013,'Fin:':2020,'Cargo':'Senador','Compañía':'Senado de la República de Colombia'}\nd3={'id':666, 'Inicio':2020,'Fin:':None,'Cargo':'Influencer','Compañía':'Twitter'}\ntrabajo=pd.DataFrame( [d1,d2,d3] )  \ntrabajo",
   "execution_count": 165,
   "outputs": [
    {
     "data": {
      "text/html": "<div>\n<style scoped>\n    .dataframe tbody tr th:only-of-type {\n        vertical-align: middle;\n    }\n\n    .dataframe tbody tr th {\n        vertical-align: top;\n    }\n\n    .dataframe thead th {\n        text-align: right;\n    }\n</style>\n<table border=\"1\" class=\"dataframe\">\n  <thead>\n    <tr style=\"text-align: right;\">\n      <th></th>\n      <th>id</th>\n      <th>Inicio</th>\n      <th>Fin:</th>\n      <th>Cargo</th>\n      <th>Compañía</th>\n    </tr>\n  </thead>\n  <tbody>\n    <tr>\n      <th>0</th>\n      <td>888</td>\n      <td>2010</td>\n      <td>NaN</td>\n      <td>Arriero</td>\n      <td>Café de Colombia</td>\n    </tr>\n    <tr>\n      <th>1</th>\n      <td>666</td>\n      <td>2013</td>\n      <td>2020.0</td>\n      <td>Senador</td>\n      <td>Senado de la República de Colombia</td>\n    </tr>\n    <tr>\n      <th>2</th>\n      <td>666</td>\n      <td>2020</td>\n      <td>NaN</td>\n      <td>Influencer</td>\n      <td>Twitter</td>\n    </tr>\n  </tbody>\n</table>\n</div>",
      "text/plain": "    id  Inicio    Fin:       Cargo                            Compañía\n0  888    2010     NaN     Arriero                    Café de Colombia\n1  666    2013  2020.0     Senador  Senado de la República de Colombia\n2  666    2020     NaN  Influencer                             Twitter"
     },
     "execution_count": 165,
     "metadata": {},
     "output_type": "execute_result"
    }
   ]
  },
  {
   "cell_type": "markdown",
   "source": "![img](https://raw.githubusercontent.com/restrepo/ComputationalMethods/master/material/figures/relation.jpg)",
   "metadata": {
    "slideshow": {
     "slide_type": "subslide"
    },
    "cell_id": "00157-6c56e4ac-c3b6-4cf0-9bd6-9812ee89832e",
    "deepnote_cell_type": "markdown"
   }
  },
  {
   "cell_type": "markdown",
   "source": "### Actividad\nObtenga el último trabajo de Álvaro Uribe Vélez",
   "metadata": {
    "slideshow": {
     "slide_type": "subslide"
    },
    "cell_id": "00158-f3332d6e-f5e9-4383-9054-5cc67a0d42bc",
    "deepnote_cell_type": "markdown"
   }
  },
  {
   "cell_type": "code",
   "metadata": {
    "slideshow": {
     "slide_type": "fragment"
    },
    "cell_id": "00159-49df8e8f-1b26-4e1a-94d0-82d52a0b7436",
    "deepnote_cell_type": "code"
   },
   "source": "cc=persona[persona['Nombre'].str.lower().str.contains('álvaro uribe vélez')].iloc[0].get('id')\ntrabajo[trabajo['id']==cc]['Cargo'].iloc[-1]",
   "execution_count": 184,
   "outputs": [
    {
     "data": {
      "text/plain": "'Influencer'"
     },
     "execution_count": 184,
     "metadata": {},
     "output_type": "execute_result"
    }
   ]
  },
  {
   "cell_type": "markdown",
   "source": "## Non-relational databases",
   "metadata": {
    "colab_type": "text",
    "id": "z2NsLagWs-Jg",
    "slideshow": {
     "slide_type": "slide"
    },
    "cell_id": "00160-db50187a-85fc-45f5-9b78-221f038e0794",
    "deepnote_cell_type": "markdown"
   }
  },
  {
   "cell_type": "code",
   "metadata": {
    "cell_id": "00161-c9ac407c-7e37-4992-88ef-1de719aef0e3",
    "deepnote_cell_type": "code"
   },
   "source": "persona=persona.drop('id',axis='columns')",
   "execution_count": 187,
   "outputs": []
  },
  {
   "cell_type": "code",
   "metadata": {
    "cell_id": "00162-8106b4c7-3e55-4ca0-b2f5-a4c476c1b656",
    "deepnote_cell_type": "code"
   },
   "source": "persona['Trabajo']=''\n#Column need to be converted to object to assign an advance object like a list\npersona['Trabajo']=persona['Trabajo'].astype('object')\npersona.at[0,'Trabajo']=[d1]\npersona.at[1,'Trabajo']=[d2,d3]\n",
   "execution_count": 190,
   "outputs": []
  },
  {
   "cell_type": "code",
   "metadata": {
    "cell_id": "00163-f8b9b948-8628-49e2-becb-00c4ff5e20d6",
    "deepnote_cell_type": "code"
   },
   "source": "persona",
   "execution_count": 193,
   "outputs": [
    {
     "data": {
      "text/html": "<div>\n<style scoped>\n    .dataframe tbody tr th:only-of-type {\n        vertical-align: middle;\n    }\n\n    .dataframe tbody tr th {\n        vertical-align: top;\n    }\n\n    .dataframe thead th {\n        text-align: right;\n    }\n</style>\n<table border=\"1\" class=\"dataframe\">\n  <thead>\n    <tr style=\"text-align: right;\">\n      <th></th>\n      <th>Nombre</th>\n      <th>Edad</th>\n      <th>Trabajo</th>\n    </tr>\n  </thead>\n  <tbody>\n    <tr>\n      <th>0</th>\n      <td>Juan Valdez</td>\n      <td>23</td>\n      <td>[{'id': 888, 'Inicio': 2010, 'Fin:': None, 'Cargo': 'Arriero', 'Compañía': 'Café de Colombia'}]</td>\n    </tr>\n    <tr>\n      <th>1</th>\n      <td>Álvaro Uribe Vélez</td>\n      <td>65</td>\n      <td>[{'id': 666, 'Inicio': 2013, 'Fin:': 2020, 'Cargo': 'Senador', 'Compañía': 'Senado de la República de Colombia'}, {'id': 666, 'Inicio': 2020, 'Fin:': None, 'Cargo': 'Influencer', 'Compañía': 'Twit...</td>\n    </tr>\n  </tbody>\n</table>\n</div>",
      "text/plain": "               Nombre  Edad  \\\n0         Juan Valdez    23   \n1  Álvaro Uribe Vélez    65   \n\n                                                                                                                                                                                                   Trabajo  \n0                                                                                                          [{'id': 888, 'Inicio': 2010, 'Fin:': None, 'Cargo': 'Arriero', 'Compañía': 'Café de Colombia'}]  \n1  [{'id': 666, 'Inicio': 2013, 'Fin:': 2020, 'Cargo': 'Senador', 'Compañía': 'Senado de la República de Colombia'}, {'id': 666, 'Inicio': 2020, 'Fin:': None, 'Cargo': 'Influencer', 'Compañía': 'Twit...  "
     },
     "execution_count": 193,
     "metadata": {},
     "output_type": "execute_result"
    }
   ]
  },
  {
   "cell_type": "code",
   "metadata": {
    "cell_id": "00164-6d851554-71fb-4e37-97ff-3496acd9798a",
    "deepnote_cell_type": "code"
   },
   "source": "pd.DataFrame( persona.loc[1,'Trabajo'] )",
   "execution_count": 192,
   "outputs": [
    {
     "data": {
      "text/html": "<div>\n<style scoped>\n    .dataframe tbody tr th:only-of-type {\n        vertical-align: middle;\n    }\n\n    .dataframe tbody tr th {\n        vertical-align: top;\n    }\n\n    .dataframe thead th {\n        text-align: right;\n    }\n</style>\n<table border=\"1\" class=\"dataframe\">\n  <thead>\n    <tr style=\"text-align: right;\">\n      <th></th>\n      <th>id</th>\n      <th>Inicio</th>\n      <th>Fin:</th>\n      <th>Cargo</th>\n      <th>Compañía</th>\n    </tr>\n  </thead>\n  <tbody>\n    <tr>\n      <th>0</th>\n      <td>666</td>\n      <td>2013</td>\n      <td>2020.0</td>\n      <td>Senador</td>\n      <td>Senado de la República de Colombia</td>\n    </tr>\n    <tr>\n      <th>1</th>\n      <td>666</td>\n      <td>2020</td>\n      <td>NaN</td>\n      <td>Influencer</td>\n      <td>Twitter</td>\n    </tr>\n  </tbody>\n</table>\n</div>",
      "text/plain": "    id  Inicio    Fin:       Cargo                            Compañía\n0  666    2013  2020.0     Senador  Senado de la República de Colombia\n1  666    2020     NaN  Influencer                             Twitter"
     },
     "execution_count": 192,
     "metadata": {},
     "output_type": "execute_result"
    }
   ]
  },
  {
   "cell_type": "markdown",
   "source": "### Actividad\nObtenga el último trabajo de Álvaro Uribe Vélez",
   "metadata": {
    "slideshow": {
     "slide_type": "slide"
    },
    "cell_id": "00165-b49cdbca-5db4-4a8c-9619-c6728a61eda4",
    "deepnote_cell_type": "markdown"
   }
  },
  {
   "cell_type": "code",
   "metadata": {
    "cell_id": "00166-c34e4a0e-1f4d-47ec-9583-552149e9c22e",
    "deepnote_cell_type": "code"
   },
   "source": "persona[persona['Nombre']=='Álvaro Uribe Vélez'\n       ].Trabajo.apply(\n        lambda l: [d.get('Cargo') for d in l ]).str[-1]",
   "execution_count": 200,
   "outputs": [
    {
     "data": {
      "text/plain": "1    Influencer\nName: Trabajo, dtype: object"
     },
     "execution_count": 200,
     "metadata": {},
     "output_type": "execute_result"
    }
   ]
  },
  {
   "cell_type": "markdown",
   "source": "We have shown that the simple two dimensional spreadsheets where each cell values is a simple type like string, integer, or float, can be represented as a dictionary of lists values or a list of dictionary column-value assignment. \n\nWe can go further and allow to store in the value itself a more general data structure, like nested lists and dictionaries. This allows advanced data-analysis when the `apply` methos is used to operate inside the nested lists or dictionaries.\n\nSee for example:\n",
   "metadata": {
    "colab_type": "text",
    "id": "2NdcwWa5tuzv",
    "slideshow": {
     "slide_type": "slide"
    },
    "cell_id": "00167-5961be8e-ed89-40b6-b41d-51c96c61be97",
    "deepnote_cell_type": "markdown"
   }
  },
  {
   "cell_type": "markdown",
   "source": "##  World wide web\nThere are really three kinds of web\n* The normal web, \n* The deep web,\n* _The machine web_. The web for machine readable responses. It is served in `JSON` or `XML`  formats, which preserve programming objects.",
   "metadata": {
    "colab_type": "text",
    "id": "wB4hBVkhoPwR",
    "cell_id": "00168-eb357193-9719-4e73-b2f7-4f39b6bb9f06",
    "deepnote_cell_type": "markdown"
   }
  },
  {
   "cell_type": "markdown",
   "source": "### Normal web",
   "metadata": {
    "cell_id": "00169-83452998-c3f5-4934-af52-088d397ec467",
    "deepnote_cell_type": "markdown"
   }
  },
  {
   "cell_type": "code",
   "metadata": {
    "cell_id": "00170-e0b4c06a-4c1b-4744-95ad-6d44760e3be3",
    "deepnote_cell_type": "code"
   },
   "source": "pd.read_html('https://en.wikipedia.org/wiki/COVID-19_pandemic_by_country_and_territory')[0][1:]",
   "execution_count": 201,
   "outputs": [
    {
     "data": {
      "text/html": "<div>\n<style scoped>\n    .dataframe tbody tr th:only-of-type {\n        vertical-align: middle;\n    }\n\n    .dataframe tbody tr th {\n        vertical-align: top;\n    }\n\n    .dataframe thead th {\n        text-align: right;\n    }\n</style>\n<table border=\"1\" class=\"dataframe\">\n  <thead>\n    <tr style=\"text-align: right;\">\n      <th></th>\n      <th>COVID-19 pandemic</th>\n      <th>COVID-19 pandemic.1</th>\n    </tr>\n  </thead>\n  <tbody>\n    <tr>\n      <th>1</th>\n      <td>Disease</td>\n      <td>COVID-19</td>\n    </tr>\n    <tr>\n      <th>2</th>\n      <td>Virus strain</td>\n      <td>SARS-CoV-2</td>\n    </tr>\n    <tr>\n      <th>3</th>\n      <td>Source</td>\n      <td>Probably bats, possibly via pangolins[1][2]</td>\n    </tr>\n    <tr>\n      <th>4</th>\n      <td>Location</td>\n      <td>Worldwide</td>\n    </tr>\n    <tr>\n      <th>5</th>\n      <td>First outbreak</td>\n      <td>Mainland China[3]</td>\n    </tr>\n    <tr>\n      <th>6</th>\n      <td>Index case</td>\n      <td>Wuhan, Hubei, China.mw-parser-output .geo-default,.mw-parser-output .geo-dms,.mw-parser-output .geo-dec{display:inline}.mw-parser-output .geo-nondefault,.mw-parser-output .geo-multi-punct{display:...</td>\n    </tr>\n    <tr>\n      <th>7</th>\n      <td>Date</td>\n      <td>1 December 2019[3] – present(1 year, 3 months, 3 weeks and 3 days)</td>\n    </tr>\n    <tr>\n      <th>8</th>\n      <td>Confirmed cases</td>\n      <td>124,971,776[4]</td>\n    </tr>\n    <tr>\n      <th>9</th>\n      <td>Active cases</td>\n      <td>51,331,455[4]</td>\n    </tr>\n    <tr>\n      <th>10</th>\n      <td>Recovered</td>\n      <td>70,893,740[4]</td>\n    </tr>\n    <tr>\n      <th>11</th>\n      <td>Deaths</td>\n      <td>2,746,581[4]</td>\n    </tr>\n    <tr>\n      <th>12</th>\n      <td>Territories</td>\n      <td>192[4]</td>\n    </tr>\n  </tbody>\n</table>\n</div>",
      "text/plain": "   COVID-19 pandemic  \\\n1            Disease   \n2       Virus strain   \n3             Source   \n4           Location   \n5     First outbreak   \n6         Index case   \n7               Date   \n8    Confirmed cases   \n9       Active cases   \n10         Recovered   \n11            Deaths   \n12       Territories   \n\n                                                                                                                                                                                        COVID-19 pandemic.1  \n1                                                                                                                                                                                                  COVID-19  \n2                                                                                                                                                                                                SARS-CoV-2  \n3                                                                                                                                                               Probably bats, possibly via pangolins[1][2]  \n4                                                                                                                                                                                                 Worldwide  \n5                                                                                                                                                                                         Mainland China[3]  \n6   Wuhan, Hubei, China.mw-parser-output .geo-default,.mw-parser-output .geo-dms,.mw-parser-output .geo-dec{display:inline}.mw-parser-output .geo-nondefault,.mw-parser-output .geo-multi-punct{display:...  \n7                                                                                                                                        1 December 2019[3] – present(1 year, 3 months, 3 weeks and 3 days)  \n8                                                                                                                                                                                            124,971,776[4]  \n9                                                                                                                                                                                             51,331,455[4]  \n10                                                                                                                                                                                            70,893,740[4]  \n11                                                                                                                                                                                             2,746,581[4]  \n12                                                                                                                                                                                                   192[4]  "
     },
     "execution_count": 201,
     "metadata": {},
     "output_type": "execute_result"
    }
   ]
  },
  {
   "cell_type": "markdown",
   "source": "Real world example: microsoft academics\n![img](https://docs.microsoft.com/en-us/academic-services/graph/media/erd/entity-relationship-diagram.png)",
   "metadata": {
    "cell_id": "00171-4930bd6f-f022-4c0d-825a-c978307d6a96",
    "deepnote_cell_type": "markdown"
   }
  },
  {
   "cell_type": "markdown",
   "source": "### Machine web\nFor example, consider the following normal web page:\n\nhttp://old.inspirehep.net/search?p=doi:10.1103/PhysRevLett.122.132001\n\nabout a Scientific paper with people from the University of Antioquia. A _machine web_ version can be easily obtained in JSON just by attaching the extra parameter `&of=recjson`, and direcly loaded from Pandas, which works like a _browser for the third web_:",
   "metadata": {
    "cell_id": "00172-d77428b0-8158-40df-a696-28018c73f4b3",
    "deepnote_cell_type": "markdown"
   }
  },
  {
   "cell_type": "code",
   "metadata": {
    "cell_id": "00173-73ec9ef2-d196-4a39-bd0d-64e4de85db70",
    "deepnote_cell_type": "code"
   },
   "source": "import pandas as pd",
   "execution_count": 17,
   "outputs": []
  },
  {
   "cell_type": "code",
   "metadata": {
    "colab": {},
    "colab_type": "code",
    "id": "-cg2w7wsoo7H",
    "cell_id": "00174-c9b1fdd4-0927-465a-9e06-a54712ff98b5",
    "deepnote_cell_type": "code"
   },
   "source": "df=pd.read_json('http://old.inspirehep.net/search?p=doi:10.1103/PhysRevLett.122.132001&of=recjson')",
   "execution_count": 203,
   "outputs": []
  },
  {
   "cell_type": "code",
   "metadata": {
    "colab": {
     "base_uri": "https://localhost:8080/",
     "height": 323
    },
    "colab_type": "code",
    "id": "MPiuuciYo90S",
    "outputId": "5c049b40-16ec-45f4-cce3-158546834ea3",
    "cell_id": "00175-483f18ee-8181-46cf-995b-4d1b5abd53b7",
    "deepnote_cell_type": "code"
   },
   "source": "df",
   "execution_count": 204,
   "outputs": [
    {
     "data": {
      "text/html": "<div>\n<style scoped>\n    .dataframe tbody tr th:only-of-type {\n        vertical-align: middle;\n    }\n\n    .dataframe tbody tr th {\n        vertical-align: top;\n    }\n\n    .dataframe thead th {\n        text-align: right;\n    }\n</style>\n<table border=\"1\" class=\"dataframe\">\n  <thead>\n    <tr style=\"text-align: right;\">\n      <th></th>\n      <th>comment</th>\n      <th>reference</th>\n      <th>abstract</th>\n      <th>creation_date</th>\n      <th>imprint</th>\n      <th>primary_report_number</th>\n      <th>keywords</th>\n      <th>publication_info</th>\n      <th>coyright</th>\n      <th>subject</th>\n      <th>...</th>\n      <th>number_of_authors</th>\n      <th>license</th>\n      <th>accelerator_experiment</th>\n      <th>number_of_comments</th>\n      <th>url</th>\n      <th>recid</th>\n      <th>collection</th>\n      <th>thesaurus_terms</th>\n      <th>filetypes</th>\n      <th>prepublication</th>\n    </tr>\n  </thead>\n  <tbody>\n    <tr>\n      <th>0</th>\n      <td>Submitted to Phys. Rev. Lett. All figures and tables can be found at http://cms-results.web.cern.ch/cms-results/public-results/publications/BPH-18-007 (CMS Public Pages). This version corrects the...</td>\n      <td>[{'title': 'Phys.Rev.Lett.,81,2432', 'year': '1998', 'doi': 'doi:10.1103/PhysRevLett.81.2432', 'order_number': '1', 'authors': 'F. Abe'}, {'title': 'Phys.Rev.,D49,5845', 'year': '1994', 'doi': 'do...</td>\n      <td>[{'number': 'arXiv', 'summary': 'Signals consistent with the B$^+_\\mathrm{c}$(2S) and B$^{*+}_\\mathrm{c}$(2S) states are observed in proton-proton collisions at $\\sqrt{s} =$ 13 TeV, in an event sa...</td>\n      <td>2019-02-05T04:03:36</td>\n      <td>{'date': '2019-04-03'}</td>\n      <td>[arXiv:1902.00571, None, CMS-BPH-18-007, CERN-EP-2019-014]</td>\n      <td>[{'institute': 'publisher', 'term': 'Elementary Particles and Fields'}]</td>\n      <td>{'volume': '122', 'pagination': '132001', 'title': 'Phys.Rev.Lett.', 'year': '2019'}</td>\n      <td>{'date': '2019', 'holder_contact': 'publication', 'holder': 'CERN'}</td>\n      <td>[{'source': 'INSPIRE', 'term': 'Experiment-HEP'}, {'source': 'arXiv', 'term': 'hep-ex'}, {'source': 'INSPIRE', 'term': 'Experiment-HEP'}]</td>\n      <td>...</td>\n      <td>2279</td>\n      <td>[{'url': 'http://creativecommons.org/licenses/by/4.0/', 'material': 'preprint', 'license': 'CC BY 4.0'}, {'imposing': 'APS', 'url': 'https://creativecommons.org/licenses/by/4.0/', 'license': 'Crea...</td>\n      <td>{'experiment': 'CERN-LHC-CMS'}</td>\n      <td>0</td>\n      <td>[{'url': 'http://inspirehep.net/record/1718338/files/Figure_001.png', 'description': '00002 Transitions between the lightest \\BC states, with solid and dashed lines indicating the emission of phot...</td>\n      <td>1718338</td>\n      <td>[{'primary': 'HEP'}, {'primary': 'Citeable'}, {'primary': 'CORE'}, {'primary': 'Fermilab'}, {'primary': 'Published'}]</td>\n      <td>[{'term': 'p p: scattering'}, {'term': 'p p: colliding beams'}, {'term': 'B/c+: hadroproduction'}, {'term': 'B/c: excited state'}, {'term': 'B/c+: hadronic decay'}, {'term': 'excited state: hadron...</td>\n      <td>[xml, pdf, pdf, pdf, png, png, png]</td>\n      <td>{'date': '2019-02-01'}</td>\n    </tr>\n  </tbody>\n</table>\n<p>1 rows × 36 columns</p>\n</div>",
      "text/plain": "                                                                                                                                                                                                   comment  \\\n0  Submitted to Phys. Rev. Lett. All figures and tables can be found at http://cms-results.web.cern.ch/cms-results/public-results/publications/BPH-18-007 (CMS Public Pages). This version corrects the...   \n\n                                                                                                                                                                                                 reference  \\\n0  [{'title': 'Phys.Rev.Lett.,81,2432', 'year': '1998', 'doi': 'doi:10.1103/PhysRevLett.81.2432', 'order_number': '1', 'authors': 'F. Abe'}, {'title': 'Phys.Rev.,D49,5845', 'year': '1994', 'doi': 'do...   \n\n                                                                                                                                                                                                  abstract  \\\n0  [{'number': 'arXiv', 'summary': 'Signals consistent with the B$^+_\\mathrm{c}$(2S) and B$^{*+}_\\mathrm{c}$(2S) states are observed in proton-proton collisions at $\\sqrt{s} =$ 13 TeV, in an event sa...   \n\n         creation_date                 imprint  \\\n0  2019-02-05T04:03:36  {'date': '2019-04-03'}   \n\n                                        primary_report_number  \\\n0  [arXiv:1902.00571, None, CMS-BPH-18-007, CERN-EP-2019-014]   \n\n                                                                  keywords  \\\n0  [{'institute': 'publisher', 'term': 'Elementary Particles and Fields'}]   \n\n                                                                       publication_info  \\\n0  {'volume': '122', 'pagination': '132001', 'title': 'Phys.Rev.Lett.', 'year': '2019'}   \n\n                                                              coyright  \\\n0  {'date': '2019', 'holder_contact': 'publication', 'holder': 'CERN'}   \n\n                                                                                                                                     subject  \\\n0  [{'source': 'INSPIRE', 'term': 'Experiment-HEP'}, {'source': 'arXiv', 'term': 'hep-ex'}, {'source': 'INSPIRE', 'term': 'Experiment-HEP'}]   \n\n   ... number_of_authors  \\\n0  ...              2279   \n\n                                                                                                                                                                                                   license  \\\n0  [{'url': 'http://creativecommons.org/licenses/by/4.0/', 'material': 'preprint', 'license': 'CC BY 4.0'}, {'imposing': 'APS', 'url': 'https://creativecommons.org/licenses/by/4.0/', 'license': 'Crea...   \n\n           accelerator_experiment number_of_comments  \\\n0  {'experiment': 'CERN-LHC-CMS'}                  0   \n\n                                                                                                                                                                                                       url  \\\n0  [{'url': 'http://inspirehep.net/record/1718338/files/Figure_001.png', 'description': '00002 Transitions between the lightest \\BC states, with solid and dashed lines indicating the emission of phot...   \n\n     recid  \\\n0  1718338   \n\n                                                                                                              collection  \\\n0  [{'primary': 'HEP'}, {'primary': 'Citeable'}, {'primary': 'CORE'}, {'primary': 'Fermilab'}, {'primary': 'Published'}]   \n\n                                                                                                                                                                                           thesaurus_terms  \\\n0  [{'term': 'p p: scattering'}, {'term': 'p p: colliding beams'}, {'term': 'B/c+: hadroproduction'}, {'term': 'B/c: excited state'}, {'term': 'B/c+: hadronic decay'}, {'term': 'excited state: hadron...   \n\n                             filetypes          prepublication  \n0  [xml, pdf, pdf, pdf, png, png, png]  {'date': '2019-02-01'}  \n\n[1 rows x 36 columns]"
     },
     "execution_count": 204,
     "metadata": {},
     "output_type": "execute_result"
    }
   ]
  },
  {
   "cell_type": "markdown",
   "source": "We can see that the column `authors` is quite nested: Is a list of dictionaries with the full information for each one of the authors of the article.",
   "metadata": {
    "colab_type": "text",
    "id": "SyVgDj1ApPtP",
    "cell_id": "00176-771f6078-2bd8-4b8c-bd1e-52d95359760b",
    "deepnote_cell_type": "markdown"
   }
  },
  {
   "cell_type": "code",
   "metadata": {
    "cell_id": "00177-7be88c70-ca2b-4158-bab5-b53e0053f663",
    "deepnote_cell_type": "code"
   },
   "source": "df.columns",
   "execution_count": 205,
   "outputs": [
    {
     "data": {
      "text/plain": "Index(['comment', 'reference', 'abstract', 'creation_date', 'imprint',\n       'primary_report_number', 'keywords', 'publication_info', 'coyright',\n       'subject', 'cataloguer_info', 'physical_description',\n       'number_of_citations', 'other_report_number', 'title',\n       'persistent_identifiers_keys', 'corporate_name', 'files',\n       'system_control_number', 'filenames', 'source_of_acquisition',\n       'number_of_reviews', 'version_id', 'FIXME_OAI', 'authors', 'doi',\n       'number_of_authors', 'license', 'accelerator_experiment',\n       'number_of_comments', 'url', 'recid', 'collection', 'thesaurus_terms',\n       'filetypes', 'prepublication'],\n      dtype='object')"
     },
     "execution_count": 205,
     "metadata": {},
     "output_type": "execute_result"
    }
   ]
  },
  {
   "cell_type": "code",
   "metadata": {
    "cell_id": "00178-2f47e4be-8d74-44e2-bb4a-42747650380d",
    "deepnote_cell_type": "code"
   },
   "source": "df.number_of_authors",
   "execution_count": 206,
   "outputs": [
    {
     "data": {
      "text/plain": "0    2279\nName: number_of_authors, dtype: int64"
     },
     "execution_count": 206,
     "metadata": {},
     "output_type": "execute_result"
    }
   ]
  },
  {
   "cell_type": "code",
   "metadata": {
    "colab": {
     "base_uri": "https://localhost:8080/",
     "height": 74
    },
    "colab_type": "code",
    "id": "BybpMovNsB7N",
    "outputId": "1d8edd97-5ea8-4050-981e-5d469c9eb43a",
    "cell_id": "00179-b30f7447-bb10-4fae-a63c-8b3e97fe860b",
    "deepnote_cell_type": "code"
   },
   "source": "df.authors",
   "execution_count": 207,
   "outputs": [
    {
     "data": {
      "text/plain": "0    [{'INSPIRE_number': 'INSPIRE-00312131', 'affiliation': 'Yerevan Phys. Inst.', 'first_name': 'Albert M', 'last_name': 'Sirunyan', 'full_name': 'Sirunyan, Albert M'}, {'INSPIRE_number': 'INSPIRE-001...\nName: authors, dtype: object"
     },
     "execution_count": 207,
     "metadata": {},
     "output_type": "execute_result"
    }
   ]
  },
  {
   "cell_type": "markdown",
   "source": "__Activity__: Check that the lenght of the auhors list coincides with the `number_of_authors` \n<!-- df.authors.apply(len),df.number_of_authors.values -->",
   "metadata": {
    "colab_type": "text",
    "id": "8zr5Nsxwsikt",
    "cell_id": "00180-df4514dc-1020-47a8-ae5b-9fa3fe83a913",
    "deepnote_cell_type": "markdown"
   }
  },
  {
   "cell_type": "code",
   "metadata": {
    "cell_id": "00181-e6df8982-fca7-4ff2-a8e6-e57c2d3471ee",
    "deepnote_cell_type": "code"
   },
   "source": "df.authors.apply(len)",
   "execution_count": 209,
   "outputs": [
    {
     "data": {
      "text/plain": "0    2279\nName: authors, dtype: int64"
     },
     "execution_count": 209,
     "metadata": {},
     "output_type": "execute_result"
    }
   ]
  },
  {
   "cell_type": "code",
   "metadata": {
    "colab": {},
    "colab_type": "code",
    "id": "I1IvH1K-s46d",
    "cell_id": "00182-cd1983d8-df1d-4250-84f8-d2d9d65bee72",
    "deepnote_cell_type": "code"
   },
   "source": "df.authors[0][0]",
   "execution_count": 210,
   "outputs": [
    {
     "data": {
      "text/plain": "{'INSPIRE_number': 'INSPIRE-00312131',\n 'affiliation': 'Yerevan Phys. Inst.',\n 'first_name': 'Albert M',\n 'last_name': 'Sirunyan',\n 'full_name': 'Sirunyan, Albert M'}"
     },
     "execution_count": 210,
     "metadata": {},
     "output_type": "execute_result"
    }
   ]
  },
  {
   "cell_type": "markdown",
   "source": " We can use all the previous methods to extract the authors from `'Antioquia U.'`:\n \n Note: For a dictionary, `d` is safer to use `d.get('key')` instead of just `d['key']` to obtain some `key`, because not error is generated if the requested `key` does not exists at all ",
   "metadata": {
    "colab_type": "text",
    "id": "i22ywhohsAVo",
    "cell_id": "00183-b08b0eea-107b-49a8-8340-c12fcbc66e1d",
    "deepnote_cell_type": "markdown"
   }
  },
  {
   "cell_type": "code",
   "metadata": {
    "cell_id": "00184-2fc88c7e-5d18-4932-a6f9-b7c2c0850fb3",
    "deepnote_cell_type": "code"
   },
   "source": "df.authors.apply(lambda l: [d for d in l if d.get('affiliation')=='Antioquia U.']).loc[0]",
   "execution_count": 215,
   "outputs": [
    {
     "data": {
      "text/plain": "[{'INSPIRE_number': 'INSPIRE-00343518',\n  'affiliation': 'Antioquia U.',\n  'first_name': 'Jhovanny',\n  'last_name': 'Mejia Guisao',\n  'full_name': 'Mejia Guisao, Jhovanny'},\n {'INSPIRE_number': 'INSPIRE-00355050',\n  'affiliation': 'Antioquia U.',\n  'first_name': 'José David',\n  'last_name': 'Ruiz Alvarez',\n  'full_name': 'Ruiz Alvarez, José David'}]"
     },
     "execution_count": 215,
     "metadata": {},
     "output_type": "execute_result"
    }
   ]
  },
  {
   "cell_type": "markdown",
   "source": "We also need use comprenhension list like in",
   "metadata": {
    "cell_id": "00185-afab64fd-fbca-4c15-b003-a9dae9871b1b",
    "deepnote_cell_type": "markdown"
   }
  },
  {
   "cell_type": "code",
   "metadata": {
    "cell_id": "00186-7a213a38-7d08-4ca8-997a-bb19f26debf8",
    "deepnote_cell_type": "code"
   },
   "source": "l=[1,2,3]",
   "execution_count": 62,
   "outputs": []
  },
  {
   "cell_type": "code",
   "metadata": {
    "cell_id": "00187-6a433856-97a1-43c8-b7ff-1fb531b4d79a",
    "deepnote_cell_type": "code"
   },
   "source": "[x if x>1 else 3 for x in l ]",
   "execution_count": 63,
   "outputs": [
    {
     "data": {
      "text/plain": "[3, 2, 3]"
     },
     "execution_count": 63,
     "metadata": {},
     "output_type": "execute_result"
    }
   ]
  },
  {
   "cell_type": "markdown",
   "source": "Then the on-fly apply function to extract the authors with affiliation 'Antioquia U.' is",
   "metadata": {
    "cell_id": "00188-35f26f54-83d6-4764-9aa4-3098544da774",
    "deepnote_cell_type": "markdown"
   }
  },
  {
   "cell_type": "code",
   "metadata": {
    "colab": {
     "base_uri": "https://localhost:8080/",
     "height": 54
    },
    "colab_type": "code",
    "id": "1cx7xy2rpOzg",
    "outputId": "e2a0b01a-7f8e-4f6f-848d-c15d53f44ae3",
    "cell_id": "00189-3ff734da-a866-4d05-a7da-6ef6e4b58e7e",
    "deepnote_cell_type": "code"
   },
   "source": "df.authors.apply(lambda l:  #implicit function\n                           [ d.get('full_name') #safer way to obtain a `key` value\n                             for d in l   #comprehension list \n                              if isinstance(d,dict) and d.get('affiliation')=='Antioquia U.' #condition\n                           ] \n                             if isinstance(l,list) else None #  Be sure that cell have the proper format\n                 )",
   "execution_count": 65,
   "outputs": [
    {
     "data": {
      "text/plain": "0    [Mejia Guisao, Jhovanny, Ruiz Alvarez, José David]\nName: authors, dtype: object"
     },
     "execution_count": 65,
     "metadata": {},
     "output_type": "execute_result"
    }
   ]
  },
  {
   "cell_type": "markdown",
   "source": "A simpler version is possible,  but is more prompted to error when used through multiple column entries:",
   "metadata": {
    "colab_type": "text",
    "id": "-YpfjPAdu19J",
    "cell_id": "00190-726d62de-30f6-4fd1-920e-7726fbc7b2e0",
    "deepnote_cell_type": "markdown"
   }
  },
  {
   "cell_type": "code",
   "metadata": {
    "colab": {
     "base_uri": "https://localhost:8080/",
     "height": 54
    },
    "colab_type": "code",
    "id": "oM80j8zdvAdq",
    "outputId": "0a5bc9e0-cd9e-44b0-86eb-b4f409298b8b",
    "cell_id": "00191-ac02e2f2-11e0-4b44-893c-da34d6b699f5",
    "deepnote_cell_type": "code"
   },
   "source": "df.authors.apply(lambda l: [ d['full_name'] for d in l   \n                              if d['affiliation']=='Antioquia U.'\n                           ] )",
   "execution_count": 64,
   "outputs": [
    {
     "data": {
      "text/plain": "0    [Mejia Guisao, Jhovanny, Ruiz Alvarez, José David]\nName: authors, dtype: object"
     },
     "execution_count": 64,
     "metadata": {},
     "output_type": "execute_result"
    }
   ]
  },
  {
   "cell_type": "markdown",
   "source": "For further details see: https://github.com/restrepo/inspire/blob/master/gfif.ipynb\n",
   "metadata": {
    "colab_type": "text",
    "id": "1Z96Ju2gwQO0",
    "cell_id": "00192-fa68bd80-a348-41cb-ad3c-fb0a4cfdb0ae",
    "deepnote_cell_type": "markdown"
   }
  },
  {
   "cell_type": "markdown",
   "source": "__Activity__: Repeat the same activity but using directly the JSON file",
   "metadata": {
    "cell_id": "00193-6e138922-01e4-4ecc-934a-06eee6670c8b",
    "deepnote_cell_type": "markdown"
   }
  },
  {
   "cell_type": "markdown",
   "source": "__NOTE__: The same but with the new API",
   "metadata": {
    "cell_id": "00194-9f0db7fb-edf7-47dd-a263-376e9628c8bc",
    "deepnote_cell_type": "markdown"
   }
  },
  {
   "cell_type": "code",
   "metadata": {
    "cell_id": "00195-da97f864-7b1d-4a98-a6d1-885056868278",
    "deepnote_cell_type": "code"
   },
   "source": "#See: https://github.com/inspirehep/rest-api-doc/issues/4#issuecomment-645218074\nimport requests                                                                                                                                                      \nresponse = requests.get('https://inspirehep.net/api/doi/10.1103/PhysRevLett.122.132001')                                                                              \nauthors = response.json()['metadata']['authors']                                                                                                                     \nnames = [author.get('full_name')\n              for author in authors \n               if any(aff.get('value') == 'Antioquia U.' for aff in author.get('affiliations'))]\nnames",
   "execution_count": 25,
   "outputs": [
    {
     "data": {
      "text/plain": "['Mejia Guisao, Jhovanny', 'Ruiz Alvarez, José David']"
     },
     "execution_count": 25,
     "metadata": {},
     "output_type": "execute_result"
    }
   ]
  },
  {
   "cell_type": "markdown",
   "source": "##  ACTIVITIES\nSee:\n* https://github.com/ajcr/100-pandas-puzzles\n* https://github.com/guipsamora/pandas_exercises",
   "metadata": {
    "colab_type": "text",
    "id": "D7SNm2ABxE22",
    "cell_id": "00196-e12c3e66-259a-44d2-988d-55ad5e2c68de",
    "deepnote_cell_type": "markdown"
   }
  },
  {
   "cell_type": "markdown",
   "source": "## Final remarks\nWith basic scripting and Pandas we already have a solid environment to analyse data. We introduce the other libraries motivated with the extending the capabilities of Pandas",
   "metadata": {
    "colab_type": "text",
    "id": "fWjYdB7LxE23",
    "cell_id": "00197-d4ddb4b1-754e-48ea-8b71-75d4272f816c",
    "deepnote_cell_type": "markdown"
   }
  },
  {
   "cell_type": "code",
   "metadata": {
    "colab": {},
    "colab_type": "code",
    "id": "erRi7J01xE24",
    "cell_id": "00198-34e40bd9-4143-4ae7-aac7-7ff4a1d98cdf",
    "deepnote_cell_type": "code"
   },
   "source": "",
   "execution_count": null,
   "outputs": []
  },
  {
   "cell_type": "markdown",
   "source": "<a style='text-decoration:none;line-height:16px;display:flex;color:#5B5B62;padding:10px;justify-content:end;' href='https://deepnote.com?utm_source=created-in-deepnote-cell&projectId=f91b818d-f536-4b8f-81de-61752e0979b7' target=\"_blank\">\n<img alt='Created in deepnote.com' style='display:inline;max-height:16px;margin:0px;margin-right:7.5px;' src='data:image/svg+xml;base64,PD94bWwgdmVyc2lvbj0iMS4wIiBlbmNvZGluZz0iVVRGLTgiPz4KPHN2ZyB3aWR0aD0iODBweCIgaGVpZ2h0PSI4MHB4IiB2aWV3Qm94PSIwIDAgODAgODAiIHZlcnNpb249IjEuMSIgeG1sbnM9Imh0dHA6Ly93d3cudzMub3JnLzIwMDAvc3ZnIiB4bWxuczp4bGluaz0iaHR0cDovL3d3dy53My5vcmcvMTk5OS94bGluayI+CiAgICA8IS0tIEdlbmVyYXRvcjogU2tldGNoIDU0LjEgKDc2NDkwKSAtIGh0dHBzOi8vc2tldGNoYXBwLmNvbSAtLT4KICAgIDx0aXRsZT5Hcm91cCAzPC90aXRsZT4KICAgIDxkZXNjPkNyZWF0ZWQgd2l0aCBTa2V0Y2guPC9kZXNjPgogICAgPGcgaWQ9IkxhbmRpbmciIHN0cm9rZT0ibm9uZSIgc3Ryb2tlLXdpZHRoPSIxIiBmaWxsPSJub25lIiBmaWxsLXJ1bGU9ImV2ZW5vZGQiPgogICAgICAgIDxnIGlkPSJBcnRib2FyZCIgdHJhbnNmb3JtPSJ0cmFuc2xhdGUoLTEyMzUuMDAwMDAwLCAtNzkuMDAwMDAwKSI+CiAgICAgICAgICAgIDxnIGlkPSJHcm91cC0zIiB0cmFuc2Zvcm09InRyYW5zbGF0ZSgxMjM1LjAwMDAwMCwgNzkuMDAwMDAwKSI+CiAgICAgICAgICAgICAgICA8cG9seWdvbiBpZD0iUGF0aC0yMCIgZmlsbD0iIzAyNjVCNCIgcG9pbnRzPSIyLjM3NjIzNzYyIDgwIDM4LjA0NzY2NjcgODAgNTcuODIxNzgyMiA3My44MDU3NTkyIDU3LjgyMTc4MjIgMzIuNzU5MjczOSAzOS4xNDAyMjc4IDMxLjY4MzE2ODMiPjwvcG9seWdvbj4KICAgICAgICAgICAgICAgIDxwYXRoIGQ9Ik0zNS4wMDc3MTgsODAgQzQyLjkwNjIwMDcsNzYuNDU0OTM1OCA0Ny41NjQ5MTY3LDcxLjU0MjI2NzEgNDguOTgzODY2LDY1LjI2MTk5MzkgQzUxLjExMjI4OTksNTUuODQxNTg0MiA0MS42NzcxNzk1LDQ5LjIxMjIyODQgMjUuNjIzOTg0Niw0OS4yMTIyMjg0IEMyNS40ODQ5Mjg5LDQ5LjEyNjg0NDggMjkuODI2MTI5Niw0My4yODM4MjQ4IDM4LjY0NzU4NjksMzEuNjgzMTY4MyBMNzIuODcxMjg3MSwzMi41NTQ0MjUgTDY1LjI4MDk3Myw2Ny42NzYzNDIxIEw1MS4xMTIyODk5LDc3LjM3NjE0NCBMMzUuMDA3NzE4LDgwIFoiIGlkPSJQYXRoLTIyIiBmaWxsPSIjMDAyODY4Ij48L3BhdGg+CiAgICAgICAgICAgICAgICA8cGF0aCBkPSJNMCwzNy43MzA0NDA1IEwyNy4xMTQ1MzcsMC4yNTcxMTE0MzYgQzYyLjM3MTUxMjMsLTEuOTkwNzE3MDEgODAsMTAuNTAwMzkyNyA4MCwzNy43MzA0NDA1IEM4MCw2NC45NjA0ODgyIDY0Ljc3NjUwMzgsNzkuMDUwMzQxNCAzNC4zMjk1MTEzLDgwIEM0Ny4wNTUzNDg5LDc3LjU2NzA4MDggNTMuNDE4MjY3Nyw3MC4zMTM2MTAzIDUzLjQxODI2NzcsNTguMjM5NTg4NSBDNTMuNDE4MjY3Nyw0MC4xMjg1NTU3IDM2LjMwMzk1NDQsMzcuNzMwNDQwNSAyNS4yMjc0MTcsMzcuNzMwNDQwNSBDMTcuODQzMDU4NiwzNy43MzA0NDA1IDkuNDMzOTE5NjYsMzcuNzMwNDQwNSAwLDM3LjczMDQ0MDUgWiIgaWQ9IlBhdGgtMTkiIGZpbGw9IiMzNzkzRUYiPjwvcGF0aD4KICAgICAgICAgICAgPC9nPgogICAgICAgIDwvZz4KICAgIDwvZz4KPC9zdmc+' > </img>\nCreated in <span style='font-weight:600;margin-left:4px;'>Deepnote</span></a>",
   "metadata": {
    "tags": [],
    "created_in_deepnote_cell": true,
    "deepnote_cell_type": "markdown"
   }
  }
 ],
 "nbformat": 4,
 "nbformat_minor": 4,
 "metadata": {
  "colab": {
   "include_colab_link": true,
   "name": "Pandas.ipynb",
   "provenance": []
  },
  "kernelspec": {
   "display_name": "Python 3",
   "language": "python",
   "name": "python3"
  },
  "language_info": {
   "codemirror_mode": {
    "name": "ipython",
    "version": 3
   },
   "file_extension": ".py",
   "mimetype": "text/x-python",
   "name": "python",
   "nbconvert_exporter": "python",
   "pygments_lexer": "ipython3",
   "version": "3.7.3"
  },
  "toc": {
   "colors": {
    "hover_highlight": "#DAA520",
    "running_highlight": "#FF0000",
    "selected_highlight": "#FFD700"
   },
   "moveMenuLeft": true,
   "nav_menu": {},
   "navigate_menu": true,
   "number_sections": true,
   "sideBar": true,
   "threshold": 4,
   "toc_cell": false,
   "toc_section_display": "block",
   "toc_window_display": false
  },
  "deepnote_notebook_id": "0a9be7a0-3db5-477d-bb7c-1755e22290d0",
  "deepnote": {},
  "deepnote_execution_queue": []
 }
}