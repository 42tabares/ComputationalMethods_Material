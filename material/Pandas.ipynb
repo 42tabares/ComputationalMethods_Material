{
  "nbformat": 4,
  "nbformat_minor": 0,
  "metadata": {
    "kernelspec": {
      "display_name": "Python 3",
      "language": "python",
      "name": "python3"
    },
    "language_info": {
      "codemirror_mode": {
        "name": "ipython",
        "version": 3
      },
      "file_extension": ".py",
      "mimetype": "text/x-python",
      "name": "python",
      "nbconvert_exporter": "python",
      "pygments_lexer": "ipython3",
      "version": "3.4.2"
    },
    "toc": {
      "colors": {
        "hover_highlight": "#DAA520",
        "running_highlight": "#FF0000",
        "selected_highlight": "#FFD700"
      },
      "moveMenuLeft": true,
      "nav_menu": {},
      "navigate_menu": true,
      "number_sections": true,
      "sideBar": true,
      "threshold": 4,
      "toc_cell": false,
      "toc_section_display": "block",
      "toc_window_display": false
    },
    "colab": {
      "name": "Pandas.ipynb",
      "provenance": [],
      "include_colab_link": true
    }
  },
  "cells": [
    {
      "cell_type": "markdown",
      "metadata": {
        "id": "view-in-github",
        "colab_type": "text"
      },
      "source": [
        "<a href=\"https://colab.research.google.com/github/restrepo/ComputationalMethods/blob/master/material/Pandas.ipynb\" target=\"_parent\"><img src=\"https://colab.research.google.com/assets/colab-badge.svg\" alt=\"Open In Colab\"/></a>"
      ]
    },
    {
      "cell_type": "markdown",
      "metadata": {
        "id": "d8BGX58hxE06",
        "colab_type": "text"
      },
      "source": [
        "# Pandas"
      ]
    },
    {
      "cell_type": "markdown",
      "metadata": {
        "id": "zm9tRsn7xE0_",
        "colab_type": "text"
      },
      "source": [
        "From http://pandas.pydata.org/pandas-docs/stable/\n",
        "\n",
        "pandas is a Python package providing fast, flexible, and expressive data structures designed to make working with “relational” or “labeled” data both easy and intuitive. It aims to be the fundamental high-level building block for doing practical, real world data analysis in Python. Additionally, it has the broader goal of becoming the most powerful and flexible open source data analysis / manipulation tool available in any language. It is already well on its way toward this goal.\n",
        "\n",
        "See also:\n",
        "\n",
        "* https://github.com/restrepo/data-analysis\n",
        "  * https://classroom.github.com/g/sSMBdBqN\n",
        "  * https://classroom.github.com/a/PcbQBE7F\n",
        "* https://github.com/restrepo/PythonTipsAndTricks\n",
        "\n",
        "A good and practice book about `Pandas` possibilities is:\n",
        "\n",
        "[__Python for Data Analysis__](https://drive.google.com/open?id=0BxoOXsn2EUNIWExXbVc4SDN0YTQ)<br/>\n",
        "Data Wrangling with Pandas, NumPy, and IPython<br/>\n",
        "_By William McKinney_\n",
        "\n",
        "\n",
        "This other is about aplications based on `Pandas`:\n",
        "![image.png](https://covers.oreillystatic.com/images/0636920030515/cat.gif) [Introduction to Machine Learning with Python](https://drive.google.com/open?id=0BxoOXsn2EUNISGhrdEZ3S29fS3M)<br/>\n",
        "A Guide for Data Scientists\n",
        "By Sarah Guido, Andreas Müller\n",
        "\n",
        "`Pandas` can be used in a similar way to `R`, which is based on similar data structures. `Pandas` also can replace the use of graphical interfaces to access spreadsheets like Excel"
      ]
    },
    {
      "cell_type": "markdown",
      "metadata": {
        "id": "zd4jo7KLxE1C",
        "colab_type": "text"
      },
      "source": [
        "## Standard way to load the module"
      ]
    },
    {
      "cell_type": "code",
      "metadata": {
        "id": "K3BSlyLBxE1E",
        "colab_type": "code",
        "colab": {}
      },
      "source": [
        "import pandas as pd"
      ],
      "execution_count": 0,
      "outputs": []
    },
    {
      "cell_type": "markdown",
      "metadata": {
        "id": "HeN8rw1JxE1N",
        "colab_type": "text"
      },
      "source": [
        "## Data structures"
      ]
    },
    {
      "cell_type": "markdown",
      "metadata": {
        "id": "jaWfZyimxE1O",
        "colab_type": "text"
      },
      "source": [
        "`Pandas` has two new data structures:\n",
        "* `Series` which are similar to dictionaries\n",
        "* `DataFrame` which are similar to numpy arrays but with some assigned key. \n",
        "\n",
        "The row in a two-dimensional `DataFrame` corresponds to `Series` with similar keys, while the columns are also with the indeces as keys. \n",
        "\n",
        "An example of a  `DataFrame` is a spreadsheet."
      ]
    },
    {
      "cell_type": "markdown",
      "metadata": {
        "id": "c_bj3IfLxE1Q",
        "colab_type": "text"
      },
      "source": [
        "### `Series`"
      ]
    },
    {
      "cell_type": "markdown",
      "metadata": {
        "id": "klrbIsoGxE1R",
        "colab_type": "text"
      },
      "source": [
        "A `Pandas` `Series` object can be just initialized from a `Python` dictionary:"
      ]
    },
    {
      "cell_type": "code",
      "metadata": {
        "id": "LrhKw9EQxE1T",
        "colab_type": "code",
        "colab": {}
      },
      "source": [
        "s=pd.Series({'Name':'Juan Valdez','Nacionality':'Colombia','Age':23})\n",
        "s"
      ],
      "execution_count": 0,
      "outputs": []
    },
    {
      "cell_type": "markdown",
      "metadata": {
        "id": "ElU5h9tnxE1Y",
        "colab_type": "text"
      },
      "source": [
        "and can be used as such dictionaries"
      ]
    },
    {
      "cell_type": "code",
      "metadata": {
        "id": "pAtixllExE1Z",
        "colab_type": "code",
        "colab": {},
        "outputId": "df062321-1e5a-4c58-cc01-b80503680a3c"
      },
      "source": [
        "s['Name']"
      ],
      "execution_count": 0,
      "outputs": [
        {
          "output_type": "execute_result",
          "data": {
            "text/plain": [
              "'Juan Valdez'"
            ]
          },
          "metadata": {
            "tags": []
          },
          "execution_count": 35
        }
      ]
    },
    {
      "cell_type": "markdown",
      "metadata": {
        "id": "pYb112eqxE1e",
        "colab_type": "text"
      },
      "source": [
        "but also as containers of name spaces!"
      ]
    },
    {
      "cell_type": "code",
      "metadata": {
        "id": "6_GfsFVwxE1f",
        "colab_type": "code",
        "colab": {},
        "outputId": "a2cfc2c7-bc11-4939-8c0a-536aeb453f39"
      },
      "source": [
        "s.Name"
      ],
      "execution_count": 0,
      "outputs": [
        {
          "output_type": "execute_result",
          "data": {
            "text/plain": [
              "'Juan Valdez'"
            ]
          },
          "metadata": {
            "tags": []
          },
          "execution_count": 36
        }
      ]
    },
    {
      "cell_type": "markdown",
      "metadata": {
        "id": "kpsacHLhxE1j",
        "colab_type": "text"
      },
      "source": [
        "### New heading"
      ]
    },
    {
      "cell_type": "markdown",
      "metadata": {
        "id": "Kab6pfyMxE1k",
        "colab_type": "text"
      },
      "source": [
        "### `DataFrame`"
      ]
    },
    {
      "cell_type": "markdown",
      "metadata": {
        "id": "5ulKgKBRxE1m",
        "colab_type": "text"
      },
      "source": [
        "#### Incialization from de Series\n",
        "We start with an empty `DataFrame`:"
      ]
    },
    {
      "cell_type": "code",
      "metadata": {
        "id": "jPsRspsXxE1n",
        "colab_type": "code",
        "colab": {},
        "outputId": "cb0aeb13-fa1a-480d-a214-fdb27b8f0228"
      },
      "source": [
        "df=pd.DataFrame()\n",
        "df"
      ],
      "execution_count": 0,
      "outputs": [
        {
          "output_type": "execute_result",
          "data": {
            "text/html": [
              "<div>\n",
              "<table border=\"1\" class=\"dataframe\">\n",
              "  <thead>\n",
              "    <tr style=\"text-align: right;\">\n",
              "      <th></th>\n",
              "    </tr>\n",
              "  </thead>\n",
              "  <tbody>\n",
              "  </tbody>\n",
              "</table>\n",
              "</div>"
            ],
            "text/plain": [
              "Empty DataFrame\n",
              "Columns: []\n",
              "Index: []"
            ]
          },
          "metadata": {
            "tags": []
          },
          "execution_count": 37
        }
      ]
    },
    {
      "cell_type": "markdown",
      "metadata": {
        "id": "f0OJapjvxE1q",
        "colab_type": "text"
      },
      "source": [
        "We can append a `Series` as a row of the `DataFrame`, provided that we always use the option: `ignore_index=True`"
      ]
    },
    {
      "cell_type": "code",
      "metadata": {
        "id": "2yc9h2GexE1r",
        "colab_type": "code",
        "colab": {},
        "outputId": "1f402670-1ac6-4b1d-91d1-75962162cbd9"
      },
      "source": [
        "df=df.append(s,ignore_index=True)\n",
        "df"
      ],
      "execution_count": 0,
      "outputs": [
        {
          "output_type": "execute_result",
          "data": {
            "text/html": [
              "<div>\n",
              "<table border=\"1\" class=\"dataframe\">\n",
              "  <thead>\n",
              "    <tr style=\"text-align: right;\">\n",
              "      <th></th>\n",
              "      <th>Age</th>\n",
              "      <th>Nacionality</th>\n",
              "      <th>Name</th>\n",
              "    </tr>\n",
              "  </thead>\n",
              "  <tbody>\n",
              "    <tr>\n",
              "      <th>0</th>\n",
              "      <td>23.0</td>\n",
              "      <td>Colombia</td>\n",
              "      <td>Juan Valdez</td>\n",
              "    </tr>\n",
              "  </tbody>\n",
              "</table>\n",
              "</div>"
            ],
            "text/plain": [
              "    Age Nacionality         Name\n",
              "0  23.0    Colombia  Juan Valdez"
            ]
          },
          "metadata": {
            "tags": []
          },
          "execution_count": 38
        }
      ]
    },
    {
      "cell_type": "markdown",
      "metadata": {
        "id": "32Oh_stDxE1w",
        "colab_type": "text"
      },
      "source": [
        "We can fix the type of data of the `'Age'` column"
      ]
    },
    {
      "cell_type": "code",
      "metadata": {
        "id": "-Jk5bSRGxE1y",
        "colab_type": "code",
        "colab": {},
        "outputId": "7b23a204-ac04-44bd-b273-24dd054d3c89"
      },
      "source": [
        "type(df.Age)"
      ],
      "execution_count": 0,
      "outputs": [
        {
          "output_type": "execute_result",
          "data": {
            "text/plain": [
              "pandas.core.series.Series"
            ]
          },
          "metadata": {
            "tags": []
          },
          "execution_count": 7
        }
      ]
    },
    {
      "cell_type": "code",
      "metadata": {
        "id": "vl9RKEBXxE12",
        "colab_type": "code",
        "colab": {},
        "outputId": "c933a0ea-cc65-4d88-f520-36d6639ab37f"
      },
      "source": [
        "df['Age']=df.Age.astype(int)\n",
        "df"
      ],
      "execution_count": 0,
      "outputs": [
        {
          "output_type": "execute_result",
          "data": {
            "text/html": [
              "<div>\n",
              "<table border=\"1\" class=\"dataframe\">\n",
              "  <thead>\n",
              "    <tr style=\"text-align: right;\">\n",
              "      <th></th>\n",
              "      <th>Age</th>\n",
              "      <th>Nacionality</th>\n",
              "      <th>Name</th>\n",
              "    </tr>\n",
              "  </thead>\n",
              "  <tbody>\n",
              "    <tr>\n",
              "      <th>0</th>\n",
              "      <td>23</td>\n",
              "      <td>Colombia</td>\n",
              "      <td>Juan Valdez</td>\n",
              "    </tr>\n",
              "  </tbody>\n",
              "</table>\n",
              "</div>"
            ],
            "text/plain": [
              "   Age Nacionality         Name\n",
              "0   23    Colombia  Juan Valdez"
            ]
          },
          "metadata": {
            "tags": []
          },
          "execution_count": 8
        }
      ]
    },
    {
      "cell_type": "markdown",
      "metadata": {
        "id": "npH4wLrNxE17",
        "colab_type": "text"
      },
      "source": [
        "To add a second file we build another `Series`"
      ]
    },
    {
      "cell_type": "code",
      "metadata": {
        "id": "nTwRmub3xE18",
        "colab_type": "code",
        "colab": {},
        "outputId": "9e950018-14f2-4901-b187-b3719a9a76e2"
      },
      "source": [
        "s=pd.Series()\n",
        "for k in ['Name','Nacionality','Age','Company']:\n",
        "    var=input('{}:\\n'.format(k))\n",
        "    s[k]=var"
      ],
      "execution_count": 0,
      "outputs": [
        {
          "output_type": "stream",
          "text": [
            "Name:\n",
            "Álvaro Uribe\n",
            "Nacionality:\n",
            "Colombia\n",
            "Age:\n",
            "65\n",
            "Company:\n",
            "Senado\n"
          ],
          "name": "stdout"
        }
      ]
    },
    {
      "cell_type": "markdown",
      "metadata": {
        "id": "t8Xzsb0qxE1-",
        "colab_type": "text"
      },
      "source": [
        "#### Exercises\n",
        "* Display the resulting `Series` in the screen:"
      ]
    },
    {
      "cell_type": "code",
      "metadata": {
        "id": "58Cku5HjxE1_",
        "colab_type": "code",
        "colab": {}
      },
      "source": [
        ""
      ],
      "execution_count": 0,
      "outputs": []
    },
    {
      "cell_type": "markdown",
      "metadata": {
        "id": "sSPUdkvtxE2C",
        "colab_type": "text"
      },
      "source": [
        "* Append to the previous `DataFrame` y visualizarlo:"
      ]
    },
    {
      "cell_type": "code",
      "metadata": {
        "id": "vRRypFa_xE2D",
        "colab_type": "code",
        "colab": {}
      },
      "source": [
        ""
      ],
      "execution_count": 0,
      "outputs": []
    },
    {
      "cell_type": "markdown",
      "metadata": {
        "id": "wLUED3NWxE2G",
        "colab_type": "text"
      },
      "source": [
        "* Fill NaN with empty strings"
      ]
    },
    {
      "cell_type": "code",
      "metadata": {
        "id": "28rp4v3BxE2I",
        "colab_type": "code",
        "colab": {}
      },
      "source": [
        ""
      ],
      "execution_count": 0,
      "outputs": []
    },
    {
      "cell_type": "markdown",
      "metadata": {
        "id": "K3feFAfYxE2K",
        "colab_type": "text"
      },
      "source": [
        "* Save `Pandas` `DataFrame` as an Excel file"
      ]
    },
    {
      "cell_type": "code",
      "metadata": {
        "id": "fdxuA_FAxE2L",
        "colab_type": "code",
        "colab": {}
      },
      "source": [
        ""
      ],
      "execution_count": 0,
      "outputs": []
    },
    {
      "cell_type": "markdown",
      "metadata": {
        "id": "evWZKwEPxE2O",
        "colab_type": "text"
      },
      "source": [
        "* Load pandas DataFrame from the saved file in Excel"
      ]
    },
    {
      "cell_type": "code",
      "metadata": {
        "id": "xl7KUNVCxE2P",
        "colab_type": "code",
        "colab": {}
      },
      "source": [
        ""
      ],
      "execution_count": 0,
      "outputs": []
    },
    {
      "cell_type": "markdown",
      "metadata": {
        "id": "pAZISlqKxE2T",
        "colab_type": "text"
      },
      "source": [
        "### Common operations upon `DataFrames`\n",
        "See https://github.com/restrepo/PythonTipsAndTricks"
      ]
    },
    {
      "cell_type": "markdown",
      "metadata": {
        "id": "IBgQ8cojxE2U",
        "colab_type": "text"
      },
      "source": [
        "* __To fill a specific cell__"
      ]
    },
    {
      "cell_type": "code",
      "metadata": {
        "id": "a00HZIQhxE2V",
        "colab_type": "code",
        "colab": {}
      },
      "source": [
        "df.loc[0,'Company']='Federación de Caferos'"
      ],
      "execution_count": 0,
      "outputs": []
    },
    {
      "cell_type": "code",
      "metadata": {
        "id": "g6f2psm3xE2X",
        "colab_type": "code",
        "colab": {},
        "outputId": "888e8cee-6bfd-4313-86ed-2d7eeead7579"
      },
      "source": [
        "df"
      ],
      "execution_count": 0,
      "outputs": [
        {
          "output_type": "execute_result",
          "data": {
            "text/html": [
              "<div>\n",
              "<table border=\"1\" class=\"dataframe\">\n",
              "  <thead>\n",
              "    <tr style=\"text-align: right;\">\n",
              "      <th></th>\n",
              "      <th>Age</th>\n",
              "      <th>Nacionality</th>\n",
              "      <th>Name</th>\n",
              "      <th>Company</th>\n",
              "    </tr>\n",
              "  </thead>\n",
              "  <tbody>\n",
              "    <tr>\n",
              "      <th>0</th>\n",
              "      <td>23.0</td>\n",
              "      <td>Colombia</td>\n",
              "      <td>Juan Valdez</td>\n",
              "      <td>Federación de Caferos</td>\n",
              "    </tr>\n",
              "  </tbody>\n",
              "</table>\n",
              "</div>"
            ],
            "text/plain": [
              "    Age Nacionality         Name                Company\n",
              "0  23.0    Colombia  Juan Valdez  Federación de Caferos"
            ]
          },
          "metadata": {
            "tags": []
          },
          "execution_count": 40
        }
      ]
    },
    {
      "cell_type": "markdown",
      "metadata": {
        "id": "rzAKwxQhxE2a",
        "colab_type": "text"
      },
      "source": [
        "## Other formats to saving and read files"
      ]
    },
    {
      "cell_type": "code",
      "metadata": {
        "id": "90PSoWzUxE2b",
        "colab_type": "code",
        "colab": {}
      },
      "source": [
        "df.to_csv('hoja.csv',index=False)"
      ],
      "execution_count": 0,
      "outputs": []
    },
    {
      "cell_type": "markdown",
      "metadata": {
        "id": "uRzCO19HxE2e",
        "colab_type": "text"
      },
      "source": [
        "## Loading data from the clouds\n",
        "See: https://github.com/kennethreitz/python-guide"
      ]
    },
    {
      "cell_type": "code",
      "metadata": {
        "id": "OFkE17oRxE2f",
        "colab_type": "code",
        "colab": {},
        "outputId": "fb7fa762-fd0c-43bf-acf3-07c81564ba2e"
      },
      "source": [
        "%%writefile drive.cfg\n",
        "[FILES]\n",
        "CIB_Wos.xlsx                                = 0BxoOXsn2EUNIRjJkQ1VEamdJXzA"
      ],
      "execution_count": 0,
      "outputs": [
        {
          "output_type": "stream",
          "text": [
            "Writing drive.cfg\n"
          ],
          "name": "stdout"
        }
      ]
    },
    {
      "cell_type": "markdown",
      "metadata": {
        "id": "pBDuz52OxE2i",
        "colab_type": "text"
      },
      "source": [
        "We follow the conventions of https://github.com/kennethreitz/python-guide"
      ]
    },
    {
      "cell_type": "code",
      "metadata": {
        "id": "7rMmc-atxE2i",
        "colab_type": "code",
        "colab": {}
      },
      "source": [
        "import os\n",
        "import sys\n",
        "sys.path.insert(0, os.path.abspath(os.path.join(os.path.dirname('__file__'), '../input')))\n",
        "from google_drive_tools import *"
      ],
      "execution_count": 0,
      "outputs": []
    },
    {
      "cell_type": "code",
      "metadata": {
        "id": "T6-BNqA2xE2l",
        "colab_type": "code",
        "colab": {}
      },
      "source": [
        "df=read_drive_excel('CIB_Wos.xlsx')"
      ],
      "execution_count": 0,
      "outputs": []
    },
    {
      "cell_type": "markdown",
      "metadata": {
        "id": "IbWUExYaxE2o",
        "colab_type": "text"
      },
      "source": [
        "Vea el tamaño del DataFrame"
      ]
    },
    {
      "cell_type": "code",
      "metadata": {
        "id": "qRjacy_JxE2p",
        "colab_type": "code",
        "colab": {},
        "outputId": "6f8b5d34-dd3f-44c3-d89a-b46d086df5da"
      },
      "source": [
        "df.shape"
      ],
      "execution_count": 0,
      "outputs": [
        {
          "output_type": "execute_result",
          "data": {
            "text/plain": [
              "(415, 58)"
            ]
          },
          "metadata": {
            "tags": []
          },
          "execution_count": 30
        }
      ]
    },
    {
      "cell_type": "code",
      "metadata": {
        "id": "gAiQ1mTWxE2s",
        "colab_type": "code",
        "colab": {},
        "outputId": "be4d8a5d-07f5-4974-9fa4-3f74d2d9a86a"
      },
      "source": [
        "df.sample()"
      ],
      "execution_count": 0,
      "outputs": [
        {
          "output_type": "execute_result",
          "data": {
            "text/html": [
              "<div>\n",
              "<table border=\"1\" class=\"dataframe\">\n",
              "  <thead>\n",
              "    <tr style=\"text-align: right;\">\n",
              "      <th></th>\n",
              "      <th>AB</th>\n",
              "      <th>AF</th>\n",
              "      <th>AU</th>\n",
              "      <th>BP</th>\n",
              "      <th>C1</th>\n",
              "      <th>CR</th>\n",
              "      <th>DE</th>\n",
              "      <th>DI</th>\n",
              "      <th>DT</th>\n",
              "      <th>EI</th>\n",
              "      <th>...</th>\n",
              "      <th>SU</th>\n",
              "      <th>CA</th>\n",
              "      <th>MA</th>\n",
              "      <th>PN</th>\n",
              "      <th>BE</th>\n",
              "      <th>BN</th>\n",
              "      <th>D2</th>\n",
              "      <th>SE</th>\n",
              "      <th>SP</th>\n",
              "      <th>HO</th>\n",
              "    </tr>\n",
              "  </thead>\n",
              "  <tbody>\n",
              "    <tr>\n",
              "      <th>171</th>\n",
              "      <td>Background and aim: The involvement of Toll-li...</td>\n",
              "      <td>Castiblanco, John\\nVarela, Diana-Cristina\\nCas...</td>\n",
              "      <td>Castiblanco, J\\nVarela, DC\\nCastano-Rodriguez,...</td>\n",
              "      <td>541\\n</td>\n",
              "      <td>[Castiblanco, John; Varela, Diana-Cristina; Ca...</td>\n",
              "      <td>Anaya JM, 2006, CLIN DEV IMMUNOL, V13, P185, D...</td>\n",
              "      <td>TIRAP; Mal; Tuberculosis; Systemic lupus eryth...</td>\n",
              "      <td>10.1016/j.meegid.2008.03.001\\n</td>\n",
              "      <td>Article\\n</td>\n",
              "      <td>NaN</td>\n",
              "      <td>...</td>\n",
              "      <td>NaN</td>\n",
              "      <td>NaN</td>\n",
              "      <td>NaN</td>\n",
              "      <td>NaN</td>\n",
              "      <td>NaN</td>\n",
              "      <td>NaN</td>\n",
              "      <td>NaN</td>\n",
              "      <td>NaN</td>\n",
              "      <td>NaN</td>\n",
              "      <td>NaN</td>\n",
              "    </tr>\n",
              "  </tbody>\n",
              "</table>\n",
              "<p>1 rows × 58 columns</p>\n",
              "</div>"
            ],
            "text/plain": [
              "                                                    AB  \\\n",
              "171  Background and aim: The involvement of Toll-li...   \n",
              "\n",
              "                                                    AF  \\\n",
              "171  Castiblanco, John\\nVarela, Diana-Cristina\\nCas...   \n",
              "\n",
              "                                                    AU     BP  \\\n",
              "171  Castiblanco, J\\nVarela, DC\\nCastano-Rodriguez,...  541\\n   \n",
              "\n",
              "                                                    C1  \\\n",
              "171  [Castiblanco, John; Varela, Diana-Cristina; Ca...   \n",
              "\n",
              "                                                    CR  \\\n",
              "171  Anaya JM, 2006, CLIN DEV IMMUNOL, V13, P185, D...   \n",
              "\n",
              "                                                    DE  \\\n",
              "171  TIRAP; Mal; Tuberculosis; Systemic lupus eryth...   \n",
              "\n",
              "                                 DI         DT   EI ...    SU   CA   MA   PN  \\\n",
              "171  10.1016/j.meegid.2008.03.001\\n  Article\\n  NaN ...   NaN  NaN  NaN  NaN   \n",
              "\n",
              "      BE   BN   D2   SE   SP   HO  \n",
              "171  NaN  NaN  NaN  NaN  NaN  NaN  \n",
              "\n",
              "[1 rows x 58 columns]"
            ]
          },
          "metadata": {
            "tags": []
          },
          "execution_count": 31
        }
      ]
    },
    {
      "cell_type": "code",
      "metadata": {
        "id": "m_ysLwE3xE2x",
        "colab_type": "code",
        "colab": {}
      },
      "source": [
        "df=df.fillna('')"
      ],
      "execution_count": 0,
      "outputs": []
    },
    {
      "cell_type": "code",
      "metadata": {
        "id": "Y-M_lRL0xE20",
        "colab_type": "code",
        "colab": {},
        "outputId": "44509db1-4410-4c0c-9f28-c0569e7ddc7a"
      },
      "source": [
        "df.sample()"
      ],
      "execution_count": 0,
      "outputs": [
        {
          "output_type": "execute_result",
          "data": {
            "text/html": [
              "<div>\n",
              "<table border=\"1\" class=\"dataframe\">\n",
              "  <thead>\n",
              "    <tr style=\"text-align: right;\">\n",
              "      <th></th>\n",
              "      <th>AB</th>\n",
              "      <th>AF</th>\n",
              "      <th>AU</th>\n",
              "      <th>BP</th>\n",
              "      <th>C1</th>\n",
              "      <th>CR</th>\n",
              "      <th>DE</th>\n",
              "      <th>DI</th>\n",
              "      <th>DT</th>\n",
              "      <th>EI</th>\n",
              "      <th>...</th>\n",
              "      <th>SU</th>\n",
              "      <th>CA</th>\n",
              "      <th>MA</th>\n",
              "      <th>PN</th>\n",
              "      <th>BE</th>\n",
              "      <th>BN</th>\n",
              "      <th>D2</th>\n",
              "      <th>SE</th>\n",
              "      <th>SP</th>\n",
              "      <th>HO</th>\n",
              "    </tr>\n",
              "  </thead>\n",
              "  <tbody>\n",
              "    <tr>\n",
              "      <th>178</th>\n",
              "      <td>Background. Invasive fungal diseases are impor...</td>\n",
              "      <td>De Pauw, Ben\\nWalsh, Thomas J.\\nDonnelly, J. P...</td>\n",
              "      <td>De Pauw, B\\nWalsh, TJ\\nDonnelly, JP\\nStevens, ...</td>\n",
              "      <td>1813\\n</td>\n",
              "      <td>[Donnelly, J. Peter] Radboud Univ Nijmegen, Me...</td>\n",
              "      <td>Ascioglu S, 2002, CLIN INFECT DIS, V34, P7, DO...</td>\n",
              "      <td></td>\n",
              "      <td>10.1086/588660\\n</td>\n",
              "      <td>Article\\n</td>\n",
              "      <td></td>\n",
              "      <td>...</td>\n",
              "      <td></td>\n",
              "      <td></td>\n",
              "      <td></td>\n",
              "      <td></td>\n",
              "      <td></td>\n",
              "      <td></td>\n",
              "      <td></td>\n",
              "      <td></td>\n",
              "      <td></td>\n",
              "      <td></td>\n",
              "    </tr>\n",
              "  </tbody>\n",
              "</table>\n",
              "<p>1 rows × 58 columns</p>\n",
              "</div>"
            ],
            "text/plain": [
              "                                                    AB  \\\n",
              "178  Background. Invasive fungal diseases are impor...   \n",
              "\n",
              "                                                    AF  \\\n",
              "178  De Pauw, Ben\\nWalsh, Thomas J.\\nDonnelly, J. P...   \n",
              "\n",
              "                                                    AU      BP  \\\n",
              "178  De Pauw, B\\nWalsh, TJ\\nDonnelly, JP\\nStevens, ...  1813\\n   \n",
              "\n",
              "                                                    C1  \\\n",
              "178  [Donnelly, J. Peter] Radboud Univ Nijmegen, Me...   \n",
              "\n",
              "                                                    CR DE                DI  \\\n",
              "178  Ascioglu S, 2002, CLIN INFECT DIS, V34, P7, DO...     10.1086/588660\\n   \n",
              "\n",
              "            DT EI ... SU CA MA PN BE BN D2 SE SP  HO  \n",
              "178  Article\\n    ...                                 \n",
              "\n",
              "[1 rows x 58 columns]"
            ]
          },
          "metadata": {
            "tags": []
          },
          "execution_count": 33
        }
      ]
    },
    {
      "cell_type": "markdown",
      "metadata": {
        "collapsed": true,
        "id": "D7SNm2ABxE22",
        "colab_type": "text"
      },
      "source": [
        "##  ACTIVITIES\n",
        "See:\n",
        "* https://github.com/ajcr/100-pandas-puzzles\n",
        "* https://github.com/guipsamora/pandas_exercises"
      ]
    },
    {
      "cell_type": "markdown",
      "metadata": {
        "collapsed": true,
        "id": "fWjYdB7LxE23",
        "colab_type": "text"
      },
      "source": [
        "## Final remarks\n",
        "With basic scripting and Pandas we already have a solid environment to analyse data. We introduce the other libraries motivated with the extending the capabilities of Pandas"
      ]
    },
    {
      "cell_type": "code",
      "metadata": {
        "id": "erRi7J01xE24",
        "colab_type": "code",
        "colab": {}
      },
      "source": [
        ""
      ],
      "execution_count": 0,
      "outputs": []
    }
  ]
}