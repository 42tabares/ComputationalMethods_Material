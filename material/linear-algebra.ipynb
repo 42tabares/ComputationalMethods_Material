{
  "nbformat": 4,
  "nbformat_minor": 0,
  "metadata": {
    "colab": {
      "name": "linear-algebra.ipynb",
      "version": "0.3.2",
      "provenance": [],
      "include_colab_link": true
    },
    "kernelspec": {
      "display_name": "Python 3",
      "language": "python",
      "name": "python3"
    }
  },
  "cells": [
    {
      "cell_type": "markdown",
      "metadata": {
        "id": "view-in-github",
        "colab_type": "text"
      },
      "source": [
        "[View in Colaboratory](https://colab.research.google.com/github/restrepo/ComputationalMethods/blob/master/material/linear-algebra.ipynb)"
      ]
    },
    {
      "metadata": {
        "id": "wNc9QP1rZeic",
        "colab_type": "text"
      },
      "cell_type": "markdown",
      "source": [
        "# Linear Algebra"
      ]
    },
    {
      "metadata": {
        "id": "fhswjPcoZeii",
        "colab_type": "text"
      },
      "cell_type": "markdown",
      "source": [
        "Linear Algebra is a discipline where vector spaces and linear mapping between them are studied. In physics and astronomy, several phenomena can be readily written in terms of linear variables, what makes Computational Linear Algebra a very important topic to be covered throughout this course. We shall cover linear systems of equations, techniques for calculating inverses and determinants and factorization methods.\n",
        "\n",
        "An interesting fact of Computational Linear Algebra is that it does not comprises numerical approaches as most of the methods are exact. The usage of a computer is then necessary because of the large number of calculations rather than the non-soluble nature of the problems. Numerical errors come then from round-off approximations.\n",
        "\n",
        "See: http://pages.cs.wisc.edu/~amos/412/lecture-notes/lecture14.pdf"
      ]
    },
    {
      "metadata": {
        "id": "ULYYCq7wZeik",
        "colab_type": "text"
      },
      "cell_type": "markdown",
      "source": [
        "- - -\n",
        "- [Linear Systems of Equations](#Linear-Systems-of-Equations) \n",
        "    - [Matrices and vectors](#Matrices-and-vectors)\n",
        "    - [Example 1](#Example-1)\n",
        "    - [Matrices in Python](#Matrices-in-Python)\n",
        "    - [Basic operations with matrices](#Basic-operations-with-matrices)\n",
        "- [Gaussian Elimination](#Gaussian-Elimination)\n",
        "    - [General Gaussian elimination](#General-Gaussian-elimination)\n",
        "    - [Computing time](#Computing-time)\n",
        "    - [Example 2](#Example-2)\n",
        "- [Matrix diagonalization](#Matrix-diagonalization)    \n",
        "- [Pivoting Strategies](#Pivoting-Strategies)\n",
        "    - [Partial pivoting](#Partial-pivoting)\n",
        "- [Matrix Inversion](#Matrix-Inversion)\n",
        "- [Determinant of a Matrix](#Determinant-of-a-Matrix)\n",
        "    - [Calculating determinants](#Calculating-determinants)\n",
        "    - [Computing time of determinants](#Computing-time-of-determinants)\n",
        "    - [Properties of determinants](#Properties-of-determinants)\n",
        "- [LU Factorization](#LU-Factorization)\n",
        "    - [Derivation of LU factorization](#Derivation-of-LU-factorization)\n",
        "    - [Algorithm for LU factorization](#Algorithm-for-LU-factorization)\n",
        "\n",
        "- - -"
      ]
    },
    {
      "metadata": {
        "id": "zHeRbVNLZein",
        "colab_type": "code",
        "colab": {
          "base_uri": "https://localhost:8080/",
          "height": 85
        },
        "outputId": "2d23ecbe-33fa-45b6-bf34-597fc2d1f3ac"
      },
      "cell_type": "code",
      "source": [
        "from IPython.display import HTML, Markdown, YouTubeVideo\n",
        "%pylab inline\n",
        "\n",
        "import numpy as np\n",
        "import matplotlib.pyplot as plt\n",
        "# JSAnimation import available at https://github.com/jakevdp/JSAnimation\n",
        "#from JSAnimation import IPython_display\n",
        "from matplotlib import animation\n",
        "#Interpolation add-on\n",
        "import scipy.interpolate as interp\n",
        "xrange=range"
      ],
      "execution_count": 6,
      "outputs": [
        {
          "output_type": "stream",
          "text": [
            "Populating the interactive namespace from numpy and matplotlib\n"
          ],
          "name": "stdout"
        },
        {
          "output_type": "stream",
          "text": [
            "/usr/local/lib/python3.6/dist-packages/IPython/core/magics/pylab.py:161: UserWarning: pylab import has clobbered these variables: ['interp', 'math']\n",
            "`%matplotlib` prevents importing * from pylab and numpy\n",
            "  \"\\n`%matplotlib` prevents importing * from pylab and numpy\"\n"
          ],
          "name": "stderr"
        }
      ]
    },
    {
      "metadata": {
        "id": "cGblhY5cjkkn",
        "colab_type": "text"
      },
      "cell_type": "markdown",
      "source": [
        "https://stackoverflow.com/a/50748163"
      ]
    },
    {
      "metadata": {
        "id": "PN-gs8KujNXK",
        "colab_type": "code",
        "colab": {}
      },
      "cell_type": "code",
      "source": [
        "try:\n",
        "    from google.colab.output._publish import javascript\n",
        "    from IPython.display import Math as math\n",
        "    from IPython.display import Latex as latex\n",
        "    url = \"https://cdnjs.cloudflare.com/ajax/libs/mathjax/2.7.3/latest.js?config=default\"\n",
        "    def Math(*args,**kwargs):\n",
        "        javascript(url=url)\n",
        "        return math(*args,**kwargs)\n",
        "    def Latex(*args,**kwargs):\n",
        "        #print(args[0].replace('$',''))\n",
        "        javascript(url=url)\n",
        "        return math(args[0],**kwargs)\n",
        "except:\n",
        "    from IPython.display import Math, Latex\n",
        "\n"
      ],
      "execution_count": 0,
      "outputs": []
    },
    {
      "metadata": {
        "id": "RBJnj7gMZei1",
        "colab_type": "text"
      },
      "cell_type": "markdown",
      "source": [
        "- - - "
      ]
    },
    {
      "metadata": {
        "id": "6jt5J-u-ZejE",
        "colab_type": "text"
      },
      "cell_type": "markdown",
      "source": [
        "# Matrices in Python"
      ]
    },
    {
      "metadata": {
        "id": "0UZDvo9VZejG",
        "colab_type": "text"
      },
      "cell_type": "markdown",
      "source": [
        "One of the most useful advantages of high level languages like Python, is the manipulation of complex objects like matrices and vectors. For this part we are going to use advanced capabilities for handling matrices, provided by the library NumPy.\n",
        "\n",
        "NumPy, besides the extreme useful NumPy array objects, also provides the Matrix objects that are overloaded with proper matrix operations.\n",
        "\n",
        "### Numpy arrays\n",
        "* A matrix can be represented by a $2\\times2$ array"
      ]
    },
    {
      "metadata": {
        "id": "5f_bgxEXZejI",
        "colab_type": "code",
        "colab": {
          "base_uri": "https://localhost:8080/",
          "height": 170
        },
        "outputId": "8f86558b-1232-40b4-a626-08940c0d0f47"
      },
      "cell_type": "code",
      "source": [
        "#NumPy Arrays\n",
        "M1 = np.array( [[5,-4,0],[-4,7,-3],[0,-3,5]] )\n",
        "M2 = np.array( [[3,-2,1],[-1,5,4],[1,-2,3]] )\n",
        "print( 'M1=\\n{}, with shape={},\\n\\nM2=\\n{}'.format(M1,M1.shape,M2) )"
      ],
      "execution_count": 0,
      "outputs": [
        {
          "output_type": "stream",
          "text": [
            "M1=\n",
            "[[ 5 -4  0]\n",
            " [-4  7 -3]\n",
            " [ 0 -3  5]], with shape=(3, 3),\n",
            "\n",
            "M2=\n",
            "[[ 3 -2  1]\n",
            " [-1  5  4]\n",
            " [ 1 -2  3]]\n"
          ],
          "name": "stdout"
        }
      ]
    },
    {
      "metadata": {
        "id": "tfkDRtrKZejO",
        "colab_type": "text"
      },
      "cell_type": "markdown",
      "source": [
        "#### Special arrays:\n",
        "Let $n$ the range of the matrix\n",
        "* zero matrix"
      ]
    },
    {
      "metadata": {
        "id": "cbSjMN7MZejQ",
        "colab_type": "code",
        "colab": {
          "base_uri": "https://localhost:8080/",
          "height": 70
        },
        "outputId": "24a86d40-f74d-407e-cc09-e89cfd0119e6"
      },
      "cell_type": "code",
      "source": [
        "n=3\n",
        "np.zeros( (n,n) )"
      ],
      "execution_count": 0,
      "outputs": [
        {
          "output_type": "execute_result",
          "data": {
            "text/plain": [
              "array([[0., 0., 0.],\n",
              "       [0., 0., 0.],\n",
              "       [0., 0., 0.]])"
            ]
          },
          "metadata": {
            "tags": []
          },
          "execution_count": 4
        }
      ]
    },
    {
      "metadata": {
        "id": "Ydajo9uWZejY",
        "colab_type": "text"
      },
      "cell_type": "markdown",
      "source": [
        "* Ones matrix"
      ]
    },
    {
      "metadata": {
        "id": "-CCDfyscZeja",
        "colab_type": "code",
        "colab": {
          "base_uri": "https://localhost:8080/",
          "height": 70
        },
        "outputId": "0b3eca8b-9fdd-4a32-f7e2-29d37ca6226a"
      },
      "cell_type": "code",
      "source": [
        "np.ones( (n,n) )"
      ],
      "execution_count": 0,
      "outputs": [
        {
          "output_type": "execute_result",
          "data": {
            "text/plain": [
              "array([[1., 1., 1.],\n",
              "       [1., 1., 1.],\n",
              "       [1., 1., 1.]])"
            ]
          },
          "metadata": {
            "tags": []
          },
          "execution_count": 5
        }
      ]
    },
    {
      "metadata": {
        "id": "xKOD1f5tZejk",
        "colab_type": "code",
        "colab": {
          "base_uri": "https://localhost:8080/",
          "height": 70
        },
        "outputId": "e90f52ef-2684-4ca7-da79-2a6cb27d7a5e"
      },
      "cell_type": "code",
      "source": [
        "np.ones( (n,n) )*1j"
      ],
      "execution_count": 0,
      "outputs": [
        {
          "output_type": "execute_result",
          "data": {
            "text/plain": [
              "array([[0.+1.j, 0.+1.j, 0.+1.j],\n",
              "       [0.+1.j, 0.+1.j, 0.+1.j],\n",
              "       [0.+1.j, 0.+1.j, 0.+1.j]])"
            ]
          },
          "metadata": {
            "tags": []
          },
          "execution_count": 6
        }
      ]
    },
    {
      "metadata": {
        "id": "Vgj_gCHvZej0",
        "colab_type": "text"
      },
      "cell_type": "markdown",
      "source": [
        "* Identity matrix"
      ]
    },
    {
      "metadata": {
        "id": "KuqUJhKkZej5",
        "colab_type": "code",
        "colab": {
          "base_uri": "https://localhost:8080/",
          "height": 70
        },
        "outputId": "e4506e55-0081-4769-ce46-5187127e8bf6"
      },
      "cell_type": "code",
      "source": [
        "np.identity(n)"
      ],
      "execution_count": 0,
      "outputs": [
        {
          "output_type": "execute_result",
          "data": {
            "text/plain": [
              "array([[1., 0., 0.],\n",
              "       [0., 1., 0.],\n",
              "       [0., 0., 1.]])"
            ]
          },
          "metadata": {
            "tags": []
          },
          "execution_count": 8
        }
      ]
    },
    {
      "metadata": {
        "id": "gMVeIF-ZZekA",
        "colab_type": "text"
      },
      "cell_type": "markdown",
      "source": [
        "* Random matrix witn entries between 0 and 1"
      ]
    },
    {
      "metadata": {
        "id": "7Y27DY_oZekG",
        "colab_type": "code",
        "colab": {
          "base_uri": "https://localhost:8080/",
          "height": 70
        },
        "outputId": "51b240a0-bd1a-48ac-83be-513979aa18e5"
      },
      "cell_type": "code",
      "source": [
        "np.random.random((n,n))"
      ],
      "execution_count": 0,
      "outputs": [
        {
          "output_type": "execute_result",
          "data": {
            "text/plain": [
              "array([[0.15246997, 0.21330803, 0.39798629],\n",
              "       [0.55723196, 0.65425986, 0.98788403],\n",
              "       [0.20470415, 0.44188842, 0.05308407]])"
            ]
          },
          "metadata": {
            "tags": []
          },
          "execution_count": 11
        }
      ]
    },
    {
      "metadata": {
        "id": "4AFRo-kaZekL",
        "colab_type": "text"
      },
      "cell_type": "markdown",
      "source": [
        "* Integer Random matrix"
      ]
    },
    {
      "metadata": {
        "id": "HFWag9_gZekN",
        "colab_type": "code",
        "colab": {
          "base_uri": "https://localhost:8080/",
          "height": 70
        },
        "outputId": "a7dec97d-c23b-4f42-92bd-73cf52ee8326"
      },
      "cell_type": "code",
      "source": [
        "np.random.randint(0,10,(n,n)) #0 to 9"
      ],
      "execution_count": 0,
      "outputs": [
        {
          "output_type": "execute_result",
          "data": {
            "text/plain": [
              "array([[4, 1, 1],\n",
              "       [7, 8, 2],\n",
              "       [2, 7, 9]])"
            ]
          },
          "metadata": {
            "tags": []
          },
          "execution_count": 13
        }
      ]
    },
    {
      "metadata": {
        "id": "5rSf6mZlZekT",
        "colab_type": "text"
      },
      "cell_type": "markdown",
      "source": [
        "### Analytical matrices\n",
        "Some times it is necessary to work with analytical Matrix. In such a case we can use the symbolic module `Sympy`"
      ]
    },
    {
      "metadata": {
        "id": "XxBysGh4ZekU",
        "colab_type": "code",
        "colab": {}
      },
      "cell_type": "code",
      "source": [
        "import sympy\n",
        "x =sympy.Symbol('x') # declare analytical varibles\n",
        "sympy.init_printing() # Use LaTeX to print sympy obejects"
      ],
      "execution_count": 0,
      "outputs": []
    },
    {
      "metadata": {
        "id": "iqppd3mBZekb",
        "colab_type": "code",
        "colab": {
          "base_uri": "https://localhost:8080/",
          "height": 34
        },
        "outputId": "947d949d-2d56-46bc-9e8d-50c5e43a5234"
      },
      "cell_type": "code",
      "source": [
        "sympy.Matrix(M1)"
      ],
      "execution_count": 0,
      "outputs": [
        {
          "output_type": "execute_result",
          "data": {
            "text/latex": "$$\\left[\\begin{matrix}5 & -4 & 0\\\\-4 & 7 & -3\\\\0 & -3 & 5\\end{matrix}\\right]$$",
            "text/plain": [
              "⎡5   -4  0 ⎤\n",
              "⎢          ⎥\n",
              "⎢-4  7   -3⎥\n",
              "⎢          ⎥\n",
              "⎣0   -3  5 ⎦"
            ]
          },
          "metadata": {
            "tags": []
          },
          "execution_count": 32
        }
      ]
    },
    {
      "metadata": {
        "id": "YOx4-QiaZekn",
        "colab_type": "text"
      },
      "cell_type": "markdown",
      "source": [
        "In the following we will focus only in numerical matrices as `numpy` arrays, but also use `sympy` to print the matrices in a more readable way\n",
        "### Matrix operations (numpy)\n",
        "Both as functions or array's methods \n",
        "* Transpose"
      ]
    },
    {
      "metadata": {
        "id": "Gs672j4fZekp",
        "colab_type": "code",
        "colab": {},
        "outputId": "4c5d082e-ae34-4f0c-cc86-5d6e8dc582c1"
      },
      "cell_type": "code",
      "source": [
        "np.transpose (np.array( [3,4,5]) )"
      ],
      "execution_count": 0,
      "outputs": [
        {
          "output_type": "execute_result",
          "data": {
            "text/plain": [
              "array([3, 4, 5])"
            ]
          },
          "metadata": {
            "tags": []
          },
          "execution_count": 30
        }
      ]
    },
    {
      "metadata": {
        "id": "QMqnfkYGZekv",
        "colab_type": "code",
        "colab": {},
        "outputId": "d21ddead-7148-4b59-ab77-69f1e4a18b0a"
      },
      "cell_type": "code",
      "source": [
        "display( Math(r'M_2^{\\rm T}='))\n",
        "sympy.Matrix(M2.transpose())"
      ],
      "execution_count": 0,
      "outputs": [
        {
          "output_type": "display_data",
          "data": {
            "text/latex": "$$M_2^{\\rm T}=$$",
            "text/plain": [
              "<IPython.core.display.Math object>"
            ]
          },
          "metadata": {
            "tags": []
          }
        },
        {
          "output_type": "execute_result",
          "data": {
            "text/latex": "$$\\left[\\begin{matrix}3 & -1 & 1\\\\-2 & 5 & -2\\\\1 & 4 & 3\\end{matrix}\\right]$$",
            "text/plain": [
              "⎡3   -1  1 ⎤\n",
              "⎢          ⎥\n",
              "⎢-2  5   -2⎥\n",
              "⎢          ⎥\n",
              "⎣1   4   3 ⎦"
            ]
          },
          "metadata": {
            "tags": []
          },
          "execution_count": 31
        }
      ]
    },
    {
      "metadata": {
        "id": "aVPNFxHfZek5",
        "colab_type": "text"
      },
      "cell_type": "markdown",
      "source": [
        "* Matrix addition"
      ]
    },
    {
      "metadata": {
        "id": "tuXj_6GqZek5",
        "colab_type": "code",
        "colab": {},
        "outputId": "d3ab19f2-1762-4af8-8596-61acc13c9f3f"
      },
      "cell_type": "code",
      "source": [
        "sympy.Matrix( M1+M2 )"
      ],
      "execution_count": 0,
      "outputs": [
        {
          "output_type": "execute_result",
          "data": {
            "text/latex": "$$\\left[\\begin{matrix}8 & -6 & 1\\\\-5 & 12 & 1\\\\1 & -5 & 8\\end{matrix}\\right]$$",
            "text/plain": [
              "⎡8   -6  1⎤\n",
              "⎢         ⎥\n",
              "⎢-5  12  1⎥\n",
              "⎢         ⎥\n",
              "⎣1   -5  8⎦"
            ]
          },
          "metadata": {
            "tags": []
          },
          "execution_count": 11
        }
      ]
    },
    {
      "metadata": {
        "id": "1svJtjQgZelD",
        "colab_type": "text"
      },
      "cell_type": "markdown",
      "source": [
        "Complex arrays are allowed"
      ]
    },
    {
      "metadata": {
        "id": "hLK3EMWEZelF",
        "colab_type": "code",
        "colab": {},
        "outputId": "675bb8df-ca9c-47cb-a0eb-916e30c048aa"
      },
      "cell_type": "code",
      "source": [
        "Mc=M1+M2*1j\n",
        "sympy.Matrix( M1+M2*1j )"
      ],
      "execution_count": 0,
      "outputs": [
        {
          "output_type": "execute_result",
          "data": {
            "text/latex": "$$\\left[\\begin{matrix}5.0 + 3.0 i & -4.0 - 2.0 i & 1.0 i\\\\-4.0 - 1.0 i & 7.0 + 5.0 i & -3.0 + 4.0 i\\\\1.0 i & -3.0 - 2.0 i & 5.0 + 3.0 i\\end{matrix}\\right]$$",
            "text/plain": [
              "⎡5.0 + 3.0⋅ⅈ   -4.0 - 2.0⋅ⅈ     1.0⋅ⅈ    ⎤\n",
              "⎢                                        ⎥\n",
              "⎢-4.0 - 1.0⋅ⅈ  7.0 + 5.0⋅ⅈ   -3.0 + 4.0⋅ⅈ⎥\n",
              "⎢                                        ⎥\n",
              "⎣   1.0⋅ⅈ      -3.0 - 2.0⋅ⅈ  5.0 + 3.0⋅ⅈ ⎦"
            ]
          },
          "metadata": {
            "tags": []
          },
          "execution_count": 13
        }
      ]
    },
    {
      "metadata": {
        "id": "ZWcRwqnmZelK",
        "colab_type": "text"
      },
      "cell_type": "markdown",
      "source": [
        "with the corresponding complex matrix operations"
      ]
    },
    {
      "metadata": {
        "id": "TrrfJp2jZelL",
        "colab_type": "code",
        "colab": {},
        "outputId": "574c47d3-0eb7-4fc6-8364-cb9c3755842c"
      },
      "cell_type": "code",
      "source": [
        "display ( sympy.Matrix(  Mc.conjugate() ) )\n",
        "display ( sympy.Matrix(  Mc.conjugate().transpose() ) )"
      ],
      "execution_count": 0,
      "outputs": [
        {
          "output_type": "display_data",
          "data": {
            "text/latex": "$$\\left[\\begin{matrix}5.0 - 3.0 i & -4.0 + 2.0 i & - 1.0 i\\\\-4.0 + 1.0 i & 7.0 - 5.0 i & -3.0 - 4.0 i\\\\- 1.0 i & -3.0 + 2.0 i & 5.0 - 3.0 i\\end{matrix}\\right]$$",
            "text/plain": [
              "⎡5.0 - 3.0⋅ⅈ   -4.0 + 2.0⋅ⅈ     -1.0⋅ⅈ   ⎤\n",
              "⎢                                        ⎥\n",
              "⎢-4.0 + 1.0⋅ⅈ  7.0 - 5.0⋅ⅈ   -3.0 - 4.0⋅ⅈ⎥\n",
              "⎢                                        ⎥\n",
              "⎣   -1.0⋅ⅈ     -3.0 + 2.0⋅ⅈ  5.0 - 3.0⋅ⅈ ⎦"
            ]
          },
          "metadata": {
            "tags": []
          }
        },
        {
          "output_type": "display_data",
          "data": {
            "text/latex": "$$\\left[\\begin{matrix}5.0 - 3.0 i & -4.0 + 1.0 i & - 1.0 i\\\\-4.0 + 2.0 i & 7.0 - 5.0 i & -3.0 + 2.0 i\\\\- 1.0 i & -3.0 - 4.0 i & 5.0 - 3.0 i\\end{matrix}\\right]$$",
            "text/plain": [
              "⎡5.0 - 3.0⋅ⅈ   -4.0 + 1.0⋅ⅈ     -1.0⋅ⅈ   ⎤\n",
              "⎢                                        ⎥\n",
              "⎢-4.0 + 2.0⋅ⅈ  7.0 - 5.0⋅ⅈ   -3.0 + 2.0⋅ⅈ⎥\n",
              "⎢                                        ⎥\n",
              "⎣   -1.0⋅ⅈ     -3.0 - 4.0⋅ⅈ  5.0 - 3.0⋅ⅈ ⎦"
            ]
          },
          "metadata": {
            "tags": []
          }
        }
      ]
    },
    {
      "metadata": {
        "id": "p9FLKGt7ZelP",
        "colab_type": "text"
      },
      "cell_type": "markdown",
      "source": [
        "* Matrix multiplication\n",
        "![MP](https://upload.wikimedia.org/wikipedia/commons/thumb/e/eb/Matrix_multiplication_diagram_2.svg/200px-Matrix_multiplication_diagram_2.svg.png)"
      ]
    },
    {
      "metadata": {
        "id": "4zqQDuSBZelQ",
        "colab_type": "code",
        "colab": {},
        "outputId": "5872a3f2-ed9e-4b5c-c7c1-85843700a443"
      },
      "cell_type": "code",
      "source": [
        "#Multiplication\n",
        "sympy.Matrix ( np.dot( M1, M2 ) ) "
      ],
      "execution_count": 0,
      "outputs": [
        {
          "output_type": "execute_result",
          "data": {
            "text/latex": "$$\\left[\\begin{matrix}19 & -30 & -11\\\\-22 & 49 & 15\\\\8 & -25 & 3\\end{matrix}\\right]$$",
            "text/plain": [
              "⎡19   -30  -11⎤\n",
              "⎢             ⎥\n",
              "⎢-22  49   15 ⎥\n",
              "⎢             ⎥\n",
              "⎣ 8   -25   3 ⎦"
            ]
          },
          "metadata": {
            "tags": []
          },
          "execution_count": 52
        }
      ]
    },
    {
      "metadata": {
        "id": "iOMa5hV9ZelX",
        "colab_type": "text"
      },
      "cell_type": "markdown",
      "source": [
        "* Inverse"
      ]
    },
    {
      "metadata": {
        "id": "A15yIsCIZelY",
        "colab_type": "code",
        "colab": {},
        "outputId": "b324d7f9-567c-4f02-ef12-cc33bfb5f6d8"
      },
      "cell_type": "code",
      "source": [
        "σ_2=np.array([[0,-1j],[1j,0]])\n",
        "σ_2"
      ],
      "execution_count": 0,
      "outputs": [
        {
          "output_type": "execute_result",
          "data": {
            "text/plain": [
              "array([[ 0.+0.j, -0.-1.j],\n",
              "       [ 0.+1.j,  0.+0.j]])"
            ]
          },
          "metadata": {
            "tags": []
          },
          "execution_count": 88
        }
      ]
    },
    {
      "metadata": {
        "id": "KBsxGjj8Zele",
        "colab_type": "text"
      },
      "cell_type": "markdown",
      "source": [
        "* Trace"
      ]
    },
    {
      "metadata": {
        "id": "BeBa5q51Zele",
        "colab_type": "code",
        "colab": {},
        "outputId": "12624849-ed49-4f70-d811-d5f6e0485af3"
      },
      "cell_type": "code",
      "source": [
        "np.trace(σ_2)"
      ],
      "execution_count": 0,
      "outputs": [
        {
          "output_type": "execute_result",
          "data": {
            "text/plain": [
              "0j"
            ]
          },
          "metadata": {
            "tags": []
          },
          "execution_count": 90
        }
      ]
    },
    {
      "metadata": {
        "id": "dSP1p2ggZelh",
        "colab_type": "text"
      },
      "cell_type": "markdown",
      "source": [
        "* Determinant"
      ]
    },
    {
      "metadata": {
        "id": "MCQFjjTrZeli",
        "colab_type": "code",
        "colab": {},
        "outputId": "d95b9d3f-2527-4356-cf1d-d35a72f89699"
      },
      "cell_type": "code",
      "source": [
        "np.linalg.det(σ_2)"
      ],
      "execution_count": 0,
      "outputs": [
        {
          "output_type": "execute_result",
          "data": {
            "text/plain": [
              "(-1+0j)"
            ]
          },
          "metadata": {
            "tags": []
          },
          "execution_count": 95
        }
      ]
    },
    {
      "metadata": {
        "id": "sJH3W0TfZelp",
        "colab_type": "code",
        "colab": {},
        "outputId": "97a148b8-230b-4280-ec62-b0de17a81130"
      },
      "cell_type": "code",
      "source": [
        "sympy.Matrix ( np.linalg.matrix_power(σ_2,2) )"
      ],
      "execution_count": 0,
      "outputs": [
        {
          "output_type": "execute_result",
          "data": {
            "text/latex": "$$\\left[\\begin{matrix}1.0 & 0\\\\0 & 1.0\\end{matrix}\\right]$$",
            "text/plain": [
              "⎡1.0   0 ⎤\n",
              "⎢        ⎥\n",
              "⎣ 0   1.0⎦"
            ]
          },
          "metadata": {
            "tags": []
          },
          "execution_count": 96
        }
      ]
    },
    {
      "metadata": {
        "id": "Mjd3qIWSZelv",
        "colab_type": "code",
        "colab": {}
      },
      "cell_type": "code",
      "source": [
        "\n",
        "np.linalg.matrix_power?"
      ],
      "execution_count": 0,
      "outputs": []
    },
    {
      "metadata": {
        "id": "O0phiCrXZely",
        "colab_type": "code",
        "colab": {},
        "outputId": "1c88fe11-5da9-4043-ed60-8e3e2c1db493"
      },
      "cell_type": "code",
      "source": [
        "sympy.Matrix( np.linalg.inv(M2) )"
      ],
      "execution_count": 0,
      "outputs": [
        {
          "output_type": "execute_result",
          "data": {
            "text/latex": "$$\\left[\\begin{matrix}0.442307692307692 & 0.0769230769230769 & -0.25\\\\0.134615384615385 & 0.153846153846154 & -0.25\\\\-0.0576923076923077 & 0.0769230769230769 & 0.25\\end{matrix}\\right]$$",
            "text/plain": [
              "⎡ 0.442307692307692   0.0769230769230769  -0.25⎤\n",
              "⎢                                              ⎥\n",
              "⎢ 0.134615384615385   0.153846153846154   -0.25⎥\n",
              "⎢                                              ⎥\n",
              "⎣-0.0576923076923077  0.0769230769230769  0.25 ⎦"
            ]
          },
          "metadata": {
            "tags": []
          },
          "execution_count": 97
        }
      ]
    },
    {
      "metadata": {
        "id": "EI_wA4MZZel3",
        "colab_type": "text"
      },
      "cell_type": "markdown",
      "source": [
        "such that"
      ]
    },
    {
      "metadata": {
        "id": "AuqAO3WHZel4",
        "colab_type": "code",
        "colab": {}
      },
      "cell_type": "code",
      "source": [
        "x=3.2534"
      ],
      "execution_count": 0,
      "outputs": []
    },
    {
      "metadata": {
        "id": "fv3rAv75Zel6",
        "colab_type": "code",
        "colab": {},
        "outputId": "ab792c4c-9048-4618-c65c-5b7996b4d465"
      },
      "cell_type": "code",
      "source": [
        "round(x,1)"
      ],
      "execution_count": 0,
      "outputs": [
        {
          "output_type": "execute_result",
          "data": {
            "image/png": "[encoded data removed]",
            "text/latex": "$$3.2$$",
            "text/plain": [
              "3.2"
            ]
          },
          "metadata": {
            "tags": []
          },
          "execution_count": 102
        }
      ]
    },
    {
      "metadata": {
        "id": "B-UIzwJCZemG",
        "colab_type": "code",
        "colab": {},
        "outputId": "39552c90-2194-4de6-f740-ce64402e86e1"
      },
      "cell_type": "code",
      "source": [
        "np.dot( M2,np.linalg.inv(M2)).round(16).astype(int)"
      ],
      "execution_count": 0,
      "outputs": [
        {
          "output_type": "execute_result",
          "data": {
            "text/plain": [
              "array([[1, 0, 0],\n",
              "       [0, 1, 0],\n",
              "       [0, 0, 1]])"
            ]
          },
          "metadata": {
            "tags": []
          },
          "execution_count": 105
        }
      ]
    },
    {
      "metadata": {
        "id": "4Z6r_5RFZemL",
        "colab_type": "code",
        "colab": {},
        "outputId": "0294fb49-581e-470a-b34d-12e37653eabb"
      },
      "cell_type": "code",
      "source": [
        "sympy.Matrix ( np.dot( M2,np.linalg.inv(M2) ).round(14).astype(int) )"
      ],
      "execution_count": 0,
      "outputs": [
        {
          "output_type": "execute_result",
          "data": {
            "text/latex": "$$\\left[\\begin{matrix}1 & 0 & 0\\\\0 & 1 & 0\\\\0 & 0 & 1\\end{matrix}\\right]$$",
            "text/plain": [
              "⎡1  0  0⎤\n",
              "⎢       ⎥\n",
              "⎢0  1  0⎥\n",
              "⎢       ⎥\n",
              "⎣0  0  1⎦"
            ]
          },
          "metadata": {
            "tags": []
          },
          "execution_count": 106
        }
      ]
    },
    {
      "metadata": {
        "id": "F9oa0NBZZemN",
        "colab_type": "text"
      },
      "cell_type": "markdown",
      "source": [
        "* Eentry by entry operations"
      ]
    },
    {
      "metadata": {
        "id": "TIGu3voBZemO",
        "colab_type": "code",
        "colab": {},
        "outputId": "bd46c222-6254-4224-ee85-ceaa96e191c4"
      },
      "cell_type": "code",
      "source": [
        "M1*M2"
      ],
      "execution_count": 0,
      "outputs": [
        {
          "output_type": "execute_result",
          "data": {
            "text/plain": [
              "array([[ 15,   8,   0],\n",
              "       [  4,  35, -12],\n",
              "       [  0,   6,  15]])"
            ]
          },
          "metadata": {
            "tags": []
          },
          "execution_count": 24
        }
      ]
    },
    {
      "metadata": {
        "id": "XJDZsR63ZemS",
        "colab_type": "code",
        "colab": {},
        "outputId": "00a79894-8864-49d7-f658-342f8db5535a"
      },
      "cell_type": "code",
      "source": [
        "M1[0]"
      ],
      "execution_count": 0,
      "outputs": [
        {
          "output_type": "execute_result",
          "data": {
            "text/plain": [
              "array([ 5, -4,  0])"
            ]
          },
          "metadata": {
            "tags": []
          },
          "execution_count": 11
        }
      ]
    },
    {
      "metadata": {
        "id": "uJp7UV6jZemW",
        "colab_type": "code",
        "colab": {},
        "outputId": "2c94ccc2-c103-41b2-9fb9-6d729001a23a"
      },
      "cell_type": "code",
      "source": [
        "#Division\n",
        "print 1.0*M1/M2"
      ],
      "execution_count": 0,
      "outputs": [
        {
          "output_type": "stream",
          "text": [
            "[[ 1.66666667  2.          0.        ]\n",
            " [ 4.          1.4        -0.75      ]\n",
            " [ 0.          1.5         1.66666667]]\n"
          ],
          "name": "stdout"
        }
      ]
    },
    {
      "metadata": {
        "id": "UGdC-tLyZemY",
        "colab_type": "text"
      },
      "cell_type": "markdown",
      "source": [
        "numpy also has a Matrix object with simplified operations. However it is recommended user the general array standard even for specific matrix operations, to avoid incompatibilities with usual array operations. For example, as shown below the multiplication symbol, `*`, behaves different for arrays that for matrices, and could induce to errors. "
      ]
    },
    {
      "metadata": {
        "id": "hLihVr9xZemZ",
        "colab_type": "code",
        "colab": {},
        "outputId": "6fe793a7-e322-4f43-b68c-626d2783175c"
      },
      "cell_type": "code",
      "source": [
        "#NumPy Matrix\n",
        "M1 = np.matrix( [[5,-4,0],[-4,7,-3],[0,-3,5]] )\n",
        "M2 = np.matrix( [[3,-2,1],[-1,5,4],[1,-2,3]] )\n",
        "\n",
        "print (M1, \"\\n\")\n",
        "print (M2)"
      ],
      "execution_count": 0,
      "outputs": [
        {
          "output_type": "stream",
          "text": [
            "[[ 5 -4  0]\n",
            " [-4  7 -3]\n",
            " [ 0 -3  5]] \n",
            "\n",
            "[[ 3 -2  1]\n",
            " [-1  5  4]\n",
            " [ 1 -2  3]]\n"
          ],
          "name": "stdout"
        }
      ]
    },
    {
      "metadata": {
        "id": "G1mmh3XZZemg",
        "colab_type": "code",
        "colab": {},
        "outputId": "5f6737c6-34a3-4467-a6a4-ebb1d1db4b26"
      },
      "cell_type": "code",
      "source": [
        "#Addition\n",
        "print M1+M2"
      ],
      "execution_count": 0,
      "outputs": [
        {
          "output_type": "stream",
          "text": [
            "[[ 8 -6  1]\n",
            " [-5 12  1]\n",
            " [ 1 -5  8]]\n"
          ],
          "name": "stdout"
        }
      ]
    },
    {
      "metadata": {
        "id": "RUIC_PgKZemj",
        "colab_type": "code",
        "colab": {},
        "outputId": "8bb31d26-8a08-4912-a989-a11e868f61d0"
      },
      "cell_type": "code",
      "source": [
        "#Multiplication\n",
        "print M1*M2"
      ],
      "execution_count": 0,
      "outputs": [
        {
          "output_type": "stream",
          "text": [
            "[[ 19 -30 -11]\n",
            " [-22  49  15]\n",
            " [  8 -25   3]]\n"
          ],
          "name": "stdout"
        }
      ]
    },
    {
      "metadata": {
        "id": "1bTZjPRGZeml",
        "colab_type": "text"
      },
      "cell_type": "markdown",
      "source": [
        "## Basic operations with matrices"
      ]
    },
    {
      "metadata": {
        "id": "-iW4rEeeZemm",
        "colab_type": "text"
      },
      "cell_type": "markdown",
      "source": [
        "In order to simplify following methods, we introduce here 3 basic operations over linear systems:\n",
        "\n",
        "**1.** The $i$-th row $E_i$ can be multiplied by a non-zero constant $\\lambda$, and then a new row used in place of $E_i$, i.e. $(\\lambda E_i)\\rightarrow (E_i)$. We denote this operation as $Lamb(E_i,\\lambda)$.\n",
        "\n",
        "**2.** The $j$-th row $E_j$ can be multiplied by a non-zero constant $\\lambda$ and added to some row $E_i$. The resulting value take the place of $E_i$, i.e. $(E_i + \\lambda E_j)\\rightarrow (E_i)$. We denote this operation as $Comb(E_i,E_j,\\lambda)$.\n",
        "\n",
        "**3.** Finally, we define a swapping of two rows as $(E_i)\\leftrightarrow (E_j)$, denoted as $Swap(E_i,E_j)$"
      ]
    },
    {
      "metadata": {
        "id": "0RGhUwogZemm",
        "colab_type": "text"
      },
      "cell_type": "markdown",
      "source": [
        "### Extract rows from an array"
      ]
    },
    {
      "metadata": {
        "id": "4X53NZ-oZemn",
        "colab_type": "text"
      },
      "cell_type": "markdown",
      "source": [
        "## <font color='red'> Activity </font>"
      ]
    },
    {
      "metadata": {
        "id": "EAkZ93kZZemo",
        "colab_type": "text"
      },
      "cell_type": "markdown",
      "source": [
        "<font color='red'>\n",
        "Write three routines that perform, given a matrix $A$, the previous operations over matrices:\n",
        "</font>"
      ]
    },
    {
      "metadata": {
        "id": "EV24PHn-Zemo",
        "colab_type": "text"
      },
      "cell_type": "markdown",
      "source": [
        "<font color='red'>\n",
        " **row_lamb($i$, $\\lambda$, $A$)**: $i$ is the row to be changed, $\\lambda$ the multiplicative factor and A the matrix. This function should return the new matrix with the performed operation $(\\lambda E_i)\\rightarrow (E_i)$.\n",
        "</font>"
      ]
    },
    {
      "metadata": {
        "id": "a07Y8JNEZemp",
        "colab_type": "text"
      },
      "cell_type": "markdown",
      "source": [
        "<font color='red'>\n",
        " **row_comb($i$, $j$ $\\lambda$, $A$)**: $i$ is the row to be changed, $j$ the row to be added, $\\lambda$ the multiplicative factor and A the matrix. This function should return the new matrix with the performed operation $(E_i + \\lambda E_j)\\rightarrow (E_i)$.\n",
        "</font>"
      ]
    },
    {
      "metadata": {
        "id": "8XBhFQGSZemq",
        "colab_type": "text"
      },
      "cell_type": "markdown",
      "source": [
        "<font color='red'>\n",
        " **row_swap($i$, $j$, $A$)**: $i$ and $j$ are the rows to be swapped. This function should return the new matrix with the performed operation $(E_i)\\leftrightarrow (E_j)$.\n",
        "</font>"
      ]
    },
    {
      "metadata": {
        "id": "LWL1z20uZemq",
        "colab_type": "text"
      },
      "cell_type": "markdown",
      "source": [
        "### WARNING\n",
        "In some cases a  reasignment of a list or array points to the same space in memory. To really copy an array to other variable it is always recommended to use the `.copy()` method"
      ]
    },
    {
      "metadata": {
        "id": "1fkoIkp_Zemr",
        "colab_type": "code",
        "colab": {}
      },
      "cell_type": "code",
      "source": [
        "B=[1,2]\n",
        "A=B"
      ],
      "execution_count": 0,
      "outputs": []
    },
    {
      "metadata": {
        "id": "w98rODoJZemt",
        "colab_type": "code",
        "colab": {},
        "outputId": "6cd4c831-a459-432a-858b-92dab880dccd"
      },
      "cell_type": "code",
      "source": [
        "B.append(3)\n",
        "B"
      ],
      "execution_count": 0,
      "outputs": [
        {
          "output_type": "execute_result",
          "data": {
            "image/png": "[encoded data removed]",
            "text/latex": "$$\\left [ 1, \\quad 2, \\quad 3\\right ]$$",
            "text/plain": [
              "[1, 2, 3]"
            ]
          },
          "metadata": {
            "tags": []
          },
          "execution_count": 140
        }
      ]
    },
    {
      "metadata": {
        "id": "drNzH4IFZemv",
        "colab_type": "code",
        "colab": {},
        "outputId": "d792915b-03a8-477e-9c8e-bee405c65fc0"
      },
      "cell_type": "code",
      "source": [
        "A"
      ],
      "execution_count": 0,
      "outputs": [
        {
          "output_type": "execute_result",
          "data": {
            "image/png": "[encoded data removed]",
            "text/latex": "$$\\left [ 1, \\quad 2, \\quad 3\\right ]$$",
            "text/plain": [
              "[1, 2, 3]"
            ]
          },
          "metadata": {
            "tags": []
          },
          "execution_count": 141
        }
      ]
    },
    {
      "metadata": {
        "id": "YdjM1cN9Zem2",
        "colab_type": "code",
        "colab": {},
        "outputId": "6011ad77-333b-4b19-cb53-3ac02a12bf08"
      },
      "cell_type": "code",
      "source": [
        "sympy.Matrix([[-1,0],[0,0]])+sympy.Matrix([['1/2',0],[0,0]])"
      ],
      "execution_count": 0,
      "outputs": [
        {
          "output_type": "execute_result",
          "data": {
            "text/latex": "$$\\left[\\begin{matrix}- \\frac{1}{2} & 0\\\\0 & 0\\end{matrix}\\right]$$",
            "text/plain": [
              "⎡-1/2  0⎤\n",
              "⎢       ⎥\n",
              "⎣ 0    0⎦"
            ]
          },
          "metadata": {
            "tags": []
          },
          "execution_count": 220
        }
      ]
    },
    {
      "metadata": {
        "id": "bxYfc0ooZem9",
        "colab_type": "code",
        "colab": {},
        "outputId": "bffc69f7-2594-400c-8ea0-70b61725fb8e"
      },
      "cell_type": "code",
      "source": [
        "sympy.expand('1/3+2/5')"
      ],
      "execution_count": 0,
      "outputs": [
        {
          "output_type": "execute_result",
          "data": {
            "image/png": "[encoded data removed]",
            "text/latex": "$$\\frac{11}{15}$$",
            "text/plain": [
              "11\n",
              "──\n",
              "15"
            ]
          },
          "metadata": {
            "tags": []
          },
          "execution_count": 145
        }
      ]
    },
    {
      "metadata": {
        "id": "t8aEoevvZem_",
        "colab_type": "code",
        "colab": {},
        "collapsed": true
      },
      "cell_type": "code",
      "source": [
        "#Lambda function\n",
        "def row_lamb( i, lamb, A ):\n",
        "    B = np.copy(A)\n",
        "    B[i] = lamb*B[i]\n",
        "    return B\n",
        "\n",
        "#Combination function\n",
        "def row_comb( i, j, lamb, A ):\n",
        "    B = np.copy(A)\n",
        "    B[i] = lamb*B[j] + B[i]\n",
        "    return B\n",
        "\n",
        "#Swap function\n",
        "def row_swap( i, j, A ):\n",
        "    B = np.copy(A)\n",
        "    B[[i,j]] = B[[j,i]]\n",
        "    return B"
      ],
      "execution_count": 0,
      "outputs": []
    },
    {
      "metadata": {
        "id": "jphg4Mu5ZenB",
        "colab_type": "text"
      },
      "cell_type": "markdown",
      "source": [
        "- - -"
      ]
    },
    {
      "metadata": {
        "id": "Q8nfRt1uZenB",
        "colab_type": "text"
      },
      "cell_type": "markdown",
      "source": [
        "# Gaussian Elimination"
      ]
    },
    {
      "metadata": {
        "id": "sQt7A74qZenC",
        "colab_type": "text"
      },
      "cell_type": "markdown",
      "source": [
        "A first method to solve linear systems of equations is the Gaussian elimination. This procedure consists of a set of recursive steps performed in order to diagonalise the matrix of the problem. A suitable way to introduce this method is applying it to some basic problem. To do so, let's take the result of the [Example 1](#Example-1):\n",
        "\n",
        "$$ \\left[ \\matrix{\n",
        "5 & -4 & 0 \\\\\n",
        "-4 & 7 & -3 \\\\ \n",
        "0 & -3 & 5\n",
        "}\\right] \n",
        "\\left[ \\matrix{\n",
        "x_{1} \\\\\n",
        "x_{2} \\\\\n",
        "x_{3} \n",
        "}\\right]  =\n",
        "\\left[ \\matrix{\n",
        "1 \\\\\n",
        "0 \\\\\n",
        "-2\n",
        "}\\right]$$\n",
        "\n",
        "Constructing the associated augmented matrix, we obtain\n",
        "\n",
        "$$ \\left[ \\matrix{\n",
        "5 & -4 & 0 & \\vdots & 1 \\\\\n",
        "-4 & 7 & -3 & \\vdots & 0 \\\\\n",
        "0 & -3 & 5 & \\vdots & -2\n",
        "}\\right] $$\n",
        "\n",
        "At this point, we can eliminate the coefficients of the variable $x_1$ in the second and third equations. For this, we apply the operations $Comb(E_2,E_1,4/5)$. The coefficient in the third equation is already null. We then obtain:\n",
        "\n",
        "$$ \\left[ \\matrix{\n",
        "5 & -4 & 0 & \\vdots & 1 \\\\\n",
        "0 & 3.8 & -3 & \\vdots & 0.8 \\\\\n",
        "0 & -3 & 5 & \\vdots & -2\n",
        "}\\right] $$\n",
        "\n",
        "Now, we proceed to eliminate the coefficient of $x_2$ in the third equation. For this, we apply again $Comb(E_3,E_2,0.789)$, where $3/3.8 = 0.789$.\n",
        "\n",
        "$$ \\left[ \\matrix{\n",
        "5 & -4 & 0 & \\vdots & 1 \\\\\n",
        "0 & 3.8 & -3 & \\vdots & 0.8 \\\\\n",
        "0 & 0 & 2.632 & \\vdots & -1.368\n",
        "}\\right] $$\n",
        "\n",
        "The final step is to solve for $x_3$ in the last equation, doing the operation $Lamb(E_3,1/2.632)$, yielding:\n",
        "\n",
        "$$ \\left[ \\matrix{\n",
        "5 & -4 & 0 & \\vdots & 1 \\\\\n",
        "0 & 3.8 & -3 & \\vdots & 0.8 \\\\\n",
        "0 & 0 & 1 & \\vdots & -0.520\n",
        "}\\right] $$\n",
        "\n",
        "From this, it is direct to conclude that $x_3 = -0.502$, for $x_2$ and $x_1$ it is only necessary to replace the found value of $x_3$."
      ]
    },
    {
      "metadata": {
        "id": "WJ5Dyv1mZenC",
        "colab_type": "text"
      },
      "cell_type": "markdown",
      "source": [
        "## <font color='red'> Activity </font>\n",
        "Use numpy functions to build the augmented matrix M1"
      ]
    },
    {
      "metadata": {
        "id": "jD3wycgMqTMR",
        "colab_type": "code",
        "colab": {}
      },
      "cell_type": "code",
      "source": [
        ""
      ],
      "execution_count": 0,
      "outputs": []
    },
    {
      "metadata": {
        "id": "6Jp7iXYHZei2",
        "colab_type": "text"
      },
      "cell_type": "markdown",
      "source": [
        "# Linear Systems of Equations"
      ]
    },
    {
      "metadata": {
        "id": "2ZEA0FwkZei4",
        "colab_type": "text"
      },
      "cell_type": "markdown",
      "source": [
        "A linear system is a set of equations of $n$ variables that can be written in a general form:\n",
        "\n",
        "$$ a_{11}x_1 + a_{12}x_2 + \\cdots a_{1n}x_n = b_1 $$\n",
        "$$\\vdots$$\n",
        "$$ a_{m1}x_1 + a_{m2}x_2 + \\cdots a_{mn}x_n = b_m $$\n",
        "\n",
        "where $n$ is, again, the number of variables, and $m$ the number of equations. \n",
        "\n",
        "A linear system has solution if and only if $m\\geq n$. This leads us to the main objetive of a linear system, find the set $\\{x_i\\}_{i=0}^n$ that fulfills all the equations.\n",
        "\n",
        "Although there is an intuitive way to solve this type of systems, by just adding and subtracting equations until reaching the desire result, the large number of variables of some systems found in physics and astronomy makes necessary to develop iterative and general approaches. Next, we shall introduce matrix and vector notation and some basic operations that will be the basis of the methods to be developed in this section.\n",
        "\n",
        "Quadratic eqution..."
      ]
    },
    {
      "metadata": {
        "id": "uahDSxiBZei7",
        "colab_type": "text"
      },
      "cell_type": "markdown",
      "source": [
        "## Matrices and vectors"
      ]
    },
    {
      "metadata": {
        "id": "17lrFAoiZei8",
        "colab_type": "text"
      },
      "cell_type": "markdown",
      "source": [
        "A $m\\times n$ matrix can be defined as a set of numbers arranged in columns and rows such as:\n",
        "\n",
        "$$ A = [a_{ij}] = \\left[ \\matrix{\n",
        "a_{11} & a_{12} & \\cdots & a_{1n} \\\\\n",
        "a_{21} & a_{22} & \\cdots & a_{2n} \\\\\n",
        "\\vdots & \\vdots & & \\vdots\\\\\n",
        "a_{m1} & a_{m2} & \\cdots & a_{mn} \n",
        "}\\right] $$\n",
        "\n",
        "In the same way, it is possible to define a $n$-dimensional column vector as\n",
        "\n",
        "$$ \\boldsymbol{x} = \\left[ \\matrix{\n",
        "x_{1} \\\\\n",
        "x_{2} \\\\\n",
        "\\vdots\\\\\n",
        "x_{n} \n",
        "}\\right] $$\n",
        "\n",
        "and a row vector \n",
        "\n",
        "$$ \\boldsymbol{y} = \\left[ \\matrix{\n",
        "y_{1} &\n",
        "y_{2} &\n",
        "\\cdots &\n",
        "y_{n} \n",
        "}\\right] $$"
      ]
    },
    {
      "metadata": {
        "id": "mRMZJiYNZei_",
        "colab_type": "text"
      },
      "cell_type": "markdown",
      "source": [
        "The system of equations \n",
        "\n",
        "$$ a_{11}x_1 + a_{12}x_2 + \\cdots a_{1n}x_n = b_1 $$\n",
        "$$\\vdots$$\n",
        "$$ a_{m1}x_1 + a_{m2}x_2 + \\cdots a_{mn}x_n = b_m $$\n",
        "\n",
        "can be then written in a more convenient way as\n",
        "\n",
        "$$ A \\textbf{x} =  \\left[ \\matrix{\n",
        "a_{11} & a_{12} & \\cdots & a_{1n} \\\\\n",
        "a_{21} & a_{22} & \\cdots & a_{2n} \\\\\n",
        "\\vdots & \\vdots & & \\vdots\\\\\n",
        "a_{m1} & a_{m2} & \\cdots & a_{mn} \n",
        "}\\right] \n",
        "\\left[ \\matrix{\n",
        "x_{1} \\\\\n",
        "x_{2} \\\\\n",
        "\\vdots\\\\\n",
        "x_{n} \n",
        "}\\right]  = \\boldsymbol{b} = \n",
        "\\left[ \\matrix{\n",
        "b_{1} \\\\\n",
        "b_{2} \\\\\n",
        "\\vdots\\\\\n",
        "b_{n} \n",
        "}\\right]$$\n",
        "\n",
        "We can also introducing the $n\\times (n+1)$ **augmented matrix** as\n",
        "\n",
        "$$[A:\\textbf{b}] =  \\left[ \\matrix{\n",
        "a_{11} & a_{12} & \\cdots & a_{1n} & \\vdots & b_1 \\\\\n",
        "a_{21} & a_{22} & \\cdots & a_{2n} & \\vdots & b_2 \\\\\n",
        "\\vdots & \\vdots & & \\vdots & \\vdots & \\vdots \\\\\n",
        "a_{m1} & a_{n2} & \\cdots & a_{nn} & \\vdots & b_n\n",
        "}\\right]$$"
      ]
    },
    {
      "metadata": {
        "id": "IO5SMLhJZejA",
        "colab_type": "text"
      },
      "cell_type": "markdown",
      "source": [
        "## Example 1"
      ]
    },
    {
      "metadata": {
        "id": "0K83kD95ZejD",
        "colab_type": "text"
      },
      "cell_type": "markdown",
      "source": [
        "Using Kirchhoff's circuit laws, it is possible to solve the next system:\n",
        "\n",
        "![](https://raw.githubusercontent.com/sbustamante/ComputationalMethods/master/material/figures/circuit.png)\n",
        "\n",
        "obtaining the next equations:\n",
        "\n",
        "$$ I_A( R+4R ) - I_B( 4R ) = E $$\n",
        "$$ -I_A( 4R ) + I_B( 4R + 3R ) - I_C(3R) = 0 $$\n",
        "$$ -I_B( 3R ) + I_C(3R+2R) = -2E $$\n",
        "\n",
        "Define the variables $x_1 = R I_A/E$, $x_2 = R I_B/E$ and $x_3 = R I_C/E$ and solve."
      ]
    },
    {
      "metadata": {
        "id": "NeG3ad5rZenF",
        "colab_type": "text"
      },
      "cell_type": "markdown",
      "source": [
        "## <font color='red'> Activity </font>"
      ]
    },
    {
      "metadata": {
        "id": "0i4cBVZ0ZenF",
        "colab_type": "text"
      },
      "cell_type": "markdown",
      "source": [
        "<font color='red'>\n",
        "Using the three routines written in the previous activity, reproduce the last steps for the matrix of the Example 1.\n",
        "</font>"
      ]
    },
    {
      "metadata": {
        "id": "yiR2wgVSZenG",
        "colab_type": "code",
        "colab": {},
        "outputId": "9a728fda-eb97-4631-910a-ad8004e0882f"
      },
      "cell_type": "code",
      "source": [
        "M1a = np.array( [[5.,-4,0,1],[-4,7,-3,0],[0,-3,5,-2]] )\n",
        "M1a= row_comb(1,0,4/5.,M1a)\n",
        "sympy.Matrix(M1a)"
      ],
      "execution_count": 0,
      "outputs": [
        {
          "output_type": "execute_result",
          "data": {
            "text/latex": "$$\\left[\\begin{matrix}5.0 & -4.0 & 0.0 & 1.0\\\\0.0 & 3.8 & -3.0 & 0.8\\\\0.0 & -3.0 & 5.0 & -2.0\\end{matrix}\\right]$$",
            "text/plain": [
              "⎡5.0  -4.0  0.0   1.0 ⎤\n",
              "⎢                     ⎥\n",
              "⎢0.0  3.8   -3.0  0.8 ⎥\n",
              "⎢                     ⎥\n",
              "⎣0.0  -3.0  5.0   -2.0⎦"
            ]
          },
          "metadata": {
            "tags": []
          },
          "execution_count": 194
        }
      ]
    },
    {
      "metadata": {
        "id": "XLdQckf_ZenM",
        "colab_type": "code",
        "colab": {},
        "outputId": "5fc1e273-abfb-41ec-8dcc-75fe072ae2b3"
      },
      "cell_type": "code",
      "source": [
        "M1a= row_comb(2,1,3/3.8,M1a)\n",
        "sympy.Matrix(M1a)"
      ],
      "execution_count": 0,
      "outputs": [
        {
          "output_type": "execute_result",
          "data": {
            "text/latex": "$$\\left[\\begin{matrix}5.0 & -4.0 & 0.0 & 1.0\\\\0.0 & 3.8 & -3.0 & 0.8\\\\0.0 & 0.0 & 2.63157894736842 & -1.36842105263158\\end{matrix}\\right]$$",
            "text/plain": [
              "⎡5.0  -4.0        0.0                1.0       ⎤\n",
              "⎢                                              ⎥\n",
              "⎢0.0  3.8         -3.0               0.8       ⎥\n",
              "⎢                                              ⎥\n",
              "⎣0.0  0.0   2.63157894736842  -1.36842105263158⎦"
            ]
          },
          "metadata": {
            "tags": []
          },
          "execution_count": 195
        }
      ]
    },
    {
      "metadata": {
        "id": "NpdNNvRUZenP",
        "colab_type": "code",
        "colab": {},
        "outputId": "9e274101-9669-4d65-dbd1-173015402789"
      },
      "cell_type": "code",
      "source": [
        "M1"
      ],
      "execution_count": 0,
      "outputs": [
        {
          "output_type": "execute_result",
          "data": {
            "text/plain": [
              "array([[ 5, -4,  0],\n",
              "       [-4,  7, -3],\n",
              "       [ 0, -3,  5]])"
            ]
          },
          "metadata": {
            "tags": []
          },
          "execution_count": 119
        }
      ]
    },
    {
      "metadata": {
        "id": "uJg6ZVaFZenV",
        "colab_type": "code",
        "colab": {}
      },
      "cell_type": "code",
      "source": [
        "import scipy"
      ],
      "execution_count": 0,
      "outputs": []
    },
    {
      "metadata": {
        "id": "CDlCuoTeZene",
        "colab_type": "code",
        "colab": {}
      },
      "cell_type": "code",
      "source": [
        "P,L,U=scipy.linalg.lu(M1)"
      ],
      "execution_count": 0,
      "outputs": []
    },
    {
      "metadata": {
        "id": "pIvZa9h5Zenf",
        "colab_type": "code",
        "colab": {},
        "outputId": "c0e579b5-105d-4515-dddf-f371713364a0"
      },
      "cell_type": "code",
      "source": [
        "U"
      ],
      "execution_count": 0,
      "outputs": [
        {
          "output_type": "execute_result",
          "data": {
            "text/plain": [
              "array([[ 5.        , -4.        ,  0.        ],\n",
              "       [ 0.        ,  3.8       , -3.        ],\n",
              "       [ 0.        ,  0.        ,  2.63157895]])"
            ]
          },
          "metadata": {
            "tags": []
          },
          "execution_count": 124
        }
      ]
    },
    {
      "metadata": {
        "id": "0Gi0EuKBZenj",
        "colab_type": "code",
        "colab": {},
        "outputId": "7250fe2b-3192-4972-92ec-e647085db96f"
      },
      "cell_type": "code",
      "source": [
        "M1a = np.array( [[5.,-4,0,1],[-4,7,-3,0],[0,-3,5,-2]] )\n",
        "M1a"
      ],
      "execution_count": 0,
      "outputs": [
        {
          "output_type": "execute_result",
          "data": {
            "text/plain": [
              "array([[ 5., -4.,  0.,  1.],\n",
              "       [-4.,  7., -3.,  0.],\n",
              "       [ 0., -3.,  5., -2.]])"
            ]
          },
          "metadata": {
            "tags": []
          },
          "execution_count": 127
        }
      ]
    },
    {
      "metadata": {
        "id": "u007n-K7Zenl",
        "colab_type": "code",
        "colab": {},
        "outputId": "cace9c69-a009-43ca-c5da-4cdfdc796149"
      },
      "cell_type": "code",
      "source": [
        "scipy.linalg.lu(M1a)[2]"
      ],
      "execution_count": 0,
      "outputs": [
        {
          "output_type": "execute_result",
          "data": {
            "text/plain": [
              "array([[ 5.        , -4.        ,  0.        ,  1.        ],\n",
              "       [ 0.        ,  3.8       , -3.        ,  0.8       ],\n",
              "       [ 0.        ,  0.        ,  2.63157895, -1.36842105]])"
            ]
          },
          "metadata": {
            "tags": []
          },
          "execution_count": 129
        }
      ]
    },
    {
      "metadata": {
        "id": "GPwp70IuZenp",
        "colab_type": "text"
      },
      "cell_type": "markdown",
      "source": [
        "$x_3$ is now"
      ]
    },
    {
      "metadata": {
        "id": "5OwvuMsuZenp",
        "colab_type": "code",
        "colab": {},
        "outputId": "be7f2dce-07a4-4534-af78-743c92b1f6fd"
      },
      "cell_type": "code",
      "source": [
        "x3=M1a[2,3]/M1a[2,2]\n",
        "x3"
      ],
      "execution_count": 0,
      "outputs": [
        {
          "output_type": "execute_result",
          "data": {
            "image/png": "[encoded data removed]",
            "text/latex": "$$-0.52$$",
            "text/plain": [
              "-0.52"
            ]
          },
          "metadata": {
            "tags": []
          },
          "execution_count": 199
        }
      ]
    },
    {
      "metadata": {
        "id": "DX6BPhT_Zen0",
        "colab_type": "code",
        "colab": {},
        "outputId": "a3873148-b65f-41ba-e358-7ccc5c817a39"
      },
      "cell_type": "code",
      "source": [
        "M1a[1,1],M1a[1,2],M1a[1,3]"
      ],
      "execution_count": 0,
      "outputs": [
        {
          "output_type": "execute_result",
          "data": {
            "image/png": "[encoded data removed]",
            "text/latex": "$$\\left ( 3.8, \\quad -3.0, \\quad 0.8\\right )$$",
            "text/plain": [
              "(3.8, -3.0, 0.8)"
            ]
          },
          "metadata": {
            "tags": []
          },
          "execution_count": 201
        }
      ]
    },
    {
      "metadata": {
        "id": "_IlKr0g9Zen4",
        "colab_type": "code",
        "colab": {},
        "outputId": "1e7c8342-219a-4f5f-82b8-424467daca07"
      },
      "cell_type": "code",
      "source": [
        "x2=(M1a[1,3]-M1a[1,2]*x3)/M1a[1,1]\n",
        "x2"
      ],
      "execution_count": 0,
      "outputs": [
        {
          "output_type": "execute_result",
          "data": {
            "image/png": "[encoded data removed]",
            "text/latex": "$$-0.2$$",
            "text/plain": [
              "-0.2"
            ]
          },
          "metadata": {
            "tags": []
          },
          "execution_count": 202
        }
      ]
    },
    {
      "metadata": {
        "id": "RGPEmwtqZen9",
        "colab_type": "code",
        "colab": {},
        "outputId": "dbe63df8-7b56-4134-bb1d-2224a8ac5803"
      },
      "cell_type": "code",
      "source": [
        "x1=( M1a[0,3]-M1a[0,1]*x2-M1a[0,2]*x3 )/M1a[0,0]\n",
        "x1"
      ],
      "execution_count": 0,
      "outputs": [
        {
          "output_type": "execute_result",
          "data": {
            "image/png": "[encoded data removed]",
            "text/latex": "$$0.04$$",
            "text/plain": [
              "0.04"
            ]
          },
          "metadata": {
            "tags": []
          },
          "execution_count": 204
        }
      ]
    },
    {
      "metadata": {
        "id": "ZuqVcLVnZen_",
        "colab_type": "code",
        "colab": {},
        "outputId": "45b8fc69-ee97-4852-a0b9-bc0065fec6a8"
      },
      "cell_type": "code",
      "source": [
        "M1"
      ],
      "execution_count": 0,
      "outputs": [
        {
          "output_type": "execute_result",
          "data": {
            "text/plain": [
              "array([[ 5., -4.,  0.,  1.],\n",
              "       [-4.,  7., -3.,  0.],\n",
              "       [ 0., -3.,  5., -2.]])"
            ]
          },
          "metadata": {
            "tags": []
          },
          "execution_count": 237
        }
      ]
    },
    {
      "metadata": {
        "id": "l1Yh5FxCZeoC",
        "colab_type": "code",
        "colab": {}
      },
      "cell_type": "code",
      "source": [
        "M1"
      ],
      "execution_count": 0,
      "outputs": []
    },
    {
      "metadata": {
        "id": "NGgCWPrTZeoD",
        "colab_type": "text"
      },
      "cell_type": "markdown",
      "source": [
        "## General Gaussian elimination"
      ]
    },
    {
      "metadata": {
        "id": "gQGl9W0-ZeoE",
        "colab_type": "text"
      },
      "cell_type": "markdown",
      "source": [
        "Now, we shall describe the general procedure for Gaussian elimination: \n",
        "\n",
        "**1.** Give an augmented matrix $\\hat{A}=[A:\\textbf{b}]$.\n",
        "\n",
        "**2.** Find the first non-zero coefficient $a_{i1}$ associated to $x_1$. This element is called **pivot**.\n",
        "\n",
        "**3.** Apply the operation $Swap(E_1,E_i)$. This guarantee the first row has a non-zero coefficient $a_{11}$.\n",
        "\n",
        "**4.** Apply the operation $Comb(E_j,E_1,-a_{j1}/a_{11})$. This eliminates the coefficients associated to $x_1$ in all the rows but in the first one.\n",
        "\n",
        "**5.** Repeat steps **2** to **4** but for the coefficients of $x_2$ and then $x_3$ and so up to $x_n$. When iterating the coefficients of $x_{k}$, do not take into account the first $k$-th rows as they are already sorted.\n",
        "\n",
        "**6.** Once you obtain a diagonal form of the matrix, apply the operation $Lamb(E_n,1/a_{nn})$. This will make the coefficient of $x_n$ in the last equation equal to 1.\n",
        "\n",
        "**7.** The final result should be an augmented matrix of the form:\n",
        "\n",
        "$$\\left[ \\matrix{\n",
        "a_{11} & a_{12} & \\cdots & a_{1(n-1)} & a_{1n} & \\vdots & \\hat b_1 \\\\\n",
        "0 & a_{22} & \\cdots & a_{2(n-1)} & a_{2n} & \\vdots & \\hat b_2 \\\\\n",
        "\\vdots & \\vdots &  & \\vdots & \\vdots & \\vdots & \\vdots \\\\\n",
        "0 & 0 & \\cdots & a_{(n-1)(n-1)} & a_{(n-1)n} & \\vdots & \\hat b_{n-1} \\\\\n",
        "0 & 0 & \\cdots & 0 & 1 & \\vdots & \\hat b_n\n",
        "}\\right]$$\n",
        "\n",
        "**8.** The solution to the problem is then obtained through backward substitutions, i.e.\n",
        "\n",
        "$$x_n = \\hat b_n$$\n",
        "$$ x_{n-1} =  \\frac{\\hat b_{n-1} + a_{(n-1)n}x_n}{a_{(n-1)(n-1)}}$$\n",
        "$$\\vdots$$\n",
        "$$x_i = \\frac{\\hat b_i - \\sum_{j=i+1}^n a_{ij}x_j}{a_{ii}}\\ \\ \\ \\ \\mbox{for}\\ \\ \\ i=n-1, n-2, \\cdots, 1$$"
      ]
    },
    {
      "metadata": {
        "id": "RvyDffRnZeoF",
        "colab_type": "code",
        "colab": {}
      },
      "cell_type": "code",
      "source": [
        "#Gaussian Elimination\n",
        "def Gaussian_Elimination( A0 ):\n",
        "    #Making local copy of matrix\n",
        "    A = np.copy(A0)\n",
        "    #Detecting size of matrix\n",
        "    n = len(A)\n",
        "    \n",
        "    #Sweeping all the columns in order to eliminate coefficients of the i-th variable\n",
        "    for i in xrange( 0, n ):\n",
        "        \n",
        "        #Sweeping all the rows for the i-th column in order to find the first non-zero coefficient\n",
        "        for j in xrange( i, n ):\n",
        "            if A[i,j] != 0:\n",
        "                #Normalization coefficient\n",
        "                Norm = 1.0*A[i,j]\n",
        "                break\n",
        "                \n",
        "        #Applying swap operation to put the non-zero coefficient in the i-th row\n",
        "        A = row_swap( i, j, A )\n",
        "        \n",
        "        #Eliminating the coefficient associated to the i-th variable\n",
        "        for j in xrange( i+1, n ):\n",
        "            A = row_comb( j, i, -A[j,i]/Norm, A )\n",
        "            \n",
        "    #Normalizing n-th variable\n",
        "    A = row_lamb( n-1, 1.0/A[n-1,n-1], A )\n",
        "    \n",
        "    #Finding solution\n",
        "    x = np.zeros( n )\n",
        "    x[n-1] = A[n-1,n]\n",
        "    for i in xrange( n-1, -1, -1 ):\n",
        "        x[i] = ( A[i,n] - sum(A[i,i+1:n]*x[i+1:n]) )/A[i,i]\n",
        "    \n",
        "    #Upper diagonal matrix and solutions x\n",
        "    return A, x"
      ],
      "execution_count": 0,
      "outputs": []
    },
    {
      "metadata": {
        "id": "fgQHiJ5hZeoH",
        "colab_type": "code",
        "colab": {},
        "outputId": "69936664-e8b5-4eae-eac2-5e5c588d35e2"
      },
      "cell_type": "code",
      "source": [
        "#Generating random matrix\n",
        "M = np.matrix( np.random.random( (4,5) ) )\n",
        "print (\"Augmented Matrix M:\\n\", M, \"\\n\")\n",
        "#Solving using Gaussian Elimination\n",
        "D, x = Gaussian_Elimination(M)\n",
        "print (\"Augmented Diagonal Matrix D:\\n\", D, \"\\n\")\n",
        "print (\"Obtained solution:\\n\", x, \"\\n\")\n",
        "print (\"Exact solution:\\n\", (M[:,:4]**-1*M[:,4]).T, \"\\n\")"
      ],
      "execution_count": 0,
      "outputs": [
        {
          "output_type": "stream",
          "text": [
            "Augmented Matrix M:\n",
            " [[ 0.03495451  0.62499894  0.02510743  0.54259038  0.88634017]\n",
            " [ 0.10005455  0.31317748  0.21125395  0.46186438  0.17378149]\n",
            " [ 0.89505162  0.21055715  0.66560769  0.37119389  0.7843751 ]\n",
            " [ 0.09873     0.01725852  0.06295356  0.14257245  0.36043696]] \n",
            "\n",
            "Augmented Diagonal Matrix D:\n",
            " [[  3.49545125e-02   6.24998940e-01   2.51074256e-02   5.42590383e-01\n",
            "    8.86340171e-01]\n",
            " [  0.00000000e+00  -1.47583300e+00   1.39385908e-01  -1.09125806e+00\n",
            "   -2.36329778e+00]\n",
            " [  0.00000000e+00   0.00000000e+00  -1.46890313e+00  -1.84463297e+00\n",
            "    3.37886234e+00]\n",
            " [  1.15752273e-16   0.00000000e+00   0.00000000e+00   1.00000000e+00\n",
            "    2.15274345e+00]] \n",
            "\n",
            "Obtained solution:\n",
            " [ 3.81347057 -0.46301974 -5.00365461  2.15274345] \n",
            "\n",
            "Exact solution:\n",
            " [[ 3.81347057 -0.46301974 -5.00365461  2.15274345]] \n",
            "\n"
          ],
          "name": "stdout"
        }
      ]
    },
    {
      "metadata": {
        "id": "adCyEV1hZepz",
        "colab_type": "text"
      },
      "cell_type": "markdown",
      "source": [
        "## Pivoting Strategies"
      ]
    },
    {
      "metadata": {
        "id": "jO6qikGCZepz",
        "colab_type": "text"
      },
      "cell_type": "markdown",
      "source": [
        "The previous method of Gaussian Elimination for finding solutions of linear systems is mathematically exact, however round-off errors that appear in computational arithmetics can represent a real problem when high accuracy is required.\n",
        "\n",
        "In order to illustrate this, consider the next situation:\n",
        "\n",
        "$$ E_1: 0.00300x_1 + 59.14x_2 = 59.17 $$\n",
        "$$ E_2: 5.291x_1 - 6.130x_2 = 46.78 $$\n",
        "\n",
        "Using four-digit arithmetic we obtain:\n",
        "\n",
        "**1.** Constructing the augmented matrix:\n",
        "\n",
        "$$ \\left[ \\matrix{\n",
        "0.003 & 59.14 & \\vdots & 59.17 \\\\\n",
        "5.291 & -6.130 & \\vdots & 46.78\n",
        "}\\right] $$\n",
        "\n",
        "**2.** Applying the reduction with the first pivot, we obtain:\n",
        "\n",
        "$$(E_1 + m E_2)\\rightarrow (E_1)$$\n",
        "\n",
        "where:\n",
        "\n",
        "$$m = -\\frac{a_{21}}{a_{11}} = -\\frac{5.291}{0.003} = 1763.666\\cdots \\approx 1764$$\n",
        "\n",
        "In this step, we have taken the first four digits. This leads us to:\n",
        "\n",
        "$$ \\left[ \\matrix{\n",
        "0.003 & 59.14 & \\vdots & 59.17 \\\\\n",
        "0 & -104300 & \\vdots & -104400\n",
        "}\\right] $$\n",
        "\n",
        "The exact system is instead\n",
        "\n",
        "$$ \\left[ \\matrix{\n",
        "0.003 & 59.14 & \\vdots & 59.17 \\\\\n",
        "0 & -104309.37\\bar{6} & \\vdots & -104309.37\\bar{6}\n",
        "}\\right] $$\n",
        "\n",
        "Using the solution $x_2 \\approx 1.001$, we obtain\n",
        "\n",
        "$$ x_1 \\approx \\frac{59.17 - (59.14)(1.001)}{0.00300} = -10 $$\n",
        "\n",
        "The exact solution is however:\n",
        "\n",
        "$$ x_1 = 10.00 $$\n",
        "\n",
        "The source of such a large error is that the factor $59.14/0.00300 \\approx 20000$. This quantity is propagated through the combination steps of the Gaussian Elimination, yielding a complete wrong result."
      ]
    },
    {
      "metadata": {
        "id": "y5BjKGgLsPXk",
        "colab_type": "code",
        "colab": {},
        "cellView": "form"
      },
      "cell_type": "code",
      "source": [
        "#@title <font color=\"red\">Activity</font>. Use `np.linalg.solve` to solve the problem { run: \"auto\" }\n",
        "np.linalg.solve?"
      ],
      "execution_count": 0,
      "outputs": []
    },
    {
      "metadata": {
        "id": "I-46MAJZImXY",
        "colab_type": "text"
      },
      "cell_type": "markdown",
      "source": [
        "# Matrix diagonalization"
      ]
    },
    {
      "metadata": {
        "id": "40WhQJy2EWqx",
        "colab_type": "text"
      },
      "cell_type": "markdown",
      "source": [
        "## Theorem 2\n",
        "\n",
        "If $\\boldsymbol{A}$ is hermitic, e.g:\n",
        "\\begin{align}\n",
        "\\boldsymbol{A}^\\dagger =\\boldsymbol{A}\\,,\n",
        "\\end{align}\n",
        "Then exists an unitarian  matrix $\\boldsymbol{V}$ is hermitic, e.g:\n",
        "\\begin{align}\n",
        "\\boldsymbol{V}^{-1}=\\boldsymbol{V}^\\dagger \\,,\n",
        "\\end{align}\n",
        "such that\n",
        "\\begin{equation}\n",
        "  \\boldsymbol{V}^\\dagger\\boldsymbol{A}\\,\\boldsymbol{V}=\\boldsymbol{A}_{\\text{diag}}\\,,\n",
        "\\end{equation}\n",
        "where \n",
        "$\\boldsymbol{A}_{\\text{diag}}=\\operatorname{diag}(\\lambda_1,\\lambda_2,\\ldots \\lambda_n)$ is the diagonalized mass matrix."
      ]
    },
    {
      "metadata": {
        "id": "QousO-tmLx5e",
        "colab_type": "text"
      },
      "cell_type": "markdown",
      "source": [
        "## Corollary 1\n",
        "\n",
        "If $\\boldsymbol{A}$ is symmetric, e.g:\n",
        "\\begin{align}\n",
        "\\boldsymbol{A}^{\\operatorname{T}} =\\boldsymbol{A}\\,,\n",
        "\\end{align}\n",
        "Then exists an unitarian  matrix $\\boldsymbol{V}$ is hermitic, e.g:\n",
        "\\begin{align}\n",
        "\\boldsymbol{V}^{-1}=\\boldsymbol{V}^{\\operatorname{T}} \\,,\n",
        "\\end{align}\n",
        "such that\n",
        "\\begin{equation}\n",
        "  \\boldsymbol{V}^{\\operatorname{T}}\\boldsymbol{A}\\,\\boldsymbol{V}=\\boldsymbol{A}_{\\text{diag}}\\,,\n",
        "\\end{equation}\n",
        "where \n",
        "$\\boldsymbol{A}_{\\text{diag}}=\\operatorname{diag}(\\lambda_1,\\lambda_2,\\ldots \\lambda_n)$ is the diagonalized mass matrix."
      ]
    },
    {
      "metadata": {
        "id": "Czn5t78GZepT",
        "colab_type": "text"
      },
      "cell_type": "markdown",
      "source": [
        "The __Corollary__ only guarantees existence. Tor really calculate de diagonalization matrix we must establish the eigenvector problem:\n",
        "\n",
        "In the case a symetric matrix, the eigenvalue equation is just:\n",
        "\\begin{align}\n",
        "%$$\n",
        "  \\boldsymbol{A}\\,\\boldsymbol{V}_i=&\\lambda_i\\boldsymbol{V}_i \\nonumber\\\\\n",
        "  \\boldsymbol{A}\\,\\boldsymbol{V}_i-\\lambda_i\\boldsymbol{V}_i=&\\boldsymbol{0} \\nonumber\\\\\n",
        "  (\\boldsymbol{A}-\\lambda_i \\,\\boldsymbol{I})\\boldsymbol{V}_i=&\\boldsymbol{0}\\,,\n",
        "%$$\n",
        "\\end{align}\n",
        "where $\\boldsymbol{I}$ is the identity matrix. \n",
        "\n",
        "To avoid the trivial solution $\\boldsymbol{V}_i=\\boldsymbol{0}$ we require that $\\boldsymbol{A}-\\lambda_i\\, \\boldsymbol{I}$\n",
        "does not has an inverse, or equivalently\n",
        "$$\\det( \\boldsymbol{A}-\\lambda_i\\, \\boldsymbol{I})=0\\,.$$"
      ]
    },
    {
      "metadata": {
        "id": "pCSR2TVCHRwa",
        "colab_type": "text"
      },
      "cell_type": "markdown",
      "source": [
        "## Corollary 2\n",
        "\n",
        "A general complex matrix $\\boldsymbol{A}$  can be diagonalized by a bi-diagonal transformación such that\n",
        "\\begin{equation}\n",
        "  \\boldsymbol{V}^\\dagger\\boldsymbol{A}\\,\\boldsymbol{U}=\\boldsymbol{A}_{\\text{diag}}\\,,\n",
        "\\end{equation}\n",
        "where \n",
        "$\\boldsymbol{A}_{\\text{diag}}=\\operatorname{diag}(\\lambda_1,\\lambda_2,\\ldots \\lambda_n)$ is the diagonalized mass matrix.\n",
        "\n",
        "## Demostration\n",
        "\\begin{align}\n",
        "  \\boldsymbol{A}_{\\text{diag}}=&\\boldsymbol{V}^\\dagger\\boldsymbol{A}\\,\\boldsymbol{U}\\\\\n",
        "  \\boldsymbol{A}_{\\text{diag}}\\boldsymbol{A}_{\\text{diag}}^\\dagger=&\\boldsymbol{V}^\\dagger\\boldsymbol{A}\\,\\boldsymbol{U}\n",
        "  \\left(\\boldsymbol{V}^\\dagger\\boldsymbol{A}\\,\\boldsymbol{U}\\right)^\\dagger\\\\\n",
        "  =&\\boldsymbol{V}^\\dagger\\boldsymbol{A}\\,\\boldsymbol{U}\n",
        "  \\left(   \\boldsymbol{U}^\\dagger \\boldsymbol{A}^\\dagger\\,\\boldsymbol{V}\\right)\\\\\n",
        "  =&\\boldsymbol{V}^\\dagger\n",
        "  \\left( \\boldsymbol{A}  \\boldsymbol{A}^\\dagger\\,\\right) \\boldsymbol{V}\\,.\\\\\n",
        "\\end{align}\n",
        "Since $\\boldsymbol{A}  \\boldsymbol{A}^\\dagger$ is hermitic and $\\boldsymbol{A}  \\boldsymbol{A}^\\dagger$ is diagonal, then in fact there exists an unitary matrix $\\boldsymbol{V}$.  Similarly there exists an unitary matrix $\\boldsymbol{U}$ which diagonalizes  $\\boldsymbol{A}^\\dagger  \\boldsymbol{A}$"
      ]
    },
    {
      "metadata": {
        "id": "osxweeQvZeoY",
        "colab_type": "text"
      },
      "cell_type": "markdown",
      "source": [
        "### Eigenvectors and eigenvalues\n",
        "If we make\n",
        "$$ \\boldsymbol{U}=[\\boldsymbol{U}_1,\\boldsymbol{U}_2,\\boldsymbol{U}_3], \\qquad \\boldsymbol{V}=[\\boldsymbol{V}_1,\\boldsymbol{V}_2,\\boldsymbol{V}_3] $$\n",
        "\n",
        "We know that there exists a bi-diagonal transformación such that\n",
        "\\begin{equation}\n",
        "%$$\n",
        "  \\boldsymbol{A}\\,\\boldsymbol{U}=\\boldsymbol{V}\\boldsymbol{A}_{\\text{diag}}\n",
        "\\end{equation}\n",
        "\\begin{equation}\n",
        "  \\boldsymbol{A}\\,\\boldsymbol{U}_i=\\lambda_i\\boldsymbol{V}_i\n",
        "%$$\n",
        "\\end{equation}\n",
        "not sum upon $i$. Here \n",
        "* $\\lambda_i$ are called eigenvalues\n",
        "* $V_i$ and $U_i$ are the eigenvectors"
      ]
    },
    {
      "metadata": {
        "id": "KzphXQAeZeoY",
        "colab_type": "text"
      },
      "cell_type": "markdown",
      "source": [
        "We can use this to check the proper order of the eigenvalues"
      ]
    },
    {
      "metadata": {
        "id": "A1iOYehvZeoK",
        "colab_type": "text"
      },
      "cell_type": "markdown",
      "source": [
        "## Transformation of a linear system\n",
        "We start again with the matrix equation, capitol bold letters denotes matrices\n",
        "\\begin{equation}\n",
        "  \\boldsymbol{A}\\boldsymbol{X}=\\boldsymbol{B}\\,,\n",
        "\\end{equation}\n",
        "where $\\boldsymbol{A}$ is an $n \\times n$ matrix.\n",
        "\n",
        "We know that there exists a bi-diagonal transformación such that\n",
        "\\begin{equation}\n",
        "  \\boldsymbol{V}^\\dagger\\boldsymbol{A}\\,\\boldsymbol{U}=\\boldsymbol{A}_{\\text{diag}}\n",
        "\\end{equation}\n",
        "So, by doing standard operations we have\n",
        "\\begin{align}\n",
        "  \\boldsymbol{V}^\\dagger \\boldsymbol{A} \\boldsymbol{U} \\boldsymbol{U}^\\dagger \\boldsymbol{X}=& \\boldsymbol{V}^\\dagger \\boldsymbol{B}\\\\\n",
        "   \\left( \\boldsymbol{V}^\\dagger \\boldsymbol{A} \\boldsymbol{U} \\right) \n",
        "   \\left( \\boldsymbol{U}^\\dagger \\boldsymbol{X}\\right)=& \\boldsymbol{V}^\\dagger \\boldsymbol{B}\\\\\n",
        "  \\boldsymbol{A}_{\\text{diag}} \\boldsymbol{X}'=&\\boldsymbol{B}'\\,,      \n",
        "\\end{align}\n",
        "where\n",
        "\\begin{align}\n",
        "  \\boldsymbol{X}'=& \\boldsymbol{U}^\\dagger \\boldsymbol{X}\\,, &    \\boldsymbol{B}'=& \\boldsymbol{V}^\\dagger \\boldsymbol{B}'\\,,\n",
        "\\end{align}\n",
        "or\n",
        "\\begin{align}\n",
        "  \\boldsymbol{X}=& \\boldsymbol{U}\\boldsymbol{X}'\\,, &    \\boldsymbol{B}=& \\boldsymbol{V}\\boldsymbol{B}'\\,.\n",
        "\\end{align}\n",
        "\n",
        "If $\\boldsymbol{A}_{\\text{diag}}=\\operatorname{diag}(\\lambda_1,\\lambda_2,\\ldots \\lambda_n)$, $\\boldsymbol{X}^{\\operatorname{T}}=(x_1\\ x_2\\ x_3)^{\\operatorname{T}}$ and $\\boldsymbol{B}^{\\operatorname{T}}=(b_1\\ b_2\\ b_3)^{\\operatorname{T}}$,\n",
        "the solution of the system is given by\n",
        "\\begin{equation}\n",
        "\\lambda_i x'_i=b_i'\\,.\n",
        "\\end{equation}\n",
        "\n",
        "Note that\n",
        "\\begin{align}\n",
        "   \\boldsymbol{X}'=&\\boldsymbol{A}_{\\text{diag}}^{-1}\\boldsymbol{B}'\\,,      \n",
        "\\end{align}\n",
        "and the final solution is\n",
        "\\begin{align}\n",
        "   \\boldsymbol{X}=&U \\boldsymbol{X}'\\\\ \n",
        "               =&U\\boldsymbol{A}_{\\text{diag}}^{-1}V^\\dagger \\boldsymbol{B}\\,,      \n",
        "\\end{align}\n",
        "Therefore\n",
        "$$A^{-1}=U\\boldsymbol{A}_{\\text{diag}}^{-1}V^\\dagger$$"
      ]
    },
    {
      "metadata": {
        "id": "1gnmh6-0ZeoK",
        "colab_type": "text"
      },
      "cell_type": "markdown",
      "source": [
        " A suitable way to introduce this method is applying it to some basic problem. To do so, let's take the result of the [Example 1](#Example-1):\n",
        "\n",
        "$$ \\begin{bmatrix}\n",
        "5 & -4 & 0 \\\\\n",
        "-4 & 7 & -3 \\\\ \n",
        "0 & -3 & 5\n",
        "\\end{bmatrix}\n",
        "\\begin{bmatrix}\n",
        "x_{1} \\\\\n",
        "x_{2} \\\\\n",
        "x_{3} \n",
        "\\end{bmatrix}  =\n",
        "\\begin{bmatrix}\n",
        "1 \\\\\n",
        "0 \\\\\n",
        "-2\n",
        "\\end{bmatrix}\n",
        "$$\n",
        "As the matrix is symmetric $\\boldsymbol{V}=\\boldsymbol{U}$ and $\\boldsymbol{U}^\\dagger=\\boldsymbol{U}^{\\operatorname{T}}$ "
      ]
    },
    {
      "metadata": {
        "id": "4Cvjb8GR7YAl",
        "colab_type": "text"
      },
      "cell_type": "markdown",
      "source": [
        "## Example"
      ]
    },
    {
      "metadata": {
        "id": "YUHs_HgxZeoL",
        "colab_type": "code",
        "colab": {},
        "outputId": "f2ea829f-31af-498a-a982-98d73c6b95b0"
      },
      "cell_type": "code",
      "source": [
        "A=M1\n",
        "A"
      ],
      "execution_count": 0,
      "outputs": [
        {
          "output_type": "execute_result",
          "data": {
            "text/plain": [
              "array([[ 5, -4,  0],\n",
              "       [-4,  7, -3],\n",
              "       [ 0, -3,  5]])"
            ]
          },
          "metadata": {
            "tags": []
          },
          "execution_count": 89
        }
      ]
    },
    {
      "metadata": {
        "id": "QFNzB2TbZeoO",
        "colab_type": "code",
        "colab": {},
        "outputId": "fa0dca28-8013-4299-a04c-6d270338e2dc"
      },
      "cell_type": "code",
      "source": [
        "B=np.array([[1],[0],[-2]])\n",
        "B"
      ],
      "execution_count": 0,
      "outputs": [
        {
          "output_type": "execute_result",
          "data": {
            "text/plain": [
              "array([[ 1],\n",
              "       [ 0],\n",
              "       [-2]])"
            ]
          },
          "metadata": {
            "tags": []
          },
          "execution_count": 5
        }
      ]
    },
    {
      "metadata": {
        "id": "7iQkosR8ZeoQ",
        "colab_type": "code",
        "colab": {}
      },
      "cell_type": "code",
      "source": [
        "λ,V=np.linalg.eig( A )"
      ],
      "execution_count": 0,
      "outputs": []
    },
    {
      "metadata": {
        "id": "oRoNMFvLZeoS",
        "colab_type": "code",
        "colab": {},
        "outputId": "43f70cb3-add4-46a6-b2e5-01d4825d160b"
      },
      "cell_type": "code",
      "source": [
        "A_diag=np.diag(λ)\n",
        "A_diag"
      ],
      "execution_count": 0,
      "outputs": [
        {
          "output_type": "execute_result",
          "data": {
            "text/plain": [
              "array([[ 11.09901951,   0.        ,   0.        ],\n",
              "       [  0.        ,   0.90098049,   0.        ],\n",
              "       [  0.        ,   0.        ,   5.        ]])"
            ]
          },
          "metadata": {
            "tags": []
          },
          "execution_count": 23
        }
      ]
    },
    {
      "metadata": {
        "id": "81EhmwnPZeoU",
        "colab_type": "code",
        "colab": {},
        "outputId": "9f6dac38-fb22-4610-b8e8-881c10e70917"
      },
      "cell_type": "code",
      "source": [
        "V "
      ],
      "execution_count": 0,
      "outputs": [
        {
          "output_type": "execute_result",
          "data": {
            "text/plain": [
              "array([[ -5.07191124e-01,  -6.18673713e-01,  -6.00000000e-01],\n",
              "       [  7.73342141e-01,  -6.33988906e-01,   1.91548674e-16],\n",
              "       [ -3.80393343e-01,  -4.64005285e-01,   8.00000000e-01]])"
            ]
          },
          "metadata": {
            "tags": []
          },
          "execution_count": 8
        }
      ]
    },
    {
      "metadata": {
        "id": "oQMyx6oAZeoW",
        "colab_type": "text"
      },
      "cell_type": "markdown",
      "source": [
        "We first check the proper order of the diagonalization"
      ]
    },
    {
      "metadata": {
        "id": "vYFqc13bZeoW",
        "colab_type": "code",
        "colab": {},
        "outputId": "79476f2f-1b6e-4bcf-cd78-38de680dfba0"
      },
      "cell_type": "code",
      "source": [
        "np.dot(  np.dot( V.transpose(),A  ), V).round(14)"
      ],
      "execution_count": 0,
      "outputs": [
        {
          "output_type": "execute_result",
          "data": {
            "text/plain": [
              "array([[ 11.09901951,   0.        ,   0.        ],\n",
              "       [  0.        ,   0.90098049,   0.        ],\n",
              "       [  0.        ,   0.        ,   5.        ]])"
            ]
          },
          "metadata": {
            "tags": []
          },
          "execution_count": 9
        }
      ]
    },
    {
      "metadata": {
        "id": "njiAE4b4ZeoZ",
        "colab_type": "text"
      },
      "cell_type": "markdown",
      "source": [
        "Since"
      ]
    },
    {
      "metadata": {
        "id": "RQ2mx4eIZeoa",
        "colab_type": "code",
        "colab": {},
        "outputId": "300d5b59-f1fa-40ee-891a-e4299085c242"
      },
      "cell_type": "code",
      "source": [
        "V"
      ],
      "execution_count": 0,
      "outputs": [
        {
          "output_type": "execute_result",
          "data": {
            "text/plain": [
              "array([[ -5.07191124e-01,  -6.18673713e-01,  -6.00000000e-01],\n",
              "       [  7.73342141e-01,  -6.33988906e-01,   1.91548674e-16],\n",
              "       [ -3.80393343e-01,  -4.64005285e-01,   8.00000000e-01]])"
            ]
          },
          "metadata": {
            "tags": []
          },
          "execution_count": 10
        }
      ]
    },
    {
      "metadata": {
        "id": "JkZI2pTNZeoc",
        "colab_type": "text"
      },
      "cell_type": "markdown",
      "source": [
        "The final solution is:"
      ]
    },
    {
      "metadata": {
        "id": "bldXFh02Zeoc",
        "colab_type": "code",
        "colab": {},
        "outputId": "c4761f92-585d-4098-9e49-277358758331"
      },
      "cell_type": "code",
      "source": [
        "X=np.dot( np.dot( np.dot( V, np.linalg.inv(A_diag) ),V.transpose() ),B)\n",
        "X"
      ],
      "execution_count": 0,
      "outputs": [
        {
          "output_type": "execute_result",
          "data": {
            "text/plain": [
              "array([[ 0.04],\n",
              "       [-0.2 ],\n",
              "       [-0.52]])"
            ]
          },
          "metadata": {
            "tags": []
          },
          "execution_count": 11
        }
      ]
    },
    {
      "metadata": {
        "id": "agZ-WPWgZeoe",
        "colab_type": "text"
      },
      "cell_type": "markdown",
      "source": [
        "We can now check some properties"
      ]
    },
    {
      "metadata": {
        "id": "KAruEyXoZeoe",
        "colab_type": "code",
        "colab": {},
        "outputId": "15488fe8-d7e7-4ed3-c2b2-dc7ad98869c1"
      },
      "cell_type": "code",
      "source": [
        "V"
      ],
      "execution_count": 0,
      "outputs": [
        {
          "output_type": "execute_result",
          "data": {
            "text/plain": [
              "array([[ -5.07191124e-01,  -6.18673713e-01,  -6.00000000e-01],\n",
              "       [  7.73342141e-01,  -6.33988906e-01,   1.91548674e-16],\n",
              "       [ -3.80393343e-01,  -4.64005285e-01,   8.00000000e-01]])"
            ]
          },
          "metadata": {
            "tags": []
          },
          "execution_count": 12
        }
      ]
    },
    {
      "metadata": {
        "id": "Lg_7lshmZeoh",
        "colab_type": "code",
        "colab": {},
        "outputId": "9064dd58-bab0-4b90-85fd-79eec6341450"
      },
      "cell_type": "code",
      "source": [
        "np.reshape( V[: ,0],(3,1) )"
      ],
      "execution_count": 0,
      "outputs": [
        {
          "output_type": "execute_result",
          "data": {
            "text/plain": [
              "array([[-0.50719112],\n",
              "       [ 0.77334214],\n",
              "       [-0.38039334]])"
            ]
          },
          "metadata": {
            "tags": []
          },
          "execution_count": 13
        }
      ]
    },
    {
      "metadata": {
        "id": "VAFBe0g_Zeok",
        "colab_type": "code",
        "colab": {},
        "outputId": "b32def6b-1ae7-46a6-e698-89c7cb7d3967"
      },
      "cell_type": "code",
      "source": [
        "A_diag[0,0]"
      ],
      "execution_count": 0,
      "outputs": [
        {
          "output_type": "execute_result",
          "data": {
            "text/plain": [
              "11.099019513592784"
            ]
          },
          "metadata": {
            "tags": []
          },
          "execution_count": 14
        }
      ]
    },
    {
      "metadata": {
        "id": "utMR7eiOZeom",
        "colab_type": "text"
      },
      "cell_type": "markdown",
      "source": [
        "We define the eigenvector $V_i$ as"
      ]
    },
    {
      "metadata": {
        "id": "ButZ6c29Zeom",
        "colab_type": "code",
        "colab": {},
        "outputId": "e3ef428a-80cd-45e2-f61e-968429712bd5"
      },
      "cell_type": "code",
      "source": [
        "V0=np.reshape( V[:,0],(3,1))\n",
        "V1=np.reshape( V[:,1],(3,1))\n",
        "V2=np.reshape( V[:,2],(3,1))\n",
        "display(V0)\n",
        "display(V1)\n",
        "V2"
      ],
      "execution_count": 0,
      "outputs": [
        {
          "output_type": "display_data",
          "data": {
            "text/plain": [
              "array([[-0.50719112],\n",
              "       [ 0.77334214],\n",
              "       [-0.38039334]])"
            ]
          },
          "metadata": {
            "tags": []
          }
        },
        {
          "output_type": "display_data",
          "data": {
            "text/plain": [
              "array([[-0.61867371],\n",
              "       [-0.63398891],\n",
              "       [-0.46400528]])"
            ]
          },
          "metadata": {
            "tags": []
          }
        },
        {
          "output_type": "execute_result",
          "data": {
            "text/plain": [
              "array([[ -6.00000000e-01],\n",
              "       [  1.91548674e-16],\n",
              "       [  8.00000000e-01]])"
            ]
          },
          "metadata": {
            "tags": []
          },
          "execution_count": 28
        }
      ]
    },
    {
      "metadata": {
        "id": "MkfNpMwbZeow",
        "colab_type": "code",
        "colab": {},
        "outputId": "372d8ec8-03e6-4c80-dbc1-0c614b5323b9"
      },
      "cell_type": "code",
      "source": [
        "VVdisplay( np.dot(A,V0) )\n",
        "A_diag[0,0]*V0"
      ],
      "execution_count": 0,
      "outputs": [
        {
          "output_type": "display_data",
          "data": {
            "text/plain": [
              "array([[-5.62932419],\n",
              "       [ 8.58333952],\n",
              "       [-4.22199314]])"
            ]
          },
          "metadata": {
            "tags": []
          }
        },
        {
          "output_type": "execute_result",
          "data": {
            "text/plain": [
              "array([[-5.62932419],\n",
              "       [ 8.58333952],\n",
              "       [-4.22199314]])"
            ]
          },
          "metadata": {
            "tags": []
          },
          "execution_count": 16
        }
      ]
    },
    {
      "metadata": {
        "id": "N7rTShl9Zeoz",
        "colab_type": "code",
        "colab": {},
        "outputId": "36e6f530-487c-4151-f31c-c5da51163d0d"
      },
      "cell_type": "code",
      "source": [
        "display( np.dot(A,V1) )\n",
        "A_diag[1,1]*V1"
      ],
      "execution_count": 0,
      "outputs": [
        {
          "output_type": "display_data",
          "data": {
            "text/plain": [
              "array([[-0.55741294],\n",
              "       [-0.57121163],\n",
              "       [-0.41805971]])"
            ]
          },
          "metadata": {
            "tags": []
          }
        },
        {
          "output_type": "execute_result",
          "data": {
            "text/plain": [
              "array([[-0.55741294],\n",
              "       [-0.57121163],\n",
              "       [-0.41805971]])"
            ]
          },
          "metadata": {
            "tags": []
          },
          "execution_count": 17
        }
      ]
    },
    {
      "metadata": {
        "id": "zRu4zQHKZeo2",
        "colab_type": "code",
        "colab": {},
        "outputId": "30f9eb80-a64b-42b8-f026-2d95a019a0b3"
      },
      "cell_type": "code",
      "source": [
        "display( np.dot(A,V2) )\n",
        "A_diag[2,2]*V2"
      ],
      "execution_count": 0,
      "outputs": [
        {
          "output_type": "display_data",
          "data": {
            "text/plain": [
              "array([[ -3.00000000e+00],\n",
              "       [  3.10862447e-15],\n",
              "       [  4.00000000e+00]])"
            ]
          },
          "metadata": {
            "tags": []
          }
        },
        {
          "output_type": "execute_result",
          "data": {
            "text/plain": [
              "array([[ -3.00000000e+00],\n",
              "       [  9.57743370e-16],\n",
              "       [  4.00000000e+00]])"
            ]
          },
          "metadata": {
            "tags": []
          },
          "execution_count": 18
        }
      ]
    },
    {
      "metadata": {
        "id": "wmszgFZdZeo5",
        "colab_type": "text"
      },
      "cell_type": "markdown",
      "source": [
        "The diagonalization matrix can be rebuild from the eigenvectors"
      ]
    },
    {
      "metadata": {
        "id": "E_TOP-rdZeo5",
        "colab_type": "code",
        "colab": {}
      },
      "cell_type": "code",
      "source": [
        "U=np.hstack((V0,V1,V2))"
      ],
      "execution_count": 0,
      "outputs": []
    },
    {
      "metadata": {
        "id": "-Vc63b8TZeo7",
        "colab_type": "code",
        "colab": {},
        "outputId": "bc26338c-2870-4650-98f6-d6a69d9df951"
      },
      "cell_type": "code",
      "source": [
        "np.dot(  np.dot( U.transpose(),A  ), U).round(14)"
      ],
      "execution_count": 0,
      "outputs": [
        {
          "output_type": "execute_result",
          "data": {
            "text/plain": [
              "array([[ 11.09901951,   0.        ,   0.        ],\n",
              "       [  0.        ,   0.90098049,   0.        ],\n",
              "       [  0.        ,   0.        ,   5.        ]])"
            ]
          },
          "metadata": {
            "tags": []
          },
          "execution_count": 20
        }
      ]
    },
    {
      "metadata": {
        "id": "9bls0mm5Zeo9",
        "colab_type": "text"
      },
      "cell_type": "markdown",
      "source": [
        "### Eigenvector reordering"
      ]
    },
    {
      "metadata": {
        "id": "DOBPvoJ1Zeo-",
        "colab_type": "text"
      },
      "cell_type": "markdown",
      "source": [
        "We can use this to check the proper order of the eigenvalues"
      ]
    },
    {
      "metadata": {
        "id": "m6PMCrJlZeo-",
        "colab_type": "text"
      },
      "cell_type": "markdown",
      "source": [
        "The order of eigenvalues can now be changed by changing the order of the eigenvectors and redifining the diagonalization matrix. For example, from small to large. We define first the eigenvalues"
      ]
    },
    {
      "metadata": {
        "id": "HTWgBePpZeo_",
        "colab_type": "code",
        "colab": {}
      },
      "cell_type": "code",
      "source": [
        "np.sort?"
      ],
      "execution_count": 0,
      "outputs": []
    },
    {
      "metadata": {
        "id": "pixl0cvzZepB",
        "colab_type": "code",
        "colab": {},
        "outputId": "3b480fcb-c500-4107-b3ee-be96f00d9b0d"
      },
      "cell_type": "code",
      "source": [
        "np.sort( λ)"
      ],
      "execution_count": 0,
      "outputs": [
        {
          "output_type": "execute_result",
          "data": {
            "text/plain": [
              "array([  0.90098049,   5.        ,  11.09901951])"
            ]
          },
          "metadata": {
            "tags": []
          },
          "execution_count": 100
        }
      ]
    },
    {
      "metadata": {
        "id": "L3Qi31TkZepG",
        "colab_type": "code",
        "colab": {},
        "outputId": "5fb513ea-3500-4659-f9a4-75cc31eda65c"
      },
      "cell_type": "code",
      "source": [
        "np.sort( λ)[::-1]"
      ],
      "execution_count": 0,
      "outputs": [
        {
          "output_type": "execute_result",
          "data": {
            "text/plain": [
              "array([ 11.09901951,   5.        ,   0.90098049])"
            ]
          },
          "metadata": {
            "tags": []
          },
          "execution_count": 101
        }
      ]
    },
    {
      "metadata": {
        "id": "aYaYHJ2wZepJ",
        "colab_type": "code",
        "colab": {},
        "outputId": "d2041162-e2cc-47f6-ad98-e201e6924677"
      },
      "cell_type": "code",
      "source": [
        "λ"
      ],
      "execution_count": 0,
      "outputs": [
        {
          "output_type": "execute_result",
          "data": {
            "text/plain": [
              "array([ 11.09901951,   0.90098049,   5.        ])"
            ]
          },
          "metadata": {
            "tags": []
          },
          "execution_count": 102
        }
      ]
    },
    {
      "metadata": {
        "id": "DeIj8z5kZepL",
        "colab_type": "code",
        "colab": {},
        "outputId": "23c42598-ce0a-4536-a53e-92302c80c5db"
      },
      "cell_type": "code",
      "source": [
        "index=np.abs(λ).argsort()\n",
        "index"
      ],
      "execution_count": 0,
      "outputs": [
        {
          "output_type": "execute_result",
          "data": {
            "text/plain": [
              "array([1, 2, 0])"
            ]
          },
          "metadata": {
            "tags": []
          },
          "execution_count": 31
        }
      ]
    },
    {
      "metadata": {
        "id": "v5Mhuh-QZepP",
        "colab_type": "text"
      },
      "cell_type": "markdown",
      "source": [
        "can be implemented in general with a _comprehensive_ list"
      ]
    },
    {
      "metadata": {
        "id": "y4fkJD3sZepP",
        "colab_type": "code",
        "colab": {}
      },
      "cell_type": "code",
      "source": [
        "n=3 #matrix range\n",
        "U=np.hstack( [ np.reshape( V[:,i], (n,1) ) for i in index   ] )"
      ],
      "execution_count": 0,
      "outputs": []
    },
    {
      "metadata": {
        "id": "2_A609DeZepR",
        "colab_type": "code",
        "colab": {},
        "outputId": "4400f1ae-728c-41dc-d836-81583541cd51"
      },
      "cell_type": "code",
      "source": [
        "np.dot(  np.dot( U.transpose(),A  ), U).round(14)"
      ],
      "execution_count": 0,
      "outputs": [
        {
          "output_type": "execute_result",
          "data": {
            "text/plain": [
              "array([[  0.90098049,   0.        ,   0.        ],\n",
              "       [  0.        ,   5.        ,   0.        ],\n",
              "       [  0.        ,   0.        ,  11.09901951]])"
            ]
          },
          "metadata": {
            "tags": []
          },
          "execution_count": 33
        }
      ]
    },
    {
      "metadata": {
        "id": "CFemQeVVZepT",
        "colab_type": "code",
        "colab": {},
        "outputId": "2374fd3a-8f31-49a3-85c4-8e314158be78"
      },
      "cell_type": "code",
      "source": [
        "print( np.linalg.det(A- λ[0]*np.identity(3) ) )\n",
        "print( np.linalg.det(A- λ[1]*np.identity(3) ) )\n",
        "np.linalg.det(A- λ[2]*np.identity(3) )"
      ],
      "execution_count": 0,
      "outputs": [
        {
          "output_type": "stream",
          "text": [
            "2.43765788099e-14\n",
            "1.63829730326e-14\n"
          ],
          "name": "stdout"
        },
        {
          "output_type": "execute_result",
          "data": {
            "text/plain": [
              "0.0"
            ]
          },
          "metadata": {
            "tags": []
          },
          "execution_count": 108
        }
      ]
    },
    {
      "metadata": {
        "id": "QLp5N41JZepX",
        "colab_type": "text"
      },
      "cell_type": "markdown",
      "source": [
        "### General matrix"
      ]
    },
    {
      "metadata": {
        "id": "mt7dzksmZepX",
        "colab_type": "text"
      },
      "cell_type": "markdown",
      "source": [
        "Since\n",
        "\\begin{equation}\n",
        "  \\boldsymbol{A}_{\\text{diag}}=\\boldsymbol{V}^\\dagger\\boldsymbol{A}\\,\\boldsymbol{U}\n",
        "\\end{equation}"
      ]
    },
    {
      "metadata": {
        "id": "1yeCVDwUZepX",
        "colab_type": "text"
      },
      "cell_type": "markdown",
      "source": [
        "\\begin{align}\n",
        "\\boldsymbol{A}_{\\text{diag}}\\boldsymbol{A}^\\dagger_{\\text{diag}}=&  (\\boldsymbol{V}^\\dagger\\boldsymbol{A}\\,\\boldsymbol{U})(\\boldsymbol{V}^\\dagger\\boldsymbol{A}\\,\\boldsymbol{U})^\\dagger\\nonumber \\\\\n",
        " =& \\boldsymbol{V}^\\dagger( \\boldsymbol{A}\\boldsymbol{A}^\\dagger)\\boldsymbol{V}\n",
        "\\end{align}\n",
        "\n",
        "\\begin{align}\n",
        "\\boldsymbol{A}_{\\text{diag}}^\\dagger \\boldsymbol{A}_{\\text{diag}} \n",
        " =& \\boldsymbol{U}^\\dagger (\\boldsymbol{A}^\\dagger\\boldsymbol{A})\\boldsymbol{U}\n",
        "\\end{align}\n",
        "\n"
      ]
    },
    {
      "metadata": {
        "id": "tEX8i6mKZepY",
        "colab_type": "code",
        "colab": {}
      },
      "cell_type": "code",
      "source": [
        "import numpy as np"
      ],
      "execution_count": 0,
      "outputs": []
    },
    {
      "metadata": {
        "id": "lGT_XQq2ZepZ",
        "colab_type": "code",
        "colab": {}
      },
      "cell_type": "code",
      "source": [
        "A=np.array( [ [2,-3],\n",
        "              [3, 6] ]\n",
        "            )"
      ],
      "execution_count": 0,
      "outputs": []
    },
    {
      "metadata": {
        "id": "3FncgsZXZepb",
        "colab_type": "code",
        "colab": {},
        "outputId": "fb8c4413-d18d-4218-c5fd-bbb32c28600a"
      },
      "cell_type": "code",
      "source": [
        "np.dot( A, A.transpose() )"
      ],
      "execution_count": 0,
      "outputs": [
        {
          "output_type": "execute_result",
          "data": {
            "text/plain": [
              "array([[ 13, -12],\n",
              "       [-12,  45]])"
            ]
          },
          "metadata": {
            "tags": []
          },
          "execution_count": 4
        }
      ]
    },
    {
      "metadata": {
        "id": "F2NxcPi-Zepc",
        "colab_type": "code",
        "colab": {},
        "outputId": "c33925b4-2c12-48cd-de05-8cb6cee62507"
      },
      "cell_type": "code",
      "source": [
        "np.dot( A.transpose(),A )"
      ],
      "execution_count": 0,
      "outputs": [
        {
          "output_type": "execute_result",
          "data": {
            "text/plain": [
              "array([[13, 12],\n",
              "       [12, 45]])"
            ]
          },
          "metadata": {
            "tags": []
          },
          "execution_count": 3
        }
      ]
    },
    {
      "metadata": {
        "id": "aALt1NxHZepf",
        "colab_type": "code",
        "colab": {},
        "outputId": "b31d02ec-b9a4-4b2f-ce00-29c765c5ef67"
      },
      "cell_type": "code",
      "source": [
        "λ2,V=np.linalg.eig( np.dot( A,A.transpose() )   )\n",
        "display(λ2)\n",
        "V"
      ],
      "execution_count": 0,
      "outputs": [
        {
          "output_type": "display_data",
          "data": {
            "text/plain": [
              "array([  9.,  49.])"
            ]
          },
          "metadata": {
            "tags": []
          }
        },
        {
          "output_type": "execute_result",
          "data": {
            "text/plain": [
              "array([[-0.9486833 ,  0.31622777],\n",
              "       [-0.31622777, -0.9486833 ]])"
            ]
          },
          "metadata": {
            "tags": []
          },
          "execution_count": 6
        }
      ]
    },
    {
      "metadata": {
        "id": "Mc7mXv9NZepi",
        "colab_type": "code",
        "colab": {},
        "outputId": "87e9b95d-02b2-4961-ab11-a19176d93773"
      },
      "cell_type": "code",
      "source": [
        "λ2,U=np.linalg.eig( np.dot( A.transpose(),A )   )\n",
        "display(λ2)\n",
        "U"
      ],
      "execution_count": 0,
      "outputs": [
        {
          "output_type": "display_data",
          "data": {
            "text/plain": [
              "array([  9.,  49.])"
            ]
          },
          "metadata": {
            "tags": []
          }
        },
        {
          "output_type": "execute_result",
          "data": {
            "text/plain": [
              "array([[-0.9486833 , -0.31622777],\n",
              "       [ 0.31622777, -0.9486833 ]])"
            ]
          },
          "metadata": {
            "tags": []
          },
          "execution_count": 7
        }
      ]
    },
    {
      "metadata": {
        "id": "CB2z8pUWZepl",
        "colab_type": "code",
        "colab": {},
        "outputId": "4859930d-2b12-4b64-bdff-3a430d0e751a"
      },
      "cell_type": "code",
      "source": [
        "np.dot( np.dot( V.transpose(), A ), U).round(15)"
      ],
      "execution_count": 0,
      "outputs": [
        {
          "output_type": "execute_result",
          "data": {
            "text/plain": [
              "array([[ 3.,  0.],\n",
              "       [ 0.,  7.]])"
            ]
          },
          "metadata": {
            "tags": []
          },
          "execution_count": 8
        }
      ]
    },
    {
      "metadata": {
        "id": "OpZ6xTlxZepn",
        "colab_type": "text"
      },
      "cell_type": "markdown",
      "source": [
        "__Activity__: Solve the system\n",
        "$$ \\boldsymbol{A} \\boldsymbol{x}=\\boldsymbol{B}$$\n",
        "for the previous $ \\boldsymbol{A}$ matrix and\n",
        "$$\\boldsymbol{B}=\\begin{bmatrix}\n",
        "   1\\\\\n",
        "   -4\\\\\n",
        "   \\end{bmatrix}$$"
      ]
    },
    {
      "metadata": {
        "id": "n8B6eI0HZepn",
        "colab_type": "text"
      },
      "cell_type": "markdown",
      "source": [
        "## Computing time"
      ]
    },
    {
      "metadata": {
        "id": "6b78wWAzZepn",
        "colab_type": "text"
      },
      "cell_type": "markdown",
      "source": [
        "As mentioned before, Algebra Linear methods do not invole numerical approximations excepting round-off errors. This implies the computing time depends on the number of involved operations (multiplications, divisions, additions and subtractions). It is possible to demonstrate that the numbers of required divisions/multiplications is given by:\n",
        "\n",
        "$$\\frac{n^3}{3}+n^2-\\frac{n}{3}$$\n",
        "\n",
        "and the required additions/subtractions:\n",
        "\n",
        "$$\\frac{n^3}{3}+\\frac{n^2}{2}-\\frac{5n}{6}$$\n",
        "\n",
        "These numbers are calculated separately as the computing time per operation for divisions and multiplications are similar and much larger than computing times for additions and subtractions. According to this, the overall computing time, for large $n$, scales as $n^3$/3."
      ]
    },
    {
      "metadata": {
        "id": "xQgyFrSWZepo",
        "colab_type": "text"
      },
      "cell_type": "markdown",
      "source": [
        "## Example 2"
      ]
    },
    {
      "metadata": {
        "id": "fXlqvoW6Zepo",
        "colab_type": "text"
      },
      "cell_type": "markdown",
      "source": [
        "Using the library `datetime` of python, evaluate the computing time required for `Gaussian_Elimination` to find the solution of a system of $n=20$ equations and $20$ unknowns. For this purpose you can generate random systems. For a more robust result, repeat $500$ times, give a mean value and plot an histrogram of the computing times."
      ]
    },
    {
      "metadata": {
        "id": "jF2_-LbfZepq",
        "colab_type": "code",
        "colab": {},
        "outputId": "38aa75a9-ac76-4e19-f8b6-390a22848866"
      },
      "cell_type": "code",
      "source": [
        "#Importing datatime\n",
        "from datetime import datetime\n",
        "\n",
        "#Number of repeats\n",
        "Nrep = 500\n",
        "#Size of matrix\n",
        "n = 20\n",
        "\n",
        "def Gaussian_Time( n, Nrep ):\n",
        "    #Arrays of times\n",
        "    Times = []\n",
        "    #Cicle for number of repeats\n",
        "    for i in xrange(Nrep):\n",
        "        #Generating random matrix\n",
        "        M = np.matrix( np.random.random( (n,n+1) ) )\n",
        "        \n",
        "        #Starting time counter\n",
        "        tstart = datetime.now()\n",
        "        #Invoking Gaussian Elimination routine\n",
        "        Gaussian_Elimination(M)\n",
        "        #Killing time counter\n",
        "        tend = datetime.now()\n",
        "        \n",
        "        #Saving computing time\n",
        "        Times.append( (tend-tstart).microseconds )\n",
        "        \n",
        "    #Numpy Array\n",
        "    Times = np.array(Times)\n",
        "    \n",
        "    print \"The mean computing time for a %dx%d matrix is: %lf microseconds\"%(n,n,Times.mean())\n",
        "    \n",
        "    #Histrogram\n",
        "    plt.figure( figsize=(8,5) )\n",
        "    histo = plt.hist( Times, bins = 30 )\n",
        "    plt.xlabel( \"Computing Time [microseconds]\" )\n",
        "    plt.ylabel( \"Ocurrences\" )\n",
        "    plt.grid()\n",
        "    \n",
        "    return Times.mean()\n",
        "    \n",
        "    \n",
        "Gaussian_Time( n, Nrep )"
      ],
      "execution_count": 0,
      "outputs": [
        {
          "output_type": "stream",
          "text": [
            "The mean computing time for a 20x20 matrix is: 2762.628000 microseconds\n"
          ],
          "name": "stdout"
        },
        {
          "output_type": "execute_result",
          "data": {
            "text/plain": [
              "2762.6280000000002"
            ]
          },
          "metadata": {
            "tags": []
          },
          "execution_count": 12
        },
        {
          "output_type": "display_data",
          "data": {
            "image/png": "[encoded data removed]",
            "text/plain": [
              "<matplotlib.figure.Figure at 0x7f733c0becd0>"
            ]
          },
          "metadata": {
            "tags": []
          }
        }
      ]
    },
    {
      "metadata": {
        "id": "0WYsnMsGZepu",
        "colab_type": "text"
      },
      "cell_type": "markdown",
      "source": [
        "## <font color='red'> Activity </font>"
      ]
    },
    {
      "metadata": {
        "id": "QOcQ-3WAZepv",
        "colab_type": "text"
      },
      "cell_type": "markdown",
      "source": [
        "<font color='red'>\n",
        "Using the previous code, estimate the computing time for random matrices of size $n=5,10,50,100,500,1000$. For each size, compute $500$ times in order to reduce spurious errors. Plot the results in a figure of $n$ vs computing time. Is it verified the some of scaling laws (Multiplication/Division or Addition/Sustraction). Note that for large values of $n$, both scaling laws converge to the same.\n",
        "</font>"
      ]
    },
    {
      "metadata": {
        "id": "Yo9_a3cQZepx",
        "colab_type": "text"
      },
      "cell_type": "markdown",
      "source": [
        "- - -"
      ]
    },
    {
      "metadata": {
        "id": "M8_l9AohZepz",
        "colab_type": "text"
      },
      "cell_type": "markdown",
      "source": [
        "## Partial pivoting"
      ]
    },
    {
      "metadata": {
        "id": "4AAfgdZVZep0",
        "colab_type": "text"
      },
      "cell_type": "markdown",
      "source": [
        "A suitable method to reduce round-off errors is to choose a pivot more conveniently. As we saw before, a small pivot generally implies larger propagated errors as they appear usually as dividends. The partial pivoting method consists then of a choosing of the largest absolute coefficient associated to $x_i$ instead of the first non-null one, i.e.\n",
        "\n",
        "$$ |a_{ii}| = \\max_{i\\leq j\\leq n}|a_{ji}| $$\n",
        "\n",
        "This way, propagated multiplication errors would be minimized."
      ]
    },
    {
      "metadata": {
        "id": "ZMjWc8XAZep1",
        "colab_type": "text"
      },
      "cell_type": "markdown",
      "source": [
        "## <font color='red'> Activity </font>"
      ]
    },
    {
      "metadata": {
        "id": "j9L2TabEZep1",
        "colab_type": "text"
      },
      "cell_type": "markdown",
      "source": [
        "<font color='red'>\n",
        "Create a new routine `Gaussian_Elimination_Pivoting` from `Gaussian_Elimination` in order to include the partial pivoting method. Compare both routines with some random matrix and with the exact solution.\n",
        "</font>"
      ]
    },
    {
      "metadata": {
        "id": "egQJvknLZep2",
        "colab_type": "text"
      },
      "cell_type": "markdown",
      "source": [
        "- - -"
      ]
    },
    {
      "metadata": {
        "id": "FqTRdCLBZep2",
        "colab_type": "text"
      },
      "cell_type": "markdown",
      "source": [
        "# Matrix Inversion"
      ]
    },
    {
      "metadata": {
        "id": "xWWVcbI3Zep2",
        "colab_type": "text"
      },
      "cell_type": "markdown",
      "source": [
        "Asumming a nonsingular matrix $A$, if a matrix $A^{-1}$ exists, with $AA^{-1} = I$ and $A^{-1}A = I$, where $I$ is the identity matrix, then $A^{-1}$ is called the inverse matrix of $A$. If such a matrix does not exist, $A$ is said to be a singular matrix.\n",
        "\n",
        "A corollary of this definition is that $A$ is also the inverse matrix of $A^{-1}$.\n",
        "\n",
        "Once defined the Gaussian Elimination method, it is possible to extend it in order to find the inverse of any nonsingular matrix.\n",
        "Let's consider the next equation:\n",
        "\n",
        "$$ AA^{-1} = AB= \\left[ \\matrix{\n",
        "a_{11} & a_{12} & \\cdots & a_{1n} \\\\\n",
        "a_{21} & a_{22} & \\cdots & a_{2n} \\\\\n",
        "\\vdots & \\vdots & & \\vdots\\\\\n",
        "a_{m1} & a_{n2} & \\cdots & a_{nn} \n",
        "}\\right]\\left[ \\matrix{\n",
        "b_{11} & b_{12} & \\cdots & b_{1n} \\\\\n",
        "b_{21} & b_{22} & \\cdots & b_{2n} \\\\\n",
        "\\vdots & \\vdots & & \\vdots\\\\\n",
        "b_{n1} & b_{n2} & \\cdots & b_{nn} \n",
        "}\\right] = \n",
        "\\left[ \\matrix{\n",
        "1 & 0 & \\cdots & 0 \\\\\n",
        "0 & 1 & \\cdots & 0 \\\\\n",
        "\\vdots & \\vdots & \\ddots & \\vdots\\\\\n",
        "0 & 0 & \\cdots & 1\n",
        "}\\right]$$\n",
        "\n",
        "This can be rewritten as a set of $n$ systems of equations, i.e.\n",
        "\n",
        "$$ \\left[ \\matrix{\n",
        "a_{11} & a_{12} & \\cdots & a_{1n} \\\\\n",
        "a_{21} & a_{22} & \\cdots & a_{2n} \\\\\n",
        "\\vdots & \\vdots & & \\vdots\\\\\n",
        "a_{n1} & a_{n2} & \\cdots & a_{nn} \n",
        "}\\right]\\left[ \\matrix{\n",
        "b_{11} \\\\\n",
        "b_{21} \\\\\n",
        "\\vdots \\\\\n",
        "b_{n1}\n",
        "}\\right] = \n",
        "\\left[ \\matrix{\n",
        "1 \\\\\n",
        "0 \\\\\n",
        "\\vdots \\\\\n",
        "0\n",
        "}\\right],$$\n",
        "\n",
        "$$\\left[ \\matrix{\n",
        "a_{11} & a_{12} & \\cdots & a_{1n} \\\\\n",
        "a_{21} & a_{22} & \\cdots & a_{2n} \\\\\n",
        "\\vdots & \\vdots & & \\vdots\\\\\n",
        "a_{n1} & a_{n2} & \\cdots & a_{nn} \n",
        "}\\right]\\left[ \\matrix{\n",
        "b_{12} \\\\\n",
        "b_{22} \\\\\n",
        "\\vdots \\\\\n",
        "b_{n2}\n",
        "}\\right] = \n",
        "\\left[ \\matrix{\n",
        "0 \\\\\n",
        "1 \\\\\n",
        "\\vdots \\\\\n",
        "0\n",
        "}\\right]$$\n",
        "\n",
        "$$\\vdots$$ \n",
        "$$\\left[ \\matrix{\n",
        "a_{11} & a_{12} & \\cdots & a_{1n} \\\\\n",
        "a_{21} & a_{22} & \\cdots & a_{2n} \\\\\n",
        "\\vdots & \\vdots & & \\vdots\\\\\n",
        "a_{n1} & a_{n2} & \\cdots & a_{nn} \n",
        "}\\right]\\left[ \\matrix{\n",
        "b_{1n} \\\\\n",
        "b_{2n} \\\\\n",
        "\\vdots \\\\\n",
        "b_{nn}\n",
        "}\\right] = \n",
        "\\left[ \\matrix{\n",
        "0 \\\\\n",
        "0 \\\\\n",
        "\\vdots \\\\\n",
        "1\n",
        "}\\right]$$\n",
        "\n",
        "These systems can be solved individually by using Gaussian Elimination, however we can mix all the problems, obtaining the augmented matrix:\n",
        "\n",
        "$$\\left[ \\matrix{\n",
        "a_{11} & a_{12} & \\cdots & a_{1n} & \\vdots & 1 & 0 & \\cdots & 0 \\\\\n",
        "a_{21} & a_{22} & \\cdots & a_{2n} & \\vdots & 0 & 1 & \\cdots & 0 \\\\\n",
        "\\vdots & \\vdots & & \\vdots & \\vdots & \\vdots & \\vdots & \\ddots & \\vdots\\\\\n",
        "a_{n1} & a_{n2} & \\cdots & a_{nn} & \\vdots & 0 & 0 & \\cdots & 1\n",
        "}\\right]$$\n",
        "\n",
        "Now, applying Gaussian Elimination we can obtain a upper diagonal form for the first matrix. Completing the steps using forwards elimination we can convert the first matrix into the identity matrix, obtaining \n",
        "\n",
        "$$\\left[ \\matrix{\n",
        "1 & 0 & \\cdots & 0 & \\vdots & b_{11} & b_{12} & \\cdots & b_{1n} \\\\\n",
        "0 & 1 & \\cdots & 0 & \\vdots & b_{21} & b_{22} & \\cdots & b_{2n} \\\\\n",
        "\\vdots & \\vdots & \\ddots & \\vdots & \\vdots & \\vdots & \\vdots & & \\vdots\\\\\n",
        "0 & 0 & \\cdots & 1 & \\vdots & b_{n1} & b_{n2} & \\cdots & b_{nn}\n",
        "}\\right]$$\n",
        "\n",
        "Where the second matrix is then the inverse $B=A^{-1}$."
      ]
    },
    {
      "metadata": {
        "id": "PHRKvZk2Zep5",
        "colab_type": "text"
      },
      "cell_type": "markdown",
      "source": [
        "## <font color='red'> Activity </font>"
      ]
    },
    {
      "metadata": {
        "id": "DxrVqcmtZep5",
        "colab_type": "text"
      },
      "cell_type": "markdown",
      "source": [
        "<font color='red'>\n",
        "Using the previous routine `Gaussian_Elimination_Pivoting`, create a new routine `Inverse` that calculates the inverse of any given squared matrix.\n",
        "</font>"
      ]
    },
    {
      "metadata": {
        "id": "4xGDvsakZep6",
        "colab_type": "text"
      },
      "cell_type": "markdown",
      "source": [
        "- - -"
      ]
    },
    {
      "metadata": {
        "id": "sbOkNC-hZep7",
        "colab_type": "text"
      },
      "cell_type": "markdown",
      "source": [
        "# Matrix diagonalization\n",
        "\n",
        "A general complex $n\\times n$ matrix $M$ can be diagonalized by bi-unitary transformation\n",
        "\\begin{align}\n",
        "M_{\\text{diag}}=&U_1^\\dagger M U_2\\,& U_1^\\dagger U_1&=\\boldsymbol{1}\\,,\\quad  U_2^\\dagger U_2=\\boldsymbol{1}\\,,\\quad\n",
        "\\end{align}\n"
      ]
    },
    {
      "metadata": {
        "id": "LH99CU2rZep7",
        "colab_type": "text"
      },
      "cell_type": "markdown",
      "source": [
        "# Determinant of a Matrix"
      ]
    },
    {
      "metadata": {
        "id": "6qm9Bu8_Zep7",
        "colab_type": "text"
      },
      "cell_type": "markdown",
      "source": [
        "The determinant of a matrix is a scalar quantity calculated for square matrix. This provides important information about the matrix of coefficients of a system of linear of equations. For example, any system of $n$ equations and $n$ unknowns has an unique solution if the associated determinant is nonzero. This also implies the determinant allows to evaluate whether a matrix is singular or nonsingular."
      ]
    },
    {
      "metadata": {
        "id": "vaeTK6sjZep7",
        "colab_type": "text"
      },
      "cell_type": "markdown",
      "source": [
        "## Calculating determinants"
      ]
    },
    {
      "metadata": {
        "id": "G-U2rA3wZep8",
        "colab_type": "text"
      },
      "cell_type": "markdown",
      "source": [
        "Next, we shall define some properties of determinants that will allow us to calculate determinants by using a recursive code:\n",
        "\n",
        "**1.** If $A = [a]$ is a $1\\times 1$ matrix, its determinant is then $\\det A = a$.\n",
        "\n",
        "**2.** If $A$ is a $n\\times n$ matrix, the minor matrix $M_{ij}$ is the determinant of the $(n-1)\\times(n-1)$ matrix obtained by deleting the $i$th row and the $j$th column.\n",
        "\n",
        "**3.** The cofactor $A_{ij}$ associated with $M_{ij}$ is defined by $A_{ij} = (-1)^{i+j}M_{ij}$.\n",
        "\n",
        "**4.** The determinant of a $n\\times n$ matrix $A$ is given by:\n",
        "\n",
        "$$ \\det A = \\sum_{j=1}^n a_{ij}A_{ij} $$\n",
        "\n",
        "or \n",
        "\n",
        "$$ \\det A = \\sum_{i=1}^n a_{ij}A_{ij} $$\n",
        "\n",
        "This is, it is possible to use both, a row or a column for calculating the determinant."
      ]
    },
    {
      "metadata": {
        "id": "8WsiVo85Zep8",
        "colab_type": "code",
        "colab": {}
      },
      "cell_type": "code",
      "source": [
        "#Determinant of a Matrix\n",
        "def Determinant( A0 ):\n",
        "    #Local copy of matrix\n",
        "    A = np.copy(A0)\n",
        "    #Size of matrix\n",
        "    n = len(A)\n",
        "    \n",
        "    #How to be swept\n",
        "    i = 0\n",
        "    \n",
        "    #Detecting 1x1 matrices\n",
        "    if n==1:\n",
        "        return A[0][0]\n",
        "    #Detecting nxn matrices\n",
        "    else:\n",
        "        #Cumulative variable\n",
        "        determ = 0\n",
        "        for j in xrange(n):\n",
        "            determ += (-1)**(i+j)*A[i,j]*determinant( A[delete(range(n),i)][:,delete(range(n),j)] )\n",
        "        return determ"
      ],
      "execution_count": 0,
      "outputs": []
    },
    {
      "metadata": {
        "id": "nd5h09qLZep9",
        "colab_type": "code",
        "colab": {},
        "outputId": "bcce3d30-fd2b-4d54-d479-daedc614c2fd"
      },
      "cell_type": "code",
      "source": [
        "#Generating random matrix\n",
        "M = np.matrix( np.random.random( (4,4) ) )\n",
        "print \"Matrix nxn A:\\n\", M, \"\\n\"\n",
        "print \"Determinant by our method D:\\n\", Determinant( M ), \"\\n\"\n",
        "print \"Determinant by NumPy method D:\\n\", det( M ), \"\\n\""
      ],
      "execution_count": 0,
      "outputs": [
        {
          "output_type": "stream",
          "text": [
            "Matrix nxn A:\n",
            "[[ 0.37958345  0.47403548  0.67939948  0.21525605]\n",
            " [ 0.62765007  0.62237439  0.53549702  0.14357914]\n",
            " [ 0.58476546  0.56165553  0.37870035  0.18926523]\n",
            " [ 0.48698377  0.83138615  0.08066257  0.58164345]] \n",
            "\n",
            "Determinant by our method D:\n",
            "-0.00776752447634 \n",
            "\n",
            "Determinant by NumPy method D:\n",
            "-0.00776752447634 \n",
            "\n"
          ],
          "name": "stdout"
        }
      ]
    },
    {
      "metadata": {
        "id": "JQX4y_lAZeqB",
        "colab_type": "text"
      },
      "cell_type": "markdown",
      "source": [
        "## Computing time of determinants"
      ]
    },
    {
      "metadata": {
        "id": "XSSGIDcvZeqB",
        "colab_type": "text"
      },
      "cell_type": "markdown",
      "source": [
        "Using the previous recurrence, we can calculate the computing time of the previous algorithm. First, let's consider the number of required operations for a $2\\times 2$ matrix: let $A$ be a $2\\times 2$ matrix given by:\n",
        "\n",
        "$$ A = \\left[ \\matrix{\n",
        "a_{11} & a_{12} \\\\\n",
        "a_{21} & a_{22}}\\right]$$\n",
        "\n",
        "The determinant is then given by:\n",
        "\n",
        "$$det(A) = a_{11}a_{22} - a_{12}a_{21}$$\n",
        "\n",
        "the number of required multiplications was $2$ and subtractions is $1$.\n",
        "\n",
        "Now, using the previous formula for the determinant\n",
        "\n",
        "$$ \\det A = \\sum_{j=1}^n a_{ij}A_{ij} $$\n",
        "\n",
        "For a $3\\times 3$ matrix, it is necessary to calculate $3$ times $2\\times 2$ determinants. Besides, it is necessary to multiply the cofactor $A_{ij}$ with the coefficient $a_{ij}$, that leads us with $t_{n=3}=3\\times 2 + 3$ multiplications. Additions are not important as their computing time is far less than multiplications.\n",
        "\n",
        "For a $4\\times 4$ matrix, we need four deteminants of $3\\times 3$ submatrices, leading $t_{n=4} = 4\\times( 3\\times 2 + 3 ) + 4 = 4! + \\frac{4!}{2!} + \\frac{4!}{3!}$. In general, for a $n\\times n$ matrix, we have then:\n",
        "\n",
        "$$ t_{n} = \\frac{n!}{(n-1)!} + \\frac{n!}{(n-2)!} + \\cdots + \\frac{n!}{1!} = n!\\left( \\sum_{i=1}^{n-1}\\frac{1}{i!} \\right)$$\n",
        "\n",
        "If $n$ is large enough, we can approximate $t_{n}\\approx n!$.\n",
        "\n",
        "In computers, this is a prohibitive computing time so other schemes have to be proposed."
      ]
    },
    {
      "metadata": {
        "id": "Ar5GDOlQZeqC",
        "colab_type": "text"
      },
      "cell_type": "markdown",
      "source": [
        "## <font color='red'> Activity </font>"
      ]
    },
    {
      "metadata": {
        "id": "8QJvgrN8ZeqC",
        "colab_type": "text"
      },
      "cell_type": "markdown",
      "source": [
        "<font color='red'>\n",
        "Evaluate the computing time of the `Determinant` routine for matrix sizes of $n=1,2,3,\\cdots,10$ and doing several repeats. Plot your result ($n$ vs $t_n$). What can you conclude about the behaviour of the computing time?\n",
        "</font>"
      ]
    },
    {
      "metadata": {
        "id": "0_eLCjf2ZeqC",
        "colab_type": "text"
      },
      "cell_type": "markdown",
      "source": [
        "## Properties of determinants"
      ]
    },
    {
      "metadata": {
        "id": "A4XiSA4qZeqC",
        "colab_type": "text"
      },
      "cell_type": "markdown",
      "source": [
        "Determinants have a set of properties that can reduce considerably computing times. Suppose $A$ is a $n\\times n$ matrix:\n",
        "\n",
        "**1.** If any row or column of $A$ has only zero entries, then $\\det A = 0$.\n",
        "\n",
        "**2.** If two rows or columns of $A$ are the same, then $\\det A = 0$.\n",
        "\n",
        "**3.** If $\\hat A$ is obtained from $A$ by using a swap operation $(E_i)\\leftrightarrow (E_j)$, then $\\det \\hat A=-\\det A$.\n",
        "\n",
        "**4.** If $\\hat A$ is obtained from $A$ by using a escalation operation $(\\lambda E_i)\\leftrightarrow (E_i)$, then $\\det \\hat A=\\lambda \\det A$.\n",
        "\n",
        "**5.** If $\\hat A$ is obtained from $A$ by using a combination operation $(E_i+\\lambda E_j) \\leftrightarrow (E_i)$, then $\\det \\hat A=\\det A$.\n",
        "\n",
        "**6.** If $B$ is also a $n\\times n$ matrix, then $\\det(AB)=(\\det A)(\\det B).$\n",
        "\n",
        "**7.** $\\det A^t=\\det A.$\n",
        "\n",
        "**8.** $\\det A^{-1}=(\\det A)^{-1}$\n",
        "\n",
        "**9.** Finally and most importantly: if $A$ is an upper, lower or diagonal matrix, then:\n",
        "\n",
        "$$ det A = \\prod_{i=1}^n a_{ii} $$"
      ]
    },
    {
      "metadata": {
        "id": "GWDNQ12kZeqD",
        "colab_type": "text"
      },
      "cell_type": "markdown",
      "source": [
        "As we analysed before, Gaussian Elimination takes a computing time scaling like $n^3$ for large matrix sizes. According to the previous properties, the determinant of a upper diagonal matrix just takes $n-1$ multiplications, far less than a nondiagonal matrix. Combining these properties, we can track back and relate the determinant of the resulting upper diagonal matrix and the original one. Leading us to a computing time scaling like $n^3$, much better than the original $n!$."
      ]
    },
    {
      "metadata": {
        "id": "q8dFyFkRZeqD",
        "colab_type": "text"
      },
      "cell_type": "markdown",
      "source": [
        "## <font color='red'> Activity </font>"
      ]
    },
    {
      "metadata": {
        "id": "-nXNRpJOZeqE",
        "colab_type": "text"
      },
      "cell_type": "markdown",
      "source": [
        "<font color='red'>\n",
        "Using the `Gaussian_Elimination` routine and tracking back the performed operations, construct a new routine called `Gaussian_Determinant`. Make the same analysis of the computing time as the previous activity. Compare both results.\n",
        "</font>"
      ]
    },
    {
      "metadata": {
        "id": "Z44mMdLlZeqF",
        "colab_type": "text"
      },
      "cell_type": "markdown",
      "source": [
        "- - -"
      ]
    },
    {
      "metadata": {
        "id": "DqQum4S8ZeqF",
        "colab_type": "text"
      },
      "cell_type": "markdown",
      "source": [
        "# LU Factorization"
      ]
    },
    {
      "metadata": {
        "id": "CGH-xvS7ZeqG",
        "colab_type": "text"
      },
      "cell_type": "markdown",
      "source": [
        "As we saw before, the Gaussian Elimination algorithm takes a computing time scaling as $\\mathcal{O}(n^3/3)$ in order to solve a system of $n$ equations and $n$ unknowns. Let's assume a system of equations $\\mathbf{A}\\mathbf{x} = \\mathbf{b}$ where $\\mathbf{b}$ is already in upper diagonal form. \n",
        "\n",
        "$$\\left[ \\matrix{\n",
        "a_{11} & a_{12} & \\cdots & a_{1(n-1)} & a_{1n} & \\vdots & \\hat b_1 \\\\\n",
        "0 & a_{22} & \\cdots & a_{2(n-1)} & a_{2n} & \\vdots & \\hat b_2 \\\\\n",
        "\\vdots & \\vdots &  & \\vdots & \\vdots & \\vdots & \\vdots \\\\\n",
        "0 & 0 & \\cdots & a_{(n-1)(n-1)} & a_{(n-1)n} & \\vdots & \\hat b_{n-1} \\\\\n",
        "0 & 0 & \\cdots & 0 & a_{nn} & \\vdots & \\hat b_n\n",
        "}\\right]$$\n",
        "\n",
        "The Gauss-Jordan algorithm can reduce even more this problem in order to solve it directly, yielding:\n",
        "\n",
        "$$\\left[ \\matrix{\n",
        "1 & 0 & \\cdots & 0 & 0 & \\vdots & x_1 \\\\\n",
        "0 & 1 & \\cdots & 0 & 0 & \\vdots & x_2 \\\\\n",
        "\\vdots & \\vdots &  & \\vdots & \\vdots & \\vdots & \\vdots \\\\\n",
        "0 & 0 & \\cdots & 1 & 0 & \\vdots & x_{n-1} \\\\\n",
        "0 & 0 & \\cdots & 0 & 1 & \\vdots & x_n\n",
        "}\\right]$$\n",
        "\n",
        "From the upper diagonal form to the completely reduced one, it is necessary to perform $n+(n-1)+(n-2)+\\cdots\\propto n(n-1)$ backwards substitutions. The computing time for solving a upper diagonal system is then $\\mathcal{O}(n^2)$.\n",
        "\n",
        "\n",
        "Now, let $\\mathbf{A}\\mathbf{x} = \\mathbf{b}$ be a general system of equations of $n$ dimensions. Let's assume $\\mathbf{A}$ can be written as a multiplication of two matrices, one lower diagonal $\\mathbf{L}$ and other upper diagonal $\\mathbf{U}$, such that $\\mathbf{A}=\\mathbf{L}\\mathbf{U}$. Defining a vector $\\mathbf{y} = \\mathbf{U}\\mathbf{x}$, it is obtained for the original system \n",
        "\n",
        "$$ \\mathbf{A} \\mathbf{x}=\\mathbf{L}(\\mathbf{U}\\mathbf{x}) = \\mathbf{L}\\mathbf{y} = \\mathbf{b}$$\n",
        "\n",
        "For solving this system we can then:\n",
        "\n",
        "**1.** Solve the equivalent system $\\mathbf{L}\\mathbf{y} = \\mathbf{b}$, what takes a computing time of $\\mathcal{O}(n^2)$.\n",
        "\n",
        "**2.** Once we know $\\mathbf{y}$, we can solve the system $\\mathbf{U}\\mathbf{x} = \\mathbf{y}$, with a computing time of $\\mathcal{O}(n^2)$.\n",
        "\n",
        "The global computing time is then $\\mathcal{O}(2n^2)$"
      ]
    },
    {
      "metadata": {
        "id": "h-xWNkyPZeqG",
        "colab_type": "text"
      },
      "cell_type": "markdown",
      "source": [
        "## <font color='red'> Activity </font>"
      ]
    },
    {
      "metadata": {
        "id": "ftpsu6JJZeqH",
        "colab_type": "text"
      },
      "cell_type": "markdown",
      "source": [
        "<font color='red'>\n",
        "In order to compare the computing time that Gaussian Elimination takes and the previous time for the LU factorization, make a plot of both computing times. What can you conclude when $n$ becomes large enough?\n",
        "</font>"
      ]
    },
    {
      "metadata": {
        "id": "ODqeEny5ZeqI",
        "colab_type": "text"
      },
      "cell_type": "markdown",
      "source": [
        "## Derivation of LU factorization"
      ]
    },
    {
      "metadata": {
        "id": "qUcJpli0ZeqI",
        "colab_type": "text"
      },
      "cell_type": "markdown",
      "source": [
        "Although the LU factorization seems to be a far better method for solving linear systems as compared with say Gaussian Elimination, we was assuming we already knew the matrices $\\mathbf{L}$ and $\\mathbf{U}$. Now we are going to see the algorithm for perfoming this reduction takes a computing time of $\\mathcal{O}(n^3/3)$.\n",
        "\n",
        "You may wonder then, what advantage implies the use of this factorization? Well, matrices $\\mathbf{L}$ and $\\mathbf{U}$ do not depend on the specific system to be solved, i.e. there is not dependence on the $\\mathbf{b}$ vector, so once we have both matrices, we can use them to solve any system we want, just taking a $\\mathcal{O}(2n^2)$ computing time.\n",
        "\n",
        "First, let's assume a matrix $\\mathbf{A}$ with all its pivots are nonzero, so there is not need to swap rows. Now, when we want to eliminate all the coefficients associated to $x_1$, we perform the next operations:\n",
        "\n",
        "$$ (E_j-m_{j1}E_1)\\rightarrow (E_j), \\ \\ \\ \\ \\mbox{where}\\ \\ \\ \\ m_{j1} = \\frac{a^{(1)}_{j1}}{a^{(1)}_{11}} $$\n",
        "\n",
        "henceforth, $a^{(1)}_{ij}$ denotes the components of the original matrix $\\mathbf{A}=\\mathbf{A}^{(1)}$, $a^{(2)}_{ij}$ the components of the matrix after eliminating the coefficients of $x_1$, and generally, $a^{(k)}_{ij}$ the components of the matrix after eliminating the coefficients of $x_{k-1}$.\n",
        "\n",
        "The previous operation over the matrix $\\mathbf{A}$ can be also reproduced defining the matrix $\\mathbf{M}^{(1)}$\n",
        "\n",
        "$$\\mathbf{M}^{(1)} = \\left[ \\matrix{\n",
        "1 & 0 & \\cdots & 0 & 0 \\\\\n",
        "-m_{21} & 1 & \\cdots & 0 & 0 \\\\\n",
        "\\vdots & \\vdots & \\ddots & \\vdots & \\vdots \\\\\n",
        "-m_{(n-1)1} & 0 & \\cdots & 1 & 0 \\\\\n",
        "-m_{n1} & 0 & \\cdots & 0 & 1\n",
        "}\\right]$$\n",
        "\n",
        "This is called the **first Gaussian transformation matrix**. From this, we have\n",
        "\n",
        "$$ \\mathbf{A}^{(2)}\\mathbf{x} = \\mathbf{M}^{(1)}\\mathbf{A}^{(1)}\\mathbf{x} = \\mathbf{M}^{(1)}\\mathbf{b}^{(1)} = \\mathbf{b}^{(2)} $$\n",
        "\n",
        "where $\\mathbf{A}^{(2)}$ is matrix with null coefficients associated to $x_1$ but the first one.\n",
        "\n",
        "Repeating the same procedure for the next pivots, we obtain then\n",
        "\n",
        "$$ \\mathbf{A}^{(n)} = \\mathbf{M}^{(n-1)}\\mathbf{M}^{(n-2)}\\cdots \\mathbf{M}^{(1)}\\mathbf{A}^{(1)} $$\n",
        "\n",
        "where the **$k$th Gaussian transformation matrix** is defined as\n",
        "\n",
        "$$\\mathbf{M}^{(k)}_{ij} = \\left\\{ \\matrix{\n",
        "1 & \\mbox{if}\\ \\ i=j \\\\\n",
        "-m_{ij} & \\mbox{if}\\ \\ j=k\\ \\ \\mbox{and}\\ \\ k+1\\leq i \\leq n \\\\\n",
        "0 & \\mbox{otherwise}\n",
        "}  \\right.$$\n",
        "\n",
        "and\n",
        "\n",
        "$$m_{ij} = \\frac{a^{(j)}_{ij}}{a^{(j)}_{jj}} $$\n",
        "\n",
        "Note $\\mathbf{A}^{(n)}$ is a upper diagonal matrix given by\n",
        "\n",
        "$$\\mathbf{A}^{(n)} = \\left[ \\matrix{\n",
        "a_{11}^{(n)} & a_{12}^{(n)} & \\cdots & a_{1(n-1)}^{(n)} & a_{1n}^{(n)}\\\\\n",
        "0 & a_{22}^{(n)} & \\cdots & a_{2(n-1)}^{(n)} & a_{2n}^{(n)} \\\\\n",
        "\\vdots & \\vdots &  & \\vdots & \\vdots &\\\\\n",
        "0 & 0 & \\cdots & a_{(n-1)(n-1)}^{(n)} & a_{(n-1)n}^{(n)} \\\\\n",
        "0 & 0 & \\cdots & 0 & a_{nn}^{(n)}\n",
        "}\\right]$$\n",
        "\n",
        "so we can define $\\mathbf{U}\\equiv \\mathbf{A}^{(n)}$.\n",
        "\n",
        "Now, taking the equation \n",
        "\n",
        "$$ \\mathbf{A}^{(n)} = \\mathbf{M}^{(n-1)}\\mathbf{M}^{(n-2)}\\cdots \\mathbf{M}^{(1)}\\mathbf{A}^{(1)} $$\n",
        "\n",
        "and defining the inverse of $\\mathbf{M}^{(k)}$ as \n",
        "\n",
        "$$ \\mathbf{L}^{(k)}_{ij} = \\left(\\mathbf{M}^{(k)}\\right)^{-1}_{ij} =  \\left\\{ \\matrix{\n",
        "1 & \\mbox{if}\\ \\ i=j \\\\\n",
        "m_{ij} & \\mbox{if}\\ \\ j=k\\ \\ \\mbox{and}\\ \\ k+1\\leq i \\leq n \\\\\n",
        "0 & \\mbox{otherwise}\n",
        "}  \\right.$$\n",
        "\n",
        "we obtain\n",
        "\n",
        "$$ \\mathbf{L}^{(1)} \\cdots \\mathbf{L}^{(n-2)}\\mathbf{L}^{(n-1)}\\mathbf{A}^{(n)} = \\mathbf{L}^{(1)} \\cdots \\mathbf{L}^{(n-2)}\\mathbf{L}^{(n-1)}\\mathbf{M}^{(n-1)}\\mathbf{M}^{(n-2)}\\cdots \\mathbf{M}^{(1)}\\mathbf{A}^{(1)} = \\mathbf{L}\\mathbf{U} $$\n",
        "\n",
        "where the lower diagonal matrix $\\mathbf{L}$ is given by:\n",
        "\n",
        "$$ \\mathbf{L} = \\mathbf{L}^{(1)} \\cdots \\mathbf{L}^{(n-2)}\\mathbf{L}^{(n-1)} $$."
      ]
    },
    {
      "metadata": {
        "id": "WMhljipEZeqI",
        "colab_type": "text"
      },
      "cell_type": "markdown",
      "source": [
        "## Algorithm for LU factorization"
      ]
    },
    {
      "metadata": {
        "id": "uhhO8IHKZeqI",
        "colab_type": "text"
      },
      "cell_type": "markdown",
      "source": [
        "The algorithm is then given by:\n",
        "\n",
        "**1.** Give a square matrix $\\mathbf{A}$ where the pivots are nonzero.\n",
        "\n",
        "**2.** Apply the operation $Comb(E_j,E_1,-a^{(1)}_{j1}/aa^{(1)}_{11})$. This eliminates the coefficients associated to $x_1$ in all the rows but in the first one.\n",
        "\n",
        "**3.** Construct the matrix $\\mathbf{L}^{(1)}$ given by\n",
        "\n",
        "$$ \\mathbf{L}^{(k)}_{ij} =  \\left\\{ \\matrix{\n",
        "1 & \\mbox{if}\\ \\ i=j \\\\\n",
        "m_{ij} = \\frac{a^{(j)}_{ij}}{a^{(j)}_{jj}} & \\mbox{if}\\ \\ j=k\\ \\ \\mbox{and}\\ \\ k+1\\leq i \\leq n \\\\\n",
        "0 & \\mbox{otherwise}\n",
        "}  \\right.$$\n",
        "\n",
        "with $k=1$.\n",
        "\n",
        "**4.** Repeat the steps **2** and **3** for the next column until reaching the last one.\n",
        "\n",
        "**5.** Return the matrices $\\mathbf{U} = \\mathbf{A}^{(n)}$ and $ \\mathbf{L} = \\mathbf{L}^{(1)} \\cdots \\mathbf{L}^{(n-2)}\\mathbf{L}^{(n-1)} $."
      ]
    },
    {
      "metadata": {
        "id": "exUdG00wZeqI",
        "colab_type": "text"
      },
      "cell_type": "markdown",
      "source": [
        "## <font color='red'> Activity </font>"
      ]
    },
    {
      "metadata": {
        "id": "CRppTdmpZeqJ",
        "colab_type": "text"
      },
      "cell_type": "markdown",
      "source": [
        "<font color='red'>\n",
        "Create a routine called `LU_Factorization` that, given a matrix $\\mathbf{A}$ and the previous algorithm, calculate the LU factorization of the matrix. Test your routine with a random square matrix, verify that $\\mathbf{A} = \\mathbf{L}\\mathbf{U}$.\n",
        "</font>"
      ]
    },
    {
      "metadata": {
        "id": "BrzDoQSTZeqJ",
        "colab_type": "text"
      },
      "cell_type": "markdown",
      "source": [
        "- - -"
      ]
    },
    {
      "metadata": {
        "id": "dZJPVr-PZeqL",
        "colab_type": "code",
        "colab": {},
        "outputId": "47a5112d-441f-4949-9a2b-fcc01acdc992"
      },
      "cell_type": "code",
      "source": [
        "M1"
      ],
      "execution_count": 0,
      "outputs": [
        {
          "output_type": "execute_result",
          "data": {
            "text/plain": [
              "array([[ 5, -4,  0],\n",
              "       [-4,  7, -3],\n",
              "       [ 0, -3,  5]])"
            ]
          },
          "metadata": {
            "tags": []
          },
          "execution_count": 78
        }
      ]
    },
    {
      "metadata": {
        "id": "-PnVwXJIZeqM",
        "colab_type": "code",
        "colab": {}
      },
      "cell_type": "code",
      "source": [
        "import scipy"
      ],
      "execution_count": 0,
      "outputs": []
    },
    {
      "metadata": {
        "id": "E9pS16IBZeqO",
        "colab_type": "code",
        "colab": {}
      },
      "cell_type": "code",
      "source": [
        "P,L,U=scipy.linalg.lu(M1)"
      ],
      "execution_count": 0,
      "outputs": []
    },
    {
      "metadata": {
        "id": "4V4KAygxZeqP",
        "colab_type": "code",
        "colab": {},
        "outputId": "111d2324-b6cc-4d7e-903b-9f52d6c7dd36"
      },
      "cell_type": "code",
      "source": [
        "U"
      ],
      "execution_count": 0,
      "outputs": [
        {
          "output_type": "execute_result",
          "data": {
            "text/plain": [
              "array([[ 5.        , -4.        ,  0.        ],\n",
              "       [ 0.        ,  3.8       , -3.        ],\n",
              "       [ 0.        ,  0.        ,  2.63157895]])"
            ]
          },
          "metadata": {
            "tags": []
          },
          "execution_count": 88
        }
      ]
    },
    {
      "metadata": {
        "id": "414tjRWmZeqQ",
        "colab_type": "code",
        "colab": {}
      },
      "cell_type": "code",
      "source": [
        "The same obtained before"
      ],
      "execution_count": 0,
      "outputs": []
    },
    {
      "metadata": {
        "id": "2u1yGvmRZeqS",
        "colab_type": "code",
        "colab": {}
      },
      "cell_type": "code",
      "source": [
        "scipy.linalg.lu?"
      ],
      "execution_count": 0,
      "outputs": []
    },
    {
      "metadata": {
        "id": "ZMBQ61z8ZeqU",
        "colab_type": "text"
      },
      "cell_type": "markdown",
      "source": [
        "## <font color='red'> Eigenvalues and Eigenvectors activity  </font>"
      ]
    },
    {
      "metadata": {
        "id": "o2NzCnm8ZeqV",
        "colab_type": "text"
      },
      "cell_type": "markdown",
      "source": [
        "###**Electron interacting with a magnetic field**\n",
        "\n",
        "An electron is placed to interact with an uniform magnetic field. To give account of the possible allowed levels of the electron in the presence of the magnetic field it is necessary to solve the next equation\n",
        "\n",
        "\\begin{equation}\n",
        "\\hat{H}|\\Psi\\rangle = E|\\Psi\\rangle\n",
        "\\end{equation}\n",
        "\n",
        "where the hamiltonian is equal to $H = -\\mu \\cdot B = -\\gamma B \\cdot S$, with the gyromagnetic ratio $\\gamma$, $\\textbf{B}$ the magnetic field and $\\textbf{S}$ the spin. It can be shown that the hamiltonian expression is transformed in \n",
        "\n",
        "\\begin{equation}\n",
        "\\hat{\\textbf{H}} = - \\frac{\\gamma \\hbar}{2} \\left( \\begin{array}{cc}\n",
        "B_z  & B_x -i B_y \\\\\n",
        "B_x + i B_y  & -B_z  \\end{array} \\right) \n",
        "\\end{equation}\n",
        "\n",
        "Then, by solving the problem $|H - EI|=0$ is found the allowed energy levels, i.e., finding the determinant of the \n",
        "matrix $H - EI$ allows to get the values $E_1$ and $E_2$.\n",
        "\n",
        "\n",
        "\n",
        "And solving the problem $\\hat{H}\\Psi$ - E$\\Psi = 0$ gives the autofunctions $\\Psi$, i.e., the column vector $\\Psi= \\{\\Psi_1, \\Psi_2\\}$. \n",
        "\n",
        "The function scipy.optimize.root can be used to get roots of a given equation. The experimental value of $\\gamma$ for the electron is 2. The order of magnitude of the magnetic field is $1g$. \n",
        "\n",
        "\n",
        "\n",
        "1)  Find the allowed energy levels.\n",
        "\n",
        "\n",
        "\n",
        "2)  Find the autofunctions and normalize them. \n",
        "\n",
        "\n",
        "\n",
        "**Hint:** An imaginary number in python can be written as 1j.  \n"
      ]
    }
  ]
}