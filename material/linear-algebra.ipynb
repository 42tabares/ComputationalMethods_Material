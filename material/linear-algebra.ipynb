{
 "cells": [
  {
   "cell_type": "markdown",
   "metadata": {
    "colab_type": "text",
    "id": "view-in-github"
   },
   "source": [
    "<a href=\"https://colab.research.google.com/github/restrepo/ComputationalMethods/blob/master/material/linear-algebra.ipynb\" target=\"_parent\"><img src=\"https://colab.research.google.com/assets/colab-badge.svg\" alt=\"Open In Colab\"/></a>"
   ]
  },
  {
   "cell_type": "markdown",
   "metadata": {
    "colab_type": "text",
    "id": "wNc9QP1rZeic"
   },
   "source": [
    "# Linear Algebra"
   ]
  },
  {
   "cell_type": "markdown",
   "metadata": {
    "colab_type": "text",
    "id": "fhswjPcoZeii"
   },
   "source": [
    "Linear Algebra is a discipline where vector spaces and linear mapping between them are studied. In physics and astronomy, several phenomena can be readily written in terms of linear variables, what makes Computational Linear Algebra a very important topic to be covered throughout this course. We shall cover linear systems of equations, techniques for calculating inverses and determinants and factorization methods.\n",
    "\n",
    "An interesting fact of Computational Linear Algebra is that it does not comprises numerical approaches as most of the methods are exact. The usage of a computer is then necessary because of the large number of calculations rather than the non-soluble nature of the problems. Numerical errors come then from round-off approximations.\n",
    "\n",
    "See: http://pages.cs.wisc.edu/~amos/412/lecture-notes/lecture14.pdf"
   ]
  },
  {
   "cell_type": "markdown",
   "metadata": {
    "colab_type": "text",
    "id": "ULYYCq7wZeik"
   },
   "source": [
    "- - -\n",
    "- [Linear Systems of Equations](#Linear-Systems-of-Equations) \n",
    "    - [Matrices and vectors](#Matrices-and-vectors)\n",
    "    - [Example 1](#Example-1)\n",
    "    - [Matrices in Python](#Matrices-in-Python)\n",
    "    - [Basic operations with matrices](#Basic-operations-with-matrices)\n",
    "- [Gaussian Elimination](#Gaussian-Elimination)\n",
    "    - [General Gaussian elimination](#General-Gaussian-elimination)\n",
    "    - [Computing time](#Computing-time)\n",
    "    - [Example 2](#Example-2)\n",
    "- [Matrix diagonalization](./linear-algebra-diagonalization.ipynb)    \n",
    "- [Pivoting Strategies](#Pivoting-Strategies)\n",
    "    - [Partial pivoting](#Partial-pivoting)\n",
    "- [Matrix Inversion](#Matrix-Inversion)\n",
    "- [Determinant of a Matrix](#Determinant-of-a-Matrix)\n",
    "    - [Calculating determinants](#Calculating-determinants)\n",
    "    - [Computing time of determinants](#Computing-time-of-determinants)\n",
    "    - [Properties of determinants](#Properties-of-determinants)\n",
    "- [LU Factorization](#LU-Factorization)\n",
    "    - [Derivation of LU factorization](#Derivation-of-LU-factorization)\n",
    "    - [Algorithm for LU factorization](#Algorithm-for-LU-factorization)\n",
    "\n",
    "- - -"
   ]
  },
  {
   "cell_type": "code",
   "execution_count": 1,
   "metadata": {
    "colab": {
     "base_uri": "https://localhost:8080/",
     "height": 35
    },
    "colab_type": "code",
    "id": "zHeRbVNLZein",
    "outputId": "7d0a41a8-f0eb-4538-c171-79c6fe38ee25"
   },
   "outputs": [
    {
     "name": "stdout",
     "output_type": "stream",
     "text": [
      "Populating the interactive namespace from numpy and matplotlib\n"
     ]
    }
   ],
   "source": [
    "from IPython.display import HTML, Markdown, YouTubeVideo\n",
    "%pylab inline\n",
    "\n",
    "import numpy as np\n",
    "import matplotlib.pyplot as plt\n",
    "# JSAnimation import available at https://github.com/jakevdp/JSAnimation\n",
    "#from JSAnimation import IPython_display\n",
    "from matplotlib import animation\n",
    "#Interpolation add-on\n",
    "import scipy.interpolate as interp\n",
    "xrange=range"
   ]
  },
  {
   "cell_type": "markdown",
   "metadata": {
    "colab_type": "text",
    "id": "cGblhY5cjkkn"
   },
   "source": [
    "https://stackoverflow.com/a/50748163"
   ]
  },
  {
   "cell_type": "code",
   "execution_count": 2,
   "metadata": {
    "colab": {},
    "colab_type": "code",
    "id": "PN-gs8KujNXK"
   },
   "outputs": [],
   "source": [
    "try:\n",
    "    from google.colab.output._publish import javascript\n",
    "    from IPython.display import Math as math\n",
    "    from IPython.display import Latex as latex\n",
    "    url = \"https://cdnjs.cloudflare.com/ajax/libs/mathjax/2.7.3/latest.js?config=default\"\n",
    "    def Math(*args,**kwargs):\n",
    "        javascript(url=url)\n",
    "        return math(*args,**kwargs)\n",
    "    def Latex(*args,**kwargs):\n",
    "        #print(args[0].replace('$',''))\n",
    "        javascript(url=url)\n",
    "        return math(args[0],**kwargs)\n",
    "except:\n",
    "    from IPython.display import Math, Latex"
   ]
  },
  {
   "cell_type": "markdown",
   "metadata": {
    "colab_type": "text",
    "id": "RBJnj7gMZei1"
   },
   "source": [
    "- - - "
   ]
  },
  {
   "cell_type": "markdown",
   "metadata": {
    "colab_type": "text",
    "id": "6jt5J-u-ZejE"
   },
   "source": [
    "# Matrices in Python"
   ]
  },
  {
   "cell_type": "markdown",
   "metadata": {
    "colab_type": "text",
    "id": "0UZDvo9VZejG"
   },
   "source": [
    "One of the most useful advantages of high level languages like Python, is the manipulation of complex objects like matrices and vectors. For this part we are going to use advanced capabilities for handling matrices, provided by the library NumPy.\n",
    "\n",
    "NumPy, besides the extreme useful NumPy array objects, also provides the Matrix objects that are overloaded with proper matrix operations.\n",
    "\n",
    "### Numpy arrays\n",
    "* A matrix can be represented by a $2\\times2$ array"
   ]
  },
  {
   "cell_type": "code",
   "execution_count": 3,
   "metadata": {
    "colab": {
     "base_uri": "https://localhost:8080/",
     "height": 170
    },
    "colab_type": "code",
    "id": "5f_bgxEXZejI",
    "outputId": "8f86558b-1232-40b4-a626-08940c0d0f47"
   },
   "outputs": [
    {
     "name": "stdout",
     "output_type": "stream",
     "text": [
      "M1=\n",
      "[[ 5 -4  0]\n",
      " [-4  7 -3]\n",
      " [ 0 -3  5]], with shape=(3, 3),\n",
      "\n",
      "M2=\n",
      "[[ 3 -2  1]\n",
      " [-1  5  4]\n",
      " [ 1 -2  3]]\n"
     ]
    }
   ],
   "source": [
    "#NumPy Arrays\n",
    "M1 = np.array( [[5,-4,0],[-4,7,-3],[0,-3,5]] )\n",
    "M2 = np.array( [[3,-2,1],[-1,5,4],[1,-2,3]] )\n",
    "print( 'M1=\\n{}, with shape={},\\n\\nM2=\\n{}'.format(M1,M1.shape,M2) )"
   ]
  },
  {
   "cell_type": "markdown",
   "metadata": {
    "colab_type": "text",
    "id": "tfkDRtrKZejO"
   },
   "source": [
    "#### Special arrays:\n",
    "Let $n$ the range of the matrix\n",
    "* zero matrix"
   ]
  },
  {
   "cell_type": "code",
   "execution_count": 4,
   "metadata": {
    "colab": {
     "base_uri": "https://localhost:8080/",
     "height": 70
    },
    "colab_type": "code",
    "id": "cbSjMN7MZejQ",
    "outputId": "24a86d40-f74d-407e-cc09-e89cfd0119e6"
   },
   "outputs": [
    {
     "data": {
      "text/plain": [
       "array([[0., 0., 0.],\n",
       "       [0., 0., 0.],\n",
       "       [0., 0., 0.]])"
      ]
     },
     "execution_count": 4,
     "metadata": {},
     "output_type": "execute_result"
    }
   ],
   "source": [
    "n=3\n",
    "np.zeros( (n,n) )"
   ]
  },
  {
   "cell_type": "markdown",
   "metadata": {
    "colab_type": "text",
    "id": "Ydajo9uWZejY"
   },
   "source": [
    "* Ones matrix"
   ]
  },
  {
   "cell_type": "code",
   "execution_count": 5,
   "metadata": {
    "colab": {
     "base_uri": "https://localhost:8080/",
     "height": 70
    },
    "colab_type": "code",
    "id": "-CCDfyscZeja",
    "outputId": "0b3eca8b-9fdd-4a32-f7e2-29d37ca6226a"
   },
   "outputs": [
    {
     "data": {
      "text/plain": [
       "array([[1., 1., 1.],\n",
       "       [1., 1., 1.],\n",
       "       [1., 1., 1.]])"
      ]
     },
     "execution_count": 5,
     "metadata": {},
     "output_type": "execute_result"
    }
   ],
   "source": [
    "np.ones( (n,n) )"
   ]
  },
  {
   "cell_type": "code",
   "execution_count": 6,
   "metadata": {
    "colab": {
     "base_uri": "https://localhost:8080/",
     "height": 70
    },
    "colab_type": "code",
    "id": "xKOD1f5tZejk",
    "outputId": "e90f52ef-2684-4ca7-da79-2a6cb27d7a5e"
   },
   "outputs": [
    {
     "data": {
      "text/plain": [
       "array([[0.+1.j, 0.+1.j, 0.+1.j],\n",
       "       [0.+1.j, 0.+1.j, 0.+1.j],\n",
       "       [0.+1.j, 0.+1.j, 0.+1.j]])"
      ]
     },
     "execution_count": 6,
     "metadata": {},
     "output_type": "execute_result"
    }
   ],
   "source": [
    "np.ones( (n,n) )*1j"
   ]
  },
  {
   "cell_type": "markdown",
   "metadata": {
    "colab_type": "text",
    "id": "Vgj_gCHvZej0"
   },
   "source": [
    "* Identity matrix"
   ]
  },
  {
   "cell_type": "code",
   "execution_count": 7,
   "metadata": {
    "colab": {
     "base_uri": "https://localhost:8080/",
     "height": 70
    },
    "colab_type": "code",
    "id": "KuqUJhKkZej5",
    "outputId": "e4506e55-0081-4769-ce46-5187127e8bf6"
   },
   "outputs": [
    {
     "data": {
      "text/plain": [
       "array([[1., 0., 0.],\n",
       "       [0., 1., 0.],\n",
       "       [0., 0., 1.]])"
      ]
     },
     "execution_count": 7,
     "metadata": {},
     "output_type": "execute_result"
    }
   ],
   "source": [
    "np.identity(n)"
   ]
  },
  {
   "cell_type": "markdown",
   "metadata": {
    "colab_type": "text",
    "id": "gMVeIF-ZZekA"
   },
   "source": [
    "* Random matrix witn entries between 0 and 1"
   ]
  },
  {
   "cell_type": "code",
   "execution_count": 8,
   "metadata": {
    "colab": {
     "base_uri": "https://localhost:8080/",
     "height": 70
    },
    "colab_type": "code",
    "id": "7Y27DY_oZekG",
    "outputId": "51b240a0-bd1a-48ac-83be-513979aa18e5"
   },
   "outputs": [
    {
     "data": {
      "text/plain": [
       "array([[0.81583177, 0.78833639, 0.55835195],\n",
       "       [0.99509434, 0.3109503 , 0.39842598],\n",
       "       [0.90435829, 0.83132871, 0.9372933 ]])"
      ]
     },
     "execution_count": 8,
     "metadata": {},
     "output_type": "execute_result"
    }
   ],
   "source": [
    "np.random.random((n,n))"
   ]
  },
  {
   "cell_type": "markdown",
   "metadata": {
    "colab_type": "text",
    "id": "4AFRo-kaZekL"
   },
   "source": [
    "* Integer Random matrix"
   ]
  },
  {
   "cell_type": "code",
   "execution_count": 9,
   "metadata": {
    "colab": {
     "base_uri": "https://localhost:8080/",
     "height": 70
    },
    "colab_type": "code",
    "id": "HFWag9_gZekN",
    "outputId": "a7dec97d-c23b-4f42-92bd-73cf52ee8326"
   },
   "outputs": [
    {
     "data": {
      "text/plain": [
       "array([[8, 2, 9],\n",
       "       [3, 8, 5],\n",
       "       [2, 7, 9]])"
      ]
     },
     "execution_count": 9,
     "metadata": {},
     "output_type": "execute_result"
    }
   ],
   "source": [
    "np.random.randint(0,10,(n,n)) #0 to 9"
   ]
  },
  {
   "cell_type": "markdown",
   "metadata": {
    "colab_type": "text",
    "id": "5rSf6mZlZekT"
   },
   "source": [
    "### Analytical matrices\n",
    "Some times it is necessary to work with analytical Matrix. In such a case we can use the symbolic module `Sympy`"
   ]
  },
  {
   "cell_type": "code",
   "execution_count": 10,
   "metadata": {
    "colab": {},
    "colab_type": "code",
    "id": "XxBysGh4ZekU"
   },
   "outputs": [],
   "source": [
    "import sympy\n",
    "x =sympy.Symbol('x') # declare analytical varibles\n",
    "sympy.init_printing() # Use LaTeX to print sympy obejects"
   ]
  },
  {
   "cell_type": "code",
   "execution_count": 12,
   "metadata": {
    "colab": {
     "base_uri": "https://localhost:8080/",
     "height": 34
    },
    "colab_type": "code",
    "id": "iqppd3mBZekb",
    "outputId": "947d949d-2d56-46bc-9e8d-50c5e43a5234"
   },
   "outputs": [
    {
     "data": {
      "image/png": "[encoded data removed]",
      "text/latex": [
       "$\\displaystyle \\left[\\begin{matrix}3 & -2 & 1\\\\-1 & 5 & 4\\\\1 & -2 & 3\\end{matrix}\\right]$"
      ],
      "text/plain": [
       "⎡3   -2  1⎤\n",
       "⎢         ⎥\n",
       "⎢-1  5   4⎥\n",
       "⎢         ⎥\n",
       "⎣1   -2  3⎦"
      ]
     },
     "execution_count": 12,
     "metadata": {},
     "output_type": "execute_result"
    }
   ],
   "source": [
    "sympy.Matrix(M2)"
   ]
  },
  {
   "cell_type": "markdown",
   "metadata": {
    "colab_type": "text",
    "id": "YOx4-QiaZekn"
   },
   "source": [
    "In the following we will focus only in numerical matrices as `numpy` arrays, but also use `sympy` to print the matrices in a more readable way\n",
    "### Matrix operations (numpy)\n",
    "Both as functions or array's methods \n",
    "* Transpose"
   ]
  },
  {
   "cell_type": "code",
   "execution_count": 14,
   "metadata": {
    "colab": {},
    "colab_type": "code",
    "id": "QMqnfkYGZekv",
    "outputId": "d21ddead-7148-4b59-ab77-69f1e4a18b0a"
   },
   "outputs": [
    {
     "data": {
      "text/latex": [
       "$\\displaystyle M_2^{\\rm T}=$"
      ],
      "text/plain": [
       "<IPython.core.display.Math object>"
      ]
     },
     "metadata": {},
     "output_type": "display_data"
    },
    {
     "data": {
      "image/png": "[encoded data removed]",
      "text/latex": [
       "$\\displaystyle \\left[\\begin{matrix}3 & -1 & 1\\\\-2 & 5 & -2\\\\1 & 4 & 3\\end{matrix}\\right]$"
      ],
      "text/plain": [
       "⎡3   -1  1 ⎤\n",
       "⎢          ⎥\n",
       "⎢-2  5   -2⎥\n",
       "⎢          ⎥\n",
       "⎣1   4   3 ⎦"
      ]
     },
     "execution_count": 14,
     "metadata": {},
     "output_type": "execute_result"
    }
   ],
   "source": [
    "display( Math(r'M_2^{\\rm T}='))\n",
    "sympy.Matrix(M2.transpose())"
   ]
  },
  {
   "cell_type": "markdown",
   "metadata": {
    "colab_type": "text",
    "id": "aVPNFxHfZek5"
   },
   "source": [
    "* Matrix addition"
   ]
  },
  {
   "cell_type": "code",
   "execution_count": 15,
   "metadata": {
    "colab": {},
    "colab_type": "code",
    "id": "tuXj_6GqZek5",
    "outputId": "d3ab19f2-1762-4af8-8596-61acc13c9f3f"
   },
   "outputs": [
    {
     "data": {
      "image/png": "[encoded data removed]",
      "text/latex": [
       "$\\displaystyle \\left[\\begin{matrix}8 & -6 & 1\\\\-5 & 12 & 1\\\\1 & -5 & 8\\end{matrix}\\right]$"
      ],
      "text/plain": [
       "⎡8   -6  1⎤\n",
       "⎢         ⎥\n",
       "⎢-5  12  1⎥\n",
       "⎢         ⎥\n",
       "⎣1   -5  8⎦"
      ]
     },
     "execution_count": 15,
     "metadata": {},
     "output_type": "execute_result"
    }
   ],
   "source": [
    "sympy.Matrix( M1+M2 )"
   ]
  },
  {
   "cell_type": "markdown",
   "metadata": {
    "colab_type": "text",
    "id": "1svJtjQgZelD"
   },
   "source": [
    "Complex arrays are allowed"
   ]
  },
  {
   "cell_type": "code",
   "execution_count": 16,
   "metadata": {
    "colab": {},
    "colab_type": "code",
    "id": "hLK3EMWEZelF",
    "outputId": "675bb8df-ca9c-47cb-a0eb-916e30c048aa"
   },
   "outputs": [
    {
     "data": {
      "image/png": "[encoded data removed]",
      "text/latex": [
       "$\\displaystyle \\left[\\begin{matrix}5.0 + 3.0 i & -4.0 - 2.0 i & 1.0 i\\\\-4.0 - 1.0 i & 7.0 + 5.0 i & -3.0 + 4.0 i\\\\1.0 i & -3.0 - 2.0 i & 5.0 + 3.0 i\\end{matrix}\\right]$"
      ],
      "text/plain": [
       "⎡5.0 + 3.0⋅ⅈ   -4.0 - 2.0⋅ⅈ     1.0⋅ⅈ    ⎤\n",
       "⎢                                        ⎥\n",
       "⎢-4.0 - 1.0⋅ⅈ  7.0 + 5.0⋅ⅈ   -3.0 + 4.0⋅ⅈ⎥\n",
       "⎢                                        ⎥\n",
       "⎣   1.0⋅ⅈ      -3.0 - 2.0⋅ⅈ  5.0 + 3.0⋅ⅈ ⎦"
      ]
     },
     "execution_count": 16,
     "metadata": {},
     "output_type": "execute_result"
    }
   ],
   "source": [
    "Mc=M1+M2*1j\n",
    "sympy.Matrix( M1+M2*1j )"
   ]
  },
  {
   "cell_type": "markdown",
   "metadata": {
    "colab_type": "text",
    "id": "ZWcRwqnmZelK"
   },
   "source": [
    "with the corresponding complex matrix operations"
   ]
  },
  {
   "cell_type": "code",
   "execution_count": 17,
   "metadata": {
    "colab": {},
    "colab_type": "code",
    "id": "TrrfJp2jZelL",
    "outputId": "574c47d3-0eb7-4fc6-8364-cb9c3755842c"
   },
   "outputs": [
    {
     "data": {
      "image/png": "[encoded data removed]",
      "text/latex": [
       "$\\displaystyle \\left[\\begin{matrix}5.0 - 3.0 i & -4.0 + 2.0 i & - 1.0 i\\\\-4.0 + 1.0 i & 7.0 - 5.0 i & -3.0 - 4.0 i\\\\- 1.0 i & -3.0 + 2.0 i & 5.0 - 3.0 i\\end{matrix}\\right]$"
      ],
      "text/plain": [
       "⎡5.0 - 3.0⋅ⅈ   -4.0 + 2.0⋅ⅈ     -1.0⋅ⅈ   ⎤\n",
       "⎢                                        ⎥\n",
       "⎢-4.0 + 1.0⋅ⅈ  7.0 - 5.0⋅ⅈ   -3.0 - 4.0⋅ⅈ⎥\n",
       "⎢                                        ⎥\n",
       "⎣   -1.0⋅ⅈ     -3.0 + 2.0⋅ⅈ  5.0 - 3.0⋅ⅈ ⎦"
      ]
     },
     "metadata": {},
     "output_type": "display_data"
    },
    {
     "data": {
      "image/png": "[encoded data removed]",
      "text/latex": [
       "$\\displaystyle \\left[\\begin{matrix}5.0 - 3.0 i & -4.0 + 1.0 i & - 1.0 i\\\\-4.0 + 2.0 i & 7.0 - 5.0 i & -3.0 + 2.0 i\\\\- 1.0 i & -3.0 - 4.0 i & 5.0 - 3.0 i\\end{matrix}\\right]$"
      ],
      "text/plain": [
       "⎡5.0 - 3.0⋅ⅈ   -4.0 + 1.0⋅ⅈ     -1.0⋅ⅈ   ⎤\n",
       "⎢                                        ⎥\n",
       "⎢-4.0 + 2.0⋅ⅈ  7.0 - 5.0⋅ⅈ   -3.0 + 2.0⋅ⅈ⎥\n",
       "⎢                                        ⎥\n",
       "⎣   -1.0⋅ⅈ     -3.0 - 4.0⋅ⅈ  5.0 - 3.0⋅ⅈ ⎦"
      ]
     },
     "metadata": {},
     "output_type": "display_data"
    }
   ],
   "source": [
    "display ( sympy.Matrix(  Mc.conjugate() ) )\n",
    "display ( sympy.Matrix(  Mc.conjugate().transpose() ) )"
   ]
  },
  {
   "cell_type": "markdown",
   "metadata": {
    "colab_type": "text",
    "id": "p9FLKGt7ZelP"
   },
   "source": [
    "* Matrix multiplication\n",
    "![MP](https://upload.wikimedia.org/wikipedia/commons/thumb/e/eb/Matrix_multiplication_diagram_2.svg/200px-Matrix_multiplication_diagram_2.svg.png)"
   ]
  },
  {
   "cell_type": "code",
   "execution_count": 18,
   "metadata": {
    "colab": {},
    "colab_type": "code",
    "id": "4zqQDuSBZelQ",
    "outputId": "5872a3f2-ed9e-4b5c-c7c1-85843700a443"
   },
   "outputs": [
    {
     "data": {
      "image/png": "[encoded data removed]",
      "text/latex": [
       "$\\displaystyle \\left[\\begin{matrix}19 & -30 & -11\\\\-22 & 49 & 15\\\\8 & -25 & 3\\end{matrix}\\right]$"
      ],
      "text/plain": [
       "⎡19   -30  -11⎤\n",
       "⎢             ⎥\n",
       "⎢-22  49   15 ⎥\n",
       "⎢             ⎥\n",
       "⎣ 8   -25   3 ⎦"
      ]
     },
     "execution_count": 18,
     "metadata": {},
     "output_type": "execute_result"
    }
   ],
   "source": [
    "#Multiplication\n",
    "sympy.Matrix ( np.dot( M1, M2 ) ) "
   ]
  },
  {
   "cell_type": "markdown",
   "metadata": {
    "colab_type": "text",
    "id": "iOMa5hV9ZelX"
   },
   "source": [
    "* Complex matrices"
   ]
  },
  {
   "cell_type": "code",
   "execution_count": 19,
   "metadata": {
    "colab": {},
    "colab_type": "code",
    "id": "A15yIsCIZelY",
    "outputId": "b324d7f9-567c-4f02-ef12-cc33bfb5f6d8"
   },
   "outputs": [
    {
     "data": {
      "text/plain": [
       "array([[ 0.+0.j, -0.-1.j],\n",
       "       [ 0.+1.j,  0.+0.j]])"
      ]
     },
     "execution_count": 19,
     "metadata": {},
     "output_type": "execute_result"
    }
   ],
   "source": [
    "σ_2=np.array([[0,-1j],[1j,0]])\n",
    "σ_2"
   ]
  },
  {
   "cell_type": "markdown",
   "metadata": {
    "colab_type": "text",
    "id": "KBsxGjj8Zele"
   },
   "source": [
    "* Trace"
   ]
  },
  {
   "cell_type": "code",
   "execution_count": 20,
   "metadata": {
    "colab": {},
    "colab_type": "code",
    "id": "BeBa5q51Zele",
    "outputId": "12624849-ed49-4f70-d811-d5f6e0485af3"
   },
   "outputs": [
    {
     "data": {
      "text/plain": [
       "0j"
      ]
     },
     "execution_count": 20,
     "metadata": {},
     "output_type": "execute_result"
    }
   ],
   "source": [
    "np.trace(σ_2)"
   ]
  },
  {
   "cell_type": "markdown",
   "metadata": {
    "colab_type": "text",
    "id": "dSP1p2ggZelh"
   },
   "source": [
    "* Determinant"
   ]
  },
  {
   "cell_type": "code",
   "execution_count": 21,
   "metadata": {
    "colab": {},
    "colab_type": "code",
    "id": "MCQFjjTrZeli",
    "outputId": "d95b9d3f-2527-4356-cf1d-d35a72f89699"
   },
   "outputs": [
    {
     "data": {
      "text/plain": [
       "(-1+0j)"
      ]
     },
     "execution_count": 21,
     "metadata": {},
     "output_type": "execute_result"
    }
   ],
   "source": [
    "np.linalg.det(σ_2)"
   ]
  },
  {
   "cell_type": "markdown",
   "metadata": {
    "colab": {},
    "colab_type": "code",
    "id": "Mjd3qIWSZelv"
   },
   "source": [
    "Raise a square matrix to the (integer) power `n`."
   ]
  },
  {
   "cell_type": "code",
   "execution_count": 22,
   "metadata": {
    "colab": {},
    "colab_type": "code",
    "id": "sJH3W0TfZelp",
    "outputId": "97a148b8-230b-4280-ec62-b0de17a81130"
   },
   "outputs": [
    {
     "data": {
      "image/png": "[encoded data removed]",
      "text/latex": [
       "$\\displaystyle \\left[\\begin{matrix}1.0 & 0\\\\0 & 1.0\\end{matrix}\\right]$"
      ],
      "text/plain": [
       "⎡1.0   0 ⎤\n",
       "⎢        ⎥\n",
       "⎣ 0   1.0⎦"
      ]
     },
     "execution_count": 22,
     "metadata": {},
     "output_type": "execute_result"
    }
   ],
   "source": [
    "sympy.Matrix ( np.linalg.matrix_power(σ_2,2) )"
   ]
  },
  {
   "cell_type": "markdown",
   "metadata": {},
   "source": [
    "Inverse of a matrix"
   ]
  },
  {
   "cell_type": "code",
   "execution_count": 24,
   "metadata": {
    "colab": {},
    "colab_type": "code",
    "id": "O0phiCrXZely",
    "outputId": "1c88fe11-5da9-4043-ed60-8e3e2c1db493"
   },
   "outputs": [
    {
     "data": {
      "image/png": "[encoded data removed]",
      "text/latex": [
       "$\\displaystyle \\left[\\begin{matrix}0.442307692307692 & 0.0769230769230769 & -0.25\\\\0.134615384615385 & 0.153846153846154 & -0.25\\\\-0.0576923076923077 & 0.0769230769230769 & 0.25\\end{matrix}\\right]$"
      ],
      "text/plain": [
       "⎡ 0.442307692307692   0.0769230769230769  -0.25⎤\n",
       "⎢                                              ⎥\n",
       "⎢ 0.134615384615385   0.153846153846154   -0.25⎥\n",
       "⎢                                              ⎥\n",
       "⎣-0.0576923076923077  0.0769230769230769  0.25 ⎦"
      ]
     },
     "execution_count": 24,
     "metadata": {},
     "output_type": "execute_result"
    }
   ],
   "source": [
    "sympy.Matrix( np.linalg.inv(M2) )"
   ]
  },
  {
   "cell_type": "code",
   "execution_count": 27,
   "metadata": {
    "colab": {},
    "colab_type": "code",
    "id": "4Z6r_5RFZemL",
    "outputId": "0294fb49-581e-470a-b34d-12e37653eabb"
   },
   "outputs": [
    {
     "data": {
      "image/png": "[encoded data removed]",
      "text/latex": [
       "$\\displaystyle \\left[\\begin{matrix}1 & 0 & 0\\\\0 & 1 & 0\\\\0 & 0 & 1\\end{matrix}\\right]$"
      ],
      "text/plain": [
       "⎡1  0  0⎤\n",
       "⎢       ⎥\n",
       "⎢0  1  0⎥\n",
       "⎢       ⎥\n",
       "⎣0  0  1⎦"
      ]
     },
     "execution_count": 27,
     "metadata": {},
     "output_type": "execute_result"
    }
   ],
   "source": [
    "sympy.Matrix ( np.dot( M2,np.linalg.inv(M2) ).round(14).astype(int) )"
   ]
  },
  {
   "cell_type": "markdown",
   "metadata": {
    "colab_type": "text",
    "id": "F9oa0NBZZemN"
   },
   "source": [
    "* Eentry by entry operations"
   ]
  },
  {
   "cell_type": "code",
   "execution_count": 28,
   "metadata": {
    "colab": {},
    "colab_type": "code",
    "id": "TIGu3voBZemO",
    "outputId": "bd46c222-6254-4224-ee85-ceaa96e191c4"
   },
   "outputs": [
    {
     "data": {
      "text/plain": [
       "array([[ 15,   8,   0],\n",
       "       [  4,  35, -12],\n",
       "       [  0,   6,  15]])"
      ]
     },
     "execution_count": 28,
     "metadata": {},
     "output_type": "execute_result"
    }
   ],
   "source": [
    "M1*M2"
   ]
  },
  {
   "cell_type": "code",
   "execution_count": 29,
   "metadata": {
    "colab": {},
    "colab_type": "code",
    "id": "XJDZsR63ZemS",
    "outputId": "00a79894-8864-49d7-f658-342f8db5535a"
   },
   "outputs": [
    {
     "data": {
      "text/plain": [
       "array([ 5, -4,  0])"
      ]
     },
     "execution_count": 29,
     "metadata": {},
     "output_type": "execute_result"
    }
   ],
   "source": [
    "M1[0]"
   ]
  },
  {
   "cell_type": "code",
   "execution_count": 31,
   "metadata": {
    "colab": {},
    "colab_type": "code",
    "id": "uJp7UV6jZemW",
    "outputId": "2c94ccc2-c103-41b2-9fb9-6d729001a23a"
   },
   "outputs": [
    {
     "name": "stdout",
     "output_type": "stream",
     "text": [
      "[[ 1.66666667  2.          0.        ]\n",
      " [ 4.          1.4        -0.75      ]\n",
      " [ 0.          1.5         1.66666667]]\n"
     ]
    }
   ],
   "source": [
    "#Division\n",
    "print( 1.0*M1/M2 )"
   ]
  },
  {
   "cell_type": "markdown",
   "metadata": {},
   "source": [
    "### Matrix object"
   ]
  },
  {
   "cell_type": "markdown",
   "metadata": {
    "colab_type": "text",
    "id": "UGdC-tLyZemY"
   },
   "source": [
    "numpy also has a Matrix object with simplified operations. However it is recommended to use the general array object even for specific matrix operations. This helps to avoid incompatibilities with usual array operations. For example, as shown below the multiplication symbol, `*`, behaves different for arrays that for matrices, and could induce to errors. "
   ]
  },
  {
   "cell_type": "code",
   "execution_count": 39,
   "metadata": {
    "colab": {},
    "colab_type": "code",
    "id": "hLihVr9xZemZ",
    "outputId": "6fe793a7-e322-4f43-b68c-626d2783175c"
   },
   "outputs": [
    {
     "name": "stdout",
     "output_type": "stream",
     "text": [
      "[[ 5 -4  0]\n",
      " [-4  7 -3]\n",
      " [ 0 -3  5]] \n",
      "\n",
      "[[ 3 -2  1]\n",
      " [-1  5  4]\n",
      " [ 1 -2  3]]\n"
     ]
    }
   ],
   "source": [
    "#NumPy Matrix\n",
    "M1 = np.matrix( [[5,-4,0],[-4,7,-3],[0,-3,5]] )\n",
    "M2 = np.matrix( [[3,-2,1],[-1,5,4],[1,-2,3]] )\n",
    "\n",
    "print (M1, \"\\n\")\n",
    "print (M2)"
   ]
  },
  {
   "cell_type": "code",
   "execution_count": 40,
   "metadata": {
    "colab": {},
    "colab_type": "code",
    "id": "G1mmh3XZZemg",
    "outputId": "5f6737c6-34a3-4467-a6a4-ebb1d1db4b26"
   },
   "outputs": [
    {
     "data": {
      "image/png": "[encoded data removed]",
      "text/latex": [
       "$\\displaystyle \\left[\\begin{matrix}8 & -6 & 1\\\\-5 & 12 & 1\\\\1 & -5 & 8\\end{matrix}\\right]$"
      ],
      "text/plain": [
       "⎡8   -6  1⎤\n",
       "⎢         ⎥\n",
       "⎢-5  12  1⎥\n",
       "⎢         ⎥\n",
       "⎣1   -5  8⎦"
      ]
     },
     "execution_count": 40,
     "metadata": {},
     "output_type": "execute_result"
    }
   ],
   "source": [
    "#Addition\n",
    "sympy.Matrix( M1+M2 )"
   ]
  },
  {
   "cell_type": "markdown",
   "metadata": {},
   "source": [
    "![MP](https://upload.wikimedia.org/wikipedia/commons/thumb/e/eb/Matrix_multiplication_diagram_2.svg/200px-Matrix_multiplication_diagram_2.svg.png)"
   ]
  },
  {
   "cell_type": "code",
   "execution_count": 43,
   "metadata": {
    "colab": {},
    "colab_type": "code",
    "id": "RUIC_PgKZemj",
    "outputId": "8bb31d26-8a08-4912-a989-a11e868f61d0"
   },
   "outputs": [
    {
     "data": {
      "image/png": "[encoded data removed]",
      "text/latex": [
       "$\\displaystyle \\left[\\begin{matrix}19 & -30 & -11\\\\-22 & 49 & 15\\\\8 & -25 & 3\\end{matrix}\\right]$"
      ],
      "text/plain": [
       "⎡19   -30  -11⎤\n",
       "⎢             ⎥\n",
       "⎢-22  49   15 ⎥\n",
       "⎢             ⎥\n",
       "⎣ 8   -25   3 ⎦"
      ]
     },
     "execution_count": 43,
     "metadata": {},
     "output_type": "execute_result"
    }
   ],
   "source": [
    "#Multiplication\n",
    "sympy.Matrix( M1*M2 )"
   ]
  },
  {
   "cell_type": "markdown",
   "metadata": {
    "colab_type": "text",
    "id": "1bTZjPRGZeml"
   },
   "source": [
    "## Basic operations with matrices"
   ]
  },
  {
   "cell_type": "markdown",
   "metadata": {
    "colab_type": "text",
    "id": "-iW4rEeeZemm"
   },
   "source": [
    "In order to simplify the following methods, we introduce here 3 basic operations over linear systems:\n",
    "\n",
    "1. The $i$-th row $E_i$ can be multiplied by a non-zero constant $\\lambda$, and then a new row used in place of $E_i$, i.e. $(\\lambda E_i)\\rightarrow (E_i)$. We denote this operation as $\\operatorname{Lamb}(E_i,\\lambda)$.\n",
    "2. The $j$-th row $E_j$ can be multiplied by a non-zero constant $\\lambda$ and added to some row $E_i$. The resulting value take the place of $E_i$, i.e. $(E_i + \\lambda E_j)\\rightarrow (E_i)$. We denote this operation as $\\operatorname{Comb}(E_i,E_j,\\lambda)$.\n",
    "3. Finally, we define a swapping of two rows as $(E_i)\\leftrightarrow (E_j)$, denoted as $\\operatorname{Swap}(E_i,E_j)$"
   ]
  },
  {
   "cell_type": "markdown",
   "metadata": {
    "colab_type": "text",
    "id": "0RGhUwogZemm"
   },
   "source": [
    "### Extract rows from an array"
   ]
  },
  {
   "cell_type": "markdown",
   "metadata": {
    "colab_type": "text",
    "id": "4X53NZ-oZemn"
   },
   "source": [
    "## <font color='red'> Activity </font>"
   ]
  },
  {
   "cell_type": "markdown",
   "metadata": {
    "colab_type": "text",
    "id": "EAkZ93kZZemo"
   },
   "source": [
    "<font color='red'>\n",
    "Write three routines that perform, given a matrix $A$, the previous operations over matrices:\n",
    "</font>"
   ]
  },
  {
   "cell_type": "markdown",
   "metadata": {
    "colab_type": "text",
    "id": "8XBhFQGSZemq"
   },
   "source": [
    "* `row_lamb(i, λ, A)`: `i` is the row to be changed, `λ` the multiplicative factor and `A` the matrix. This function should return the new matrix with the performed operation $(\\lambda E_i)\\rightarrow (E_i)$.\n",
    "* `row_comb(i, j, λ, A)`: `i` is the row to be changed, `j` the row to be added, `λ` the multiplicative factor and `A` the matrix. This function should return the new matrix with the performed operation $(E_i + \\lambda E_j)\\rightarrow (E_i)$.\n",
    "* `row_swap(i, j, A)`: `i` and `j` are the rows to be swapped. This function should return the new matrix with the performed operation $(E_i)\\leftrightarrow (E_j)$."
   ]
  },
  {
   "cell_type": "markdown",
   "metadata": {
    "colab": {},
    "colab_type": "code",
    "id": "t8aEoevvZem_"
   },
   "source": [
    "<!--\n",
    "#Lambda function\n",
    "def row_lamb( i, lamb, A ):\n",
    "    B = np.copy(A)\n",
    "    B[i] = lamb*B[i]\n",
    "    return B\n",
    "\n",
    "#Combination function\n",
    "def row_comb( i, j, lamb, A ):\n",
    "    B = np.copy(A)\n",
    "    B[i] = lamb*B[j] + B[i]\n",
    "    return B\n",
    "\n",
    "#Swap function\n",
    "def row_swap( i, j, A ):\n",
    "    B = np.copy(A)\n",
    "    B[[i,j]] = B[[j,i]]\n",
    "    return B\n",
    "-->"
   ]
  },
  {
   "cell_type": "markdown",
   "metadata": {
    "colab_type": "text",
    "id": "LWL1z20uZemq"
   },
   "source": [
    "### WARNING\n",
    "In some cases a  reasignment of a list or array points to the same space in memory. To really copy an array to other variable it is always recommended to use the `.copy()` method.\n",
    "\n",
    "_Example_:"
   ]
  },
  {
   "cell_type": "code",
   "execution_count": 44,
   "metadata": {
    "colab": {},
    "colab_type": "code",
    "id": "1fkoIkp_Zemr"
   },
   "outputs": [],
   "source": [
    "B=np.array([1,2])\n",
    "A=B"
   ]
  },
  {
   "cell_type": "code",
   "execution_count": 45,
   "metadata": {},
   "outputs": [],
   "source": [
    "B[1]=3"
   ]
  },
  {
   "cell_type": "code",
   "execution_count": 46,
   "metadata": {
    "colab": {},
    "colab_type": "code",
    "id": "drNzH4IFZemv",
    "outputId": "d792915b-03a8-477e-9c8e-bee405c65fc0"
   },
   "outputs": [
    {
     "data": {
      "text/plain": [
       "array([1, 3])"
      ]
     },
     "execution_count": 46,
     "metadata": {},
     "output_type": "execute_result"
    }
   ],
   "source": [
    "A"
   ]
  },
  {
   "cell_type": "markdown",
   "metadata": {
    "colab_type": "text",
    "id": "jphg4Mu5ZenB"
   },
   "source": [
    "- - -"
   ]
  },
  {
   "cell_type": "markdown",
   "metadata": {
    "colab_type": "text",
    "id": "Q8nfRt1uZenB"
   },
   "source": [
    "# Gaussian Elimination"
   ]
  },
  {
   "cell_type": "markdown",
   "metadata": {
    "colab_type": "text",
    "id": "IO5SMLhJZejA"
   },
   "source": [
    "## Example 1"
   ]
  },
  {
   "cell_type": "markdown",
   "metadata": {
    "colab_type": "text",
    "id": "0K83kD95ZejD"
   },
   "source": [
    "Using Kirchhoff's circuit laws, it is possible to solve the next system:\n",
    "\n",
    "![](https://raw.githubusercontent.com/sbustamante/ComputationalMethods/master/material/figures/circuit.png)\n",
    "\n",
    "obtaining the next equations:\n",
    "\n",
    "\\begin{align}\n",
    "A:&&I_A( R+4R ) - I_B( 4R ) =& E \\\\\n",
    "C:&&-I_A( 4R ) + I_B( 4R + 3R ) - I_C(3R) =& 0 \\\\\n",
    "B:&&-I_B( 3R ) + I_C(3R+2R) =& -2E\\,\n",
    "\\end{align}\n",
    "or\n",
    "\\begin{align}\n",
    "5\\frac{I_A R }{E} - 4\\frac{I_B R }{E} =& 1 \\\\\n",
    "-4 \\frac{I_A R }{E} + 7\\frac{I_B R }{E} - 3 \\frac{I_C R }{E} =& 0 \\\\\n",
    "-3 \\frac{I_B R }{E} + 5 \\frac{I_C R }{E} =& -2\\,.\n",
    "\\end{align}\n",
    "\n",
    "Defining the variables $x_1 = R I_A/E$, $x_2 = R I_B/E$ and $x_3 = R I_C/E$ we have\n",
    "\\begin{align}\n",
    "5x_1 - 4x_2 =& 1 \\\\\n",
    "-4 x_1 + 7x_2 - 3 x_3 =& 0 \\\\\n",
    "-3x_2 + 5 x_3 =& -2\\,.\n",
    "\\end{align}\n"
   ]
  },
  {
   "cell_type": "markdown",
   "metadata": {
    "colab_type": "text",
    "id": "sQt7A74qZenC"
   },
   "source": [
    "A first method to solve linear systems of equations is the Gaussian elimination. This procedure consists of a set of recursive steps performed in order to diagonalise the matrix of the problem. A suitable way to introduce this method is applying it to some basic problem. To do so, let's take the result of the [Example 1](#Example-1):\n",
    "\n",
    "$$ \\left[ \\matrix{\n",
    "5 & -4 & 0 \\\\\n",
    "-4 & 7 & -3 \\\\ \n",
    "0 & -3 & 5\n",
    "}\\right] \n",
    "\\left[ \\matrix{\n",
    "x_{1} \\\\\n",
    "x_{2} \\\\\n",
    "x_{3} \n",
    "}\\right]  =\n",
    "\\left[ \\matrix{\n",
    "1 \\\\\n",
    "0 \\\\\n",
    "-2\n",
    "}\\right]$$\n",
    "\n",
    "Constructing the associated augmented matrix, we obtain\n",
    "\n",
    "$$ \\left[ \\matrix{\n",
    "5 & -4 & 0 & \\vdots & 1 \\\\\n",
    "-4 & 7 & -3 & \\vdots & 0 \\\\\n",
    "0 & -3 & 5 & \\vdots & -2\n",
    "}\\right] $$\n",
    "\n",
    "At this point, we can eliminate the coefficients of the variable $x_1$ in the second and third equations. For this, we apply the operations $\\operatorname{Comb}(E_2,E_1,4/5)$. \n",
    "\n",
    "$E_2$ → `[-4,7,-3⋮0]+[4,-16/5,0⋮4/5]=[0,19/5,-3⋮4/5]`\n",
    "\n",
    "\n",
    "The coefficient in the third equation is already null. We then obtain:\n",
    "\n",
    "$$ \\left[ \\matrix{\n",
    "5 & -4 & 0 & \\vdots & 1 \\\\\n",
    "0 & 16/5 & -3 & \\vdots & 4/5 \\\\\n",
    "0 & -3 & 5 & \\vdots & -2\n",
    "}\\right] $$\n",
    "\n",
    "Now, we proceed to eliminate the coefficient of $x_2$ in the third equation. For this, we apply again $\\operatorname{Comb}(E_3,E_2,0.789)$, where $3/3.8 = 0.789$.\n",
    "\n",
    "$E_3$ → `[0,-3,5⋮-2]+[0,(3*5/19)*(19/5),-(3*5/19)*3⋮(3*5/19)*4/5]→[0,0,50/19⋮-26/19]`\n",
    "\n",
    "\n",
    "$$ \\left[ \\matrix{\n",
    "5 & -4 & 0 & \\vdots & 1 \\\\\n",
    "0 & 16/5 & -3 & \\vdots & 4/5 \\\\\n",
    "0 & 0 & 50/19 & \\vdots & -26/19\n",
    "}\\right] $$\n",
    "\n",
    "The final step is to solve for $x_3$ in the last equation, doing the operation $\\operatorname{Lamb}(E_3,19/50)$, yielding:\n",
    "\n",
    "$$ \\left[ \\matrix{\n",
    "5 & -4 & 0 & \\vdots & 1 \\\\\n",
    "0 & 3.8 & -3 & \\vdots & 0.8 \\\\\n",
    "0 & 0 & 1 & \\vdots & -26/50\n",
    "}\\right] $$\n",
    "\n",
    "From this, it is direct to conclude that $x_3 = -26/50=-0.52$, for $x_2$ and $x_1$ it is only necessary to replace the found value of $x_3$."
   ]
  },
  {
   "cell_type": "markdown",
   "metadata": {
    "colab_type": "text",
    "id": "WJ5Dyv1mZenC"
   },
   "source": [
    "## <font color='red'> Activity </font>\n",
    "Use numpy functions to build the augmented matrix M1"
   ]
  },
  {
   "cell_type": "markdown",
   "metadata": {
    "colab_type": "text",
    "id": "6Jp7iXYHZei2"
   },
   "source": [
    "# Linear Systems of Equations"
   ]
  },
  {
   "cell_type": "markdown",
   "metadata": {
    "colab_type": "text",
    "id": "2ZEA0FwkZei4"
   },
   "source": [
    "A linear system is a set of equations of $n$ variables that can be written in a general form:\n",
    "\n",
    "$$ a_{11}x_1 + a_{12}x_2 + \\cdots a_{1n}x_n = b_1 $$\n",
    "$$\\vdots$$\n",
    "$$ a_{m1}x_1 + a_{m2}x_2 + \\cdots a_{mn}x_n = b_m $$\n",
    "\n",
    "where $n$ is, again, the number of variables, and $m$ the number of equations. \n",
    "\n",
    "A linear system has solution if and only if $m\\geq n$. This leads us to the main objetive of a linear system, find the set $\\{x_i\\}_{i=0}^n$ that fulfills all the equations.\n",
    "\n",
    "Although there is an intuitive way to solve this type of systems, by just adding and subtracting equations until reaching the desire result, the large number of variables of some systems found in physics and astronomy makes necessary to develop iterative and general approaches. Next, we shall introduce matrix and vector notation and some basic operations that will be the basis of the methods to be developed in this section.\n",
    "\n",
    "Quadratic eqution..."
   ]
  },
  {
   "cell_type": "markdown",
   "metadata": {
    "colab_type": "text",
    "id": "uahDSxiBZei7"
   },
   "source": [
    "## Matrices and vectors"
   ]
  },
  {
   "cell_type": "markdown",
   "metadata": {
    "colab_type": "text",
    "id": "17lrFAoiZei8"
   },
   "source": [
    "A $m\\times n$ matrix can be defined as a set of numbers arranged in columns and rows such as:\n",
    "\n",
    "$$ A = [a_{ij}] = \\left[ \\matrix{\n",
    "a_{11} & a_{12} & \\cdots & a_{1n} \\\\\n",
    "a_{21} & a_{22} & \\cdots & a_{2n} \\\\\n",
    "\\vdots & \\vdots & & \\vdots\\\\\n",
    "a_{m1} & a_{m2} & \\cdots & a_{mn} \n",
    "}\\right] $$\n",
    "\n",
    "In the same way, it is possible to define a $n$-dimensional column vector as\n",
    "\n",
    "$$ \\boldsymbol{x} = \\left[ \\matrix{\n",
    "x_{1} \\\\\n",
    "x_{2} \\\\\n",
    "\\vdots\\\\\n",
    "x_{n} \n",
    "}\\right] $$\n",
    "\n",
    "and a row vector \n",
    "\n",
    "$$ \\boldsymbol{y} = \\left[ \\matrix{\n",
    "y_{1} &\n",
    "y_{2} &\n",
    "\\cdots &\n",
    "y_{n} \n",
    "}\\right] $$"
   ]
  },
  {
   "cell_type": "markdown",
   "metadata": {
    "colab_type": "text",
    "id": "mRMZJiYNZei_"
   },
   "source": [
    "The system of equations \n",
    "\n",
    "$$ a_{11}x_1 + a_{12}x_2 + \\cdots a_{1n}x_n = b_1 $$\n",
    "$$\\vdots$$\n",
    "$$ a_{m1}x_1 + a_{m2}x_2 + \\cdots a_{mn}x_n = b_m $$\n",
    "\n",
    "can be then written in a more convenient way as\n",
    "\n",
    "$$ A \\textbf{x} =  \\left[ \\matrix{\n",
    "a_{11} & a_{12} & \\cdots & a_{1n} \\\\\n",
    "a_{21} & a_{22} & \\cdots & a_{2n} \\\\\n",
    "\\vdots & \\vdots & & \\vdots\\\\\n",
    "a_{m1} & a_{m2} & \\cdots & a_{mn} \n",
    "}\\right] \n",
    "\\left[ \\matrix{\n",
    "x_{1} \\\\\n",
    "x_{2} \\\\\n",
    "\\vdots\\\\\n",
    "x_{n} \n",
    "}\\right]  = \\boldsymbol{b} = \n",
    "\\left[ \\matrix{\n",
    "b_{1} \\\\\n",
    "b_{2} \\\\\n",
    "\\vdots\\\\\n",
    "b_{n} \n",
    "}\\right]$$\n",
    "\n",
    "We can also introducing the $n\\times (n+1)$ **augmented matrix** as\n",
    "\n",
    "$$[A:\\textbf{b}] =  \\left[ \\matrix{\n",
    "a_{11} & a_{12} & \\cdots & a_{1n} & \\vdots & b_1 \\\\\n",
    "a_{21} & a_{22} & \\cdots & a_{2n} & \\vdots & b_2 \\\\\n",
    "\\vdots & \\vdots & & \\vdots & \\vdots & \\vdots \\\\\n",
    "a_{m1} & a_{n2} & \\cdots & a_{nn} & \\vdots & b_n\n",
    "}\\right]$$"
   ]
  },
  {
   "cell_type": "markdown",
   "metadata": {
    "colab_type": "text",
    "id": "NeG3ad5rZenF"
   },
   "source": [
    "## <font color='red'> Activity </font>"
   ]
  },
  {
   "cell_type": "markdown",
   "metadata": {
    "colab_type": "text",
    "id": "0i4cBVZ0ZenF"
   },
   "source": [
    "<font color='red'>\n",
    "Using the three routines written in the previous activity, reproduce the last steps for the matrix of the Example 1.\n",
    "</font>\n",
    "<!--\n",
    "M1a = np.array( [[5.,-4,0,1],[-4,7,-3,0],[0,-3,5,-2]] )\n",
    "M1a= row_comb(1,0,4/5.,M1a)\n",
    "print(M1a)\n",
    "M1a= row_comb(2,1,3/3.8,M1a)\n",
    "sympy.Matrix(M1a)\n",
    "-->"
   ]
  },
  {
   "cell_type": "markdown",
   "metadata": {},
   "source": [
    "### Implementation in Scipy"
   ]
  },
  {
   "cell_type": "code",
   "execution_count": 81,
   "metadata": {
    "colab": {},
    "colab_type": "code",
    "id": "NpdNNvRUZenP",
    "outputId": "9e274101-9669-4d65-dbd1-173015402789"
   },
   "outputs": [
    {
     "data": {
      "image/png": "[encoded data removed]",
      "text/latex": [
       "$\\displaystyle \\left[\\begin{matrix}5 & -4 & 0\\\\-4 & 7 & -3\\\\0 & -3 & 5\\end{matrix}\\right]$"
      ],
      "text/plain": [
       "⎡5   -4  0 ⎤\n",
       "⎢          ⎥\n",
       "⎢-4  7   -3⎥\n",
       "⎢          ⎥\n",
       "⎣0   -3  5 ⎦"
      ]
     },
     "execution_count": 81,
     "metadata": {},
     "output_type": "execute_result"
    }
   ],
   "source": [
    "M1 = np.array( [[5,-4,0],[-4,7,-3],[0,-3,5]] )\n",
    "sympy.Matrix(M1)"
   ]
  },
  {
   "cell_type": "code",
   "execution_count": 82,
   "metadata": {},
   "outputs": [
    {
     "data": {
      "image/png": "[encoded data removed]",
      "text/latex": [
       "$\\displaystyle \\left[\\begin{matrix}5 & -4 & 0 & 1\\\\-4 & 7 & -3 & 0\\\\0 & -3 & 5 & -2\\end{matrix}\\right]$"
      ],
      "text/plain": [
       "⎡5   -4  0   1 ⎤\n",
       "⎢              ⎥\n",
       "⎢-4  7   -3  0 ⎥\n",
       "⎢              ⎥\n",
       "⎣0   -3  5   -2⎦"
      ]
     },
     "execution_count": 82,
     "metadata": {},
     "output_type": "execute_result"
    }
   ],
   "source": [
    "M1_aug=np.hstack( (M1,[[1],[0],[-2]]))\n",
    "sympy.Matrix(M1_aug)"
   ]
  },
  {
   "cell_type": "code",
   "execution_count": null,
   "metadata": {},
   "outputs": [],
   "source": [
    "import scipy"
   ]
  },
  {
   "cell_type": "code",
   "execution_count": 83,
   "metadata": {
    "colab": {},
    "colab_type": "code",
    "id": "CDlCuoTeZene"
   },
   "outputs": [],
   "source": [
    "P,L,U=scipy.linalg.lu(M1_aug)"
   ]
  },
  {
   "cell_type": "code",
   "execution_count": 84,
   "metadata": {
    "colab": {},
    "colab_type": "code",
    "id": "pIvZa9h5Zenf",
    "outputId": "c0e579b5-105d-4515-dddf-f371713364a0"
   },
   "outputs": [
    {
     "data": {
      "text/plain": [
       "array([[ 5.        , -4.        ,  0.        ,  1.        ],\n",
       "       [ 0.        ,  3.8       , -3.        ,  0.8       ],\n",
       "       [ 0.        ,  0.        ,  2.63157895, -1.36842105]])"
      ]
     },
     "execution_count": 84,
     "metadata": {},
     "output_type": "execute_result"
    }
   ],
   "source": [
    "U"
   ]
  },
  {
   "cell_type": "markdown",
   "metadata": {
    "colab_type": "text",
    "id": "GPwp70IuZenp"
   },
   "source": [
    "$x_3$ is now"
   ]
  },
  {
   "cell_type": "code",
   "execution_count": 93,
   "metadata": {},
   "outputs": [
    {
     "data": {
      "text/plain": [
       "'x3=-26/50=-0.52'"
      ]
     },
     "execution_count": 93,
     "metadata": {},
     "output_type": "execute_result"
    }
   ],
   "source": [
    "x3=U[2,3]/U[2,2]\n",
    "'x3=-26/50={:.2f}'.format(x3)"
   ]
  },
  {
   "cell_type": "code",
   "execution_count": null,
   "metadata": {
    "colab": {},
    "colab_type": "code",
    "id": "5OwvuMsuZenp",
    "outputId": "be7f2dce-07a4-4534-af78-743c92b1f6fd"
   },
   "outputs": [
    {
     "data": {
      "image/png": "[encoded data removed]",
      "text/latex": [
       "$$-0.52$$"
      ],
      "text/plain": [
       "-0.52"
      ]
     },
     "execution_count": 199,
     "metadata": {
      "tags": []
     },
     "output_type": "execute_result"
    }
   ],
   "source": [
    "x3=M1a[2,3]/M1a[2,2]\n",
    "x3"
   ]
  },
  {
   "cell_type": "code",
   "execution_count": null,
   "metadata": {
    "colab": {},
    "colab_type": "code",
    "id": "DX6BPhT_Zen0",
    "outputId": "a3873148-b65f-41ba-e358-7ccc5c817a39"
   },
   "outputs": [
    {
     "data": {
      "image/png": "[encoded data removed]",
      "text/latex": [
       "$$\\left ( 3.8, \\quad -3.0, \\quad 0.8\\right )$$"
      ],
      "text/plain": [
       "(3.8, -3.0, 0.8)"
      ]
     },
     "execution_count": 201,
     "metadata": {
      "tags": []
     },
     "output_type": "execute_result"
    }
   ],
   "source": [
    "M1a[1,1],M1a[1,2],M1a[1,3]"
   ]
  },
  {
   "cell_type": "code",
   "execution_count": 97,
   "metadata": {
    "colab": {},
    "colab_type": "code",
    "id": "_IlKr0g9Zen4",
    "outputId": "1e7c8342-219a-4f5f-82b8-424467daca07"
   },
   "outputs": [
    {
     "data": {
      "image/png": "[encoded data removed]",
      "text/latex": [
       "$\\displaystyle -0.2$"
      ],
      "text/plain": [
       "-0.2"
      ]
     },
     "execution_count": 97,
     "metadata": {},
     "output_type": "execute_result"
    }
   ],
   "source": [
    "x2=(U[1,3]-U[1,2]*x3)/U[1,1]\n",
    "round(x2,2)"
   ]
  },
  {
   "cell_type": "code",
   "execution_count": 98,
   "metadata": {
    "colab": {},
    "colab_type": "code",
    "id": "RGPEmwtqZen9",
    "outputId": "dbe63df8-7b56-4134-bb1d-2224a8ac5803"
   },
   "outputs": [
    {
     "data": {
      "image/png": "[encoded data removed]",
      "text/latex": [
       "$\\displaystyle 0.04$"
      ],
      "text/plain": [
       "0.04"
      ]
     },
     "execution_count": 98,
     "metadata": {},
     "output_type": "execute_result"
    }
   ],
   "source": [
    "x1=( U[0,3]-U[0,1]*x2-U[0,2]*x3 )/U[0,0]\n",
    "round(x1,2)"
   ]
  },
  {
   "cell_type": "markdown",
   "metadata": {
    "colab_type": "text",
    "id": "NGgCWPrTZeoD"
   },
   "source": [
    "## General Gaussian elimination"
   ]
  },
  {
   "cell_type": "markdown",
   "metadata": {
    "colab_type": "text",
    "id": "gQGl9W0-ZeoE"
   },
   "source": [
    "Now, we shall describe the general procedure for Gaussian elimination: \n",
    "\n",
    "1. Give an augmented matrix $\\hat{A}=[A:\\textbf{b}]$.\n",
    "2. Find the first non-zero coefficient $a_{i1}$ associated to $x_1$. This element is called _pivot_.\n",
    "3. Apply the operation $\\operatorname{Swap}(E_1,E_i)$. This guarantee the first row has a non-zero coefficient $a_{11}$.\n",
    "4. Apply the operation $\\operatorname{Comb}(E_j,E_1,-a_{j1}/a_{11})$. This eliminates the coefficients associated to $x_1$ in all the rows but in the first one.\n",
    "5. Repeat steps 2. to 4. but for the coefficients of $x_2$ and then $x_3$ and so up to $x_n$. When iterating the coefficients of $x_{k}$, do not take into account the first $k$-th rows as they are already sorted.\n",
    "6. Once you obtain a diagonal form of the matrix, apply the operation $\\operatorname{Lamb}(E_n,1/a_{nn})$. This will make the coefficient of $x_n$ in the last equation equal to 1.\n",
    "7. The final result should be an augmented matrix of the form:\n",
    "$$\\left[ \\matrix{\n",
    "a_{11} & a_{12} & \\cdots & a_{1(n-1)} & a_{1n} & \\vdots & \\hat b_1 \\\\\n",
    "0 & a_{22} & \\cdots & a_{2(n-1)} & a_{2n} & \\vdots & \\hat b_2 \\\\\n",
    "\\vdots & \\vdots &  & \\vdots & \\vdots & \\vdots & \\vdots \\\\\n",
    "0 & 0 & \\cdots & a_{(n-1)(n-1)} & a_{(n-1)n} & \\vdots & \\hat b_{n-1} \\\\\n",
    "0 & 0 & \\cdots & 0 & 1 & \\vdots & \\hat b_n\n",
    "}\\right]$$\n",
    "8. The solution to the problem is then obtained through backward substitutions, i.e.\n",
    "$$x_n = \\hat b_n$$\n",
    "$$ x_{n-1} =  \\frac{\\hat b_{n-1} + a_{(n-1)n}x_n}{a_{(n-1)(n-1)}}$$\n",
    "$$\\vdots$$\n",
    "$$x_i = \\frac{\\hat b_i - \\sum_{j=i+1}^n a_{ij}x_j}{a_{ii}}\\ \\ \\ \\ \\mbox{for}\\ \\ \\ i=n-1, n-2, \\cdots, 1$$"
   ]
  },
  {
   "cell_type": "markdown",
   "metadata": {},
   "source": [
    "See custom implementation of [general Gaussian elimination](./linear-algebra-extra.ipynb)"
   ]
  },
  {
   "cell_type": "code",
   "execution_count": 152,
   "metadata": {
    "colab": {},
    "colab_type": "code",
    "id": "RvyDffRnZeoF"
   },
   "outputs": [],
   "source": [
    "#Gaussian Elimination\n",
    "import scipy\n",
    "def Gaussian_Elimination( A0 ):\n",
    "    #Making local copy of matrix\n",
    "    P,L,A=scipy.linalg.lu(M)\n",
    "    n = len(A)    \n",
    "    #Finding solution\n",
    "    x = np.zeros( n )\n",
    "    x[n-1] = A[n-1,n]\n",
    "    for i in xrange( n-1, -1, -1 ):\n",
    "        x[i] = ( A[i,n] - sum(A[i,i+1:n]*x[i+1:n]) )/A[i,i]\n",
    "    \n",
    "    #Upper diagonal matrix and solutions x\n",
    "    return A, x"
   ]
  },
  {
   "cell_type": "code",
   "execution_count": 128,
   "metadata": {},
   "outputs": [
    {
     "data": {
      "text/plain": [
       "array([[0.5507979 , 0.70814782, 0.29090474, 0.51082761, 0.89294695],\n",
       "       [0.89629309, 0.12558531, 0.20724288, 0.0514672 , 0.44080984],\n",
       "       [0.02987621, 0.45683322, 0.64914405, 0.27848728, 0.6762549 ],\n",
       "       [0.59086282, 0.02398188, 0.55885409, 0.25925245, 0.4151012 ]])"
      ]
     },
     "execution_count": 128,
     "metadata": {},
     "output_type": "execute_result"
    }
   ],
   "source": [
    "np.random.seed(3)\n",
    "M =  np.random.random( (4,5) )\n",
    "M"
   ]
  },
  {
   "cell_type": "code",
   "execution_count": 148,
   "metadata": {},
   "outputs": [],
   "source": [
    "A,x=Gaussian_Elimination(M)"
   ]
  },
  {
   "cell_type": "markdown",
   "metadata": {},
   "source": [
    "Upper triangular"
   ]
  },
  {
   "cell_type": "code",
   "execution_count": 149,
   "metadata": {},
   "outputs": [
    {
     "data": {
      "text/plain": [
       "array([[ 0.89629309,  0.12558531,  0.20724288,  0.0514672 ,  0.44080984],\n",
       "       [ 0.        ,  0.63097203,  0.16354802,  0.47919953,  0.62205662],\n",
       "       [ 0.        ,  0.        ,  0.52490983, -0.06699671,  0.21531002],\n",
       "       [ 0.        ,  0.        ,  0.        ,  0.32582312,  0.00303691]])"
      ]
     },
     "execution_count": 149,
     "metadata": {},
     "output_type": "execute_result"
    }
   ],
   "source": [
    "A"
   ]
  },
  {
   "cell_type": "markdown",
   "metadata": {},
   "source": [
    "solutions"
   ]
  },
  {
   "cell_type": "code",
   "execution_count": 151,
   "metadata": {},
   "outputs": [
    {
     "data": {
      "text/plain": [
       "array([0.27395594, 0.8721633 , 0.41137442, 0.00932074])"
      ]
     },
     "execution_count": 151,
     "metadata": {},
     "output_type": "execute_result"
    }
   ],
   "source": [
    "x"
   ]
  },
  {
   "cell_type": "markdown",
   "metadata": {
    "colab_type": "text",
    "id": "adCyEV1hZepz"
   },
   "source": [
    "## Pivoting Strategies"
   ]
  },
  {
   "cell_type": "markdown",
   "metadata": {
    "colab_type": "text",
    "id": "jO6qikGCZepz"
   },
   "source": [
    "The previous method of Gaussian Elimination for finding solutions of linear systems is mathematically exact, however round-off errors that appear in computational arithmetics can represent a real problem when high accuracy is required.\n",
    "\n",
    "In order to illustrate this, consider the next situation:\n",
    "\n",
    "$$ E_1: 0.00300x_1 + 59.14x_2 = 59.17 $$\n",
    "$$ E_2: 5.291x_1 - 6.130x_2 = 46.78 $$\n",
    "\n",
    "Using four-digit arithmetic we obtain:\n",
    "\n",
    "**1.** Constructing the augmented matrix:\n",
    "\n",
    "$$ \\left[ \\matrix{\n",
    "0.003 & 59.14 & \\vdots & 59.17 \\\\\n",
    "5.291 & -6.130 & \\vdots & 46.78\n",
    "}\\right] $$\n",
    "\n",
    "**2.** Applying the reduction with the first pivot, we obtain:\n",
    "\n",
    "$$(E_1 + m E_2)\\rightarrow (E_1)$$\n",
    "\n",
    "where:\n",
    "\n",
    "$$m = -\\frac{a_{21}}{a_{11}} = -\\frac{5.291}{0.003} = 1763.666\\cdots \\approx 1764$$\n",
    "\n",
    "In this step, we have taken the first four digits. This leads us to:\n",
    "\n",
    "$$ \\left[ \\matrix{\n",
    "0.003 & 59.14 & \\vdots & 59.17 \\\\\n",
    "0 & -104300 & \\vdots & -104400\n",
    "}\\right] $$\n",
    "\n",
    "The exact system is instead\n",
    "\n",
    "$$ \\left[ \\matrix{\n",
    "0.003 & 59.14 & \\vdots & 59.17 \\\\\n",
    "0 & -104309.37\\bar{6} & \\vdots & -104309.37\\bar{6}\n",
    "}\\right] $$\n",
    "\n",
    "Using the solution $x_2 \\approx 1.001$, we obtain\n",
    "\n",
    "$$ x_1 \\approx \\frac{59.17 - (59.14)(1.001)}{0.00300} = -10 $$\n",
    "\n",
    "The exact solution is however:\n",
    "\n",
    "$$ x_1 = 10.00 $$\n",
    "\n",
    "The source of such a large error is that the factor $59.14/0.00300 \\approx 20000$. This quantity is propagated through the combination steps of the Gaussian Elimination, yielding a complete wrong result."
   ]
  },
  {
   "cell_type": "markdown",
   "metadata": {
    "colab_type": "text",
    "id": "n8B6eI0HZepn"
   },
   "source": [
    "## Computing time"
   ]
  },
  {
   "cell_type": "markdown",
   "metadata": {
    "colab_type": "text",
    "id": "6b78wWAzZepn"
   },
   "source": [
    "As mentioned before, Algebra Linear methods do not invole numerical approximations excepting round-off errors. This implies the computing time depends on the number of involved operations (multiplications, divisions, additions and subtractions). It is possible to demonstrate that the numbers of required divisions/multiplications is given by:\n",
    "\n",
    "$$\\frac{n^3}{3}+n^2-\\frac{n}{3}$$\n",
    "\n",
    "and the required additions/subtractions:\n",
    "\n",
    "$$\\frac{n^3}{3}+\\frac{n^2}{2}-\\frac{5n}{6}$$\n",
    "\n",
    "These numbers are calculated separately as the computing time per operation for divisions and multiplications are similar and much larger than computing times for additions and subtractions. According to this, the overall computing time, for large $n$, scales as $n^3$/3."
   ]
  },
  {
   "cell_type": "markdown",
   "metadata": {
    "colab_type": "text",
    "id": "xQgyFrSWZepo"
   },
   "source": [
    "## Example 2"
   ]
  },
  {
   "cell_type": "markdown",
   "metadata": {
    "colab_type": "text",
    "id": "fXlqvoW6Zepo"
   },
   "source": [
    "Using the library `datetime` of python, evaluate the computing time required for `Gaussian_Elimination` to find the solution of a system of $n=20$ equations and $20$ unknowns. For this purpose you can generate random systems. For a more robust result, repeat $500$ times, give a mean value and plot an histrogram of the computing times."
   ]
  },
  {
   "cell_type": "code",
   "execution_count": null,
   "metadata": {
    "colab": {},
    "colab_type": "code",
    "id": "jF2_-LbfZepq",
    "outputId": "38aa75a9-ac76-4e19-f8b6-390a22848866"
   },
   "outputs": [
    {
     "name": "stdout",
     "output_type": "stream",
     "text": [
      "The mean computing time for a 20x20 matrix is: 2762.628000 microseconds\n"
     ]
    },
    {
     "data": {
      "text/plain": [
       "2762.6280000000002"
      ]
     },
     "execution_count": 12,
     "metadata": {
      "tags": []
     },
     "output_type": "execute_result"
    },
    {
     "data": {
      "image/png": "[encoded data removed]",
      "text/plain": [
       "<matplotlib.figure.Figure at 0x7f733c0becd0>"
      ]
     },
     "metadata": {
      "tags": []
     },
     "output_type": "display_data"
    }
   ],
   "source": [
    "#Importing datatime\n",
    "from datetime import datetime\n",
    "\n",
    "#Number of repeats\n",
    "Nrep = 500\n",
    "#Size of matrix\n",
    "n = 20\n",
    "\n",
    "def Gaussian_Time( n, Nrep ):\n",
    "    #Arrays of times\n",
    "    Times = []\n",
    "    #Cicle for number of repeats\n",
    "    for i in xrange(Nrep):\n",
    "        #Generating random matrix\n",
    "        M = np.matrix( np.random.random( (n,n+1) ) )\n",
    "        \n",
    "        #Starting time counter\n",
    "        tstart = datetime.now()\n",
    "        #Invoking Gaussian Elimination routine\n",
    "        Gaussian_Elimination(M)\n",
    "        #Killing time counter\n",
    "        tend = datetime.now()\n",
    "        \n",
    "        #Saving computing time\n",
    "        Times.append( (tend-tstart).microseconds )\n",
    "        \n",
    "    #Numpy Array\n",
    "    Times = np.array(Times)\n",
    "    \n",
    "    print \"The mean computing time for a %dx%d matrix is: %lf microseconds\"%(n,n,Times.mean())\n",
    "    \n",
    "    #Histrogram\n",
    "    plt.figure( figsize=(8,5) )\n",
    "    histo = plt.hist( Times, bins = 30 )\n",
    "    plt.xlabel( \"Computing Time [microseconds]\" )\n",
    "    plt.ylabel( \"Ocurrences\" )\n",
    "    plt.grid()\n",
    "    \n",
    "    return Times.mean()\n",
    "    \n",
    "    \n",
    "Gaussian_Time( n, Nrep )"
   ]
  },
  {
   "cell_type": "markdown",
   "metadata": {
    "colab_type": "text",
    "id": "0WYsnMsGZepu"
   },
   "source": [
    "## <font color='red'> Activity </font>"
   ]
  },
  {
   "cell_type": "markdown",
   "metadata": {
    "colab_type": "text",
    "id": "QOcQ-3WAZepv"
   },
   "source": [
    "<font color='red'>\n",
    "Using the previous code, estimate the computing time for random matrices of size $n=5,10,50,100,500,1000$. For each size, compute $500$ times in order to reduce spurious errors. Plot the results in a figure of $n$ vs computing time. Is it verified the some of scaling laws (Multiplication/Division or Addition/Sustraction). Note that for large values of $n$, both scaling laws converge to the same.\n",
    "</font>"
   ]
  },
  {
   "cell_type": "markdown",
   "metadata": {
    "colab_type": "text",
    "id": "Yo9_a3cQZepx"
   },
   "source": [
    "- - -"
   ]
  },
  {
   "cell_type": "markdown",
   "metadata": {
    "colab_type": "text",
    "id": "M8_l9AohZepz"
   },
   "source": [
    "## Partial pivoting"
   ]
  },
  {
   "cell_type": "markdown",
   "metadata": {
    "colab_type": "text",
    "id": "4AAfgdZVZep0"
   },
   "source": [
    "A suitable method to reduce round-off errors is to choose a pivot more conveniently. As we saw before, a small pivot generally implies larger propagated errors as they appear usually as dividends. The partial pivoting method consists then of a choosing of the largest absolute coefficient associated to $x_i$ instead of the first non-null one, i.e.\n",
    "\n",
    "$$ |a_{ii}| = \\max_{i\\leq j\\leq n}|a_{ji}| $$\n",
    "\n",
    "This way, propagated multiplication errors would be minimized."
   ]
  },
  {
   "cell_type": "markdown",
   "metadata": {
    "colab_type": "text",
    "id": "ZMjWc8XAZep1"
   },
   "source": [
    "## <font color='red'> Activity </font>"
   ]
  },
  {
   "cell_type": "markdown",
   "metadata": {
    "colab_type": "text",
    "id": "j9L2TabEZep1"
   },
   "source": [
    "<font color='red'>\n",
    "Create a new routine `Gaussian_Elimination_Pivoting` from `Gaussian_Elimination` in order to include the partial pivoting method. Compare both routines with some random matrix and with the exact solution.\n",
    "</font>"
   ]
  },
  {
   "cell_type": "markdown",
   "metadata": {
    "colab_type": "text",
    "id": "egQJvknLZep2"
   },
   "source": [
    "- - -"
   ]
  },
  {
   "cell_type": "markdown",
   "metadata": {
    "colab_type": "text",
    "id": "FqTRdCLBZep2"
   },
   "source": [
    "# Matrix Inversion"
   ]
  },
  {
   "cell_type": "markdown",
   "metadata": {
    "colab_type": "text",
    "id": "xWWVcbI3Zep2"
   },
   "source": [
    "Asumming a nonsingular matrix $A$, if a matrix $A^{-1}$ exists, with $AA^{-1} = I$ and $A^{-1}A = I$, where $I$ is the identity matrix, then $A^{-1}$ is called the inverse matrix of $A$. If such a matrix does not exist, $A$ is said to be a singular matrix.\n",
    "\n",
    "A corollary of this definition is that $A$ is also the inverse matrix of $A^{-1}$.\n",
    "\n",
    "Once defined the Gaussian Elimination method, it is possible to extend it in order to find the inverse of any nonsingular matrix.\n",
    "Let's consider the next equation:\n",
    "\n",
    "$$ AA^{-1} = AB= \\left[ \\matrix{\n",
    "a_{11} & a_{12} & \\cdots & a_{1n} \\\\\n",
    "a_{21} & a_{22} & \\cdots & a_{2n} \\\\\n",
    "\\vdots & \\vdots & & \\vdots\\\\\n",
    "a_{m1} & a_{n2} & \\cdots & a_{nn} \n",
    "}\\right]\\left[ \\matrix{\n",
    "b_{11} & b_{12} & \\cdots & b_{1n} \\\\\n",
    "b_{21} & b_{22} & \\cdots & b_{2n} \\\\\n",
    "\\vdots & \\vdots & & \\vdots\\\\\n",
    "b_{n1} & b_{n2} & \\cdots & b_{nn} \n",
    "}\\right] = \n",
    "\\left[ \\matrix{\n",
    "1 & 0 & \\cdots & 0 \\\\\n",
    "0 & 1 & \\cdots & 0 \\\\\n",
    "\\vdots & \\vdots & \\ddots & \\vdots\\\\\n",
    "0 & 0 & \\cdots & 1\n",
    "}\\right]$$\n",
    "\n",
    "This can be rewritten as a set of $n$ systems of equations, i.e.\n",
    "\n",
    "$$ \\left[ \\matrix{\n",
    "a_{11} & a_{12} & \\cdots & a_{1n} \\\\\n",
    "a_{21} & a_{22} & \\cdots & a_{2n} \\\\\n",
    "\\vdots & \\vdots & & \\vdots\\\\\n",
    "a_{n1} & a_{n2} & \\cdots & a_{nn} \n",
    "}\\right]\\left[ \\matrix{\n",
    "b_{11} \\\\\n",
    "b_{21} \\\\\n",
    "\\vdots \\\\\n",
    "b_{n1}\n",
    "}\\right] = \n",
    "\\left[ \\matrix{\n",
    "1 \\\\\n",
    "0 \\\\\n",
    "\\vdots \\\\\n",
    "0\n",
    "}\\right],$$\n",
    "\n",
    "$$\\left[ \\matrix{\n",
    "a_{11} & a_{12} & \\cdots & a_{1n} \\\\\n",
    "a_{21} & a_{22} & \\cdots & a_{2n} \\\\\n",
    "\\vdots & \\vdots & & \\vdots\\\\\n",
    "a_{n1} & a_{n2} & \\cdots & a_{nn} \n",
    "}\\right]\\left[ \\matrix{\n",
    "b_{12} \\\\\n",
    "b_{22} \\\\\n",
    "\\vdots \\\\\n",
    "b_{n2}\n",
    "}\\right] = \n",
    "\\left[ \\matrix{\n",
    "0 \\\\\n",
    "1 \\\\\n",
    "\\vdots \\\\\n",
    "0\n",
    "}\\right]$$\n",
    "\n",
    "$$\\vdots$$ \n",
    "$$\\left[ \\matrix{\n",
    "a_{11} & a_{12} & \\cdots & a_{1n} \\\\\n",
    "a_{21} & a_{22} & \\cdots & a_{2n} \\\\\n",
    "\\vdots & \\vdots & & \\vdots\\\\\n",
    "a_{n1} & a_{n2} & \\cdots & a_{nn} \n",
    "}\\right]\\left[ \\matrix{\n",
    "b_{1n} \\\\\n",
    "b_{2n} \\\\\n",
    "\\vdots \\\\\n",
    "b_{nn}\n",
    "}\\right] = \n",
    "\\left[ \\matrix{\n",
    "0 \\\\\n",
    "0 \\\\\n",
    "\\vdots \\\\\n",
    "1\n",
    "}\\right]$$\n",
    "\n",
    "These systems can be solved individually by using Gaussian Elimination, however we can mix all the problems, obtaining the augmented matrix:\n",
    "\n",
    "$$\\left[ \\matrix{\n",
    "a_{11} & a_{12} & \\cdots & a_{1n} & \\vdots & 1 & 0 & \\cdots & 0 \\\\\n",
    "a_{21} & a_{22} & \\cdots & a_{2n} & \\vdots & 0 & 1 & \\cdots & 0 \\\\\n",
    "\\vdots & \\vdots & & \\vdots & \\vdots & \\vdots & \\vdots & \\ddots & \\vdots\\\\\n",
    "a_{n1} & a_{n2} & \\cdots & a_{nn} & \\vdots & 0 & 0 & \\cdots & 1\n",
    "}\\right]$$\n",
    "\n",
    "Now, applying Gaussian Elimination we can obtain a upper diagonal form for the first matrix. Completing the steps using forwards elimination we can convert the first matrix into the identity matrix, obtaining \n",
    "\n",
    "$$\\left[ \\matrix{\n",
    "1 & 0 & \\cdots & 0 & \\vdots & b_{11} & b_{12} & \\cdots & b_{1n} \\\\\n",
    "0 & 1 & \\cdots & 0 & \\vdots & b_{21} & b_{22} & \\cdots & b_{2n} \\\\\n",
    "\\vdots & \\vdots & \\ddots & \\vdots & \\vdots & \\vdots & \\vdots & & \\vdots\\\\\n",
    "0 & 0 & \\cdots & 1 & \\vdots & b_{n1} & b_{n2} & \\cdots & b_{nn}\n",
    "}\\right]$$\n",
    "\n",
    "Where the second matrix is then the inverse $B=A^{-1}$."
   ]
  },
  {
   "cell_type": "markdown",
   "metadata": {
    "colab_type": "text",
    "id": "PHRKvZk2Zep5"
   },
   "source": [
    "## <font color='red'> Activity </font>"
   ]
  },
  {
   "cell_type": "markdown",
   "metadata": {
    "colab_type": "text",
    "id": "DxrVqcmtZep5"
   },
   "source": [
    "<font color='red'>\n",
    "Using the previous routine `Gaussian_Elimination_Pivoting`, create a new routine `Inverse` that calculates the inverse of any given squared matrix.\n",
    "</font>"
   ]
  },
  {
   "cell_type": "markdown",
   "metadata": {
    "colab_type": "text",
    "id": "4xGDvsakZep6"
   },
   "source": [
    "- - -"
   ]
  },
  {
   "cell_type": "markdown",
   "metadata": {
    "colab_type": "text",
    "id": "sbOkNC-hZep7"
   },
   "source": [
    "# Matrix diagonalization\n",
    "See [linear-algebra-diagonalization](./linear-algebra-diagonalization.ipynb)\n",
    "\n",
    "A general complex $n\\times n$ matrix $M$ can be diagonalized by bi-unitary transformation\n",
    "\\begin{align}\n",
    "M_{\\text{diag}}=&U_1^\\dagger M U_2\\,& U_1^\\dagger U_1&=\\boldsymbol{1}\\,,\\quad  U_2^\\dagger U_2=\\boldsymbol{1}\\,,\\quad\n",
    "\\end{align}\n"
   ]
  },
  {
   "cell_type": "markdown",
   "metadata": {
    "colab_type": "text",
    "id": "LH99CU2rZep7"
   },
   "source": [
    "# Determinant of a Matrix"
   ]
  },
  {
   "cell_type": "markdown",
   "metadata": {
    "colab_type": "text",
    "id": "6qm9Bu8_Zep7"
   },
   "source": [
    "The determinant of a matrix is a scalar quantity calculated for square matrix. This provides important information about the matrix of coefficients of a system of linear of equations. For example, any system of $n$ equations and $n$ unknowns has an unique solution if the associated determinant is nonzero. This also implies the determinant allows to evaluate whether a matrix is singular or nonsingular."
   ]
  },
  {
   "cell_type": "markdown",
   "metadata": {
    "colab_type": "text",
    "id": "vaeTK6sjZep7"
   },
   "source": [
    "## Calculating determinants"
   ]
  },
  {
   "cell_type": "markdown",
   "metadata": {
    "colab_type": "text",
    "id": "G-U2rA3wZep8"
   },
   "source": [
    "Next, we shall define some properties of determinants that will allow us to calculate determinants by using a recursive code:\n",
    "\n",
    "**1.** If $A = [a]$ is a $1\\times 1$ matrix, its determinant is then $\\det A = a$.\n",
    "\n",
    "**2.** If $A$ is a $n\\times n$ matrix, the minor matrix $M_{ij}$ is the determinant of the $(n-1)\\times(n-1)$ matrix obtained by deleting the $i$th row and the $j$th column.\n",
    "\n",
    "**3.** The cofactor $A_{ij}$ associated with $M_{ij}$ is defined by $A_{ij} = (-1)^{i+j}M_{ij}$.\n",
    "\n",
    "**4.** The determinant of a $n\\times n$ matrix $A$ is given by:\n",
    "\n",
    "$$ \\det A = \\sum_{j=1}^n a_{ij}A_{ij} $$\n",
    "\n",
    "or \n",
    "\n",
    "$$ \\det A = \\sum_{i=1}^n a_{ij}A_{ij} $$\n",
    "\n",
    "This is, it is possible to use both, a row or a column for calculating the determinant."
   ]
  },
  {
   "cell_type": "code",
   "execution_count": null,
   "metadata": {
    "colab": {},
    "colab_type": "code",
    "id": "8WsiVo85Zep8"
   },
   "outputs": [],
   "source": [
    "#Determinant of a Matrix\n",
    "def Determinant( A0 ):\n",
    "    #Local copy of matrix\n",
    "    A = np.copy(A0)\n",
    "    #Size of matrix\n",
    "    n = len(A)\n",
    "    \n",
    "    #How to be swept\n",
    "    i = 0\n",
    "    \n",
    "    #Detecting 1x1 matrices\n",
    "    if n==1:\n",
    "        return A[0][0]\n",
    "    #Detecting nxn matrices\n",
    "    else:\n",
    "        #Cumulative variable\n",
    "        determ = 0\n",
    "        for j in xrange(n):\n",
    "            determ += (-1)**(i+j)*A[i,j]*determinant( A[delete(range(n),i)][:,delete(range(n),j)] )\n",
    "        return determ"
   ]
  },
  {
   "cell_type": "code",
   "execution_count": null,
   "metadata": {
    "colab": {},
    "colab_type": "code",
    "id": "nd5h09qLZep9",
    "outputId": "bcce3d30-fd2b-4d54-d479-daedc614c2fd"
   },
   "outputs": [
    {
     "name": "stdout",
     "output_type": "stream",
     "text": [
      "Matrix nxn A:\n",
      "[[ 0.37958345  0.47403548  0.67939948  0.21525605]\n",
      " [ 0.62765007  0.62237439  0.53549702  0.14357914]\n",
      " [ 0.58476546  0.56165553  0.37870035  0.18926523]\n",
      " [ 0.48698377  0.83138615  0.08066257  0.58164345]] \n",
      "\n",
      "Determinant by our method D:\n",
      "-0.00776752447634 \n",
      "\n",
      "Determinant by NumPy method D:\n",
      "-0.00776752447634 \n",
      "\n"
     ]
    }
   ],
   "source": [
    "#Generating random matrix\n",
    "M = np.matrix( np.random.random( (4,4) ) )\n",
    "print \"Matrix nxn A:\\n\", M, \"\\n\"\n",
    "print \"Determinant by our method D:\\n\", Determinant( M ), \"\\n\"\n",
    "print \"Determinant by NumPy method D:\\n\", det( M ), \"\\n\""
   ]
  },
  {
   "cell_type": "markdown",
   "metadata": {
    "colab_type": "text",
    "id": "JQX4y_lAZeqB"
   },
   "source": [
    "## Computing time of determinants"
   ]
  },
  {
   "cell_type": "markdown",
   "metadata": {
    "colab_type": "text",
    "id": "XSSGIDcvZeqB"
   },
   "source": [
    "Using the previous recurrence, we can calculate the computing time of the previous algorithm. First, let's consider the number of required operations for a $2\\times 2$ matrix: let $A$ be a $2\\times 2$ matrix given by:\n",
    "\n",
    "$$ A = \\left[ \\matrix{\n",
    "a_{11} & a_{12} \\\\\n",
    "a_{21} & a_{22}}\\right]$$\n",
    "\n",
    "The determinant is then given by:\n",
    "\n",
    "$$det(A) = a_{11}a_{22} - a_{12}a_{21}$$\n",
    "\n",
    "the number of required multiplications was $2$ and subtractions is $1$.\n",
    "\n",
    "Now, using the previous formula for the determinant\n",
    "\n",
    "$$ \\det A = \\sum_{j=1}^n a_{ij}A_{ij} $$\n",
    "\n",
    "For a $3\\times 3$ matrix, it is necessary to calculate $3$ times $2\\times 2$ determinants. Besides, it is necessary to multiply the cofactor $A_{ij}$ with the coefficient $a_{ij}$, that leads us with $t_{n=3}=3\\times 2 + 3$ multiplications. Additions are not important as their computing time is far less than multiplications.\n",
    "\n",
    "For a $4\\times 4$ matrix, we need four deteminants of $3\\times 3$ submatrices, leading $t_{n=4} = 4\\times( 3\\times 2 + 3 ) + 4 = 4! + \\frac{4!}{2!} + \\frac{4!}{3!}$. In general, for a $n\\times n$ matrix, we have then:\n",
    "\n",
    "$$ t_{n} = \\frac{n!}{(n-1)!} + \\frac{n!}{(n-2)!} + \\cdots + \\frac{n!}{1!} = n!\\left( \\sum_{i=1}^{n-1}\\frac{1}{i!} \\right)$$\n",
    "\n",
    "If $n$ is large enough, we can approximate $t_{n}\\approx n!$.\n",
    "\n",
    "In computers, this is a prohibitive computing time so other schemes have to be proposed."
   ]
  },
  {
   "cell_type": "markdown",
   "metadata": {
    "colab_type": "text",
    "id": "Ar5GDOlQZeqC"
   },
   "source": [
    "## <font color='red'> Activity </font>"
   ]
  },
  {
   "cell_type": "markdown",
   "metadata": {
    "colab_type": "text",
    "id": "8QJvgrN8ZeqC"
   },
   "source": [
    "<font color='red'>\n",
    "Evaluate the computing time of the `Determinant` routine for matrix sizes of $n=1,2,3,\\cdots,10$ and doing several repeats. Plot your result ($n$ vs $t_n$). What can you conclude about the behaviour of the computing time?\n",
    "</font>"
   ]
  },
  {
   "cell_type": "markdown",
   "metadata": {
    "colab_type": "text",
    "id": "0_eLCjf2ZeqC"
   },
   "source": [
    "## Properties of determinants"
   ]
  },
  {
   "cell_type": "markdown",
   "metadata": {
    "colab_type": "text",
    "id": "A4XiSA4qZeqC"
   },
   "source": [
    "Determinants have a set of properties that can reduce considerably computing times. Suppose $A$ is a $n\\times n$ matrix:\n",
    "\n",
    "**1.** If any row or column of $A$ has only zero entries, then $\\det A = 0$.\n",
    "\n",
    "**2.** If two rows or columns of $A$ are the same, then $\\det A = 0$.\n",
    "\n",
    "**3.** If $\\hat A$ is obtained from $A$ by using a swap operation $(E_i)\\leftrightarrow (E_j)$, then $\\det \\hat A=-\\det A$.\n",
    "\n",
    "**4.** If $\\hat A$ is obtained from $A$ by using a escalation operation $(\\lambda E_i)\\leftrightarrow (E_i)$, then $\\det \\hat A=\\lambda \\det A$.\n",
    "\n",
    "**5.** If $\\hat A$ is obtained from $A$ by using a combination operation $(E_i+\\lambda E_j) \\leftrightarrow (E_i)$, then $\\det \\hat A=\\det A$.\n",
    "\n",
    "**6.** If $B$ is also a $n\\times n$ matrix, then $\\det(AB)=(\\det A)(\\det B).$\n",
    "\n",
    "**7.** $\\det A^t=\\det A.$\n",
    "\n",
    "**8.** $\\det A^{-1}=(\\det A)^{-1}$\n",
    "\n",
    "**9.** Finally and most importantly: if $A$ is an upper, lower or diagonal matrix, then:\n",
    "\n",
    "$$ det A = \\prod_{i=1}^n a_{ii} $$"
   ]
  },
  {
   "cell_type": "markdown",
   "metadata": {
    "colab_type": "text",
    "id": "GWDNQ12kZeqD"
   },
   "source": [
    "As we analysed before, Gaussian Elimination takes a computing time scaling like $n^3$ for large matrix sizes. According to the previous properties, the determinant of a upper diagonal matrix just takes $n-1$ multiplications, far less than a nondiagonal matrix. Combining these properties, we can track back and relate the determinant of the resulting upper diagonal matrix and the original one. Leading us to a computing time scaling like $n^3$, much better than the original $n!$."
   ]
  },
  {
   "cell_type": "markdown",
   "metadata": {
    "colab_type": "text",
    "id": "q8dFyFkRZeqD"
   },
   "source": [
    "## <font color='red'> Activity </font>"
   ]
  },
  {
   "cell_type": "markdown",
   "metadata": {
    "colab_type": "text",
    "id": "-nXNRpJOZeqE"
   },
   "source": [
    "<font color='red'>\n",
    "Using the `Gaussian_Elimination` routine and tracking back the performed operations, construct a new routine called `Gaussian_Determinant`. Make the same analysis of the computing time as the previous activity. Compare both results.\n",
    "</font>"
   ]
  },
  {
   "cell_type": "markdown",
   "metadata": {
    "colab_type": "text",
    "id": "Z44mMdLlZeqF"
   },
   "source": [
    "- - -"
   ]
  },
  {
   "cell_type": "markdown",
   "metadata": {
    "colab_type": "text",
    "id": "DqQum4S8ZeqF"
   },
   "source": [
    "# LU Factorization"
   ]
  },
  {
   "cell_type": "markdown",
   "metadata": {
    "colab_type": "text",
    "id": "CGH-xvS7ZeqG"
   },
   "source": [
    "As we saw before, the Gaussian Elimination algorithm takes a computing time scaling as $\\mathcal{O}(n^3/3)$ in order to solve a system of $n$ equations and $n$ unknowns. Let's assume a system of equations $\\mathbf{A}\\mathbf{x} = \\mathbf{b}$ where $\\mathbf{b}$ is already in upper diagonal form. \n",
    "\n",
    "$$\\left[ \\matrix{\n",
    "a_{11} & a_{12} & \\cdots & a_{1(n-1)} & a_{1n} & \\vdots & \\hat b_1 \\\\\n",
    "0 & a_{22} & \\cdots & a_{2(n-1)} & a_{2n} & \\vdots & \\hat b_2 \\\\\n",
    "\\vdots & \\vdots &  & \\vdots & \\vdots & \\vdots & \\vdots \\\\\n",
    "0 & 0 & \\cdots & a_{(n-1)(n-1)} & a_{(n-1)n} & \\vdots & \\hat b_{n-1} \\\\\n",
    "0 & 0 & \\cdots & 0 & a_{nn} & \\vdots & \\hat b_n\n",
    "}\\right]$$\n",
    "\n",
    "The Gauss-Jordan algorithm can reduce even more this problem in order to solve it directly, yielding:\n",
    "\n",
    "$$\\left[ \\matrix{\n",
    "1 & 0 & \\cdots & 0 & 0 & \\vdots & x_1 \\\\\n",
    "0 & 1 & \\cdots & 0 & 0 & \\vdots & x_2 \\\\\n",
    "\\vdots & \\vdots &  & \\vdots & \\vdots & \\vdots & \\vdots \\\\\n",
    "0 & 0 & \\cdots & 1 & 0 & \\vdots & x_{n-1} \\\\\n",
    "0 & 0 & \\cdots & 0 & 1 & \\vdots & x_n\n",
    "}\\right]$$\n",
    "\n",
    "From the upper diagonal form to the completely reduced one, it is necessary to perform $n+(n-1)+(n-2)+\\cdots\\propto n(n-1)$ backwards substitutions. The computing time for solving a upper diagonal system is then $\\mathcal{O}(n^2)$.\n",
    "\n",
    "\n",
    "Now, let $\\mathbf{A}\\mathbf{x} = \\mathbf{b}$ be a general system of equations of $n$ dimensions. Let's assume $\\mathbf{A}$ can be written as a multiplication of two matrices, one lower diagonal $\\mathbf{L}$ and other upper diagonal $\\mathbf{U}$, such that $\\mathbf{A}=\\mathbf{L}\\mathbf{U}$. Defining a vector $\\mathbf{y} = \\mathbf{U}\\mathbf{x}$, it is obtained for the original system \n",
    "\n",
    "$$ \\mathbf{A} \\mathbf{x}=\\mathbf{L}(\\mathbf{U}\\mathbf{x}) = \\mathbf{L}\\mathbf{y} = \\mathbf{b}$$\n",
    "\n",
    "For solving this system we can then:\n",
    "\n",
    "**1.** Solve the equivalent system $\\mathbf{L}\\mathbf{y} = \\mathbf{b}$, what takes a computing time of $\\mathcal{O}(n^2)$.\n",
    "\n",
    "**2.** Once we know $\\mathbf{y}$, we can solve the system $\\mathbf{U}\\mathbf{x} = \\mathbf{y}$, with a computing time of $\\mathcal{O}(n^2)$.\n",
    "\n",
    "The global computing time is then $\\mathcal{O}(2n^2)$"
   ]
  },
  {
   "cell_type": "markdown",
   "metadata": {
    "colab_type": "text",
    "id": "h-xWNkyPZeqG"
   },
   "source": [
    "## <font color='red'> Activity </font>"
   ]
  },
  {
   "cell_type": "markdown",
   "metadata": {
    "colab_type": "text",
    "id": "ftpsu6JJZeqH"
   },
   "source": [
    "<font color='red'>\n",
    "In order to compare the computing time that Gaussian Elimination takes and the previous time for the LU factorization, make a plot of both computing times. What can you conclude when $n$ becomes large enough?\n",
    "</font>"
   ]
  },
  {
   "cell_type": "markdown",
   "metadata": {
    "colab_type": "text",
    "id": "ODqeEny5ZeqI"
   },
   "source": [
    "## Derivation of LU factorization"
   ]
  },
  {
   "cell_type": "markdown",
   "metadata": {
    "colab_type": "text",
    "id": "qUcJpli0ZeqI"
   },
   "source": [
    "Although the LU factorization seems to be a far better method for solving linear systems as compared with say Gaussian Elimination, we was assuming we already knew the matrices $\\mathbf{L}$ and $\\mathbf{U}$. Now we are going to see the algorithm for perfoming this reduction takes a computing time of $\\mathcal{O}(n^3/3)$.\n",
    "\n",
    "You may wonder then, what advantage implies the use of this factorization? Well, matrices $\\mathbf{L}$ and $\\mathbf{U}$ do not depend on the specific system to be solved, i.e. there is not dependence on the $\\mathbf{b}$ vector, so once we have both matrices, we can use them to solve any system we want, just taking a $\\mathcal{O}(2n^2)$ computing time.\n",
    "\n",
    "First, let's assume a matrix $\\mathbf{A}$ with all its pivots are nonzero, so there is not need to swap rows. Now, when we want to eliminate all the coefficients associated to $x_1$, we perform the next operations:\n",
    "\n",
    "$$ (E_j-m_{j1}E_1)\\rightarrow (E_j), \\ \\ \\ \\ \\mbox{where}\\ \\ \\ \\ m_{j1} = \\frac{a^{(1)}_{j1}}{a^{(1)}_{11}} $$\n",
    "\n",
    "henceforth, $a^{(1)}_{ij}$ denotes the components of the original matrix $\\mathbf{A}=\\mathbf{A}^{(1)}$, $a^{(2)}_{ij}$ the components of the matrix after eliminating the coefficients of $x_1$, and generally, $a^{(k)}_{ij}$ the components of the matrix after eliminating the coefficients of $x_{k-1}$.\n",
    "\n",
    "The previous operation over the matrix $\\mathbf{A}$ can be also reproduced defining the matrix $\\mathbf{M}^{(1)}$\n",
    "\n",
    "$$\\mathbf{M}^{(1)} = \\left[ \\matrix{\n",
    "1 & 0 & \\cdots & 0 & 0 \\\\\n",
    "-m_{21} & 1 & \\cdots & 0 & 0 \\\\\n",
    "\\vdots & \\vdots & \\ddots & \\vdots & \\vdots \\\\\n",
    "-m_{(n-1)1} & 0 & \\cdots & 1 & 0 \\\\\n",
    "-m_{n1} & 0 & \\cdots & 0 & 1\n",
    "}\\right]$$\n",
    "\n",
    "This is called the **first Gaussian transformation matrix**. From this, we have\n",
    "\n",
    "$$ \\mathbf{A}^{(2)}\\mathbf{x} = \\mathbf{M}^{(1)}\\mathbf{A}^{(1)}\\mathbf{x} = \\mathbf{M}^{(1)}\\mathbf{b}^{(1)} = \\mathbf{b}^{(2)} $$\n",
    "\n",
    "where $\\mathbf{A}^{(2)}$ is matrix with null coefficients associated to $x_1$ but the first one.\n",
    "\n",
    "Repeating the same procedure for the next pivots, we obtain then\n",
    "\n",
    "$$ \\mathbf{A}^{(n)} = \\mathbf{M}^{(n-1)}\\mathbf{M}^{(n-2)}\\cdots \\mathbf{M}^{(1)}\\mathbf{A}^{(1)} $$\n",
    "\n",
    "where the **$k$th Gaussian transformation matrix** is defined as\n",
    "\n",
    "$$\\mathbf{M}^{(k)}_{ij} = \\left\\{ \\matrix{\n",
    "1 & \\mbox{if}\\ \\ i=j \\\\\n",
    "-m_{ij} & \\mbox{if}\\ \\ j=k\\ \\ \\mbox{and}\\ \\ k+1\\leq i \\leq n \\\\\n",
    "0 & \\mbox{otherwise}\n",
    "}  \\right.$$\n",
    "\n",
    "and\n",
    "\n",
    "$$m_{ij} = \\frac{a^{(j)}_{ij}}{a^{(j)}_{jj}} $$\n",
    "\n",
    "Note $\\mathbf{A}^{(n)}$ is a upper diagonal matrix given by\n",
    "\n",
    "$$\\mathbf{A}^{(n)} = \\left[ \\matrix{\n",
    "a_{11}^{(n)} & a_{12}^{(n)} & \\cdots & a_{1(n-1)}^{(n)} & a_{1n}^{(n)}\\\\\n",
    "0 & a_{22}^{(n)} & \\cdots & a_{2(n-1)}^{(n)} & a_{2n}^{(n)} \\\\\n",
    "\\vdots & \\vdots &  & \\vdots & \\vdots &\\\\\n",
    "0 & 0 & \\cdots & a_{(n-1)(n-1)}^{(n)} & a_{(n-1)n}^{(n)} \\\\\n",
    "0 & 0 & \\cdots & 0 & a_{nn}^{(n)}\n",
    "}\\right]$$\n",
    "\n",
    "so we can define $\\mathbf{U}\\equiv \\mathbf{A}^{(n)}$.\n",
    "\n",
    "Now, taking the equation \n",
    "\n",
    "$$ \\mathbf{A}^{(n)} = \\mathbf{M}^{(n-1)}\\mathbf{M}^{(n-2)}\\cdots \\mathbf{M}^{(1)}\\mathbf{A}^{(1)} $$\n",
    "\n",
    "and defining the inverse of $\\mathbf{M}^{(k)}$ as \n",
    "\n",
    "$$ \\mathbf{L}^{(k)}_{ij} = \\left(\\mathbf{M}^{(k)}\\right)^{-1}_{ij} =  \\left\\{ \\matrix{\n",
    "1 & \\mbox{if}\\ \\ i=j \\\\\n",
    "m_{ij} & \\mbox{if}\\ \\ j=k\\ \\ \\mbox{and}\\ \\ k+1\\leq i \\leq n \\\\\n",
    "0 & \\mbox{otherwise}\n",
    "}  \\right.$$\n",
    "\n",
    "we obtain\n",
    "\n",
    "$$ \\mathbf{L}^{(1)} \\cdots \\mathbf{L}^{(n-2)}\\mathbf{L}^{(n-1)}\\mathbf{A}^{(n)} = \\mathbf{L}^{(1)} \\cdots \\mathbf{L}^{(n-2)}\\mathbf{L}^{(n-1)}\\mathbf{M}^{(n-1)}\\mathbf{M}^{(n-2)}\\cdots \\mathbf{M}^{(1)}\\mathbf{A}^{(1)} = \\mathbf{L}\\mathbf{U} $$\n",
    "\n",
    "where the lower diagonal matrix $\\mathbf{L}$ is given by:\n",
    "\n",
    "$$ \\mathbf{L} = \\mathbf{L}^{(1)} \\cdots \\mathbf{L}^{(n-2)}\\mathbf{L}^{(n-1)} $$."
   ]
  },
  {
   "cell_type": "markdown",
   "metadata": {
    "colab_type": "text",
    "id": "WMhljipEZeqI"
   },
   "source": [
    "## Algorithm for LU factorization"
   ]
  },
  {
   "cell_type": "markdown",
   "metadata": {
    "colab_type": "text",
    "id": "uhhO8IHKZeqI"
   },
   "source": [
    "The algorithm is then given by:\n",
    "\n",
    "**1.** Give a square matrix $\\mathbf{A}$ where the pivots are nonzero.\n",
    "\n",
    "**2.** Apply the operation $Comb(E_j,E_1,-a^{(1)}_{j1}/aa^{(1)}_{11})$. This eliminates the coefficients associated to $x_1$ in all the rows but in the first one.\n",
    "\n",
    "**3.** Construct the matrix $\\mathbf{L}^{(1)}$ given by\n",
    "\n",
    "$$ \\mathbf{L}^{(k)}_{ij} =  \\left\\{ \\matrix{\n",
    "1 & \\mbox{if}\\ \\ i=j \\\\\n",
    "m_{ij} = \\frac{a^{(j)}_{ij}}{a^{(j)}_{jj}} & \\mbox{if}\\ \\ j=k\\ \\ \\mbox{and}\\ \\ k+1\\leq i \\leq n \\\\\n",
    "0 & \\mbox{otherwise}\n",
    "}  \\right.$$\n",
    "\n",
    "with $k=1$.\n",
    "\n",
    "**4.** Repeat the steps **2** and **3** for the next column until reaching the last one.\n",
    "\n",
    "**5.** Return the matrices $\\mathbf{U} = \\mathbf{A}^{(n)}$ and $ \\mathbf{L} = \\mathbf{L}^{(1)} \\cdots \\mathbf{L}^{(n-2)}\\mathbf{L}^{(n-1)} $."
   ]
  },
  {
   "cell_type": "markdown",
   "metadata": {
    "colab_type": "text",
    "id": "exUdG00wZeqI"
   },
   "source": [
    "## <font color='red'> Activity </font>"
   ]
  },
  {
   "cell_type": "markdown",
   "metadata": {
    "colab_type": "text",
    "id": "CRppTdmpZeqJ"
   },
   "source": [
    "<font color='red'>\n",
    "Create a routine called `LU_Factorization` that, given a matrix $\\mathbf{A}$ and the previous algorithm, calculate the LU factorization of the matrix. Test your routine with a random square matrix, verify that $\\mathbf{A} = \\mathbf{L}\\mathbf{U}$.\n",
    "</font>"
   ]
  },
  {
   "cell_type": "markdown",
   "metadata": {
    "colab_type": "text",
    "id": "BrzDoQSTZeqJ"
   },
   "source": [
    "- - -"
   ]
  },
  {
   "cell_type": "code",
   "execution_count": null,
   "metadata": {
    "colab": {},
    "colab_type": "code",
    "id": "dZJPVr-PZeqL",
    "outputId": "47a5112d-441f-4949-9a2b-fcc01acdc992"
   },
   "outputs": [
    {
     "data": {
      "text/plain": [
       "array([[ 5, -4,  0],\n",
       "       [-4,  7, -3],\n",
       "       [ 0, -3,  5]])"
      ]
     },
     "execution_count": 78,
     "metadata": {
      "tags": []
     },
     "output_type": "execute_result"
    }
   ],
   "source": [
    "M1"
   ]
  },
  {
   "cell_type": "code",
   "execution_count": null,
   "metadata": {
    "colab": {},
    "colab_type": "code",
    "id": "-PnVwXJIZeqM"
   },
   "outputs": [],
   "source": [
    "import scipy"
   ]
  },
  {
   "cell_type": "code",
   "execution_count": null,
   "metadata": {
    "colab": {},
    "colab_type": "code",
    "id": "E9pS16IBZeqO"
   },
   "outputs": [],
   "source": [
    "P,L,U=scipy.linalg.lu(M1)"
   ]
  },
  {
   "cell_type": "code",
   "execution_count": null,
   "metadata": {
    "colab": {},
    "colab_type": "code",
    "id": "4V4KAygxZeqP",
    "outputId": "111d2324-b6cc-4d7e-903b-9f52d6c7dd36"
   },
   "outputs": [
    {
     "data": {
      "text/plain": [
       "array([[ 5.        , -4.        ,  0.        ],\n",
       "       [ 0.        ,  3.8       , -3.        ],\n",
       "       [ 0.        ,  0.        ,  2.63157895]])"
      ]
     },
     "execution_count": 88,
     "metadata": {
      "tags": []
     },
     "output_type": "execute_result"
    }
   ],
   "source": [
    "U"
   ]
  },
  {
   "cell_type": "code",
   "execution_count": null,
   "metadata": {
    "colab": {},
    "colab_type": "code",
    "id": "414tjRWmZeqQ"
   },
   "outputs": [],
   "source": [
    "The same obtained before"
   ]
  },
  {
   "cell_type": "code",
   "execution_count": null,
   "metadata": {
    "colab": {},
    "colab_type": "code",
    "id": "2u1yGvmRZeqS"
   },
   "outputs": [],
   "source": [
    "scipy.linalg.lu?"
   ]
  },
  {
   "cell_type": "markdown",
   "metadata": {
    "colab_type": "text",
    "id": "ZMBQ61z8ZeqU"
   },
   "source": [
    "## <font color='red'> Eigenvalues and Eigenvectors activity  </font>"
   ]
  },
  {
   "cell_type": "markdown",
   "metadata": {
    "colab_type": "text",
    "id": "o2NzCnm8ZeqV"
   },
   "source": [
    "### Electron interacting with a magnetic field\n",
    "\n",
    "An electron is placed to interact with an uniform magnetic field. To give account of the possible allowed levels of the electron in the presence of the magnetic field it is necessary to solve the next equation\n",
    "\n",
    "\\begin{equation}\n",
    "\\hat{H}|\\Psi\\rangle = E|\\Psi\\rangle\n",
    "\\end{equation}\n",
    "\n",
    "where the hamiltonian is equal to $H = -\\mu \\cdot B = -\\gamma B \\cdot S$, with the gyromagnetic ratio $\\gamma$, $\\textbf{B}$ the magnetic field and $\\textbf{S}$ the spin. It can be shown that the hamiltonian expression is transformed in \n",
    "\n",
    "\\begin{equation}\n",
    "\\hat{\\textbf{H}} = - \\frac{\\gamma \\hbar}{2} \\left( \\begin{array}{cc}\n",
    "B_z  & B_x -i B_y \\\\\n",
    "B_x + i B_y  & -B_z  \\end{array} \\right) \n",
    "\\end{equation}\n",
    "\n",
    "Then, by solving the problem $|H - EI|=0$ is found the allowed energy levels, i.e., finding the determinant of the \n",
    "matrix $H - EI$ allows to get the values $E_1$ and $E_2$.\n",
    "\n",
    "\n",
    "\n",
    "And solving the problem $\\hat{H}\\Psi$ - E$\\Psi = 0$ gives the autofunctions $\\Psi$, i.e., the column vector $\\Psi= \\{\\Psi_1, \\Psi_2\\}$. \n",
    "\n",
    "The function scipy.optimize.root can be used to get roots of a given equation. The experimental value of $\\gamma$ for the electron is 2. The order of magnitude of the magnetic field is $1g$. \n",
    "\n",
    "\n",
    "\n",
    "1)  Find the allowed energy levels.\n",
    "\n",
    "\n",
    "\n",
    "2)  Find the autofunctions and normalize them. \n",
    "\n",
    "\n",
    "\n",
    "**Hint:** An imaginary number in python can be written as 1j.  \n"
   ]
  },
  {
   "cell_type": "code",
   "execution_count": null,
   "metadata": {},
   "outputs": [],
   "source": []
  }
 ],
 "metadata": {
  "colab": {
   "include_colab_link": true,
   "name": "linear-algebra.ipynb",
   "provenance": []
  },
  "kernelspec": {
   "display_name": "Python 3",
   "language": "python",
   "name": "python3"
  },
  "language_info": {
   "codemirror_mode": {
    "name": "ipython",
    "version": 3
   },
   "file_extension": ".py",
   "mimetype": "text/x-python",
   "name": "python",
   "nbconvert_exporter": "python",
   "pygments_lexer": "ipython3",
   "version": "3.5.3"
  }
 },
 "nbformat": 4,
 "nbformat_minor": 4
}
